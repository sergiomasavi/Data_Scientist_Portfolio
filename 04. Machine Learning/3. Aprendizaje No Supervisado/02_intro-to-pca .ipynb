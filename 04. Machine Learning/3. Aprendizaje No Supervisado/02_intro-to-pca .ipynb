{
 "cells": [
  {
   "cell_type": "markdown",
   "metadata": {},
   "source": [
    "<img src=\"Tarjeta.png\">"
   ]
  },
  {
   "cell_type": "markdown",
   "metadata": {
    "toc": true
   },
   "source": [
    "<h1>Table of Contents<span class=\"tocSkip\"></span></h1>\n",
    "<div class=\"toc\"><ul class=\"toc-item\"><li><span><a href=\"#0.-Introduccion\" data-toc-modified-id=\"0.-Introduccion-1\"><span class=\"toc-item-num\">1&nbsp;&nbsp;</span>0. Introduccion</a></span></li><li><span><a href=\"#1.-Estandarizar-los-Datos\" data-toc-modified-id=\"1.-Estandarizar-los-Datos-2\"><span class=\"toc-item-num\">2&nbsp;&nbsp;</span>1. Estandarizar los Datos</a></span></li><li><span><a href=\"#2.-Realizar-el-PCA\" data-toc-modified-id=\"2.-Realizar-el-PCA-3\"><span class=\"toc-item-num\">3&nbsp;&nbsp;</span>2. Realizar el PCA</a></span></li><li><span><a href=\"#3.-Analizar-los-resultados-(Seleccionar-el-numero)\" data-toc-modified-id=\"3.-Analizar-los-resultados-(Seleccionar-el-numero)-4\"><span class=\"toc-item-num\">4&nbsp;&nbsp;</span>3. Analizar los resultados (Seleccionar el numero)</a></span></li><li><span><a href=\"#4.-Visualizar-e-Intrepertar-los-resultados\" data-toc-modified-id=\"4.-Visualizar-e-Intrepertar-los-resultados-5\"><span class=\"toc-item-num\">5&nbsp;&nbsp;</span>4. Visualizar e Intrepertar los resultados</a></span></li><li><span><a href=\"#Interpretacion\" data-toc-modified-id=\"Interpretacion-6\"><span class=\"toc-item-num\">6&nbsp;&nbsp;</span>Interpretacion</a></span></li><li><span><a href=\"#Transformación-de-nueva-muestra\" data-toc-modified-id=\"Transformación-de-nueva-muestra-7\"><span class=\"toc-item-num\">7&nbsp;&nbsp;</span>Transformación de nueva muestra</a></span></li><li><span><a href=\"#Reconstruccion-hacia-atrás\" data-toc-modified-id=\"Reconstruccion-hacia-atrás-8\"><span class=\"toc-item-num\">8&nbsp;&nbsp;</span>Reconstruccion hacia atrás</a></span></li></ul></div>"
   ]
  },
  {
   "cell_type": "markdown",
   "metadata": {},
   "source": [
    "# PCA ROADMAP"
   ]
  },
  {
   "cell_type": "markdown",
   "metadata": {},
   "source": [
    "## 0. Introduccion"
   ]
  },
  {
   "cell_type": "code",
   "execution_count": 1,
   "metadata": {
    "ExecuteTime": {
     "end_time": "2021-07-21T18:58:56.237045Z",
     "start_time": "2021-07-21T18:58:55.228219Z"
    }
   },
   "outputs": [
    {
     "data": {
      "text/html": [
       "        <script type=\"text/javascript\">\n",
       "        window.PlotlyConfig = {MathJaxConfig: 'local'};\n",
       "        if (window.MathJax) {MathJax.Hub.Config({SVG: {font: \"STIX-Web\"}});}\n",
       "        if (typeof require !== 'undefined') {\n",
       "        require.undef(\"plotly\");\n",
       "        requirejs.config({\n",
       "            paths: {\n",
       "                'plotly': ['https://cdn.plot.ly/plotly-latest.min']\n",
       "            }\n",
       "        });\n",
       "        require(['plotly'], function(Plotly) {\n",
       "            window._Plotly = Plotly;\n",
       "        });\n",
       "        }\n",
       "        </script>\n",
       "        "
      ]
     },
     "metadata": {},
     "output_type": "display_data"
    }
   ],
   "source": [
    "import pandas as pd\n",
    "import numpy as np\n",
    "import seaborn as sns\n",
    "from sklearn.decomposition import PCA\n",
    "from sklearn.preprocessing import StandardScaler\n",
    "import matplotlib.pyplot as plt\n",
    "import plotly.express as px\n",
    "import pandas as pd\n",
    "from plotly.offline import init_notebook_mode, iplot\n",
    "init_notebook_mode(connected=True)  \n"
   ]
  },
  {
   "cell_type": "code",
   "execution_count": null,
   "metadata": {
    "ExecuteTime": {
     "end_time": "2021-07-21T18:35:33.568385Z",
     "start_time": "2021-07-21T18:35:33.507547Z"
    }
   },
   "outputs": [],
   "source": [
    "df_iris = pd.read_csv('https://gist.githubusercontent.com/netj/8836201/raw/6f9306ad21398ea43cba4f7d537619d0e07d5ae3/iris.csv')"
   ]
  },
  {
   "cell_type": "code",
   "execution_count": null,
   "metadata": {
    "ExecuteTime": {
     "end_time": "2021-07-21T18:35:33.862735Z",
     "start_time": "2021-07-21T18:35:33.847709Z"
    }
   },
   "outputs": [],
   "source": [
    "df_iris.head(5)"
   ]
  },
  {
   "cell_type": "code",
   "execution_count": null,
   "metadata": {
    "ExecuteTime": {
     "end_time": "2021-07-21T18:35:34.225161Z",
     "start_time": "2021-07-21T18:35:34.195626Z"
    }
   },
   "outputs": [],
   "source": [
    "df_iris.describe().transpose()"
   ]
  },
  {
   "cell_type": "code",
   "execution_count": null,
   "metadata": {
    "ExecuteTime": {
     "end_time": "2021-07-21T18:35:34.705089Z",
     "start_time": "2021-07-21T18:35:34.646826Z"
    }
   },
   "outputs": [],
   "source": [
    "fig = px.scatter_matrix(df_iris, height = 800)\n",
    "fig.show()"
   ]
  },
  {
   "cell_type": "code",
   "execution_count": null,
   "metadata": {
    "ExecuteTime": {
     "end_time": "2021-07-21T18:37:26.367431Z",
     "start_time": "2021-07-21T18:37:26.206266Z"
    }
   },
   "outputs": [],
   "source": [
    "%matplotlib inline\n",
    "features=['sepal.length', 'sepal.width', 'petal.length', 'petal.width']\n",
    "heatmap = sns.heatmap(df_iris[features].corr(), vmin=-1, vmax=1, annot=True)"
   ]
  },
  {
   "cell_type": "markdown",
   "metadata": {},
   "source": [
    "## 1. Estandarizar los Datos"
   ]
  },
  {
   "cell_type": "markdown",
   "metadata": {},
   "source": [
    "\n",
    "El PCA calcula una nueva proyección de su conjunto de datos. Y los nuevos ejes se basan en la desviación estándar de sus variables. Así que una variable con una desviación estándar alta tendrá un peso más alto para el cálculo del eje que una variable con una desviación estándar baja. Si usted normaliza sus datos, todas las variables tienen la misma desviación estándar, por lo tanto todas las variables tienen el mismo peso y su PCA calcula los ejes relevantes.\n",
    "\n",
    "Digamos que su conjunto de datos tiene variables con diferentes unidades, como una en KM y otra en CM (centímetro), pero ambas tienen el mismo cambio en el valor, por lo que la variable en KM reflejará un cambio menor, mientras que la otra tendrá un cambio mayor. En este caso, si no estandarizamos la variable, PCA dará mayor preferencia a la variable en centímetros.\n"
   ]
  },
  {
   "cell_type": "code",
   "execution_count": null,
   "metadata": {
    "ExecuteTime": {
     "end_time": "2021-07-21T18:37:30.141162Z",
     "start_time": "2021-07-21T18:37:29.969065Z"
    }
   },
   "outputs": [],
   "source": [
    "features = ['sepal.length', 'sepal.width', 'petal.length', 'petal.width']\n",
    "\n",
    "x = df_iris.loc[:, features].values\n",
    "\n",
    "display(px.histogram(x, nbins = 50,marginal=\"box\"))\n",
    "x = StandardScaler().fit_transform(x)\n",
    "df_x = pd.DataFrame(x)\n",
    "px.histogram(df_x, nbins = 100,marginal=\"box\")"
   ]
  },
  {
   "cell_type": "markdown",
   "metadata": {},
   "source": [
    "## 2. Realizar el PCA\n",
    "\n",
    "La clase sklearn.decomposition.PCA incorpora las principales funcionalidades que se necesitan a la hora de trabajar con modelos PCA. El argumento n_components determina el número de componentes calculados. Si se indica None, se calculan todas las posibles (min(filas, columnas) - 1).\n",
    "\n",
    "Por defecto, PCA() centra los valores pero no los escala."
   ]
  },
  {
   "cell_type": "code",
   "execution_count": null,
   "metadata": {
    "ExecuteTime": {
     "end_time": "2021-07-21T18:40:20.372627Z",
     "start_time": "2021-07-21T18:40:20.351454Z"
    }
   },
   "outputs": [],
   "source": [
    "pca = PCA()\n",
    "\n",
    "principalComponents = pca.fit_transform(x)\n",
    "\n",
    "principalDataframe = pd.DataFrame(data = principalComponents, columns = ['PC1', 'PC2','PC3','PC4'])"
   ]
  },
  {
   "cell_type": "markdown",
   "metadata": {},
   "source": [
    "## 3. Analizar los resultados (Seleccionar el numero)"
   ]
  },
  {
   "cell_type": "markdown",
   "metadata": {},
   "source": [
    "Una vez entrenado el objeto PCA, pude accederse a toda la información de las componentes creadas.\n",
    "\n",
    "\n",
    "Una de las preguntas más frecuentes que surge tras realizar un PCA es: ¿Cuánta información presente en el set de datos original se pierde al proyectar las observaciones en un espacio de menor dimensión? o lo que es lo mismo ¿Cuanta información es capaz de capturar cada una de las componentes principales obtenidas? Para contestar a estas preguntas se recurre a la proporción de varianza explicada por cada componente principal."
   ]
  },
  {
   "cell_type": "code",
   "execution_count": null,
   "metadata": {
    "ExecuteTime": {
     "end_time": "2021-07-21T18:40:22.874545Z",
     "start_time": "2021-07-21T18:40:22.869389Z"
    }
   },
   "outputs": [],
   "source": [
    "percent_variance = np.round(pca.explained_variance_ratio_* 100, decimals =2)\n",
    "columns = ['PC1', 'PC2', 'PC3', 'PC4']\n"
   ]
  },
  {
   "cell_type": "code",
   "execution_count": null,
   "metadata": {
    "ExecuteTime": {
     "end_time": "2021-07-21T18:40:23.724205Z",
     "start_time": "2021-07-21T18:40:23.658986Z"
    }
   },
   "outputs": [],
   "source": [
    "px.bar(x = columns, y = percent_variance, text = percent_variance, template = 'plotly_white', title = 'Varianza Explicada por cada componente')"
   ]
  },
  {
   "cell_type": "code",
   "execution_count": null,
   "metadata": {
    "ExecuteTime": {
     "end_time": "2021-07-21T18:42:10.903183Z",
     "start_time": "2021-07-21T18:42:10.845212Z"
    }
   },
   "outputs": [],
   "source": [
    "px.bar(x = columns, y = percent_variance.cumsum(), text = percent_variance.cumsum(), template = 'plotly_white')"
   ]
  },
  {
   "cell_type": "markdown",
   "metadata": {},
   "source": [
    "## 4. Visualizar e Intrepertar los resultados"
   ]
  },
  {
   "cell_type": "code",
   "execution_count": null,
   "metadata": {
    "ExecuteTime": {
     "end_time": "2021-07-21T18:43:19.578711Z",
     "start_time": "2021-07-21T18:43:19.517230Z"
    }
   },
   "outputs": [],
   "source": [
    "px.scatter(x = principalDataframe.PC1, y = principalDataframe.PC2)\n"
   ]
  },
  {
   "cell_type": "code",
   "execution_count": null,
   "metadata": {
    "ExecuteTime": {
     "end_time": "2021-07-21T18:44:41.079324Z",
     "start_time": "2021-07-21T18:44:41.072457Z"
    }
   },
   "outputs": [],
   "source": [
    "targetDataframe = df_iris[['variety']]\n",
    "\n",
    "newDataframe = pd.concat([principalDataframe, targetDataframe],axis = 1)"
   ]
  },
  {
   "cell_type": "code",
   "execution_count": null,
   "metadata": {
    "ExecuteTime": {
     "end_time": "2021-07-21T18:44:47.911768Z",
     "start_time": "2021-07-21T18:44:47.893759Z"
    }
   },
   "outputs": [],
   "source": [
    "newDataframe"
   ]
  },
  {
   "cell_type": "markdown",
   "metadata": {},
   "source": [
    "## Interpretacion"
   ]
  },
  {
   "cell_type": "markdown",
   "metadata": {},
   "source": [
    "\n",
    "components_ contiene el valor de los loadings  𝜙  que definen cada componente (eigenvector). Las filas se corresponden con las componentes principals (ordenadas de mayor a menor varianza explicada). Las filas se corresponden con las variables de entrada.Analizar con detalle el vector de loadings que forma cada componente puede ayudar a interpretar qué tipo de información recoge cada una de ellas. Por ejemplo, la primera componente es el resultado de la siguiente combinación lineal de las variables originales:\n"
   ]
  },
  {
   "cell_type": "code",
   "execution_count": null,
   "metadata": {
    "ExecuteTime": {
     "end_time": "2021-07-21T18:49:44.790783Z",
     "start_time": "2021-07-21T18:49:44.784861Z"
    }
   },
   "outputs": [],
   "source": [
    "pca.components_"
   ]
  },
  {
   "cell_type": "code",
   "execution_count": null,
   "metadata": {
    "ExecuteTime": {
     "end_time": "2021-07-21T18:49:45.281493Z",
     "start_time": "2021-07-21T18:49:45.270210Z"
    }
   },
   "outputs": [],
   "source": [
    "# Se convierte el array a dataframe para añadir nombres a los ejes.\n",
    "pd.DataFrame(\n",
    "    data    = pca.components_,\n",
    "    columns = features,\n",
    "    index   = ['PC1', 'PC2', 'PC3', 'PC4']\n",
    ")"
   ]
  },
  {
   "cell_type": "code",
   "execution_count": null,
   "metadata": {
    "ExecuteTime": {
     "end_time": "2021-07-21T18:49:45.669745Z",
     "start_time": "2021-07-21T18:49:45.666381Z"
    }
   },
   "outputs": [],
   "source": [
    "marginal=\"box\""
   ]
  },
  {
   "cell_type": "code",
   "execution_count": null,
   "metadata": {
    "ExecuteTime": {
     "end_time": "2021-07-21T18:49:46.136045Z",
     "start_time": "2021-07-21T18:49:46.128060Z"
    }
   },
   "outputs": [],
   "source": [
    "pca.components_\n",
    "pca.explained_variance_\n",
    "pca.explained_variance_ratio_\n",
    "pca.singular_values_\n",
    "pca.mean_\n",
    "pca.n_components_\n",
    "pca.n_features_\n",
    "pca.n_samples_\n",
    "pca.noise_variance_"
   ]
  },
  {
   "cell_type": "markdown",
   "metadata": {},
   "source": [
    "\n"
   ]
  },
  {
   "cell_type": "markdown",
   "metadata": {},
   "source": [
    "## Transformación de nueva muestra\n",
    "\n",
    "Una vez entrenado el modelo, con el método transform() se puede reducir la dimensionalidad de nuevas observaciones proyectándolas en el espacio definido por las componentes."
   ]
  },
  {
   "cell_type": "code",
   "execution_count": null,
   "metadata": {
    "ExecuteTime": {
     "end_time": "2021-07-21T18:49:47.332585Z",
     "start_time": "2021-07-21T18:49:47.320735Z"
    }
   },
   "outputs": [],
   "source": [
    "pca.transform(principalDataframe)[0:2]"
   ]
  },
  {
   "cell_type": "markdown",
   "metadata": {},
   "source": [
    "## Reconstruccion hacia atrás\n",
    "\n",
    "Puede revertirse la transformación y reconstruir el valor inicial con el método inverse_transform(). Es importante tener en cuenta que, la reconstrucción, solo será completa si se han incluido todas las componentes."
   ]
  },
  {
   "cell_type": "code",
   "execution_count": null,
   "metadata": {
    "ExecuteTime": {
     "end_time": "2021-07-21T18:49:48.334764Z",
     "start_time": "2021-07-21T18:49:48.324985Z"
    }
   },
   "outputs": [],
   "source": [
    "df_iris[features].iloc[1]"
   ]
  },
  {
   "cell_type": "code",
   "execution_count": null,
   "metadata": {
    "ExecuteTime": {
     "end_time": "2021-07-21T18:49:48.705186Z",
     "start_time": "2021-07-21T18:49:48.701247Z"
    }
   },
   "outputs": [],
   "source": [
    "# Recostruccion de las proyecciones\n",
    "# ==============================================================================\n",
    "recostruccion = pca.inverse_transform(X=principalDataframe)"
   ]
  },
  {
   "cell_type": "code",
   "execution_count": null,
   "metadata": {
    "ExecuteTime": {
     "end_time": "2021-07-21T18:49:49.124301Z",
     "start_time": "2021-07-21T18:49:49.118831Z"
    }
   },
   "outputs": [],
   "source": [
    "recostruccion[0:2]"
   ]
  },
  {
   "cell_type": "markdown",
   "metadata": {},
   "source": [
    "<hr style=\"height:5px;border-width:0;color:orange;background-color:orange\">"
   ]
  },
  {
   "cell_type": "markdown",
   "metadata": {},
   "source": [
    "# PCA desde 0 (Explicacion Matematica)"
   ]
  },
  {
   "cell_type": "markdown",
   "metadata": {},
   "source": [
    "Aunque no lo vayamos a ver en profundidad, es necesario conocer en que se basa el PCA de forma matematica. Vamos a ver el calculo basado en el método de las covarianzas, basado en la matriz de las covarianzas."
   ]
  },
  {
   "cell_type": "code",
   "execution_count": null,
   "metadata": {
    "ExecuteTime": {
     "end_time": "2021-07-21T18:50:09.666169Z",
     "start_time": "2021-07-21T18:50:09.663327Z"
    }
   },
   "outputs": [],
   "source": [
    "#Importing required libraries\n",
    "import numpy as np"
   ]
  },
  {
   "cell_type": "code",
   "execution_count": null,
   "metadata": {
    "ExecuteTime": {
     "end_time": "2021-07-21T18:50:10.099549Z",
     "start_time": "2021-07-21T18:50:10.089566Z"
    }
   },
   "outputs": [],
   "source": [
    "# Generar un dataset\n",
    "X = np.random.randint(10,50,100).reshape(20,5) \n",
    "# mean Centering the data  \n",
    "X_meaned = X - np.mean(X , axis = 0)\n",
    "X_meaned"
   ]
  },
  {
   "cell_type": "code",
   "execution_count": null,
   "metadata": {
    "ExecuteTime": {
     "end_time": "2021-07-21T18:50:10.670425Z",
     "start_time": "2021-07-21T18:50:10.656417Z"
    }
   },
   "outputs": [],
   "source": [
    "# Se calcula la matriz de covarianzas centrada en la media\n",
    "cov_mat = np.cov(X_meaned , rowvar = False)\n",
    "pd.DataFrame(cov_mat)"
   ]
  },
  {
   "cell_type": "code",
   "execution_count": null,
   "metadata": {
    "ExecuteTime": {
     "end_time": "2021-07-21T18:50:11.321060Z",
     "start_time": "2021-07-21T18:50:11.308206Z"
    }
   },
   "outputs": [],
   "source": [
    "# Se calculan Eigenvalues and Eigenvectors de la matriz de covarianza\n",
    "eigen_values , eigen_vectors = np.linalg.eigh(cov_mat)"
   ]
  },
  {
   "cell_type": "code",
   "execution_count": null,
   "metadata": {
    "ExecuteTime": {
     "end_time": "2021-07-21T18:50:11.893281Z",
     "start_time": "2021-07-21T18:50:11.888024Z"
    }
   },
   "outputs": [],
   "source": [
    "eigen_values"
   ]
  },
  {
   "cell_type": "code",
   "execution_count": null,
   "metadata": {
    "ExecuteTime": {
     "end_time": "2021-07-21T18:50:12.427854Z",
     "start_time": "2021-07-21T18:50:12.420261Z"
    }
   },
   "outputs": [],
   "source": [
    "# Se ordenan los eigen_values\n",
    "sorted_index = np.argsort(eigen_values)[::-1]\n",
    " \n",
    "sorted_eigenvalue = eigen_values[sorted_index]\n",
    "#similarly sort the eigenvectors \n",
    "sorted_eigenvectors = eigen_vectors[:,sorted_index]\n",
    "sorted_eigenvectors"
   ]
  },
  {
   "cell_type": "code",
   "execution_count": null,
   "metadata": {
    "ExecuteTime": {
     "end_time": "2021-07-21T18:50:12.987106Z",
     "start_time": "2021-07-21T18:50:12.981300Z"
    }
   },
   "outputs": [],
   "source": [
    "# Se selecciomn los primeros eigenvectors, en funcion del numero de componentes desado\n",
    "# of our final reduced data.\n",
    " \n",
    "n_components = 2 #you can select any number of components.\n",
    "eigenvector_subset = sorted_eigenvectors[:,0:n_components]\n",
    "eigenvector_subset"
   ]
  },
  {
   "cell_type": "code",
   "execution_count": null,
   "metadata": {
    "ExecuteTime": {
     "end_time": "2021-07-21T18:50:13.750823Z",
     "start_time": "2021-07-21T18:50:13.743307Z"
    }
   },
   "outputs": [],
   "source": [
    "#Y se realiza la transformacion de los datos\n",
    "X_reduced = np.dot(eigenvector_subset.transpose(),X_meaned.transpose()).transpose()\n",
    "X_reduced[0:5]"
   ]
  },
  {
   "cell_type": "markdown",
   "metadata": {},
   "source": [
    "<hr style=\"height:5px;border-width:0;color:orange;background-color:orange\">"
   ]
  },
  {
   "cell_type": "markdown",
   "metadata": {},
   "source": [
    "# Tu Turno"
   ]
  },
  {
   "cell_type": "code",
   "execution_count": 42,
   "metadata": {
    "ExecuteTime": {
     "end_time": "2021-07-21T19:10:53.947603Z",
     "start_time": "2021-07-21T19:10:53.692797Z"
    }
   },
   "outputs": [],
   "source": [
    "link_penguins = 'https://raw.githubusercontent.com/mwaskom/seaborn-data/master/penguins.csv'\n",
    "df_penguins = pd.read_csv(link_penguins)\n",
    "\n",
    "X_cols = ['bill_length_mm', 'bill_depth_mm', 'flipper_length_mm', 'body_mass_g']\n",
    "y_cols = ['species']\n",
    "df_x = df_penguins[X_cols].copy()\n",
    "df_x.dropna(axis=0, inplace=True)\n",
    "df_y = df_penguins[y_cols].copy()\n",
    "df_y.dropna(axis=0, inplace=True)"
   ]
  },
  {
   "cell_type": "code",
   "execution_count": 41,
   "metadata": {
    "ExecuteTime": {
     "end_time": "2021-07-21T19:10:22.423765Z",
     "start_time": "2021-07-21T19:10:22.400955Z"
    }
   },
   "outputs": [
    {
     "data": {
      "text/html": [
       "<div>\n",
       "<style scoped>\n",
       "    .dataframe tbody tr th:only-of-type {\n",
       "        vertical-align: middle;\n",
       "    }\n",
       "\n",
       "    .dataframe tbody tr th {\n",
       "        vertical-align: top;\n",
       "    }\n",
       "\n",
       "    .dataframe thead th {\n",
       "        text-align: right;\n",
       "    }\n",
       "</style>\n",
       "<table border=\"1\" class=\"dataframe\">\n",
       "  <thead>\n",
       "    <tr style=\"text-align: right;\">\n",
       "      <th></th>\n",
       "      <th>species</th>\n",
       "      <th>island</th>\n",
       "      <th>bill_length_mm</th>\n",
       "      <th>bill_depth_mm</th>\n",
       "      <th>flipper_length_mm</th>\n",
       "      <th>body_mass_g</th>\n",
       "      <th>sex</th>\n",
       "    </tr>\n",
       "  </thead>\n",
       "  <tbody>\n",
       "    <tr>\n",
       "      <th>0</th>\n",
       "      <td>Adelie</td>\n",
       "      <td>Torgersen</td>\n",
       "      <td>39.1</td>\n",
       "      <td>18.7</td>\n",
       "      <td>181.0</td>\n",
       "      <td>3750.0</td>\n",
       "      <td>MALE</td>\n",
       "    </tr>\n",
       "    <tr>\n",
       "      <th>1</th>\n",
       "      <td>Adelie</td>\n",
       "      <td>Torgersen</td>\n",
       "      <td>39.5</td>\n",
       "      <td>17.4</td>\n",
       "      <td>186.0</td>\n",
       "      <td>3800.0</td>\n",
       "      <td>FEMALE</td>\n",
       "    </tr>\n",
       "    <tr>\n",
       "      <th>2</th>\n",
       "      <td>Adelie</td>\n",
       "      <td>Torgersen</td>\n",
       "      <td>40.3</td>\n",
       "      <td>18.0</td>\n",
       "      <td>195.0</td>\n",
       "      <td>3250.0</td>\n",
       "      <td>FEMALE</td>\n",
       "    </tr>\n",
       "    <tr>\n",
       "      <th>3</th>\n",
       "      <td>Adelie</td>\n",
       "      <td>Torgersen</td>\n",
       "      <td>NaN</td>\n",
       "      <td>NaN</td>\n",
       "      <td>NaN</td>\n",
       "      <td>NaN</td>\n",
       "      <td>NaN</td>\n",
       "    </tr>\n",
       "    <tr>\n",
       "      <th>4</th>\n",
       "      <td>Adelie</td>\n",
       "      <td>Torgersen</td>\n",
       "      <td>36.7</td>\n",
       "      <td>19.3</td>\n",
       "      <td>193.0</td>\n",
       "      <td>3450.0</td>\n",
       "      <td>FEMALE</td>\n",
       "    </tr>\n",
       "    <tr>\n",
       "      <th>...</th>\n",
       "      <td>...</td>\n",
       "      <td>...</td>\n",
       "      <td>...</td>\n",
       "      <td>...</td>\n",
       "      <td>...</td>\n",
       "      <td>...</td>\n",
       "      <td>...</td>\n",
       "    </tr>\n",
       "    <tr>\n",
       "      <th>339</th>\n",
       "      <td>Gentoo</td>\n",
       "      <td>Biscoe</td>\n",
       "      <td>NaN</td>\n",
       "      <td>NaN</td>\n",
       "      <td>NaN</td>\n",
       "      <td>NaN</td>\n",
       "      <td>NaN</td>\n",
       "    </tr>\n",
       "    <tr>\n",
       "      <th>340</th>\n",
       "      <td>Gentoo</td>\n",
       "      <td>Biscoe</td>\n",
       "      <td>46.8</td>\n",
       "      <td>14.3</td>\n",
       "      <td>215.0</td>\n",
       "      <td>4850.0</td>\n",
       "      <td>FEMALE</td>\n",
       "    </tr>\n",
       "    <tr>\n",
       "      <th>341</th>\n",
       "      <td>Gentoo</td>\n",
       "      <td>Biscoe</td>\n",
       "      <td>50.4</td>\n",
       "      <td>15.7</td>\n",
       "      <td>222.0</td>\n",
       "      <td>5750.0</td>\n",
       "      <td>MALE</td>\n",
       "    </tr>\n",
       "    <tr>\n",
       "      <th>342</th>\n",
       "      <td>Gentoo</td>\n",
       "      <td>Biscoe</td>\n",
       "      <td>45.2</td>\n",
       "      <td>14.8</td>\n",
       "      <td>212.0</td>\n",
       "      <td>5200.0</td>\n",
       "      <td>FEMALE</td>\n",
       "    </tr>\n",
       "    <tr>\n",
       "      <th>343</th>\n",
       "      <td>Gentoo</td>\n",
       "      <td>Biscoe</td>\n",
       "      <td>49.9</td>\n",
       "      <td>16.1</td>\n",
       "      <td>213.0</td>\n",
       "      <td>5400.0</td>\n",
       "      <td>MALE</td>\n",
       "    </tr>\n",
       "  </tbody>\n",
       "</table>\n",
       "<p>344 rows × 7 columns</p>\n",
       "</div>"
      ],
      "text/plain": [
       "    species     island  bill_length_mm  bill_depth_mm  flipper_length_mm  \\\n",
       "0    Adelie  Torgersen            39.1           18.7              181.0   \n",
       "1    Adelie  Torgersen            39.5           17.4              186.0   \n",
       "2    Adelie  Torgersen            40.3           18.0              195.0   \n",
       "3    Adelie  Torgersen             NaN            NaN                NaN   \n",
       "4    Adelie  Torgersen            36.7           19.3              193.0   \n",
       "..      ...        ...             ...            ...                ...   \n",
       "339  Gentoo     Biscoe             NaN            NaN                NaN   \n",
       "340  Gentoo     Biscoe            46.8           14.3              215.0   \n",
       "341  Gentoo     Biscoe            50.4           15.7              222.0   \n",
       "342  Gentoo     Biscoe            45.2           14.8              212.0   \n",
       "343  Gentoo     Biscoe            49.9           16.1              213.0   \n",
       "\n",
       "     body_mass_g     sex  \n",
       "0         3750.0    MALE  \n",
       "1         3800.0  FEMALE  \n",
       "2         3250.0  FEMALE  \n",
       "3            NaN     NaN  \n",
       "4         3450.0  FEMALE  \n",
       "..           ...     ...  \n",
       "339          NaN     NaN  \n",
       "340       4850.0  FEMALE  \n",
       "341       5750.0    MALE  \n",
       "342       5200.0  FEMALE  \n",
       "343       5400.0    MALE  \n",
       "\n",
       "[344 rows x 7 columns]"
      ]
     },
     "execution_count": 41,
     "metadata": {},
     "output_type": "execute_result"
    }
   ],
   "source": [
    "df_penguins"
   ]
  },
  {
   "cell_type": "code",
   "execution_count": 29,
   "metadata": {
    "ExecuteTime": {
     "end_time": "2021-07-21T19:06:21.309723Z",
     "start_time": "2021-07-21T19:06:21.213259Z"
    }
   },
   "outputs": [
    {
     "data": {
      "application/vnd.plotly.v1+json": {
       "config": {
        "plotlyServerURL": "https://plot.ly"
       },
       "data": [
        {
         "alignmentgroup": "True",
         "bingroup": "x",
         "hovertemplate": "variable=bill_length_mm<br>value=%{x}<br>count=%{y}<extra></extra>",
         "legendgroup": "bill_length_mm",
         "marker": {
          "color": "#636efa"
         },
         "name": "bill_length_mm",
         "nbinsx": 50,
         "offsetgroup": "bill_length_mm",
         "orientation": "v",
         "showlegend": true,
         "type": "histogram",
         "x": [
          -0.8844987420334891,
          -0.8111257337803929,
          -0.6643797172742005,
          -1.3247367915520676,
          -0.8478122379069417,
          -0.9211852461600378,
          -0.8661554899702147,
          -1.8016613451971948,
          -0.3525444321985401,
          -1.1229610188560535,
          -1.1229610188560535,
          -0.5176337007680069,
          -0.9762150023498597,
          -1.7099450848808242,
          -1.343080043615342,
          -0.9578717502865853,
          -0.2608281718821695,
          -1.746631589007373,
          0.3811856503324245,
          -1.1229610188560535,
          -1.1413042709193264,
          -1.4714828080582614,
          -1.0495880106029558,
          -0.9395284982233122,
          -1.5815423204379062,
          -0.6093499610843774,
          -0.6276932131476518,
          -1.104617766792779,
          -0.6276932131476518,
          -0.8111257337803929,
          -1.233020531235697,
          -0.8111257337803929,
          -0.5543202048945556,
          -1.3797665477418908,
          -0.8661554899702147,
          -0.9395284982233122,
          -0.3158579280719913,
          -1.1596475229826009,
          -0.7560959775905711,
          -1.3614232956786163,
          -0.5726634569578299,
          -1.453139555994987,
          0.03266386113021659,
          -1.2697070353622457,
          -0.7927824817171185,
          -0.5176337007680069,
          -1.1779907750458751,
          -1.453139555994987,
          -0.2975146760087182,
          -0.7927824817171185,
          -0.7010662214007479,
          -1.636572076627728,
          -0.3525444321985401,
          -1.7282883369440987,
          -0.462603944578185,
          -0.9028419940967635,
          -0.6093499610843774,
          -1.3614232956786163,
          -1.1596475229826009,
          -1.5081693121848088,
          -0.4809471966414594,
          -1.1596475229826009,
          -0.5176337007680069,
          -1.3797665477418908,
          -0.42591744045163626,
          -1.5448558163113575,
          -0.5176337007680069,
          -1.4714828080582614,
          -0.3892309363250888,
          -1.9117208575768398,
          -0.7744392296538442,
          -0.7927824817171185,
          0.34449914620587574,
          -1.5448558163113575,
          -0.20579841569234766,
          -0.5543202048945556,
          -1.233020531235697,
          -1.4164530518684382,
          -0.3342011801352657,
          -1.7099450848808242,
          -0.1874551636290733,
          -1.3247367915520676,
          -1.6182288245644536,
          -1.2146772791724239,
          -0.4809471966414594,
          -1.398109799805165,
          -1.2880502874255202,
          -1.031244758539683,
          -0.9211852461600378,
          -1.5081693121848088,
          -0.5176337007680069,
          -1.8200045972604693,
          -0.7927824817171185,
          -1.4164530518684382,
          -0.5726634569578299,
          -1.0679312626662303,
          -0.6643797172742005,
          -1.985093865829936,
          -0.1324254074392502,
          -1.636572076627728,
          -0.5359769528312812,
          -1.1413042709193264,
          -1.1229610188560535,
          -1.104617766792779,
          -0.7744392296538442,
          -0.9762150023498597,
          -1.0495880106029558,
          -1.0679312626662303,
          -0.1324254074392502,
          -1.0679312626662303,
          0.3078126420793283,
          -0.7744392296538442,
          -0.3158579280719913,
          -0.7927824817171185,
          -0.22414166775562075,
          -0.9762150023498597,
          -1.2146772791724239,
          -1.5081693121848088,
          -0.5176337007680069,
          -1.4164530518684382,
          -1.1413042709193264,
          -0.6827229693374736,
          -0.462603944578185,
          -1.5998855725011794,
          -0.6093499610843774,
          -0.9395284982233122,
          -0.4442606925149106,
          -0.9028419940967635,
          0.03266386113021659,
          -0.9945582544131341,
          -0.15076865950252455,
          -1.3063935394887944,
          -1.1779907750458751,
          -1.0679312626662303,
          -0.5176337007680069,
          -1.526512564248083,
          -0.6827229693374736,
          -1.2697070353622457,
          -0.7744392296538442,
          -0.6827229693374736,
          -0.6093499610843774,
          -2.168526386462677,
          -0.591006709021103,
          -1.2146772791724239,
          -0.9028419940967635,
          -0.8661554899702147,
          -1.343080043615342,
          -1.453139555994987,
          -1.1229610188560535,
          -1.453139555994987,
          -0.4442606925149106,
          0.47290191064879505,
          1.114915732863389,
          1.353378009685952,
          0.27112613795277957,
          1.6101835385717906,
          0.23443963382623212,
          0.3995289023956989,
          1.353378009685952,
          0.3811856503324245,
          1.353378009685952,
          0.49124516271206947,
          1.4267510179390495,
          0.5646181709651656,
          1.4817807741288713,
          0.3628423982691501,
          1.2066319931797596,
          1.1699454890532108,
          2.5823758979253184,
          0.4545586585855207,
          0.9681697163571966,
          -0.27917142394544386,
          0.8397669519142773,
          -0.1324254074392502,
          1.224975245243034,
          0.5095884147753438,
          1.4817807741288713,
          1.2066319931797596,
          1.0231994725470186,
          0.4545586585855207,
          1.6285267906350638,
          -0.5543202048945556,
          1.8853323195209024,
          -0.2608281718821695,
          1.2983482534961301,
          1.0598859766735673,
          0.6563344312815362,
          0.6746776833448106,
          1.4817807741288713,
          0.5462749189018913,
          1.756929555077983,
          0.9314832122306479,
          0.41787215445897324,
          1.280005001432856,
          0.28946939001605393,
          1.280005001432856,
          1.2616617493695814,
          1.1332589849266634,
          0.9314832122306479,
          1.3900645138125007,
          1.0782292287368402,
          0.7663939436611812,
          1.3717212617492265,
          0.32615589414260265,
          1.2433184973063083,
          -0.2608281718821695,
          1.51846727825542,
          0.23443963382623212,
          0.9865129684204698,
          1.151602236989938,
          0.3078126420793283,
          1.463437522065597,
          0.5279316668386169,
          0.32615589414260265,
          2.178824352533287,
          -0.07739565124942835,
          1.0415427246102928,
          1.2616617493695814,
          1.151602236989938,
          0.3995289023956989,
          1.114915732863389,
          0.8764534560408261,
          1.114915732863389,
          0.6746776833448106,
          0.47290191064879505,
          0.27112613795277957,
          0.5095884147753438,
          -0.1140821553759771,
          0.5279316668386169,
          -0.5543202048945556,
          0.9314832122306479,
          0.28946939001605393,
          0.8214236998510029,
          0.34449914620587574,
          0.9865129684204698,
          -0.3525444321985401,
          0.9681697163571966,
          0.41787215445897324,
          0.8764534560408261,
          1.151602236989938,
          0.21609638176295773,
          0.47290191064879505,
          0.43621540652224633,
          -0.1874551636290733,
          0.3995289023956989,
          0.10603686938331279,
          0.711364187471358,
          0.7847371957244555,
          1.114915732863389,
          0.6196479271549875,
          -0.20579841569234766,
          0.21609638176295773,
          2.875867930937704,
          0.9498264642939223,
          0.8214236998510029,
          -0.2424849198188951,
          0.08769361732003841,
          0.014320609066942217,
          0.8764534560408261,
          -0.22414166775562075,
          1.0415427246102928,
          0.2527828858895052,
          1.0415427246102928,
          1.2066319931797596,
          -0.05905239918615398,
          0.28946939001605393,
          1.2066319931797596,
          0.17940987763640898,
          0.23443963382623212,
          0.49124516271206947,
          0.8397669519142773,
          0.21609638176295773,
          1.1332589849266634,
          0.47290191064879505,
          0.19775312969968337,
          -0.022365895059606532,
          0.28946939001605393,
          -0.1324254074392502,
          1.1882887411164853,
          0.2527828858895052,
          0.41787215445897324,
          0.32615589414260265,
          1.9036755715841756,
          0.34449914620587574,
          1.0782292287368402,
          0.41787215445897324,
          1.0231994725470186,
          -0.07739565124942835,
          1.2433184973063083,
          0.693020935408085,
          0.4545586585855207,
          0.7847371957244555,
          0.47290191064879505,
          0.4545586585855207,
          0.8581102039775518,
          0.6563344312815362,
          1.3166915055594046,
          0.23443963382623212,
          0.23443963382623212,
          0.9498264642939223,
          1.573497034445242,
          0.6379911792182619,
          1.114915732863389,
          0.17940987763640898,
          1.2616617493695814,
          -0.09573890331270273,
          1.353378009685952,
          0.6563344312815362,
          1.5001240261921458,
          0.6563344312815362,
          1.51846727825542,
          0.28946939001605393,
          1.0231994725470186,
          0.10603686938331279,
          1.2616617493695814,
          1.0048562204837441,
          0.5462749189018913,
          0.8214236998510029,
          1.3166915055594046,
          0.8397669519142773,
          2.1971676045965616,
          0.6013046750917144,
          0.9498264642939223,
          0.6196479271549875,
          0.5279316668386169,
          -0.4075741883883619,
          1.7385863030147086,
          -0.1140821553759771,
          0.7663939436611812,
          1.2066319931797596,
          1.0782292287368402,
          -0.07739565124942835,
          1.3900645138125007,
          0.41787215445897324,
          2.0504215880903693,
          0.10603686938331279,
          0.8947967081040992,
          0.6013046750917144,
          0.5279316668386169,
          1.1882887411164853,
          0.23443963382623212,
          1.0965724808001147
         ],
         "xaxis": "x",
         "yaxis": "y"
        },
        {
         "alignmentgroup": "True",
         "hovertemplate": "variable=bill_length_mm<br>value=%{x}<extra></extra>",
         "legendgroup": "bill_length_mm",
         "marker": {
          "color": "#636efa"
         },
         "name": "bill_length_mm",
         "notched": true,
         "offsetgroup": "bill_length_mm",
         "showlegend": false,
         "type": "box",
         "x": [
          -0.8844987420334891,
          -0.8111257337803929,
          -0.6643797172742005,
          -1.3247367915520676,
          -0.8478122379069417,
          -0.9211852461600378,
          -0.8661554899702147,
          -1.8016613451971948,
          -0.3525444321985401,
          -1.1229610188560535,
          -1.1229610188560535,
          -0.5176337007680069,
          -0.9762150023498597,
          -1.7099450848808242,
          -1.343080043615342,
          -0.9578717502865853,
          -0.2608281718821695,
          -1.746631589007373,
          0.3811856503324245,
          -1.1229610188560535,
          -1.1413042709193264,
          -1.4714828080582614,
          -1.0495880106029558,
          -0.9395284982233122,
          -1.5815423204379062,
          -0.6093499610843774,
          -0.6276932131476518,
          -1.104617766792779,
          -0.6276932131476518,
          -0.8111257337803929,
          -1.233020531235697,
          -0.8111257337803929,
          -0.5543202048945556,
          -1.3797665477418908,
          -0.8661554899702147,
          -0.9395284982233122,
          -0.3158579280719913,
          -1.1596475229826009,
          -0.7560959775905711,
          -1.3614232956786163,
          -0.5726634569578299,
          -1.453139555994987,
          0.03266386113021659,
          -1.2697070353622457,
          -0.7927824817171185,
          -0.5176337007680069,
          -1.1779907750458751,
          -1.453139555994987,
          -0.2975146760087182,
          -0.7927824817171185,
          -0.7010662214007479,
          -1.636572076627728,
          -0.3525444321985401,
          -1.7282883369440987,
          -0.462603944578185,
          -0.9028419940967635,
          -0.6093499610843774,
          -1.3614232956786163,
          -1.1596475229826009,
          -1.5081693121848088,
          -0.4809471966414594,
          -1.1596475229826009,
          -0.5176337007680069,
          -1.3797665477418908,
          -0.42591744045163626,
          -1.5448558163113575,
          -0.5176337007680069,
          -1.4714828080582614,
          -0.3892309363250888,
          -1.9117208575768398,
          -0.7744392296538442,
          -0.7927824817171185,
          0.34449914620587574,
          -1.5448558163113575,
          -0.20579841569234766,
          -0.5543202048945556,
          -1.233020531235697,
          -1.4164530518684382,
          -0.3342011801352657,
          -1.7099450848808242,
          -0.1874551636290733,
          -1.3247367915520676,
          -1.6182288245644536,
          -1.2146772791724239,
          -0.4809471966414594,
          -1.398109799805165,
          -1.2880502874255202,
          -1.031244758539683,
          -0.9211852461600378,
          -1.5081693121848088,
          -0.5176337007680069,
          -1.8200045972604693,
          -0.7927824817171185,
          -1.4164530518684382,
          -0.5726634569578299,
          -1.0679312626662303,
          -0.6643797172742005,
          -1.985093865829936,
          -0.1324254074392502,
          -1.636572076627728,
          -0.5359769528312812,
          -1.1413042709193264,
          -1.1229610188560535,
          -1.104617766792779,
          -0.7744392296538442,
          -0.9762150023498597,
          -1.0495880106029558,
          -1.0679312626662303,
          -0.1324254074392502,
          -1.0679312626662303,
          0.3078126420793283,
          -0.7744392296538442,
          -0.3158579280719913,
          -0.7927824817171185,
          -0.22414166775562075,
          -0.9762150023498597,
          -1.2146772791724239,
          -1.5081693121848088,
          -0.5176337007680069,
          -1.4164530518684382,
          -1.1413042709193264,
          -0.6827229693374736,
          -0.462603944578185,
          -1.5998855725011794,
          -0.6093499610843774,
          -0.9395284982233122,
          -0.4442606925149106,
          -0.9028419940967635,
          0.03266386113021659,
          -0.9945582544131341,
          -0.15076865950252455,
          -1.3063935394887944,
          -1.1779907750458751,
          -1.0679312626662303,
          -0.5176337007680069,
          -1.526512564248083,
          -0.6827229693374736,
          -1.2697070353622457,
          -0.7744392296538442,
          -0.6827229693374736,
          -0.6093499610843774,
          -2.168526386462677,
          -0.591006709021103,
          -1.2146772791724239,
          -0.9028419940967635,
          -0.8661554899702147,
          -1.343080043615342,
          -1.453139555994987,
          -1.1229610188560535,
          -1.453139555994987,
          -0.4442606925149106,
          0.47290191064879505,
          1.114915732863389,
          1.353378009685952,
          0.27112613795277957,
          1.6101835385717906,
          0.23443963382623212,
          0.3995289023956989,
          1.353378009685952,
          0.3811856503324245,
          1.353378009685952,
          0.49124516271206947,
          1.4267510179390495,
          0.5646181709651656,
          1.4817807741288713,
          0.3628423982691501,
          1.2066319931797596,
          1.1699454890532108,
          2.5823758979253184,
          0.4545586585855207,
          0.9681697163571966,
          -0.27917142394544386,
          0.8397669519142773,
          -0.1324254074392502,
          1.224975245243034,
          0.5095884147753438,
          1.4817807741288713,
          1.2066319931797596,
          1.0231994725470186,
          0.4545586585855207,
          1.6285267906350638,
          -0.5543202048945556,
          1.8853323195209024,
          -0.2608281718821695,
          1.2983482534961301,
          1.0598859766735673,
          0.6563344312815362,
          0.6746776833448106,
          1.4817807741288713,
          0.5462749189018913,
          1.756929555077983,
          0.9314832122306479,
          0.41787215445897324,
          1.280005001432856,
          0.28946939001605393,
          1.280005001432856,
          1.2616617493695814,
          1.1332589849266634,
          0.9314832122306479,
          1.3900645138125007,
          1.0782292287368402,
          0.7663939436611812,
          1.3717212617492265,
          0.32615589414260265,
          1.2433184973063083,
          -0.2608281718821695,
          1.51846727825542,
          0.23443963382623212,
          0.9865129684204698,
          1.151602236989938,
          0.3078126420793283,
          1.463437522065597,
          0.5279316668386169,
          0.32615589414260265,
          2.178824352533287,
          -0.07739565124942835,
          1.0415427246102928,
          1.2616617493695814,
          1.151602236989938,
          0.3995289023956989,
          1.114915732863389,
          0.8764534560408261,
          1.114915732863389,
          0.6746776833448106,
          0.47290191064879505,
          0.27112613795277957,
          0.5095884147753438,
          -0.1140821553759771,
          0.5279316668386169,
          -0.5543202048945556,
          0.9314832122306479,
          0.28946939001605393,
          0.8214236998510029,
          0.34449914620587574,
          0.9865129684204698,
          -0.3525444321985401,
          0.9681697163571966,
          0.41787215445897324,
          0.8764534560408261,
          1.151602236989938,
          0.21609638176295773,
          0.47290191064879505,
          0.43621540652224633,
          -0.1874551636290733,
          0.3995289023956989,
          0.10603686938331279,
          0.711364187471358,
          0.7847371957244555,
          1.114915732863389,
          0.6196479271549875,
          -0.20579841569234766,
          0.21609638176295773,
          2.875867930937704,
          0.9498264642939223,
          0.8214236998510029,
          -0.2424849198188951,
          0.08769361732003841,
          0.014320609066942217,
          0.8764534560408261,
          -0.22414166775562075,
          1.0415427246102928,
          0.2527828858895052,
          1.0415427246102928,
          1.2066319931797596,
          -0.05905239918615398,
          0.28946939001605393,
          1.2066319931797596,
          0.17940987763640898,
          0.23443963382623212,
          0.49124516271206947,
          0.8397669519142773,
          0.21609638176295773,
          1.1332589849266634,
          0.47290191064879505,
          0.19775312969968337,
          -0.022365895059606532,
          0.28946939001605393,
          -0.1324254074392502,
          1.1882887411164853,
          0.2527828858895052,
          0.41787215445897324,
          0.32615589414260265,
          1.9036755715841756,
          0.34449914620587574,
          1.0782292287368402,
          0.41787215445897324,
          1.0231994725470186,
          -0.07739565124942835,
          1.2433184973063083,
          0.693020935408085,
          0.4545586585855207,
          0.7847371957244555,
          0.47290191064879505,
          0.4545586585855207,
          0.8581102039775518,
          0.6563344312815362,
          1.3166915055594046,
          0.23443963382623212,
          0.23443963382623212,
          0.9498264642939223,
          1.573497034445242,
          0.6379911792182619,
          1.114915732863389,
          0.17940987763640898,
          1.2616617493695814,
          -0.09573890331270273,
          1.353378009685952,
          0.6563344312815362,
          1.5001240261921458,
          0.6563344312815362,
          1.51846727825542,
          0.28946939001605393,
          1.0231994725470186,
          0.10603686938331279,
          1.2616617493695814,
          1.0048562204837441,
          0.5462749189018913,
          0.8214236998510029,
          1.3166915055594046,
          0.8397669519142773,
          2.1971676045965616,
          0.6013046750917144,
          0.9498264642939223,
          0.6196479271549875,
          0.5279316668386169,
          -0.4075741883883619,
          1.7385863030147086,
          -0.1140821553759771,
          0.7663939436611812,
          1.2066319931797596,
          1.0782292287368402,
          -0.07739565124942835,
          1.3900645138125007,
          0.41787215445897324,
          2.0504215880903693,
          0.10603686938331279,
          0.8947967081040992,
          0.6013046750917144,
          0.5279316668386169,
          1.1882887411164853,
          0.23443963382623212,
          1.0965724808001147
         ],
         "xaxis": "x2",
         "yaxis": "y2"
        },
        {
         "alignmentgroup": "True",
         "bingroup": "x",
         "hovertemplate": "variable=bill_depth_mm<br>value=%{x}<br>count=%{y}<extra></extra>",
         "legendgroup": "bill_depth_mm",
         "marker": {
          "color": "#EF553B"
         },
         "name": "bill_depth_mm",
         "nbinsx": 50,
         "offsetgroup": "bill_depth_mm",
         "orientation": "v",
         "showlegend": true,
         "type": "histogram",
         "x": [
          0.7854492273303164,
          0.12618789738683958,
          0.43046235736075256,
          1.0897236873042295,
          1.7489850172477064,
          0.32903753736944885,
          1.2418609172911859,
          0.4811747673564053,
          1.546135377265097,
          -0.025949332600115085,
          0.07547548739118863,
          0.22761271737814512,
          2.0532594772216175,
          2.0025470672259664,
          0.32903753736944885,
          0.937586457317273,
          1.7996974272433572,
          0.63331199734336,
          2.205396707208574,
          0.582599587347709,
          0.7854492273303164,
          1.0390112773085767,
          0.4811747673564053,
          0.024763077395535873,
          0.8868740473216202,
          0.7347368173346656,
          0.3797499473650998,
          0.7347368173346656,
          0.8868740473216202,
          -0.22879897258272433,
          0.4811747673564053,
          0.32903753736944885,
          0.8868740473216202,
          -0.07666174259576784,
          2.0025470672259664,
          1.4447105572737933,
          0.6840244073390127,
          1.0897236873042295,
          0.9882988673129257,
          0.43046235736075256,
          0.63331199734336,
          0.6840244073390127,
          1.292573327286837,
          -0.1273741525914206,
          0.8361616373259693,
          0.937586457317273,
          0.8868740473216202,
          0.3797499473650998,
          2.0532594772216175,
          0.27832512737379606,
          0.8868740473216202,
          0.3797499473650998,
          1.1911485072955332,
          0.4811747673564053,
          0.7347368173346656,
          0.17690030738249235,
          0.8361616373259693,
          -0.27951138257837527,
          0.9882988673129257,
          -0.1273741525914206,
          2.0025470672259664,
          -0.07666174259576784,
          0.5318871773520563,
          -0.025949332600115085,
          0.43046235736075256,
          -0.4823610225609845,
          0.9882988673129257,
          -0.27951138257837527,
          1.1404360972998804,
          0.937586457317273,
          0.63331199734336,
          0.024763077395535873,
          0.8868740473216202,
          0.17690030738249235,
          0.6840244073390127,
          -0.17808656258707156,
          1.1404360972998804,
          -0.5330734325566355,
          0.9882988673129257,
          0.024763077395535873,
          0.22761271737814512,
          0.8361616373259693,
          1.1404360972998804,
          0.32903753736944885,
          1.5968477872607498,
          1.1911485072955332,
          0.7347368173346656,
          1.0390112773085767,
          0.8361616373259693,
          0.43046235736075256,
          0.4811747673564053,
          -0.025949332600115085,
          0.4811747673564053,
          0.07547548739118863,
          0.8868740473216202,
          0.7347368173346656,
          0.6840244073390127,
          -0.5330734325566355,
          0.6840244073390127,
          0.3797499473650998,
          1.4447105572737933,
          -0.5837858425522883,
          1.4447105572737933,
          0.7347368173346656,
          0.8868740473216202,
          0.024763077395535873,
          1.4447105572737933,
          -0.07666174259576784,
          0.937586457317273,
          -0.33022379257402806,
          1.5968477872607498,
          0.27832512737379606,
          1.1911485072955332,
          1.7996974272433572,
          0.582599587347709,
          -0.07666174259576784,
          1.6982726072520535,
          -0.07666174259576784,
          0.7347368173346656,
          0.024763077395535873,
          1.3432857372824896,
          -0.07666174259576784,
          0.6840244073390127,
          -0.6344982525479401,
          0.937586457317273,
          0.22761271737814512,
          0.582599587347709,
          -0.025949332600115085,
          0.43046235736075256,
          0.3797499473650998,
          1.0390112773085767,
          0.6840244073390127,
          0.6840244073390127,
          0.22761271737814512,
          0.17690030738249235,
          0.17690030738249235,
          1.4954229672694461,
          -0.33022379257402806,
          0.3797499473650998,
          -0.025949332600115085,
          0.024763077395535873,
          -0.8373478925305484,
          -0.07666174259576784,
          -0.17808656258707156,
          0.7854492273303164,
          0.7347368173346656,
          0.63331199734336,
          0.32903753736944885,
          0.4811747673564053,
          -0.025949332600115085,
          0.6840244073390127,
          0.3797499473650998,
          1.1911485072955332,
          1.0390112773085767,
          0.7854492273303164,
          1.3432857372824896,
          0.32903753736944885,
          0.5318871773520563,
          0.5318871773520563,
          0.8868740473216202,
          1.3939981472781406,
          0.32903753736944885,
          1.5968477872607498,
          0.07547548739118863,
          0.4811747673564053,
          -0.025949332600115085,
          1.2418609172911859,
          1.4447105572737933,
          0.32903753736944885,
          0.7347368173346656,
          0.5318871773520563,
          0.07547548739118863,
          0.17690030738249235,
          -0.27951138257837527,
          1.1404360972998804,
          0.3797499473650998,
          0.937586457317273,
          0.63331199734336,
          0.937586457317273,
          0.32903753736944885,
          1.4447105572737933,
          -0.27951138257837527,
          1.85040983723901,
          -0.22879897258272433,
          0.8361616373259693,
          0.7347368173346656,
          -0.17808656258707156,
          0.582599587347709,
          1.7996974272433572,
          -0.27951138257837527,
          1.3939981472781406,
          1.1911485072955332,
          0.17690030738249235,
          0.9882988673129257,
          -0.07666174259576784,
          0.3797499473650998,
          0.6840244073390127,
          0.3797499473650998,
          1.2418609172911859,
          0.7854492273303164,
          0.07547548739118863,
          -0.3809362025696808,
          0.937586457317273,
          0.07547548739118863,
          1.292573327286837,
          0.07547548739118863,
          0.8361616373259693,
          -0.27951138257837527,
          1.3939981472781406,
          0.8361616373259693,
          1.1404360972998804,
          1.1911485072955332,
          -0.33022379257402806,
          -0.07666174259576784,
          1.3432857372824896,
          0.4811747673564053,
          0.5318871773520563,
          0.937586457317273,
          0.7854492273303164,
          -2.003733322430546,
          -0.43164861256533177,
          -1.5473216324696772,
          -0.9894851225175049,
          -1.3444719924870687,
          -1.8515960924435892,
          -1.293759582491417,
          -0.9387727125218521,
          -1.902308502439241,
          -0.8880603025262003,
          -1.7501712724522855,
          -0.5330734325566355,
          -1.7501712724522855,
          -1.293759582491417,
          -1.293759582491417,
          -0.7359230725392447,
          -1.8515960924435892,
          -0.9894851225175049,
          -1.3444719924870687,
          -1.0401975325131567,
          -1.4458968124783727,
          -1.3444719924870687,
          -1.3444719924870687,
          -0.685210662543592,
          -2.0544457324261978,
          -1.0401975325131567,
          -1.4458968124783727,
          -1.0909099425088087,
          -1.4458968124783727,
          -0.9387727125218521,
          -0.9387727125218521,
          -1.4966092224740253,
          -1.3444719924870687,
          -0.07666174259576784,
          -1.1923347625001124,
          -0.43164861256533177,
          -1.7501712724522855,
          0.07547548739118863,
          -1.8008836824479373,
          -0.7359230725392447,
          -1.7501712724522855,
          -0.5837858425522883,
          -1.7501712724522855,
          -1.0909099425088087,
          -0.6344982525479401,
          -1.648746452460981,
          -1.648746452460981,
          -0.6344982525479401,
          -1.953020912434893,
          -0.685210662543592,
          -1.4966092224740253,
          -1.5473216324696772,
          -1.3951844024827207,
          -1.0909099425088087,
          -1.3951844024827207,
          -0.8880603025262003,
          -1.648746452460981,
          -1.0909099425088087,
          -1.3444719924870687,
          -0.9387727125218521,
          -1.6994588624566327,
          -1.1416223525044604,
          -1.648746452460981,
          -0.7359230725392447,
          -1.4966092224740253,
          -0.17808656258707156,
          -1.3951844024827207,
          -0.4823610225609845,
          -1.4966092224740253,
          -1.0909099425088087,
          -1.0909099425088087,
          -0.7866354825348966,
          -0.7866354825348966,
          -1.1923347625001124,
          -1.0909099425088087,
          -0.5837858425522883,
          -1.4966092224740253,
          -0.43164861256533177,
          -1.6994588624566327,
          -0.3809362025696808,
          -1.3444719924870687,
          -0.7866354825348966,
          -1.293759582491417,
          -0.6344982525479401,
          -1.6994588624566327,
          0.07547548739118863,
          -1.3951844024827207,
          -1.4966092224740253,
          -1.598034042465329,
          -0.07666174259576784,
          -1.0909099425088087,
          -0.025949332600115085,
          -1.3444719924870687,
          -0.5330734325566355,
          -1.243047172495765,
          -0.7359230725392447,
          -0.685210662543592,
          -1.293759582491417,
          -1.3951844024827207,
          -0.33022379257402806,
          -1.0909099425088087,
          -0.07666174259576784,
          -0.8373478925305484,
          -1.0909099425088087,
          -1.6994588624566327,
          -0.5330734325566355,
          -1.243047172495765,
          -0.685210662543592,
          -1.598034042465329,
          -1.0401975325131567,
          -0.9894851225175049,
          -0.6344982525479401,
          -0.9894851225175049,
          -0.43164861256533177,
          -1.5473216324696772,
          -0.5837858425522883,
          -0.7359230725392447,
          -0.4823610225609845,
          -1.7501712724522855,
          -1.4458968124783727,
          -0.7359230725392447,
          -1.1923347625001124,
          -0.5330734325566355
         ],
         "xaxis": "x",
         "yaxis": "y"
        },
        {
         "alignmentgroup": "True",
         "hovertemplate": "variable=bill_depth_mm<br>value=%{x}<extra></extra>",
         "legendgroup": "bill_depth_mm",
         "marker": {
          "color": "#EF553B"
         },
         "name": "bill_depth_mm",
         "notched": true,
         "offsetgroup": "bill_depth_mm",
         "showlegend": false,
         "type": "box",
         "x": [
          0.7854492273303164,
          0.12618789738683958,
          0.43046235736075256,
          1.0897236873042295,
          1.7489850172477064,
          0.32903753736944885,
          1.2418609172911859,
          0.4811747673564053,
          1.546135377265097,
          -0.025949332600115085,
          0.07547548739118863,
          0.22761271737814512,
          2.0532594772216175,
          2.0025470672259664,
          0.32903753736944885,
          0.937586457317273,
          1.7996974272433572,
          0.63331199734336,
          2.205396707208574,
          0.582599587347709,
          0.7854492273303164,
          1.0390112773085767,
          0.4811747673564053,
          0.024763077395535873,
          0.8868740473216202,
          0.7347368173346656,
          0.3797499473650998,
          0.7347368173346656,
          0.8868740473216202,
          -0.22879897258272433,
          0.4811747673564053,
          0.32903753736944885,
          0.8868740473216202,
          -0.07666174259576784,
          2.0025470672259664,
          1.4447105572737933,
          0.6840244073390127,
          1.0897236873042295,
          0.9882988673129257,
          0.43046235736075256,
          0.63331199734336,
          0.6840244073390127,
          1.292573327286837,
          -0.1273741525914206,
          0.8361616373259693,
          0.937586457317273,
          0.8868740473216202,
          0.3797499473650998,
          2.0532594772216175,
          0.27832512737379606,
          0.8868740473216202,
          0.3797499473650998,
          1.1911485072955332,
          0.4811747673564053,
          0.7347368173346656,
          0.17690030738249235,
          0.8361616373259693,
          -0.27951138257837527,
          0.9882988673129257,
          -0.1273741525914206,
          2.0025470672259664,
          -0.07666174259576784,
          0.5318871773520563,
          -0.025949332600115085,
          0.43046235736075256,
          -0.4823610225609845,
          0.9882988673129257,
          -0.27951138257837527,
          1.1404360972998804,
          0.937586457317273,
          0.63331199734336,
          0.024763077395535873,
          0.8868740473216202,
          0.17690030738249235,
          0.6840244073390127,
          -0.17808656258707156,
          1.1404360972998804,
          -0.5330734325566355,
          0.9882988673129257,
          0.024763077395535873,
          0.22761271737814512,
          0.8361616373259693,
          1.1404360972998804,
          0.32903753736944885,
          1.5968477872607498,
          1.1911485072955332,
          0.7347368173346656,
          1.0390112773085767,
          0.8361616373259693,
          0.43046235736075256,
          0.4811747673564053,
          -0.025949332600115085,
          0.4811747673564053,
          0.07547548739118863,
          0.8868740473216202,
          0.7347368173346656,
          0.6840244073390127,
          -0.5330734325566355,
          0.6840244073390127,
          0.3797499473650998,
          1.4447105572737933,
          -0.5837858425522883,
          1.4447105572737933,
          0.7347368173346656,
          0.8868740473216202,
          0.024763077395535873,
          1.4447105572737933,
          -0.07666174259576784,
          0.937586457317273,
          -0.33022379257402806,
          1.5968477872607498,
          0.27832512737379606,
          1.1911485072955332,
          1.7996974272433572,
          0.582599587347709,
          -0.07666174259576784,
          1.6982726072520535,
          -0.07666174259576784,
          0.7347368173346656,
          0.024763077395535873,
          1.3432857372824896,
          -0.07666174259576784,
          0.6840244073390127,
          -0.6344982525479401,
          0.937586457317273,
          0.22761271737814512,
          0.582599587347709,
          -0.025949332600115085,
          0.43046235736075256,
          0.3797499473650998,
          1.0390112773085767,
          0.6840244073390127,
          0.6840244073390127,
          0.22761271737814512,
          0.17690030738249235,
          0.17690030738249235,
          1.4954229672694461,
          -0.33022379257402806,
          0.3797499473650998,
          -0.025949332600115085,
          0.024763077395535873,
          -0.8373478925305484,
          -0.07666174259576784,
          -0.17808656258707156,
          0.7854492273303164,
          0.7347368173346656,
          0.63331199734336,
          0.32903753736944885,
          0.4811747673564053,
          -0.025949332600115085,
          0.6840244073390127,
          0.3797499473650998,
          1.1911485072955332,
          1.0390112773085767,
          0.7854492273303164,
          1.3432857372824896,
          0.32903753736944885,
          0.5318871773520563,
          0.5318871773520563,
          0.8868740473216202,
          1.3939981472781406,
          0.32903753736944885,
          1.5968477872607498,
          0.07547548739118863,
          0.4811747673564053,
          -0.025949332600115085,
          1.2418609172911859,
          1.4447105572737933,
          0.32903753736944885,
          0.7347368173346656,
          0.5318871773520563,
          0.07547548739118863,
          0.17690030738249235,
          -0.27951138257837527,
          1.1404360972998804,
          0.3797499473650998,
          0.937586457317273,
          0.63331199734336,
          0.937586457317273,
          0.32903753736944885,
          1.4447105572737933,
          -0.27951138257837527,
          1.85040983723901,
          -0.22879897258272433,
          0.8361616373259693,
          0.7347368173346656,
          -0.17808656258707156,
          0.582599587347709,
          1.7996974272433572,
          -0.27951138257837527,
          1.3939981472781406,
          1.1911485072955332,
          0.17690030738249235,
          0.9882988673129257,
          -0.07666174259576784,
          0.3797499473650998,
          0.6840244073390127,
          0.3797499473650998,
          1.2418609172911859,
          0.7854492273303164,
          0.07547548739118863,
          -0.3809362025696808,
          0.937586457317273,
          0.07547548739118863,
          1.292573327286837,
          0.07547548739118863,
          0.8361616373259693,
          -0.27951138257837527,
          1.3939981472781406,
          0.8361616373259693,
          1.1404360972998804,
          1.1911485072955332,
          -0.33022379257402806,
          -0.07666174259576784,
          1.3432857372824896,
          0.4811747673564053,
          0.5318871773520563,
          0.937586457317273,
          0.7854492273303164,
          -2.003733322430546,
          -0.43164861256533177,
          -1.5473216324696772,
          -0.9894851225175049,
          -1.3444719924870687,
          -1.8515960924435892,
          -1.293759582491417,
          -0.9387727125218521,
          -1.902308502439241,
          -0.8880603025262003,
          -1.7501712724522855,
          -0.5330734325566355,
          -1.7501712724522855,
          -1.293759582491417,
          -1.293759582491417,
          -0.7359230725392447,
          -1.8515960924435892,
          -0.9894851225175049,
          -1.3444719924870687,
          -1.0401975325131567,
          -1.4458968124783727,
          -1.3444719924870687,
          -1.3444719924870687,
          -0.685210662543592,
          -2.0544457324261978,
          -1.0401975325131567,
          -1.4458968124783727,
          -1.0909099425088087,
          -1.4458968124783727,
          -0.9387727125218521,
          -0.9387727125218521,
          -1.4966092224740253,
          -1.3444719924870687,
          -0.07666174259576784,
          -1.1923347625001124,
          -0.43164861256533177,
          -1.7501712724522855,
          0.07547548739118863,
          -1.8008836824479373,
          -0.7359230725392447,
          -1.7501712724522855,
          -0.5837858425522883,
          -1.7501712724522855,
          -1.0909099425088087,
          -0.6344982525479401,
          -1.648746452460981,
          -1.648746452460981,
          -0.6344982525479401,
          -1.953020912434893,
          -0.685210662543592,
          -1.4966092224740253,
          -1.5473216324696772,
          -1.3951844024827207,
          -1.0909099425088087,
          -1.3951844024827207,
          -0.8880603025262003,
          -1.648746452460981,
          -1.0909099425088087,
          -1.3444719924870687,
          -0.9387727125218521,
          -1.6994588624566327,
          -1.1416223525044604,
          -1.648746452460981,
          -0.7359230725392447,
          -1.4966092224740253,
          -0.17808656258707156,
          -1.3951844024827207,
          -0.4823610225609845,
          -1.4966092224740253,
          -1.0909099425088087,
          -1.0909099425088087,
          -0.7866354825348966,
          -0.7866354825348966,
          -1.1923347625001124,
          -1.0909099425088087,
          -0.5837858425522883,
          -1.4966092224740253,
          -0.43164861256533177,
          -1.6994588624566327,
          -0.3809362025696808,
          -1.3444719924870687,
          -0.7866354825348966,
          -1.293759582491417,
          -0.6344982525479401,
          -1.6994588624566327,
          0.07547548739118863,
          -1.3951844024827207,
          -1.4966092224740253,
          -1.598034042465329,
          -0.07666174259576784,
          -1.0909099425088087,
          -0.025949332600115085,
          -1.3444719924870687,
          -0.5330734325566355,
          -1.243047172495765,
          -0.7359230725392447,
          -0.685210662543592,
          -1.293759582491417,
          -1.3951844024827207,
          -0.33022379257402806,
          -1.0909099425088087,
          -0.07666174259576784,
          -0.8373478925305484,
          -1.0909099425088087,
          -1.6994588624566327,
          -0.5330734325566355,
          -1.243047172495765,
          -0.685210662543592,
          -1.598034042465329,
          -1.0401975325131567,
          -0.9894851225175049,
          -0.6344982525479401,
          -0.9894851225175049,
          -0.43164861256533177,
          -1.5473216324696772,
          -0.5837858425522883,
          -0.7359230725392447,
          -0.4823610225609845,
          -1.7501712724522855,
          -1.4458968124783727,
          -0.7359230725392447,
          -1.1923347625001124,
          -0.5330734325566355
         ],
         "xaxis": "x2",
         "yaxis": "y2"
        },
        {
         "alignmentgroup": "True",
         "bingroup": "x",
         "hovertemplate": "variable=flipper_length_mm<br>value=%{x}<br>count=%{y}<extra></extra>",
         "legendgroup": "flipper_length_mm",
         "marker": {
          "color": "#00cc96"
         },
         "name": "flipper_length_mm",
         "nbinsx": 50,
         "offsetgroup": "flipper_length_mm",
         "orientation": "v",
         "showlegend": true,
         "type": "histogram",
         "x": [
          -1.4183466493394512,
          -1.0622502214477376,
          -0.42127665124265357,
          -0.5637152223993389,
          -0.777373079134367,
          -1.4183466493394512,
          -0.42127665124265357,
          -0.5637152223993389,
          -0.777373079134367,
          -1.0622502214477376,
          -1.4895659349177939,
          -1.3471273637611083,
          -0.7061537935560243,
          -0.20761879450762555,
          -1.1334695070260803,
          -0.42127665124265357,
          -0.2788380800859682,
          -1.204688792604423,
          -0.4924959368209963,
          -1.91688164838785,
          -1.4895659349177939,
          -0.8485923647127097,
          -1.1334695070260803,
          -1.4895659349177939,
          -0.9910309358693951,
          -1.2759080781827656,
          -0.9910309358693951,
          -2.059320219544535,
          -1.4895659349177939,
          -1.6320045060744792,
          -1.6320045060744792,
          -0.9198116502910524,
          -1.204688792604423,
          -0.42127665124265357,
          -0.3500573656643109,
          -0.777373079134367,
          -1.4895659349177939,
          -1.4183466493394512,
          -1.204688792604423,
          -1.3471273637611083,
          -0.42127665124265357,
          -1.0622502214477376,
          -0.3500573656643109,
          -1.1334695070260803,
          -0.777373079134367,
          -1.3471273637611083,
          -1.5607852204961365,
          -0.777373079134367,
          -0.7061537935560243,
          -1.0622502214477376,
          -0.9198116502910524,
          -0.777373079134367,
          -0.06518022335094019,
          -0.9910309358693951,
          -0.7061537935560243,
          -1.0622502214477376,
          -0.5637152223993389,
          -1.4183466493394512,
          -0.4924959368209963,
          -1.1334695070260803,
          -0.42127665124265357,
          -1.1334695070260803,
          -0.6349345079776816,
          -1.204688792604423,
          -0.6349345079776816,
          -0.42127665124265357,
          -0.9198116502910524,
          -0.777373079134367,
          -0.20761879450762555,
          -0.777373079134367,
          -0.777373079134367,
          -0.3500573656643109,
          -0.2788380800859682,
          -0.777373079134367,
          -0.42127665124265357,
          -0.7061537935560243,
          -1.204688792604423,
          -0.9910309358693951,
          -0.42127665124265357,
          -0.8485923647127097,
          -0.3500573656643109,
          -0.9910309358693951,
          -0.5637152223993389,
          -0.7061537935560243,
          -0.4924959368209963,
          -0.777373079134367,
          -0.8485923647127097,
          -0.8485923647127097,
          -0.777373079134367,
          0.07725834780574517,
          0.2909162045407732,
          -1.1334695070260803,
          -1.0622502214477376,
          -0.9910309358693951,
          0.5045740612758013,
          -0.777373079134367,
          -0.3500573656643109,
          -1.6320045060744792,
          -0.6349345079776816,
          -0.6349345079776816,
          0.14847763338408784,
          -1.2759080781827656,
          -0.777373079134367,
          -0.5637152223993389,
          -1.204688792604423,
          -0.13639950892928288,
          -0.777373079134367,
          -1.4183466493394512,
          -0.2788380800859682,
          -0.20761879450762555,
          -0.7061537935560243,
          -0.5637152223993389,
          -0.2788380800859682,
          -0.7061537935560243,
          -0.3500573656643109,
          -0.9198116502910524,
          -0.13639950892928288,
          -0.8485923647127097,
          -0.8485923647127097,
          -0.9910309358693951,
          -0.20761879450762555,
          -1.7744430772311646,
          0.07725834780574517,
          -1.0622502214477376,
          -0.13639950892928288,
          -0.7061537935560243,
          -0.42127665124265357,
          -0.7061537935560243,
          0.6470126324324866,
          -0.777373079134367,
          -0.2788380800859682,
          -0.5637152223993389,
          -0.13639950892928288,
          -0.9910309358693951,
          -0.777373079134367,
          -0.7061537935560243,
          -0.06518022335094019,
          -1.1334695070260803,
          -0.5637152223993389,
          -0.5637152223993389,
          -0.9910309358693951,
          -0.9198116502910524,
          -0.777373079134367,
          -0.6349345079776816,
          -1.1334695070260803,
          -0.777373079134367,
          -1.204688792604423,
          -0.42127665124265357,
          -0.5637152223993389,
          -0.9910309358693951,
          0.006039062227402486,
          -0.6349345079776816,
          -0.3500573656643109,
          -0.5637152223993389,
          -0.9198116502910524,
          -0.2788380800859682,
          -0.20761879450762555,
          -1.6320045060744792,
          -0.2788380800859682,
          -0.42127665124265357,
          -0.20761879450762555,
          -0.5637152223993389,
          -0.4924959368209963,
          -1.1334695070260803,
          0.006039062227402486,
          -0.777373079134367,
          0.006039062227402486,
          -0.2788380800859682,
          -1.4183466493394512,
          -0.777373079134367,
          -0.42127665124265357,
          -1.4183466493394512,
          -0.7061537935560243,
          -0.9910309358693951,
          -0.5637152223993389,
          -0.42127665124265357,
          -0.2788380800859682,
          -0.06518022335094019,
          -0.06518022335094019,
          -0.7061537935560243,
          0.2909162045407732,
          -0.9910309358693951,
          0.006039062227402486,
          -0.9910309358693951,
          0.14847763338408784,
          -0.42127665124265357,
          -0.13639950892928288,
          -0.42127665124265357,
          0.6470126324324866,
          -0.6349345079776816,
          0.2909162045407732,
          0.6470126324324866,
          -0.9910309358693951,
          -0.3500573656643109,
          -0.3500573656643109,
          -0.3500573656643109,
          0.006039062227402486,
          -0.777373079134367,
          0.789451203589172,
          -0.9910309358693951,
          -0.20761879450762555,
          -0.13639950892928288,
          0.006039062227402486,
          -0.5637152223993389,
          0.14847763338408784,
          -0.9910309358693951,
          -0.2788380800859682,
          -0.7061537935560243,
          0.14847763338408784,
          0.07725834780574517,
          -0.4924959368209963,
          0.3621354901191159,
          -0.8485923647127097,
          -0.42127665124265357,
          0.43335477569745856,
          0.07725834780574517,
          -0.5637152223993389,
          0.6470126324324866,
          -0.20761879450762555,
          0.7182319180108293,
          2.07139834399934,
          0.6470126324324866,
          1.2167669170592281,
          1.0031090603241999,
          0.6470126324324866,
          0.7182319180108293,
          1.2879862026375708,
          0.575793346854144,
          1.0031090603241999,
          0.9318897747458573,
          1.0743283459025428,
          0.9318897747458573,
          0.8606704891675147,
          0.6470126324324866,
          1.1455476314808855,
          0.6470126324324866,
          1.4304247737942561,
          0.575793346854144,
          1.5016440593725988,
          1.2167669170592281,
          1.0031090603241999,
          0.8606704891675147,
          1.0031090603241999,
          1.0031090603241999,
          1.0031090603241999,
          1.0743283459025428,
          1.0031090603241999,
          0.6470126324324866,
          1.3592054882159135,
          1.5016440593725988,
          0.575793346854144,
          0.43335477569745856,
          2.07139834399934,
          1.3592054882159135,
          1.3592054882159135,
          0.8606704891675147,
          1.2879862026375708,
          0.5045740612758013,
          0.5045740612758013,
          0.5045740612758013,
          1.7153019161076268,
          0.6470126324324866,
          1.0743283459025428,
          1.5016440593725988,
          1.1455476314808855,
          0.6470126324324866,
          1.7153019161076268,
          0.8606704891675147,
          1.0031090603241999,
          0.6470126324324866,
          1.3592054882159135,
          0.6470126324324866,
          1.7153019161076268,
          1.1455476314808855,
          1.3592054882159135,
          0.5045740612758013,
          1.3592054882159135,
          0.5045740612758013,
          1.6440826305292842,
          0.5045740612758013,
          1.4304247737942561,
          0.9318897747458573,
          2.142617629577683,
          1.2879862026375708,
          2.07139834399934,
          0.9318897747458573,
          2.0001790584209975,
          1.3592054882159135,
          1.5728633449509415,
          1.0743283459025428,
          1.4304247737942561,
          1.4304247737942561,
          1.1455476314808855,
          1.0743283459025428,
          2.07139834399934,
          0.575793346854144,
          1.3592054882159135,
          1.0031090603241999,
          1.5728633449509415,
          0.789451203589172,
          1.4304247737942561,
          0.789451203589172,
          1.6440826305292842,
          0.789451203589172,
          1.9289597728426549,
          1.2167669170592281,
          1.2167669170592281,
          0.789451203589172,
          2.07139834399934,
          1.2167669170592281,
          1.9289597728426549,
          0.789451203589172,
          1.6440826305292842,
          0.9318897747458573,
          1.7865212016859695,
          1.0743283459025428,
          1.5016440593725988,
          0.14847763338408784,
          1.7153019161076268,
          1.2879862026375708,
          1.9289597728426549,
          1.0031090603241999,
          1.9289597728426549,
          1.0743283459025428,
          1.0031090603241999,
          0.6470126324324866,
          1.2879862026375708,
          0.5045740612758013,
          0.575793346854144,
          1.0743283459025428,
          2.0001790584209975,
          0.8606704891675147,
          2.07139834399934,
          1.1455476314808855,
          2.07139834399934,
          1.1455476314808855,
          1.5016440593725988,
          0.9318897747458573,
          1.0031090603241999,
          1.5016440593725988,
          0.789451203589172,
          0.8606704891675147
         ],
         "xaxis": "x",
         "yaxis": "y"
        },
        {
         "alignmentgroup": "True",
         "hovertemplate": "variable=flipper_length_mm<br>value=%{x}<extra></extra>",
         "legendgroup": "flipper_length_mm",
         "marker": {
          "color": "#00cc96"
         },
         "name": "flipper_length_mm",
         "notched": true,
         "offsetgroup": "flipper_length_mm",
         "showlegend": false,
         "type": "box",
         "x": [
          -1.4183466493394512,
          -1.0622502214477376,
          -0.42127665124265357,
          -0.5637152223993389,
          -0.777373079134367,
          -1.4183466493394512,
          -0.42127665124265357,
          -0.5637152223993389,
          -0.777373079134367,
          -1.0622502214477376,
          -1.4895659349177939,
          -1.3471273637611083,
          -0.7061537935560243,
          -0.20761879450762555,
          -1.1334695070260803,
          -0.42127665124265357,
          -0.2788380800859682,
          -1.204688792604423,
          -0.4924959368209963,
          -1.91688164838785,
          -1.4895659349177939,
          -0.8485923647127097,
          -1.1334695070260803,
          -1.4895659349177939,
          -0.9910309358693951,
          -1.2759080781827656,
          -0.9910309358693951,
          -2.059320219544535,
          -1.4895659349177939,
          -1.6320045060744792,
          -1.6320045060744792,
          -0.9198116502910524,
          -1.204688792604423,
          -0.42127665124265357,
          -0.3500573656643109,
          -0.777373079134367,
          -1.4895659349177939,
          -1.4183466493394512,
          -1.204688792604423,
          -1.3471273637611083,
          -0.42127665124265357,
          -1.0622502214477376,
          -0.3500573656643109,
          -1.1334695070260803,
          -0.777373079134367,
          -1.3471273637611083,
          -1.5607852204961365,
          -0.777373079134367,
          -0.7061537935560243,
          -1.0622502214477376,
          -0.9198116502910524,
          -0.777373079134367,
          -0.06518022335094019,
          -0.9910309358693951,
          -0.7061537935560243,
          -1.0622502214477376,
          -0.5637152223993389,
          -1.4183466493394512,
          -0.4924959368209963,
          -1.1334695070260803,
          -0.42127665124265357,
          -1.1334695070260803,
          -0.6349345079776816,
          -1.204688792604423,
          -0.6349345079776816,
          -0.42127665124265357,
          -0.9198116502910524,
          -0.777373079134367,
          -0.20761879450762555,
          -0.777373079134367,
          -0.777373079134367,
          -0.3500573656643109,
          -0.2788380800859682,
          -0.777373079134367,
          -0.42127665124265357,
          -0.7061537935560243,
          -1.204688792604423,
          -0.9910309358693951,
          -0.42127665124265357,
          -0.8485923647127097,
          -0.3500573656643109,
          -0.9910309358693951,
          -0.5637152223993389,
          -0.7061537935560243,
          -0.4924959368209963,
          -0.777373079134367,
          -0.8485923647127097,
          -0.8485923647127097,
          -0.777373079134367,
          0.07725834780574517,
          0.2909162045407732,
          -1.1334695070260803,
          -1.0622502214477376,
          -0.9910309358693951,
          0.5045740612758013,
          -0.777373079134367,
          -0.3500573656643109,
          -1.6320045060744792,
          -0.6349345079776816,
          -0.6349345079776816,
          0.14847763338408784,
          -1.2759080781827656,
          -0.777373079134367,
          -0.5637152223993389,
          -1.204688792604423,
          -0.13639950892928288,
          -0.777373079134367,
          -1.4183466493394512,
          -0.2788380800859682,
          -0.20761879450762555,
          -0.7061537935560243,
          -0.5637152223993389,
          -0.2788380800859682,
          -0.7061537935560243,
          -0.3500573656643109,
          -0.9198116502910524,
          -0.13639950892928288,
          -0.8485923647127097,
          -0.8485923647127097,
          -0.9910309358693951,
          -0.20761879450762555,
          -1.7744430772311646,
          0.07725834780574517,
          -1.0622502214477376,
          -0.13639950892928288,
          -0.7061537935560243,
          -0.42127665124265357,
          -0.7061537935560243,
          0.6470126324324866,
          -0.777373079134367,
          -0.2788380800859682,
          -0.5637152223993389,
          -0.13639950892928288,
          -0.9910309358693951,
          -0.777373079134367,
          -0.7061537935560243,
          -0.06518022335094019,
          -1.1334695070260803,
          -0.5637152223993389,
          -0.5637152223993389,
          -0.9910309358693951,
          -0.9198116502910524,
          -0.777373079134367,
          -0.6349345079776816,
          -1.1334695070260803,
          -0.777373079134367,
          -1.204688792604423,
          -0.42127665124265357,
          -0.5637152223993389,
          -0.9910309358693951,
          0.006039062227402486,
          -0.6349345079776816,
          -0.3500573656643109,
          -0.5637152223993389,
          -0.9198116502910524,
          -0.2788380800859682,
          -0.20761879450762555,
          -1.6320045060744792,
          -0.2788380800859682,
          -0.42127665124265357,
          -0.20761879450762555,
          -0.5637152223993389,
          -0.4924959368209963,
          -1.1334695070260803,
          0.006039062227402486,
          -0.777373079134367,
          0.006039062227402486,
          -0.2788380800859682,
          -1.4183466493394512,
          -0.777373079134367,
          -0.42127665124265357,
          -1.4183466493394512,
          -0.7061537935560243,
          -0.9910309358693951,
          -0.5637152223993389,
          -0.42127665124265357,
          -0.2788380800859682,
          -0.06518022335094019,
          -0.06518022335094019,
          -0.7061537935560243,
          0.2909162045407732,
          -0.9910309358693951,
          0.006039062227402486,
          -0.9910309358693951,
          0.14847763338408784,
          -0.42127665124265357,
          -0.13639950892928288,
          -0.42127665124265357,
          0.6470126324324866,
          -0.6349345079776816,
          0.2909162045407732,
          0.6470126324324866,
          -0.9910309358693951,
          -0.3500573656643109,
          -0.3500573656643109,
          -0.3500573656643109,
          0.006039062227402486,
          -0.777373079134367,
          0.789451203589172,
          -0.9910309358693951,
          -0.20761879450762555,
          -0.13639950892928288,
          0.006039062227402486,
          -0.5637152223993389,
          0.14847763338408784,
          -0.9910309358693951,
          -0.2788380800859682,
          -0.7061537935560243,
          0.14847763338408784,
          0.07725834780574517,
          -0.4924959368209963,
          0.3621354901191159,
          -0.8485923647127097,
          -0.42127665124265357,
          0.43335477569745856,
          0.07725834780574517,
          -0.5637152223993389,
          0.6470126324324866,
          -0.20761879450762555,
          0.7182319180108293,
          2.07139834399934,
          0.6470126324324866,
          1.2167669170592281,
          1.0031090603241999,
          0.6470126324324866,
          0.7182319180108293,
          1.2879862026375708,
          0.575793346854144,
          1.0031090603241999,
          0.9318897747458573,
          1.0743283459025428,
          0.9318897747458573,
          0.8606704891675147,
          0.6470126324324866,
          1.1455476314808855,
          0.6470126324324866,
          1.4304247737942561,
          0.575793346854144,
          1.5016440593725988,
          1.2167669170592281,
          1.0031090603241999,
          0.8606704891675147,
          1.0031090603241999,
          1.0031090603241999,
          1.0031090603241999,
          1.0743283459025428,
          1.0031090603241999,
          0.6470126324324866,
          1.3592054882159135,
          1.5016440593725988,
          0.575793346854144,
          0.43335477569745856,
          2.07139834399934,
          1.3592054882159135,
          1.3592054882159135,
          0.8606704891675147,
          1.2879862026375708,
          0.5045740612758013,
          0.5045740612758013,
          0.5045740612758013,
          1.7153019161076268,
          0.6470126324324866,
          1.0743283459025428,
          1.5016440593725988,
          1.1455476314808855,
          0.6470126324324866,
          1.7153019161076268,
          0.8606704891675147,
          1.0031090603241999,
          0.6470126324324866,
          1.3592054882159135,
          0.6470126324324866,
          1.7153019161076268,
          1.1455476314808855,
          1.3592054882159135,
          0.5045740612758013,
          1.3592054882159135,
          0.5045740612758013,
          1.6440826305292842,
          0.5045740612758013,
          1.4304247737942561,
          0.9318897747458573,
          2.142617629577683,
          1.2879862026375708,
          2.07139834399934,
          0.9318897747458573,
          2.0001790584209975,
          1.3592054882159135,
          1.5728633449509415,
          1.0743283459025428,
          1.4304247737942561,
          1.4304247737942561,
          1.1455476314808855,
          1.0743283459025428,
          2.07139834399934,
          0.575793346854144,
          1.3592054882159135,
          1.0031090603241999,
          1.5728633449509415,
          0.789451203589172,
          1.4304247737942561,
          0.789451203589172,
          1.6440826305292842,
          0.789451203589172,
          1.9289597728426549,
          1.2167669170592281,
          1.2167669170592281,
          0.789451203589172,
          2.07139834399934,
          1.2167669170592281,
          1.9289597728426549,
          0.789451203589172,
          1.6440826305292842,
          0.9318897747458573,
          1.7865212016859695,
          1.0743283459025428,
          1.5016440593725988,
          0.14847763338408784,
          1.7153019161076268,
          1.2879862026375708,
          1.9289597728426549,
          1.0031090603241999,
          1.9289597728426549,
          1.0743283459025428,
          1.0031090603241999,
          0.6470126324324866,
          1.2879862026375708,
          0.5045740612758013,
          0.575793346854144,
          1.0743283459025428,
          2.0001790584209975,
          0.8606704891675147,
          2.07139834399934,
          1.1455476314808855,
          2.07139834399934,
          1.1455476314808855,
          1.5016440593725988,
          0.9318897747458573,
          1.0031090603241999,
          1.5016440593725988,
          0.789451203589172,
          0.8606704891675147
         ],
         "xaxis": "x2",
         "yaxis": "y2"
        },
        {
         "alignmentgroup": "True",
         "bingroup": "x",
         "hovertemplate": "variable=body_mass_g<br>value=%{x}<br>count=%{y}<extra></extra>",
         "legendgroup": "body_mass_g",
         "marker": {
          "color": "#ab63fa"
         },
         "name": "body_mass_g",
         "nbinsx": 50,
         "offsetgroup": "body_mass_g",
         "orientation": "v",
         "showlegend": true,
         "type": "histogram",
         "x": [
          -0.5641420770995512,
          -0.5017030510904746,
          -1.1885323371903167,
          -0.9387762331540105,
          -0.6890201291177043,
          -0.7202396421222426,
          0.590979904068365,
          -0.9075567201494722,
          0.060248182991214295,
          -1.1260933111812401,
          -0.6265811031086278,
          -1.2509713631993933,
          -0.5017030510904746,
          0.24756526101844395,
          -0.6265811031086278,
          -0.9387762331540105,
          0.37244331303659706,
          -1.0948737981767018,
          -0.0021908430178622556,
          -1.0012152591630872,
          -0.7514591551267809,
          -0.5017030510904746,
          -0.314385973063245,
          -0.5017030510904746,
          -0.5017030510904746,
          -0.8138981811358574,
          -1.2509713631993933,
          -1.3134103892084699,
          -0.314385973063245,
          -1.1885323371903167,
          -0.3768249990723216,
          -1.1260933111812401,
          -0.3768249990723216,
          -1.0948737981767018,
          -0.0646298690269388,
          -0.314385973063245,
          -0.8138981811358574,
          -1.1260933111812401,
          0.5597603910638267,
          -1.3134103892084699,
          -0.3768249990723216,
          -1.3758494152175464,
          0.24756526101844395,
          -1.5007274672356994,
          0.49732136505475016,
          -0.9699957461585488,
          -1.5319469802402377,
          -0.9387762331540105,
          -0.0646298690269388,
          -0.876337207144934,
          0.12268720900029084,
          -0.9387762331540105,
          -0.1895079210450919,
          -1.6256055192538525,
          -0.6265811031086278,
          -0.8138981811358574,
          -0.5017030510904746,
          -1.6880445452629291,
          -0.5641420770995512,
          -1.3134103892084699,
          0.24756526101844395,
          -0.7514591551267809,
          -0.1895079210450919,
          -1.6880445452629291,
          -0.314385973063245,
          -1.0636542851721635,
          -0.12706889503601534,
          -1.438288441226623,
          0.3100042870275205,
          -0.7514591551267809,
          -0.3768249990723216,
          -0.8138981811358574,
          -0.0646298690269388,
          -0.6265811031086278,
          0.060248182991214295,
          -0.6265811031086278,
          -0.3768249990723216,
          -0.8138981811358574,
          -0.2519469470541685,
          -1.2509713631993933,
          0.6221994170729033,
          -0.5017030510904746,
          -0.0021908430178622556,
          -1.0636542851721635,
          -0.8138981811358574,
          -0.5017030510904746,
          -0.876337207144934,
          -0.314385973063245,
          -0.7514591551267809,
          -0.8138981811358574,
          0.12268720900029084,
          -1.0012152591630872,
          0.3100042870275205,
          -1.1260933111812401,
          0.12268720900029084,
          -0.6265811031086278,
          0.1851262350093674,
          -1.6256055192538525,
          -0.12706889503601534,
          -0.5953615901040895,
          0.6534189300774416,
          -1.4070689282220847,
          0.060248182991214295,
          -1.5943860062493143,
          -0.8138981811358574,
          -0.5641420770995512,
          -0.3768249990723216,
          -1.2821908762039316,
          0.715857956086518,
          -0.4704835380859364,
          0.49732136505475016,
          -1.2509713631993933,
          0.09146769599575257,
          -0.3768249990723216,
          -0.15828840804055364,
          -1.6256055192538525,
          -0.5329225640950129,
          -1.0636542851721635,
          -1.0948737981767018,
          -1.3134103892084699,
          -0.876337207144934,
          -0.9387762331540105,
          -0.4080445120768598,
          -1.438288441226623,
          -0.2519469470541685,
          -1.1573128241857784,
          0.12268720900029084,
          -1.438288441226623,
          -0.2519469470541685,
          -1.0948737981767018,
          -0.876337207144934,
          -0.876337207144934,
          0.34122380003205877,
          -0.9699957461585488,
          -0.3768249990723216,
          -1.2821908762039316,
          -0.2831664600587067,
          -1.0012152591630872,
          0.060248182991214295,
          -1.0012152591630872,
          -0.9075567201494722,
          -1.438288441226623,
          -0.5953615901040895,
          -1.5007274672356994,
          -0.6890201291177043,
          0.060248182991214295,
          -0.9075567201494722,
          -0.9387762331540105,
          -0.5641420770995512,
          -0.6265811031086278,
          -0.2519469470541685,
          -0.876337207144934,
          -0.3768249990723216,
          -0.6890201291177043,
          -0.8451176941403957,
          -0.5953615901040895,
          -0.314385973063245,
          -1.1885323371903167,
          -0.5641420770995512,
          -0.0646298690269388,
          -0.6265811031086278,
          -0.5017030510904746,
          -0.5329225640950129,
          -0.6265811031086278,
          -0.1895079210450919,
          -0.7826786681313191,
          -0.1895079210450919,
          -1.1260933111812401,
          -0.6265811031086278,
          -0.9387762331540105,
          0.24756526101844395,
          -0.7514591551267809,
          -1.0012152591630872,
          -1.6256055192538525,
          -0.5017030510904746,
          -1.1260933111812401,
          -0.0646298690269388,
          -1.0012152591630872,
          -0.5017030510904746,
          -0.6265811031086278,
          0.4348823390456736,
          -1.2509713631993933,
          0.12268720900029084,
          -1.0636542851721635,
          -0.12706889503601534,
          -0.7514591551267809,
          -0.3768249990723216,
          -0.4392640250813981,
          0.7470774690910563,
          -1.8753616232901589,
          0.37244331303659706,
          -0.314385973063245,
          -0.6890201291177043,
          -0.8138981811358574,
          -0.876337207144934,
          -0.6578006161131661,
          0.3100042870275205,
          -1.0012152591630872,
          0.12268720900029084,
          -1.1885323371903167,
          -0.6578006161131661,
          -1.0948737981767018,
          -0.314385973063245,
          -0.7514591551267809,
          -0.1895079210450919,
          -1.0636542851721635,
          -0.9387762331540105,
          -1.1885323371903167,
          -0.1895079210450919,
          -0.5017030510904746,
          -0.8451176941403957,
          -0.314385973063245,
          -0.6890201291177043,
          -0.6890201291177043,
          -0.2519469470541685,
          -1.0012152591630872,
          -0.5329225640950129,
          -0.12706889503601534,
          -0.5329225640950129,
          0.37244331303659706,
          1.8709799372544342,
          0.3100042870275205,
          1.8709799372544342,
          1.496345781199975,
          0.4348823390456736,
          0.7470774690910563,
          1.2465896771636689,
          0.24756526101844395,
          1.1841506511545923,
          0.5597603910638267,
          1.6836628592272047,
          0.5597603910638267,
          2.058297015281664,
          -0.0021908430178622556,
          2.058297015281664,
          -0.0646298690269388,
          2.6202482493633528,
          0.7470774690910563,
          1.4339067551908984,
          1.8709799372544342,
          0.9968335731273625,
          0.24756526101844395,
          1.0592725991364391,
          0.9968335731273625,
          1.1217116251455157,
          -0.12706889503601534,
          1.8085409112453577,
          0.49732136505475016,
          1.6836628592272047,
          1.3090287031727452,
          0.6221994170729033,
          1.0592725991364391,
          2.3080531193179703,
          1.1841506511545923,
          1.496345781199975,
          0.9343945471182861,
          1.3090287031727452,
          0.1851262350093674,
          1.4339067551908984,
          -0.314385973063245,
          1.8709799372544342,
          0.12268720900029084,
          0.6846384430819799,
          1.6836628592272047,
          0.8719555211092095,
          -0.0021908430178622556,
          1.496345781199975,
          1.1217116251455157,
          1.3714677291818218,
          0.8095164951001329,
          1.3714677291818218,
          0.24756526101844395,
          0.9968335731273625,
          0.8719555211092095,
          1.0592725991364391,
          0.12268720900029084,
          0.9968335731273625,
          0.3100042870275205,
          1.6836628592272047,
          -0.0021908430178622556,
          1.3714677291818218,
          0.24756526101844395,
          1.8085409112453577,
          0.6221994170729033,
          1.8709799372544342,
          0.5597603910638267,
          1.9958579892725874,
          0.6221994170729033,
          1.6836628592272047,
          0.6846384430819799,
          0.9968335731273625,
          1.1217116251455157,
          1.2465896771636689,
          0.6221994170729033,
          1.9958579892725874,
          0.49732136505475016,
          2.2456140933088937,
          0.6846384430819799,
          2.183175067299817,
          0.5285408780592884,
          1.5587848072090515,
          0.6534189300774416,
          1.4339067551908984,
          0.6846384430819799,
          1.746101885236281,
          0.49732136505475016,
          1.3714677291818218,
          0.8407360081046712,
          1.6836628592272047,
          0.9343945471182861,
          1.496345781199975,
          0.6846384430819799,
          1.8085409112453577,
          0.8095164951001329,
          1.2465896771636689,
          0.9031750341137478,
          0.8407360081046712,
          0.5285408780592884,
          1.3090287031727452,
          0.8095164951001329,
          1.746101885236281,
          0.9656140601228242,
          1.6212238332181281,
          0.6534189300774416,
          1.6212238332181281,
          0.6221994170729033,
          1.6212238332181281,
          0.4661018520502119,
          1.6212238332181281,
          0.9968335731273625,
          2.183175067299817,
          0.5597603910638267,
          1.6212238332181281,
          0.2163457480139057,
          2.058297015281664,
          0.8407360081046712,
          2.2456140933088937,
          0.9031750341137478,
          0.8095164951001329,
          1.9334189632635108,
          1.2465896771636689,
          1.496345781199975
         ],
         "xaxis": "x",
         "yaxis": "y"
        },
        {
         "alignmentgroup": "True",
         "hovertemplate": "variable=body_mass_g<br>value=%{x}<extra></extra>",
         "legendgroup": "body_mass_g",
         "marker": {
          "color": "#ab63fa"
         },
         "name": "body_mass_g",
         "notched": true,
         "offsetgroup": "body_mass_g",
         "showlegend": false,
         "type": "box",
         "x": [
          -0.5641420770995512,
          -0.5017030510904746,
          -1.1885323371903167,
          -0.9387762331540105,
          -0.6890201291177043,
          -0.7202396421222426,
          0.590979904068365,
          -0.9075567201494722,
          0.060248182991214295,
          -1.1260933111812401,
          -0.6265811031086278,
          -1.2509713631993933,
          -0.5017030510904746,
          0.24756526101844395,
          -0.6265811031086278,
          -0.9387762331540105,
          0.37244331303659706,
          -1.0948737981767018,
          -0.0021908430178622556,
          -1.0012152591630872,
          -0.7514591551267809,
          -0.5017030510904746,
          -0.314385973063245,
          -0.5017030510904746,
          -0.5017030510904746,
          -0.8138981811358574,
          -1.2509713631993933,
          -1.3134103892084699,
          -0.314385973063245,
          -1.1885323371903167,
          -0.3768249990723216,
          -1.1260933111812401,
          -0.3768249990723216,
          -1.0948737981767018,
          -0.0646298690269388,
          -0.314385973063245,
          -0.8138981811358574,
          -1.1260933111812401,
          0.5597603910638267,
          -1.3134103892084699,
          -0.3768249990723216,
          -1.3758494152175464,
          0.24756526101844395,
          -1.5007274672356994,
          0.49732136505475016,
          -0.9699957461585488,
          -1.5319469802402377,
          -0.9387762331540105,
          -0.0646298690269388,
          -0.876337207144934,
          0.12268720900029084,
          -0.9387762331540105,
          -0.1895079210450919,
          -1.6256055192538525,
          -0.6265811031086278,
          -0.8138981811358574,
          -0.5017030510904746,
          -1.6880445452629291,
          -0.5641420770995512,
          -1.3134103892084699,
          0.24756526101844395,
          -0.7514591551267809,
          -0.1895079210450919,
          -1.6880445452629291,
          -0.314385973063245,
          -1.0636542851721635,
          -0.12706889503601534,
          -1.438288441226623,
          0.3100042870275205,
          -0.7514591551267809,
          -0.3768249990723216,
          -0.8138981811358574,
          -0.0646298690269388,
          -0.6265811031086278,
          0.060248182991214295,
          -0.6265811031086278,
          -0.3768249990723216,
          -0.8138981811358574,
          -0.2519469470541685,
          -1.2509713631993933,
          0.6221994170729033,
          -0.5017030510904746,
          -0.0021908430178622556,
          -1.0636542851721635,
          -0.8138981811358574,
          -0.5017030510904746,
          -0.876337207144934,
          -0.314385973063245,
          -0.7514591551267809,
          -0.8138981811358574,
          0.12268720900029084,
          -1.0012152591630872,
          0.3100042870275205,
          -1.1260933111812401,
          0.12268720900029084,
          -0.6265811031086278,
          0.1851262350093674,
          -1.6256055192538525,
          -0.12706889503601534,
          -0.5953615901040895,
          0.6534189300774416,
          -1.4070689282220847,
          0.060248182991214295,
          -1.5943860062493143,
          -0.8138981811358574,
          -0.5641420770995512,
          -0.3768249990723216,
          -1.2821908762039316,
          0.715857956086518,
          -0.4704835380859364,
          0.49732136505475016,
          -1.2509713631993933,
          0.09146769599575257,
          -0.3768249990723216,
          -0.15828840804055364,
          -1.6256055192538525,
          -0.5329225640950129,
          -1.0636542851721635,
          -1.0948737981767018,
          -1.3134103892084699,
          -0.876337207144934,
          -0.9387762331540105,
          -0.4080445120768598,
          -1.438288441226623,
          -0.2519469470541685,
          -1.1573128241857784,
          0.12268720900029084,
          -1.438288441226623,
          -0.2519469470541685,
          -1.0948737981767018,
          -0.876337207144934,
          -0.876337207144934,
          0.34122380003205877,
          -0.9699957461585488,
          -0.3768249990723216,
          -1.2821908762039316,
          -0.2831664600587067,
          -1.0012152591630872,
          0.060248182991214295,
          -1.0012152591630872,
          -0.9075567201494722,
          -1.438288441226623,
          -0.5953615901040895,
          -1.5007274672356994,
          -0.6890201291177043,
          0.060248182991214295,
          -0.9075567201494722,
          -0.9387762331540105,
          -0.5641420770995512,
          -0.6265811031086278,
          -0.2519469470541685,
          -0.876337207144934,
          -0.3768249990723216,
          -0.6890201291177043,
          -0.8451176941403957,
          -0.5953615901040895,
          -0.314385973063245,
          -1.1885323371903167,
          -0.5641420770995512,
          -0.0646298690269388,
          -0.6265811031086278,
          -0.5017030510904746,
          -0.5329225640950129,
          -0.6265811031086278,
          -0.1895079210450919,
          -0.7826786681313191,
          -0.1895079210450919,
          -1.1260933111812401,
          -0.6265811031086278,
          -0.9387762331540105,
          0.24756526101844395,
          -0.7514591551267809,
          -1.0012152591630872,
          -1.6256055192538525,
          -0.5017030510904746,
          -1.1260933111812401,
          -0.0646298690269388,
          -1.0012152591630872,
          -0.5017030510904746,
          -0.6265811031086278,
          0.4348823390456736,
          -1.2509713631993933,
          0.12268720900029084,
          -1.0636542851721635,
          -0.12706889503601534,
          -0.7514591551267809,
          -0.3768249990723216,
          -0.4392640250813981,
          0.7470774690910563,
          -1.8753616232901589,
          0.37244331303659706,
          -0.314385973063245,
          -0.6890201291177043,
          -0.8138981811358574,
          -0.876337207144934,
          -0.6578006161131661,
          0.3100042870275205,
          -1.0012152591630872,
          0.12268720900029084,
          -1.1885323371903167,
          -0.6578006161131661,
          -1.0948737981767018,
          -0.314385973063245,
          -0.7514591551267809,
          -0.1895079210450919,
          -1.0636542851721635,
          -0.9387762331540105,
          -1.1885323371903167,
          -0.1895079210450919,
          -0.5017030510904746,
          -0.8451176941403957,
          -0.314385973063245,
          -0.6890201291177043,
          -0.6890201291177043,
          -0.2519469470541685,
          -1.0012152591630872,
          -0.5329225640950129,
          -0.12706889503601534,
          -0.5329225640950129,
          0.37244331303659706,
          1.8709799372544342,
          0.3100042870275205,
          1.8709799372544342,
          1.496345781199975,
          0.4348823390456736,
          0.7470774690910563,
          1.2465896771636689,
          0.24756526101844395,
          1.1841506511545923,
          0.5597603910638267,
          1.6836628592272047,
          0.5597603910638267,
          2.058297015281664,
          -0.0021908430178622556,
          2.058297015281664,
          -0.0646298690269388,
          2.6202482493633528,
          0.7470774690910563,
          1.4339067551908984,
          1.8709799372544342,
          0.9968335731273625,
          0.24756526101844395,
          1.0592725991364391,
          0.9968335731273625,
          1.1217116251455157,
          -0.12706889503601534,
          1.8085409112453577,
          0.49732136505475016,
          1.6836628592272047,
          1.3090287031727452,
          0.6221994170729033,
          1.0592725991364391,
          2.3080531193179703,
          1.1841506511545923,
          1.496345781199975,
          0.9343945471182861,
          1.3090287031727452,
          0.1851262350093674,
          1.4339067551908984,
          -0.314385973063245,
          1.8709799372544342,
          0.12268720900029084,
          0.6846384430819799,
          1.6836628592272047,
          0.8719555211092095,
          -0.0021908430178622556,
          1.496345781199975,
          1.1217116251455157,
          1.3714677291818218,
          0.8095164951001329,
          1.3714677291818218,
          0.24756526101844395,
          0.9968335731273625,
          0.8719555211092095,
          1.0592725991364391,
          0.12268720900029084,
          0.9968335731273625,
          0.3100042870275205,
          1.6836628592272047,
          -0.0021908430178622556,
          1.3714677291818218,
          0.24756526101844395,
          1.8085409112453577,
          0.6221994170729033,
          1.8709799372544342,
          0.5597603910638267,
          1.9958579892725874,
          0.6221994170729033,
          1.6836628592272047,
          0.6846384430819799,
          0.9968335731273625,
          1.1217116251455157,
          1.2465896771636689,
          0.6221994170729033,
          1.9958579892725874,
          0.49732136505475016,
          2.2456140933088937,
          0.6846384430819799,
          2.183175067299817,
          0.5285408780592884,
          1.5587848072090515,
          0.6534189300774416,
          1.4339067551908984,
          0.6846384430819799,
          1.746101885236281,
          0.49732136505475016,
          1.3714677291818218,
          0.8407360081046712,
          1.6836628592272047,
          0.9343945471182861,
          1.496345781199975,
          0.6846384430819799,
          1.8085409112453577,
          0.8095164951001329,
          1.2465896771636689,
          0.9031750341137478,
          0.8407360081046712,
          0.5285408780592884,
          1.3090287031727452,
          0.8095164951001329,
          1.746101885236281,
          0.9656140601228242,
          1.6212238332181281,
          0.6534189300774416,
          1.6212238332181281,
          0.6221994170729033,
          1.6212238332181281,
          0.4661018520502119,
          1.6212238332181281,
          0.9968335731273625,
          2.183175067299817,
          0.5597603910638267,
          1.6212238332181281,
          0.2163457480139057,
          2.058297015281664,
          0.8407360081046712,
          2.2456140933088937,
          0.9031750341137478,
          0.8095164951001329,
          1.9334189632635108,
          1.2465896771636689,
          1.496345781199975
         ],
         "xaxis": "x2",
         "yaxis": "y2"
        }
       ],
       "layout": {
        "barmode": "relative",
        "legend": {
         "title": {
          "text": "variable"
         },
         "tracegroupgap": 0
        },
        "margin": {
         "t": 60
        },
        "template": {
         "data": {
          "bar": [
           {
            "error_x": {
             "color": "#2a3f5f"
            },
            "error_y": {
             "color": "#2a3f5f"
            },
            "marker": {
             "line": {
              "color": "#E5ECF6",
              "width": 0.5
             }
            },
            "type": "bar"
           }
          ],
          "barpolar": [
           {
            "marker": {
             "line": {
              "color": "#E5ECF6",
              "width": 0.5
             }
            },
            "type": "barpolar"
           }
          ],
          "carpet": [
           {
            "aaxis": {
             "endlinecolor": "#2a3f5f",
             "gridcolor": "white",
             "linecolor": "white",
             "minorgridcolor": "white",
             "startlinecolor": "#2a3f5f"
            },
            "baxis": {
             "endlinecolor": "#2a3f5f",
             "gridcolor": "white",
             "linecolor": "white",
             "minorgridcolor": "white",
             "startlinecolor": "#2a3f5f"
            },
            "type": "carpet"
           }
          ],
          "choropleth": [
           {
            "colorbar": {
             "outlinewidth": 0,
             "ticks": ""
            },
            "type": "choropleth"
           }
          ],
          "contour": [
           {
            "colorbar": {
             "outlinewidth": 0,
             "ticks": ""
            },
            "colorscale": [
             [
              0,
              "#0d0887"
             ],
             [
              0.1111111111111111,
              "#46039f"
             ],
             [
              0.2222222222222222,
              "#7201a8"
             ],
             [
              0.3333333333333333,
              "#9c179e"
             ],
             [
              0.4444444444444444,
              "#bd3786"
             ],
             [
              0.5555555555555556,
              "#d8576b"
             ],
             [
              0.6666666666666666,
              "#ed7953"
             ],
             [
              0.7777777777777778,
              "#fb9f3a"
             ],
             [
              0.8888888888888888,
              "#fdca26"
             ],
             [
              1,
              "#f0f921"
             ]
            ],
            "type": "contour"
           }
          ],
          "contourcarpet": [
           {
            "colorbar": {
             "outlinewidth": 0,
             "ticks": ""
            },
            "type": "contourcarpet"
           }
          ],
          "heatmap": [
           {
            "colorbar": {
             "outlinewidth": 0,
             "ticks": ""
            },
            "colorscale": [
             [
              0,
              "#0d0887"
             ],
             [
              0.1111111111111111,
              "#46039f"
             ],
             [
              0.2222222222222222,
              "#7201a8"
             ],
             [
              0.3333333333333333,
              "#9c179e"
             ],
             [
              0.4444444444444444,
              "#bd3786"
             ],
             [
              0.5555555555555556,
              "#d8576b"
             ],
             [
              0.6666666666666666,
              "#ed7953"
             ],
             [
              0.7777777777777778,
              "#fb9f3a"
             ],
             [
              0.8888888888888888,
              "#fdca26"
             ],
             [
              1,
              "#f0f921"
             ]
            ],
            "type": "heatmap"
           }
          ],
          "heatmapgl": [
           {
            "colorbar": {
             "outlinewidth": 0,
             "ticks": ""
            },
            "colorscale": [
             [
              0,
              "#0d0887"
             ],
             [
              0.1111111111111111,
              "#46039f"
             ],
             [
              0.2222222222222222,
              "#7201a8"
             ],
             [
              0.3333333333333333,
              "#9c179e"
             ],
             [
              0.4444444444444444,
              "#bd3786"
             ],
             [
              0.5555555555555556,
              "#d8576b"
             ],
             [
              0.6666666666666666,
              "#ed7953"
             ],
             [
              0.7777777777777778,
              "#fb9f3a"
             ],
             [
              0.8888888888888888,
              "#fdca26"
             ],
             [
              1,
              "#f0f921"
             ]
            ],
            "type": "heatmapgl"
           }
          ],
          "histogram": [
           {
            "marker": {
             "colorbar": {
              "outlinewidth": 0,
              "ticks": ""
             }
            },
            "type": "histogram"
           }
          ],
          "histogram2d": [
           {
            "colorbar": {
             "outlinewidth": 0,
             "ticks": ""
            },
            "colorscale": [
             [
              0,
              "#0d0887"
             ],
             [
              0.1111111111111111,
              "#46039f"
             ],
             [
              0.2222222222222222,
              "#7201a8"
             ],
             [
              0.3333333333333333,
              "#9c179e"
             ],
             [
              0.4444444444444444,
              "#bd3786"
             ],
             [
              0.5555555555555556,
              "#d8576b"
             ],
             [
              0.6666666666666666,
              "#ed7953"
             ],
             [
              0.7777777777777778,
              "#fb9f3a"
             ],
             [
              0.8888888888888888,
              "#fdca26"
             ],
             [
              1,
              "#f0f921"
             ]
            ],
            "type": "histogram2d"
           }
          ],
          "histogram2dcontour": [
           {
            "colorbar": {
             "outlinewidth": 0,
             "ticks": ""
            },
            "colorscale": [
             [
              0,
              "#0d0887"
             ],
             [
              0.1111111111111111,
              "#46039f"
             ],
             [
              0.2222222222222222,
              "#7201a8"
             ],
             [
              0.3333333333333333,
              "#9c179e"
             ],
             [
              0.4444444444444444,
              "#bd3786"
             ],
             [
              0.5555555555555556,
              "#d8576b"
             ],
             [
              0.6666666666666666,
              "#ed7953"
             ],
             [
              0.7777777777777778,
              "#fb9f3a"
             ],
             [
              0.8888888888888888,
              "#fdca26"
             ],
             [
              1,
              "#f0f921"
             ]
            ],
            "type": "histogram2dcontour"
           }
          ],
          "mesh3d": [
           {
            "colorbar": {
             "outlinewidth": 0,
             "ticks": ""
            },
            "type": "mesh3d"
           }
          ],
          "parcoords": [
           {
            "line": {
             "colorbar": {
              "outlinewidth": 0,
              "ticks": ""
             }
            },
            "type": "parcoords"
           }
          ],
          "pie": [
           {
            "automargin": true,
            "type": "pie"
           }
          ],
          "scatter": [
           {
            "marker": {
             "colorbar": {
              "outlinewidth": 0,
              "ticks": ""
             }
            },
            "type": "scatter"
           }
          ],
          "scatter3d": [
           {
            "line": {
             "colorbar": {
              "outlinewidth": 0,
              "ticks": ""
             }
            },
            "marker": {
             "colorbar": {
              "outlinewidth": 0,
              "ticks": ""
             }
            },
            "type": "scatter3d"
           }
          ],
          "scattercarpet": [
           {
            "marker": {
             "colorbar": {
              "outlinewidth": 0,
              "ticks": ""
             }
            },
            "type": "scattercarpet"
           }
          ],
          "scattergeo": [
           {
            "marker": {
             "colorbar": {
              "outlinewidth": 0,
              "ticks": ""
             }
            },
            "type": "scattergeo"
           }
          ],
          "scattergl": [
           {
            "marker": {
             "colorbar": {
              "outlinewidth": 0,
              "ticks": ""
             }
            },
            "type": "scattergl"
           }
          ],
          "scattermapbox": [
           {
            "marker": {
             "colorbar": {
              "outlinewidth": 0,
              "ticks": ""
             }
            },
            "type": "scattermapbox"
           }
          ],
          "scatterpolar": [
           {
            "marker": {
             "colorbar": {
              "outlinewidth": 0,
              "ticks": ""
             }
            },
            "type": "scatterpolar"
           }
          ],
          "scatterpolargl": [
           {
            "marker": {
             "colorbar": {
              "outlinewidth": 0,
              "ticks": ""
             }
            },
            "type": "scatterpolargl"
           }
          ],
          "scatterternary": [
           {
            "marker": {
             "colorbar": {
              "outlinewidth": 0,
              "ticks": ""
             }
            },
            "type": "scatterternary"
           }
          ],
          "surface": [
           {
            "colorbar": {
             "outlinewidth": 0,
             "ticks": ""
            },
            "colorscale": [
             [
              0,
              "#0d0887"
             ],
             [
              0.1111111111111111,
              "#46039f"
             ],
             [
              0.2222222222222222,
              "#7201a8"
             ],
             [
              0.3333333333333333,
              "#9c179e"
             ],
             [
              0.4444444444444444,
              "#bd3786"
             ],
             [
              0.5555555555555556,
              "#d8576b"
             ],
             [
              0.6666666666666666,
              "#ed7953"
             ],
             [
              0.7777777777777778,
              "#fb9f3a"
             ],
             [
              0.8888888888888888,
              "#fdca26"
             ],
             [
              1,
              "#f0f921"
             ]
            ],
            "type": "surface"
           }
          ],
          "table": [
           {
            "cells": {
             "fill": {
              "color": "#EBF0F8"
             },
             "line": {
              "color": "white"
             }
            },
            "header": {
             "fill": {
              "color": "#C8D4E3"
             },
             "line": {
              "color": "white"
             }
            },
            "type": "table"
           }
          ]
         },
         "layout": {
          "annotationdefaults": {
           "arrowcolor": "#2a3f5f",
           "arrowhead": 0,
           "arrowwidth": 1
          },
          "autotypenumbers": "strict",
          "coloraxis": {
           "colorbar": {
            "outlinewidth": 0,
            "ticks": ""
           }
          },
          "colorscale": {
           "diverging": [
            [
             0,
             "#8e0152"
            ],
            [
             0.1,
             "#c51b7d"
            ],
            [
             0.2,
             "#de77ae"
            ],
            [
             0.3,
             "#f1b6da"
            ],
            [
             0.4,
             "#fde0ef"
            ],
            [
             0.5,
             "#f7f7f7"
            ],
            [
             0.6,
             "#e6f5d0"
            ],
            [
             0.7,
             "#b8e186"
            ],
            [
             0.8,
             "#7fbc41"
            ],
            [
             0.9,
             "#4d9221"
            ],
            [
             1,
             "#276419"
            ]
           ],
           "sequential": [
            [
             0,
             "#0d0887"
            ],
            [
             0.1111111111111111,
             "#46039f"
            ],
            [
             0.2222222222222222,
             "#7201a8"
            ],
            [
             0.3333333333333333,
             "#9c179e"
            ],
            [
             0.4444444444444444,
             "#bd3786"
            ],
            [
             0.5555555555555556,
             "#d8576b"
            ],
            [
             0.6666666666666666,
             "#ed7953"
            ],
            [
             0.7777777777777778,
             "#fb9f3a"
            ],
            [
             0.8888888888888888,
             "#fdca26"
            ],
            [
             1,
             "#f0f921"
            ]
           ],
           "sequentialminus": [
            [
             0,
             "#0d0887"
            ],
            [
             0.1111111111111111,
             "#46039f"
            ],
            [
             0.2222222222222222,
             "#7201a8"
            ],
            [
             0.3333333333333333,
             "#9c179e"
            ],
            [
             0.4444444444444444,
             "#bd3786"
            ],
            [
             0.5555555555555556,
             "#d8576b"
            ],
            [
             0.6666666666666666,
             "#ed7953"
            ],
            [
             0.7777777777777778,
             "#fb9f3a"
            ],
            [
             0.8888888888888888,
             "#fdca26"
            ],
            [
             1,
             "#f0f921"
            ]
           ]
          },
          "colorway": [
           "#636efa",
           "#EF553B",
           "#00cc96",
           "#ab63fa",
           "#FFA15A",
           "#19d3f3",
           "#FF6692",
           "#B6E880",
           "#FF97FF",
           "#FECB52"
          ],
          "font": {
           "color": "#2a3f5f"
          },
          "geo": {
           "bgcolor": "white",
           "lakecolor": "white",
           "landcolor": "#E5ECF6",
           "showlakes": true,
           "showland": true,
           "subunitcolor": "white"
          },
          "hoverlabel": {
           "align": "left"
          },
          "hovermode": "closest",
          "mapbox": {
           "style": "light"
          },
          "paper_bgcolor": "white",
          "plot_bgcolor": "#E5ECF6",
          "polar": {
           "angularaxis": {
            "gridcolor": "white",
            "linecolor": "white",
            "ticks": ""
           },
           "bgcolor": "#E5ECF6",
           "radialaxis": {
            "gridcolor": "white",
            "linecolor": "white",
            "ticks": ""
           }
          },
          "scene": {
           "xaxis": {
            "backgroundcolor": "#E5ECF6",
            "gridcolor": "white",
            "gridwidth": 2,
            "linecolor": "white",
            "showbackground": true,
            "ticks": "",
            "zerolinecolor": "white"
           },
           "yaxis": {
            "backgroundcolor": "#E5ECF6",
            "gridcolor": "white",
            "gridwidth": 2,
            "linecolor": "white",
            "showbackground": true,
            "ticks": "",
            "zerolinecolor": "white"
           },
           "zaxis": {
            "backgroundcolor": "#E5ECF6",
            "gridcolor": "white",
            "gridwidth": 2,
            "linecolor": "white",
            "showbackground": true,
            "ticks": "",
            "zerolinecolor": "white"
           }
          },
          "shapedefaults": {
           "line": {
            "color": "#2a3f5f"
           }
          },
          "ternary": {
           "aaxis": {
            "gridcolor": "white",
            "linecolor": "white",
            "ticks": ""
           },
           "baxis": {
            "gridcolor": "white",
            "linecolor": "white",
            "ticks": ""
           },
           "bgcolor": "#E5ECF6",
           "caxis": {
            "gridcolor": "white",
            "linecolor": "white",
            "ticks": ""
           }
          },
          "title": {
           "x": 0.05
          },
          "xaxis": {
           "automargin": true,
           "gridcolor": "white",
           "linecolor": "white",
           "ticks": "",
           "title": {
            "standoff": 15
           },
           "zerolinecolor": "white",
           "zerolinewidth": 2
          },
          "yaxis": {
           "automargin": true,
           "gridcolor": "white",
           "linecolor": "white",
           "ticks": "",
           "title": {
            "standoff": 15
           },
           "zerolinecolor": "white",
           "zerolinewidth": 2
          }
         }
        },
        "xaxis": {
         "anchor": "y",
         "domain": [
          0,
          1
         ],
         "title": {
          "text": "value"
         }
        },
        "xaxis2": {
         "anchor": "y2",
         "domain": [
          0,
          1
         ],
         "matches": "x",
         "showgrid": true,
         "showticklabels": false
        },
        "yaxis": {
         "anchor": "x",
         "domain": [
          0,
          0.7326
         ],
         "title": {
          "text": "count"
         }
        },
        "yaxis2": {
         "anchor": "x2",
         "domain": [
          0.7426,
          1
         ],
         "matches": "y2",
         "showgrid": false,
         "showline": false,
         "showticklabels": false,
         "ticks": ""
        }
       }
      },
      "text/html": [
       "<div>                            <div id=\"669d6a6f-24f1-49a2-8412-e3217e2ddad1\" class=\"plotly-graph-div\" style=\"height:525px; width:100%;\"></div>            <script type=\"text/javascript\">                require([\"plotly\"], function(Plotly) {                    window.PLOTLYENV=window.PLOTLYENV || {};                                    if (document.getElementById(\"669d6a6f-24f1-49a2-8412-e3217e2ddad1\")) {                    Plotly.newPlot(                        \"669d6a6f-24f1-49a2-8412-e3217e2ddad1\",                        [{\"alignmentgroup\": \"True\", \"bingroup\": \"x\", \"hovertemplate\": \"variable=bill_length_mm<br>value=%{x}<br>count=%{y}<extra></extra>\", \"legendgroup\": \"bill_length_mm\", \"marker\": {\"color\": \"#636efa\"}, \"name\": \"bill_length_mm\", \"nbinsx\": 50, \"offsetgroup\": \"bill_length_mm\", \"orientation\": \"v\", \"showlegend\": true, \"type\": \"histogram\", \"x\": [-0.8844987420334891, -0.8111257337803929, -0.6643797172742005, -1.3247367915520676, -0.8478122379069417, -0.9211852461600378, -0.8661554899702147, -1.8016613451971948, -0.3525444321985401, -1.1229610188560535, -1.1229610188560535, -0.5176337007680069, -0.9762150023498597, -1.7099450848808242, -1.343080043615342, -0.9578717502865853, -0.2608281718821695, -1.746631589007373, 0.3811856503324245, -1.1229610188560535, -1.1413042709193264, -1.4714828080582614, -1.0495880106029558, -0.9395284982233122, -1.5815423204379062, -0.6093499610843774, -0.6276932131476518, -1.104617766792779, -0.6276932131476518, -0.8111257337803929, -1.233020531235697, -0.8111257337803929, -0.5543202048945556, -1.3797665477418908, -0.8661554899702147, -0.9395284982233122, -0.3158579280719913, -1.1596475229826009, -0.7560959775905711, -1.3614232956786163, -0.5726634569578299, -1.453139555994987, 0.03266386113021659, -1.2697070353622457, -0.7927824817171185, -0.5176337007680069, -1.1779907750458751, -1.453139555994987, -0.2975146760087182, -0.7927824817171185, -0.7010662214007479, -1.636572076627728, -0.3525444321985401, -1.7282883369440987, -0.462603944578185, -0.9028419940967635, -0.6093499610843774, -1.3614232956786163, -1.1596475229826009, -1.5081693121848088, -0.4809471966414594, -1.1596475229826009, -0.5176337007680069, -1.3797665477418908, -0.42591744045163626, -1.5448558163113575, -0.5176337007680069, -1.4714828080582614, -0.3892309363250888, -1.9117208575768398, -0.7744392296538442, -0.7927824817171185, 0.34449914620587574, -1.5448558163113575, -0.20579841569234766, -0.5543202048945556, -1.233020531235697, -1.4164530518684382, -0.3342011801352657, -1.7099450848808242, -0.1874551636290733, -1.3247367915520676, -1.6182288245644536, -1.2146772791724239, -0.4809471966414594, -1.398109799805165, -1.2880502874255202, -1.031244758539683, -0.9211852461600378, -1.5081693121848088, -0.5176337007680069, -1.8200045972604693, -0.7927824817171185, -1.4164530518684382, -0.5726634569578299, -1.0679312626662303, -0.6643797172742005, -1.985093865829936, -0.1324254074392502, -1.636572076627728, -0.5359769528312812, -1.1413042709193264, -1.1229610188560535, -1.104617766792779, -0.7744392296538442, -0.9762150023498597, -1.0495880106029558, -1.0679312626662303, -0.1324254074392502, -1.0679312626662303, 0.3078126420793283, -0.7744392296538442, -0.3158579280719913, -0.7927824817171185, -0.22414166775562075, -0.9762150023498597, -1.2146772791724239, -1.5081693121848088, -0.5176337007680069, -1.4164530518684382, -1.1413042709193264, -0.6827229693374736, -0.462603944578185, -1.5998855725011794, -0.6093499610843774, -0.9395284982233122, -0.4442606925149106, -0.9028419940967635, 0.03266386113021659, -0.9945582544131341, -0.15076865950252455, -1.3063935394887944, -1.1779907750458751, -1.0679312626662303, -0.5176337007680069, -1.526512564248083, -0.6827229693374736, -1.2697070353622457, -0.7744392296538442, -0.6827229693374736, -0.6093499610843774, -2.168526386462677, -0.591006709021103, -1.2146772791724239, -0.9028419940967635, -0.8661554899702147, -1.343080043615342, -1.453139555994987, -1.1229610188560535, -1.453139555994987, -0.4442606925149106, 0.47290191064879505, 1.114915732863389, 1.353378009685952, 0.27112613795277957, 1.6101835385717906, 0.23443963382623212, 0.3995289023956989, 1.353378009685952, 0.3811856503324245, 1.353378009685952, 0.49124516271206947, 1.4267510179390495, 0.5646181709651656, 1.4817807741288713, 0.3628423982691501, 1.2066319931797596, 1.1699454890532108, 2.5823758979253184, 0.4545586585855207, 0.9681697163571966, -0.27917142394544386, 0.8397669519142773, -0.1324254074392502, 1.224975245243034, 0.5095884147753438, 1.4817807741288713, 1.2066319931797596, 1.0231994725470186, 0.4545586585855207, 1.6285267906350638, -0.5543202048945556, 1.8853323195209024, -0.2608281718821695, 1.2983482534961301, 1.0598859766735673, 0.6563344312815362, 0.6746776833448106, 1.4817807741288713, 0.5462749189018913, 1.756929555077983, 0.9314832122306479, 0.41787215445897324, 1.280005001432856, 0.28946939001605393, 1.280005001432856, 1.2616617493695814, 1.1332589849266634, 0.9314832122306479, 1.3900645138125007, 1.0782292287368402, 0.7663939436611812, 1.3717212617492265, 0.32615589414260265, 1.2433184973063083, -0.2608281718821695, 1.51846727825542, 0.23443963382623212, 0.9865129684204698, 1.151602236989938, 0.3078126420793283, 1.463437522065597, 0.5279316668386169, 0.32615589414260265, 2.178824352533287, -0.07739565124942835, 1.0415427246102928, 1.2616617493695814, 1.151602236989938, 0.3995289023956989, 1.114915732863389, 0.8764534560408261, 1.114915732863389, 0.6746776833448106, 0.47290191064879505, 0.27112613795277957, 0.5095884147753438, -0.1140821553759771, 0.5279316668386169, -0.5543202048945556, 0.9314832122306479, 0.28946939001605393, 0.8214236998510029, 0.34449914620587574, 0.9865129684204698, -0.3525444321985401, 0.9681697163571966, 0.41787215445897324, 0.8764534560408261, 1.151602236989938, 0.21609638176295773, 0.47290191064879505, 0.43621540652224633, -0.1874551636290733, 0.3995289023956989, 0.10603686938331279, 0.711364187471358, 0.7847371957244555, 1.114915732863389, 0.6196479271549875, -0.20579841569234766, 0.21609638176295773, 2.875867930937704, 0.9498264642939223, 0.8214236998510029, -0.2424849198188951, 0.08769361732003841, 0.014320609066942217, 0.8764534560408261, -0.22414166775562075, 1.0415427246102928, 0.2527828858895052, 1.0415427246102928, 1.2066319931797596, -0.05905239918615398, 0.28946939001605393, 1.2066319931797596, 0.17940987763640898, 0.23443963382623212, 0.49124516271206947, 0.8397669519142773, 0.21609638176295773, 1.1332589849266634, 0.47290191064879505, 0.19775312969968337, -0.022365895059606532, 0.28946939001605393, -0.1324254074392502, 1.1882887411164853, 0.2527828858895052, 0.41787215445897324, 0.32615589414260265, 1.9036755715841756, 0.34449914620587574, 1.0782292287368402, 0.41787215445897324, 1.0231994725470186, -0.07739565124942835, 1.2433184973063083, 0.693020935408085, 0.4545586585855207, 0.7847371957244555, 0.47290191064879505, 0.4545586585855207, 0.8581102039775518, 0.6563344312815362, 1.3166915055594046, 0.23443963382623212, 0.23443963382623212, 0.9498264642939223, 1.573497034445242, 0.6379911792182619, 1.114915732863389, 0.17940987763640898, 1.2616617493695814, -0.09573890331270273, 1.353378009685952, 0.6563344312815362, 1.5001240261921458, 0.6563344312815362, 1.51846727825542, 0.28946939001605393, 1.0231994725470186, 0.10603686938331279, 1.2616617493695814, 1.0048562204837441, 0.5462749189018913, 0.8214236998510029, 1.3166915055594046, 0.8397669519142773, 2.1971676045965616, 0.6013046750917144, 0.9498264642939223, 0.6196479271549875, 0.5279316668386169, -0.4075741883883619, 1.7385863030147086, -0.1140821553759771, 0.7663939436611812, 1.2066319931797596, 1.0782292287368402, -0.07739565124942835, 1.3900645138125007, 0.41787215445897324, 2.0504215880903693, 0.10603686938331279, 0.8947967081040992, 0.6013046750917144, 0.5279316668386169, 1.1882887411164853, 0.23443963382623212, 1.0965724808001147], \"xaxis\": \"x\", \"yaxis\": \"y\"}, {\"alignmentgroup\": \"True\", \"hovertemplate\": \"variable=bill_length_mm<br>value=%{x}<extra></extra>\", \"legendgroup\": \"bill_length_mm\", \"marker\": {\"color\": \"#636efa\"}, \"name\": \"bill_length_mm\", \"notched\": true, \"offsetgroup\": \"bill_length_mm\", \"showlegend\": false, \"type\": \"box\", \"x\": [-0.8844987420334891, -0.8111257337803929, -0.6643797172742005, -1.3247367915520676, -0.8478122379069417, -0.9211852461600378, -0.8661554899702147, -1.8016613451971948, -0.3525444321985401, -1.1229610188560535, -1.1229610188560535, -0.5176337007680069, -0.9762150023498597, -1.7099450848808242, -1.343080043615342, -0.9578717502865853, -0.2608281718821695, -1.746631589007373, 0.3811856503324245, -1.1229610188560535, -1.1413042709193264, -1.4714828080582614, -1.0495880106029558, -0.9395284982233122, -1.5815423204379062, -0.6093499610843774, -0.6276932131476518, -1.104617766792779, -0.6276932131476518, -0.8111257337803929, -1.233020531235697, -0.8111257337803929, -0.5543202048945556, -1.3797665477418908, -0.8661554899702147, -0.9395284982233122, -0.3158579280719913, -1.1596475229826009, -0.7560959775905711, -1.3614232956786163, -0.5726634569578299, -1.453139555994987, 0.03266386113021659, -1.2697070353622457, -0.7927824817171185, -0.5176337007680069, -1.1779907750458751, -1.453139555994987, -0.2975146760087182, -0.7927824817171185, -0.7010662214007479, -1.636572076627728, -0.3525444321985401, -1.7282883369440987, -0.462603944578185, -0.9028419940967635, -0.6093499610843774, -1.3614232956786163, -1.1596475229826009, -1.5081693121848088, -0.4809471966414594, -1.1596475229826009, -0.5176337007680069, -1.3797665477418908, -0.42591744045163626, -1.5448558163113575, -0.5176337007680069, -1.4714828080582614, -0.3892309363250888, -1.9117208575768398, -0.7744392296538442, -0.7927824817171185, 0.34449914620587574, -1.5448558163113575, -0.20579841569234766, -0.5543202048945556, -1.233020531235697, -1.4164530518684382, -0.3342011801352657, -1.7099450848808242, -0.1874551636290733, -1.3247367915520676, -1.6182288245644536, -1.2146772791724239, -0.4809471966414594, -1.398109799805165, -1.2880502874255202, -1.031244758539683, -0.9211852461600378, -1.5081693121848088, -0.5176337007680069, -1.8200045972604693, -0.7927824817171185, -1.4164530518684382, -0.5726634569578299, -1.0679312626662303, -0.6643797172742005, -1.985093865829936, -0.1324254074392502, -1.636572076627728, -0.5359769528312812, -1.1413042709193264, -1.1229610188560535, -1.104617766792779, -0.7744392296538442, -0.9762150023498597, -1.0495880106029558, -1.0679312626662303, -0.1324254074392502, -1.0679312626662303, 0.3078126420793283, -0.7744392296538442, -0.3158579280719913, -0.7927824817171185, -0.22414166775562075, -0.9762150023498597, -1.2146772791724239, -1.5081693121848088, -0.5176337007680069, -1.4164530518684382, -1.1413042709193264, -0.6827229693374736, -0.462603944578185, -1.5998855725011794, -0.6093499610843774, -0.9395284982233122, -0.4442606925149106, -0.9028419940967635, 0.03266386113021659, -0.9945582544131341, -0.15076865950252455, -1.3063935394887944, -1.1779907750458751, -1.0679312626662303, -0.5176337007680069, -1.526512564248083, -0.6827229693374736, -1.2697070353622457, -0.7744392296538442, -0.6827229693374736, -0.6093499610843774, -2.168526386462677, -0.591006709021103, -1.2146772791724239, -0.9028419940967635, -0.8661554899702147, -1.343080043615342, -1.453139555994987, -1.1229610188560535, -1.453139555994987, -0.4442606925149106, 0.47290191064879505, 1.114915732863389, 1.353378009685952, 0.27112613795277957, 1.6101835385717906, 0.23443963382623212, 0.3995289023956989, 1.353378009685952, 0.3811856503324245, 1.353378009685952, 0.49124516271206947, 1.4267510179390495, 0.5646181709651656, 1.4817807741288713, 0.3628423982691501, 1.2066319931797596, 1.1699454890532108, 2.5823758979253184, 0.4545586585855207, 0.9681697163571966, -0.27917142394544386, 0.8397669519142773, -0.1324254074392502, 1.224975245243034, 0.5095884147753438, 1.4817807741288713, 1.2066319931797596, 1.0231994725470186, 0.4545586585855207, 1.6285267906350638, -0.5543202048945556, 1.8853323195209024, -0.2608281718821695, 1.2983482534961301, 1.0598859766735673, 0.6563344312815362, 0.6746776833448106, 1.4817807741288713, 0.5462749189018913, 1.756929555077983, 0.9314832122306479, 0.41787215445897324, 1.280005001432856, 0.28946939001605393, 1.280005001432856, 1.2616617493695814, 1.1332589849266634, 0.9314832122306479, 1.3900645138125007, 1.0782292287368402, 0.7663939436611812, 1.3717212617492265, 0.32615589414260265, 1.2433184973063083, -0.2608281718821695, 1.51846727825542, 0.23443963382623212, 0.9865129684204698, 1.151602236989938, 0.3078126420793283, 1.463437522065597, 0.5279316668386169, 0.32615589414260265, 2.178824352533287, -0.07739565124942835, 1.0415427246102928, 1.2616617493695814, 1.151602236989938, 0.3995289023956989, 1.114915732863389, 0.8764534560408261, 1.114915732863389, 0.6746776833448106, 0.47290191064879505, 0.27112613795277957, 0.5095884147753438, -0.1140821553759771, 0.5279316668386169, -0.5543202048945556, 0.9314832122306479, 0.28946939001605393, 0.8214236998510029, 0.34449914620587574, 0.9865129684204698, -0.3525444321985401, 0.9681697163571966, 0.41787215445897324, 0.8764534560408261, 1.151602236989938, 0.21609638176295773, 0.47290191064879505, 0.43621540652224633, -0.1874551636290733, 0.3995289023956989, 0.10603686938331279, 0.711364187471358, 0.7847371957244555, 1.114915732863389, 0.6196479271549875, -0.20579841569234766, 0.21609638176295773, 2.875867930937704, 0.9498264642939223, 0.8214236998510029, -0.2424849198188951, 0.08769361732003841, 0.014320609066942217, 0.8764534560408261, -0.22414166775562075, 1.0415427246102928, 0.2527828858895052, 1.0415427246102928, 1.2066319931797596, -0.05905239918615398, 0.28946939001605393, 1.2066319931797596, 0.17940987763640898, 0.23443963382623212, 0.49124516271206947, 0.8397669519142773, 0.21609638176295773, 1.1332589849266634, 0.47290191064879505, 0.19775312969968337, -0.022365895059606532, 0.28946939001605393, -0.1324254074392502, 1.1882887411164853, 0.2527828858895052, 0.41787215445897324, 0.32615589414260265, 1.9036755715841756, 0.34449914620587574, 1.0782292287368402, 0.41787215445897324, 1.0231994725470186, -0.07739565124942835, 1.2433184973063083, 0.693020935408085, 0.4545586585855207, 0.7847371957244555, 0.47290191064879505, 0.4545586585855207, 0.8581102039775518, 0.6563344312815362, 1.3166915055594046, 0.23443963382623212, 0.23443963382623212, 0.9498264642939223, 1.573497034445242, 0.6379911792182619, 1.114915732863389, 0.17940987763640898, 1.2616617493695814, -0.09573890331270273, 1.353378009685952, 0.6563344312815362, 1.5001240261921458, 0.6563344312815362, 1.51846727825542, 0.28946939001605393, 1.0231994725470186, 0.10603686938331279, 1.2616617493695814, 1.0048562204837441, 0.5462749189018913, 0.8214236998510029, 1.3166915055594046, 0.8397669519142773, 2.1971676045965616, 0.6013046750917144, 0.9498264642939223, 0.6196479271549875, 0.5279316668386169, -0.4075741883883619, 1.7385863030147086, -0.1140821553759771, 0.7663939436611812, 1.2066319931797596, 1.0782292287368402, -0.07739565124942835, 1.3900645138125007, 0.41787215445897324, 2.0504215880903693, 0.10603686938331279, 0.8947967081040992, 0.6013046750917144, 0.5279316668386169, 1.1882887411164853, 0.23443963382623212, 1.0965724808001147], \"xaxis\": \"x2\", \"yaxis\": \"y2\"}, {\"alignmentgroup\": \"True\", \"bingroup\": \"x\", \"hovertemplate\": \"variable=bill_depth_mm<br>value=%{x}<br>count=%{y}<extra></extra>\", \"legendgroup\": \"bill_depth_mm\", \"marker\": {\"color\": \"#EF553B\"}, \"name\": \"bill_depth_mm\", \"nbinsx\": 50, \"offsetgroup\": \"bill_depth_mm\", \"orientation\": \"v\", \"showlegend\": true, \"type\": \"histogram\", \"x\": [0.7854492273303164, 0.12618789738683958, 0.43046235736075256, 1.0897236873042295, 1.7489850172477064, 0.32903753736944885, 1.2418609172911859, 0.4811747673564053, 1.546135377265097, -0.025949332600115085, 0.07547548739118863, 0.22761271737814512, 2.0532594772216175, 2.0025470672259664, 0.32903753736944885, 0.937586457317273, 1.7996974272433572, 0.63331199734336, 2.205396707208574, 0.582599587347709, 0.7854492273303164, 1.0390112773085767, 0.4811747673564053, 0.024763077395535873, 0.8868740473216202, 0.7347368173346656, 0.3797499473650998, 0.7347368173346656, 0.8868740473216202, -0.22879897258272433, 0.4811747673564053, 0.32903753736944885, 0.8868740473216202, -0.07666174259576784, 2.0025470672259664, 1.4447105572737933, 0.6840244073390127, 1.0897236873042295, 0.9882988673129257, 0.43046235736075256, 0.63331199734336, 0.6840244073390127, 1.292573327286837, -0.1273741525914206, 0.8361616373259693, 0.937586457317273, 0.8868740473216202, 0.3797499473650998, 2.0532594772216175, 0.27832512737379606, 0.8868740473216202, 0.3797499473650998, 1.1911485072955332, 0.4811747673564053, 0.7347368173346656, 0.17690030738249235, 0.8361616373259693, -0.27951138257837527, 0.9882988673129257, -0.1273741525914206, 2.0025470672259664, -0.07666174259576784, 0.5318871773520563, -0.025949332600115085, 0.43046235736075256, -0.4823610225609845, 0.9882988673129257, -0.27951138257837527, 1.1404360972998804, 0.937586457317273, 0.63331199734336, 0.024763077395535873, 0.8868740473216202, 0.17690030738249235, 0.6840244073390127, -0.17808656258707156, 1.1404360972998804, -0.5330734325566355, 0.9882988673129257, 0.024763077395535873, 0.22761271737814512, 0.8361616373259693, 1.1404360972998804, 0.32903753736944885, 1.5968477872607498, 1.1911485072955332, 0.7347368173346656, 1.0390112773085767, 0.8361616373259693, 0.43046235736075256, 0.4811747673564053, -0.025949332600115085, 0.4811747673564053, 0.07547548739118863, 0.8868740473216202, 0.7347368173346656, 0.6840244073390127, -0.5330734325566355, 0.6840244073390127, 0.3797499473650998, 1.4447105572737933, -0.5837858425522883, 1.4447105572737933, 0.7347368173346656, 0.8868740473216202, 0.024763077395535873, 1.4447105572737933, -0.07666174259576784, 0.937586457317273, -0.33022379257402806, 1.5968477872607498, 0.27832512737379606, 1.1911485072955332, 1.7996974272433572, 0.582599587347709, -0.07666174259576784, 1.6982726072520535, -0.07666174259576784, 0.7347368173346656, 0.024763077395535873, 1.3432857372824896, -0.07666174259576784, 0.6840244073390127, -0.6344982525479401, 0.937586457317273, 0.22761271737814512, 0.582599587347709, -0.025949332600115085, 0.43046235736075256, 0.3797499473650998, 1.0390112773085767, 0.6840244073390127, 0.6840244073390127, 0.22761271737814512, 0.17690030738249235, 0.17690030738249235, 1.4954229672694461, -0.33022379257402806, 0.3797499473650998, -0.025949332600115085, 0.024763077395535873, -0.8373478925305484, -0.07666174259576784, -0.17808656258707156, 0.7854492273303164, 0.7347368173346656, 0.63331199734336, 0.32903753736944885, 0.4811747673564053, -0.025949332600115085, 0.6840244073390127, 0.3797499473650998, 1.1911485072955332, 1.0390112773085767, 0.7854492273303164, 1.3432857372824896, 0.32903753736944885, 0.5318871773520563, 0.5318871773520563, 0.8868740473216202, 1.3939981472781406, 0.32903753736944885, 1.5968477872607498, 0.07547548739118863, 0.4811747673564053, -0.025949332600115085, 1.2418609172911859, 1.4447105572737933, 0.32903753736944885, 0.7347368173346656, 0.5318871773520563, 0.07547548739118863, 0.17690030738249235, -0.27951138257837527, 1.1404360972998804, 0.3797499473650998, 0.937586457317273, 0.63331199734336, 0.937586457317273, 0.32903753736944885, 1.4447105572737933, -0.27951138257837527, 1.85040983723901, -0.22879897258272433, 0.8361616373259693, 0.7347368173346656, -0.17808656258707156, 0.582599587347709, 1.7996974272433572, -0.27951138257837527, 1.3939981472781406, 1.1911485072955332, 0.17690030738249235, 0.9882988673129257, -0.07666174259576784, 0.3797499473650998, 0.6840244073390127, 0.3797499473650998, 1.2418609172911859, 0.7854492273303164, 0.07547548739118863, -0.3809362025696808, 0.937586457317273, 0.07547548739118863, 1.292573327286837, 0.07547548739118863, 0.8361616373259693, -0.27951138257837527, 1.3939981472781406, 0.8361616373259693, 1.1404360972998804, 1.1911485072955332, -0.33022379257402806, -0.07666174259576784, 1.3432857372824896, 0.4811747673564053, 0.5318871773520563, 0.937586457317273, 0.7854492273303164, -2.003733322430546, -0.43164861256533177, -1.5473216324696772, -0.9894851225175049, -1.3444719924870687, -1.8515960924435892, -1.293759582491417, -0.9387727125218521, -1.902308502439241, -0.8880603025262003, -1.7501712724522855, -0.5330734325566355, -1.7501712724522855, -1.293759582491417, -1.293759582491417, -0.7359230725392447, -1.8515960924435892, -0.9894851225175049, -1.3444719924870687, -1.0401975325131567, -1.4458968124783727, -1.3444719924870687, -1.3444719924870687, -0.685210662543592, -2.0544457324261978, -1.0401975325131567, -1.4458968124783727, -1.0909099425088087, -1.4458968124783727, -0.9387727125218521, -0.9387727125218521, -1.4966092224740253, -1.3444719924870687, -0.07666174259576784, -1.1923347625001124, -0.43164861256533177, -1.7501712724522855, 0.07547548739118863, -1.8008836824479373, -0.7359230725392447, -1.7501712724522855, -0.5837858425522883, -1.7501712724522855, -1.0909099425088087, -0.6344982525479401, -1.648746452460981, -1.648746452460981, -0.6344982525479401, -1.953020912434893, -0.685210662543592, -1.4966092224740253, -1.5473216324696772, -1.3951844024827207, -1.0909099425088087, -1.3951844024827207, -0.8880603025262003, -1.648746452460981, -1.0909099425088087, -1.3444719924870687, -0.9387727125218521, -1.6994588624566327, -1.1416223525044604, -1.648746452460981, -0.7359230725392447, -1.4966092224740253, -0.17808656258707156, -1.3951844024827207, -0.4823610225609845, -1.4966092224740253, -1.0909099425088087, -1.0909099425088087, -0.7866354825348966, -0.7866354825348966, -1.1923347625001124, -1.0909099425088087, -0.5837858425522883, -1.4966092224740253, -0.43164861256533177, -1.6994588624566327, -0.3809362025696808, -1.3444719924870687, -0.7866354825348966, -1.293759582491417, -0.6344982525479401, -1.6994588624566327, 0.07547548739118863, -1.3951844024827207, -1.4966092224740253, -1.598034042465329, -0.07666174259576784, -1.0909099425088087, -0.025949332600115085, -1.3444719924870687, -0.5330734325566355, -1.243047172495765, -0.7359230725392447, -0.685210662543592, -1.293759582491417, -1.3951844024827207, -0.33022379257402806, -1.0909099425088087, -0.07666174259576784, -0.8373478925305484, -1.0909099425088087, -1.6994588624566327, -0.5330734325566355, -1.243047172495765, -0.685210662543592, -1.598034042465329, -1.0401975325131567, -0.9894851225175049, -0.6344982525479401, -0.9894851225175049, -0.43164861256533177, -1.5473216324696772, -0.5837858425522883, -0.7359230725392447, -0.4823610225609845, -1.7501712724522855, -1.4458968124783727, -0.7359230725392447, -1.1923347625001124, -0.5330734325566355], \"xaxis\": \"x\", \"yaxis\": \"y\"}, {\"alignmentgroup\": \"True\", \"hovertemplate\": \"variable=bill_depth_mm<br>value=%{x}<extra></extra>\", \"legendgroup\": \"bill_depth_mm\", \"marker\": {\"color\": \"#EF553B\"}, \"name\": \"bill_depth_mm\", \"notched\": true, \"offsetgroup\": \"bill_depth_mm\", \"showlegend\": false, \"type\": \"box\", \"x\": [0.7854492273303164, 0.12618789738683958, 0.43046235736075256, 1.0897236873042295, 1.7489850172477064, 0.32903753736944885, 1.2418609172911859, 0.4811747673564053, 1.546135377265097, -0.025949332600115085, 0.07547548739118863, 0.22761271737814512, 2.0532594772216175, 2.0025470672259664, 0.32903753736944885, 0.937586457317273, 1.7996974272433572, 0.63331199734336, 2.205396707208574, 0.582599587347709, 0.7854492273303164, 1.0390112773085767, 0.4811747673564053, 0.024763077395535873, 0.8868740473216202, 0.7347368173346656, 0.3797499473650998, 0.7347368173346656, 0.8868740473216202, -0.22879897258272433, 0.4811747673564053, 0.32903753736944885, 0.8868740473216202, -0.07666174259576784, 2.0025470672259664, 1.4447105572737933, 0.6840244073390127, 1.0897236873042295, 0.9882988673129257, 0.43046235736075256, 0.63331199734336, 0.6840244073390127, 1.292573327286837, -0.1273741525914206, 0.8361616373259693, 0.937586457317273, 0.8868740473216202, 0.3797499473650998, 2.0532594772216175, 0.27832512737379606, 0.8868740473216202, 0.3797499473650998, 1.1911485072955332, 0.4811747673564053, 0.7347368173346656, 0.17690030738249235, 0.8361616373259693, -0.27951138257837527, 0.9882988673129257, -0.1273741525914206, 2.0025470672259664, -0.07666174259576784, 0.5318871773520563, -0.025949332600115085, 0.43046235736075256, -0.4823610225609845, 0.9882988673129257, -0.27951138257837527, 1.1404360972998804, 0.937586457317273, 0.63331199734336, 0.024763077395535873, 0.8868740473216202, 0.17690030738249235, 0.6840244073390127, -0.17808656258707156, 1.1404360972998804, -0.5330734325566355, 0.9882988673129257, 0.024763077395535873, 0.22761271737814512, 0.8361616373259693, 1.1404360972998804, 0.32903753736944885, 1.5968477872607498, 1.1911485072955332, 0.7347368173346656, 1.0390112773085767, 0.8361616373259693, 0.43046235736075256, 0.4811747673564053, -0.025949332600115085, 0.4811747673564053, 0.07547548739118863, 0.8868740473216202, 0.7347368173346656, 0.6840244073390127, -0.5330734325566355, 0.6840244073390127, 0.3797499473650998, 1.4447105572737933, -0.5837858425522883, 1.4447105572737933, 0.7347368173346656, 0.8868740473216202, 0.024763077395535873, 1.4447105572737933, -0.07666174259576784, 0.937586457317273, -0.33022379257402806, 1.5968477872607498, 0.27832512737379606, 1.1911485072955332, 1.7996974272433572, 0.582599587347709, -0.07666174259576784, 1.6982726072520535, -0.07666174259576784, 0.7347368173346656, 0.024763077395535873, 1.3432857372824896, -0.07666174259576784, 0.6840244073390127, -0.6344982525479401, 0.937586457317273, 0.22761271737814512, 0.582599587347709, -0.025949332600115085, 0.43046235736075256, 0.3797499473650998, 1.0390112773085767, 0.6840244073390127, 0.6840244073390127, 0.22761271737814512, 0.17690030738249235, 0.17690030738249235, 1.4954229672694461, -0.33022379257402806, 0.3797499473650998, -0.025949332600115085, 0.024763077395535873, -0.8373478925305484, -0.07666174259576784, -0.17808656258707156, 0.7854492273303164, 0.7347368173346656, 0.63331199734336, 0.32903753736944885, 0.4811747673564053, -0.025949332600115085, 0.6840244073390127, 0.3797499473650998, 1.1911485072955332, 1.0390112773085767, 0.7854492273303164, 1.3432857372824896, 0.32903753736944885, 0.5318871773520563, 0.5318871773520563, 0.8868740473216202, 1.3939981472781406, 0.32903753736944885, 1.5968477872607498, 0.07547548739118863, 0.4811747673564053, -0.025949332600115085, 1.2418609172911859, 1.4447105572737933, 0.32903753736944885, 0.7347368173346656, 0.5318871773520563, 0.07547548739118863, 0.17690030738249235, -0.27951138257837527, 1.1404360972998804, 0.3797499473650998, 0.937586457317273, 0.63331199734336, 0.937586457317273, 0.32903753736944885, 1.4447105572737933, -0.27951138257837527, 1.85040983723901, -0.22879897258272433, 0.8361616373259693, 0.7347368173346656, -0.17808656258707156, 0.582599587347709, 1.7996974272433572, -0.27951138257837527, 1.3939981472781406, 1.1911485072955332, 0.17690030738249235, 0.9882988673129257, -0.07666174259576784, 0.3797499473650998, 0.6840244073390127, 0.3797499473650998, 1.2418609172911859, 0.7854492273303164, 0.07547548739118863, -0.3809362025696808, 0.937586457317273, 0.07547548739118863, 1.292573327286837, 0.07547548739118863, 0.8361616373259693, -0.27951138257837527, 1.3939981472781406, 0.8361616373259693, 1.1404360972998804, 1.1911485072955332, -0.33022379257402806, -0.07666174259576784, 1.3432857372824896, 0.4811747673564053, 0.5318871773520563, 0.937586457317273, 0.7854492273303164, -2.003733322430546, -0.43164861256533177, -1.5473216324696772, -0.9894851225175049, -1.3444719924870687, -1.8515960924435892, -1.293759582491417, -0.9387727125218521, -1.902308502439241, -0.8880603025262003, -1.7501712724522855, -0.5330734325566355, -1.7501712724522855, -1.293759582491417, -1.293759582491417, -0.7359230725392447, -1.8515960924435892, -0.9894851225175049, -1.3444719924870687, -1.0401975325131567, -1.4458968124783727, -1.3444719924870687, -1.3444719924870687, -0.685210662543592, -2.0544457324261978, -1.0401975325131567, -1.4458968124783727, -1.0909099425088087, -1.4458968124783727, -0.9387727125218521, -0.9387727125218521, -1.4966092224740253, -1.3444719924870687, -0.07666174259576784, -1.1923347625001124, -0.43164861256533177, -1.7501712724522855, 0.07547548739118863, -1.8008836824479373, -0.7359230725392447, -1.7501712724522855, -0.5837858425522883, -1.7501712724522855, -1.0909099425088087, -0.6344982525479401, -1.648746452460981, -1.648746452460981, -0.6344982525479401, -1.953020912434893, -0.685210662543592, -1.4966092224740253, -1.5473216324696772, -1.3951844024827207, -1.0909099425088087, -1.3951844024827207, -0.8880603025262003, -1.648746452460981, -1.0909099425088087, -1.3444719924870687, -0.9387727125218521, -1.6994588624566327, -1.1416223525044604, -1.648746452460981, -0.7359230725392447, -1.4966092224740253, -0.17808656258707156, -1.3951844024827207, -0.4823610225609845, -1.4966092224740253, -1.0909099425088087, -1.0909099425088087, -0.7866354825348966, -0.7866354825348966, -1.1923347625001124, -1.0909099425088087, -0.5837858425522883, -1.4966092224740253, -0.43164861256533177, -1.6994588624566327, -0.3809362025696808, -1.3444719924870687, -0.7866354825348966, -1.293759582491417, -0.6344982525479401, -1.6994588624566327, 0.07547548739118863, -1.3951844024827207, -1.4966092224740253, -1.598034042465329, -0.07666174259576784, -1.0909099425088087, -0.025949332600115085, -1.3444719924870687, -0.5330734325566355, -1.243047172495765, -0.7359230725392447, -0.685210662543592, -1.293759582491417, -1.3951844024827207, -0.33022379257402806, -1.0909099425088087, -0.07666174259576784, -0.8373478925305484, -1.0909099425088087, -1.6994588624566327, -0.5330734325566355, -1.243047172495765, -0.685210662543592, -1.598034042465329, -1.0401975325131567, -0.9894851225175049, -0.6344982525479401, -0.9894851225175049, -0.43164861256533177, -1.5473216324696772, -0.5837858425522883, -0.7359230725392447, -0.4823610225609845, -1.7501712724522855, -1.4458968124783727, -0.7359230725392447, -1.1923347625001124, -0.5330734325566355], \"xaxis\": \"x2\", \"yaxis\": \"y2\"}, {\"alignmentgroup\": \"True\", \"bingroup\": \"x\", \"hovertemplate\": \"variable=flipper_length_mm<br>value=%{x}<br>count=%{y}<extra></extra>\", \"legendgroup\": \"flipper_length_mm\", \"marker\": {\"color\": \"#00cc96\"}, \"name\": \"flipper_length_mm\", \"nbinsx\": 50, \"offsetgroup\": \"flipper_length_mm\", \"orientation\": \"v\", \"showlegend\": true, \"type\": \"histogram\", \"x\": [-1.4183466493394512, -1.0622502214477376, -0.42127665124265357, -0.5637152223993389, -0.777373079134367, -1.4183466493394512, -0.42127665124265357, -0.5637152223993389, -0.777373079134367, -1.0622502214477376, -1.4895659349177939, -1.3471273637611083, -0.7061537935560243, -0.20761879450762555, -1.1334695070260803, -0.42127665124265357, -0.2788380800859682, -1.204688792604423, -0.4924959368209963, -1.91688164838785, -1.4895659349177939, -0.8485923647127097, -1.1334695070260803, -1.4895659349177939, -0.9910309358693951, -1.2759080781827656, -0.9910309358693951, -2.059320219544535, -1.4895659349177939, -1.6320045060744792, -1.6320045060744792, -0.9198116502910524, -1.204688792604423, -0.42127665124265357, -0.3500573656643109, -0.777373079134367, -1.4895659349177939, -1.4183466493394512, -1.204688792604423, -1.3471273637611083, -0.42127665124265357, -1.0622502214477376, -0.3500573656643109, -1.1334695070260803, -0.777373079134367, -1.3471273637611083, -1.5607852204961365, -0.777373079134367, -0.7061537935560243, -1.0622502214477376, -0.9198116502910524, -0.777373079134367, -0.06518022335094019, -0.9910309358693951, -0.7061537935560243, -1.0622502214477376, -0.5637152223993389, -1.4183466493394512, -0.4924959368209963, -1.1334695070260803, -0.42127665124265357, -1.1334695070260803, -0.6349345079776816, -1.204688792604423, -0.6349345079776816, -0.42127665124265357, -0.9198116502910524, -0.777373079134367, -0.20761879450762555, -0.777373079134367, -0.777373079134367, -0.3500573656643109, -0.2788380800859682, -0.777373079134367, -0.42127665124265357, -0.7061537935560243, -1.204688792604423, -0.9910309358693951, -0.42127665124265357, -0.8485923647127097, -0.3500573656643109, -0.9910309358693951, -0.5637152223993389, -0.7061537935560243, -0.4924959368209963, -0.777373079134367, -0.8485923647127097, -0.8485923647127097, -0.777373079134367, 0.07725834780574517, 0.2909162045407732, -1.1334695070260803, -1.0622502214477376, -0.9910309358693951, 0.5045740612758013, -0.777373079134367, -0.3500573656643109, -1.6320045060744792, -0.6349345079776816, -0.6349345079776816, 0.14847763338408784, -1.2759080781827656, -0.777373079134367, -0.5637152223993389, -1.204688792604423, -0.13639950892928288, -0.777373079134367, -1.4183466493394512, -0.2788380800859682, -0.20761879450762555, -0.7061537935560243, -0.5637152223993389, -0.2788380800859682, -0.7061537935560243, -0.3500573656643109, -0.9198116502910524, -0.13639950892928288, -0.8485923647127097, -0.8485923647127097, -0.9910309358693951, -0.20761879450762555, -1.7744430772311646, 0.07725834780574517, -1.0622502214477376, -0.13639950892928288, -0.7061537935560243, -0.42127665124265357, -0.7061537935560243, 0.6470126324324866, -0.777373079134367, -0.2788380800859682, -0.5637152223993389, -0.13639950892928288, -0.9910309358693951, -0.777373079134367, -0.7061537935560243, -0.06518022335094019, -1.1334695070260803, -0.5637152223993389, -0.5637152223993389, -0.9910309358693951, -0.9198116502910524, -0.777373079134367, -0.6349345079776816, -1.1334695070260803, -0.777373079134367, -1.204688792604423, -0.42127665124265357, -0.5637152223993389, -0.9910309358693951, 0.006039062227402486, -0.6349345079776816, -0.3500573656643109, -0.5637152223993389, -0.9198116502910524, -0.2788380800859682, -0.20761879450762555, -1.6320045060744792, -0.2788380800859682, -0.42127665124265357, -0.20761879450762555, -0.5637152223993389, -0.4924959368209963, -1.1334695070260803, 0.006039062227402486, -0.777373079134367, 0.006039062227402486, -0.2788380800859682, -1.4183466493394512, -0.777373079134367, -0.42127665124265357, -1.4183466493394512, -0.7061537935560243, -0.9910309358693951, -0.5637152223993389, -0.42127665124265357, -0.2788380800859682, -0.06518022335094019, -0.06518022335094019, -0.7061537935560243, 0.2909162045407732, -0.9910309358693951, 0.006039062227402486, -0.9910309358693951, 0.14847763338408784, -0.42127665124265357, -0.13639950892928288, -0.42127665124265357, 0.6470126324324866, -0.6349345079776816, 0.2909162045407732, 0.6470126324324866, -0.9910309358693951, -0.3500573656643109, -0.3500573656643109, -0.3500573656643109, 0.006039062227402486, -0.777373079134367, 0.789451203589172, -0.9910309358693951, -0.20761879450762555, -0.13639950892928288, 0.006039062227402486, -0.5637152223993389, 0.14847763338408784, -0.9910309358693951, -0.2788380800859682, -0.7061537935560243, 0.14847763338408784, 0.07725834780574517, -0.4924959368209963, 0.3621354901191159, -0.8485923647127097, -0.42127665124265357, 0.43335477569745856, 0.07725834780574517, -0.5637152223993389, 0.6470126324324866, -0.20761879450762555, 0.7182319180108293, 2.07139834399934, 0.6470126324324866, 1.2167669170592281, 1.0031090603241999, 0.6470126324324866, 0.7182319180108293, 1.2879862026375708, 0.575793346854144, 1.0031090603241999, 0.9318897747458573, 1.0743283459025428, 0.9318897747458573, 0.8606704891675147, 0.6470126324324866, 1.1455476314808855, 0.6470126324324866, 1.4304247737942561, 0.575793346854144, 1.5016440593725988, 1.2167669170592281, 1.0031090603241999, 0.8606704891675147, 1.0031090603241999, 1.0031090603241999, 1.0031090603241999, 1.0743283459025428, 1.0031090603241999, 0.6470126324324866, 1.3592054882159135, 1.5016440593725988, 0.575793346854144, 0.43335477569745856, 2.07139834399934, 1.3592054882159135, 1.3592054882159135, 0.8606704891675147, 1.2879862026375708, 0.5045740612758013, 0.5045740612758013, 0.5045740612758013, 1.7153019161076268, 0.6470126324324866, 1.0743283459025428, 1.5016440593725988, 1.1455476314808855, 0.6470126324324866, 1.7153019161076268, 0.8606704891675147, 1.0031090603241999, 0.6470126324324866, 1.3592054882159135, 0.6470126324324866, 1.7153019161076268, 1.1455476314808855, 1.3592054882159135, 0.5045740612758013, 1.3592054882159135, 0.5045740612758013, 1.6440826305292842, 0.5045740612758013, 1.4304247737942561, 0.9318897747458573, 2.142617629577683, 1.2879862026375708, 2.07139834399934, 0.9318897747458573, 2.0001790584209975, 1.3592054882159135, 1.5728633449509415, 1.0743283459025428, 1.4304247737942561, 1.4304247737942561, 1.1455476314808855, 1.0743283459025428, 2.07139834399934, 0.575793346854144, 1.3592054882159135, 1.0031090603241999, 1.5728633449509415, 0.789451203589172, 1.4304247737942561, 0.789451203589172, 1.6440826305292842, 0.789451203589172, 1.9289597728426549, 1.2167669170592281, 1.2167669170592281, 0.789451203589172, 2.07139834399934, 1.2167669170592281, 1.9289597728426549, 0.789451203589172, 1.6440826305292842, 0.9318897747458573, 1.7865212016859695, 1.0743283459025428, 1.5016440593725988, 0.14847763338408784, 1.7153019161076268, 1.2879862026375708, 1.9289597728426549, 1.0031090603241999, 1.9289597728426549, 1.0743283459025428, 1.0031090603241999, 0.6470126324324866, 1.2879862026375708, 0.5045740612758013, 0.575793346854144, 1.0743283459025428, 2.0001790584209975, 0.8606704891675147, 2.07139834399934, 1.1455476314808855, 2.07139834399934, 1.1455476314808855, 1.5016440593725988, 0.9318897747458573, 1.0031090603241999, 1.5016440593725988, 0.789451203589172, 0.8606704891675147], \"xaxis\": \"x\", \"yaxis\": \"y\"}, {\"alignmentgroup\": \"True\", \"hovertemplate\": \"variable=flipper_length_mm<br>value=%{x}<extra></extra>\", \"legendgroup\": \"flipper_length_mm\", \"marker\": {\"color\": \"#00cc96\"}, \"name\": \"flipper_length_mm\", \"notched\": true, \"offsetgroup\": \"flipper_length_mm\", \"showlegend\": false, \"type\": \"box\", \"x\": [-1.4183466493394512, -1.0622502214477376, -0.42127665124265357, -0.5637152223993389, -0.777373079134367, -1.4183466493394512, -0.42127665124265357, -0.5637152223993389, -0.777373079134367, -1.0622502214477376, -1.4895659349177939, -1.3471273637611083, -0.7061537935560243, -0.20761879450762555, -1.1334695070260803, -0.42127665124265357, -0.2788380800859682, -1.204688792604423, -0.4924959368209963, -1.91688164838785, -1.4895659349177939, -0.8485923647127097, -1.1334695070260803, -1.4895659349177939, -0.9910309358693951, -1.2759080781827656, -0.9910309358693951, -2.059320219544535, -1.4895659349177939, -1.6320045060744792, -1.6320045060744792, -0.9198116502910524, -1.204688792604423, -0.42127665124265357, -0.3500573656643109, -0.777373079134367, -1.4895659349177939, -1.4183466493394512, -1.204688792604423, -1.3471273637611083, -0.42127665124265357, -1.0622502214477376, -0.3500573656643109, -1.1334695070260803, -0.777373079134367, -1.3471273637611083, -1.5607852204961365, -0.777373079134367, -0.7061537935560243, -1.0622502214477376, -0.9198116502910524, -0.777373079134367, -0.06518022335094019, -0.9910309358693951, -0.7061537935560243, -1.0622502214477376, -0.5637152223993389, -1.4183466493394512, -0.4924959368209963, -1.1334695070260803, -0.42127665124265357, -1.1334695070260803, -0.6349345079776816, -1.204688792604423, -0.6349345079776816, -0.42127665124265357, -0.9198116502910524, -0.777373079134367, -0.20761879450762555, -0.777373079134367, -0.777373079134367, -0.3500573656643109, -0.2788380800859682, -0.777373079134367, -0.42127665124265357, -0.7061537935560243, -1.204688792604423, -0.9910309358693951, -0.42127665124265357, -0.8485923647127097, -0.3500573656643109, -0.9910309358693951, -0.5637152223993389, -0.7061537935560243, -0.4924959368209963, -0.777373079134367, -0.8485923647127097, -0.8485923647127097, -0.777373079134367, 0.07725834780574517, 0.2909162045407732, -1.1334695070260803, -1.0622502214477376, -0.9910309358693951, 0.5045740612758013, -0.777373079134367, -0.3500573656643109, -1.6320045060744792, -0.6349345079776816, -0.6349345079776816, 0.14847763338408784, -1.2759080781827656, -0.777373079134367, -0.5637152223993389, -1.204688792604423, -0.13639950892928288, -0.777373079134367, -1.4183466493394512, -0.2788380800859682, -0.20761879450762555, -0.7061537935560243, -0.5637152223993389, -0.2788380800859682, -0.7061537935560243, -0.3500573656643109, -0.9198116502910524, -0.13639950892928288, -0.8485923647127097, -0.8485923647127097, -0.9910309358693951, -0.20761879450762555, -1.7744430772311646, 0.07725834780574517, -1.0622502214477376, -0.13639950892928288, -0.7061537935560243, -0.42127665124265357, -0.7061537935560243, 0.6470126324324866, -0.777373079134367, -0.2788380800859682, -0.5637152223993389, -0.13639950892928288, -0.9910309358693951, -0.777373079134367, -0.7061537935560243, -0.06518022335094019, -1.1334695070260803, -0.5637152223993389, -0.5637152223993389, -0.9910309358693951, -0.9198116502910524, -0.777373079134367, -0.6349345079776816, -1.1334695070260803, -0.777373079134367, -1.204688792604423, -0.42127665124265357, -0.5637152223993389, -0.9910309358693951, 0.006039062227402486, -0.6349345079776816, -0.3500573656643109, -0.5637152223993389, -0.9198116502910524, -0.2788380800859682, -0.20761879450762555, -1.6320045060744792, -0.2788380800859682, -0.42127665124265357, -0.20761879450762555, -0.5637152223993389, -0.4924959368209963, -1.1334695070260803, 0.006039062227402486, -0.777373079134367, 0.006039062227402486, -0.2788380800859682, -1.4183466493394512, -0.777373079134367, -0.42127665124265357, -1.4183466493394512, -0.7061537935560243, -0.9910309358693951, -0.5637152223993389, -0.42127665124265357, -0.2788380800859682, -0.06518022335094019, -0.06518022335094019, -0.7061537935560243, 0.2909162045407732, -0.9910309358693951, 0.006039062227402486, -0.9910309358693951, 0.14847763338408784, -0.42127665124265357, -0.13639950892928288, -0.42127665124265357, 0.6470126324324866, -0.6349345079776816, 0.2909162045407732, 0.6470126324324866, -0.9910309358693951, -0.3500573656643109, -0.3500573656643109, -0.3500573656643109, 0.006039062227402486, -0.777373079134367, 0.789451203589172, -0.9910309358693951, -0.20761879450762555, -0.13639950892928288, 0.006039062227402486, -0.5637152223993389, 0.14847763338408784, -0.9910309358693951, -0.2788380800859682, -0.7061537935560243, 0.14847763338408784, 0.07725834780574517, -0.4924959368209963, 0.3621354901191159, -0.8485923647127097, -0.42127665124265357, 0.43335477569745856, 0.07725834780574517, -0.5637152223993389, 0.6470126324324866, -0.20761879450762555, 0.7182319180108293, 2.07139834399934, 0.6470126324324866, 1.2167669170592281, 1.0031090603241999, 0.6470126324324866, 0.7182319180108293, 1.2879862026375708, 0.575793346854144, 1.0031090603241999, 0.9318897747458573, 1.0743283459025428, 0.9318897747458573, 0.8606704891675147, 0.6470126324324866, 1.1455476314808855, 0.6470126324324866, 1.4304247737942561, 0.575793346854144, 1.5016440593725988, 1.2167669170592281, 1.0031090603241999, 0.8606704891675147, 1.0031090603241999, 1.0031090603241999, 1.0031090603241999, 1.0743283459025428, 1.0031090603241999, 0.6470126324324866, 1.3592054882159135, 1.5016440593725988, 0.575793346854144, 0.43335477569745856, 2.07139834399934, 1.3592054882159135, 1.3592054882159135, 0.8606704891675147, 1.2879862026375708, 0.5045740612758013, 0.5045740612758013, 0.5045740612758013, 1.7153019161076268, 0.6470126324324866, 1.0743283459025428, 1.5016440593725988, 1.1455476314808855, 0.6470126324324866, 1.7153019161076268, 0.8606704891675147, 1.0031090603241999, 0.6470126324324866, 1.3592054882159135, 0.6470126324324866, 1.7153019161076268, 1.1455476314808855, 1.3592054882159135, 0.5045740612758013, 1.3592054882159135, 0.5045740612758013, 1.6440826305292842, 0.5045740612758013, 1.4304247737942561, 0.9318897747458573, 2.142617629577683, 1.2879862026375708, 2.07139834399934, 0.9318897747458573, 2.0001790584209975, 1.3592054882159135, 1.5728633449509415, 1.0743283459025428, 1.4304247737942561, 1.4304247737942561, 1.1455476314808855, 1.0743283459025428, 2.07139834399934, 0.575793346854144, 1.3592054882159135, 1.0031090603241999, 1.5728633449509415, 0.789451203589172, 1.4304247737942561, 0.789451203589172, 1.6440826305292842, 0.789451203589172, 1.9289597728426549, 1.2167669170592281, 1.2167669170592281, 0.789451203589172, 2.07139834399934, 1.2167669170592281, 1.9289597728426549, 0.789451203589172, 1.6440826305292842, 0.9318897747458573, 1.7865212016859695, 1.0743283459025428, 1.5016440593725988, 0.14847763338408784, 1.7153019161076268, 1.2879862026375708, 1.9289597728426549, 1.0031090603241999, 1.9289597728426549, 1.0743283459025428, 1.0031090603241999, 0.6470126324324866, 1.2879862026375708, 0.5045740612758013, 0.575793346854144, 1.0743283459025428, 2.0001790584209975, 0.8606704891675147, 2.07139834399934, 1.1455476314808855, 2.07139834399934, 1.1455476314808855, 1.5016440593725988, 0.9318897747458573, 1.0031090603241999, 1.5016440593725988, 0.789451203589172, 0.8606704891675147], \"xaxis\": \"x2\", \"yaxis\": \"y2\"}, {\"alignmentgroup\": \"True\", \"bingroup\": \"x\", \"hovertemplate\": \"variable=body_mass_g<br>value=%{x}<br>count=%{y}<extra></extra>\", \"legendgroup\": \"body_mass_g\", \"marker\": {\"color\": \"#ab63fa\"}, \"name\": \"body_mass_g\", \"nbinsx\": 50, \"offsetgroup\": \"body_mass_g\", \"orientation\": \"v\", \"showlegend\": true, \"type\": \"histogram\", \"x\": [-0.5641420770995512, -0.5017030510904746, -1.1885323371903167, -0.9387762331540105, -0.6890201291177043, -0.7202396421222426, 0.590979904068365, -0.9075567201494722, 0.060248182991214295, -1.1260933111812401, -0.6265811031086278, -1.2509713631993933, -0.5017030510904746, 0.24756526101844395, -0.6265811031086278, -0.9387762331540105, 0.37244331303659706, -1.0948737981767018, -0.0021908430178622556, -1.0012152591630872, -0.7514591551267809, -0.5017030510904746, -0.314385973063245, -0.5017030510904746, -0.5017030510904746, -0.8138981811358574, -1.2509713631993933, -1.3134103892084699, -0.314385973063245, -1.1885323371903167, -0.3768249990723216, -1.1260933111812401, -0.3768249990723216, -1.0948737981767018, -0.0646298690269388, -0.314385973063245, -0.8138981811358574, -1.1260933111812401, 0.5597603910638267, -1.3134103892084699, -0.3768249990723216, -1.3758494152175464, 0.24756526101844395, -1.5007274672356994, 0.49732136505475016, -0.9699957461585488, -1.5319469802402377, -0.9387762331540105, -0.0646298690269388, -0.876337207144934, 0.12268720900029084, -0.9387762331540105, -0.1895079210450919, -1.6256055192538525, -0.6265811031086278, -0.8138981811358574, -0.5017030510904746, -1.6880445452629291, -0.5641420770995512, -1.3134103892084699, 0.24756526101844395, -0.7514591551267809, -0.1895079210450919, -1.6880445452629291, -0.314385973063245, -1.0636542851721635, -0.12706889503601534, -1.438288441226623, 0.3100042870275205, -0.7514591551267809, -0.3768249990723216, -0.8138981811358574, -0.0646298690269388, -0.6265811031086278, 0.060248182991214295, -0.6265811031086278, -0.3768249990723216, -0.8138981811358574, -0.2519469470541685, -1.2509713631993933, 0.6221994170729033, -0.5017030510904746, -0.0021908430178622556, -1.0636542851721635, -0.8138981811358574, -0.5017030510904746, -0.876337207144934, -0.314385973063245, -0.7514591551267809, -0.8138981811358574, 0.12268720900029084, -1.0012152591630872, 0.3100042870275205, -1.1260933111812401, 0.12268720900029084, -0.6265811031086278, 0.1851262350093674, -1.6256055192538525, -0.12706889503601534, -0.5953615901040895, 0.6534189300774416, -1.4070689282220847, 0.060248182991214295, -1.5943860062493143, -0.8138981811358574, -0.5641420770995512, -0.3768249990723216, -1.2821908762039316, 0.715857956086518, -0.4704835380859364, 0.49732136505475016, -1.2509713631993933, 0.09146769599575257, -0.3768249990723216, -0.15828840804055364, -1.6256055192538525, -0.5329225640950129, -1.0636542851721635, -1.0948737981767018, -1.3134103892084699, -0.876337207144934, -0.9387762331540105, -0.4080445120768598, -1.438288441226623, -0.2519469470541685, -1.1573128241857784, 0.12268720900029084, -1.438288441226623, -0.2519469470541685, -1.0948737981767018, -0.876337207144934, -0.876337207144934, 0.34122380003205877, -0.9699957461585488, -0.3768249990723216, -1.2821908762039316, -0.2831664600587067, -1.0012152591630872, 0.060248182991214295, -1.0012152591630872, -0.9075567201494722, -1.438288441226623, -0.5953615901040895, -1.5007274672356994, -0.6890201291177043, 0.060248182991214295, -0.9075567201494722, -0.9387762331540105, -0.5641420770995512, -0.6265811031086278, -0.2519469470541685, -0.876337207144934, -0.3768249990723216, -0.6890201291177043, -0.8451176941403957, -0.5953615901040895, -0.314385973063245, -1.1885323371903167, -0.5641420770995512, -0.0646298690269388, -0.6265811031086278, -0.5017030510904746, -0.5329225640950129, -0.6265811031086278, -0.1895079210450919, -0.7826786681313191, -0.1895079210450919, -1.1260933111812401, -0.6265811031086278, -0.9387762331540105, 0.24756526101844395, -0.7514591551267809, -1.0012152591630872, -1.6256055192538525, -0.5017030510904746, -1.1260933111812401, -0.0646298690269388, -1.0012152591630872, -0.5017030510904746, -0.6265811031086278, 0.4348823390456736, -1.2509713631993933, 0.12268720900029084, -1.0636542851721635, -0.12706889503601534, -0.7514591551267809, -0.3768249990723216, -0.4392640250813981, 0.7470774690910563, -1.8753616232901589, 0.37244331303659706, -0.314385973063245, -0.6890201291177043, -0.8138981811358574, -0.876337207144934, -0.6578006161131661, 0.3100042870275205, -1.0012152591630872, 0.12268720900029084, -1.1885323371903167, -0.6578006161131661, -1.0948737981767018, -0.314385973063245, -0.7514591551267809, -0.1895079210450919, -1.0636542851721635, -0.9387762331540105, -1.1885323371903167, -0.1895079210450919, -0.5017030510904746, -0.8451176941403957, -0.314385973063245, -0.6890201291177043, -0.6890201291177043, -0.2519469470541685, -1.0012152591630872, -0.5329225640950129, -0.12706889503601534, -0.5329225640950129, 0.37244331303659706, 1.8709799372544342, 0.3100042870275205, 1.8709799372544342, 1.496345781199975, 0.4348823390456736, 0.7470774690910563, 1.2465896771636689, 0.24756526101844395, 1.1841506511545923, 0.5597603910638267, 1.6836628592272047, 0.5597603910638267, 2.058297015281664, -0.0021908430178622556, 2.058297015281664, -0.0646298690269388, 2.6202482493633528, 0.7470774690910563, 1.4339067551908984, 1.8709799372544342, 0.9968335731273625, 0.24756526101844395, 1.0592725991364391, 0.9968335731273625, 1.1217116251455157, -0.12706889503601534, 1.8085409112453577, 0.49732136505475016, 1.6836628592272047, 1.3090287031727452, 0.6221994170729033, 1.0592725991364391, 2.3080531193179703, 1.1841506511545923, 1.496345781199975, 0.9343945471182861, 1.3090287031727452, 0.1851262350093674, 1.4339067551908984, -0.314385973063245, 1.8709799372544342, 0.12268720900029084, 0.6846384430819799, 1.6836628592272047, 0.8719555211092095, -0.0021908430178622556, 1.496345781199975, 1.1217116251455157, 1.3714677291818218, 0.8095164951001329, 1.3714677291818218, 0.24756526101844395, 0.9968335731273625, 0.8719555211092095, 1.0592725991364391, 0.12268720900029084, 0.9968335731273625, 0.3100042870275205, 1.6836628592272047, -0.0021908430178622556, 1.3714677291818218, 0.24756526101844395, 1.8085409112453577, 0.6221994170729033, 1.8709799372544342, 0.5597603910638267, 1.9958579892725874, 0.6221994170729033, 1.6836628592272047, 0.6846384430819799, 0.9968335731273625, 1.1217116251455157, 1.2465896771636689, 0.6221994170729033, 1.9958579892725874, 0.49732136505475016, 2.2456140933088937, 0.6846384430819799, 2.183175067299817, 0.5285408780592884, 1.5587848072090515, 0.6534189300774416, 1.4339067551908984, 0.6846384430819799, 1.746101885236281, 0.49732136505475016, 1.3714677291818218, 0.8407360081046712, 1.6836628592272047, 0.9343945471182861, 1.496345781199975, 0.6846384430819799, 1.8085409112453577, 0.8095164951001329, 1.2465896771636689, 0.9031750341137478, 0.8407360081046712, 0.5285408780592884, 1.3090287031727452, 0.8095164951001329, 1.746101885236281, 0.9656140601228242, 1.6212238332181281, 0.6534189300774416, 1.6212238332181281, 0.6221994170729033, 1.6212238332181281, 0.4661018520502119, 1.6212238332181281, 0.9968335731273625, 2.183175067299817, 0.5597603910638267, 1.6212238332181281, 0.2163457480139057, 2.058297015281664, 0.8407360081046712, 2.2456140933088937, 0.9031750341137478, 0.8095164951001329, 1.9334189632635108, 1.2465896771636689, 1.496345781199975], \"xaxis\": \"x\", \"yaxis\": \"y\"}, {\"alignmentgroup\": \"True\", \"hovertemplate\": \"variable=body_mass_g<br>value=%{x}<extra></extra>\", \"legendgroup\": \"body_mass_g\", \"marker\": {\"color\": \"#ab63fa\"}, \"name\": \"body_mass_g\", \"notched\": true, \"offsetgroup\": \"body_mass_g\", \"showlegend\": false, \"type\": \"box\", \"x\": [-0.5641420770995512, -0.5017030510904746, -1.1885323371903167, -0.9387762331540105, -0.6890201291177043, -0.7202396421222426, 0.590979904068365, -0.9075567201494722, 0.060248182991214295, -1.1260933111812401, -0.6265811031086278, -1.2509713631993933, -0.5017030510904746, 0.24756526101844395, -0.6265811031086278, -0.9387762331540105, 0.37244331303659706, -1.0948737981767018, -0.0021908430178622556, -1.0012152591630872, -0.7514591551267809, -0.5017030510904746, -0.314385973063245, -0.5017030510904746, -0.5017030510904746, -0.8138981811358574, -1.2509713631993933, -1.3134103892084699, -0.314385973063245, -1.1885323371903167, -0.3768249990723216, -1.1260933111812401, -0.3768249990723216, -1.0948737981767018, -0.0646298690269388, -0.314385973063245, -0.8138981811358574, -1.1260933111812401, 0.5597603910638267, -1.3134103892084699, -0.3768249990723216, -1.3758494152175464, 0.24756526101844395, -1.5007274672356994, 0.49732136505475016, -0.9699957461585488, -1.5319469802402377, -0.9387762331540105, -0.0646298690269388, -0.876337207144934, 0.12268720900029084, -0.9387762331540105, -0.1895079210450919, -1.6256055192538525, -0.6265811031086278, -0.8138981811358574, -0.5017030510904746, -1.6880445452629291, -0.5641420770995512, -1.3134103892084699, 0.24756526101844395, -0.7514591551267809, -0.1895079210450919, -1.6880445452629291, -0.314385973063245, -1.0636542851721635, -0.12706889503601534, -1.438288441226623, 0.3100042870275205, -0.7514591551267809, -0.3768249990723216, -0.8138981811358574, -0.0646298690269388, -0.6265811031086278, 0.060248182991214295, -0.6265811031086278, -0.3768249990723216, -0.8138981811358574, -0.2519469470541685, -1.2509713631993933, 0.6221994170729033, -0.5017030510904746, -0.0021908430178622556, -1.0636542851721635, -0.8138981811358574, -0.5017030510904746, -0.876337207144934, -0.314385973063245, -0.7514591551267809, -0.8138981811358574, 0.12268720900029084, -1.0012152591630872, 0.3100042870275205, -1.1260933111812401, 0.12268720900029084, -0.6265811031086278, 0.1851262350093674, -1.6256055192538525, -0.12706889503601534, -0.5953615901040895, 0.6534189300774416, -1.4070689282220847, 0.060248182991214295, -1.5943860062493143, -0.8138981811358574, -0.5641420770995512, -0.3768249990723216, -1.2821908762039316, 0.715857956086518, -0.4704835380859364, 0.49732136505475016, -1.2509713631993933, 0.09146769599575257, -0.3768249990723216, -0.15828840804055364, -1.6256055192538525, -0.5329225640950129, -1.0636542851721635, -1.0948737981767018, -1.3134103892084699, -0.876337207144934, -0.9387762331540105, -0.4080445120768598, -1.438288441226623, -0.2519469470541685, -1.1573128241857784, 0.12268720900029084, -1.438288441226623, -0.2519469470541685, -1.0948737981767018, -0.876337207144934, -0.876337207144934, 0.34122380003205877, -0.9699957461585488, -0.3768249990723216, -1.2821908762039316, -0.2831664600587067, -1.0012152591630872, 0.060248182991214295, -1.0012152591630872, -0.9075567201494722, -1.438288441226623, -0.5953615901040895, -1.5007274672356994, -0.6890201291177043, 0.060248182991214295, -0.9075567201494722, -0.9387762331540105, -0.5641420770995512, -0.6265811031086278, -0.2519469470541685, -0.876337207144934, -0.3768249990723216, -0.6890201291177043, -0.8451176941403957, -0.5953615901040895, -0.314385973063245, -1.1885323371903167, -0.5641420770995512, -0.0646298690269388, -0.6265811031086278, -0.5017030510904746, -0.5329225640950129, -0.6265811031086278, -0.1895079210450919, -0.7826786681313191, -0.1895079210450919, -1.1260933111812401, -0.6265811031086278, -0.9387762331540105, 0.24756526101844395, -0.7514591551267809, -1.0012152591630872, -1.6256055192538525, -0.5017030510904746, -1.1260933111812401, -0.0646298690269388, -1.0012152591630872, -0.5017030510904746, -0.6265811031086278, 0.4348823390456736, -1.2509713631993933, 0.12268720900029084, -1.0636542851721635, -0.12706889503601534, -0.7514591551267809, -0.3768249990723216, -0.4392640250813981, 0.7470774690910563, -1.8753616232901589, 0.37244331303659706, -0.314385973063245, -0.6890201291177043, -0.8138981811358574, -0.876337207144934, -0.6578006161131661, 0.3100042870275205, -1.0012152591630872, 0.12268720900029084, -1.1885323371903167, -0.6578006161131661, -1.0948737981767018, -0.314385973063245, -0.7514591551267809, -0.1895079210450919, -1.0636542851721635, -0.9387762331540105, -1.1885323371903167, -0.1895079210450919, -0.5017030510904746, -0.8451176941403957, -0.314385973063245, -0.6890201291177043, -0.6890201291177043, -0.2519469470541685, -1.0012152591630872, -0.5329225640950129, -0.12706889503601534, -0.5329225640950129, 0.37244331303659706, 1.8709799372544342, 0.3100042870275205, 1.8709799372544342, 1.496345781199975, 0.4348823390456736, 0.7470774690910563, 1.2465896771636689, 0.24756526101844395, 1.1841506511545923, 0.5597603910638267, 1.6836628592272047, 0.5597603910638267, 2.058297015281664, -0.0021908430178622556, 2.058297015281664, -0.0646298690269388, 2.6202482493633528, 0.7470774690910563, 1.4339067551908984, 1.8709799372544342, 0.9968335731273625, 0.24756526101844395, 1.0592725991364391, 0.9968335731273625, 1.1217116251455157, -0.12706889503601534, 1.8085409112453577, 0.49732136505475016, 1.6836628592272047, 1.3090287031727452, 0.6221994170729033, 1.0592725991364391, 2.3080531193179703, 1.1841506511545923, 1.496345781199975, 0.9343945471182861, 1.3090287031727452, 0.1851262350093674, 1.4339067551908984, -0.314385973063245, 1.8709799372544342, 0.12268720900029084, 0.6846384430819799, 1.6836628592272047, 0.8719555211092095, -0.0021908430178622556, 1.496345781199975, 1.1217116251455157, 1.3714677291818218, 0.8095164951001329, 1.3714677291818218, 0.24756526101844395, 0.9968335731273625, 0.8719555211092095, 1.0592725991364391, 0.12268720900029084, 0.9968335731273625, 0.3100042870275205, 1.6836628592272047, -0.0021908430178622556, 1.3714677291818218, 0.24756526101844395, 1.8085409112453577, 0.6221994170729033, 1.8709799372544342, 0.5597603910638267, 1.9958579892725874, 0.6221994170729033, 1.6836628592272047, 0.6846384430819799, 0.9968335731273625, 1.1217116251455157, 1.2465896771636689, 0.6221994170729033, 1.9958579892725874, 0.49732136505475016, 2.2456140933088937, 0.6846384430819799, 2.183175067299817, 0.5285408780592884, 1.5587848072090515, 0.6534189300774416, 1.4339067551908984, 0.6846384430819799, 1.746101885236281, 0.49732136505475016, 1.3714677291818218, 0.8407360081046712, 1.6836628592272047, 0.9343945471182861, 1.496345781199975, 0.6846384430819799, 1.8085409112453577, 0.8095164951001329, 1.2465896771636689, 0.9031750341137478, 0.8407360081046712, 0.5285408780592884, 1.3090287031727452, 0.8095164951001329, 1.746101885236281, 0.9656140601228242, 1.6212238332181281, 0.6534189300774416, 1.6212238332181281, 0.6221994170729033, 1.6212238332181281, 0.4661018520502119, 1.6212238332181281, 0.9968335731273625, 2.183175067299817, 0.5597603910638267, 1.6212238332181281, 0.2163457480139057, 2.058297015281664, 0.8407360081046712, 2.2456140933088937, 0.9031750341137478, 0.8095164951001329, 1.9334189632635108, 1.2465896771636689, 1.496345781199975], \"xaxis\": \"x2\", \"yaxis\": \"y2\"}],                        {\"barmode\": \"relative\", \"legend\": {\"title\": {\"text\": \"variable\"}, \"tracegroupgap\": 0}, \"margin\": {\"t\": 60}, \"template\": {\"data\": {\"bar\": [{\"error_x\": {\"color\": \"#2a3f5f\"}, \"error_y\": {\"color\": \"#2a3f5f\"}, \"marker\": {\"line\": {\"color\": \"#E5ECF6\", \"width\": 0.5}}, \"type\": \"bar\"}], \"barpolar\": [{\"marker\": {\"line\": {\"color\": \"#E5ECF6\", \"width\": 0.5}}, \"type\": \"barpolar\"}], \"carpet\": [{\"aaxis\": {\"endlinecolor\": \"#2a3f5f\", \"gridcolor\": \"white\", \"linecolor\": \"white\", \"minorgridcolor\": \"white\", \"startlinecolor\": \"#2a3f5f\"}, \"baxis\": {\"endlinecolor\": \"#2a3f5f\", \"gridcolor\": \"white\", \"linecolor\": \"white\", \"minorgridcolor\": \"white\", \"startlinecolor\": \"#2a3f5f\"}, \"type\": \"carpet\"}], \"choropleth\": [{\"colorbar\": {\"outlinewidth\": 0, \"ticks\": \"\"}, \"type\": \"choropleth\"}], \"contour\": [{\"colorbar\": {\"outlinewidth\": 0, \"ticks\": \"\"}, \"colorscale\": [[0.0, \"#0d0887\"], [0.1111111111111111, \"#46039f\"], [0.2222222222222222, \"#7201a8\"], [0.3333333333333333, \"#9c179e\"], [0.4444444444444444, \"#bd3786\"], [0.5555555555555556, \"#d8576b\"], [0.6666666666666666, \"#ed7953\"], [0.7777777777777778, \"#fb9f3a\"], [0.8888888888888888, \"#fdca26\"], [1.0, \"#f0f921\"]], \"type\": \"contour\"}], \"contourcarpet\": [{\"colorbar\": {\"outlinewidth\": 0, \"ticks\": \"\"}, \"type\": \"contourcarpet\"}], \"heatmap\": [{\"colorbar\": {\"outlinewidth\": 0, \"ticks\": \"\"}, \"colorscale\": [[0.0, \"#0d0887\"], [0.1111111111111111, \"#46039f\"], [0.2222222222222222, \"#7201a8\"], [0.3333333333333333, \"#9c179e\"], [0.4444444444444444, \"#bd3786\"], [0.5555555555555556, \"#d8576b\"], [0.6666666666666666, \"#ed7953\"], [0.7777777777777778, \"#fb9f3a\"], [0.8888888888888888, \"#fdca26\"], [1.0, \"#f0f921\"]], \"type\": \"heatmap\"}], \"heatmapgl\": [{\"colorbar\": {\"outlinewidth\": 0, \"ticks\": \"\"}, \"colorscale\": [[0.0, \"#0d0887\"], [0.1111111111111111, \"#46039f\"], [0.2222222222222222, \"#7201a8\"], [0.3333333333333333, \"#9c179e\"], [0.4444444444444444, \"#bd3786\"], [0.5555555555555556, \"#d8576b\"], [0.6666666666666666, \"#ed7953\"], [0.7777777777777778, \"#fb9f3a\"], [0.8888888888888888, \"#fdca26\"], [1.0, \"#f0f921\"]], \"type\": \"heatmapgl\"}], \"histogram\": [{\"marker\": {\"colorbar\": {\"outlinewidth\": 0, \"ticks\": \"\"}}, \"type\": \"histogram\"}], \"histogram2d\": [{\"colorbar\": {\"outlinewidth\": 0, \"ticks\": \"\"}, \"colorscale\": [[0.0, \"#0d0887\"], [0.1111111111111111, \"#46039f\"], [0.2222222222222222, \"#7201a8\"], [0.3333333333333333, \"#9c179e\"], [0.4444444444444444, \"#bd3786\"], [0.5555555555555556, \"#d8576b\"], [0.6666666666666666, \"#ed7953\"], [0.7777777777777778, \"#fb9f3a\"], [0.8888888888888888, \"#fdca26\"], [1.0, \"#f0f921\"]], \"type\": \"histogram2d\"}], \"histogram2dcontour\": [{\"colorbar\": {\"outlinewidth\": 0, \"ticks\": \"\"}, \"colorscale\": [[0.0, \"#0d0887\"], [0.1111111111111111, \"#46039f\"], [0.2222222222222222, \"#7201a8\"], [0.3333333333333333, \"#9c179e\"], [0.4444444444444444, \"#bd3786\"], [0.5555555555555556, \"#d8576b\"], [0.6666666666666666, \"#ed7953\"], [0.7777777777777778, \"#fb9f3a\"], [0.8888888888888888, \"#fdca26\"], [1.0, \"#f0f921\"]], \"type\": \"histogram2dcontour\"}], \"mesh3d\": [{\"colorbar\": {\"outlinewidth\": 0, \"ticks\": \"\"}, \"type\": \"mesh3d\"}], \"parcoords\": [{\"line\": {\"colorbar\": {\"outlinewidth\": 0, \"ticks\": \"\"}}, \"type\": \"parcoords\"}], \"pie\": [{\"automargin\": true, \"type\": \"pie\"}], \"scatter\": [{\"marker\": {\"colorbar\": {\"outlinewidth\": 0, \"ticks\": \"\"}}, \"type\": \"scatter\"}], \"scatter3d\": [{\"line\": {\"colorbar\": {\"outlinewidth\": 0, \"ticks\": \"\"}}, \"marker\": {\"colorbar\": {\"outlinewidth\": 0, \"ticks\": \"\"}}, \"type\": \"scatter3d\"}], \"scattercarpet\": [{\"marker\": {\"colorbar\": {\"outlinewidth\": 0, \"ticks\": \"\"}}, \"type\": \"scattercarpet\"}], \"scattergeo\": [{\"marker\": {\"colorbar\": {\"outlinewidth\": 0, \"ticks\": \"\"}}, \"type\": \"scattergeo\"}], \"scattergl\": [{\"marker\": {\"colorbar\": {\"outlinewidth\": 0, \"ticks\": \"\"}}, \"type\": \"scattergl\"}], \"scattermapbox\": [{\"marker\": {\"colorbar\": {\"outlinewidth\": 0, \"ticks\": \"\"}}, \"type\": \"scattermapbox\"}], \"scatterpolar\": [{\"marker\": {\"colorbar\": {\"outlinewidth\": 0, \"ticks\": \"\"}}, \"type\": \"scatterpolar\"}], \"scatterpolargl\": [{\"marker\": {\"colorbar\": {\"outlinewidth\": 0, \"ticks\": \"\"}}, \"type\": \"scatterpolargl\"}], \"scatterternary\": [{\"marker\": {\"colorbar\": {\"outlinewidth\": 0, \"ticks\": \"\"}}, \"type\": \"scatterternary\"}], \"surface\": [{\"colorbar\": {\"outlinewidth\": 0, \"ticks\": \"\"}, \"colorscale\": [[0.0, \"#0d0887\"], [0.1111111111111111, \"#46039f\"], [0.2222222222222222, \"#7201a8\"], [0.3333333333333333, \"#9c179e\"], [0.4444444444444444, \"#bd3786\"], [0.5555555555555556, \"#d8576b\"], [0.6666666666666666, \"#ed7953\"], [0.7777777777777778, \"#fb9f3a\"], [0.8888888888888888, \"#fdca26\"], [1.0, \"#f0f921\"]], \"type\": \"surface\"}], \"table\": [{\"cells\": {\"fill\": {\"color\": \"#EBF0F8\"}, \"line\": {\"color\": \"white\"}}, \"header\": {\"fill\": {\"color\": \"#C8D4E3\"}, \"line\": {\"color\": \"white\"}}, \"type\": \"table\"}]}, \"layout\": {\"annotationdefaults\": {\"arrowcolor\": \"#2a3f5f\", \"arrowhead\": 0, \"arrowwidth\": 1}, \"autotypenumbers\": \"strict\", \"coloraxis\": {\"colorbar\": {\"outlinewidth\": 0, \"ticks\": \"\"}}, \"colorscale\": {\"diverging\": [[0, \"#8e0152\"], [0.1, \"#c51b7d\"], [0.2, \"#de77ae\"], [0.3, \"#f1b6da\"], [0.4, \"#fde0ef\"], [0.5, \"#f7f7f7\"], [0.6, \"#e6f5d0\"], [0.7, \"#b8e186\"], [0.8, \"#7fbc41\"], [0.9, \"#4d9221\"], [1, \"#276419\"]], \"sequential\": [[0.0, \"#0d0887\"], [0.1111111111111111, \"#46039f\"], [0.2222222222222222, \"#7201a8\"], [0.3333333333333333, \"#9c179e\"], [0.4444444444444444, \"#bd3786\"], [0.5555555555555556, \"#d8576b\"], [0.6666666666666666, \"#ed7953\"], [0.7777777777777778, \"#fb9f3a\"], [0.8888888888888888, \"#fdca26\"], [1.0, \"#f0f921\"]], \"sequentialminus\": [[0.0, \"#0d0887\"], [0.1111111111111111, \"#46039f\"], [0.2222222222222222, \"#7201a8\"], [0.3333333333333333, \"#9c179e\"], [0.4444444444444444, \"#bd3786\"], [0.5555555555555556, \"#d8576b\"], [0.6666666666666666, \"#ed7953\"], [0.7777777777777778, \"#fb9f3a\"], [0.8888888888888888, \"#fdca26\"], [1.0, \"#f0f921\"]]}, \"colorway\": [\"#636efa\", \"#EF553B\", \"#00cc96\", \"#ab63fa\", \"#FFA15A\", \"#19d3f3\", \"#FF6692\", \"#B6E880\", \"#FF97FF\", \"#FECB52\"], \"font\": {\"color\": \"#2a3f5f\"}, \"geo\": {\"bgcolor\": \"white\", \"lakecolor\": \"white\", \"landcolor\": \"#E5ECF6\", \"showlakes\": true, \"showland\": true, \"subunitcolor\": \"white\"}, \"hoverlabel\": {\"align\": \"left\"}, \"hovermode\": \"closest\", \"mapbox\": {\"style\": \"light\"}, \"paper_bgcolor\": \"white\", \"plot_bgcolor\": \"#E5ECF6\", \"polar\": {\"angularaxis\": {\"gridcolor\": \"white\", \"linecolor\": \"white\", \"ticks\": \"\"}, \"bgcolor\": \"#E5ECF6\", \"radialaxis\": {\"gridcolor\": \"white\", \"linecolor\": \"white\", \"ticks\": \"\"}}, \"scene\": {\"xaxis\": {\"backgroundcolor\": \"#E5ECF6\", \"gridcolor\": \"white\", \"gridwidth\": 2, \"linecolor\": \"white\", \"showbackground\": true, \"ticks\": \"\", \"zerolinecolor\": \"white\"}, \"yaxis\": {\"backgroundcolor\": \"#E5ECF6\", \"gridcolor\": \"white\", \"gridwidth\": 2, \"linecolor\": \"white\", \"showbackground\": true, \"ticks\": \"\", \"zerolinecolor\": \"white\"}, \"zaxis\": {\"backgroundcolor\": \"#E5ECF6\", \"gridcolor\": \"white\", \"gridwidth\": 2, \"linecolor\": \"white\", \"showbackground\": true, \"ticks\": \"\", \"zerolinecolor\": \"white\"}}, \"shapedefaults\": {\"line\": {\"color\": \"#2a3f5f\"}}, \"ternary\": {\"aaxis\": {\"gridcolor\": \"white\", \"linecolor\": \"white\", \"ticks\": \"\"}, \"baxis\": {\"gridcolor\": \"white\", \"linecolor\": \"white\", \"ticks\": \"\"}, \"bgcolor\": \"#E5ECF6\", \"caxis\": {\"gridcolor\": \"white\", \"linecolor\": \"white\", \"ticks\": \"\"}}, \"title\": {\"x\": 0.05}, \"xaxis\": {\"automargin\": true, \"gridcolor\": \"white\", \"linecolor\": \"white\", \"ticks\": \"\", \"title\": {\"standoff\": 15}, \"zerolinecolor\": \"white\", \"zerolinewidth\": 2}, \"yaxis\": {\"automargin\": true, \"gridcolor\": \"white\", \"linecolor\": \"white\", \"ticks\": \"\", \"title\": {\"standoff\": 15}, \"zerolinecolor\": \"white\", \"zerolinewidth\": 2}}}, \"xaxis\": {\"anchor\": \"y\", \"domain\": [0.0, 1.0], \"title\": {\"text\": \"value\"}}, \"xaxis2\": {\"anchor\": \"y2\", \"domain\": [0.0, 1.0], \"matches\": \"x\", \"showgrid\": true, \"showticklabels\": false}, \"yaxis\": {\"anchor\": \"x\", \"domain\": [0.0, 0.7326], \"title\": {\"text\": \"count\"}}, \"yaxis2\": {\"anchor\": \"x2\", \"domain\": [0.7426, 1.0], \"matches\": \"y2\", \"showgrid\": false, \"showline\": false, \"showticklabels\": false, \"ticks\": \"\"}},                        {\"responsive\": true}                    ).then(function(){\n",
       "                            \n",
       "var gd = document.getElementById('669d6a6f-24f1-49a2-8412-e3217e2ddad1');\n",
       "var x = new MutationObserver(function (mutations, observer) {{\n",
       "        var display = window.getComputedStyle(gd).display;\n",
       "        if (!display || display === 'none') {{\n",
       "            console.log([gd, 'removed!']);\n",
       "            Plotly.purge(gd);\n",
       "            observer.disconnect();\n",
       "        }}\n",
       "}});\n",
       "\n",
       "// Listen for the removal of the full notebook cells\n",
       "var notebookContainer = gd.closest('#notebook-container');\n",
       "if (notebookContainer) {{\n",
       "    x.observe(notebookContainer, {childList: true});\n",
       "}}\n",
       "\n",
       "// Listen for the clearing of the current output cell\n",
       "var outputEl = gd.closest('.output');\n",
       "if (outputEl) {{\n",
       "    x.observe(outputEl, {childList: true});\n",
       "}}\n",
       "\n",
       "                        })                };                });            </script>        </div>"
      ]
     },
     "metadata": {},
     "output_type": "display_data"
    }
   ],
   "source": [
    "scaler = StandardScaler()\n",
    "df_x_sc = pd.DataFrame(scaler.fit_transform(df_x), columns=df_x.columns)\n",
    "px.histogram(df_x_sc, nbins = 50,marginal=\"box\")"
   ]
  },
  {
   "cell_type": "code",
   "execution_count": 30,
   "metadata": {
    "ExecuteTime": {
     "end_time": "2021-07-21T19:06:21.919820Z",
     "start_time": "2021-07-21T19:06:21.779342Z"
    }
   },
   "outputs": [],
   "source": [
    "heatmap = sns.heatmap(df_x.corr(), vmin=-1, vmax=1, annot=True)"
   ]
  },
  {
   "cell_type": "code",
   "execution_count": 31,
   "metadata": {
    "ExecuteTime": {
     "end_time": "2021-07-21T19:06:21.955047Z",
     "start_time": "2021-07-21T19:06:21.950762Z"
    }
   },
   "outputs": [],
   "source": [
    "pca = PCA()\n",
    "\n",
    "principalComponents = pca.fit_transform(df_x_sc)\n",
    "\n",
    "principalDataframe = pd.DataFrame(data = principalComponents, columns = ['PC1', 'PC2','PC3','PC4'])\n",
    "percent_variance = np.round(pca.explained_variance_ratio_* 100, decimals =2)"
   ]
  },
  {
   "cell_type": "code",
   "execution_count": 32,
   "metadata": {
    "ExecuteTime": {
     "end_time": "2021-07-21T19:06:22.141677Z",
     "start_time": "2021-07-21T19:06:22.136307Z"
    }
   },
   "outputs": [
    {
     "data": {
      "text/html": [
       "<div>\n",
       "<style scoped>\n",
       "    .dataframe tbody tr th:only-of-type {\n",
       "        vertical-align: middle;\n",
       "    }\n",
       "\n",
       "    .dataframe tbody tr th {\n",
       "        vertical-align: top;\n",
       "    }\n",
       "\n",
       "    .dataframe thead th {\n",
       "        text-align: right;\n",
       "    }\n",
       "</style>\n",
       "<table border=\"1\" class=\"dataframe\">\n",
       "  <thead>\n",
       "    <tr style=\"text-align: right;\">\n",
       "      <th></th>\n",
       "      <th>PC1</th>\n",
       "      <th>PC2</th>\n",
       "      <th>PC3</th>\n",
       "      <th>PC4</th>\n",
       "    </tr>\n",
       "  </thead>\n",
       "  <tbody>\n",
       "    <tr>\n",
       "      <th>0</th>\n",
       "      <td>-1.843445</td>\n",
       "      <td>0.047702</td>\n",
       "      <td>-0.232794</td>\n",
       "      <td>0.523903</td>\n",
       "    </tr>\n",
       "    <tr>\n",
       "      <th>1</th>\n",
       "      <td>-1.306762</td>\n",
       "      <td>-0.428348</td>\n",
       "      <td>-0.029562</td>\n",
       "      <td>0.402426</td>\n",
       "    </tr>\n",
       "    <tr>\n",
       "      <th>2</th>\n",
       "      <td>-1.369181</td>\n",
       "      <td>-0.154476</td>\n",
       "      <td>0.198672</td>\n",
       "      <td>-0.528007</td>\n",
       "    </tr>\n",
       "    <tr>\n",
       "      <th>3</th>\n",
       "      <td>-1.878827</td>\n",
       "      <td>-0.002048</td>\n",
       "      <td>-0.618596</td>\n",
       "      <td>-0.478378</td>\n",
       "    </tr>\n",
       "    <tr>\n",
       "      <th>4</th>\n",
       "      <td>-1.911748</td>\n",
       "      <td>0.829210</td>\n",
       "      <td>-0.686584</td>\n",
       "      <td>-0.207428</td>\n",
       "    </tr>\n",
       "  </tbody>\n",
       "</table>\n",
       "</div>"
      ],
      "text/plain": [
       "        PC1       PC2       PC3       PC4\n",
       "0 -1.843445  0.047702 -0.232794  0.523903\n",
       "1 -1.306762 -0.428348 -0.029562  0.402426\n",
       "2 -1.369181 -0.154476  0.198672 -0.528007\n",
       "3 -1.878827 -0.002048 -0.618596 -0.478378\n",
       "4 -1.911748  0.829210 -0.686584 -0.207428"
      ]
     },
     "execution_count": 32,
     "metadata": {},
     "output_type": "execute_result"
    }
   ],
   "source": [
    "principalDataframe.head()"
   ]
  },
  {
   "cell_type": "code",
   "execution_count": 33,
   "metadata": {
    "ExecuteTime": {
     "end_time": "2021-07-21T19:06:22.362922Z",
     "start_time": "2021-07-21T19:06:22.321376Z"
    }
   },
   "outputs": [
    {
     "data": {
      "application/vnd.plotly.v1+json": {
       "config": {
        "plotlyServerURL": "https://plot.ly"
       },
       "data": [
        {
         "alignmentgroup": "True",
         "hovertemplate": "x=%{x}<br>y=%{y}<br>text=%{text}<extra></extra>",
         "legendgroup": "",
         "marker": {
          "color": "#636efa"
         },
         "name": "",
         "offsetgroup": "",
         "orientation": "v",
         "showlegend": false,
         "text": [
          68.84,
          19.31,
          9.13,
          2.71
         ],
         "textposition": "auto",
         "type": "bar",
         "x": [
          "PC1",
          "PC2",
          "PC3",
          "PC4"
         ],
         "xaxis": "x",
         "y": [
          68.84,
          19.31,
          9.13,
          2.71
         ],
         "yaxis": "y"
        }
       ],
       "layout": {
        "barmode": "relative",
        "legend": {
         "tracegroupgap": 0
        },
        "template": {
         "data": {
          "bar": [
           {
            "error_x": {
             "color": "#2a3f5f"
            },
            "error_y": {
             "color": "#2a3f5f"
            },
            "marker": {
             "line": {
              "color": "white",
              "width": 0.5
             }
            },
            "type": "bar"
           }
          ],
          "barpolar": [
           {
            "marker": {
             "line": {
              "color": "white",
              "width": 0.5
             }
            },
            "type": "barpolar"
           }
          ],
          "carpet": [
           {
            "aaxis": {
             "endlinecolor": "#2a3f5f",
             "gridcolor": "#C8D4E3",
             "linecolor": "#C8D4E3",
             "minorgridcolor": "#C8D4E3",
             "startlinecolor": "#2a3f5f"
            },
            "baxis": {
             "endlinecolor": "#2a3f5f",
             "gridcolor": "#C8D4E3",
             "linecolor": "#C8D4E3",
             "minorgridcolor": "#C8D4E3",
             "startlinecolor": "#2a3f5f"
            },
            "type": "carpet"
           }
          ],
          "choropleth": [
           {
            "colorbar": {
             "outlinewidth": 0,
             "ticks": ""
            },
            "type": "choropleth"
           }
          ],
          "contour": [
           {
            "colorbar": {
             "outlinewidth": 0,
             "ticks": ""
            },
            "colorscale": [
             [
              0,
              "#0d0887"
             ],
             [
              0.1111111111111111,
              "#46039f"
             ],
             [
              0.2222222222222222,
              "#7201a8"
             ],
             [
              0.3333333333333333,
              "#9c179e"
             ],
             [
              0.4444444444444444,
              "#bd3786"
             ],
             [
              0.5555555555555556,
              "#d8576b"
             ],
             [
              0.6666666666666666,
              "#ed7953"
             ],
             [
              0.7777777777777778,
              "#fb9f3a"
             ],
             [
              0.8888888888888888,
              "#fdca26"
             ],
             [
              1,
              "#f0f921"
             ]
            ],
            "type": "contour"
           }
          ],
          "contourcarpet": [
           {
            "colorbar": {
             "outlinewidth": 0,
             "ticks": ""
            },
            "type": "contourcarpet"
           }
          ],
          "heatmap": [
           {
            "colorbar": {
             "outlinewidth": 0,
             "ticks": ""
            },
            "colorscale": [
             [
              0,
              "#0d0887"
             ],
             [
              0.1111111111111111,
              "#46039f"
             ],
             [
              0.2222222222222222,
              "#7201a8"
             ],
             [
              0.3333333333333333,
              "#9c179e"
             ],
             [
              0.4444444444444444,
              "#bd3786"
             ],
             [
              0.5555555555555556,
              "#d8576b"
             ],
             [
              0.6666666666666666,
              "#ed7953"
             ],
             [
              0.7777777777777778,
              "#fb9f3a"
             ],
             [
              0.8888888888888888,
              "#fdca26"
             ],
             [
              1,
              "#f0f921"
             ]
            ],
            "type": "heatmap"
           }
          ],
          "heatmapgl": [
           {
            "colorbar": {
             "outlinewidth": 0,
             "ticks": ""
            },
            "colorscale": [
             [
              0,
              "#0d0887"
             ],
             [
              0.1111111111111111,
              "#46039f"
             ],
             [
              0.2222222222222222,
              "#7201a8"
             ],
             [
              0.3333333333333333,
              "#9c179e"
             ],
             [
              0.4444444444444444,
              "#bd3786"
             ],
             [
              0.5555555555555556,
              "#d8576b"
             ],
             [
              0.6666666666666666,
              "#ed7953"
             ],
             [
              0.7777777777777778,
              "#fb9f3a"
             ],
             [
              0.8888888888888888,
              "#fdca26"
             ],
             [
              1,
              "#f0f921"
             ]
            ],
            "type": "heatmapgl"
           }
          ],
          "histogram": [
           {
            "marker": {
             "colorbar": {
              "outlinewidth": 0,
              "ticks": ""
             }
            },
            "type": "histogram"
           }
          ],
          "histogram2d": [
           {
            "colorbar": {
             "outlinewidth": 0,
             "ticks": ""
            },
            "colorscale": [
             [
              0,
              "#0d0887"
             ],
             [
              0.1111111111111111,
              "#46039f"
             ],
             [
              0.2222222222222222,
              "#7201a8"
             ],
             [
              0.3333333333333333,
              "#9c179e"
             ],
             [
              0.4444444444444444,
              "#bd3786"
             ],
             [
              0.5555555555555556,
              "#d8576b"
             ],
             [
              0.6666666666666666,
              "#ed7953"
             ],
             [
              0.7777777777777778,
              "#fb9f3a"
             ],
             [
              0.8888888888888888,
              "#fdca26"
             ],
             [
              1,
              "#f0f921"
             ]
            ],
            "type": "histogram2d"
           }
          ],
          "histogram2dcontour": [
           {
            "colorbar": {
             "outlinewidth": 0,
             "ticks": ""
            },
            "colorscale": [
             [
              0,
              "#0d0887"
             ],
             [
              0.1111111111111111,
              "#46039f"
             ],
             [
              0.2222222222222222,
              "#7201a8"
             ],
             [
              0.3333333333333333,
              "#9c179e"
             ],
             [
              0.4444444444444444,
              "#bd3786"
             ],
             [
              0.5555555555555556,
              "#d8576b"
             ],
             [
              0.6666666666666666,
              "#ed7953"
             ],
             [
              0.7777777777777778,
              "#fb9f3a"
             ],
             [
              0.8888888888888888,
              "#fdca26"
             ],
             [
              1,
              "#f0f921"
             ]
            ],
            "type": "histogram2dcontour"
           }
          ],
          "mesh3d": [
           {
            "colorbar": {
             "outlinewidth": 0,
             "ticks": ""
            },
            "type": "mesh3d"
           }
          ],
          "parcoords": [
           {
            "line": {
             "colorbar": {
              "outlinewidth": 0,
              "ticks": ""
             }
            },
            "type": "parcoords"
           }
          ],
          "pie": [
           {
            "automargin": true,
            "type": "pie"
           }
          ],
          "scatter": [
           {
            "marker": {
             "colorbar": {
              "outlinewidth": 0,
              "ticks": ""
             }
            },
            "type": "scatter"
           }
          ],
          "scatter3d": [
           {
            "line": {
             "colorbar": {
              "outlinewidth": 0,
              "ticks": ""
             }
            },
            "marker": {
             "colorbar": {
              "outlinewidth": 0,
              "ticks": ""
             }
            },
            "type": "scatter3d"
           }
          ],
          "scattercarpet": [
           {
            "marker": {
             "colorbar": {
              "outlinewidth": 0,
              "ticks": ""
             }
            },
            "type": "scattercarpet"
           }
          ],
          "scattergeo": [
           {
            "marker": {
             "colorbar": {
              "outlinewidth": 0,
              "ticks": ""
             }
            },
            "type": "scattergeo"
           }
          ],
          "scattergl": [
           {
            "marker": {
             "colorbar": {
              "outlinewidth": 0,
              "ticks": ""
             }
            },
            "type": "scattergl"
           }
          ],
          "scattermapbox": [
           {
            "marker": {
             "colorbar": {
              "outlinewidth": 0,
              "ticks": ""
             }
            },
            "type": "scattermapbox"
           }
          ],
          "scatterpolar": [
           {
            "marker": {
             "colorbar": {
              "outlinewidth": 0,
              "ticks": ""
             }
            },
            "type": "scatterpolar"
           }
          ],
          "scatterpolargl": [
           {
            "marker": {
             "colorbar": {
              "outlinewidth": 0,
              "ticks": ""
             }
            },
            "type": "scatterpolargl"
           }
          ],
          "scatterternary": [
           {
            "marker": {
             "colorbar": {
              "outlinewidth": 0,
              "ticks": ""
             }
            },
            "type": "scatterternary"
           }
          ],
          "surface": [
           {
            "colorbar": {
             "outlinewidth": 0,
             "ticks": ""
            },
            "colorscale": [
             [
              0,
              "#0d0887"
             ],
             [
              0.1111111111111111,
              "#46039f"
             ],
             [
              0.2222222222222222,
              "#7201a8"
             ],
             [
              0.3333333333333333,
              "#9c179e"
             ],
             [
              0.4444444444444444,
              "#bd3786"
             ],
             [
              0.5555555555555556,
              "#d8576b"
             ],
             [
              0.6666666666666666,
              "#ed7953"
             ],
             [
              0.7777777777777778,
              "#fb9f3a"
             ],
             [
              0.8888888888888888,
              "#fdca26"
             ],
             [
              1,
              "#f0f921"
             ]
            ],
            "type": "surface"
           }
          ],
          "table": [
           {
            "cells": {
             "fill": {
              "color": "#EBF0F8"
             },
             "line": {
              "color": "white"
             }
            },
            "header": {
             "fill": {
              "color": "#C8D4E3"
             },
             "line": {
              "color": "white"
             }
            },
            "type": "table"
           }
          ]
         },
         "layout": {
          "annotationdefaults": {
           "arrowcolor": "#2a3f5f",
           "arrowhead": 0,
           "arrowwidth": 1
          },
          "autotypenumbers": "strict",
          "coloraxis": {
           "colorbar": {
            "outlinewidth": 0,
            "ticks": ""
           }
          },
          "colorscale": {
           "diverging": [
            [
             0,
             "#8e0152"
            ],
            [
             0.1,
             "#c51b7d"
            ],
            [
             0.2,
             "#de77ae"
            ],
            [
             0.3,
             "#f1b6da"
            ],
            [
             0.4,
             "#fde0ef"
            ],
            [
             0.5,
             "#f7f7f7"
            ],
            [
             0.6,
             "#e6f5d0"
            ],
            [
             0.7,
             "#b8e186"
            ],
            [
             0.8,
             "#7fbc41"
            ],
            [
             0.9,
             "#4d9221"
            ],
            [
             1,
             "#276419"
            ]
           ],
           "sequential": [
            [
             0,
             "#0d0887"
            ],
            [
             0.1111111111111111,
             "#46039f"
            ],
            [
             0.2222222222222222,
             "#7201a8"
            ],
            [
             0.3333333333333333,
             "#9c179e"
            ],
            [
             0.4444444444444444,
             "#bd3786"
            ],
            [
             0.5555555555555556,
             "#d8576b"
            ],
            [
             0.6666666666666666,
             "#ed7953"
            ],
            [
             0.7777777777777778,
             "#fb9f3a"
            ],
            [
             0.8888888888888888,
             "#fdca26"
            ],
            [
             1,
             "#f0f921"
            ]
           ],
           "sequentialminus": [
            [
             0,
             "#0d0887"
            ],
            [
             0.1111111111111111,
             "#46039f"
            ],
            [
             0.2222222222222222,
             "#7201a8"
            ],
            [
             0.3333333333333333,
             "#9c179e"
            ],
            [
             0.4444444444444444,
             "#bd3786"
            ],
            [
             0.5555555555555556,
             "#d8576b"
            ],
            [
             0.6666666666666666,
             "#ed7953"
            ],
            [
             0.7777777777777778,
             "#fb9f3a"
            ],
            [
             0.8888888888888888,
             "#fdca26"
            ],
            [
             1,
             "#f0f921"
            ]
           ]
          },
          "colorway": [
           "#636efa",
           "#EF553B",
           "#00cc96",
           "#ab63fa",
           "#FFA15A",
           "#19d3f3",
           "#FF6692",
           "#B6E880",
           "#FF97FF",
           "#FECB52"
          ],
          "font": {
           "color": "#2a3f5f"
          },
          "geo": {
           "bgcolor": "white",
           "lakecolor": "white",
           "landcolor": "white",
           "showlakes": true,
           "showland": true,
           "subunitcolor": "#C8D4E3"
          },
          "hoverlabel": {
           "align": "left"
          },
          "hovermode": "closest",
          "mapbox": {
           "style": "light"
          },
          "paper_bgcolor": "white",
          "plot_bgcolor": "white",
          "polar": {
           "angularaxis": {
            "gridcolor": "#EBF0F8",
            "linecolor": "#EBF0F8",
            "ticks": ""
           },
           "bgcolor": "white",
           "radialaxis": {
            "gridcolor": "#EBF0F8",
            "linecolor": "#EBF0F8",
            "ticks": ""
           }
          },
          "scene": {
           "xaxis": {
            "backgroundcolor": "white",
            "gridcolor": "#DFE8F3",
            "gridwidth": 2,
            "linecolor": "#EBF0F8",
            "showbackground": true,
            "ticks": "",
            "zerolinecolor": "#EBF0F8"
           },
           "yaxis": {
            "backgroundcolor": "white",
            "gridcolor": "#DFE8F3",
            "gridwidth": 2,
            "linecolor": "#EBF0F8",
            "showbackground": true,
            "ticks": "",
            "zerolinecolor": "#EBF0F8"
           },
           "zaxis": {
            "backgroundcolor": "white",
            "gridcolor": "#DFE8F3",
            "gridwidth": 2,
            "linecolor": "#EBF0F8",
            "showbackground": true,
            "ticks": "",
            "zerolinecolor": "#EBF0F8"
           }
          },
          "shapedefaults": {
           "line": {
            "color": "#2a3f5f"
           }
          },
          "ternary": {
           "aaxis": {
            "gridcolor": "#DFE8F3",
            "linecolor": "#A2B1C6",
            "ticks": ""
           },
           "baxis": {
            "gridcolor": "#DFE8F3",
            "linecolor": "#A2B1C6",
            "ticks": ""
           },
           "bgcolor": "white",
           "caxis": {
            "gridcolor": "#DFE8F3",
            "linecolor": "#A2B1C6",
            "ticks": ""
           }
          },
          "title": {
           "x": 0.05
          },
          "xaxis": {
           "automargin": true,
           "gridcolor": "#EBF0F8",
           "linecolor": "#EBF0F8",
           "ticks": "",
           "title": {
            "standoff": 15
           },
           "zerolinecolor": "#EBF0F8",
           "zerolinewidth": 2
          },
          "yaxis": {
           "automargin": true,
           "gridcolor": "#EBF0F8",
           "linecolor": "#EBF0F8",
           "ticks": "",
           "title": {
            "standoff": 15
           },
           "zerolinecolor": "#EBF0F8",
           "zerolinewidth": 2
          }
         }
        },
        "title": {
         "text": "Varianza Explicada por cada componente"
        },
        "xaxis": {
         "anchor": "y",
         "domain": [
          0,
          1
         ],
         "title": {
          "text": "x"
         }
        },
        "yaxis": {
         "anchor": "x",
         "domain": [
          0,
          1
         ],
         "title": {
          "text": "y"
         }
        }
       }
      },
      "text/html": [
       "<div>                            <div id=\"652afa31-91c1-43bf-8c4f-056a6e4ce925\" class=\"plotly-graph-div\" style=\"height:525px; width:100%;\"></div>            <script type=\"text/javascript\">                require([\"plotly\"], function(Plotly) {                    window.PLOTLYENV=window.PLOTLYENV || {};                                    if (document.getElementById(\"652afa31-91c1-43bf-8c4f-056a6e4ce925\")) {                    Plotly.newPlot(                        \"652afa31-91c1-43bf-8c4f-056a6e4ce925\",                        [{\"alignmentgroup\": \"True\", \"hovertemplate\": \"x=%{x}<br>y=%{y}<br>text=%{text}<extra></extra>\", \"legendgroup\": \"\", \"marker\": {\"color\": \"#636efa\"}, \"name\": \"\", \"offsetgroup\": \"\", \"orientation\": \"v\", \"showlegend\": false, \"text\": [68.84, 19.31, 9.13, 2.71], \"textposition\": \"auto\", \"type\": \"bar\", \"x\": [\"PC1\", \"PC2\", \"PC3\", \"PC4\"], \"xaxis\": \"x\", \"y\": [68.84, 19.31, 9.13, 2.71], \"yaxis\": \"y\"}],                        {\"barmode\": \"relative\", \"legend\": {\"tracegroupgap\": 0}, \"template\": {\"data\": {\"bar\": [{\"error_x\": {\"color\": \"#2a3f5f\"}, \"error_y\": {\"color\": \"#2a3f5f\"}, \"marker\": {\"line\": {\"color\": \"white\", \"width\": 0.5}}, \"type\": \"bar\"}], \"barpolar\": [{\"marker\": {\"line\": {\"color\": \"white\", \"width\": 0.5}}, \"type\": \"barpolar\"}], \"carpet\": [{\"aaxis\": {\"endlinecolor\": \"#2a3f5f\", \"gridcolor\": \"#C8D4E3\", \"linecolor\": \"#C8D4E3\", \"minorgridcolor\": \"#C8D4E3\", \"startlinecolor\": \"#2a3f5f\"}, \"baxis\": {\"endlinecolor\": \"#2a3f5f\", \"gridcolor\": \"#C8D4E3\", \"linecolor\": \"#C8D4E3\", \"minorgridcolor\": \"#C8D4E3\", \"startlinecolor\": \"#2a3f5f\"}, \"type\": \"carpet\"}], \"choropleth\": [{\"colorbar\": {\"outlinewidth\": 0, \"ticks\": \"\"}, \"type\": \"choropleth\"}], \"contour\": [{\"colorbar\": {\"outlinewidth\": 0, \"ticks\": \"\"}, \"colorscale\": [[0.0, \"#0d0887\"], [0.1111111111111111, \"#46039f\"], [0.2222222222222222, \"#7201a8\"], [0.3333333333333333, \"#9c179e\"], [0.4444444444444444, \"#bd3786\"], [0.5555555555555556, \"#d8576b\"], [0.6666666666666666, \"#ed7953\"], [0.7777777777777778, \"#fb9f3a\"], [0.8888888888888888, \"#fdca26\"], [1.0, \"#f0f921\"]], \"type\": \"contour\"}], \"contourcarpet\": [{\"colorbar\": {\"outlinewidth\": 0, \"ticks\": \"\"}, \"type\": \"contourcarpet\"}], \"heatmap\": [{\"colorbar\": {\"outlinewidth\": 0, \"ticks\": \"\"}, \"colorscale\": [[0.0, \"#0d0887\"], [0.1111111111111111, \"#46039f\"], [0.2222222222222222, \"#7201a8\"], [0.3333333333333333, \"#9c179e\"], [0.4444444444444444, \"#bd3786\"], [0.5555555555555556, \"#d8576b\"], [0.6666666666666666, \"#ed7953\"], [0.7777777777777778, \"#fb9f3a\"], [0.8888888888888888, \"#fdca26\"], [1.0, \"#f0f921\"]], \"type\": \"heatmap\"}], \"heatmapgl\": [{\"colorbar\": {\"outlinewidth\": 0, \"ticks\": \"\"}, \"colorscale\": [[0.0, \"#0d0887\"], [0.1111111111111111, \"#46039f\"], [0.2222222222222222, \"#7201a8\"], [0.3333333333333333, \"#9c179e\"], [0.4444444444444444, \"#bd3786\"], [0.5555555555555556, \"#d8576b\"], [0.6666666666666666, \"#ed7953\"], [0.7777777777777778, \"#fb9f3a\"], [0.8888888888888888, \"#fdca26\"], [1.0, \"#f0f921\"]], \"type\": \"heatmapgl\"}], \"histogram\": [{\"marker\": {\"colorbar\": {\"outlinewidth\": 0, \"ticks\": \"\"}}, \"type\": \"histogram\"}], \"histogram2d\": [{\"colorbar\": {\"outlinewidth\": 0, \"ticks\": \"\"}, \"colorscale\": [[0.0, \"#0d0887\"], [0.1111111111111111, \"#46039f\"], [0.2222222222222222, \"#7201a8\"], [0.3333333333333333, \"#9c179e\"], [0.4444444444444444, \"#bd3786\"], [0.5555555555555556, \"#d8576b\"], [0.6666666666666666, \"#ed7953\"], [0.7777777777777778, \"#fb9f3a\"], [0.8888888888888888, \"#fdca26\"], [1.0, \"#f0f921\"]], \"type\": \"histogram2d\"}], \"histogram2dcontour\": [{\"colorbar\": {\"outlinewidth\": 0, \"ticks\": \"\"}, \"colorscale\": [[0.0, \"#0d0887\"], [0.1111111111111111, \"#46039f\"], [0.2222222222222222, \"#7201a8\"], [0.3333333333333333, \"#9c179e\"], [0.4444444444444444, \"#bd3786\"], [0.5555555555555556, \"#d8576b\"], [0.6666666666666666, \"#ed7953\"], [0.7777777777777778, \"#fb9f3a\"], [0.8888888888888888, \"#fdca26\"], [1.0, \"#f0f921\"]], \"type\": \"histogram2dcontour\"}], \"mesh3d\": [{\"colorbar\": {\"outlinewidth\": 0, \"ticks\": \"\"}, \"type\": \"mesh3d\"}], \"parcoords\": [{\"line\": {\"colorbar\": {\"outlinewidth\": 0, \"ticks\": \"\"}}, \"type\": \"parcoords\"}], \"pie\": [{\"automargin\": true, \"type\": \"pie\"}], \"scatter\": [{\"marker\": {\"colorbar\": {\"outlinewidth\": 0, \"ticks\": \"\"}}, \"type\": \"scatter\"}], \"scatter3d\": [{\"line\": {\"colorbar\": {\"outlinewidth\": 0, \"ticks\": \"\"}}, \"marker\": {\"colorbar\": {\"outlinewidth\": 0, \"ticks\": \"\"}}, \"type\": \"scatter3d\"}], \"scattercarpet\": [{\"marker\": {\"colorbar\": {\"outlinewidth\": 0, \"ticks\": \"\"}}, \"type\": \"scattercarpet\"}], \"scattergeo\": [{\"marker\": {\"colorbar\": {\"outlinewidth\": 0, \"ticks\": \"\"}}, \"type\": \"scattergeo\"}], \"scattergl\": [{\"marker\": {\"colorbar\": {\"outlinewidth\": 0, \"ticks\": \"\"}}, \"type\": \"scattergl\"}], \"scattermapbox\": [{\"marker\": {\"colorbar\": {\"outlinewidth\": 0, \"ticks\": \"\"}}, \"type\": \"scattermapbox\"}], \"scatterpolar\": [{\"marker\": {\"colorbar\": {\"outlinewidth\": 0, \"ticks\": \"\"}}, \"type\": \"scatterpolar\"}], \"scatterpolargl\": [{\"marker\": {\"colorbar\": {\"outlinewidth\": 0, \"ticks\": \"\"}}, \"type\": \"scatterpolargl\"}], \"scatterternary\": [{\"marker\": {\"colorbar\": {\"outlinewidth\": 0, \"ticks\": \"\"}}, \"type\": \"scatterternary\"}], \"surface\": [{\"colorbar\": {\"outlinewidth\": 0, \"ticks\": \"\"}, \"colorscale\": [[0.0, \"#0d0887\"], [0.1111111111111111, \"#46039f\"], [0.2222222222222222, \"#7201a8\"], [0.3333333333333333, \"#9c179e\"], [0.4444444444444444, \"#bd3786\"], [0.5555555555555556, \"#d8576b\"], [0.6666666666666666, \"#ed7953\"], [0.7777777777777778, \"#fb9f3a\"], [0.8888888888888888, \"#fdca26\"], [1.0, \"#f0f921\"]], \"type\": \"surface\"}], \"table\": [{\"cells\": {\"fill\": {\"color\": \"#EBF0F8\"}, \"line\": {\"color\": \"white\"}}, \"header\": {\"fill\": {\"color\": \"#C8D4E3\"}, \"line\": {\"color\": \"white\"}}, \"type\": \"table\"}]}, \"layout\": {\"annotationdefaults\": {\"arrowcolor\": \"#2a3f5f\", \"arrowhead\": 0, \"arrowwidth\": 1}, \"autotypenumbers\": \"strict\", \"coloraxis\": {\"colorbar\": {\"outlinewidth\": 0, \"ticks\": \"\"}}, \"colorscale\": {\"diverging\": [[0, \"#8e0152\"], [0.1, \"#c51b7d\"], [0.2, \"#de77ae\"], [0.3, \"#f1b6da\"], [0.4, \"#fde0ef\"], [0.5, \"#f7f7f7\"], [0.6, \"#e6f5d0\"], [0.7, \"#b8e186\"], [0.8, \"#7fbc41\"], [0.9, \"#4d9221\"], [1, \"#276419\"]], \"sequential\": [[0.0, \"#0d0887\"], [0.1111111111111111, \"#46039f\"], [0.2222222222222222, \"#7201a8\"], [0.3333333333333333, \"#9c179e\"], [0.4444444444444444, \"#bd3786\"], [0.5555555555555556, \"#d8576b\"], [0.6666666666666666, \"#ed7953\"], [0.7777777777777778, \"#fb9f3a\"], [0.8888888888888888, \"#fdca26\"], [1.0, \"#f0f921\"]], \"sequentialminus\": [[0.0, \"#0d0887\"], [0.1111111111111111, \"#46039f\"], [0.2222222222222222, \"#7201a8\"], [0.3333333333333333, \"#9c179e\"], [0.4444444444444444, \"#bd3786\"], [0.5555555555555556, \"#d8576b\"], [0.6666666666666666, \"#ed7953\"], [0.7777777777777778, \"#fb9f3a\"], [0.8888888888888888, \"#fdca26\"], [1.0, \"#f0f921\"]]}, \"colorway\": [\"#636efa\", \"#EF553B\", \"#00cc96\", \"#ab63fa\", \"#FFA15A\", \"#19d3f3\", \"#FF6692\", \"#B6E880\", \"#FF97FF\", \"#FECB52\"], \"font\": {\"color\": \"#2a3f5f\"}, \"geo\": {\"bgcolor\": \"white\", \"lakecolor\": \"white\", \"landcolor\": \"white\", \"showlakes\": true, \"showland\": true, \"subunitcolor\": \"#C8D4E3\"}, \"hoverlabel\": {\"align\": \"left\"}, \"hovermode\": \"closest\", \"mapbox\": {\"style\": \"light\"}, \"paper_bgcolor\": \"white\", \"plot_bgcolor\": \"white\", \"polar\": {\"angularaxis\": {\"gridcolor\": \"#EBF0F8\", \"linecolor\": \"#EBF0F8\", \"ticks\": \"\"}, \"bgcolor\": \"white\", \"radialaxis\": {\"gridcolor\": \"#EBF0F8\", \"linecolor\": \"#EBF0F8\", \"ticks\": \"\"}}, \"scene\": {\"xaxis\": {\"backgroundcolor\": \"white\", \"gridcolor\": \"#DFE8F3\", \"gridwidth\": 2, \"linecolor\": \"#EBF0F8\", \"showbackground\": true, \"ticks\": \"\", \"zerolinecolor\": \"#EBF0F8\"}, \"yaxis\": {\"backgroundcolor\": \"white\", \"gridcolor\": \"#DFE8F3\", \"gridwidth\": 2, \"linecolor\": \"#EBF0F8\", \"showbackground\": true, \"ticks\": \"\", \"zerolinecolor\": \"#EBF0F8\"}, \"zaxis\": {\"backgroundcolor\": \"white\", \"gridcolor\": \"#DFE8F3\", \"gridwidth\": 2, \"linecolor\": \"#EBF0F8\", \"showbackground\": true, \"ticks\": \"\", \"zerolinecolor\": \"#EBF0F8\"}}, \"shapedefaults\": {\"line\": {\"color\": \"#2a3f5f\"}}, \"ternary\": {\"aaxis\": {\"gridcolor\": \"#DFE8F3\", \"linecolor\": \"#A2B1C6\", \"ticks\": \"\"}, \"baxis\": {\"gridcolor\": \"#DFE8F3\", \"linecolor\": \"#A2B1C6\", \"ticks\": \"\"}, \"bgcolor\": \"white\", \"caxis\": {\"gridcolor\": \"#DFE8F3\", \"linecolor\": \"#A2B1C6\", \"ticks\": \"\"}}, \"title\": {\"x\": 0.05}, \"xaxis\": {\"automargin\": true, \"gridcolor\": \"#EBF0F8\", \"linecolor\": \"#EBF0F8\", \"ticks\": \"\", \"title\": {\"standoff\": 15}, \"zerolinecolor\": \"#EBF0F8\", \"zerolinewidth\": 2}, \"yaxis\": {\"automargin\": true, \"gridcolor\": \"#EBF0F8\", \"linecolor\": \"#EBF0F8\", \"ticks\": \"\", \"title\": {\"standoff\": 15}, \"zerolinecolor\": \"#EBF0F8\", \"zerolinewidth\": 2}}}, \"title\": {\"text\": \"Varianza Explicada por cada componente\"}, \"xaxis\": {\"anchor\": \"y\", \"domain\": [0.0, 1.0], \"title\": {\"text\": \"x\"}}, \"yaxis\": {\"anchor\": \"x\", \"domain\": [0.0, 1.0], \"title\": {\"text\": \"y\"}}},                        {\"responsive\": true}                    ).then(function(){\n",
       "                            \n",
       "var gd = document.getElementById('652afa31-91c1-43bf-8c4f-056a6e4ce925');\n",
       "var x = new MutationObserver(function (mutations, observer) {{\n",
       "        var display = window.getComputedStyle(gd).display;\n",
       "        if (!display || display === 'none') {{\n",
       "            console.log([gd, 'removed!']);\n",
       "            Plotly.purge(gd);\n",
       "            observer.disconnect();\n",
       "        }}\n",
       "}});\n",
       "\n",
       "// Listen for the removal of the full notebook cells\n",
       "var notebookContainer = gd.closest('#notebook-container');\n",
       "if (notebookContainer) {{\n",
       "    x.observe(notebookContainer, {childList: true});\n",
       "}}\n",
       "\n",
       "// Listen for the clearing of the current output cell\n",
       "var outputEl = gd.closest('.output');\n",
       "if (outputEl) {{\n",
       "    x.observe(outputEl, {childList: true});\n",
       "}}\n",
       "\n",
       "                        })                };                });            </script>        </div>"
      ]
     },
     "metadata": {},
     "output_type": "display_data"
    }
   ],
   "source": [
    "columns = ['PC1', 'PC2', 'PC3', 'PC4']\n",
    "px.bar(x = columns, y = percent_variance, text = percent_variance, template = 'plotly_white', title = 'Varianza Explicada por cada componente')"
   ]
  },
  {
   "cell_type": "code",
   "execution_count": 34,
   "metadata": {
    "ExecuteTime": {
     "end_time": "2021-07-21T19:06:22.550169Z",
     "start_time": "2021-07-21T19:06:22.511218Z"
    }
   },
   "outputs": [
    {
     "data": {
      "application/vnd.plotly.v1+json": {
       "config": {
        "plotlyServerURL": "https://plot.ly"
       },
       "data": [
        {
         "alignmentgroup": "True",
         "hovertemplate": "x=%{x}<br>y=%{y}<br>text=%{text}<extra></extra>",
         "legendgroup": "",
         "marker": {
          "color": "#636efa"
         },
         "name": "",
         "offsetgroup": "",
         "orientation": "v",
         "showlegend": false,
         "text": [
          68.84,
          88.15,
          97.28,
          99.99
         ],
         "textposition": "auto",
         "type": "bar",
         "x": [
          "PC1",
          "PC2",
          "PC3",
          "PC4"
         ],
         "xaxis": "x",
         "y": [
          68.84,
          88.15,
          97.28,
          99.99
         ],
         "yaxis": "y"
        }
       ],
       "layout": {
        "barmode": "relative",
        "legend": {
         "tracegroupgap": 0
        },
        "margin": {
         "t": 60
        },
        "template": {
         "data": {
          "bar": [
           {
            "error_x": {
             "color": "#2a3f5f"
            },
            "error_y": {
             "color": "#2a3f5f"
            },
            "marker": {
             "line": {
              "color": "white",
              "width": 0.5
             }
            },
            "type": "bar"
           }
          ],
          "barpolar": [
           {
            "marker": {
             "line": {
              "color": "white",
              "width": 0.5
             }
            },
            "type": "barpolar"
           }
          ],
          "carpet": [
           {
            "aaxis": {
             "endlinecolor": "#2a3f5f",
             "gridcolor": "#C8D4E3",
             "linecolor": "#C8D4E3",
             "minorgridcolor": "#C8D4E3",
             "startlinecolor": "#2a3f5f"
            },
            "baxis": {
             "endlinecolor": "#2a3f5f",
             "gridcolor": "#C8D4E3",
             "linecolor": "#C8D4E3",
             "minorgridcolor": "#C8D4E3",
             "startlinecolor": "#2a3f5f"
            },
            "type": "carpet"
           }
          ],
          "choropleth": [
           {
            "colorbar": {
             "outlinewidth": 0,
             "ticks": ""
            },
            "type": "choropleth"
           }
          ],
          "contour": [
           {
            "colorbar": {
             "outlinewidth": 0,
             "ticks": ""
            },
            "colorscale": [
             [
              0,
              "#0d0887"
             ],
             [
              0.1111111111111111,
              "#46039f"
             ],
             [
              0.2222222222222222,
              "#7201a8"
             ],
             [
              0.3333333333333333,
              "#9c179e"
             ],
             [
              0.4444444444444444,
              "#bd3786"
             ],
             [
              0.5555555555555556,
              "#d8576b"
             ],
             [
              0.6666666666666666,
              "#ed7953"
             ],
             [
              0.7777777777777778,
              "#fb9f3a"
             ],
             [
              0.8888888888888888,
              "#fdca26"
             ],
             [
              1,
              "#f0f921"
             ]
            ],
            "type": "contour"
           }
          ],
          "contourcarpet": [
           {
            "colorbar": {
             "outlinewidth": 0,
             "ticks": ""
            },
            "type": "contourcarpet"
           }
          ],
          "heatmap": [
           {
            "colorbar": {
             "outlinewidth": 0,
             "ticks": ""
            },
            "colorscale": [
             [
              0,
              "#0d0887"
             ],
             [
              0.1111111111111111,
              "#46039f"
             ],
             [
              0.2222222222222222,
              "#7201a8"
             ],
             [
              0.3333333333333333,
              "#9c179e"
             ],
             [
              0.4444444444444444,
              "#bd3786"
             ],
             [
              0.5555555555555556,
              "#d8576b"
             ],
             [
              0.6666666666666666,
              "#ed7953"
             ],
             [
              0.7777777777777778,
              "#fb9f3a"
             ],
             [
              0.8888888888888888,
              "#fdca26"
             ],
             [
              1,
              "#f0f921"
             ]
            ],
            "type": "heatmap"
           }
          ],
          "heatmapgl": [
           {
            "colorbar": {
             "outlinewidth": 0,
             "ticks": ""
            },
            "colorscale": [
             [
              0,
              "#0d0887"
             ],
             [
              0.1111111111111111,
              "#46039f"
             ],
             [
              0.2222222222222222,
              "#7201a8"
             ],
             [
              0.3333333333333333,
              "#9c179e"
             ],
             [
              0.4444444444444444,
              "#bd3786"
             ],
             [
              0.5555555555555556,
              "#d8576b"
             ],
             [
              0.6666666666666666,
              "#ed7953"
             ],
             [
              0.7777777777777778,
              "#fb9f3a"
             ],
             [
              0.8888888888888888,
              "#fdca26"
             ],
             [
              1,
              "#f0f921"
             ]
            ],
            "type": "heatmapgl"
           }
          ],
          "histogram": [
           {
            "marker": {
             "colorbar": {
              "outlinewidth": 0,
              "ticks": ""
             }
            },
            "type": "histogram"
           }
          ],
          "histogram2d": [
           {
            "colorbar": {
             "outlinewidth": 0,
             "ticks": ""
            },
            "colorscale": [
             [
              0,
              "#0d0887"
             ],
             [
              0.1111111111111111,
              "#46039f"
             ],
             [
              0.2222222222222222,
              "#7201a8"
             ],
             [
              0.3333333333333333,
              "#9c179e"
             ],
             [
              0.4444444444444444,
              "#bd3786"
             ],
             [
              0.5555555555555556,
              "#d8576b"
             ],
             [
              0.6666666666666666,
              "#ed7953"
             ],
             [
              0.7777777777777778,
              "#fb9f3a"
             ],
             [
              0.8888888888888888,
              "#fdca26"
             ],
             [
              1,
              "#f0f921"
             ]
            ],
            "type": "histogram2d"
           }
          ],
          "histogram2dcontour": [
           {
            "colorbar": {
             "outlinewidth": 0,
             "ticks": ""
            },
            "colorscale": [
             [
              0,
              "#0d0887"
             ],
             [
              0.1111111111111111,
              "#46039f"
             ],
             [
              0.2222222222222222,
              "#7201a8"
             ],
             [
              0.3333333333333333,
              "#9c179e"
             ],
             [
              0.4444444444444444,
              "#bd3786"
             ],
             [
              0.5555555555555556,
              "#d8576b"
             ],
             [
              0.6666666666666666,
              "#ed7953"
             ],
             [
              0.7777777777777778,
              "#fb9f3a"
             ],
             [
              0.8888888888888888,
              "#fdca26"
             ],
             [
              1,
              "#f0f921"
             ]
            ],
            "type": "histogram2dcontour"
           }
          ],
          "mesh3d": [
           {
            "colorbar": {
             "outlinewidth": 0,
             "ticks": ""
            },
            "type": "mesh3d"
           }
          ],
          "parcoords": [
           {
            "line": {
             "colorbar": {
              "outlinewidth": 0,
              "ticks": ""
             }
            },
            "type": "parcoords"
           }
          ],
          "pie": [
           {
            "automargin": true,
            "type": "pie"
           }
          ],
          "scatter": [
           {
            "marker": {
             "colorbar": {
              "outlinewidth": 0,
              "ticks": ""
             }
            },
            "type": "scatter"
           }
          ],
          "scatter3d": [
           {
            "line": {
             "colorbar": {
              "outlinewidth": 0,
              "ticks": ""
             }
            },
            "marker": {
             "colorbar": {
              "outlinewidth": 0,
              "ticks": ""
             }
            },
            "type": "scatter3d"
           }
          ],
          "scattercarpet": [
           {
            "marker": {
             "colorbar": {
              "outlinewidth": 0,
              "ticks": ""
             }
            },
            "type": "scattercarpet"
           }
          ],
          "scattergeo": [
           {
            "marker": {
             "colorbar": {
              "outlinewidth": 0,
              "ticks": ""
             }
            },
            "type": "scattergeo"
           }
          ],
          "scattergl": [
           {
            "marker": {
             "colorbar": {
              "outlinewidth": 0,
              "ticks": ""
             }
            },
            "type": "scattergl"
           }
          ],
          "scattermapbox": [
           {
            "marker": {
             "colorbar": {
              "outlinewidth": 0,
              "ticks": ""
             }
            },
            "type": "scattermapbox"
           }
          ],
          "scatterpolar": [
           {
            "marker": {
             "colorbar": {
              "outlinewidth": 0,
              "ticks": ""
             }
            },
            "type": "scatterpolar"
           }
          ],
          "scatterpolargl": [
           {
            "marker": {
             "colorbar": {
              "outlinewidth": 0,
              "ticks": ""
             }
            },
            "type": "scatterpolargl"
           }
          ],
          "scatterternary": [
           {
            "marker": {
             "colorbar": {
              "outlinewidth": 0,
              "ticks": ""
             }
            },
            "type": "scatterternary"
           }
          ],
          "surface": [
           {
            "colorbar": {
             "outlinewidth": 0,
             "ticks": ""
            },
            "colorscale": [
             [
              0,
              "#0d0887"
             ],
             [
              0.1111111111111111,
              "#46039f"
             ],
             [
              0.2222222222222222,
              "#7201a8"
             ],
             [
              0.3333333333333333,
              "#9c179e"
             ],
             [
              0.4444444444444444,
              "#bd3786"
             ],
             [
              0.5555555555555556,
              "#d8576b"
             ],
             [
              0.6666666666666666,
              "#ed7953"
             ],
             [
              0.7777777777777778,
              "#fb9f3a"
             ],
             [
              0.8888888888888888,
              "#fdca26"
             ],
             [
              1,
              "#f0f921"
             ]
            ],
            "type": "surface"
           }
          ],
          "table": [
           {
            "cells": {
             "fill": {
              "color": "#EBF0F8"
             },
             "line": {
              "color": "white"
             }
            },
            "header": {
             "fill": {
              "color": "#C8D4E3"
             },
             "line": {
              "color": "white"
             }
            },
            "type": "table"
           }
          ]
         },
         "layout": {
          "annotationdefaults": {
           "arrowcolor": "#2a3f5f",
           "arrowhead": 0,
           "arrowwidth": 1
          },
          "autotypenumbers": "strict",
          "coloraxis": {
           "colorbar": {
            "outlinewidth": 0,
            "ticks": ""
           }
          },
          "colorscale": {
           "diverging": [
            [
             0,
             "#8e0152"
            ],
            [
             0.1,
             "#c51b7d"
            ],
            [
             0.2,
             "#de77ae"
            ],
            [
             0.3,
             "#f1b6da"
            ],
            [
             0.4,
             "#fde0ef"
            ],
            [
             0.5,
             "#f7f7f7"
            ],
            [
             0.6,
             "#e6f5d0"
            ],
            [
             0.7,
             "#b8e186"
            ],
            [
             0.8,
             "#7fbc41"
            ],
            [
             0.9,
             "#4d9221"
            ],
            [
             1,
             "#276419"
            ]
           ],
           "sequential": [
            [
             0,
             "#0d0887"
            ],
            [
             0.1111111111111111,
             "#46039f"
            ],
            [
             0.2222222222222222,
             "#7201a8"
            ],
            [
             0.3333333333333333,
             "#9c179e"
            ],
            [
             0.4444444444444444,
             "#bd3786"
            ],
            [
             0.5555555555555556,
             "#d8576b"
            ],
            [
             0.6666666666666666,
             "#ed7953"
            ],
            [
             0.7777777777777778,
             "#fb9f3a"
            ],
            [
             0.8888888888888888,
             "#fdca26"
            ],
            [
             1,
             "#f0f921"
            ]
           ],
           "sequentialminus": [
            [
             0,
             "#0d0887"
            ],
            [
             0.1111111111111111,
             "#46039f"
            ],
            [
             0.2222222222222222,
             "#7201a8"
            ],
            [
             0.3333333333333333,
             "#9c179e"
            ],
            [
             0.4444444444444444,
             "#bd3786"
            ],
            [
             0.5555555555555556,
             "#d8576b"
            ],
            [
             0.6666666666666666,
             "#ed7953"
            ],
            [
             0.7777777777777778,
             "#fb9f3a"
            ],
            [
             0.8888888888888888,
             "#fdca26"
            ],
            [
             1,
             "#f0f921"
            ]
           ]
          },
          "colorway": [
           "#636efa",
           "#EF553B",
           "#00cc96",
           "#ab63fa",
           "#FFA15A",
           "#19d3f3",
           "#FF6692",
           "#B6E880",
           "#FF97FF",
           "#FECB52"
          ],
          "font": {
           "color": "#2a3f5f"
          },
          "geo": {
           "bgcolor": "white",
           "lakecolor": "white",
           "landcolor": "white",
           "showlakes": true,
           "showland": true,
           "subunitcolor": "#C8D4E3"
          },
          "hoverlabel": {
           "align": "left"
          },
          "hovermode": "closest",
          "mapbox": {
           "style": "light"
          },
          "paper_bgcolor": "white",
          "plot_bgcolor": "white",
          "polar": {
           "angularaxis": {
            "gridcolor": "#EBF0F8",
            "linecolor": "#EBF0F8",
            "ticks": ""
           },
           "bgcolor": "white",
           "radialaxis": {
            "gridcolor": "#EBF0F8",
            "linecolor": "#EBF0F8",
            "ticks": ""
           }
          },
          "scene": {
           "xaxis": {
            "backgroundcolor": "white",
            "gridcolor": "#DFE8F3",
            "gridwidth": 2,
            "linecolor": "#EBF0F8",
            "showbackground": true,
            "ticks": "",
            "zerolinecolor": "#EBF0F8"
           },
           "yaxis": {
            "backgroundcolor": "white",
            "gridcolor": "#DFE8F3",
            "gridwidth": 2,
            "linecolor": "#EBF0F8",
            "showbackground": true,
            "ticks": "",
            "zerolinecolor": "#EBF0F8"
           },
           "zaxis": {
            "backgroundcolor": "white",
            "gridcolor": "#DFE8F3",
            "gridwidth": 2,
            "linecolor": "#EBF0F8",
            "showbackground": true,
            "ticks": "",
            "zerolinecolor": "#EBF0F8"
           }
          },
          "shapedefaults": {
           "line": {
            "color": "#2a3f5f"
           }
          },
          "ternary": {
           "aaxis": {
            "gridcolor": "#DFE8F3",
            "linecolor": "#A2B1C6",
            "ticks": ""
           },
           "baxis": {
            "gridcolor": "#DFE8F3",
            "linecolor": "#A2B1C6",
            "ticks": ""
           },
           "bgcolor": "white",
           "caxis": {
            "gridcolor": "#DFE8F3",
            "linecolor": "#A2B1C6",
            "ticks": ""
           }
          },
          "title": {
           "x": 0.05
          },
          "xaxis": {
           "automargin": true,
           "gridcolor": "#EBF0F8",
           "linecolor": "#EBF0F8",
           "ticks": "",
           "title": {
            "standoff": 15
           },
           "zerolinecolor": "#EBF0F8",
           "zerolinewidth": 2
          },
          "yaxis": {
           "automargin": true,
           "gridcolor": "#EBF0F8",
           "linecolor": "#EBF0F8",
           "ticks": "",
           "title": {
            "standoff": 15
           },
           "zerolinecolor": "#EBF0F8",
           "zerolinewidth": 2
          }
         }
        },
        "xaxis": {
         "anchor": "y",
         "domain": [
          0,
          1
         ],
         "title": {
          "text": "x"
         }
        },
        "yaxis": {
         "anchor": "x",
         "domain": [
          0,
          1
         ],
         "title": {
          "text": "y"
         }
        }
       }
      },
      "text/html": [
       "<div>                            <div id=\"8cddbd0d-36a9-402c-8a72-b17d39b99385\" class=\"plotly-graph-div\" style=\"height:525px; width:100%;\"></div>            <script type=\"text/javascript\">                require([\"plotly\"], function(Plotly) {                    window.PLOTLYENV=window.PLOTLYENV || {};                                    if (document.getElementById(\"8cddbd0d-36a9-402c-8a72-b17d39b99385\")) {                    Plotly.newPlot(                        \"8cddbd0d-36a9-402c-8a72-b17d39b99385\",                        [{\"alignmentgroup\": \"True\", \"hovertemplate\": \"x=%{x}<br>y=%{y}<br>text=%{text}<extra></extra>\", \"legendgroup\": \"\", \"marker\": {\"color\": \"#636efa\"}, \"name\": \"\", \"offsetgroup\": \"\", \"orientation\": \"v\", \"showlegend\": false, \"text\": [68.84, 88.15, 97.28, 99.99], \"textposition\": \"auto\", \"type\": \"bar\", \"x\": [\"PC1\", \"PC2\", \"PC3\", \"PC4\"], \"xaxis\": \"x\", \"y\": [68.84, 88.15, 97.28, 99.99], \"yaxis\": \"y\"}],                        {\"barmode\": \"relative\", \"legend\": {\"tracegroupgap\": 0}, \"margin\": {\"t\": 60}, \"template\": {\"data\": {\"bar\": [{\"error_x\": {\"color\": \"#2a3f5f\"}, \"error_y\": {\"color\": \"#2a3f5f\"}, \"marker\": {\"line\": {\"color\": \"white\", \"width\": 0.5}}, \"type\": \"bar\"}], \"barpolar\": [{\"marker\": {\"line\": {\"color\": \"white\", \"width\": 0.5}}, \"type\": \"barpolar\"}], \"carpet\": [{\"aaxis\": {\"endlinecolor\": \"#2a3f5f\", \"gridcolor\": \"#C8D4E3\", \"linecolor\": \"#C8D4E3\", \"minorgridcolor\": \"#C8D4E3\", \"startlinecolor\": \"#2a3f5f\"}, \"baxis\": {\"endlinecolor\": \"#2a3f5f\", \"gridcolor\": \"#C8D4E3\", \"linecolor\": \"#C8D4E3\", \"minorgridcolor\": \"#C8D4E3\", \"startlinecolor\": \"#2a3f5f\"}, \"type\": \"carpet\"}], \"choropleth\": [{\"colorbar\": {\"outlinewidth\": 0, \"ticks\": \"\"}, \"type\": \"choropleth\"}], \"contour\": [{\"colorbar\": {\"outlinewidth\": 0, \"ticks\": \"\"}, \"colorscale\": [[0.0, \"#0d0887\"], [0.1111111111111111, \"#46039f\"], [0.2222222222222222, \"#7201a8\"], [0.3333333333333333, \"#9c179e\"], [0.4444444444444444, \"#bd3786\"], [0.5555555555555556, \"#d8576b\"], [0.6666666666666666, \"#ed7953\"], [0.7777777777777778, \"#fb9f3a\"], [0.8888888888888888, \"#fdca26\"], [1.0, \"#f0f921\"]], \"type\": \"contour\"}], \"contourcarpet\": [{\"colorbar\": {\"outlinewidth\": 0, \"ticks\": \"\"}, \"type\": \"contourcarpet\"}], \"heatmap\": [{\"colorbar\": {\"outlinewidth\": 0, \"ticks\": \"\"}, \"colorscale\": [[0.0, \"#0d0887\"], [0.1111111111111111, \"#46039f\"], [0.2222222222222222, \"#7201a8\"], [0.3333333333333333, \"#9c179e\"], [0.4444444444444444, \"#bd3786\"], [0.5555555555555556, \"#d8576b\"], [0.6666666666666666, \"#ed7953\"], [0.7777777777777778, \"#fb9f3a\"], [0.8888888888888888, \"#fdca26\"], [1.0, \"#f0f921\"]], \"type\": \"heatmap\"}], \"heatmapgl\": [{\"colorbar\": {\"outlinewidth\": 0, \"ticks\": \"\"}, \"colorscale\": [[0.0, \"#0d0887\"], [0.1111111111111111, \"#46039f\"], [0.2222222222222222, \"#7201a8\"], [0.3333333333333333, \"#9c179e\"], [0.4444444444444444, \"#bd3786\"], [0.5555555555555556, \"#d8576b\"], [0.6666666666666666, \"#ed7953\"], [0.7777777777777778, \"#fb9f3a\"], [0.8888888888888888, \"#fdca26\"], [1.0, \"#f0f921\"]], \"type\": \"heatmapgl\"}], \"histogram\": [{\"marker\": {\"colorbar\": {\"outlinewidth\": 0, \"ticks\": \"\"}}, \"type\": \"histogram\"}], \"histogram2d\": [{\"colorbar\": {\"outlinewidth\": 0, \"ticks\": \"\"}, \"colorscale\": [[0.0, \"#0d0887\"], [0.1111111111111111, \"#46039f\"], [0.2222222222222222, \"#7201a8\"], [0.3333333333333333, \"#9c179e\"], [0.4444444444444444, \"#bd3786\"], [0.5555555555555556, \"#d8576b\"], [0.6666666666666666, \"#ed7953\"], [0.7777777777777778, \"#fb9f3a\"], [0.8888888888888888, \"#fdca26\"], [1.0, \"#f0f921\"]], \"type\": \"histogram2d\"}], \"histogram2dcontour\": [{\"colorbar\": {\"outlinewidth\": 0, \"ticks\": \"\"}, \"colorscale\": [[0.0, \"#0d0887\"], [0.1111111111111111, \"#46039f\"], [0.2222222222222222, \"#7201a8\"], [0.3333333333333333, \"#9c179e\"], [0.4444444444444444, \"#bd3786\"], [0.5555555555555556, \"#d8576b\"], [0.6666666666666666, \"#ed7953\"], [0.7777777777777778, \"#fb9f3a\"], [0.8888888888888888, \"#fdca26\"], [1.0, \"#f0f921\"]], \"type\": \"histogram2dcontour\"}], \"mesh3d\": [{\"colorbar\": {\"outlinewidth\": 0, \"ticks\": \"\"}, \"type\": \"mesh3d\"}], \"parcoords\": [{\"line\": {\"colorbar\": {\"outlinewidth\": 0, \"ticks\": \"\"}}, \"type\": \"parcoords\"}], \"pie\": [{\"automargin\": true, \"type\": \"pie\"}], \"scatter\": [{\"marker\": {\"colorbar\": {\"outlinewidth\": 0, \"ticks\": \"\"}}, \"type\": \"scatter\"}], \"scatter3d\": [{\"line\": {\"colorbar\": {\"outlinewidth\": 0, \"ticks\": \"\"}}, \"marker\": {\"colorbar\": {\"outlinewidth\": 0, \"ticks\": \"\"}}, \"type\": \"scatter3d\"}], \"scattercarpet\": [{\"marker\": {\"colorbar\": {\"outlinewidth\": 0, \"ticks\": \"\"}}, \"type\": \"scattercarpet\"}], \"scattergeo\": [{\"marker\": {\"colorbar\": {\"outlinewidth\": 0, \"ticks\": \"\"}}, \"type\": \"scattergeo\"}], \"scattergl\": [{\"marker\": {\"colorbar\": {\"outlinewidth\": 0, \"ticks\": \"\"}}, \"type\": \"scattergl\"}], \"scattermapbox\": [{\"marker\": {\"colorbar\": {\"outlinewidth\": 0, \"ticks\": \"\"}}, \"type\": \"scattermapbox\"}], \"scatterpolar\": [{\"marker\": {\"colorbar\": {\"outlinewidth\": 0, \"ticks\": \"\"}}, \"type\": \"scatterpolar\"}], \"scatterpolargl\": [{\"marker\": {\"colorbar\": {\"outlinewidth\": 0, \"ticks\": \"\"}}, \"type\": \"scatterpolargl\"}], \"scatterternary\": [{\"marker\": {\"colorbar\": {\"outlinewidth\": 0, \"ticks\": \"\"}}, \"type\": \"scatterternary\"}], \"surface\": [{\"colorbar\": {\"outlinewidth\": 0, \"ticks\": \"\"}, \"colorscale\": [[0.0, \"#0d0887\"], [0.1111111111111111, \"#46039f\"], [0.2222222222222222, \"#7201a8\"], [0.3333333333333333, \"#9c179e\"], [0.4444444444444444, \"#bd3786\"], [0.5555555555555556, \"#d8576b\"], [0.6666666666666666, \"#ed7953\"], [0.7777777777777778, \"#fb9f3a\"], [0.8888888888888888, \"#fdca26\"], [1.0, \"#f0f921\"]], \"type\": \"surface\"}], \"table\": [{\"cells\": {\"fill\": {\"color\": \"#EBF0F8\"}, \"line\": {\"color\": \"white\"}}, \"header\": {\"fill\": {\"color\": \"#C8D4E3\"}, \"line\": {\"color\": \"white\"}}, \"type\": \"table\"}]}, \"layout\": {\"annotationdefaults\": {\"arrowcolor\": \"#2a3f5f\", \"arrowhead\": 0, \"arrowwidth\": 1}, \"autotypenumbers\": \"strict\", \"coloraxis\": {\"colorbar\": {\"outlinewidth\": 0, \"ticks\": \"\"}}, \"colorscale\": {\"diverging\": [[0, \"#8e0152\"], [0.1, \"#c51b7d\"], [0.2, \"#de77ae\"], [0.3, \"#f1b6da\"], [0.4, \"#fde0ef\"], [0.5, \"#f7f7f7\"], [0.6, \"#e6f5d0\"], [0.7, \"#b8e186\"], [0.8, \"#7fbc41\"], [0.9, \"#4d9221\"], [1, \"#276419\"]], \"sequential\": [[0.0, \"#0d0887\"], [0.1111111111111111, \"#46039f\"], [0.2222222222222222, \"#7201a8\"], [0.3333333333333333, \"#9c179e\"], [0.4444444444444444, \"#bd3786\"], [0.5555555555555556, \"#d8576b\"], [0.6666666666666666, \"#ed7953\"], [0.7777777777777778, \"#fb9f3a\"], [0.8888888888888888, \"#fdca26\"], [1.0, \"#f0f921\"]], \"sequentialminus\": [[0.0, \"#0d0887\"], [0.1111111111111111, \"#46039f\"], [0.2222222222222222, \"#7201a8\"], [0.3333333333333333, \"#9c179e\"], [0.4444444444444444, \"#bd3786\"], [0.5555555555555556, \"#d8576b\"], [0.6666666666666666, \"#ed7953\"], [0.7777777777777778, \"#fb9f3a\"], [0.8888888888888888, \"#fdca26\"], [1.0, \"#f0f921\"]]}, \"colorway\": [\"#636efa\", \"#EF553B\", \"#00cc96\", \"#ab63fa\", \"#FFA15A\", \"#19d3f3\", \"#FF6692\", \"#B6E880\", \"#FF97FF\", \"#FECB52\"], \"font\": {\"color\": \"#2a3f5f\"}, \"geo\": {\"bgcolor\": \"white\", \"lakecolor\": \"white\", \"landcolor\": \"white\", \"showlakes\": true, \"showland\": true, \"subunitcolor\": \"#C8D4E3\"}, \"hoverlabel\": {\"align\": \"left\"}, \"hovermode\": \"closest\", \"mapbox\": {\"style\": \"light\"}, \"paper_bgcolor\": \"white\", \"plot_bgcolor\": \"white\", \"polar\": {\"angularaxis\": {\"gridcolor\": \"#EBF0F8\", \"linecolor\": \"#EBF0F8\", \"ticks\": \"\"}, \"bgcolor\": \"white\", \"radialaxis\": {\"gridcolor\": \"#EBF0F8\", \"linecolor\": \"#EBF0F8\", \"ticks\": \"\"}}, \"scene\": {\"xaxis\": {\"backgroundcolor\": \"white\", \"gridcolor\": \"#DFE8F3\", \"gridwidth\": 2, \"linecolor\": \"#EBF0F8\", \"showbackground\": true, \"ticks\": \"\", \"zerolinecolor\": \"#EBF0F8\"}, \"yaxis\": {\"backgroundcolor\": \"white\", \"gridcolor\": \"#DFE8F3\", \"gridwidth\": 2, \"linecolor\": \"#EBF0F8\", \"showbackground\": true, \"ticks\": \"\", \"zerolinecolor\": \"#EBF0F8\"}, \"zaxis\": {\"backgroundcolor\": \"white\", \"gridcolor\": \"#DFE8F3\", \"gridwidth\": 2, \"linecolor\": \"#EBF0F8\", \"showbackground\": true, \"ticks\": \"\", \"zerolinecolor\": \"#EBF0F8\"}}, \"shapedefaults\": {\"line\": {\"color\": \"#2a3f5f\"}}, \"ternary\": {\"aaxis\": {\"gridcolor\": \"#DFE8F3\", \"linecolor\": \"#A2B1C6\", \"ticks\": \"\"}, \"baxis\": {\"gridcolor\": \"#DFE8F3\", \"linecolor\": \"#A2B1C6\", \"ticks\": \"\"}, \"bgcolor\": \"white\", \"caxis\": {\"gridcolor\": \"#DFE8F3\", \"linecolor\": \"#A2B1C6\", \"ticks\": \"\"}}, \"title\": {\"x\": 0.05}, \"xaxis\": {\"automargin\": true, \"gridcolor\": \"#EBF0F8\", \"linecolor\": \"#EBF0F8\", \"ticks\": \"\", \"title\": {\"standoff\": 15}, \"zerolinecolor\": \"#EBF0F8\", \"zerolinewidth\": 2}, \"yaxis\": {\"automargin\": true, \"gridcolor\": \"#EBF0F8\", \"linecolor\": \"#EBF0F8\", \"ticks\": \"\", \"title\": {\"standoff\": 15}, \"zerolinecolor\": \"#EBF0F8\", \"zerolinewidth\": 2}}}, \"xaxis\": {\"anchor\": \"y\", \"domain\": [0.0, 1.0], \"title\": {\"text\": \"x\"}}, \"yaxis\": {\"anchor\": \"x\", \"domain\": [0.0, 1.0], \"title\": {\"text\": \"y\"}}},                        {\"responsive\": true}                    ).then(function(){\n",
       "                            \n",
       "var gd = document.getElementById('8cddbd0d-36a9-402c-8a72-b17d39b99385');\n",
       "var x = new MutationObserver(function (mutations, observer) {{\n",
       "        var display = window.getComputedStyle(gd).display;\n",
       "        if (!display || display === 'none') {{\n",
       "            console.log([gd, 'removed!']);\n",
       "            Plotly.purge(gd);\n",
       "            observer.disconnect();\n",
       "        }}\n",
       "}});\n",
       "\n",
       "// Listen for the removal of the full notebook cells\n",
       "var notebookContainer = gd.closest('#notebook-container');\n",
       "if (notebookContainer) {{\n",
       "    x.observe(notebookContainer, {childList: true});\n",
       "}}\n",
       "\n",
       "// Listen for the clearing of the current output cell\n",
       "var outputEl = gd.closest('.output');\n",
       "if (outputEl) {{\n",
       "    x.observe(outputEl, {childList: true});\n",
       "}}\n",
       "\n",
       "                        })                };                });            </script>        </div>"
      ]
     },
     "metadata": {},
     "output_type": "display_data"
    }
   ],
   "source": [
    "px.bar(x = columns, y = percent_variance.cumsum(), text = percent_variance.cumsum(), template = 'plotly_white')"
   ]
  },
  {
   "cell_type": "code",
   "execution_count": 47,
   "metadata": {
    "ExecuteTime": {
     "end_time": "2021-07-21T19:11:44.841381Z",
     "start_time": "2021-07-21T19:11:44.833665Z"
    }
   },
   "outputs": [],
   "source": [
    "principalDataframe['species'] = df_y"
   ]
  },
  {
   "cell_type": "code",
   "execution_count": 49,
   "metadata": {
    "ExecuteTime": {
     "end_time": "2021-07-21T19:11:52.673143Z",
     "start_time": "2021-07-21T19:11:52.659763Z"
    }
   },
   "outputs": [
    {
     "data": {
      "text/html": [
       "<div>\n",
       "<style scoped>\n",
       "    .dataframe tbody tr th:only-of-type {\n",
       "        vertical-align: middle;\n",
       "    }\n",
       "\n",
       "    .dataframe tbody tr th {\n",
       "        vertical-align: top;\n",
       "    }\n",
       "\n",
       "    .dataframe thead th {\n",
       "        text-align: right;\n",
       "    }\n",
       "</style>\n",
       "<table border=\"1\" class=\"dataframe\">\n",
       "  <thead>\n",
       "    <tr style=\"text-align: right;\">\n",
       "      <th></th>\n",
       "      <th>PC1</th>\n",
       "      <th>PC2</th>\n",
       "      <th>PC3</th>\n",
       "      <th>PC4</th>\n",
       "      <th>species</th>\n",
       "    </tr>\n",
       "  </thead>\n",
       "  <tbody>\n",
       "    <tr>\n",
       "      <th>0</th>\n",
       "      <td>-1.843445</td>\n",
       "      <td>0.047702</td>\n",
       "      <td>-0.232794</td>\n",
       "      <td>0.523903</td>\n",
       "      <td>Adelie</td>\n",
       "    </tr>\n",
       "    <tr>\n",
       "      <th>1</th>\n",
       "      <td>-1.306762</td>\n",
       "      <td>-0.428348</td>\n",
       "      <td>-0.029562</td>\n",
       "      <td>0.402426</td>\n",
       "      <td>Adelie</td>\n",
       "    </tr>\n",
       "    <tr>\n",
       "      <th>2</th>\n",
       "      <td>-1.369181</td>\n",
       "      <td>-0.154476</td>\n",
       "      <td>0.198672</td>\n",
       "      <td>-0.528007</td>\n",
       "      <td>Adelie</td>\n",
       "    </tr>\n",
       "    <tr>\n",
       "      <th>3</th>\n",
       "      <td>-1.878827</td>\n",
       "      <td>-0.002048</td>\n",
       "      <td>-0.618596</td>\n",
       "      <td>-0.478378</td>\n",
       "      <td>Adelie</td>\n",
       "    </tr>\n",
       "    <tr>\n",
       "      <th>4</th>\n",
       "      <td>-1.911748</td>\n",
       "      <td>0.829210</td>\n",
       "      <td>-0.686584</td>\n",
       "      <td>-0.207428</td>\n",
       "      <td>Adelie</td>\n",
       "    </tr>\n",
       "  </tbody>\n",
       "</table>\n",
       "</div>"
      ],
      "text/plain": [
       "        PC1       PC2       PC3       PC4 species\n",
       "0 -1.843445  0.047702 -0.232794  0.523903  Adelie\n",
       "1 -1.306762 -0.428348 -0.029562  0.402426  Adelie\n",
       "2 -1.369181 -0.154476  0.198672 -0.528007  Adelie\n",
       "3 -1.878827 -0.002048 -0.618596 -0.478378  Adelie\n",
       "4 -1.911748  0.829210 -0.686584 -0.207428  Adelie"
      ]
     },
     "execution_count": 49,
     "metadata": {},
     "output_type": "execute_result"
    }
   ],
   "source": [
    "principalDataframe.head()"
   ]
  },
  {
   "cell_type": "code",
   "execution_count": 50,
   "metadata": {
    "ExecuteTime": {
     "end_time": "2021-07-21T19:11:57.802702Z",
     "start_time": "2021-07-21T19:11:57.735717Z"
    }
   },
   "outputs": [
    {
     "data": {
      "application/vnd.plotly.v1+json": {
       "config": {
        "plotlyServerURL": "https://plot.ly"
       },
       "data": [
        {
         "hovertemplate": "species=Adelie<br>PC1=%{x}<br>PC2=%{y}<br>PC3=%{z}<extra></extra>",
         "legendgroup": "Adelie",
         "marker": {
          "color": "#636efa",
          "symbol": "circle"
         },
         "mode": "markers",
         "name": "Adelie",
         "scene": "scene",
         "showlegend": true,
         "type": "scatter3d",
         "x": [
          -1.8434448922600581,
          -1.30676189333484,
          -1.3691809940107613,
          -1.8788266505185796,
          -1.9117477292476368,
          -1.763025136873366,
          -0.8100745857868377,
          -1.8352042469566934,
          -1.1942077294440057,
          -1.7302037188105561,
          -1.7430395210214407,
          -1.788707873751373,
          -1.9482761357437675,
          -1.563980836474396,
          -1.739642174826389,
          -1.568858895671288,
          -0.7956084930061851,
          -2.342982413816515,
          -0.9942474643824372,
          -2.3976291411908432,
          -2.1040943067615365,
          -1.8497547527352554,
          -1.4957433802682587,
          -1.5707529654587258,
          -1.9210000873290747,
          -1.7527886755150521,
          -1.6946020254253287,
          -2.7034229531884364,
          -1.6712074135709378,
          -1.8694573678193747,
          -1.9006523491786294,
          -1.648307643176563,
          -1.5079497497736516,
          -1.4404840414474627,
          -1.4330841200199473,
          -1.6262592568975676,
          -1.7219441666469038,
          -2.3986641509372837,
          -1.1268353314309032,
          -2.2882895620756987,
          -0.9635350077848067,
          -2.301698524396635,
          -0.5684769449761568,
          -2.0028599868106634,
          -0.8707299726931125,
          -1.9188619507590723,
          -2.630403628593374,
          -1.7761247129613194,
          -1.3996284258175484,
          -1.564747642441814,
          -1.1367552775060077,
          -1.8596324283100842,
          -0.7788154078882975,
          -2.4416829016989,
          -1.2550810885377712,
          -1.5400099468527975,
          -1.2119677152182715,
          -2.250516420266393,
          -1.5166118651401275,
          -2.008704661134432,
          -1.1275489157884158,
          -1.562195871543772,
          -0.9182332367795605,
          -2.237307101954862,
          -0.9043524099365277,
          -1.336106267636144,
          -1.2308052425851441,
          -1.7944579255172595,
          -0.5833539142520116,
          -2.105499946773142,
          -1.2605097815863504,
          -1.0187669344251316,
          -0.39426733919544965,
          -1.565478565409526,
          -0.5771523504123535,
          -0.9314000899165491,
          -1.9184379788684147,
          -1.4485811819936212,
          -0.9286116293043981,
          -1.9631374759898097,
          -0.03691482645721998,
          -1.7837873493799368,
          -1.5191641533893447,
          -1.6747163929165616,
          -1.588210363386268,
          -1.83623421859477,
          -1.8498661298805394,
          -1.5466208802685957,
          -1.6139544109680801,
          -1.2607229716707646,
          -0.19343669494943758,
          -2.020079390766358,
          -0.9954248026309915,
          -1.8633966789067322,
          -0.2578347290902601,
          -1.5716798065722746,
          -0.6764214776476009,
          -2.5217642904220576,
          -0.769534392053214,
          -1.5892744282219442,
          -0.3785439330573424,
          -1.7923759948710742,
          -1.5043362609870832,
          -1.996007581577681,
          -1.84782817132796,
          -0.8422510701169879,
          -1.7106023379833681,
          -1.9755618843543163,
          -0.2037086871063339,
          -0.7315569521340701,
          -0.6331894701299485,
          -1.4746647804811226,
          -0.731110603524849,
          -1.694781834337585,
          -0.623710573209811,
          -1.8349567103158482,
          -1.6036557773407192,
          -1.7279597605548103,
          -1.6189683069836236,
          -1.9458100980754898,
          -1.657473878679704,
          -1.8170004837188347,
          -0.6636887392896217,
          -1.8748928005696481,
          -0.8694782363323551,
          -1.5602086247864937,
          -0.610870055567472,
          -1.5960704328568431,
          0.0770739632163765,
          -1.6529515542807618,
          -1.1257438544147549,
          -1.673821935420226,
          -0.7015771787820453,
          -1.6800416994353262,
          -0.9608815519502784,
          -1.8756082811947556,
          -1.1022985920960873,
          -1.6477446259548632,
          -0.7962611639954827,
          -1.174145496535373,
          -1.3558262133434047,
          -1.9705124575401884,
          -1.0126095373533452,
          -1.670342934060103,
          -1.7561795380136977,
          -1.103198349046676,
          -2.056550084419608,
          -1.5507064895825495,
          -1.337914214845286,
          -1.5655867340424183,
          -0.6107650954469717,
          -0.7830087351555891
         ],
         "y": [
          0.04770221725016212,
          -0.428348240700949,
          -0.15447639927373674,
          -0.002048406598355272,
          0.829209600103374,
          -0.3514796038324175,
          0.5224886762780675,
          -0.769633434573645,
          1.026283705033736,
          -0.7885689993061628,
          -0.6664905803910108,
          -0.23607163503422357,
          1.0112542959799218,
          0.5970861398507971,
          -0.5948124824831481,
          0.09593652551362059,
          1.3107999458903266,
          -0.6326744060048428,
          1.9856626746505561,
          -0.2945043772437805,
          -0.12158383364001663,
          -0.09389439122071513,
          -0.2718809093205579,
          -0.5868972412456752,
          -0.281298417596999,
          0.1507728623813394,
          -0.17959791154247676,
          -0.18884565421056868,
          0.30284406417589166,
          -0.7707881166751251,
          -0.38780113244604275,
          -0.31887189075584776,
          0.3420326435386128,
          -0.9782499635731262,
          1.074192040403529,
          0.5633173747395877,
          0.28505247081180884,
          0.07876197192094116,
          0.38149263225066965,
          -0.5832811783754315,
          0.13058572736679075,
          -0.4403727064484764,
          1.0707595614573024,
          -0.9888620402256377,
          0.23392733212158984,
          0.3540256049659841,
          -0.12858025665064035,
          -0.6455897826200965,
          1.4533322976416905,
          -0.32763198276322275,
          0.2972111566929768,
          -0.7551047101600111,
          0.7236422598038159,
          -0.7873793770682586,
          0.25548771379541463,
          -0.46898673168950733,
          0.25964925322124016,
          -1.1814422629033496,
          0.04736946519498541,
          -1.1154288304143463,
          1.330348544204861,
          -0.819485955778938,
          0.09784188013852116,
          -0.9896228181438231,
          0.06115093589296272,
          -1.3978329528504365,
          0.4665692610220483,
          -1.224618234786307,
          0.7030978436853725,
          -0.4585511656863575,
          0.009306623467282744,
          -0.5230224043644474,
          0.9071064585473931,
          -0.8358362155815456,
          0.4269450176807374,
          -0.5274897284351068,
          0.13911073899108678,
          -1.341859308660585,
          0.5666868685343533,
          -1.1086075688759494,
          0.12135690476510747,
          -0.16843418451114903,
          -0.05780254712628899,
          -0.5540495826425715,
          0.9169845285821373,
          0.07144411292646531,
          -0.25872468772734725,
          0.18474405048825893,
          0.05191611208911756,
          -0.6255020776831389,
          0.08583588473169088,
          -1.194353183603504,
          -0.06572208866629135,
          -0.8827170157088421,
          0.37712234039332737,
          -0.10607408380742298,
          0.16385531262752526,
          -1.75129641551485,
          0.4544607629201623,
          -0.7258081747602737,
          0.8880100400367289,
          -1.2687353458136301,
          0.4854076784260329,
          -0.20913630648680673,
          0.1737419607266299,
          -0.6109795675900938,
          0.492340879677913,
          -0.8101527164641392,
          0.7286685441352309,
          -0.9411949185648006,
          1.4980294161326662,
          -0.347147964187747,
          0.7687615585682072,
          0.9290209732451328,
          0.3168063458257617,
          -0.7832289576038343,
          0.5843547563879147,
          -1.0532518639089257,
          0.1828016230582501,
          -0.938976296792054,
          0.31583007043504513,
          -0.5520125902784252,
          0.23525533713975189,
          -1.5851254892389488,
          0.3626079586389323,
          -0.47859183007935213,
          0.2089298194765133,
          -0.6826760953412954,
          0.3431314542606451,
          -0.3849713101146272,
          0.6643081496092732,
          -0.3094826990668885,
          -0.12913002797655634,
          -0.5400998106285942,
          -0.20148246720711882,
          -0.8800313407525627,
          0.7613540752455692,
          -1.1085483938039498,
          -0.15561632395542607,
          -0.5140603390870705,
          -0.42287161512120786,
          -2.0861233530505676,
          -0.466008150455284,
          -0.9953264703858502,
          0.02686579430520096,
          0.07233526040147562,
          -0.37593894980385123,
          -0.6852337644845242,
          -0.3354567407184662,
          -0.9433930238550746,
          0.2592131395169394,
          0.5099095685289715
         ],
         "z": [
          -0.23279416242296183,
          -0.029562352824239232,
          0.19867229605692027,
          -0.6185962389872917,
          -0.6865840551479858,
          0.027671589756971527,
          -1.3325005397506662,
          -0.6898713995955907,
          -0.7296181854911992,
          0.20569147745910002,
          -0.03558334578208023,
          0.630224976366391,
          -1.0249130719131239,
          -2.039152301099292,
          -0.36614782794281003,
          -0.35162401753679434,
          -1.0785801941811604,
          -0.4575609446282647,
          -0.5615922327115553,
          0.07490202548222434,
          -0.26997201553455513,
          -0.8865679073337335,
          -0.4269645852011577,
          0.02931963192073426,
          -0.8607633081206391,
          0.08165078050720796,
          0.41301087237221856,
          0.24237560315515946,
          -0.24224863817204884,
          0.6609670917783537,
          -0.3921972585246,
          0.2250134264703521,
          -0.22383861173628403,
          -0.10593442222787695,
          -1.2761843316517993,
          -0.8418670069865885,
          0.34155405283058565,
          -0.20212938887435222,
          -0.9550488366499791,
          0.03894368272339762,
          -0.3113773203312842,
          -0.1551107655031106,
          -0.5862572867567689,
          0.39361739340447216,
          -0.9769496286982364,
          0.16552253814371945,
          0.14611990326927735,
          -0.35466737304053325,
          -0.8483835810070003,
          0.14210464629694025,
          -0.6825116994799811,
          -0.47285315763073354,
          -0.5973660326032528,
          -0.1150359608006064,
          -0.06778481810527445,
          0.07638095265845456,
          -0.31233232263203514,
          0.5760516708155523,
          -0.709825761648769,
          0.12822248254680488,
          -1.1977209810721121,
          -0.0037041531092558613,
          -0.2956495051593557,
          0.40854926055260066,
          -0.11961544485821354,
          -0.061171563857709124,
          -0.45776030111500865,
          0.20737598905570773,
          -0.8647350693409355,
          -0.9952992161748467,
          -0.3587374112591069,
          0.045662240288437246,
          -0.04585902624394693,
          -0.5151381019947715,
          -0.3569831169347196,
          0.25507245631156095,
          -0.7672232832511178,
          0.026004253268675108,
          -0.38077423690115925,
          -0.16880678961499157,
          -0.5059784822152336,
          -0.6740837559881399,
          -1.3876799024898676,
          -0.12183299319772951,
          -0.37816728195244204,
          -0.919480809040589,
          -0.41755861872540717,
          -0.7146754152076604,
          -0.3146570719753281,
          -0.6841910758087694,
          -0.6755608104527817,
          -0.3013879101529862,
          -0.6505446441671812,
          -0.042373539721936075,
          -0.9303587387524288,
          -0.4412690528286557,
          -0.7434786934281047,
          0.2926527047160003,
          -0.14836884893539345,
          -0.7107920831117058,
          -1.3741259080042179,
          0.6445035393769352,
          -1.183559573357604,
          0.06289974658090373,
          -0.10490364116690676,
          -0.271114628761811,
          -0.8755273474439056,
          0.4381387644057827,
          -0.8400006485947166,
          -0.22101918613430532,
          -0.6026555811745936,
          0.26172802556681946,
          -0.6917723987479856,
          -0.875132279385435,
          -0.21251268636677279,
          0.5864108923633408,
          -1.1436236861826878,
          -0.10811691004374138,
          0.2092006325922428,
          0.09059930487469024,
          -0.7264031253463843,
          0.564091967534187,
          -0.35876171910493704,
          0.33929753348321606,
          -0.6029488777773582,
          0.15376128654521182,
          -0.505436859786345,
          0.4511257983299564,
          -0.15892149331654407,
          0.03392491417697361,
          0.05564568810228871,
          -0.4742731611753259,
          -1.2171132792955093,
          0.025393264138782193,
          -0.002302229476859317,
          -0.12871150984360483,
          -0.8815404716577214,
          0.18048616585492697,
          -0.562984618078469,
          0.2991331189120212,
          0.3684844101423554,
          0.024741707229911068,
          0.18689968125696252,
          0.3345906015177945,
          -0.23622589798549437,
          -0.721027123044262,
          -0.30930560942023105,
          -0.4160921914557122,
          -0.45746521324426387,
          -0.3215808316019589,
          -0.4235421119636437,
          0.8159745260112087
         ]
        },
        {
         "hovertemplate": "species=Chinstrap<br>PC1=%{x}<br>PC2=%{y}<br>PC3=%{z}<extra></extra>",
         "legendgroup": "Chinstrap",
         "marker": {
          "color": "#EF553B",
          "symbol": "circle"
         },
         "mode": "markers",
         "name": "Chinstrap",
         "scene": "scene",
         "showlegend": true,
         "type": "scatter3d",
         "x": [
          -0.3775620702621289,
          -0.5023582624595843,
          -1.1842565173222173,
          -0.29180837238738006,
          -0.31698121745775787,
          -1.6228354934305327,
          -0.06676896456350978,
          -0.45961231089285765,
          -0.40511707889120774,
          -0.5079020585170156,
          -0.5656570903146795,
          -0.7696522528949039,
          0.3815121134350648,
          -0.7013867096302622,
          -0.04827850650108586,
          -0.8238576030967526,
          -0.11667009589715102,
          -1.0497580285602375,
          0.12091819283196542,
          -1.3863576767866261,
          -0.6442857197512564,
          -1.4106367312516448,
          -0.4987021804958278,
          -0.7801912274412603,
          0.10317855950602343,
          -0.29077840074930383,
          -0.22219011985093712,
          -0.6751270201070134,
          0.5690590412573436,
          -1.3972737652945542,
          0.18826906214164868,
          -1.1812480015677724,
          0.2721758095039348,
          -0.46635092536178613,
          0.0848906979601085,
          -0.40961905882888283,
          0.7364478600528753,
          -1.0334957050494797,
          0.6135779265858046,
          0.14749426963577741,
          -0.8292542352050292,
          -0.46086654374056435,
          -0.5197059928222291,
          -0.13164717651880742,
          0.47400272418541256,
          -0.6329043784202811,
          0.44890801107786266,
          -0.9041941963993136,
          -0.019647529870085986,
          -0.1775391235673931,
          0.0802131523249204,
          -0.6185031275327354,
          0.030167614874962036,
          -1.303059620332974,
          -0.31885435077407204,
          -0.839859107884002,
          -0.12734705953504233,
          -0.04108433141790671,
          -1.0635289851770484,
          0.22557361461287154,
          -0.49408372661994093,
          -0.44131235150643183,
          0.5656096043505741,
          -0.7323800840408938,
          -0.35570588425246025,
          0.5020331951975127,
          -0.2019946504296331,
          1.6019901201845141
         ],
         "y": [
          1.5833089176254689,
          1.577483024165268,
          0.7150800943796976,
          1.9820953702324087,
          0.37546656442331544,
          0.5588603871387797,
          1.1841015934248902,
          0.9286843706131352,
          1.8667599045988166,
          0.512172163760413,
          2.0796436984170166,
          0.3418594365818042,
          1.252560755343642,
          0.12812352260912208,
          1.6951383460842402,
          1.7553987975060006,
          1.7481568199865363,
          0.7765621220852328,
          1.0222731731392751,
          -0.1730944540617374,
          0.5564151479321018,
          -0.4414494895214734,
          1.5975385214405708,
          0.51123001004941,
          1.6265556747648944,
          1.1410178227322965,
          1.3163831963143837,
          0.47940902773473537,
          2.1621748735679156,
          -0.6617285916369172,
          2.6121612563109315,
          -0.430245426489844,
          1.4318350980739143,
          1.1545766821857333,
          0.21767924124819876,
          0.8295630306304517,
          2.384909966120439,
          -0.05650172816909447,
          2.1931111188380976,
          1.4813370427189685,
          0.3302183603944498,
          1.4831729207671802,
          0.03693479864325803,
          1.0108617814711196,
          1.3251098124776817,
          0.8933031571549691,
          1.5589915513953276,
          1.3539871536945585,
          0.6479804417992678,
          0.06098484270816553,
          1.5404267109745216,
          0.190255247473427,
          1.7578230705044953,
          -0.18750543366965547,
          1.4937997898046427,
          -0.18489671779307645,
          1.6854155028886768,
          1.312455388094503,
          1.021154958504623,
          1.7982801857002382,
          -0.008314264339674417,
          0.07447786304330042,
          2.352188474774845,
          0.2533684069850447,
          0.9999098389914169,
          1.4919832005538374,
          1.2687148064711258,
          -1.3269207111226438
         ],
         "z": [
          0.525989052705874,
          0.9791311485486405,
          0.5637043858609554,
          0.8952824115952884,
          0.24911916053326846,
          1.1227014644803963,
          1.0507080073201047,
          0.010835839522652263,
          0.7106995701869111,
          0.6089769219713529,
          0.6833347914500308,
          0.9690816003263663,
          0.865035310761531,
          0.891999698310192,
          0.369464828282951,
          0.8858322286891909,
          2.2291433799845937,
          0.7259286107540186,
          0.3513108746708117,
          0.5660446695021669,
          1.228255025034368,
          1.2314721707274157,
          0.7422088010326563,
          0.9390296408436207,
          0.6656733845090763,
          1.1248918210402863,
          0.5813802718383546,
          0.6928997344954763,
          0.11778759735039539,
          0.73613808438914,
          0.3658631353080571,
          0.7922624951368351,
          0.5280045110824392,
          0.921544036889876,
          0.7538632780254383,
          0.550756598885099,
          -0.394197129870704,
          1.7351198227769693,
          0.2589882305665575,
          0.1391481758789601,
          0.8362874866900126,
          0.9779919857395455,
          0.8226484070798582,
          1.1394976044721636,
          0.3403255120539965,
          1.3490033199780935,
          -0.17588689875343472,
          1.5060477429178702,
          1.1037522548116956,
          1.3380405620176614,
          0.6776510172450482,
          0.7577115055584758,
          0.3388248226462145,
          0.6649457728995232,
          1.253265272994788,
          1.1409704101330818,
          0.13092581680749654,
          0.6734915196153732,
          0.3396322402897893,
          0.5480023688876585,
          1.08633578565776,
          0.7510610275317707,
          0.8914885829497018,
          0.32819198117898096,
          0.8972820260654808,
          0.3462264657820061,
          0.7794519561671112,
          0.7069436963700473
         ]
        },
        {
         "hovertemplate": "species=Gentoo<br>PC1=%{x}<br>PC2=%{y}<br>PC3=%{z}<extra></extra>",
         "legendgroup": "Gentoo",
         "marker": {
          "color": "#00cc96",
          "symbol": "circle"
         },
         "mode": "markers",
         "name": "Gentoo",
         "scene": "scene",
         "showlegend": true,
         "type": "scatter3d",
         "x": [
          2.899474915082852,
          1.561131042683377,
          2.6305171275494206,
          2.243711682528462,
          1.5677025914343798,
          1.4647383202474915,
          2.0332784690557952,
          1.1770412257659946,
          1.82299582271894,
          1.2920254458469704,
          2.1795301136560674,
          1.6761609364512875,
          2.51631547046832,
          1.0462567264849174,
          2.5322441427469946,
          0.9180102573526067,
          3.0976421499396505,
          1.469799914220209,
          2.466682900455425,
          2.8299360987669755,
          1.7610347791442182,
          1.3850376433468279,
          1.631557315448007,
          1.861544915829073,
          1.7912077794808643,
          1.1762651464625247,
          2.3300958026765883,
          1.5814886677168858,
          2.5895463502260894,
          2.240691322292337,
          1.1783025876639268,
          1.467087171952115,
          3.798704590340714,
          2.3419914737042036,
          2.150199285429773,
          1.5983960158155395,
          1.4694104464128397,
          1.1196310443282742,
          1.7705456783200948,
          0.7168614629016807,
          2.7218613514080436,
          1.2556972007114207,
          1.9051408139101969,
          2.591535103902432,
          1.7711544359003513,
          1.1633179671063567,
          2.6118895204235493,
          1.9743868625907897,
          1.7108910879470745,
          1.6393705190024381,
          2.536715755350638,
          1.165359006168683,
          2.4872962474195126,
          1.9118171281074332,
          1.8093213182559844,
          1.007785239999378,
          1.898044469897293,
          0.9385843476545438,
          2.7870424658999178,
          1.0848718457303086,
          2.223255775745125,
          1.4810663472165986,
          3.387154515354779,
          1.8390583075460267,
          2.781263689708764,
          1.5925027819693538,
          2.905476640238839,
          1.6880138196274495,
          2.8319773325035684,
          1.7464761547475443,
          1.89241305232956,
          2.1112038437104195,
          2.0360400935232157,
          1.6036776729176088,
          2.911946826730265,
          1.5023119460500374,
          2.786531539389936,
          1.740306846522455,
          2.3623654026455596,
          1.7152074793144723,
          2.7099561828458976,
          1.6214193305137887,
          2.4948739534890443,
          1.5921847597670833,
          2.6127383042329497,
          1.4885357566505943,
          2.6681889070991502,
          1.8542970764434918,
          2.830012206459564,
          1.948774933951119,
          2.633299171136787,
          1.5001758337502742,
          2.6179469341521773,
          1.5265876640000202,
          2.5816151578273265,
          1.8458583607214039,
          2.0926134023048375,
          1.3078446985789784,
          2.4374671752379813,
          2.004829002930381,
          3.099533461894249,
          1.716262390829684,
          2.869242822986906,
          1.9395770802001704,
          1.9205514306286628,
          1.0259576758595326,
          2.6967011908474325,
          1.134040931185108,
          1.9859912808892428,
          2.110886144185059,
          3.0941501198556938,
          1.1635932014571742,
          2.8877826805998317,
          1.5881668781817182,
          3.4889854283737756,
          1.463757297480364,
          2.696812245315806,
          2.0064355378651664,
          1.8408864125292264,
          2.7607420127954554,
          1.7223637766519186,
          2.0289019296895883
         ],
         "y": [
          0.4838532584607223,
          -0.6835019855474314,
          0.03687949763693053,
          -0.5412458281388036,
          -1.1566397418799783,
          -0.805582612593786,
          -0.3365759464308997,
          -1.5635093278120356,
          -0.29108547362908654,
          -1.6778247812035005,
          0.27534687027187826,
          -1.1740561145198949,
          -0.3660944472395432,
          -0.8251496407516603,
          0.17814245460120626,
          -1.6915972241114055,
          0.012965628221080286,
          -0.7587524094741261,
          -0.18216919651459276,
          -0.30532750608536785,
          -0.8571734552904027,
          -0.7673880926294829,
          -0.19455135259437145,
          -1.6644996124586533,
          -0.49438345785484705,
          -1.098448899712372,
          -0.290721822592032,
          -0.6415435027641457,
          0.06185862093602378,
          -0.26511184120586345,
          -1.2630082365953832,
          -0.8532062105216406,
          1.8552659908982057,
          -0.28112844950186844,
          0.27539877595929424,
          -1.460206709880407,
          0.22594056816564995,
          -1.4113656228528801,
          0.05829528220990734,
          -1.5554186714865499,
          0.31786460742905975,
          -1.2334820166764464,
          -0.18824810997814406,
          0.3596811509684098,
          -1.2743958430536746,
          -1.1412007773038535,
          0.3443661455185916,
          -1.354346422805549,
          -0.28868008019964364,
          -0.8308863596094082,
          -0.6142314487028571,
          -0.961653266818756,
          -0.10569012302946879,
          -0.7545192258377658,
          -0.49793473667078264,
          -1.3171661504884955,
          -0.6102714733186776,
          -1.124332498579076,
          0.10631473883647179,
          -1.2038855017241086,
          -0.5422999215632882,
          -1.0975774907604814,
          0.7069224522455592,
          -0.9328380867644347,
          0.6642336003028959,
          -0.8141990069517343,
          0.39901166957506606,
          -1.184559883385117,
          0.017636683967231313,
          -0.39632647230398077,
          -0.2688055089914464,
          -0.06114356234414672,
          -0.5610873327312809,
          -0.5439634166435968,
          0.21969744057020152,
          -0.7588231542332388,
          0.6342995427697823,
          -1.1557563135152626,
          0.023838207379953534,
          -0.4591078943270563,
          0.44664339584157065,
          -0.5942915285994267,
          0.2841786064897873,
          -1.1890984019405992,
          0.9651717046752726,
          -1.1254581957167398,
          -0.26745805956330726,
          -0.8102774130524432,
          0.9812286489715819,
          -0.39683423021881653,
          1.0165091181401844,
          -0.8401927871264316,
          0.34193970488625297,
          -0.8579342332085892,
          0.2753996754107169,
          0.1319386131561671,
          -0.6316210095449983,
          -0.577687839565113,
          0.6370124792495486,
          -0.2976918430332349,
          1.4023278387187417,
          -0.2252592220251323,
          -0.1620420550287554,
          -0.9282461982291862,
          0.028983954425219272,
          -1.181028792818011,
          0.6310626266630418,
          -1.3024954868309253,
          -0.23418851479992903,
          0.017566348436474227,
          0.32629876704012617,
          -0.7863985242703738,
          0.6270554956196873,
          -0.9640528551559634,
          0.9368120081173715,
          -0.45024619907605096,
          0.3422836174001882,
          -0.9589092757445439,
          -0.7677140250257909,
          0.28888648142526163,
          -0.7042694221387719,
          0.3576200792812595
         ],
         "z": [
          -0.6980101698055169,
          0.8770316376696821,
          -0.266249925945759,
          -0.12826628796505637,
          0.669837373214948,
          0.10363451348903087,
          -0.3215000202558935,
          0.4411445615472117,
          -0.2275343475091727,
          -0.17505960619333355,
          -0.4305996941529616,
          0.3685950029215881,
          -0.3571395778217786,
          0.6144512453110197,
          -0.5503017801561209,
          0.4360103849334661,
          -0.8573986804523863,
          0.25246030371596884,
          -0.20402949782630087,
          -0.05163768567175116,
          -0.12572170706613756,
          0.5198096637703308,
          -0.29700279403554264,
          -0.0886580812775175,
          -0.20935490530685405,
          0.49979722051034386,
          -0.39698205106212225,
          0.6637464470717371,
          -0.2087736976101296,
          -0.33742624307141456,
          -0.011210742178451855,
          -0.030742001968704937,
          0.02727927423925882,
          0.08896540716420324,
          -0.49831209912622904,
          -0.18112169974652792,
          -1.05496752923453,
          0.5352156880689971,
          -0.09994225812370122,
          0.6583637567699381,
          -0.5989818504015438,
          0.6718311757782824,
          0.4697438521184033,
          -0.3100552364009,
          -0.1342391099690802,
          0.7275316858774902,
          -0.24788840878333077,
          0.06383002874539917,
          -0.6132628085687745,
          0.3096129939496232,
          0.05483672146320633,
          0.4251555823231073,
          0.19382140311097684,
          0.10240239681140718,
          -0.4484107712993251,
          0.48517130032910316,
          -0.26718893388254783,
          0.17518971644726453,
          -0.2276148014711671,
          0.758171691514227,
          -0.40327506716828276,
          0.5360489039112032,
          -0.04177229795782077,
          0.17805806734935514,
          -0.8277445952546504,
          0.3027888761911979,
          -0.7938570145637234,
          -0.11029809163238458,
          -0.11197185055117108,
          0.24519086139702304,
          -0.3046673044129587,
          -0.16643515274420254,
          -0.2059821997942821,
          0.12880047172656453,
          -0.8743141677067456,
          0.6187647059890949,
          -0.6262240442943171,
          0.22088869882042494,
          -1.3570750600587527,
          0.67599147179352,
          0.08100580891604116,
          0.3793539236903558,
          -0.25320131635734894,
          0.23501952671620252,
          -0.7080961097533796,
          -0.056995608061678506,
          0.39759517345810685,
          0.4067358334962803,
          -0.48660280721921906,
          0.03949147444321403,
          -0.3511925827274517,
          0.15739482152679263,
          -0.578239897845701,
          -0.11078983991800842,
          -0.037518099230903,
          0.14597210951180514,
          0.043219096262054404,
          0.7632405661051126,
          -0.1925402693761145,
          0.21565066520273996,
          -0.04169024722470173,
          -0.07110053134050182,
          -0.346462247720086,
          0.4711755571839669,
          -0.6368284355303205,
          -0.2638412281830441,
          0.14074068618654,
          0.19997773769537092,
          -0.17181925195519665,
          0.3474164993531339,
          -0.8064963089584156,
          -0.1695395174278127,
          -0.37172697173300673,
          0.5217418906694292,
          -0.1433576981672461,
          -0.3911965054014342,
          -0.9098896039941182,
          0.36462962009251554,
          0.22938642504004697,
          -0.42843942863469214,
          -0.2769794476401452,
          -0.16289253385853578
         ]
        }
       ],
       "layout": {
        "legend": {
         "title": {
          "text": "species"
         },
         "tracegroupgap": 0
        },
        "margin": {
         "t": 60
        },
        "scene": {
         "domain": {
          "x": [
           0,
           1
          ],
          "y": [
           0,
           1
          ]
         },
         "xaxis": {
          "title": {
           "text": "PC1"
          }
         },
         "yaxis": {
          "title": {
           "text": "PC2"
          }
         },
         "zaxis": {
          "title": {
           "text": "PC3"
          }
         }
        },
        "template": {
         "data": {
          "bar": [
           {
            "error_x": {
             "color": "#2a3f5f"
            },
            "error_y": {
             "color": "#2a3f5f"
            },
            "marker": {
             "line": {
              "color": "#E5ECF6",
              "width": 0.5
             }
            },
            "type": "bar"
           }
          ],
          "barpolar": [
           {
            "marker": {
             "line": {
              "color": "#E5ECF6",
              "width": 0.5
             }
            },
            "type": "barpolar"
           }
          ],
          "carpet": [
           {
            "aaxis": {
             "endlinecolor": "#2a3f5f",
             "gridcolor": "white",
             "linecolor": "white",
             "minorgridcolor": "white",
             "startlinecolor": "#2a3f5f"
            },
            "baxis": {
             "endlinecolor": "#2a3f5f",
             "gridcolor": "white",
             "linecolor": "white",
             "minorgridcolor": "white",
             "startlinecolor": "#2a3f5f"
            },
            "type": "carpet"
           }
          ],
          "choropleth": [
           {
            "colorbar": {
             "outlinewidth": 0,
             "ticks": ""
            },
            "type": "choropleth"
           }
          ],
          "contour": [
           {
            "colorbar": {
             "outlinewidth": 0,
             "ticks": ""
            },
            "colorscale": [
             [
              0,
              "#0d0887"
             ],
             [
              0.1111111111111111,
              "#46039f"
             ],
             [
              0.2222222222222222,
              "#7201a8"
             ],
             [
              0.3333333333333333,
              "#9c179e"
             ],
             [
              0.4444444444444444,
              "#bd3786"
             ],
             [
              0.5555555555555556,
              "#d8576b"
             ],
             [
              0.6666666666666666,
              "#ed7953"
             ],
             [
              0.7777777777777778,
              "#fb9f3a"
             ],
             [
              0.8888888888888888,
              "#fdca26"
             ],
             [
              1,
              "#f0f921"
             ]
            ],
            "type": "contour"
           }
          ],
          "contourcarpet": [
           {
            "colorbar": {
             "outlinewidth": 0,
             "ticks": ""
            },
            "type": "contourcarpet"
           }
          ],
          "heatmap": [
           {
            "colorbar": {
             "outlinewidth": 0,
             "ticks": ""
            },
            "colorscale": [
             [
              0,
              "#0d0887"
             ],
             [
              0.1111111111111111,
              "#46039f"
             ],
             [
              0.2222222222222222,
              "#7201a8"
             ],
             [
              0.3333333333333333,
              "#9c179e"
             ],
             [
              0.4444444444444444,
              "#bd3786"
             ],
             [
              0.5555555555555556,
              "#d8576b"
             ],
             [
              0.6666666666666666,
              "#ed7953"
             ],
             [
              0.7777777777777778,
              "#fb9f3a"
             ],
             [
              0.8888888888888888,
              "#fdca26"
             ],
             [
              1,
              "#f0f921"
             ]
            ],
            "type": "heatmap"
           }
          ],
          "heatmapgl": [
           {
            "colorbar": {
             "outlinewidth": 0,
             "ticks": ""
            },
            "colorscale": [
             [
              0,
              "#0d0887"
             ],
             [
              0.1111111111111111,
              "#46039f"
             ],
             [
              0.2222222222222222,
              "#7201a8"
             ],
             [
              0.3333333333333333,
              "#9c179e"
             ],
             [
              0.4444444444444444,
              "#bd3786"
             ],
             [
              0.5555555555555556,
              "#d8576b"
             ],
             [
              0.6666666666666666,
              "#ed7953"
             ],
             [
              0.7777777777777778,
              "#fb9f3a"
             ],
             [
              0.8888888888888888,
              "#fdca26"
             ],
             [
              1,
              "#f0f921"
             ]
            ],
            "type": "heatmapgl"
           }
          ],
          "histogram": [
           {
            "marker": {
             "colorbar": {
              "outlinewidth": 0,
              "ticks": ""
             }
            },
            "type": "histogram"
           }
          ],
          "histogram2d": [
           {
            "colorbar": {
             "outlinewidth": 0,
             "ticks": ""
            },
            "colorscale": [
             [
              0,
              "#0d0887"
             ],
             [
              0.1111111111111111,
              "#46039f"
             ],
             [
              0.2222222222222222,
              "#7201a8"
             ],
             [
              0.3333333333333333,
              "#9c179e"
             ],
             [
              0.4444444444444444,
              "#bd3786"
             ],
             [
              0.5555555555555556,
              "#d8576b"
             ],
             [
              0.6666666666666666,
              "#ed7953"
             ],
             [
              0.7777777777777778,
              "#fb9f3a"
             ],
             [
              0.8888888888888888,
              "#fdca26"
             ],
             [
              1,
              "#f0f921"
             ]
            ],
            "type": "histogram2d"
           }
          ],
          "histogram2dcontour": [
           {
            "colorbar": {
             "outlinewidth": 0,
             "ticks": ""
            },
            "colorscale": [
             [
              0,
              "#0d0887"
             ],
             [
              0.1111111111111111,
              "#46039f"
             ],
             [
              0.2222222222222222,
              "#7201a8"
             ],
             [
              0.3333333333333333,
              "#9c179e"
             ],
             [
              0.4444444444444444,
              "#bd3786"
             ],
             [
              0.5555555555555556,
              "#d8576b"
             ],
             [
              0.6666666666666666,
              "#ed7953"
             ],
             [
              0.7777777777777778,
              "#fb9f3a"
             ],
             [
              0.8888888888888888,
              "#fdca26"
             ],
             [
              1,
              "#f0f921"
             ]
            ],
            "type": "histogram2dcontour"
           }
          ],
          "mesh3d": [
           {
            "colorbar": {
             "outlinewidth": 0,
             "ticks": ""
            },
            "type": "mesh3d"
           }
          ],
          "parcoords": [
           {
            "line": {
             "colorbar": {
              "outlinewidth": 0,
              "ticks": ""
             }
            },
            "type": "parcoords"
           }
          ],
          "pie": [
           {
            "automargin": true,
            "type": "pie"
           }
          ],
          "scatter": [
           {
            "marker": {
             "colorbar": {
              "outlinewidth": 0,
              "ticks": ""
             }
            },
            "type": "scatter"
           }
          ],
          "scatter3d": [
           {
            "line": {
             "colorbar": {
              "outlinewidth": 0,
              "ticks": ""
             }
            },
            "marker": {
             "colorbar": {
              "outlinewidth": 0,
              "ticks": ""
             }
            },
            "type": "scatter3d"
           }
          ],
          "scattercarpet": [
           {
            "marker": {
             "colorbar": {
              "outlinewidth": 0,
              "ticks": ""
             }
            },
            "type": "scattercarpet"
           }
          ],
          "scattergeo": [
           {
            "marker": {
             "colorbar": {
              "outlinewidth": 0,
              "ticks": ""
             }
            },
            "type": "scattergeo"
           }
          ],
          "scattergl": [
           {
            "marker": {
             "colorbar": {
              "outlinewidth": 0,
              "ticks": ""
             }
            },
            "type": "scattergl"
           }
          ],
          "scattermapbox": [
           {
            "marker": {
             "colorbar": {
              "outlinewidth": 0,
              "ticks": ""
             }
            },
            "type": "scattermapbox"
           }
          ],
          "scatterpolar": [
           {
            "marker": {
             "colorbar": {
              "outlinewidth": 0,
              "ticks": ""
             }
            },
            "type": "scatterpolar"
           }
          ],
          "scatterpolargl": [
           {
            "marker": {
             "colorbar": {
              "outlinewidth": 0,
              "ticks": ""
             }
            },
            "type": "scatterpolargl"
           }
          ],
          "scatterternary": [
           {
            "marker": {
             "colorbar": {
              "outlinewidth": 0,
              "ticks": ""
             }
            },
            "type": "scatterternary"
           }
          ],
          "surface": [
           {
            "colorbar": {
             "outlinewidth": 0,
             "ticks": ""
            },
            "colorscale": [
             [
              0,
              "#0d0887"
             ],
             [
              0.1111111111111111,
              "#46039f"
             ],
             [
              0.2222222222222222,
              "#7201a8"
             ],
             [
              0.3333333333333333,
              "#9c179e"
             ],
             [
              0.4444444444444444,
              "#bd3786"
             ],
             [
              0.5555555555555556,
              "#d8576b"
             ],
             [
              0.6666666666666666,
              "#ed7953"
             ],
             [
              0.7777777777777778,
              "#fb9f3a"
             ],
             [
              0.8888888888888888,
              "#fdca26"
             ],
             [
              1,
              "#f0f921"
             ]
            ],
            "type": "surface"
           }
          ],
          "table": [
           {
            "cells": {
             "fill": {
              "color": "#EBF0F8"
             },
             "line": {
              "color": "white"
             }
            },
            "header": {
             "fill": {
              "color": "#C8D4E3"
             },
             "line": {
              "color": "white"
             }
            },
            "type": "table"
           }
          ]
         },
         "layout": {
          "annotationdefaults": {
           "arrowcolor": "#2a3f5f",
           "arrowhead": 0,
           "arrowwidth": 1
          },
          "autotypenumbers": "strict",
          "coloraxis": {
           "colorbar": {
            "outlinewidth": 0,
            "ticks": ""
           }
          },
          "colorscale": {
           "diverging": [
            [
             0,
             "#8e0152"
            ],
            [
             0.1,
             "#c51b7d"
            ],
            [
             0.2,
             "#de77ae"
            ],
            [
             0.3,
             "#f1b6da"
            ],
            [
             0.4,
             "#fde0ef"
            ],
            [
             0.5,
             "#f7f7f7"
            ],
            [
             0.6,
             "#e6f5d0"
            ],
            [
             0.7,
             "#b8e186"
            ],
            [
             0.8,
             "#7fbc41"
            ],
            [
             0.9,
             "#4d9221"
            ],
            [
             1,
             "#276419"
            ]
           ],
           "sequential": [
            [
             0,
             "#0d0887"
            ],
            [
             0.1111111111111111,
             "#46039f"
            ],
            [
             0.2222222222222222,
             "#7201a8"
            ],
            [
             0.3333333333333333,
             "#9c179e"
            ],
            [
             0.4444444444444444,
             "#bd3786"
            ],
            [
             0.5555555555555556,
             "#d8576b"
            ],
            [
             0.6666666666666666,
             "#ed7953"
            ],
            [
             0.7777777777777778,
             "#fb9f3a"
            ],
            [
             0.8888888888888888,
             "#fdca26"
            ],
            [
             1,
             "#f0f921"
            ]
           ],
           "sequentialminus": [
            [
             0,
             "#0d0887"
            ],
            [
             0.1111111111111111,
             "#46039f"
            ],
            [
             0.2222222222222222,
             "#7201a8"
            ],
            [
             0.3333333333333333,
             "#9c179e"
            ],
            [
             0.4444444444444444,
             "#bd3786"
            ],
            [
             0.5555555555555556,
             "#d8576b"
            ],
            [
             0.6666666666666666,
             "#ed7953"
            ],
            [
             0.7777777777777778,
             "#fb9f3a"
            ],
            [
             0.8888888888888888,
             "#fdca26"
            ],
            [
             1,
             "#f0f921"
            ]
           ]
          },
          "colorway": [
           "#636efa",
           "#EF553B",
           "#00cc96",
           "#ab63fa",
           "#FFA15A",
           "#19d3f3",
           "#FF6692",
           "#B6E880",
           "#FF97FF",
           "#FECB52"
          ],
          "font": {
           "color": "#2a3f5f"
          },
          "geo": {
           "bgcolor": "white",
           "lakecolor": "white",
           "landcolor": "#E5ECF6",
           "showlakes": true,
           "showland": true,
           "subunitcolor": "white"
          },
          "hoverlabel": {
           "align": "left"
          },
          "hovermode": "closest",
          "mapbox": {
           "style": "light"
          },
          "paper_bgcolor": "white",
          "plot_bgcolor": "#E5ECF6",
          "polar": {
           "angularaxis": {
            "gridcolor": "white",
            "linecolor": "white",
            "ticks": ""
           },
           "bgcolor": "#E5ECF6",
           "radialaxis": {
            "gridcolor": "white",
            "linecolor": "white",
            "ticks": ""
           }
          },
          "scene": {
           "xaxis": {
            "backgroundcolor": "#E5ECF6",
            "gridcolor": "white",
            "gridwidth": 2,
            "linecolor": "white",
            "showbackground": true,
            "ticks": "",
            "zerolinecolor": "white"
           },
           "yaxis": {
            "backgroundcolor": "#E5ECF6",
            "gridcolor": "white",
            "gridwidth": 2,
            "linecolor": "white",
            "showbackground": true,
            "ticks": "",
            "zerolinecolor": "white"
           },
           "zaxis": {
            "backgroundcolor": "#E5ECF6",
            "gridcolor": "white",
            "gridwidth": 2,
            "linecolor": "white",
            "showbackground": true,
            "ticks": "",
            "zerolinecolor": "white"
           }
          },
          "shapedefaults": {
           "line": {
            "color": "#2a3f5f"
           }
          },
          "ternary": {
           "aaxis": {
            "gridcolor": "white",
            "linecolor": "white",
            "ticks": ""
           },
           "baxis": {
            "gridcolor": "white",
            "linecolor": "white",
            "ticks": ""
           },
           "bgcolor": "#E5ECF6",
           "caxis": {
            "gridcolor": "white",
            "linecolor": "white",
            "ticks": ""
           }
          },
          "title": {
           "x": 0.05
          },
          "xaxis": {
           "automargin": true,
           "gridcolor": "white",
           "linecolor": "white",
           "ticks": "",
           "title": {
            "standoff": 15
           },
           "zerolinecolor": "white",
           "zerolinewidth": 2
          },
          "yaxis": {
           "automargin": true,
           "gridcolor": "white",
           "linecolor": "white",
           "ticks": "",
           "title": {
            "standoff": 15
           },
           "zerolinecolor": "white",
           "zerolinewidth": 2
          }
         }
        }
       }
      },
      "text/html": [
       "<div>                            <div id=\"2d445e97-cf9a-4beb-8814-840231ef1ba9\" class=\"plotly-graph-div\" style=\"height:525px; width:100%;\"></div>            <script type=\"text/javascript\">                require([\"plotly\"], function(Plotly) {                    window.PLOTLYENV=window.PLOTLYENV || {};                                    if (document.getElementById(\"2d445e97-cf9a-4beb-8814-840231ef1ba9\")) {                    Plotly.newPlot(                        \"2d445e97-cf9a-4beb-8814-840231ef1ba9\",                        [{\"hovertemplate\": \"species=Adelie<br>PC1=%{x}<br>PC2=%{y}<br>PC3=%{z}<extra></extra>\", \"legendgroup\": \"Adelie\", \"marker\": {\"color\": \"#636efa\", \"symbol\": \"circle\"}, \"mode\": \"markers\", \"name\": \"Adelie\", \"scene\": \"scene\", \"showlegend\": true, \"type\": \"scatter3d\", \"x\": [-1.8434448922600581, -1.30676189333484, -1.3691809940107613, -1.8788266505185796, -1.9117477292476368, -1.763025136873366, -0.8100745857868377, -1.8352042469566934, -1.1942077294440057, -1.7302037188105561, -1.7430395210214407, -1.788707873751373, -1.9482761357437675, -1.563980836474396, -1.739642174826389, -1.568858895671288, -0.7956084930061851, -2.342982413816515, -0.9942474643824372, -2.3976291411908432, -2.1040943067615365, -1.8497547527352554, -1.4957433802682587, -1.5707529654587258, -1.9210000873290747, -1.7527886755150521, -1.6946020254253287, -2.7034229531884364, -1.6712074135709378, -1.8694573678193747, -1.9006523491786294, -1.648307643176563, -1.5079497497736516, -1.4404840414474627, -1.4330841200199473, -1.6262592568975676, -1.7219441666469038, -2.3986641509372837, -1.1268353314309032, -2.2882895620756987, -0.9635350077848067, -2.301698524396635, -0.5684769449761568, -2.0028599868106634, -0.8707299726931125, -1.9188619507590723, -2.630403628593374, -1.7761247129613194, -1.3996284258175484, -1.564747642441814, -1.1367552775060077, -1.8596324283100842, -0.7788154078882975, -2.4416829016989, -1.2550810885377712, -1.5400099468527975, -1.2119677152182715, -2.250516420266393, -1.5166118651401275, -2.008704661134432, -1.1275489157884158, -1.562195871543772, -0.9182332367795605, -2.237307101954862, -0.9043524099365277, -1.336106267636144, -1.2308052425851441, -1.7944579255172595, -0.5833539142520116, -2.105499946773142, -1.2605097815863504, -1.0187669344251316, -0.39426733919544965, -1.565478565409526, -0.5771523504123535, -0.9314000899165491, -1.9184379788684147, -1.4485811819936212, -0.9286116293043981, -1.9631374759898097, -0.03691482645721998, -1.7837873493799368, -1.5191641533893447, -1.6747163929165616, -1.588210363386268, -1.83623421859477, -1.8498661298805394, -1.5466208802685957, -1.6139544109680801, -1.2607229716707646, -0.19343669494943758, -2.020079390766358, -0.9954248026309915, -1.8633966789067322, -0.2578347290902601, -1.5716798065722746, -0.6764214776476009, -2.5217642904220576, -0.769534392053214, -1.5892744282219442, -0.3785439330573424, -1.7923759948710742, -1.5043362609870832, -1.996007581577681, -1.84782817132796, -0.8422510701169879, -1.7106023379833681, -1.9755618843543163, -0.2037086871063339, -0.7315569521340701, -0.6331894701299485, -1.4746647804811226, -0.731110603524849, -1.694781834337585, -0.623710573209811, -1.8349567103158482, -1.6036557773407192, -1.7279597605548103, -1.6189683069836236, -1.9458100980754898, -1.657473878679704, -1.8170004837188347, -0.6636887392896217, -1.8748928005696481, -0.8694782363323551, -1.5602086247864937, -0.610870055567472, -1.5960704328568431, 0.0770739632163765, -1.6529515542807618, -1.1257438544147549, -1.673821935420226, -0.7015771787820453, -1.6800416994353262, -0.9608815519502784, -1.8756082811947556, -1.1022985920960873, -1.6477446259548632, -0.7962611639954827, -1.174145496535373, -1.3558262133434047, -1.9705124575401884, -1.0126095373533452, -1.670342934060103, -1.7561795380136977, -1.103198349046676, -2.056550084419608, -1.5507064895825495, -1.337914214845286, -1.5655867340424183, -0.6107650954469717, -0.7830087351555891], \"y\": [0.04770221725016212, -0.428348240700949, -0.15447639927373674, -0.002048406598355272, 0.829209600103374, -0.3514796038324175, 0.5224886762780675, -0.769633434573645, 1.026283705033736, -0.7885689993061628, -0.6664905803910108, -0.23607163503422357, 1.0112542959799218, 0.5970861398507971, -0.5948124824831481, 0.09593652551362059, 1.3107999458903266, -0.6326744060048428, 1.9856626746505561, -0.2945043772437805, -0.12158383364001663, -0.09389439122071513, -0.2718809093205579, -0.5868972412456752, -0.281298417596999, 0.1507728623813394, -0.17959791154247676, -0.18884565421056868, 0.30284406417589166, -0.7707881166751251, -0.38780113244604275, -0.31887189075584776, 0.3420326435386128, -0.9782499635731262, 1.074192040403529, 0.5633173747395877, 0.28505247081180884, 0.07876197192094116, 0.38149263225066965, -0.5832811783754315, 0.13058572736679075, -0.4403727064484764, 1.0707595614573024, -0.9888620402256377, 0.23392733212158984, 0.3540256049659841, -0.12858025665064035, -0.6455897826200965, 1.4533322976416905, -0.32763198276322275, 0.2972111566929768, -0.7551047101600111, 0.7236422598038159, -0.7873793770682586, 0.25548771379541463, -0.46898673168950733, 0.25964925322124016, -1.1814422629033496, 0.04736946519498541, -1.1154288304143463, 1.330348544204861, -0.819485955778938, 0.09784188013852116, -0.9896228181438231, 0.06115093589296272, -1.3978329528504365, 0.4665692610220483, -1.224618234786307, 0.7030978436853725, -0.4585511656863575, 0.009306623467282744, -0.5230224043644474, 0.9071064585473931, -0.8358362155815456, 0.4269450176807374, -0.5274897284351068, 0.13911073899108678, -1.341859308660585, 0.5666868685343533, -1.1086075688759494, 0.12135690476510747, -0.16843418451114903, -0.05780254712628899, -0.5540495826425715, 0.9169845285821373, 0.07144411292646531, -0.25872468772734725, 0.18474405048825893, 0.05191611208911756, -0.6255020776831389, 0.08583588473169088, -1.194353183603504, -0.06572208866629135, -0.8827170157088421, 0.37712234039332737, -0.10607408380742298, 0.16385531262752526, -1.75129641551485, 0.4544607629201623, -0.7258081747602737, 0.8880100400367289, -1.2687353458136301, 0.4854076784260329, -0.20913630648680673, 0.1737419607266299, -0.6109795675900938, 0.492340879677913, -0.8101527164641392, 0.7286685441352309, -0.9411949185648006, 1.4980294161326662, -0.347147964187747, 0.7687615585682072, 0.9290209732451328, 0.3168063458257617, -0.7832289576038343, 0.5843547563879147, -1.0532518639089257, 0.1828016230582501, -0.938976296792054, 0.31583007043504513, -0.5520125902784252, 0.23525533713975189, -1.5851254892389488, 0.3626079586389323, -0.47859183007935213, 0.2089298194765133, -0.6826760953412954, 0.3431314542606451, -0.3849713101146272, 0.6643081496092732, -0.3094826990668885, -0.12913002797655634, -0.5400998106285942, -0.20148246720711882, -0.8800313407525627, 0.7613540752455692, -1.1085483938039498, -0.15561632395542607, -0.5140603390870705, -0.42287161512120786, -2.0861233530505676, -0.466008150455284, -0.9953264703858502, 0.02686579430520096, 0.07233526040147562, -0.37593894980385123, -0.6852337644845242, -0.3354567407184662, -0.9433930238550746, 0.2592131395169394, 0.5099095685289715], \"z\": [-0.23279416242296183, -0.029562352824239232, 0.19867229605692027, -0.6185962389872917, -0.6865840551479858, 0.027671589756971527, -1.3325005397506662, -0.6898713995955907, -0.7296181854911992, 0.20569147745910002, -0.03558334578208023, 0.630224976366391, -1.0249130719131239, -2.039152301099292, -0.36614782794281003, -0.35162401753679434, -1.0785801941811604, -0.4575609446282647, -0.5615922327115553, 0.07490202548222434, -0.26997201553455513, -0.8865679073337335, -0.4269645852011577, 0.02931963192073426, -0.8607633081206391, 0.08165078050720796, 0.41301087237221856, 0.24237560315515946, -0.24224863817204884, 0.6609670917783537, -0.3921972585246, 0.2250134264703521, -0.22383861173628403, -0.10593442222787695, -1.2761843316517993, -0.8418670069865885, 0.34155405283058565, -0.20212938887435222, -0.9550488366499791, 0.03894368272339762, -0.3113773203312842, -0.1551107655031106, -0.5862572867567689, 0.39361739340447216, -0.9769496286982364, 0.16552253814371945, 0.14611990326927735, -0.35466737304053325, -0.8483835810070003, 0.14210464629694025, -0.6825116994799811, -0.47285315763073354, -0.5973660326032528, -0.1150359608006064, -0.06778481810527445, 0.07638095265845456, -0.31233232263203514, 0.5760516708155523, -0.709825761648769, 0.12822248254680488, -1.1977209810721121, -0.0037041531092558613, -0.2956495051593557, 0.40854926055260066, -0.11961544485821354, -0.061171563857709124, -0.45776030111500865, 0.20737598905570773, -0.8647350693409355, -0.9952992161748467, -0.3587374112591069, 0.045662240288437246, -0.04585902624394693, -0.5151381019947715, -0.3569831169347196, 0.25507245631156095, -0.7672232832511178, 0.026004253268675108, -0.38077423690115925, -0.16880678961499157, -0.5059784822152336, -0.6740837559881399, -1.3876799024898676, -0.12183299319772951, -0.37816728195244204, -0.919480809040589, -0.41755861872540717, -0.7146754152076604, -0.3146570719753281, -0.6841910758087694, -0.6755608104527817, -0.3013879101529862, -0.6505446441671812, -0.042373539721936075, -0.9303587387524288, -0.4412690528286557, -0.7434786934281047, 0.2926527047160003, -0.14836884893539345, -0.7107920831117058, -1.3741259080042179, 0.6445035393769352, -1.183559573357604, 0.06289974658090373, -0.10490364116690676, -0.271114628761811, -0.8755273474439056, 0.4381387644057827, -0.8400006485947166, -0.22101918613430532, -0.6026555811745936, 0.26172802556681946, -0.6917723987479856, -0.875132279385435, -0.21251268636677279, 0.5864108923633408, -1.1436236861826878, -0.10811691004374138, 0.2092006325922428, 0.09059930487469024, -0.7264031253463843, 0.564091967534187, -0.35876171910493704, 0.33929753348321606, -0.6029488777773582, 0.15376128654521182, -0.505436859786345, 0.4511257983299564, -0.15892149331654407, 0.03392491417697361, 0.05564568810228871, -0.4742731611753259, -1.2171132792955093, 0.025393264138782193, -0.002302229476859317, -0.12871150984360483, -0.8815404716577214, 0.18048616585492697, -0.562984618078469, 0.2991331189120212, 0.3684844101423554, 0.024741707229911068, 0.18689968125696252, 0.3345906015177945, -0.23622589798549437, -0.721027123044262, -0.30930560942023105, -0.4160921914557122, -0.45746521324426387, -0.3215808316019589, -0.4235421119636437, 0.8159745260112087]}, {\"hovertemplate\": \"species=Chinstrap<br>PC1=%{x}<br>PC2=%{y}<br>PC3=%{z}<extra></extra>\", \"legendgroup\": \"Chinstrap\", \"marker\": {\"color\": \"#EF553B\", \"symbol\": \"circle\"}, \"mode\": \"markers\", \"name\": \"Chinstrap\", \"scene\": \"scene\", \"showlegend\": true, \"type\": \"scatter3d\", \"x\": [-0.3775620702621289, -0.5023582624595843, -1.1842565173222173, -0.29180837238738006, -0.31698121745775787, -1.6228354934305327, -0.06676896456350978, -0.45961231089285765, -0.40511707889120774, -0.5079020585170156, -0.5656570903146795, -0.7696522528949039, 0.3815121134350648, -0.7013867096302622, -0.04827850650108586, -0.8238576030967526, -0.11667009589715102, -1.0497580285602375, 0.12091819283196542, -1.3863576767866261, -0.6442857197512564, -1.4106367312516448, -0.4987021804958278, -0.7801912274412603, 0.10317855950602343, -0.29077840074930383, -0.22219011985093712, -0.6751270201070134, 0.5690590412573436, -1.3972737652945542, 0.18826906214164868, -1.1812480015677724, 0.2721758095039348, -0.46635092536178613, 0.0848906979601085, -0.40961905882888283, 0.7364478600528753, -1.0334957050494797, 0.6135779265858046, 0.14749426963577741, -0.8292542352050292, -0.46086654374056435, -0.5197059928222291, -0.13164717651880742, 0.47400272418541256, -0.6329043784202811, 0.44890801107786266, -0.9041941963993136, -0.019647529870085986, -0.1775391235673931, 0.0802131523249204, -0.6185031275327354, 0.030167614874962036, -1.303059620332974, -0.31885435077407204, -0.839859107884002, -0.12734705953504233, -0.04108433141790671, -1.0635289851770484, 0.22557361461287154, -0.49408372661994093, -0.44131235150643183, 0.5656096043505741, -0.7323800840408938, -0.35570588425246025, 0.5020331951975127, -0.2019946504296331, 1.6019901201845141], \"y\": [1.5833089176254689, 1.577483024165268, 0.7150800943796976, 1.9820953702324087, 0.37546656442331544, 0.5588603871387797, 1.1841015934248902, 0.9286843706131352, 1.8667599045988166, 0.512172163760413, 2.0796436984170166, 0.3418594365818042, 1.252560755343642, 0.12812352260912208, 1.6951383460842402, 1.7553987975060006, 1.7481568199865363, 0.7765621220852328, 1.0222731731392751, -0.1730944540617374, 0.5564151479321018, -0.4414494895214734, 1.5975385214405708, 0.51123001004941, 1.6265556747648944, 1.1410178227322965, 1.3163831963143837, 0.47940902773473537, 2.1621748735679156, -0.6617285916369172, 2.6121612563109315, -0.430245426489844, 1.4318350980739143, 1.1545766821857333, 0.21767924124819876, 0.8295630306304517, 2.384909966120439, -0.05650172816909447, 2.1931111188380976, 1.4813370427189685, 0.3302183603944498, 1.4831729207671802, 0.03693479864325803, 1.0108617814711196, 1.3251098124776817, 0.8933031571549691, 1.5589915513953276, 1.3539871536945585, 0.6479804417992678, 0.06098484270816553, 1.5404267109745216, 0.190255247473427, 1.7578230705044953, -0.18750543366965547, 1.4937997898046427, -0.18489671779307645, 1.6854155028886768, 1.312455388094503, 1.021154958504623, 1.7982801857002382, -0.008314264339674417, 0.07447786304330042, 2.352188474774845, 0.2533684069850447, 0.9999098389914169, 1.4919832005538374, 1.2687148064711258, -1.3269207111226438], \"z\": [0.525989052705874, 0.9791311485486405, 0.5637043858609554, 0.8952824115952884, 0.24911916053326846, 1.1227014644803963, 1.0507080073201047, 0.010835839522652263, 0.7106995701869111, 0.6089769219713529, 0.6833347914500308, 0.9690816003263663, 0.865035310761531, 0.891999698310192, 0.369464828282951, 0.8858322286891909, 2.2291433799845937, 0.7259286107540186, 0.3513108746708117, 0.5660446695021669, 1.228255025034368, 1.2314721707274157, 0.7422088010326563, 0.9390296408436207, 0.6656733845090763, 1.1248918210402863, 0.5813802718383546, 0.6928997344954763, 0.11778759735039539, 0.73613808438914, 0.3658631353080571, 0.7922624951368351, 0.5280045110824392, 0.921544036889876, 0.7538632780254383, 0.550756598885099, -0.394197129870704, 1.7351198227769693, 0.2589882305665575, 0.1391481758789601, 0.8362874866900126, 0.9779919857395455, 0.8226484070798582, 1.1394976044721636, 0.3403255120539965, 1.3490033199780935, -0.17588689875343472, 1.5060477429178702, 1.1037522548116956, 1.3380405620176614, 0.6776510172450482, 0.7577115055584758, 0.3388248226462145, 0.6649457728995232, 1.253265272994788, 1.1409704101330818, 0.13092581680749654, 0.6734915196153732, 0.3396322402897893, 0.5480023688876585, 1.08633578565776, 0.7510610275317707, 0.8914885829497018, 0.32819198117898096, 0.8972820260654808, 0.3462264657820061, 0.7794519561671112, 0.7069436963700473]}, {\"hovertemplate\": \"species=Gentoo<br>PC1=%{x}<br>PC2=%{y}<br>PC3=%{z}<extra></extra>\", \"legendgroup\": \"Gentoo\", \"marker\": {\"color\": \"#00cc96\", \"symbol\": \"circle\"}, \"mode\": \"markers\", \"name\": \"Gentoo\", \"scene\": \"scene\", \"showlegend\": true, \"type\": \"scatter3d\", \"x\": [2.899474915082852, 1.561131042683377, 2.6305171275494206, 2.243711682528462, 1.5677025914343798, 1.4647383202474915, 2.0332784690557952, 1.1770412257659946, 1.82299582271894, 1.2920254458469704, 2.1795301136560674, 1.6761609364512875, 2.51631547046832, 1.0462567264849174, 2.5322441427469946, 0.9180102573526067, 3.0976421499396505, 1.469799914220209, 2.466682900455425, 2.8299360987669755, 1.7610347791442182, 1.3850376433468279, 1.631557315448007, 1.861544915829073, 1.7912077794808643, 1.1762651464625247, 2.3300958026765883, 1.5814886677168858, 2.5895463502260894, 2.240691322292337, 1.1783025876639268, 1.467087171952115, 3.798704590340714, 2.3419914737042036, 2.150199285429773, 1.5983960158155395, 1.4694104464128397, 1.1196310443282742, 1.7705456783200948, 0.7168614629016807, 2.7218613514080436, 1.2556972007114207, 1.9051408139101969, 2.591535103902432, 1.7711544359003513, 1.1633179671063567, 2.6118895204235493, 1.9743868625907897, 1.7108910879470745, 1.6393705190024381, 2.536715755350638, 1.165359006168683, 2.4872962474195126, 1.9118171281074332, 1.8093213182559844, 1.007785239999378, 1.898044469897293, 0.9385843476545438, 2.7870424658999178, 1.0848718457303086, 2.223255775745125, 1.4810663472165986, 3.387154515354779, 1.8390583075460267, 2.781263689708764, 1.5925027819693538, 2.905476640238839, 1.6880138196274495, 2.8319773325035684, 1.7464761547475443, 1.89241305232956, 2.1112038437104195, 2.0360400935232157, 1.6036776729176088, 2.911946826730265, 1.5023119460500374, 2.786531539389936, 1.740306846522455, 2.3623654026455596, 1.7152074793144723, 2.7099561828458976, 1.6214193305137887, 2.4948739534890443, 1.5921847597670833, 2.6127383042329497, 1.4885357566505943, 2.6681889070991502, 1.8542970764434918, 2.830012206459564, 1.948774933951119, 2.633299171136787, 1.5001758337502742, 2.6179469341521773, 1.5265876640000202, 2.5816151578273265, 1.8458583607214039, 2.0926134023048375, 1.3078446985789784, 2.4374671752379813, 2.004829002930381, 3.099533461894249, 1.716262390829684, 2.869242822986906, 1.9395770802001704, 1.9205514306286628, 1.0259576758595326, 2.6967011908474325, 1.134040931185108, 1.9859912808892428, 2.110886144185059, 3.0941501198556938, 1.1635932014571742, 2.8877826805998317, 1.5881668781817182, 3.4889854283737756, 1.463757297480364, 2.696812245315806, 2.0064355378651664, 1.8408864125292264, 2.7607420127954554, 1.7223637766519186, 2.0289019296895883], \"y\": [0.4838532584607223, -0.6835019855474314, 0.03687949763693053, -0.5412458281388036, -1.1566397418799783, -0.805582612593786, -0.3365759464308997, -1.5635093278120356, -0.29108547362908654, -1.6778247812035005, 0.27534687027187826, -1.1740561145198949, -0.3660944472395432, -0.8251496407516603, 0.17814245460120626, -1.6915972241114055, 0.012965628221080286, -0.7587524094741261, -0.18216919651459276, -0.30532750608536785, -0.8571734552904027, -0.7673880926294829, -0.19455135259437145, -1.6644996124586533, -0.49438345785484705, -1.098448899712372, -0.290721822592032, -0.6415435027641457, 0.06185862093602378, -0.26511184120586345, -1.2630082365953832, -0.8532062105216406, 1.8552659908982057, -0.28112844950186844, 0.27539877595929424, -1.460206709880407, 0.22594056816564995, -1.4113656228528801, 0.05829528220990734, -1.5554186714865499, 0.31786460742905975, -1.2334820166764464, -0.18824810997814406, 0.3596811509684098, -1.2743958430536746, -1.1412007773038535, 0.3443661455185916, -1.354346422805549, -0.28868008019964364, -0.8308863596094082, -0.6142314487028571, -0.961653266818756, -0.10569012302946879, -0.7545192258377658, -0.49793473667078264, -1.3171661504884955, -0.6102714733186776, -1.124332498579076, 0.10631473883647179, -1.2038855017241086, -0.5422999215632882, -1.0975774907604814, 0.7069224522455592, -0.9328380867644347, 0.6642336003028959, -0.8141990069517343, 0.39901166957506606, -1.184559883385117, 0.017636683967231313, -0.39632647230398077, -0.2688055089914464, -0.06114356234414672, -0.5610873327312809, -0.5439634166435968, 0.21969744057020152, -0.7588231542332388, 0.6342995427697823, -1.1557563135152626, 0.023838207379953534, -0.4591078943270563, 0.44664339584157065, -0.5942915285994267, 0.2841786064897873, -1.1890984019405992, 0.9651717046752726, -1.1254581957167398, -0.26745805956330726, -0.8102774130524432, 0.9812286489715819, -0.39683423021881653, 1.0165091181401844, -0.8401927871264316, 0.34193970488625297, -0.8579342332085892, 0.2753996754107169, 0.1319386131561671, -0.6316210095449983, -0.577687839565113, 0.6370124792495486, -0.2976918430332349, 1.4023278387187417, -0.2252592220251323, -0.1620420550287554, -0.9282461982291862, 0.028983954425219272, -1.181028792818011, 0.6310626266630418, -1.3024954868309253, -0.23418851479992903, 0.017566348436474227, 0.32629876704012617, -0.7863985242703738, 0.6270554956196873, -0.9640528551559634, 0.9368120081173715, -0.45024619907605096, 0.3422836174001882, -0.9589092757445439, -0.7677140250257909, 0.28888648142526163, -0.7042694221387719, 0.3576200792812595], \"z\": [-0.6980101698055169, 0.8770316376696821, -0.266249925945759, -0.12826628796505637, 0.669837373214948, 0.10363451348903087, -0.3215000202558935, 0.4411445615472117, -0.2275343475091727, -0.17505960619333355, -0.4305996941529616, 0.3685950029215881, -0.3571395778217786, 0.6144512453110197, -0.5503017801561209, 0.4360103849334661, -0.8573986804523863, 0.25246030371596884, -0.20402949782630087, -0.05163768567175116, -0.12572170706613756, 0.5198096637703308, -0.29700279403554264, -0.0886580812775175, -0.20935490530685405, 0.49979722051034386, -0.39698205106212225, 0.6637464470717371, -0.2087736976101296, -0.33742624307141456, -0.011210742178451855, -0.030742001968704937, 0.02727927423925882, 0.08896540716420324, -0.49831209912622904, -0.18112169974652792, -1.05496752923453, 0.5352156880689971, -0.09994225812370122, 0.6583637567699381, -0.5989818504015438, 0.6718311757782824, 0.4697438521184033, -0.3100552364009, -0.1342391099690802, 0.7275316858774902, -0.24788840878333077, 0.06383002874539917, -0.6132628085687745, 0.3096129939496232, 0.05483672146320633, 0.4251555823231073, 0.19382140311097684, 0.10240239681140718, -0.4484107712993251, 0.48517130032910316, -0.26718893388254783, 0.17518971644726453, -0.2276148014711671, 0.758171691514227, -0.40327506716828276, 0.5360489039112032, -0.04177229795782077, 0.17805806734935514, -0.8277445952546504, 0.3027888761911979, -0.7938570145637234, -0.11029809163238458, -0.11197185055117108, 0.24519086139702304, -0.3046673044129587, -0.16643515274420254, -0.2059821997942821, 0.12880047172656453, -0.8743141677067456, 0.6187647059890949, -0.6262240442943171, 0.22088869882042494, -1.3570750600587527, 0.67599147179352, 0.08100580891604116, 0.3793539236903558, -0.25320131635734894, 0.23501952671620252, -0.7080961097533796, -0.056995608061678506, 0.39759517345810685, 0.4067358334962803, -0.48660280721921906, 0.03949147444321403, -0.3511925827274517, 0.15739482152679263, -0.578239897845701, -0.11078983991800842, -0.037518099230903, 0.14597210951180514, 0.043219096262054404, 0.7632405661051126, -0.1925402693761145, 0.21565066520273996, -0.04169024722470173, -0.07110053134050182, -0.346462247720086, 0.4711755571839669, -0.6368284355303205, -0.2638412281830441, 0.14074068618654, 0.19997773769537092, -0.17181925195519665, 0.3474164993531339, -0.8064963089584156, -0.1695395174278127, -0.37172697173300673, 0.5217418906694292, -0.1433576981672461, -0.3911965054014342, -0.9098896039941182, 0.36462962009251554, 0.22938642504004697, -0.42843942863469214, -0.2769794476401452, -0.16289253385853578]}],                        {\"legend\": {\"title\": {\"text\": \"species\"}, \"tracegroupgap\": 0}, \"margin\": {\"t\": 60}, \"scene\": {\"domain\": {\"x\": [0.0, 1.0], \"y\": [0.0, 1.0]}, \"xaxis\": {\"title\": {\"text\": \"PC1\"}}, \"yaxis\": {\"title\": {\"text\": \"PC2\"}}, \"zaxis\": {\"title\": {\"text\": \"PC3\"}}}, \"template\": {\"data\": {\"bar\": [{\"error_x\": {\"color\": \"#2a3f5f\"}, \"error_y\": {\"color\": \"#2a3f5f\"}, \"marker\": {\"line\": {\"color\": \"#E5ECF6\", \"width\": 0.5}}, \"type\": \"bar\"}], \"barpolar\": [{\"marker\": {\"line\": {\"color\": \"#E5ECF6\", \"width\": 0.5}}, \"type\": \"barpolar\"}], \"carpet\": [{\"aaxis\": {\"endlinecolor\": \"#2a3f5f\", \"gridcolor\": \"white\", \"linecolor\": \"white\", \"minorgridcolor\": \"white\", \"startlinecolor\": \"#2a3f5f\"}, \"baxis\": {\"endlinecolor\": \"#2a3f5f\", \"gridcolor\": \"white\", \"linecolor\": \"white\", \"minorgridcolor\": \"white\", \"startlinecolor\": \"#2a3f5f\"}, \"type\": \"carpet\"}], \"choropleth\": [{\"colorbar\": {\"outlinewidth\": 0, \"ticks\": \"\"}, \"type\": \"choropleth\"}], \"contour\": [{\"colorbar\": {\"outlinewidth\": 0, \"ticks\": \"\"}, \"colorscale\": [[0.0, \"#0d0887\"], [0.1111111111111111, \"#46039f\"], [0.2222222222222222, \"#7201a8\"], [0.3333333333333333, \"#9c179e\"], [0.4444444444444444, \"#bd3786\"], [0.5555555555555556, \"#d8576b\"], [0.6666666666666666, \"#ed7953\"], [0.7777777777777778, \"#fb9f3a\"], [0.8888888888888888, \"#fdca26\"], [1.0, \"#f0f921\"]], \"type\": \"contour\"}], \"contourcarpet\": [{\"colorbar\": {\"outlinewidth\": 0, \"ticks\": \"\"}, \"type\": \"contourcarpet\"}], \"heatmap\": [{\"colorbar\": {\"outlinewidth\": 0, \"ticks\": \"\"}, \"colorscale\": [[0.0, \"#0d0887\"], [0.1111111111111111, \"#46039f\"], [0.2222222222222222, \"#7201a8\"], [0.3333333333333333, \"#9c179e\"], [0.4444444444444444, \"#bd3786\"], [0.5555555555555556, \"#d8576b\"], [0.6666666666666666, \"#ed7953\"], [0.7777777777777778, \"#fb9f3a\"], [0.8888888888888888, \"#fdca26\"], [1.0, \"#f0f921\"]], \"type\": \"heatmap\"}], \"heatmapgl\": [{\"colorbar\": {\"outlinewidth\": 0, \"ticks\": \"\"}, \"colorscale\": [[0.0, \"#0d0887\"], [0.1111111111111111, \"#46039f\"], [0.2222222222222222, \"#7201a8\"], [0.3333333333333333, \"#9c179e\"], [0.4444444444444444, \"#bd3786\"], [0.5555555555555556, \"#d8576b\"], [0.6666666666666666, \"#ed7953\"], [0.7777777777777778, \"#fb9f3a\"], [0.8888888888888888, \"#fdca26\"], [1.0, \"#f0f921\"]], \"type\": \"heatmapgl\"}], \"histogram\": [{\"marker\": {\"colorbar\": {\"outlinewidth\": 0, \"ticks\": \"\"}}, \"type\": \"histogram\"}], \"histogram2d\": [{\"colorbar\": {\"outlinewidth\": 0, \"ticks\": \"\"}, \"colorscale\": [[0.0, \"#0d0887\"], [0.1111111111111111, \"#46039f\"], [0.2222222222222222, \"#7201a8\"], [0.3333333333333333, \"#9c179e\"], [0.4444444444444444, \"#bd3786\"], [0.5555555555555556, \"#d8576b\"], [0.6666666666666666, \"#ed7953\"], [0.7777777777777778, \"#fb9f3a\"], [0.8888888888888888, \"#fdca26\"], [1.0, \"#f0f921\"]], \"type\": \"histogram2d\"}], \"histogram2dcontour\": [{\"colorbar\": {\"outlinewidth\": 0, \"ticks\": \"\"}, \"colorscale\": [[0.0, \"#0d0887\"], [0.1111111111111111, \"#46039f\"], [0.2222222222222222, \"#7201a8\"], [0.3333333333333333, \"#9c179e\"], [0.4444444444444444, \"#bd3786\"], [0.5555555555555556, \"#d8576b\"], [0.6666666666666666, \"#ed7953\"], [0.7777777777777778, \"#fb9f3a\"], [0.8888888888888888, \"#fdca26\"], [1.0, \"#f0f921\"]], \"type\": \"histogram2dcontour\"}], \"mesh3d\": [{\"colorbar\": {\"outlinewidth\": 0, \"ticks\": \"\"}, \"type\": \"mesh3d\"}], \"parcoords\": [{\"line\": {\"colorbar\": {\"outlinewidth\": 0, \"ticks\": \"\"}}, \"type\": \"parcoords\"}], \"pie\": [{\"automargin\": true, \"type\": \"pie\"}], \"scatter\": [{\"marker\": {\"colorbar\": {\"outlinewidth\": 0, \"ticks\": \"\"}}, \"type\": \"scatter\"}], \"scatter3d\": [{\"line\": {\"colorbar\": {\"outlinewidth\": 0, \"ticks\": \"\"}}, \"marker\": {\"colorbar\": {\"outlinewidth\": 0, \"ticks\": \"\"}}, \"type\": \"scatter3d\"}], \"scattercarpet\": [{\"marker\": {\"colorbar\": {\"outlinewidth\": 0, \"ticks\": \"\"}}, \"type\": \"scattercarpet\"}], \"scattergeo\": [{\"marker\": {\"colorbar\": {\"outlinewidth\": 0, \"ticks\": \"\"}}, \"type\": \"scattergeo\"}], \"scattergl\": [{\"marker\": {\"colorbar\": {\"outlinewidth\": 0, \"ticks\": \"\"}}, \"type\": \"scattergl\"}], \"scattermapbox\": [{\"marker\": {\"colorbar\": {\"outlinewidth\": 0, \"ticks\": \"\"}}, \"type\": \"scattermapbox\"}], \"scatterpolar\": [{\"marker\": {\"colorbar\": {\"outlinewidth\": 0, \"ticks\": \"\"}}, \"type\": \"scatterpolar\"}], \"scatterpolargl\": [{\"marker\": {\"colorbar\": {\"outlinewidth\": 0, \"ticks\": \"\"}}, \"type\": \"scatterpolargl\"}], \"scatterternary\": [{\"marker\": {\"colorbar\": {\"outlinewidth\": 0, \"ticks\": \"\"}}, \"type\": \"scatterternary\"}], \"surface\": [{\"colorbar\": {\"outlinewidth\": 0, \"ticks\": \"\"}, \"colorscale\": [[0.0, \"#0d0887\"], [0.1111111111111111, \"#46039f\"], [0.2222222222222222, \"#7201a8\"], [0.3333333333333333, \"#9c179e\"], [0.4444444444444444, \"#bd3786\"], [0.5555555555555556, \"#d8576b\"], [0.6666666666666666, \"#ed7953\"], [0.7777777777777778, \"#fb9f3a\"], [0.8888888888888888, \"#fdca26\"], [1.0, \"#f0f921\"]], \"type\": \"surface\"}], \"table\": [{\"cells\": {\"fill\": {\"color\": \"#EBF0F8\"}, \"line\": {\"color\": \"white\"}}, \"header\": {\"fill\": {\"color\": \"#C8D4E3\"}, \"line\": {\"color\": \"white\"}}, \"type\": \"table\"}]}, \"layout\": {\"annotationdefaults\": {\"arrowcolor\": \"#2a3f5f\", \"arrowhead\": 0, \"arrowwidth\": 1}, \"autotypenumbers\": \"strict\", \"coloraxis\": {\"colorbar\": {\"outlinewidth\": 0, \"ticks\": \"\"}}, \"colorscale\": {\"diverging\": [[0, \"#8e0152\"], [0.1, \"#c51b7d\"], [0.2, \"#de77ae\"], [0.3, \"#f1b6da\"], [0.4, \"#fde0ef\"], [0.5, \"#f7f7f7\"], [0.6, \"#e6f5d0\"], [0.7, \"#b8e186\"], [0.8, \"#7fbc41\"], [0.9, \"#4d9221\"], [1, \"#276419\"]], \"sequential\": [[0.0, \"#0d0887\"], [0.1111111111111111, \"#46039f\"], [0.2222222222222222, \"#7201a8\"], [0.3333333333333333, \"#9c179e\"], [0.4444444444444444, \"#bd3786\"], [0.5555555555555556, \"#d8576b\"], [0.6666666666666666, \"#ed7953\"], [0.7777777777777778, \"#fb9f3a\"], [0.8888888888888888, \"#fdca26\"], [1.0, \"#f0f921\"]], \"sequentialminus\": [[0.0, \"#0d0887\"], [0.1111111111111111, \"#46039f\"], [0.2222222222222222, \"#7201a8\"], [0.3333333333333333, \"#9c179e\"], [0.4444444444444444, \"#bd3786\"], [0.5555555555555556, \"#d8576b\"], [0.6666666666666666, \"#ed7953\"], [0.7777777777777778, \"#fb9f3a\"], [0.8888888888888888, \"#fdca26\"], [1.0, \"#f0f921\"]]}, \"colorway\": [\"#636efa\", \"#EF553B\", \"#00cc96\", \"#ab63fa\", \"#FFA15A\", \"#19d3f3\", \"#FF6692\", \"#B6E880\", \"#FF97FF\", \"#FECB52\"], \"font\": {\"color\": \"#2a3f5f\"}, \"geo\": {\"bgcolor\": \"white\", \"lakecolor\": \"white\", \"landcolor\": \"#E5ECF6\", \"showlakes\": true, \"showland\": true, \"subunitcolor\": \"white\"}, \"hoverlabel\": {\"align\": \"left\"}, \"hovermode\": \"closest\", \"mapbox\": {\"style\": \"light\"}, \"paper_bgcolor\": \"white\", \"plot_bgcolor\": \"#E5ECF6\", \"polar\": {\"angularaxis\": {\"gridcolor\": \"white\", \"linecolor\": \"white\", \"ticks\": \"\"}, \"bgcolor\": \"#E5ECF6\", \"radialaxis\": {\"gridcolor\": \"white\", \"linecolor\": \"white\", \"ticks\": \"\"}}, \"scene\": {\"xaxis\": {\"backgroundcolor\": \"#E5ECF6\", \"gridcolor\": \"white\", \"gridwidth\": 2, \"linecolor\": \"white\", \"showbackground\": true, \"ticks\": \"\", \"zerolinecolor\": \"white\"}, \"yaxis\": {\"backgroundcolor\": \"#E5ECF6\", \"gridcolor\": \"white\", \"gridwidth\": 2, \"linecolor\": \"white\", \"showbackground\": true, \"ticks\": \"\", \"zerolinecolor\": \"white\"}, \"zaxis\": {\"backgroundcolor\": \"#E5ECF6\", \"gridcolor\": \"white\", \"gridwidth\": 2, \"linecolor\": \"white\", \"showbackground\": true, \"ticks\": \"\", \"zerolinecolor\": \"white\"}}, \"shapedefaults\": {\"line\": {\"color\": \"#2a3f5f\"}}, \"ternary\": {\"aaxis\": {\"gridcolor\": \"white\", \"linecolor\": \"white\", \"ticks\": \"\"}, \"baxis\": {\"gridcolor\": \"white\", \"linecolor\": \"white\", \"ticks\": \"\"}, \"bgcolor\": \"#E5ECF6\", \"caxis\": {\"gridcolor\": \"white\", \"linecolor\": \"white\", \"ticks\": \"\"}}, \"title\": {\"x\": 0.05}, \"xaxis\": {\"automargin\": true, \"gridcolor\": \"white\", \"linecolor\": \"white\", \"ticks\": \"\", \"title\": {\"standoff\": 15}, \"zerolinecolor\": \"white\", \"zerolinewidth\": 2}, \"yaxis\": {\"automargin\": true, \"gridcolor\": \"white\", \"linecolor\": \"white\", \"ticks\": \"\", \"title\": {\"standoff\": 15}, \"zerolinecolor\": \"white\", \"zerolinewidth\": 2}}}},                        {\"responsive\": true}                    ).then(function(){\n",
       "                            \n",
       "var gd = document.getElementById('2d445e97-cf9a-4beb-8814-840231ef1ba9');\n",
       "var x = new MutationObserver(function (mutations, observer) {{\n",
       "        var display = window.getComputedStyle(gd).display;\n",
       "        if (!display || display === 'none') {{\n",
       "            console.log([gd, 'removed!']);\n",
       "            Plotly.purge(gd);\n",
       "            observer.disconnect();\n",
       "        }}\n",
       "}});\n",
       "\n",
       "// Listen for the removal of the full notebook cells\n",
       "var notebookContainer = gd.closest('#notebook-container');\n",
       "if (notebookContainer) {{\n",
       "    x.observe(notebookContainer, {childList: true});\n",
       "}}\n",
       "\n",
       "// Listen for the clearing of the current output cell\n",
       "var outputEl = gd.closest('.output');\n",
       "if (outputEl) {{\n",
       "    x.observe(outputEl, {childList: true});\n",
       "}}\n",
       "\n",
       "                        })                };                });            </script>        </div>"
      ]
     },
     "metadata": {},
     "output_type": "display_data"
    }
   ],
   "source": [
    "fig = px.scatter_3d(principalDataframe, x='PC1', y='PC2', z='PC3',\n",
    "                    color='species')\n",
    "fig.show()"
   ]
  },
  {
   "cell_type": "code",
   "execution_count": 35,
   "metadata": {
    "ExecuteTime": {
     "end_time": "2021-07-21T19:06:22.747675Z",
     "start_time": "2021-07-21T19:06:22.704767Z"
    }
   },
   "outputs": [
    {
     "data": {
      "application/vnd.plotly.v1+json": {
       "config": {
        "plotlyServerURL": "https://plot.ly"
       },
       "data": [
        {
         "hovertemplate": "x=%{x}<br>y=%{y}<extra></extra>",
         "legendgroup": "",
         "marker": {
          "color": "#636efa",
          "symbol": "circle"
         },
         "mode": "markers",
         "name": "",
         "orientation": "v",
         "showlegend": false,
         "type": "scatter",
         "x": [
          -1.8434448922600581,
          -1.30676189333484,
          -1.3691809940107613,
          -1.8788266505185796,
          -1.9117477292476368,
          -1.763025136873366,
          -0.8100745857868377,
          -1.8352042469566934,
          -1.1942077294440057,
          -1.7302037188105561,
          -1.7430395210214407,
          -1.788707873751373,
          -1.9482761357437675,
          -1.563980836474396,
          -1.739642174826389,
          -1.568858895671288,
          -0.7956084930061851,
          -2.342982413816515,
          -0.9942474643824372,
          -2.3976291411908432,
          -2.1040943067615365,
          -1.8497547527352554,
          -1.4957433802682587,
          -1.5707529654587258,
          -1.9210000873290747,
          -1.7527886755150521,
          -1.6946020254253287,
          -2.7034229531884364,
          -1.6712074135709378,
          -1.8694573678193747,
          -1.9006523491786294,
          -1.648307643176563,
          -1.5079497497736516,
          -1.4404840414474627,
          -1.4330841200199473,
          -1.6262592568975676,
          -1.7219441666469038,
          -2.3986641509372837,
          -1.1268353314309032,
          -2.2882895620756987,
          -0.9635350077848067,
          -2.301698524396635,
          -0.5684769449761568,
          -2.0028599868106634,
          -0.8707299726931125,
          -1.9188619507590723,
          -2.630403628593374,
          -1.7761247129613194,
          -1.3996284258175484,
          -1.564747642441814,
          -1.1367552775060077,
          -1.8596324283100842,
          -0.7788154078882975,
          -2.4416829016989,
          -1.2550810885377712,
          -1.5400099468527975,
          -1.2119677152182715,
          -2.250516420266393,
          -1.5166118651401275,
          -2.008704661134432,
          -1.1275489157884158,
          -1.562195871543772,
          -0.9182332367795605,
          -2.237307101954862,
          -0.9043524099365277,
          -1.336106267636144,
          -1.2308052425851441,
          -1.7944579255172595,
          -0.5833539142520116,
          -2.105499946773142,
          -1.2605097815863504,
          -1.0187669344251316,
          -0.39426733919544965,
          -1.565478565409526,
          -0.5771523504123535,
          -0.9314000899165491,
          -1.9184379788684147,
          -1.4485811819936212,
          -0.9286116293043981,
          -1.9631374759898097,
          -0.03691482645721998,
          -1.7837873493799368,
          -1.5191641533893447,
          -1.6747163929165616,
          -1.588210363386268,
          -1.83623421859477,
          -1.8498661298805394,
          -1.5466208802685957,
          -1.6139544109680801,
          -1.2607229716707646,
          -0.19343669494943758,
          -2.020079390766358,
          -0.9954248026309915,
          -1.8633966789067322,
          -0.2578347290902601,
          -1.5716798065722746,
          -0.6764214776476009,
          -2.5217642904220576,
          -0.769534392053214,
          -1.5892744282219442,
          -0.3785439330573424,
          -1.7923759948710742,
          -1.5043362609870832,
          -1.996007581577681,
          -1.84782817132796,
          -0.8422510701169879,
          -1.7106023379833681,
          -1.9755618843543163,
          -0.2037086871063339,
          -0.7315569521340701,
          -0.6331894701299485,
          -1.4746647804811226,
          -0.731110603524849,
          -1.694781834337585,
          -0.623710573209811,
          -1.8349567103158482,
          -1.6036557773407192,
          -1.7279597605548103,
          -1.6189683069836236,
          -1.9458100980754898,
          -1.657473878679704,
          -1.8170004837188347,
          -0.6636887392896217,
          -1.8748928005696481,
          -0.8694782363323551,
          -1.5602086247864937,
          -0.610870055567472,
          -1.5960704328568431,
          0.0770739632163765,
          -1.6529515542807618,
          -1.1257438544147549,
          -1.673821935420226,
          -0.7015771787820453,
          -1.6800416994353262,
          -0.9608815519502784,
          -1.8756082811947556,
          -1.1022985920960873,
          -1.6477446259548632,
          -0.7962611639954827,
          -1.174145496535373,
          -1.3558262133434047,
          -1.9705124575401884,
          -1.0126095373533452,
          -1.670342934060103,
          -1.7561795380136977,
          -1.103198349046676,
          -2.056550084419608,
          -1.5507064895825495,
          -1.337914214845286,
          -1.5655867340424183,
          -0.6107650954469717,
          -0.7830087351555891,
          -0.3775620702621289,
          -0.5023582624595843,
          -1.1842565173222173,
          -0.29180837238738006,
          -0.31698121745775787,
          -1.6228354934305327,
          -0.06676896456350978,
          -0.45961231089285765,
          -0.40511707889120774,
          -0.5079020585170156,
          -0.5656570903146795,
          -0.7696522528949039,
          0.3815121134350648,
          -0.7013867096302622,
          -0.04827850650108586,
          -0.8238576030967526,
          -0.11667009589715102,
          -1.0497580285602375,
          0.12091819283196542,
          -1.3863576767866261,
          -0.6442857197512564,
          -1.4106367312516448,
          -0.4987021804958278,
          -0.7801912274412603,
          0.10317855950602343,
          -0.29077840074930383,
          -0.22219011985093712,
          -0.6751270201070134,
          0.5690590412573436,
          -1.3972737652945542,
          0.18826906214164868,
          -1.1812480015677724,
          0.2721758095039348,
          -0.46635092536178613,
          0.0848906979601085,
          -0.40961905882888283,
          0.7364478600528753,
          -1.0334957050494797,
          0.6135779265858046,
          0.14749426963577741,
          -0.8292542352050292,
          -0.46086654374056435,
          -0.5197059928222291,
          -0.13164717651880742,
          0.47400272418541256,
          -0.6329043784202811,
          0.44890801107786266,
          -0.9041941963993136,
          -0.019647529870085986,
          -0.1775391235673931,
          0.0802131523249204,
          -0.6185031275327354,
          0.030167614874962036,
          -1.303059620332974,
          -0.31885435077407204,
          -0.839859107884002,
          -0.12734705953504233,
          -0.04108433141790671,
          -1.0635289851770484,
          0.22557361461287154,
          -0.49408372661994093,
          -0.44131235150643183,
          0.5656096043505741,
          -0.7323800840408938,
          -0.35570588425246025,
          0.5020331951975127,
          -0.2019946504296331,
          1.6019901201845141,
          2.899474915082852,
          1.561131042683377,
          2.6305171275494206,
          2.243711682528462,
          1.5677025914343798,
          1.4647383202474915,
          2.0332784690557952,
          1.1770412257659946,
          1.82299582271894,
          1.2920254458469704,
          2.1795301136560674,
          1.6761609364512875,
          2.51631547046832,
          1.0462567264849174,
          2.5322441427469946,
          0.9180102573526067,
          3.0976421499396505,
          1.469799914220209,
          2.466682900455425,
          2.8299360987669755,
          1.7610347791442182,
          1.3850376433468279,
          1.631557315448007,
          1.861544915829073,
          1.7912077794808643,
          1.1762651464625247,
          2.3300958026765883,
          1.5814886677168858,
          2.5895463502260894,
          2.240691322292337,
          1.1783025876639268,
          1.467087171952115,
          3.798704590340714,
          2.3419914737042036,
          2.150199285429773,
          1.5983960158155395,
          1.4694104464128397,
          1.1196310443282742,
          1.7705456783200948,
          0.7168614629016807,
          2.7218613514080436,
          1.2556972007114207,
          1.9051408139101969,
          2.591535103902432,
          1.7711544359003513,
          1.1633179671063567,
          2.6118895204235493,
          1.9743868625907897,
          1.7108910879470745,
          1.6393705190024381,
          2.536715755350638,
          1.165359006168683,
          2.4872962474195126,
          1.9118171281074332,
          1.8093213182559844,
          1.007785239999378,
          1.898044469897293,
          0.9385843476545438,
          2.7870424658999178,
          1.0848718457303086,
          2.223255775745125,
          1.4810663472165986,
          3.387154515354779,
          1.8390583075460267,
          2.781263689708764,
          1.5925027819693538,
          2.905476640238839,
          1.6880138196274495,
          2.8319773325035684,
          1.7464761547475443,
          1.89241305232956,
          2.1112038437104195,
          2.0360400935232157,
          1.6036776729176088,
          2.911946826730265,
          1.5023119460500374,
          2.786531539389936,
          1.740306846522455,
          2.3623654026455596,
          1.7152074793144723,
          2.7099561828458976,
          1.6214193305137887,
          2.4948739534890443,
          1.5921847597670833,
          2.6127383042329497,
          1.4885357566505943,
          2.6681889070991502,
          1.8542970764434918,
          2.830012206459564,
          1.948774933951119,
          2.633299171136787,
          1.5001758337502742,
          2.6179469341521773,
          1.5265876640000202,
          2.5816151578273265,
          1.8458583607214039,
          2.0926134023048375,
          1.3078446985789784,
          2.4374671752379813,
          2.004829002930381,
          3.099533461894249,
          1.716262390829684,
          2.869242822986906,
          1.9395770802001704,
          1.9205514306286628,
          1.0259576758595326,
          2.6967011908474325,
          1.134040931185108,
          1.9859912808892428,
          2.110886144185059,
          3.0941501198556938,
          1.1635932014571742,
          2.8877826805998317,
          1.5881668781817182,
          3.4889854283737756,
          1.463757297480364,
          2.696812245315806,
          2.0064355378651664,
          1.8408864125292264,
          2.7607420127954554,
          1.7223637766519186,
          2.0289019296895883
         ],
         "xaxis": "x",
         "y": [
          0.04770221725016212,
          -0.428348240700949,
          -0.15447639927373674,
          -0.002048406598355272,
          0.829209600103374,
          -0.3514796038324175,
          0.5224886762780675,
          -0.769633434573645,
          1.026283705033736,
          -0.7885689993061628,
          -0.6664905803910108,
          -0.23607163503422357,
          1.0112542959799218,
          0.5970861398507971,
          -0.5948124824831481,
          0.09593652551362059,
          1.3107999458903266,
          -0.6326744060048428,
          1.9856626746505561,
          -0.2945043772437805,
          -0.12158383364001663,
          -0.09389439122071513,
          -0.2718809093205579,
          -0.5868972412456752,
          -0.281298417596999,
          0.1507728623813394,
          -0.17959791154247676,
          -0.18884565421056868,
          0.30284406417589166,
          -0.7707881166751251,
          -0.38780113244604275,
          -0.31887189075584776,
          0.3420326435386128,
          -0.9782499635731262,
          1.074192040403529,
          0.5633173747395877,
          0.28505247081180884,
          0.07876197192094116,
          0.38149263225066965,
          -0.5832811783754315,
          0.13058572736679075,
          -0.4403727064484764,
          1.0707595614573024,
          -0.9888620402256377,
          0.23392733212158984,
          0.3540256049659841,
          -0.12858025665064035,
          -0.6455897826200965,
          1.4533322976416905,
          -0.32763198276322275,
          0.2972111566929768,
          -0.7551047101600111,
          0.7236422598038159,
          -0.7873793770682586,
          0.25548771379541463,
          -0.46898673168950733,
          0.25964925322124016,
          -1.1814422629033496,
          0.04736946519498541,
          -1.1154288304143463,
          1.330348544204861,
          -0.819485955778938,
          0.09784188013852116,
          -0.9896228181438231,
          0.06115093589296272,
          -1.3978329528504365,
          0.4665692610220483,
          -1.224618234786307,
          0.7030978436853725,
          -0.4585511656863575,
          0.009306623467282744,
          -0.5230224043644474,
          0.9071064585473931,
          -0.8358362155815456,
          0.4269450176807374,
          -0.5274897284351068,
          0.13911073899108678,
          -1.341859308660585,
          0.5666868685343533,
          -1.1086075688759494,
          0.12135690476510747,
          -0.16843418451114903,
          -0.05780254712628899,
          -0.5540495826425715,
          0.9169845285821373,
          0.07144411292646531,
          -0.25872468772734725,
          0.18474405048825893,
          0.05191611208911756,
          -0.6255020776831389,
          0.08583588473169088,
          -1.194353183603504,
          -0.06572208866629135,
          -0.8827170157088421,
          0.37712234039332737,
          -0.10607408380742298,
          0.16385531262752526,
          -1.75129641551485,
          0.4544607629201623,
          -0.7258081747602737,
          0.8880100400367289,
          -1.2687353458136301,
          0.4854076784260329,
          -0.20913630648680673,
          0.1737419607266299,
          -0.6109795675900938,
          0.492340879677913,
          -0.8101527164641392,
          0.7286685441352309,
          -0.9411949185648006,
          1.4980294161326662,
          -0.347147964187747,
          0.7687615585682072,
          0.9290209732451328,
          0.3168063458257617,
          -0.7832289576038343,
          0.5843547563879147,
          -1.0532518639089257,
          0.1828016230582501,
          -0.938976296792054,
          0.31583007043504513,
          -0.5520125902784252,
          0.23525533713975189,
          -1.5851254892389488,
          0.3626079586389323,
          -0.47859183007935213,
          0.2089298194765133,
          -0.6826760953412954,
          0.3431314542606451,
          -0.3849713101146272,
          0.6643081496092732,
          -0.3094826990668885,
          -0.12913002797655634,
          -0.5400998106285942,
          -0.20148246720711882,
          -0.8800313407525627,
          0.7613540752455692,
          -1.1085483938039498,
          -0.15561632395542607,
          -0.5140603390870705,
          -0.42287161512120786,
          -2.0861233530505676,
          -0.466008150455284,
          -0.9953264703858502,
          0.02686579430520096,
          0.07233526040147562,
          -0.37593894980385123,
          -0.6852337644845242,
          -0.3354567407184662,
          -0.9433930238550746,
          0.2592131395169394,
          0.5099095685289715,
          1.5833089176254689,
          1.577483024165268,
          0.7150800943796976,
          1.9820953702324087,
          0.37546656442331544,
          0.5588603871387797,
          1.1841015934248902,
          0.9286843706131352,
          1.8667599045988166,
          0.512172163760413,
          2.0796436984170166,
          0.3418594365818042,
          1.252560755343642,
          0.12812352260912208,
          1.6951383460842402,
          1.7553987975060006,
          1.7481568199865363,
          0.7765621220852328,
          1.0222731731392751,
          -0.1730944540617374,
          0.5564151479321018,
          -0.4414494895214734,
          1.5975385214405708,
          0.51123001004941,
          1.6265556747648944,
          1.1410178227322965,
          1.3163831963143837,
          0.47940902773473537,
          2.1621748735679156,
          -0.6617285916369172,
          2.6121612563109315,
          -0.430245426489844,
          1.4318350980739143,
          1.1545766821857333,
          0.21767924124819876,
          0.8295630306304517,
          2.384909966120439,
          -0.05650172816909447,
          2.1931111188380976,
          1.4813370427189685,
          0.3302183603944498,
          1.4831729207671802,
          0.03693479864325803,
          1.0108617814711196,
          1.3251098124776817,
          0.8933031571549691,
          1.5589915513953276,
          1.3539871536945585,
          0.6479804417992678,
          0.06098484270816553,
          1.5404267109745216,
          0.190255247473427,
          1.7578230705044953,
          -0.18750543366965547,
          1.4937997898046427,
          -0.18489671779307645,
          1.6854155028886768,
          1.312455388094503,
          1.021154958504623,
          1.7982801857002382,
          -0.008314264339674417,
          0.07447786304330042,
          2.352188474774845,
          0.2533684069850447,
          0.9999098389914169,
          1.4919832005538374,
          1.2687148064711258,
          -1.3269207111226438,
          0.4838532584607223,
          -0.6835019855474314,
          0.03687949763693053,
          -0.5412458281388036,
          -1.1566397418799783,
          -0.805582612593786,
          -0.3365759464308997,
          -1.5635093278120356,
          -0.29108547362908654,
          -1.6778247812035005,
          0.27534687027187826,
          -1.1740561145198949,
          -0.3660944472395432,
          -0.8251496407516603,
          0.17814245460120626,
          -1.6915972241114055,
          0.012965628221080286,
          -0.7587524094741261,
          -0.18216919651459276,
          -0.30532750608536785,
          -0.8571734552904027,
          -0.7673880926294829,
          -0.19455135259437145,
          -1.6644996124586533,
          -0.49438345785484705,
          -1.098448899712372,
          -0.290721822592032,
          -0.6415435027641457,
          0.06185862093602378,
          -0.26511184120586345,
          -1.2630082365953832,
          -0.8532062105216406,
          1.8552659908982057,
          -0.28112844950186844,
          0.27539877595929424,
          -1.460206709880407,
          0.22594056816564995,
          -1.4113656228528801,
          0.05829528220990734,
          -1.5554186714865499,
          0.31786460742905975,
          -1.2334820166764464,
          -0.18824810997814406,
          0.3596811509684098,
          -1.2743958430536746,
          -1.1412007773038535,
          0.3443661455185916,
          -1.354346422805549,
          -0.28868008019964364,
          -0.8308863596094082,
          -0.6142314487028571,
          -0.961653266818756,
          -0.10569012302946879,
          -0.7545192258377658,
          -0.49793473667078264,
          -1.3171661504884955,
          -0.6102714733186776,
          -1.124332498579076,
          0.10631473883647179,
          -1.2038855017241086,
          -0.5422999215632882,
          -1.0975774907604814,
          0.7069224522455592,
          -0.9328380867644347,
          0.6642336003028959,
          -0.8141990069517343,
          0.39901166957506606,
          -1.184559883385117,
          0.017636683967231313,
          -0.39632647230398077,
          -0.2688055089914464,
          -0.06114356234414672,
          -0.5610873327312809,
          -0.5439634166435968,
          0.21969744057020152,
          -0.7588231542332388,
          0.6342995427697823,
          -1.1557563135152626,
          0.023838207379953534,
          -0.4591078943270563,
          0.44664339584157065,
          -0.5942915285994267,
          0.2841786064897873,
          -1.1890984019405992,
          0.9651717046752726,
          -1.1254581957167398,
          -0.26745805956330726,
          -0.8102774130524432,
          0.9812286489715819,
          -0.39683423021881653,
          1.0165091181401844,
          -0.8401927871264316,
          0.34193970488625297,
          -0.8579342332085892,
          0.2753996754107169,
          0.1319386131561671,
          -0.6316210095449983,
          -0.577687839565113,
          0.6370124792495486,
          -0.2976918430332349,
          1.4023278387187417,
          -0.2252592220251323,
          -0.1620420550287554,
          -0.9282461982291862,
          0.028983954425219272,
          -1.181028792818011,
          0.6310626266630418,
          -1.3024954868309253,
          -0.23418851479992903,
          0.017566348436474227,
          0.32629876704012617,
          -0.7863985242703738,
          0.6270554956196873,
          -0.9640528551559634,
          0.9368120081173715,
          -0.45024619907605096,
          0.3422836174001882,
          -0.9589092757445439,
          -0.7677140250257909,
          0.28888648142526163,
          -0.7042694221387719,
          0.3576200792812595
         ],
         "yaxis": "y"
        }
       ],
       "layout": {
        "legend": {
         "tracegroupgap": 0
        },
        "margin": {
         "t": 60
        },
        "template": {
         "data": {
          "bar": [
           {
            "error_x": {
             "color": "#2a3f5f"
            },
            "error_y": {
             "color": "#2a3f5f"
            },
            "marker": {
             "line": {
              "color": "#E5ECF6",
              "width": 0.5
             }
            },
            "type": "bar"
           }
          ],
          "barpolar": [
           {
            "marker": {
             "line": {
              "color": "#E5ECF6",
              "width": 0.5
             }
            },
            "type": "barpolar"
           }
          ],
          "carpet": [
           {
            "aaxis": {
             "endlinecolor": "#2a3f5f",
             "gridcolor": "white",
             "linecolor": "white",
             "minorgridcolor": "white",
             "startlinecolor": "#2a3f5f"
            },
            "baxis": {
             "endlinecolor": "#2a3f5f",
             "gridcolor": "white",
             "linecolor": "white",
             "minorgridcolor": "white",
             "startlinecolor": "#2a3f5f"
            },
            "type": "carpet"
           }
          ],
          "choropleth": [
           {
            "colorbar": {
             "outlinewidth": 0,
             "ticks": ""
            },
            "type": "choropleth"
           }
          ],
          "contour": [
           {
            "colorbar": {
             "outlinewidth": 0,
             "ticks": ""
            },
            "colorscale": [
             [
              0,
              "#0d0887"
             ],
             [
              0.1111111111111111,
              "#46039f"
             ],
             [
              0.2222222222222222,
              "#7201a8"
             ],
             [
              0.3333333333333333,
              "#9c179e"
             ],
             [
              0.4444444444444444,
              "#bd3786"
             ],
             [
              0.5555555555555556,
              "#d8576b"
             ],
             [
              0.6666666666666666,
              "#ed7953"
             ],
             [
              0.7777777777777778,
              "#fb9f3a"
             ],
             [
              0.8888888888888888,
              "#fdca26"
             ],
             [
              1,
              "#f0f921"
             ]
            ],
            "type": "contour"
           }
          ],
          "contourcarpet": [
           {
            "colorbar": {
             "outlinewidth": 0,
             "ticks": ""
            },
            "type": "contourcarpet"
           }
          ],
          "heatmap": [
           {
            "colorbar": {
             "outlinewidth": 0,
             "ticks": ""
            },
            "colorscale": [
             [
              0,
              "#0d0887"
             ],
             [
              0.1111111111111111,
              "#46039f"
             ],
             [
              0.2222222222222222,
              "#7201a8"
             ],
             [
              0.3333333333333333,
              "#9c179e"
             ],
             [
              0.4444444444444444,
              "#bd3786"
             ],
             [
              0.5555555555555556,
              "#d8576b"
             ],
             [
              0.6666666666666666,
              "#ed7953"
             ],
             [
              0.7777777777777778,
              "#fb9f3a"
             ],
             [
              0.8888888888888888,
              "#fdca26"
             ],
             [
              1,
              "#f0f921"
             ]
            ],
            "type": "heatmap"
           }
          ],
          "heatmapgl": [
           {
            "colorbar": {
             "outlinewidth": 0,
             "ticks": ""
            },
            "colorscale": [
             [
              0,
              "#0d0887"
             ],
             [
              0.1111111111111111,
              "#46039f"
             ],
             [
              0.2222222222222222,
              "#7201a8"
             ],
             [
              0.3333333333333333,
              "#9c179e"
             ],
             [
              0.4444444444444444,
              "#bd3786"
             ],
             [
              0.5555555555555556,
              "#d8576b"
             ],
             [
              0.6666666666666666,
              "#ed7953"
             ],
             [
              0.7777777777777778,
              "#fb9f3a"
             ],
             [
              0.8888888888888888,
              "#fdca26"
             ],
             [
              1,
              "#f0f921"
             ]
            ],
            "type": "heatmapgl"
           }
          ],
          "histogram": [
           {
            "marker": {
             "colorbar": {
              "outlinewidth": 0,
              "ticks": ""
             }
            },
            "type": "histogram"
           }
          ],
          "histogram2d": [
           {
            "colorbar": {
             "outlinewidth": 0,
             "ticks": ""
            },
            "colorscale": [
             [
              0,
              "#0d0887"
             ],
             [
              0.1111111111111111,
              "#46039f"
             ],
             [
              0.2222222222222222,
              "#7201a8"
             ],
             [
              0.3333333333333333,
              "#9c179e"
             ],
             [
              0.4444444444444444,
              "#bd3786"
             ],
             [
              0.5555555555555556,
              "#d8576b"
             ],
             [
              0.6666666666666666,
              "#ed7953"
             ],
             [
              0.7777777777777778,
              "#fb9f3a"
             ],
             [
              0.8888888888888888,
              "#fdca26"
             ],
             [
              1,
              "#f0f921"
             ]
            ],
            "type": "histogram2d"
           }
          ],
          "histogram2dcontour": [
           {
            "colorbar": {
             "outlinewidth": 0,
             "ticks": ""
            },
            "colorscale": [
             [
              0,
              "#0d0887"
             ],
             [
              0.1111111111111111,
              "#46039f"
             ],
             [
              0.2222222222222222,
              "#7201a8"
             ],
             [
              0.3333333333333333,
              "#9c179e"
             ],
             [
              0.4444444444444444,
              "#bd3786"
             ],
             [
              0.5555555555555556,
              "#d8576b"
             ],
             [
              0.6666666666666666,
              "#ed7953"
             ],
             [
              0.7777777777777778,
              "#fb9f3a"
             ],
             [
              0.8888888888888888,
              "#fdca26"
             ],
             [
              1,
              "#f0f921"
             ]
            ],
            "type": "histogram2dcontour"
           }
          ],
          "mesh3d": [
           {
            "colorbar": {
             "outlinewidth": 0,
             "ticks": ""
            },
            "type": "mesh3d"
           }
          ],
          "parcoords": [
           {
            "line": {
             "colorbar": {
              "outlinewidth": 0,
              "ticks": ""
             }
            },
            "type": "parcoords"
           }
          ],
          "pie": [
           {
            "automargin": true,
            "type": "pie"
           }
          ],
          "scatter": [
           {
            "marker": {
             "colorbar": {
              "outlinewidth": 0,
              "ticks": ""
             }
            },
            "type": "scatter"
           }
          ],
          "scatter3d": [
           {
            "line": {
             "colorbar": {
              "outlinewidth": 0,
              "ticks": ""
             }
            },
            "marker": {
             "colorbar": {
              "outlinewidth": 0,
              "ticks": ""
             }
            },
            "type": "scatter3d"
           }
          ],
          "scattercarpet": [
           {
            "marker": {
             "colorbar": {
              "outlinewidth": 0,
              "ticks": ""
             }
            },
            "type": "scattercarpet"
           }
          ],
          "scattergeo": [
           {
            "marker": {
             "colorbar": {
              "outlinewidth": 0,
              "ticks": ""
             }
            },
            "type": "scattergeo"
           }
          ],
          "scattergl": [
           {
            "marker": {
             "colorbar": {
              "outlinewidth": 0,
              "ticks": ""
             }
            },
            "type": "scattergl"
           }
          ],
          "scattermapbox": [
           {
            "marker": {
             "colorbar": {
              "outlinewidth": 0,
              "ticks": ""
             }
            },
            "type": "scattermapbox"
           }
          ],
          "scatterpolar": [
           {
            "marker": {
             "colorbar": {
              "outlinewidth": 0,
              "ticks": ""
             }
            },
            "type": "scatterpolar"
           }
          ],
          "scatterpolargl": [
           {
            "marker": {
             "colorbar": {
              "outlinewidth": 0,
              "ticks": ""
             }
            },
            "type": "scatterpolargl"
           }
          ],
          "scatterternary": [
           {
            "marker": {
             "colorbar": {
              "outlinewidth": 0,
              "ticks": ""
             }
            },
            "type": "scatterternary"
           }
          ],
          "surface": [
           {
            "colorbar": {
             "outlinewidth": 0,
             "ticks": ""
            },
            "colorscale": [
             [
              0,
              "#0d0887"
             ],
             [
              0.1111111111111111,
              "#46039f"
             ],
             [
              0.2222222222222222,
              "#7201a8"
             ],
             [
              0.3333333333333333,
              "#9c179e"
             ],
             [
              0.4444444444444444,
              "#bd3786"
             ],
             [
              0.5555555555555556,
              "#d8576b"
             ],
             [
              0.6666666666666666,
              "#ed7953"
             ],
             [
              0.7777777777777778,
              "#fb9f3a"
             ],
             [
              0.8888888888888888,
              "#fdca26"
             ],
             [
              1,
              "#f0f921"
             ]
            ],
            "type": "surface"
           }
          ],
          "table": [
           {
            "cells": {
             "fill": {
              "color": "#EBF0F8"
             },
             "line": {
              "color": "white"
             }
            },
            "header": {
             "fill": {
              "color": "#C8D4E3"
             },
             "line": {
              "color": "white"
             }
            },
            "type": "table"
           }
          ]
         },
         "layout": {
          "annotationdefaults": {
           "arrowcolor": "#2a3f5f",
           "arrowhead": 0,
           "arrowwidth": 1
          },
          "autotypenumbers": "strict",
          "coloraxis": {
           "colorbar": {
            "outlinewidth": 0,
            "ticks": ""
           }
          },
          "colorscale": {
           "diverging": [
            [
             0,
             "#8e0152"
            ],
            [
             0.1,
             "#c51b7d"
            ],
            [
             0.2,
             "#de77ae"
            ],
            [
             0.3,
             "#f1b6da"
            ],
            [
             0.4,
             "#fde0ef"
            ],
            [
             0.5,
             "#f7f7f7"
            ],
            [
             0.6,
             "#e6f5d0"
            ],
            [
             0.7,
             "#b8e186"
            ],
            [
             0.8,
             "#7fbc41"
            ],
            [
             0.9,
             "#4d9221"
            ],
            [
             1,
             "#276419"
            ]
           ],
           "sequential": [
            [
             0,
             "#0d0887"
            ],
            [
             0.1111111111111111,
             "#46039f"
            ],
            [
             0.2222222222222222,
             "#7201a8"
            ],
            [
             0.3333333333333333,
             "#9c179e"
            ],
            [
             0.4444444444444444,
             "#bd3786"
            ],
            [
             0.5555555555555556,
             "#d8576b"
            ],
            [
             0.6666666666666666,
             "#ed7953"
            ],
            [
             0.7777777777777778,
             "#fb9f3a"
            ],
            [
             0.8888888888888888,
             "#fdca26"
            ],
            [
             1,
             "#f0f921"
            ]
           ],
           "sequentialminus": [
            [
             0,
             "#0d0887"
            ],
            [
             0.1111111111111111,
             "#46039f"
            ],
            [
             0.2222222222222222,
             "#7201a8"
            ],
            [
             0.3333333333333333,
             "#9c179e"
            ],
            [
             0.4444444444444444,
             "#bd3786"
            ],
            [
             0.5555555555555556,
             "#d8576b"
            ],
            [
             0.6666666666666666,
             "#ed7953"
            ],
            [
             0.7777777777777778,
             "#fb9f3a"
            ],
            [
             0.8888888888888888,
             "#fdca26"
            ],
            [
             1,
             "#f0f921"
            ]
           ]
          },
          "colorway": [
           "#636efa",
           "#EF553B",
           "#00cc96",
           "#ab63fa",
           "#FFA15A",
           "#19d3f3",
           "#FF6692",
           "#B6E880",
           "#FF97FF",
           "#FECB52"
          ],
          "font": {
           "color": "#2a3f5f"
          },
          "geo": {
           "bgcolor": "white",
           "lakecolor": "white",
           "landcolor": "#E5ECF6",
           "showlakes": true,
           "showland": true,
           "subunitcolor": "white"
          },
          "hoverlabel": {
           "align": "left"
          },
          "hovermode": "closest",
          "mapbox": {
           "style": "light"
          },
          "paper_bgcolor": "white",
          "plot_bgcolor": "#E5ECF6",
          "polar": {
           "angularaxis": {
            "gridcolor": "white",
            "linecolor": "white",
            "ticks": ""
           },
           "bgcolor": "#E5ECF6",
           "radialaxis": {
            "gridcolor": "white",
            "linecolor": "white",
            "ticks": ""
           }
          },
          "scene": {
           "xaxis": {
            "backgroundcolor": "#E5ECF6",
            "gridcolor": "white",
            "gridwidth": 2,
            "linecolor": "white",
            "showbackground": true,
            "ticks": "",
            "zerolinecolor": "white"
           },
           "yaxis": {
            "backgroundcolor": "#E5ECF6",
            "gridcolor": "white",
            "gridwidth": 2,
            "linecolor": "white",
            "showbackground": true,
            "ticks": "",
            "zerolinecolor": "white"
           },
           "zaxis": {
            "backgroundcolor": "#E5ECF6",
            "gridcolor": "white",
            "gridwidth": 2,
            "linecolor": "white",
            "showbackground": true,
            "ticks": "",
            "zerolinecolor": "white"
           }
          },
          "shapedefaults": {
           "line": {
            "color": "#2a3f5f"
           }
          },
          "ternary": {
           "aaxis": {
            "gridcolor": "white",
            "linecolor": "white",
            "ticks": ""
           },
           "baxis": {
            "gridcolor": "white",
            "linecolor": "white",
            "ticks": ""
           },
           "bgcolor": "#E5ECF6",
           "caxis": {
            "gridcolor": "white",
            "linecolor": "white",
            "ticks": ""
           }
          },
          "title": {
           "x": 0.05
          },
          "xaxis": {
           "automargin": true,
           "gridcolor": "white",
           "linecolor": "white",
           "ticks": "",
           "title": {
            "standoff": 15
           },
           "zerolinecolor": "white",
           "zerolinewidth": 2
          },
          "yaxis": {
           "automargin": true,
           "gridcolor": "white",
           "linecolor": "white",
           "ticks": "",
           "title": {
            "standoff": 15
           },
           "zerolinecolor": "white",
           "zerolinewidth": 2
          }
         }
        },
        "xaxis": {
         "anchor": "y",
         "domain": [
          0,
          1
         ],
         "title": {
          "text": "x"
         }
        },
        "yaxis": {
         "anchor": "x",
         "domain": [
          0,
          1
         ],
         "title": {
          "text": "y"
         }
        }
       }
      },
      "text/html": [
       "<div>                            <div id=\"f0b9d103-0780-452f-bffb-9b39f7055a5a\" class=\"plotly-graph-div\" style=\"height:525px; width:100%;\"></div>            <script type=\"text/javascript\">                require([\"plotly\"], function(Plotly) {                    window.PLOTLYENV=window.PLOTLYENV || {};                                    if (document.getElementById(\"f0b9d103-0780-452f-bffb-9b39f7055a5a\")) {                    Plotly.newPlot(                        \"f0b9d103-0780-452f-bffb-9b39f7055a5a\",                        [{\"hovertemplate\": \"x=%{x}<br>y=%{y}<extra></extra>\", \"legendgroup\": \"\", \"marker\": {\"color\": \"#636efa\", \"symbol\": \"circle\"}, \"mode\": \"markers\", \"name\": \"\", \"orientation\": \"v\", \"showlegend\": false, \"type\": \"scatter\", \"x\": [-1.8434448922600581, -1.30676189333484, -1.3691809940107613, -1.8788266505185796, -1.9117477292476368, -1.763025136873366, -0.8100745857868377, -1.8352042469566934, -1.1942077294440057, -1.7302037188105561, -1.7430395210214407, -1.788707873751373, -1.9482761357437675, -1.563980836474396, -1.739642174826389, -1.568858895671288, -0.7956084930061851, -2.342982413816515, -0.9942474643824372, -2.3976291411908432, -2.1040943067615365, -1.8497547527352554, -1.4957433802682587, -1.5707529654587258, -1.9210000873290747, -1.7527886755150521, -1.6946020254253287, -2.7034229531884364, -1.6712074135709378, -1.8694573678193747, -1.9006523491786294, -1.648307643176563, -1.5079497497736516, -1.4404840414474627, -1.4330841200199473, -1.6262592568975676, -1.7219441666469038, -2.3986641509372837, -1.1268353314309032, -2.2882895620756987, -0.9635350077848067, -2.301698524396635, -0.5684769449761568, -2.0028599868106634, -0.8707299726931125, -1.9188619507590723, -2.630403628593374, -1.7761247129613194, -1.3996284258175484, -1.564747642441814, -1.1367552775060077, -1.8596324283100842, -0.7788154078882975, -2.4416829016989, -1.2550810885377712, -1.5400099468527975, -1.2119677152182715, -2.250516420266393, -1.5166118651401275, -2.008704661134432, -1.1275489157884158, -1.562195871543772, -0.9182332367795605, -2.237307101954862, -0.9043524099365277, -1.336106267636144, -1.2308052425851441, -1.7944579255172595, -0.5833539142520116, -2.105499946773142, -1.2605097815863504, -1.0187669344251316, -0.39426733919544965, -1.565478565409526, -0.5771523504123535, -0.9314000899165491, -1.9184379788684147, -1.4485811819936212, -0.9286116293043981, -1.9631374759898097, -0.03691482645721998, -1.7837873493799368, -1.5191641533893447, -1.6747163929165616, -1.588210363386268, -1.83623421859477, -1.8498661298805394, -1.5466208802685957, -1.6139544109680801, -1.2607229716707646, -0.19343669494943758, -2.020079390766358, -0.9954248026309915, -1.8633966789067322, -0.2578347290902601, -1.5716798065722746, -0.6764214776476009, -2.5217642904220576, -0.769534392053214, -1.5892744282219442, -0.3785439330573424, -1.7923759948710742, -1.5043362609870832, -1.996007581577681, -1.84782817132796, -0.8422510701169879, -1.7106023379833681, -1.9755618843543163, -0.2037086871063339, -0.7315569521340701, -0.6331894701299485, -1.4746647804811226, -0.731110603524849, -1.694781834337585, -0.623710573209811, -1.8349567103158482, -1.6036557773407192, -1.7279597605548103, -1.6189683069836236, -1.9458100980754898, -1.657473878679704, -1.8170004837188347, -0.6636887392896217, -1.8748928005696481, -0.8694782363323551, -1.5602086247864937, -0.610870055567472, -1.5960704328568431, 0.0770739632163765, -1.6529515542807618, -1.1257438544147549, -1.673821935420226, -0.7015771787820453, -1.6800416994353262, -0.9608815519502784, -1.8756082811947556, -1.1022985920960873, -1.6477446259548632, -0.7962611639954827, -1.174145496535373, -1.3558262133434047, -1.9705124575401884, -1.0126095373533452, -1.670342934060103, -1.7561795380136977, -1.103198349046676, -2.056550084419608, -1.5507064895825495, -1.337914214845286, -1.5655867340424183, -0.6107650954469717, -0.7830087351555891, -0.3775620702621289, -0.5023582624595843, -1.1842565173222173, -0.29180837238738006, -0.31698121745775787, -1.6228354934305327, -0.06676896456350978, -0.45961231089285765, -0.40511707889120774, -0.5079020585170156, -0.5656570903146795, -0.7696522528949039, 0.3815121134350648, -0.7013867096302622, -0.04827850650108586, -0.8238576030967526, -0.11667009589715102, -1.0497580285602375, 0.12091819283196542, -1.3863576767866261, -0.6442857197512564, -1.4106367312516448, -0.4987021804958278, -0.7801912274412603, 0.10317855950602343, -0.29077840074930383, -0.22219011985093712, -0.6751270201070134, 0.5690590412573436, -1.3972737652945542, 0.18826906214164868, -1.1812480015677724, 0.2721758095039348, -0.46635092536178613, 0.0848906979601085, -0.40961905882888283, 0.7364478600528753, -1.0334957050494797, 0.6135779265858046, 0.14749426963577741, -0.8292542352050292, -0.46086654374056435, -0.5197059928222291, -0.13164717651880742, 0.47400272418541256, -0.6329043784202811, 0.44890801107786266, -0.9041941963993136, -0.019647529870085986, -0.1775391235673931, 0.0802131523249204, -0.6185031275327354, 0.030167614874962036, -1.303059620332974, -0.31885435077407204, -0.839859107884002, -0.12734705953504233, -0.04108433141790671, -1.0635289851770484, 0.22557361461287154, -0.49408372661994093, -0.44131235150643183, 0.5656096043505741, -0.7323800840408938, -0.35570588425246025, 0.5020331951975127, -0.2019946504296331, 1.6019901201845141, 2.899474915082852, 1.561131042683377, 2.6305171275494206, 2.243711682528462, 1.5677025914343798, 1.4647383202474915, 2.0332784690557952, 1.1770412257659946, 1.82299582271894, 1.2920254458469704, 2.1795301136560674, 1.6761609364512875, 2.51631547046832, 1.0462567264849174, 2.5322441427469946, 0.9180102573526067, 3.0976421499396505, 1.469799914220209, 2.466682900455425, 2.8299360987669755, 1.7610347791442182, 1.3850376433468279, 1.631557315448007, 1.861544915829073, 1.7912077794808643, 1.1762651464625247, 2.3300958026765883, 1.5814886677168858, 2.5895463502260894, 2.240691322292337, 1.1783025876639268, 1.467087171952115, 3.798704590340714, 2.3419914737042036, 2.150199285429773, 1.5983960158155395, 1.4694104464128397, 1.1196310443282742, 1.7705456783200948, 0.7168614629016807, 2.7218613514080436, 1.2556972007114207, 1.9051408139101969, 2.591535103902432, 1.7711544359003513, 1.1633179671063567, 2.6118895204235493, 1.9743868625907897, 1.7108910879470745, 1.6393705190024381, 2.536715755350638, 1.165359006168683, 2.4872962474195126, 1.9118171281074332, 1.8093213182559844, 1.007785239999378, 1.898044469897293, 0.9385843476545438, 2.7870424658999178, 1.0848718457303086, 2.223255775745125, 1.4810663472165986, 3.387154515354779, 1.8390583075460267, 2.781263689708764, 1.5925027819693538, 2.905476640238839, 1.6880138196274495, 2.8319773325035684, 1.7464761547475443, 1.89241305232956, 2.1112038437104195, 2.0360400935232157, 1.6036776729176088, 2.911946826730265, 1.5023119460500374, 2.786531539389936, 1.740306846522455, 2.3623654026455596, 1.7152074793144723, 2.7099561828458976, 1.6214193305137887, 2.4948739534890443, 1.5921847597670833, 2.6127383042329497, 1.4885357566505943, 2.6681889070991502, 1.8542970764434918, 2.830012206459564, 1.948774933951119, 2.633299171136787, 1.5001758337502742, 2.6179469341521773, 1.5265876640000202, 2.5816151578273265, 1.8458583607214039, 2.0926134023048375, 1.3078446985789784, 2.4374671752379813, 2.004829002930381, 3.099533461894249, 1.716262390829684, 2.869242822986906, 1.9395770802001704, 1.9205514306286628, 1.0259576758595326, 2.6967011908474325, 1.134040931185108, 1.9859912808892428, 2.110886144185059, 3.0941501198556938, 1.1635932014571742, 2.8877826805998317, 1.5881668781817182, 3.4889854283737756, 1.463757297480364, 2.696812245315806, 2.0064355378651664, 1.8408864125292264, 2.7607420127954554, 1.7223637766519186, 2.0289019296895883], \"xaxis\": \"x\", \"y\": [0.04770221725016212, -0.428348240700949, -0.15447639927373674, -0.002048406598355272, 0.829209600103374, -0.3514796038324175, 0.5224886762780675, -0.769633434573645, 1.026283705033736, -0.7885689993061628, -0.6664905803910108, -0.23607163503422357, 1.0112542959799218, 0.5970861398507971, -0.5948124824831481, 0.09593652551362059, 1.3107999458903266, -0.6326744060048428, 1.9856626746505561, -0.2945043772437805, -0.12158383364001663, -0.09389439122071513, -0.2718809093205579, -0.5868972412456752, -0.281298417596999, 0.1507728623813394, -0.17959791154247676, -0.18884565421056868, 0.30284406417589166, -0.7707881166751251, -0.38780113244604275, -0.31887189075584776, 0.3420326435386128, -0.9782499635731262, 1.074192040403529, 0.5633173747395877, 0.28505247081180884, 0.07876197192094116, 0.38149263225066965, -0.5832811783754315, 0.13058572736679075, -0.4403727064484764, 1.0707595614573024, -0.9888620402256377, 0.23392733212158984, 0.3540256049659841, -0.12858025665064035, -0.6455897826200965, 1.4533322976416905, -0.32763198276322275, 0.2972111566929768, -0.7551047101600111, 0.7236422598038159, -0.7873793770682586, 0.25548771379541463, -0.46898673168950733, 0.25964925322124016, -1.1814422629033496, 0.04736946519498541, -1.1154288304143463, 1.330348544204861, -0.819485955778938, 0.09784188013852116, -0.9896228181438231, 0.06115093589296272, -1.3978329528504365, 0.4665692610220483, -1.224618234786307, 0.7030978436853725, -0.4585511656863575, 0.009306623467282744, -0.5230224043644474, 0.9071064585473931, -0.8358362155815456, 0.4269450176807374, -0.5274897284351068, 0.13911073899108678, -1.341859308660585, 0.5666868685343533, -1.1086075688759494, 0.12135690476510747, -0.16843418451114903, -0.05780254712628899, -0.5540495826425715, 0.9169845285821373, 0.07144411292646531, -0.25872468772734725, 0.18474405048825893, 0.05191611208911756, -0.6255020776831389, 0.08583588473169088, -1.194353183603504, -0.06572208866629135, -0.8827170157088421, 0.37712234039332737, -0.10607408380742298, 0.16385531262752526, -1.75129641551485, 0.4544607629201623, -0.7258081747602737, 0.8880100400367289, -1.2687353458136301, 0.4854076784260329, -0.20913630648680673, 0.1737419607266299, -0.6109795675900938, 0.492340879677913, -0.8101527164641392, 0.7286685441352309, -0.9411949185648006, 1.4980294161326662, -0.347147964187747, 0.7687615585682072, 0.9290209732451328, 0.3168063458257617, -0.7832289576038343, 0.5843547563879147, -1.0532518639089257, 0.1828016230582501, -0.938976296792054, 0.31583007043504513, -0.5520125902784252, 0.23525533713975189, -1.5851254892389488, 0.3626079586389323, -0.47859183007935213, 0.2089298194765133, -0.6826760953412954, 0.3431314542606451, -0.3849713101146272, 0.6643081496092732, -0.3094826990668885, -0.12913002797655634, -0.5400998106285942, -0.20148246720711882, -0.8800313407525627, 0.7613540752455692, -1.1085483938039498, -0.15561632395542607, -0.5140603390870705, -0.42287161512120786, -2.0861233530505676, -0.466008150455284, -0.9953264703858502, 0.02686579430520096, 0.07233526040147562, -0.37593894980385123, -0.6852337644845242, -0.3354567407184662, -0.9433930238550746, 0.2592131395169394, 0.5099095685289715, 1.5833089176254689, 1.577483024165268, 0.7150800943796976, 1.9820953702324087, 0.37546656442331544, 0.5588603871387797, 1.1841015934248902, 0.9286843706131352, 1.8667599045988166, 0.512172163760413, 2.0796436984170166, 0.3418594365818042, 1.252560755343642, 0.12812352260912208, 1.6951383460842402, 1.7553987975060006, 1.7481568199865363, 0.7765621220852328, 1.0222731731392751, -0.1730944540617374, 0.5564151479321018, -0.4414494895214734, 1.5975385214405708, 0.51123001004941, 1.6265556747648944, 1.1410178227322965, 1.3163831963143837, 0.47940902773473537, 2.1621748735679156, -0.6617285916369172, 2.6121612563109315, -0.430245426489844, 1.4318350980739143, 1.1545766821857333, 0.21767924124819876, 0.8295630306304517, 2.384909966120439, -0.05650172816909447, 2.1931111188380976, 1.4813370427189685, 0.3302183603944498, 1.4831729207671802, 0.03693479864325803, 1.0108617814711196, 1.3251098124776817, 0.8933031571549691, 1.5589915513953276, 1.3539871536945585, 0.6479804417992678, 0.06098484270816553, 1.5404267109745216, 0.190255247473427, 1.7578230705044953, -0.18750543366965547, 1.4937997898046427, -0.18489671779307645, 1.6854155028886768, 1.312455388094503, 1.021154958504623, 1.7982801857002382, -0.008314264339674417, 0.07447786304330042, 2.352188474774845, 0.2533684069850447, 0.9999098389914169, 1.4919832005538374, 1.2687148064711258, -1.3269207111226438, 0.4838532584607223, -0.6835019855474314, 0.03687949763693053, -0.5412458281388036, -1.1566397418799783, -0.805582612593786, -0.3365759464308997, -1.5635093278120356, -0.29108547362908654, -1.6778247812035005, 0.27534687027187826, -1.1740561145198949, -0.3660944472395432, -0.8251496407516603, 0.17814245460120626, -1.6915972241114055, 0.012965628221080286, -0.7587524094741261, -0.18216919651459276, -0.30532750608536785, -0.8571734552904027, -0.7673880926294829, -0.19455135259437145, -1.6644996124586533, -0.49438345785484705, -1.098448899712372, -0.290721822592032, -0.6415435027641457, 0.06185862093602378, -0.26511184120586345, -1.2630082365953832, -0.8532062105216406, 1.8552659908982057, -0.28112844950186844, 0.27539877595929424, -1.460206709880407, 0.22594056816564995, -1.4113656228528801, 0.05829528220990734, -1.5554186714865499, 0.31786460742905975, -1.2334820166764464, -0.18824810997814406, 0.3596811509684098, -1.2743958430536746, -1.1412007773038535, 0.3443661455185916, -1.354346422805549, -0.28868008019964364, -0.8308863596094082, -0.6142314487028571, -0.961653266818756, -0.10569012302946879, -0.7545192258377658, -0.49793473667078264, -1.3171661504884955, -0.6102714733186776, -1.124332498579076, 0.10631473883647179, -1.2038855017241086, -0.5422999215632882, -1.0975774907604814, 0.7069224522455592, -0.9328380867644347, 0.6642336003028959, -0.8141990069517343, 0.39901166957506606, -1.184559883385117, 0.017636683967231313, -0.39632647230398077, -0.2688055089914464, -0.06114356234414672, -0.5610873327312809, -0.5439634166435968, 0.21969744057020152, -0.7588231542332388, 0.6342995427697823, -1.1557563135152626, 0.023838207379953534, -0.4591078943270563, 0.44664339584157065, -0.5942915285994267, 0.2841786064897873, -1.1890984019405992, 0.9651717046752726, -1.1254581957167398, -0.26745805956330726, -0.8102774130524432, 0.9812286489715819, -0.39683423021881653, 1.0165091181401844, -0.8401927871264316, 0.34193970488625297, -0.8579342332085892, 0.2753996754107169, 0.1319386131561671, -0.6316210095449983, -0.577687839565113, 0.6370124792495486, -0.2976918430332349, 1.4023278387187417, -0.2252592220251323, -0.1620420550287554, -0.9282461982291862, 0.028983954425219272, -1.181028792818011, 0.6310626266630418, -1.3024954868309253, -0.23418851479992903, 0.017566348436474227, 0.32629876704012617, -0.7863985242703738, 0.6270554956196873, -0.9640528551559634, 0.9368120081173715, -0.45024619907605096, 0.3422836174001882, -0.9589092757445439, -0.7677140250257909, 0.28888648142526163, -0.7042694221387719, 0.3576200792812595], \"yaxis\": \"y\"}],                        {\"legend\": {\"tracegroupgap\": 0}, \"margin\": {\"t\": 60}, \"template\": {\"data\": {\"bar\": [{\"error_x\": {\"color\": \"#2a3f5f\"}, \"error_y\": {\"color\": \"#2a3f5f\"}, \"marker\": {\"line\": {\"color\": \"#E5ECF6\", \"width\": 0.5}}, \"type\": \"bar\"}], \"barpolar\": [{\"marker\": {\"line\": {\"color\": \"#E5ECF6\", \"width\": 0.5}}, \"type\": \"barpolar\"}], \"carpet\": [{\"aaxis\": {\"endlinecolor\": \"#2a3f5f\", \"gridcolor\": \"white\", \"linecolor\": \"white\", \"minorgridcolor\": \"white\", \"startlinecolor\": \"#2a3f5f\"}, \"baxis\": {\"endlinecolor\": \"#2a3f5f\", \"gridcolor\": \"white\", \"linecolor\": \"white\", \"minorgridcolor\": \"white\", \"startlinecolor\": \"#2a3f5f\"}, \"type\": \"carpet\"}], \"choropleth\": [{\"colorbar\": {\"outlinewidth\": 0, \"ticks\": \"\"}, \"type\": \"choropleth\"}], \"contour\": [{\"colorbar\": {\"outlinewidth\": 0, \"ticks\": \"\"}, \"colorscale\": [[0.0, \"#0d0887\"], [0.1111111111111111, \"#46039f\"], [0.2222222222222222, \"#7201a8\"], [0.3333333333333333, \"#9c179e\"], [0.4444444444444444, \"#bd3786\"], [0.5555555555555556, \"#d8576b\"], [0.6666666666666666, \"#ed7953\"], [0.7777777777777778, \"#fb9f3a\"], [0.8888888888888888, \"#fdca26\"], [1.0, \"#f0f921\"]], \"type\": \"contour\"}], \"contourcarpet\": [{\"colorbar\": {\"outlinewidth\": 0, \"ticks\": \"\"}, \"type\": \"contourcarpet\"}], \"heatmap\": [{\"colorbar\": {\"outlinewidth\": 0, \"ticks\": \"\"}, \"colorscale\": [[0.0, \"#0d0887\"], [0.1111111111111111, \"#46039f\"], [0.2222222222222222, \"#7201a8\"], [0.3333333333333333, \"#9c179e\"], [0.4444444444444444, \"#bd3786\"], [0.5555555555555556, \"#d8576b\"], [0.6666666666666666, \"#ed7953\"], [0.7777777777777778, \"#fb9f3a\"], [0.8888888888888888, \"#fdca26\"], [1.0, \"#f0f921\"]], \"type\": \"heatmap\"}], \"heatmapgl\": [{\"colorbar\": {\"outlinewidth\": 0, \"ticks\": \"\"}, \"colorscale\": [[0.0, \"#0d0887\"], [0.1111111111111111, \"#46039f\"], [0.2222222222222222, \"#7201a8\"], [0.3333333333333333, \"#9c179e\"], [0.4444444444444444, \"#bd3786\"], [0.5555555555555556, \"#d8576b\"], [0.6666666666666666, \"#ed7953\"], [0.7777777777777778, \"#fb9f3a\"], [0.8888888888888888, \"#fdca26\"], [1.0, \"#f0f921\"]], \"type\": \"heatmapgl\"}], \"histogram\": [{\"marker\": {\"colorbar\": {\"outlinewidth\": 0, \"ticks\": \"\"}}, \"type\": \"histogram\"}], \"histogram2d\": [{\"colorbar\": {\"outlinewidth\": 0, \"ticks\": \"\"}, \"colorscale\": [[0.0, \"#0d0887\"], [0.1111111111111111, \"#46039f\"], [0.2222222222222222, \"#7201a8\"], [0.3333333333333333, \"#9c179e\"], [0.4444444444444444, \"#bd3786\"], [0.5555555555555556, \"#d8576b\"], [0.6666666666666666, \"#ed7953\"], [0.7777777777777778, \"#fb9f3a\"], [0.8888888888888888, \"#fdca26\"], [1.0, \"#f0f921\"]], \"type\": \"histogram2d\"}], \"histogram2dcontour\": [{\"colorbar\": {\"outlinewidth\": 0, \"ticks\": \"\"}, \"colorscale\": [[0.0, \"#0d0887\"], [0.1111111111111111, \"#46039f\"], [0.2222222222222222, \"#7201a8\"], [0.3333333333333333, \"#9c179e\"], [0.4444444444444444, \"#bd3786\"], [0.5555555555555556, \"#d8576b\"], [0.6666666666666666, \"#ed7953\"], [0.7777777777777778, \"#fb9f3a\"], [0.8888888888888888, \"#fdca26\"], [1.0, \"#f0f921\"]], \"type\": \"histogram2dcontour\"}], \"mesh3d\": [{\"colorbar\": {\"outlinewidth\": 0, \"ticks\": \"\"}, \"type\": \"mesh3d\"}], \"parcoords\": [{\"line\": {\"colorbar\": {\"outlinewidth\": 0, \"ticks\": \"\"}}, \"type\": \"parcoords\"}], \"pie\": [{\"automargin\": true, \"type\": \"pie\"}], \"scatter\": [{\"marker\": {\"colorbar\": {\"outlinewidth\": 0, \"ticks\": \"\"}}, \"type\": \"scatter\"}], \"scatter3d\": [{\"line\": {\"colorbar\": {\"outlinewidth\": 0, \"ticks\": \"\"}}, \"marker\": {\"colorbar\": {\"outlinewidth\": 0, \"ticks\": \"\"}}, \"type\": \"scatter3d\"}], \"scattercarpet\": [{\"marker\": {\"colorbar\": {\"outlinewidth\": 0, \"ticks\": \"\"}}, \"type\": \"scattercarpet\"}], \"scattergeo\": [{\"marker\": {\"colorbar\": {\"outlinewidth\": 0, \"ticks\": \"\"}}, \"type\": \"scattergeo\"}], \"scattergl\": [{\"marker\": {\"colorbar\": {\"outlinewidth\": 0, \"ticks\": \"\"}}, \"type\": \"scattergl\"}], \"scattermapbox\": [{\"marker\": {\"colorbar\": {\"outlinewidth\": 0, \"ticks\": \"\"}}, \"type\": \"scattermapbox\"}], \"scatterpolar\": [{\"marker\": {\"colorbar\": {\"outlinewidth\": 0, \"ticks\": \"\"}}, \"type\": \"scatterpolar\"}], \"scatterpolargl\": [{\"marker\": {\"colorbar\": {\"outlinewidth\": 0, \"ticks\": \"\"}}, \"type\": \"scatterpolargl\"}], \"scatterternary\": [{\"marker\": {\"colorbar\": {\"outlinewidth\": 0, \"ticks\": \"\"}}, \"type\": \"scatterternary\"}], \"surface\": [{\"colorbar\": {\"outlinewidth\": 0, \"ticks\": \"\"}, \"colorscale\": [[0.0, \"#0d0887\"], [0.1111111111111111, \"#46039f\"], [0.2222222222222222, \"#7201a8\"], [0.3333333333333333, \"#9c179e\"], [0.4444444444444444, \"#bd3786\"], [0.5555555555555556, \"#d8576b\"], [0.6666666666666666, \"#ed7953\"], [0.7777777777777778, \"#fb9f3a\"], [0.8888888888888888, \"#fdca26\"], [1.0, \"#f0f921\"]], \"type\": \"surface\"}], \"table\": [{\"cells\": {\"fill\": {\"color\": \"#EBF0F8\"}, \"line\": {\"color\": \"white\"}}, \"header\": {\"fill\": {\"color\": \"#C8D4E3\"}, \"line\": {\"color\": \"white\"}}, \"type\": \"table\"}]}, \"layout\": {\"annotationdefaults\": {\"arrowcolor\": \"#2a3f5f\", \"arrowhead\": 0, \"arrowwidth\": 1}, \"autotypenumbers\": \"strict\", \"coloraxis\": {\"colorbar\": {\"outlinewidth\": 0, \"ticks\": \"\"}}, \"colorscale\": {\"diverging\": [[0, \"#8e0152\"], [0.1, \"#c51b7d\"], [0.2, \"#de77ae\"], [0.3, \"#f1b6da\"], [0.4, \"#fde0ef\"], [0.5, \"#f7f7f7\"], [0.6, \"#e6f5d0\"], [0.7, \"#b8e186\"], [0.8, \"#7fbc41\"], [0.9, \"#4d9221\"], [1, \"#276419\"]], \"sequential\": [[0.0, \"#0d0887\"], [0.1111111111111111, \"#46039f\"], [0.2222222222222222, \"#7201a8\"], [0.3333333333333333, \"#9c179e\"], [0.4444444444444444, \"#bd3786\"], [0.5555555555555556, \"#d8576b\"], [0.6666666666666666, \"#ed7953\"], [0.7777777777777778, \"#fb9f3a\"], [0.8888888888888888, \"#fdca26\"], [1.0, \"#f0f921\"]], \"sequentialminus\": [[0.0, \"#0d0887\"], [0.1111111111111111, \"#46039f\"], [0.2222222222222222, \"#7201a8\"], [0.3333333333333333, \"#9c179e\"], [0.4444444444444444, \"#bd3786\"], [0.5555555555555556, \"#d8576b\"], [0.6666666666666666, \"#ed7953\"], [0.7777777777777778, \"#fb9f3a\"], [0.8888888888888888, \"#fdca26\"], [1.0, \"#f0f921\"]]}, \"colorway\": [\"#636efa\", \"#EF553B\", \"#00cc96\", \"#ab63fa\", \"#FFA15A\", \"#19d3f3\", \"#FF6692\", \"#B6E880\", \"#FF97FF\", \"#FECB52\"], \"font\": {\"color\": \"#2a3f5f\"}, \"geo\": {\"bgcolor\": \"white\", \"lakecolor\": \"white\", \"landcolor\": \"#E5ECF6\", \"showlakes\": true, \"showland\": true, \"subunitcolor\": \"white\"}, \"hoverlabel\": {\"align\": \"left\"}, \"hovermode\": \"closest\", \"mapbox\": {\"style\": \"light\"}, \"paper_bgcolor\": \"white\", \"plot_bgcolor\": \"#E5ECF6\", \"polar\": {\"angularaxis\": {\"gridcolor\": \"white\", \"linecolor\": \"white\", \"ticks\": \"\"}, \"bgcolor\": \"#E5ECF6\", \"radialaxis\": {\"gridcolor\": \"white\", \"linecolor\": \"white\", \"ticks\": \"\"}}, \"scene\": {\"xaxis\": {\"backgroundcolor\": \"#E5ECF6\", \"gridcolor\": \"white\", \"gridwidth\": 2, \"linecolor\": \"white\", \"showbackground\": true, \"ticks\": \"\", \"zerolinecolor\": \"white\"}, \"yaxis\": {\"backgroundcolor\": \"#E5ECF6\", \"gridcolor\": \"white\", \"gridwidth\": 2, \"linecolor\": \"white\", \"showbackground\": true, \"ticks\": \"\", \"zerolinecolor\": \"white\"}, \"zaxis\": {\"backgroundcolor\": \"#E5ECF6\", \"gridcolor\": \"white\", \"gridwidth\": 2, \"linecolor\": \"white\", \"showbackground\": true, \"ticks\": \"\", \"zerolinecolor\": \"white\"}}, \"shapedefaults\": {\"line\": {\"color\": \"#2a3f5f\"}}, \"ternary\": {\"aaxis\": {\"gridcolor\": \"white\", \"linecolor\": \"white\", \"ticks\": \"\"}, \"baxis\": {\"gridcolor\": \"white\", \"linecolor\": \"white\", \"ticks\": \"\"}, \"bgcolor\": \"#E5ECF6\", \"caxis\": {\"gridcolor\": \"white\", \"linecolor\": \"white\", \"ticks\": \"\"}}, \"title\": {\"x\": 0.05}, \"xaxis\": {\"automargin\": true, \"gridcolor\": \"white\", \"linecolor\": \"white\", \"ticks\": \"\", \"title\": {\"standoff\": 15}, \"zerolinecolor\": \"white\", \"zerolinewidth\": 2}, \"yaxis\": {\"automargin\": true, \"gridcolor\": \"white\", \"linecolor\": \"white\", \"ticks\": \"\", \"title\": {\"standoff\": 15}, \"zerolinecolor\": \"white\", \"zerolinewidth\": 2}}}, \"xaxis\": {\"anchor\": \"y\", \"domain\": [0.0, 1.0], \"title\": {\"text\": \"x\"}}, \"yaxis\": {\"anchor\": \"x\", \"domain\": [0.0, 1.0], \"title\": {\"text\": \"y\"}}},                        {\"responsive\": true}                    ).then(function(){\n",
       "                            \n",
       "var gd = document.getElementById('f0b9d103-0780-452f-bffb-9b39f7055a5a');\n",
       "var x = new MutationObserver(function (mutations, observer) {{\n",
       "        var display = window.getComputedStyle(gd).display;\n",
       "        if (!display || display === 'none') {{\n",
       "            console.log([gd, 'removed!']);\n",
       "            Plotly.purge(gd);\n",
       "            observer.disconnect();\n",
       "        }}\n",
       "}});\n",
       "\n",
       "// Listen for the removal of the full notebook cells\n",
       "var notebookContainer = gd.closest('#notebook-container');\n",
       "if (notebookContainer) {{\n",
       "    x.observe(notebookContainer, {childList: true});\n",
       "}}\n",
       "\n",
       "// Listen for the clearing of the current output cell\n",
       "var outputEl = gd.closest('.output');\n",
       "if (outputEl) {{\n",
       "    x.observe(outputEl, {childList: true});\n",
       "}}\n",
       "\n",
       "                        })                };                });            </script>        </div>"
      ]
     },
     "metadata": {},
     "output_type": "display_data"
    }
   ],
   "source": [
    "px.scatter(x = principalDataframe.PC1, y = principalDataframe.PC2)"
   ]
  }
 ],
 "metadata": {
  "kernelspec": {
   "display_name": "Python 3.8.8 64-bit ('NuclioDigitalSchool': conda)",
   "language": "python",
   "name": "python388jvsc74a57bd036b9a2a0f226926490f5535038bc0776dc6ef9541a368ddb54f9a85170198278"
  },
  "language_info": {
   "codemirror_mode": {
    "name": "ipython",
    "version": 3
   },
   "file_extension": ".py",
   "mimetype": "text/x-python",
   "name": "python",
   "nbconvert_exporter": "python",
   "pygments_lexer": "ipython3",
   "version": "3.8.8"
  },
  "nbTranslate": {
   "displayLangs": [
    "*"
   ],
   "hotkey": "alt-t",
   "langInMainMenu": true,
   "sourceLang": "en",
   "targetLang": "fr",
   "useGoogleTranslate": true
  },
  "toc": {
   "base_numbering": 1,
   "nav_menu": {},
   "number_sections": true,
   "sideBar": true,
   "skip_h1_title": true,
   "title_cell": "Table of Contents",
   "title_sidebar": "Contents",
   "toc_cell": true,
   "toc_position": {},
   "toc_section_display": true,
   "toc_window_display": false
  },
  "varInspector": {
   "cols": {
    "lenName": 16,
    "lenType": 16,
    "lenVar": 40
   },
   "kernels_config": {
    "python": {
     "delete_cmd_postfix": "",
     "delete_cmd_prefix": "del ",
     "library": "var_list.py",
     "varRefreshCmd": "print(var_dic_list())"
    },
    "r": {
     "delete_cmd_postfix": ") ",
     "delete_cmd_prefix": "rm(",
     "library": "var_list.r",
     "varRefreshCmd": "cat(var_dic_list()) "
    }
   },
   "types_to_exclude": [
    "module",
    "function",
    "builtin_function_or_method",
    "instance",
    "_Feature"
   ],
   "window_display": false
  }
 },
 "nbformat": 4,
 "nbformat_minor": 4
}
