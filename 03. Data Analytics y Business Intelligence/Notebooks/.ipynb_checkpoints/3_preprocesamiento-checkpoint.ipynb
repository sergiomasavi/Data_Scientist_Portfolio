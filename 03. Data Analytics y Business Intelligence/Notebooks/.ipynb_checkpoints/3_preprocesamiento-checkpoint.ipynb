{
 "cells": [
  {
   "cell_type": "markdown",
   "metadata": {
    "toc": true
   },
   "source": [
    "<h1>Table of Contents<span class=\"tocSkip\"></span></h1>\n",
    "<div class=\"toc\"><ul class=\"toc-item\"><li><span><a href=\"#Inspecciones-generales\" data-toc-modified-id=\"Inspecciones-generales-1\"><span class=\"toc-item-num\">1&nbsp;&nbsp;</span>Inspecciones generales</a></span><ul class=\"toc-item\"><li><span><a href=\"#Inspección-visual-de-las-reseñas\" data-toc-modified-id=\"Inspección-visual-de-las-reseñas-1.1\"><span class=\"toc-item-num\">1.1&nbsp;&nbsp;</span>Inspección visual de las reseñas</a></span></li><li><span><a href=\"#Palabras-más-comunes-de-acuerdo-al-sentimiento-(Postivo,-Neutral,-Negativo)\" data-toc-modified-id=\"Palabras-más-comunes-de-acuerdo-al-sentimiento-(Postivo,-Neutral,-Negativo)-1.2\"><span class=\"toc-item-num\">1.2&nbsp;&nbsp;</span>Palabras más comunes de acuerdo al sentimiento (Postivo, Neutral, Negativo)</a></span></li><li><span><a href=\"#Inspección-de-variables-númericas-de-acuerdo-al-sentimiento\" data-toc-modified-id=\"Inspección-de-variables-númericas-de-acuerdo-al-sentimiento-1.3\"><span class=\"toc-item-num\">1.3&nbsp;&nbsp;</span>Inspección de variables númericas de acuerdo al sentimiento</a></span><ul class=\"toc-item\"><li><span><a href=\"#age-vs.-review_sentiment\" data-toc-modified-id=\"age-vs.-review_sentiment-1.3.1\"><span class=\"toc-item-num\">1.3.1&nbsp;&nbsp;</span><code>age</code> vs. <code>review_sentiment</code></a></span></li><li><span><a href=\"#items_bought-vs.-review_sentiment\" data-toc-modified-id=\"items_bought-vs.-review_sentiment-1.3.2\"><span class=\"toc-item-num\">1.3.2&nbsp;&nbsp;</span><code>items_bought</code> vs. <code>review_sentiment</code></a></span></li></ul></li></ul></li><li><span><a href=\"#Preprocesamiento\" data-toc-modified-id=\"Preprocesamiento-2\"><span class=\"toc-item-num\">2&nbsp;&nbsp;</span>Preprocesamiento</a></span></li><li><span><a href=\"#Encoding-de-la-variable-respuesta\" data-toc-modified-id=\"Encoding-de-la-variable-respuesta-3\"><span class=\"toc-item-num\">3&nbsp;&nbsp;</span>Encoding de la variable respuesta</a></span><ul class=\"toc-item\"><li><span><a href=\"#División-de-dataframe-en-train-y-test\" data-toc-modified-id=\"División-de-dataframe-en-train-y-test-3.1\"><span class=\"toc-item-num\">3.1&nbsp;&nbsp;</span>División de dataframe en <code>train</code> y <code>test</code></a></span></li><li><span><a href=\"#Re-escalar-variables\" data-toc-modified-id=\"Re-escalar-variables-3.2\"><span class=\"toc-item-num\">3.2&nbsp;&nbsp;</span>Re-escalar variables</a></span><ul class=\"toc-item\"><li><span><a href=\"#StandardScaler\" data-toc-modified-id=\"StandardScaler-3.2.1\"><span class=\"toc-item-num\">3.2.1&nbsp;&nbsp;</span><code>StandardScaler</code></a></span></li><li><span><a href=\"#Normalizer\" data-toc-modified-id=\"Normalizer-3.2.2\"><span class=\"toc-item-num\">3.2.2&nbsp;&nbsp;</span><code>Normalizer</code></a></span></li><li><span><a href=\"#MinMaxScaler\" data-toc-modified-id=\"MinMaxScaler-3.2.3\"><span class=\"toc-item-num\">3.2.3&nbsp;&nbsp;</span><code>MinMaxScaler</code></a></span></li></ul></li><li><span><a href=\"#Creación-de-variables-a-partir-de-las-reseñas\" data-toc-modified-id=\"Creación-de-variables-a-partir-de-las-reseñas-3.3\"><span class=\"toc-item-num\">3.3&nbsp;&nbsp;</span>Creación de variables a partir de las reseñas</a></span></li><li><span><a href=\"#Creación-de-dataset-y-modelo-de-ML\" data-toc-modified-id=\"Creación-de-dataset-y-modelo-de-ML-3.4\"><span class=\"toc-item-num\">3.4&nbsp;&nbsp;</span>Creación de dataset y modelo de ML</a></span></li></ul></li></ul></div>"
   ]
  },
  {
   "cell_type": "markdown",
   "metadata": {},
   "source": [
    "![Nuclio logo](https://nuclio.school/wp-content/uploads/2018/12/nucleoDS-newBlack.png)\n",
    "\n",
    "# Pre-procesamiento de datos: preparar un dataset para utilizar en un modelo de ML\n",
    "\n",
    "Nos dan un dataset con reseñas de productos de ropa de Mujer y nos piden preparar el dataset para utilizarlo en modelos de ML.\n",
    "\n",
    "El dataset contiene ~6k reseñas y 6 dimensiones:\n",
    "\n",
    "- Clothing ID: Identificador del ítem\n",
    "- Age: Edad del usuario que deja la reseña\n",
    "- Title: Título de la reseña\n",
    "- Review Text: Texto de la reseña\n",
    "- Review Sentiment: Sentimiento asociado a la reseña (Positive, Neutral, Negative)\n",
    "- Items Bought: Número de ítems que el usuario ha comprado antes de hacer la reseña\n",
    "\n",
    "Haremos esto:\n",
    "\n",
    "1. Revisaremos el dataset\n",
    "3. Revisaremos las reseñas asociadas a los distintos sentimientos\n",
    "2. Investigaremos las palabras más comunes para cada tipo de sentimiento\n",
    "3. Observaremos la relación de las variables numéricas con los sentimientos\n",
    "4. Re-escalaremos las variables númericas\n",
    "5. Crearemos variables para un modelo de ML utilizando las reseñas\n"
   ]
  },
  {
   "cell_type": "markdown",
   "metadata": {},
   "source": [
    "## Inspecciones generales"
   ]
  },
  {
   "cell_type": "markdown",
   "metadata": {},
   "source": [
    "### Inspección visual de las reseñas"
   ]
  },
  {
   "cell_type": "markdown",
   "metadata": {},
   "source": [
    "### Palabras más comunes de acuerdo al sentimiento (Postivo, Neutral, Negativo)"
   ]
  },
  {
   "cell_type": "markdown",
   "metadata": {},
   "source": [
    "### Inspección de variables númericas de acuerdo al sentimiento"
   ]
  },
  {
   "cell_type": "markdown",
   "metadata": {},
   "source": [
    "#### `age` vs. `review_sentiment`"
   ]
  },
  {
   "cell_type": "markdown",
   "metadata": {},
   "source": [
    "#### `items_bought` vs. `review_sentiment`"
   ]
  },
  {
   "cell_type": "markdown",
   "metadata": {},
   "source": [
    "## Preprocesamiento"
   ]
  },
  {
   "cell_type": "markdown",
   "metadata": {},
   "source": [
    "## Encoding de la variable respuesta"
   ]
  },
  {
   "cell_type": "markdown",
   "metadata": {},
   "source": [
    "### División de dataframe en `train` y `test`"
   ]
  },
  {
   "cell_type": "markdown",
   "metadata": {},
   "source": [
    "### Re-escalar variables"
   ]
  },
  {
   "cell_type": "markdown",
   "metadata": {},
   "source": [
    "#### `StandardScaler`"
   ]
  },
  {
   "cell_type": "markdown",
   "metadata": {},
   "source": [
    "#### `Normalizer`"
   ]
  },
  {
   "cell_type": "markdown",
   "metadata": {},
   "source": [
    "#### `MinMaxScaler`"
   ]
  },
  {
   "cell_type": "markdown",
   "metadata": {},
   "source": [
    "### Creación de variables a partir de las reseñas"
   ]
  },
  {
   "cell_type": "markdown",
   "metadata": {},
   "source": [
    "### Creación de dataset y modelo de ML"
   ]
  }
 ],
 "metadata": {
  "kernelspec": {
   "display_name": "Python 3.8.8 64-bit ('nuclio': conda)",
   "name": "python388jvsc74a57bd047c7c997e12db0943f037ebbbbd3e237f559f651ec857a3093f1bc2fc6c9f54a"
  },
  "language_info": {
   "codemirror_mode": {
    "name": "ipython",
    "version": 3
   },
   "file_extension": ".py",
   "mimetype": "text/x-python",
   "name": "python",
   "nbconvert_exporter": "python",
   "pygments_lexer": "ipython3",
   "version": "3.8.8"
  },
  "metadata": {
   "interpreter": {
    "hash": "47c7c997e12db0943f037ebbbbd3e237f559f651ec857a3093f1bc2fc6c9f54a"
   }
  },
  "nbTranslate": {
   "displayLangs": [
    "*"
   ],
   "hotkey": "alt-t",
   "langInMainMenu": true,
   "sourceLang": "en",
   "targetLang": "fr",
   "useGoogleTranslate": true
  },
  "toc": {
   "base_numbering": 1,
   "nav_menu": {},
   "number_sections": true,
   "sideBar": true,
   "skip_h1_title": true,
   "title_cell": "Table of Contents",
   "title_sidebar": "Contents",
   "toc_cell": true,
   "toc_position": {},
   "toc_section_display": true,
   "toc_window_display": false
  }
 },
 "nbformat": 4,
 "nbformat_minor": 2
}
