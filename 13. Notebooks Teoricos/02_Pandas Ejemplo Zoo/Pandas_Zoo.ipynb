{
 "cells": [
  {
   "cell_type": "markdown",
   "metadata": {},
   "source": [
    "# Ejemplo con Pandas de un Zoo"
   ]
  },
  {
   "cell_type": "markdown",
   "metadata": {},
   "source": [
    "## Imports"
   ]
  },
  {
   "cell_type": "code",
   "execution_count": null,
   "metadata": {
    "ExecuteTime": {
     "end_time": "2020-09-24T10:53:54.689612Z",
     "start_time": "2020-09-24T10:53:54.485628Z"
    }
   },
   "outputs": [],
   "source": [
    "import numpy as np\n",
    "import pandas as pd"
   ]
  },
  {
   "cell_type": "markdown",
   "metadata": {},
   "source": [
    "## Leemos el CSV"
   ]
  },
  {
   "cell_type": "code",
   "execution_count": null,
   "metadata": {
    "ExecuteTime": {
     "end_time": "2020-09-24T10:53:56.903866Z",
     "start_time": "2020-09-24T10:53:56.898985Z"
    }
   },
   "outputs": [],
   "source": [
    "zoo = pd.read_csv('zoo.csv', delimiter = ',')"
   ]
  },
  {
   "cell_type": "markdown",
   "metadata": {},
   "source": [
    "## Contamos los elementos de cada columna"
   ]
  },
  {
   "cell_type": "code",
   "execution_count": null,
   "metadata": {
    "ExecuteTime": {
     "end_time": "2020-09-24T10:53:58.571499Z",
     "start_time": "2020-09-24T10:53:58.562716Z"
    }
   },
   "outputs": [],
   "source": [
    "zoo.count()"
   ]
  },
  {
   "cell_type": "markdown",
   "metadata": {},
   "source": [
    "## Contamos los elementos de la columna animal"
   ]
  },
  {
   "cell_type": "code",
   "execution_count": null,
   "metadata": {
    "ExecuteTime": {
     "end_time": "2020-09-24T10:54:18.425588Z",
     "start_time": "2020-09-24T10:54:18.418756Z"
    }
   },
   "outputs": [],
   "source": [
    "zoo[['animal']].count()"
   ]
  },
  {
   "cell_type": "markdown",
   "metadata": {},
   "source": [
    "## Sumatorio del agua que necesitan todos los animales"
   ]
  },
  {
   "cell_type": "code",
   "execution_count": null,
   "metadata": {
    "ExecuteTime": {
     "end_time": "2020-09-24T10:54:35.390958Z",
     "start_time": "2020-09-24T10:54:35.387054Z"
    }
   },
   "outputs": [],
   "source": [
    "zoo.water_need.sum()"
   ]
  },
  {
   "cell_type": "markdown",
   "metadata": {},
   "source": [
    "## Algunos calculos"
   ]
  },
  {
   "cell_type": "code",
   "execution_count": null,
   "metadata": {
    "ExecuteTime": {
     "end_time": "2020-09-24T11:06:44.575338Z",
     "start_time": "2020-09-24T11:06:44.569481Z"
    }
   },
   "outputs": [],
   "source": [
    "minimo_agua = zoo.water_need.min()\n",
    "maximo_agua = zoo.water_need.max()\n",
    "media_agua = zoo.water_need.mean()\n",
    "mediana_agua = zoo.water_need.median()\n",
    "\n",
    "print(\"Minimo de necesidad de agua:\", minimo_agua)\n",
    "print(\"Maximo de necesidad de agua:\", maximo_agua)\n",
    "print(\"Media de necesidad de agua:\", media_agua)\n",
    "print(\"Mediana de necesidad de agua:\", mediana_agua)"
   ]
  },
  {
   "cell_type": "markdown",
   "metadata": {},
   "source": [
    "## Localicemos a los animales de menor y mayor necesidad de agua"
   ]
  },
  {
   "cell_type": "code",
   "execution_count": null,
   "metadata": {
    "ExecuteTime": {
     "end_time": "2020-09-24T11:09:21.323066Z",
     "start_time": "2020-09-24T11:09:21.314742Z"
    }
   },
   "outputs": [],
   "source": [
    "zoo.loc[zoo[\"water_need\"] == minimo_agua,[\"animal\",\"water_need\"]]"
   ]
  },
  {
   "cell_type": "code",
   "execution_count": null,
   "metadata": {
    "ExecuteTime": {
     "end_time": "2020-09-24T11:10:02.838181Z",
     "start_time": "2020-09-24T11:10:02.831349Z"
    }
   },
   "outputs": [],
   "source": [
    "zoo.loc[zoo[\"water_need\"] == maximo_agua,[\"animal\",\"water_need\"]]"
   ]
  },
  {
   "cell_type": "markdown",
   "metadata": {},
   "source": [
    "# Agrupación (grouping) en Pandas\n",
    "<img src=\"./zoo_1.png\"  />"
   ]
  },
  {
   "cell_type": "markdown",
   "metadata": {},
   "source": [
    "## Calcular la media agrupado por animal"
   ]
  },
  {
   "cell_type": "code",
   "execution_count": null,
   "metadata": {
    "ExecuteTime": {
     "end_time": "2020-09-24T11:22:34.797446Z",
     "start_time": "2020-09-24T11:22:34.787686Z"
    }
   },
   "outputs": [],
   "source": [
    "# Nos calcula la media de TODAS las columnas\n",
    "zoo.groupby('animal').mean()"
   ]
  },
  {
   "cell_type": "code",
   "execution_count": null,
   "metadata": {
    "ExecuteTime": {
     "end_time": "2020-09-24T11:25:45.362097Z",
     "start_time": "2020-09-24T11:25:45.353316Z"
    }
   },
   "outputs": [],
   "source": [
    "# Nos calcula la media de la columna water_need\n",
    "zoo.groupby('animal')[['water_need']].mean()"
   ]
  },
  {
   "cell_type": "code",
   "execution_count": null,
   "metadata": {
    "ExecuteTime": {
     "end_time": "2020-09-24T11:25:55.615247Z",
     "start_time": "2020-09-24T11:25:55.608415Z"
    }
   },
   "outputs": [],
   "source": [
    "# Alternativa del anterior\n",
    "zoo.groupby('animal').mean().water_need"
   ]
  },
  {
   "cell_type": "markdown",
   "metadata": {},
   "source": [
    "# Unión (merge - join) en Pandas"
   ]
  },
  {
   "cell_type": "markdown",
   "metadata": {},
   "source": [
    "## Cargamos el csv de zoo_eats.csv"
   ]
  },
  {
   "cell_type": "code",
   "execution_count": null,
   "metadata": {
    "ExecuteTime": {
     "end_time": "2020-09-24T11:31:17.523561Z",
     "start_time": "2020-09-24T11:31:17.515753Z"
    }
   },
   "outputs": [],
   "source": [
    "zoo_eats = pd.read_csv('zoo_eats.csv', delimiter = ',')\n",
    "zoo_eats"
   ]
  },
  {
   "cell_type": "markdown",
   "metadata": {},
   "source": [
    "## Unimos los dos dataframes"
   ]
  },
  {
   "cell_type": "code",
   "execution_count": null,
   "metadata": {
    "ExecuteTime": {
     "end_time": "2020-09-24T11:31:19.698837Z",
     "start_time": "2020-09-24T11:31:19.688101Z"
    }
   },
   "outputs": [],
   "source": [
    "zoo.merge(zoo_eats)"
   ]
  },
  {
   "cell_type": "markdown",
   "metadata": {},
   "source": [
    "## Diferentes tipos de unión\n",
    "Como se puede ver, el método de unión básico es bastante simple. Sin embargo, a veces se tiene que agregar algunos parámetros adicionales. En SQL, aprendimos que existen diferentes tipos de JOIN.\n",
    "<img src=\"./zoo_2.png\"  />"
   ]
  },
  {
   "cell_type": "markdown",
   "metadata": {},
   "source": [
    "## OUTER JOIN\n",
    "Cuando haces un INNER JOIN (que es el predeterminado tanto en SQL como en pandas), fusionas solo los valores que se encuentran en ambas tablas. Por otro lado, cuando realiza OUTER JOIN, fusiona todos los valores, incluso si puede encontrar algunos de ellos en solo una de las tablas.\n",
    "\n",
    "Veamos un ejemplo concreto: ¿te diste cuenta de que no hay valor de león en zoo_eats? ¿O que no tenemos jirafas en el zoológico? Cuando hicimos la combinación anterior, de forma predeterminada, era una combinación INNER, por lo que filtró jirafas y leones de la tabla de resultados. Pero hay casos en los que queremos ver estos valores en nuestro resultado. Intentemos esto:\n",
    "\n",
    "<img src=\"./zoo_3.png\"  />"
   ]
  },
  {
   "cell_type": "code",
   "execution_count": null,
   "metadata": {
    "ExecuteTime": {
     "end_time": "2020-09-24T11:33:31.791865Z",
     "start_time": "2020-09-24T11:33:31.779177Z"
    }
   },
   "outputs": [],
   "source": [
    "zoo.merge(zoo_eats, how = 'outer')"
   ]
  },
  {
   "cell_type": "markdown",
   "metadata": {},
   "source": [
    "## LEFT JOIN\n",
    "¿Ver? Los leones regresaron, la jirafa regresó ... Lo único es que tenemos valores vacíos (NaN) en esas columnas donde no obtuvimos información de la otra tabla.\n",
    "\n",
    "En mi opinión, en este caso concreto, tendría más sentido mantener a los leones en la tabla pero no a las jirafas… Con eso, podríamos ver todos los animales de nuestro zoológico y tendríamos tres categorías de alimentos: vegetales, carne y NaN. (que es básicamente \"sin información\"). Mantener la línea de jirafas sería engañoso e irrelevante, ya que de todos modos no tenemos jirafas en nuestro zoológico. ¡Es entonces cuando se vuelve útil fusionar con un parámetro how = 'left'!\n",
    "\n",
    "<img src=\"./zoo_4.png\"  />"
   ]
  },
  {
   "cell_type": "code",
   "execution_count": null,
   "metadata": {
    "ExecuteTime": {
     "end_time": "2020-09-24T11:37:49.541885Z",
     "start_time": "2020-09-24T11:37:49.531148Z"
    }
   },
   "outputs": [],
   "source": [
    "zoo.merge(zoo_eats, how = 'left')"
   ]
  },
  {
   "cell_type": "markdown",
   "metadata": {},
   "source": [
    "## CLAVES POR DEFECTO\n",
    "Por defecto, Pandas selecciona las claves (columnas) por las que va a realizar la combinación en ambas tablas. En este caso ha acertado porque ha seleccionado la columna animal tanto en la tabla de la izquierda como en la tabla de la derecha.\n",
    "\n",
    "Pero si Pandas falla o queremos tener un mayor control sobre nuestro código, usaremos los parámetros left_on y right_on"
   ]
  },
  {
   "cell_type": "code",
   "execution_count": null,
   "metadata": {
    "ExecuteTime": {
     "end_time": "2020-09-24T11:40:47.848070Z",
     "start_time": "2020-09-24T11:40:47.837334Z"
    }
   },
   "outputs": [],
   "source": [
    "zoo.merge(zoo_eats, how = 'left', left_on = 'animal', right_on = 'animal')"
   ]
  },
  {
   "cell_type": "markdown",
   "metadata": {},
   "source": [
    "## UNIÓN FINAL"
   ]
  },
  {
   "cell_type": "code",
   "execution_count": null,
   "metadata": {
    "ExecuteTime": {
     "end_time": "2020-09-24T11:49:21.421148Z",
     "start_time": "2020-09-24T11:49:21.415292Z"
    }
   },
   "outputs": [],
   "source": [
    "zoo_final = zoo.merge(zoo_eats, how = 'left')"
   ]
  },
  {
   "cell_type": "code",
   "execution_count": null,
   "metadata": {
    "ExecuteTime": {
     "end_time": "2020-09-24T11:49:32.411179Z",
     "start_time": "2020-09-24T11:49:32.399465Z"
    }
   },
   "outputs": [],
   "source": [
    "zoo_final = zoo.merge(zoo_eats, how = 'left').fillna('unknown')\n",
    "zoo_final"
   ]
  },
  {
   "cell_type": "markdown",
   "metadata": {},
   "source": [
    "## ORDENACIÓN"
   ]
  },
  {
   "cell_type": "code",
   "execution_count": null,
   "metadata": {
    "ExecuteTime": {
     "end_time": "2020-09-24T11:49:46.992907Z",
     "start_time": "2020-09-24T11:49:46.983147Z"
    }
   },
   "outputs": [],
   "source": [
    "zoo_final.sort_values('water_need') # Por water_need de menor a mayor"
   ]
  },
  {
   "cell_type": "code",
   "execution_count": null,
   "metadata": {
    "ExecuteTime": {
     "end_time": "2020-09-24T11:49:58.992723Z",
     "start_time": "2020-09-24T11:49:58.982962Z"
    }
   },
   "outputs": [],
   "source": [
    "zoo_final.sort_values(by = ['animal', 'water_need']) # Por animal y water_need"
   ]
  },
  {
   "cell_type": "code",
   "execution_count": null,
   "metadata": {
    "ExecuteTime": {
     "end_time": "2020-09-24T11:50:09.672375Z",
     "start_time": "2020-09-24T11:50:09.663591Z"
    }
   },
   "outputs": [],
   "source": [
    "zoo_final.sort_values(by = ['water_need'], ascending = False) # Por water_need de mayor a menor"
   ]
  },
  {
   "cell_type": "code",
   "execution_count": null,
   "metadata": {
    "ExecuteTime": {
     "end_time": "2020-09-24T11:50:24.056917Z",
     "start_time": "2020-09-24T11:50:24.047157Z"
    }
   },
   "outputs": [],
   "source": [
    "zoo_final.sort_values(by = ['water_need'], ascending = False).reset_index() # Por water_need de mayor a menor y reseteando indices"
   ]
  },
  {
   "cell_type": "code",
   "execution_count": null,
   "metadata": {
    "ExecuteTime": {
     "end_time": "2020-09-24T11:50:30.913575Z",
     "start_time": "2020-09-24T11:50:30.902839Z"
    }
   },
   "outputs": [],
   "source": [
    "# En el paso anterior, reseteo los indices pero se han mantenido los antiguos, vamos a borrarlos\n",
    "zoo_final.sort_values(by = ['water_need'], ascending = False).reset_index(drop = True)"
   ]
  },
  {
   "cell_type": "markdown",
   "metadata": {},
   "source": [
    "# ÚLTIMOS DETALLES"
   ]
  },
  {
   "cell_type": "code",
   "execution_count": null,
   "metadata": {},
   "outputs": [],
   "source": [
    "# Vamos a quitar la columna de uniq_id, ya que no queremos que se exporte\n",
    "zoo_final = zoo_final.drop(['uniq_id'], axis=1)\n",
    "zoo_final"
   ]
  },
  {
   "cell_type": "code",
   "execution_count": null,
   "metadata": {},
   "outputs": [],
   "source": [
    "# Creacion de una nueva columna\n",
    "zoo_final[\"water_need_x2\"] = zoo_final[\"water_need\"]*2\n",
    "zoo_final"
   ]
  },
  {
   "cell_type": "markdown",
   "metadata": {},
   "source": [
    "# EXPORTACIÓN"
   ]
  },
  {
   "cell_type": "markdown",
   "metadata": {},
   "source": [
    "## EXPORTACIÓN DIRECTA A CSV"
   ]
  },
  {
   "cell_type": "code",
   "execution_count": null,
   "metadata": {
    "ExecuteTime": {
     "end_time": "2020-09-24T11:56:17.579664Z",
     "start_time": "2020-09-24T11:56:17.574268Z"
    }
   },
   "outputs": [],
   "source": [
    "ruta_csv = r\"./EXPORT_zoo_final.csv\"\n",
    "zoo_final.to_csv(ruta_csv, index = False, header=True, sep=\",\")"
   ]
  },
  {
   "cell_type": "markdown",
   "metadata": {},
   "source": [
    "## EXPORTACIÓN DIRECTA A XLSX"
   ]
  },
  {
   "cell_type": "code",
   "execution_count": null,
   "metadata": {
    "ExecuteTime": {
     "end_time": "2020-09-24T12:01:58.330752Z",
     "start_time": "2020-09-24T12:01:58.230225Z"
    }
   },
   "outputs": [],
   "source": [
    "ruta_excel = r\"./EXPORT_zoo_final.xlsx\"\n",
    "zoo_final.to_excel(ruta_excel, index = False, header=True)"
   ]
  },
  {
   "cell_type": "markdown",
   "metadata": {},
   "source": [
    "## EXPORTACIÓN DIRECTA A JSON\n",
    "Tenemos varios formatos de JSON:\n",
    "* columns (por defecto)\n",
    "* table\n",
    "* values\n",
    "* index\n",
    "* records"
   ]
  },
  {
   "cell_type": "code",
   "execution_count": null,
   "metadata": {
    "ExecuteTime": {
     "end_time": "2020-09-24T12:09:41.434628Z",
     "start_time": "2020-09-24T12:09:41.429751Z"
    }
   },
   "outputs": [],
   "source": [
    "ruta_json = r\"./EXPORT_zoo_final.json\"\n",
    "zoo_final.to_json(ruta_json, orient=\"columns\")\n",
    "# Comprobar con https://jsonformatter.org/json-viewer"
   ]
  },
  {
   "cell_type": "markdown",
   "metadata": {},
   "source": [
    "## EXPORTACIÓN DIRECTA A HTML"
   ]
  },
  {
   "cell_type": "code",
   "execution_count": null,
   "metadata": {
    "ExecuteTime": {
     "end_time": "2020-09-24T12:13:22.164610Z",
     "start_time": "2020-09-24T12:13:22.157778Z"
    }
   },
   "outputs": [],
   "source": [
    "ruta_html = r\"./EXPORT_zoo_final.html\"\n",
    "zoo_final.to_html(ruta_html)"
   ]
  },
  {
   "cell_type": "markdown",
   "metadata": {},
   "source": [
    "## EXPORTACIÓN A CSV MEDIANTE TKINTER"
   ]
  },
  {
   "cell_type": "code",
   "execution_count": null,
   "metadata": {
    "ExecuteTime": {
     "end_time": "2020-09-24T12:02:45.642803Z",
     "start_time": "2020-09-24T12:02:43.918213Z"
    }
   },
   "outputs": [],
   "source": [
    "import tkinter as tk\n",
    "from tkinter import filedialog\n",
    "\n",
    "root= tk.Tk()\n",
    "\n",
    "canvas1 = tk.Canvas(root, width = 300, height = 300, bg = 'lightsteelblue2', relief = 'raised')\n",
    "canvas1.pack()\n",
    "\n",
    "def exportCSV ():\n",
    "    global df\n",
    "    \n",
    "    export_file_path = filedialog.asksaveasfilename(defaultextension='.csv')\n",
    "    zoo_final.to_csv (export_file_path, index = False, header=True)\n",
    "\n",
    "saveAsButton_CSV = tk.Button(text='Export CSV', command=exportCSV, bg='green', fg='white', font=('helvetica', 12, 'bold'))\n",
    "canvas1.create_window(150, 150, window=saveAsButton_CSV)\n",
    "\n",
    "root.mainloop()"
   ]
  },
  {
   "cell_type": "markdown",
   "metadata": {},
   "source": [
    "## EXPORTACIÓN A XLSX MEDIANTE TKINTER"
   ]
  },
  {
   "cell_type": "code",
   "execution_count": null,
   "metadata": {
    "ExecuteTime": {
     "end_time": "2020-09-24T12:04:24.474911Z",
     "start_time": "2020-09-24T12:04:13.638858Z"
    }
   },
   "outputs": [],
   "source": [
    "import tkinter as tk\n",
    "from tkinter import filedialog\n",
    "\n",
    "root= tk.Tk()\n",
    "\n",
    "canvas1 = tk.Canvas(root, width = 300, height = 300, bg = 'lightsteelblue2', relief = 'raised')\n",
    "canvas1.pack()\n",
    "\n",
    "def exportExcel ():\n",
    "    global df\n",
    "    \n",
    "    export_file_path = filedialog.asksaveasfilename(defaultextension='.xlsx')\n",
    "    zoo_final.to_excel (export_file_path, index = False, header=True)\n",
    "\n",
    "saveAsButtonExcel = tk.Button(text='Export Excel', command=exportExcel, bg='green', fg='white', font=('helvetica', 12, 'bold'))\n",
    "canvas1.create_window(150, 150, window=saveAsButtonExcel)\n",
    "\n",
    "root.mainloop()"
   ]
  },
  {
   "cell_type": "markdown",
   "metadata": {},
   "source": [
    "# GRÁFICOS"
   ]
  },
  {
   "cell_type": "code",
   "execution_count": null,
   "metadata": {},
   "outputs": [],
   "source": [
    "import matplotlib.pyplot as plt"
   ]
  },
  {
   "cell_type": "code",
   "execution_count": null,
   "metadata": {},
   "outputs": [],
   "source": [
    "# Nos calcula la media de la columna water_need\n",
    "agua_necesaria = zoo_final.groupby('animal')[['water_need']].sum()\n",
    "agua_necesaria"
   ]
  },
  {
   "cell_type": "code",
   "execution_count": null,
   "metadata": {},
   "outputs": [],
   "source": [
    "# Generar gráfico\n",
    "grafico = agua_necesaria.plot(kind='bar', figsize=(8, 5), fontsize=26).get_figure()\n",
    "plt.show()"
   ]
  },
  {
   "cell_type": "code",
   "execution_count": null,
   "metadata": {},
   "outputs": [],
   "source": [
    "# Guardar gráfico\n",
    "grafico.savefig(\"AguaNecesaria.jpg\", bbox_inches='tight', dpi=800)"
   ]
  },
  {
   "cell_type": "markdown",
   "metadata": {},
   "source": [
    "# EXPORTAR DATAFRAME CON IMAGEN A EXCEL"
   ]
  },
  {
   "cell_type": "code",
   "execution_count": null,
   "metadata": {},
   "outputs": [],
   "source": [
    "# DataFrame\n",
    "zoo_final"
   ]
  },
  {
   "cell_type": "code",
   "execution_count": null,
   "metadata": {},
   "outputs": [],
   "source": [
    "writer = pd.ExcelWriter(\"EXPORT_zoo_final_con_grafico.xlsx\", engine=\"xlsxwriter\")\n",
    "\n",
    "# Convertimos el dataframe a un XlsxWriter Excel object\n",
    "zoo_final.to_excel(writer, sheet_name=\"AguaNecesaria\")\n",
    "\n",
    "# Parametros del workbook\n",
    "#workbook  = writer.book # No se utiliza en este ejemplo\n",
    "worksheet = writer.sheets[\"AguaNecesaria\"]\n",
    "\n",
    "rutaImagen = \"./AguaNecesaria.jpg\"\n",
    "\n",
    "# Insertamos la imagen.\n",
    "worksheet.insert_image(\"F3\", rutaImagen, {'x_scale': 0.75, 'y_scale': 0.75})\n",
    "\n",
    "# Cerramos y guardamos\n",
    "writer.save()"
   ]
  }
 ],
 "metadata": {
  "kernelspec": {
   "display_name": "Python 3",
   "language": "python",
   "name": "python3"
  },
  "language_info": {
   "codemirror_mode": {
    "name": "ipython",
    "version": 3
   },
   "file_extension": ".py",
   "mimetype": "text/x-python",
   "name": "python",
   "nbconvert_exporter": "python",
   "pygments_lexer": "ipython3",
   "version": "3.8.3"
  },
  "toc": {
   "base_numbering": 1,
   "nav_menu": {},
   "number_sections": true,
   "sideBar": true,
   "skip_h1_title": false,
   "title_cell": "Table of Contents",
   "title_sidebar": "Contents",
   "toc_cell": false,
   "toc_position": {},
   "toc_section_display": true,
   "toc_window_display": false
  },
  "varInspector": {
   "cols": {
    "lenName": 16,
    "lenType": 16,
    "lenVar": 40
   },
   "kernels_config": {
    "python": {
     "delete_cmd_postfix": "",
     "delete_cmd_prefix": "del ",
     "library": "var_list.py",
     "varRefreshCmd": "print(var_dic_list())"
    },
    "r": {
     "delete_cmd_postfix": ") ",
     "delete_cmd_prefix": "rm(",
     "library": "var_list.r",
     "varRefreshCmd": "cat(var_dic_list()) "
    }
   },
   "types_to_exclude": [
    "module",
    "function",
    "builtin_function_or_method",
    "instance",
    "_Feature"
   ],
   "window_display": false
  }
 },
 "nbformat": 4,
 "nbformat_minor": 4
}
