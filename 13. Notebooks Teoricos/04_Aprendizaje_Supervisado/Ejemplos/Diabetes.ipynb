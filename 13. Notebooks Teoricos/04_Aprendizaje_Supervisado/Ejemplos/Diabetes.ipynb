{
 "cells": [
  {
   "cell_type": "markdown",
   "id": "f1178c71-8e3a-45a0-8fac-4469c8789939",
   "metadata": {},
   "source": [
    "# Notebook Instructions\n",
    "\n",
    "1. If you are new to Jupyter notebooks, please go through this introductory manual <a href='https://quantra.quantinsti.com/quantra-notebook' target=\"_blank\">here</a>.\n",
    "1. Any changes made in this notebook would be lost after you close the browser window. **You can download the notebook to save your work on your PC.**\n",
    "1. Before running this notebook on your local PC:<br>\n",
    "i.  You need to set up a Python environment and the relevant packages on your local PC. To do so, go through the section on \"**Python Installation**\" in the course.<br>\n",
    "ii. You need to **download the zip file available in the last unit** of this course. The zip file contains the data files and/or python modules that might be required to run this notebook."
   ]
  },
  {
   "cell_type": "markdown",
   "id": "15e7da49",
   "metadata": {},
   "source": [
    "# Linear Regression\n",
    "Linear Regression is one of the most well-known algorithms in machine learning and statistics. Here, you\n",
    "will be given a brief overview of how it works and how you can use it in your machine learning problems.\n",
    "Linear Regression was developed under the field of statistics to study the relationship between input and\n",
    "output numerical variables but has been borrowed by machine learning to make predictions based on a\n",
    "linear regression equation.\n",
    "\n",
    "The mathematical representation of linear regression is a linear equation that combines a specific set of\n",
    "input data (X) to predict the output value (y) for that set of input values. The linear equation assigns a factor\n",
    "to each set of input values, which are called the coefficients represented by the Greek letter Beta (β). The\n",
    "equation mentioned below represents a linear regression model with two sets of input values, $x_{1}$ and $x_{2}$.\n",
    "Ahead, y represents the output of the model, whereas $β_{0}$ , $β_{1}$ and $β_{2}$ are the coefficients of the linear\n",
    "equation.\n",
    "\n",
    "\n",
    "$$ y = β_{0} \\;+ \\;β_{1} * \\;X_{1} + \\;β_{2} * \\;X_{2}$$\n",
    "\n",
    "    \n",
    "In this notebook, you will perform the following steps:\n",
    "\n",
    "1) [Import Data](#library)\n",
    "\n",
    "\n",
    "2) [Independent Variables](#x)\n",
    "\n",
    "\n",
    "3) [Dependent Variable](#y)\n",
    "\n",
    "\n",
    "4) [Regression Model](#Model)\n",
    "\n",
    "\n",
    "5) [Mean Square Error](#Error)\n",
    "\n",
    "\n",
    "6) [Plot Regression Line](#plot)    "
   ]
  },
  {
   "cell_type": "markdown",
   "id": "49c947c8",
   "metadata": {},
   "source": [
    "<a id='library'></a> \n",
    "\n",
    "## Import Data\n",
    "\n",
    "<a href=\"https://scikit-learn.org/stable/modules/generated/sklearn.linear_model.LinearRegression.html\" target=\"_blank\"> Scikit-Learn</a> library is used to perform the linear regression and has some of very common datasets to play with."
   ]
  },
  {
   "cell_type": "code",
   "execution_count": 1,
   "id": "bb3cd4b8",
   "metadata": {},
   "outputs": [],
   "source": [
    "# Import numpy\n",
    "import numpy as np\n",
    "\n",
    "# Import matplotlib as an alias plt and set the style\n",
    "import matplotlib.pyplot as plt\n",
    "%matplotlib inline\n",
    "plt.style.use('seaborn-darkgrid')\n",
    "\n",
    "# Import linear_model and dataset from sklearn\n",
    "from sklearn import linear_model, datasets\n",
    "\n",
    "# Load the diabetes dataset\n",
    "diabetes = datasets.load_diabetes()"
   ]
  },
  {
   "cell_type": "code",
   "execution_count": 11,
   "id": "a193b0f3",
   "metadata": {},
   "outputs": [
    {
     "name": "stdout",
     "output_type": "stream",
     "text": [
      "Diabates shape = (442, 10)\n",
      "Feature names = ['age', 'sex', 'bmi', 'bp', 's1', 's2', 's3', 's4', 's5', 's6']\n",
      "Diabetes description:\n",
      "\n",
      ".. _diabetes_dataset:\n",
      "\n",
      "Diabetes dataset\n",
      "----------------\n",
      "\n",
      "Ten baseline variables, age, sex, body mass index, average blood\n",
      "pressure, and six blood serum measurements were obtained for each of n =\n",
      "442 diabetes patients, as well as the response of interest, a\n",
      "quantitative measure of disease progression one year after baseline.\n",
      "\n",
      "**Data Set Characteristics:**\n",
      "\n",
      "  :Number of Instances: 442\n",
      "\n",
      "  :Number of Attributes: First 10 columns are numeric predictive values\n",
      "\n",
      "  :Target: Column 11 is a quantitative measure of disease progression one year after baseline\n",
      "\n",
      "  :Attribute Information:\n",
      "      - age     age in years\n",
      "      - sex\n",
      "      - bmi     body mass index\n",
      "      - bp      average blood pressure\n",
      "      - s1      tc, total serum cholesterol\n",
      "      - s2      ldl, low-density lipoproteins\n",
      "      - s3      hdl, high-density lipoproteins\n",
      "      - s4      tch, total cholesterol / HDL\n",
      "      - s5      ltg, possibly log of serum triglycerides level\n",
      "      - s6      glu, blood sugar level\n",
      "\n",
      "Note: Each of these 10 feature variables have been mean centered and scaled by the standard deviation times `n_samples` (i.e. the sum of squares of each column totals 1).\n",
      "\n",
      "Source URL:\n",
      "https://www4.stat.ncsu.edu/~boos/var.select/diabetes.html\n",
      "\n",
      "For more information see:\n",
      "Bradley Efron, Trevor Hastie, Iain Johnstone and Robert Tibshirani (2004) \"Least Angle Regression,\" Annals of Statistics (with discussion), 407-499.\n",
      "(https://web.stanford.edu/~hastie/Papers/LARS/LeastAngle_2002.pdf)\n"
     ]
    }
   ],
   "source": [
    "print(f\"Diabates shape = {diabetes['data'].shape}\")\n",
    "print(f\"Feature names = {diabetes['feature_names']}\")\n",
    "print(\"Diabetes description:\", diabetes['DESCR'], sep=2*'\\n')"
   ]
  },
  {
   "cell_type": "markdown",
   "id": "5603e902",
   "metadata": {},
   "source": [
    "<a id='x'></a> \n",
    "\n",
    "## Independent Variables\n",
    "\n",
    "Independent variables are used to predict the value of dependent variable. For illustration purposes, we will use only one feature i.e. only one column as an independent variable."
   ]
  },
  {
   "cell_type": "code",
   "execution_count": 12,
   "id": "b6ff9342",
   "metadata": {},
   "outputs": [
    {
     "data": {
      "text/plain": [
       "array([[ 0.07786339],\n",
       "       [-0.03961813]])"
      ]
     },
     "execution_count": 12,
     "metadata": {},
     "output_type": "execute_result"
    }
   ],
   "source": [
    "# Use only one feature as a independent variable\n",
    "diabetes_X = diabetes.data[:, np.newaxis, 2]\n",
    "\n",
    "# Split the independent data into training/testing sets\n",
    "diabetes_X_train = diabetes_X[:-20]\n",
    "diabetes_X_test = diabetes_X[-20:]\n",
    "diabetes_X_test[:2]"
   ]
  },
  {
   "cell_type": "markdown",
   "id": "4bf0d4ec",
   "metadata": {},
   "source": [
    "<a id='y'></a> \n",
    "\n",
    "## Dependent Variable\n",
    "\n",
    "Dependent/target variable is the outcome which the machine learning model will predict based on the independent variables.\n",
    "We will split the dependent variable into train and test dataset. Train sample will be used along with the independent dataset X, and the test sample will be compared with predicted values."
   ]
  },
  {
   "cell_type": "code",
   "execution_count": 13,
   "id": "6b048269",
   "metadata": {},
   "outputs": [
    {
     "data": {
      "text/plain": [
       "array([233.,  91., 111., 152., 120.,  67., 310.,  94., 183.,  66., 173.,\n",
       "        72.,  49.,  64.,  48., 178., 104., 132., 220.,  57.])"
      ]
     },
     "execution_count": 13,
     "metadata": {},
     "output_type": "execute_result"
    }
   ],
   "source": [
    "# Dependent variable \n",
    "diabetes_y = diabetes.target\n",
    "\n",
    "# Split the dependent data into training/testing sets\n",
    "diabetes_y_train = diabetes_y[:-20]\n",
    "diabetes_y_test = diabetes_y[-20:]\n",
    "diabetes_y_test"
   ]
  },
  {
   "cell_type": "markdown",
   "id": "f15d11bd",
   "metadata": {},
   "source": [
    "<a id='Model'></a> \n",
    "\n",
    "## Regression Model \n",
    "We will use the `linear_model` function of the scikit-learn library to create a linear regression model."
   ]
  },
  {
   "cell_type": "code",
   "execution_count": 14,
   "id": "3f03847e",
   "metadata": {},
   "outputs": [
    {
     "data": {
      "text/plain": [
       "LinearRegression()"
      ]
     },
     "execution_count": 14,
     "metadata": {},
     "output_type": "execute_result"
    }
   ],
   "source": [
    "# Create linear regression object\n",
    "regr = linear_model.LinearRegression()\n",
    "\n",
    "# Train the model using the training sets\n",
    "regr.fit(diabetes_X_train, diabetes_y_train)"
   ]
  },
  {
   "cell_type": "markdown",
   "id": "648ac18d",
   "metadata": {},
   "source": [
    "<a id='Error'></a> \n",
    "\n",
    "## Mean Squared Error\n",
    "\n",
    "Mean square error (MSE) is the average of the square of the errors. The larger the number, the larger the error. "
   ]
  },
  {
   "cell_type": "code",
   "execution_count": 15,
   "id": "df20e09c",
   "metadata": {},
   "outputs": [
    {
     "name": "stdout",
     "output_type": "stream",
     "text": [
      "Mean squared error: 2548.072399\n"
     ]
    }
   ],
   "source": [
    "# Mean squared error\n",
    "print('Mean squared error: %2f' %\n",
    "      np.mean((regr.predict(diabetes_X_test)-diabetes_y_test)**2))"
   ]
  },
  {
   "cell_type": "markdown",
   "id": "1a38c399",
   "metadata": {},
   "source": [
    "<a id='plot'></a> \n",
    "\n",
    "## Plot Regression Line\n",
    "We will plot the regression line for our model to get a visual representation."
   ]
  },
  {
   "cell_type": "code",
   "execution_count": 16,
   "id": "57f0b6aa",
   "metadata": {
    "scrolled": false
   },
   "outputs": [
    {
     "name": "stdout",
     "output_type": "stream",
     "text": [
      "Variance score: 0.472575\n"
     ]
    },
    {
     "data": {
      "image/png": "[encoded data removed]",
      "text/plain": [
       "<Figure size 720x504 with 1 Axes>"
      ]
     },
     "metadata": {},
     "output_type": "display_data"
    }
   ],
   "source": [
    "# Calculate variance score\n",
    "print('Variance score: %2f' % regr.score(diabetes_X_test, diabetes_y_test))\n",
    "\n",
    "# Plot outputs\n",
    "plt.figure(figsize=(10, 7))\n",
    "plt.scatter(diabetes_X_test, diabetes_y_test, color='black')\n",
    "plt.plot(diabetes_X_test, regr.predict(\n",
    "    diabetes_X_test), color='blue', linewidth=3)\n",
    "plt.title('Linear Regression Model', fontsize=14)\n",
    "plt.xlabel('Independent Variable', fontsize=12)\n",
    "plt.ylabel('Dependent Variable', fontsize=12)\n",
    "plt.show()"
   ]
  },
  {
   "cell_type": "markdown",
   "id": "7face9ac",
   "metadata": {},
   "source": [
    "The above figure shows the regression line that the model has predicted. And the actual data points used to predict. The model's variance score is 0.4 only, which means the prediction is not too strong and the model under fits the points. The variance score of 1 represents perfect fitting.\n",
    "\n",
    "#### Additional Reading\n",
    "You can read this <a href=\"https://blog.quantinsti.com/gold-price-prediction-using-machine-learning-python/\" target=\"_blank\">article</a> to predict the Gold price using the linear regression model.\n",
    "\n",
    "<br><br>"
   ]
  }
 ],
 "metadata": {
  "kernelspec": {
   "display_name": "Python 3 (ipykernel)",
   "language": "python",
   "name": "python3"
  },
  "language_info": {
   "codemirror_mode": {
    "name": "ipython",
    "version": 3
   },
   "file_extension": ".py",
   "mimetype": "text/x-python",
   "name": "python",
   "nbconvert_exporter": "python",
   "pygments_lexer": "ipython3",
   "version": "3.9.5"
  }
 },
 "nbformat": 4,
 "nbformat_minor": 5
}
