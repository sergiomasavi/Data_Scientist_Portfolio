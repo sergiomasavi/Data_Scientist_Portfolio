{
 "cells": [
  {
   "cell_type": "markdown",
   "metadata": {},
   "source": [
    "<img src=\"Tarjeta.png\">"
   ]
  },
  {
   "cell_type": "markdown",
   "metadata": {
    "toc": true
   },
   "source": [
    "<h1>Table of Contents<span class=\"tocSkip\"></span></h1>\n",
    "<div class=\"toc\"><ul class=\"toc-item\"><li><span><a href=\"#1.-Cargamos-las-librerias-que-necesitamos\" data-toc-modified-id=\"1.-Cargamos-las-librerias-que-necesitamos-1\"><span class=\"toc-item-num\">1&nbsp;&nbsp;</span>1. Cargamos las librerias que necesitamos</a></span></li><li><span><a href=\"#2.-Inicializamos-las-variables-que-queremos-usar-en-el-proyecto\" data-toc-modified-id=\"2.-Inicializamos-las-variables-que-queremos-usar-en-el-proyecto-2\"><span class=\"toc-item-num\">2&nbsp;&nbsp;</span>2. Inicializamos las variables que queremos usar en el proyecto</a></span></li><li><span><a href=\"#3.-Definimos-nuestra-clase-Bandido-(la-tragaperra)\" data-toc-modified-id=\"3.-Definimos-nuestra-clase-Bandido-(la-tragaperra)-3\"><span class=\"toc-item-num\">3&nbsp;&nbsp;</span>3. Definimos nuestra clase Bandido (la tragaperra)</a></span></li><li><span><a href=\"#4.-Definimos-el-experimento\" data-toc-modified-id=\"4.-Definimos-el-experimento-4\"><span class=\"toc-item-num\">4&nbsp;&nbsp;</span>4. Definimos el experimento</a></span></li><li><span><a href=\"#5.-Parte-principal-del-programa\" data-toc-modified-id=\"5.-Parte-principal-del-programa-5\"><span class=\"toc-item-num\">5&nbsp;&nbsp;</span>5. Parte principal del programa</a></span></li></ul></div>"
   ]
  },
  {
   "cell_type": "markdown",
   "metadata": {
    "id": "RoJPWVphWkxE"
   },
   "source": [
    "# Reinforced Learning con un multi-armed-bandid usando el algoritmo Epsilon-Greedy \n",
    "\n",
    "El primer ejemplo de reinforced learning que vamos a implementar. La idea es que relleneis los campos a partir de lo explicado en la primera parte."
   ]
  },
  {
   "cell_type": "markdown",
   "metadata": {
    "id": "9uPUc_BaWkxF"
   },
   "source": [
    "## 1. Cargamos las librerias que necesitamos"
   ]
  },
  {
   "cell_type": "code",
   "execution_count": 1,
   "metadata": {
    "id": "QMzxGSZoWkxF"
   },
   "outputs": [],
   "source": [
    "import numpy as np\n",
    "import matplotlib.pyplot as plt"
   ]
  },
  {
   "cell_type": "markdown",
   "metadata": {
    "id": "SCxe1w5mWkxF"
   },
   "source": [
    "## 2. Inicializamos las variables que queremos usar en el proyecto\n",
    "\n",
    "- Numero de experimentos (pruebas)\n",
    "- Valor de Epsilon\n",
    "- Las probabilidades reales de los bandidos"
   ]
  },
  {
   "cell_type": "code",
   "execution_count": null,
   "metadata": {
    "id": "HT7IV5PqWkxG"
   },
   "outputs": [],
   "source": [
    "NUM_PRUEBAS = 20000\n",
    "PROBABILIDADES_BANDIDOS = [0.2 , 0.5, 0.75] \n",
    "EPS = 0.3"
   ]
  },
  {
   "cell_type": "markdown",
   "metadata": {
    "id": "nt6Z6zZuWkxG"
   },
   "source": [
    "El primer bandido es el peor de todos, es decir, conseguiremos ganar dinero (recordad que son tragaperras) solo un 20% de las veces, por lo que el resto de bandidos son mejores"
   ]
  },
  {
   "cell_type": "markdown",
   "metadata": {
    "id": "JlU3zpOWWkxG"
   },
   "source": [
    "## 3. Definimos nuestra clase Bandido (la tragaperra)\n",
    "\n",
    "Va a tener tres metodos: \n",
    "* El de creación **\\_\\_init\\_\\_** donde definiremos su ratio de exito (p), la media almacenada tras cada experimento (p_estimada), y el número total de veces que le hemos dado a la palanca (N)\n",
    "* El de **ejecución** del experimento .pull() donde calculamos un valor random más la media\n",
    "* El de **actualización** de los valores en caso de exito o fracaso en el experimento"
   ]
  },
  {
   "cell_type": "code",
   "execution_count": null,
   "metadata": {
    "id": "RRtq69iNWkxG"
   },
   "outputs": [],
   "source": [
    "class Bandit:\n",
    "    def __init__(self, p):\n",
    "        # Ratio de exito\n",
    "        self.p = p\n",
    "        # Media almacenada del ratio de exito de cada pull/experimento en un bandido\n",
    "        self.p_estimada = # TODO\n",
    "        # Numero de pulls/experimentos en este bandido\n",
    "        self.N = # TODO\n",
    "    \n",
    "    def pull(self):\n",
    "        # Devolvemos un booleano (True, False) con una probabilidad p (distribucion de Bernouilli)\n",
    "        return np.random.random() < self.p\n",
    "    \n",
    "    def update(self, x):\n",
    "        # Actualizamos los valores de mean y N, es decir, la media acumulada de exito, más el número de experimentos\n",
    "        # Añadimos un experimento al bandido\n",
    "        self.N # TODO\n",
    "        \n",
    "        # Recalculamos la media del bandido (tras desarrollar la regla de la media)\n",
    "        self.p_estimada = # TODO\n",
    "        "
   ]
  },
  {
   "cell_type": "markdown",
   "metadata": {
    "id": "k5Rh5vCcWkxH"
   },
   "source": [
    "## 4. Definimos el experimento\n",
    "La funcion de realizar el experimento basada en el metodo epsilon-codicioso\n",
    "\n",
    "* Creamos la lista de bandits a partir de los datos iniciales\n",
    "* Almacenamos el número de premios entregados\n",
    "* Inicializamos los contadores de ejecuciones de experimentos\n",
    "\n",
    "Arrancamos un bucle sobre el número de experimentos usando el pseudo-codigo de Epsilon-Greedy\n",
    "\n",
    "* Aplicamos el algoritmo para saber si exploramos o explotamos\n",
    "* Las veces que acertamos el bandido de mejor probabilidad (el optimo)\n",
    "* Tiramos de la palanca del bandit escogido\n",
    "* Actualizamos las recompensas de ese bandit\n",
    "* Almacenamos sus datos\n",
    "\n",
    "Luego pintamos la evolución en el tiempo de las ejecuciones\n"
   ]
  },
  {
   "cell_type": "code",
   "execution_count": null,
   "metadata": {
    "id": "h28TSs96WkxH"
   },
   "outputs": [],
   "source": [
    "def run_experiment():\n",
    "    \n",
    "    #Genero las tres tragaperras, los bandidos\n",
    "    bandits = [Bandit(p) for p in PROBABILIDADES_BANDIDOS]\n",
    "    \n",
    "    #Genero un array vacío para la recolección de resultados\n",
    "    premios = np.zeros(NUM_PRUEBAS)\n",
    "    \n",
    "    #Inicializo los contadores de ejecuciones de experimentos\n",
    "    num_times_explored = 0\n",
    "    num_times_exploited = 0\n",
    "    #Veces que hemos tirado de la palanca del óptimo\n",
    "    num_optimal = 0\n",
    "    \n",
    "    optimal_j = np.argmax([b.p for b in bandits])\n",
    "       \n",
    "    for i in range(NUM_PRUEBAS):\n",
    "        \n",
    "        # TODO Algoritmo de Epsilon Greedy\n",
    "        \n",
    "        # Cuantas veces hemos escogido el optimo\n",
    "        if jbandit == optimal_j:\n",
    "            num_optimal += 1\n",
    "        \n",
    "        # Con tragaperra escogida, le damos a la palanca haciendo un pull\n",
    "        x = bandits[jbandit].pull()\n",
    "        \n",
    "        # Actualizamos el valor de la media de esa misma tragaperra, recordemos que x es un evento Bernouilli True o False \n",
    "        # Lo hemos de traducir a 1 o 0.\n",
    "        bandits[jbandit].update(int(x))\n",
    "        \n",
    "        # Almacenamos los datos para montar una grafica de evolución en el tiempo\n",
    "        premios[i] = x\n",
    "    \n",
    "    # Calculamos la media acumulada de todos los experimentos\n",
    "    ratio_exito = np.cumsum(premios) / (np.arange(NUM_PRUEBAS)+1)\n",
    "    \n",
    "    # Veamos los resultados\n",
    "    print(\"Total recompensas conseguidas:\", premios.sum())\n",
    "    print(\"Media del ratio de exito:\", premios.sum() / NUM_PRUEBAS)\n",
    "    print(\"Total veces explorado:\", num_times_explored)\n",
    "    print(\"Total veces explotado:\", num_times_exploited)\n",
    "    \n",
    "    \n",
    "    # Número de veces que hemos explotado cada Bandit\n",
    "    for b in bandits:\n",
    "        print(\"Bandit con probabilidad real \", b.p ,\" se ha explotado :\", b.N)\n",
    "    \n",
    "    # Pintamos los resultados\n",
    "    plt.plot(ratio_exito)\n",
    "    plt.plot(np.ones(NUM_PRUEBAS)*np.max(PROBABILIDADES_BANDIDOS))\n",
    "    plt.xscale('log')\n",
    "    plt.show()\n",
    "    \n",
    "    # Imprimimos el resultado en pantalla\n",
    "    for b in bandits:\n",
    "        print(\"Media Estimada de Exito:\", b.p_estimada)\n"
   ]
  },
  {
   "cell_type": "markdown",
   "metadata": {
    "id": "3txoV8HBWkxI"
   },
   "source": [
    "## 5. Parte principal del programa\n",
    "Donde ejecutamos los tres experimentos"
   ]
  },
  {
   "cell_type": "code",
   "execution_count": null,
   "metadata": {
    "colab": {
     "base_uri": "https://localhost:8080/",
     "height": 439
    },
    "id": "y4Z6s9wcWkxI",
    "outputId": "9081edd9-20d4-4bba-96b2-6b57f1107d33"
   },
   "outputs": [
    {
     "name": "stdout",
     "output_type": "stream",
     "text": [
      "Total recompensas conseguidas: 13385.0\n",
      "Media del ratio de exito: 0.66925\n",
      "Total veces explorado: 0\n",
      "Total veces explotado: 0\n",
      "Bandit con probabilidad real  0.2  se ha explotado : 2115\n",
      "Bandit con probabilidad real  0.5  se ha explotado : 2000\n",
      "Bandit con probabilidad real  0.75  se ha explotado : 15885\n"
     ]
    },
    {
     "data": {
      "image/png": "[encoded data removed]",
      "text/plain": [
       "<Figure size 432x288 with 1 Axes>"
      ]
     },
     "metadata": {
      "needs_background": "light"
     },
     "output_type": "display_data"
    },
    {
     "name": "stdout",
     "output_type": "stream",
     "text": [
      "Media Estimada de Exito: 0.20472813238770646\n",
      "Media Estimada de Exito: 0.5064999999999982\n",
      "Media Estimada de Exito: 0.7515895498898313\n"
     ]
    }
   ],
   "source": [
    "# Parte principal del programa\n",
    "if __name__ == '__main__':\n",
    "    \n",
    "    # Ejecutamos tres experimentos con distintos Epsilon\n",
    "    run_experiment()"
   ]
  },
  {
   "cell_type": "code",
   "execution_count": null,
   "metadata": {
    "id": "OBPeHOQWWkxJ"
   },
   "outputs": [],
   "source": []
  }
 ],
 "metadata": {
  "colab": {
   "name": "VI-a-reinf-learn-epsilon-greedy-v0.ipynb",
   "provenance": []
  },
  "kernelspec": {
   "display_name": "Python 3",
   "language": "python",
   "name": "python3"
  },
  "language_info": {
   "codemirror_mode": {
    "name": "ipython",
    "version": 3
   },
   "file_extension": ".py",
   "mimetype": "text/x-python",
   "name": "python",
   "nbconvert_exporter": "python",
   "pygments_lexer": "ipython3",
   "version": "3.8.10"
  },
  "nbTranslate": {
   "displayLangs": [
    "*"
   ],
   "hotkey": "alt-t",
   "langInMainMenu": true,
   "sourceLang": "en",
   "targetLang": "fr",
   "useGoogleTranslate": true
  },
  "toc": {
   "base_numbering": 1,
   "nav_menu": {},
   "number_sections": true,
   "sideBar": true,
   "skip_h1_title": true,
   "title_cell": "Table of Contents",
   "title_sidebar": "Contents",
   "toc_cell": true,
   "toc_position": {},
   "toc_section_display": true,
   "toc_window_display": false
  },
  "varInspector": {
   "cols": {
    "lenName": 16,
    "lenType": 16,
    "lenVar": 40
   },
   "kernels_config": {
    "python": {
     "delete_cmd_postfix": "",
     "delete_cmd_prefix": "del ",
     "library": "var_list.py",
     "varRefreshCmd": "print(var_dic_list())"
    },
    "r": {
     "delete_cmd_postfix": ") ",
     "delete_cmd_prefix": "rm(",
     "library": "var_list.r",
     "varRefreshCmd": "cat(var_dic_list()) "
    }
   },
   "types_to_exclude": [
    "module",
    "function",
    "builtin_function_or_method",
    "instance",
    "_Feature"
   ],
   "window_display": false
  }
 },
 "nbformat": 4,
 "nbformat_minor": 1
}
