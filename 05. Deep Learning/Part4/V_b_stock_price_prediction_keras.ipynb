{
 "cells": [
  {
   "cell_type": "markdown",
   "metadata": {},
   "source": [
    "<img src=\"Tarjeta.png\">"
   ]
  },
  {
   "cell_type": "markdown",
   "metadata": {
    "toc": true
   },
   "source": [
    "<h1>Table of Contents<span class=\"tocSkip\"></span></h1>\n",
    "<div class=\"toc\"><ul class=\"toc-item\"><li><span><a href=\"#Install-requirements\" data-toc-modified-id=\"Install-requirements-1\"><span class=\"toc-item-num\">1&nbsp;&nbsp;</span>Install requirements</a></span></li><li><span><a href=\"#Introduction\" data-toc-modified-id=\"Introduction-2\"><span class=\"toc-item-num\">2&nbsp;&nbsp;</span>Introduction</a></span></li><li><span><a href=\"#Loading-the-dataset\" data-toc-modified-id=\"Loading-the-dataset-3\"><span class=\"toc-item-num\">3&nbsp;&nbsp;</span>Loading the dataset</a></span></li><li><span><a href=\"#Feature-scaling\" data-toc-modified-id=\"Feature-scaling-4\"><span class=\"toc-item-num\">4&nbsp;&nbsp;</span>Feature scaling</a></span></li><li><span><a href=\"#Create-the-LSTM-network\" data-toc-modified-id=\"Create-the-LSTM-network-5\"><span class=\"toc-item-num\">5&nbsp;&nbsp;</span>Create the LSTM network</a></span></li><li><span><a href=\"#Load-the-Colab-TensorBoard-extention-and-start-TensorBoard-inline\" data-toc-modified-id=\"Load-the-Colab-TensorBoard-extention-and-start-TensorBoard-inline-6\"><span class=\"toc-item-num\">6&nbsp;&nbsp;</span>Load the Colab TensorBoard extention and start TensorBoard inline</a></span></li><li><span><a href=\"#Define-a-TensorBoard-callback\" data-toc-modified-id=\"Define-a-TensorBoard-callback-7\"><span class=\"toc-item-num\">7&nbsp;&nbsp;</span>Define a TensorBoard callback</a></span></li></ul></div>"
   ]
  },
  {
   "cell_type": "markdown",
   "metadata": {
    "id": "EgaNRy_Rq0wx"
   },
   "source": [
    "# Predict stock prices  with Long short-term memory (LSTM)"
   ]
  },
  {
   "cell_type": "markdown",
   "metadata": {
    "id": "S1WPMQ_LHNQU"
   },
   "source": [
    "This simple example will show you how LSTM models predict time series data. Stock market data is a great choice for this because it's quite regular and widely available via the Internet. "
   ]
  },
  {
   "cell_type": "markdown",
   "metadata": {
    "id": "vurGbUjFwBFO"
   },
   "source": [
    "## Install requirements"
   ]
  },
  {
   "cell_type": "code",
   "execution_count": null,
   "metadata": {
    "id": "fmR4lwm81Vbr"
   },
   "outputs": [],
   "source": [
    "!pip install pandas_datareader --upgrade"
   ]
  },
  {
   "cell_type": "code",
   "execution_count": null,
   "metadata": {
    "id": "hqWZAabeiLc_"
   },
   "outputs": [],
   "source": [
    "!apt install graphviz"
   ]
  },
  {
   "cell_type": "code",
   "execution_count": null,
   "metadata": {
    "id": "K5Wmmx6-iPUT"
   },
   "outputs": [],
   "source": [
    "!pip install pydot pydot-ng"
   ]
  },
  {
   "cell_type": "markdown",
   "metadata": {
    "id": "Fcl6EKdTv51W"
   },
   "source": [
    "## Introduction"
   ]
  },
  {
   "cell_type": "markdown",
   "metadata": {
    "id": "Rui0kjzEvXTV"
   },
   "source": [
    "LSTMs are very powerful in sequence prediction problems. They can store past information."
   ]
  },
  {
   "cell_type": "markdown",
   "metadata": {
    "id": "Ed7_c04-vz2f"
   },
   "source": [
    "## Loading the dataset\n",
    "I use pandas-datareader to get the historical stock prices from Yahoo! finance. For this example, I get only the historical data till the end of *training_end_data*.  "
   ]
  },
  {
   "cell_type": "code",
   "execution_count": null,
   "metadata": {
    "id": "Hh-pO_QXqysJ"
   },
   "outputs": [],
   "source": [
    "import numpy as np\n",
    "import matplotlib.pyplot as plt\n",
    "import pandas as pd\n",
    "from pandas_datareader import data"
   ]
  },
  {
   "cell_type": "code",
   "execution_count": null,
   "metadata": {
    "id": "D8-w0eEtwnaj"
   },
   "outputs": [],
   "source": [
    "tickers = 'AAPL'\n",
    "\n",
    "start_date = '1980-12-01'\n",
    "end_date = '2018-12-31'\n",
    "\n",
    "stock_data = data.get_data_yahoo(tickers, start_date, end_date)"
   ]
  },
  {
   "cell_type": "code",
   "execution_count": null,
   "metadata": {
    "id": "Y2HpcDRd38on"
   },
   "outputs": [],
   "source": [
    "stock_data.head(10)"
   ]
  },
  {
   "cell_type": "code",
   "execution_count": null,
   "metadata": {
    "id": "_0UQ1jU7MHYi"
   },
   "outputs": [],
   "source": [
    "stock_data.describe()"
   ]
  },
  {
   "cell_type": "code",
   "execution_count": null,
   "metadata": {
    "id": "dFKhZw-YMM0w"
   },
   "outputs": [],
   "source": [
    "stock_data_len = stock_data['Close'].count()\n",
    "print(stock_data_len)"
   ]
  },
  {
   "cell_type": "markdown",
   "metadata": {
    "id": "6jzF16Qr4qOA"
   },
   "source": [
    "I'm only interested in *close* prices"
   ]
  },
  {
   "cell_type": "code",
   "execution_count": null,
   "metadata": {
    "id": "Ns7Zcn2ZClZS"
   },
   "outputs": [],
   "source": [
    "close_prices = stock_data.iloc[:, 1:2].values\n",
    "print(close_prices)"
   ]
  },
  {
   "cell_type": "markdown",
   "metadata": {
    "id": "KNaLuS1X5IVA"
   },
   "source": [
    "Of course, some of the weekdays might be public holidays in which case no price will be available. For this reason, we will fill the missing prices with the latest available prices"
   ]
  },
  {
   "cell_type": "code",
   "execution_count": null,
   "metadata": {
    "id": "P6GTsn7N5Nf2"
   },
   "outputs": [],
   "source": [
    "all_bussinessdays = pd.date_range(start=start_date, end=end_date, freq='B')\n",
    "print(all_bussinessdays)"
   ]
  },
  {
   "cell_type": "code",
   "execution_count": null,
   "metadata": {
    "id": "NDu-0h2i9MkT"
   },
   "outputs": [],
   "source": [
    "close_prices = stock_data.reindex(all_bussinessdays)\n",
    "close_prices = stock_data.fillna(method='ffill')"
   ]
  },
  {
   "cell_type": "code",
   "execution_count": null,
   "metadata": {
    "id": "xTieT-gC5e-p"
   },
   "outputs": [],
   "source": [
    "close_prices.head(10)"
   ]
  },
  {
   "cell_type": "markdown",
   "metadata": {
    "id": "06xfVbrD51Id"
   },
   "source": [
    "The dataset is now complete and free of missing values. Let's have a look to the data frame summary:"
   ]
  },
  {
   "cell_type": "markdown",
   "metadata": {
    "id": "TR3_R4OF8pNo"
   },
   "source": [
    "## Feature scaling"
   ]
  },
  {
   "cell_type": "code",
   "execution_count": null,
   "metadata": {
    "id": "hFwPXHiU8rDv"
   },
   "outputs": [],
   "source": [
    "training_set = close_prices.iloc[:, 1:2].values"
   ]
  },
  {
   "cell_type": "code",
   "execution_count": null,
   "metadata": {
    "id": "GvPn9l4d-NyM"
   },
   "outputs": [],
   "source": [
    "print(training_set)"
   ]
  },
  {
   "cell_type": "code",
   "execution_count": null,
   "metadata": {
    "id": "c9TpiTPs9QtF"
   },
   "outputs": [],
   "source": [
    "from sklearn.preprocessing import MinMaxScaler\n",
    "sc = MinMaxScaler(feature_range = (0, 1))\n",
    "training_set_scaled = sc.fit_transform(training_set)\n",
    "print(training_set_scaled.shape)"
   ]
  },
  {
   "cell_type": "markdown",
   "metadata": {
    "id": "NmYp53pYHeQu"
   },
   "source": [
    "LSTMs expect the data in a specific format, usually a 3D tensor. I start by creating data with 60 days and converting it into an array using NumPy. Next, I convert the data into a 3D dimension array with feature_set samples, 60 days and one feature at each step."
   ]
  },
  {
   "cell_type": "code",
   "execution_count": null,
   "metadata": {
    "id": "HSZBYUcIDfWV"
   },
   "outputs": [],
   "source": [
    "features = []\n",
    "labels = []\n",
    "for i in range(60, stock_data_len):\n",
    "    features.append(training_set_scaled[i-60:i, 0])\n",
    "    labels.append(training_set_scaled[i, 0])\n",
    "\n",
    "features = np.array(features)\n",
    "labels = np.array(labels)\n",
    "\n",
    "features = np.reshape(features, (features.shape[0], features.shape[1], 1))"
   ]
  },
  {
   "cell_type": "code",
   "execution_count": null,
   "metadata": {
    "id": "gi-GwAE_LDZm"
   },
   "outputs": [],
   "source": [
    "print(labels)"
   ]
  },
  {
   "cell_type": "code",
   "execution_count": null,
   "metadata": {
    "id": "atE8xU7HLuI2"
   },
   "outputs": [],
   "source": [
    "print(features)"
   ]
  },
  {
   "cell_type": "markdown",
   "metadata": {
    "id": "tfK2gzVI_sTX"
   },
   "source": [
    "Feature tensor with three dimension: features[0] contains the ..., features[1] contains the last 60 days of values and features [2] contains the  ..."
   ]
  },
  {
   "cell_type": "code",
   "execution_count": null,
   "metadata": {
    "id": "VlzVripUIyCb"
   },
   "outputs": [],
   "source": [
    "print(features.shape)"
   ]
  },
  {
   "cell_type": "markdown",
   "metadata": {
    "id": "-MQYJqsDGFYA"
   },
   "source": [
    "## Create the LSTM network\n",
    "Let's create a sequenced LSTM network with 50 units. Also the net includes some dropout layers with 0.2 which means that 20% of the neurons will be dropped."
   ]
  },
  {
   "cell_type": "code",
   "execution_count": null,
   "metadata": {
    "id": "057FLdkzDk1t"
   },
   "outputs": [],
   "source": [
    "import tensorflow as tf"
   ]
  },
  {
   "cell_type": "code",
   "execution_count": null,
   "metadata": {
    "id": "Tel113HiEcYE"
   },
   "outputs": [],
   "source": [
    "model = tf.keras.models.Sequential([\n",
    "    tf.keras.layers.LSTM(units = 50, return_sequences = True, input_shape = (features.shape[1], 1)),\n",
    "    tf.keras.layers.Dropout(0.2),\n",
    "    tf.keras.layers.LSTM(units = 50, return_sequences = True),\n",
    "    tf.keras.layers.Dropout(0.2),\n",
    "    tf.keras.layers.LSTM(units = 50, return_sequences = True),\n",
    "    tf.keras.layers.Dropout(0.2),\n",
    "    tf.keras.layers.LSTM(units = 50),\n",
    "    tf.keras.layers.Dropout(0.2),\n",
    "    tf.keras.layers.Dense(units = 1)\n",
    "])"
   ]
  },
  {
   "cell_type": "code",
   "execution_count": null,
   "metadata": {
    "id": "7nlzkKHiPuaR"
   },
   "outputs": [],
   "source": [
    "print(model.summary())"
   ]
  },
  {
   "cell_type": "code",
   "execution_count": null,
   "metadata": {
    "id": "5W-xbus6hr3B"
   },
   "outputs": [],
   "source": [
    "model_plot = tf.keras.utils.plot_model(model, to_file='my_model.png')\n",
    "model_plot"
   ]
  },
  {
   "cell_type": "code",
   "execution_count": null,
   "metadata": {
    "id": "Dh55JJQwpK5-"
   },
   "outputs": [],
   "source": [
    "# Run tensorboard with the logdir\n",
    "#import os\n",
    "#LOG_BASE_DIR = './log'\n",
    "#os.makedirs(LOG_BASE_DIR, exist_ok=True)"
   ]
  },
  {
   "cell_type": "code",
   "execution_count": null,
   "metadata": {
    "id": "z8f8PuP0tuxv"
   },
   "outputs": [],
   "source": [
    "#!ls -l log"
   ]
  },
  {
   "cell_type": "markdown",
   "metadata": {
    "id": "MtpzRCsqvjnQ"
   },
   "source": [
    "## Load the Colab TensorBoard extention and start TensorBoard inline"
   ]
  },
  {
   "cell_type": "code",
   "execution_count": null,
   "metadata": {
    "id": "AxpGbuaSr9uc"
   },
   "outputs": [],
   "source": [
    "#%load_ext tensorboard.notebook\n",
    "#%tensorboard --logdir {LOG_BASE_DIR}"
   ]
  },
  {
   "cell_type": "markdown",
   "metadata": {
    "id": "KG7MP-S0oVAv"
   },
   "source": [
    "## Define a TensorBoard callback"
   ]
  },
  {
   "cell_type": "code",
   "execution_count": null,
   "metadata": {
    "id": "Ju7MktT7sX1s"
   },
   "outputs": [],
   "source": [
    "#import datetime\n",
    "#logdir = os.path.join(LOG_BASE_DIR, datetime.datetime.now().strftime(\"%Y%m%d-%H%M%S\"))"
   ]
  },
  {
   "cell_type": "code",
   "execution_count": null,
   "metadata": {
    "id": "eUl1ilfJnYrR"
   },
   "outputs": [],
   "source": [
    "#from tensorflow.keras.callbacks import TensorBoard\n",
    "\n",
    "#tbCallBack = TensorBoard(logdir,histogram_freq=1)"
   ]
  },
  {
   "cell_type": "markdown",
   "metadata": {
    "id": "TVtDPeEZGmqP"
   },
   "source": [
    "The model will be compiled and optimize by the adam optimizer and set the loss function as mean_squarred_error"
   ]
  },
  {
   "cell_type": "code",
   "execution_count": null,
   "metadata": {
    "id": "lj9k7R5UFrqO"
   },
   "outputs": [],
   "source": [
    "model.compile(optimizer = 'adam', loss = 'mean_squared_error')"
   ]
  },
  {
   "cell_type": "code",
   "execution_count": null,
   "metadata": {
    "id": "vdatQv4CTSvn"
   },
   "outputs": [],
   "source": [
    "from time import time\n",
    "start = time()\n",
    "history = model.fit(features, labels, epochs = 20, batch_size = 32, verbose = 1)\n",
    "end = time()"
   ]
  },
  {
   "cell_type": "code",
   "execution_count": null,
   "metadata": {
    "id": "CMjYNddpWzrs"
   },
   "outputs": [],
   "source": [
    "print('Total training time {} seconds'.format(end - start))"
   ]
  },
  {
   "cell_type": "code",
   "execution_count": null,
   "metadata": {
    "id": "0jX-nM6dfJSp"
   },
   "outputs": [],
   "source": [
    "#  [samples, days, features]\n",
    "print(features.shape)"
   ]
  },
  {
   "cell_type": "code",
   "execution_count": null,
   "metadata": {
    "id": "yztm7-PfI_zx"
   },
   "outputs": [],
   "source": [
    "testing_start_date = '2019-01-01'\n",
    "testing_end_date = '2019-04-10'\n",
    "\n",
    "test_stock_data = data.get_data_yahoo(tickers, testing_start_date, testing_end_date)"
   ]
  },
  {
   "cell_type": "code",
   "execution_count": null,
   "metadata": {
    "id": "VXVbTnlWd1iY"
   },
   "outputs": [],
   "source": [
    "test_stock_data.tail()"
   ]
  },
  {
   "cell_type": "code",
   "execution_count": null,
   "metadata": {
    "id": "1iaY63cEJzTD"
   },
   "outputs": [],
   "source": [
    "test_stock_data_processed = test_stock_data.iloc[:, 1:2].values"
   ]
  },
  {
   "cell_type": "code",
   "execution_count": null,
   "metadata": {
    "id": "QdBH51wlaost"
   },
   "outputs": [],
   "source": [
    "print(test_stock_data_processed.shape)"
   ]
  },
  {
   "cell_type": "code",
   "execution_count": null,
   "metadata": {
    "id": "q66EIEAXb1Pw"
   },
   "outputs": [],
   "source": [
    "all_stock_data = pd.concat((stock_data['Close'], test_stock_data['Close']), axis = 0)"
   ]
  },
  {
   "cell_type": "code",
   "execution_count": null,
   "metadata": {
    "id": "ugpDI3hkc8Eo"
   },
   "outputs": [],
   "source": [
    "inputs = all_stock_data[len(all_stock_data) - len(test_stock_data) - 60:].values\n",
    "inputs = inputs.reshape(-1,1)\n",
    "inputs = sc.transform(inputs)"
   ]
  },
  {
   "cell_type": "code",
   "execution_count": null,
   "metadata": {
    "id": "EMsXM9nEdDXS"
   },
   "outputs": [],
   "source": [
    "X_test = []\n",
    "for i in range(60, 129):\n",
    "    X_test.append(inputs[i-60:i, 0])"
   ]
  },
  {
   "cell_type": "code",
   "execution_count": null,
   "metadata": {
    "id": "JBo5fWfwek9K"
   },
   "outputs": [],
   "source": [
    "X_test = np.array(X_test)\n",
    "X_test = np.reshape(X_test, (X_test.shape[0], X_test.shape[1], 1))\n",
    "predicted_stock_price = model.predict(X_test)\n",
    "predicted_stock_price = sc.inverse_transform(predicted_stock_price)"
   ]
  },
  {
   "cell_type": "code",
   "execution_count": null,
   "metadata": {
    "id": "EuEl7MRrdLUK"
   },
   "outputs": [],
   "source": [
    "plt.figure(figsize=(10,6))  \n",
    "plt.plot(test_stock_data_processed, color='blue', label='Actual Apple Stock Price')  \n",
    "plt.plot(predicted_stock_price , color='red', label='Predicted Apple Stock Price')  \n",
    "plt.title('Apple Stock Price Prediction')  \n",
    "plt.xlabel('Date')  \n",
    "plt.ylabel('Apple Stock Price')  \n",
    "plt.legend()  \n",
    "plt.show()  "
   ]
  }
 ],
 "metadata": {
  "accelerator": "GPU",
  "colab": {
   "collapsed_sections": [
    "mPYS78ikjcIa"
   ],
   "name": "V-b-stock-price-prediction-keras.ipynb",
   "provenance": []
  },
  "kernelspec": {
   "display_name": "Python 3",
   "language": "python",
   "name": "python3"
  },
  "language_info": {
   "codemirror_mode": {
    "name": "ipython",
    "version": 3
   },
   "file_extension": ".py",
   "mimetype": "text/x-python",
   "name": "python",
   "nbconvert_exporter": "python",
   "pygments_lexer": "ipython3",
   "version": "3.8.10"
  },
  "nbTranslate": {
   "displayLangs": [
    "*"
   ],
   "hotkey": "alt-t",
   "langInMainMenu": true,
   "sourceLang": "en",
   "targetLang": "fr",
   "useGoogleTranslate": true
  },
  "toc": {
   "base_numbering": 1,
   "nav_menu": {},
   "number_sections": true,
   "sideBar": true,
   "skip_h1_title": true,
   "title_cell": "Table of Contents",
   "title_sidebar": "Contents",
   "toc_cell": true,
   "toc_position": {},
   "toc_section_display": true,
   "toc_window_display": false
  },
  "varInspector": {
   "cols": {
    "lenName": 16,
    "lenType": 16,
    "lenVar": 40
   },
   "kernels_config": {
    "python": {
     "delete_cmd_postfix": "",
     "delete_cmd_prefix": "del ",
     "library": "var_list.py",
     "varRefreshCmd": "print(var_dic_list())"
    },
    "r": {
     "delete_cmd_postfix": ") ",
     "delete_cmd_prefix": "rm(",
     "library": "var_list.r",
     "varRefreshCmd": "cat(var_dic_list()) "
    }
   },
   "types_to_exclude": [
    "module",
    "function",
    "builtin_function_or_method",
    "instance",
    "_Feature"
   ],
   "window_display": false
  }
 },
 "nbformat": 4,
 "nbformat_minor": 1
}
