{
 "cells": [
  {
   "cell_type": "markdown",
   "metadata": {},
   "source": [
    "<img src=\"Tarjeta.png\">"
   ]
  },
  {
   "cell_type": "markdown",
   "metadata": {
    "toc": true
   },
   "source": [
    "<h1>Table of Contents<span class=\"tocSkip\"></span></h1>\n",
    "<div class=\"toc\"><ul class=\"toc-item\"><li><span><a href=\"#1.-Conectemonos-a-Google-Drive-y-preparemos-los-datos\" data-toc-modified-id=\"1.-Conectemonos-a-Google-Drive-y-preparemos-los-datos-1\"><span class=\"toc-item-num\">1&nbsp;&nbsp;</span>1. Conectemonos a Google Drive y preparemos los datos</a></span></li><li><span><a href=\"#2.-Librerias\" data-toc-modified-id=\"2.-Librerias-2\"><span class=\"toc-item-num\">2&nbsp;&nbsp;</span>2. Librerias</a></span></li><li><span><a href=\"#3.-Definimos-algunas-constantes\" data-toc-modified-id=\"3.-Definimos-algunas-constantes-3\"><span class=\"toc-item-num\">3&nbsp;&nbsp;</span>3. Definimos algunas constantes</a></span></li><li><span><a href=\"#4.-Preparamos-los-datos-de-entrenamiento\" data-toc-modified-id=\"4.-Preparamos-los-datos-de-entrenamiento-4\"><span class=\"toc-item-num\">4&nbsp;&nbsp;</span>4. Preparamos los datos de entrenamiento</a></span></li><li><span><a href=\"#5.-Exploremos-los-datos\" data-toc-modified-id=\"5.-Exploremos-los-datos-5\"><span class=\"toc-item-num\">5&nbsp;&nbsp;</span>5. Exploremos los datos</a></span></li><li><span><a href=\"#6.-Pintemos-una-imagen\" data-toc-modified-id=\"6.-Pintemos-una-imagen-6\"><span class=\"toc-item-num\">6&nbsp;&nbsp;</span>6. Pintemos una imagen</a></span></li><li><span><a href=\"#7.-Apilemos-bloques-para-hacer-el-modelo\" data-toc-modified-id=\"7.-Apilemos-bloques-para-hacer-el-modelo-7\"><span class=\"toc-item-num\">7&nbsp;&nbsp;</span>7. Apilemos bloques para hacer el modelo</a></span></li><li><span><a href=\"#8.-Montemos-el-optimizador-compilando-el-modelo\" data-toc-modified-id=\"8.-Montemos-el-optimizador-compilando-el-modelo-8\"><span class=\"toc-item-num\">8&nbsp;&nbsp;</span>8. Montemos el optimizador compilando el modelo</a></span></li><li><span><a href=\"#9.-Definamos-un-callback-para-el-Early-Stopping\" data-toc-modified-id=\"9.-Definamos-un-callback-para-el-Early-Stopping-9\"><span class=\"toc-item-num\">9&nbsp;&nbsp;</span>9. Definamos un callback para el Early Stopping</a></span></li><li><span><a href=\"#10.-Preparamos-los-datos\" data-toc-modified-id=\"10.-Preparamos-los-datos-10\"><span class=\"toc-item-num\">10&nbsp;&nbsp;</span>10. Preparamos los datos</a></span></li><li><span><a href=\"#11.-Transformador-de-imagenes-a-datos-consumibles-por-la-red-neuronal\" data-toc-modified-id=\"11.-Transformador-de-imagenes-a-datos-consumibles-por-la-red-neuronal-11\"><span class=\"toc-item-num\">11&nbsp;&nbsp;</span>11. Transformador de imagenes a datos consumibles por la red neuronal</a></span></li><li><span><a href=\"#12.-Veamos-que-pinta-tiene-el-generador-de-datos\" data-toc-modified-id=\"12.-Veamos-que-pinta-tiene-el-generador-de-datos-12\"><span class=\"toc-item-num\">12&nbsp;&nbsp;</span>12. Veamos que pinta tiene el generador de datos</a></span></li><li><span><a href=\"#13.-Entrenemos-el-modelo!\" data-toc-modified-id=\"13.-Entrenemos-el-modelo!-13\"><span class=\"toc-item-num\">13&nbsp;&nbsp;</span>13. Entrenemos el modelo!</a></span></li><li><span><a href=\"#14.-Guardemos-el-modelo\" data-toc-modified-id=\"14.-Guardemos-el-modelo-14\"><span class=\"toc-item-num\">14&nbsp;&nbsp;</span>14. Guardemos el modelo</a></span></li><li><span><a href=\"#15.-Veamos-los-resultados\" data-toc-modified-id=\"15.-Veamos-los-resultados-15\"><span class=\"toc-item-num\">15&nbsp;&nbsp;</span>15. Veamos los resultados</a></span></li><li><span><a href=\"#16.-Pintemos-algunas-predicciones\" data-toc-modified-id=\"16.-Pintemos-algunas-predicciones-16\"><span class=\"toc-item-num\">16&nbsp;&nbsp;</span>16. Pintemos algunas predicciones</a></span></li></ul></div>"
   ]
  },
  {
   "cell_type": "markdown",
   "metadata": {
    "id": "kswWzeShIMiq"
   },
   "source": [
    "## 1. Conectemonos a Google Drive y preparemos los datos\n",
    "\n",
    "Los datos los podeis encontrar en esta URL de Google Drive (formato NPZ)\n",
    "\n",
    "https://drive.google.com/file/d/1-OplAg9THXuzKC_oYAiB4wdBmCTdiy4z/view?usp=sharing <br>\n",
    "https://drive.google.com/file/d/1-Svi93L-C7qAq2oJmtajfCJDjGdJTIaE/view?usp=sharing <br>\n",
    "https://drive.google.com/file/d/1-Dpozh1KCEvuCYgYuaf98-PzHhHTo3F_/view?usp=sharing <br>\n",
    "\n",
    "Movedlos a vuestro Drive!!"
   ]
  },
  {
   "cell_type": "code",
   "execution_count": 1,
   "metadata": {
    "colab": {
     "base_uri": "https://localhost:8080/"
    },
    "executionInfo": {
     "elapsed": 302374,
     "status": "ok",
     "timestamp": 1627563456042,
     "user": {
      "displayName": "Guillermo Alvarez",
      "photoUrl": "https://lh3.googleusercontent.com/a-/AOh14Gi4MJ5uKYvY1e5EaqLlCjXltYoRVdIvWQlwfeuiMg=s64",
      "userId": "16485611103779428118"
     },
     "user_tz": -120
    },
    "id": "P12a4C2vzZL4",
    "outputId": "2ce000a7-a11e-499c-e1b7-79054f9bd4ac"
   },
   "outputs": [
    {
     "name": "stdout",
     "output_type": "stream",
     "text": [
      "Mounted at /content/drive\n"
     ]
    }
   ],
   "source": [
    "from google.colab import drive\n",
    "drive.mount('/content/drive')"
   ]
  },
  {
   "cell_type": "markdown",
   "metadata": {
    "id": "ZIVsM2ZsIMiw"
   },
   "source": [
    "## 2. Librerias\n",
    "\n",
    "Para empezar carguemos esas librerias que nos hacen falta"
   ]
  },
  {
   "cell_type": "code",
   "execution_count": 2,
   "metadata": {
    "_cell_guid": "b1076dfc-b9ad-4769-8c92-a6c4dae69d19",
    "_uuid": "8f2839f25d086af736a60e9eeb907d3b93b6e0e5",
    "executionInfo": {
     "elapsed": 1573,
     "status": "ok",
     "timestamp": 1627563460656,
     "user": {
      "displayName": "Guillermo Alvarez",
      "photoUrl": "https://lh3.googleusercontent.com/a-/AOh14Gi4MJ5uKYvY1e5EaqLlCjXltYoRVdIvWQlwfeuiMg=s64",
      "userId": "16485611103779428118"
     },
     "user_tz": -120
    },
    "id": "tMmwJ-ZEoz3P"
   },
   "outputs": [],
   "source": [
    "import numpy as np\n",
    "import matplotlib.pyplot as plt\n",
    "import random\n",
    "import pandas as pd\n",
    "import os\n",
    "\n",
    "from tensorflow import keras as ks\n",
    "from tensorflow.keras.preprocessing.image import ImageDataGenerator\n",
    "from tensorflow.keras.callbacks import EarlyStopping\n"
   ]
  },
  {
   "cell_type": "markdown",
   "metadata": {
    "id": "8LYPneYfoz3i"
   },
   "source": [
    "## 3. Definimos algunas constantes"
   ]
  },
  {
   "cell_type": "code",
   "execution_count": 3,
   "metadata": {
    "executionInfo": {
     "elapsed": 8,
     "status": "ok",
     "timestamp": 1627563460661,
     "user": {
      "displayName": "Guillermo Alvarez",
      "photoUrl": "https://lh3.googleusercontent.com/a-/AOh14Gi4MJ5uKYvY1e5EaqLlCjXltYoRVdIvWQlwfeuiMg=s64",
      "userId": "16485611103779428118"
     },
     "user_tz": -120
    },
    "id": "n1_noICIoz3j"
   },
   "outputs": [],
   "source": [
    "ANCHO_IMAGEN=150\n",
    "ALTURA_IMAGEN=150\n",
    "IMAGE_SIZE=(ANCHO_IMAGEN, ALTURA_IMAGEN)\n",
    "CANALES_IMAGENES=3\n",
    "\n",
    "# Definimos la ruta donde teneis los archivos NPZ dentro de Google Drive\n",
    "ruta = \"/content/drive/MyDrive/Nuclio/materiales/datasets/cats_dogs/\""
   ]
  },
  {
   "cell_type": "markdown",
   "metadata": {
    "_uuid": "7335a579cc0268fba5d34d6f7558f33c187eedb3",
    "id": "ex_xAKguoz3n"
   },
   "source": [
    "## 4. Preparamos los datos de entrenamiento\n",
    "\n",
    "Los cargaremos del formato NPZ que comentamos en la última clase, y que tenemos en el Drive\n",
    "\n"
   ]
  },
  {
   "cell_type": "code",
   "execution_count": 4,
   "metadata": {
    "_cell_guid": "79c7e3d0-c299-4dcb-8224-4455121ee9b0",
    "_uuid": "d629ff2d2480ee46fbb7e2d37f6b5fab8052498a",
    "executionInfo": {
     "elapsed": 15702,
     "status": "ok",
     "timestamp": 1627563476357,
     "user": {
      "displayName": "Guillermo Alvarez",
      "photoUrl": "https://lh3.googleusercontent.com/a-/AOh14Gi4MJ5uKYvY1e5EaqLlCjXltYoRVdIvWQlwfeuiMg=s64",
      "userId": "16485611103779428118"
     },
     "user_tz": -120
    },
    "id": "z-eYrcixoz3o"
   },
   "outputs": [],
   "source": [
    "dict_npz = np.load(ruta+'xy_train_img.npz')\n",
    "x_train_img = dict_npz['x']\n",
    "y_train_img = dict_npz['y']\n",
    "\n",
    "dict_npz = np.load(ruta+'xy_test_img.npz')\n",
    "x_test_img = dict_npz['x']\n",
    "y_test_img = dict_npz['y']\n",
    "\n",
    "dict_npz = np.load(ruta+'xy_val_img.npz')\n",
    "x_val_img = dict_npz['x']\n",
    "y_val_img = dict_npz['y']\n",
    "\n",
    "x_train_scaled = x_train_img / 255.\n",
    "x_test_scaled = x_test_img / 255.\n",
    "x_val_scaled = x_val_img / 255."
   ]
  },
  {
   "cell_type": "code",
   "execution_count": 5,
   "metadata": {
    "_uuid": "915bb9ba7063ab4d5c07c542419ae119003a5f98",
    "colab": {
     "base_uri": "https://localhost:8080/"
    },
    "executionInfo": {
     "elapsed": 17,
     "status": "ok",
     "timestamp": 1627563476358,
     "user": {
      "displayName": "Guillermo Alvarez",
      "photoUrl": "https://lh3.googleusercontent.com/a-/AOh14Gi4MJ5uKYvY1e5EaqLlCjXltYoRVdIvWQlwfeuiMg=s64",
      "userId": "16485611103779428118"
     },
     "user_tz": -120
    },
    "id": "owVl2D5Voz3s",
    "outputId": "ae9c1fde-37c6-423b-8161-47055d9546bb"
   },
   "outputs": [
    {
     "name": "stdout",
     "output_type": "stream",
     "text": [
      "Tamaño X train: (5000, 150, 150, 3)\n",
      "Tamaño Y train: (5000,)\n",
      "Tamaño X test: (1000, 150, 150, 3)\n",
      "Tamaño Y test: (1000,)\n",
      "Tamaño X val: (1000, 150, 150, 3)\n",
      "Tamaño Y val: (1000,)\n"
     ]
    }
   ],
   "source": [
    "print(\"Tamaño X train:\", x_train_scaled.shape)\n",
    "print(\"Tamaño Y train:\", y_train_img.shape)\n",
    "\n",
    "print(\"Tamaño X test:\", x_test_scaled.shape)\n",
    "print(\"Tamaño Y test:\", y_test_img.shape)\n",
    "\n",
    "print(\"Tamaño X val:\", x_val_scaled.shape)\n",
    "print(\"Tamaño Y val:\", y_val_img.shape)\n",
    "\n"
   ]
  },
  {
   "cell_type": "markdown",
   "metadata": {
    "_uuid": "a999484fc35b73373fafe2253ae9db7ff46fdb90",
    "id": "3eWnz7Uioz32"
   },
   "source": [
    "## 5. Exploremos los datos"
   ]
  },
  {
   "cell_type": "code",
   "execution_count": 6,
   "metadata": {
    "_uuid": "fa26f0bc7a6d835a24989790b20f3c6f32946f45",
    "colab": {
     "base_uri": "https://localhost:8080/",
     "height": 291
    },
    "executionInfo": {
     "elapsed": 357,
     "status": "ok",
     "timestamp": 1627563476705,
     "user": {
      "displayName": "Guillermo Alvarez",
      "photoUrl": "https://lh3.googleusercontent.com/a-/AOh14Gi4MJ5uKYvY1e5EaqLlCjXltYoRVdIvWQlwfeuiMg=s64",
      "userId": "16485611103779428118"
     },
     "user_tz": -120
    },
    "id": "xvjKCJDYoz32",
    "outputId": "54f499f2-dd72-47e1-e695-f2a2e720c1ce"
   },
   "outputs": [
    {
     "data": {
      "text/plain": [
       "<matplotlib.axes._subplots.AxesSubplot at 0x7f0b44640c10>"
      ]
     },
     "execution_count": 6,
     "metadata": {
      "tags": []
     },
     "output_type": "execute_result"
    },
    {
     "data": {
      "image/png": "[encoded data removed]",
      "text/plain": [
       "<Figure size 432x288 with 1 Axes>"
      ]
     },
     "metadata": {
      "needs_background": "light",
      "tags": []
     },
     "output_type": "display_data"
    }
   ],
   "source": [
    "df_train = pd.DataFrame(y_train_img, columns=['category'])\n",
    "df_train['category'].value_counts().plot.bar()"
   ]
  },
  {
   "cell_type": "markdown",
   "metadata": {
    "_uuid": "3a08da58107777a1dd05c4a4bf5c484484923cac",
    "id": "Hqzssxq7oz37"
   },
   "source": [
    "Como podemos ver tenemos 2500 ejemplos de cada clase... poquito para ser una red neuronal para vision por computador... ya vereis..."
   ]
  },
  {
   "cell_type": "markdown",
   "metadata": {
    "_uuid": "400a293df3c8499059d9175f3915187074efd971",
    "id": "3-gXqKRzoz38"
   },
   "source": [
    "## 6. Pintemos una imagen"
   ]
  },
  {
   "cell_type": "code",
   "execution_count": 8,
   "metadata": {
    "_uuid": "602b40f7353871cb161c60b5237f0da0096b2f47",
    "colab": {
     "base_uri": "https://localhost:8080/",
     "height": 286
    },
    "executionInfo": {
     "elapsed": 848,
     "status": "ok",
     "timestamp": 1627542169720,
     "user": {
      "displayName": "Guillermo Alvarez",
      "photoUrl": "https://lh3.googleusercontent.com/a-/AOh14Gi4MJ5uKYvY1e5EaqLlCjXltYoRVdIvWQlwfeuiMg=s64",
      "userId": "16485611103779428118"
     },
     "user_tz": -120
    },
    "id": "2hwgI2aVoz39",
    "outputId": "3d1ce4a2-6ec6-4331-f319-7440e9455b41"
   },
   "outputs": [
    {
     "data": {
      "text/plain": [
       "<matplotlib.image.AxesImage at 0x7f2ab466cf90>"
      ]
     },
     "execution_count": 8,
     "metadata": {
      "tags": []
     },
     "output_type": "execute_result"
    },
    {
     "data": {
      "image/png": "[encoded data removed]",
      "text/plain": [
       "<Figure size 432x288 with 1 Axes>"
      ]
     },
     "metadata": {
      "needs_background": "light",
      "tags": []
     },
     "output_type": "display_data"
    }
   ],
   "source": [
    "sample = random.choice(range(0,4999))\n",
    "image = x_train_scaled[sample]\n",
    "plt.imshow(image, cmap=plt.cm.binary)"
   ]
  },
  {
   "cell_type": "markdown",
   "metadata": {
    "_uuid": "b244e6b7715a04fc6df92dd6dfa3d35c473ca600",
    "id": "oCEFBfkWoz4B"
   },
   "source": [
    "## 7. Apilemos bloques para hacer el modelo\n",
    "\n",
    "<img src=\"https://i.imgur.com/ebkMGGu.jpg\" width=\"100%\"/>"
   ]
  },
  {
   "cell_type": "markdown",
   "metadata": {
    "id": "VGbXfyJJsrx-"
   },
   "source": []
  },
  {
   "cell_type": "code",
   "execution_count": 9,
   "metadata": {
    "_uuid": "8c9f833c1441b657c779844912d0b8028218d454",
    "colab": {
     "base_uri": "https://localhost:8080/"
    },
    "executionInfo": {
     "elapsed": 5502,
     "status": "ok",
     "timestamp": 1627542175217,
     "user": {
      "displayName": "Guillermo Alvarez",
      "photoUrl": "https://lh3.googleusercontent.com/a-/AOh14Gi4MJ5uKYvY1e5EaqLlCjXltYoRVdIvWQlwfeuiMg=s64",
      "userId": "16485611103779428118"
     },
     "user_tz": -120
    },
    "id": "RwIlNswdoz4E",
    "outputId": "1cde7415-fdda-4f0e-c514-f5554e87f345"
   },
   "outputs": [
    {
     "name": "stdout",
     "output_type": "stream",
     "text": [
      "Model: \"sequential\"\n",
      "_________________________________________________________________\n",
      "Layer (type)                 Output Shape              Param #   \n",
      "=================================================================\n",
      "conv2d (Conv2D)              (None, 148, 148, 16)      448       \n",
      "_________________________________________________________________\n",
      "max_pooling2d (MaxPooling2D) (None, 74, 74, 16)        0         \n",
      "_________________________________________________________________\n",
      "conv2d_1 (Conv2D)            (None, 72, 72, 64)        9280      \n",
      "_________________________________________________________________\n",
      "max_pooling2d_1 (MaxPooling2 (None, 36, 36, 64)        0         \n",
      "_________________________________________________________________\n",
      "conv2d_2 (Conv2D)            (None, 34, 34, 128)       73856     \n",
      "_________________________________________________________________\n",
      "max_pooling2d_2 (MaxPooling2 (None, 17, 17, 128)       0         \n",
      "_________________________________________________________________\n",
      "conv2d_3 (Conv2D)            (None, 15, 15, 128)       147584    \n",
      "_________________________________________________________________\n",
      "max_pooling2d_3 (MaxPooling2 (None, 7, 7, 128)         0         \n",
      "_________________________________________________________________\n",
      "flatten (Flatten)            (None, 6272)              0         \n",
      "_________________________________________________________________\n",
      "dense (Dense)                (None, 512)               3211776   \n",
      "_________________________________________________________________\n",
      "dropout (Dropout)            (None, 512)               0         \n",
      "_________________________________________________________________\n",
      "dense_1 (Dense)              (None, 512)               262656    \n",
      "_________________________________________________________________\n",
      "dropout_1 (Dropout)          (None, 512)               0         \n",
      "_________________________________________________________________\n",
      "dense_2 (Dense)              (None, 1)                 513       \n",
      "=================================================================\n",
      "Total params: 3,706,113\n",
      "Trainable params: 3,706,113\n",
      "Non-trainable params: 0\n",
      "_________________________________________________________________\n"
     ]
    }
   ],
   "source": [
    "model = ks.Sequential()\n",
    "\n",
    "model.add(ks.layers.Conv2D(16, (3, 3), activation='relu', \n",
    "                           input_shape=(ANCHO_IMAGEN, ALTURA_IMAGEN, CANALES_IMAGENES)))\n",
    "model.add(ks.layers.MaxPooling2D(pool_size=(2, 2)))\n",
    "\n",
    "model.add(ks.layers.Conv2D(64, (3, 3), activation='relu'))\n",
    "model.add(ks.layers.MaxPooling2D(pool_size=(2, 2)))\n",
    "\n",
    "model.add(ks.layers.Conv2D(128, (3, 3), activation='relu'))\n",
    "model.add(ks.layers.MaxPooling2D(pool_size=(2, 2)))\n",
    "\n",
    "model.add(ks.layers.Conv2D(128, (3, 3), activation='relu'))\n",
    "model.add(ks.layers.MaxPooling2D(pool_size=(2, 2)))\n",
    "\n",
    "model.add(ks.layers.Flatten())\n",
    "model.add(ks.layers.Dense(512, activation='relu'))\n",
    "model.add(ks.layers.Dropout(0.3))\n",
    "model.add(ks.layers.Dense(512, activation='relu'))\n",
    "model.add(ks.layers.Dropout(0.3))\n",
    "model.add(ks.layers.Dense(1, activation='sigmoid')) # 1 de salida porque tenemos dos valores posibles 0 o 1 (tras aplicar un label encoder a dog y cat)\n",
    "\n",
    "model.summary()"
   ]
  },
  {
   "cell_type": "markdown",
   "metadata": {
    "id": "oUWzg0-hnesq"
   },
   "source": [
    "## 8. Montemos el optimizador compilando el modelo\n"
   ]
  },
  {
   "cell_type": "code",
   "execution_count": 10,
   "metadata": {
    "executionInfo": {
     "elapsed": 17,
     "status": "ok",
     "timestamp": 1627542175218,
     "user": {
      "displayName": "Guillermo Alvarez",
      "photoUrl": "https://lh3.googleusercontent.com/a-/AOh14Gi4MJ5uKYvY1e5EaqLlCjXltYoRVdIvWQlwfeuiMg=s64",
      "userId": "16485611103779428118"
     },
     "user_tz": -120
    },
    "id": "J3XFSpbcnd3M"
   },
   "outputs": [],
   "source": [
    "model.compile(loss='binary_crossentropy', optimizer='Adam', metrics=['accuracy'])"
   ]
  },
  {
   "cell_type": "markdown",
   "metadata": {
    "_uuid": "bd496f6c65888a969be3703135b0b03a8a1190c8",
    "id": "FjqQRO0Voz4I"
   },
   "source": [
    "## 9. Definamos un callback para el Early Stopping"
   ]
  },
  {
   "cell_type": "markdown",
   "metadata": {
    "_uuid": "76c9ba4fb7f930c96b2c3e0d6b68ed9fa6a4227b",
    "id": "kBF3ly91oz4P"
   },
   "source": [
    "**Early Stopping**\n",
    "\n",
    "Prevenimos el sobre ajuste parando cuando tras 10 epochs y el error de la validacion no decrementa (estamos en una plateau)"
   ]
  },
  {
   "cell_type": "code",
   "execution_count": 11,
   "metadata": {
    "_uuid": "3421c5ec428da6c0d8cc1184179a9caff1e01d1c",
    "executionInfo": {
     "elapsed": 344,
     "status": "ok",
     "timestamp": 1627542175547,
     "user": {
      "displayName": "Guillermo Alvarez",
      "photoUrl": "https://lh3.googleusercontent.com/a-/AOh14Gi4MJ5uKYvY1e5EaqLlCjXltYoRVdIvWQlwfeuiMg=s64",
      "userId": "16485611103779428118"
     },
     "user_tz": -120
    },
    "id": "tvAN5_48oz4Q"
   },
   "outputs": [],
   "source": [
    "callback_val_loss = EarlyStopping(monitor=\"val_loss\", patience=5)\n",
    "callback_val_accuracy = EarlyStopping(monitor=\"val_accuracy\", patience=10)"
   ]
  },
  {
   "cell_type": "markdown",
   "metadata": {
    "id": "YycSloTfoz4Z"
   },
   "source": [
    "## 10. Preparamos los datos"
   ]
  },
  {
   "cell_type": "markdown",
   "metadata": {
    "id": "wIE5IV7voz4a"
   },
   "source": [
    "Haremos un one-hote encoding que nos va a ir bien para nuestra clasificación"
   ]
  },
  {
   "cell_type": "code",
   "execution_count": 7,
   "metadata": {
    "colab": {
     "base_uri": "https://localhost:8080/"
    },
    "executionInfo": {
     "elapsed": 192,
     "status": "ok",
     "timestamp": 1627563492741,
     "user": {
      "displayName": "Guillermo Alvarez",
      "photoUrl": "https://lh3.googleusercontent.com/a-/AOh14Gi4MJ5uKYvY1e5EaqLlCjXltYoRVdIvWQlwfeuiMg=s64",
      "userId": "16485611103779428118"
     },
     "user_tz": -120
    },
    "id": "GpngtNKUxV3v",
    "outputId": "38b9429d-8971-455d-a0e1-fd883c825d25"
   },
   "outputs": [
    {
     "data": {
      "text/plain": [
       "array(['cat', 'cat', 'cat', ..., 'dog', 'dog', 'dog'], dtype='<U3')"
      ]
     },
     "execution_count": 7,
     "metadata": {
      "tags": []
     },
     "output_type": "execute_result"
    }
   ],
   "source": [
    "y_train_img"
   ]
  },
  {
   "cell_type": "code",
   "execution_count": 8,
   "metadata": {
    "executionInfo": {
     "elapsed": 523,
     "status": "ok",
     "timestamp": 1627563495296,
     "user": {
      "displayName": "Guillermo Alvarez",
      "photoUrl": "https://lh3.googleusercontent.com/a-/AOh14Gi4MJ5uKYvY1e5EaqLlCjXltYoRVdIvWQlwfeuiMg=s64",
      "userId": "16485611103779428118"
     },
     "user_tz": -120
    },
    "id": "Q9darYNr97B1"
   },
   "outputs": [],
   "source": [
    "from sklearn.preprocessing import LabelEncoder\n",
    "\n",
    "le = LabelEncoder()\n",
    "le.fit(y_train_img)\n",
    "y_train_encoded = le.transform(y_train_img)\n",
    "y_val_encoded = le.transform(y_val_img)\n",
    "y_test_encoded = le.transform(y_test_img)"
   ]
  },
  {
   "cell_type": "code",
   "execution_count": 12,
   "metadata": {
    "colab": {
     "base_uri": "https://localhost:8080/"
    },
    "executionInfo": {
     "elapsed": 250,
     "status": "ok",
     "timestamp": 1627563570020,
     "user": {
      "displayName": "Guillermo Alvarez",
      "photoUrl": "https://lh3.googleusercontent.com/a-/AOh14Gi4MJ5uKYvY1e5EaqLlCjXltYoRVdIvWQlwfeuiMg=s64",
      "userId": "16485611103779428118"
     },
     "user_tz": -120
    },
    "id": "79T24vFbWBb-",
    "outputId": "dacf806f-e0ef-4cfe-9500-16ca6090b376"
   },
   "outputs": [
    {
     "name": "stdout",
     "output_type": "stream",
     "text": [
      "{'cat': 0, 'dog': 1}\n"
     ]
    }
   ],
   "source": [
    "le_mapeo = dict(zip(le.classes_, le.transform(le.classes_)))\n",
    "print(le_mapeo)"
   ]
  },
  {
   "cell_type": "code",
   "execution_count": 14,
   "metadata": {
    "colab": {
     "base_uri": "https://localhost:8080/"
    },
    "executionInfo": {
     "elapsed": 7,
     "status": "ok",
     "timestamp": 1627542175858,
     "user": {
      "displayName": "Guillermo Alvarez",
      "photoUrl": "https://lh3.googleusercontent.com/a-/AOh14Gi4MJ5uKYvY1e5EaqLlCjXltYoRVdIvWQlwfeuiMg=s64",
      "userId": "16485611103779428118"
     },
     "user_tz": -120
    },
    "id": "rnqC3rm--O0o",
    "outputId": "f1540f59-4456-4e65-edfe-c626d285eb0e"
   },
   "outputs": [
    {
     "data": {
      "text/plain": [
       "array([0, 0, 0, ..., 1, 1, 1])"
      ]
     },
     "execution_count": 14,
     "metadata": {
      "tags": []
     },
     "output_type": "execute_result"
    }
   ],
   "source": [
    "y_train_encoded"
   ]
  },
  {
   "cell_type": "markdown",
   "metadata": {
    "_uuid": "ff760be9104f7d9492467b8d9d3405011aa77d11",
    "id": "DmgPnBdWoz4u"
   },
   "source": [
    "## 11. Transformador de imagenes a datos consumibles por la red neuronal\n",
    "\n",
    "**De entrenamiento**\n",
    "\n",
    "Aquí incluiremos nuestra parte de generación de imagenes (con código de partida)"
   ]
  },
  {
   "cell_type": "code",
   "execution_count": 15,
   "metadata": {
    "_uuid": "4d1c7818703a8a4bac5c036fdea45972aa9e5e9e",
    "executionInfo": {
     "elapsed": 6,
     "status": "ok",
     "timestamp": 1627542175858,
     "user": {
      "displayName": "Guillermo Alvarez",
      "photoUrl": "https://lh3.googleusercontent.com/a-/AOh14Gi4MJ5uKYvY1e5EaqLlCjXltYoRVdIvWQlwfeuiMg=s64",
      "userId": "16485611103779428118"
     },
     "user_tz": -120
    },
    "id": "Nlxz_DO7oz4v"
   },
   "outputs": [],
   "source": [
    "train_datagen = ImageDataGenerator(\n",
    "    rescale=1./255,\n",
    "    )\n",
    "\n",
    "train_generator = train_datagen.flow(\n",
    "    x_train_img,  # Aquí hay que usar datos NO re-escalados... de ahi que no usemos x_train_rescaled!\n",
    "    y_train_encoded, \n",
    "    batch_size=30\n",
    ")"
   ]
  },
  {
   "cell_type": "markdown",
   "metadata": {
    "_uuid": "859c7b2857939c19fd2e3bb32839c9f7deb5aa3f",
    "id": "e7qjyLM-oz4y"
   },
   "source": [
    "**De validacion (test no lo necesita)**\n",
    "\n",
    "Fijaos que aquí la única modificación es un re-escalado, nada de modificaciones"
   ]
  },
  {
   "cell_type": "code",
   "execution_count": 16,
   "metadata": {
    "_uuid": "7925e16bcacc89f4484fb6fe47e54d6420af732e",
    "executionInfo": {
     "elapsed": 6,
     "status": "ok",
     "timestamp": 1627542175859,
     "user": {
      "displayName": "Guillermo Alvarez",
      "photoUrl": "https://lh3.googleusercontent.com/a-/AOh14Gi4MJ5uKYvY1e5EaqLlCjXltYoRVdIvWQlwfeuiMg=s64",
      "userId": "16485611103779428118"
     },
     "user_tz": -120
    },
    "id": "HpWcatHOoz4z"
   },
   "outputs": [],
   "source": [
    "validation_datagen = ImageDataGenerator(\n",
    "    rescale=1./255\n",
    "    )\n",
    "validation_generator = validation_datagen.flow(\n",
    "    x_val_img, \n",
    "    y_val_encoded, \n",
    "    batch_size=20\n",
    ")\n"
   ]
  },
  {
   "cell_type": "markdown",
   "metadata": {
    "_uuid": "810ddf1373d9db470ed48da4f30ca5a6c1274435",
    "id": "WRT9BikCoz4-"
   },
   "source": [
    "No tiene mala pinta!!"
   ]
  },
  {
   "cell_type": "markdown",
   "metadata": {
    "id": "oIEMYd471wV8"
   },
   "source": [
    "## 12. Veamos que pinta tiene el generador de datos\n",
    "\n",
    "A rellenar para ver que nos da el generador de imagenes nuevas"
   ]
  },
  {
   "cell_type": "code",
   "execution_count": 16,
   "metadata": {
    "executionInfo": {
     "elapsed": 5,
     "status": "ok",
     "timestamp": 1627542176102,
     "user": {
      "displayName": "Guillermo Alvarez",
      "photoUrl": "https://lh3.googleusercontent.com/a-/AOh14Gi4MJ5uKYvY1e5EaqLlCjXltYoRVdIvWQlwfeuiMg=s64",
      "userId": "16485611103779428118"
     },
     "user_tz": -120
    },
    "id": "4v0izLCV1346"
   },
   "outputs": [],
   "source": []
  },
  {
   "cell_type": "code",
   "execution_count": 16,
   "metadata": {
    "executionInfo": {
     "elapsed": 5,
     "status": "ok",
     "timestamp": 1627542176103,
     "user": {
      "displayName": "Guillermo Alvarez",
      "photoUrl": "https://lh3.googleusercontent.com/a-/AOh14Gi4MJ5uKYvY1e5EaqLlCjXltYoRVdIvWQlwfeuiMg=s64",
      "userId": "16485611103779428118"
     },
     "user_tz": -120
    },
    "id": "XZsGvzQ213CL"
   },
   "outputs": [],
   "source": []
  },
  {
   "cell_type": "markdown",
   "metadata": {
    "_uuid": "5cd8df64e794ed17de326b613a9819e7da977a0e",
    "id": "cT4ohS-ioz4_"
   },
   "source": [
    "## 13. Entrenemos el modelo!"
   ]
  },
  {
   "cell_type": "code",
   "execution_count": 17,
   "metadata": {
    "_uuid": "0836a4cc8aa0abf603e0f96573c0c4ff383ad56b",
    "colab": {
     "base_uri": "https://localhost:8080/"
    },
    "executionInfo": {
     "elapsed": 124357,
     "status": "ok",
     "timestamp": 1627542300455,
     "user": {
      "displayName": "Guillermo Alvarez",
      "photoUrl": "https://lh3.googleusercontent.com/a-/AOh14Gi4MJ5uKYvY1e5EaqLlCjXltYoRVdIvWQlwfeuiMg=s64",
      "userId": "16485611103779428118"
     },
     "user_tz": -120
    },
    "id": "xgh5rr0doz5A",
    "outputId": "ce3dff33-0418-4e75-c541-24ad892fd9c7"
   },
   "outputs": [
    {
     "name": "stdout",
     "output_type": "stream",
     "text": [
      "Epoch 1/200\n",
      "10/10 [==============================] - 46s 1s/step - loss: 0.7388 - accuracy: 0.5118 - val_loss: 0.6929 - val_accuracy: 0.5000\n",
      "Epoch 2/200\n",
      "10/10 [==============================] - 4s 369ms/step - loss: 0.6898 - accuracy: 0.5270 - val_loss: 0.6828 - val_accuracy: 0.5170\n",
      "Epoch 3/200\n",
      "10/10 [==============================] - 4s 370ms/step - loss: 0.6671 - accuracy: 0.5742 - val_loss: 0.6577 - val_accuracy: 0.5990\n",
      "Epoch 4/200\n",
      "10/10 [==============================] - 4s 368ms/step - loss: 0.6625 - accuracy: 0.6082 - val_loss: 0.6756 - val_accuracy: 0.5780\n",
      "Epoch 5/200\n",
      "10/10 [==============================] - 4s 369ms/step - loss: 0.6519 - accuracy: 0.6150 - val_loss: 0.6512 - val_accuracy: 0.6350\n",
      "Epoch 6/200\n",
      "10/10 [==============================] - 4s 369ms/step - loss: 0.6310 - accuracy: 0.6466 - val_loss: 0.6179 - val_accuracy: 0.6480\n",
      "Epoch 7/200\n",
      "10/10 [==============================] - 4s 374ms/step - loss: 0.5981 - accuracy: 0.6730 - val_loss: 0.5920 - val_accuracy: 0.6710\n",
      "Epoch 8/200\n",
      "10/10 [==============================] - 4s 374ms/step - loss: 0.5698 - accuracy: 0.6980 - val_loss: 0.5675 - val_accuracy: 0.6960\n",
      "Epoch 9/200\n",
      "10/10 [==============================] - 4s 377ms/step - loss: 0.5615 - accuracy: 0.7090 - val_loss: 0.5637 - val_accuracy: 0.6980\n",
      "Epoch 10/200\n",
      "10/10 [==============================] - 4s 378ms/step - loss: 0.5372 - accuracy: 0.7322 - val_loss: 0.5636 - val_accuracy: 0.6980\n",
      "Epoch 11/200\n",
      "10/10 [==============================] - 4s 380ms/step - loss: 0.5343 - accuracy: 0.7304 - val_loss: 0.5446 - val_accuracy: 0.7100\n",
      "Epoch 12/200\n",
      "10/10 [==============================] - 4s 371ms/step - loss: 0.5060 - accuracy: 0.7518 - val_loss: 0.5412 - val_accuracy: 0.7190\n",
      "Epoch 13/200\n",
      "10/10 [==============================] - 4s 379ms/step - loss: 0.4606 - accuracy: 0.7840 - val_loss: 0.5223 - val_accuracy: 0.7550\n",
      "Epoch 14/200\n",
      "10/10 [==============================] - 4s 369ms/step - loss: 0.4309 - accuracy: 0.8030 - val_loss: 0.5079 - val_accuracy: 0.7790\n",
      "Epoch 15/200\n",
      "10/10 [==============================] - 4s 378ms/step - loss: 0.4168 - accuracy: 0.8100 - val_loss: 0.5086 - val_accuracy: 0.7520\n",
      "Epoch 16/200\n",
      "10/10 [==============================] - 4s 377ms/step - loss: 0.3746 - accuracy: 0.8318 - val_loss: 0.5288 - val_accuracy: 0.7540\n",
      "Epoch 17/200\n",
      "10/10 [==============================] - 4s 374ms/step - loss: 0.3646 - accuracy: 0.8374 - val_loss: 0.4686 - val_accuracy: 0.8050\n",
      "Epoch 18/200\n",
      "10/10 [==============================] - 4s 369ms/step - loss: 0.3238 - accuracy: 0.8612 - val_loss: 0.4794 - val_accuracy: 0.7890\n",
      "Epoch 19/200\n",
      "10/10 [==============================] - 4s 380ms/step - loss: 0.2952 - accuracy: 0.8722 - val_loss: 0.4811 - val_accuracy: 0.7900\n",
      "Epoch 20/200\n",
      "10/10 [==============================] - 4s 376ms/step - loss: 0.2408 - accuracy: 0.9020 - val_loss: 0.5297 - val_accuracy: 0.7910\n",
      "Epoch 21/200\n",
      "10/10 [==============================] - 4s 383ms/step - loss: 0.1898 - accuracy: 0.9196 - val_loss: 0.5702 - val_accuracy: 0.7930\n",
      "Epoch 22/200\n",
      "10/10 [==============================] - 4s 383ms/step - loss: 0.1678 - accuracy: 0.9346 - val_loss: 0.5641 - val_accuracy: 0.7990\n"
     ]
    }
   ],
   "source": [
    "epochs = 200\n",
    "\n",
    "history = model.fit(x_train_scaled, y_train_encoded, epochs=epochs, \n",
    "                    validation_data=(x_val_scaled, y_val_encoded), batch_size=512, \n",
    "                    callbacks=[callback_val_loss, callback_val_accuracy])"
   ]
  },
  {
   "cell_type": "markdown",
   "metadata": {
    "_uuid": "aa1fbc4081ae0de2993188b2bf658a0be5bc0687",
    "id": "A6Uio2wgoz5D"
   },
   "source": [
    "## 14. Guardemos el modelo"
   ]
  },
  {
   "cell_type": "code",
   "execution_count": null,
   "metadata": {
    "_uuid": "67575a4decdaf79a915d23151626b784ffa82642",
    "id": "Wv8k1cSeoz5E"
   },
   "outputs": [],
   "source": [
    "model.save(ruta+\"model_basico.h5\")"
   ]
  },
  {
   "cell_type": "markdown",
   "metadata": {
    "_uuid": "1b76c0a9040bc0babf0a453e567e41e22f8a1e0e",
    "id": "7CWxAqsOoz5H"
   },
   "source": [
    "## 15. Veamos los resultados"
   ]
  },
  {
   "cell_type": "code",
   "execution_count": 18,
   "metadata": {
    "_uuid": "79055f2dc3e2abb47bea758e0464c86ca42ab431",
    "colab": {
     "base_uri": "https://localhost:8080/",
     "height": 545
    },
    "executionInfo": {
     "elapsed": 486,
     "status": "ok",
     "timestamp": 1627542319396,
     "user": {
      "displayName": "Guillermo Alvarez",
      "photoUrl": "https://lh3.googleusercontent.com/a-/AOh14Gi4MJ5uKYvY1e5EaqLlCjXltYoRVdIvWQlwfeuiMg=s64",
      "userId": "16485611103779428118"
     },
     "user_tz": -120
    },
    "id": "if5uxIKkoz5I",
    "outputId": "0637abcb-df74-4577-8fd4-70d6d6ce394a"
   },
   "outputs": [
    {
     "data": {
      "image/png": "[encoded data removed]",
      "text/plain": [
       "<Figure size 432x288 with 1 Axes>"
      ]
     },
     "metadata": {
      "needs_background": "light",
      "tags": []
     },
     "output_type": "display_data"
    },
    {
     "data": {
      "image/png": "[encoded data removed]",
      "text/plain": [
       "<Figure size 432x288 with 1 Axes>"
      ]
     },
     "metadata": {
      "needs_background": "light",
      "tags": []
     },
     "output_type": "display_data"
    }
   ],
   "source": [
    "plt.title('Cross Entropy Loss')\n",
    "plt.plot(history.history['loss'], color='blue', label='train')\n",
    "plt.plot(history.history['val_loss'], color='orange', label='validation')\n",
    "plt.legend()\n",
    "plt.show()\n",
    "\n",
    "plt.title('Classification Accuracy')\n",
    "plt.plot(history.history['accuracy'], color='blue', label='train')\n",
    "plt.plot(history.history['val_accuracy'], color='orange', label='validation')\n",
    "plt.legend()\n",
    "plt.show()"
   ]
  },
  {
   "cell_type": "code",
   "execution_count": 19,
   "metadata": {
    "colab": {
     "base_uri": "https://localhost:8080/"
    },
    "executionInfo": {
     "elapsed": 372,
     "status": "ok",
     "timestamp": 1627542319765,
     "user": {
      "displayName": "Guillermo Alvarez",
      "photoUrl": "https://lh3.googleusercontent.com/a-/AOh14Gi4MJ5uKYvY1e5EaqLlCjXltYoRVdIvWQlwfeuiMg=s64",
      "userId": "16485611103779428118"
     },
     "user_tz": -120
    },
    "id": "PEtAd5Xwp1_y",
    "outputId": "7657f2d0-9c11-4233-cb4b-6ed08655080e"
   },
   "outputs": [
    {
     "name": "stdout",
     "output_type": "stream",
     "text": [
      "Test del Modelo sin Data Augmentation > 80.600\n"
     ]
    }
   ],
   "source": [
    "_, acc = model.evaluate(x_test_scaled, y_test_encoded, verbose=0)\n",
    "print('Test del Modelo sin Data Augmentation > %.3f' % (acc * 100.0))"
   ]
  },
  {
   "cell_type": "markdown",
   "metadata": {
    "id": "ESmMskPQGElI"
   },
   "source": [
    "## 16. Pintemos algunas predicciones"
   ]
  },
  {
   "cell_type": "code",
   "execution_count": null,
   "metadata": {
    "id": "TMmomkCZGElI"
   },
   "outputs": [],
   "source": [
    "predictions = model.predict(x_test_scaled) \n"
   ]
  },
  {
   "cell_type": "code",
   "execution_count": null,
   "metadata": {
    "id": "hZ0P2alCGElI"
   },
   "outputs": [],
   "source": [
    "def plot_image(i, predictions_array, true_label, img):\n",
    "  predictions_array, true_label, img = predictions_array, true_label[i], img[i]\n",
    "  plt.grid(False)\n",
    "  plt.xticks([])\n",
    "  plt.yticks([])\n",
    "\n",
    "  plt.imshow(img, cmap=plt.cm.binary)\n",
    "\n",
    "  if true_label == 1:\n",
    "    true_label = 'dog'\n",
    "  else:\n",
    "    true_label = 'cat'\n",
    "\n",
    "  if np.max(predictions_array) > 0.50:\n",
    "    predicted_label = 'dog'\n",
    "  else:\n",
    "    predicted_label = 'cat'\n",
    "\n",
    "  if predicted_label == true_label:\n",
    "    color = 'blue'\n",
    "  else:\n",
    "    color = 'red'\n",
    "\n",
    "  plt.xlabel(\"{} {:2.0f}% ({})\".format(predicted_label,\n",
    "                                100*np.max(predictions_array),\n",
    "                                true_label),\n",
    "                                color=color)\n",
    "\n",
    "def plot_value_array(i, predictions_array, true_label):\n",
    "  predictions_array, true_label = predictions_array, true_label[i]\n",
    "  plt.grid(False)\n",
    "  plt.xticks(range(1))\n",
    "  plt.yticks([])\n",
    "\n",
    "  if true_label == 1:\n",
    "    true_label = 'dog'\n",
    "  else:\n",
    "    true_label = 'cat'\n",
    "\n",
    "  if np.max(predictions_array) > 0.50:\n",
    "    predicted_label = 'dog'\n",
    "  else:\n",
    "    predicted_label = 'cat'\n",
    "\n",
    "  if predicted_label == true_label:\n",
    "    color_plt = 'blue'\n",
    "  else:\n",
    "    color_plt = 'red'\n",
    "\n",
    "  thisplot = plt.bar(range(1), np.max(predictions_array), color=color_plt)\n",
    "  plt.ylim([0, 1])\n"
   ]
  },
  {
   "cell_type": "markdown",
   "metadata": {
    "id": "1yPSHiwRGElI"
   },
   "source": [
    "Dibujamos los primeros digitos, con las predicciones y sus valores reales (un total de 20 imagenes, para no abusar de vuestros laptops)\n",
    "\n",
    "Coloreamos las prediciones correctas en azul y los fallos en rojo"
   ]
  },
  {
   "cell_type": "code",
   "execution_count": null,
   "metadata": {
    "id": "qb08Ry3dGElJ"
   },
   "outputs": [],
   "source": [
    "num_rows = 5\n",
    "num_cols = 4\n",
    "start = 650\n",
    "num_images = num_rows*num_cols\n",
    "plt.figure(figsize=(2*2*num_cols, 2*num_rows))\n",
    "for i in range(num_images):\n",
    "  plt.subplot(num_rows, 2*num_cols, 2*i+1)\n",
    "  plot_image(i+start, predictions[i+start], y_test_encoded, x_test_scaled)\n",
    "  plt.subplot(num_rows, 2*num_cols, 2*i+2)\n",
    "  plot_value_array(i+start, predictions[i+start], y_test_encoded)\n",
    "plt.tight_layout()\n",
    "plt.show()"
   ]
  }
 ],
 "metadata": {
  "accelerator": "GPU",
  "colab": {
   "name": "I_cnn-dataaug-catsdogs-v0.ipynb",
   "provenance": []
  },
  "kernelspec": {
   "display_name": "Python 3",
   "language": "python",
   "name": "python3"
  },
  "language_info": {
   "codemirror_mode": {
    "name": "ipython",
    "version": 3
   },
   "file_extension": ".py",
   "mimetype": "text/x-python",
   "name": "python",
   "nbconvert_exporter": "python",
   "pygments_lexer": "ipython3",
   "version": "3.8.10"
  },
  "nbTranslate": {
   "displayLangs": [
    "*"
   ],
   "hotkey": "alt-t",
   "langInMainMenu": true,
   "sourceLang": "en",
   "targetLang": "fr",
   "useGoogleTranslate": true
  },
  "toc": {
   "base_numbering": 1,
   "nav_menu": {},
   "number_sections": true,
   "sideBar": true,
   "skip_h1_title": true,
   "title_cell": "Table of Contents",
   "title_sidebar": "Contents",
   "toc_cell": true,
   "toc_position": {},
   "toc_section_display": true,
   "toc_window_display": false
  },
  "varInspector": {
   "cols": {
    "lenName": 16,
    "lenType": 16,
    "lenVar": 40
   },
   "kernels_config": {
    "python": {
     "delete_cmd_postfix": "",
     "delete_cmd_prefix": "del ",
     "library": "var_list.py",
     "varRefreshCmd": "print(var_dic_list())"
    },
    "r": {
     "delete_cmd_postfix": ") ",
     "delete_cmd_prefix": "rm(",
     "library": "var_list.r",
     "varRefreshCmd": "cat(var_dic_list()) "
    }
   },
   "types_to_exclude": [
    "module",
    "function",
    "builtin_function_or_method",
    "instance",
    "_Feature"
   ],
   "window_display": false
  }
 },
 "nbformat": 4,
 "nbformat_minor": 1
}
