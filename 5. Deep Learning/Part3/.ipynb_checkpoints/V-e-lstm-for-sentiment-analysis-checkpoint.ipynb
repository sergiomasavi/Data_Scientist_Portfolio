{
 "cells": [
  {
   "cell_type": "markdown",
   "metadata": {},
   "source": [
    "<img src=\"Tarjeta.png\">"
   ]
  },
  {
   "cell_type": "markdown",
   "metadata": {
    "toc": true
   },
   "source": [
    "<h1>Table of Contents<span class=\"tocSkip\"></span></h1>\n",
    "<div class=\"toc\"><ul class=\"toc-item\"></ul></div>"
   ]
  },
  {
   "cell_type": "code",
   "execution_count": 1,
   "metadata": {
    "executionInfo": {
     "elapsed": 2136,
     "status": "ok",
     "timestamp": 1630341577816,
     "user": {
      "displayName": "Guillermo Alvarez",
      "photoUrl": "https://lh3.googleusercontent.com/a-/AOh14Gi4MJ5uKYvY1e5EaqLlCjXltYoRVdIvWQlwfeuiMg=s64",
      "userId": "16485611103779428118"
     },
     "user_tz": -120
    },
    "id": "kf1CzBkQbqZr"
   },
   "outputs": [],
   "source": [
    "from tensorflow import keras as ks\n",
    "from tensorflow.keras.datasets import imdb\n",
    "from matplotlib import pyplot as plt\n",
    "import numpy as np"
   ]
  },
  {
   "cell_type": "code",
   "execution_count": 2,
   "metadata": {
    "executionInfo": {
     "elapsed": 5,
     "status": "ok",
     "timestamp": 1630341577818,
     "user": {
      "displayName": "Guillermo Alvarez",
      "photoUrl": "https://lh3.googleusercontent.com/a-/AOh14Gi4MJ5uKYvY1e5EaqLlCjXltYoRVdIvWQlwfeuiMg=s64",
      "userId": "16485611103779428118"
     },
     "user_tz": -120
    },
    "id": "bAE0NLSOcJDz"
   },
   "outputs": [],
   "source": [
    "vocabulary_size = 10000"
   ]
  },
  {
   "cell_type": "code",
   "execution_count": 3,
   "metadata": {
    "executionInfo": {
     "elapsed": 4771,
     "status": "ok",
     "timestamp": 1630341582586,
     "user": {
      "displayName": "Guillermo Alvarez",
      "photoUrl": "https://lh3.googleusercontent.com/a-/AOh14Gi4MJ5uKYvY1e5EaqLlCjXltYoRVdIvWQlwfeuiMg=s64",
      "userId": "16485611103779428118"
     },
     "user_tz": -120
    },
    "id": "-CE-XCItcOnA"
   },
   "outputs": [],
   "source": [
    "(x_train, y_train), (x_test, y_test) = imdb.load_data(num_words=vocabulary_size)"
   ]
  },
  {
   "cell_type": "markdown",
   "metadata": {
    "id": "O_B32mTXpO74"
   },
   "source": []
  },
  {
   "cell_type": "code",
   "execution_count": 4,
   "metadata": {
    "colab": {
     "base_uri": "https://localhost:8080/"
    },
    "executionInfo": {
     "elapsed": 20,
     "status": "ok",
     "timestamp": 1630341582586,
     "user": {
      "displayName": "Guillermo Alvarez",
      "photoUrl": "https://lh3.googleusercontent.com/a-/AOh14Gi4MJ5uKYvY1e5EaqLlCjXltYoRVdIvWQlwfeuiMg=s64",
      "userId": "16485611103779428118"
     },
     "user_tz": -120
    },
    "id": "K_H57UmZclaO",
    "outputId": "5dd5bc52-19e5-45c5-877f-3a07c9b774de"
   },
   "outputs": [
    {
     "name": "stdout",
     "output_type": "stream",
     "text": [
      "Size train 25000\n",
      "Size test 25000\n"
     ]
    }
   ],
   "source": [
    "print('Size train', x_train.size)\n",
    "print('Size test', x_test.size)"
   ]
  },
  {
   "cell_type": "code",
   "execution_count": 5,
   "metadata": {
    "colab": {
     "base_uri": "https://localhost:8080/"
    },
    "executionInfo": {
     "elapsed": 18,
     "status": "ok",
     "timestamp": 1630341582587,
     "user": {
      "displayName": "Guillermo Alvarez",
      "photoUrl": "https://lh3.googleusercontent.com/a-/AOh14Gi4MJ5uKYvY1e5EaqLlCjXltYoRVdIvWQlwfeuiMg=s64",
      "userId": "16485611103779428118"
     },
     "user_tz": -120
    },
    "id": "T8h2eFENdJN0",
    "outputId": "5c9b0be6-ef36-47ec-fc31-50abc9d4eb4a"
   },
   "outputs": [
    {
     "name": "stdout",
     "output_type": "stream",
     "text": [
      "[1, 14, 22, 16, 43, 530, 973, 1622, 1385, 65, 458, 4468, 66, 3941, 4, 173, 36, 256, 5, 25, 100, 43, 838, 112, 50, 670, 2, 9, 35, 480, 284, 5, 150, 4, 172, 112, 167, 2, 336, 385, 39, 4, 172, 4536, 1111, 17, 546, 38, 13, 447, 4, 192, 50, 16, 6, 147, 2025, 19, 14, 22, 4, 1920, 4613, 469, 4, 22, 71, 87, 12, 16, 43, 530, 38, 76, 15, 13, 1247, 4, 22, 17, 515, 17, 12, 16, 626, 18, 2, 5, 62, 386, 12, 8, 316, 8, 106, 5, 4, 2223, 5244, 16, 480, 66, 3785, 33, 4, 130, 12, 16, 38, 619, 5, 25, 124, 51, 36, 135, 48, 25, 1415, 33, 6, 22, 12, 215, 28, 77, 52, 5, 14, 407, 16, 82, 2, 8, 4, 107, 117, 5952, 15, 256, 4, 2, 7, 3766, 5, 723, 36, 71, 43, 530, 476, 26, 400, 317, 46, 7, 4, 2, 1029, 13, 104, 88, 4, 381, 15, 297, 98, 32, 2071, 56, 26, 141, 6, 194, 7486, 18, 4, 226, 22, 21, 134, 476, 26, 480, 5, 144, 30, 5535, 18, 51, 36, 28, 224, 92, 25, 104, 4, 226, 65, 16, 38, 1334, 88, 12, 16, 283, 5, 16, 4472, 113, 103, 32, 15, 16, 5345, 19, 178, 32]\n"
     ]
    }
   ],
   "source": [
    "# Cada uno de los elementos en x_train y x_test son una review\n",
    "# Si imprimimos una cualquiera veremos que no son mas que enteros\n",
    "print(x_train[0]) "
   ]
  },
  {
   "cell_type": "code",
   "execution_count": 6,
   "metadata": {
    "executionInfo": {
     "elapsed": 17,
     "status": "ok",
     "timestamp": 1630341582588,
     "user": {
      "displayName": "Guillermo Alvarez",
      "photoUrl": "https://lh3.googleusercontent.com/a-/AOh14Gi4MJ5uKYvY1e5EaqLlCjXltYoRVdIvWQlwfeuiMg=s64",
      "userId": "16485611103779428118"
     },
     "user_tz": -120
    },
    "id": "uOIsmJVscxun"
   },
   "outputs": [],
   "source": [
    "# Para redistribuir el dataset de train y test concatenamos todos los datos\n",
    "# Y lo mismo con las etiquetas\n",
    "datos = np.concatenate((x_train, x_test), axis=0)\n",
    "etiquetas = np.concatenate((y_train, y_test), axis=0)"
   ]
  },
  {
   "cell_type": "code",
   "execution_count": 7,
   "metadata": {
    "colab": {
     "base_uri": "https://localhost:8080/"
    },
    "executionInfo": {
     "elapsed": 16,
     "status": "ok",
     "timestamp": 1630341582588,
     "user": {
      "displayName": "Guillermo Alvarez",
      "photoUrl": "https://lh3.googleusercontent.com/a-/AOh14Gi4MJ5uKYvY1e5EaqLlCjXltYoRVdIvWQlwfeuiMg=s64",
      "userId": "16485611103779428118"
     },
     "user_tz": -120
    },
    "id": "nRSy4dKAc83j",
    "outputId": "7788b58b-ae05-401d-d944-13cbef44001e"
   },
   "outputs": [
    {
     "name": "stdout",
     "output_type": "stream",
     "text": [
      "[0 1]\n"
     ]
    }
   ],
   "source": [
    "# Podemos ver que valores tienen estas etiquetas\n",
    "print(np.unique(etiquetas))\n",
    "# Como vemos solo contiene 1's y 0's ya que solo queremos clasificar en positivo\n",
    "# o negativo"
   ]
  },
  {
   "cell_type": "code",
   "execution_count": 8,
   "metadata": {
    "colab": {
     "base_uri": "https://localhost:8080/"
    },
    "executionInfo": {
     "elapsed": 1647,
     "status": "ok",
     "timestamp": 1630341584221,
     "user": {
      "displayName": "Guillermo Alvarez",
      "photoUrl": "https://lh3.googleusercontent.com/a-/AOh14Gi4MJ5uKYvY1e5EaqLlCjXltYoRVdIvWQlwfeuiMg=s64",
      "userId": "16485611103779428118"
     },
     "user_tz": -120
    },
    "id": "FK26VdV-d85l",
    "outputId": "816b7190-fed7-4282-d6c9-9aede08bbd94"
   },
   "outputs": [
    {
     "name": "stdout",
     "output_type": "stream",
     "text": [
      "Palabras unicas: 9998\n"
     ]
    }
   ],
   "source": [
    "# Parece que IMDB se reserva 2 posiciones, la 0 y la 3, por eso hay 2 palabras menos\n",
    "print(\"Palabras unicas:\", len(np.unique(np.hstack(datos))))"
   ]
  },
  {
   "cell_type": "code",
   "execution_count": 9,
   "metadata": {
    "colab": {
     "base_uri": "https://localhost:8080/"
    },
    "executionInfo": {
     "elapsed": 13,
     "status": "ok",
     "timestamp": 1630341584222,
     "user": {
      "displayName": "Guillermo Alvarez",
      "photoUrl": "https://lh3.googleusercontent.com/a-/AOh14Gi4MJ5uKYvY1e5EaqLlCjXltYoRVdIvWQlwfeuiMg=s64",
      "userId": "16485611103779428118"
     },
     "user_tz": -120
    },
    "id": "P4jAFADpnPQs",
    "outputId": "b9780a38-afb4-44c9-a6f4-68645e7a9104"
   },
   "outputs": [
    {
     "name": "stdout",
     "output_type": "stream",
     "text": [
      "Longitud media de las frases: 234.75892\n",
      "Desviacion std en las longitudes: 172.91149458735703\n"
     ]
    }
   ],
   "source": [
    "# Podemos trabajar ahora con las frases como si fueran un vector normal\n",
    "\n",
    "longitudes = [len(i) for i in datos]\n",
    "\n",
    "print(\"Longitud media de las frases:\", np.mean(longitudes))\n",
    "print(\"Desviacion std en las longitudes:\", np.std(longitudes))"
   ]
  },
  {
   "cell_type": "code",
   "execution_count": 10,
   "metadata": {
    "colab": {
     "base_uri": "https://localhost:8080/"
    },
    "executionInfo": {
     "elapsed": 11,
     "status": "ok",
     "timestamp": 1630341584222,
     "user": {
      "displayName": "Guillermo Alvarez",
      "photoUrl": "https://lh3.googleusercontent.com/a-/AOh14Gi4MJ5uKYvY1e5EaqLlCjXltYoRVdIvWQlwfeuiMg=s64",
      "userId": "16485611103779428118"
     },
     "user_tz": -120
    },
    "id": "Px8SHn5VzQ9K",
    "outputId": "2633c118-bef7-4590-d389-4b7841b1f250"
   },
   "outputs": [
    {
     "name": "stdout",
     "output_type": "stream",
     "text": [
      "Etiqueta de review 0: 1\n",
      "Review 0: [1, 14, 22, 16, 43, 530, 973, 1622, 1385, 65, 458, 4468, 66, 3941, 4, 173, 36, 256, 5, 25, 100, 43, 838, 112, 50, 670, 2, 9, 35, 480, 284, 5, 150, 4, 172, 112, 167, 2, 336, 385, 39, 4, 172, 4536, 1111, 17, 546, 38, 13, 447, 4, 192, 50, 16, 6, 147, 2025, 19, 14, 22, 4, 1920, 4613, 469, 4, 22, 71, 87, 12, 16, 43, 530, 38, 76, 15, 13, 1247, 4, 22, 17, 515, 17, 12, 16, 626, 18, 2, 5, 62, 386, 12, 8, 316, 8, 106, 5, 4, 2223, 5244, 16, 480, 66, 3785, 33, 4, 130, 12, 16, 38, 619, 5, 25, 124, 51, 36, 135, 48, 25, 1415, 33, 6, 22, 12, 215, 28, 77, 52, 5, 14, 407, 16, 82, 2, 8, 4, 107, 117, 5952, 15, 256, 4, 2, 7, 3766, 5, 723, 36, 71, 43, 530, 476, 26, 400, 317, 46, 7, 4, 2, 1029, 13, 104, 88, 4, 381, 15, 297, 98, 32, 2071, 56, 26, 141, 6, 194, 7486, 18, 4, 226, 22, 21, 134, 476, 26, 480, 5, 144, 30, 5535, 18, 51, 36, 28, 224, 92, 25, 104, 4, 226, 65, 16, 38, 1334, 88, 12, 16, 283, 5, 16, 4472, 113, 103, 32, 15, 16, 5345, 19, 178, 32]\n"
     ]
    }
   ],
   "source": [
    "# Podemos ver tambien la etiqueta y el texto decodificado de alguna review\n",
    "print(\"Etiqueta de review 0:\", etiquetas[0])\n",
    "print(\"Review 0:\", datos[0])"
   ]
  },
  {
   "cell_type": "code",
   "execution_count": 11,
   "metadata": {
    "executionInfo": {
     "elapsed": 9,
     "status": "ok",
     "timestamp": 1630341584223,
     "user": {
      "displayName": "Guillermo Alvarez",
      "photoUrl": "https://lh3.googleusercontent.com/a-/AOh14Gi4MJ5uKYvY1e5EaqLlCjXltYoRVdIvWQlwfeuiMg=s64",
      "userId": "16485611103779428118"
     },
     "user_tz": -120
    },
    "id": "7mQIbxgYzroE"
   },
   "outputs": [],
   "source": [
    "# Como vemos las reviews ahora no son mas que los indices de las palabras que\n",
    "# los componen\n",
    "indices = imdb.get_word_index()\n",
    "# Ahora tenemos un diccionario donde las keys son las palabras y el value los\n",
    "# indices, necesitamos hacer el reverso\n",
    "reverse_index = dict([(valor, clave) for (clave, valor) in indices.items()])"
   ]
  },
  {
   "cell_type": "code",
   "execution_count": 12,
   "metadata": {
    "colab": {
     "base_uri": "https://localhost:8080/"
    },
    "executionInfo": {
     "elapsed": 9,
     "status": "ok",
     "timestamp": 1630341584223,
     "user": {
      "displayName": "Guillermo Alvarez",
      "photoUrl": "https://lh3.googleusercontent.com/a-/AOh14Gi4MJ5uKYvY1e5EaqLlCjXltYoRVdIvWQlwfeuiMg=s64",
      "userId": "16485611103779428118"
     },
     "user_tz": -120
    },
    "id": "ycyErvMr0Jup",
    "outputId": "512a824a-4a6d-4999-d02b-63876d7b783f"
   },
   "outputs": [
    {
     "name": "stdout",
     "output_type": "stream",
     "text": [
      "\n",
      " this film was just brilliant casting location scenery story direction everyone's really suited the part they played and you could just imagine being there robert \n",
      " is an amazing actor and now the same being director \n",
      " father came from the same scottish island as myself so i loved the fact there was a real connection with this film the witty remarks throughout the film were great it was just brilliant so much that i bought the film as soon as it was released for \n",
      " and would recommend it to everyone to watch and the fly fishing was amazing really cried at the end it was so sad and you know what they say if you cry at a film it must have been good and this definitely was also \n",
      " to the two little boy's that played the \n",
      " of norman and paul they were just brilliant children are often left out of the \n",
      " list i think because the stars that play them all grown up are such a big profile for the whole film but these children are amazing and should be praised for what they have done don't you think the whole story was so lovely because it was true and was someone's life after all that was shared with us all\n"
     ]
    }
   ],
   "source": [
    "review = datos[0]\n",
    "review_decodificada = ' '.join([reverse_index.get(i-3, \"\\n\") for i in review])\n",
    "print(review_decodificada)"
   ]
  },
  {
   "cell_type": "code",
   "execution_count": 13,
   "metadata": {
    "executionInfo": {
     "elapsed": 7,
     "status": "ok",
     "timestamp": 1630341584224,
     "user": {
      "displayName": "Guillermo Alvarez",
      "photoUrl": "https://lh3.googleusercontent.com/a-/AOh14Gi4MJ5uKYvY1e5EaqLlCjXltYoRVdIvWQlwfeuiMg=s64",
      "userId": "16485611103779428118"
     },
     "user_tz": -120
    },
    "id": "ojs-GOyA0MMt"
   },
   "outputs": [],
   "source": [
    "from tensorflow.keras.preprocessing import sequence"
   ]
  },
  {
   "cell_type": "code",
   "execution_count": 14,
   "metadata": {
    "executionInfo": {
     "elapsed": 1989,
     "status": "ok",
     "timestamp": 1630341586206,
     "user": {
      "displayName": "Guillermo Alvarez",
      "photoUrl": "https://lh3.googleusercontent.com/a-/AOh14Gi4MJ5uKYvY1e5EaqLlCjXltYoRVdIvWQlwfeuiMg=s64",
      "userId": "16485611103779428118"
     },
     "user_tz": -120
    },
    "id": "pf78Kx--zxSL"
   },
   "outputs": [],
   "source": [
    "datos = sequence.pad_sequences(datos, maxlen=vocabulary_size)\n",
    "etiquetas = np.array(etiquetas).astype(\"float32\")"
   ]
  },
  {
   "cell_type": "code",
   "execution_count": 15,
   "metadata": {
    "colab": {
     "base_uri": "https://localhost:8080/"
    },
    "executionInfo": {
     "elapsed": 11,
     "status": "ok",
     "timestamp": 1630341586209,
     "user": {
      "displayName": "Guillermo Alvarez",
      "photoUrl": "https://lh3.googleusercontent.com/a-/AOh14Gi4MJ5uKYvY1e5EaqLlCjXltYoRVdIvWQlwfeuiMg=s64",
      "userId": "16485611103779428118"
     },
     "user_tz": -120
    },
    "id": "AGxAoX650K55",
    "outputId": "057cbdf6-f1a3-4f2b-ada2-1909ef3efb66"
   },
   "outputs": [
    {
     "name": "stdout",
     "output_type": "stream",
     "text": [
      "Longitud media: 10000.0\n",
      "Desviacion std: 0.0\n"
     ]
    }
   ],
   "source": [
    "longitud = [len(i) for i in datos]\n",
    "\n",
    "print(\"Longitud media:\", np.mean(longitud))\n",
    "print(\"Desviacion std:\", np.std(longitud))"
   ]
  },
  {
   "cell_type": "code",
   "execution_count": 16,
   "metadata": {
    "colab": {
     "base_uri": "https://localhost:8080/"
    },
    "executionInfo": {
     "elapsed": 8,
     "status": "ok",
     "timestamp": 1630341586210,
     "user": {
      "displayName": "Guillermo Alvarez",
      "photoUrl": "https://lh3.googleusercontent.com/a-/AOh14Gi4MJ5uKYvY1e5EaqLlCjXltYoRVdIvWQlwfeuiMg=s64",
      "userId": "16485611103779428118"
     },
     "user_tz": -120
    },
    "id": "aqUqzIqK1YtC",
    "outputId": "9f96d96e-6845-4366-c3e7-0c15aabb7c76"
   },
   "outputs": [
    {
     "name": "stdout",
     "output_type": "stream",
     "text": [
      "[  0   0   0 ...  19 178  32]\n"
     ]
    }
   ],
   "source": [
    "# Los ceros se añaden al principio para que la red no vaya perdiendo memoria\n",
    "print(datos[0])"
   ]
  },
  {
   "cell_type": "code",
   "execution_count": 17,
   "metadata": {
    "executionInfo": {
     "elapsed": 7,
     "status": "ok",
     "timestamp": 1630341586211,
     "user": {
      "displayName": "Guillermo Alvarez",
      "photoUrl": "https://lh3.googleusercontent.com/a-/AOh14Gi4MJ5uKYvY1e5EaqLlCjXltYoRVdIvWQlwfeuiMg=s64",
      "userId": "16485611103779428118"
     },
     "user_tz": -120
    },
    "id": "LJJsUrnj-yT9"
   },
   "outputs": [],
   "source": [
    "x_val = datos[-10000:]\n",
    "y_val = etiquetas[-10000:]\n",
    "\n",
    "x_train = datos[:-10000]\n",
    "y_train = etiquetas[:-10000]"
   ]
  },
  {
   "cell_type": "code",
   "execution_count": 18,
   "metadata": {
    "executionInfo": {
     "elapsed": 1296,
     "status": "ok",
     "timestamp": 1630341587500,
     "user": {
      "displayName": "Guillermo Alvarez",
      "photoUrl": "https://lh3.googleusercontent.com/a-/AOh14Gi4MJ5uKYvY1e5EaqLlCjXltYoRVdIvWQlwfeuiMg=s64",
      "userId": "16485611103779428118"
     },
     "user_tz": -120
    },
    "id": "hPSNLQiP_FPc"
   },
   "outputs": [],
   "source": [
    "model = ks.Sequential()\n",
    "\n",
    "# Empezamos con el embedding\n",
    "model.add(ks.layers.Embedding(vocabulary_size, output_dim=32, input_length=vocabulary_size))\n",
    "\n",
    "# Agregamos una RNN (LSTM)\n",
    "model.add(ks.layers.LSTM(100))\n",
    "model.add(ks.layers.Dense(32, activation='relu', kernel_initializer='he_uniform'))\n",
    "model.add(ks.layers.Dropout(0.5))\n",
    "model.add(ks.layers.Dense(1, activation='sigmoid'))"
   ]
  },
  {
   "cell_type": "code",
   "execution_count": 19,
   "metadata": {
    "colab": {
     "base_uri": "https://localhost:8080/"
    },
    "executionInfo": {
     "elapsed": 13,
     "status": "ok",
     "timestamp": 1630341587501,
     "user": {
      "displayName": "Guillermo Alvarez",
      "photoUrl": "https://lh3.googleusercontent.com/a-/AOh14Gi4MJ5uKYvY1e5EaqLlCjXltYoRVdIvWQlwfeuiMg=s64",
      "userId": "16485611103779428118"
     },
     "user_tz": -120
    },
    "id": "8nQJOV7QECaa",
    "outputId": "218aed7e-09e7-4ef9-f78b-65692b245237"
   },
   "outputs": [
    {
     "name": "stdout",
     "output_type": "stream",
     "text": [
      "Model: \"sequential\"\n",
      "_________________________________________________________________\n",
      "Layer (type)                 Output Shape              Param #   \n",
      "=================================================================\n",
      "embedding (Embedding)        (None, 10000, 32)         320000    \n",
      "_________________________________________________________________\n",
      "lstm (LSTM)                  (None, 100)               53200     \n",
      "_________________________________________________________________\n",
      "dense (Dense)                (None, 32)                3232      \n",
      "_________________________________________________________________\n",
      "dropout (Dropout)            (None, 32)                0         \n",
      "_________________________________________________________________\n",
      "dense_1 (Dense)              (None, 1)                 33        \n",
      "=================================================================\n",
      "Total params: 376,465\n",
      "Trainable params: 376,465\n",
      "Non-trainable params: 0\n",
      "_________________________________________________________________\n"
     ]
    }
   ],
   "source": [
    "model.summary()"
   ]
  },
  {
   "cell_type": "code",
   "execution_count": 20,
   "metadata": {
    "executionInfo": {
     "elapsed": 9,
     "status": "ok",
     "timestamp": 1630341587502,
     "user": {
      "displayName": "Guillermo Alvarez",
      "photoUrl": "https://lh3.googleusercontent.com/a-/AOh14Gi4MJ5uKYvY1e5EaqLlCjXltYoRVdIvWQlwfeuiMg=s64",
      "userId": "16485611103779428118"
     },
     "user_tz": -120
    },
    "id": "INw01G7OEEGM"
   },
   "outputs": [],
   "source": [
    "from tensorflow.keras.callbacks import EarlyStopping\n",
    "\n",
    "callback = EarlyStopping(monitor='val_loss', patience=5)"
   ]
  },
  {
   "cell_type": "code",
   "execution_count": 21,
   "metadata": {
    "executionInfo": {
     "elapsed": 8,
     "status": "ok",
     "timestamp": 1630341587502,
     "user": {
      "displayName": "Guillermo Alvarez",
      "photoUrl": "https://lh3.googleusercontent.com/a-/AOh14Gi4MJ5uKYvY1e5EaqLlCjXltYoRVdIvWQlwfeuiMg=s64",
      "userId": "16485611103779428118"
     },
     "user_tz": -120
    },
    "id": "2ApYD2E5Fbar"
   },
   "outputs": [],
   "source": [
    "model.compile(loss='binary_crossentropy', optimizer='Adam', metrics=['accuracy'])"
   ]
  },
  {
   "cell_type": "code",
   "execution_count": null,
   "metadata": {
    "colab": {
     "base_uri": "https://localhost:8080/"
    },
    "id": "9Tr7Dit7Ftxd",
    "outputId": "0a89f9df-061f-477f-f50f-8525430dae9f"
   },
   "outputs": [
    {
     "name": "stdout",
     "output_type": "stream",
     "text": [
      "Epoch 1/20\n",
      "313/313 [==============================] - 462s 1s/step - loss: 0.4892 - accuracy: 0.7621 - val_loss: 0.2945 - val_accuracy: 0.8804\n",
      "Epoch 2/20\n",
      "313/313 [==============================] - 457s 1s/step - loss: 0.2646 - accuracy: 0.9002 - val_loss: 0.3120 - val_accuracy: 0.8760\n",
      "Epoch 3/20\n",
      "313/313 [==============================] - 457s 1s/step - loss: 0.2148 - accuracy: 0.9208 - val_loss: 0.2801 - val_accuracy: 0.8944\n",
      "Epoch 4/20\n",
      " 61/313 [====>.........................] - ETA: 5:39 - loss: 0.1522 - accuracy: 0.9481"
     ]
    }
   ],
   "source": [
    "# Si ponemos un batch size demasiado grande (512) fallará\n",
    "history = model.fit(x_train, y_train, epochs=20, validation_data=(x_val, y_val),\n",
    "                    batch_size=128, callbacks=[callback]) "
   ]
  },
  {
   "cell_type": "code",
   "execution_count": null,
   "metadata": {
    "id": "l-2qKqL8GKt_"
   },
   "outputs": [],
   "source": []
  }
 ],
 "metadata": {
  "accelerator": "GPU",
  "colab": {
   "authorship_tag": "ABX9TyNIk4/Uuhud+L1p34g2fTSo",
   "collapsed_sections": [],
   "name": "V-e-lstm-for-sentiment-analysis.ipynb",
   "provenance": []
  },
  "kernelspec": {
   "display_name": "Python 3",
   "language": "python",
   "name": "python3"
  },
  "language_info": {
   "codemirror_mode": {
    "name": "ipython",
    "version": 3
   },
   "file_extension": ".py",
   "mimetype": "text/x-python",
   "name": "python",
   "nbconvert_exporter": "python",
   "pygments_lexer": "ipython3",
   "version": "3.8.10"
  },
  "nbTranslate": {
   "displayLangs": [
    "*"
   ],
   "hotkey": "alt-t",
   "langInMainMenu": true,
   "sourceLang": "en",
   "targetLang": "fr",
   "useGoogleTranslate": true
  },
  "toc": {
   "base_numbering": 1,
   "nav_menu": {},
   "number_sections": true,
   "sideBar": true,
   "skip_h1_title": true,
   "title_cell": "Table of Contents",
   "title_sidebar": "Contents",
   "toc_cell": true,
   "toc_position": {},
   "toc_section_display": true,
   "toc_window_display": false
  },
  "varInspector": {
   "cols": {
    "lenName": 16,
    "lenType": 16,
    "lenVar": 40
   },
   "kernels_config": {
    "python": {
     "delete_cmd_postfix": "",
     "delete_cmd_prefix": "del ",
     "library": "var_list.py",
     "varRefreshCmd": "print(var_dic_list())"
    },
    "r": {
     "delete_cmd_postfix": ") ",
     "delete_cmd_prefix": "rm(",
     "library": "var_list.r",
     "varRefreshCmd": "cat(var_dic_list()) "
    }
   },
   "types_to_exclude": [
    "module",
    "function",
    "builtin_function_or_method",
    "instance",
    "_Feature"
   ],
   "window_display": false
  }
 },
 "nbformat": 4,
 "nbformat_minor": 1
}
