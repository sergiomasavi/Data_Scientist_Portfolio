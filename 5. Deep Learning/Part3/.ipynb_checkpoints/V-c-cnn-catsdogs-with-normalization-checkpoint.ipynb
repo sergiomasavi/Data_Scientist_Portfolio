{
 "cells": [
  {
   "cell_type": "markdown",
   "metadata": {},
   "source": [
    "<img src=\"Tarjeta.png\">"
   ]
  },
  {
   "cell_type": "markdown",
   "metadata": {
    "toc": true
   },
   "source": [
    "<h1>Table of Contents<span class=\"tocSkip\"></span></h1>\n",
    "<div class=\"toc\"><ul class=\"toc-item\"><li><span><a href=\"#1.-Conectemonos-a-Google-Drive-y-preparemos-los-datos\" data-toc-modified-id=\"1.-Conectemonos-a-Google-Drive-y-preparemos-los-datos-1\"><span class=\"toc-item-num\">1&nbsp;&nbsp;</span>1. Conectemonos a Google Drive y preparemos los datos</a></span></li><li><span><a href=\"#2.-Librerias\" data-toc-modified-id=\"2.-Librerias-2\"><span class=\"toc-item-num\">2&nbsp;&nbsp;</span>2. Librerias</a></span></li><li><span><a href=\"#3.-Definimos-algunas-constantes\" data-toc-modified-id=\"3.-Definimos-algunas-constantes-3\"><span class=\"toc-item-num\">3&nbsp;&nbsp;</span>3. Definimos algunas constantes</a></span></li><li><span><a href=\"#4.-Preparamos-los-datos-de-entrenamiento\" data-toc-modified-id=\"4.-Preparamos-los-datos-de-entrenamiento-4\"><span class=\"toc-item-num\">4&nbsp;&nbsp;</span>4. Preparamos los datos de entrenamiento</a></span></li><li><span><a href=\"#5.-Exploremos-los-datos\" data-toc-modified-id=\"5.-Exploremos-los-datos-5\"><span class=\"toc-item-num\">5&nbsp;&nbsp;</span>5. Exploremos los datos</a></span></li><li><span><a href=\"#6.-Pintemos-una-imagen\" data-toc-modified-id=\"6.-Pintemos-una-imagen-6\"><span class=\"toc-item-num\">6&nbsp;&nbsp;</span>6. Pintemos una imagen</a></span></li><li><span><a href=\"#7.-Apilemos-bloques-para-hacer-el-modelo\" data-toc-modified-id=\"7.-Apilemos-bloques-para-hacer-el-modelo-7\"><span class=\"toc-item-num\">7&nbsp;&nbsp;</span>7. Apilemos bloques para hacer el modelo</a></span></li><li><span><a href=\"#8.-Montemos-el-optimizador-compilando-el-modelo\" data-toc-modified-id=\"8.-Montemos-el-optimizador-compilando-el-modelo-8\"><span class=\"toc-item-num\">8&nbsp;&nbsp;</span>8. Montemos el optimizador compilando el modelo</a></span></li><li><span><a href=\"#9.-Definamos-un-callback-para-el-Early-Stopping\" data-toc-modified-id=\"9.-Definamos-un-callback-para-el-Early-Stopping-9\"><span class=\"toc-item-num\">9&nbsp;&nbsp;</span>9. Definamos un callback para el Early Stopping</a></span></li><li><span><a href=\"#10.-Preparamos-los-datos\" data-toc-modified-id=\"10.-Preparamos-los-datos-10\"><span class=\"toc-item-num\">10&nbsp;&nbsp;</span>10. Preparamos los datos</a></span></li><li><span><a href=\"#11.-Transformador-de-imagenes-a-datos-consumibles-por-la-red-neuronal\" data-toc-modified-id=\"11.-Transformador-de-imagenes-a-datos-consumibles-por-la-red-neuronal-11\"><span class=\"toc-item-num\">11&nbsp;&nbsp;</span>11. Transformador de imagenes a datos consumibles por la red neuronal</a></span></li><li><span><a href=\"#12.-Veamos-que-pinta-tiene-el-generador-de-datos\" data-toc-modified-id=\"12.-Veamos-que-pinta-tiene-el-generador-de-datos-12\"><span class=\"toc-item-num\">12&nbsp;&nbsp;</span>12. Veamos que pinta tiene el generador de datos</a></span></li><li><span><a href=\"#13.-Entrenemos-el-modelo!\" data-toc-modified-id=\"13.-Entrenemos-el-modelo!-13\"><span class=\"toc-item-num\">13&nbsp;&nbsp;</span>13. Entrenemos el modelo!</a></span></li><li><span><a href=\"#14.-Guardemos-el-modelo\" data-toc-modified-id=\"14.-Guardemos-el-modelo-14\"><span class=\"toc-item-num\">14&nbsp;&nbsp;</span>14. Guardemos el modelo</a></span></li><li><span><a href=\"#15.-Veamos-los-resultados\" data-toc-modified-id=\"15.-Veamos-los-resultados-15\"><span class=\"toc-item-num\">15&nbsp;&nbsp;</span>15. Veamos los resultados</a></span></li></ul></div>"
   ]
  },
  {
   "cell_type": "markdown",
   "metadata": {
    "id": "kswWzeShIMiq"
   },
   "source": [
    "## 1. Conectemonos a Google Drive y preparemos los datos\n",
    "\n",
    "Los datos los podeis encontrar en esta URL de Google Drive\n",
    "https://drive.google.com/open?id=1cCjzuanxmL15vz0xVt1BsFL1tBZZD0ox\n",
    "\n",
    "Movedlos a vuestro Drive!!"
   ]
  },
  {
   "cell_type": "code",
   "execution_count": 1,
   "metadata": {
    "colab": {
     "base_uri": "https://localhost:8080/"
    },
    "executionInfo": {
     "elapsed": 25885,
     "status": "ok",
     "timestamp": 1630170802997,
     "user": {
      "displayName": "Guillermo Alvarez",
      "photoUrl": "https://lh3.googleusercontent.com/a-/AOh14Gi4MJ5uKYvY1e5EaqLlCjXltYoRVdIvWQlwfeuiMg=s64",
      "userId": "16485611103779428118"
     },
     "user_tz": -120
    },
    "id": "P12a4C2vzZL4",
    "outputId": "bb0a700f-add8-465d-8f34-f1bc455ab9a5"
   },
   "outputs": [
    {
     "name": "stdout",
     "output_type": "stream",
     "text": [
      "Mounted at /content/drive\n"
     ]
    }
   ],
   "source": [
    "from google.colab import drive\n",
    "drive.mount('/content/drive')"
   ]
  },
  {
   "cell_type": "markdown",
   "metadata": {
    "id": "ZIVsM2ZsIMiw"
   },
   "source": [
    "## 2. Librerias\n",
    "\n",
    "Para empezar carguemos esas librerias que nos hacen falta"
   ]
  },
  {
   "cell_type": "code",
   "execution_count": 4,
   "metadata": {
    "executionInfo": {
     "elapsed": 284,
     "status": "ok",
     "timestamp": 1630170917078,
     "user": {
      "displayName": "Guillermo Alvarez",
      "photoUrl": "https://lh3.googleusercontent.com/a-/AOh14Gi4MJ5uKYvY1e5EaqLlCjXltYoRVdIvWQlwfeuiMg=s64",
      "userId": "16485611103779428118"
     },
     "user_tz": -120
    },
    "id": "tMmwJ-ZEoz3P"
   },
   "outputs": [],
   "source": [
    "import numpy as np\n",
    "import matplotlib.pyplot as plt\n",
    "import random\n",
    "import pandas as pd\n",
    "import os\n",
    "\n",
    "from tensorflow import keras as ks\n",
    "from tensorflow.keras.preprocessing.image import ImageDataGenerator, load_img\n",
    "from tensorflow.keras.utils import to_categorical\n",
    "from tensorflow.keras.callbacks import EarlyStopping\n",
    "from tensorflow.keras.regularizers import l2"
   ]
  },
  {
   "cell_type": "markdown",
   "metadata": {
    "id": "8LYPneYfoz3i"
   },
   "source": [
    "## 3. Definimos algunas constantes"
   ]
  },
  {
   "cell_type": "code",
   "execution_count": 5,
   "metadata": {
    "executionInfo": {
     "elapsed": 248,
     "status": "ok",
     "timestamp": 1630170922628,
     "user": {
      "displayName": "Guillermo Alvarez",
      "photoUrl": "https://lh3.googleusercontent.com/a-/AOh14Gi4MJ5uKYvY1e5EaqLlCjXltYoRVdIvWQlwfeuiMg=s64",
      "userId": "16485611103779428118"
     },
     "user_tz": -120
    },
    "id": "n1_noICIoz3j"
   },
   "outputs": [],
   "source": [
    "ANCHO_IMAGEN=150\n",
    "ALTURA_IMAGEN=150\n",
    "IMAGE_SIZE=(ANCHO_IMAGEN, ALTURA_IMAGEN)\n",
    "CANALES_IMAGENES=3\n",
    "ruta = '/content/drive/MyDrive/Nuclio/materiales/datasets/cats_dogs/'"
   ]
  },
  {
   "cell_type": "markdown",
   "metadata": {
    "id": "ex_xAKguoz3n"
   },
   "source": [
    "## 4. Preparamos los datos de entrenamiento\n",
    "\n",
    "Los cargaremos del formato NPZ que comentamos en la última clase, y que tenemos en el Drive\n",
    "\n"
   ]
  },
  {
   "cell_type": "code",
   "execution_count": 6,
   "metadata": {
    "executionInfo": {
     "elapsed": 23670,
     "status": "ok",
     "timestamp": 1630170948035,
     "user": {
      "displayName": "Guillermo Alvarez",
      "photoUrl": "https://lh3.googleusercontent.com/a-/AOh14Gi4MJ5uKYvY1e5EaqLlCjXltYoRVdIvWQlwfeuiMg=s64",
      "userId": "16485611103779428118"
     },
     "user_tz": -120
    },
    "id": "z-eYrcixoz3o"
   },
   "outputs": [],
   "source": [
    "dict_npz = np.load(ruta+'xy_train_img.npz')\n",
    "x_train_img = dict_npz['x']\n",
    "y_train_img = dict_npz['y']\n",
    "\n",
    "dict_npz = np.load(ruta+'xy_test_img.npz')\n",
    "x_test_img = dict_npz['x']\n",
    "y_test_img = dict_npz['y']\n",
    "\n",
    "dict_npz = np.load(ruta+'xy_val_img.npz')\n",
    "x_val_img = dict_npz['x']\n",
    "y_val_img = dict_npz['y']\n",
    "\n",
    "\n",
    "x_train_scaled = x_train_img / 255.\n",
    "x_test_scaled = x_test_img / 255.\n",
    "x_val_scaled = x_val_img / 255."
   ]
  },
  {
   "cell_type": "code",
   "execution_count": null,
   "metadata": {
    "id": "owVl2D5Voz3s"
   },
   "outputs": [],
   "source": [
    "print(\"Tamaño X train:\", x_train_scaled.shape)\n",
    "print(\"Tamaño Y train:\", y_train_img.shape)\n",
    "\n",
    "print(\"Tamaño X test:\", x_test_scaled.shape)\n",
    "print(\"Tamaño Y test:\", y_test_img.shape)\n",
    "\n",
    "print(\"Tamaño X val:\", x_val_scaled.shape)\n",
    "print(\"Tamaño Y val:\", y_val_img.shape)\n",
    "\n"
   ]
  },
  {
   "cell_type": "markdown",
   "metadata": {
    "id": "3eWnz7Uioz32"
   },
   "source": [
    "## 5. Exploremos los datos"
   ]
  },
  {
   "cell_type": "code",
   "execution_count": 7,
   "metadata": {
    "colab": {
     "base_uri": "https://localhost:8080/",
     "height": 291
    },
    "executionInfo": {
     "elapsed": 790,
     "status": "ok",
     "timestamp": 1630170948817,
     "user": {
      "displayName": "Guillermo Alvarez",
      "photoUrl": "https://lh3.googleusercontent.com/a-/AOh14Gi4MJ5uKYvY1e5EaqLlCjXltYoRVdIvWQlwfeuiMg=s64",
      "userId": "16485611103779428118"
     },
     "user_tz": -120
    },
    "id": "xvjKCJDYoz32",
    "outputId": "14dc97cd-2e46-4974-d161-f253ec4c50fa"
   },
   "outputs": [
    {
     "data": {
      "text/plain": [
       "<matplotlib.axes._subplots.AxesSubplot at 0x7f62914a3410>"
      ]
     },
     "execution_count": 7,
     "metadata": {},
     "output_type": "execute_result"
    },
    {
     "data": {
      "image/png": "[encoded data removed]",
      "text/plain": [
       "<Figure size 432x288 with 1 Axes>"
      ]
     },
     "metadata": {},
     "output_type": "display_data"
    }
   ],
   "source": [
    "df_train = pd.DataFrame(y_train_img, columns=['category'])\n",
    "df_train['category'].value_counts().plot.bar()"
   ]
  },
  {
   "cell_type": "markdown",
   "metadata": {
    "id": "Hqzssxq7oz37"
   },
   "source": [
    "Como podemos ver tenemos 1458 ejemplos de cada clase... poquito para ser una red neuronal para vision por computador... ya vereis..."
   ]
  },
  {
   "cell_type": "markdown",
   "metadata": {
    "id": "3-gXqKRzoz38"
   },
   "source": [
    "## 6. Pintemos una imagen"
   ]
  },
  {
   "cell_type": "code",
   "execution_count": 8,
   "metadata": {
    "colab": {
     "base_uri": "https://localhost:8080/",
     "height": 286
    },
    "executionInfo": {
     "elapsed": 12,
     "status": "ok",
     "timestamp": 1630170948817,
     "user": {
      "displayName": "Guillermo Alvarez",
      "photoUrl": "https://lh3.googleusercontent.com/a-/AOh14Gi4MJ5uKYvY1e5EaqLlCjXltYoRVdIvWQlwfeuiMg=s64",
      "userId": "16485611103779428118"
     },
     "user_tz": -120
    },
    "id": "2hwgI2aVoz39",
    "outputId": "9c112d7d-1d58-40dc-befe-0e79c13cca41"
   },
   "outputs": [
    {
     "data": {
      "text/plain": [
       "<matplotlib.image.AxesImage at 0x7f6290f5f710>"
      ]
     },
     "execution_count": 8,
     "metadata": {},
     "output_type": "execute_result"
    },
    {
     "data": {
      "image/png": "[encoded data removed]",
      "text/plain": [
       "<Figure size 432x288 with 1 Axes>"
      ]
     },
     "metadata": {},
     "output_type": "display_data"
    }
   ],
   "source": [
    "sample = random.choice(range(0,1457))\n",
    "image = x_train_scaled[sample]\n",
    "plt.imshow(image, cmap=plt.cm.binary)"
   ]
  },
  {
   "cell_type": "markdown",
   "metadata": {
    "id": "oCEFBfkWoz4B"
   },
   "source": [
    "## 7. Apilemos bloques para hacer el modelo\n",
    "\n",
    "<img src=\"https://i.imgur.com/ebkMGGu.jpg\" width=\"100%\"/>"
   ]
  },
  {
   "cell_type": "markdown",
   "metadata": {
    "id": "VGbXfyJJsrx-"
   },
   "source": []
  },
  {
   "cell_type": "code",
   "execution_count": 9,
   "metadata": {
    "colab": {
     "base_uri": "https://localhost:8080/"
    },
    "executionInfo": {
     "elapsed": 295,
     "status": "ok",
     "timestamp": 1630170949104,
     "user": {
      "displayName": "Guillermo Alvarez",
      "photoUrl": "https://lh3.googleusercontent.com/a-/AOh14Gi4MJ5uKYvY1e5EaqLlCjXltYoRVdIvWQlwfeuiMg=s64",
      "userId": "16485611103779428118"
     },
     "user_tz": -120
    },
    "id": "RwIlNswdoz4E",
    "outputId": "5cf13520-700a-49ff-85a8-e58cee73ccb1"
   },
   "outputs": [
    {
     "name": "stdout",
     "output_type": "stream",
     "text": [
      "Model: \"sequential\"\n",
      "_________________________________________________________________\n",
      "Layer (type)                 Output Shape              Param #   \n",
      "=================================================================\n",
      "conv2d (Conv2D)              (None, 148, 148, 16)      448       \n",
      "_________________________________________________________________\n",
      "batch_normalization (BatchNo (None, 148, 148, 16)      64        \n",
      "_________________________________________________________________\n",
      "max_pooling2d (MaxPooling2D) (None, 74, 74, 16)        0         \n",
      "_________________________________________________________________\n",
      "conv2d_1 (Conv2D)            (None, 72, 72, 64)        9280      \n",
      "_________________________________________________________________\n",
      "batch_normalization_1 (Batch (None, 72, 72, 64)        256       \n",
      "_________________________________________________________________\n",
      "max_pooling2d_1 (MaxPooling2 (None, 36, 36, 64)        0         \n",
      "_________________________________________________________________\n",
      "conv2d_2 (Conv2D)            (None, 34, 34, 128)       73856     \n",
      "_________________________________________________________________\n",
      "batch_normalization_2 (Batch (None, 34, 34, 128)       512       \n",
      "_________________________________________________________________\n",
      "max_pooling2d_2 (MaxPooling2 (None, 17, 17, 128)       0         \n",
      "_________________________________________________________________\n",
      "conv2d_3 (Conv2D)            (None, 15, 15, 128)       147584    \n",
      "_________________________________________________________________\n",
      "batch_normalization_3 (Batch (None, 15, 15, 128)       512       \n",
      "_________________________________________________________________\n",
      "max_pooling2d_3 (MaxPooling2 (None, 7, 7, 128)         0         \n",
      "_________________________________________________________________\n",
      "flatten (Flatten)            (None, 6272)              0         \n",
      "_________________________________________________________________\n",
      "dense (Dense)                (None, 512)               3211776   \n",
      "_________________________________________________________________\n",
      "batch_normalization_4 (Batch (None, 512)               2048      \n",
      "_________________________________________________________________\n",
      "dropout (Dropout)            (None, 512)               0         \n",
      "_________________________________________________________________\n",
      "dense_1 (Dense)              (None, 512)               262656    \n",
      "_________________________________________________________________\n",
      "batch_normalization_5 (Batch (None, 512)               2048      \n",
      "_________________________________________________________________\n",
      "dropout_1 (Dropout)          (None, 512)               0         \n",
      "_________________________________________________________________\n",
      "dense_2 (Dense)              (None, 1)                 513       \n",
      "=================================================================\n",
      "Total params: 3,711,553\n",
      "Trainable params: 3,708,833\n",
      "Non-trainable params: 2,720\n",
      "_________________________________________________________________\n"
     ]
    }
   ],
   "source": [
    "model = ks.Sequential()\n",
    "\n",
    "model.add(ks.layers.Conv2D(16, (3, 3), activation='relu', kernel_regularizer=l2(0.001),\n",
    "                           kernel_initializer='he_uniform', input_shape=(ANCHO_IMAGEN, ALTURA_IMAGEN, CANALES_IMAGENES)))\n",
    "model.add(ks.layers.BatchNormalization())\n",
    "model.add(ks.layers.MaxPooling2D(pool_size=(2, 2)))\n",
    "\n",
    "model.add(ks.layers.Conv2D(64, (3, 3), activation='relu', kernel_regularizer=l2(0.001), kernel_initializer='he_uniform'))\n",
    "model.add(ks.layers.BatchNormalization())\n",
    "model.add(ks.layers.MaxPooling2D(pool_size=(2, 2)))\n",
    "\n",
    "model.add(ks.layers.Conv2D(128, (3, 3), activation='relu', kernel_regularizer=l2(0.001), kernel_initializer='he_uniform'))\n",
    "model.add(ks.layers.BatchNormalization())\n",
    "model.add(ks.layers.MaxPooling2D(pool_size=(2, 2)))\n",
    "\n",
    "model.add(ks.layers.Conv2D(128, (3, 3), activation='relu', kernel_regularizer=l2(0.001), kernel_initializer='he_uniform'))\n",
    "model.add(ks.layers.BatchNormalization())\n",
    "model.add(ks.layers.MaxPooling2D(pool_size=(2, 2)))\n",
    "\n",
    "model.add(ks.layers.Flatten())\n",
    "model.add(ks.layers.Dense(512, activation='relu', kernel_regularizer=l2(0.001), kernel_initializer='he_uniform'))\n",
    "model.add(ks.layers.BatchNormalization())\n",
    "model.add(ks.layers.Dropout(0.3))\n",
    "model.add(ks.layers.Dense(512, activation='relu', kernel_regularizer=l2(0.001), kernel_initializer='he_uniform'))\n",
    "model.add(ks.layers.BatchNormalization())\n",
    "model.add(ks.layers.Dropout(0.3))\n",
    "model.add(ks.layers.Dense(1, activation='sigmoid')) # 1 de salida porque tenemos dos valores posibles 0 o 1 (tras aplicar un label encoder a dog y cat)\n",
    "\n",
    "model.summary()"
   ]
  },
  {
   "cell_type": "markdown",
   "metadata": {
    "id": "oUWzg0-hnesq"
   },
   "source": [
    "## 8. Montemos el optimizador compilando el modelo\n"
   ]
  },
  {
   "cell_type": "code",
   "execution_count": 10,
   "metadata": {
    "executionInfo": {
     "elapsed": 258,
     "status": "ok",
     "timestamp": 1630171039000,
     "user": {
      "displayName": "Guillermo Alvarez",
      "photoUrl": "https://lh3.googleusercontent.com/a-/AOh14Gi4MJ5uKYvY1e5EaqLlCjXltYoRVdIvWQlwfeuiMg=s64",
      "userId": "16485611103779428118"
     },
     "user_tz": -120
    },
    "id": "J3XFSpbcnd3M"
   },
   "outputs": [],
   "source": [
    "model.compile(loss='binary_crossentropy', optimizer='Adam', metrics=['accuracy'])"
   ]
  },
  {
   "cell_type": "markdown",
   "metadata": {
    "id": "FjqQRO0Voz4I"
   },
   "source": [
    "## 9. Definamos un callback para el Early Stopping"
   ]
  },
  {
   "cell_type": "markdown",
   "metadata": {
    "id": "kBF3ly91oz4P"
   },
   "source": [
    "**Early Stopping**\n",
    "\n",
    "Prevenimos el sobre ajuste parando cuando tras 10 epochs y el error de la validacion no decrementa (estamos en una plateau)"
   ]
  },
  {
   "cell_type": "code",
   "execution_count": 11,
   "metadata": {
    "executionInfo": {
     "elapsed": 302,
     "status": "ok",
     "timestamp": 1630171042501,
     "user": {
      "displayName": "Guillermo Alvarez",
      "photoUrl": "https://lh3.googleusercontent.com/a-/AOh14Gi4MJ5uKYvY1e5EaqLlCjXltYoRVdIvWQlwfeuiMg=s64",
      "userId": "16485611103779428118"
     },
     "user_tz": -120
    },
    "id": "tvAN5_48oz4Q"
   },
   "outputs": [],
   "source": [
    "callback_val_loss = EarlyStopping(monitor=\"val_loss\", patience=5)\n",
    "callback_val_accuracy = EarlyStopping(monitor=\"val_accuracy\", patience=10)"
   ]
  },
  {
   "cell_type": "markdown",
   "metadata": {
    "id": "YycSloTfoz4Z"
   },
   "source": [
    "## 10. Preparamos los datos"
   ]
  },
  {
   "cell_type": "markdown",
   "metadata": {
    "id": "wIE5IV7voz4a"
   },
   "source": [
    "Haremos un one-hote encoding que nos va a ir bien para nuestra clasificación"
   ]
  },
  {
   "cell_type": "code",
   "execution_count": 12,
   "metadata": {
    "colab": {
     "base_uri": "https://localhost:8080/"
    },
    "executionInfo": {
     "elapsed": 286,
     "status": "ok",
     "timestamp": 1630171045394,
     "user": {
      "displayName": "Guillermo Alvarez",
      "photoUrl": "https://lh3.googleusercontent.com/a-/AOh14Gi4MJ5uKYvY1e5EaqLlCjXltYoRVdIvWQlwfeuiMg=s64",
      "userId": "16485611103779428118"
     },
     "user_tz": -120
    },
    "id": "GpngtNKUxV3v",
    "outputId": "596398a9-57f7-46e6-ceef-0e9a2c4dbd03"
   },
   "outputs": [
    {
     "data": {
      "text/plain": [
       "array(['cat', 'cat', 'cat', ..., 'dog', 'dog', 'dog'], dtype='<U3')"
      ]
     },
     "execution_count": 12,
     "metadata": {},
     "output_type": "execute_result"
    }
   ],
   "source": [
    "y_train_img"
   ]
  },
  {
   "cell_type": "code",
   "execution_count": 13,
   "metadata": {
    "executionInfo": {
     "elapsed": 667,
     "status": "ok",
     "timestamp": 1630171048156,
     "user": {
      "displayName": "Guillermo Alvarez",
      "photoUrl": "https://lh3.googleusercontent.com/a-/AOh14Gi4MJ5uKYvY1e5EaqLlCjXltYoRVdIvWQlwfeuiMg=s64",
      "userId": "16485611103779428118"
     },
     "user_tz": -120
    },
    "id": "Q9darYNr97B1"
   },
   "outputs": [],
   "source": [
    "from sklearn.preprocessing import LabelEncoder\n",
    "\n",
    "le = LabelEncoder()\n",
    "le.fit(y_train_img)\n",
    "y_train_encoded = le.transform(y_train_img)\n",
    "y_val_encoded = le.transform(y_val_img)\n",
    "y_test_encoded = le.transform(y_test_img)"
   ]
  },
  {
   "cell_type": "code",
   "execution_count": 14,
   "metadata": {
    "colab": {
     "base_uri": "https://localhost:8080/"
    },
    "executionInfo": {
     "elapsed": 336,
     "status": "ok",
     "timestamp": 1630171050042,
     "user": {
      "displayName": "Guillermo Alvarez",
      "photoUrl": "https://lh3.googleusercontent.com/a-/AOh14Gi4MJ5uKYvY1e5EaqLlCjXltYoRVdIvWQlwfeuiMg=s64",
      "userId": "16485611103779428118"
     },
     "user_tz": -120
    },
    "id": "rnqC3rm--O0o",
    "outputId": "7f4fab36-9b2e-44f4-b67f-9dd227b644cf"
   },
   "outputs": [
    {
     "data": {
      "text/plain": [
       "array([0, 0, 0, ..., 1, 1, 1])"
      ]
     },
     "execution_count": 14,
     "metadata": {},
     "output_type": "execute_result"
    }
   ],
   "source": [
    "y_train_encoded"
   ]
  },
  {
   "cell_type": "markdown",
   "metadata": {
    "id": "DmgPnBdWoz4u"
   },
   "source": [
    "## 11. Transformador de imagenes a datos consumibles por la red neuronal\n",
    "\n",
    "**De entrenamiento**\n",
    "\n",
    "Aquí incluiremos nuestra parte de generación de imagenes (con código de partida)"
   ]
  },
  {
   "cell_type": "code",
   "execution_count": 15,
   "metadata": {
    "executionInfo": {
     "elapsed": 359,
     "status": "ok",
     "timestamp": 1630171051804,
     "user": {
      "displayName": "Guillermo Alvarez",
      "photoUrl": "https://lh3.googleusercontent.com/a-/AOh14Gi4MJ5uKYvY1e5EaqLlCjXltYoRVdIvWQlwfeuiMg=s64",
      "userId": "16485611103779428118"
     },
     "user_tz": -120
    },
    "id": "Nlxz_DO7oz4v"
   },
   "outputs": [],
   "source": [
    "train_datagen = ImageDataGenerator(\n",
    "    rescale=1./255,\n",
    "    )\n",
    "\n",
    "train_generator = train_datagen.flow(\n",
    "    x_train_img, \n",
    "    y_train_encoded, \n",
    "    batch_size=30\n",
    ")"
   ]
  },
  {
   "cell_type": "markdown",
   "metadata": {
    "id": "e7qjyLM-oz4y"
   },
   "source": [
    "**De validacion y de testeo**\n",
    "\n",
    "Fijaos que aquí la única modificación es un re-escalado, nada de modificaciones"
   ]
  },
  {
   "cell_type": "code",
   "execution_count": 16,
   "metadata": {
    "executionInfo": {
     "elapsed": 277,
     "status": "ok",
     "timestamp": 1630171055466,
     "user": {
      "displayName": "Guillermo Alvarez",
      "photoUrl": "https://lh3.googleusercontent.com/a-/AOh14Gi4MJ5uKYvY1e5EaqLlCjXltYoRVdIvWQlwfeuiMg=s64",
      "userId": "16485611103779428118"
     },
     "user_tz": -120
    },
    "id": "HpWcatHOoz4z"
   },
   "outputs": [],
   "source": [
    "validation_datagen = ImageDataGenerator(\n",
    "    rescale=1./255\n",
    "    )\n",
    "validation_generator = validation_datagen.flow(\n",
    "    x_val_img, \n",
    "    y_val_encoded, \n",
    "    batch_size=20\n",
    ")\n",
    "\n",
    "test_datagen = ImageDataGenerator(\n",
    "    rescale=1./255\n",
    "    )\n",
    "test_generator = test_datagen.flow(\n",
    "    x_test_img, \n",
    "    y_test_encoded,\n",
    "    batch_size=20\n",
    ")"
   ]
  },
  {
   "cell_type": "markdown",
   "metadata": {
    "id": "WRT9BikCoz4-"
   },
   "source": [
    "No tiene mala pinta!!"
   ]
  },
  {
   "cell_type": "markdown",
   "metadata": {
    "id": "oIEMYd471wV8"
   },
   "source": [
    "## 12. Veamos que pinta tiene el generador de datos\n",
    "\n",
    "A rellenar para ver que nos da el generadord de imagenes nuevas"
   ]
  },
  {
   "cell_type": "code",
   "execution_count": null,
   "metadata": {
    "id": "4v0izLCV1346"
   },
   "outputs": [],
   "source": []
  },
  {
   "cell_type": "code",
   "execution_count": null,
   "metadata": {
    "id": "XZsGvzQ213CL"
   },
   "outputs": [],
   "source": []
  },
  {
   "cell_type": "markdown",
   "metadata": {
    "id": "cT4ohS-ioz4_"
   },
   "source": [
    "## 13. Entrenemos el modelo!"
   ]
  },
  {
   "cell_type": "code",
   "execution_count": null,
   "metadata": {
    "colab": {
     "background_save": true,
     "base_uri": "https://localhost:8080/"
    },
    "id": "xgh5rr0doz5A"
   },
   "outputs": [
    {
     "name": "stdout",
     "output_type": "stream",
     "text": [
      "Epoch 1/200\n",
      "79/79 [==============================] - 202s 3s/step - loss: 3.4628 - accuracy: 0.6168 - val_loss: 3.8114 - val_accuracy: 0.5060\n",
      "Epoch 2/200\n",
      "79/79 [==============================] - 199s 3s/step - loss: 2.9819 - accuracy: 0.7238 - val_loss: 3.2828 - val_accuracy: 0.5290\n",
      "Epoch 3/200\n",
      "79/79 [==============================] - 200s 3s/step - loss: 2.6302 - accuracy: 0.7700 - val_loss: 2.8124 - val_accuracy: 0.5620\n",
      "Epoch 4/200\n",
      "79/79 [==============================] - 199s 3s/step - loss: 2.2436 - accuracy: 0.8152 - val_loss: 2.7252 - val_accuracy: 0.5510\n",
      "Epoch 5/200\n",
      "79/79 [==============================] - 196s 2s/step - loss: 2.0119 - accuracy: 0.8346 - val_loss: 2.2272 - val_accuracy: 0.6650\n",
      "Epoch 6/200\n",
      "79/79 [==============================] - 200s 3s/step - loss: 1.7495 - accuracy: 0.8684 - val_loss: 2.1326 - val_accuracy: 0.6330\n",
      "Epoch 7/200\n",
      "79/79 [==============================] - 201s 3s/step - loss: 1.5305 - accuracy: 0.9082 - val_loss: 1.8737 - val_accuracy: 0.7400\n",
      "Epoch 8/200\n",
      "79/79 [==============================] - 197s 2s/step - loss: 1.4815 - accuracy: 0.8952 - val_loss: 1.8629 - val_accuracy: 0.7180\n",
      "Epoch 9/200\n",
      "79/79 [==============================] - 193s 2s/step - loss: 1.3094 - accuracy: 0.9316 - val_loss: 1.6762 - val_accuracy: 0.7830\n",
      "Epoch 10/200\n",
      "79/79 [==============================] - 193s 2s/step - loss: 1.3032 - accuracy: 0.9182 - val_loss: 1.6232 - val_accuracy: 0.7900\n",
      "Epoch 11/200\n",
      "79/79 [==============================] - 192s 2s/step - loss: 1.2374 - accuracy: 0.9360 - val_loss: 1.6818 - val_accuracy: 0.8110\n",
      "Epoch 12/200\n",
      "79/79 [==============================] - 192s 2s/step - loss: 1.1728 - accuracy: 0.9432 - val_loss: 1.7689 - val_accuracy: 0.7270\n",
      "Epoch 13/200\n",
      "79/79 [==============================] - 192s 2s/step - loss: 1.2182 - accuracy: 0.9238 - val_loss: 1.5877 - val_accuracy: 0.7880\n",
      "Epoch 14/200\n",
      "79/79 [==============================] - 190s 2s/step - loss: 1.0439 - accuracy: 0.9660 - val_loss: 1.5897 - val_accuracy: 0.7730\n",
      "Epoch 15/200\n",
      "79/79 [==============================] - 192s 2s/step - loss: 0.9834 - accuracy: 0.9644 - val_loss: 1.4468 - val_accuracy: 0.7930\n",
      "Epoch 16/200\n",
      "79/79 [==============================] - 188s 2s/step - loss: 0.8847 - accuracy: 0.9786 - val_loss: 1.4968 - val_accuracy: 0.7870\n",
      "Epoch 17/200\n",
      "79/79 [==============================] - 192s 2s/step - loss: 0.8966 - accuracy: 0.9608 - val_loss: 1.6619 - val_accuracy: 0.7570\n",
      "Epoch 18/200\n",
      "79/79 [==============================] - 189s 2s/step - loss: 0.9001 - accuracy: 0.9622 - val_loss: 1.6988 - val_accuracy: 0.7530\n",
      "Epoch 19/200\n",
      "79/79 [==============================] - 190s 2s/step - loss: 0.8834 - accuracy: 0.9620 - val_loss: 1.4935 - val_accuracy: 0.7940\n",
      "Epoch 20/200\n",
      "79/79 [==============================] - 198s 3s/step - loss: 1.0119 - accuracy: 0.9440 - val_loss: 1.4337 - val_accuracy: 0.8260\n",
      "Epoch 21/200\n",
      "79/79 [==============================] - 194s 2s/step - loss: 0.9430 - accuracy: 0.9626 - val_loss: 1.4397 - val_accuracy: 0.7840\n",
      "Epoch 22/200\n",
      "79/79 [==============================] - 190s 2s/step - loss: 0.8205 - accuracy: 0.9796 - val_loss: 1.6296 - val_accuracy: 0.7480\n",
      "Epoch 23/200\n",
      "79/79 [==============================] - 192s 2s/step - loss: 0.8338 - accuracy: 0.9624 - val_loss: 1.3024 - val_accuracy: 0.8230\n",
      "Epoch 24/200\n",
      "79/79 [==============================] - 190s 2s/step - loss: 0.7943 - accuracy: 0.9698 - val_loss: 1.3144 - val_accuracy: 0.8080\n",
      "Epoch 25/200\n",
      "79/79 [==============================] - 187s 2s/step - loss: 0.7106 - accuracy: 0.9822 - val_loss: 1.3488 - val_accuracy: 0.7930\n",
      "Epoch 26/200\n",
      "79/79 [==============================] - 191s 2s/step - loss: 0.7969 - accuracy: 0.9554 - val_loss: 1.3585 - val_accuracy: 0.7640\n",
      "Epoch 27/200\n",
      "79/79 [==============================] - 188s 2s/step - loss: 0.8411 - accuracy: 0.9556 - val_loss: 1.3056 - val_accuracy: 0.8280\n",
      "Epoch 28/200\n",
      "79/79 [==============================] - 186s 2s/step - loss: 0.7413 - accuracy: 0.9798 - val_loss: 1.2316 - val_accuracy: 0.8270\n",
      "Epoch 29/200\n",
      "79/79 [==============================] - 188s 2s/step - loss: 0.7922 - accuracy: 0.9602 - val_loss: 1.2789 - val_accuracy: 0.8170\n",
      "Epoch 30/200\n",
      "79/79 [==============================] - 190s 2s/step - loss: 0.7034 - accuracy: 0.9814 - val_loss: 1.2054 - val_accuracy: 0.8220\n",
      "Epoch 31/200\n",
      "79/79 [==============================] - 193s 2s/step - loss: 0.7191 - accuracy: 0.9738 - val_loss: 1.3152 - val_accuracy: 0.8150\n",
      "Epoch 32/200\n",
      "79/79 [==============================] - 193s 2s/step - loss: 0.6751 - accuracy: 0.9778 - val_loss: 1.3749 - val_accuracy: 0.7850\n",
      "Epoch 33/200\n",
      "79/79 [==============================] - 186s 2s/step - loss: 1.0001 - accuracy: 0.9112 - val_loss: 1.4386 - val_accuracy: 0.7750\n",
      "Epoch 34/200\n",
      "79/79 [==============================] - 187s 2s/step - loss: 0.9106 - accuracy: 0.9620 - val_loss: 1.3391 - val_accuracy: 0.8120\n",
      "Epoch 35/200\n",
      "79/79 [==============================] - 187s 2s/step - loss: 0.7308 - accuracy: 0.9850 - val_loss: 1.1952 - val_accuracy: 0.8290\n",
      "Epoch 36/200\n",
      "79/79 [==============================] - 188s 2s/step - loss: 0.7039 - accuracy: 0.9762 - val_loss: 1.1962 - val_accuracy: 0.8140\n",
      "Epoch 37/200\n",
      "79/79 [==============================] - 184s 2s/step - loss: 0.6842 - accuracy: 0.9780 - val_loss: 1.2100 - val_accuracy: 0.8350\n",
      "Epoch 38/200\n",
      "79/79 [==============================] - 182s 2s/step - loss: 0.6528 - accuracy: 0.9784 - val_loss: 1.1260 - val_accuracy: 0.8260\n",
      "Epoch 39/200\n",
      "79/79 [==============================] - 193s 2s/step - loss: 0.6237 - accuracy: 0.9782 - val_loss: 1.2455 - val_accuracy: 0.7940\n",
      "Epoch 40/200\n",
      "79/79 [==============================] - 192s 2s/step - loss: 0.6178 - accuracy: 0.9744 - val_loss: 1.0376 - val_accuracy: 0.8340\n",
      "Epoch 41/200\n",
      "79/79 [==============================] - 190s 2s/step - loss: 0.6084 - accuracy: 0.9774 - val_loss: 1.2151 - val_accuracy: 0.8110\n",
      "Epoch 42/200\n",
      "79/79 [==============================] - 192s 2s/step - loss: 0.7321 - accuracy: 0.9550 - val_loss: 1.2366 - val_accuracy: 0.8090\n",
      "Epoch 43/200\n",
      "79/79 [==============================] - 193s 2s/step - loss: 0.7848 - accuracy: 0.9616 - val_loss: 1.1722 - val_accuracy: 0.8210\n",
      "Epoch 44/200\n",
      "79/79 [==============================] - 194s 2s/step - loss: 0.7900 - accuracy: 0.9670 - val_loss: 1.2323 - val_accuracy: 0.8390\n",
      "Epoch 45/200\n",
      "79/79 [==============================] - 193s 2s/step - loss: 0.6559 - accuracy: 0.9870 - val_loss: 1.1610 - val_accuracy: 0.8430\n"
     ]
    }
   ],
   "source": [
    "epochs = 200\n",
    "\n",
    "history = model.fit(x_train_scaled, y_train_encoded, epochs=epochs, validation_data=(x_val_scaled, y_val_encoded), batch_size=64, callbacks=[callback_val_loss, callback_val_accuracy])"
   ]
  },
  {
   "cell_type": "markdown",
   "metadata": {
    "id": "A6Uio2wgoz5D"
   },
   "source": [
    "## 14. Guardemos el modelo"
   ]
  },
  {
   "cell_type": "code",
   "execution_count": null,
   "metadata": {
    "id": "Wv8k1cSeoz5E"
   },
   "outputs": [],
   "source": [
    "model.save(ruta+'model_without_data_augmentation_plus_batchnormalization.h5')"
   ]
  },
  {
   "cell_type": "markdown",
   "metadata": {
    "id": "7CWxAqsOoz5H"
   },
   "source": [
    "## 15. Veamos los resultados"
   ]
  },
  {
   "cell_type": "code",
   "execution_count": null,
   "metadata": {
    "id": "if5uxIKkoz5I"
   },
   "outputs": [],
   "source": [
    "plt.title('Cross Entropy Loss')\n",
    "plt.plot(history.history['loss'], color='blue', label='train')\n",
    "plt.plot(history.history['val_loss'], color='orange', label='test')\n",
    "plt.show()\n",
    "\n",
    "plt.title('Classification Accuracy')\n",
    "plt.plot(history.history['accuracy'], color='blue', label='train')\n",
    "plt.plot(history.history['val_accuracy'], color='orange', label='test')\n",
    "plt.show()"
   ]
  },
  {
   "cell_type": "code",
   "execution_count": null,
   "metadata": {
    "id": "PEtAd5Xwp1_y"
   },
   "outputs": [],
   "source": [
    "_, acc = model.evaluate(x_test_scaled, y_test_encoded, verbose=0)\n",
    "print('Modelocon Batch Normalizationn > %.3f' % (acc * 100.0))"
   ]
  }
 ],
 "metadata": {
  "accelerator": "GPU",
  "colab": {
   "name": "V-c-cnn-catsdogs-with-normalization.ipynb",
   "version": ""
  },
  "kernelspec": {
   "display_name": "Python 3",
   "language": "python",
   "name": "python3"
  },
  "language_info": {
   "codemirror_mode": {
    "name": "ipython",
    "version": 3
   },
   "file_extension": ".py",
   "mimetype": "text/x-python",
   "name": "python",
   "nbconvert_exporter": "python",
   "pygments_lexer": "ipython3",
   "version": "3.8.10"
  },
  "nbTranslate": {
   "displayLangs": [
    "*"
   ],
   "hotkey": "alt-t",
   "langInMainMenu": true,
   "sourceLang": "en",
   "targetLang": "fr",
   "useGoogleTranslate": true
  },
  "toc": {
   "base_numbering": 1,
   "nav_menu": {},
   "number_sections": true,
   "sideBar": true,
   "skip_h1_title": true,
   "title_cell": "Table of Contents",
   "title_sidebar": "Contents",
   "toc_cell": true,
   "toc_position": {},
   "toc_section_display": true,
   "toc_window_display": false
  },
  "varInspector": {
   "cols": {
    "lenName": 16,
    "lenType": 16,
    "lenVar": 40
   },
   "kernels_config": {
    "python": {
     "delete_cmd_postfix": "",
     "delete_cmd_prefix": "del ",
     "library": "var_list.py",
     "varRefreshCmd": "print(var_dic_list())"
    },
    "r": {
     "delete_cmd_postfix": ") ",
     "delete_cmd_prefix": "rm(",
     "library": "var_list.r",
     "varRefreshCmd": "cat(var_dic_list()) "
    }
   },
   "types_to_exclude": [
    "module",
    "function",
    "builtin_function_or_method",
    "instance",
    "_Feature"
   ],
   "window_display": false
  }
 },
 "nbformat": 4,
 "nbformat_minor": 1
}
