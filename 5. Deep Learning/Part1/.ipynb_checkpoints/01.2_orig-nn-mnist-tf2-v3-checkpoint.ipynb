{
 "cells": [
  {
   "cell_type": "markdown",
   "metadata": {},
   "source": [
    "<img src=\"Tarjeta.png\">"
   ]
  },
  {
   "cell_type": "markdown",
   "metadata": {
    "toc": true
   },
   "source": [
    "<h1>Table of Contents<span class=\"tocSkip\"></span></h1>\n",
    "<div class=\"toc\"><ul class=\"toc-item\"><li><span><a href=\"#Primer-ejemplo-de-Red-Neuronal-para-el-Master-de-Data-Science-de-Nuclio-School\" data-toc-modified-id=\"Primer-ejemplo-de-Red-Neuronal-para-el-Master-de-Data-Science-de-Nuclio-School-1\"><span class=\"toc-item-num\">1&nbsp;&nbsp;</span>Primer ejemplo de Red Neuronal para el Master de Data Science de Nuclio School</a></span></li><li><span><a href=\"#1.-Librerias\" data-toc-modified-id=\"1.-Librerias-2\"><span class=\"toc-item-num\">2&nbsp;&nbsp;</span>1. Librerias</a></span></li><li><span><a href=\"#2.-Arquitectura-de-red-del-modelo\" data-toc-modified-id=\"2.-Arquitectura-de-red-del-modelo-3\"><span class=\"toc-item-num\">3&nbsp;&nbsp;</span>2. Arquitectura de red del modelo</a></span></li><li><span><a href=\"#3.-Optimizador,-función-error\" data-toc-modified-id=\"3.-Optimizador,-función-error-4\"><span class=\"toc-item-num\">4&nbsp;&nbsp;</span>3. Optimizador, función error</a></span></li><li><span><a href=\"#4.-Preparamos-los-datos\" data-toc-modified-id=\"4.-Preparamos-los-datos-5\"><span class=\"toc-item-num\">5&nbsp;&nbsp;</span>4. Preparamos los datos</a></span></li><li><span><a href=\"#5.-Entrenamiento\" data-toc-modified-id=\"5.-Entrenamiento-6\"><span class=\"toc-item-num\">6&nbsp;&nbsp;</span>5. Entrenamiento</a></span></li><li><span><a href=\"#6.-Evaluamos-los-resultados\" data-toc-modified-id=\"6.-Evaluamos-los-resultados-7\"><span class=\"toc-item-num\">7&nbsp;&nbsp;</span>6. Evaluamos los resultados</a></span></li></ul></div>"
   ]
  },
  {
   "cell_type": "markdown",
   "metadata": {
    "id": "CRxkLGHJmFMl"
   },
   "source": [
    "## Primer ejemplo de Red Neuronal para el Master de Data Science de Nuclio School\n"
   ]
  },
  {
   "cell_type": "markdown",
   "metadata": {
    "id": "MRD8m_Q5mFMl"
   },
   "source": [
    "Recordemos los pasos a seguiren la creación de código para entrenar una red neuronal:\n",
    "<ol>\n",
    "    <li>Importar librerias: Keras, PyPlot y Numpy (añado time y datetime para controlar los tiempos de entrenamiento)</li>\n",
    "    <li>Definamos una red inicial (apilando bloques)</li>\n",
    "    <li>Definimos (o creamos) nuestro optimizador, añadiendo nuestra función error</li>\n",
    "    <li>Preparamos los datos (en este caso los cargamos)</li>\n",
    "    <li>Empezamos con el entrenamiento</li>\n",
    "    <li>Miramos los resultados y pasamos a la crítica mordaz</li>\n",
    "</ol>"
   ]
  },
  {
   "cell_type": "markdown",
   "metadata": {
    "id": "ZCjJ7ADAmFMm"
   },
   "source": [
    "## 1. Librerias\n",
    "\n",
    "Para empezar carguemos esas librerias que nos hacen falta"
   ]
  },
  {
   "cell_type": "code",
   "execution_count": null,
   "metadata": {
    "id": "9J1PhRulmFMm"
   },
   "outputs": [],
   "source": [
    "from tensorflow import keras as ks\n",
    "from matplotlib import pyplot as plt\n",
    "import numpy as np\n",
    "import time\n",
    "import datetime"
   ]
  },
  {
   "cell_type": "markdown",
   "metadata": {
    "id": "W-yZ8ALUmFMn"
   },
   "source": [
    "## 2. Arquitectura de red del modelo\n",
    "\n",
    "Construimos un modelo sencillo de red neuronal para los datos MNIST, que en resumen son:\n",
    "- Datos de entrada: imagenes de 28x28 pixeles con un canal de grises (valores de 0 a 255, enteros)\n",
    "- Datos de salida (labels): a cada imagen le otorgamos un valor de 0 a 9, un total de 10 classes\n",
    "\n",
    "<img src=\"https://3qeqpr26caki16dnhd19sv6by6v-wpengine.netdna-ssl.com/wp-content/uploads/2016/05/Examples-from-the-MNIST-dataset.png\">\n",
    "\n",
    "Para montar la arquitectura de la red neuronal se sigue el método **.Sequential()** de Keras (de input a output):\n",
    "\n",
    "- **Entrada** - Una conversion de una matriz 2D de 28x28 pixeles a un vector - método Flatten\n",
    "- **Oculto** - Una capa densa (fully connected) con 16 neuronas y activación lineal\n",
    "- **Salida** - Una capa densa (fully connected) con 10 neuronas (**las 10 clases de salida**) y activación lineal\n",
    "\n",
    "<img alt=\"\" src=\"//upload.wikimedia.org/wikipedia/commons/thumb/1/11/Colored_neural_network_es.svg/300px-Colored_neural_network_es.svg.png\" decoding=\"async\" width=\"300\" height=\"361\" class=\"thumbimage\" srcset=\"//upload.wikimedia.org/wikipedia/commons/thumb/1/11/Colored_neural_network_es.svg/450px-Colored_neural_network_es.svg.png 1.5x, //upload.wikimedia.org/wikipedia/commons/thumb/1/11/Colored_neural_network_es.svg/600px-Colored_neural_network_es.svg.png 2x\" data-file-width=\"296\" data-file-height=\"356\">"
   ]
  },
  {
   "cell_type": "code",
   "execution_count": null,
   "metadata": {
    "id": "jyLYFQLKmFMn"
   },
   "outputs": [],
   "source": [
    "model = ks.Sequential()\n",
    "\n",
    "model.add(ks.layers.Flatten(input_shape=(28, 28)))\n",
    "model.add(ks.layers.Dense(16, activation='linear'))\n",
    "model.add(ks.layers.Dense(10, activation='linear'))\n"
   ]
  },
  {
   "cell_type": "markdown",
   "metadata": {
    "id": "WOBiQYBmmFMo"
   },
   "source": [
    "Para revisar un modelo, nos basta con llamar al método **.summary()** del modelo"
   ]
  },
  {
   "cell_type": "markdown",
   "metadata": {
    "id": "O04naT5imFMo"
   },
   "source": [
    "tDel **.summary()** se extrae información muy relevante: el número de paràmetros por capa y el total a entrenar.4\n",
    "\n",
    "Fijaos que 28x28 son 784 valores, así que es lo que tenemos de entrada. Esos 784 neuronas se enlazan con 16 (16 * 784 pesos + 16 bias = 12560) y esas 16 con las 10 de salida (16 * 10 pesos + 10 bias). Un total de 12730 parametros que aprender  "
   ]
  },
  {
   "cell_type": "markdown",
   "metadata": {
    "id": "UN-8aCKXmFMo"
   },
   "source": [
    "## 3. Optimizador, función error\n",
    "\n",
    "Definimos los parametros del modelo para su entrenamiento:\n",
    "* **Loss** - Función de error (función de coste) - Optamos por la Sparse Categorical Crosstentropy porque estamos clasificando imagenes\n",
    "* **Optimizer** - que optimizador de la función de coste usaremos, en este ejemplo SGD (Stochastic gradient descent)\n",
    "* **Metrics** - que metrica usaremos para evaluar el modelo... en este caso se usa la Accuracy\n",
    "\n",
    "**Nota sobre SGD:** por defecto lleva un learning rate de 0.01 y sin momentum (valor de 0.0)"
   ]
  },
  {
   "cell_type": "code",
   "execution_count": null,
   "metadata": {
    "id": "mhcNHQjwmFMp"
   },
   "outputs": [],
   "source": [
    "model.compile(optimizer='SGD',\n",
    "              loss='sparse_categorical_crossentropy',\n",
    "              metrics=['accuracy'], )"
   ]
  },
  {
   "cell_type": "markdown",
   "metadata": {
    "id": "5MgmparxmFMp"
   },
   "source": [
    "## 4. Preparamos los datos\n",
    "\n",
    "Cargamos los datos de MNIST de los datasets directamente de las librerias de Keras. Estos ya estan dispuestos en train and test\n",
    "\n",
    "**Detalle importante:** \n",
    "> La red neuronal requiere que los inputs sean números reales, y lo haremos forzando la division de los valores de dentro de las matrices 28x28 (que tienen valoress del 0 al 255) por 255.0 (un real)"
   ]
  },
  {
   "cell_type": "code",
   "execution_count": null,
   "metadata": {
    "id": "BdW3amUemFMp"
   },
   "outputs": [],
   "source": [
    "mnist = ks.datasets.mnist\n",
    "\n",
    "(x_train, y_train), (x_test, y_test) = mnist.load_data()\n",
    "\n",
    "x_train, x_test = x_train / 255.0, x_test / 255.0"
   ]
  },
  {
   "cell_type": "markdown",
   "metadata": {
    "id": "3lBu_MRBmFMq"
   },
   "source": [
    "Pintemos una muestra de las imagenes del dataset MNIST, a ver si se parece en algo a lo que esperamos.\n",
    "Primero, vemos que tipos de datos tengo, después mapeamos esas matrices en una escala de grises utilizando el método **.get_cmap()** de PlotLy con los nueve primeros números del dataset."
   ]
  },
  {
   "cell_type": "code",
   "execution_count": null,
   "metadata": {
    "id": "0D7H_Bu9mFMq"
   },
   "outputs": [],
   "source": [
    "print('Train: X=%s, y=%s' % (x_train.shape, y_train.shape))\n",
    "print('Test: X=%s, y=%s' % (x_test.shape, y_test.shape))\n",
    "\n",
    "for i in range(9):\n",
    "    plt.subplot(330 + 1 + i)\n",
    "    plt.imshow(x_train[i], cmap=plt.get_cmap('gray'))\n",
    "\n",
    "plt.subplots_adjust(hspace = 0.5)\n",
    "plt.show()"
   ]
  },
  {
   "cell_type": "markdown",
   "metadata": {
    "id": "cTOh70wGmFMq"
   },
   "source": [
    "Como vamos a querer ir haciendo validación a la vez que entrenamos (muy practico)"
   ]
  },
  {
   "cell_type": "code",
   "execution_count": null,
   "metadata": {
    "id": "Vw7fHOEimFMr"
   },
   "outputs": [],
   "source": [
    "x_val = x_train[-10000:]\n",
    "y_val = y_train[-10000:]\n",
    "\n",
    "x_train = x_train[:-10000]\n",
    "y_train = y_train[:-10000]\n"
   ]
  },
  {
   "cell_type": "markdown",
   "metadata": {
    "id": "iJ4l4zgMmFMr"
   },
   "source": [
    "## 5. Entrenamiento\n",
    "\n",
    "Ya podemos ponernos a entrenar el modelo!!\n",
    "\n",
    "Empezaremos con 30 epocs, es decir, 30 pasadas completas del dataset (que a su vez sera con mini-batches internamente), por defecto en Keras, **el batch_size es de 32**.\n",
    "\n",
    "El metodo .fit() nos permite, definir además si disponemos de varias CPUs, GPUs, y si queremos ir validando datos a cada fin de epoch.\n",
    "\n",
    "**Nota: Este fit, en mi laptop no tarda más de 2 minutos.** (por eso vale la pena capturar los tiempos, así podeis validar las capacidades de vuestro equipo y valorar Google Colab)."
   ]
  },
  {
   "cell_type": "code",
   "execution_count": null,
   "metadata": {
    "id": "1PUpVEBcmFMr"
   },
   "outputs": [],
   "source": [
    "t = time.perf_counter()"
   ]
  },
  {
   "cell_type": "code",
   "execution_count": null,
   "metadata": {
    "id": "8veYsBihmFMr"
   },
   "outputs": [],
   "source": [
    "history = model.fit(x_train, y_train, epochs=30, use_multiprocessing=False, validation_data=(x_val, y_val))"
   ]
  },
  {
   "cell_type": "code",
   "execution_count": null,
   "metadata": {
    "id": "6wOe6fpsmFMr"
   },
   "outputs": [],
   "source": [
    "elapsed_time = datetime.timedelta(seconds=(time.perf_counter() - t))\n",
    "\n",
    "print('Tiempo de entrenamiento:', elapsed_time)"
   ]
  },
  {
   "cell_type": "markdown",
   "metadata": {
    "id": "l0kelg3BmFMs"
   },
   "source": [
    "## 6. Evaluamos los resultados\n",
    "\n",
    "Obtengamos una grafica de como el error y la accuracy van evolucionando en cada epoch en los datos de entrenamiento y en la validación"
   ]
  },
  {
   "cell_type": "code",
   "execution_count": null,
   "metadata": {
    "id": "VINCPwD7mFMs"
   },
   "outputs": [],
   "source": [
    "plt.title('Cross Entropy Loss')\n",
    "plt.plot(history.history['loss'], color='blue', label='train')\n",
    "plt.plot(history.history['val_loss'], color='orange', label='validation')\n",
    "plt.legend()\n",
    "plt.show()\n",
    "\n",
    "plt.title('Classification Accuracy')\n",
    "plt.plot(history.history['accuracy'], color='blue', label='train')\n",
    "plt.plot(history.history['val_accuracy'], color='orange', label='validation')\n",
    "plt.legend()\n",
    "plt.show()"
   ]
  },
  {
   "cell_type": "markdown",
   "metadata": {
    "id": "29HW8VM-mFMs"
   },
   "source": [
    "Evaluemos el modelo contra los valores de testeo"
   ]
  },
  {
   "cell_type": "code",
   "execution_count": null,
   "metadata": {
    "id": "P2KLMtuhmFMs"
   },
   "outputs": [],
   "source": [
    "model.evaluate(x_test,  y_test, verbose=2)"
   ]
  },
  {
   "cell_type": "markdown",
   "metadata": {
    "id": "Mh2iWf1pmFMs"
   },
   "source": [
    "El coste podemos ver que es estable. Además la accuracy baila muchísimo. No se puede decir que sea un modelo muy bueno.\n",
    "\n",
    "Veamos que tipo de predicciones estoy obteniendo sobre el conjunto de test (vamos a pintar las imagenes y sus clasificaciones)"
   ]
  },
  {
   "cell_type": "code",
   "execution_count": null,
   "metadata": {
    "id": "Gw1ILU8FmFMt"
   },
   "outputs": [],
   "source": [
    "predictions = model.predict(x_test)"
   ]
  },
  {
   "cell_type": "markdown",
   "metadata": {
    "id": "DMnr0fyNmFMt"
   },
   "source": [
    "Una de las ventajas de Python es que hay montones de funciones y código realizado por terceras personas. Aquí me he fusilado unas bonitas funciones (que he adaptado un poco a mis necesidades) para poder pintar las imagenes, su label (ground truth) y las clasificaciones que hemos realizado."
   ]
  },
  {
   "cell_type": "code",
   "execution_count": null,
   "metadata": {
    "id": "zgxFu2LQmFMt"
   },
   "outputs": [],
   "source": [
    "def plot_image(i, predictions_array, true_label, img):\n",
    "  predictions_array, true_label, img = predictions_array, true_label[i], img[i]\n",
    "  plt.grid(False)\n",
    "  plt.xticks([])\n",
    "  plt.yticks([])\n",
    "\n",
    "  plt.imshow(img, cmap=plt.cm.binary)\n",
    "\n",
    "  predicted_label = np.argmax(predictions_array)\n",
    "  if predicted_label == true_label:\n",
    "    color = 'blue'\n",
    "  else:\n",
    "    color = 'red'\n",
    "\n",
    "  plt.xlabel(\"{} {:2.0f}% ({})\".format(predicted_label,\n",
    "                                100*np.max(predictions_array),\n",
    "                                true_label),\n",
    "                                color=color)\n",
    "\n",
    "def plot_value_array(i, predictions_array, true_label):\n",
    "  predictions_array, true_label = predictions_array, true_label[i]\n",
    "  plt.grid(False)\n",
    "  plt.xticks(range(10))\n",
    "  plt.yticks([])\n",
    "  thisplot = plt.bar(range(10), predictions_array, color=\"#777777\")\n",
    "  plt.ylim([0, 1])\n",
    "  predicted_label = np.argmax(predictions_array)\n",
    "\n",
    "  thisplot[predicted_label].set_color('red')\n",
    "  thisplot[true_label].set_color('blue')"
   ]
  },
  {
   "cell_type": "markdown",
   "metadata": {
    "id": "vbgdSgWYmFMt"
   },
   "source": [
    "Dibujamos los primeros digitos, con las predicciones y sus valores reales (un total de 20 imagenes, para no abusar de vuestros laptops)\n",
    "\n",
    "Coloreamos las prediciones correctas en azul y los fallos en rojo"
   ]
  },
  {
   "cell_type": "code",
   "execution_count": null,
   "metadata": {
    "id": "afVaaX92mFMt"
   },
   "outputs": [],
   "source": [
    "num_rows = 5\n",
    "num_cols = 4\n",
    "start = 650\n",
    "num_images = num_rows*num_cols\n",
    "plt.figure(figsize=(2*2*num_cols, 2*num_rows))\n",
    "for i in range(num_images):\n",
    "  plt.subplot(num_rows, 2*num_cols, 2*i+1)\n",
    "  plot_image(i+start, predictions[i+start], y_test, x_test)\n",
    "  plt.subplot(num_rows, 2*num_cols, 2*i+2)\n",
    "  plot_value_array(i+start, predictions[i+start], y_test)\n",
    "plt.tight_layout()\n",
    "plt.show()"
   ]
  },
  {
   "cell_type": "code",
   "execution_count": null,
   "metadata": {
    "id": "IwjGA0b7mFMu"
   },
   "outputs": [],
   "source": [
    "from tensorflow.keras.models import load_model\n",
    "\n",
    "model.save('mnist_model.h5')"
   ]
  }
 ],
 "metadata": {
  "colab": {
   "name": "orig-nn-mnist-tf2-v0.ipynb",
   "provenance": []
  },
  "kernelspec": {
   "display_name": "Python 3",
   "language": "python",
   "name": "python3"
  },
  "language_info": {
   "codemirror_mode": {
    "name": "ipython",
    "version": 3
   },
   "file_extension": ".py",
   "mimetype": "text/x-python",
   "name": "python",
   "nbconvert_exporter": "python",
   "pygments_lexer": "ipython3",
   "version": "3.8.10"
  },
  "nbTranslate": {
   "displayLangs": [
    "*"
   ],
   "hotkey": "alt-t",
   "langInMainMenu": true,
   "sourceLang": "en",
   "targetLang": "fr",
   "useGoogleTranslate": true
  },
  "toc": {
   "base_numbering": 1,
   "nav_menu": {},
   "number_sections": true,
   "sideBar": true,
   "skip_h1_title": true,
   "title_cell": "Table of Contents",
   "title_sidebar": "Contents",
   "toc_cell": true,
   "toc_position": {},
   "toc_section_display": true,
   "toc_window_display": false
  },
  "varInspector": {
   "cols": {
    "lenName": 16,
    "lenType": 16,
    "lenVar": 40
   },
   "kernels_config": {
    "python": {
     "delete_cmd_postfix": "",
     "delete_cmd_prefix": "del ",
     "library": "var_list.py",
     "varRefreshCmd": "print(var_dic_list())"
    },
    "r": {
     "delete_cmd_postfix": ") ",
     "delete_cmd_prefix": "rm(",
     "library": "var_list.r",
     "varRefreshCmd": "cat(var_dic_list()) "
    }
   },
   "types_to_exclude": [
    "module",
    "function",
    "builtin_function_or_method",
    "instance",
    "_Feature"
   ],
   "window_display": false
  }
 },
 "nbformat": 4,
 "nbformat_minor": 1
}
