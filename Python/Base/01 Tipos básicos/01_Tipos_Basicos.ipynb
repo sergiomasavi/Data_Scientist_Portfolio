{
 "cells": [
  {
   "cell_type": "markdown",
   "metadata": {},
   "source": [
    "<img src=\"Tarjeta.png\">"
   ]
  },
  {
   "cell_type": "markdown",
   "metadata": {
    "toc": true
   },
   "source": [
    "<h1>Table of Contents<span class=\"tocSkip\"></span></h1>\n",
    "<div class=\"toc\"><ul class=\"toc-item\"><li><span><a href=\"#(A.1)-Tipos-numéricos\" data-toc-modified-id=\"(A.1)-Tipos-numéricos-1\"><span class=\"toc-item-num\">1&nbsp;&nbsp;</span>(A.1) Tipos numéricos</a></span></li><li><span><a href=\"#(A.2)-Tipo-texto-(string)\" data-toc-modified-id=\"(A.2)-Tipo-texto-(string)-2\"><span class=\"toc-item-num\">2&nbsp;&nbsp;</span>(A.2) Tipo texto (string)</a></span><ul class=\"toc-item\"><li><span><a href=\"#Función-print()\" data-toc-modified-id=\"Función-print()-2.1\"><span class=\"toc-item-num\">2.1&nbsp;&nbsp;</span>Función <strong>print()</strong></a></span></li><li><span><a href=\"#Operaciones-con-cadenas-de-texto\" data-toc-modified-id=\"Operaciones-con-cadenas-de-texto-2.2\"><span class=\"toc-item-num\">2.2&nbsp;&nbsp;</span>Operaciones con cadenas de texto</a></span></li><li><span><a href=\"#Índices-en-cadenas-de-texto\" data-toc-modified-id=\"Índices-en-cadenas-de-texto-2.3\"><span class=\"toc-item-num\">2.3&nbsp;&nbsp;</span>Índices en cadenas de texto</a></span></li><li><span><a href=\"#Slicing\" data-toc-modified-id=\"Slicing-2.4\"><span class=\"toc-item-num\">2.4&nbsp;&nbsp;</span>Slicing</a></span></li><li><span><a href=\"#Propiedad-de-las-cadenas.-INMUTABILIDAD\" data-toc-modified-id=\"Propiedad-de-las-cadenas.-INMUTABILIDAD-2.5\"><span class=\"toc-item-num\">2.5&nbsp;&nbsp;</span>Propiedad de las cadenas. INMUTABILIDAD</a></span><ul class=\"toc-item\"><li><span><a href=\"#Generar-nueva-cadena-utilizando-slicing-y-concatenación\" data-toc-modified-id=\"Generar-nueva-cadena-utilizando-slicing-y-concatenación-2.5.1\"><span class=\"toc-item-num\">2.5.1&nbsp;&nbsp;</span>Generar nueva cadena utilizando slicing y concatenación</a></span></li></ul></li></ul></li><li><span><a href=\"#(A.3)-Tipo-lógico-(boolean)\" data-toc-modified-id=\"(A.3)-Tipo-lógico-(boolean)-3\"><span class=\"toc-item-num\">3&nbsp;&nbsp;</span>(A.3) Tipo lógico (boolean)</a></span></li><li><span><a href=\"#Tipos-de-variables-nativos\" data-toc-modified-id=\"Tipos-de-variables-nativos-4\"><span class=\"toc-item-num\">4&nbsp;&nbsp;</span>Tipos de variables nativos</a></span><ul class=\"toc-item\"><li><span><a href=\"#Ejemplos-variables\" data-toc-modified-id=\"Ejemplos-variables-4.1\"><span class=\"toc-item-num\">4.1&nbsp;&nbsp;</span>Ejemplos variables</a></span></li></ul></li><li><span><a href=\"#(B.1)-Operaciones-básicas-con-variables\" data-toc-modified-id=\"(B.1)-Operaciones-básicas-con-variables-5\"><span class=\"toc-item-num\">5&nbsp;&nbsp;</span>(B.1) Operaciones básicas con variables</a></span></li><li><span><a href=\"#(B.2)-Asignación-múltiple\" data-toc-modified-id=\"(B.2)-Asignación-múltiple-6\"><span class=\"toc-item-num\">6&nbsp;&nbsp;</span>(B.2) Asignación múltiple</a></span></li><li><span><a href=\"#(B.3)-Reutilización\" data-toc-modified-id=\"(B.3)-Reutilización-7\"><span class=\"toc-item-num\">7&nbsp;&nbsp;</span>(B.3) Reutilización</a></span></li><li><span><a href=\"#Notas\" data-toc-modified-id=\"Notas-8\"><span class=\"toc-item-num\">8&nbsp;&nbsp;</span>Notas</a></span></li><li><span><a href=\"#Memoria-de-python-vs-Memoria-del-sistema\" data-toc-modified-id=\"Memoria-de-python-vs-Memoria-del-sistema-9\"><span class=\"toc-item-num\">9&nbsp;&nbsp;</span>Memoria de python vs Memoria del sistema</a></span></li><li><span><a href=\"#Perfil-de-memoria-(memory-profiler)\" data-toc-modified-id=\"Perfil-de-memoria-(memory-profiler)-10\"><span class=\"toc-item-num\">10&nbsp;&nbsp;</span>Perfil de memoria (memory profiler)</a></span></li></ul></div>"
   ]
  },
  {
   "cell_type": "markdown",
   "metadata": {},
   "source": [
    "# (A) Tipos básicos de datos\n",
    "El tipo de dato es un atributo de los propios datos que permite al sistema conocer la clase de datos que van a\n",
    "almacenar (para reservar su tamaño en memoria en función del tipo). \n",
    "\n",
    "De esta forma, un tipo de dato numérico sólo puede almacenar números, y un tipo de dato booleano sólo puede almacenar dos estados, verdadero o falso. Según el tipo de datos que se utilice para definir una variable, ocupará más o menos espacio en la memoria.\n",
    "\n",
    "Existen dos tipos de datos nativos en Python:\n",
    "\n",
    "- **Tipos básicos**. Representados en azul en el esquema.\n",
    "- **Tipos avanzados**. Representados en rojo en el esquema."
   ]
  },
  {
   "cell_type": "markdown",
   "metadata": {},
   "source": [
    "<img src=\"images\\001TiposDatos(bis).png\"/>\n"
   ]
  },
  {
   "cell_type": "markdown",
   "metadata": {},
   "source": [
    "## (A.1) Tipos numéricos\n",
    "- **Enteros**. Números reales que no tienen parte decimal [-inf, +inf].\n",
    "- **Float**. Números reales que tienen parte decimal (identificada por un punto).\n",
    "- **Complex**. Números compuestos de parte real y parte imaginaria"
   ]
  },
  {
   "cell_type": "code",
   "execution_count": 1,
   "metadata": {
    "ExecuteTime": {
     "end_time": "2021-10-16T13:57:02.312841Z",
     "start_time": "2021-10-16T13:57:02.296632Z"
    }
   },
   "outputs": [
    {
     "data": {
      "text/plain": [
       "8"
      ]
     },
     "execution_count": 1,
     "metadata": {},
     "output_type": "execute_result"
    }
   ],
   "source": [
    "# Suma\n",
    "3+5"
   ]
  },
  {
   "cell_type": "code",
   "execution_count": 2,
   "metadata": {
    "ExecuteTime": {
     "end_time": "2021-10-16T13:57:02.506239Z",
     "start_time": "2021-10-16T13:57:02.501527Z"
    }
   },
   "outputs": [
    {
     "data": {
      "text/plain": [
       "1"
      ]
     },
     "execution_count": 2,
     "metadata": {},
     "output_type": "execute_result"
    }
   ],
   "source": [
    "# Resta\n",
    "3-2"
   ]
  },
  {
   "cell_type": "code",
   "execution_count": 3,
   "metadata": {
    "ExecuteTime": {
     "end_time": "2021-10-16T13:57:02.707154Z",
     "start_time": "2021-10-16T13:57:02.701753Z"
    }
   },
   "outputs": [
    {
     "data": {
      "text/plain": [
       "6"
      ]
     },
     "execution_count": 3,
     "metadata": {},
     "output_type": "execute_result"
    }
   ],
   "source": [
    "# Multiplicación\n",
    "3*2"
   ]
  },
  {
   "cell_type": "code",
   "execution_count": 4,
   "metadata": {
    "ExecuteTime": {
     "end_time": "2021-10-16T13:57:02.927282Z",
     "start_time": "2021-10-16T13:57:02.917994Z"
    }
   },
   "outputs": [
    {
     "data": {
      "text/plain": [
       "2.0"
      ]
     },
     "execution_count": 4,
     "metadata": {},
     "output_type": "execute_result"
    }
   ],
   "source": [
    "# División\n",
    "4/2"
   ]
  },
  {
   "cell_type": "code",
   "execution_count": 5,
   "metadata": {
    "ExecuteTime": {
     "end_time": "2021-10-16T13:57:03.156235Z",
     "start_time": "2021-10-16T13:57:03.151479Z"
    }
   },
   "outputs": [
    {
     "data": {
      "text/plain": [
       "3.141592653589793"
      ]
     },
     "execution_count": 5,
     "metadata": {},
     "output_type": "execute_result"
    }
   ],
   "source": [
    "# Número flotante.\n",
    "3.141592653589793238462643"
   ]
  },
  {
   "cell_type": "code",
   "execution_count": 6,
   "metadata": {
    "ExecuteTime": {
     "end_time": "2021-10-16T13:57:03.569036Z",
     "start_time": "2021-10-16T13:57:03.562671Z"
    }
   },
   "outputs": [
    {
     "data": {
      "text/plain": [
       "(2+4j)"
      ]
     },
     "execution_count": 6,
     "metadata": {},
     "output_type": "execute_result"
    }
   ],
   "source": [
    "# Número complejo.\n",
    "2+4j"
   ]
  },
  {
   "cell_type": "markdown",
   "metadata": {},
   "source": [
    "## (A.2) Tipo texto (string)\n",
    "Las cadenas de caracteres son secuencias inmutables que contienen caracteres encerrados entre comillas dobles\n",
    "(“”) o simples (‘’).\n",
    "\n",
    "Para conocer la longitud de una cadena de caracteres se utiliza la función **len()**"
   ]
  },
  {
   "cell_type": "code",
   "execution_count": 7,
   "metadata": {
    "ExecuteTime": {
     "end_time": "2021-10-16T13:57:04.001967Z",
     "start_time": "2021-10-16T13:57:03.996332Z"
    }
   },
   "outputs": [
    {
     "name": "stdout",
     "output_type": "stream",
     "text": [
      "Este texto contiene 'comillas simples'\n",
      "Este texto contiene \"comillas dobles\"\n",
      "Este texto contiene \"comillas dobles\"\n",
      "Este texto contiene 'comillas simples'\n"
     ]
    }
   ],
   "source": [
    "# Se aceptan comillas simples y dobles para el tipo texto.\n",
    "'Hola Mundo'\n",
    "\"Hola Mundo\"\n",
    "\n",
    "# Incluir comillas simples y dobles.\n",
    "print(\"Este texto contiene 'comillas simples'\")\n",
    "print('Este texto contiene \"comillas dobles\"')\n",
    "print(\"Este texto contiene \\\"comillas dobles\\\"\")\n",
    "print('Este texto contiene \\'comillas simples\\'')\n"
   ]
  },
  {
   "cell_type": "markdown",
   "metadata": {},
   "source": [
    "<div class=\"alert alert-danger\">\n",
    "¡¡ CUIDADO !!\n",
    "    \n",
    "<br> Prestar atención con las comillas cuando se copia código de un procesador de textos como Word o PDF. Es fácil confundir estas comillas con unas comillas simples, pero no son las comillas simples de la tecla del ? por lo que Python no lo entenderá como un string y dará error. \n",
    "    \n",
    "    \n",
    "<br> También es frecuente que ocurra este error cuando se descarga código fuente  codificado en otra región del mundo donde la codificación de caracteres sea diferente y el caracter de la comilla simple no sea igual que en España. Normalmente hay menos problemas con la doble comilla.\n",
    "    \n",
    "</div>"
   ]
  },
  {
   "cell_type": "markdown",
   "metadata": {},
   "source": [
    "### Función **print()**\n",
    "\n",
    "Instrucción que permite mostrar el valor de una cadena u otras variables/valores por pantalla. "
   ]
  },
  {
   "cell_type": "code",
   "execution_count": 8,
   "metadata": {
    "ExecuteTime": {
     "end_time": "2021-10-16T13:57:05.154173Z",
     "start_time": "2021-10-16T13:57:05.147692Z"
    }
   },
   "outputs": [
    {
     "name": "stdout",
     "output_type": "stream",
     "text": [
      "Una cadena Otra Cadena\n",
      "Una CadenaOtra Cadena\n",
      "Estoy cambiando el último carácter por defecto de la función 'print'\n",
      "Una Cadena, Otra Cadena\n",
      "Esto es una cadena de texto\n",
      "con dos líneas\n",
      "Hola Mundo!\n",
      "La cadena compuesta es:\n",
      "Hola Mundo!\n"
     ]
    }
   ],
   "source": [
    "# Escribir cadenas seguidas en la misma línea utilizando la coma.\n",
    "print(\"Una cadena\", \"Otra Cadena\") # Incluye un espacio en la salida por defecto (el uso de las comas) \n",
    "\n",
    "# Escribir cadenas seguidas sin utilizar la coma.\n",
    "print(\"Una Cadena\" \"Otra Cadena\") # El uso de espacio para separar las cadenas a mostrar no introduce un espacio en la salida.\n",
    "\n",
    "# Cambiar el último caracter por defecto de la función (\\n).\n",
    "print(\"Estoy cambiando el último carácter por defecto de la función 'print'\", end=\"\")\n",
    "print(\"\\nUna Cadena\", end=\", \")\n",
    "print(\"Otra Cadena\")\n",
    "\n",
    "# Asignación de cadenas de texto a variables.\n",
    "cadena = \"Esto es una cadena de texto\\ncon dos líneas\" # Añadir salto de línea en variable.\n",
    "print(cadena)\n",
    "\n",
    "# Asignación de cadenas a más de una variable\n",
    "cadena1 = \"Hola\"\n",
    "cadena2 = \"Mundo!\"\n",
    "print(cadena1, cadena2)\n",
    "\n",
    "# Definir una cadena compuesta por más de una cadena\n",
    "cadena_compuesta = \"Hola\" \" Mundo!\"\n",
    "print(f'La cadena compuesta es:\\n{cadena_compuesta}')\n"
   ]
  },
  {
   "cell_type": "markdown",
   "metadata": {},
   "source": [
    "### Operaciones con cadenas de texto "
   ]
  },
  {
   "cell_type": "code",
   "execution_count": 9,
   "metadata": {
    "ExecuteTime": {
     "end_time": "2021-10-16T13:57:05.876621Z",
     "start_time": "2021-10-16T13:57:05.777573Z"
    }
   },
   "outputs": [
    {
     "name": "stdout",
     "output_type": "stream",
     "text": [
      "Operador '+' con cadenas para CONCATENAR TEXTO. Resultado:\n",
      "Hola Mundo!\n",
      "Operador '*' con cadenas para MULTIPLICAR CARACTERES. Ejemplo 10 guiones medios: ----------\n"
     ]
    },
    {
     "ename": "TypeError",
     "evalue": "can't multiply sequence by non-int of type 'str'",
     "output_type": "error",
     "traceback": [
      "\u001b[0;31m---------------------------------------------------------------------------\u001b[0m",
      "\u001b[0;31mTypeError\u001b[0m                                 Traceback (most recent call last)",
      "\u001b[0;32m<ipython-input-9-30c88ead9f72>\u001b[0m in \u001b[0;36m<module>\u001b[0;34m\u001b[0m\n\u001b[1;32m     14\u001b[0m \u001b[0mprimer_operando_multiplicacion\u001b[0m  \u001b[0;34m=\u001b[0m \u001b[0;34m\"Hola\"\u001b[0m\u001b[0;34m\u001b[0m\u001b[0;34m\u001b[0m\u001b[0m\n\u001b[1;32m     15\u001b[0m \u001b[0msegundo_operando_multiplicacion\u001b[0m \u001b[0;34m=\u001b[0m \u001b[0;34m\"Mundo\"\u001b[0m\u001b[0;34m\u001b[0m\u001b[0;34m\u001b[0m\u001b[0m\n\u001b[0;32m---> 16\u001b[0;31m \u001b[0mmultiplicacion_texto\u001b[0m \u001b[0;34m=\u001b[0m \u001b[0mprimer_operando_multiplicacion\u001b[0m \u001b[0;34m*\u001b[0m \u001b[0msegundo_operando_multiplicacion\u001b[0m\u001b[0;34m\u001b[0m\u001b[0;34m\u001b[0m\u001b[0m\n\u001b[0m\u001b[1;32m     17\u001b[0m \u001b[0mprint\u001b[0m\u001b[0;34m(\u001b[0m\u001b[0;34mf'El resultado de multiplicar cadenas de caracteres entre sí es: {multiplicacion_texto}'\u001b[0m\u001b[0;34m)\u001b[0m\u001b[0;34m\u001b[0m\u001b[0;34m\u001b[0m\u001b[0m\n",
      "\u001b[0;31mTypeError\u001b[0m: can't multiply sequence by non-int of type 'str'"
     ]
    }
   ],
   "source": [
    "# El operador '+' sirve para concatenar cadenas de caracteres.\n",
    "primer_operando_texto = \"Hola\"\n",
    "segundo_operando_texto = \" Mundo!\"\n",
    "concatenar_texto = primer_operando_texto + segundo_operando_texto\n",
    "print(f'Operador \\'+\\' con cadenas para CONCATENAR TEXTO. Resultado:\\n{concatenar_texto}')\n",
    "\n",
    "# El operador '*' multiplica los caracteres de la cadena. Se suele utilizar para estructurar la aplicación por terminal\n",
    "diez_guiones_medios = 10 * '-'\n",
    "print(f'Operador \\'*\\' con cadenas para MULTIPLICAR CARACTERES. Ejemplo 10 guiones medios: {diez_guiones_medios}')\n",
    "\n",
    "# El operador '*' no se puede utilizar para multiplicar dos caracteres entre sí. \n",
    "# Produce el siguiente error:\n",
    "# TypeError: can't multiply sequence by non-int of type 'str'\n",
    "primer_operando_multiplicacion  = \"Hola\"\n",
    "segundo_operando_multiplicacion = \"Mundo\"\n",
    "multiplicacion_texto = primer_operando_multiplicacion * segundo_operando_multiplicacion\n",
    "print(f'El resultado de multiplicar cadenas de caracteres entre sí es: {multiplicacion_texto}')"
   ]
  },
  {
   "cell_type": "markdown",
   "metadata": {},
   "source": [
    "### Índices en cadenas de texto\n",
    "\n",
    "Las cadenas de texto se encuentran ordenadas en memoria de tal manera que podemos acceder a cada carácter apuntando a su posición dentro de la cadena. Siempre se comienza por 0 y se llega hasta la longitud de la cadena -1.\n",
    "\n",
    "Además python ofrece otra propiedad. Permite utilizar índices negativos.\n",
    "\n",
    " "
   ]
  },
  {
   "cell_type": "code",
   "execution_count": 10,
   "metadata": {
    "ExecuteTime": {
     "end_time": "2021-10-16T13:57:07.745281Z",
     "start_time": "2021-10-16T13:57:07.729843Z"
    }
   },
   "outputs": [
    {
     "name": "stdout",
     "output_type": "stream",
     "text": [
      "Utilizando índices positivos.\n",
      "Caracter 0 = P\n",
      "Caracter 1 = y\n",
      "Caracter 2 = t\n",
      "Caracter 3 = h\n",
      "Caracter 4 = o\n",
      "Caracter 5 = n\n",
      "\n",
      "\n",
      "Longitud de la cadena: 6\n",
      "Primer caracter:  P\n",
      "Tercer caracter:  h\n",
      "Quinto y último caracter:  n\n",
      "\n",
      "\n",
      "Utilizando índices negativos.\n",
      "Caracter -1 = n\n",
      "Caracter -2 = o\n",
      "Caracter -3 = h\n",
      "Caracter -4 = t\n",
      "Caracter -5 = y\n",
      "Caracter -6 = P\n",
      "\n",
      "\n",
      " Cadena ordenada utilizando índices negativos.\n",
      "Caracter -6 = P\n",
      "Caracter -5 = y\n",
      "Caracter -4 = t\n",
      "Caracter -3 = h\n",
      "Caracter -2 = o\n",
      "Caracter -1 = n\n"
     ]
    }
   ],
   "source": [
    "# Índices positivos\n",
    "print(\"Utilizando índices positivos.\")\n",
    "cadena = \"Python\"\n",
    "it = 0\n",
    "for x in cadena:\n",
    "    print(f'Caracter {it} = {x}')\n",
    "    it+=1\n",
    "    \n",
    "print(f'\\n\\nLongitud de la cadena: {len(cadena)}')\n",
    "print(\"Primer caracter: \", cadena[0])\n",
    "print(\"Tercer caracter: \", cadena[3])\n",
    "print(\"Quinto y último caracter: \", cadena[len(cadena) - 1])\n",
    "\n",
    "# Índices negativos\n",
    "print(\"\\n\\nUtilizando índices negativos.\")\n",
    "it = -1\n",
    "while it >= - len(cadena):\n",
    "    print(f'Caracter {it} = {cadena[it]}')\n",
    "    it-=1\n",
    "    \n",
    "# Para mostrar la cadena ordenada utilizando índices negativos\n",
    "print(\"\\n\\n Cadena ordenada utilizando índices negativos.\")\n",
    "it = -len(cadena)\n",
    "while it < 0:\n",
    "    print(f'Caracter {it} = {cadena[it]}')\n",
    "    it+=1\n",
    "\n",
    "      "
   ]
  },
  {
   "cell_type": "markdown",
   "metadata": {},
   "source": [
    "### Slicing\n",
    "\n",
    "El slicing es una capacidad de algunos tipos de datos (cadenas de texto, listas, tuplas, diccionarios, etc.) que permite obtener un subconjunto utilizando para ello dos ínices [inicio:fin]. \n",
    "\n",
    "El modo en el que python toman los caracteres incluye el inicio pero no el final de tal manera que se toma el conjunto [inicio, fin)\n",
    "\n",
    "En aquellos casos en los que se utiliza un sólo índice [:fin] o [inicio:] se hace toma por defecto el inicio y final del conjunto, respectivamente.\n",
    "\n",
    "De esta forma, cuando se desea obtener la cadena entera es posible omitir los dos índices utilizando [:]\n",
    "\n",
    "Nota: Utilizando slicing no se obtiene error cuando se utilizan índices fuera de rango. Simplemente se ignora el espacio hueco.\n"
   ]
  },
  {
   "cell_type": "code",
   "execution_count": 11,
   "metadata": {
    "ExecuteTime": {
     "end_time": "2021-10-16T13:57:08.547526Z",
     "start_time": "2021-10-16T13:57:08.529101Z"
    }
   },
   "outputs": [
    {
     "name": "stdout",
     "output_type": "stream",
     "text": [
      "La cadena es: Python\n",
      "El primer conjunto es: tho\n",
      "El segundo conjunto es: thon\n",
      "El tercer conjunto es: Pytho\n",
      "Con slicing se puede tomar un índice fuera de rango. Resultado:  Python\n",
      "Sin slicing utilizar un índice fuera de rango produce un error\n"
     ]
    },
    {
     "ename": "IndexError",
     "evalue": "string index out of range",
     "output_type": "error",
     "traceback": [
      "\u001b[0;31m---------------------------------------------------------------------------\u001b[0m",
      "\u001b[0;31mIndexError\u001b[0m                                Traceback (most recent call last)",
      "\u001b[0;32m<ipython-input-11-2d74447dabf6>\u001b[0m in \u001b[0;36m<module>\u001b[0;34m\u001b[0m\n\u001b[1;32m     18\u001b[0m \u001b[0;34m\u001b[0m\u001b[0m\n\u001b[1;32m     19\u001b[0m \u001b[0mprint\u001b[0m\u001b[0;34m(\u001b[0m\u001b[0;34m\"Sin slicing utilizar un índice fuera de rango produce un error\"\u001b[0m\u001b[0;34m)\u001b[0m\u001b[0;34m\u001b[0m\u001b[0;34m\u001b[0m\u001b[0m\n\u001b[0;32m---> 20\u001b[0;31m \u001b[0mprint\u001b[0m\u001b[0;34m(\u001b[0m\u001b[0mpalabra\u001b[0m\u001b[0;34m[\u001b[0m\u001b[0;36m99\u001b[0m\u001b[0;34m]\u001b[0m\u001b[0;34m)\u001b[0m\u001b[0;34m\u001b[0m\u001b[0;34m\u001b[0m\u001b[0m\n\u001b[0m\u001b[1;32m     21\u001b[0m \u001b[0;34m\u001b[0m\u001b[0m\n\u001b[1;32m     22\u001b[0m \u001b[0;34m\u001b[0m\u001b[0m\n",
      "\u001b[0;31mIndexError\u001b[0m: string index out of range"
     ]
    }
   ],
   "source": [
    "palabra = \"Python\"\n",
    "\n",
    "# Slicing\n",
    "subconjunto_palabra_inicioFin = palabra[2:5]\n",
    "subconjunto_palabra_inicio = palabra[2:]\n",
    "subconjunto_palabra_fin = palabra[:5]\n",
    "\n",
    "print(f'La cadena es: {palabra[:]}') # Es ídentico a poner palabra, en lugar de, palabra[:]\n",
    "print(f'El primer conjunto es: {subconjunto_palabra_inicioFin}')\n",
    "print(f'El segundo conjunto es: {subconjunto_palabra_inicio}')\n",
    "print(f'El tercer conjunto es: {subconjunto_palabra_fin}')\n",
    "\n",
    "# Si el índice se encuentra fuera de rango se obtiene un error.\n",
    "# IndexError: string index out of range\n",
    "\n",
    "# Con slicing no se obtiene ese error\n",
    "print(f'Con slicing se puede tomar un índice fuera de rango. Resultado:  {palabra[:99]}')\n",
    "\n",
    "print(\"Sin slicing utilizar un índice fuera de rango produce un error\")\n",
    "print(palabra[99])\n",
    "\n",
    "\n"
   ]
  },
  {
   "cell_type": "markdown",
   "metadata": {},
   "source": [
    "### Propiedad de las cadenas. INMUTABILIDAD\n",
    "\n",
    "Una propiedad muy importante de las cadenas de caracteres es que no pueden ser modificadas. De esta forma, no es posible\n",
    "re-asignar el valor de un cáracter (produce un error)\n",
    "\n"
   ]
  },
  {
   "cell_type": "code",
   "execution_count": 12,
   "metadata": {
    "ExecuteTime": {
     "end_time": "2021-10-16T13:57:09.854858Z",
     "start_time": "2021-10-16T13:57:09.843589Z"
    }
   },
   "outputs": [
    {
     "ename": "TypeError",
     "evalue": "'str' object does not support item assignment",
     "output_type": "error",
     "traceback": [
      "\u001b[0;31m---------------------------------------------------------------------------\u001b[0m",
      "\u001b[0;31mTypeError\u001b[0m                                 Traceback (most recent call last)",
      "\u001b[0;32m<ipython-input-12-9e9f9360a821>\u001b[0m in \u001b[0;36m<module>\u001b[0;34m\u001b[0m\n\u001b[1;32m      3\u001b[0m \u001b[0;31m# Intentamos cambiar el valor del primer caracter realizando una re-asignación.\u001b[0m\u001b[0;34m\u001b[0m\u001b[0;34m\u001b[0m\u001b[0;34m\u001b[0m\u001b[0m\n\u001b[1;32m      4\u001b[0m \u001b[0;31m# TypeError: 'str' object does not support item assignment\u001b[0m\u001b[0;34m\u001b[0m\u001b[0;34m\u001b[0m\u001b[0;34m\u001b[0m\u001b[0m\n\u001b[0;32m----> 5\u001b[0;31m \u001b[0mpalabra\u001b[0m\u001b[0;34m[\u001b[0m\u001b[0;36m0\u001b[0m\u001b[0;34m]\u001b[0m \u001b[0;34m=\u001b[0m \u001b[0;34m\"N\"\u001b[0m\u001b[0;34m\u001b[0m\u001b[0;34m\u001b[0m\u001b[0m\n\u001b[0m",
      "\u001b[0;31mTypeError\u001b[0m: 'str' object does not support item assignment"
     ]
    }
   ],
   "source": [
    "palabra = \"Python\"\n",
    "\n",
    "# Intentamos cambiar el valor del primer caracter realizando una re-asignación.\n",
    "# TypeError: 'str' object does not support item assignment\n",
    "palabra[0] = \"N\""
   ]
  },
  {
   "cell_type": "markdown",
   "metadata": {},
   "source": [
    "#### Generar nueva cadena utilizando slicing y concatenación\n",
    "\n",
    "En el ejemplo anterior se deseaba modificar la primera letra de la cadena 'Python'. Dado a la propiedad de inmutabilidad de las cadenas no es posible realizarlo utilizando re-asignación del índice correspondiente. Para poder obtener, por ejemplo, la palabra 'Nython' utilizando como base 'Python' se utiliza slicing y concatenación para crear un nuevo espacio en memoria.\n",
    "\n"
   ]
  },
  {
   "cell_type": "code",
   "execution_count": 13,
   "metadata": {
    "ExecuteTime": {
     "end_time": "2021-10-16T13:57:10.841758Z",
     "start_time": "2021-10-16T13:57:10.837627Z"
    }
   },
   "outputs": [
    {
     "name": "stdout",
     "output_type": "stream",
     "text": [
      "Palabra base: Python\n",
      "Palabra resultado: Nython\n"
     ]
    }
   ],
   "source": [
    "palabra = \"Python\"\n",
    "print(f'Palabra base: {palabra}')\n",
    "palabra = \"N\" + palabra[1:]\n",
    "print(f'Palabra resultado: {palabra}')"
   ]
  },
  {
   "cell_type": "markdown",
   "metadata": {},
   "source": [
    "## (A.3) Tipo lógico (boolean)\n",
    "Representa la mínima expresión racional, los valores verdadero (True o 1) o falso (False o 0). Los tipos de datos\n",
    "booleanos se utilizan habitualmente para guardar en todo momento el estado de una propiedad o característica.\n",
    "\n",
    "- True (Verdadero): Equivale a TRUE o 1 en otros lenguajes. Valor lógico alto.\n",
    "- False (Falso): Equivale a FALSE o 0 en otros lenguajes. Valor lógico bajo.\n",
    "\n",
    "\n",
    "Los valores lógicos son suceptibles a los operadores lógicos para obtener combinaciones lógicas (tablas de verdad). A continuación , se muestran las principales tablas de verdad para tres variables."
   ]
  },
  {
   "cell_type": "markdown",
   "metadata": {},
   "source": [
    "\n",
    "<table id=\"t01\">\n",
    "  <tr>\n",
    "    <th>A</th>\n",
    "    <th>B</th>\n",
    "    <th>C</th>\n",
    "    <th>A and B and C</th>\n",
    "    <th>A or  B or  C</th>\n",
    "    <th>not A</th>\n",
    "  </tr>\n",
    "    \n",
    "  <tr>\n",
    "    <td>0</td>\n",
    "    <td>0</td>\n",
    "    <td>0</td>\n",
    "    <td>0</td>\n",
    "    <td>0</td>\n",
    "    <td>1</td>\n",
    "  </tr>\n",
    "\n",
    "  <tr>\n",
    "    <td>1</td>\n",
    "    <td>0</td>\n",
    "    <td>0</td>\n",
    "    <td>0</td>\n",
    "    <td>1</td>\n",
    "    <td>0</td>\n",
    "  </tr>\n",
    "    \n",
    "  <tr>\n",
    "    <td>0</td>\n",
    "    <td>1</td>\n",
    "    <td>0</td>\n",
    "    <td>0</td>\n",
    "    <td>1</td>\n",
    "    <td>1</td>\n",
    "  </tr>\n",
    "    \n",
    "  <tr>\n",
    "    <td>1</td>\n",
    "    <td>1</td>\n",
    "    <td>0</td>\n",
    "    <td>0</td>\n",
    "    <td>1</td>\n",
    "    <td>0</td>\n",
    "  </tr>\n",
    "    \n",
    "  <tr>\n",
    "    <td>0</td>\n",
    "    <td>0</td>\n",
    "    <td>1</td>\n",
    "    <td>0</td>\n",
    "    <td>1</td>\n",
    "    <td>1</td>\n",
    "  </tr>\n",
    "    \n",
    "  <tr>\n",
    "    <td>1</td>\n",
    "    <td>0</td>\n",
    "    <td>1</td>\n",
    "    <td>0</td>\n",
    "    <td>1</td>\n",
    "    <td>0</td>\n",
    "  </tr>\n",
    "    \n",
    "  <tr>\n",
    "    <td>0</td>\n",
    "    <td>1</td>\n",
    "    <td>1</td>\n",
    "    <td>0</td>\n",
    "    <td>1</td>\n",
    "    <td>1</td>\n",
    "  </tr>\n",
    "    \n",
    "  <tr>\n",
    "    <td>1</td>\n",
    "    <td>1</td>\n",
    "    <td>1</td>\n",
    "    <td>1</td>\n",
    "    <td>1</td>\n",
    "    <td>0</td>\n",
    "  </tr>\n",
    "</table> \n",
    "\n"
   ]
  },
  {
   "cell_type": "code",
   "execution_count": 14,
   "metadata": {
    "ExecuteTime": {
     "end_time": "2021-10-16T13:57:12.108340Z",
     "start_time": "2021-10-16T13:57:12.094869Z"
    }
   },
   "outputs": [
    {
     "name": "stdout",
     "output_type": "stream",
     "text": [
      "\n",
      "-----------------------------------------------------------------\n",
      "A\tB\tC\tA and B and C\tA or B or C\tnot A\t\n",
      "-----------------------------------------------------------------\n",
      "0\t0\t0\t\t0\t\t0\t1\n",
      "1\t0\t0\t\t0\t\t1\t0\n",
      "0\t1\t0\t\t0\t\t1\t1\n",
      "1\t1\t0\t\t0\t\t1\t0\n",
      "0\t0\t1\t\t0\t\t1\t1\n",
      "1\t0\t1\t\t0\t\t1\t0\n",
      "0\t1\t1\t\t0\t\t1\t1\n",
      "1\t1\t1\t\t1\t\t1\t0\n"
     ]
    }
   ],
   "source": [
    "# Tabla lógica OR.\n",
    "a = [0, 1, 0, 1, 0, 1, 0, 1]\n",
    "b = [0, 0, 1, 1, 0, 0, 1, 1]\n",
    "c = [0, 0, 0, 0, 1, 1, 1, 1]\n",
    "headings = [\"A\", \"B\", \"C\", \"A and B and C\", \"A or B or C\", \"not A\"]\n",
    "\n",
    "caracteres_separacion = 65 * \"-\"\n",
    "\n",
    "print(\"\\n\" + caracteres_separacion)\n",
    "\n",
    "for x in headings:\n",
    "    print(x, end=\"\\t\")\n",
    "\n",
    "print(\"\\n\" + caracteres_separacion)\n",
    "    \n",
    "if(len(a) == len(b) == len(c)):\n",
    "    it = 0\n",
    "    \n",
    "    while it < len(a):\n",
    "        operacion_and  = a[it] and b[it] and c[it]\n",
    "        operacion_or   = a[it] or b[it] or c[it]\n",
    "        operacion_notA = not a[it]\n",
    "        print(str(a[it]) + \"\\t\" + str(b[it]) + \"\\t\" + str(c[it]) + \"\\t\\t\" + \n",
    "              str(operacion_and) + \"\\t\\t\" + \n",
    "              str(operacion_or)  + \"\\t\"   +\n",
    "              str(int(operacion_notA)))\n",
    "        it+=1"
   ]
  },
  {
   "cell_type": "code",
   "execution_count": 15,
   "metadata": {
    "ExecuteTime": {
     "end_time": "2021-10-16T13:57:12.972411Z",
     "start_time": "2021-10-16T13:57:12.669753Z"
    }
   },
   "outputs": [
    {
     "name": "stdout",
     "output_type": "stream",
     "text": [
      "¿Desea encender el mouse? [1 = yes; 0 = no]: \n"
     ]
    },
    {
     "ename": "ValueError",
     "evalue": "invalid literal for int() with base 10: ''",
     "output_type": "error",
     "traceback": [
      "\u001b[0;31m---------------------------------------------------------------------------\u001b[0m",
      "\u001b[0;31mValueError\u001b[0m                                Traceback (most recent call last)",
      "\u001b[0;32m<ipython-input-15-07bb309e356d>\u001b[0m in \u001b[0;36m<module>\u001b[0;34m\u001b[0m\n\u001b[1;32m      3\u001b[0m \u001b[0;34m\u001b[0m\u001b[0m\n\u001b[1;32m      4\u001b[0m \u001b[0;31m# Pedir información por teclado\u001b[0m\u001b[0;34m\u001b[0m\u001b[0;34m\u001b[0m\u001b[0;34m\u001b[0m\u001b[0m\n\u001b[0;32m----> 5\u001b[0;31m \u001b[0mencender_apagar\u001b[0m \u001b[0;34m=\u001b[0m \u001b[0mint\u001b[0m\u001b[0;34m(\u001b[0m\u001b[0minput\u001b[0m\u001b[0;34m(\u001b[0m\u001b[0;34m\"¿Desea encender el mouse? [1 = yes; 0 = no]: \"\u001b[0m\u001b[0;34m)\u001b[0m\u001b[0;34m)\u001b[0m\u001b[0;34m\u001b[0m\u001b[0;34m\u001b[0m\u001b[0m\n\u001b[0m\u001b[1;32m      6\u001b[0m \u001b[0;34m\u001b[0m\u001b[0m\n\u001b[1;32m      7\u001b[0m \u001b[0;31m# Evaluar orden\u001b[0m\u001b[0;34m\u001b[0m\u001b[0;34m\u001b[0m\u001b[0;34m\u001b[0m\u001b[0m\n",
      "\u001b[0;31mValueError\u001b[0m: invalid literal for int() with base 10: ''"
     ]
    }
   ],
   "source": [
    "# Normalmente, los booleanos se utilizan para guardar en todo momento el estado de una propiedad o característica. \n",
    "mouse_onOff = False # El mouse inalámbrico inicialmente está apagado\n",
    "\n",
    "# Pedir información por teclado\n",
    "encender_apagar = int(input(\"¿Desea encender el mouse? [1 = yes; 0 = no]: \"))\n",
    "\n",
    "# Evaluar orden\n",
    "if(encender_apagar == 1):\n",
    "    mouse_onOff = True\n",
    "    print(\"El mouse se ha encendido. Puede utilizarlo\")\n",
    "else:\n",
    "    print(\"El mouse sigue apagado. Para utilizarlo, por favor, enciendelo\")"
   ]
  },
  {
   "cell_type": "markdown",
   "metadata": {},
   "source": [
    "# (B) VARIABLES\n",
    "\n",
    "Espacio en memoria en el que se define un identificado y se asigna un valor. Pueden utilizarse como si se tratase de un valor literal, operar con otras variables y re-asignarlas otro valor en cualquier momento durante la ejecución del programa.\n",
    "\n",
    "La asignación se realiza con el operador **=** y el identificador, también conocido como nombre de la variable, puede contener caracteres alfanuméricos y otros símbolos como _ (Nota: el nombre de la variable siempre debe empezar por una letra).\n",
    "\n",
    "Los nombres que no pueden utilizarse, porque son palabras reservadas, son:\n",
    "\n",
    "- and, as, assert, break, class, continue, def, del, elif, else, except, exec, finally, for, from, global, if, import, in, is, lambda, not, or, pass, print, raise, return, try, while, with, yield       \n"
   ]
  },
  {
   "cell_type": "markdown",
   "metadata": {},
   "source": [
    "## Tipos de variables nativos\n",
    "\n",
    "El contenido de una variable es su valor almacenado en memoria. De esta forma, cualquier operación realizada sobre una variable se realiza sobre su valor.\n",
    "\n",
    "El continente es la asociación de un nombre (identificador) y una dirección de memoria que apunta hacia el contenido, es decir, el valor asociado a dicho nombre.\n",
    "\n",
    "<table id=\"t01\">\n",
    "  <tr>\n",
    "    <th>Tipo</th>\n",
    "    <th>Clase</th>\n",
    "    <th>Notas</th>\n",
    "    <th>Ejemplo</th>\n",
    "  </tr>\n",
    "    \n",
    "  <tr>\n",
    "    <td>str</td>\n",
    "    <td>Cadena</td>\n",
    "    <td>Inmutable</td>\n",
    "    <td>palabra=\"Hola Mundo!\"</td>\n",
    "  </tr>\n",
    "\n",
    "  <tr>\n",
    "    <td>unicode</td>\n",
    "    <td>Cadena</td>\n",
    "    <td>Versión unicode de str</td>\n",
    "    <td>u\"Hola Mundo!\"</td>\n",
    "  </tr>\n",
    "    \n",
    "  <tr>\n",
    "    <td>int</td>\n",
    "    <td>Entero</td>\n",
    "    <td>Precisión fija, convertir a long si es necesario</td>\n",
    "    <td>numero=32</td>\n",
    "  </tr>\n",
    "    \n",
    "  <tr>\n",
    "    <td>Long</td>\n",
    "    <td>Entero</td>\n",
    "    <td>Precisión arbitraria</td>\n",
    "    <td>32L ó 1298918298398923L</td>\n",
    "  </tr>\n",
    "    \n",
    "  <tr>\n",
    "    <td>float</td>\n",
    "    <td>Decimal</td>\n",
    "    <td>Coma flotante de doble precisión</td>\n",
    "    <td>numero_pi = 3.141592</td>\n",
    "  </tr>\n",
    "    \n",
    "  <tr>\n",
    "    <td>complex</td>\n",
    "    <td>Complejo</td>\n",
    "    <td>Parte real e imaginaria</td>\n",
    "    <td>num_complex = 4.5 + 3j</td>\n",
    "  </tr>\n",
    "    \n",
    "  <tr>\n",
    "    <td>bool</td>\n",
    "    <td>Booleano</td>\n",
    "    <td>Valores verdadero o falso</td>\n",
    "    <td>True or False</td>\n",
    "  </tr>\n",
    "    \n",
    "  <tr>\n",
    "    <td>list</td>\n",
    "    <td>Secuencia</td>\n",
    "    <td>Mutable, contiene objetos de diverso tipo</td>\n",
    "    <td>[\"Sergio\", 1995, \"28915\", 190, 81.4]</td>\n",
    "  </tr>\n",
    "    \n",
    "  <tr>\n",
    "    <td>tuple</td>\n",
    "    <td>Secuencia</td>\n",
    "    <td>Inmutable, contiene objetos de diverso tipo</td>\n",
    "    <td>(\"Sergio\", 1995, \"28915\", 190, 81.4)</td>\n",
    "  </tr>\n",
    "    \n",
    "  <tr>\n",
    "    <td>set</td>\n",
    "    <td>Conjunto</td>\n",
    "    <td>Mutable, sin orden y sin duplicados</td>\n",
    "    <td>Set([\"Sergio\", 1995, \"28915\", 190, 81.4])</td>\n",
    "  </tr>\n",
    "    \n",
    "  <tr>\n",
    "    <td>frozenset</td>\n",
    "    <td>Conjunto</td>\n",
    "    <td>Inmutable, sin orden y sin duplicados</td>\n",
    "    <td>Frozenset([\"Sergio\", 1995, \"28915\", 190, 81.4])</td>\n",
    "  </tr>\n",
    "    \n",
    "  <tr>\n",
    "    <td>dict</td>\n",
    "    <td>Diccionario</td>\n",
    "    <td>Pares clave: valor</td>\n",
    "    <td>(\"clave1\": \"Sergio\", \"clave2\": 1995)</td>\n",
    "  </tr>\n",
    "    \n",
    "</table> "
   ]
  },
  {
   "cell_type": "markdown",
   "metadata": {},
   "source": [
    "### Ejemplos variables\n",
    "\n",
    "<img src=\"images\\002Variables(bis).png\"/>\n",
    "\n",
    "Para poder trabajar con variables es necesario seguir las siguientes pautas:\n",
    "- Las palabras reservadas no se pueden utilizar como identificadores\n",
    "- No se permiten espacios en blanco\n",
    "- No se pueden incluir símbolos especiales (!, @, #, €, %, etc.)\n",
    "- No está permitido utilizar un dígito com primer caracter.\n",
    "\n",
    "Buenas prácticas:\n",
    "- Utilizar letras minúsculas, mayúsculas, dígitos o guión subrayado (_)\n",
    "- Comenzar siempre con letra minúscula\n",
    "- Uso de nombres descriptivos (aunque sean largos) compuestos por varias palabras\n",
    "- Utilizar convenios para identificar las variables.\n",
    "    - Capitalizar cada palabra agrupada. Ejemplo: nombreAlumno = \"Sergio\"\n",
    "    - Separar cada palabra con guin subrayado. nombre_alumno = \"Sergio\"\n",
    "    \n",
    "- La longitud recomendable es de 2 a 4 palabras o entre 8 y 20 caracteres\n",
    "\n",
    "Como estilo, el nombre se identificará por una o más palabras separadas por _ escritas en minúscula. Ejemplo:\n",
    "numero_pi = 3.14\n",
    "numero_2  = 2\n",
    "suma = numero_pi + numero_2"
   ]
  },
  {
   "cell_type": "code",
   "execution_count": 16,
   "metadata": {
    "ExecuteTime": {
     "end_time": "2021-10-16T13:57:30.397054Z",
     "start_time": "2021-10-16T13:57:30.394114Z"
    }
   },
   "outputs": [],
   "source": [
    "# Asignación\n",
    "numero_pi = 3.14\n",
    "numero_2  = 2"
   ]
  },
  {
   "cell_type": "markdown",
   "metadata": {},
   "source": [
    "## (B.1) Operaciones básicas con variables"
   ]
  },
  {
   "cell_type": "code",
   "execution_count": 17,
   "metadata": {
    "ExecuteTime": {
     "end_time": "2021-10-16T13:57:31.173828Z",
     "start_time": "2021-10-16T13:57:31.165541Z"
    }
   },
   "outputs": [
    {
     "name": "stdout",
     "output_type": "stream",
     "text": [
      "La operación: 3.14 + 2 = 5.140000000000001\n",
      "La operación: 3.14 + 2 = 5.140000000000001\n",
      "La operación: 3.14 + 2 = 5.140000000000001\n",
      "La operación: 3.14 + 2 = 5.140000000000001\n"
     ]
    }
   ],
   "source": [
    "# Operación suma\n",
    "suma = numero_pi + numero_2\n",
    "print(f'La operación: {numero_pi} + {numero_2} = {suma}')\n",
    "\n",
    "# Operación resta\n",
    "suma = numero_pi + numero_2\n",
    "print(f'La operación: {numero_pi} + {numero_2} = {suma}')\n",
    "\n",
    "# Operación división\n",
    "suma = numero_pi + numero_2\n",
    "print(f'La operación: {numero_pi} + {numero_2} = {suma}')\n",
    "\n",
    "# Operación multiplicación\n",
    "suma = numero_pi + numero_2\n",
    "print(f'La operación: {numero_pi} + {numero_2} = {suma}')"
   ]
  },
  {
   "cell_type": "markdown",
   "metadata": {},
   "source": [
    "## (B.2) Asignación múltiple"
   ]
  },
  {
   "cell_type": "code",
   "execution_count": 18,
   "metadata": {
    "ExecuteTime": {
     "end_time": "2021-10-16T13:57:31.774232Z",
     "start_time": "2021-10-16T13:57:31.770434Z"
    }
   },
   "outputs": [
    {
     "name": "stdout",
     "output_type": "stream",
     "text": [
      "Los valores son:\n",
      "x=1,y=2\n"
     ]
    }
   ],
   "source": [
    "x, y = 1, 2\n",
    "print(f'Los valores son:\\nx={x},y={y}')"
   ]
  },
  {
   "cell_type": "markdown",
   "metadata": {},
   "source": [
    "## (B.3) Reutilización\n",
    "Al utilizar en programación las variables, es posible realizar cálculos y fácilmente adaptar sus valores."
   ]
  },
  {
   "cell_type": "code",
   "execution_count": 19,
   "metadata": {
    "ExecuteTime": {
     "end_time": "2021-10-16T13:57:32.358048Z",
     "start_time": "2021-10-16T13:57:32.349940Z"
    }
   },
   "outputs": [
    {
     "name": "stdout",
     "output_type": "stream",
     "text": [
      "La nota media del alumno es 8.295.\n",
      "Usted ha obtenido un NOTABLE.\n"
     ]
    }
   ],
   "source": [
    "nota_1 = 7.54\n",
    "nota_2 = 9.05\n",
    "nota_media = (nota_1 + nota_2) / 2\n",
    "print(f'La nota media del alumno es {nota_media}.')\n",
    "\n",
    "if(0 <= nota_media < 5):\n",
    "    print(\"Usted ha obtenido un SUSPENSO.\")\n",
    "elif(5 <= nota_media < 6):\n",
    "    print(\"Usted ha obtenido un SUFICIENTE.\")\n",
    "elif(6 <= nota_media < 7):\n",
    "    print(\"Usted ha obtenido un BIEN.\")\n",
    "elif(7 <= nota_media < 9):\n",
    "    print(\"Usted ha obtenido un NOTABLE.\")      \n",
    "elif(9 <= nota_media < 10):\n",
    "    print(\"Usted ha obtenido un SOBRESALIENTE.\")          \n",
    "elif(nota_media == 10):\n",
    "    print(\"Usted ha obtenido una MATRÍCULA DE HONOR.\")            \n",
    "else:\n",
    "    print(\"Usted no ha introducido bien las notas.\")  "
   ]
  },
  {
   "cell_type": "markdown",
   "metadata": {
    "collapsed": true
   },
   "source": [
    "# (C) CONSTANTES\n",
    "\n",
    "Una constante es un espacio en memoria en el cúal se almacena un dato cuyo valor no será posible modificar durante la ejecución del programa. En Python no existen las constantes, y para ello, se utilizan variables.\n",
    "\n",
    "Las principales recomendaciones para el uso de variables es:\n",
    "- Utilizar sólo letras mayúsculas, dígitos o el guion subrayado (_).\n",
    "- Utilizar nombres descriptivos, aunque sean largos y compuestos por varias palabras.\n",
    "- Como en las variables, la longitud recomendable es de 2 a 4 palabras o entre 8 y 20 caracteres\n"
   ]
  },
  {
   "cell_type": "code",
   "execution_count": 20,
   "metadata": {
    "ExecuteTime": {
     "end_time": "2021-10-16T13:57:32.975504Z",
     "start_time": "2021-10-16T13:57:32.972807Z"
    }
   },
   "outputs": [],
   "source": [
    "NUM_MAX_ALUMNOS = 25"
   ]
  },
  {
   "cell_type": "markdown",
   "metadata": {},
   "source": [
    "# (D) \tMemoria\n",
    "\n",
    "A pesar de ser un fantástico lenguaje de programación, Python, también es conocido por ser bastante lento, debido a su enorme flexibilidad y características dinámicas. \n",
    "\n",
    "Para muchas aplicaciones y dominios no es un problema debido a sus requerimientos y técnicas de optimización. Por ejemplo,  los gráficos de objetos en Python (diccionarios anidados de listas y tuplas y tipos primitivos) toman una cantidad significativa de memoria, lo que puede ser un factor limitante debido a sus efectos sobre el almacenamiento, memoria virtual, el ensamblaje con otros programas y en general agotar más rápido la memoria disponible, que es un recurso escaso y costoso.\n",
    "\n",
    "Para medir el consumo de memoria, es posible utilizar la función **sys.getsizeof()**. El módulo sys (sistema) incluye esta función que acepta un objeto para, posteriormente, llamar a su método **sizeof()** y obtener su tamaño en bytes.\n",
    "\n"
   ]
  },
  {
   "cell_type": "code",
   "execution_count": 21,
   "metadata": {
    "ExecuteTime": {
     "end_time": "2021-10-16T13:57:33.588233Z",
     "start_time": "2021-10-16T13:57:33.569360Z"
    }
   },
   "outputs": [
    {
     "name": "stdout",
     "output_type": "stream",
     "text": [
      "decimal: 104 bytes\n",
      "float: 24 bytes\n",
      "int: 28 bytes\n",
      "--------------------------------------------------\n",
      "character_str: 50 bytes\n",
      "empty_str: 49 bytes\n",
      "str: 53 bytes\n",
      "--------------------------------------------------\n",
      "character_unicode_str: 50 bytes\n",
      "empty_unicode_str: 49 bytes\n",
      "unicode_str: 53 bytes\n",
      "--------------------------------------------------\n",
      "dict: 88 bytes\n",
      "empty_dict: 56 bytes\n",
      "long_dict: 80 bytes\n",
      "single_dict: 64 bytes\n",
      "--------------------------------------------------\n",
      "list: 56 bytes\n",
      "object: 16 bytes\n",
      "set: 216 bytes\n",
      "tuple: 40 bytes\n",
      "--------------------------------------------------\n"
     ]
    }
   ],
   "source": [
    "import sys\n",
    "import decimal\n",
    "data_types_numeric = {\n",
    "                     \"int\": 50,\n",
    "                     \"float\": 5.35656,\n",
    "                     \"decimal\": decimal.Decimal(5.345)\n",
    "                     }\n",
    "\n",
    "data_types_string = {\n",
    "                     \"empty_str\": \"\",\n",
    "                     \"character_str\": \"a\",\n",
    "                     \"str\": \"abcd\"\n",
    "                     }\n",
    "\n",
    "data_types_unicode_string = {\n",
    "                             \"empty_unicode_str\": u'',\n",
    "                             \"character_unicode_str\": u'a',\n",
    "                             \"unicode_str\": u'abcd'\n",
    "                             }\n",
    "\n",
    "data_types_dict =   {\n",
    "                     \"empty_dict\": [],\n",
    "                     \"single_dict\": [1],\n",
    "                     \"dict\": [1, 2, 3, 4],\n",
    "                     \"long_dict\": [\"a long long long string\", \"a long long long string\", \"a long long long string\"]\n",
    "                     }\n",
    "\n",
    "data_types = {\n",
    "              \"set\": set(),\n",
    "              \"tuple\": tuple(),\n",
    "              \"list\": list(),\n",
    "              \"object\": object()\n",
    "             }\n",
    "\n",
    "for k, v in sorted(data_types_numeric.items()):\n",
    "    print(k + \": \" +  str(sys.getsizeof(v)) +\" bytes\")\n",
    "print(50*\"-\")\n",
    "\n",
    "for k, v in sorted(data_types_string.items()):\n",
    "    print(k + \": \" +  str(sys.getsizeof(v)) +\" bytes\")\n",
    "print(50*\"-\")\n",
    "\n",
    "for k, v in sorted(data_types_unicode_string.items()):\n",
    "    print(k + \": \" +  str(sys.getsizeof(v)) +\" bytes\")\n",
    "print(50*\"-\")\n",
    "\n",
    "for k, v in sorted(data_types_dict.items()):\n",
    "    print(k + \": \" +  str(sys.getsizeof(v)) +\" bytes\")\n",
    "print(50*\"-\")\n",
    "   \n",
    "for k, v in sorted(data_types.items()):\n",
    "    print(k + \": \" +  str(sys.getsizeof(v)) +\" bytes\")\n",
    "print(50*\"-\")\n"
   ]
  },
  {
   "cell_type": "markdown",
   "metadata": {},
   "source": [
    "Un entero ocupa en memoria 28 bytes, mientras que un float está ocupando 28 bytes y un decimal 80 bytes\n",
    "\n",
    "Por otro lado, una cadena vacía toma 51 bytes, y cada carácter adicional añade otro byte. Por este motivo, es importante no utilizar varias cadenas cortas ya que cada una incorpora una sobrecarga de 50 bytes de gastos generales y un byte por cada carácter por cada cadena. Es mejor solución utilizar una sola cadena larga para aprovechar una única sobrecarga y un byte por cada carácter.\n",
    "\n",
    "Las cadenas Unicode se comportan de manera similar, excepto que la sobrecarga es de 50 bytes y cada carácter adicional añade 2 bytes. Esto es algo a tener en cuenta si utilizas bibliotecas que devuelven cadenas Unicode, pero tu texto puede representarse como cadenas simples.\n",
    "\n",
    "Las listas no contiene objetos por si mismo. Si no que contiene un puntero de 8 bytes (versiones de 64 bits) al objeto que se encuentra en su interior. Por lo tanto, la función getsizeof() no devuelve la memoria actual de la lista y todos los objetos que contiene, sino sólo la memoria de la lista y los punteros a los objetos. Para poder obtener correctamente la memoria consumida por los objetos que forma la lista (y no sus punteros) se debe implementar una función propia **deep_getsizeof()**\n",
    "\n",
    "Esta función tiene en cuenta los objetos que están referenciados varias veces y los contabiliza solo una vez. Para ello lleva un registro de los identificadores de los objetos. Además, aprovecha al máximo las clases de base abstractas del módulo colecciónes. Esto permite a la función manejar cualquier colección que implemente las clases base Mapping o Container en lugar de tratar directamente con una gran cantidad de tipos de colecciones (string, Unicode, bytes, list, tuple, dict, frozendict, Ordereddict, set, frozenset, etc.)"
   ]
  },
  {
   "cell_type": "code",
   "execution_count": 22,
   "metadata": {
    "ExecuteTime": {
     "end_time": "2021-10-16T13:57:34.383098Z",
     "start_time": "2021-10-16T13:57:34.366095Z"
    }
   },
   "outputs": [
    {
     "name": "stdout",
     "output_type": "stream",
     "text": [
      "Un string de tamaño 7 utiliza 56 bytes (49 sobrecarga y 1 por cada caracter)\n",
      "Una lista vacía utiliza 56 bytes (sobrecarga)\n",
      "Una lista que contiene el string 5 veces, utiliza 152 bytes (56 + 56 + 5 * 8 = 152)\n"
     ]
    }
   ],
   "source": [
    "from collections.abc import Mapping, Container\n",
    "from sys import getsizeof\n",
    "\n",
    "def deep_getsizeof(o, ids):\n",
    "    \"\"\"Encontrar la memoria de un objeto en Python\n",
    "    \n",
    "       Función recursiva que examina el perfil de un objeto en Python (diccionario anidado, listas, tuplas y conjuntos)\n",
    "       \n",
    "       La función sys.getsizeof funciona únicamente para obtener el tamaño \"superficial\". Contabiliza cada objeto dentro del \n",
    "       contenedor como un puntero, independientemente de su tamaño real.\n",
    "       \n",
    "       :param o: Objeto\n",
    "       :param ids:\n",
    "       :return:\n",
    "    \"\"\"\n",
    "    \n",
    "    d = deep_getsizeof\n",
    "    \n",
    "    if(id(o) in ids):\n",
    "        return 0\n",
    "        \n",
    "    r = getsizeof(o)\n",
    "    ids.add(id(o))\n",
    "    \n",
    "    if(isinstance(o, str) or isinstance(0, str)):\n",
    "        return r\n",
    "    \n",
    "    if(isinstance(o, Mapping)):\n",
    "        return r + sum(d(k, ids) + d(v, ids) for k, v in o.iteritems())\n",
    "    \n",
    "    if(isinstance(o, Container)):\n",
    "        return r + sum(d(x, ids) for x in o)\n",
    "    \n",
    "    return r\n",
    "\n",
    "x = \"1234567\"\n",
    "size_str = deep_getsizeof(x, set())\n",
    "print(f'Un string de tamaño {len(x)} utiliza {size_str} bytes ({size_str-len(x)} sobrecarga y {int( (size_str-(size_str-len(x)))/len(x) )} por cada caracter)')\n",
    "\n",
    "x0 = []\n",
    "size_str0 = deep_getsizeof(x0, set())\n",
    "print(f'Una lista vacía utiliza {size_str0} bytes (sobrecarga)')\n",
    "\n",
    "x1 = [x, x, x, x, x]\n",
    "size_str1 = deep_getsizeof(x1, set())\n",
    "print(f'Una lista que contiene el string {len(x1)} veces, utiliza {size_str1} bytes ({size_str0} + {size_str} + {len(x1)} * 8 = {size_str1})')\n"
   ]
  },
  {
   "cell_type": "markdown",
   "metadata": {},
   "source": [
    "## Notas\n",
    "\n",
    "1. Conteo de referencias. Python controla la memoria utilizando un mecanismo contador de referencias. Una vez que un objeto no se encuentra referenciado, su memoria es deslocalizada. Sin embargo, mientras existe una referencia, el objeto no se deslocalizará.\n",
    "2. Objetos pequeños. CPython maneja objetos pequeños (menos de 256 bytes) en grupos específicos con límites de 8 bytes. De esta forma, hay grupos de 1 a 8 bytes, de 9 a 16 bytes, hasta de 249 a 256 bytes. Cuando se asigna un objeto de tamaño 10, se asigna desde el grupo de 16 bytes (obtenos de 9 a 16 bytes de memoria). De esta forma, aunque sólo contenga 10 bytes de datos, se reservarán 16 bytes en memoria. Por ejemplo, si se asignan 1.000.000 de objetos de tamaño 10, en realidad, se utililzarán 16.000.000 de bytes (y no 10.000.000). Por lo tanto, se debe tener muy en cuenta esta sobrecarga del 60%\n",
    "3. Enteros. CPython mantiene una lista global de todos los números enteros en el rango [-5, 256]. Se trata de una estrategia de optimización que permite ahorrar mucha memoria ya que los enteros pequeños suelen ser muy utilizados y dado que cada número ocupa 24 bytes. Esto también significa que CPython pre-asigna 266 * 24 = 6384 bytes para todos estos números enteros, incluso si no utiliza la mayoría de ellos. Para comprobarlo se puede utilizar la función **id()** para cualquier valor en el rango [-5, 256] obteniendo el mismo resultado. Si se realiza esta operación para número enteros fuera de rango, cada uno será diferente."
   ]
  },
  {
   "cell_type": "code",
   "execution_count": 23,
   "metadata": {
    "ExecuteTime": {
     "end_time": "2021-10-16T13:57:35.128317Z",
     "start_time": "2021-10-16T13:57:35.106445Z"
    }
   },
   "outputs": [
    {
     "name": "stdout",
     "output_type": "stream",
     "text": [
      "Número: -5. Id = 4302051488\n",
      "Número: -4. Id = 4302051520\n",
      "Número: -3. Id = 4302051552\n",
      "Número: -2. Id = 4302051584\n",
      "Número: -1. Id = 4302051616\n",
      "Número: 0. Id = 4302051648\n",
      "Número: 1. Id = 4302051680\n",
      "Número: 2. Id = 4302051712\n",
      "Número: 3. Id = 4302051744\n",
      "Número: 4. Id = 4302051776\n",
      "Número: 5. Id = 4302051808\n",
      "Número: 6. Id = 4302051840\n",
      "Número: 7. Id = 4302051872\n",
      "Número: 8. Id = 4302051904\n",
      "Número: 9. Id = 4302051936\n",
      "Número: 10. Id = 4302051968\n",
      "Número: 11. Id = 4302052000\n",
      "Número: 12. Id = 4302052032\n",
      "Número: 13. Id = 4302052064\n",
      "Número: 14. Id = 4302052096\n",
      "Número: 15. Id = 4302052128\n",
      "Número: 16. Id = 4302052160\n",
      "Número: 17. Id = 4302052192\n",
      "Número: 18. Id = 4302052224\n",
      "Número: 19. Id = 4302052256\n",
      "Número: 20. Id = 4302052288\n",
      "Número: 21. Id = 4302052320\n",
      "Número: 22. Id = 4302052352\n",
      "Número: 23. Id = 4302052384\n",
      "Número: 24. Id = 4302052416\n",
      "Número: 25. Id = 4302052448\n",
      "Número: 26. Id = 4302052480\n",
      "Número: 27. Id = 4302052512\n",
      "Número: 28. Id = 4302052544\n",
      "Número: 29. Id = 4302052576\n",
      "Número: 30. Id = 4302052608\n",
      "Número: 31. Id = 4302052640\n",
      "Número: 32. Id = 4302052672\n",
      "Número: 33. Id = 4302052704\n",
      "Número: 34. Id = 4302052736\n",
      "Número: 35. Id = 4302052768\n",
      "Número: 36. Id = 4302052800\n",
      "Número: 37. Id = 4302052832\n",
      "Número: 38. Id = 4302052864\n",
      "Número: 39. Id = 4302052896\n",
      "Número: 40. Id = 4302052928\n",
      "Número: 41. Id = 4302052960\n",
      "Número: 42. Id = 4302052992\n",
      "Número: 43. Id = 4302053024\n",
      "Número: 44. Id = 4302053056\n",
      "Número: 45. Id = 4302053088\n",
      "Número: 46. Id = 4302053120\n",
      "Número: 47. Id = 4302053152\n",
      "Número: 48. Id = 4302053184\n",
      "Número: 49. Id = 4302053216\n",
      "Número: 50. Id = 4302053248\n",
      "Número: 51. Id = 4302053280\n",
      "Número: 52. Id = 4302053312\n",
      "Número: 53. Id = 4302053344\n",
      "Número: 54. Id = 4302053376\n",
      "Número: 55. Id = 4302053408\n",
      "Número: 56. Id = 4302053440\n",
      "Número: 57. Id = 4302053472\n",
      "Número: 58. Id = 4302053504\n",
      "Número: 59. Id = 4302053536\n",
      "Número: 60. Id = 4302053568\n",
      "Número: 61. Id = 4302053600\n",
      "Número: 62. Id = 4302053632\n",
      "Número: 63. Id = 4302053664\n",
      "Número: 64. Id = 4302053696\n",
      "Número: 65. Id = 4302053728\n",
      "Número: 66. Id = 4302053760\n",
      "Número: 67. Id = 4302053792\n",
      "Número: 68. Id = 4302053824\n",
      "Número: 69. Id = 4302053856\n",
      "Número: 70. Id = 4302053888\n",
      "Número: 71. Id = 4302053920\n",
      "Número: 72. Id = 4302053952\n",
      "Número: 73. Id = 4302053984\n",
      "Número: 74. Id = 4302054016\n",
      "Número: 75. Id = 4302054048\n",
      "Número: 76. Id = 4302054080\n",
      "Número: 77. Id = 4302054112\n",
      "Número: 78. Id = 4302054144\n",
      "Número: 79. Id = 4302054176\n",
      "Número: 80. Id = 4302054208\n",
      "Número: 81. Id = 4302054240\n",
      "Número: 82. Id = 4302054272\n",
      "Número: 83. Id = 4302054304\n",
      "Número: 84. Id = 4302054336\n",
      "Número: 85. Id = 4302054368\n",
      "Número: 86. Id = 4302054400\n",
      "Número: 87. Id = 4302054432\n",
      "Número: 88. Id = 4302054464\n",
      "Número: 89. Id = 4302054496\n",
      "Número: 90. Id = 4302054528\n",
      "Número: 91. Id = 4302054560\n",
      "Número: 92. Id = 4302054592\n",
      "Número: 93. Id = 4302054624\n",
      "Número: 94. Id = 4302054656\n",
      "Número: 95. Id = 4302054688\n",
      "Número: 96. Id = 4302054720\n",
      "Número: 97. Id = 4302054752\n",
      "Número: 98. Id = 4302054784\n",
      "Número: 99. Id = 4302054816\n",
      "Número: 100. Id = 4302054848\n",
      "Número: 101. Id = 4302054880\n",
      "Número: 102. Id = 4302054912\n",
      "Número: 103. Id = 4302054944\n",
      "Número: 104. Id = 4302054976\n",
      "Número: 105. Id = 4302055008\n",
      "Número: 106. Id = 4302055040\n",
      "Número: 107. Id = 4302055072\n",
      "Número: 108. Id = 4302055104\n",
      "Número: 109. Id = 4302055136\n",
      "Número: 110. Id = 4302055168\n",
      "Número: 111. Id = 4302055200\n",
      "Número: 112. Id = 4302055232\n",
      "Número: 113. Id = 4302055264\n",
      "Número: 114. Id = 4302055296\n",
      "Número: 115. Id = 4302055328\n",
      "Número: 116. Id = 4302055360\n",
      "Número: 117. Id = 4302055392\n",
      "Número: 118. Id = 4302055424\n",
      "Número: 119. Id = 4302055456\n",
      "Número: 120. Id = 4302055488\n",
      "Número: 121. Id = 4302055520\n",
      "Número: 122. Id = 4302055552\n",
      "Número: 123. Id = 4302055584\n",
      "Número: 124. Id = 4302055616\n",
      "Número: 125. Id = 4302055648\n",
      "Número: 126. Id = 4302055680\n",
      "Número: 127. Id = 4302055712\n",
      "Número: 128. Id = 4302055744\n",
      "Número: 129. Id = 4302055776\n",
      "Número: 130. Id = 4302055808\n",
      "Número: 131. Id = 4302055840\n",
      "Número: 132. Id = 4302055872\n",
      "Número: 133. Id = 4302055904\n",
      "Número: 134. Id = 4302055936\n",
      "Número: 135. Id = 4302055968\n",
      "Número: 136. Id = 4302056000\n",
      "Número: 137. Id = 4302056032\n",
      "Número: 138. Id = 4302056064\n",
      "Número: 139. Id = 4302056096\n",
      "Número: 140. Id = 4302056128\n",
      "Número: 141. Id = 4302056160\n",
      "Número: 142. Id = 4302056192\n",
      "Número: 143. Id = 4302056224\n",
      "Número: 144. Id = 4302056256\n",
      "Número: 145. Id = 4302056288\n",
      "Número: 146. Id = 4302056320\n",
      "Número: 147. Id = 4302056352\n",
      "Número: 148. Id = 4302056384\n",
      "Número: 149. Id = 4302056416\n",
      "Número: 150. Id = 4302056448\n",
      "Número: 151. Id = 4302056480\n",
      "Número: 152. Id = 4302056512\n",
      "Número: 153. Id = 4302056544\n",
      "Número: 154. Id = 4302056576\n",
      "Número: 155. Id = 4302056608\n",
      "Número: 156. Id = 4302056640\n",
      "Número: 157. Id = 4302056672\n",
      "Número: 158. Id = 4302056704\n",
      "Número: 159. Id = 4302056736\n",
      "Número: 160. Id = 4302056768\n",
      "Número: 161. Id = 4302056800\n",
      "Número: 162. Id = 4302056832\n",
      "Número: 163. Id = 4302056864\n",
      "Número: 164. Id = 4302056896\n",
      "Número: 165. Id = 4302056928\n",
      "Número: 166. Id = 4302056960\n",
      "Número: 167. Id = 4302056992\n",
      "Número: 168. Id = 4302057024\n",
      "Número: 169. Id = 4302057056\n",
      "Número: 170. Id = 4302057088\n",
      "Número: 171. Id = 4302057120\n",
      "Número: 172. Id = 4302057152\n",
      "Número: 173. Id = 4302057184\n",
      "Número: 174. Id = 4302057216\n",
      "Número: 175. Id = 4302057248\n",
      "Número: 176. Id = 4302057280\n",
      "Número: 177. Id = 4302057312\n",
      "Número: 178. Id = 4302057344\n",
      "Número: 179. Id = 4302057376\n",
      "Número: 180. Id = 4302057408\n",
      "Número: 181. Id = 4302057440\n",
      "Número: 182. Id = 4302057472\n",
      "Número: 183. Id = 4302057504\n",
      "Número: 184. Id = 4302057536\n",
      "Número: 185. Id = 4302057568\n",
      "Número: 186. Id = 4302057600\n",
      "Número: 187. Id = 4302057632\n",
      "Número: 188. Id = 4302057664\n",
      "Número: 189. Id = 4302057696\n",
      "Número: 190. Id = 4302057728\n",
      "Número: 191. Id = 4302057760\n",
      "Número: 192. Id = 4302057792\n",
      "Número: 193. Id = 4302057824\n",
      "Número: 194. Id = 4302057856\n",
      "Número: 195. Id = 4302057888\n",
      "Número: 196. Id = 4302057920\n",
      "Número: 197. Id = 4302057952\n",
      "Número: 198. Id = 4302057984\n",
      "Número: 199. Id = 4302058016\n",
      "Número: 200. Id = 4302058048\n",
      "Número: 201. Id = 4302058080\n",
      "Número: 202. Id = 4302058112\n",
      "Número: 203. Id = 4302058144\n",
      "Número: 204. Id = 4302058176\n",
      "Número: 205. Id = 4302058208\n",
      "Número: 206. Id = 4302058240\n",
      "Número: 207. Id = 4302058272\n",
      "Número: 208. Id = 4302058304\n",
      "Número: 209. Id = 4302058336\n",
      "Número: 210. Id = 4302058368\n",
      "Número: 211. Id = 4302058400\n",
      "Número: 212. Id = 4302058432\n",
      "Número: 213. Id = 4302058464\n",
      "Número: 214. Id = 4302058496\n",
      "Número: 215. Id = 4302058528\n",
      "Número: 216. Id = 4302058560\n",
      "Número: 217. Id = 4302058592\n",
      "Número: 218. Id = 4302058624\n",
      "Número: 219. Id = 4302058656\n",
      "Número: 220. Id = 4302058688\n",
      "Número: 221. Id = 4302058720\n",
      "Número: 222. Id = 4302058752\n",
      "Número: 223. Id = 4302058784\n",
      "Número: 224. Id = 4302058816\n",
      "Número: 225. Id = 4302058848\n",
      "Número: 226. Id = 4302058880\n",
      "Número: 227. Id = 4302058912\n",
      "Número: 228. Id = 4302058944\n",
      "Número: 229. Id = 4302058976\n",
      "Número: 230. Id = 4302059008\n",
      "Número: 231. Id = 4302059040\n",
      "Número: 232. Id = 4302059072\n",
      "Número: 233. Id = 4302059104\n",
      "Número: 234. Id = 4302059136\n",
      "Número: 235. Id = 4302059168\n",
      "Número: 236. Id = 4302059200\n",
      "Número: 237. Id = 4302059232\n",
      "Número: 238. Id = 4302059264\n",
      "Número: 239. Id = 4302059296\n",
      "Número: 240. Id = 4302059328\n",
      "Número: 241. Id = 4302059360\n",
      "Número: 242. Id = 4302059392\n",
      "Número: 243. Id = 4302059424\n",
      "Número: 244. Id = 4302059456\n",
      "Número: 245. Id = 4302059488\n",
      "Número: 246. Id = 4302059520\n",
      "Número: 247. Id = 4302059552\n",
      "Número: 248. Id = 4302059584\n",
      "Número: 249. Id = 4302059616\n",
      "Número: 250. Id = 4302059648\n",
      "Número: 251. Id = 4302059680\n",
      "Número: 252. Id = 4302059712\n",
      "Número: 253. Id = 4302059744\n",
      "Número: 254. Id = 4302059776\n",
      "Número: 255. Id = 4302059808\n",
      "Número: 256. Id = 4302059840\n",
      "Número: 257. Id = 140595889607440\n",
      "Número: 258. Id = 140595889607504\n",
      "Número: 259. Id = 140595889607440\n",
      "Número: 260. Id = 140595889607504\n",
      "Número: 261. Id = 140595889607440\n",
      "Número: 262. Id = 140595889607504\n",
      "Número: 263. Id = 140595889607440\n",
      "Número: 264. Id = 140595889607504\n",
      "Número: 265. Id = 140595889607440\n",
      "Número: 266. Id = 140595889607504\n",
      "Número: 267. Id = 140595889607440\n",
      "Número: 268. Id = 140595889607504\n",
      "Número: 269. Id = 140595889607440\n",
      "Número: 270. Id = 140595889607504\n",
      "Número: 271. Id = 140595889607440\n",
      "Número: 272. Id = 140595889607504\n",
      "Número: 273. Id = 140595889607440\n",
      "Número: 274. Id = 140595889607504\n",
      "Número: 275. Id = 140595889607440\n",
      "Número: 276. Id = 140595889607504\n",
      "Número: 277. Id = 140595889607440\n",
      "Número: 278. Id = 140595889607504\n",
      "Número: 279. Id = 140595889607440\n",
      "Número: 280. Id = 140595889607504\n",
      "Número: 281. Id = 140595889607440\n",
      "Número: 282. Id = 140595889607504\n",
      "Número: 283. Id = 140595889607440\n",
      "Número: 284. Id = 140595889607504\n",
      "Número: 285. Id = 140595889607440\n",
      "Número: 286. Id = 140595889607504\n",
      "Número: 287. Id = 140595889607440\n",
      "Número: 288. Id = 140595889607504\n",
      "Número: 289. Id = 140595889607440\n",
      "Número: 290. Id = 140595889607504\n",
      "Número: 291. Id = 140595889607440\n",
      "Número: 292. Id = 140595889607504\n",
      "Número: 293. Id = 140595889607440\n",
      "Número: 294. Id = 140595889607504\n",
      "Número: 295. Id = 140595889607440\n",
      "Número: 296. Id = 140595889607504\n",
      "Número: 297. Id = 140595889607440\n",
      "Número: 298. Id = 140595889607504\n",
      "Número: 299. Id = 140595889607440\n",
      "Número: 300. Id = 140595889607504\n",
      "Número: 301. Id = 140595889607440\n",
      "Número: 302. Id = 140595889607504\n",
      "Número: 303. Id = 140595889607440\n",
      "Número: 304. Id = 140595889607504\n",
      "Número: 305. Id = 140595889607440\n",
      "Número: 306. Id = 140595889607504\n",
      "Número: 307. Id = 140595889607440\n",
      "Número: 308. Id = 140595889607504\n",
      "Número: 309. Id = 140595889607440\n",
      "Número: 310. Id = 140595889607504\n",
      "Número: 311. Id = 140595889607440\n",
      "Número: 312. Id = 140595889607504\n",
      "Número: 313. Id = 140595889607440\n",
      "Número: 314. Id = 140595889607504\n",
      "Número: 315. Id = 140595889607440\n",
      "Número: 316. Id = 140595889607504\n",
      "Número: 317. Id = 140595889607440\n",
      "Número: 318. Id = 140595889607504\n",
      "Número: 319. Id = 140595889607440\n",
      "Número: 320. Id = 140595889607504\n",
      "Número: 321. Id = 140595889607440\n",
      "Número: 322. Id = 140595889607504\n",
      "Número: 323. Id = 140595889607440\n",
      "Número: 324. Id = 140595889607504\n",
      "Número: 325. Id = 140595889607440\n",
      "Número: 326. Id = 140595889607504\n",
      "Número: 327. Id = 140595889607440\n",
      "Número: 328. Id = 140595889607504\n",
      "Número: 329. Id = 140595889607440\n",
      "Número: 330. Id = 140595889607504\n",
      "Número: 331. Id = 140595889607440\n",
      "Número: 332. Id = 140595889607504\n",
      "Número: 333. Id = 140595889607440\n",
      "Número: 334. Id = 140595889607504\n",
      "Número: 335. Id = 140595889607440\n",
      "Número: 336. Id = 140595889607504\n",
      "Número: 337. Id = 140595889607440\n",
      "Número: 338. Id = 140595889607504\n",
      "Número: 339. Id = 140595889607440\n",
      "Número: 340. Id = 140595889607504\n",
      "Número: 341. Id = 140595889607440\n",
      "Número: 342. Id = 140595889607504\n",
      "Número: 343. Id = 140595889607440\n",
      "Número: 344. Id = 140595889607504\n",
      "Número: 345. Id = 140595889607440\n",
      "Número: 346. Id = 140595889607504\n",
      "Número: 347. Id = 140595889607440\n",
      "Número: 348. Id = 140595889607504\n",
      "Número: 349. Id = 140595889607440\n",
      "Número: 350. Id = 140595889607504\n",
      "Número: 351. Id = 140595889607440\n",
      "Número: 352. Id = 140595889607504\n",
      "Número: 353. Id = 140595889607440\n",
      "Número: 354. Id = 140595889607504\n",
      "Número: 355. Id = 140595889607440\n",
      "Número: 356. Id = 140595889607504\n",
      "Número: 357. Id = 140595889607440\n",
      "Número: 358. Id = 140595889607504\n",
      "Número: 359. Id = 140595889607440\n",
      "Número: 360. Id = 140595889607504\n",
      "Número: 361. Id = 140595889607440\n",
      "Número: 362. Id = 140595889607504\n",
      "Número: 363. Id = 140595889607312\n",
      "Número: 364. Id = 140595889607504\n",
      "Número: 365. Id = 140595889607312\n",
      "Número: 366. Id = 140595889607504\n",
      "Número: 367. Id = 140595889607312\n",
      "Número: 368. Id = 140595889607504\n",
      "Número: 369. Id = 140595889607312\n",
      "Número: 370. Id = 140595889607504\n",
      "Número: 371. Id = 140595889607312\n",
      "Número: 372. Id = 140595889607504\n",
      "Número: 373. Id = 140595889607312\n",
      "Número: 374. Id = 140595889607504\n",
      "Número: 375. Id = 140595889607312\n",
      "Número: 376. Id = 140595889607504\n",
      "Número: 377. Id = 140595889607312\n",
      "Número: 378. Id = 140595889607504\n",
      "Número: 379. Id = 140595889607312\n",
      "Número: 380. Id = 140595889607504\n",
      "Número: 381. Id = 140595889607312\n",
      "Número: 382. Id = 140595889607504\n",
      "Número: 383. Id = 140595889607312\n",
      "Número: 384. Id = 140595889607504\n",
      "Número: 385. Id = 140595889607312\n",
      "Número: 386. Id = 140595889607504\n",
      "Número: 387. Id = 140595889607312\n",
      "Número: 388. Id = 140595889607504\n",
      "Número: 389. Id = 140595889607312\n",
      "Número: 390. Id = 140595889607504\n",
      "Número: 391. Id = 140595889607312\n",
      "Número: 392. Id = 140595889607504\n",
      "Número: 393. Id = 140595889607312\n",
      "Número: 394. Id = 140595889607504\n",
      "Número: 395. Id = 140595889607312\n",
      "Número: 396. Id = 140595889607504\n",
      "Número: 397. Id = 140595889607312\n",
      "Número: 398. Id = 140595889607504\n",
      "Número: 399. Id = 140595889607312\n",
      "Número: 400. Id = 140595889607504\n",
      "Número: 401. Id = 140595889607312\n",
      "Número: 402. Id = 140595889607504\n",
      "Número: 403. Id = 140595889607312\n",
      "Número: 404. Id = 140595889607504\n",
      "Número: 405. Id = 140595889607312\n",
      "Número: 406. Id = 140595889607504\n",
      "Número: 407. Id = 140595889607312\n",
      "Número: 408. Id = 140595889607504\n",
      "Número: 409. Id = 140595889607312\n",
      "Número: 410. Id = 140595889607504\n",
      "Número: 411. Id = 140595889607312\n",
      "Número: 412. Id = 140595889607504\n",
      "Número: 413. Id = 140595889607312\n",
      "Número: 414. Id = 140595889607504\n",
      "Número: 415. Id = 140595889607312\n",
      "Número: 416. Id = 140595889607504\n",
      "Número: 417. Id = 140595889607312\n",
      "Número: 418. Id = 140595889607504\n",
      "Número: 419. Id = 140595889607312\n",
      "Número: 420. Id = 140595889607504\n",
      "Número: 421. Id = 140595889607312\n",
      "Número: 422. Id = 140595889607504\n",
      "Número: 423. Id = 140595889607312\n",
      "Número: 424. Id = 140595889607504\n",
      "Número: 425. Id = 140595889607312\n",
      "Número: 426. Id = 140595889607504\n",
      "Número: 427. Id = 140595889607312\n",
      "Número: 428. Id = 140595889607504\n",
      "Número: 429. Id = 140595889607312\n",
      "Número: 430. Id = 140595889607504\n",
      "Número: 431. Id = 140595889607312\n",
      "Número: 432. Id = 140595889607504\n",
      "Número: 433. Id = 140595889607312\n",
      "Número: 434. Id = 140595889607504\n",
      "Número: 435. Id = 140595889607312\n",
      "Número: 436. Id = 140595889607504\n",
      "Número: 437. Id = 140595889607312\n",
      "Número: 438. Id = 140595889607504\n",
      "Número: 439. Id = 140595889607312\n",
      "Número: 440. Id = 140595889607504\n",
      "Número: 441. Id = 140595889607312\n",
      "Número: 442. Id = 140595889607504\n",
      "Número: 443. Id = 140595889607312\n",
      "Número: 444. Id = 140595889607504\n",
      "Número: 445. Id = 140595889607312\n",
      "Número: 446. Id = 140595889607504\n",
      "Número: 447. Id = 140595889607312\n",
      "Número: 448. Id = 140595889607504\n",
      "Número: 449. Id = 140595889607312\n",
      "Número: 450. Id = 140595889607504\n",
      "Número: 451. Id = 140595889607312\n",
      "Número: 452. Id = 140595889607504\n",
      "Número: 453. Id = 140595889607312\n",
      "Número: 454. Id = 140595889607504\n",
      "Número: 455. Id = 140595889607312\n",
      "Número: 456. Id = 140595889607504\n",
      "Número: 457. Id = 140595889607312\n",
      "Número: 458. Id = 140595889607504\n",
      "Número: 459. Id = 140595889607312\n",
      "Número: 460. Id = 140595889607504\n",
      "Número: 461. Id = 140595889607312\n",
      "Número: 462. Id = 140595889607504\n",
      "Número: 463. Id = 140595889607312\n",
      "Número: 464. Id = 140595889607504\n",
      "Número: 465. Id = 140595889607312\n",
      "Número: 466. Id = 140595889607504\n",
      "Número: 467. Id = 140595889607312\n",
      "Número: 468. Id = 140595889607504\n",
      "Número: 469. Id = 140595889607312\n",
      "Número: 470. Id = 140595889607504\n",
      "Número: 471. Id = 140595889607312\n",
      "Número: 472. Id = 140595889607504\n",
      "Número: 473. Id = 140595889607312\n",
      "Número: 474. Id = 140595889607504\n",
      "Número: 475. Id = 140595889607312\n",
      "Número: 476. Id = 140595889607504\n",
      "Número: 477. Id = 140595889607312\n",
      "Número: 478. Id = 140595889607504\n",
      "Número: 479. Id = 140595889607312\n",
      "Número: 480. Id = 140595889607504\n",
      "Número: 481. Id = 140595889607312\n",
      "Número: 482. Id = 140595889607504\n",
      "Número: 483. Id = 140595889607312\n",
      "Número: 484. Id = 140595889607504\n",
      "Número: 485. Id = 140595889607312\n",
      "Número: 486. Id = 140595889607504\n",
      "Número: 487. Id = 140595889607312\n",
      "Número: 488. Id = 140595889607504\n",
      "Número: 489. Id = 140595889607312\n",
      "Número: 490. Id = 140595889607504\n",
      "Número: 491. Id = 140595889607312\n",
      "Número: 492. Id = 140595889607504\n",
      "Número: 493. Id = 140595889607312\n",
      "Número: 494. Id = 140595889607504\n",
      "Número: 495. Id = 140595889607312\n",
      "Número: 496. Id = 140595889607504\n",
      "Número: 497. Id = 140595889607312\n",
      "Número: 498. Id = 140595889607504\n",
      "Número: 499. Id = 140595889607312\n"
     ]
    }
   ],
   "source": [
    "# Preguntar para Python 3\n",
    "iter = -5\n",
    "while iter<500:\n",
    "    print(f'Número: {iter}. Id = {id(iter)}')\n",
    "    iter+=1"
   ]
  },
  {
   "cell_type": "markdown",
   "metadata": {},
   "source": [
    "## Memoria de python vs Memoria del sistema\n",
    "\n",
    "En muchos casos, cuando los objetos de memoria del programa ya no están referenciados, no se devuelven al sistema (por ejemplo, los objetos pequeños). Esto es bueno si se asigna y elimina la asignación de muchos objetos (que pertenecen al mismo conjunto de 8 bytes) porque Python no tiene que \"molestar\" al sistema, lo cual es relativamente computacionalmente costoso. Pero no es tan bueno si el programa normalmente utiliza X bytes y bajo alguna condición temporal utiliza 100 veces más (por ejemplo, analizando y procesando un gran archivo de configuración sólo cuando se inicia).\n",
    "\n",
    "Esa memoria 100X puede quedar atrapada inútilmente en el programa, para no volver a ser utilizada nunca más y negar al sistema la posibilidad de asignarla a otros programas. La ironía es que si se utiliza el módulo de procesamiento para ejecutar múltiples instancias del programa, se limitará considerablemente el número de instancias que pueden ser ejecutadas en una máquina determinada.\n",
    "\n"
   ]
  },
  {
   "cell_type": "markdown",
   "metadata": {},
   "source": [
    "## Perfil de memoria (memory profiler)\n",
    "Para medir el uso real de la memoria de su programa, puede utilizar el módulo memory_profiler. He jugado un poco con él y no estoy seguro de confiar en los resultados. Usarlo es muy simple. Decoras una función (podría ser la función principal(0) con el decorador @profiler, y cuando el programa sale, el perfilador de memoria imprime a la salida estándar un práctico informe que muestra el total y los cambios en la memoria para cada línea. Aquí hay un programa de muestra que corrí bajo el perfilador:"
   ]
  },
  {
   "cell_type": "code",
   "execution_count": 24,
   "metadata": {
    "ExecuteTime": {
     "end_time": "2021-10-16T13:57:36.224077Z",
     "start_time": "2021-10-16T13:57:36.204373Z"
    }
   },
   "outputs": [
    {
     "ename": "ModuleNotFoundError",
     "evalue": "No module named 'memory_profiler'",
     "output_type": "error",
     "traceback": [
      "\u001b[0;31m---------------------------------------------------------------------------\u001b[0m",
      "\u001b[0;31mModuleNotFoundError\u001b[0m                       Traceback (most recent call last)",
      "\u001b[0;32m<ipython-input-24-e0e7bf53da06>\u001b[0m in \u001b[0;36m<module>\u001b[0;34m\u001b[0m\n\u001b[0;32m----> 1\u001b[0;31m \u001b[0;32mfrom\u001b[0m \u001b[0mmemory_profiler\u001b[0m \u001b[0;32mimport\u001b[0m \u001b[0mprofile\u001b[0m\u001b[0;34m\u001b[0m\u001b[0;34m\u001b[0m\u001b[0m\n\u001b[0m\u001b[1;32m      2\u001b[0m \u001b[0;34m\u001b[0m\u001b[0m\n\u001b[1;32m      3\u001b[0m \u001b[0;34m@\u001b[0m\u001b[0mprofile\u001b[0m\u001b[0;34m\u001b[0m\u001b[0;34m\u001b[0m\u001b[0m\n\u001b[1;32m      4\u001b[0m \u001b[0;32mdef\u001b[0m \u001b[0mmain\u001b[0m\u001b[0;34m(\u001b[0m\u001b[0;34m)\u001b[0m\u001b[0;34m:\u001b[0m\u001b[0;34m\u001b[0m\u001b[0;34m\u001b[0m\u001b[0m\n\u001b[1;32m      5\u001b[0m     \u001b[0ma\u001b[0m \u001b[0;34m=\u001b[0m \u001b[0;34m[\u001b[0m\u001b[0;34m]\u001b[0m\u001b[0;34m\u001b[0m\u001b[0;34m\u001b[0m\u001b[0m\n",
      "\u001b[0;31mModuleNotFoundError\u001b[0m: No module named 'memory_profiler'"
     ]
    }
   ],
   "source": [
    "from memory_profiler import profile\n",
    "\n",
    "@profile\n",
    "def main():\n",
    "    a = []\n",
    "    b = []\n",
    "    c = []\n",
    "    for i in range(100000):\n",
    "        a.append(5)\n",
    "    for i in range(100000):\n",
    "        b.append(300)\n",
    "    for i in range(100000):\n",
    "        c.append('123456789012345678901234567890')\n",
    "    del a\n",
    "    del b\n",
    "    del c\n",
    " \n",
    "    print(\"Done!\")\n",
    "    \n",
    "if __name__ == '__main__':\n",
    "    %prun main()"
   ]
  }
 ],
 "metadata": {
  "kernelspec": {
   "display_name": "Python 3",
   "language": "python",
   "name": "python3"
  },
  "language_info": {
   "codemirror_mode": {
    "name": "ipython",
    "version": 3
   },
   "file_extension": ".py",
   "mimetype": "text/x-python",
   "name": "python",
   "nbconvert_exporter": "python",
   "pygments_lexer": "ipython3",
   "version": "3.8.10"
  },
  "nbTranslate": {
   "displayLangs": [
    "*"
   ],
   "hotkey": "alt-t",
   "langInMainMenu": true,
   "sourceLang": "en",
   "targetLang": "fr",
   "useGoogleTranslate": true
  },
  "toc": {
   "base_numbering": 1,
   "nav_menu": {},
   "number_sections": true,
   "sideBar": true,
   "skip_h1_title": true,
   "title_cell": "Table of Contents",
   "title_sidebar": "Contents",
   "toc_cell": true,
   "toc_position": {},
   "toc_section_display": true,
   "toc_window_display": false
  },
  "varInspector": {
   "cols": {
    "lenName": 16,
    "lenType": 16,
    "lenVar": 40
   },
   "kernels_config": {
    "python": {
     "delete_cmd_postfix": "",
     "delete_cmd_prefix": "del ",
     "library": "var_list.py",
     "varRefreshCmd": "print(var_dic_list())"
    },
    "r": {
     "delete_cmd_postfix": ") ",
     "delete_cmd_prefix": "rm(",
     "library": "var_list.r",
     "varRefreshCmd": "cat(var_dic_list()) "
    }
   },
   "types_to_exclude": [
    "module",
    "function",
    "builtin_function_or_method",
    "instance",
    "_Feature"
   ],
   "window_display": false
  }
 },
 "nbformat": 4,
 "nbformat_minor": 4
}
