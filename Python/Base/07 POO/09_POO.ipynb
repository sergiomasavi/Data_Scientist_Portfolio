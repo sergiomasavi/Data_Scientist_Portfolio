{
 "cells": [
  {
   "cell_type": "markdown",
   "metadata": {},
   "source": [
    "<img src=\"Tarjeta.png\">"
   ]
  },
  {
   "cell_type": "markdown",
   "metadata": {
    "toc": true
   },
   "source": [
    "<h1>Table of Contents<span class=\"tocSkip\"></span></h1>\n",
    "<div class=\"toc\"><ul class=\"toc-item\"><li><span><a href=\"#Clases\" data-toc-modified-id=\"Clases-1\"><span class=\"toc-item-num\">1&nbsp;&nbsp;</span>Clases</a></span><ul class=\"toc-item\"><li><span><a href=\"#Definición-práctica-de-una-clase\" data-toc-modified-id=\"Definición-práctica-de-una-clase-1.1\"><span class=\"toc-item-num\">1.1&nbsp;&nbsp;</span>Definición práctica de una clase</a></span></li><li><span><a href=\"#Instanciación\" data-toc-modified-id=\"Instanciación-1.2\"><span class=\"toc-item-num\">1.2&nbsp;&nbsp;</span>Instanciación</a></span></li><li><span><a href=\"#Atributos-y-métodos-de-la-clase\" data-toc-modified-id=\"Atributos-y-métodos-de-la-clase-1.3\"><span class=\"toc-item-num\">1.3&nbsp;&nbsp;</span>Atributos y métodos de la clase</a></span></li><li><span><a href=\"#Atributos-dinámicos-en-objetos-(ATENCIÓN)\" data-toc-modified-id=\"Atributos-dinámicos-en-objetos-(ATENCIÓN)-1.4\"><span class=\"toc-item-num\">1.4&nbsp;&nbsp;</span>Atributos dinámicos en objetos (ATENCIÓN)</a></span></li><li><span><a href=\"#Definición-de-atributos-en-una-clase\" data-toc-modified-id=\"Definición-de-atributos-en-una-clase-1.5\"><span class=\"toc-item-num\">1.5&nbsp;&nbsp;</span>Definición de atributos en una clase</a></span></li><li><span><a href=\"#Constructores\" data-toc-modified-id=\"Constructores-1.6\"><span class=\"toc-item-num\">1.6&nbsp;&nbsp;</span>Constructores</a></span></li><li><span><a href=\"#Métodos-y-la-palabra-self\" data-toc-modified-id=\"Métodos-y-la-palabra-self-1.7\"><span class=\"toc-item-num\">1.7&nbsp;&nbsp;</span>Métodos y la palabra self</a></span></li><li><span><a href=\"#Parámetros-en-el-init-(argumentos-al-instanciar)\" data-toc-modified-id=\"Parámetros-en-el-init-(argumentos-al-instanciar)-1.8\"><span class=\"toc-item-num\">1.8&nbsp;&nbsp;</span>Parámetros en el <strong>init</strong> (argumentos al instanciar)</a></span></li><li><span><a href=\"#Parámetros-con-valores-por-defecto-en-el-init()\" data-toc-modified-id=\"Parámetros-con-valores-por-defecto-en-el-init()-1.9\"><span class=\"toc-item-num\">1.9&nbsp;&nbsp;</span>Parámetros con valores por defecto en el <strong>init</strong>()</a></span></li><li><span><a href=\"#Estos-valores-por-defecto-nos-sirven-para-controlar-e-informar\" data-toc-modified-id=\"Estos-valores-por-defecto-nos-sirven-para-controlar-e-informar-1.10\"><span class=\"toc-item-num\">1.10&nbsp;&nbsp;</span>Estos valores por defecto nos sirven para controlar e informar</a></span></li><li><span><a href=\"#Constructor-y-destructor\" data-toc-modified-id=\"Constructor-y-destructor-1.11\"><span class=\"toc-item-num\">1.11&nbsp;&nbsp;</span>Constructor y destructor</a></span></li><li><span><a href=\"#Creación-y-destrucción-de-un-objeto.\" data-toc-modified-id=\"Creación-y-destrucción-de-un-objeto.-1.12\"><span class=\"toc-item-num\">1.12&nbsp;&nbsp;</span>Creación y destrucción de un objeto.</a></span></li><li><span><a href=\"#Mostrar-información-de-un-objeto:-__dict__-y-__str__\" data-toc-modified-id=\"Mostrar-información-de-un-objeto:-__dict__-y-__str__-1.13\"><span class=\"toc-item-num\">1.13&nbsp;&nbsp;</span>Mostrar información de un objeto: __dict__ y __str__</a></span><ul class=\"toc-item\"><li><span><a href=\"#Diccionario-(__dict__)\" data-toc-modified-id=\"Diccionario-(__dict__)-1.13.1\"><span class=\"toc-item-num\">1.13.1&nbsp;&nbsp;</span>Diccionario (__dict__)</a></span></li><li><span><a href=\"#String-(__str__)\" data-toc-modified-id=\"String-(__str__)-1.13.2\"><span class=\"toc-item-num\">1.13.2&nbsp;&nbsp;</span>String (__str__)</a></span></li></ul></li><li><span><a href=\"#Comprobar-si-un-objeto-es-una-instancia-de-una-clase.\" data-toc-modified-id=\"Comprobar-si-un-objeto-es-una-instancia-de-una-clase.-1.14\"><span class=\"toc-item-num\">1.14&nbsp;&nbsp;</span>Comprobar si un objeto es una instancia de una clase.</a></span></li><li><span><a href=\"#Comprobar-si-un-atributo-existe-en-una-clase\" data-toc-modified-id=\"Comprobar-si-un-atributo-existe-en-una-clase-1.15\"><span class=\"toc-item-num\">1.15&nbsp;&nbsp;</span>Comprobar si un atributo existe en una clase</a></span></li><li><span><a href=\"#Eliminar-atributos-de-una-clase\" data-toc-modified-id=\"Eliminar-atributos-de-una-clase-1.16\"><span class=\"toc-item-num\">1.16&nbsp;&nbsp;</span>Eliminar atributos de una clase</a></span></li></ul></li><li><span><a href=\"#Acceso-correcto.-Getters-y-Setters\" data-toc-modified-id=\"Acceso-correcto.-Getters-y-Setters-2\"><span class=\"toc-item-num\">2&nbsp;&nbsp;</span>Acceso correcto. Getters y Setters</a></span></li><li><span><a href=\"#Ejemplo-con-Persona\" data-toc-modified-id=\"Ejemplo-con-Persona-3\"><span class=\"toc-item-num\">3&nbsp;&nbsp;</span>Ejemplo con Persona</a></span></li><li><span><a href=\"#getattr-y-setattr\" data-toc-modified-id=\"getattr-y-setattr-4\"><span class=\"toc-item-num\">4&nbsp;&nbsp;</span>getattr y setattr</a></span></li><li><span><a href=\"#Herencia---Ejemplo.-Estructura-para-los-productos-de-una-tienda\" data-toc-modified-id=\"Herencia---Ejemplo.-Estructura-para-los-productos-de-una-tienda-5\"><span class=\"toc-item-num\">5&nbsp;&nbsp;</span>Herencia - Ejemplo. Estructura para los productos de una tienda</a></span><ul class=\"toc-item\"><li><span><a href=\"#Enunciado\" data-toc-modified-id=\"Enunciado-5.1\"><span class=\"toc-item-num\">5.1&nbsp;&nbsp;</span>Enunciado</a></span></li></ul></li><li><span><a href=\"#Herencia---Ejemplo.-Jerarquía-de-productos-con-clases\" data-toc-modified-id=\"Herencia---Ejemplo.-Jerarquía-de-productos-con-clases-6\"><span class=\"toc-item-num\">6&nbsp;&nbsp;</span>Herencia - Ejemplo. Jerarquía de productos con clases</a></span><ul class=\"toc-item\"><li><span><a href=\"#Enunciado\" data-toc-modified-id=\"Enunciado-6.1\"><span class=\"toc-item-num\">6.1&nbsp;&nbsp;</span>Enunciado</a></span><ul class=\"toc-item\"><li><span><a href=\"#Superclase-Producto\" data-toc-modified-id=\"Superclase-Producto-6.1.1\"><span class=\"toc-item-num\">6.1.1&nbsp;&nbsp;</span>Superclase Producto</a></span></li><li><span><a href=\"#Subclase-Adorno\" data-toc-modified-id=\"Subclase-Adorno-6.1.2\"><span class=\"toc-item-num\">6.1.2&nbsp;&nbsp;</span>Subclase Adorno</a></span></li><li><span><a href=\"#Subclase-Alimento\" data-toc-modified-id=\"Subclase-Alimento-6.1.3\"><span class=\"toc-item-num\">6.1.3&nbsp;&nbsp;</span>Subclase Alimento</a></span></li><li><span><a href=\"#Subclase-Libro\" data-toc-modified-id=\"Subclase-Libro-6.1.4\"><span class=\"toc-item-num\">6.1.4&nbsp;&nbsp;</span>Subclase Libro</a></span></li></ul></li><li><span><a href=\"#Ejemplo-completo---Clases\" data-toc-modified-id=\"Ejemplo-completo---Clases-6.2\"><span class=\"toc-item-num\">6.2&nbsp;&nbsp;</span>Ejemplo completo - Clases</a></span></li><li><span><a href=\"#Creación-de-objetos\" data-toc-modified-id=\"Creación-de-objetos-6.3\"><span class=\"toc-item-num\">6.3&nbsp;&nbsp;</span>Creación de objetos</a></span></li><li><span><a href=\"#Lista-de-productos\" data-toc-modified-id=\"Lista-de-productos-6.4\"><span class=\"toc-item-num\">6.4&nbsp;&nbsp;</span>Lista de productos</a></span></li><li><span><a href=\"#Lecturas-de-productos\" data-toc-modified-id=\"Lecturas-de-productos-6.5\"><span class=\"toc-item-num\">6.5&nbsp;&nbsp;</span>Lecturas de productos</a></span><ul class=\"toc-item\"><li><span><a href=\"#Constructores-Extendidos-(De-las-clases-que-heredan).\" data-toc-modified-id=\"Constructores-Extendidos-(De-las-clases-que-heredan).-6.5.1\"><span class=\"toc-item-num\">6.5.1&nbsp;&nbsp;</span>Constructores Extendidos (De las clases que heredan).</a></span></li><li><span><a href=\"#Acceso-a-los-atributos-compartidos-en-todos-los-objetos\" data-toc-modified-id=\"Acceso-a-los-atributos-compartidos-en-todos-los-objetos-6.5.2\"><span class=\"toc-item-num\">6.5.2&nbsp;&nbsp;</span>Acceso a los atributos compartidos en todos los objetos</a></span></li></ul></li><li><span><a href=\"#Si-un-objeto-no-tiene-el-atributo-deseado,-dará-error.\" data-toc-modified-id=\"Si-un-objeto-no-tiene-el-atributo-deseado,-dará-error.-6.6\"><span class=\"toc-item-num\">6.6&nbsp;&nbsp;</span>Si un objeto no tiene el atributo deseado, dará error.</a></span></li><li><span><a href=\"#Tratar-cada-subclase-de-forma-distinta-utilizando-isistance()\" data-toc-modified-id=\"Tratar-cada-subclase-de-forma-distinta-utilizando-isistance()-6.7\"><span class=\"toc-item-num\">6.7&nbsp;&nbsp;</span>Tratar cada subclase de forma distinta utilizando <strong>isistance()</strong></a></span></li><li><span><a href=\"#Comprobar-si-una-clase-hereda-de-otra\" data-toc-modified-id=\"Comprobar-si-una-clase-hereda-de-otra-6.8\"><span class=\"toc-item-num\">6.8&nbsp;&nbsp;</span>Comprobar si una clase hereda de otra</a></span></li></ul></li></ul></div>"
   ]
  },
  {
   "cell_type": "markdown",
   "metadata": {},
   "source": [
    "# DEFINICIONES"
   ]
  },
  {
   "cell_type": "markdown",
   "metadata": {},
   "source": [
    "## Clases\n",
    "\n",
    "Las clases suponen un pilar fundamental en la programación orientada a objetos (POO/OOP). \n",
    "\n",
    "Cada clase es un modelo que define un conjunto de atributos (variables o propiedades), y métodos que permiten operar con dichos atributos (comportamiento).\n",
    "\n",
    "Cada objeto creado a partir de una clase se denomina como **instancia de la clase**"
   ]
  },
  {
   "cell_type": "markdown",
   "metadata": {},
   "source": [
    "### Definición práctica de una clase"
   ]
  },
  {
   "cell_type": "code",
   "execution_count": 8,
   "metadata": {},
   "outputs": [],
   "source": [
    "class Galleta():\n",
    "    \"\"\" Ejemplo de clase \"\"\""
   ]
  },
  {
   "cell_type": "markdown",
   "metadata": {},
   "source": [
    "### Instanciación\n",
    "\n",
    "Al crear un objeto de la clase, formalmente se dice que se realiza una instancia de dicha clase"
   ]
  },
  {
   "cell_type": "code",
   "execution_count": 9,
   "metadata": {},
   "outputs": [
    {
     "name": "stdout",
     "output_type": "stream",
     "text": [
      "El tipo de la instancia es <class '__main__.Galleta'>\n"
     ]
    }
   ],
   "source": [
    "# Crear objetos instanciados de la clase Galleta\n",
    "una_galleta = Galleta() # Objeto instanciado de la clase galleta que se llama una_galleta\n",
    "otra_galleta = Galleta() # Objeto instanciado de la clase galleta que se llama otra_galleta\n",
    "\n",
    "# Consultar tipo de la instancia u objeto.\n",
    "print('El tipo de la instancia es',type(una_galleta))"
   ]
  },
  {
   "cell_type": "markdown",
   "metadata": {},
   "source": [
    "### Atributos y métodos de la clase\n",
    "- **Atributos**: Hacen referencia a las **variables** internas de la clase.\n",
    "- **Métodos**: Hacen referencia a las **funciones** internas de la clase."
   ]
  },
  {
   "cell_type": "code",
   "execution_count": 10,
   "metadata": {},
   "outputs": [],
   "source": [
    "class Galleta():\n",
    "    pass # Instrucción para no hacer nada\n",
    "\n",
    "una_galleta = Galleta()"
   ]
  },
  {
   "cell_type": "markdown",
   "metadata": {},
   "source": [
    "### Atributos dinámicos en objetos (ATENCIÓN)\n",
    "\n",
    "Definir los atributos de la clase dinámicamente. A nivel de seguridad, no es recomendable realizar esto. Python, incluso, no recomienda realizar esa acción."
   ]
  },
  {
   "cell_type": "code",
   "execution_count": 12,
   "metadata": {},
   "outputs": [
    {
     "name": "stdout",
     "output_type": "stream",
     "text": [
      "El color de la galleta es Azul y su sabor Chocolate\n"
     ]
    }
   ],
   "source": [
    "# Definir atributos dinámicamente\n",
    "una_galleta.color = 'Azul'\n",
    "una_galleta.sabor = 'Chocolate'\n",
    "\n",
    "print('El color de la galleta es',una_galleta.color,'y su sabor',una_galleta.sabor)"
   ]
  },
  {
   "cell_type": "markdown",
   "metadata": {},
   "source": [
    "### Definición de atributos en una clase\n",
    "\n",
    "Definición de atributos (recomendable). Se conocen como variables de clase, es decir, cuyo ámbito de existencia es la clase."
   ]
  },
  {
   "cell_type": "code",
   "execution_count": 17,
   "metadata": {},
   "outputs": [
    {
     "data": {
      "text/plain": [
       "False"
      ]
     },
     "execution_count": 17,
     "metadata": {},
     "output_type": "execute_result"
    }
   ],
   "source": [
    "class Galleta: # Ámbito de la clase\n",
    "    ''' Clase galleta '''\n",
    "    chocolate = False # Variable de clase (inicialización de la variable)\n",
    "    \n",
    "# Instanciar un objeto de la clase\n",
    "g = Galleta()\n",
    "print(g.chocolate) # Acceso al atributo"
   ]
  },
  {
   "cell_type": "code",
   "execution_count": 20,
   "metadata": {},
   "outputs": [
    {
     "name": "stdout",
     "output_type": "stream",
     "text": [
      "True\n"
     ]
    }
   ],
   "source": [
    "# Modificar variable de clase de la instancia g.\n",
    "g.chocolate = True # Escritura del atributo de clase.\n",
    "print(g.chocolate)"
   ]
  },
  {
   "cell_type": "markdown",
   "metadata": {},
   "source": [
    "### Constructores\n",
    "\n",
    "Se trata de un método conocido como constructor y se llama automáticamente al crear una instancia de una clase. Dicho de otra forma, es el método que crea el objeto.\n",
    "\n",
    "Para ello, se utiliza el método init().\n",
    "\n",
    "<div class=\"alert alert-success \">Doble guión bajo antes y después de un nombre (por ejemplo __init__).\n",
    "Esta convención se utiliza para nombrar métodos especiales (https://docs.python.org/3.8/reference/datamodel.html#specialnames) utilizado por Python (también llamados como \"métodos mágicos\" como por ejemplo: __file__, __len__, etc.). Estos métodos proporcionan características sintácticas especiales o hacen cosas especiales al usarlos, por ejemplo __file__ le indica la ubicación de un archivo a Python.\n",
    "\n",
    "Esto es sólo una convención, una forma para que Python utilice nombres que no van a entrar en conflicto con los nombres definidos por el usuario. Uno puede sobrescribir estos métodos y definir el comportamiento deseado para cuando Python los llama. Por ejemplo, es usual sobrescribir el método `` __init__`` al escribir una clase. </div>"
   ]
  },
  {
   "cell_type": "code",
   "execution_count": 22,
   "metadata": {},
   "outputs": [
    {
     "name": "stdout",
     "output_type": "stream",
     "text": [
      "Se acaba de crear una galleta\n"
     ]
    }
   ],
   "source": [
    "class Galleta():\n",
    "    \"\"\" Clase galleta con constructor. \"\"\"\n",
    "    chocolate = False\n",
    "    \n",
    "    def __init__(self):\n",
    "        # Se recomienda utilizarlo SIEMPRE. Se considera una buena práctica en Python.\n",
    "        print(\"Se acaba de crear una galleta\")\n",
    "        \n",
    "\n",
    "# Instancia de la clase.\n",
    "g = Galleta()\n"
   ]
  },
  {
   "cell_type": "markdown",
   "metadata": {},
   "source": [
    "### Métodos y la palabra self\n",
    "Self sirve para hacer referencia a los métodos y atributos de su misma clase."
   ]
  },
  {
   "cell_type": "code",
   "execution_count": 27,
   "metadata": {},
   "outputs": [
    {
     "name": "stdout",
     "output_type": "stream",
     "text": [
      "Se ha creado una galleta\n",
      "---\n",
      "Galleta sin chocolate\n",
      "---\n",
      "Galleta con chocolate\n",
      "---\n",
      "Se ha creado una galleta\n",
      "Galleta sin chocolate\n",
      "---\n"
     ]
    }
   ],
   "source": [
    "class Galleta():\n",
    "    \"\"\" Clase galleta con constructor y métodos.\"\"\"\n",
    "    # Variables de clase (atributos).\n",
    "    chocolate = False\n",
    "    \n",
    "    def __init__(self):\n",
    "        print('Se ha creado una galleta')\n",
    "        \n",
    "    def chocolatear(self):\n",
    "        \"\"\" Añadir chocolate a una galleta \"\"\"\n",
    "        self.chocolate = True\n",
    "        \n",
    "    def tiene_chocolate(self):\n",
    "        \"\"\" Consultar si la galleta tiene o no chocolate \"\"\"\n",
    "        if(self.chocolate):\n",
    "            print('Galleta con chocolate')\n",
    "        else:\n",
    "            print('Galleta sin chocolate')\n",
    "            \n",
    "# Función principal\n",
    "g = Galleta()\n",
    "print('---')\n",
    "g.tiene_chocolate()\n",
    "print('---')\n",
    "g.chocolatear()\n",
    "g.tiene_chocolate()\n",
    "print('---')\n",
    "\n",
    "# Crear otra instancia de chocolate\n",
    "g2 = Galleta()\n",
    "g2.tiene_chocolate()\n",
    "print('---')"
   ]
  },
  {
   "cell_type": "markdown",
   "metadata": {},
   "source": [
    "### Parámetros en el __init__ (argumentos al instanciar)"
   ]
  },
  {
   "cell_type": "code",
   "execution_count": 29,
   "metadata": {},
   "outputs": [
    {
     "name": "stdout",
     "output_type": "stream",
     "text": [
      "Se ha creado una galleta.\n",
      "No soy una galleta chocolateada :-(\n"
     ]
    }
   ],
   "source": [
    "class Galleta():\n",
    "    \"\"\" Clase galleta con argumentos en el constructor. \"\"\"\n",
    "    # Atributos\n",
    "    chocolate = False\n",
    "    sabor = ''\n",
    "    forma = ''\n",
    "    \n",
    "    def __init__(self, sabor, forma):\n",
    "        ''' Constructor de la clase Galleta '''\n",
    "        \n",
    "        # Asignar valor a los atributos.\n",
    "        self.sabor = sabor\n",
    "        self.forma = forma\n",
    "        \n",
    "        print('Se ha creado una galleta.')\n",
    "        \n",
    "    def chocolatear(self):\n",
    "        self.chocolate = True\n",
    "    \n",
    "    def tiene_chocolate(self):\n",
    "        if(self.chocolate):\n",
    "            print('Soy una galleta chocolateada :-D')\n",
    "        else:\n",
    "            print('No soy una galleta chocolateada :-(')\n",
    "            \n",
    "\n",
    "g = Galleta('dulce','circular')\n",
    "g.tiene_chocolate()\n",
    "        \n",
    "        "
   ]
  },
  {
   "cell_type": "markdown",
   "metadata": {},
   "source": [
    "### Parámetros con valores por defecto en el __init__()"
   ]
  },
  {
   "cell_type": "code",
   "execution_count": 30,
   "metadata": {},
   "outputs": [],
   "source": [
    "class Galleta():\n",
    "    chocolate = False\n",
    "    sabor = \"\"\n",
    "    forma = \"\"\n",
    "    \n",
    "    def __init__(self, sabor=None, forma=None, chocolate=None):\n",
    "        self.sabor = sabor\n",
    "        self.forma = forma\n",
    "        self.chocolate = chocolate\n",
    "    \n",
    "    def chocolatear(self):\n",
    "        self.chocolate = True\n",
    "        \n",
    "    def tiene_chocolate(self):\n",
    "        if (self.chocolate):\n",
    "            print(\"Soy una galleta chocolateada :-D\")\n",
    "        else:\n",
    "            print(\"Soy una galleta sin chocolate :-(\")"
   ]
  },
  {
   "cell_type": "code",
   "execution_count": 31,
   "metadata": {},
   "outputs": [
    {
     "name": "stdout",
     "output_type": "stream",
     "text": [
      "salada\n",
      "cuadrada\n",
      "True\n"
     ]
    }
   ],
   "source": [
    "g = Galleta(\"salada\",\"cuadrada\",True)\n",
    "print(g.sabor)\n",
    "print(g.forma)\n",
    "print(g.chocolate)"
   ]
  },
  {
   "cell_type": "code",
   "execution_count": 32,
   "metadata": {},
   "outputs": [
    {
     "name": "stdout",
     "output_type": "stream",
     "text": [
      "salada\n",
      "None\n",
      "None\n"
     ]
    }
   ],
   "source": [
    "g2 = Galleta(\"salada\")\n",
    "print(g2.sabor)\n",
    "print(g2.forma)\n",
    "print(g2.chocolate)"
   ]
  },
  {
   "cell_type": "markdown",
   "metadata": {},
   "source": [
    "### Estos valores por defecto nos sirven para controlar e informar\n",
    "\n",
    "<div class=\"alert alert-success \">A diferencia de otros lenguajes como Java donde creamos diferentes constructores con diferentes configuraciones (diferente número de parámetros), en Python solo creamos un constructor, e inicializamos con valores por defecto a los parámetros para poder crear objetos de nuestra clase con más o menos parámetros. </div>"
   ]
  },
  {
   "cell_type": "code",
   "execution_count": 38,
   "metadata": {},
   "outputs": [],
   "source": [
    "class Galleta():\n",
    "    \"\"\" Galleta Plantilla \"\"\"\n",
    "    chocolate = False\n",
    "    sabor = \"\"\n",
    "    forma = \"\"\n",
    "    \n",
    "    def __init__(self, sabor=None, forma=None, chocolate=None):\n",
    "        \"\"\" Constructor \n",
    "            @param sabor: Sabor de la galleta\n",
    "            @param forma: Forma de la galleta\n",
    "            @param chocolate: Tiene chocolate la galleta\n",
    "        \"\"\"\n",
    "        self.sabor = sabor\n",
    "        self.forma = forma\n",
    "        self.chocolate = chocolate\n",
    "        \n",
    "        if sabor is not None and forma is not None and chocolate is not None:\n",
    "            print('Se ha creado una galleta {}, {} y {}'.format(sabor, forma, chocolate))\n",
    "        else:\n",
    "            print('Se acaba de crear una galleta, pero...')\n",
    "            if sabor is None:\n",
    "                print('> El sabor no se ha definido')\n",
    "            if forma is None:\n",
    "                print('> La forma no se ha definido')\n",
    "            if chocolate is None:\n",
    "                print('> El chocolate no se ha definido')\n",
    "                \n",
    "    def chocolatear(self):\n",
    "        self.chocolate = True\n",
    "        \n",
    "    def tiene_chocolate(self):\n",
    "        if(self.chocolate):\n",
    "            print('Soy una galleta con chocolate :-D')\n",
    "        else:\n",
    "            print('Soy una galleat sin chocolate :-(')\n",
    "            \n",
    "                "
   ]
  },
  {
   "cell_type": "code",
   "execution_count": 39,
   "metadata": {},
   "outputs": [
    {
     "name": "stdout",
     "output_type": "stream",
     "text": [
      "Se ha creado una galleta salada, cuadrada y True\n",
      "salada\n",
      "cuadrada\n",
      "True\n"
     ]
    }
   ],
   "source": [
    "g = Galleta('salada', 'cuadrada',True)\n",
    "print(g.sabor)\n",
    "print(g.forma)\n",
    "print(g.chocolate)"
   ]
  },
  {
   "cell_type": "code",
   "execution_count": 40,
   "metadata": {},
   "outputs": [
    {
     "name": "stdout",
     "output_type": "stream",
     "text": [
      "Se acaba de crear una galleta, pero...\n",
      "> El chocolate no se ha definido\n",
      "salada\n",
      "cuadrada\n",
      "None\n"
     ]
    }
   ],
   "source": [
    "g2 = Galleta('salada','cuadrada')\n",
    "print(g2.sabor)\n",
    "print(g2.forma)\n",
    "print(g2.chocolate)"
   ]
  },
  {
   "cell_type": "code",
   "execution_count": 41,
   "metadata": {},
   "outputs": [
    {
     "name": "stdout",
     "output_type": "stream",
     "text": [
      "Se acaba de crear una galleta, pero...\n",
      "> La forma no se ha definido\n",
      "> El chocolate no se ha definido\n",
      "salada\n",
      "None\n",
      "None\n"
     ]
    }
   ],
   "source": [
    "g3 = Galleta('salada')\n",
    "print(g3.sabor)\n",
    "print(g3.forma)\n",
    "print(g3.chocolate)"
   ]
  },
  {
   "cell_type": "code",
   "execution_count": 42,
   "metadata": {},
   "outputs": [
    {
     "name": "stdout",
     "output_type": "stream",
     "text": [
      "Se acaba de crear una galleta, pero...\n",
      "> El sabor no se ha definido\n",
      "> La forma no se ha definido\n",
      "> El chocolate no se ha definido\n",
      "None\n",
      "None\n",
      "None\n"
     ]
    }
   ],
   "source": [
    "g4 = Galleta()\n",
    "print(g4.sabor)\n",
    "print(g4.forma)\n",
    "print(g4.chocolate)"
   ]
  },
  {
   "cell_type": "markdown",
   "metadata": {},
   "source": [
    "### Constructor y destructor\n",
    "- **Constructor**: Método propio de python que se ejecuta al crear una instancia de la clase que lo contiene.\n",
    "\n",
    "- **Destructor**: Método propio de python que se ejecuta al destruir una instancia de la clase que lo contiene. Es automático de python. Sirve para añadir una funcionalidad al destructor del objeto (funcionalidad interna de python). \n",
    "\n",
    "Esto se conoce como:\n",
    "        __Complementar el destructor de una clase__"
   ]
  },
  {
   "cell_type": "code",
   "execution_count": 50,
   "metadata": {},
   "outputs": [],
   "source": [
    "class Pelicula:\n",
    "    \"\"\" Clase Película \"\"\"\n",
    "    # Atributos de clase\n",
    "    titulo = \"\" # Título de la película\n",
    "    duracion = 0 # Tiempo en minutos de la película\n",
    "    lanzamiento = 0 # Año de lanzamiento.\n",
    "    \n",
    "    # Constructor de clase (al crear instancia)\n",
    "    def __init__(self, titulo, duracion, lanzamiento):\n",
    "        \"\"\" Constructor \"\"\"\n",
    "        self.titulo = titulo\n",
    "        self.duracion = duracion\n",
    "        self.lanzamiento = lanzamiento\n",
    "        print('Se ha creado la película',self.titulo)\n",
    "        \n",
    "    # Destructor de clase (al borrar instancia)\n",
    "    def __del__(self):\n",
    "        \"\"\" Destructor \"\"\"\n",
    "        print('Se ha borrado la película', self.titulo)"
   ]
  },
  {
   "cell_type": "markdown",
   "metadata": {},
   "source": [
    " Generalmente, el destructor no hace falta utilizarlo ya que la funcionalidad de destruir un objeto la proporciona Python. Sin embargo, un ejemplo claro del uso de destructores en clases es cuando es necesario guardar durante un período de tiempo (ej. una semana) información sobre dicho objeto. \n",
    " \n",
    " El código que se suele introducir en el método destructor es el encargado de almacenar dicha información durante un período de tiempo y, posteriormente, dejar que python cumpla con su funcionalidad (borrar el objeto).\n",
    " \n",
    " Nota: Aunque no sea necesario utilizar el constructor y destructor, es recomendable utilizarlo __SIEMPRE__."
   ]
  },
  {
   "cell_type": "markdown",
   "metadata": {},
   "source": [
    "### Creación y destrucción de un objeto.\n",
    "\n",
    "Tener en cuenta que si reinstanciamos la misma variable más de una vez, se crea de nuevo y se borra la anterior"
   ]
  },
  {
   "cell_type": "code",
   "execution_count": 49,
   "metadata": {},
   "outputs": [
    {
     "name": "stdout",
     "output_type": "stream",
     "text": [
      "Se ha creado la película El Padrino\n",
      "<__main__.Pelicula object at 0x0000024AA0C08EC8>\n",
      "Se ha borrado la película El Padrino\n"
     ]
    },
    {
     "name": "stderr",
     "output_type": "stream",
     "text": [
      "NameError: name 'p' is not defined\n"
     ]
    }
   ],
   "source": [
    "import sys\n",
    "\n",
    "# Crear instancia de Pelicula\n",
    "p = Pelicula('El Padrino',175,1972)\n",
    "print(p) # Devuelve el identificador del objeto.\n",
    "\n",
    "# Desctrucción de la instancia de Pelicula\n",
    "del p\n",
    "try:\n",
    "    print(p)\n",
    "except NameError as e:\n",
    "    print('NameError:',e, file=sys.stderr)"
   ]
  },
  {
   "cell_type": "markdown",
   "metadata": {},
   "source": [
    "### Mostrar información de un objeto: \\_\\_dict\\_\\_ y \\_\\_str\\_\\_\n",
    "\n",
    "#### Diccionario (\\_\\_dict\\_\\_)\n",
    "Python nos ofrece una forma predeterminada de mostrar la información de un objeto.\n",
    "\n",
    "#### String (\\_\\_str\\_\\_)\n",
    "No obstante, el método anterior no nos proporciona ningún tipo de personalización. Si queremos personalizar una salida por pantalla de la información de nuestro objeto tenemos que usar el método __\\_\\_str\\_\\___ de Python, el cual implementaremos en nuestra clase y lo configuraremos a nuestro gusto."
   ]
  },
  {
   "cell_type": "code",
   "execution_count": 51,
   "metadata": {},
   "outputs": [
    {
     "name": "stdout",
     "output_type": "stream",
     "text": [
      "Se ha creado la pelicula El Padrino\n",
      "El Padrino lanzada en 1972 con una duración de 175 minutos\n",
      "{'titulo': 'El Padrino', 'duracion': 175, 'lanzamiento': 1972}\n"
     ]
    }
   ],
   "source": [
    "class Pelicula:\n",
    "    \"\"\" Clase Pelicula \"\"\"\n",
    "    \n",
    "    # Atributos de clase\n",
    "    titulo = \"\"\n",
    "    duracion = 0\n",
    "    lanzamiento = 0\n",
    "    \n",
    "    def __init__(self, titulo, duracion, lanzamiento):\n",
    "        self.titulo = titulo\n",
    "        self.duracion = duracion\n",
    "        self.lanzamiento = lanzamiento\n",
    "        print('Se ha creado la pelicula', self.titulo)\n",
    "        \n",
    "    def __del__(self):\n",
    "        print('Se ha borrado la película', self.titulo)\n",
    "        \n",
    "    # Redefinimos el string\n",
    "    def __str__(self):\n",
    "        return \"{} lanzada en {} con una duración de {} minutos\".format(self.titulo, self.lanzamiento, self.duracion)\n",
    "    \n",
    "\n",
    "p1 = Pelicula('El Padrino',175,1972)\n",
    "print(p1) # Al hacer print del objeto, se está invocando al método __str__ de nuestra clase.\n",
    "print(p1.__dict__) # El método interno de la clase permite visualizar la información en formato diccionario."
   ]
  },
  {
   "cell_type": "markdown",
   "metadata": {},
   "source": [
    "Sin embargo, es posible crear un método propio de visualización, pero el convenio es utilizar __\\_\\_str\\_\\___"
   ]
  },
  {
   "cell_type": "code",
   "execution_count": 52,
   "metadata": {},
   "outputs": [
    {
     "name": "stdout",
     "output_type": "stream",
     "text": [
      "Se ha creado la pelicula El Padrino\n",
      "El Padrino lanzada en 1972 con una duración de 175 minutos\n"
     ]
    }
   ],
   "source": [
    "class Pelicula:\n",
    "    \"\"\" Clase Pelicula \"\"\"\n",
    "    \n",
    "    # Atributos de clase\n",
    "    titulo = \"\"\n",
    "    duracion = 0\n",
    "    lanzamiento = 0\n",
    "    \n",
    "    def __init__(self, titulo, duracion, lanzamiento):\n",
    "        self.titulo = titulo\n",
    "        self.duracion = duracion\n",
    "        self.lanzamiento = lanzamiento\n",
    "        print('Se ha creado la pelicula', self.titulo)\n",
    "        \n",
    "    def __del__(self):\n",
    "        print('Se ha borrado la película', self.titulo)\n",
    "    \n",
    "    def mostrar(self):\n",
    "        str(self) # Convertimos el objeto a un string\n",
    "        return \"{} lanzada en {} con una duración de {} minutos\".format(self.titulo, self.lanzamiento, self.duracion)\n",
    "\n",
    "p2 = Pelicula('El Padrino', 175, 1972)\n",
    "print(p2.mostrar()) # A diferencia dle método __str__, este método propio si tenemos que invocarlo"
   ]
  },
  {
   "cell_type": "markdown",
   "metadata": {},
   "source": [
    "### Comprobar si un objeto es una instancia de una clase.\n",
    "\n",
    "Para comprobar si un objeto es una instancia de una determinada clase, se utiliza el método __isinstance(nombre_del_objeto, nombre_de_la_clase)___"
   ]
  },
  {
   "cell_type": "code",
   "execution_count": 54,
   "metadata": {},
   "outputs": [
    {
     "name": "stdout",
     "output_type": "stream",
     "text": [
      "True\n",
      "False\n",
      "True\n"
     ]
    }
   ],
   "source": [
    "class Producto:\n",
    "    pass\n",
    "\n",
    "class Pedido:\n",
    "    pass\n",
    "\n",
    "class Cliente:\n",
    "    pass\n",
    "\n",
    "p1 = Producto()\n",
    "pd1 = Pedido()\n",
    "c1 = Cliente()\n",
    "print(isinstance(p1, Producto))\n",
    "print(isinstance(c1, Producto))\n",
    "\n",
    "# También se puede evaluar si c1 es instancia de alguna de las clases de la tupla\n",
    "print(isinstance(c1, (Producto, Pedido, Cliente)))"
   ]
  },
  {
   "cell_type": "markdown",
   "metadata": {},
   "source": [
    "### Comprobar si un atributo existe en una clase\n",
    "\n",
    "Para comprobar si un atributo existe en una clase, se utiliza el método __hasattr(nombre_instancia, nombre_atributo)__\n"
   ]
  },
  {
   "cell_type": "code",
   "execution_count": 60,
   "metadata": {},
   "outputs": [
    {
     "name": "stdout",
     "output_type": "stream",
     "text": [
      "True\n",
      "True\n",
      "False\n",
      "True\n",
      "False\n"
     ]
    }
   ],
   "source": [
    "class Producto:\n",
    "    precio = 0\n",
    "    \n",
    "    def __init__(self, nombre):\n",
    "        self.nombre = nombre # Nombre asignado a través de parámetro.\n",
    "        self.precio = 0 # Precio por defecto\n",
    "        \n",
    "p1 = Producto('tablet')\n",
    "\n",
    "# Comprobar si las variables precio y nombre existen como atributos del objeto p1\n",
    "print(hasattr(p1, 'precio'))\n",
    "print(hasattr(p1, 'nombre'))\n",
    "print(hasattr(p1, 'apellidos'))"
   ]
  },
  {
   "cell_type": "code",
   "execution_count": 61,
   "metadata": {},
   "outputs": [
    {
     "name": "stdout",
     "output_type": "stream",
     "text": [
      "True\n",
      "False\n"
     ]
    }
   ],
   "source": [
    "# Comprobar si las variables precio y nombre son variables de clase Producto\n",
    "print(hasattr(Producto, 'precio'))\n",
    "print(hasattr(Producto, 'nombre'))"
   ]
  },
  {
   "cell_type": "markdown",
   "metadata": {},
   "source": [
    "### Eliminar atributos de una clase\n",
    "\n",
    "Para eliminar atributos de una clase se utiliza el método __delattr(nombre_instancia, nombre_atributo)__\n"
   ]
  },
  {
   "cell_type": "code",
   "execution_count": 62,
   "metadata": {},
   "outputs": [
    {
     "name": "stdout",
     "output_type": "stream",
     "text": [
      "{'nombre': 'tablet', 'precio': 0}\n",
      "{'precio': 0}\n",
      "{}\n"
     ]
    }
   ],
   "source": [
    "print(p1.__dict__) # Mostrar el objeto p1\n",
    "delattr(p1, 'nombre') # Eliminar el atributo nombre\n",
    "print(p1.__dict__) # Mostrar el objeto p1\n",
    "delattr(p1, 'precio') # Eliminar el atributo precio\n",
    "print(p1.__dict__) # Mostrar el objeto p1"
   ]
  },
  {
   "cell_type": "markdown",
   "metadata": {},
   "source": [
    "\n",
    "#  Ejemplo - Crear un catálogo de películas\n",
    "\n",
    "Se creará un objeto que representa un catálogo de películas."
   ]
  },
  {
   "cell_type": "code",
   "execution_count": 1,
   "metadata": {},
   "outputs": [],
   "source": [
    "import sys\n",
    "\n",
    "class Pelicula:\n",
    "    ''' Clase que representa una Película '''\n",
    "    # Atributos de la clase\n",
    "    titulo = \"\"     # Título de la película\n",
    "    duracion = 0    # Duración en minutos de la película\n",
    "    lanzamiento = 0 # Año de lanzamiento\n",
    "    \n",
    "    def __init__(self, titulo, duracion, lanzamiento):\n",
    "        \"\"\" Constructor \"\"\"\n",
    "        self.titulo = titulo\n",
    "        self.duracion = duracion\n",
    "        self.lanzamiento = lanzamiento\n",
    "        \n",
    "        print('Se ha creado la película', self.titulo)\n",
    "        \n",
    "    def __del__(self):\n",
    "        \"\"\" Destructor \"\"\"\n",
    "        print('Se ha borrado la película', self.titulo)\n",
    "        \n",
    "    def __str__(self):\n",
    "        return \"Titulo: {}. Duración: {}. Año: {}\".format(self.titulo, self.duracion, self.lanzamiento)\n",
    "    \n",
    "\n",
    "class Catalogo:\n",
    "    \"\"\" Clase que representa un catálogo de películas \"\"\"\n",
    "    \n",
    "    # Atributos de clase\n",
    "    peliculas = list() # Lista de películas del catálogo\n",
    "    \n",
    "    \n",
    "    def __init__(self, peliculas=[]):\n",
    "        \"\"\" Constructor \"\"\"\n",
    "        self.peliculas = peliculas\n",
    "        \n",
    "        print('Se ha creado el catálogo')\n",
    "        if len(self.peliculas) == 0:\n",
    "            print('Se ha creado un catálogo de películas vacío')\n",
    "        else:\n",
    "            print('Se ha creado un catálogo de películas con contenido asignado')\n",
    "            \n",
    "    def agregar(self, p):\n",
    "        \"\"\" Agregar una película al teclado\n",
    "        @param p: Pelicula.\n",
    "        \"\"\"\n",
    "        if isinstance(p, Pelicula):\n",
    "            self.peliculas.append(p) # Agregar película a la lista\n",
    "            print('Se ha agregado al catálogo la película: {}'.format(p.titulo))\n",
    "        else:\n",
    "            print('No se ha creado correctamente la película.', file=sys.stderr)\n",
    "    \n",
    "    def mostrar(self):\n",
    "        \"\"\" Mostrar catálogo de películas \"\"\"\n",
    "        for p in self.peliculas:\n",
    "            print(p) # Print toma por defecto str(p)"
   ]
  },
  {
   "cell_type": "code",
   "execution_count": 2,
   "metadata": {},
   "outputs": [
    {
     "name": "stdout",
     "output_type": "stream",
     "text": [
      "Se ha creado la película El Padrino\n",
      "Se ha creado el catálogo\n",
      "Se ha creado un catálogo de películas con contenido asignado\n",
      "----- CATALOGO 1 -----\n",
      "Titulo: El Padrino. Duración: 175. Año: 1972\n",
      "---\n",
      "\n",
      "Se ha creado la película El Padrino: Parte 2\n",
      "Se ha agregado al catálogo la película: El Padrino: Parte 2\n",
      "----- CATALOGO 1 (actualizado) -----\n",
      "Titulo: El Padrino. Duración: 175. Año: 1972\n",
      "Titulo: El Padrino: Parte 2. Duración: 202. Año: 1974\n",
      "---\n",
      "\n",
      "----- CATALOGO 2 -----\n",
      "Se ha creado el catálogo\n",
      "Se ha creado un catálogo de películas vacío\n",
      "---\n",
      "\n",
      "Se ha creado la película Matrix\n",
      "Se ha creado la película Matrix Reloaded\n",
      "Se ha creado la película Matrix Revolutions\n",
      "Se ha creado el catálogo\n",
      "Se ha creado un catálogo de películas con contenido asignado\n",
      "----- CATALOGO 3 -----\n",
      "Titulo: Matrix. Duración: 175. Año: 1999\n",
      "Titulo: Matrix Reloaded. Duración: 175. Año: 2003\n",
      "Titulo: Matrix Revolutions. Duración: 175. Año: 2003\n",
      "---\n",
      "\n"
     ]
    }
   ],
   "source": [
    "# Crear película\n",
    "p = Pelicula('El Padrino', 175, 1972)\n",
    "\n",
    "# Crear catálogo de películas para añadir la instancia creada.\n",
    "c = Catalogo([p]) # Como argumento se pasa una lista de películas creadas\n",
    "\n",
    "# Mostrar catálogo\n",
    "print('----- CATALOGO 1 -----')\n",
    "c.mostrar()\n",
    "print('---', end='\\n\\n')\n",
    "\n",
    "# Agregar otra película al catálogo.\n",
    "c.agregar(Pelicula('El Padrino: Parte 2', 202, 1974)) # Añadir película directamente.\n",
    "\n",
    "# Mostrar catálogo.\n",
    "print('----- CATALOGO 1 (actualizado) -----')\n",
    "c.mostrar()\n",
    "print('---', end='\\n\\n')\n",
    "\n",
    "\n",
    "# Creación de otro catálogo vacío\n",
    "print('----- CATALOGO 2 -----')\n",
    "c2 = Catalogo()\n",
    "c2.mostrar()\n",
    "print('---', end='\\n\\n')\n",
    "\n",
    "\n",
    "# Crear catálogo con más películas\n",
    "pM1 = Pelicula('Matrix', 175, 1999)\n",
    "pM2 = Pelicula('Matrix Reloaded', 175, 2003)\n",
    "pM3 = Pelicula('Matrix Revolutions', 175, 2003)\n",
    "c3 = Catalogo([pM1, pM2, pM3])\n",
    "\n",
    "# Mostrar catálogo\n",
    "print('----- CATALOGO 3 -----')\n",
    "c3.mostrar()\n",
    "print('---', end='\\n\\n')"
   ]
  },
  {
   "cell_type": "markdown",
   "metadata": {},
   "source": [
    "# Encapsulación\n",
    "\n",
    "Consiste en denegar el acceso a los atributos y métodos internos de la clase desde el exterior (hacer que esas funcionalidades y variables sean privadas de la clase).\n",
    "\n",
    "En Python no existe esta posibilidad, pero se puede simular precediendo atributos y métodos con dos barras bajas."
   ]
  },
  {
   "cell_type": "code",
   "execution_count": 88,
   "metadata": {},
   "outputs": [
    {
     "name": "stderr",
     "output_type": "stream",
     "text": [
      "'Ejemplo' object has no attribute 'metodo_privado'\n"
     ]
    }
   ],
   "source": [
    "import sys\n",
    "\n",
    "class Ejemplo:\n",
    "    \"\"\" Clase ejemplo con atributos y métodos privados. \"\"\"\n",
    "    # Atributos.\n",
    "    __atributo_privado = 'Soy un atributo privado de la clase'\n",
    "    \n",
    "    # Métodos\n",
    "    \n",
    "    def __metodo_privado(self):\n",
    "        print('Soy un método privado de la clase')\n",
    "        \n",
    "        \n",
    "# Programa principal (fuera de la clase Ejemplo)\n",
    "e = Ejemplo()\n",
    "\n",
    "# Intentar acceder a los métodos o atributos privados\n",
    "try:\n",
    "    e.metodo_privado()\n",
    "    print(e.atributo_privado)\n",
    "except AttributeError or NameError as e:\n",
    "    print(e,file=sys.stderr)\n",
    "    \n"
   ]
  },
  {
   "cell_type": "markdown",
   "metadata": {},
   "source": [
    "## Acceso correcto. Getters y Setters\n",
    "\n",
    "Internamente la clase si puede acceder a sus atributos y métodos encapsulados, el truco consiste en acceder a ellos a través de los __get__ y __set__ correspondiente para las variables y crear métodos públicos qu realizcen internamente la llamada a los métodos privados."
   ]
  },
  {
   "cell_type": "code",
   "execution_count": 90,
   "metadata": {},
   "outputs": [
    {
     "name": "stdout",
     "output_type": "stream",
     "text": [
      "Estoy en el getter\n",
      "Soy un atributo privado\n",
      "Estoy en el setter\n",
      "Estoy en el getter\n",
      "Hola Mundo!\n",
      "Método privado de la clase\n"
     ]
    }
   ],
   "source": [
    "class Ejemplo:\n",
    "    \"\"\" Clase ejemplo con encapsulamiento \"\"\"\n",
    "    # Variables de clase\n",
    "    __atributo_privado = 'Soy un atributo privado'\n",
    "\n",
    "    def __metodo_privado(self):\n",
    "        \"\"\" Método privado \"\"\"\n",
    "        print('Método privado de la clase')\n",
    "        \n",
    "    def metodo_publico(self):\n",
    "        \"\"\" Método público \"\"\"\n",
    "        return self.__metodo_privado()\n",
    "    \n",
    "    # Métodos de la clase.\n",
    "    # Getters\n",
    "    @property\n",
    "    def atributo_privado(self):\n",
    "        \"\"\" Consultar atributo privado\"\"\"\n",
    "        print('Estoy en el getter')\n",
    "        return self.__atributo_privado\n",
    "    \n",
    "    # Setters\n",
    "    @atributo_privado.setter\n",
    "    def atributo_privado(self, nuevoValor):\n",
    "        \"\"\" Asignar nuevo valor a un atributo privado \"\"\"\n",
    "        print('Estoy en el setter')\n",
    "        self.__atributo_privado = nuevoValor\n",
    "        \n",
    "# Programa principal\n",
    "e1 = Ejemplo()\n",
    "\n",
    "# Acceder al atributo a través del getter.\n",
    "print(e.atributo_privado)\n",
    "\n",
    "# Escribir el valor de un atributo privado.\n",
    "e1.atributo_privado = 'Hola Mundo!'\n",
    "\n",
    "# Consultar de nuevo el valor\n",
    "print(e1.atributo_privado)\n",
    "\n",
    "# Acceder al método privado a través de un método público\n",
    "e1.metodo_publico()"
   ]
  },
  {
   "cell_type": "markdown",
   "metadata": {},
   "source": [
    "Los __get__ y __set__ no tienen porque llamarse igual que sus variables, per __ES RECOMENDABLE__\n",
    "\n",
    "A continuación, se asignará el nombre __ver_valor__ al getter de la variable atributo_privado. Esto funcionará, pero ahora necesitamos recordar dos nombres de variable para poder acceder a una. \n",
    "\n",
    "¡¡ Por esto se utiliza el mismo nombre!!\n",
    "\n",
    "<br>Lo que es importante, es que __el nombre del método setter tiene que ser el mismo que el de su correspondiente getter__ "
   ]
  },
  {
   "cell_type": "code",
   "execution_count": 101,
   "metadata": {},
   "outputs": [
    {
     "name": "stdout",
     "output_type": "stream",
     "text": [
      "Estoy en el getter\n",
      "Soy un atributo inalcanzable desde fuera\n"
     ]
    },
    {
     "name": "stderr",
     "output_type": "stream",
     "text": [
      "AttributeError: 'Ejemplo' object has no attribute 'atributo_privado'\n"
     ]
    }
   ],
   "source": [
    "class Ejemplo:\n",
    "    \"\"\" Clase ejemplo con encapsulación y métodos get y set \"\"\"\n",
    "    # Atributos\n",
    "    __atributo_privado = 'Soy un atributo inalcanzable desde fuera'\n",
    "    \n",
    "    # Funcionalidades\n",
    "    def __metodo_privado(self):\n",
    "        \"\"\" Método privado de la clase \"\"\"\n",
    "        print('Soy el método privado de la clase')\n",
    "        \n",
    "    def metodo_publico(self):\n",
    "        \"\"\" Método público (accesible desde el exterior) de la clase\"\"\"\n",
    "        return self.__metodo_privado()\n",
    "    \n",
    "    # Getters\n",
    "    @property\n",
    "    def ver_valor(self):\n",
    "        print('Estoy en el getter')\n",
    "        return self.__atributo_privado\n",
    "    \n",
    "    # Setters\n",
    "    @ver_valor.setter\n",
    "    def ver_valor(self, nuevoValor):\n",
    "        print('Estoy en el setter')\n",
    "        self.__atributo_privado = nuevoValor\n",
    "        \n",
    "# Programa principal\n",
    "e2 = Ejemplo()\n",
    "\n",
    "# Acceder al atributo (dará error porque no se llama igual que la variable)\n",
    "try:\n",
    "    print(e2.atributo_privado)\n",
    "except AttributeError as e:\n",
    "    print('AttributeError:',e,file=sys.stderr)\n",
    "    \n",
    "# Acceder al atributo con el nombre que se ha indicado en el getter\n",
    "print(e2.ver_valor)"
   ]
  },
  {
   "cell_type": "markdown",
   "metadata": {},
   "source": [
    "## Ejemplo con Persona\n"
   ]
  },
  {
   "cell_type": "code",
   "execution_count": 102,
   "metadata": {},
   "outputs": [],
   "source": [
    "class Persona:\n",
    "    \"\"\" Clase que representa a una persona \"\"\"\n",
    "    \n",
    "    # Atributos\n",
    "    __nombre = 'Soy un atributo privado de la clase.'\n",
    "    \n",
    "    # Funcionalidades\n",
    "    def __init__(self, nombre):\n",
    "        \"\"\" Constructor \"\"\"\n",
    "        self.__nombre = nombre\n",
    "        \n",
    "    # Getters\n",
    "    @property\n",
    "    def nombre(self):\n",
    "        \"\"\" Getter del atributo privado nombre. Permite consultar el valor del nombre de la persona\"\"\"\n",
    "        print('Accediendo al \"nombre privado \"de la clase.')\n",
    "        return self.__nombre\n",
    "    \n",
    "    # Setters\n",
    "    @nombre.setter\n",
    "    def nombre(self, nuevoNombre):\n",
    "        \"\"\" Setter del atributo privado. Permite acceder desde el exterior al nombre \"\"\"\n",
    "        print('Escribiendo en el \"nombre privado\" de la clase.')\n",
    "        self.__nombre = nuevoNombre\n",
    "        \n",
    "\n",
    "        "
   ]
  },
  {
   "cell_type": "code",
   "execution_count": 103,
   "metadata": {},
   "outputs": [
    {
     "name": "stdout",
     "output_type": "stream",
     "text": [
      "Accediendo al \"nombre privado \"de la clase.\n",
      "Sergio\n"
     ]
    }
   ],
   "source": [
    "# Función principal\n",
    "p1 = Persona('Sergio')\n",
    "print(p1.nombre)"
   ]
  },
  {
   "cell_type": "markdown",
   "metadata": {},
   "source": [
    "## getattr y setattr\n",
    "\n",
    "Se trata de un método alternativo para invocar a los getter y setter. Es una forma clásica (y más antigua) que se sigue utilizando.\n",
    "\n",
    "- Consultar atributo privado: getattr(nombre_objeto, nombre_atributo)\n",
    "- Escribir en atributo privado: setattr(nombre_objeto, nombre_atributo, valor_atributo)"
   ]
  },
  {
   "cell_type": "code",
   "execution_count": 104,
   "metadata": {},
   "outputs": [
    {
     "name": "stdout",
     "output_type": "stream",
     "text": [
      "Accediendo al \"nombre privado \"de la clase.\n",
      "Sergio\n",
      "Escribiendo en el \"nombre privado\" de la clase.\n",
      "Accediendo al \"nombre privado \"de la clase.\n",
      "Paula\n"
     ]
    }
   ],
   "source": [
    "# Solicitar atributo privado\n",
    "print(getattr(p1, 'nombre'))\n",
    "\n",
    "# Escribir atributo privado\n",
    "setattr(p1, 'nombre', 'Paula')\n",
    "print(getattr(p1, 'nombre'))"
   ]
  },
  {
   "cell_type": "markdown",
   "metadata": {},
   "source": [
    "## Herencia - Ejemplo. Estructura para los productos de una tienda"
   ]
  },
  {
   "cell_type": "markdown",
   "metadata": {},
   "source": [
    "### Enunciado\n",
    "\n",
    "<img src=\"./07_Herencia_1.png\"  />"
   ]
  },
  {
   "cell_type": "code",
   "execution_count": 12,
   "metadata": {},
   "outputs": [],
   "source": [
    "class Producto:\n",
    "    \"\"\" Clase Producto que define el esquema\"\"\"\n",
    "    # Atributos\n",
    "    referencia = None\n",
    "    tipo = None\n",
    "    nombre = None\n",
    "    pvp = None\n",
    "    descripcion = None\n",
    "    productor = None\n",
    "    distribuidor = None\n",
    "    isbn = None\n",
    "    autor = None\n",
    "    \n",
    "    # Funcionalidades\n",
    "    def __init__(self, referencia, tipo, nombre, pvp, descripcion, productor=None, distribuidor=None, isbn=None, autor=None):\n",
    "        \"\"\" Constructor para crear un producto \"\"\"\n",
    "        self.referencia = referencia\n",
    "        self.tipo = tipo\n",
    "        self.nombre = nombre\n",
    "        self.pvp = pvp\n",
    "        self.descripcion = descripcion\n",
    "        self.productor = productor\n",
    "        self.distribuidor = distribuidor\n",
    "        self.isbn = isbn\n",
    "        self.autor = autor\n",
    "        \n",
    "    def __str__(self):\n",
    "        return \"{}, {}, {}, {}, {}\".format(self.referencia, self.tipo, self.nombre, self.pvp, self.descripcion)"
   ]
  },
  {
   "cell_type": "code",
   "execution_count": 13,
   "metadata": {},
   "outputs": [
    {
     "name": "stdout",
     "output_type": "stream",
     "text": [
      "000A, ADORNO, Vaso Adornado, 15, Vaso de porcelana con dibujos\n"
     ]
    }
   ],
   "source": [
    "# Crear instancia de la clase\n",
    "adorno = Producto('000A', 'ADORNO', 'Vaso Adornado', 15, 'Vaso de porcelana con dibujos')\n",
    "\n",
    "# Mostrar adorno\n",
    "print(adorno)"
   ]
  },
  {
   "cell_type": "markdown",
   "metadata": {},
   "source": [
    "## Herencia - Ejemplo. Jerarquía de productos con clases\n",
    "\n"
   ]
  },
  {
   "cell_type": "markdown",
   "metadata": {},
   "source": [
    "### Enunciado\n",
    "\n",
    "<img src=\"./07_Herencia_2.png\"  />\n"
   ]
  },
  {
   "cell_type": "markdown",
   "metadata": {},
   "source": [
    "#### Superclase Producto"
   ]
  },
  {
   "cell_type": "code",
   "execution_count": 21,
   "metadata": {},
   "outputs": [],
   "source": [
    "class Producto:\n",
    "    \"\"\" Superclase Producto \"\"\"\n",
    "    # Atributos\n",
    "    referencia = None\n",
    "    nombre = None\n",
    "    pvp = None\n",
    "    descripcion = None\n",
    "    \n",
    "    # Funcionalidades\n",
    "    def __init__(self, referencia, nombre, pvp, descripcion):\n",
    "        \"\"\" Constructor \"\"\"\n",
    "        self.referencia = referencia\n",
    "        self.nombre = nombre\n",
    "        self.pvp = pvp\n",
    "        self.descripcion = descripcion\n",
    "        \n",
    "    def __str__(self):\n",
    "        return \"{}, {}, {}, {}\".format(self.referencia, self.nombre, self.pvp, self.descripcion)\n",
    "    "
   ]
  },
  {
   "cell_type": "markdown",
   "metadata": {},
   "source": [
    "#### Subclase Adorno"
   ]
  },
  {
   "cell_type": "code",
   "execution_count": 22,
   "metadata": {},
   "outputs": [],
   "source": [
    "class Adorno(Producto):\n",
    "    \"\"\" Subclase Adorno\"\"\"\n",
    "    pass\n"
   ]
  },
  {
   "cell_type": "code",
   "execution_count": 23,
   "metadata": {},
   "outputs": [
    {
     "name": "stdout",
     "output_type": "stream",
     "text": [
      "2034, Vaso adornado, 15, Vaso de porcelana adornado con árboles\n"
     ]
    }
   ],
   "source": [
    "# Crear objeto Adorno\n",
    "a = Adorno(2034, 'Vaso adornado', 15, 'Vaso de porcelana adornado con árboles')\n",
    "\n",
    "# Mostrar adorno\n",
    "print(a)"
   ]
  },
  {
   "cell_type": "markdown",
   "metadata": {},
   "source": [
    "#### Subclase Alimento"
   ]
  },
  {
   "cell_type": "code",
   "execution_count": 24,
   "metadata": {},
   "outputs": [],
   "source": [
    "class Alimento(Producto):\n",
    "    \"\"\" Subclase Alimento \"\"\"\n",
    "    productor = ''\n",
    "    distribuidor = ''\n",
    "    \n",
    "    def __str__(self):\n",
    "        return \"{}, {}, {}, {}, {}, {}\".format(self.referencia, self.nombre, self.pvp, self.descripcion, self.productor, self.distribuidor)\n"
   ]
  },
  {
   "cell_type": "code",
   "execution_count": 25,
   "metadata": {},
   "outputs": [],
   "source": [
    "# Crear alimento\n",
    "al = Alimento(2035, 'Botella de Aceite de Oliva Extra', 5, '250ml')\n",
    "al.productor = 'La Aceitera'\n",
    "al.distribuidor = 'Distribuciones SA'"
   ]
  },
  {
   "cell_type": "code",
   "execution_count": 26,
   "metadata": {},
   "outputs": [
    {
     "name": "stdout",
     "output_type": "stream",
     "text": [
      "2035, Botella de Aceite de Oliva Extra, 5, 250ml, La Aceitera, Distribuciones SA\n"
     ]
    }
   ],
   "source": [
    "print(al)"
   ]
  },
  {
   "cell_type": "markdown",
   "metadata": {},
   "source": [
    "#### Subclase Libro\n"
   ]
  },
  {
   "cell_type": "code",
   "execution_count": 27,
   "metadata": {},
   "outputs": [],
   "source": [
    "class Libro(Producto):\n",
    "    '''Subclase Libro'''\n",
    "    isbn = ''\n",
    "    autor = ''\n",
    "    \n",
    "    def __str__(self):\n",
    "        return \"{}, {}, {}, {}, {}, {}\".format(self.referencia, self.nombre, self.pvp, self.descripcion, self.isbn, self.autor)\n"
   ]
  },
  {
   "cell_type": "code",
   "execution_count": 28,
   "metadata": {},
   "outputs": [
    {
     "name": "stdout",
     "output_type": "stream",
     "text": [
      "2036, Cocina Mediterránea, 9, Recetas sanas y buenas, 0-123456-78-9, Doña Juana\n"
     ]
    }
   ],
   "source": [
    "li = Libro(2036,'Cocina Mediterránea',9,'Recetas sanas y buenas')\n",
    "li.isbn = '0-123456-78-9'\n",
    "li.autor = 'Doña Juana'\n",
    "\n",
    "print(li)"
   ]
  },
  {
   "cell_type": "markdown",
   "metadata": {},
   "source": [
    "### Ejemplo completo - Clases"
   ]
  },
  {
   "cell_type": "code",
   "execution_count": 29,
   "metadata": {},
   "outputs": [],
   "source": [
    "# Superclase Producto\n",
    "class Producto:\n",
    "    \"\"\" Superclase Producto \"\"\"\n",
    "    # Atributos\n",
    "    referencia = None\n",
    "    nombre = None\n",
    "    pvp = None\n",
    "    descripcion = None\n",
    "    \n",
    "    # Funcionalidades\n",
    "    def __init__(self, referencia, nombre, pvp, descripcion):\n",
    "        \"\"\" Constructor \"\"\"\n",
    "        self.referencia = referencia\n",
    "        self.nombre = nombre\n",
    "        self.pvp = pvp\n",
    "        self.descripcion = descripcion\n",
    "        \n",
    "    def __str__(self):\n",
    "        return \"{}, {}, {}, {}\".format(self.referencia, self.nombre, self.pvp, self.descripcion)\n",
    "\n",
    "# Subclase Adorno\n",
    "class Adorno(Producto):\n",
    "    \"\"\" Subclase Adorno\"\"\"\n",
    "    pass\n",
    "\n",
    "# Subclase Alimento\n",
    "class Alimento(Producto):\n",
    "    \"\"\" Subclase Alimento \"\"\"\n",
    "    productor = ''\n",
    "    distribuidor = ''\n",
    "    \n",
    "    def __str__(self):\n",
    "        return \"{}, {}, {}, {}, {}, {}\".format(self.referencia, self.nombre, self.pvp, self.descripcion, self.productor, self.distribuidor)\n",
    "\n",
    "# Subclase Libro\n",
    "class Libro(Producto):\n",
    "    '''Subclase Libro'''\n",
    "    isbn = ''\n",
    "    autor = ''\n",
    "    \n",
    "    def __str__(self):\n",
    "        return \"{}, {}, {}, {}, {}, {}\".format(self.referencia, self.nombre, self.pvp, self.descripcion, self.isbn, self.autor)\n"
   ]
  },
  {
   "cell_type": "markdown",
   "metadata": {},
   "source": [
    "### Creación de objetos"
   ]
  },
  {
   "cell_type": "code",
   "execution_count": 30,
   "metadata": {},
   "outputs": [],
   "source": [
    "# Adorno\n",
    "ad = Adorno(2034, 'Vaso adornado', 15, 'Vaso de porcelana adornado con árboles')\n",
    "\n",
    "# Alimento\n",
    "al = Alimento(2035, 'Botella de aceite de olive virgen extra', 5, '250 mL')\n",
    "al.productor = 'La Aceitera'\n",
    "al.distribuidor = 'Distribuciones SA'\n",
    "\n",
    "# Libro\n",
    "li = Libro(2036, 'Cocina Mediterránea', 9, 'Recetas sanas y buenas')\n",
    "li.isbn = '0-123456-78-9'\n",
    "li.autor = 'Doña Juana'"
   ]
  },
  {
   "cell_type": "markdown",
   "metadata": {},
   "source": [
    "### Lista de productos\n"
   ]
  },
  {
   "cell_type": "code",
   "execution_count": 31,
   "metadata": {},
   "outputs": [
    {
     "name": "stdout",
     "output_type": "stream",
     "text": [
      "[<__main__.Adorno object at 0x000002278EFDA208>, <__main__.Alimento object at 0x000002278EFDA348>, <__main__.Libro object at 0x000002278EFDA0C8>]\n"
     ]
    }
   ],
   "source": [
    "productos = [ad, al, li]\n",
    "print(productos)"
   ]
  },
  {
   "cell_type": "markdown",
   "metadata": {},
   "source": [
    "### Lecturas de productos"
   ]
  },
  {
   "cell_type": "code",
   "execution_count": 33,
   "metadata": {},
   "outputs": [
    {
     "name": "stdout",
     "output_type": "stream",
     "text": [
      "---- LISTADO DE PRODUCTOS ----\n",
      "2034, Vaso adornado, 15, Vaso de porcelana adornado con árboles\n",
      "2035, Botella de aceite de olive virgen extra, 5, 250 mL, La Aceitera, Distribuciones SA\n",
      "2036, Cocina Mediterránea, 9, Recetas sanas y buenas, 0-123456-78-9, Doña Juana\n",
      "-----\n"
     ]
    }
   ],
   "source": [
    "print('---- LISTADO DE PRODUCTOS ----')\n",
    "for p in productos:\n",
    "    print(p)\n",
    "print('-----')"
   ]
  },
  {
   "cell_type": "markdown",
   "metadata": {},
   "source": [
    "#### Constructores Extendidos (De las clases que heredan)."
   ]
  },
  {
   "cell_type": "code",
   "execution_count": null,
   "metadata": {},
   "outputs": [],
   "source": []
  },
  {
   "cell_type": "code",
   "execution_count": null,
   "metadata": {},
   "outputs": [],
   "source": []
  },
  {
   "cell_type": "markdown",
   "metadata": {},
   "source": [
    "#### Acceso a los atributos compartidos en todos los objetos\n"
   ]
  },
  {
   "cell_type": "code",
   "execution_count": 44,
   "metadata": {},
   "outputs": [
    {
     "name": "stdout",
     "output_type": "stream",
     "text": [
      "2034 Vaso adornado\n",
      "2035 Botella de aceite de olive virgen extra\n",
      "2036 Cocina Mediterránea\n"
     ]
    }
   ],
   "source": [
    "for p in productos:\n",
    "    print(p.referencia, p.nombre)"
   ]
  },
  {
   "cell_type": "markdown",
   "metadata": {},
   "source": [
    "### Si un objeto no tiene el atributo deseado, dará error.\n"
   ]
  },
  {
   "cell_type": "code",
   "execution_count": 38,
   "metadata": {},
   "outputs": [
    {
     "ename": "AttributeError",
     "evalue": "'Adorno' object has no attribute 'autor'",
     "output_type": "error",
     "traceback": [
      "\u001b[1;31m---------------------------------------------------------------------------\u001b[0m",
      "\u001b[1;31mAttributeError\u001b[0m                            Traceback (most recent call last)",
      "\u001b[1;32m<ipython-input-38-24a4905ae8cd>\u001b[0m in \u001b[0;36m<module>\u001b[1;34m\u001b[0m\n\u001b[0;32m      1\u001b[0m \u001b[1;32mfor\u001b[0m \u001b[0mp\u001b[0m \u001b[1;32min\u001b[0m \u001b[0mproductos\u001b[0m\u001b[1;33m:\u001b[0m\u001b[1;33m\u001b[0m\u001b[1;33m\u001b[0m\u001b[0m\n\u001b[1;32m----> 2\u001b[1;33m     \u001b[0mprint\u001b[0m\u001b[1;33m(\u001b[0m\u001b[0mp\u001b[0m\u001b[1;33m.\u001b[0m\u001b[0mautor\u001b[0m\u001b[1;33m)\u001b[0m\u001b[1;33m\u001b[0m\u001b[1;33m\u001b[0m\u001b[0m\n\u001b[0m",
      "\u001b[1;31mAttributeError\u001b[0m: 'Adorno' object has no attribute 'autor'"
     ]
    }
   ],
   "source": [
    "for p in productos:\n",
    "    print(p.autor)"
   ]
  },
  {
   "cell_type": "markdown",
   "metadata": {},
   "source": [
    "### Tratar cada subclase de forma distinta utilizando __isistance()__\n"
   ]
  },
  {
   "cell_type": "code",
   "execution_count": 53,
   "metadata": {},
   "outputs": [
    {
     "name": "stdout",
     "output_type": "stream",
     "text": [
      "2034 Vaso adornado\n",
      "2035 Botella de aceite de olive virgen extra La Aceitera\n",
      "2036 Cocina Mediterránea 0-123456-78-9\n"
     ]
    }
   ],
   "source": [
    "# Adorno\n",
    "ad = Adorno(2034, 'Vaso adornado', 15, 'Vaso de porcelana adornado con árboles')\n",
    "\n",
    "# Alimento\n",
    "al = Alimento(2035, 'Botella de aceite de olive virgen extra', 5, '250 mL')\n",
    "al.productor = 'La Aceitera'\n",
    "al.distribuidor = 'Distribuciones SA'\n",
    "\n",
    "# Libro\n",
    "li = Libro(2036, 'Cocina Mediterránea', 9, 'Recetas sanas y buenas')\n",
    "li.isbn = '0-123456-78-9'\n",
    "li.autor = 'Doña Juana'\n",
    "\n",
    "productos = [ad, al, li]\n",
    "\n",
    "for p in productos:\n",
    "    if(isinstance(p, Adorno)):\n",
    "        print(p.referencia, p.nombre)\n",
    "    elif(isinstance(p, Alimento)):\n",
    "        print(p.referencia, p.nombre, p.productor)\n",
    "    elif(isinstance(p, Libro)):\n",
    "        print(p.referencia, p.nombre, p.isbn)"
   ]
  },
  {
   "cell_type": "markdown",
   "metadata": {},
   "source": [
    "### Comprobar si una clase hereda de otra"
   ]
  },
  {
   "cell_type": "code",
   "execution_count": 54,
   "metadata": {},
   "outputs": [
    {
     "name": "stdout",
     "output_type": "stream",
     "text": [
      "True\n",
      "False\n"
     ]
    }
   ],
   "source": [
    "class Vehiculo:\n",
    "    pass\n",
    "\n",
    "class Coche(Vehiculo):\n",
    "    pass\n",
    "\n",
    "class Gato:\n",
    "    pass\n",
    "\n",
    "# Comprocación de herencia.\n",
    "print(issubclass(Coche, Vehiculo)) # ¿Coche hereda de Vehículo?\n",
    "print(issubclass(Gato, Vehiculo))  # ¿Gato hereda de Vehículo?"
   ]
  }
 ],
 "metadata": {
  "kernelspec": {
   "display_name": "Python 3",
   "language": "python",
   "name": "python3"
  },
  "language_info": {
   "codemirror_mode": {
    "name": "ipython",
    "version": 3
   },
   "file_extension": ".py",
   "mimetype": "text/x-python",
   "name": "python",
   "nbconvert_exporter": "python",
   "pygments_lexer": "ipython3",
   "version": "3.8.10"
  },
  "nbTranslate": {
   "displayLangs": [
    "*"
   ],
   "hotkey": "alt-t",
   "langInMainMenu": true,
   "sourceLang": "en",
   "targetLang": "fr",
   "useGoogleTranslate": true
  },
  "toc": {
   "base_numbering": 1,
   "nav_menu": {},
   "number_sections": true,
   "sideBar": true,
   "skip_h1_title": true,
   "title_cell": "Table of Contents",
   "title_sidebar": "Contents",
   "toc_cell": true,
   "toc_position": {},
   "toc_section_display": true,
   "toc_window_display": false
  },
  "varInspector": {
   "cols": {
    "lenName": 16,
    "lenType": 16,
    "lenVar": 40
   },
   "kernels_config": {
    "python": {
     "delete_cmd_postfix": "",
     "delete_cmd_prefix": "del ",
     "library": "var_list.py",
     "varRefreshCmd": "print(var_dic_list())"
    },
    "r": {
     "delete_cmd_postfix": ") ",
     "delete_cmd_prefix": "rm(",
     "library": "var_list.r",
     "varRefreshCmd": "cat(var_dic_list()) "
    }
   },
   "types_to_exclude": [
    "module",
    "function",
    "builtin_function_or_method",
    "instance",
    "_Feature"
   ],
   "window_display": false
  }
 },
 "nbformat": 4,
 "nbformat_minor": 4
}
