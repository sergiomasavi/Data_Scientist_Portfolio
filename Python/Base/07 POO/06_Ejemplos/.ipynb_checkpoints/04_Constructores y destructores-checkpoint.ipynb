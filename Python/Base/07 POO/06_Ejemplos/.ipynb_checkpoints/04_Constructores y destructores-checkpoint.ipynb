{
 "cells": [
  {
   "cell_type": "markdown",
   "metadata": {},
   "source": [
    "<img src=\"Tarjeta.png\">"
   ]
  },
  {
   "cell_type": "markdown",
   "metadata": {
    "toc": true
   },
   "source": [
    "<h1>Table of Contents<span class=\"tocSkip\"></span></h1>\n",
    "<div class=\"toc\"><ul class=\"toc-item\"><li><span><a href=\"#Constructor-y-destructor\" data-toc-modified-id=\"Constructor-y-destructor-1\"><span class=\"toc-item-num\">1&nbsp;&nbsp;</span>Constructor y destructor</a></span><ul class=\"toc-item\"><li><ul class=\"toc-item\"><li><span><a href=\"#Creamos-y-eliminamos-un-objeto.-Ojo.-Si-reinstanciamos-la-misma-variable-más-de-una-vez,-se-crea-de-nuevo-y-se-borra-la-anterior\" data-toc-modified-id=\"Creamos-y-eliminamos-un-objeto.-Ojo.-Si-reinstanciamos-la-misma-variable-más-de-una-vez,-se-crea-de-nuevo-y-se-borra-la-anterior-1.0.1\"><span class=\"toc-item-num\">1.0.1&nbsp;&nbsp;</span>Creamos y eliminamos un objeto. Ojo. Si reinstanciamos la misma variable más de una vez, se crea de nuevo y se borra la anterior</a></span></li></ul></li></ul></li><li><span><a href=\"#String\" data-toc-modified-id=\"String-2\"><span class=\"toc-item-num\">2&nbsp;&nbsp;</span>String</a></span></li></ul></div>"
   ]
  },
  {
   "cell_type": "markdown",
   "metadata": {},
   "source": [
    "# Métodos especiales de clase\n",
    "## Constructor y destructor"
   ]
  },
  {
   "cell_type": "code",
   "execution_count": 34,
   "metadata": {},
   "outputs": [],
   "source": [
    "class Pelicula:\n",
    "    # Constructor de clase (al crear la instancia)\n",
    "    def __init__(self,titulo,duracion,lanzamiento):\n",
    "        self.titulo = titulo\n",
    "        self.duracion = duracion\n",
    "        self.lanzamiento = lanzamiento\n",
    "        print(\"Se ha creado la película\",self.titulo)\n",
    "        \n",
    "    # Destructor de clase (al borrar la instancia)\n",
    "    def __del__(self):\n",
    "        print(\"Se ha borrando la película\", self.titulo)"
   ]
  },
  {
   "cell_type": "markdown",
   "metadata": {},
   "source": [
    "#### Creamos y eliminamos un objeto. Ojo. Si reinstanciamos la misma variable más de una vez, se crea de nuevo y se borra la anterior"
   ]
  },
  {
   "cell_type": "code",
   "execution_count": 41,
   "metadata": {},
   "outputs": [
    {
     "name": "stdout",
     "output_type": "stream",
     "text": [
      "Se ha creado la película El Padrino\n"
     ]
    }
   ],
   "source": [
    "p = Pelicula(\"El Padrino\",175,1972)"
   ]
  },
  {
   "cell_type": "code",
   "execution_count": 7,
   "metadata": {},
   "outputs": [
    {
     "name": "stdout",
     "output_type": "stream",
     "text": [
      "Se está borrando la película El Padrino\n"
     ]
    }
   ],
   "source": [
    "del p"
   ]
  },
  {
   "cell_type": "markdown",
   "metadata": {},
   "source": [
    "## String\n",
    "Para devolver una cadena por defecto al convertir un objeto a una cadena con str(objeto):"
   ]
  },
  {
   "cell_type": "code",
   "execution_count": 45,
   "metadata": {},
   "outputs": [
    {
     "name": "stdout",
     "output_type": "stream",
     "text": [
      "<__main__.Pelicula object at 0x0000017602695448>\n"
     ]
    }
   ],
   "source": [
    "print(p)"
   ]
  },
  {
   "cell_type": "code",
   "execution_count": 43,
   "metadata": {},
   "outputs": [
    {
     "name": "stdout",
     "output_type": "stream",
     "text": [
      "<__main__.Pelicula object at 0x0000017602695448>\n"
     ]
    }
   ],
   "source": [
    "str(p)\n",
    "print(p)"
   ]
  },
  {
   "cell_type": "code",
   "execution_count": 32,
   "metadata": {},
   "outputs": [
    {
     "name": "stdout",
     "output_type": "stream",
     "text": [
      "Se ha creado la película El Padrino\n",
      "Se ha borrando la película El Padrino\n"
     ]
    },
    {
     "data": {
      "text/plain": [
       "'El Padrino lanzada en 1972 con una duración de 175 minutos'"
      ]
     },
     "execution_count": 32,
     "metadata": {},
     "output_type": "execute_result"
    }
   ],
   "source": [
    "class Pelicula:\n",
    "    # Constructor de clase\n",
    "    def __init__(self,titulo,duracion,lanzamiento):\n",
    "        self.titulo = titulo\n",
    "        self.duracion = duracion\n",
    "        self.lanzamiento = lanzamiento\n",
    "        print(\"Se ha creado la película\",self.titulo)\n",
    "        \n",
    "    # Destructor de clase\n",
    "    def __del__(self):\n",
    "        print(\"Se ha borrando la película\", self.titulo)\n",
    "        \n",
    "    # Redefinimos el método string\n",
    "    def __str__(self):\n",
    "        return \"{} lanzada en {} con una duración de {} minutos\".format(self.titulo,self.lanzamiento,self.duracion)\n",
    "        \n",
    "p1 = Pelicula(\"El Padrino\",175,1972)\n",
    "str(p1)"
   ]
  },
  {
   "cell_type": "markdown",
   "metadata": {},
   "source": [
    "Otra opción:"
   ]
  },
  {
   "cell_type": "code",
   "execution_count": 46,
   "metadata": {},
   "outputs": [
    {
     "name": "stdout",
     "output_type": "stream",
     "text": [
      "Se ha borrando la película El Padrino\n",
      "Se ha creado la película El Padrino\n",
      "Se ha borrando la película El Padrino\n"
     ]
    },
    {
     "data": {
      "text/plain": [
       "'El Padrino lanzada en 1972 con una duración de 175 minutos'"
      ]
     },
     "execution_count": 46,
     "metadata": {},
     "output_type": "execute_result"
    }
   ],
   "source": [
    "class Pelicula:\n",
    "    # Constructor de clase\n",
    "    def __init__(self,titulo,duracion,lanzamiento):\n",
    "        self.titulo = titulo\n",
    "        self.duracion = duracion\n",
    "        self.lanzamiento = lanzamiento\n",
    "        print(\"Se ha creado la película\",self.titulo)\n",
    "        \n",
    "    # Destructor de clase\n",
    "    def __del__(self):\n",
    "        print(\"Se ha borrando la película\", self.titulo)\n",
    "    \n",
    "    def mostrar(self):\n",
    "        str(self) # Convertimos el objeto a un string\n",
    "        cadena =  \"{} lanzada en {} con una duración de {} minutos\".format(self.titulo,self.lanzamiento,self.duracion)\n",
    "        return cadena\n",
    "        \n",
    "p2 = Pelicula(\"El Padrino\",175,1972)\n",
    "p2.mostrar()"
   ]
  }
 ],
 "metadata": {
  "kernelspec": {
   "display_name": "Python 3",
   "language": "python",
   "name": "python3"
  },
  "language_info": {
   "codemirror_mode": {
    "name": "ipython",
    "version": 3
   },
   "file_extension": ".py",
   "mimetype": "text/x-python",
   "name": "python",
   "nbconvert_exporter": "python",
   "pygments_lexer": "ipython3",
   "version": "3.8.10"
  },
  "nbTranslate": {
   "displayLangs": [
    "*"
   ],
   "hotkey": "alt-t",
   "langInMainMenu": true,
   "sourceLang": "en",
   "targetLang": "fr",
   "useGoogleTranslate": true
  },
  "toc": {
   "base_numbering": 1,
   "nav_menu": {},
   "number_sections": true,
   "sideBar": true,
   "skip_h1_title": true,
   "title_cell": "Table of Contents",
   "title_sidebar": "Contents",
   "toc_cell": true,
   "toc_position": {},
   "toc_section_display": true,
   "toc_window_display": false
  },
  "varInspector": {
   "cols": {
    "lenName": 16,
    "lenType": 16,
    "lenVar": 40
   },
   "kernels_config": {
    "python": {
     "delete_cmd_postfix": "",
     "delete_cmd_prefix": "del ",
     "library": "var_list.py",
     "varRefreshCmd": "print(var_dic_list())"
    },
    "r": {
     "delete_cmd_postfix": ") ",
     "delete_cmd_prefix": "rm(",
     "library": "var_list.r",
     "varRefreshCmd": "cat(var_dic_list()) "
    }
   },
   "types_to_exclude": [
    "module",
    "function",
    "builtin_function_or_method",
    "instance",
    "_Feature"
   ],
   "window_display": false
  }
 },
 "nbformat": 4,
 "nbformat_minor": 1
}
