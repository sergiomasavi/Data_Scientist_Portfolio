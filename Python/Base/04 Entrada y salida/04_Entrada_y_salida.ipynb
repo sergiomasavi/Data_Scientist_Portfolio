{
 "cells": [
  {
   "cell_type": "markdown",
   "metadata": {},
   "source": [
    "<img src=\"Tarjeta.png\">"
   ]
  },
  {
   "cell_type": "markdown",
   "metadata": {
    "toc": true
   },
   "source": [
    "<h1>Table of Contents<span class=\"tocSkip\"></span></h1>\n",
    "<div class=\"toc\"><ul class=\"toc-item\"></ul></div>"
   ]
  },
  {
   "cell_type": "markdown",
   "metadata": {},
   "source": [
    "# Entrada de datos por teclado\n",
    "\n",
    "La entrada de datos por teclado se realiza utilizando la función **input()** que devuelve el valor tecleado hasta la pulsación de la tecla **INTRO** como cadena de caracteres. \n",
    "\n",
    "Si a la función input() le pasamos una cadena de caracterés, dicha cadena aparecerá como mensaje antes de leer el valor.\n",
    "\n",
    "<div class=\"alert alert-danger\">\n",
    "¡¡ NOTA !!\n",
    "<br> La función input() permite obtener la entrada por teclado del usuario. La información obtenida se encuentra en formato texto, str. Cuando se solicita un valor numérico se debe realizar un casting al tipo apropiado (integer, float, complex, ...)\n",
    "    \n",
    "</div>"
   ]
  },
  {
   "cell_type": "code",
   "execution_count": 1,
   "metadata": {},
   "outputs": [
    {
     "name": "stdout",
     "output_type": "stream",
     "text": [
      "Introduce algún tipo de información: Hola Mundo!\n",
      "La entrada por teclado ha sido: Hola Mundo!\n",
      "Tipo de dato: <class 'str'>\n"
     ]
    }
   ],
   "source": [
    "# Solicitar información tipo cadena de caracteres\n",
    "valor = input(\"Introduce algún tipo de información: \")\n",
    "print(f'La entrada por teclado ha sido: {valor}')\n",
    "print(f'Tipo de dato: {type(valor)}')"
   ]
  },
  {
   "cell_type": "code",
   "execution_count": 2,
   "metadata": {},
   "outputs": [
    {
     "name": "stdout",
     "output_type": "stream",
     "text": [
      "Introduce tu factura de compra: 55\n",
      "Tu deuda asciende a: 55\n",
      "Tipo de dato del usuario: <class 'str'>\n"
     ]
    },
    {
     "ename": "TypeError",
     "evalue": "can't multiply sequence by non-int of type 'float'",
     "output_type": "error",
     "traceback": [
      "\u001b[1;31m---------------------------------------------------------------------------\u001b[0m",
      "\u001b[1;31mTypeError\u001b[0m                                 Traceback (most recent call last)",
      "\u001b[1;32m<ipython-input-2-0d2c97f6b791>\u001b[0m in \u001b[0;36m<module>\u001b[1;34m\u001b[0m\n\u001b[0;32m      6\u001b[0m \u001b[1;31m# Por ejemplo, para quitar el 21% de IVA y saber el precio sin IVA resultará en un TypeError porque es un tipo str\u001b[0m\u001b[1;33m\u001b[0m\u001b[1;33m\u001b[0m\u001b[1;33m\u001b[0m\u001b[0m\n\u001b[0;32m      7\u001b[0m \u001b[0mporcentaje_iva\u001b[0m \u001b[1;33m=\u001b[0m \u001b[1;36m0.21\u001b[0m\u001b[1;33m\u001b[0m\u001b[1;33m\u001b[0m\u001b[0m\n\u001b[1;32m----> 8\u001b[1;33m \u001b[0mcoste_sin_iva\u001b[0m \u001b[1;33m=\u001b[0m \u001b[0mvalor\u001b[0m \u001b[1;33m*\u001b[0m \u001b[1;33m(\u001b[0m\u001b[1;36m1\u001b[0m \u001b[1;33m-\u001b[0m \u001b[0mporcentaje_iva\u001b[0m\u001b[1;33m)\u001b[0m\u001b[1;33m\u001b[0m\u001b[1;33m\u001b[0m\u001b[0m\n\u001b[0m",
      "\u001b[1;31mTypeError\u001b[0m: can't multiply sequence by non-int of type 'float'"
     ]
    }
   ],
   "source": [
    "# Solicitar información tipo numérico\n",
    "valor = input('Introduce tu factura de compra: ')\n",
    "print(f'Tu deuda asciende a: {valor}')\n",
    "print(f'Tipo de dato del usuario: {type(valor)}')\n",
    "\n",
    "# Por ejemplo, para quitar el 21% de IVA y saber el precio sin IVA resultará en un TypeError porque es un tipo str\n",
    "porcentaje_iva = 0.21\n",
    "coste_sin_iva = valor * (1 - porcentaje_iva)\n"
   ]
  },
  {
   "cell_type": "code",
   "execution_count": 7,
   "metadata": {},
   "outputs": [
    {
     "name": "stdout",
     "output_type": "stream",
     "text": [
      "Introduce tu factura de compra (sin IVA): 100\n",
      "Introduce el porcentaje de IVA (%): 21\n",
      "Tipo de dato de factura introducido <class 'float'>\n",
      "Tipo de dato de IVA introducido <class 'float'>\n",
      "El coste con el 21.0% de IVA es 121.0\n"
     ]
    }
   ],
   "source": [
    "# Forma correcta de hacerlo (casting)\n",
    "factura = float(input('Introduce tu factura de compra (sin IVA): '))\n",
    "porcentaje_iva = float(input('Introduce el porcentaje de IVA (%): ')) / 100\n",
    "\n",
    "print(f'Tipo de dato de factura introducido {type(factura)}')\n",
    "print(f'Tipo de dato de IVA introducido {type(porcentaje_iva)}')\n",
    "\n",
    "# Coste sin IVA.\n",
    "coste_con_iva = factura + factura * porcentaje_iva\n",
    "print(f'El coste con el {100 * porcentaje_iva}% de IVA es {coste_con_iva}')"
   ]
  },
  {
   "cell_type": "markdown",
   "metadata": {},
   "source": [
    "Para introducir múltiples valores iterativamente, una opción puede ser la instrucción **for**.\n"
   ]
  },
  {
   "cell_type": "code",
   "execution_count": 11,
   "metadata": {},
   "outputs": [
    {
     "name": "stdout",
     "output_type": "stream",
     "text": [
      "Introduce un total de 3 valores\n",
      "Introduce un valor: 5.5\n",
      "Introduce un valor: 3.5\n",
      "Introduce un valor: 2.5\n",
      "Usted ha introducido [5.5, 3.5, 2.5] en una variable cuyo tipo es <class 'list'>\n"
     ]
    }
   ],
   "source": [
    "valores = []\n",
    "print('Introduce un total de 3 valores')\n",
    "for x in range(3):\n",
    "    valores.append(float(input('Introduce un valor: ')))\n",
    "print(f'Usted ha introducido {valores} en una variable cuyo tipo es {type(valores)}')"
   ]
  },
  {
   "cell_type": "markdown",
   "metadata": {},
   "source": [
    "# Salida de datos por pantalla\n",
    "\n",
    "La función **print()** es la forma general que permite mostrar información por pantalla. "
   ]
  },
  {
   "cell_type": "code",
   "execution_count": 12,
   "metadata": {},
   "outputs": [
    {
     "name": "stdout",
     "output_type": "stream",
     "text": [
      "Un texto otro texto y un número 10\n"
     ]
    }
   ],
   "source": [
    "v = 'otro texto'\n",
    "n = 10\n",
    "print('Un texto',v,'y un número',n)"
   ]
  },
  {
   "cell_type": "markdown",
   "metadata": {},
   "source": [
    "Esta función acepta caractéres especiales como tabulaciones (\\t) o saltos de línea (\\n). Si se desea evitar que la función tome estas combinaciones de caractéres como especiales, se debe indicar que la información que se desea mostrar es una cadena cruda (**raw**), anteponiendo una r a la cadena de caracteres a mostrar."
   ]
  },
  {
   "cell_type": "code",
   "execution_count": 18,
   "metadata": {},
   "outputs": [
    {
     "name": "stdout",
     "output_type": "stream",
     "text": [
      "- Un texto\tuna tabulación\n",
      "- Un texto\n",
      "una nueva línea\n",
      "El directorio introducido es: C:\\Users\\Sergio\\Python\\Base\\04 Entrada y salida\\M2_04_Entrada_y_Salida.ipyn\n",
      "El directorio introducido es: C:\\Users\\Sergio\\Python\\nina\\main.py\n"
     ]
    }
   ],
   "source": [
    "# Utilizar caracteres especiales\n",
    "print('- Un texto\\tuna tabulación')\n",
    "print('- Un texto\\nuna nueva línea')\n",
    "\n",
    "# Evitar utilizar caracteres especiales.\n",
    "directorio_fichero  = r'C:\\Users\\Sergio\\Python\\Base\\04 Entrada y salida\\M2_04_Entrada_y_Salida.ipyn' # r -> raw (crudo)\n",
    "print(f'El directorio introducido es: {directorio_fichero}')\n",
    "\n",
    "# En algunas ocasiones, si por ejemplo la ruta utiliza \\nombre, puede producir errores-\n",
    "directorio_problematico='C:\\Users\\Sergio\\Python\\nina\\main.py' # Al anteponer r'' se elimina este error\n",
    "print(f'El directorio introducido es: {directorio_problematico}')"
   ]
  },
  {
   "cell_type": "markdown",
   "metadata": {},
   "source": [
    "Las comillas triples se utilizan igual para el mismo fin que los comentarios multilínea.\n"
   ]
  },
  {
   "cell_type": "code",
   "execution_count": 24,
   "metadata": {},
   "outputs": [
    {
     "name": "stdout",
     "output_type": "stream",
     "text": [
      "Una línea\n",
      "otra línea\n",
      "otra línea\tcon una tabulación\n"
     ]
    }
   ],
   "source": [
    "print('''Una línea\n",
    "otra línea\n",
    "otra línea\\tcon una tabulación''')"
   ]
  },
  {
   "cell_type": "markdown",
   "metadata": {},
   "source": [
    "El parámetro **sep**, se utiliza para indicar el carácter de speracación entre las variables y el parámetro **end** para el final de línea"
   ]
  },
  {
   "cell_type": "code",
   "execution_count": 25,
   "metadata": {},
   "outputs": [
    {
     "name": "stdout",
     "output_type": "stream",
     "text": [
      "1 2 3 4\n",
      "1 + 2 + 3 + 4 = 10"
     ]
    }
   ],
   "source": [
    "print(1,2,3,4)\n",
    "# Separar para indicar la suma de las cuatro variables y el final de línea\n",
    "print(1,2,3,4, sep=' + ',end=f' = {sum([1,2,3,4])}')"
   ]
  },
  {
   "cell_type": "markdown",
   "metadata": {},
   "source": [
    "Existe una funcionalidad en las cadenas de texto que permite **formatear** información utilizando indentificadores referenciados con el método **format()**. Además, también permite referenciar a partir de la posición de los valores utilizando índices."
   ]
  },
  {
   "cell_type": "code",
   "execution_count": 28,
   "metadata": {},
   "outputs": [
    {
     "name": "stdout",
     "output_type": "stream",
     "text": [
      "Un texto 'otro texto' y un número '10'.\n",
      "Un texto \"10\" y un número otro texto.\n"
     ]
    }
   ],
   "source": [
    "# Formatear texto\n",
    "texto = 'otro texto'\n",
    "numero = 10\n",
    "mensaje = \"Un texto '{}' y un número '{}'.\".format(texto, numero)\n",
    "print(mensaje)\n",
    "\n",
    "# Referenciando con format\n",
    "print('Un texto \"{1}\" y un número {0}.'.format(texto, numero))"
   ]
  },
  {
   "cell_type": "markdown",
   "metadata": {},
   "source": [
    "También es posible utilizar un identifcador con una clave y pasarla al método format."
   ]
  },
  {
   "cell_type": "code",
   "execution_count": 30,
   "metadata": {},
   "outputs": [
    {
     "name": "stdout",
     "output_type": "stream",
     "text": [
      "Un texto otro texto y un número 10\n",
      "10 + 10 + 10\n"
     ]
    }
   ],
   "source": [
    "print('Un texto {t} y un número {n}'.format(t=texto, n=numero))\n",
    "print('{n} + {n} + {n}'.format(n=numero))"
   ]
  },
  {
   "cell_type": "markdown",
   "metadata": {},
   "source": [
    "También es posible realizar un formateo avanzado para alinear la salida o realizar truncamiento"
   ]
  },
  {
   "cell_type": "code",
   "execution_count": 34,
   "metadata": {},
   "outputs": [
    {
     "name": "stdout",
     "output_type": "stream",
     "text": [
      "                       palabra\n",
      "           palabra            \n",
      "palab\n"
     ]
    }
   ],
   "source": [
    "# Alinear\n",
    "print('{:>30}'.format('palabra')) # Alineamiento a la derecha\n",
    "print('{:^30}'.format('palabra')) # Alineamiento al centro\n",
    "\n",
    "# Truncar\n",
    "print('{:.5}'.format('palabra'))"
   ]
  },
  {
   "cell_type": "markdown",
   "metadata": {},
   "source": [
    "Es posible combinar los formateos para obtener configuraciones avanzadas"
   ]
  },
  {
   "cell_type": "code",
   "execution_count": 44,
   "metadata": {},
   "outputs": [
    {
     "name": "stdout",
     "output_type": "stream",
     "text": [
      "                           pal\n"
     ]
    }
   ],
   "source": [
    "print('{:>30.3}'.format('palabra'))"
   ]
  },
  {
   "cell_type": "markdown",
   "metadata": {},
   "source": [
    "También es posible formatear variables numéricas."
   ]
  },
  {
   "cell_type": "code",
   "execution_count": 46,
   "metadata": {},
   "outputs": [
    {
     "name": "stdout",
     "output_type": "stream",
     "text": [
      "0010\n",
      "0100\n",
      "1000\n",
      "003.142\n",
      "153.210\n"
     ]
    }
   ],
   "source": [
    "# Valores enteros\n",
    "print('{:04d}'.format(10))\n",
    "print('{:04d}'.format(100))\n",
    "print('{:04d}'.format(1000))\n",
    "\n",
    "# Números decimales o flotantes. Imprimir 7 caracteres (incluido punto decimal). De esos siete caracteres, 3 serán decimales\n",
    "print('{:07.3f}'.format(3.1415926))\n",
    "print('{:07.3f}'.format(153.21))"
   ]
  }
 ],
 "metadata": {
  "kernelspec": {
   "display_name": "Python 3",
   "language": "python",
   "name": "python3"
  },
  "language_info": {
   "codemirror_mode": {
    "name": "ipython",
    "version": 3
   },
   "file_extension": ".py",
   "mimetype": "text/x-python",
   "name": "python",
   "nbconvert_exporter": "python",
   "pygments_lexer": "ipython3",
   "version": "3.8.10"
  },
  "nbTranslate": {
   "displayLangs": [
    "*"
   ],
   "hotkey": "alt-t",
   "langInMainMenu": true,
   "sourceLang": "en",
   "targetLang": "fr",
   "useGoogleTranslate": true
  },
  "toc": {
   "base_numbering": 1,
   "nav_menu": {},
   "number_sections": true,
   "sideBar": true,
   "skip_h1_title": true,
   "title_cell": "Table of Contents",
   "title_sidebar": "Contents",
   "toc_cell": true,
   "toc_position": {},
   "toc_section_display": true,
   "toc_window_display": false
  },
  "varInspector": {
   "cols": {
    "lenName": 16,
    "lenType": 16,
    "lenVar": 40
   },
   "kernels_config": {
    "python": {
     "delete_cmd_postfix": "",
     "delete_cmd_prefix": "del ",
     "library": "var_list.py",
     "varRefreshCmd": "print(var_dic_list())"
    },
    "r": {
     "delete_cmd_postfix": ") ",
     "delete_cmd_prefix": "rm(",
     "library": "var_list.r",
     "varRefreshCmd": "cat(var_dic_list()) "
    }
   },
   "types_to_exclude": [
    "module",
    "function",
    "builtin_function_or_method",
    "instance",
    "_Feature"
   ],
   "window_display": false
  }
 },
 "nbformat": 4,
 "nbformat_minor": 4
}
