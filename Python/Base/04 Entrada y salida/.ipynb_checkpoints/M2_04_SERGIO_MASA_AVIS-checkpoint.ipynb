{
 "cells": [
  {
   "cell_type": "markdown",
   "metadata": {},
   "source": [
    "<img src=\"Tarjeta.png\">"
   ]
  },
  {
   "cell_type": "markdown",
   "metadata": {
    "toc": true
   },
   "source": [
    "<h1>Table of Contents<span class=\"tocSkip\"></span></h1>\n",
    "<div class=\"toc\"><ul class=\"toc-item\"></ul></div>"
   ]
  },
  {
   "cell_type": "markdown",
   "metadata": {},
   "source": [
    "# Ejercicios Modulo 2. Entrada y salida de datos (Soluciones)\n",
    "\n",
    "Consideraciones a tener en cuenta: \n",
    "\n",
    "* Guardar este documento con el siguiente formato para su entrega: __M2_04_nombre_apellido1_apellido2__\n",
    "* Realizar los ejercicios con las herramientas vistas en las sesiones. Aún no hemos llegado a condicionales ni bucles\n",
    "* Comentar el código\n",
    "* Utilizar nombres de variables apropiados, si vais a guardar una nota, llamar a esa variable nota, no n o x"
   ]
  },
  {
   "cell_type": "markdown",
   "metadata": {},
   "source": [
    "**1) Utiliza el método input() para realizar las siguientes tareas:**\n",
    "\n",
    "* Pide un número por teclado, muestra el resultado y su tipo (para conocer en que tipo de dato captura la información input())\n",
    "* Pide un número por teclado y asegúrate de que capturemos la información en formato int\n",
    "* Pide un número por teclado y asegúrate de que capturemos la información en formato float"
   ]
  },
  {
   "cell_type": "code",
   "execution_count": 3,
   "metadata": {},
   "outputs": [
    {
     "name": "stdout",
     "output_type": "stream",
     "text": [
      "Introduce tu nombre: Sergio\n",
      "Introduce tu año de nacimiento: 1995\n",
      "Introduce tu altura en metros: 1.90\n",
      "--------------------------------------------------\n",
      "Tu nombre es \"Sergio\" y se ha almacenado en una variable tipo \"<class 'str'>\"\n",
      "Año de nacimiento: 1995\n",
      "Altura: 1.9  metros\n"
     ]
    }
   ],
   "source": [
    "import sys\n",
    "\n",
    "# Variables globales\n",
    "SEPARADOR = 50 * '-'\n",
    "\n",
    "def pedirNumero(message):\n",
    "    \"\"\"\n",
    "    Función que pide al usuario un número por terminal.\n",
    "    \n",
    "    :return numero: Número introducido (float)\n",
    "    \"\"\"\n",
    "    numero = 0 # Valor por defecto del número\n",
    "    while True:\n",
    "        valor_entrada = input(message) # Lectura por terminal\n",
    "\n",
    "        try:\n",
    "            numero = float(valor_entrada) # Casting a float\n",
    "            break\n",
    "        except ValueError as e:\n",
    "            print(f'TypeError: {e}\\nIntroduce un número!', file=sys.stderr)\n",
    "\n",
    "    return numero\n",
    "\n",
    "# Pedir valor por teclado. Pedir código postal (tipo string)\n",
    "nombre = input('Introduce tu nombre: ')\n",
    "\n",
    "# Año de nacimiento (int)\n",
    "year_nacimiento = int(pedirNumero('Introduce tu año de nacimiento: ')) # Casting a entero\n",
    "\n",
    "# Altura (float)\n",
    "altura = pedirNumero('Introduce tu altura en metros: ')\n",
    "\n",
    "# Mostrar información\n",
    "print(SEPARADOR)\n",
    "print(f'Tu nombre es \"{nombre}\" y se ha almacenado en una variable tipo \"{type(nombre)}\"')\n",
    "print('Año de nacimiento:',year_nacimiento)\n",
    "print('Altura:',altura,' metros')"
   ]
  },
  {
   "cell_type": "markdown",
   "metadata": {},
   "source": [
    "**2) Formatea los siguientes valores para mostrar el resultado indicado:**\n",
    "\n",
    "* \"Hola Mundo\" → Alineado a la derecha en 20 caracteres\n",
    "* \"Hola Mundo\" → Truncamiento en el cuarto carácter (índice 3)\n",
    "* \"Hola Mundo\" → Alineamiento al centro en 20 caracteres con truncamiento en el segundo carácter (índice 1)\n",
    "* 150 → Formateo a 5 números enteros rellenados con ceros\n",
    "* 7887 → Formateo a 7 números enteros rellenados con espacios\n",
    "* 20.02 → Formateo a 3 números enteros y 3 números decimales"
   ]
  },
  {
   "cell_type": "code",
   "execution_count": 21,
   "metadata": {},
   "outputs": [
    {
     "name": "stdout",
     "output_type": "stream",
     "text": [
      "                    Hola Mundo\n",
      "Hol\n",
      "         H          \n",
      "00150\n",
      "   7887\n",
      "020.020\n"
     ]
    }
   ],
   "source": [
    "message = 'Hola Mundo'\n",
    "\n",
    "# Alineamiento derecha 20 caracteres\n",
    "print(\"{:>30}\".format(message))\n",
    "\n",
    "# Trucamiento en el cuarto carácter (índice tres)\n",
    "print(\"{:.3}\".format(message))\n",
    "\n",
    "# Alineamiento al centro en 20 caracteres con truncamiento en el segundo carácter (índice 1)\n",
    "print(\"{:^20.1}\".format(message))\n",
    "\n",
    "# Formateo a 5 números enteros rellenados con ceros\n",
    "num = 150\n",
    "print(\"{:05d}\".format(num))\n",
    "\n",
    "# Formateo a 7 números enteros rellenados con espacios\n",
    "num = 7887\n",
    "print(\"{: 7d}\".format(num))\n",
    "\n",
    "# Formateo a 3 números enteros y 3 números decimales\n",
    "num = 20.02\n",
    "print(\"{:07.3f}\".format(num))"
   ]
  },
  {
   "cell_type": "code",
   "execution_count": null,
   "metadata": {},
   "outputs": [],
   "source": []
  }
 ],
 "metadata": {
  "anaconda-cloud": {},
  "kernelspec": {
   "display_name": "Python 3",
   "language": "python",
   "name": "python3"
  },
  "language_info": {
   "codemirror_mode": {
    "name": "ipython",
    "version": 3
   },
   "file_extension": ".py",
   "mimetype": "text/x-python",
   "name": "python",
   "nbconvert_exporter": "python",
   "pygments_lexer": "ipython3",
   "version": "3.8.10"
  },
  "nbTranslate": {
   "displayLangs": [
    "*"
   ],
   "hotkey": "alt-t",
   "langInMainMenu": true,
   "sourceLang": "en",
   "targetLang": "fr",
   "useGoogleTranslate": true
  },
  "toc": {
   "base_numbering": 1,
   "nav_menu": {},
   "number_sections": true,
   "sideBar": true,
   "skip_h1_title": true,
   "title_cell": "Table of Contents",
   "title_sidebar": "Contents",
   "toc_cell": true,
   "toc_position": {},
   "toc_section_display": true,
   "toc_window_display": false
  },
  "varInspector": {
   "cols": {
    "lenName": 16,
    "lenType": 16,
    "lenVar": 40
   },
   "kernels_config": {
    "python": {
     "delete_cmd_postfix": "",
     "delete_cmd_prefix": "del ",
     "library": "var_list.py",
     "varRefreshCmd": "print(var_dic_list())"
    },
    "r": {
     "delete_cmd_postfix": ") ",
     "delete_cmd_prefix": "rm(",
     "library": "var_list.r",
     "varRefreshCmd": "cat(var_dic_list()) "
    }
   },
   "types_to_exclude": [
    "module",
    "function",
    "builtin_function_or_method",
    "instance",
    "_Feature"
   ],
   "window_display": false
  }
 },
 "nbformat": 4,
 "nbformat_minor": 1
}
