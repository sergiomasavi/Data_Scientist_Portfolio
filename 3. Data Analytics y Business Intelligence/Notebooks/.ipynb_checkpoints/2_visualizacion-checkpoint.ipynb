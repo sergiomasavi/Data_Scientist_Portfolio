{
 "cells": [
  {
   "cell_type": "markdown",
   "metadata": {
    "toc": true
   },
   "source": [
    "<h1>Table of Contents<span class=\"tocSkip\"></span></h1>\n",
    "<div class=\"toc\"><ul class=\"toc-item\"><li><span><a href=\"#Leer-datos\" data-toc-modified-id=\"Leer-datos-1\"><span class=\"toc-item-num\">1&nbsp;&nbsp;</span>Leer datos</a></span></li><li><span><a href=\"#Revisiones-generales\" data-toc-modified-id=\"Revisiones-generales-2\"><span class=\"toc-item-num\">2&nbsp;&nbsp;</span>Revisiones generales</a></span></li><li><span><a href=\"#Tratamiento-de-datos\" data-toc-modified-id=\"Tratamiento-de-datos-3\"><span class=\"toc-item-num\">3&nbsp;&nbsp;</span>Tratamiento de datos</a></span></li><li><span><a href=\"#Gráficos\" data-toc-modified-id=\"Gráficos-4\"><span class=\"toc-item-num\">4&nbsp;&nbsp;</span>Gráficos</a></span><ul class=\"toc-item\"><li><span><a href=\"#Line-plot-pandas-(matplotlib-backend)\" data-toc-modified-id=\"Line-plot-pandas-(matplotlib-backend)-4.1\"><span class=\"toc-item-num\">4.1&nbsp;&nbsp;</span>Line plot <code>pandas</code> (<code>matplotlib</code> backend)</a></span></li><li><span><a href=\"#Line-plot-matplotlib\" data-toc-modified-id=\"Line-plot-matplotlib-4.2\"><span class=\"toc-item-num\">4.2&nbsp;&nbsp;</span>Line plot <code>matplotlib</code></a></span></li><li><span><a href=\"#Line-plot-seaborn\" data-toc-modified-id=\"Line-plot-seaborn-4.3\"><span class=\"toc-item-num\">4.3&nbsp;&nbsp;</span>Line plot <code>seaborn</code></a></span></li><li><span><a href=\"#Line-plot-plotly.express\" data-toc-modified-id=\"Line-plot-plotly.express-4.4\"><span class=\"toc-item-num\">4.4&nbsp;&nbsp;</span>Line plot <code>plotly.express</code></a></span></li><li><span><a href=\"#Bar-plot-matplotlib\" data-toc-modified-id=\"Bar-plot-matplotlib-4.5\"><span class=\"toc-item-num\">4.5&nbsp;&nbsp;</span>Bar plot <code>matplotlib</code></a></span></li><li><span><a href=\"#Stacked-bar-plot-matplotlib\" data-toc-modified-id=\"Stacked-bar-plot-matplotlib-4.6\"><span class=\"toc-item-num\">4.6&nbsp;&nbsp;</span>Stacked bar plot <code>matplotlib</code></a></span></li><li><span><a href=\"#Stacked-bar-plot-seaborn\" data-toc-modified-id=\"Stacked-bar-plot-seaborn-4.7\"><span class=\"toc-item-num\">4.7&nbsp;&nbsp;</span>Stacked bar plot <code>seaborn</code></a></span></li><li><span><a href=\"#Stacked-bar-plot-plotly.express\" data-toc-modified-id=\"Stacked-bar-plot-plotly.express-4.8\"><span class=\"toc-item-num\">4.8&nbsp;&nbsp;</span>Stacked bar plot <code>plotly.express</code></a></span></li><li><span><a href=\"#Histogram-matplotlib\" data-toc-modified-id=\"Histogram-matplotlib-4.9\"><span class=\"toc-item-num\">4.9&nbsp;&nbsp;</span>Histogram <code>matplotlib</code></a></span></li><li><span><a href=\"#Histogram-seaborn\" data-toc-modified-id=\"Histogram-seaborn-4.10\"><span class=\"toc-item-num\">4.10&nbsp;&nbsp;</span>Histogram <code>seaborn</code></a></span></li><li><span><a href=\"#Histogram-plotly.express\" data-toc-modified-id=\"Histogram-plotly.express-4.11\"><span class=\"toc-item-num\">4.11&nbsp;&nbsp;</span>Histogram <code>plotly.express</code></a></span></li><li><span><a href=\"#Scatter-plot-pandas-(matplotlib-backend)\" data-toc-modified-id=\"Scatter-plot-pandas-(matplotlib-backend)-4.12\"><span class=\"toc-item-num\">4.12&nbsp;&nbsp;</span>Scatter plot <code>pandas</code> (<code>matplotlib</code> backend)</a></span></li><li><span><a href=\"#Scatter-plot-matplotlib\" data-toc-modified-id=\"Scatter-plot-matplotlib-4.13\"><span class=\"toc-item-num\">4.13&nbsp;&nbsp;</span>Scatter plot <code>matplotlib</code></a></span></li><li><span><a href=\"#Scatter-plot-seaborn\" data-toc-modified-id=\"Scatter-plot-seaborn-4.14\"><span class=\"toc-item-num\">4.14&nbsp;&nbsp;</span>Scatter plot <code>seaborn</code></a></span></li><li><span><a href=\"#Scatter-plot-plotly.express\" data-toc-modified-id=\"Scatter-plot-plotly.express-4.15\"><span class=\"toc-item-num\">4.15&nbsp;&nbsp;</span>Scatter plot <code>plotly.express</code></a></span></li><li><span><a href=\"#Pie/Donut-chart-pandas-and-matplotlib\" data-toc-modified-id=\"Pie/Donut-chart-pandas-and-matplotlib-4.16\"><span class=\"toc-item-num\">4.16&nbsp;&nbsp;</span>Pie/Donut chart <code>pandas</code> and <code>matplotlib</code></a></span></li><li><span><a href=\"#Pie/Donut-chart-plotly.express\" data-toc-modified-id=\"Pie/Donut-chart-plotly.express-4.17\"><span class=\"toc-item-num\">4.17&nbsp;&nbsp;</span>Pie/Donut chart <code>plotly.express</code></a></span></li><li><span><a href=\"#Treemap-plotly.express\" data-toc-modified-id=\"Treemap-plotly.express-4.18\"><span class=\"toc-item-num\">4.18&nbsp;&nbsp;</span>Treemap <code>plotly.express</code></a></span></li><li><span><a href=\"#Map-folium\" data-toc-modified-id=\"Map-folium-4.19\"><span class=\"toc-item-num\">4.19&nbsp;&nbsp;</span>Map <code>folium</code></a></span></li><li><span><a href=\"#Tables-pandas\" data-toc-modified-id=\"Tables-pandas-4.20\"><span class=\"toc-item-num\">4.20&nbsp;&nbsp;</span>Tables <code>pandas</code></a></span></li></ul></li></ul></div>"
   ]
  },
  {
   "cell_type": "markdown",
   "metadata": {},
   "source": [
    "![Nuclio logo](https://nuclio.school/wp-content/uploads/2018/12/nucleoDS-newBlack.png)\n",
    "\n",
    "# Visualización de datos\n",
    "\n",
    "Tenemos 3 datasets con información sobre el número de casos, muertes y recuperados de infecciones por COVID-19. Nos piden:\n",
    "\n",
    "1. Preparar los datasets para crear visualizaciones\n",
    "2. Explorar las distintas variables utilizando:\n",
    "    - Gráficos de líneas\n",
    "    - Gráficos de barras\n",
    "    - Gráficos de dispersión\n",
    "    - Gráficos de Pie/Donut\n",
    "    - Mapas\n",
    "    - Tablas\n"
   ]
  },
  {
   "cell_type": "markdown",
   "metadata": {},
   "source": [
    "## Leer datos"
   ]
  },
  {
   "cell_type": "markdown",
   "metadata": {},
   "source": [
    "## Revisiones generales"
   ]
  },
  {
   "cell_type": "markdown",
   "metadata": {},
   "source": [
    "## Tratamiento de datos"
   ]
  },
  {
   "cell_type": "markdown",
   "metadata": {},
   "source": [
    "## Gráficos"
   ]
  },
  {
   "cell_type": "markdown",
   "metadata": {},
   "source": [
    "### Line plot `pandas` (`matplotlib` backend)"
   ]
  },
  {
   "cell_type": "markdown",
   "metadata": {},
   "source": [
    "### Line plot `matplotlib`"
   ]
  },
  {
   "cell_type": "markdown",
   "metadata": {},
   "source": [
    "### Line plot `seaborn`"
   ]
  },
  {
   "cell_type": "markdown",
   "metadata": {},
   "source": [
    "### Line plot `plotly.express`"
   ]
  },
  {
   "cell_type": "markdown",
   "metadata": {},
   "source": [
    "### Bar plot `matplotlib`"
   ]
  },
  {
   "cell_type": "markdown",
   "metadata": {},
   "source": [
    "### Stacked bar plot `matplotlib`"
   ]
  },
  {
   "cell_type": "markdown",
   "metadata": {},
   "source": [
    "### Stacked bar plot `seaborn`"
   ]
  },
  {
   "cell_type": "markdown",
   "metadata": {},
   "source": [
    "### Stacked bar plot `plotly.express`"
   ]
  },
  {
   "cell_type": "markdown",
   "metadata": {},
   "source": [
    "### Histogram `matplotlib`"
   ]
  },
  {
   "cell_type": "markdown",
   "metadata": {},
   "source": [
    "### Histogram `seaborn`"
   ]
  },
  {
   "cell_type": "markdown",
   "metadata": {},
   "source": [
    "### Histogram `plotly.express`"
   ]
  },
  {
   "cell_type": "markdown",
   "metadata": {},
   "source": [
    "### Scatter plot `pandas` (`matplotlib` backend)"
   ]
  },
  {
   "cell_type": "markdown",
   "metadata": {},
   "source": [
    "### Scatter plot `matplotlib`"
   ]
  },
  {
   "cell_type": "markdown",
   "metadata": {},
   "source": [
    "### Scatter plot `seaborn`"
   ]
  },
  {
   "cell_type": "markdown",
   "metadata": {},
   "source": [
    "### Scatter plot `plotly.express`"
   ]
  },
  {
   "cell_type": "markdown",
   "metadata": {},
   "source": [
    "### Pie/Donut chart `pandas` and `matplotlib`"
   ]
  },
  {
   "cell_type": "markdown",
   "metadata": {},
   "source": [
    "### Pie/Donut chart `plotly.express`"
   ]
  },
  {
   "cell_type": "markdown",
   "metadata": {},
   "source": [
    "### Treemap `plotly.express`"
   ]
  },
  {
   "cell_type": "code",
   "execution_count": 92,
   "metadata": {},
   "outputs": [],
   "source": []
  },
  {
   "cell_type": "markdown",
   "metadata": {},
   "source": [
    "### Map `folium`"
   ]
  },
  {
   "cell_type": "markdown",
   "metadata": {},
   "source": [
    "### Tables `pandas`"
   ]
  }
 ],
 "metadata": {
  "kernelspec": {
   "display_name": "Python 3.8.8 64-bit ('nuclio': conda)",
   "name": "python388jvsc74a57bd047c7c997e12db0943f037ebbbbd3e237f559f651ec857a3093f1bc2fc6c9f54a"
  },
  "language_info": {
   "codemirror_mode": {
    "name": "ipython",
    "version": 3
   },
   "file_extension": ".py",
   "mimetype": "text/x-python",
   "name": "python",
   "nbconvert_exporter": "python",
   "pygments_lexer": "ipython3",
   "version": "3.8.8"
  },
  "metadata": {
   "interpreter": {
    "hash": "47c7c997e12db0943f037ebbbbd3e237f559f651ec857a3093f1bc2fc6c9f54a"
   }
  },
  "nbTranslate": {
   "displayLangs": [
    "*"
   ],
   "hotkey": "alt-t",
   "langInMainMenu": true,
   "sourceLang": "en",
   "targetLang": "fr",
   "useGoogleTranslate": true
  },
  "toc": {
   "base_numbering": 1,
   "nav_menu": {},
   "number_sections": true,
   "sideBar": true,
   "skip_h1_title": true,
   "title_cell": "Table of Contents",
   "title_sidebar": "Contents",
   "toc_cell": true,
   "toc_position": {},
   "toc_section_display": true,
   "toc_window_display": false
  }
 },
 "nbformat": 4,
 "nbformat_minor": 2
}
