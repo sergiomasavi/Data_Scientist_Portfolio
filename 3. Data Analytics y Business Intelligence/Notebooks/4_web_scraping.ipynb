{
 "cells": [
  {
   "cell_type": "markdown",
   "metadata": {},
   "source": [
    "<img src=\"Tarjeta.png\">"
   ]
  },
  {
   "cell_type": "markdown",
   "metadata": {
    "toc": true
   },
   "source": [
    "<h1>Table of Contents<span class=\"tocSkip\"></span></h1>\n",
    "<div class=\"toc\"><ul class=\"toc-item\"><li><span><a href=\"#Importar-librerias\" data-toc-modified-id=\"Importar-librerias-1\"><span class=\"toc-item-num\">1&nbsp;&nbsp;</span>Importar librerias</a></span></li><li><span><a href=\"#Parsers\" data-toc-modified-id=\"Parsers-2\"><span class=\"toc-item-num\">2&nbsp;&nbsp;</span>Parsers</a></span></li><li><span><a href=\"#Estructura-de-datos\" data-toc-modified-id=\"Estructura-de-datos-3\"><span class=\"toc-item-num\">3&nbsp;&nbsp;</span>Estructura de datos</a></span><ul class=\"toc-item\"><li><span><a href=\"#.[tag-name]\" data-toc-modified-id=\".[tag-name]-3.1\"><span class=\"toc-item-num\">3.1&nbsp;&nbsp;</span><code>.[tag-name]</code></a></span></li><li><span><a href=\"#.name\" data-toc-modified-id=\".name-3.2\"><span class=\"toc-item-num\">3.2&nbsp;&nbsp;</span><code>.name</code></a></span></li><li><span><a href=\"#.string\" data-toc-modified-id=\".string-3.3\"><span class=\"toc-item-num\">3.3&nbsp;&nbsp;</span><code>.string</code></a></span></li><li><span><a href=\"#.get_text()\" data-toc-modified-id=\".get_text()-3.4\"><span class=\"toc-item-num\">3.4&nbsp;&nbsp;</span><code>.get_text()</code></a></span></li><li><span><a href=\"#.parent\" data-toc-modified-id=\".parent-3.5\"><span class=\"toc-item-num\">3.5&nbsp;&nbsp;</span><code>.parent</code></a></span></li><li><span><a href=\"#.attrs\" data-toc-modified-id=\".attrs-3.6\"><span class=\"toc-item-num\">3.6&nbsp;&nbsp;</span><code>.attrs</code></a></span></li><li><span><a href=\"#&quot;class&quot;\" data-toc-modified-id=\"&quot;class&quot;-3.7\"><span class=\"toc-item-num\">3.7&nbsp;&nbsp;</span><code>\"class\"</code></a></span></li><li><span><a href=\"#.find-/-.find_all\" data-toc-modified-id=\".find-/-.find_all-3.8\"><span class=\"toc-item-num\">3.8&nbsp;&nbsp;</span><code>.find</code> / <code>.find_all</code></a></span></li></ul></li><li><span><a href=\"#Wikipedia\" data-toc-modified-id=\"Wikipedia-4\"><span class=\"toc-item-num\">4&nbsp;&nbsp;</span>Wikipedia</a></span><ul class=\"toc-item\"><li><span><a href=\"#Títulos\" data-toc-modified-id=\"Títulos-4.1\"><span class=\"toc-item-num\">4.1&nbsp;&nbsp;</span>Títulos</a></span></li><li><span><a href=\"#Infobox\" data-toc-modified-id=\"Infobox-4.2\"><span class=\"toc-item-num\">4.2&nbsp;&nbsp;</span>Infobox</a></span></li><li><span><a href=\"#Tabla-de-estadísticas\" data-toc-modified-id=\"Tabla-de-estadísticas-4.3\"><span class=\"toc-item-num\">4.3&nbsp;&nbsp;</span>Tabla de estadísticas</a></span></li></ul></li><li><span><a href=\"#IGN\" data-toc-modified-id=\"IGN-5\"><span class=\"toc-item-num\">5&nbsp;&nbsp;</span>IGN</a></span><ul class=\"toc-item\"><li><span><a href=\"#Vertical-spotlight\" data-toc-modified-id=\"Vertical-spotlight-5.1\"><span class=\"toc-item-num\">5.1&nbsp;&nbsp;</span>Vertical spotlight</a></span></li><li><span><a href=\"#Horizontal-spotlights\" data-toc-modified-id=\"Horizontal-spotlights-5.2\"><span class=\"toc-item-num\">5.2&nbsp;&nbsp;</span>Horizontal spotlights</a></span></li><li><span><a href=\"#Artículos\" data-toc-modified-id=\"Artículos-5.3\"><span class=\"toc-item-num\">5.3&nbsp;&nbsp;</span>Artículos</a></span></li><li><span><a href=\"#Generar-fichero-con-datos-extraídos\" data-toc-modified-id=\"Generar-fichero-con-datos-extraídos-5.4\"><span class=\"toc-item-num\">5.4&nbsp;&nbsp;</span>Generar fichero con datos extraídos</a></span></li></ul></li></ul></div>"
   ]
  },
  {
   "cell_type": "markdown",
   "metadata": {},
   "source": [
    "# Web scraping con BeautifulSoup\n",
    "\n",
    "Web scraping es el proceso de extraer información automáticamente de la web.\n",
    "\n",
    "Por automáticamente nos referimos a que programamos un “bot” que permita simular la navegación de un humano con el objetivo de obtener la información de la web sin necesidad de que un humano lo haga.\n",
    "\n",
    "En Python las 3 librerías de Web Scraping conocidas son: Scrapy, BeautifulSoup y Selenium.\n",
    "\n",
    "En esta sección, aprenderemos a usar BeautifulSoup. ¡Vamos!\n"
   ]
  },
  {
   "cell_type": "markdown",
   "metadata": {},
   "source": [
    "## Importar librerias"
   ]
  },
  {
   "cell_type": "code",
   "execution_count": 1,
   "metadata": {},
   "outputs": [],
   "source": [
    "from bs4 import BeautifulSoup"
   ]
  },
  {
   "cell_type": "markdown",
   "metadata": {},
   "source": [
    "## Parsers"
   ]
  },
  {
   "cell_type": "code",
   "execution_count": 2,
   "metadata": {},
   "outputs": [],
   "source": [
    "html = \"\"\"\n",
    "<html>\n",
    "<head>\n",
    "<title>Mi documento</title>\n",
    "</head>\n",
    "<body>\n",
    "    <p class=\"saludo\">Hola Mundo</p>\n",
    "    <p>Luego tengo aqui una lista</p>\n",
    "    <ul id=\"lista-elementos\">\n",
    "        <li> Elemento 1 </li>\n",
    "        <li> Elemento 2 </li>\n",
    "        <li> Elemento 3 </li>\n",
    "    </ul>\n",
    "    <p> Y aquí hay un error de <b>formato  </p>\n",
    "    </p></p>\n",
    "</body>\n",
    "</html>\n",
    "\"\"\""
   ]
  },
  {
   "cell_type": "code",
   "execution_count": 3,
   "metadata": {},
   "outputs": [
    {
     "name": "stdout",
     "output_type": "stream",
     "text": [
      "\n",
      "<html>\n",
      "<head>\n",
      "<title>Mi documento</title>\n",
      "</head>\n",
      "<body>\n",
      "<p class=\"saludo\">Hola Mundo</p>\n",
      "<p>Luego tengo aqui una lista</p>\n",
      "<ul id=\"lista-elementos\">\n",
      "<li> Elemento 1 </li>\n",
      "<li> Elemento 2 </li>\n",
      "<li> Elemento 3 </li>\n",
      "</ul>\n",
      "<p> Y aquí hay un error de <b>formato  </b></p>\n",
      "\n",
      "</body>\n",
      "</html>\n",
      "\n"
     ]
    }
   ],
   "source": [
    "soup = BeautifulSoup(html, \"html.parser\")\n",
    "print(soup)"
   ]
  },
  {
   "cell_type": "code",
   "execution_count": 4,
   "metadata": {},
   "outputs": [
    {
     "name": "stdout",
     "output_type": "stream",
     "text": [
      "<html>\n",
      "<head>\n",
      "<title>Mi documento</title>\n",
      "</head>\n",
      "<body>\n",
      "<p class=\"saludo\">Hola Mundo</p>\n",
      "<p>Luego tengo aqui una lista</p>\n",
      "<ul id=\"lista-elementos\">\n",
      "<li> Elemento 1 </li>\n",
      "<li> Elemento 2 </li>\n",
      "<li> Elemento 3 </li>\n",
      "</ul>\n",
      "<p> Y aquí hay un error de <b>formato  </b></p>\n",
      "</body>\n",
      "</html>\n",
      "\n"
     ]
    }
   ],
   "source": [
    "soup = BeautifulSoup(html, \"lxml\")\n",
    "print(soup)"
   ]
  },
  {
   "cell_type": "code",
   "execution_count": 5,
   "metadata": {},
   "outputs": [
    {
     "name": "stdout",
     "output_type": "stream",
     "text": [
      "<?xml version=\"1.0\" encoding=\"utf-8\"?>\n",
      "<html>\n",
      "<head>\n",
      "<title>Mi documento</title>\n",
      "</head>\n",
      "<body>\n",
      "<p class=\"saludo\">Hola Mundo</p>\n",
      "<p>Luego tengo aqui una lista</p>\n",
      "<ul id=\"lista-elementos\">\n",
      "<li> Elemento 1 </li>\n",
      "<li> Elemento 2 </li>\n",
      "<li> Elemento 3 </li>\n",
      "</ul>\n",
      "<p> Y aquí hay un error de <b>formato  </b>\n",
      "</p></body>\n",
      "</html>\n"
     ]
    }
   ],
   "source": [
    "soup = BeautifulSoup(html, \"xml\")\n",
    "print(soup)"
   ]
  },
  {
   "cell_type": "code",
   "execution_count": 6,
   "metadata": {},
   "outputs": [
    {
     "name": "stdout",
     "output_type": "stream",
     "text": [
      "<html><head>\n",
      "<title>Mi documento</title>\n",
      "</head>\n",
      "<body>\n",
      "    <p class=\"saludo\">Hola Mundo</p>\n",
      "    <p>Luego tengo aqui una lista</p>\n",
      "    <ul id=\"lista-elementos\">\n",
      "        <li> Elemento 1 </li>\n",
      "        <li> Elemento 2 </li>\n",
      "        <li> Elemento 3 </li>\n",
      "    </ul>\n",
      "    <p> Y aquí hay un error de <b>formato  </b></p><b>\n",
      "    <p></p><p></p>\n",
      "\n",
      "\n",
      "</b></body></html>\n"
     ]
    }
   ],
   "source": [
    "soup = BeautifulSoup(html, \"html5lib\")\n",
    "print(soup)"
   ]
  },
  {
   "cell_type": "markdown",
   "metadata": {},
   "source": [
    "## Estructura de datos"
   ]
  },
  {
   "cell_type": "code",
   "execution_count": 7,
   "metadata": {},
   "outputs": [],
   "source": [
    "soup = BeautifulSoup(html, \"lxml\")"
   ]
  },
  {
   "cell_type": "markdown",
   "metadata": {},
   "source": [
    "### `.[tag-name]`"
   ]
  },
  {
   "cell_type": "code",
   "execution_count": 8,
   "metadata": {},
   "outputs": [
    {
     "data": {
      "text/plain": [
       "<title>Mi documento</title>"
      ]
     },
     "execution_count": 8,
     "metadata": {},
     "output_type": "execute_result"
    }
   ],
   "source": [
    "soup.title"
   ]
  },
  {
   "cell_type": "markdown",
   "metadata": {},
   "source": [
    "### `.name`"
   ]
  },
  {
   "cell_type": "code",
   "execution_count": 9,
   "metadata": {},
   "outputs": [
    {
     "data": {
      "text/plain": [
       "'title'"
      ]
     },
     "execution_count": 9,
     "metadata": {},
     "output_type": "execute_result"
    }
   ],
   "source": [
    "soup.title.name"
   ]
  },
  {
   "cell_type": "markdown",
   "metadata": {},
   "source": [
    "### `.string`"
   ]
  },
  {
   "cell_type": "code",
   "execution_count": 10,
   "metadata": {},
   "outputs": [
    {
     "data": {
      "text/plain": [
       "'Mi documento'"
      ]
     },
     "execution_count": 10,
     "metadata": {},
     "output_type": "execute_result"
    }
   ],
   "source": [
    "soup.title.string"
   ]
  },
  {
   "cell_type": "markdown",
   "metadata": {},
   "source": [
    "### `.get_text()`"
   ]
  },
  {
   "cell_type": "code",
   "execution_count": 11,
   "metadata": {},
   "outputs": [],
   "source": [
    "soup.body.string"
   ]
  },
  {
   "cell_type": "code",
   "execution_count": 12,
   "metadata": {},
   "outputs": [
    {
     "data": {
      "text/plain": [
       "'\\nHola Mundo\\nLuego tengo aqui una lista\\n\\n Elemento 1 \\n Elemento 2 \\n Elemento 3 \\n\\n Y aquí hay un error de formato  \\n'"
      ]
     },
     "execution_count": 12,
     "metadata": {},
     "output_type": "execute_result"
    }
   ],
   "source": [
    "soup.body.get_text()"
   ]
  },
  {
   "cell_type": "markdown",
   "metadata": {},
   "source": [
    "\n",
    "### `.parent`"
   ]
  },
  {
   "cell_type": "code",
   "execution_count": 13,
   "metadata": {},
   "outputs": [
    {
     "data": {
      "text/plain": [
       "<head>\n",
       "<title>Mi documento</title>\n",
       "</head>"
      ]
     },
     "execution_count": 13,
     "metadata": {},
     "output_type": "execute_result"
    }
   ],
   "source": [
    "soup.title.parent"
   ]
  },
  {
   "cell_type": "markdown",
   "metadata": {},
   "source": [
    "### `.attrs`"
   ]
  },
  {
   "cell_type": "code",
   "execution_count": 14,
   "metadata": {},
   "outputs": [
    {
     "data": {
      "text/plain": [
       "{'class': ['saludo']}"
      ]
     },
     "execution_count": 14,
     "metadata": {},
     "output_type": "execute_result"
    }
   ],
   "source": [
    "soup.find_all(\"p\")[0].attrs"
   ]
  },
  {
   "cell_type": "markdown",
   "metadata": {},
   "source": [
    "### `\"class\"`"
   ]
  },
  {
   "cell_type": "code",
   "execution_count": 15,
   "metadata": {},
   "outputs": [
    {
     "data": {
      "text/plain": [
       "['saludo']"
      ]
     },
     "execution_count": 15,
     "metadata": {},
     "output_type": "execute_result"
    }
   ],
   "source": [
    "soup.p[\"class\"]"
   ]
  },
  {
   "cell_type": "markdown",
   "metadata": {},
   "source": [
    "### `.find` / `.find_all`"
   ]
  },
  {
   "cell_type": "code",
   "execution_count": 16,
   "metadata": {},
   "outputs": [
    {
     "data": {
      "text/plain": [
       "<li> Elemento 1 </li>"
      ]
     },
     "execution_count": 16,
     "metadata": {},
     "output_type": "execute_result"
    }
   ],
   "source": [
    "soup.find(\"li\")"
   ]
  },
  {
   "cell_type": "code",
   "execution_count": 17,
   "metadata": {},
   "outputs": [
    {
     "data": {
      "text/plain": [
       "[<li> Elemento 1 </li>, <li> Elemento 2 </li>, <li> Elemento 3 </li>]"
      ]
     },
     "execution_count": 17,
     "metadata": {},
     "output_type": "execute_result"
    }
   ],
   "source": [
    "soup.find_all(\"li\")"
   ]
  },
  {
   "cell_type": "markdown",
   "metadata": {},
   "source": [
    "## Wikipedia"
   ]
  },
  {
   "cell_type": "code",
   "execution_count": 18,
   "metadata": {},
   "outputs": [],
   "source": [
    "import requests\n",
    "\n",
    "response = requests.get(\"https://es.wikipedia.org/wiki/Zinedine_Zidane\")\n",
    "soup = BeautifulSoup(response.content)"
   ]
  },
  {
   "cell_type": "markdown",
   "metadata": {},
   "source": [
    "### Títulos"
   ]
  },
  {
   "cell_type": "code",
   "execution_count": 19,
   "metadata": {},
   "outputs": [
    {
     "name": "stdout",
     "output_type": "stream",
     "text": [
      "Índice\n",
      "Trayectoria como deportista[editar]\n",
      "Trayectoria como entrenador[editar]\n",
      "Selección nacional[editar]\n",
      "Estadísticas[editar]\n",
      "Palmarés[editar]\n",
      "Vida privada[editar]\n",
      "Bibliografía[editar]\n",
      "Filmografía[editar]\n",
      "Referencias[editar]\n",
      "Enlaces externos[editar]\n",
      "Menú de navegación\n"
     ]
    }
   ],
   "source": [
    "for title in soup.find_all(\"h2\"):\n",
    "    print(title.get_text().strip())"
   ]
  },
  {
   "cell_type": "markdown",
   "metadata": {},
   "source": [
    "### Infobox"
   ]
  },
  {
   "cell_type": "code",
   "execution_count": 20,
   "metadata": {},
   "outputs": [
    {
     "name": "stdout",
     "output_type": "stream",
     "text": [
      "Zinédine Zidane\n",
      " Orden Nacional de la Legión de Honor\n",
      "Zidane en 2017Datos personalesNombre completo\n",
      "Zinédine Yazid ZidaneApodo(s)\n",
      "Zizou,[1]​ El Monje[2]​Nacimiento\n",
      "Marsella, Provenza-Alpes-Costa Azul, Francia23 de junio de 1972 (48 años)Nacionalidad(es)\n",
      "FrancesaArgelina[3]​Altura\n",
      "1,85 m (6 ′ 1 ″)[4]​Carrera como entrenadorDeporte\n",
      "FútbolEquipo\n",
      "Sin equipoDebut como entrenador\n",
      "24 de agosto de 2014(Real Madrid Castilla C. F.)Carrera como jugadorPosición\n",
      "CentrocampistaDebut como jugador\n",
      "6 de mayo de 1989(A. S. Cannes Football)Retirada deportiva\n",
      "9 de julio de 2006(Real Madrid C. F.)Part. (goles)\n",
      "108 (31) - Selección692 (122) - ClubesInternacional\n",
      " Francia\n",
      "TrayectoriaEntrenador:\n",
      "Real Madrid C. F. (2º ent.) (2013-14)\n",
      "Real Madrid Castilla C. F. (2015-16)\n",
      "Real Madrid C. F. (2016-18, 2019-21)\n",
      "Jugador:\n",
      "A. S. Cannes (1989-92)\n",
      "F. C. Girondins de Burdeos (1992-96)\n",
      "Juventus F. C. (1996-01)\n",
      "Real Madrid C. F. (2001-06)\n",
      "\n",
      "\n",
      "\n",
      "              Medallero\n",
      "\n",
      "\n",
      "\n",
      "\n",
      "Fútbol masculino\n",
      "\n",
      "\n",
      "  Francia\n",
      "\n",
      "Copa Mundial\n",
      "\n",
      "\n",
      "OroFrancia 1998Fútbol\n",
      "\n",
      "\n",
      "PlataAlemania 2006Fútbol\n",
      "\n",
      "\n",
      "Eurocopa\n",
      "\n",
      "\n",
      "OroBélgica y Países Bajos 2000Fútbol\n",
      "\n",
      "\n",
      "[editar datos en Wikidata]\n"
     ]
    }
   ],
   "source": [
    "infobox = soup.find(\"table\", class_=\"infobox\")\n",
    "print(infobox.get_text())"
   ]
  },
  {
   "cell_type": "code",
   "execution_count": 21,
   "metadata": {},
   "outputs": [
    {
     "data": {
      "text/plain": [
       "'Zinédine Yazid Zidane (pronunciación en francés:\\xa0/zinedin zidan/; Marsella, Francia, 23 de junio de 1972), también conocido como Zizou (pronunciación en francés:\\xa0/zizu/),[1]\\u200b es un exfutbolista y entrenador franco-argelino.\\n'"
      ]
     },
     "execution_count": 21,
     "metadata": {},
     "output_type": "execute_result"
    }
   ],
   "source": [
    "soup.find_all(\"p\")[0].get_text()"
   ]
  },
  {
   "cell_type": "code",
   "execution_count": 22,
   "metadata": {},
   "outputs": [
    {
     "data": {
      "text/plain": [
       "'Zinédine Yazid Zidane (pronunciación en francés: /zinedin zidan/; Marsella, Francia, 23 de junio de 1972), también conocido como Zizou (pronunciación en francés: /zizu/),[1]\\u200b es un exfutbolista y entrenador franco-argelino.\\n'"
      ]
     },
     "execution_count": 22,
     "metadata": {},
     "output_type": "execute_result"
    }
   ],
   "source": [
    "import unicodedata\n",
    "unicodedata.normalize(\"NFKC\", soup.find_all(\"p\")[0].get_text())"
   ]
  },
  {
   "cell_type": "markdown",
   "metadata": {},
   "source": [
    "### Tabla de estadísticas"
   ]
  },
  {
   "cell_type": "code",
   "execution_count": 23,
   "metadata": {},
   "outputs": [
    {
     "data": {
      "text/plain": [
       "<span class=\"mw-headline\" id=\"Títulos_internacionales_2\">Títulos internacionales</span>"
      ]
     },
     "execution_count": 23,
     "metadata": {},
     "output_type": "execute_result"
    }
   ],
   "source": [
    "titulos_internacionales = soup.find(\"span\", id=\"Títulos_internacionales_2\")\n",
    "titulos_internacionales"
   ]
  },
  {
   "cell_type": "code",
   "execution_count": 24,
   "metadata": {},
   "outputs": [
    {
     "data": {
      "text/plain": [
       "[['Liga de Campeones de la UEFA', 'Real Madrid', 'Italia Italia', '2015-16'],\n",
       " ['Supercopa de Europa', 'Real Madrid', 'Noruega Noruega', '2016'],\n",
       " ['Copa Mundial de Clubes de la FIFA', 'Real Madrid', 'Japón Japón', '2016'],\n",
       " ['Liga de Campeones de la UEFA', 'Real Madrid', 'Gales Gales', '2016-17'],\n",
       " ['Supercopa de Europa',\n",
       "  'Real Madrid',\n",
       "  'Macedonia del Norte Macedonia del Norte',\n",
       "  '2017'],\n",
       " ['Copa Mundial de Clubes de la FIFA',\n",
       "  'Real Madrid',\n",
       "  'Emiratos Árabes Unidos Emiratos Árabes Unidos',\n",
       "  '2017'],\n",
       " ['Liga de Campeones de la UEFA', 'Real Madrid', 'Ucrania Ucrania', '2017-18']]"
      ]
     },
     "execution_count": 24,
     "metadata": {},
     "output_type": "execute_result"
    }
   ],
   "source": [
    "import re\n",
    "\n",
    "tabla_titulos = titulos_internacionales.find_next(\"tbody\")\n",
    "\n",
    "headers = []\n",
    "for title in tabla_titulos.find_all(\"th\"):\n",
    "    clean_title = re.sub(\"\\[[0-9]*\\]\", \" \", title.get_text()).strip()\n",
    "    headers.append(clean_title)\n",
    "\n",
    "rows = []\n",
    "for row in tabla_titulos.find_all(\"tr\")[1:]:\n",
    "    clean_row = unicodedata.normalize(\"NFKC\", row.get_text()).split(\"\\n\")\n",
    "    clean_row = [c for c in clean_row if len(c) > 1]\n",
    "    rows.append(clean_row)\n",
    "rows"
   ]
  },
  {
   "cell_type": "code",
   "execution_count": 25,
   "metadata": {},
   "outputs": [
    {
     "data": {
      "text/html": [
       "<div>\n",
       "<style scoped>\n",
       "    .dataframe tbody tr th:only-of-type {\n",
       "        vertical-align: middle;\n",
       "    }\n",
       "\n",
       "    .dataframe tbody tr th {\n",
       "        vertical-align: top;\n",
       "    }\n",
       "\n",
       "    .dataframe thead th {\n",
       "        text-align: right;\n",
       "    }\n",
       "</style>\n",
       "<table border=\"1\" class=\"dataframe\">\n",
       "  <thead>\n",
       "    <tr style=\"text-align: right;\">\n",
       "      <th></th>\n",
       "      <th>Título ​ ​</th>\n",
       "      <th>Club</th>\n",
       "      <th>Sede</th>\n",
       "      <th>Año</th>\n",
       "    </tr>\n",
       "  </thead>\n",
       "  <tbody>\n",
       "    <tr>\n",
       "      <th>0</th>\n",
       "      <td>Liga de Campeones de la UEFA</td>\n",
       "      <td>Real Madrid</td>\n",
       "      <td>Italia Italia</td>\n",
       "      <td>2015-16</td>\n",
       "    </tr>\n",
       "    <tr>\n",
       "      <th>1</th>\n",
       "      <td>Supercopa de Europa</td>\n",
       "      <td>Real Madrid</td>\n",
       "      <td>Noruega Noruega</td>\n",
       "      <td>2016</td>\n",
       "    </tr>\n",
       "    <tr>\n",
       "      <th>2</th>\n",
       "      <td>Copa Mundial de Clubes de la FIFA</td>\n",
       "      <td>Real Madrid</td>\n",
       "      <td>Japón Japón</td>\n",
       "      <td>2016</td>\n",
       "    </tr>\n",
       "    <tr>\n",
       "      <th>3</th>\n",
       "      <td>Liga de Campeones de la UEFA</td>\n",
       "      <td>Real Madrid</td>\n",
       "      <td>Gales Gales</td>\n",
       "      <td>2016-17</td>\n",
       "    </tr>\n",
       "    <tr>\n",
       "      <th>4</th>\n",
       "      <td>Supercopa de Europa</td>\n",
       "      <td>Real Madrid</td>\n",
       "      <td>Macedonia del Norte Macedonia del Norte</td>\n",
       "      <td>2017</td>\n",
       "    </tr>\n",
       "  </tbody>\n",
       "</table>\n",
       "</div>"
      ],
      "text/plain": [
       "                          Título ​ ​         Club  \\\n",
       "0       Liga de Campeones de la UEFA  Real Madrid   \n",
       "1                Supercopa de Europa  Real Madrid   \n",
       "2  Copa Mundial de Clubes de la FIFA  Real Madrid   \n",
       "3       Liga de Campeones de la UEFA  Real Madrid   \n",
       "4                Supercopa de Europa  Real Madrid   \n",
       "\n",
       "                                      Sede      Año  \n",
       "0                            Italia Italia  2015-16  \n",
       "1                          Noruega Noruega     2016  \n",
       "2                              Japón Japón     2016  \n",
       "3                              Gales Gales  2016-17  \n",
       "4  Macedonia del Norte Macedonia del Norte     2017  "
      ]
     },
     "execution_count": 25,
     "metadata": {},
     "output_type": "execute_result"
    }
   ],
   "source": [
    "import pandas as pd\n",
    "\n",
    "def get_country(string):\n",
    "    l = len(string)\n",
    "    return string[:l//2]\n",
    "    \n",
    "df = pd.DataFrame(columns=headers, data=rows)\n",
    "df.head()"
   ]
  },
  {
   "cell_type": "code",
   "execution_count": 26,
   "metadata": {},
   "outputs": [],
   "source": [
    "df[\"Sede\"] = df.Sede.map(get_country)"
   ]
  },
  {
   "cell_type": "code",
   "execution_count": 27,
   "metadata": {},
   "outputs": [
    {
     "data": {
      "text/html": [
       "<div>\n",
       "<style scoped>\n",
       "    .dataframe tbody tr th:only-of-type {\n",
       "        vertical-align: middle;\n",
       "    }\n",
       "\n",
       "    .dataframe tbody tr th {\n",
       "        vertical-align: top;\n",
       "    }\n",
       "\n",
       "    .dataframe thead th {\n",
       "        text-align: right;\n",
       "    }\n",
       "</style>\n",
       "<table border=\"1\" class=\"dataframe\">\n",
       "  <thead>\n",
       "    <tr style=\"text-align: right;\">\n",
       "      <th></th>\n",
       "      <th>Título ​ ​</th>\n",
       "      <th>Club</th>\n",
       "      <th>Sede</th>\n",
       "      <th>Año</th>\n",
       "    </tr>\n",
       "  </thead>\n",
       "  <tbody>\n",
       "    <tr>\n",
       "      <th>0</th>\n",
       "      <td>Liga de Campeones de la UEFA</td>\n",
       "      <td>Real Madrid</td>\n",
       "      <td>Italia</td>\n",
       "      <td>2015-16</td>\n",
       "    </tr>\n",
       "    <tr>\n",
       "      <th>1</th>\n",
       "      <td>Supercopa de Europa</td>\n",
       "      <td>Real Madrid</td>\n",
       "      <td>Noruega</td>\n",
       "      <td>2016</td>\n",
       "    </tr>\n",
       "    <tr>\n",
       "      <th>2</th>\n",
       "      <td>Copa Mundial de Clubes de la FIFA</td>\n",
       "      <td>Real Madrid</td>\n",
       "      <td>Japón</td>\n",
       "      <td>2016</td>\n",
       "    </tr>\n",
       "    <tr>\n",
       "      <th>3</th>\n",
       "      <td>Liga de Campeones de la UEFA</td>\n",
       "      <td>Real Madrid</td>\n",
       "      <td>Gales</td>\n",
       "      <td>2016-17</td>\n",
       "    </tr>\n",
       "    <tr>\n",
       "      <th>4</th>\n",
       "      <td>Supercopa de Europa</td>\n",
       "      <td>Real Madrid</td>\n",
       "      <td>Macedonia del Norte</td>\n",
       "      <td>2017</td>\n",
       "    </tr>\n",
       "  </tbody>\n",
       "</table>\n",
       "</div>"
      ],
      "text/plain": [
       "                          Título ​ ​         Club                 Sede  \\\n",
       "0       Liga de Campeones de la UEFA  Real Madrid               Italia   \n",
       "1                Supercopa de Europa  Real Madrid              Noruega   \n",
       "2  Copa Mundial de Clubes de la FIFA  Real Madrid                Japón   \n",
       "3       Liga de Campeones de la UEFA  Real Madrid                Gales   \n",
       "4                Supercopa de Europa  Real Madrid  Macedonia del Norte   \n",
       "\n",
       "       Año  \n",
       "0  2015-16  \n",
       "1     2016  \n",
       "2     2016  \n",
       "3  2016-17  \n",
       "4     2017  "
      ]
     },
     "execution_count": 27,
     "metadata": {},
     "output_type": "execute_result"
    }
   ],
   "source": [
    "df.head()"
   ]
  },
  {
   "cell_type": "markdown",
   "metadata": {},
   "source": [
    "## IGN"
   ]
  },
  {
   "cell_type": "code",
   "execution_count": 28,
   "metadata": {},
   "outputs": [],
   "source": [
    "response = requests.get(\"https://es.ign.com/\")\n",
    "soup = BeautifulSoup(response.content, \"lxml\")"
   ]
  },
  {
   "cell_type": "markdown",
   "metadata": {},
   "source": [
    "### Vertical spotlight"
   ]
  },
  {
   "cell_type": "code",
   "execution_count": 29,
   "metadata": {
    "tags": []
   },
   "outputs": [
    {
     "name": "stdout",
     "output_type": "stream",
     "text": [
      "He jugado a Tales of Arise: Os cuento mis sensaciones a los mandos con la última entrega del veterano JRPG\n",
      "Entrevista con Hidetaka Miyazaki sobre Elden Ring. Historia, mundo, George R.R. Martin, combate y todos sus secretos\n",
      "Primeras impresiones con OlliOlli World: un gran salto en la saga que avecina otra adicción al skate y a las puntuaciones perfectas\n",
      "Los 25 mejores villanos de Marvel en el UCM\n"
     ]
    }
   ],
   "source": [
    "articles = soup.find_all(\"article\", class_=\"card\")\n",
    "for a in articles:\n",
    "    if a.parent[\"class\"][0] == \"vspotlight\":\n",
    "        print(a.get_text().strip())"
   ]
  },
  {
   "cell_type": "code",
   "execution_count": 30,
   "metadata": {},
   "outputs": [
    {
     "name": "stdout",
     "output_type": "stream",
     "text": [
      "He jugado a Tales of Arise: Os cuento mis sensaciones a los mandos con la última entrega del veterano JRPG\n",
      "Entrevista con Hidetaka Miyazaki sobre Elden Ring. Historia, mundo, George R.R. Martin, combate y todos sus secretos\n",
      "Primeras impresiones con OlliOlli World: un gran salto en la saga que avecina otra adicción al skate y a las puntuaciones perfectas\n",
      "Los 25 mejores villanos de Marvel en el UCM\n"
     ]
    }
   ],
   "source": [
    "articles_vspotlight = soup.select(\"[class=vspotlight] > article\")\n",
    "for article in articles_vspotlight:\n",
    "    print(article.get_text().strip())"
   ]
  },
  {
   "cell_type": "markdown",
   "metadata": {},
   "source": [
    "### Horizontal spotlights"
   ]
  },
  {
   "cell_type": "code",
   "execution_count": 31,
   "metadata": {
    "tags": []
   },
   "outputs": [
    {
     "name": "stdout",
     "output_type": "stream",
     "text": [
      "Zack Snyder responde a la polémica sexual de Batman y Catwoman como solo él podría hacerlo\n",
      "La franquicia de Animales Fantásticos podría tener los días contados, convirtiéndose en una trilogía\n",
      "Anthony Mackie responde a las teorías sobre el supuesto romance entre Sam y Bucky en Falcon y El Soldado de Invierno\n",
      "Tom Hiddleston cuenta cuáles son sus 5 mejores momentos de Loki en el UCM\n",
      "Disney Plus cambia el día de estreno de sus series originales gracias al éxito de Loki\n",
      "Val Kilmer, protagonista de Batman Forever, responde a la polémica sobre la vida sexual del justiciero\n",
      "Spider-Man: No Way Home anuncia su título oficial en español, e incluye una referencia al multiverso\n",
      "Marvel's Loki presenta a un nuevo personaje importante de los cómics en el UCM\n",
      "Análisis de Ninja Gaiden Master Collection, vuelve el ninja\n",
      "Análisis de Ratchet & Clank: Una dimensión aparte para PS5, una gran pequeña aventura\n",
      "Crítica de los dos primeros episodios de Loki (sin spoilers): Marvel quiere abrazar el thriller policiaco\n",
      "Análisis de Guilty Gear Strive, el juego de peleas más estiloso que encontrarás en el mercado\n",
      "E3 2021: Todo lo que sabemos sobre el juego de Guardianes de la Galaxia, gameplay, fecha de lanzamiento, historia y mucho más\n",
      "¿Quién es Kraven el Cazador y por qué va a tener una película en solitario? El villano de Spider-Man explicado\n",
      "Dave Filoni, la trayectoria del hombre que le devolvió la esperanza a Star Wars: de The Clone Wars a La Remesa Mala\n",
      "Palia es un increíble MMO a lo Stardew Valley que recuerda a lo mejor de World of Warcraft y Animal Crossing\n",
      "Reveladas las primeras imágenes de Ewan McGregor en el rodaje de Obi-Wan Kenobi\n",
      "Ewan McGregor, Obi-Wan Kenobi en Star Wars, habla sobre la gran diferencia entre trabajar con un Yoda marioneta o con uno en CGI\n",
      "Mark Hamill bromea sobre el beso de Luke y Leia en Star Wars: El Imperio Contraataca\n",
      "Los cómics de Star Wars: War of the Bounty Hunters presentan un reencuentro totalmente inesperado\n"
     ]
    }
   ],
   "source": [
    "articles = soup.find_all(\"article\", class_=\"card\")\n",
    "for a in articles:\n",
    "    if a.parent[\"class\"][0] == \"wrap\":\n",
    "        print(a.get_text().strip())"
   ]
  },
  {
   "cell_type": "code",
   "execution_count": 32,
   "metadata": {},
   "outputs": [
    {
     "name": "stdout",
     "output_type": "stream",
     "text": [
      "Zack Snyder responde a la polémica sexual de Batman y Catwoman como solo él podría hacerlo\n",
      "La franquicia de Animales Fantásticos podría tener los días contados, convirtiéndose en una trilogía\n",
      "Anthony Mackie responde a las teorías sobre el supuesto romance entre Sam y Bucky en Falcon y El Soldado de Invierno\n",
      "Tom Hiddleston cuenta cuáles son sus 5 mejores momentos de Loki en el UCM\n",
      "Disney Plus cambia el día de estreno de sus series originales gracias al éxito de Loki\n",
      "Val Kilmer, protagonista de Batman Forever, responde a la polémica sobre la vida sexual del justiciero\n",
      "Spider-Man: No Way Home anuncia su título oficial en español, e incluye una referencia al multiverso\n",
      "Marvel's Loki presenta a un nuevo personaje importante de los cómics en el UCM\n",
      "Análisis de Ninja Gaiden Master Collection, vuelve el ninja\n",
      "Análisis de Ratchet & Clank: Una dimensión aparte para PS5, una gran pequeña aventura\n",
      "Crítica de los dos primeros episodios de Loki (sin spoilers): Marvel quiere abrazar el thriller policiaco\n",
      "Análisis de Guilty Gear Strive, el juego de peleas más estiloso que encontrarás en el mercado\n",
      "E3 2021: Todo lo que sabemos sobre el juego de Guardianes de la Galaxia, gameplay, fecha de lanzamiento, historia y mucho más\n",
      "¿Quién es Kraven el Cazador y por qué va a tener una película en solitario? El villano de Spider-Man explicado\n",
      "Dave Filoni, la trayectoria del hombre que le devolvió la esperanza a Star Wars: de The Clone Wars a La Remesa Mala\n",
      "Palia es un increíble MMO a lo Stardew Valley que recuerda a lo mejor de World of Warcraft y Animal Crossing\n",
      "Reveladas las primeras imágenes de Ewan McGregor en el rodaje de Obi-Wan Kenobi\n",
      "Ewan McGregor, Obi-Wan Kenobi en Star Wars, habla sobre la gran diferencia entre trabajar con un Yoda marioneta o con uno en CGI\n",
      "Mark Hamill bromea sobre el beso de Luke y Leia en Star Wars: El Imperio Contraataca\n",
      "Los cómics de Star Wars: War of the Bounty Hunters presentan un reencuentro totalmente inesperado\n"
     ]
    }
   ],
   "source": [
    "articles_hspotlight = soup.select(\"[class=hspotlight] > div > article\")\n",
    "for article in articles_hspotlight:\n",
    "    print(article.get_text().strip())"
   ]
  },
  {
   "cell_type": "markdown",
   "metadata": {},
   "source": [
    "### Artículos"
   ]
  },
  {
   "cell_type": "code",
   "execution_count": 33,
   "metadata": {},
   "outputs": [
    {
     "name": "stdout",
     "output_type": "stream",
     "text": [
      "[{'datetime': '2021-06-18T17:51:08+02:00', 'title': 'From Software detalla la dificultad en Elden Ring, ¿volveremos a tener un desafío a lo Dark Souls?', 'description': 'Hidetaka Miyazaki ha explicado con más detenimiento cómo enfocará este título el tema de la dificultad. Con ciertos cambios.'}, {'datetime': '2021-06-18T17:19:42+02:00', 'title': 'Los creadores de Among Us hablan de las dificultades que la popularidad de su juego les ha generado', 'description': 'Aunque el repentino éxito del título fue muy positivo para sus vidas, también las dificultó en otros muchos aspectos.'}, {'datetime': '2021-06-18T16:55:59+02:00', 'title': 'Descubren referencias de Alan Wake Remastered y Final Fantasy VII Remake en la Epic Games Store', 'description': 'Aunque no ha habido ningún anuncio oficial al respecto, los archivos han sido encontrados en el backend de la tienda.'}]\n"
     ]
    }
   ],
   "source": [
    "articles = soup.select(\"[class='broll wrap'] > div > article\")\n",
    "\n",
    "data = []\n",
    "for a in articles:\n",
    "    dict_article = {\n",
    "        \"datetime\": a.time.attrs[\"datetime\"],\n",
    "        \"title\": a.h3.get_text(),\n",
    "        \"description\": a.p.get_text()\n",
    "    }\n",
    "    data.append(dict_article)\n",
    "print(data[:3])"
   ]
  },
  {
   "cell_type": "markdown",
   "metadata": {},
   "source": [
    "### Generar fichero con datos extraídos"
   ]
  },
  {
   "cell_type": "code",
   "execution_count": 34,
   "metadata": {},
   "outputs": [
    {
     "data": {
      "text/html": [
       "<div>\n",
       "<style scoped>\n",
       "    .dataframe tbody tr th:only-of-type {\n",
       "        vertical-align: middle;\n",
       "    }\n",
       "\n",
       "    .dataframe tbody tr th {\n",
       "        vertical-align: top;\n",
       "    }\n",
       "\n",
       "    .dataframe thead th {\n",
       "        text-align: right;\n",
       "    }\n",
       "</style>\n",
       "<table border=\"1\" class=\"dataframe\">\n",
       "  <thead>\n",
       "    <tr style=\"text-align: right;\">\n",
       "      <th></th>\n",
       "      <th>datetime</th>\n",
       "      <th>title</th>\n",
       "      <th>description</th>\n",
       "    </tr>\n",
       "  </thead>\n",
       "  <tbody>\n",
       "    <tr>\n",
       "      <th>0</th>\n",
       "      <td>2021-06-18T17:51:08+02:00</td>\n",
       "      <td>From Software detalla la dificultad en Elden R...</td>\n",
       "      <td>Hidetaka Miyazaki ha explicado con más detenim...</td>\n",
       "    </tr>\n",
       "    <tr>\n",
       "      <th>1</th>\n",
       "      <td>2021-06-18T17:19:42+02:00</td>\n",
       "      <td>Los creadores de Among Us hablan de las dificu...</td>\n",
       "      <td>Aunque el repentino éxito del título fue muy p...</td>\n",
       "    </tr>\n",
       "    <tr>\n",
       "      <th>2</th>\n",
       "      <td>2021-06-18T16:55:59+02:00</td>\n",
       "      <td>Descubren referencias de Alan Wake Remastered ...</td>\n",
       "      <td>Aunque no ha habido ningún anuncio oficial al ...</td>\n",
       "    </tr>\n",
       "    <tr>\n",
       "      <th>3</th>\n",
       "      <td>2021-06-18T16:39:45+02:00</td>\n",
       "      <td>Baldur's Gate 3 confirma que no dejará el acce...</td>\n",
       "      <td>El fundador de Larian Studios, Swen Vincke, ha...</td>\n",
       "    </tr>\n",
       "    <tr>\n",
       "      <th>4</th>\n",
       "      <td>2021-06-18T16:24:06+02:00</td>\n",
       "      <td>Kevin Hart quiere que sepas que Borderlands: L...</td>\n",
       "      <td>El actor ha hablado sobre la forma en la que e...</td>\n",
       "    </tr>\n",
       "  </tbody>\n",
       "</table>\n",
       "</div>"
      ],
      "text/plain": [
       "                    datetime  \\\n",
       "0  2021-06-18T17:51:08+02:00   \n",
       "1  2021-06-18T17:19:42+02:00   \n",
       "2  2021-06-18T16:55:59+02:00   \n",
       "3  2021-06-18T16:39:45+02:00   \n",
       "4  2021-06-18T16:24:06+02:00   \n",
       "\n",
       "                                               title  \\\n",
       "0  From Software detalla la dificultad en Elden R...   \n",
       "1  Los creadores de Among Us hablan de las dificu...   \n",
       "2  Descubren referencias de Alan Wake Remastered ...   \n",
       "3  Baldur's Gate 3 confirma que no dejará el acce...   \n",
       "4  Kevin Hart quiere que sepas que Borderlands: L...   \n",
       "\n",
       "                                         description  \n",
       "0  Hidetaka Miyazaki ha explicado con más detenim...  \n",
       "1  Aunque el repentino éxito del título fue muy p...  \n",
       "2  Aunque no ha habido ningún anuncio oficial al ...  \n",
       "3  El fundador de Larian Studios, Swen Vincke, ha...  \n",
       "4  El actor ha hablado sobre la forma en la que e...  "
      ]
     },
     "execution_count": 34,
     "metadata": {},
     "output_type": "execute_result"
    }
   ],
   "source": [
    "df = pd.DataFrame(data)\n",
    "df.head()"
   ]
  },
  {
   "cell_type": "code",
   "execution_count": 35,
   "metadata": {},
   "outputs": [],
   "source": [
    "df.to_csv(\"data/list_articles.csv\", index=False)"
   ]
  }
 ],
 "metadata": {
  "kernelspec": {
   "display_name": "Python 3.8.8 64-bit ('nuclio': conda)",
   "name": "python388jvsc74a57bd047c7c997e12db0943f037ebbbbd3e237f559f651ec857a3093f1bc2fc6c9f54a"
  },
  "language_info": {
   "codemirror_mode": {
    "name": "ipython",
    "version": 3
   },
   "file_extension": ".py",
   "mimetype": "text/x-python",
   "name": "python",
   "nbconvert_exporter": "python",
   "pygments_lexer": "ipython3",
   "version": "3.8.8"
  },
  "metadata": {
   "interpreter": {
    "hash": "47c7c997e12db0943f037ebbbbd3e237f559f651ec857a3093f1bc2fc6c9f54a"
   }
  },
  "nbTranslate": {
   "displayLangs": [
    "*"
   ],
   "hotkey": "alt-t",
   "langInMainMenu": true,
   "sourceLang": "en",
   "targetLang": "fr",
   "useGoogleTranslate": true
  },
  "toc": {
   "base_numbering": 1,
   "nav_menu": {},
   "number_sections": true,
   "sideBar": true,
   "skip_h1_title": true,
   "title_cell": "Table of Contents",
   "title_sidebar": "Contents",
   "toc_cell": true,
   "toc_position": {},
   "toc_section_display": true,
   "toc_window_display": false
  }
 },
 "nbformat": 4,
 "nbformat_minor": 2
}
