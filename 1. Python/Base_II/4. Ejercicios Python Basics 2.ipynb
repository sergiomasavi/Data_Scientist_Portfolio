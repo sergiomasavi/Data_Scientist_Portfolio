{
 "cells": [
  {
   "cell_type": "markdown",
   "metadata": {},
   "source": [
    "<img src=\"Tarjeta.png\">"
   ]
  },
  {
   "cell_type": "markdown",
   "metadata": {},
   "source": [
    "![title](images/clase1.png)"
   ]
  },
  {
   "cell_type": "markdown",
   "metadata": {},
   "source": [
    "# EJERCICIOS - Python Basics 2!"
   ]
  },
  {
   "cell_type": "markdown",
   "metadata": {},
   "source": [
    "## Listas"
   ]
  },
  {
   "cell_type": "markdown",
   "metadata": {},
   "source": [
    "\\begin{exercise}\n",
    "Construye una lista que contengo los siguientes elementos: manzanas, peras, plátanos, kiwis\n",
    "\\end{exercise}\n"
   ]
  },
  {
   "cell_type": "code",
   "execution_count": 28,
   "metadata": {
    "ExecuteTime": {
     "end_time": "2020-02-16T19:21:47.913440Z",
     "start_time": "2020-02-16T19:21:47.907365Z"
    }
   },
   "outputs": [],
   "source": [
    "mi_lista = ['manzanas','peras','plátanos','kiwis']"
   ]
  },
  {
   "cell_type": "markdown",
   "metadata": {},
   "source": [
    "\\begin{exercise}\n",
    "¿Cuál es el primer elemento de la lista? ¿Y el último? ¿Y el penúltimo? \\end{exercise}\n",
    "\n"
   ]
  },
  {
   "cell_type": "code",
   "execution_count": 29,
   "metadata": {
    "ExecuteTime": {
     "end_time": "2020-02-16T19:21:48.775740Z",
     "start_time": "2020-02-16T19:21:48.767445Z"
    }
   },
   "outputs": [
    {
     "data": {
      "text/plain": [
       "'manzanas'"
      ]
     },
     "execution_count": 29,
     "metadata": {},
     "output_type": "execute_result"
    }
   ],
   "source": [
    "mi_lista[0]"
   ]
  },
  {
   "cell_type": "code",
   "execution_count": 30,
   "metadata": {
    "ExecuteTime": {
     "end_time": "2020-02-16T19:21:48.908016Z",
     "start_time": "2020-02-16T19:21:48.900041Z"
    }
   },
   "outputs": [
    {
     "data": {
      "text/plain": [
       "'kiwis'"
      ]
     },
     "execution_count": 30,
     "metadata": {},
     "output_type": "execute_result"
    }
   ],
   "source": [
    "mi_lista[-1]"
   ]
  },
  {
   "cell_type": "markdown",
   "metadata": {},
   "source": [
    "\\begin{exercise}\n",
    "Selecciona los 3 primeros elementos de la lista\n",
    "\\end{exercise}\n",
    "\n"
   ]
  },
  {
   "cell_type": "code",
   "execution_count": 31,
   "metadata": {
    "ExecuteTime": {
     "end_time": "2020-02-16T19:21:49.242625Z",
     "start_time": "2020-02-16T19:21:49.233204Z"
    }
   },
   "outputs": [
    {
     "data": {
      "text/plain": [
       "['manzanas', 'peras', 'plátanos']"
      ]
     },
     "execution_count": 31,
     "metadata": {},
     "output_type": "execute_result"
    }
   ],
   "source": [
    "mi_lista[0:3]"
   ]
  },
  {
   "cell_type": "markdown",
   "metadata": {},
   "source": [
    "\\begin{exercise}\n",
    "Cambia las manzanas por pomelos \\end{exercise}\n",
    "\n"
   ]
  },
  {
   "cell_type": "code",
   "execution_count": 32,
   "metadata": {
    "ExecuteTime": {
     "end_time": "2020-02-16T19:21:49.565579Z",
     "start_time": "2020-02-16T19:21:49.557607Z"
    }
   },
   "outputs": [
    {
     "data": {
      "text/plain": [
       "['pomelos', 'peras', 'plátanos', 'kiwis']"
      ]
     },
     "execution_count": 32,
     "metadata": {},
     "output_type": "execute_result"
    }
   ],
   "source": [
    "mi_lista[0] = 'pomelos'\n",
    "mi_lista"
   ]
  },
  {
   "cell_type": "markdown",
   "metadata": {},
   "source": [
    "\\begin{exercise}\n",
    "¿Cuántos elementos tiene mi lista? \n",
    "\\end{exercise}\n",
    "\n"
   ]
  },
  {
   "cell_type": "code",
   "execution_count": 33,
   "metadata": {
    "ExecuteTime": {
     "end_time": "2020-02-16T19:21:49.894604Z",
     "start_time": "2020-02-16T19:21:49.886287Z"
    }
   },
   "outputs": [
    {
     "data": {
      "text/plain": [
       "4"
      ]
     },
     "execution_count": 33,
     "metadata": {},
     "output_type": "execute_result"
    }
   ],
   "source": [
    "len(mi_lista)"
   ]
  },
  {
   "cell_type": "markdown",
   "metadata": {},
   "source": [
    "\\begin{exercise}\n",
    "Añade a la lista una piña!\\end{exercise}\n",
    "\n"
   ]
  },
  {
   "cell_type": "code",
   "execution_count": 34,
   "metadata": {
    "ExecuteTime": {
     "end_time": "2020-02-16T19:21:50.225217Z",
     "start_time": "2020-02-16T19:21:50.216549Z"
    }
   },
   "outputs": [
    {
     "data": {
      "text/plain": [
       "['pomelos', 'peras', 'plátanos', 'kiwis', 'piña']"
      ]
     },
     "execution_count": 34,
     "metadata": {},
     "output_type": "execute_result"
    }
   ],
   "source": [
    "mi_lista.append('piña')\n",
    "mi_lista"
   ]
  },
  {
   "cell_type": "markdown",
   "metadata": {},
   "source": [
    "\\begin{exercise}\n",
    "Añade como 2º elemento de la lista unas zanahorias\\end{exercise}\n",
    "\n"
   ]
  },
  {
   "cell_type": "code",
   "execution_count": 35,
   "metadata": {
    "ExecuteTime": {
     "end_time": "2020-02-16T19:21:50.563156Z",
     "start_time": "2020-02-16T19:21:50.558924Z"
    }
   },
   "outputs": [],
   "source": [
    "mi_lista.insert(1,'zanahorias')"
   ]
  },
  {
   "cell_type": "markdown",
   "metadata": {},
   "source": [
    "\\begin{exercise}\n",
    "Borra los plátanos, ya no los quiero!\n",
    "\\end{exercise}"
   ]
  },
  {
   "cell_type": "code",
   "execution_count": 36,
   "metadata": {
    "ExecuteTime": {
     "end_time": "2020-02-16T19:21:51.419811Z",
     "start_time": "2020-02-16T19:21:51.415851Z"
    }
   },
   "outputs": [],
   "source": [
    "mi_lista.remove('plátanos')"
   ]
  },
  {
   "cell_type": "markdown",
   "metadata": {},
   "source": [
    "\\begin{exercise}\n",
    "No tengo tiempo de comprar tantas cosas, borra el último elemento de la lista!\n",
    "\\end{exercise}"
   ]
  },
  {
   "cell_type": "code",
   "execution_count": 37,
   "metadata": {
    "ExecuteTime": {
     "end_time": "2020-02-16T19:21:52.779509Z",
     "start_time": "2020-02-16T19:21:52.771327Z"
    }
   },
   "outputs": [
    {
     "data": {
      "text/plain": [
       "'piña'"
      ]
     },
     "execution_count": 37,
     "metadata": {},
     "output_type": "execute_result"
    }
   ],
   "source": [
    "mi_lista.pop(len(mi_lista)-1)"
   ]
  },
  {
   "cell_type": "markdown",
   "metadata": {},
   "source": [
    "\\begin{exercise}\n",
    "Voy a cambiar mi ruta de la compra, revierte el orden de mi lista \\end{exercise}"
   ]
  },
  {
   "cell_type": "code",
   "execution_count": 38,
   "metadata": {
    "ExecuteTime": {
     "end_time": "2020-02-16T19:21:53.151116Z",
     "start_time": "2020-02-16T19:21:53.142900Z"
    }
   },
   "outputs": [
    {
     "data": {
      "text/plain": [
       "['kiwis', 'peras', 'zanahorias', 'pomelos']"
      ]
     },
     "execution_count": 38,
     "metadata": {},
     "output_type": "execute_result"
    }
   ],
   "source": [
    "mi_lista.reverse()\n",
    "mi_lista"
   ]
  },
  {
   "cell_type": "markdown",
   "metadata": {},
   "source": [
    "\\begin{exercise}\n",
    "Mi amigo me pide si le puedo ir a comprar unas cuantas cosas que necesita. Añadiré a mi lista su lista de la compra:\n",
    "- desodorante\n",
    "- champú\n",
    "- pan\n",
    "- gomina\n",
    "- chicles\n",
    "\\end{exercise}"
   ]
  },
  {
   "cell_type": "code",
   "execution_count": 41,
   "metadata": {
    "ExecuteTime": {
     "end_time": "2020-02-16T19:22:10.807579Z",
     "start_time": "2020-02-16T19:22:10.797689Z"
    }
   },
   "outputs": [
    {
     "data": {
      "text/plain": [
       "['kiwis',\n",
       " 'peras',\n",
       " 'zanahorias',\n",
       " 'pomelos',\n",
       " 'desodorante',\n",
       " 'champú',\n",
       " 'pan',\n",
       " 'gomina',\n",
       " 'chicles']"
      ]
     },
     "execution_count": 41,
     "metadata": {},
     "output_type": "execute_result"
    }
   ],
   "source": [
    "su_lista = ['desodorante','champú','pan','gomina','chicles']\n",
    "mi_lista = mi_lista+su_lista\n",
    "#mi_lista.extend(su_lista)\n",
    "mi_lista"
   ]
  },
  {
   "cell_type": "markdown",
   "metadata": {},
   "source": [
    "## Tuplas"
   ]
  },
  {
   "cell_type": "markdown",
   "metadata": {},
   "source": [
    "\\begin{exercise}\n",
    "¿Cuál es la diferencia entre una tupla y una lista?\n",
    "\\end{exercise}"
   ]
  },
  {
   "cell_type": "markdown",
   "metadata": {},
   "source": [
    "Una tupla es inmutable!"
   ]
  },
  {
   "cell_type": "markdown",
   "metadata": {},
   "source": [
    "\\begin{exercise}\n",
    "Crea una tupla con el elemento 'flores'\n",
    "\\end{exercise}"
   ]
  },
  {
   "cell_type": "code",
   "execution_count": 43,
   "metadata": {
    "ExecuteTime": {
     "end_time": "2020-02-16T19:25:44.749901Z",
     "start_time": "2020-02-16T19:25:44.745844Z"
    }
   },
   "outputs": [],
   "source": [
    "una_tupla = ('flores',)"
   ]
  },
  {
   "cell_type": "markdown",
   "metadata": {},
   "source": [
    "\\begin{exercise}\n",
    "Convierte tu lista de la compra a una tupla \\end{exercise}"
   ]
  },
  {
   "cell_type": "code",
   "execution_count": 45,
   "metadata": {
    "ExecuteTime": {
     "end_time": "2020-02-16T19:25:58.097192Z",
     "start_time": "2020-02-16T19:25:58.090699Z"
    }
   },
   "outputs": [
    {
     "data": {
      "text/plain": [
       "('kiwis',\n",
       " 'peras',\n",
       " 'zanahorias',\n",
       " 'pomelos',\n",
       " 'desodorante',\n",
       " 'champú',\n",
       " 'pan',\n",
       " 'gomina',\n",
       " 'chicles')"
      ]
     },
     "execution_count": 45,
     "metadata": {},
     "output_type": "execute_result"
    }
   ],
   "source": [
    "mi_tupla = tuple(mi_lista)\n",
    "mi_tupla"
   ]
  },
  {
   "cell_type": "markdown",
   "metadata": {},
   "source": [
    "\\begin{exercise}\n",
    "¿Cuántos elementos tiene mi tupla? \\end{exercise}"
   ]
  },
  {
   "cell_type": "code",
   "execution_count": 46,
   "metadata": {
    "ExecuteTime": {
     "end_time": "2020-02-16T19:26:29.235727Z",
     "start_time": "2020-02-16T19:26:29.229529Z"
    }
   },
   "outputs": [
    {
     "data": {
      "text/plain": [
       "9"
      ]
     },
     "execution_count": 46,
     "metadata": {},
     "output_type": "execute_result"
    }
   ],
   "source": [
    "len(mi_tupla)"
   ]
  },
  {
   "cell_type": "markdown",
   "metadata": {
    "ExecuteTime": {
     "end_time": "2020-02-16T19:27:27.210778Z",
     "start_time": "2020-02-16T19:27:27.204153Z"
    }
   },
   "source": [
    "\\begin{exercise}\n",
    "¿Si estoy comprando las zanahorias, cuantos elementos compraré antes de comprar la gomina? \\end{exercise}"
   ]
  },
  {
   "cell_type": "code",
   "execution_count": 49,
   "metadata": {
    "ExecuteTime": {
     "end_time": "2020-02-16T19:28:12.233443Z",
     "start_time": "2020-02-16T19:28:12.226953Z"
    }
   },
   "outputs": [
    {
     "data": {
      "text/plain": [
       "4"
      ]
     },
     "execution_count": 49,
     "metadata": {},
     "output_type": "execute_result"
    }
   ],
   "source": [
    "mi_tupla.index('gomina') - mi_tupla.index('zanahorias')  - 1"
   ]
  },
  {
   "cell_type": "markdown",
   "metadata": {},
   "source": [
    "\\begin{exercise}\n",
    "Quiero añadir ahora jabón a mi tupla de la compra, puedo ?\\end{exercise}"
   ]
  },
  {
   "cell_type": "markdown",
   "metadata": {},
   "source": [
    "No! Una tupla es inmutable por lo que no puedo ni añadir ni eliminar elementos"
   ]
  },
  {
   "cell_type": "markdown",
   "metadata": {},
   "source": [
    "\\begin{exercise}\n",
    "Una tupla es ordenada? Y una lista? \\end{exercise}"
   ]
  },
  {
   "cell_type": "markdown",
   "metadata": {},
   "source": [
    "Sí!"
   ]
  },
  {
   "cell_type": "markdown",
   "metadata": {},
   "source": [
    "## Sets"
   ]
  },
  {
   "cell_type": "markdown",
   "metadata": {},
   "source": [
    "\\begin{exercise}\n",
    "¿Cuál es la diferencia entre un set y una lista?\n",
    "\\end{exercise}"
   ]
  },
  {
   "cell_type": "markdown",
   "metadata": {},
   "source": [
    "Un set no es ordenado y una lista sí!"
   ]
  },
  {
   "cell_type": "markdown",
   "metadata": {},
   "source": [
    "\\begin{exercise}\n",
    "¿Cuál es la diferencia entre un set y una tupla?\n",
    "\\end{exercise}"
   ]
  },
  {
   "cell_type": "markdown",
   "metadata": {},
   "source": [
    "Un set no es ordenado, la tupla sí.\n",
    "\n",
    "Un set es mutable, una tupla no"
   ]
  },
  {
   "cell_type": "markdown",
   "metadata": {},
   "source": [
    "\\begin{exercise}\n",
    "Define un set de colores: azul, blanco, negro, rosa, rojo, amarillo, lila \\end{exercise}"
   ]
  },
  {
   "cell_type": "code",
   "execution_count": 52,
   "metadata": {
    "ExecuteTime": {
     "end_time": "2020-02-16T19:34:44.273302Z",
     "start_time": "2020-02-16T19:34:44.266529Z"
    }
   },
   "outputs": [
    {
     "data": {
      "text/plain": [
       "{'amarillo', 'azul', 'blanco', 'lila', 'negro', 'rojo', 'rosa'}"
      ]
     },
     "execution_count": 52,
     "metadata": {},
     "output_type": "execute_result"
    }
   ],
   "source": [
    "mi_set = {'azul','blanco','negro','rosa','rojo','amarillo','lila'}\n",
    "mi_set"
   ]
  },
  {
   "cell_type": "markdown",
   "metadata": {},
   "source": [
    "\\begin{exercise}\n",
    "¿Que posición ocupa el color azul en el set?\\end{exercise}"
   ]
  },
  {
   "cell_type": "markdown",
   "metadata": {},
   "source": [
    "No! Al no estar indexado no existe el concepto de posición de los elementos en el set"
   ]
  },
  {
   "cell_type": "markdown",
   "metadata": {},
   "source": [
    "\\begin{exercise}\n",
    "Añade el color gris al set\\end{exercise}"
   ]
  },
  {
   "cell_type": "code",
   "execution_count": 54,
   "metadata": {
    "ExecuteTime": {
     "end_time": "2020-02-16T19:34:58.857688Z",
     "start_time": "2020-02-16T19:34:58.852355Z"
    }
   },
   "outputs": [],
   "source": [
    "mi_set.add('gris')"
   ]
  },
  {
   "cell_type": "markdown",
   "metadata": {},
   "source": [
    "\\begin{exercise}\n",
    "Añade ahora varios colores: marrón, azul oscuro, naranja\\end{exercise}"
   ]
  },
  {
   "cell_type": "code",
   "execution_count": 55,
   "metadata": {
    "ExecuteTime": {
     "end_time": "2020-02-16T19:36:19.940551Z",
     "start_time": "2020-02-16T19:36:19.936211Z"
    }
   },
   "outputs": [],
   "source": [
    "mi_set.update(['marrón','azul oscuro','naranja'])"
   ]
  },
  {
   "cell_type": "markdown",
   "metadata": {},
   "source": [
    "\\begin{exercise}\n",
    "¿Cuántos elementos tiene mi set?\\end{exercise}"
   ]
  },
  {
   "cell_type": "code",
   "execution_count": 56,
   "metadata": {
    "ExecuteTime": {
     "end_time": "2020-02-16T19:37:03.111550Z",
     "start_time": "2020-02-16T19:37:03.105495Z"
    }
   },
   "outputs": [
    {
     "data": {
      "text/plain": [
       "11"
      ]
     },
     "execution_count": 56,
     "metadata": {},
     "output_type": "execute_result"
    }
   ],
   "source": [
    "len(mi_set)"
   ]
  },
  {
   "cell_type": "markdown",
   "metadata": {},
   "source": [
    "\\begin{exercise}\n",
    "Genera un nuevo set con los elementos 1,2,3,4,5\n",
    "\\end{exercise}"
   ]
  },
  {
   "cell_type": "code",
   "execution_count": 57,
   "metadata": {
    "ExecuteTime": {
     "end_time": "2020-02-16T19:39:29.494829Z",
     "start_time": "2020-02-16T19:39:29.490660Z"
    }
   },
   "outputs": [],
   "source": [
    "mi_set2 = {1,2,3,4,5}"
   ]
  },
  {
   "cell_type": "markdown",
   "metadata": {},
   "source": [
    "\\begin{exercise}\n",
    "Une un set con el otro\\end{exercise}"
   ]
  },
  {
   "cell_type": "code",
   "execution_count": 59,
   "metadata": {
    "ExecuteTime": {
     "end_time": "2020-02-16T19:39:50.597176Z",
     "start_time": "2020-02-16T19:39:50.591748Z"
    }
   },
   "outputs": [],
   "source": [
    "mi_set3 = mi_set.union(mi_set2)"
   ]
  },
  {
   "cell_type": "markdown",
   "metadata": {
    "solution2": "hidden",
    "solution2_first": true
   },
   "source": [
    "\\begin{exercise}\n",
    "Borra todos los elementos del set\\end{exercise}"
   ]
  },
  {
   "cell_type": "code",
   "execution_count": 60,
   "metadata": {
    "ExecuteTime": {
     "end_time": "2020-02-16T19:40:53.737436Z",
     "start_time": "2020-02-16T19:40:53.733280Z"
    },
    "solution2": "hidden"
   },
   "outputs": [],
   "source": [
    "mi_set.clear()"
   ]
  },
  {
   "cell_type": "markdown",
   "metadata": {},
   "source": [
    "## Diccionarios"
   ]
  },
  {
   "cell_type": "markdown",
   "metadata": {
    "solution2": "shown",
    "solution2_first": true
   },
   "source": [
    "\\begin{exercise}\n",
    "Dado el siguiente diccionario: \n",
    "\n",
    "inventory = {\n",
    "    'gold' : 500,\n",
    "    'pouch' : ['flint', 'twine', 'gemstone'],\n",
    "    'backpack' : ['xylophone','dagger', 'bedroll','bread loaf']\n",
    "}\n",
    "\n",
    "\n",
    "Haz lo siguiente:\n",
    "- Añade una nueva categoría dentro del diccionario llamada 'pocket'\n",
    "- Define el valor de 'pocket' como una lista que contiene los siguientes elementos: 'seashell', 'strange', 'berry' y 'lint'\n",
    "- Ordena los elementos de la lisa dentro de la categoría 'backpack'\n",
    "- Elimina ele elemento 'dagger' de dentro de la categoría 'backpack'\n",
    "- Añade 50 como un nuevo elemento dentro de la categoría 'gold'\n",
    "\\end{exercise}"
   ]
  },
  {
   "cell_type": "code",
   "execution_count": 74,
   "metadata": {
    "ExecuteTime": {
     "end_time": "2020-02-16T19:54:02.468568Z",
     "start_time": "2020-02-16T19:54:02.463539Z"
    },
    "solution2": "shown"
   },
   "outputs": [],
   "source": [
    "inventory = {\n",
    "    'gold' : 500,\n",
    "    'pouch' : ['flint', 'twine', 'gemstone'],\n",
    "    'backpack' : ['xylophone','dagger', 'bedroll','bread loaf']\n",
    "}"
   ]
  },
  {
   "cell_type": "code",
   "execution_count": 75,
   "metadata": {
    "ExecuteTime": {
     "end_time": "2020-02-16T19:54:02.745831Z",
     "start_time": "2020-02-16T19:54:02.738824Z"
    },
    "solution2": "shown"
   },
   "outputs": [
    {
     "data": {
      "text/plain": [
       "{'gold': 500,\n",
       " 'pouch': ['flint', 'twine', 'gemstone'],\n",
       " 'backpack': ['xylophone', 'dagger', 'bedroll', 'bread loaf'],\n",
       " 'pocket': 0}"
      ]
     },
     "execution_count": 75,
     "metadata": {},
     "output_type": "execute_result"
    }
   ],
   "source": [
    "inventory['pocket'] = 0\n",
    "inventory"
   ]
  },
  {
   "cell_type": "code",
   "execution_count": 76,
   "metadata": {
    "ExecuteTime": {
     "end_time": "2020-02-16T19:54:03.030875Z",
     "start_time": "2020-02-16T19:54:03.023101Z"
    },
    "solution2": "shown"
   },
   "outputs": [
    {
     "data": {
      "text/plain": [
       "{'gold': 500,\n",
       " 'pouch': ['flint', 'twine', 'gemstone'],\n",
       " 'backpack': ['xylophone', 'dagger', 'bedroll', 'bread loaf'],\n",
       " 'pocket': ['seashell', 'strange berry', 'lint']}"
      ]
     },
     "execution_count": 76,
     "metadata": {},
     "output_type": "execute_result"
    }
   ],
   "source": [
    "inventory['pocket'] = ['seashell', 'strange berry', 'lint']\n",
    "inventory"
   ]
  },
  {
   "cell_type": "code",
   "execution_count": 77,
   "metadata": {
    "ExecuteTime": {
     "end_time": "2020-02-16T19:54:03.197086Z",
     "start_time": "2020-02-16T19:54:03.189882Z"
    },
    "solution2": "shown"
   },
   "outputs": [
    {
     "data": {
      "text/plain": [
       "{'gold': 500,\n",
       " 'pouch': ['flint', 'twine', 'gemstone'],\n",
       " 'backpack': ['bedroll', 'bread loaf', 'dagger', 'xylophone'],\n",
       " 'pocket': ['seashell', 'strange berry', 'lint']}"
      ]
     },
     "execution_count": 77,
     "metadata": {},
     "output_type": "execute_result"
    }
   ],
   "source": [
    "inventory['backpack'].sort()\n",
    "inventory"
   ]
  },
  {
   "cell_type": "code",
   "execution_count": 78,
   "metadata": {
    "ExecuteTime": {
     "end_time": "2020-02-16T19:54:03.381580Z",
     "start_time": "2020-02-16T19:54:03.374039Z"
    },
    "solution2": "shown"
   },
   "outputs": [
    {
     "data": {
      "text/plain": [
       "{'gold': 500,\n",
       " 'pouch': ['flint', 'twine', 'gemstone'],\n",
       " 'backpack': ['bedroll', 'bread loaf', 'xylophone'],\n",
       " 'pocket': ['seashell', 'strange berry', 'lint']}"
      ]
     },
     "execution_count": 78,
     "metadata": {},
     "output_type": "execute_result"
    }
   ],
   "source": [
    "inventory['backpack'].remove('dagger')\n",
    "inventory"
   ]
  },
  {
   "cell_type": "code",
   "execution_count": 79,
   "metadata": {
    "ExecuteTime": {
     "end_time": "2020-02-16T19:54:03.543778Z",
     "start_time": "2020-02-16T19:54:03.533399Z"
    },
    "solution2": "shown"
   },
   "outputs": [
    {
     "data": {
      "text/plain": [
       "{'gold': 550,\n",
       " 'pouch': ['flint', 'twine', 'gemstone'],\n",
       " 'backpack': ['bedroll', 'bread loaf', 'xylophone'],\n",
       " 'pocket': ['seashell', 'strange berry', 'lint']}"
      ]
     },
     "execution_count": 79,
     "metadata": {},
     "output_type": "execute_result"
    }
   ],
   "source": [
    "inventory['gold'] = inventory['gold'] + 50\n",
    "inventory"
   ]
  },
  {
   "cell_type": "markdown",
   "metadata": {
    "solution2": "shown",
    "solution2_first": true
   },
   "source": [
    "\\begin{exercise}\n",
    "Crea un diccionario llamado 'precios'. \n",
    "\n",
    "- Añade los siguientes elementos al diccionario:\n",
    "\"plátano\": 4,\n",
    "\"manzana\": 2,\n",
    "\"naranja\": 1.5,\n",
    "\"pera\": 3\n",
    "\n",
    "Crea un diccionario llamado stock con la siguiente información:\n",
    "\"plátano\": 6,\n",
    "\"manzana\": 0,\n",
    "\"naranja\": 32,\n",
    "\"pera\": 12\n",
    "\n",
    "- Itera dentro de cada categoría de cada diccionario, de manera que para cada producto imprimas su precio y su stock \n",
    "- Calcula el dinero que ganarías si vendieses todo tu stock al precio marcado\n",
    "\n",
    "\\end{exercise}"
   ]
  },
  {
   "cell_type": "code",
   "execution_count": 100,
   "metadata": {
    "ExecuteTime": {
     "end_time": "2020-02-16T20:08:27.967136Z",
     "start_time": "2020-02-16T20:08:27.962604Z"
    },
    "solution2": "shown"
   },
   "outputs": [],
   "source": [
    "precios = {}\n",
    "precios[\"plátano\"] = 4\n",
    "precios[\"manzana\"] = 2\n",
    "precios[\"naranja\"] = 1.5\n",
    "precios[\"pera\"] = 3"
   ]
  },
  {
   "cell_type": "code",
   "execution_count": 104,
   "metadata": {
    "ExecuteTime": {
     "end_time": "2020-02-16T20:08:35.984107Z",
     "start_time": "2020-02-16T20:08:35.979428Z"
    },
    "solution2": "shown"
   },
   "outputs": [],
   "source": [
    "stock = {}\n",
    "\n",
    "stock[\"plátano\"] = 6\n",
    "stock[\"manzana\"] = 0\n",
    "stock[\"naranja\"] = 32\n",
    "stock[\"pera\"] = 15"
   ]
  },
  {
   "cell_type": "code",
   "execution_count": 105,
   "metadata": {
    "ExecuteTime": {
     "end_time": "2020-02-16T20:08:36.153726Z",
     "start_time": "2020-02-16T20:08:36.145809Z"
    },
    "solution2": "shown"
   },
   "outputs": [
    {
     "name": "stdout",
     "output_type": "stream",
     "text": [
      "plátano\n",
      "precio: 4\n",
      "stock: 6\n",
      "\n",
      "manzana\n",
      "precio: 2\n",
      "stock: 0\n",
      "\n",
      "naranja\n",
      "precio: 1.5\n",
      "stock: 32\n",
      "\n",
      "pera\n",
      "precio: 3\n",
      "stock: 15\n",
      "\n"
     ]
    }
   ],
   "source": [
    "for food in precios:\n",
    "    print (food)\n",
    "    print (\"precio: %s\" % precios[food])\n",
    "    print (\"stock: %s\" % stock[food]+ \"\\n\")"
   ]
  },
  {
   "cell_type": "code",
   "execution_count": 106,
   "metadata": {
    "ExecuteTime": {
     "end_time": "2020-02-16T20:08:36.304795Z",
     "start_time": "2020-02-16T20:08:36.299275Z"
    },
    "solution2": "shown"
   },
   "outputs": [
    {
     "name": "stdout",
     "output_type": "stream",
     "text": [
      "Ganaría  117.0 €\n"
     ]
    }
   ],
   "source": [
    "ganancias = 0\n",
    "for food in precios:\n",
    "    ganancias = ganancias + precios[food]*stock[food]\n",
    "\n",
    "print(\"Ganaría \",ganancias,\"€\")"
   ]
  },
  {
   "cell_type": "markdown",
   "metadata": {
    "solution2": "shown",
    "solution2_first": true
   },
   "source": [
    "\\begin{exercise}\n",
    "Del ejercicio anterior, calcula la ganancia añadiendo la consideración que se vende sólo si el producto está en stock y para cada venta restas la unidad al stock del producto\n",
    "\n",
    "\\end{exercise}"
   ]
  },
  {
   "cell_type": "code",
   "execution_count": 107,
   "metadata": {
    "ExecuteTime": {
     "end_time": "2020-02-16T20:10:50.967163Z",
     "start_time": "2020-02-16T20:10:50.957982Z"
    },
    "solution2": "shown"
   },
   "outputs": [
    {
     "name": "stdout",
     "output_type": "stream",
     "text": [
      "Ganaría  117.0 €\n"
     ]
    }
   ],
   "source": [
    "ganancias = 0\n",
    "for item in precios:\n",
    "    if stock[item] > 0:\n",
    "        ganancias = ganancias + precios[item]*stock[item]\n",
    "        stock[item] = stock[item] -1 \n",
    "\n",
    "print(\"Ganaría \",ganancias,\"€\")"
   ]
  },
  {
   "cell_type": "markdown",
   "metadata": {},
   "source": [
    "## Bucles"
   ]
  },
  {
   "cell_type": "markdown",
   "metadata": {
    "solution2": "shown",
    "solution2_first": true
   },
   "source": [
    "\\begin{exercise}\n",
    "Escribe un código que imprima el cuadrado de los números del 0 al 10\n",
    "\\end{exercise}"
   ]
  },
  {
   "cell_type": "code",
   "execution_count": 110,
   "metadata": {
    "ExecuteTime": {
     "end_time": "2020-02-16T20:15:45.550541Z",
     "start_time": "2020-02-16T20:15:45.543187Z"
    },
    "solution2": "shown"
   },
   "outputs": [
    {
     "name": "stdout",
     "output_type": "stream",
     "text": [
      "0\n",
      "1\n",
      "4\n",
      "9\n",
      "16\n",
      "25\n",
      "36\n",
      "49\n",
      "64\n",
      "81\n",
      "100\n"
     ]
    }
   ],
   "source": [
    "for i in range(11):\n",
    "    print(i**2)"
   ]
  },
  {
   "cell_type": "markdown",
   "metadata": {
    "solution2": "shown",
    "solution2_first": true
   },
   "source": [
    "\\begin{exercise}\n",
    "Escribe un código que calcule la suma de todos los números pares del 0 al 10\n",
    "\\end{exercise}"
   ]
  },
  {
   "cell_type": "code",
   "execution_count": 122,
   "metadata": {
    "ExecuteTime": {
     "end_time": "2020-02-16T20:18:37.869185Z",
     "start_time": "2020-02-16T20:18:37.856628Z"
    },
    "solution2": "shown"
   },
   "outputs": [
    {
     "name": "stdout",
     "output_type": "stream",
     "text": [
      "sumo 0 a 0\n",
      "sumo 2 a 0\n",
      "sumo 4 a 2\n",
      "sumo 6 a 6\n",
      "sumo 8 a 12\n",
      "sumo 10 a 20\n"
     ]
    },
    {
     "data": {
      "text/plain": [
       "30"
      ]
     },
     "execution_count": 122,
     "metadata": {},
     "output_type": "execute_result"
    }
   ],
   "source": [
    "suma = 0\n",
    "for i in range(6):\n",
    "    print(\"sumo\", int(i*2), \"a\",suma)\n",
    "    suma = suma + int(i*2)\n",
    "suma"
   ]
  },
  {
   "cell_type": "markdown",
   "metadata": {
    "solution2": "shown",
    "solution2_first": true
   },
   "source": [
    "\\begin{exercise}\n",
    "Escribe un código que te devuelva:\n",
    "\n",
    "1 --- 99\n",
    "2 --- 98\n",
    "\n",
    "..\n",
    "..\n",
    "\n",
    "98 -- 2 \n",
    "99 -- 1 \n",
    "\n",
    "\\end{exercise}"
   ]
  },
  {
   "cell_type": "code",
   "execution_count": 129,
   "metadata": {
    "ExecuteTime": {
     "end_time": "2020-02-16T20:20:46.894737Z",
     "start_time": "2020-02-16T20:20:46.876885Z"
    },
    "solution2": "shown"
   },
   "outputs": [
    {
     "name": "stdout",
     "output_type": "stream",
     "text": [
      "1 -- 99\n",
      "2 -- 98\n",
      "3 -- 97\n",
      "4 -- 96\n",
      "5 -- 95\n",
      "6 -- 94\n",
      "7 -- 93\n",
      "8 -- 92\n",
      "9 -- 91\n",
      "10 -- 90\n",
      "11 -- 89\n",
      "12 -- 88\n",
      "13 -- 87\n",
      "14 -- 86\n",
      "15 -- 85\n",
      "16 -- 84\n",
      "17 -- 83\n",
      "18 -- 82\n",
      "19 -- 81\n",
      "20 -- 80\n",
      "21 -- 79\n",
      "22 -- 78\n",
      "23 -- 77\n",
      "24 -- 76\n",
      "25 -- 75\n",
      "26 -- 74\n",
      "27 -- 73\n",
      "28 -- 72\n",
      "29 -- 71\n",
      "30 -- 70\n",
      "31 -- 69\n",
      "32 -- 68\n",
      "33 -- 67\n",
      "34 -- 66\n",
      "35 -- 65\n",
      "36 -- 64\n",
      "37 -- 63\n",
      "38 -- 62\n",
      "39 -- 61\n",
      "40 -- 60\n",
      "41 -- 59\n",
      "42 -- 58\n",
      "43 -- 57\n",
      "44 -- 56\n",
      "45 -- 55\n",
      "46 -- 54\n",
      "47 -- 53\n",
      "48 -- 52\n",
      "49 -- 51\n",
      "50 -- 50\n",
      "51 -- 49\n",
      "52 -- 48\n",
      "53 -- 47\n",
      "54 -- 46\n",
      "55 -- 45\n",
      "56 -- 44\n",
      "57 -- 43\n",
      "58 -- 42\n",
      "59 -- 41\n",
      "60 -- 40\n",
      "61 -- 39\n",
      "62 -- 38\n",
      "63 -- 37\n",
      "64 -- 36\n",
      "65 -- 35\n",
      "66 -- 34\n",
      "67 -- 33\n",
      "68 -- 32\n",
      "69 -- 31\n",
      "70 -- 30\n",
      "71 -- 29\n",
      "72 -- 28\n",
      "73 -- 27\n",
      "74 -- 26\n",
      "75 -- 25\n",
      "76 -- 24\n",
      "77 -- 23\n",
      "78 -- 22\n",
      "79 -- 21\n",
      "80 -- 20\n",
      "81 -- 19\n",
      "82 -- 18\n",
      "83 -- 17\n",
      "84 -- 16\n",
      "85 -- 15\n",
      "86 -- 14\n",
      "87 -- 13\n",
      "88 -- 12\n",
      "89 -- 11\n",
      "90 -- 10\n",
      "91 -- 9\n",
      "92 -- 8\n",
      "93 -- 7\n",
      "94 -- 6\n",
      "95 -- 5\n",
      "96 -- 4\n",
      "97 -- 3\n",
      "98 -- 2\n",
      "99 -- 1\n"
     ]
    }
   ],
   "source": [
    "for i in range(99):\n",
    "    print (i+1,\"--\", 100-(i+1))"
   ]
  },
  {
   "cell_type": "markdown",
   "metadata": {
    "solution2": "shown",
    "solution2_first": true
   },
   "source": [
    "\\begin{exercise}\n",
    "Escribe un código que te devuelva el cuadrado de un nº\n",
    "\\end{exercise}"
   ]
  },
  {
   "cell_type": "code",
   "execution_count": 131,
   "metadata": {
    "ExecuteTime": {
     "end_time": "2020-02-16T20:22:39.474568Z",
     "start_time": "2020-02-16T20:22:39.469193Z"
    },
    "solution2": "shown"
   },
   "outputs": [
    {
     "name": "stdout",
     "output_type": "stream",
     "text": [
      "4\n"
     ]
    }
   ],
   "source": [
    "def factorial(i):\n",
    "    print(i**2)\n",
    "\n",
    "factorial(2)"
   ]
  },
  {
   "cell_type": "markdown",
   "metadata": {},
   "source": [
    "[Quiz](https://www.programiz.com/python-programming/quiz/native-data-types)"
   ]
  },
  {
   "cell_type": "markdown",
   "metadata": {},
   "source": [
    "![title](https://files.realpython.com/media/Introduction-to-Python_Watermarked.48eeee4e1109.jpg)"
   ]
  },
  {
   "cell_type": "markdown",
   "metadata": {},
   "source": [
    "![Nuclio logo](https://www.compudemano.com/wp-content/uploads/2019/01/gracias-por-tu-compra.jpg)"
   ]
  },
  {
   "cell_type": "code",
   "execution_count": null,
   "metadata": {},
   "outputs": [],
   "source": []
  }
 ],
 "metadata": {
  "kernelspec": {
   "display_name": "Python 3",
   "language": "python",
   "name": "python3"
  },
  "language_info": {
   "codemirror_mode": {
    "name": "ipython",
    "version": 3
   },
   "file_extension": ".py",
   "mimetype": "text/x-python",
   "name": "python",
   "nbconvert_exporter": "python",
   "pygments_lexer": "ipython3",
   "version": "3.8.10"
  },
  "latex_envs": {
   "LaTeX_envs_menu_present": true,
   "autoclose": false,
   "autocomplete": true,
   "bibliofile": "biblio.bib",
   "cite_by": "apalike",
   "current_citInitial": 1,
   "eqLabelWithNumbers": true,
   "eqNumInitial": 1,
   "hotkeys": {
    "equation": "Ctrl-E",
    "itemize": "Ctrl-I"
   },
   "labels_anchors": false,
   "latex_user_defs": false,
   "report_style_numbering": false,
   "user_envs_cfg": false
  },
  "nbTranslate": {
   "displayLangs": [
    "*"
   ],
   "hotkey": "alt-t",
   "langInMainMenu": true,
   "sourceLang": "en",
   "targetLang": "fr",
   "useGoogleTranslate": true
  },
  "toc": {
   "base_numbering": 1,
   "nav_menu": {},
   "number_sections": true,
   "sideBar": true,
   "skip_h1_title": false,
   "title_cell": "Table of Contents",
   "title_sidebar": "Contents",
   "toc_cell": false,
   "toc_position": {
    "height": "calc(100% - 180px)",
    "left": "10px",
    "top": "150px",
    "width": "418.3831481933594px"
   },
   "toc_section_display": true,
   "toc_window_display": false
  },
  "varInspector": {
   "cols": {
    "lenName": 16,
    "lenType": 16,
    "lenVar": 40
   },
   "kernels_config": {
    "python": {
     "delete_cmd_postfix": "",
     "delete_cmd_prefix": "del ",
     "library": "var_list.py",
     "varRefreshCmd": "print(var_dic_list())"
    },
    "r": {
     "delete_cmd_postfix": ") ",
     "delete_cmd_prefix": "rm(",
     "library": "var_list.r",
     "varRefreshCmd": "cat(var_dic_list()) "
    }
   },
   "types_to_exclude": [
    "module",
    "function",
    "builtin_function_or_method",
    "instance",
    "_Feature"
   ],
   "window_display": false
  }
 },
 "nbformat": 4,
 "nbformat_minor": 2
}
