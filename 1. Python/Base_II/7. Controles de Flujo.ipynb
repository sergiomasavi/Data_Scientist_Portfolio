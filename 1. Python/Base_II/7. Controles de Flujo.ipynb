{
 "cells": [
  {
   "cell_type": "markdown",
   "metadata": {},
   "source": [
    "<img src=\"Tarjeta.png\">"
   ]
  },
  {
   "cell_type": "markdown",
   "metadata": {},
   "source": [
    "# Controles de Flujo\n",
    "\n",
    "## Condicionales\n",
    "\n",
    "La lógica es fundamental para todo lenguaje, ya que sin ella no se puede construir ningún programa. "
   ]
  },
  {
   "cell_type": "code",
   "execution_count": 1,
   "metadata": {
    "ExecuteTime": {
     "end_time": "2020-02-26T18:29:58.147254Z",
     "start_time": "2020-02-26T18:29:58.132988Z"
    }
   },
   "outputs": [],
   "source": [
    "a = 5"
   ]
  },
  {
   "cell_type": "markdown",
   "metadata": {},
   "source": [
    "Python acepta las condiciones lógicas que las matemáticas nos enseñaron:\n",
    "- Igual: a == b\n",
    "- No igual: a != b\n",
    "- Menor que: a < b\n",
    "- Menor o igual que: a<= b\n",
    "- Mayor que: a>b\n",
    "- Mayor o igual que: a>= b\n",
    "\n",
    "Estas condiciones se pueden usar de distinas manera, pero sobretodo se usan en condicionales, o códigos \"if else\" y bucles, que veremos más adelante.\n",
    "\n",
    "### IF( )\n",
    "\n",
    "**Definición** Un código condicional se escribe usando el comando **if**, que se traduce como un **si** condicional y funciona de la siguiente forma:\n",
    "- Si la condición que se testea (se escribe a continuación del if) es cierta (True), se ejecuta el código identado escrito debajo de la condición \n",
    "- Si la condición que se testea no se cumple (False), no se ejecuta el código dentro de la condición\n",
    "\n",
    "#### EJEMPLO: IF()\n",
    "\n",
    "Vamos a comprobar que el nº 1 es mayor que el nº 0"
   ]
  },
  {
   "cell_type": "code",
   "execution_count": 1,
   "metadata": {
    "ExecuteTime": {
     "end_time": "2020-02-26T18:44:40.013654Z",
     "start_time": "2020-02-26T18:44:40.007704Z"
    }
   },
   "outputs": [],
   "source": [
    "a = 0\n",
    "b = 1"
   ]
  },
  {
   "cell_type": "code",
   "execution_count": 3,
   "metadata": {},
   "outputs": [],
   "source": [
    "if b<a:\n",
    "    print('hola')"
   ]
  },
  {
   "cell_type": "markdown",
   "metadata": {},
   "source": [
    "Vamos a entender el proceso, como 1>0 es cierto, entonces se cumple que b>a  y se cumple la condición.\n",
    "Entonces se entra dentro del if y se ejecuta el código, que en este caso es imprimir en pantalla el mensaje \n",
    "\n",
    "#### Identación\n",
    "\n",
    "Con las condiciones if() de Python queda manifiesta la importancia de respetar la identación. \n",
    "\n",
    "Python se sustenta en la identación (espacios delante del principio de una línea de código) para definir la extensión del código. Veréis que al poner el código dentro de un if() tiene que estar identado o no se ejecutará, saldrá un error.  Veámoslo:\n",
    "\n",
    "#### EJEMPLO"
   ]
  },
  {
   "cell_type": "code",
   "execution_count": 154,
   "metadata": {
    "ExecuteTime": {
     "end_time": "2020-02-08T13:44:47.237053Z",
     "start_time": "2020-02-08T13:44:47.227471Z"
    }
   },
   "outputs": [
    {
     "ename": "IndentationError",
     "evalue": "expected an indented block (<ipython-input-154-0341677700fc>, line 4)",
     "output_type": "error",
     "traceback": [
      "\u001b[0;36m  File \u001b[0;32m\"<ipython-input-154-0341677700fc>\"\u001b[0;36m, line \u001b[0;32m4\u001b[0m\n\u001b[0;31m    print(\"b is greater than a\")\u001b[0m\n\u001b[0m        ^\u001b[0m\n\u001b[0;31mIndentationError\u001b[0m\u001b[0;31m:\u001b[0m expected an indented block\n"
     ]
    }
   ],
   "source": [
    "a = 0\n",
    "b = 1\n",
    "if b > a: \n",
    "print(\"b es mayor que a\") "
   ]
  },
  {
   "cell_type": "markdown",
   "metadata": {
    "heading_collapsed": true
   },
   "source": [
    "#### Ejercicio: Imprimir un mensaje \"Hello Word\" si el área de un triangulo de base y altura igual 1cm es menor al área de un circulo con radio de 1cm."
   ]
  },
  {
   "cell_type": "code",
   "execution_count": null,
   "metadata": {
    "ExecuteTime": {
     "end_time": "2021-01-09T15:18:28.847193Z",
     "start_time": "2021-01-09T15:18:28.841206Z"
    },
    "hidden": true
   },
   "outputs": [],
   "source": []
  },
  {
   "cell_type": "code",
   "execution_count": null,
   "metadata": {
    "hidden": true
   },
   "outputs": [],
   "source": []
  },
  {
   "cell_type": "code",
   "execution_count": null,
   "metadata": {
    "hidden": true
   },
   "outputs": [],
   "source": []
  },
  {
   "cell_type": "code",
   "execution_count": null,
   "metadata": {
    "hidden": true
   },
   "outputs": [],
   "source": []
  },
  {
   "cell_type": "markdown",
   "metadata": {
    "heading_collapsed": true
   },
   "source": [
    "#### Ejercicio: Usando el ejercicio anterior, imprime el área del triángulo solo cuando este sea menor que el área del circulo cambiando el radio a 0.5 y que además se cumpla la condición de que el área del triángulo es menor ó igual a 0.5."
   ]
  },
  {
   "cell_type": "code",
   "execution_count": null,
   "metadata": {
    "hidden": true
   },
   "outputs": [],
   "source": []
  },
  {
   "cell_type": "code",
   "execution_count": null,
   "metadata": {
    "hidden": true
   },
   "outputs": [],
   "source": []
  },
  {
   "cell_type": "code",
   "execution_count": null,
   "metadata": {
    "hidden": true
   },
   "outputs": [],
   "source": []
  },
  {
   "cell_type": "code",
   "execution_count": null,
   "metadata": {
    "hidden": true
   },
   "outputs": [],
   "source": []
  },
  {
   "cell_type": "markdown",
   "metadata": {},
   "source": [
    "### ELIF( ) = ELSE IF \n",
    "\n",
    "La función elif() se traduce literalmente en \"si la condición anterior if() no se cumple, prueba con esta opción\"\n",
    "\n",
    "#### EJEMPLO"
   ]
  },
  {
   "cell_type": "code",
   "execution_count": 1,
   "metadata": {
    "ExecuteTime": {
     "end_time": "2020-02-26T18:46:07.659188Z",
     "start_time": "2020-02-26T18:46:07.653382Z"
    }
   },
   "outputs": [],
   "source": [
    "a = 1\n",
    "b = 1\n",
    "if b > a: \n",
    "    print(\"b es mayor que a\") \n"
   ]
  },
  {
   "cell_type": "markdown",
   "metadata": {},
   "source": [
    "En este ejemplo, a y b son iguales (1 y 1); así que no se cumple la primera condición que testeaba si b era mayor que a; así que no se ejecuta el primer código y entramos en la segunda condición, que testea si a y b son iguales. Ésta segunda condición sí que es Verdadera, por lo que se imprime en pantalla el segundo mensaje. \n",
    "\n",
    "### ELSE:\n",
    "\n",
    "El comando else captura todo aquello que no hayan aceptado las condiciones anteriormentes testeadas.\n",
    "\n",
    "![title](https://4.bp.blogspot.com/-y7BUSaA5_GU/Vk5chQCT9AI/AAAAAAAAFv8/XV1njZ5jivU/s1600/a.JPG)\n",
    "\n",
    "#### EJEMPLO"
   ]
  },
  {
   "cell_type": "code",
   "execution_count": 2,
   "metadata": {
    "ExecuteTime": {
     "end_time": "2020-02-08T13:50:06.068767Z",
     "start_time": "2020-02-08T13:50:06.062943Z"
    }
   },
   "outputs": [],
   "source": [
    "a = 10\n",
    "b = 1\n",
    "if b > a: \n",
    "    print(\"b es mayor que a\") \n",
    "elif a == b:\n",
    "    print(\"a y b son iguales\")\n"
   ]
  },
  {
   "cell_type": "markdown",
   "metadata": {},
   "source": [
    "Vemos que else no especifica ninguna condición en concreto, sino que es todo aquella condición no especificada en el if()o el elif() anteriormente ejecutados. **El else tiene función de desguace**\n",
    "\n",
    "![title](https://www.learnbyexample.org/wp-content/uploads/python/Python-elif-Statement-Syntax.png)\n",
    "\n",
    "### Condiciones if else en una línea\n",
    "\n",
    "Si se desea ejecutar un condicional sin más de una condición o statement, se puede escribir en una sola línea, sin uso de identación; de la siguiente forma:"
   ]
  },
  {
   "cell_type": "code",
   "execution_count": 9,
   "metadata": {
    "ExecuteTime": {
     "end_time": "2020-02-08T13:52:49.529414Z",
     "start_time": "2020-02-08T13:52:49.524484Z"
    }
   },
   "outputs": [
    {
     "name": "stdout",
     "output_type": "stream",
     "text": [
      "a es mayor que b\n"
     ]
    }
   ],
   "source": [
    "a = 10\n",
    "b = 1\n",
    "\n",
    "if a>b: print(\"a es mayor que b\")"
   ]
  },
  {
   "cell_type": "markdown",
   "metadata": {},
   "source": [
    "De la misma manera, se puede ejecutar un if() y un else() también se puede escribir en una sola línea:"
   ]
  },
  {
   "cell_type": "code",
   "execution_count": 10,
   "metadata": {
    "ExecuteTime": {
     "end_time": "2020-02-08T13:54:01.951745Z",
     "start_time": "2020-02-08T13:54:01.945645Z"
    }
   },
   "outputs": [
    {
     "name": "stdout",
     "output_type": "stream",
     "text": [
      "a es mayor que b\n"
     ]
    }
   ],
   "source": [
    "print(\"a es mayor que b\") if a>b else print(\"a NO es mayor que b\")"
   ]
  },
  {
   "cell_type": "code",
   "execution_count": 11,
   "metadata": {
    "ExecuteTime": {
     "end_time": "2020-02-26T18:57:50.739069Z",
     "start_time": "2020-02-26T18:57:50.732879Z"
    }
   },
   "outputs": [
    {
     "name": "stdout",
     "output_type": "stream",
     "text": [
      "a NO es mayor que b\n"
     ]
    }
   ],
   "source": [
    "a = 10\n",
    "b = 1\n",
    "\n",
    "if a < b:\n",
    "    print('a es mayor que b')\n",
    "else: \n",
    "    print('a NO es mayor que b')"
   ]
  },
  {
   "cell_type": "markdown",
   "metadata": {},
   "source": [
    "#### EJEMPLO"
   ]
  },
  {
   "cell_type": "code",
   "execution_count": 17,
   "metadata": {},
   "outputs": [],
   "source": [
    "a = 330\n",
    "b = 330"
   ]
  },
  {
   "cell_type": "code",
   "execution_count": 18,
   "metadata": {},
   "outputs": [
    {
     "name": "stdout",
     "output_type": "stream",
     "text": [
      "a es igual que b\n"
     ]
    }
   ],
   "source": [
    "print('a es mayor que b') if a>b else print('a es igual que b') if a==b else print('hola')"
   ]
  },
  {
   "cell_type": "markdown",
   "metadata": {},
   "source": [
    "### and( )\n",
    "\n",
    "El comando **and()** es un operador lógico, que se utiliza para combinar statements condicionales. Exige que se cumpla una condición **y** otra\n",
    "\n",
    "#### Ejercicio: Si a = 30 es mayor que b = 10 y \"a\" es mayor que 100 imprime \"YES\"; si no es así, comprueba que \"b\" es mayor que 0 y si es así imprime \"HOLA\" y si no, imprime \"Me voy a casa\".  (Escribirlo primero en varias líneas y después en una línea)"
   ]
  },
  {
   "cell_type": "code",
   "execution_count": null,
   "metadata": {},
   "outputs": [],
   "source": []
  },
  {
   "cell_type": "code",
   "execution_count": null,
   "metadata": {},
   "outputs": [],
   "source": []
  },
  {
   "cell_type": "code",
   "execution_count": null,
   "metadata": {},
   "outputs": [],
   "source": []
  },
  {
   "cell_type": "code",
   "execution_count": null,
   "metadata": {},
   "outputs": [],
   "source": []
  },
  {
   "cell_type": "markdown",
   "metadata": {},
   "source": [
    "### or ()\n",
    "\n",
    "El comando **or()** es un operdor lógico, utilizado para combinar statements condicionales. Exige que se cumpla una condición **o** otra."
   ]
  },
  {
   "cell_type": "code",
   "execution_count": null,
   "metadata": {},
   "outputs": [],
   "source": []
  },
  {
   "cell_type": "code",
   "execution_count": null,
   "metadata": {},
   "outputs": [],
   "source": []
  },
  {
   "cell_type": "code",
   "execution_count": null,
   "metadata": {},
   "outputs": [],
   "source": []
  },
  {
   "cell_type": "code",
   "execution_count": null,
   "metadata": {},
   "outputs": [],
   "source": []
  },
  {
   "cell_type": "markdown",
   "metadata": {},
   "source": [
    "### Condiciones anidadas\n",
    "\n",
    "Se pueden anidar condicionales, es decir, poner condiciones if() dentro de otras condiciones if(). **Importante!** Tener especial cuidado con las identaciones!"
   ]
  },
  {
   "cell_type": "code",
   "execution_count": 17,
   "metadata": {
    "ExecuteTime": {
     "end_time": "2020-02-26T19:22:46.092360Z",
     "start_time": "2020-02-26T19:22:46.086096Z"
    }
   },
   "outputs": [
    {
     "name": "stdout",
     "output_type": "stream",
     "text": [
      "falso todo\n"
     ]
    }
   ],
   "source": [
    "x = 5\n",
    "\n",
    "if x > 10:\n",
    "    print(\"cierto, 41 es mayor que 10\")\n",
    "    \n",
    "    if x < 20:\n",
    "        print(\"cierto, 41 es también mayor que 20!\")\n",
    "        \n",
    "        if x < 30:\n",
    "            print (\"hola\")\n",
    "else:\n",
    "    print(\"falso todo\")"
   ]
  },
  {
   "cell_type": "code",
   "execution_count": 18,
   "metadata": {
    "ExecuteTime": {
     "end_time": "2020-02-26T19:32:36.539076Z",
     "start_time": "2020-02-26T19:32:36.533986Z"
    }
   },
   "outputs": [
    {
     "name": "stdout",
     "output_type": "stream",
     "text": [
      "cierto, 41 es mayor que 10\n",
      "falso\n"
     ]
    }
   ],
   "source": [
    "x = 15\n",
    "\n",
    "if x > 10:\n",
    "    print(\"cierto, 41 es mayor que 10\")\n",
    "    \n",
    "    if x > 20:\n",
    "        print(\"cierto, 41 es también mayor que 20!\")\n",
    "\n",
    "    else:\n",
    "        print(\"falso\")"
   ]
  },
  {
   "cell_type": "markdown",
   "metadata": {},
   "source": [
    "### pass\n",
    "\n",
    "**Las condiciones if no pueden ir vacías**, sino que tienen que llevar un código identado debajo. Pero si por una casualidad, no queremos imprimir ni ejecutar código si se cumple la condición, podemos poner el statement *pass* para evitar tener un error de código\n",
    "\n",
    "#### EJEMPLO"
   ]
  },
  {
   "cell_type": "code",
   "execution_count": 26,
   "metadata": {
    "ExecuteTime": {
     "end_time": "2020-02-26T19:42:06.320133Z",
     "start_time": "2020-02-26T19:42:06.316392Z"
    }
   },
   "outputs": [
    {
     "ename": "SyntaxError",
     "evalue": "unexpected EOF while parsing (<ipython-input-26-a0a326668223>, line 4)",
     "output_type": "error",
     "traceback": [
      "\u001b[1;36m  File \u001b[1;32m\"<ipython-input-26-a0a326668223>\"\u001b[1;36m, line \u001b[1;32m4\u001b[0m\n\u001b[1;33m    if b > a:\u001b[0m\n\u001b[1;37m             ^\u001b[0m\n\u001b[1;31mSyntaxError\u001b[0m\u001b[1;31m:\u001b[0m unexpected EOF while parsing\n"
     ]
    }
   ],
   "source": [
    "a = 33\n",
    "b = 200\n",
    "\n",
    "if b > a:\n"
   ]
  },
  {
   "cell_type": "markdown",
   "metadata": {},
   "source": [
    "## Bucles en Python\n",
    "\n",
    "Python tiene dos comandos para crear bucles:\n",
    "- bucle *while* = **mientras** se cumpla cierta condición hazme esto\n",
    "- bucle *for* = **por cada** elemento en mi objeto, hazme esto\n",
    "\n",
    "### Bucles *while()*\n",
    "\n",
    "Con el bucle *while* se ejecuta el conjunto de comandos **mientras** se cumple la condición explicitada.\n",
    "\n",
    "**Importante!** En los bucles debe cumplirse también la regla de identación de Python\n",
    "\n",
    "#### EJEMPLO"
   ]
  },
  {
   "cell_type": "code",
   "execution_count": 3,
   "metadata": {
    "ExecuteTime": {
     "end_time": "2020-02-08T14:22:02.690355Z",
     "start_time": "2020-02-08T14:22:02.684585Z"
    }
   },
   "outputs": [
    {
     "name": "stdout",
     "output_type": "stream",
     "text": [
      "1\n",
      "2\n",
      "3\n"
     ]
    }
   ],
   "source": [
    "i = 1\n",
    "\n",
    "while i < 4 : #mientras el valor de i sea más pequeño que 6, pasar código abajo\n",
    "    print(i) #imprime el valor de i\n",
    "    i = i + 1 #suma 1 al valor de i"
   ]
  },
  {
   "cell_type": "code",
   "execution_count": 4,
   "metadata": {},
   "outputs": [
    {
     "name": "stdout",
     "output_type": "stream",
     "text": [
      "1\n",
      "2\n",
      "3\n"
     ]
    }
   ],
   "source": [
    "i = 1\n",
    "\n",
    "while i < 4 : #mientras el valor de i sea más pequeño que 6, pasar código abajo\n",
    "    print(i) #imprime el valor de i\n",
    "    i = i + 1 #suma 1 al valor de i"
   ]
  },
  {
   "cell_type": "markdown",
   "metadata": {},
   "source": [
    "Vemos que en el momento que el bucle se ha ejecutado 3 veces, y ya tomará valor 4, y en la siguiente ejecución del bucle ya no se cumplirá la condición de que i<4;sino que i=4; por lo que ya no entrará en el bucle y finaliza la ejecución\n",
    "\n",
    "**Importante!** Recuerda en un loop siempre poner una condición de finalización, por ejemplo incrementando el valor del indicador i que queda limitado superiormente por la condición que hace que el bucle se ejecute. Si no lo haces, el bucle seguirá ejecutándose **para siempre!**\n",
    "\n",
    "![title](https://slideplayer.es/slide/17258391/100/images/2/Pasos+Repetidos+Resultado%3A+¡Blastoff%21+Programa%3A+No+S%C3%AD+n+%3D+5.jpg)\n",
    "\n",
    "#### Ejercicio: Crea un bucle que mientras la variable x sea positiva, imprima el valor de la variable y le reste 2 unidades. Cuando deje de ser una variable positiva, imprime en pantalla \"The End\". Inicializa la variable a 26"
   ]
  },
  {
   "cell_type": "code",
   "execution_count": null,
   "metadata": {},
   "outputs": [],
   "source": []
  },
  {
   "cell_type": "code",
   "execution_count": null,
   "metadata": {},
   "outputs": [],
   "source": []
  },
  {
   "cell_type": "code",
   "execution_count": null,
   "metadata": {},
   "outputs": [],
   "source": []
  },
  {
   "cell_type": "code",
   "execution_count": null,
   "metadata": {},
   "outputs": [],
   "source": []
  },
  {
   "cell_type": "markdown",
   "metadata": {
    "heading_collapsed": true
   },
   "source": [
    "#### Ejercicio: Con el ejercicicio anterior imprime el valor de x solo cuando x sea mayor a 20 y cuando no, imprime \"Hello Word\" "
   ]
  },
  {
   "cell_type": "code",
   "execution_count": null,
   "metadata": {
    "hidden": true
   },
   "outputs": [],
   "source": []
  },
  {
   "cell_type": "code",
   "execution_count": null,
   "metadata": {
    "hidden": true
   },
   "outputs": [],
   "source": []
  },
  {
   "cell_type": "code",
   "execution_count": null,
   "metadata": {
    "hidden": true
   },
   "outputs": [],
   "source": []
  },
  {
   "cell_type": "code",
   "execution_count": null,
   "metadata": {
    "hidden": true
   },
   "outputs": [],
   "source": []
  },
  {
   "cell_type": "markdown",
   "metadata": {},
   "source": [
    "#### Comando *break*\n",
    "\n",
    "Con el comando *break* podemos parar el bucle aunque se cumpla la condición\n",
    "\n",
    "Esto lo usaremos como medida de **control de flujo**."
   ]
  },
  {
   "cell_type": "code",
   "execution_count": 33,
   "metadata": {
    "ExecuteTime": {
     "end_time": "2020-02-26T20:15:19.602696Z",
     "start_time": "2020-02-26T20:15:19.598093Z"
    }
   },
   "outputs": [
    {
     "name": "stdout",
     "output_type": "stream",
     "text": [
      "1\n",
      "2\n"
     ]
    }
   ],
   "source": [
    "i = 1\n",
    "while i < 6:\n",
    "    print(i)\n",
    "    i = i + 1\n",
    "    print(i)\n",
    "    break"
   ]
  },
  {
   "cell_type": "markdown",
   "metadata": {},
   "source": [
    "#### EJEMPLO"
   ]
  },
  {
   "cell_type": "code",
   "execution_count": 34,
   "metadata": {
    "ExecuteTime": {
     "end_time": "2020-02-26T20:19:23.637971Z",
     "start_time": "2020-02-26T20:19:23.632238Z"
    }
   },
   "outputs": [
    {
     "name": "stdout",
     "output_type": "stream",
     "text": [
      "1\n",
      "2\n",
      "3\n"
     ]
    }
   ],
   "source": [
    "i = 1\n",
    "while i <20:\n",
    "    print(i)\n",
    "    if i == 3:\n",
    "        break\n",
    "    i = i + 1"
   ]
  },
  {
   "cell_type": "code",
   "execution_count": null,
   "metadata": {},
   "outputs": [],
   "source": []
  },
  {
   "cell_type": "markdown",
   "metadata": {},
   "source": [
    "#### Comando *continue*\n",
    "\n",
    "Con el comando *continue* podemos **parar** la iteración actual **y continuar** con la siguiente\n",
    "\n",
    "#### EJEMPLO"
   ]
  },
  {
   "cell_type": "code",
   "execution_count": 36,
   "metadata": {
    "ExecuteTime": {
     "end_time": "2020-02-08T15:29:10.005702Z",
     "start_time": "2020-02-08T15:29:10.000001Z"
    }
   },
   "outputs": [
    {
     "name": "stdout",
     "output_type": "stream",
     "text": [
      "1\n",
      "2\n",
      "4\n",
      "5\n",
      "6\n"
     ]
    }
   ],
   "source": [
    "i = 0\n",
    "while i < 6:\n",
    "    i = i + 1 \n",
    "    if i == 3:\n",
    "        continue\n",
    "    print(i)"
   ]
  },
  {
   "cell_type": "markdown",
   "metadata": {},
   "source": [
    "#### Comando *else*\n",
    "\n",
    "Con el comando *else* ejecutar un bloque de codigo cuando la condición de iteración ya no se cumple"
   ]
  },
  {
   "cell_type": "code",
   "execution_count": 6,
   "metadata": {
    "ExecuteTime": {
     "end_time": "2020-02-08T15:30:32.495055Z",
     "start_time": "2020-02-08T15:30:32.487871Z"
    }
   },
   "outputs": [
    {
     "name": "stdout",
     "output_type": "stream",
     "text": [
      "1\n",
      "2\n",
      "3\n",
      "4\n",
      "5\n"
     ]
    }
   ],
   "source": [
    "i = 1\n",
    "while i < 6:\n",
    "    print(i)\n",
    "    i += 1\n",
    "\n"
   ]
  },
  {
   "cell_type": "markdown",
   "metadata": {},
   "source": [
    "### Bucles *for()*\n",
    "\n",
    "Los bucles con un comando *for* se utilizan para iterar sobre una secuencia, es decir, sobre:\n",
    "- una lista\n",
    "- una tupla\n",
    "- un diccionario\n",
    "- un set\n",
    "- un string\n",
    "\n",
    "Es decir, vendría a ser un **método de iteración**. Con el bucle *for*, podemos ejecutar un conjunto de instancias para cada uno de los elementos en una lista, tupla, set, etc.\n",
    "\n",
    "**Importante!** \n",
    "A diferencia de los bucles *while*,  los bucles *for* no requieren definir una variable de indexado de antemano\n",
    "\n",
    "#### EJEMPLO - iterar en una lista"
   ]
  },
  {
   "cell_type": "code",
   "execution_count": 40,
   "metadata": {},
   "outputs": [
    {
     "name": "stdout",
     "output_type": "stream",
     "text": [
      "manzana\n",
      "plátano\n",
      "cerezas\n"
     ]
    }
   ],
   "source": [
    "fruits = [\"manzana\", \"plátano\", \"cerezas\"]\n",
    "for x in fruits:\n",
    "    print(x)"
   ]
  },
  {
   "cell_type": "markdown",
   "metadata": {},
   "source": [
    "**Importante!** Los bucles *for* también requieren respetar el indexado de Python!\n",
    "\n",
    "#### EJEMPLO - iterar en un string \n",
    "\n",
    "Las cadenas de texto también son un objeto iterable, ya que al final no son más que una secuendia de carácteres"
   ]
  },
  {
   "cell_type": "code",
   "execution_count": 7,
   "metadata": {},
   "outputs": [
    {
     "name": "stdout",
     "output_type": "stream",
     "text": [
      "una iteracion\n",
      "a\n",
      "una iteracion\n",
      "b\n",
      "una iteracion\n",
      "e\n",
      "una iteracion\n",
      "c\n",
      "una iteracion\n",
      "e\n",
      "una iteracion\n",
      "d\n",
      "una iteracion\n",
      "a\n",
      "una iteracion\n",
      "r\n",
      "una iteracion\n",
      "i\n",
      "una iteracion\n",
      "o\n"
     ]
    }
   ],
   "source": [
    "for x in \"abecedario\":\n",
    "    print(\"una iteracion\")\n",
    "    print (x)"
   ]
  },
  {
   "cell_type": "markdown",
   "metadata": {
    "heading_collapsed": true
   },
   "source": [
    "#### Ejercicio: Imprimir usando el comando for los días de la semana, ej: Lunes, Martes... e imprimir si el día es laborable o no."
   ]
  },
  {
   "cell_type": "code",
   "execution_count": null,
   "metadata": {
    "hidden": true
   },
   "outputs": [],
   "source": []
  },
  {
   "cell_type": "code",
   "execution_count": null,
   "metadata": {
    "hidden": true
   },
   "outputs": [],
   "source": []
  },
  {
   "cell_type": "code",
   "execution_count": null,
   "metadata": {
    "hidden": true
   },
   "outputs": [],
   "source": []
  },
  {
   "cell_type": "code",
   "execution_count": null,
   "metadata": {
    "hidden": true
   },
   "outputs": [],
   "source": []
  },
  {
   "cell_type": "markdown",
   "metadata": {
    "heading_collapsed": true
   },
   "source": [
    "#### For Loops en dos dimensiones"
   ]
  },
  {
   "cell_type": "code",
   "execution_count": 45,
   "metadata": {
    "ExecuteTime": {
     "end_time": "2021-01-30T19:42:54.095961Z",
     "start_time": "2021-01-30T19:42:54.091960Z"
    },
    "hidden": true
   },
   "outputs": [
    {
     "name": "stdout",
     "output_type": "stream",
     "text": [
      "1 a\n",
      "2 b\n",
      "3 c\n"
     ]
    }
   ],
   "source": [
    "a = [1,2,3]\n",
    "b = [\"a\",\"b\",\"c\"]\n",
    "\n",
    "for i, j in zip(a,b):\n",
    "    print(i, j)"
   ]
  },
  {
   "cell_type": "code",
   "execution_count": 46,
   "metadata": {
    "ExecuteTime": {
     "end_time": "2021-01-30T19:43:27.780936Z",
     "start_time": "2021-01-30T19:43:27.771934Z"
    },
    "hidden": true
   },
   "outputs": [
    {
     "name": "stdout",
     "output_type": "stream",
     "text": [
      "[(1, 'a'), (2, 'b'), (3, 'c')]\n"
     ]
    }
   ],
   "source": [
    "c = list(zip(a,b))\n",
    "print(c)"
   ]
  },
  {
   "cell_type": "code",
   "execution_count": 47,
   "metadata": {
    "ExecuteTime": {
     "end_time": "2021-01-09T18:08:48.896672Z",
     "start_time": "2021-01-09T18:08:48.885603Z"
    },
    "hidden": true
   },
   "outputs": [
    {
     "name": "stdout",
     "output_type": "stream",
     "text": [
      "a 1\n",
      "b 2\n",
      "c 3\n"
     ]
    }
   ],
   "source": [
    "b = [[\"a\",1],[\"b\",2],[\"c\",3]]\n",
    "\n",
    "for i, j in b:\n",
    "    print(i, j)"
   ]
  },
  {
   "cell_type": "markdown",
   "metadata": {
    "heading_collapsed": true,
    "hidden": true
   },
   "source": [
    "##### For Loops en diccionarios"
   ]
  },
  {
   "cell_type": "code",
   "execution_count": 48,
   "metadata": {
    "ExecuteTime": {
     "end_time": "2021-01-09T17:59:05.885564Z",
     "start_time": "2021-01-09T17:59:05.878570Z"
    },
    "hidden": true
   },
   "outputs": [
    {
     "name": "stdout",
     "output_type": "stream",
     "text": [
      "a 1\n",
      "b 2\n",
      "c 3\n"
     ]
    }
   ],
   "source": [
    "x = {\"a\":1,\"b\":2,\"c\":3}\n",
    "\n",
    "for i in x:\n",
    "    print(i, x[i])"
   ]
  },
  {
   "cell_type": "code",
   "execution_count": 49,
   "metadata": {
    "hidden": true
   },
   "outputs": [
    {
     "data": {
      "text/plain": [
       "1"
      ]
     },
     "execution_count": 49,
     "metadata": {},
     "output_type": "execute_result"
    }
   ],
   "source": [
    "x['a']"
   ]
  },
  {
   "cell_type": "markdown",
   "metadata": {},
   "source": [
    "#### Comando *break*\n",
    "\n",
    "Con el comando *break* podemos parar un bucle antes de que haya pasado por todos los elementos a iterar\n",
    "\n",
    "#### EJEMPLO"
   ]
  },
  {
   "cell_type": "code",
   "execution_count": 50,
   "metadata": {
    "ExecuteTime": {
     "end_time": "2021-01-09T18:10:53.880835Z",
     "start_time": "2021-01-09T18:10:53.874819Z"
    }
   },
   "outputs": [
    {
     "name": "stdout",
     "output_type": "stream",
     "text": [
      "manzana\n",
      "plátano\n",
      "stop!\n"
     ]
    }
   ],
   "source": [
    "#Acaba el bucle cuando llegues al elemento 'plátano'\n",
    "fruits = [\"manzana\", \"plátano\", \"cerezas\"]\n",
    "for x in fruits:\n",
    "    print(x) \n",
    "    if x == \"plátano\":\n",
    "        print(\"stop!\")\n",
    "        break"
   ]
  },
  {
   "cell_type": "code",
   "execution_count": 52,
   "metadata": {
    "ExecuteTime": {
     "end_time": "2021-01-30T19:44:54.095561Z",
     "start_time": "2021-01-30T19:44:54.083045Z"
    }
   },
   "outputs": [
    {
     "name": "stdout",
     "output_type": "stream",
     "text": [
      "manzana\n"
     ]
    }
   ],
   "source": [
    "#sal del bucle cuando llegues a 'plátano' pero no imprimas tal elemento\n",
    "fruits = [\"manzana\", \"plátano\", \"cerezas\"]\n",
    "\n",
    "for x in fruits:\n",
    "    if x == 'plátano':\n",
    "        break\n",
    "    else:\n",
    "        print(x)\n",
    "\n"
   ]
  },
  {
   "cell_type": "markdown",
   "metadata": {
    "ExecuteTime": {
     "end_time": "2020-02-26T20:31:22.640429Z",
     "start_time": "2020-02-26T20:31:22.635619Z"
    },
    "heading_collapsed": true
   },
   "source": [
    "#### Ejercicio: itera sobre la palabra Hola y para cada letra escribe su valor. Si el valor es igual a \"o\" para el bucle e imprime 'fin'"
   ]
  },
  {
   "cell_type": "code",
   "execution_count": null,
   "metadata": {
    "hidden": true
   },
   "outputs": [],
   "source": []
  },
  {
   "cell_type": "code",
   "execution_count": null,
   "metadata": {
    "hidden": true
   },
   "outputs": [],
   "source": []
  },
  {
   "cell_type": "code",
   "execution_count": null,
   "metadata": {
    "hidden": true
   },
   "outputs": [],
   "source": []
  },
  {
   "cell_type": "code",
   "execution_count": null,
   "metadata": {
    "hidden": true
   },
   "outputs": [],
   "source": []
  },
  {
   "cell_type": "code",
   "execution_count": null,
   "metadata": {
    "hidden": true
   },
   "outputs": [],
   "source": []
  },
  {
   "cell_type": "markdown",
   "metadata": {},
   "source": [
    "#### Comando *continue*\n",
    "\n",
    "El comando *continue* puede parar la iteración actual del bucle y **continuar** con la siguiente\n",
    "\n",
    "#### EJEMPLO"
   ]
  },
  {
   "cell_type": "code",
   "execution_count": 36,
   "metadata": {
    "ExecuteTime": {
     "end_time": "2020-02-08T15:45:26.122072Z",
     "start_time": "2020-02-08T15:45:26.114585Z"
    }
   },
   "outputs": [
    {
     "name": "stdout",
     "output_type": "stream",
     "text": [
      "manzana\n",
      "cerezas\n",
      "pera\n"
     ]
    }
   ],
   "source": [
    "#no imprimas plátano pero imprime el resto\n",
    "fruits = [\"manzana\", \"plátano\", \"cerezas\", 'pera']\n",
    "for x in fruits:\n",
    "    if x == 'plátano':\n",
    "        continue\n",
    "    print(x)"
   ]
  },
  {
   "cell_type": "markdown",
   "metadata": {},
   "source": [
    "#### Función *range()*\n",
    "\n",
    "Para iterar un grupo de código cierto nº de veces, usamos la función *range()*.\n",
    "\n",
    "Dado un número n, la función range(n) te devuelve tantos números como n le digas, empezando desde 0 hasta n-1, incrementado de 1 en un 1 el número"
   ]
  },
  {
   "cell_type": "raw",
   "metadata": {},
   "source": [
    "range (n) = 0,1,2,3,...,n-1"
   ]
  },
  {
   "cell_type": "code",
   "execution_count": 57,
   "metadata": {
    "ExecuteTime": {
     "end_time": "2020-02-08T15:48:36.230591Z",
     "start_time": "2020-02-08T15:48:36.224171Z"
    }
   },
   "outputs": [
    {
     "name": "stdout",
     "output_type": "stream",
     "text": [
      "0\n",
      "2\n",
      "4\n",
      "6\n",
      "8\n"
     ]
    }
   ],
   "source": [
    "for x in range(0, 10, 2):\n",
    "    print(x)"
   ]
  },
  {
   "cell_type": "markdown",
   "metadata": {},
   "source": [
    "**Importante!** Puedes especificar a la función range a partir de qué valor empezar!\n",
    "Siendo **range(n) = range(0,n)**"
   ]
  },
  {
   "cell_type": "code",
   "execution_count": 58,
   "metadata": {
    "ExecuteTime": {
     "end_time": "2020-02-08T15:50:36.442082Z",
     "start_time": "2020-02-08T15:50:36.435713Z"
    }
   },
   "outputs": [
    {
     "name": "stdout",
     "output_type": "stream",
     "text": [
      "2\n",
      "3\n",
      "4\n",
      "5\n"
     ]
    }
   ],
   "source": [
    "for x in range(2,6): #devuelve desde 2 a 5\n",
    "    print(x)"
   ]
  },
  {
   "cell_type": "markdown",
   "metadata": {},
   "source": [
    "**Importante!** La función range() también acepta como parámetro el incremental de valores que devuelve, siendo el incremental predefinido 1\n",
    "\n",
    "range(start,end,incremento)"
   ]
  },
  {
   "cell_type": "code",
   "execution_count": 59,
   "metadata": {
    "ExecuteTime": {
     "end_time": "2020-02-08T15:52:14.381698Z",
     "start_time": "2020-02-08T15:52:14.374216Z"
    }
   },
   "outputs": [
    {
     "name": "stdout",
     "output_type": "stream",
     "text": [
      "2\n",
      "5\n",
      "8\n",
      "11\n",
      "14\n",
      "17\n",
      "20\n",
      "23\n",
      "26\n",
      "29\n"
     ]
    }
   ],
   "source": [
    "for x in range(2, 30, 3):\n",
    "    print(x)"
   ]
  },
  {
   "cell_type": "markdown",
   "metadata": {},
   "source": [
    "#### Else in en un bucle\n",
    "\n",
    "El comando *else* en un bucle *for* especifica el bloque de código a ser ejecutado cuando el bucle finaliza\n",
    "\n",
    "#### EJEMPLO"
   ]
  },
  {
   "cell_type": "code",
   "execution_count": 60,
   "metadata": {
    "ExecuteTime": {
     "end_time": "2020-02-08T15:59:42.435395Z",
     "start_time": "2020-02-08T15:59:42.428987Z"
    }
   },
   "outputs": [
    {
     "name": "stdout",
     "output_type": "stream",
     "text": [
      "0\n",
      "1\n",
      "2\n",
      "3\n",
      "4\n",
      "5\n",
      "El bucle ha finalizado!\n"
     ]
    }
   ],
   "source": [
    "#imprime un mensaje cuando finalice el bucle \n",
    "for x in range(6):\n",
    "    print(x)\n",
    "else:\n",
    "    print(\"El bucle ha finalizado!\")"
   ]
  },
  {
   "cell_type": "code",
   "execution_count": 61,
   "metadata": {
    "ExecuteTime": {
     "end_time": "2020-02-08T15:59:51.288230Z",
     "start_time": "2020-02-08T15:59:51.281241Z"
    }
   },
   "outputs": [
    {
     "name": "stdout",
     "output_type": "stream",
     "text": [
      "0\n",
      "1\n",
      "2\n",
      "3\n",
      "4\n",
      "5\n",
      "El bucle ha finalizado!\n"
     ]
    }
   ],
   "source": [
    "for x in range(6):\n",
    "    print(x)\n",
    "print(\"El bucle ha finalizado!\")"
   ]
  },
  {
   "cell_type": "markdown",
   "metadata": {},
   "source": [
    "#### Bucles anidados\n",
    "\n",
    "Un bucle anidado es un bucle dentro de otro. El bucle más interno será ejecutado una vez por cada iteración del bucle envolvente\n",
    "\n",
    "#### EJEMPLO:"
   ]
  },
  {
   "cell_type": "code",
   "execution_count": 37,
   "metadata": {
    "ExecuteTime": {
     "end_time": "2021-01-30T19:50:33.767268Z",
     "start_time": "2021-01-30T19:50:33.763272Z"
    }
   },
   "outputs": [
    {
     "name": "stdout",
     "output_type": "stream",
     "text": [
      "manzana roja\n",
      "mandarina roja\n",
      "fresa roja\n",
      "manzana grande\n",
      "mandarina grande\n",
      "fresa grande\n",
      "manzana sabrosa\n",
      "mandarina sabrosa\n",
      "fresa sabrosa\n"
     ]
    }
   ],
   "source": [
    "adjetivos = [\"roja\", \"grande\", \"sabrosa\"]\n",
    "frutas = [\"manzana\", \"mandarina\", \"fresa\"]\n",
    "\n",
    "for x in adjetivos:\n",
    "    for y in frutas:\n",
    "        print(y,x)\n",
    "    "
   ]
  },
  {
   "cell_type": "markdown",
   "metadata": {},
   "source": [
    "#### Comando *pass*\n",
    "\n",
    "Al igual que los loops *while*, los comandos *for* no pueden estar vaciós de contentido, pero si quisieras montar un loop for vacío, pondremos el comando *pass* para evitar un error en el código"
   ]
  },
  {
   "cell_type": "code",
   "execution_count": 210,
   "metadata": {
    "ExecuteTime": {
     "end_time": "2020-02-08T16:03:46.821693Z",
     "start_time": "2020-02-08T16:03:46.817733Z"
    }
   },
   "outputs": [],
   "source": [
    "for x in [0, 1, 2]:\n",
    "    pass"
   ]
  },
  {
   "cell_type": "markdown",
   "metadata": {
    "solution2": "hidden",
    "solution2_first": true
   },
   "source": [
    "#### Ejercicio: Escribe un código que imprima todos los números del 0 al 6 excepto el 3 y el 6 usando el comando continue\n"
   ]
  },
  {
   "cell_type": "code",
   "execution_count": null,
   "metadata": {},
   "outputs": [],
   "source": []
  },
  {
   "cell_type": "code",
   "execution_count": null,
   "metadata": {},
   "outputs": [],
   "source": []
  },
  {
   "cell_type": "code",
   "execution_count": null,
   "metadata": {},
   "outputs": [],
   "source": []
  },
  {
   "cell_type": "markdown",
   "metadata": {
    "heading_collapsed": true
   },
   "source": [
    "#### Ejercicio: Escribir un programa que pida al usuario un número entero y muestre por pantalla si es par o impar."
   ]
  },
  {
   "cell_type": "code",
   "execution_count": null,
   "metadata": {
    "hidden": true
   },
   "outputs": [],
   "source": []
  },
  {
   "cell_type": "code",
   "execution_count": null,
   "metadata": {
    "hidden": true
   },
   "outputs": [],
   "source": []
  },
  {
   "cell_type": "code",
   "execution_count": null,
   "metadata": {
    "hidden": true
   },
   "outputs": [],
   "source": []
  },
  {
   "cell_type": "markdown",
   "metadata": {
    "heading_collapsed": true
   },
   "source": [
    "#### Ejercicio: Escribe un código que pida al usuario una palabra e imprima cada letra por separado y para cada letra determine si es una vocal o no."
   ]
  },
  {
   "cell_type": "code",
   "execution_count": null,
   "metadata": {
    "hidden": true
   },
   "outputs": [],
   "source": []
  },
  {
   "cell_type": "code",
   "execution_count": null,
   "metadata": {
    "hidden": true
   },
   "outputs": [],
   "source": []
  },
  {
   "cell_type": "code",
   "execution_count": null,
   "metadata": {
    "hidden": true
   },
   "outputs": [],
   "source": []
  },
  {
   "cell_type": "code",
   "execution_count": null,
   "metadata": {
    "hidden": true
   },
   "outputs": [],
   "source": []
  },
  {
   "cell_type": "markdown",
   "metadata": {},
   "source": [
    "# Funciones en Python\n",
    "\n",
    "## Introducción a las funciones\n",
    "\n",
    "**Definición**: Una función es un bloque de código que sólo se ejecuta cuando es llamada. \n",
    "\n",
    "Las funciones toman como **input** datos o variables, que se conocen como *parámetros* de la función. \n",
    "\n",
    "Las funciones devuelven datos como **output**\n",
    "\n",
    "### Creación de una función\n",
    "\n",
    "Para crear una función en Python se usa el comando *def**, seguido por el **nombre** que le damos a la función, y con la que la llamaremos; junto con paréntesis, dentro de los cuales es donde se introducen los inputs o parámetros; que sería esa información de fuera que queremos usar dentro de la función. \n",
    "\n",
    "\n",
    "#### EJEMPLO"
   ]
  },
  {
   "cell_type": "code",
   "execution_count": 67,
   "metadata": {
    "ExecuteTime": {
     "end_time": "2020-02-08T16:09:09.280827Z",
     "start_time": "2020-02-08T16:09:09.274840Z"
    }
   },
   "outputs": [],
   "source": [
    "def mi_funcion():\n",
    "    print(\"Imprimo este mensaje al llamar la función\")"
   ]
  },
  {
   "cell_type": "code",
   "execution_count": 69,
   "metadata": {},
   "outputs": [
    {
     "name": "stdout",
     "output_type": "stream",
     "text": [
      "Imprimo este mensaje al llamar la función\n"
     ]
    }
   ],
   "source": [
    "mi_funcion()"
   ]
  },
  {
   "cell_type": "markdown",
   "metadata": {},
   "source": [
    "Aquí meramente hemos definido una función llamada \"mi_funcion\" y vemos que esta función está diseñada para imprimir un mensaje al ser llamda. Esto es el **output** de la función. \n",
    "\n",
    "Además, esta función no toma ningún **input**, es decir, no introducimos ningún valor ni variable como atributos, dentro de los paréntesis.\n",
    "\n",
    "### Llamada a una función\n",
    "\n",
    "Para llamar una función, simplemente tenemos que escribir en la línea de comando el nombre de la función, con los paréntesis incluidos (y si tomara parámetros escribirlos dentro de los paréntesis también!)\n",
    "\n",
    "#### EJEMPLO: Crear una función y llamarla\n",
    "\n",
    "#### DEFINICIÓN DE LA FUNCIÓN"
   ]
  },
  {
   "cell_type": "code",
   "execution_count": 70,
   "metadata": {
    "ExecuteTime": {
     "end_time": "2020-02-27T17:46:21.144030Z",
     "start_time": "2020-02-27T17:46:21.140469Z"
    }
   },
   "outputs": [],
   "source": [
    "def mi_funcion():\n",
    "    print(\"Imprimo este mensaje al llamar la función\")"
   ]
  },
  {
   "cell_type": "markdown",
   "metadata": {},
   "source": [
    "#### LLAMADA A LA FUNCIÓN"
   ]
  },
  {
   "cell_type": "code",
   "execution_count": 71,
   "metadata": {
    "ExecuteTime": {
     "end_time": "2020-02-27T17:46:49.178317Z",
     "start_time": "2020-02-27T17:46:49.172149Z"
    }
   },
   "outputs": [
    {
     "name": "stdout",
     "output_type": "stream",
     "text": [
      "Imprimo este mensaje al llamar la función\n"
     ]
    }
   ],
   "source": [
    "mi_funcion()"
   ]
  },
  {
   "cell_type": "markdown",
   "metadata": {},
   "source": [
    "#### Importante! LA LLAMADA A LA FUNCIÓN ME DEVUELVE SU OUTPUT\n",
    "\n",
    "Definir y llamar una función vendría a ser análogo a definir una variable asignándole un valor y después llamarla con su nombre, que nos devolverá su valor guardado o output"
   ]
  },
  {
   "cell_type": "code",
   "execution_count": 70,
   "metadata": {
    "ExecuteTime": {
     "end_time": "2020-02-28T08:48:46.185605Z",
     "start_time": "2020-02-28T08:48:46.181103Z"
    }
   },
   "outputs": [],
   "source": [
    "x = 2  #definición de la variable asignándole un valor"
   ]
  },
  {
   "cell_type": "code",
   "execution_count": 71,
   "metadata": {
    "ExecuteTime": {
     "end_time": "2020-02-28T08:48:58.606605Z",
     "start_time": "2020-02-28T08:48:58.597641Z"
    }
   },
   "outputs": [
    {
     "data": {
      "text/plain": [
       "2"
      ]
     },
     "execution_count": 71,
     "metadata": {},
     "output_type": "execute_result"
    }
   ],
   "source": [
    "x #llamada de la variable, que nos devuelve como output su valor"
   ]
  },
  {
   "cell_type": "markdown",
   "metadata": {},
   "source": [
    "### Parámetros o argumentos de una función\n",
    "\n",
    "Los argumentos de una función es la información que le das a la función como input que utilizará el código dentro de la función definida. \n",
    "\n",
    "Los argumentos se especifican después de definir el nombre de la función, dentro de los paréntesis, y añadiendo tantos argumentos como quieras pero siempre separados por comas. \n",
    "\n",
    "**Importante!** Aunque hablamos indistintamente de argumentos o parámetros, existe una diferencia en el lenguaje:\n",
    "- **Parámetro** es la variable que pasamos a la función como input\n",
    "- **Argumento** es el valor que toma la variable, y que coge la función\n",
    "\n",
    "#### EJEMPLO"
   ]
  },
  {
   "cell_type": "code",
   "execution_count": 74,
   "metadata": {
    "ExecuteTime": {
     "end_time": "2020-02-28T08:49:16.063370Z",
     "start_time": "2020-02-28T08:49:16.059594Z"
    }
   },
   "outputs": [],
   "source": [
    "def estudiantes(nombre):\n",
    "    print(\"Nombre del estudiante: \" + nombre)\n",
    "\n"
   ]
  },
  {
   "cell_type": "code",
   "execution_count": 75,
   "metadata": {
    "ExecuteTime": {
     "end_time": "2020-02-28T08:49:17.432111Z",
     "start_time": "2020-02-28T08:49:17.425580Z"
    }
   },
   "outputs": [
    {
     "name": "stdout",
     "output_type": "stream",
     "text": [
      "Nombre del estudiante: Lucía\n",
      "Nombre del estudiante: Tomás\n",
      "Nombre del estudiante: Camila\n"
     ]
    }
   ],
   "source": [
    "estudiantes(\"Lucía\")\n",
    "estudiantes(\"Tomás\")\n",
    "estudiantes(\"Camila\")"
   ]
  },
  {
   "cell_type": "markdown",
   "metadata": {},
   "source": [
    "#### EJERCICIO:  Modificar la función anteriormente definida para que me imprima mi nombre y mi edad, siendo nombre y edad los 2 inputs de la función\n"
   ]
  },
  {
   "cell_type": "code",
   "execution_count": null,
   "metadata": {},
   "outputs": [],
   "source": []
  },
  {
   "cell_type": "code",
   "execution_count": null,
   "metadata": {},
   "outputs": [],
   "source": []
  },
  {
   "cell_type": "code",
   "execution_count": null,
   "metadata": {},
   "outputs": [],
   "source": []
  },
  {
   "cell_type": "code",
   "execution_count": null,
   "metadata": {},
   "outputs": [],
   "source": []
  },
  {
   "cell_type": "markdown",
   "metadata": {},
   "source": [
    "**Importante!** Si al definir una función le asignamos parámetros, al llarmala tendremos que pasarle el mismo número de parámetros\n",
    "\n",
    "Al llamar una función también puedes especificarle el parámetro y el argumento para eviar confusiones\n",
    "\n",
    "#### EJEMPLO"
   ]
  },
  {
   "cell_type": "code",
   "execution_count": 84,
   "metadata": {
    "ExecuteTime": {
     "end_time": "2020-02-08T16:24:17.183650Z",
     "start_time": "2020-02-08T16:24:17.178052Z"
    }
   },
   "outputs": [
    {
     "name": "stdout",
     "output_type": "stream",
     "text": [
      "Mi hijo más pequeño es Tomás\n"
     ]
    }
   ],
   "source": [
    "def mis_hijos(hijo1, hijo3, hijo2):\n",
    "    print(\"Mi hijo más pequeño es \" + hijo2)\n",
    "\n",
    "mis_hijos(hijo1 = \"Pablo\", hijo2 = \"Tomás\", hijo3 = \"Ana\")"
   ]
  },
  {
   "cell_type": "markdown",
   "metadata": {},
   "source": [
    "#### Parámetro por omisión (default)\n",
    "\n",
    "Al definir una función, podemos definir un parámetro por omisión o default, lo que significa que si al llamar la función no le pasamos un parámetro, la función trabajará con el parámetro prestablecido de default\n",
    "\n",
    "#### EJEMPLO"
   ]
  },
  {
   "cell_type": "code",
   "execution_count": 9,
   "metadata": {
    "ExecuteTime": {
     "end_time": "2020-02-08T16:26:52.989228Z",
     "start_time": "2020-02-08T16:26:52.983963Z"
    }
   },
   "outputs": [
    {
     "name": "stdout",
     "output_type": "stream",
     "text": [
      "Soy de España\n",
      "Soy de Suecia\n",
      "Soy de India\n"
     ]
    }
   ],
   "source": [
    "def paises(pais_default='España'):\n",
    "    print(\"Soy de \" + pais_default)\n",
    "\n",
    "paises()\n",
    "paises(\"Suecia\")\n",
    "paises(\"India\")"
   ]
  },
  {
   "cell_type": "markdown",
   "metadata": {},
   "source": [
    "#### EJEMPLO"
   ]
  },
  {
   "cell_type": "code",
   "execution_count": 87,
   "metadata": {
    "ExecuteTime": {
     "end_time": "2020-02-27T18:14:30.770653Z",
     "start_time": "2020-02-27T18:14:30.766147Z"
    }
   },
   "outputs": [],
   "source": [
    "def estudiante_uno(nombre = \"Berta\"):\n",
    "    print('hola! ' + nombre)"
   ]
  },
  {
   "cell_type": "code",
   "execution_count": 89,
   "metadata": {
    "ExecuteTime": {
     "end_time": "2020-02-27T18:15:09.945807Z",
     "start_time": "2020-02-27T18:15:09.940556Z"
    }
   },
   "outputs": [
    {
     "name": "stdout",
     "output_type": "stream",
     "text": [
      "hola! Berta\n"
     ]
    }
   ],
   "source": [
    "estudiante_uno()"
   ]
  },
  {
   "cell_type": "markdown",
   "metadata": {},
   "source": [
    "### Pasar una lista como Argumento en una función\n",
    "\n",
    "Puedes poner como input a una función todo tipo de datos (cadenas de texto, números, listas diccionarios etc.) y el tipo de datos se conservará dentro de la función. \n",
    "\n",
    "Es decir, si pasas una lista como argumento en la función, será una lista dentro de la función al ejecutarla\n",
    "\n",
    "El argumento o variable input dentro de una función sólo tiene sentido dentro del universo de la función, es decir que la variable usada de input en una función no es llamable fuera de la función\n",
    "\n",
    "#### EJEMPLO"
   ]
  },
  {
   "cell_type": "code",
   "execution_count": 39,
   "metadata": {
    "ExecuteTime": {
     "end_time": "2021-01-09T18:56:14.806051Z",
     "start_time": "2021-01-09T18:56:14.802058Z"
    }
   },
   "outputs": [],
   "source": [
    "hola = [\"manzana\", \"plátano\", \"mandarina\"]\n",
    "def mi_funcion(hola):\n",
    "    for x in hola:\n",
    "        print(x)"
   ]
  },
  {
   "cell_type": "code",
   "execution_count": 40,
   "metadata": {
    "ExecuteTime": {
     "end_time": "2021-01-09T18:56:15.194684Z",
     "start_time": "2021-01-09T18:56:15.175675Z"
    }
   },
   "outputs": [
    {
     "name": "stdout",
     "output_type": "stream",
     "text": [
      "manzana\n",
      "plátano\n",
      "mandarina\n"
     ]
    }
   ],
   "source": [
    "mi_funcion([\"manzana\", \"plátano\", \"mandarina\"])"
   ]
  },
  {
   "cell_type": "markdown",
   "metadata": {},
   "source": [
    "### Devolver valores \n",
    "\n",
    "Para que una función devuelva valores usaremos *return*\n",
    "\n",
    "#### EJEMPLO"
   ]
  },
  {
   "cell_type": "code",
   "execution_count": 90,
   "metadata": {
    "ExecuteTime": {
     "end_time": "2021-01-09T18:56:33.880633Z",
     "start_time": "2021-01-09T18:56:33.863630Z"
    }
   },
   "outputs": [],
   "source": [
    "def mi_calculadora(x):\n",
    "    return 5 * x\n",
    "\n",
    "y = mi_calculadora(3)"
   ]
  },
  {
   "cell_type": "markdown",
   "metadata": {
    "heading_collapsed": true
   },
   "source": [
    "#### Ejercicio: Define una función que calcule el área de un rectángulo o un triángulo. La función debe tener 3 parámetros, uno donde se marque si es triángulo ó rectángulo, otros parámetro con la altura y base. Y por supuesto, el valor que devuelva se debe poder utilizar para ser guardado en otra variable"
   ]
  },
  {
   "cell_type": "code",
   "execution_count": null,
   "metadata": {
    "hidden": true
   },
   "outputs": [],
   "source": []
  },
  {
   "cell_type": "code",
   "execution_count": null,
   "metadata": {
    "hidden": true
   },
   "outputs": [],
   "source": []
  },
  {
   "cell_type": "code",
   "execution_count": null,
   "metadata": {
    "hidden": true
   },
   "outputs": [],
   "source": []
  },
  {
   "cell_type": "code",
   "execution_count": null,
   "metadata": {
    "hidden": true
   },
   "outputs": [],
   "source": []
  },
  {
   "cell_type": "markdown",
   "metadata": {},
   "source": [
    "### Pass en una función\n",
    "\n",
    "**Importante!** No podemos definir una función vacía, pero si quisiéramos omitirla de contenido, podemos usar pass"
   ]
  },
  {
   "cell_type": "code",
   "execution_count": 227,
   "metadata": {
    "ExecuteTime": {
     "end_time": "2020-02-08T16:43:02.597596Z",
     "start_time": "2020-02-08T16:43:02.594084Z"
    }
   },
   "outputs": [],
   "source": [
    "def funcion_vacia():\n",
    "    pass"
   ]
  },
  {
   "cell_type": "markdown",
   "metadata": {},
   "source": [
    "### Recursividad\n",
    "\n",
    "Python tambien acepta recursividad de funciones, lo que significa que una función **se llame a si misma**. \n",
    "\n",
    "Esto implica que puedes iterar por los datos hasta conseguir un resultado.\n",
    "\n",
    "**Importante!** Hay que ir con cuidado con la recursividad, ya que si te equivocas con el código y tu función no tiene un final definido, puedes acabar usando un exceso de memoria o potencia del procesador. \n",
    "\n",
    "Sin embargo, bien usada, puede ser muy eficiente y conseguir una programación muy elegante\n",
    "\n",
    "#### EJEMPLO"
   ]
  },
  {
   "cell_type": "code",
   "execution_count": 48,
   "metadata": {
    "ExecuteTime": {
     "end_time": "2021-01-09T19:07:57.137763Z",
     "start_time": "2021-01-09T19:07:57.130193Z"
    },
    "scrolled": true
   },
   "outputs": [
    {
     "name": "stdout",
     "output_type": "stream",
     "text": [
      "Recursion Example Results\n",
      "\n",
      "1\n",
      "3\n"
     ]
    },
    {
     "data": {
      "text/plain": [
       "3"
      ]
     },
     "execution_count": 48,
     "metadata": {},
     "output_type": "execute_result"
    }
   ],
   "source": [
    "def recursion(k):\n",
    "    if(k>0):\n",
    "        result = k + recursion(k-1)\n",
    "        print(result)\n",
    "    else:\n",
    "        result = 0\n",
    "    return result\n",
    "\n",
    "print(\"Recursion Example Results\\n\")\n",
    "recursion(2)"
   ]
  },
  {
   "cell_type": "markdown",
   "metadata": {
    "heading_collapsed": true
   },
   "source": [
    "#### Ejercicio: Escribir una función que reciba una muestra de números en una lista y devuelva su media."
   ]
  },
  {
   "cell_type": "code",
   "execution_count": null,
   "metadata": {
    "hidden": true
   },
   "outputs": [],
   "source": []
  },
  {
   "cell_type": "code",
   "execution_count": null,
   "metadata": {
    "hidden": true
   },
   "outputs": [],
   "source": []
  },
  {
   "cell_type": "code",
   "execution_count": null,
   "metadata": {
    "hidden": true
   },
   "outputs": [],
   "source": []
  },
  {
   "cell_type": "markdown",
   "metadata": {},
   "source": [
    "#### Escribir un programa que reciba una cadena de caracteres y devuelva un diccionario con cada palabra que contiene y su frecuencia. "
   ]
  },
  {
   "cell_type": "code",
   "execution_count": null,
   "metadata": {},
   "outputs": [],
   "source": []
  },
  {
   "cell_type": "code",
   "execution_count": null,
   "metadata": {},
   "outputs": [],
   "source": []
  },
  {
   "cell_type": "code",
   "execution_count": null,
   "metadata": {},
   "outputs": [],
   "source": []
  },
  {
   "cell_type": "code",
   "execution_count": null,
   "metadata": {},
   "outputs": [],
   "source": []
  },
  {
   "cell_type": "markdown",
   "metadata": {},
   "source": [
    "# Clases (Introducción)\n",
    "\n",
    "## Introducción a las clases\n",
    "\n",
    "Python como bien se conoce es un lenguaje orientado a objetos; anteriormente aprendimos algunas estructuras de datos (Listas; Tuplas, etc.) y también  estructuras de control (Condicionales; Bucles; etc.). Pero si no hablamos de clases en Python nos estamos refiriendo a aprender solo programación estructurada.\n",
    "\n",
    "Podemos definir una clase vagamente como una Plantilla o modelo para crear a partir de ella ciertos Objetos. Esta plantilla es la que contiene la información; características y capacidades que tendrá el objeto que sea creado a partir de ella.\n",
    "\n",
    "Crear un objeto a partir de una clase se denomina **instanciar**.\n",
    "\n",
    "### Definiciones importantes\n",
    "\n",
    "**Objeto**: Cuando pensamos en objetos pensamos en entidades que tienen un comportamiento; un estado; almacenan información y pueden realizar tareas. Refiriéndonos a comportamiento como acciones o capacidades de realizar cambios; y a estados como situación o modo de estar en un momento determinado.\n",
    "\n",
    "**Atributos y métodos**: Los objetos almacenan información y realizan tareas. Entonces estos atributos pueden llamarse las características que nosotros definimos para ese objeto. Y métodos las tareas que son capaces de realizar\n",
    "\n",
    "### Creación de una clase\n",
    "\n",
    "Para crear una clase en Python se usa el comando *class**, seguido por el **nombre** que le damos a la clase, y con la que la llamaremos; junto con paréntesis, dentro de los cuales se podría introducir el nombre de otra clase para **heredar** atributos.\n",
    "\n",
    "\n",
    "#### EJEMPLO\n",
    "\n",
    "- Tenemos la Clase: Animal\n",
    "- El objeto instanciado (creado a partir de esa clase): Perro\n",
    "- Que tiene sus atributos:\n",
    "- Color: negro;\n",
    "- Raza: Coquer;\n",
    "- Tiene collar: True (si))\n",
    "- Y tiene sus métodos:\n",
    "- Ladra (“Guau; guau”)\n",
    "- Corre (Run)\n",
    "- Camina()\n",
    "- Olfatea()"
   ]
  },
  {
   "cell_type": "code",
   "execution_count": 107,
   "metadata": {
    "ExecuteTime": {
     "end_time": "2021-01-31T11:50:30.847967Z",
     "start_time": "2021-01-31T11:50:30.827446Z"
    }
   },
   "outputs": [],
   "source": [
    "class Animal():\n",
    "\n",
    "    def __init__(self, color, raza, tiene_collar):\n",
    "        self.color = color\n",
    "        self.raza = raza\n",
    "        self.tiene_collar = tiene_collar\n",
    "    \n",
    "    def ladra(self):\n",
    "        print('guau, guau, mira mi color {}'.format(self.color))\n",
    "    \n",
    "    def corre(self):\n",
    "        print('cuando corre se le cae el collar')\n",
    "        self.tiene_collar = False       \n",
    "        print('...')\n",
    "    \n",
    "    def camina(self, x):\n",
    "        print('. . . . ')\n",
    "        print(x + 1)\n",
    "    \n",
    "    def olfatea(self):\n",
    "        if self.tiene_collar == True:\n",
    "            print('olfateo')\n",
    "        else:\n",
    "            print('no olfateo')\n",
    "        "
   ]
  },
  {
   "cell_type": "code",
   "execution_count": 108,
   "metadata": {
    "ExecuteTime": {
     "end_time": "2021-01-31T11:50:31.931441Z",
     "start_time": "2021-01-31T11:50:31.926443Z"
    }
   },
   "outputs": [],
   "source": [
    "puddle = Animal('rojo', 'puddle', False)"
   ]
  },
  {
   "cell_type": "markdown",
   "metadata": {
    "ExecuteTime": {
     "end_time": "2021-01-31T11:39:41.276050Z",
     "start_time": "2021-01-31T11:39:41.270053Z"
    }
   },
   "source": [
    "Esto es instanciar un objeto. Hemos creado un objeto agregando argumentos a parámetros ya establecidos."
   ]
  },
  {
   "cell_type": "code",
   "execution_count": 105,
   "metadata": {
    "ExecuteTime": {
     "end_time": "2021-01-31T11:35:58.081114Z",
     "start_time": "2021-01-31T11:35:58.066023Z"
    }
   },
   "outputs": [
    {
     "name": "stdout",
     "output_type": "stream",
     "text": [
      "guau, guau, mira mi color rojo\n"
     ]
    }
   ],
   "source": [
    "puddle.ladra()"
   ]
  },
  {
   "cell_type": "markdown",
   "metadata": {},
   "source": [
    "Así llamamos a los métodos definidos en los objetos. Ahora se puede ver como funciona Python. Cuando usábamos el comando str() para convertir en string un valor, estábamos generando un objeto con atríbutos y métodos propios de la clase str.*"
   ]
  },
  {
   "cell_type": "code",
   "execution_count": 110,
   "metadata": {
    "ExecuteTime": {
     "end_time": "2021-01-31T11:35:58.683064Z",
     "start_time": "2021-01-31T11:35:58.673539Z"
    }
   },
   "outputs": [
    {
     "name": "stdout",
     "output_type": "stream",
     "text": [
      ". . . . \n",
      "3\n"
     ]
    }
   ],
   "source": [
    "puddle.camina(2)"
   ]
  },
  {
   "cell_type": "code",
   "execution_count": 111,
   "metadata": {},
   "outputs": [],
   "source": [
    "a = str()"
   ]
  },
  {
   "cell_type": "code",
   "execution_count": 112,
   "metadata": {},
   "outputs": [
    {
     "data": {
      "text/plain": [
       "[]"
      ]
     },
     "execution_count": 112,
     "metadata": {},
     "output_type": "execute_result"
    }
   ],
   "source": [
    "a.split()"
   ]
  },
  {
   "cell_type": "code",
   "execution_count": 92,
   "metadata": {
    "ExecuteTime": {
     "end_time": "2021-01-31T11:35:59.563746Z",
     "start_time": "2021-01-31T11:35:59.549745Z"
    }
   },
   "outputs": [
    {
     "data": {
      "text/plain": [
       "'puddle'"
      ]
     },
     "execution_count": 92,
     "metadata": {},
     "output_type": "execute_result"
    }
   ],
   "source": [
    "puddle.raza"
   ]
  },
  {
   "cell_type": "markdown",
   "metadata": {},
   "source": [
    "También podemos llegar a conocer los atributos establecidos."
   ]
  },
  {
   "cell_type": "code",
   "execution_count": 113,
   "metadata": {
    "ExecuteTime": {
     "end_time": "2021-01-31T11:36:00.324323Z",
     "start_time": "2021-01-31T11:36:00.309747Z"
    }
   },
   "outputs": [
    {
     "name": "stdout",
     "output_type": "stream",
     "text": [
      "no olfateo\n"
     ]
    }
   ],
   "source": [
    "puddle.olfatea()"
   ]
  },
  {
   "cell_type": "code",
   "execution_count": 114,
   "metadata": {
    "ExecuteTime": {
     "end_time": "2021-01-31T11:36:17.436391Z",
     "start_time": "2021-01-31T11:36:17.419847Z"
    }
   },
   "outputs": [
    {
     "name": "stdout",
     "output_type": "stream",
     "text": [
      "cuando corre se le cae el collar\n",
      "...\n"
     ]
    }
   ],
   "source": [
    "puddle.corre()"
   ]
  },
  {
   "cell_type": "code",
   "execution_count": 115,
   "metadata": {
    "ExecuteTime": {
     "end_time": "2021-01-31T11:37:02.462338Z",
     "start_time": "2021-01-31T11:37:02.454819Z"
    }
   },
   "outputs": [
    {
     "data": {
      "text/plain": [
       "False"
      ]
     },
     "execution_count": 115,
     "metadata": {},
     "output_type": "execute_result"
    }
   ],
   "source": [
    "puddle.tiene_collar"
   ]
  },
  {
   "cell_type": "code",
   "execution_count": 116,
   "metadata": {
    "ExecuteTime": {
     "end_time": "2021-01-31T11:45:11.973351Z",
     "start_time": "2021-01-31T11:45:11.962839Z"
    }
   },
   "outputs": [],
   "source": [
    "puddle.hola = 10"
   ]
  },
  {
   "cell_type": "code",
   "execution_count": 117,
   "metadata": {
    "ExecuteTime": {
     "end_time": "2021-01-31T11:45:32.091117Z",
     "start_time": "2021-01-31T11:45:32.072228Z"
    }
   },
   "outputs": [
    {
     "data": {
      "text/plain": [
       "10"
      ]
     },
     "execution_count": 117,
     "metadata": {},
     "output_type": "execute_result"
    }
   ],
   "source": [
    "puddle.hola"
   ]
  },
  {
   "cell_type": "code",
   "execution_count": 126,
   "metadata": {
    "ExecuteTime": {
     "end_time": "2021-01-31T11:50:44.609953Z",
     "start_time": "2021-01-31T11:50:44.599445Z"
    }
   },
   "outputs": [
    {
     "name": "stdout",
     "output_type": "stream",
     "text": [
      ". . . . \n",
      "3\n"
     ]
    }
   ],
   "source": [
    "puddle.camina(2)"
   ]
  },
  {
   "cell_type": "markdown",
   "metadata": {},
   "source": [
    "**Contructor** (def__init__()): Si hablamos de métodos de una clase puede existir diferentes tipos de ellos. Pero el mas importante es el método constructor; el cual dicho nombre hace referencia a inicializar los atributos del objeto creado a partir  de la clase que lo posea. Por supuesto no es necesario que este método exista dentro de una clase para que la clase exista. Pero si es necesario para indicarle al interprete de Python que cuando se Instancia un objeto a dicha clase debe asignarle los argumentos que nosotros le damos al momento de la instancia.\n",
    "\n",
    "**Self**: Self no es en realidad una palabra reservada del lenguaje. Esta hace referencia al objeto en instancia pero no obligadamente tiene que tener ese nombre. Es como “This” en java. Pero en Python podemos usar cualquier nombre en vez de Self; aunque es buena practica simplemente usar self para no descolocarse.\n",
    "\n",
    "### Herencia simple y multiple\n",
    "\n",
    "Cuando hablamos de clases hay una ventaja muy destacable que es la posibilidad de que un objeto perteneciente a una clase sea capaz de heredar los atributos y métodos de otra.\n",
    "\n",
    "La herencia simple tiene lugar cuando una clase hija hereda los atributos y métodos de una única clase padre. Vamos a proceder a crear dos clases, una principal y una secundaria, en esta última vamos a agregar la función de presentarse accediendo a los atributos de la clase padre."
   ]
  },
  {
   "cell_type": "code",
   "execution_count": 80,
   "metadata": {
    "ExecuteTime": {
     "end_time": "2021-01-31T15:22:15.651812Z",
     "start_time": "2021-01-31T15:22:15.646829Z"
    }
   },
   "outputs": [],
   "source": [
    "class Estudiante(object):  #Creamos la clase padre\n",
    "    def __init__(self, edad, nombre): # Definimos los parámetros edad y nombre\n",
    "        self.edad = edad #Declaramos que el atributo edad es igual al argumento edad\n",
    "        self.nombre = nombre #Declaramos que el atributo nombre es igual al argumento nombre"
   ]
  },
  {
   "cell_type": "code",
   "execution_count": 81,
   "metadata": {
    "ExecuteTime": {
     "end_time": "2021-01-31T15:53:37.542021Z",
     "start_time": "2021-01-31T15:53:37.538027Z"
    }
   },
   "outputs": [
    {
     "name": "stdout",
     "output_type": "stream",
     "text": [
      "Soy Manuel Contreras tengo 26 años y estudio para ser Data Scientist\n"
     ]
    }
   ],
   "source": [
    "class Data_student(Estudiante): #Entre paréntesis indicamos la clase padre o principal ESTUDIANTE\n",
    "                            #Lo que la convierte en una clase hija o secundaria\n",
    "    def presentarse(self): #Creamos el método presentarse\n",
    "        print (\"Soy {} tengo {} años y estudio para ser Data Scientist\".format(self.nombre, self.edad))#Se presenta llamando los atributos\n",
    "\n",
    "        \n",
    "Manuel = Data_student(26, 'Manuel Contreras') #Indicamos argumentos edad y nombre\n",
    "Manuel.presentarse() # Llamamos al método y Manuel se presenta"
   ]
  },
  {
   "cell_type": "markdown",
   "metadata": {},
   "source": [
    "Los casos de herencia múltiple en python se dan cuando una clase secundaria o hija hereda atributos y metodos de mas de una clase principal o padre. Basta con separar con una coma ambas principales a la hora de crear la clase secundaria:"
   ]
  },
  {
   "cell_type": "code",
   "execution_count": 1,
   "metadata": {
    "ExecuteTime": {
     "end_time": "2021-01-31T15:54:17.929268Z",
     "start_time": "2021-01-31T15:54:17.919272Z"
    }
   },
   "outputs": [
    {
     "name": "stdout",
     "output_type": "stream",
     "text": [
      "Soy Manuel Contreras tengo 26 años y estudio para ser Data Science\n",
      "Estudio en Nuclio Digital School\n"
     ]
    }
   ],
   "source": [
    "class Estudiante(object):  #Creamos la clase padre\n",
    "    def __init__(self, edad, nombre): # Definimos los parámetros edad y nombre\n",
    "        self.edad = edad #Declaramos que el atributo edad es igual al argumento edad\n",
    "        self.nombre = nombre #Declaramos que el atributo nombre es igual al argumento nombre\n",
    "        \n",
    "class School(object):\n",
    "    def presentarescuela (self):\n",
    "        print(\"Estudio en Nuclio Digital School\")\n",
    "        \n",
    "class Datascience (Estudiante, School): #Entre paréntesis indicamos la clase padre o principal ESTUDIANTE\n",
    "                            #Lo que la convierte a DERECHO en una clase hija o secundaria\n",
    "    def presentarse(self): #Creamos el método presentarse\n",
    "        print (\"Soy {} tengo {} años y estudio para ser Data Science\".format(self.nombre, self.edad)) #Se presenta llamando los atributos\n",
    "       \n",
    "\n",
    "Manuel = Datascience(26, 'Manuel Contreras') #Indicamos argumentos edad y nombre\n",
    "Manuel.presentarse() # Llamamos al método y Manuel se presenta\n",
    "Manuel.presentarescuela()"
   ]
  },
  {
   "cell_type": "markdown",
   "metadata": {
    "ExecuteTime": {
     "end_time": "2021-01-31T16:16:10.172297Z",
     "start_time": "2021-01-31T16:16:10.161154Z"
    }
   },
   "source": [
    "### Atributos de clase\n",
    "\n",
    "Como habíamos visto anteriormente los atributos y métodos definen las características del objeto y modifican su estado. Son datos que están asociados a ellas. De ellos se desprenden dos tipos de variables, de clase o de instancia (objeto).\n",
    "\n",
    "Antes de aprender esto me gustaría repasar lo siguiente:\n",
    "\n",
    "Las clases agrupan objetos con propiedades y características en común, por ejemplo (Perros)\n",
    "Instancia significa crear un objeto a partir de una clase.\n",
    "Los atributos y métodos son elementos que almacenan datos (diferenciando los objetos dentro de la misma clase) utilizando variables de instancia.\n",
    "Las variables de clase corresponden a una clase determinada y son accesibles sólo invocando la clase.\n",
    "\n",
    "Las variables de instancia también corresponde a una clase determinada pero sólo es accesible mediante la instancia del objeto."
   ]
  },
  {
   "cell_type": "code",
   "execution_count": 1,
   "metadata": {
    "ExecuteTime": {
     "end_time": "2021-01-31T16:09:29.347294Z",
     "start_time": "2021-01-31T16:09:29.330284Z"
    }
   },
   "outputs": [],
   "source": [
    "class Animal():\n",
    "    \n",
    "    patas = 4 #Variable de clase\n",
    "\n",
    "    def __init__(self, color, raza, tiene_collar):\n",
    "        self.color = color\n",
    "        self.raza = raza\n",
    "        self.tiene_collar = tiene_collar\n",
    "    \n",
    "    def ladra(self):\n",
    "        print('guau, guau, mira mi color {}'.format(self.color))\n",
    "    def corre(self):      \n",
    "        print('...')\n"
   ]
  },
  {
   "cell_type": "code",
   "execution_count": 2,
   "metadata": {
    "ExecuteTime": {
     "end_time": "2021-01-31T16:10:14.631626Z",
     "start_time": "2021-01-31T16:10:14.623081Z"
    }
   },
   "outputs": [],
   "source": [
    "perro = Animal('verde', 'puddle', True)"
   ]
  },
  {
   "cell_type": "code",
   "execution_count": 3,
   "metadata": {
    "ExecuteTime": {
     "end_time": "2021-01-31T16:10:27.059086Z",
     "start_time": "2021-01-31T16:10:27.046096Z"
    }
   },
   "outputs": [
    {
     "data": {
      "text/plain": [
       "4"
      ]
     },
     "execution_count": 3,
     "metadata": {},
     "output_type": "execute_result"
    }
   ],
   "source": [
    "Animal.patas #No se requiere instanciar para acceder"
   ]
  },
  {
   "cell_type": "markdown",
   "metadata": {},
   "source": [
    "### Métodos de clase\n",
    "\n",
    "Los métodos de clases son similares a las variables de clase y nos permite acceder a ellos sin instanciar un objeto. Pero para indicarle a python que un método es de clase debemos usar un decorador que nos permite modificar las funciones utilizando otra función para ampliar su funcionalidad. "
   ]
  },
  {
   "cell_type": "code",
   "execution_count": 140,
   "metadata": {
    "ExecuteTime": {
     "end_time": "2021-01-31T16:13:59.226313Z",
     "start_time": "2021-01-31T16:13:59.213244Z"
    }
   },
   "outputs": [
    {
     "name": "stdout",
     "output_type": "stream",
     "text": [
      "El animal corre 12 kilómetros\n"
     ]
    }
   ],
   "source": [
    "class Animal (object):\n",
    "    @classmethod\n",
    "    def correr(self, km):\n",
    "        print (\"El animal corre %s kilómetros\" % km)                \n",
    "\n",
    "        \n",
    "Animal.correr(12) #No requiere ser instanciada para acceder a ella."
   ]
  },
  {
   "cell_type": "code",
   "execution_count": null,
   "metadata": {},
   "outputs": [],
   "source": []
  },
  {
   "cell_type": "markdown",
   "metadata": {
    "heading_collapsed": true
   },
   "source": [
    "#### Ejercicio: Crear una clase Rectángulo, con atributos base y altura. Crear también el constructor de la clase y los métodos necesarios para calcular el área y el perímetro. Crear otra clase 'Imprime' que imprima el área y perímetro."
   ]
  },
  {
   "cell_type": "code",
   "execution_count": null,
   "metadata": {
    "hidden": true
   },
   "outputs": [],
   "source": []
  },
  {
   "cell_type": "code",
   "execution_count": null,
   "metadata": {
    "hidden": true
   },
   "outputs": [],
   "source": []
  },
  {
   "cell_type": "code",
   "execution_count": null,
   "metadata": {
    "hidden": true
   },
   "outputs": [],
   "source": []
  },
  {
   "cell_type": "code",
   "execution_count": null,
   "metadata": {
    "hidden": true
   },
   "outputs": [],
   "source": []
  },
  {
   "cell_type": "markdown",
   "metadata": {
    "hidden": true
   },
   "source": [
    "##### **Como Data Scientist tenemos que conocer el funcionamiento de las clases, sin embargo, es más para conocer el funcionamiento de Python y entender diferentes códigos cuando los veamos. Para explotar los datos, su uso no es muy frecuente. Si alguien quiere profundizar en este tema, en este enlace y en la web en general encontrará muy buena información.** \n",
    "\n",
    "https://pythones.net/clases-y-metodos-python-oop/"
   ]
  },
  {
   "cell_type": "code",
   "execution_count": null,
   "metadata": {
    "hidden": true
   },
   "outputs": [],
   "source": []
  },
  {
   "cell_type": "code",
   "execution_count": null,
   "metadata": {
    "hidden": true
   },
   "outputs": [],
   "source": []
  }
 ],
 "metadata": {
  "kernelspec": {
   "display_name": "Python 3",
   "language": "python",
   "name": "python3"
  },
  "language_info": {
   "codemirror_mode": {
    "name": "ipython",
    "version": 3
   },
   "file_extension": ".py",
   "mimetype": "text/x-python",
   "name": "python",
   "nbconvert_exporter": "python",
   "pygments_lexer": "ipython3",
   "version": "3.8.10"
  },
  "latex_envs": {
   "LaTeX_envs_menu_present": true,
   "autoclose": false,
   "autocomplete": true,
   "bibliofile": "biblio.bib",
   "cite_by": "apalike",
   "current_citInitial": 1,
   "eqLabelWithNumbers": true,
   "eqNumInitial": 1,
   "hotkeys": {
    "equation": "Ctrl-E",
    "itemize": "Ctrl-I"
   },
   "labels_anchors": false,
   "latex_user_defs": false,
   "report_style_numbering": false,
   "user_envs_cfg": false
  },
  "nbTranslate": {
   "displayLangs": [
    "*"
   ],
   "hotkey": "alt-t",
   "langInMainMenu": true,
   "sourceLang": "en",
   "targetLang": "fr",
   "useGoogleTranslate": true
  },
  "toc": {
   "base_numbering": 1,
   "nav_menu": {},
   "number_sections": true,
   "sideBar": true,
   "skip_h1_title": false,
   "title_cell": "Table of Contents",
   "title_sidebar": "Contents",
   "toc_cell": false,
   "toc_position": {},
   "toc_section_display": true,
   "toc_window_display": true
  },
  "varInspector": {
   "cols": {
    "lenName": 16,
    "lenType": 16,
    "lenVar": 40
   },
   "kernels_config": {
    "python": {
     "delete_cmd_postfix": "",
     "delete_cmd_prefix": "del ",
     "library": "var_list.py",
     "varRefreshCmd": "print(var_dic_list())"
    },
    "r": {
     "delete_cmd_postfix": ") ",
     "delete_cmd_prefix": "rm(",
     "library": "var_list.r",
     "varRefreshCmd": "cat(var_dic_list()) "
    }
   },
   "types_to_exclude": [
    "module",
    "function",
    "builtin_function_or_method",
    "instance",
    "_Feature"
   ],
   "window_display": false
  }
 },
 "nbformat": 4,
 "nbformat_minor": 2
}
