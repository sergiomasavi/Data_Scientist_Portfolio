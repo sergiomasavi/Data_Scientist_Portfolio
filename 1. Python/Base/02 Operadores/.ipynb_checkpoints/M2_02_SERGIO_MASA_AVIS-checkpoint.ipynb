{
 "cells": [
  {
   "cell_type": "markdown",
   "metadata": {},
   "source": [
    "<img src=\"Tarjeta.png\">"
   ]
  },
  {
   "cell_type": "markdown",
   "metadata": {
    "toc": true
   },
   "source": [
    "<h1>Table of Contents<span class=\"tocSkip\"></span></h1>\n",
    "<div class=\"toc\"><ul class=\"toc-item\"><li><span><a href=\"#Ejercicios-de-operadores-y-expresiones\" data-toc-modified-id=\"Ejercicios-de-operadores-y-expresiones-1\"><span class=\"toc-item-num\">1&nbsp;&nbsp;</span>Ejercicios de operadores y expresiones</a></span></li></ul></div>"
   ]
  },
  {
   "cell_type": "markdown",
   "metadata": {},
   "source": [
    "# Ejercicios Modulo 2. Operadores\n",
    "\n",
    "Consideraciones a tener en cuenta: \n",
    "\n",
    "* Guardar este documento con el siguiente formato para su entrega: __M2_02_nombre_apellido1_apellido2__\n",
    "* Realizar los ejercicios con las herramientas vistas en las sesiones. Aún no hemos llegado a condicionales ni bucles\n",
    "* Comentar el código\n",
    "* Utilizar nombres de variables apropiados, si vais a guardar una nota, llamar a esa variable nota, no n o x"
   ]
  },
  {
   "cell_type": "markdown",
   "metadata": {},
   "source": [
    "## Ejercicios de operadores y expresiones"
   ]
  },
  {
   "cell_type": "markdown",
   "metadata": {},
   "source": [
    "**1) Almacenar 3 variables con 3 notas numéricas y realizar la media aritmética. Mostrar el resultado final con un mensaje como este: \"La nota media es 6.0\"**"
   ]
  },
  {
   "cell_type": "code",
   "execution_count": null,
   "metadata": {
    "ExecuteTime": {
     "end_time": "2021-10-16T13:58:14.128851Z",
     "start_time": "2021-10-16T13:58:13.845353Z"
    }
   },
   "outputs": [],
   "source": [
    "# Utilizando entrada por teclado\n",
    "notas = [0, 0, 0] # Lista para almacenar las tres notas\n",
    "contador = 0 # Contador para almacenar el valor de la nota introducida por usuario y calcular la media\n",
    "nota_media = 0 # Acumulador para almacenar la nota media\n",
    "\n",
    "# Bucle for para almacenar las notas y calcular la media (no repetitivad de código)\n",
    "for nota in notas:\n",
    "    nota_media += float(input(f'Introduce la nota media del examen nº{contador + 1}: ')) / len(notas) # Media = Media + nota / nºexamenes\n",
    "    contador+=1 \n",
    "print(f'La nota media es {round(nota_media, 2)}')"
   ]
  },
  {
   "cell_type": "markdown",
   "metadata": {},
   "source": [
    "**2) Continuemos el ejercicio anterior. Cada nota tiene el siguiente valor porcentual:**\n",
    "\n",
    "* 1ª nota: vale un 15% del total\n",
    "* 2ª nota: vale un 35% del total\n",
    "* 3ª nota: vale un 50% del total\n",
    "\n",
    "**Calcular la nota media final.**"
   ]
  },
  {
   "cell_type": "code",
   "execution_count": null,
   "metadata": {
    "ExecuteTime": {
     "end_time": "2021-10-16T13:58:14.480942Z",
     "start_time": "2021-10-16T13:58:14.475171Z"
    }
   },
   "outputs": [],
   "source": [
    "nota_1 = 10\n",
    "nota_2 = 7\n",
    "nota_3 = 4\n",
    "\n",
    "# Poderaciones\n",
    "ponderacion_1 = 0.15\n",
    "ponderacion_2 = 0.35\n",
    "ponderacion_3 = 0.50\n",
    "\n",
    "# Media = sum(ponderacion_i * nota_i), i = [0, num_notas]\n",
    "nota_media = ponderacion_1 * nota_1 + ponderacion_2 * nota_2 + ponderacion_3 * nota_3 \n",
    "print(f'La nota media ponderada es {round(nota_media, 2)}')"
   ]
  },
  {
   "cell_type": "markdown",
   "metadata": {},
   "source": [
    "**3) Leer 2 números por teclado y evaluar de forma booleana (True o False) los siguientes aspectos:**\n",
    "* Si los dos números son iguales\n",
    "* Si los dos números son diferentes\n",
    "* Si el primero es mayor que el segundo\n",
    "* Si el segundo es mayor o igual que el primero"
   ]
  },
  {
   "cell_type": "code",
   "execution_count": null,
   "metadata": {
    "ExecuteTime": {
     "end_time": "2021-10-16T13:58:15.357343Z",
     "start_time": "2021-10-16T13:58:15.085769Z"
    }
   },
   "outputs": [],
   "source": [
    "# Lectura de números por teclado (serán de tipo real)\n",
    "numero_1 = float(input(\"Introduce un número: \"))\n",
    "numero_2 = float(input(\"Introduce otro número: \"))\n",
    "print(50 * \"-\")\n",
    "\n",
    "# Evaluar si son iguales o distintos\n",
    "if(numero_1 == numero_2):\n",
    "    print(f'{numero_1} es igual a {numero_2}')\n",
    "else:\n",
    "    print(f'{numero_1} NO es igual a {numero_2}')\n",
    "    \n",
    "# Evaluar si son mayor o menor o igual.\n",
    "if(numero_1 > numero_2):\n",
    "    print(f'{numero_1} es mayor a {numero_2}')    \n",
    "else:\n",
    "    print(f'{numero_2} es mayor o igual a {numero_1}')    \n"
   ]
  },
  {
   "cell_type": "markdown",
   "metadata": {},
   "source": [
    "**4) Leer una cadena de texto introducida por teclado y evaluar si tiene una longitud mayor o igual que tres y menor que diez (mostrar únicamente True o False)\n",
    "Pista: Utiliza operadores lógicos**"
   ]
  },
  {
   "cell_type": "code",
   "execution_count": null,
   "metadata": {
    "ExecuteTime": {
     "end_time": "2021-10-16T13:58:16.501564Z",
     "start_time": "2021-10-16T13:58:16.228294Z"
    }
   },
   "outputs": [],
   "source": [
    "# Leer cadena de texto\n",
    "cadena_texto = input(\"Introduce una cadena de texto: \")\n",
    "\n",
    "# Almacenar tamaño de la cadena en una variable\n",
    "longitud_cadena = len(cadena_texto)\n",
    "\n",
    "# Almacenar los límites en variables\n",
    "limite_inferior = 3  # cerrado\n",
    "limite_superior = 10 # abierto\n",
    "\n",
    "# Evaluar si la longitud es mayor o igual que tres y menor que diez\n",
    "valor_en_intervalo = limite_inferior <= longitud_cadena < limite_superior\n",
    "\n",
    "# Imprimir por pantalla\n",
    "print(valor_en_intervalo)"
   ]
  },
  {
   "cell_type": "markdown",
   "metadata": {},
   "source": [
    "**5) Transcribe el siguiente algoritmo (utiliza operadores de asignación siempre que puedas):**\n",
    "\n",
    "* Guarda en una variable numero_magico el valor 12345679 (sin el 8)\n",
    "* Lee por pantalla otro numero_usuario, especifica que sea entre 1 y 9 (asegúrate que sea un número entero)\n",
    "* Multiplica el numero_usuario por 9 en sí mismo\n",
    "* Multiplica el numero_magico por el numero_usuario en sí mismo\n",
    "* Finalmente muestra el valor final del numero_magico por pantalla"
   ]
  },
  {
   "cell_type": "code",
   "execution_count": null,
   "metadata": {
    "ExecuteTime": {
     "start_time": "2021-10-16T13:58:17.451Z"
    }
   },
   "outputs": [],
   "source": [
    "numero_magico  = 12345679 # Número mágico\n",
    "numero_usuario = 0 # Valor por defecto del número escogido por usuario (no válido)\n",
    "\n",
    "# Límites\n",
    "limite_inferior = 1 # cerrado\n",
    "limite_superior = 9 # cerrado\n",
    "\n",
    "# No hace falta evaluar si es entero porque se hace un casting en la lectura a este tipo de valor numérico.\n",
    "while(not limite_inferior <= numero_usuario <= limite_superior):\n",
    "    try:\n",
    "        numero_usuario = int(input(\"Introduce un número entero en el intervalo [1, 9]: \"))\n",
    "        \n",
    "    except ValueError:\n",
    "        print(\"Introduce un número entero!\")\n",
    "\n",
    "# Multiplicar el número de usuario por 9 en sí mismo (numero_usuario = numero_usuario * multiplicador --> *=)\n",
    "multiplicador = 9 # Multiplicador\n",
    "numero_usuario *= multiplicador # Operación\n",
    "print(f'El número de usuario multiplicado por {multiplicador} en sí mismo es {numero_usuario}')\n",
    "\n",
    "# Multiplicar el número mágico por el número de usuario en sí mismo (numero_magico = numero_magico * numero_usuario --> *=)\n",
    "resultado = numero_magico\n",
    "resultado *= numero_usuario\n",
    "print(f'El número mágico {numero_magico} multiplicado por el número introducido por el usuario {numero_usuario} en sí mismo es {resultado}')"
   ]
  }
 ],
 "metadata": {
  "kernelspec": {
   "display_name": "Python 3",
   "language": "python",
   "name": "python3"
  },
  "language_info": {
   "codemirror_mode": {
    "name": "ipython",
    "version": 3
   },
   "file_extension": ".py",
   "mimetype": "text/x-python",
   "name": "python",
   "nbconvert_exporter": "python",
   "pygments_lexer": "ipython3",
   "version": "3.8.10"
  },
  "nbTranslate": {
   "displayLangs": [
    "*"
   ],
   "hotkey": "alt-t",
   "langInMainMenu": true,
   "sourceLang": "en",
   "targetLang": "fr",
   "useGoogleTranslate": true
  },
  "toc": {
   "base_numbering": 1,
   "nav_menu": {},
   "number_sections": true,
   "sideBar": true,
   "skip_h1_title": true,
   "title_cell": "Table of Contents",
   "title_sidebar": "Contents",
   "toc_cell": true,
   "toc_position": {},
   "toc_section_display": true,
   "toc_window_display": false
  },
  "varInspector": {
   "cols": {
    "lenName": 16,
    "lenType": 16,
    "lenVar": 40
   },
   "kernels_config": {
    "python": {
     "delete_cmd_postfix": "",
     "delete_cmd_prefix": "del ",
     "library": "var_list.py",
     "varRefreshCmd": "print(var_dic_list())"
    },
    "r": {
     "delete_cmd_postfix": ") ",
     "delete_cmd_prefix": "rm(",
     "library": "var_list.r",
     "varRefreshCmd": "cat(var_dic_list()) "
    }
   },
   "types_to_exclude": [
    "module",
    "function",
    "builtin_function_or_method",
    "instance",
    "_Feature"
   ],
   "window_display": false
  }
 },
 "nbformat": 4,
 "nbformat_minor": 4
}
