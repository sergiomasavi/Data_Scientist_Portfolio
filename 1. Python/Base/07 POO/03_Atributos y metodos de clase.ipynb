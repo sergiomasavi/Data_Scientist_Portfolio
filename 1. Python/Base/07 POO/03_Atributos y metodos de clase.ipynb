{
 "cells": [
  {
   "cell_type": "markdown",
   "metadata": {},
   "source": [
    "<img src=\"Tarjeta.png\">"
   ]
  },
  {
   "cell_type": "markdown",
   "metadata": {
    "toc": true
   },
   "source": [
    "<h1>Table of Contents<span class=\"tocSkip\"></span></h1>\n",
    "<div class=\"toc\"><ul class=\"toc-item\"><li><span><a href=\"#Atributos-y-métodos-de-clase\" data-toc-modified-id=\"Atributos-y-métodos-de-clase-1\"><span class=\"toc-item-num\">1&nbsp;&nbsp;</span>Atributos y métodos de clase</a></span><ul class=\"toc-item\"><li><span><a href=\"#Definición-de-atributos-dinámicos-en-los-objetos-(¡CUIDADO-CON-ESTO!)\" data-toc-modified-id=\"Definición-de-atributos-dinámicos-en-los-objetos-(¡CUIDADO-CON-ESTO!)-1.1\"><span class=\"toc-item-num\">1.1&nbsp;&nbsp;</span>Definición de atributos dinámicos en los objetos (¡CUIDADO CON ESTO!)</a></span></li><li><span><a href=\"#Definición-de-atributos-en-la-clase\" data-toc-modified-id=\"Definición-de-atributos-en-la-clase-1.2\"><span class=\"toc-item-num\">1.2&nbsp;&nbsp;</span>Definición de atributos en la clase</a></span></li><li><span><a href=\"#Método-init()\" data-toc-modified-id=\"Método-init()-1.3\"><span class=\"toc-item-num\">1.3&nbsp;&nbsp;</span>Método <strong>init</strong>()</a></span></li><li><span><a href=\"#Métodos-y-la-palabra-self\" data-toc-modified-id=\"Métodos-y-la-palabra-self-1.4\"><span class=\"toc-item-num\">1.4&nbsp;&nbsp;</span>Métodos y la palabra self</a></span></li><li><span><a href=\"#Parámetros-en-el-init-(argumentos-al-instanciar)\" data-toc-modified-id=\"Parámetros-en-el-init-(argumentos-al-instanciar)-1.5\"><span class=\"toc-item-num\">1.5&nbsp;&nbsp;</span>Parámetros en el <strong>init</strong> (argumentos al instanciar)</a></span></li><li><span><a href=\"#Parámetros-con-valores-por-defecto-en-el-init()\" data-toc-modified-id=\"Parámetros-con-valores-por-defecto-en-el-init()-1.6\"><span class=\"toc-item-num\">1.6&nbsp;&nbsp;</span>Parámetros con valores por defecto en el <strong>init</strong>()</a></span></li><li><span><a href=\"#Estos-valores-por-defecto-nos-sirven-para-controlar-e-informar\" data-toc-modified-id=\"Estos-valores-por-defecto-nos-sirven-para-controlar-e-informar-1.7\"><span class=\"toc-item-num\">1.7&nbsp;&nbsp;</span>Estos valores por defecto nos sirven para controlar e informar</a></span></li></ul></li></ul></div>"
   ]
  },
  {
   "cell_type": "markdown",
   "metadata": {},
   "source": [
    "## Atributos y métodos de clase\n",
    "- **Atributos**: Hacen referencia a las **variables** internas de la clase.\n",
    "- **Métodos**: Hacen referencia a las **funciones** internas de la clase."
   ]
  },
  {
   "cell_type": "code",
   "execution_count": null,
   "metadata": {},
   "outputs": [],
   "source": [
    "class Galleta:\n",
    "    pass # Instruccion para no hacer nada, ya que en esete ejemplo nuestra clase Galleta no hace nada\n",
    "\n",
    "una_galleta = Galleta()"
   ]
  },
  {
   "cell_type": "markdown",
   "metadata": {},
   "source": [
    "### Definición de atributos dinámicos en los objetos (¡CUIDADO CON ESTO!)"
   ]
  },
  {
   "cell_type": "code",
   "execution_count": null,
   "metadata": {},
   "outputs": [],
   "source": [
    "una_galleta.sabor = \"Salado\"\n",
    "una_galleta.color = \"Marrón\""
   ]
  },
  {
   "cell_type": "code",
   "execution_count": null,
   "metadata": {},
   "outputs": [],
   "source": [
    "print(\"El sabor de esta galleta es\",una_galleta.sabor)"
   ]
  },
  {
   "cell_type": "markdown",
   "metadata": {},
   "source": [
    "### Definición de atributos en la clase"
   ]
  },
  {
   "cell_type": "code",
   "execution_count": null,
   "metadata": {},
   "outputs": [],
   "source": [
    "class Galleta:\n",
    "    chocolate = False\n",
    "\n",
    "g = Galleta()\n",
    "print(g.chocolate)"
   ]
  },
  {
   "cell_type": "code",
   "execution_count": null,
   "metadata": {},
   "outputs": [],
   "source": [
    "g.chocolate = True\n",
    "print(g.chocolate)"
   ]
  },
  {
   "cell_type": "markdown",
   "metadata": {},
   "source": [
    "### Método __init__()\n",
    "Se llama automáticamente al crear una instancia de clase."
   ]
  },
  {
   "cell_type": "code",
   "execution_count": null,
   "metadata": {},
   "outputs": [],
   "source": [
    "class Galleta():\n",
    "    chocolate = False\n",
    "    def __init__(self):\n",
    "        print(\"Se acaba de crear una galleta.\")\n",
    "        \n",
    "g = Galleta()"
   ]
  },
  {
   "cell_type": "markdown",
   "metadata": {},
   "source": [
    "<div class=\"alert alert-success \">Doble guión bajo antes y después de un nombre (por ejemplo __init__).\n",
    "Esta convención se utiliza para nombrar métodos especiales (https://docs.python.org/3.8/reference/datamodel.html#specialnames) utilizado por Python (también llamados como \"métodos mágicos\" como por ejemplo: __file__, __len__, etc.). Estos métodos proporcionan características sintácticas especiales o hacen cosas especiales al usarlos, por ejemplo __file__ le indica la ubicación de un archivo a Python.\n",
    "\n",
    "Esto es sólo una convención, una forma para que Python utilice nombres que no van a entrar en conflicto con los nombres definidos por el usuario. Uno puede sobrescribir estos métodos y definir el comportamiento deseado para cuando Python los llama. Por ejemplo, es usual sobrescribir el método `` __init__`` al escribir una clase. </div>"
   ]
  },
  {
   "cell_type": "markdown",
   "metadata": {},
   "source": [
    "### Métodos y la palabra self\n",
    "Self sirve para hacer referencia a los métodos y atributos de su misma clase."
   ]
  },
  {
   "cell_type": "code",
   "execution_count": null,
   "metadata": {},
   "outputs": [],
   "source": [
    "class Galleta():\n",
    "    chocolate = False\n",
    "    \n",
    "    def __init__(self):\n",
    "        print(\"Se acaba de crear una galleta.\")\n",
    "    \n",
    "    def chocolatear(self):\n",
    "        print(\"Vamos a chocolatear la galleta\")\n",
    "        self.chocolate = True\n",
    "        \n",
    "    def tiene_chocolate(self):\n",
    "        if (self.chocolate == True):\n",
    "            print(\"Soy una galleta chocolateada :-D\")\n",
    "        else:\n",
    "            print(\"Soy una galleta sin chocolate :-(\")\n",
    "\n",
    "print(\"GALLETA 1\")\n",
    "g = Galleta()\n",
    "g.tiene_chocolate()\n",
    "g.chocolatear()\n",
    "g.tiene_chocolate()\n",
    "\n",
    "print(\"\\nGALLETA 2\")\n",
    "g2 = Galleta()\n",
    "g2.tiene_chocolate()"
   ]
  },
  {
   "cell_type": "markdown",
   "metadata": {},
   "source": [
    "### Parámetros en el __init__ (argumentos al instanciar)"
   ]
  },
  {
   "cell_type": "code",
   "execution_count": null,
   "metadata": {},
   "outputs": [],
   "source": [
    "class Galleta():\n",
    "    chocolate = False\n",
    "    sabor = \"\"\n",
    "    forma = \"\"\n",
    "    \n",
    "    def __init__(self, sabor, forma):\n",
    "        self.sabor = sabor\n",
    "        self.forma = forma\n",
    "        print(\"Se acaba de crear una galleta {} y {}\".format(sabor,forma))\n",
    "    \n",
    "    def chocolatear(self):\n",
    "        self.chocolate = True\n",
    "        \n",
    "    def tiene_chocolate(self):\n",
    "        if (self.chocolate):\n",
    "            print(\"Soy una galleta chocolateada :-D\")\n",
    "        else:\n",
    "            print(\"Soy una galleta sin chocolate :-(\")"
   ]
  },
  {
   "cell_type": "code",
   "execution_count": null,
   "metadata": {},
   "outputs": [],
   "source": [
    "g = Galleta(\"salada\",\"cuadrada\")\n",
    "g2 = Galleta(\"salada\",\"redonda\")"
   ]
  },
  {
   "cell_type": "markdown",
   "metadata": {},
   "source": [
    "### Parámetros con valores por defecto en el __init__()"
   ]
  },
  {
   "cell_type": "code",
   "execution_count": null,
   "metadata": {},
   "outputs": [],
   "source": [
    "class Galleta():\n",
    "    chocolate = False\n",
    "    sabor = \"\"\n",
    "    forma = \"\"\n",
    "    \n",
    "    def __init__(self, sabor=None, forma=None, chocolate=None):\n",
    "        self.sabor = sabor\n",
    "        self.forma = forma\n",
    "        self.chocolate = chocolate\n",
    "    \n",
    "    def chocolatear(self):\n",
    "        self.chocolate = True\n",
    "        \n",
    "    def tiene_chocolate(self):\n",
    "        if (self.chocolate):\n",
    "            print(\"Soy una galleta chocolateada :-D\")\n",
    "        else:\n",
    "            print(\"Soy una galleta sin chocolate :-(\")"
   ]
  },
  {
   "cell_type": "code",
   "execution_count": null,
   "metadata": {},
   "outputs": [],
   "source": [
    "g = Galleta(\"salada\",\"cuadrada\",True)\n",
    "print(g.sabor)\n",
    "print(g.forma)\n",
    "print(g.chocolate)"
   ]
  },
  {
   "cell_type": "code",
   "execution_count": null,
   "metadata": {},
   "outputs": [],
   "source": [
    "g2 = Galleta(\"salada\")\n",
    "print(g2.sabor)\n",
    "print(g2.forma)\n",
    "print(g2.chocolate)"
   ]
  },
  {
   "cell_type": "markdown",
   "metadata": {},
   "source": [
    "<div class=\"alert alert-success \">A diferencia de otros lenguajes como Java donde creamos diferentes constructores con diferentes configuraciones (diferente número de parámetros), en Python solo creamos un constructor, e inicializamos con valores por defecto a los parámetros para poder crear objetos de nuestra clase con más o menos parámetros. </div>"
   ]
  },
  {
   "cell_type": "markdown",
   "metadata": {},
   "source": [
    "### Estos valores por defecto nos sirven para controlar e informar"
   ]
  },
  {
   "cell_type": "code",
   "execution_count": 1,
   "metadata": {},
   "outputs": [],
   "source": [
    "class Galleta():\n",
    "    chocolate = False\n",
    "    sabor = \"\"\n",
    "    forma = \"\"\n",
    "    \n",
    "    def __init__(self, sabor=None, forma=None, chocolate=None):\n",
    "        self.sabor = sabor\n",
    "        self.forma = forma\n",
    "        self.chocolate = chocolate\n",
    "        if sabor is not None and forma is not None and chocolate is not None:\n",
    "            print(\"Se acaba de crear una galleta {}, {} y {}\".format(sabor,forma,chocolate))\n",
    "        else:\n",
    "            print(\"Se acaba de crear una galleta, pero...\")\n",
    "            if sabor is None: \n",
    "                print(\" > El sabor no se ha definido\")\n",
    "            if forma is None: \n",
    "                print(\" > La forma no se ha definido\")\n",
    "            if chocolate is None: \n",
    "                print(\" > El chocolate no se ha definido\")\n",
    "    \n",
    "    def chocolatear(self):\n",
    "        self.chocolate = True\n",
    "        \n",
    "    def tiene_chocolate(self):\n",
    "        if (self.chocolate):\n",
    "            print(\"Soy una galleta chocolateada :-D\")\n",
    "        else:\n",
    "            print(\"Soy una galleta sin chocolate :-(\")"
   ]
  },
  {
   "cell_type": "code",
   "execution_count": 2,
   "metadata": {},
   "outputs": [
    {
     "name": "stdout",
     "output_type": "stream",
     "text": [
      "Se acaba de crear una galleta salada, cuadrada y True\n",
      "salada\n",
      "cuadrada\n",
      "True\n"
     ]
    }
   ],
   "source": [
    "g = Galleta(\"salada\",\"cuadrada\",True)\n",
    "print(g.sabor)\n",
    "print(g.forma)\n",
    "print(g.chocolate)"
   ]
  },
  {
   "cell_type": "code",
   "execution_count": 3,
   "metadata": {},
   "outputs": [
    {
     "name": "stdout",
     "output_type": "stream",
     "text": [
      "Se acaba de crear una galleta, pero...\n",
      " > El chocolate no se ha definido\n",
      "salada\n",
      "cuadrada\n",
      "None\n"
     ]
    }
   ],
   "source": [
    "g2 = Galleta(\"salada\",\"cuadrada\")\n",
    "print(g2.sabor)\n",
    "print(g2.forma)\n",
    "print(g2.chocolate)"
   ]
  },
  {
   "cell_type": "code",
   "execution_count": 4,
   "metadata": {},
   "outputs": [
    {
     "name": "stdout",
     "output_type": "stream",
     "text": [
      "Se acaba de crear una galleta, pero...\n",
      " > La forma no se ha definido\n",
      " > El chocolate no se ha definido\n",
      "salada\n",
      "None\n",
      "None\n"
     ]
    }
   ],
   "source": [
    "g3 = Galleta(\"salada\")\n",
    "print(g3.sabor)\n",
    "print(g3.forma)\n",
    "print(g3.chocolate)"
   ]
  },
  {
   "cell_type": "code",
   "execution_count": 5,
   "metadata": {},
   "outputs": [
    {
     "name": "stdout",
     "output_type": "stream",
     "text": [
      "Se acaba de crear una galleta, pero...\n",
      " > El sabor no se ha definido\n",
      " > La forma no se ha definido\n",
      " > El chocolate no se ha definido\n",
      "None\n",
      "None\n",
      "None\n"
     ]
    }
   ],
   "source": [
    "g4 = Galleta()\n",
    "print(g4.sabor)\n",
    "print(g4.forma)\n",
    "print(g4.chocolate)"
   ]
  }
 ],
 "metadata": {
  "kernelspec": {
   "display_name": "Python 3",
   "language": "python",
   "name": "python3"
  },
  "language_info": {
   "codemirror_mode": {
    "name": "ipython",
    "version": 3
   },
   "file_extension": ".py",
   "mimetype": "text/x-python",
   "name": "python",
   "nbconvert_exporter": "python",
   "pygments_lexer": "ipython3",
   "version": "3.8.10"
  },
  "nbTranslate": {
   "displayLangs": [
    "*"
   ],
   "hotkey": "alt-t",
   "langInMainMenu": true,
   "sourceLang": "en",
   "targetLang": "fr",
   "useGoogleTranslate": true
  },
  "toc": {
   "base_numbering": 1,
   "nav_menu": {},
   "number_sections": true,
   "sideBar": true,
   "skip_h1_title": true,
   "title_cell": "Table of Contents",
   "title_sidebar": "Contents",
   "toc_cell": true,
   "toc_position": {},
   "toc_section_display": true,
   "toc_window_display": false
  },
  "varInspector": {
   "cols": {
    "lenName": 16,
    "lenType": 16,
    "lenVar": 40
   },
   "kernels_config": {
    "python": {
     "delete_cmd_postfix": "",
     "delete_cmd_prefix": "del ",
     "library": "var_list.py",
     "varRefreshCmd": "print(var_dic_list())"
    },
    "r": {
     "delete_cmd_postfix": ") ",
     "delete_cmd_prefix": "rm(",
     "library": "var_list.r",
     "varRefreshCmd": "cat(var_dic_list()) "
    }
   },
   "types_to_exclude": [
    "module",
    "function",
    "builtin_function_or_method",
    "instance",
    "_Feature"
   ],
   "window_display": false
  }
 },
 "nbformat": 4,
 "nbformat_minor": 1
}
