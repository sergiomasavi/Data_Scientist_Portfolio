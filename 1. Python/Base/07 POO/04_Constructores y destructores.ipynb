{
 "cells": [
  {
   "cell_type": "markdown",
   "metadata": {},
   "source": [
    "<img src=\"Tarjeta.png\">"
   ]
  },
  {
   "cell_type": "markdown",
   "metadata": {
    "toc": true
   },
   "source": [
    "<h1>Table of Contents<span class=\"tocSkip\"></span></h1>\n",
    "<div class=\"toc\"><ul class=\"toc-item\"><li><span><a href=\"#Constructor-y-destructor\" data-toc-modified-id=\"Constructor-y-destructor-1\"><span class=\"toc-item-num\">1&nbsp;&nbsp;</span>Constructor y destructor</a></span><ul class=\"toc-item\"><li><ul class=\"toc-item\"><li><span><a href=\"#Creamos-y-eliminamos-un-objeto.-Ojo.-Si-reinstanciamos-la-misma-variable-más-de-una-vez,-se-crea-de-nuevo-y-se-borra-la-anterior\" data-toc-modified-id=\"Creamos-y-eliminamos-un-objeto.-Ojo.-Si-reinstanciamos-la-misma-variable-más-de-una-vez,-se-crea-de-nuevo-y-se-borra-la-anterior-1.0.1\"><span class=\"toc-item-num\">1.0.1&nbsp;&nbsp;</span>Creamos y eliminamos un objeto. Ojo. Si reinstanciamos la misma variable más de una vez, se crea de nuevo y se borra la anterior</a></span></li></ul></li></ul></li><li><span><a href=\"#Mostrar-información-de-un-objeto:-__dict__-y-__str__\" data-toc-modified-id=\"Mostrar-información-de-un-objeto:-__dict__-y-__str__-2\"><span class=\"toc-item-num\">2&nbsp;&nbsp;</span>Mostrar información de un objeto: __dict__ y __str__</a></span><ul class=\"toc-item\"><li><span><a href=\"#Diccionario-(__dict__)\" data-toc-modified-id=\"Diccionario-(__dict__)-2.1\"><span class=\"toc-item-num\">2.1&nbsp;&nbsp;</span>Diccionario (__dict__)</a></span></li><li><span><a href=\"#String-(__str__)\" data-toc-modified-id=\"String-(__str__)-2.2\"><span class=\"toc-item-num\">2.2&nbsp;&nbsp;</span>String (__str__)</a></span></li></ul></li><li><span><a href=\"#Bonus:-Comprobar-si-un-objeto-es-una-instancia-de-una-clase\" data-toc-modified-id=\"Bonus:-Comprobar-si-un-objeto-es-una-instancia-de-una-clase-3\"><span class=\"toc-item-num\">3&nbsp;&nbsp;</span>Bonus: Comprobar si un objeto es una instancia de una clase</a></span></li><li><span><a href=\"#Bonus-2:-Comprobar-si-un-atributo-existe-en-una-clase\" data-toc-modified-id=\"Bonus-2:-Comprobar-si-un-atributo-existe-en-una-clase-4\"><span class=\"toc-item-num\">4&nbsp;&nbsp;</span>Bonus 2: Comprobar si un atributo existe en una clase</a></span></li><li><span><a href=\"#Bonus-3:-Eliminar-atributos-de-una-clase\" data-toc-modified-id=\"Bonus-3:-Eliminar-atributos-de-una-clase-5\"><span class=\"toc-item-num\">5&nbsp;&nbsp;</span>Bonus 3: Eliminar atributos de una clase</a></span></li></ul></div>"
   ]
  },
  {
   "cell_type": "markdown",
   "metadata": {},
   "source": [
    "# Métodos especiales de clase\n",
    "## Constructor y destructor"
   ]
  },
  {
   "cell_type": "code",
   "execution_count": null,
   "metadata": {},
   "outputs": [],
   "source": [
    "class Pelicula:\n",
    "    \n",
    "    # Atributos de clase\n",
    "    titulo = \"\"\n",
    "    duracion = 0\n",
    "    lanzamiento = 0\n",
    "    \n",
    "    # Constructor de clase (al crear la instancia)\n",
    "    def __init__(self,titulo,duracion,lanzamiento):\n",
    "        self.titulo = titulo\n",
    "        self.duracion = duracion\n",
    "        self.lanzamiento = lanzamiento\n",
    "        print(\"Se ha creado la película\",self.titulo)\n",
    "        \n",
    "    # Destructor de clase (al borrar la instancia)\n",
    "    def __del__(self):\n",
    "        print(\"Se ha borrando la película\", self.titulo)"
   ]
  },
  {
   "cell_type": "markdown",
   "metadata": {},
   "source": [
    "#### Creamos y eliminamos un objeto. Ojo. Si reinstanciamos la misma variable más de una vez, se crea de nuevo y se borra la anterior"
   ]
  },
  {
   "cell_type": "code",
   "execution_count": null,
   "metadata": {},
   "outputs": [],
   "source": [
    "p = Pelicula(\"El Padrino\",175,1972)"
   ]
  },
  {
   "cell_type": "code",
   "execution_count": null,
   "metadata": {},
   "outputs": [],
   "source": [
    "print(p)"
   ]
  },
  {
   "cell_type": "code",
   "execution_count": null,
   "metadata": {},
   "outputs": [],
   "source": [
    "del p"
   ]
  },
  {
   "cell_type": "code",
   "execution_count": null,
   "metadata": {},
   "outputs": [],
   "source": [
    "print(p)"
   ]
  },
  {
   "cell_type": "markdown",
   "metadata": {},
   "source": [
    "## Mostrar información de un objeto: \\_\\_dict\\_\\_ y \\_\\_str\\_\\_"
   ]
  },
  {
   "cell_type": "markdown",
   "metadata": {},
   "source": [
    "### Diccionario (\\_\\_dict\\_\\_)\n",
    "Python nos ofrece una forma predeterminada de mostrar la información de un objeto."
   ]
  },
  {
   "cell_type": "code",
   "execution_count": null,
   "metadata": {},
   "outputs": [],
   "source": [
    "p = Pelicula(\"El Padrino\",175,1972)"
   ]
  },
  {
   "cell_type": "code",
   "execution_count": null,
   "metadata": {},
   "outputs": [],
   "source": [
    "print(p.__dict__)"
   ]
  },
  {
   "cell_type": "markdown",
   "metadata": {},
   "source": [
    "### String (\\_\\_str\\_\\_)\n",
    "No obstante, el método anterior no nos proporciona ningún tipo de personalización. Si queremos personalizar una salida por pantalla de la información de nuestro objeto tenemos que usar el método __\\_\\_str\\_\\___ de Python, el cual implementaremos en nuestra clase y lo configuraremos a nuestro gusto."
   ]
  },
  {
   "cell_type": "code",
   "execution_count": null,
   "metadata": {},
   "outputs": [],
   "source": [
    "class Pelicula:\n",
    "    # Constructor de clase\n",
    "    def __init__(self,titulo,duracion,lanzamiento):\n",
    "        self.titulo = titulo\n",
    "        self.duracion = duracion\n",
    "        self.lanzamiento = lanzamiento\n",
    "        print(\"Se ha creado la película\",self.titulo)\n",
    "        \n",
    "    # Destructor de clase\n",
    "    def __del__(self):\n",
    "        print(\"Se ha borrando la película\", self.titulo)\n",
    "        \n",
    "    # Redefinimos el método string\n",
    "    def __str__(self):\n",
    "        return \"{} lanzada en {} con una duración de {} minutos\".format(self.titulo,self.lanzamiento,self.duracion)\n",
    "        \n",
    "p1 = Pelicula(\"El Padrino\",175,1972)\n",
    "print(p1) # Al hacer print del objeto, se esta invocando el método __str__ de nuestra clase"
   ]
  },
  {
   "cell_type": "markdown",
   "metadata": {},
   "source": [
    "Siempre podemos crear nuestro propio método de visualización, pero el convenio es utilizar __\\_\\_str\\_\\___"
   ]
  },
  {
   "cell_type": "code",
   "execution_count": 1,
   "metadata": {},
   "outputs": [
    {
     "name": "stdout",
     "output_type": "stream",
     "text": [
      "Se ha creado la película El Padrino\n",
      "El Padrino lanzada en 1972 con una duración de 175 minutos\n"
     ]
    }
   ],
   "source": [
    "class Pelicula:\n",
    "    # Constructor de clase\n",
    "    def __init__(self,titulo,duracion,lanzamiento):\n",
    "        self.titulo = titulo\n",
    "        self.duracion = duracion\n",
    "        self.lanzamiento = lanzamiento\n",
    "        print(\"Se ha creado la película\",self.titulo)\n",
    "        \n",
    "    # Destructor de clase\n",
    "    def __del__(self):\n",
    "        print(\"Se ha borrando la película\", self.titulo)\n",
    "    \n",
    "    def mostrar(self):\n",
    "        str(self) # Convertimos el objeto a un string\n",
    "        return \"{} lanzada en {} con una duración de {} minutos\".format(self.titulo,self.lanzamiento,self.duracion)\n",
    "        \n",
    "p2 = Pelicula(\"El Padrino\",175,1972)\n",
    "print(p2.mostrar()) # A diferencia del método __str__, este método propio si tenemos que invocarlo"
   ]
  },
  {
   "cell_type": "markdown",
   "metadata": {},
   "source": [
    "## Bonus: Comprobar si un objeto es una instancia de una clase"
   ]
  },
  {
   "cell_type": "code",
   "execution_count": 2,
   "metadata": {},
   "outputs": [
    {
     "name": "stdout",
     "output_type": "stream",
     "text": [
      "True\n",
      "False\n",
      "True\n"
     ]
    }
   ],
   "source": [
    "class Producto:\n",
    "    pass\n",
    "\n",
    "class Pedido:\n",
    "    pass\n",
    "\n",
    "class Cliente:\n",
    "    pass\n",
    "\n",
    "p1 = Producto()\n",
    "pd1 = Pedido()\n",
    "c1 = Cliente()\n",
    "\n",
    "print(isinstance(p1, Producto))\n",
    "print(isinstance(c1, Producto))\n",
    "print(isinstance(c1, (Producto, Pedido, Cliente))) # También se puede evaluar si c1 es instancia de alguna de las clases de la tupla"
   ]
  },
  {
   "cell_type": "markdown",
   "metadata": {},
   "source": [
    "## Bonus 2: Comprobar si un atributo existe en una clase"
   ]
  },
  {
   "cell_type": "code",
   "execution_count": 3,
   "metadata": {},
   "outputs": [],
   "source": [
    "class Producto:\n",
    "    precio = 0\n",
    "    \n",
    "    def __init__(self, nombre):\n",
    "        self.nombre = nombre # Nombre asignado a través de parámetro\n",
    "        self.precio = 0 # Precio asignado por defecto\n",
    "\n",
    "p1 = Producto(\"tablet\")"
   ]
  },
  {
   "cell_type": "code",
   "execution_count": 5,
   "metadata": {},
   "outputs": [
    {
     "name": "stdout",
     "output_type": "stream",
     "text": [
      "True\n",
      "True\n",
      "False\n"
     ]
    }
   ],
   "source": [
    "# Comprobar si las variables precio y nombre existen como atributos en el objeto p1\n",
    "print(hasattr(p1, \"precio\"))\n",
    "print(hasattr(p1, \"nombre\"))\n",
    "print(hasattr(p1, \"apellidos\"))"
   ]
  },
  {
   "cell_type": "code",
   "execution_count": 6,
   "metadata": {},
   "outputs": [
    {
     "name": "stdout",
     "output_type": "stream",
     "text": [
      "True\n",
      "False\n"
     ]
    }
   ],
   "source": [
    "# Comprobar si las variables precio y nombre son variables de clase en la clase Producto\n",
    "print(hasattr(Producto,\"precio\"))\n",
    "print(hasattr(Producto,\"nombre\"))"
   ]
  },
  {
   "cell_type": "markdown",
   "metadata": {},
   "source": [
    "## Bonus 3: Eliminar atributos de una clase"
   ]
  },
  {
   "cell_type": "code",
   "execution_count": 7,
   "metadata": {},
   "outputs": [
    {
     "name": "stdout",
     "output_type": "stream",
     "text": [
      "{'nombre': 'tablet', 'precio': 0}\n",
      "{'precio': 0}\n",
      "{}\n"
     ]
    }
   ],
   "source": [
    "print(p1.__dict__) # Mostramos el objeto p1\n",
    "delattr(p1, \"nombre\") # Eliminamos el atributo nombre\n",
    "print(p1.__dict__) # Mostramos el objeto p1\n",
    "delattr(p1, \"precio\") # Eliminamos el atributo precio\n",
    "print(p1.__dict__) # Mostramos el objeto p1"
   ]
  }
 ],
 "metadata": {
  "kernelspec": {
   "display_name": "Python 3",
   "language": "python",
   "name": "python3"
  },
  "language_info": {
   "codemirror_mode": {
    "name": "ipython",
    "version": 3
   },
   "file_extension": ".py",
   "mimetype": "text/x-python",
   "name": "python",
   "nbconvert_exporter": "python",
   "pygments_lexer": "ipython3",
   "version": "3.8.10"
  },
  "nbTranslate": {
   "displayLangs": [
    "*"
   ],
   "hotkey": "alt-t",
   "langInMainMenu": true,
   "sourceLang": "en",
   "targetLang": "fr",
   "useGoogleTranslate": true
  },
  "toc": {
   "base_numbering": 1,
   "nav_menu": {},
   "number_sections": true,
   "sideBar": true,
   "skip_h1_title": true,
   "title_cell": "Table of Contents",
   "title_sidebar": "Contents",
   "toc_cell": true,
   "toc_position": {},
   "toc_section_display": true,
   "toc_window_display": false
  },
  "varInspector": {
   "cols": {
    "lenName": 16,
    "lenType": 16,
    "lenVar": 40
   },
   "kernels_config": {
    "python": {
     "delete_cmd_postfix": "",
     "delete_cmd_prefix": "del ",
     "library": "var_list.py",
     "varRefreshCmd": "print(var_dic_list())"
    },
    "r": {
     "delete_cmd_postfix": ") ",
     "delete_cmd_prefix": "rm(",
     "library": "var_list.r",
     "varRefreshCmd": "cat(var_dic_list()) "
    }
   },
   "types_to_exclude": [
    "module",
    "function",
    "builtin_function_or_method",
    "instance",
    "_Feature"
   ],
   "window_display": false
  }
 },
 "nbformat": 4,
 "nbformat_minor": 1
}
