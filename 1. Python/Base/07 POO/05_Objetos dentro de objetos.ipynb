{
 "cells": [
  {
   "cell_type": "markdown",
   "metadata": {},
   "source": [
    "<img src=\"Tarjeta.png\">"
   ]
  },
  {
   "cell_type": "markdown",
   "metadata": {
    "toc": true
   },
   "source": [
    "<h1>Table of Contents<span class=\"tocSkip\"></span></h1>\n",
    "<div class=\"toc\"><ul class=\"toc-item\"><li><span><a href=\"#Recuperemos-la-clase-Pelicula-con-la-que-ya-hemos-trabajado\" data-toc-modified-id=\"Recuperemos-la-clase-Pelicula-con-la-que-ya-hemos-trabajado-1\"><span class=\"toc-item-num\">1&nbsp;&nbsp;</span>Recuperemos la clase Pelicula con la que ya hemos trabajado</a></span></li><li><span><a href=\"#Creando-un-catálogo-de-películas\" data-toc-modified-id=\"Creando-un-catálogo-de-películas-2\"><span class=\"toc-item-num\">2&nbsp;&nbsp;</span>Creando un catálogo de películas</a></span></li></ul></div>"
   ]
  },
  {
   "cell_type": "markdown",
   "metadata": {},
   "source": [
    "## Recuperemos la clase Pelicula con la que ya hemos trabajado"
   ]
  },
  {
   "cell_type": "code",
   "execution_count": null,
   "metadata": {},
   "outputs": [],
   "source": [
    "class Pelicula:\n",
    "    \n",
    "    # Constructor de clase\n",
    "    def __init__(self, titulo, duracion, lanzamiento):\n",
    "        self.titulo = titulo\n",
    "        self.duracion = duracion\n",
    "        self.lanzamiento = lanzamiento\n",
    "        print('Se ha creado la película:',self.titulo)\n",
    "        \n",
    "    def __str__(self):\n",
    "        return \"{} ({})\".format(self.titulo,self.lanzamiento)"
   ]
  },
  {
   "cell_type": "markdown",
   "metadata": {},
   "source": [
    "## Creando un catálogo de películas"
   ]
  },
  {
   "cell_type": "code",
   "execution_count": null,
   "metadata": {},
   "outputs": [],
   "source": [
    "class Catalogo:\n",
    "    \n",
    "    peliculas = []  # Esta lista contendrá objetos de la clase Pelicula\n",
    "    \n",
    "    # El valor por defecto del catálogo es peliculas=[]\n",
    "    def __init__(self,peliculas=[]):\n",
    "        self.peliculas = peliculas\n",
    "        if(len(self.peliculas) == 0):\n",
    "            print('Se ha creado el catalogo vacío')\n",
    "        else:\n",
    "            print('Se ha creado el catalogo con las peliculas asignadas')\n",
    "        \n",
    "    def agregar(self,p):  # p será un objeto Pelicula\n",
    "        self.peliculas.append(p)\n",
    "        print('Se ha agregado al catalogo la película: {}'.format(p.titulo))\n",
    "        \n",
    "    def mostrar(self):\n",
    "        for p in self.peliculas:\n",
    "            print(p)  # Print toma por defecto str(p)"
   ]
  },
  {
   "cell_type": "code",
   "execution_count": null,
   "metadata": {},
   "outputs": [],
   "source": [
    "p = Pelicula(\"El Padrino\",175,1972)\n",
    "c = Catalogo([p]) # Creamos el catalogo con una pelicula"
   ]
  },
  {
   "cell_type": "code",
   "execution_count": null,
   "metadata": {},
   "outputs": [],
   "source": [
    "c.mostrar()"
   ]
  },
  {
   "cell_type": "code",
   "execution_count": null,
   "metadata": {},
   "outputs": [],
   "source": [
    "c.agregar(Pelicula(\"El Padrino: Parte 2\",202,1974))  # Añadimos una película directamente"
   ]
  },
  {
   "cell_type": "code",
   "execution_count": null,
   "metadata": {},
   "outputs": [],
   "source": [
    "c.mostrar()"
   ]
  },
  {
   "cell_type": "code",
   "execution_count": null,
   "metadata": {},
   "outputs": [],
   "source": [
    "# Tambien podemos crear un catalogo vacio\n",
    "c2 = Catalogo()\n",
    "c2.mostrar()"
   ]
  },
  {
   "cell_type": "code",
   "execution_count": null,
   "metadata": {},
   "outputs": [],
   "source": [
    "# Y tambien podemos crear un catalogo con más peliculas\n",
    "pM1 = Pelicula(\"Matrix\",175,1999)\n",
    "pM2 = Pelicula(\"Matrix Reloaded\",175,2003)\n",
    "pM3 = Pelicula(\"Matrix Revolutions\",175,2003)\n",
    "c3 = Catalogo([pM1, pM2, pM3])\n",
    "c3.mostrar()"
   ]
  }
 ],
 "metadata": {
  "kernelspec": {
   "display_name": "Python 3",
   "language": "python",
   "name": "python3"
  },
  "language_info": {
   "codemirror_mode": {
    "name": "ipython",
    "version": 3
   },
   "file_extension": ".py",
   "mimetype": "text/x-python",
   "name": "python",
   "nbconvert_exporter": "python",
   "pygments_lexer": "ipython3",
   "version": "3.8.10"
  },
  "nbTranslate": {
   "displayLangs": [
    "*"
   ],
   "hotkey": "alt-t",
   "langInMainMenu": true,
   "sourceLang": "en",
   "targetLang": "fr",
   "useGoogleTranslate": true
  },
  "toc": {
   "base_numbering": 1,
   "nav_menu": {},
   "number_sections": true,
   "sideBar": true,
   "skip_h1_title": true,
   "title_cell": "Table of Contents",
   "title_sidebar": "Contents",
   "toc_cell": true,
   "toc_position": {},
   "toc_section_display": true,
   "toc_window_display": false
  },
  "varInspector": {
   "cols": {
    "lenName": 16,
    "lenType": 16,
    "lenVar": 40
   },
   "kernels_config": {
    "python": {
     "delete_cmd_postfix": "",
     "delete_cmd_prefix": "del ",
     "library": "var_list.py",
     "varRefreshCmd": "print(var_dic_list())"
    },
    "r": {
     "delete_cmd_postfix": ") ",
     "delete_cmd_prefix": "rm(",
     "library": "var_list.r",
     "varRefreshCmd": "cat(var_dic_list()) "
    }
   },
   "types_to_exclude": [
    "module",
    "function",
    "builtin_function_or_method",
    "instance",
    "_Feature"
   ],
   "window_display": false
  }
 },
 "nbformat": 4,
 "nbformat_minor": 1
}
