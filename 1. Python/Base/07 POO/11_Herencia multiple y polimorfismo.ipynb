{
 "cells": [
  {
   "cell_type": "markdown",
   "metadata": {},
   "source": [
    "<img src=\"Tarjeta.png\">"
   ]
  },
  {
   "cell_type": "markdown",
   "metadata": {
    "toc": true
   },
   "source": [
    "<h1>Table of Contents<span class=\"tocSkip\"></span></h1>\n",
    "<div class=\"toc\"><ul class=\"toc-item\"><li><ul class=\"toc-item\"><li><ul class=\"toc-item\"><li><span><a href=\"#Creamos-algunos-objetos\" data-toc-modified-id=\"Creamos-algunos-objetos-0.0.1\"><span class=\"toc-item-num\">0.0.1&nbsp;&nbsp;</span>Creamos algunos objetos</a></span></li><li><span><a href=\"#Listamos-los-productos\" data-toc-modified-id=\"Listamos-los-productos-0.0.2\"><span class=\"toc-item-num\">0.0.2&nbsp;&nbsp;</span>Listamos los productos</a></span></li></ul></li></ul></li><li><span><a href=\"#Polimorfismo\" data-toc-modified-id=\"Polimorfismo-1\"><span class=\"toc-item-num\">1&nbsp;&nbsp;</span>Polimorfismo</a></span></li><li><span><a href=\"#Funciones-que-reciben-objetos-de-distintas-clases\" data-toc-modified-id=\"Funciones-que-reciben-objetos-de-distintas-clases-2\"><span class=\"toc-item-num\">2&nbsp;&nbsp;</span>Funciones que reciben objetos de distintas clases</a></span><ul class=\"toc-item\"><li><span><a href=\"#Los-obetos-se-envían-por-referencia-a-las-funciones\" data-toc-modified-id=\"Los-obetos-se-envían-por-referencia-a-las-funciones-2.1\"><span class=\"toc-item-num\">2.1&nbsp;&nbsp;</span>Los obetos se envían por referencia a las funciones</a></span></li><li><span><a href=\"#Una-copia-de-un-objeto-también-hace-referencia-al-objeto-copiado-(como-un-acceso-directo)\" data-toc-modified-id=\"Una-copia-de-un-objeto-también-hace-referencia-al-objeto-copiado-(como-un-acceso-directo)-2.2\"><span class=\"toc-item-num\">2.2&nbsp;&nbsp;</span>Una copia de un objeto también hace referencia al objeto copiado (como un acceso directo)</a></span></li><li><span><a href=\"#Para-crear-una-copia-100%-nueva-debemos-utilizar-el-módulo-copy:\" data-toc-modified-id=\"Para-crear-una-copia-100%-nueva-debemos-utilizar-el-módulo-copy:-2.3\"><span class=\"toc-item-num\">2.3&nbsp;&nbsp;</span>Para crear una copia 100% nueva debemos utilizar el módulo copy:</a></span></li></ul></li><li><span><a href=\"#Polimorfismo.-Ejemplo-de-vehiculos\" data-toc-modified-id=\"Polimorfismo.-Ejemplo-de-vehiculos-3\"><span class=\"toc-item-num\">3&nbsp;&nbsp;</span>Polimorfismo. Ejemplo de vehiculos</a></span></li></ul></div>"
   ]
  },
  {
   "cell_type": "markdown",
   "metadata": {},
   "source": [
    "# Herencia múltiple\n",
    "Posibilidad de que una subclase herede de múltiples superclases.\n",
    "\n",
    "El problema aparece cuando las superclases tienen atributos o métodos comunes. \n",
    "\n",
    "En estos casos, Python dará prioridad a las clases más a la izquierda en el momento de la declaración de la subclase."
   ]
  },
  {
   "cell_type": "code",
   "execution_count": 3,
   "metadata": {},
   "outputs": [
    {
     "name": "stdout",
     "output_type": "stream",
     "text": [
      "Soy de clase B\n"
     ]
    }
   ],
   "source": [
    "class A:\n",
    "    def __init__(self):\n",
    "        print(\"Soy de clase A\")\n",
    "    def a(self):\n",
    "        print(\"Este método lo heredo de A\")\n",
    "        \n",
    "class B:\n",
    "    def __init__(self):\n",
    "        print(\"Soy de clase B\")\n",
    "    def b(self):\n",
    "        print(\"Este método lo heredo de B\")\n",
    "        \n",
    "class C(B,A):\n",
    "    def c(self):\n",
    "        print(\"Este método es de C\")\n",
    "\n",
    "c = C() # Al crear un objeto de la clase C, hereda el constructor de la superclase B (porque es la que esta más a la izquierda)"
   ]
  },
  {
   "cell_type": "code",
   "execution_count": 5,
   "metadata": {},
   "outputs": [
    {
     "name": "stdout",
     "output_type": "stream",
     "text": [
      "Este método es de C\n",
      "Este método lo heredo de A\n",
      "Este método lo heredo de B\n"
     ]
    }
   ],
   "source": [
    "c.c()\n",
    "c.a()\n",
    "c.b()"
   ]
  },
  {
   "cell_type": "markdown",
   "metadata": {},
   "source": [
    "# Herencia múltiple con un ejemplo"
   ]
  },
  {
   "cell_type": "code",
   "execution_count": 8,
   "metadata": {},
   "outputs": [
    {
     "name": "stdout",
     "output_type": "stream",
     "text": [
      "\n",
      "BICICLETA ELECTRICA\n",
      "100\n"
     ]
    }
   ],
   "source": [
    "class Vehiculos(): \n",
    "\n",
    "    # Constructor\n",
    "    def __init__(self, marca, modelo):\n",
    "            self.marca = marca\n",
    "            self.modelo = modelo\n",
    "\n",
    "class VElectricos():\n",
    "    \n",
    "    # Constructor\n",
    "    def __init__(self):\n",
    "        self.autonomia = 100\n",
    "\n",
    "    def cargarEnergia(self):\n",
    "        '''Metodo cargarEnergia() de la clase VElectricos. Indica al sistema si el vehiculo electrico esta cargando o no'''\n",
    "        self.cargando = True \n",
    "        \n",
    "class BicicletaElectrica(VElectricos,Vehiculos):\n",
    "    '''Clase BicicletaElectrica que hereda de la clase Vehiculos y de la clase VElectricos, es decir, herencia multiple'''\n",
    "    pass\n",
    "\n",
    "print(\"\\nBICICLETA ELECTRICA\")\n",
    "\n",
    "# Objeto de la clase BicicletaElectrica\n",
    "# Al heredar de 2 clases, tiene disponibles 2 constructores. ¿Cual ejecuta? ¿Cual esta heredando? En este caso, el de VElectricos, porque al definir la herencia multiple, VElectricos se puso primero\n",
    "miBici = BicicletaElectrica()\n",
    "print(miBici.autonomia)"
   ]
  },
  {
   "cell_type": "markdown",
   "metadata": {},
   "source": [
    "# Preparemonos para el Polimorfismo. Ejemplo Productos"
   ]
  },
  {
   "cell_type": "code",
   "execution_count": 10,
   "metadata": {},
   "outputs": [],
   "source": [
    "class Producto:\n",
    "    def __init__(self,referencia,nombre,pvp,descripcion):\n",
    "        self.referencia = referencia\n",
    "        self.nombre = nombre\n",
    "        self.pvp = pvp\n",
    "        self.descripcion = descripcion\n",
    "        \n",
    "    def __str__(self):\n",
    "        return \"\"\"\\\n",
    "REFERENCIA\\t{}\n",
    "NOMBRE\\t\\t{}\n",
    "PVP\\t\\t{}\n",
    "DESCRIPCIÓN\\t{}\"\"\".format(self.referencia,self.nombre,self.pvp,self.descripcion)\n",
    "    \n",
    "\n",
    "class Adorno(Producto):\n",
    "    pass\n",
    "\n",
    "\n",
    "class Alimento(Producto):\n",
    "    productor = \"\"\n",
    "    distribuidor = \"\"\n",
    "    \n",
    "    def __str__(self):\n",
    "        return \"\"\"\\\n",
    "REFERENCIA\\t{}\n",
    "NOMBRE\\t\\t{}\n",
    "PVP\\t\\t{}\n",
    "DESCRIPCIÓN\\t{}\n",
    "PRODUCTOR\\t{}\n",
    "DISTRIBUIDOR\\t{}\"\"\".format(self.referencia,self.nombre,self.pvp,self.descripcion,self.productor,self.distribuidor)\n",
    "\n",
    "\n",
    "class Libro(Producto):\n",
    "    isbn = \"\"\n",
    "    autor = \"\"\n",
    "    \n",
    "    def __str__(self):\n",
    "        return \"\"\"\\\n",
    "REFERENCIA\\t{}\n",
    "NOMBRE\\t\\t{}\n",
    "PVP\\t\\t{}\n",
    "DESCRIPCIÓN\\t{}\n",
    "ISBN\\t\\t{}\n",
    "AUTOR\\t\\t{}\"\"\".format(self.referencia,self.nombre,self.pvp,self.descripcion,self.isbn,self.autor)"
   ]
  },
  {
   "cell_type": "markdown",
   "metadata": {},
   "source": [
    "#### Creamos algunos objetos"
   ]
  },
  {
   "cell_type": "code",
   "execution_count": 11,
   "metadata": {},
   "outputs": [],
   "source": [
    "ad = Adorno(2034,\"Vaso adornado\",15,\"Vaso de porcelana adornado con árboles\")\n",
    "\n",
    "al = Alimento(2035,\"Botella de Aceite de Oliva Extra\",5,\"250 ML\")\n",
    "al.productor = \"La Aceitera\"\n",
    "al.distribuidor = \"Distribuciones SA\"\n",
    "\n",
    "li = Libro(2036,\"Cocina Mediterránea\",9,\"Recetas sanas y buenas\")\n",
    "li.isbn = \"0-123456-78-9\"\n",
    "li.autor = \"Doña Juana\""
   ]
  },
  {
   "cell_type": "markdown",
   "metadata": {},
   "source": [
    "#### Listamos los productos"
   ]
  },
  {
   "cell_type": "code",
   "execution_count": 12,
   "metadata": {},
   "outputs": [
    {
     "name": "stdout",
     "output_type": "stream",
     "text": [
      "REFERENCIA\t2034\n",
      "NOMBRE\t\tVaso adornado\n",
      "PVP\t\t15\n",
      "DESCRIPCIÓN\tVaso de porcelana adornado con árboles \n",
      "\n",
      "REFERENCIA\t2035\n",
      "NOMBRE\t\tBotella de Aceite de Oliva Extra\n",
      "PVP\t\t5\n",
      "DESCRIPCIÓN\t250 ML\n",
      "PRODUCTOR\tLa Aceitera\n",
      "DISTRIBUIDOR\tDistribuciones SA \n",
      "\n",
      "REFERENCIA\t2036\n",
      "NOMBRE\t\tCocina Mediterránea\n",
      "PVP\t\t9\n",
      "DESCRIPCIÓN\tRecetas sanas y buenas\n",
      "ISBN\t\t0-123456-78-9\n",
      "AUTOR\t\tDoña Juana \n",
      "\n"
     ]
    }
   ],
   "source": [
    "productos = [ad, al, li]\n",
    "for p in productos:\n",
    "    print(p,\"\\n\")"
   ]
  },
  {
   "cell_type": "markdown",
   "metadata": {
    "collapsed": true
   },
   "source": [
    "## Polimorfismo\n",
    "Se refiere a una propiedad de la herencia por la que objetos de distintas subclases pueden responder a una misma acción."
   ]
  },
  {
   "cell_type": "code",
   "execution_count": 13,
   "metadata": {},
   "outputs": [
    {
     "name": "stdout",
     "output_type": "stream",
     "text": [
      "ANTES DE LAS REBAJAS: 5\n",
      "DESPUES DE LAS REBAJAS: 4.5\n"
     ]
    }
   ],
   "source": [
    "def rebajar_producto(p, rebaja):\n",
    "    \"\"\"Rebaja un producto en porcentaje de su precio\"\"\"\n",
    "    p.pvp = p.pvp - (p.pvp/100 * rebaja)\n",
    "    \n",
    "print(\"ANTES DE LAS REBAJAS: \", end=\"\")\n",
    "print(al.pvp)\n",
    "rebajar_producto(al, 10)\n",
    "print(\"DESPUES DE LAS REBAJAS: \", end=\"\")\n",
    "print(al.pvp)"
   ]
  },
  {
   "cell_type": "markdown",
   "metadata": {},
   "source": [
    "El método  **rebajar_producto()** es capaz de tomar objetos de distintas subclases y manipular el atributo **pvp**.\n",
    "\n",
    "La acción de manipular el **pvp** funcionará siempre que los objetos tengan ése atributo, pero en el caso de no ser así, daría error.\n",
    "\n",
    "La polimorfia es implícita en Python en todos los objetos, ya que todos son hijos de una superclase común llamada **Object**."
   ]
  },
  {
   "cell_type": "markdown",
   "metadata": {},
   "source": [
    "## Funciones que reciben objetos de distintas clases\n",
    "### Los obetos se envían por referencia a las funciones\n",
    "Así que debemos tener en cuenta que cualquier cambio realizado dentro afectará al propio objeto."
   ]
  },
  {
   "cell_type": "code",
   "execution_count": 14,
   "metadata": {},
   "outputs": [
    {
     "name": "stdout",
     "output_type": "stream",
     "text": [
      "ANTES DE LAS REBAJAS: 4.5\n",
      "DESPUES DE LAS REBAJAS: 4.05\n"
     ]
    }
   ],
   "source": [
    "def rebajar_producto(p, rebaja):\n",
    "    \"\"\"Rebaja un producto en porcentaje de su precio\"\"\"\n",
    "    p.pvp = p.pvp - (p.pvp/100 * rebaja)\n",
    "\n",
    "print(\"ANTES DE LAS REBAJAS: \", end=\"\")\n",
    "print(al.pvp)\n",
    "rebajar_producto(al, 10)\n",
    "print(\"DESPUES DE LAS REBAJAS: \", end=\"\")\n",
    "print(al.pvp)"
   ]
  },
  {
   "cell_type": "markdown",
   "metadata": {},
   "source": [
    "### Una copia de un objeto también hace referencia al objeto copiado (como un acceso directo)"
   ]
  },
  {
   "cell_type": "code",
   "execution_count": 11,
   "metadata": {},
   "outputs": [],
   "source": [
    "copia_al = al"
   ]
  },
  {
   "cell_type": "code",
   "execution_count": 12,
   "metadata": {},
   "outputs": [],
   "source": [
    "copia_al.referencia = 2038"
   ]
  },
  {
   "cell_type": "code",
   "execution_count": 13,
   "metadata": {},
   "outputs": [
    {
     "name": "stdout",
     "output_type": "stream",
     "text": [
      "REFERENCIA\t2038\n",
      "NOMBRE\t\tBotella de Aceite de Oliva Extra\n",
      "PVP\t\t3.6449999999999996\n",
      "DESCRIPCIÓN\t250 ML\n",
      "PRODUCTOR\tLa Aceitera\n",
      "DISTRIBUIDOR\tDistribuciones SA\n"
     ]
    }
   ],
   "source": [
    "print(copia_al)"
   ]
  },
  {
   "cell_type": "code",
   "execution_count": 14,
   "metadata": {},
   "outputs": [
    {
     "name": "stdout",
     "output_type": "stream",
     "text": [
      "REFERENCIA\t2038\n",
      "NOMBRE\t\tBotella de Aceite de Oliva Extra\n",
      "PVP\t\t3.6449999999999996\n",
      "DESCRIPCIÓN\t250 ML\n",
      "PRODUCTOR\tLa Aceitera\n",
      "DISTRIBUIDOR\tDistribuciones SA\n"
     ]
    }
   ],
   "source": [
    "print(al)"
   ]
  },
  {
   "cell_type": "markdown",
   "metadata": {},
   "source": [
    "### Para crear una copia 100% nueva debemos utilizar el módulo copy:"
   ]
  },
  {
   "cell_type": "code",
   "execution_count": 19,
   "metadata": {},
   "outputs": [],
   "source": [
    "import copy\n",
    "\n",
    "copia_ad = copy.copy(ad)"
   ]
  },
  {
   "cell_type": "code",
   "execution_count": 20,
   "metadata": {},
   "outputs": [
    {
     "name": "stdout",
     "output_type": "stream",
     "text": [
      "REFERENCIA\t2034\n",
      "NOMBRE\t\tVaso adornado\n",
      "PVP\t\t15\n",
      "DESCRIPCIÓN\tVaso de porcelana adornado con árboles\n"
     ]
    }
   ],
   "source": [
    "print(copia_ad)"
   ]
  },
  {
   "cell_type": "code",
   "execution_count": 21,
   "metadata": {},
   "outputs": [],
   "source": [
    "copia_ad.pvp = 25"
   ]
  },
  {
   "cell_type": "code",
   "execution_count": 22,
   "metadata": {},
   "outputs": [
    {
     "name": "stdout",
     "output_type": "stream",
     "text": [
      "REFERENCIA\t2034\n",
      "NOMBRE\t\tVaso adornado\n",
      "PVP\t\t25\n",
      "DESCRIPCIÓN\tVaso de porcelana adornado con árboles\n"
     ]
    }
   ],
   "source": [
    "print(copia_ad)"
   ]
  },
  {
   "cell_type": "code",
   "execution_count": 23,
   "metadata": {},
   "outputs": [
    {
     "name": "stdout",
     "output_type": "stream",
     "text": [
      "REFERENCIA\t2034\n",
      "NOMBRE\t\tVaso adornado\n",
      "PVP\t\t15\n",
      "DESCRIPCIÓN\tVaso de porcelana adornado con árboles\n"
     ]
    }
   ],
   "source": [
    "print(ad)"
   ]
  },
  {
   "cell_type": "markdown",
   "metadata": {
    "collapsed": true
   },
   "source": [
    "## Polimorfismo. Ejemplo de vehiculos"
   ]
  },
  {
   "cell_type": "code",
   "execution_count": 6,
   "metadata": {},
   "outputs": [
    {
     "name": "stdout",
     "output_type": "stream",
     "text": [
      "USO NORMAL (SIN POLIMORFISMO)\n",
      "Me desplazo utilizando dos ruedas\n",
      "Me desplazo utilizando cuatro ruedas\n",
      "Me desplazo utilizando seis ruedas\n",
      "\n",
      "USO DE POLIMORFISMO\n",
      "Me desplazo utilizando seis ruedas\n",
      "Me desplazo utilizando dos ruedas\n"
     ]
    }
   ],
   "source": [
    "class Coche():\n",
    "    \n",
    "    def desplazamiento(self):\n",
    "        print(\"Me desplazo utilizando cuatro ruedas\")\n",
    "        \n",
    "class Moto():\n",
    "    \n",
    "    def desplazamiento(self):\n",
    "        print(\"Me desplazo utilizando dos ruedas\")\n",
    "        \n",
    "class Camion():\n",
    "    \n",
    "    def desplazamiento(self):\n",
    "        print(\"Me desplazo utilizando seis ruedas\")\n",
    "        \n",
    "# Programa principal, fuera de las clases\n",
    "\n",
    "print(\"USO NORMAL (SIN POLIMORFISMO)\")\n",
    "# Cada objeto instanciado de cada una de las 3 clases accede a su metodo desplazamiento\n",
    "miVehiculo = Moto()\n",
    "miVehiculo.desplazamiento()\n",
    "\n",
    "miVehiculo2 = Coche()\n",
    "miVehiculo2.desplazamiento()\n",
    "\n",
    "miVehiculo3 = Camion()\n",
    "miVehiculo3.desplazamiento()\n",
    "\n",
    "# Ahora usemos el polimorfismo. Vamos a crear un metodo que recibira por parametro un objeto del tipo vehiculo\n",
    "def desplazamientoVehiculo(vehiculo):\n",
    "    vehiculo.desplazamiento()\n",
    "   \n",
    "print(\"\\nUSO DE POLIMORFISMO\")\n",
    "miVehiculo4 = Camion()\n",
    "desplazamientoVehiculo(miVehiculo4)\n",
    "miVehiculo5 = Moto()\n",
    "desplazamientoVehiculo(miVehiculo5)"
   ]
  }
 ],
 "metadata": {
  "kernelspec": {
   "display_name": "Python 3",
   "language": "python",
   "name": "python3"
  },
  "language_info": {
   "codemirror_mode": {
    "name": "ipython",
    "version": 3
   },
   "file_extension": ".py",
   "mimetype": "text/x-python",
   "name": "python",
   "nbconvert_exporter": "python",
   "pygments_lexer": "ipython3",
   "version": "3.8.10"
  },
  "nbTranslate": {
   "displayLangs": [
    "*"
   ],
   "hotkey": "alt-t",
   "langInMainMenu": true,
   "sourceLang": "en",
   "targetLang": "fr",
   "useGoogleTranslate": true
  },
  "toc": {
   "base_numbering": 1,
   "nav_menu": {},
   "number_sections": true,
   "sideBar": true,
   "skip_h1_title": true,
   "title_cell": "Table of Contents",
   "title_sidebar": "Contents",
   "toc_cell": true,
   "toc_position": {},
   "toc_section_display": true,
   "toc_window_display": false
  },
  "varInspector": {
   "cols": {
    "lenName": 16,
    "lenType": 16,
    "lenVar": 40
   },
   "kernels_config": {
    "python": {
     "delete_cmd_postfix": "",
     "delete_cmd_prefix": "del ",
     "library": "var_list.py",
     "varRefreshCmd": "print(var_dic_list())"
    },
    "r": {
     "delete_cmd_postfix": ") ",
     "delete_cmd_prefix": "rm(",
     "library": "var_list.r",
     "varRefreshCmd": "cat(var_dic_list()) "
    }
   },
   "types_to_exclude": [
    "module",
    "function",
    "builtin_function_or_method",
    "instance",
    "_Feature"
   ],
   "window_display": false
  }
 },
 "nbformat": 4,
 "nbformat_minor": 1
}
