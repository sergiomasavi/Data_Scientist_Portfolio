{
 "cells": [
  {
   "cell_type": "markdown",
   "metadata": {},
   "source": [
    "<img src=\"Tarjeta.png\">"
   ]
  },
  {
   "cell_type": "markdown",
   "metadata": {},
   "source": [
    "# Introducción"
   ]
  },
  {
   "cell_type": "markdown",
   "metadata": {},
   "source": [
    "Pandas es una librería open source Python para realizar análisis de datos. \n",
    "Aunque que Python es ya de por si un buen lenguaje para la preparación de datos, nunca ha sido excelente para realizar análisis (tendencia de usar R, SQL o incluso Excel para realizar este tipo de tareas), hasta la llegada de Pandas!"
   ]
  },
  {
   "cell_type": "markdown",
   "metadata": {},
   "source": [
    "Pandas ofrece:\n",
    "- Alta performance, \n",
    "- Estructura de datos fácil de usar, en formato tablas (parecido a Series y Data Frames en R)\n",
    "- Excelentes herramientas para realizar análisis de datos: reformatear, concatenar, agregar, ordenar, segmentar etc.\n",
    "- Tratamiento para missing data (o valores nulos)"
   ]
  },
  {
   "cell_type": "markdown",
   "metadata": {},
   "source": [
    "Para más info, visitar la web oficial"
   ]
  },
  {
   "cell_type": "markdown",
   "metadata": {},
   "source": [
    "[Pandas webpage](http://pandas.pydata.org)"
   ]
  },
  {
   "cell_type": "markdown",
   "metadata": {},
   "source": [
    "## Importar pandas"
   ]
  },
  {
   "cell_type": "code",
   "execution_count": 1,
   "metadata": {
    "ExecuteTime": {
     "end_time": "2020-02-12T07:43:19.684217Z",
     "start_time": "2020-02-12T07:43:18.338568Z"
    }
   },
   "outputs": [],
   "source": [
    "import pandas as pd "
   ]
  },
  {
   "cell_type": "markdown",
   "metadata": {},
   "source": [
    "## Estructuras de datos en Pandas"
   ]
  },
  {
   "cell_type": "markdown",
   "metadata": {},
   "source": [
    "Pandas introduce dos nuevas estructura de datos a Python:\n",
    "- Series - estructuras 1d\n",
    "- DataFrames - estructuras nd\n",
    "ambas construidas sobre NumPy; lo que las hace dos estructura de datos rápidas."
   ]
  },
  {
   "cell_type": "markdown",
   "metadata": {},
   "source": [
    "Las Series son esencialmente una columna,  \n",
    "y un DataFrame es una tabla multi-dimensional generada a partir de un conjunto de Series."
   ]
  },
  {
   "cell_type": "markdown",
   "metadata": {},
   "source": [
    "![title](https://storage.googleapis.com/lds-media/images/series-and-dataframe.width-1200.png)"
   ]
  },
  {
   "cell_type": "markdown",
   "metadata": {},
   "source": [
    "Los DataFrames y las Series son parecidos en el sentido de que la mayoría de operaciones se pueden realizar sobre ambos, como rellenar los valores nulos o calcular una media. "
   ]
  },
  {
   "cell_type": "markdown",
   "metadata": {},
   "source": [
    "|Estructura de Datos|Dimensiones|Descripción|\n",
    "|---|---|:---| \n",
    "|Series\t|1|Array homogéneo 1D etiquetado, inmutable en tamaño|\n",
    "|Data Frames|2|Estructura tabular 2D etiquetada, modificable en tamaño y con columnas potencialmente heterogéneas|"
   ]
  },
  {
   "cell_type": "markdown",
   "metadata": {},
   "source": [
    "# Series en Pandas"
   ]
  },
  {
   "cell_type": "markdown",
   "metadata": {},
   "source": [
    "**Definición**\n",
    "Una Serie es un array 1-d que contiene todo tipo de datos (enteros, texto, decimals, objetos de Python, etc.). Vendría a ser una columna de un excel. \n",
    "\n",
    "Las etiquetas de los elementos reciben el nombre de índice y cada elemento de una serie tienen asignado un índice etiquetado. \n",
    "\n",
    "Por default, cada elemento tienen una etiqueta de índice numérica, de 0 a N."
   ]
  },
  {
   "cell_type": "markdown",
   "metadata": {},
   "source": [
    "\\begin{equation*}\n",
    "Índices\\_Serie= 0, 1, ..., N\n",
    "\\end{equation*}\n"
   ]
  },
  {
   "cell_type": "markdown",
   "metadata": {},
   "source": [
    "Por lo que N, último índice de la serie expresa:"
   ]
  },
  {
   "cell_type": "markdown",
   "metadata": {
    "ExecuteTime": {
     "end_time": "2020-02-12T07:47:25.001966Z",
     "start_time": "2020-02-12T07:47:24.994853Z"
    }
   },
   "source": [
    "\\begin{equation*}\n",
    "N = longitud(Series) - 1\n",
    "\\end{equation*}\n"
   ]
  },
  {
   "cell_type": "markdown",
   "metadata": {},
   "source": [
    "**Parámetros en una Serie de Pandas**:"
   ]
  },
  {
   "cell_type": "markdown",
   "metadata": {
    "ExecuteTime": {
     "end_time": "2020-02-15T08:42:36.123035Z",
     "start_time": "2020-02-15T08:42:36.112093Z"
    }
   },
   "source": [
    "- *data*: El valor o valores que tenga tu serie\n",
    "- *index*: El índice asignado al valor que contiene tu Serie\n",
    "- *dtype*: El tipo de valores de la Serie\n",
    "- *copy*: Este parámetro permite copiar los datos que introdujiste"
   ]
  },
  {
   "cell_type": "markdown",
   "metadata": {},
   "source": [
    "## Generación de Series: pd.Series()"
   ]
  },
  {
   "cell_type": "markdown",
   "metadata": {},
   "source": [
    "El método básico para crear una serie con Pandas es llamar la función:"
   ]
  },
  {
   "cell_type": "code",
   "execution_count": 1,
   "metadata": {
    "ExecuteTime": {
     "end_time": "2021-02-04T20:27:06.996671Z",
     "start_time": "2021-02-04T20:27:06.422329Z"
    }
   },
   "outputs": [],
   "source": [
    "import pandas as pd"
   ]
  },
  {
   "cell_type": "code",
   "execution_count": 2,
   "metadata": {
    "ExecuteTime": {
     "end_time": "2021-02-04T20:27:07.108772Z",
     "start_time": "2021-02-04T20:27:07.031663Z"
    }
   },
   "outputs": [],
   "source": [
    "pd.Series?"
   ]
  },
  {
   "cell_type": "raw",
   "metadata": {},
   "source": [
    "s = pd.Series(data, index=index)"
   ]
  },
  {
   "cell_type": "markdown",
   "metadata": {},
   "source": [
    "El primer argumento, **data**, puede contener diferentes tipos de datos:\n",
    "- un *diccionario* de Python (dict)\n",
    "- un *ndarray* de NumPy (ndarray)\n",
    "- un valor escalar \n",
    "\n",
    "El segundo elemento, **index**, es una lista de etiquetas para cada elemento de la lista. "
   ]
  },
  {
   "cell_type": "markdown",
   "metadata": {},
   "source": [
    "Según el tipo de **data** que le pasamos a la lista, tenemos distintos casos de Series"
   ]
  },
  {
   "cell_type": "markdown",
   "metadata": {},
   "source": [
    "Existen muchas maneras de crear una Serie, pero nos encontraremos con las tres más comunes:\n",
    "-  A partir de una lista ([ ])\n",
    "- A partir de un NumPy array (ndarray)\n",
    "- A partir de un Diccionario de Python "
   ]
  },
  {
   "cell_type": "markdown",
   "metadata": {},
   "source": [
    "### Generar una Serie a partir de una lista"
   ]
  },
  {
   "cell_type": "code",
   "execution_count": 3,
   "metadata": {
    "ExecuteTime": {
     "end_time": "2021-02-04T20:30:22.905685Z",
     "start_time": "2021-02-04T20:30:22.898683Z"
    }
   },
   "outputs": [],
   "source": [
    "nombres = [\"Elena\", \"Marcos\", \" Judith\", \"Sofía\", \"Estefanía\"]"
   ]
  },
  {
   "cell_type": "code",
   "execution_count": 9,
   "metadata": {
    "ExecuteTime": {
     "end_time": "2020-03-02T18:41:46.158444Z",
     "start_time": "2020-03-02T18:41:46.152150Z"
    }
   },
   "outputs": [
    {
     "data": {
      "text/plain": [
       "['Elena', 'Marcos', ' Judith', 'Sofía', 'Estefaníaaaaa']"
      ]
     },
     "execution_count": 9,
     "metadata": {},
     "output_type": "execute_result"
    }
   ],
   "source": [
    "nombres"
   ]
  },
  {
   "cell_type": "code",
   "execution_count": null,
   "metadata": {},
   "outputs": [],
   "source": [
    "#crear una serie de nombre mi_serie que contenga esta lista de nombres"
   ]
  },
  {
   "cell_type": "code",
   "execution_count": 10,
   "metadata": {
    "ExecuteTime": {
     "end_time": "2021-02-04T20:30:37.907452Z",
     "start_time": "2021-02-04T20:30:37.895469Z"
    }
   },
   "outputs": [],
   "source": [
    "mi_serie = pd.Series(data = nombres)"
   ]
  },
  {
   "cell_type": "code",
   "execution_count": 8,
   "metadata": {
    "ExecuteTime": {
     "end_time": "2020-03-02T18:41:39.962804Z",
     "start_time": "2020-03-02T18:41:39.950149Z"
    }
   },
   "outputs": [
    {
     "data": {
      "text/plain": [
       "0            Elena\n",
       "1           Marcos\n",
       "2           Judith\n",
       "3            Sofía\n",
       "4    Estefaníaaaaa\n",
       "dtype: object"
      ]
     },
     "execution_count": 8,
     "metadata": {},
     "output_type": "execute_result"
    }
   ],
   "source": [
    "mi_serie"
   ]
  },
  {
   "cell_type": "code",
   "execution_count": 341,
   "metadata": {
    "ExecuteTime": {
     "end_time": "2020-02-15T11:21:09.900768Z",
     "start_time": "2020-02-15T11:21:09.895115Z"
    }
   },
   "outputs": [
    {
     "data": {
      "text/plain": [
       "list"
      ]
     },
     "execution_count": 341,
     "metadata": {},
     "output_type": "execute_result"
    }
   ],
   "source": [
    "type(nombres)"
   ]
  },
  {
   "cell_type": "code",
   "execution_count": 338,
   "metadata": {
    "ExecuteTime": {
     "end_time": "2020-02-15T11:20:31.109630Z",
     "start_time": "2020-02-15T11:20:31.105406Z"
    }
   },
   "outputs": [],
   "source": [
    "nombres_clase = pd.Series(data = nombres)"
   ]
  },
  {
   "cell_type": "code",
   "execution_count": 339,
   "metadata": {
    "ExecuteTime": {
     "end_time": "2020-02-15T11:20:31.265029Z",
     "start_time": "2020-02-15T11:20:31.256164Z"
    }
   },
   "outputs": [
    {
     "data": {
      "text/plain": [
       "0            Elena\n",
       "1           Marcos\n",
       "2           Judith\n",
       "3            Sofía\n",
       "4    Estefaníaaaaa\n",
       "dtype: object"
      ]
     },
     "execution_count": 339,
     "metadata": {},
     "output_type": "execute_result"
    }
   ],
   "source": [
    "nombres_clase"
   ]
  },
  {
   "cell_type": "code",
   "execution_count": 342,
   "metadata": {
    "ExecuteTime": {
     "end_time": "2020-02-15T11:21:19.175329Z",
     "start_time": "2020-02-15T11:21:19.169208Z"
    }
   },
   "outputs": [
    {
     "data": {
      "text/plain": [
       "pandas.core.series.Series"
      ]
     },
     "execution_count": 342,
     "metadata": {},
     "output_type": "execute_result"
    }
   ],
   "source": [
    "type(nombres_clase)"
   ]
  },
  {
   "cell_type": "code",
   "execution_count": 10,
   "metadata": {
    "ExecuteTime": {
     "end_time": "2020-03-02T18:43:39.670674Z",
     "start_time": "2020-03-02T18:43:39.660824Z"
    }
   },
   "outputs": [],
   "source": [
    "pd.Series?"
   ]
  },
  {
   "cell_type": "markdown",
   "metadata": {},
   "source": [
    "Al no especificar una etiqueta (*index*) a la Serie, por default, se ha asignado una etiqueta con el índice de la posición que ocupa cada elemento en la Serie. "
   ]
  },
  {
   "cell_type": "markdown",
   "metadata": {},
   "source": [
    "Pero **siempre estamos a tiempo de asignar una lista de etiquetas a los valores de nuestra Serie**"
   ]
  },
  {
   "cell_type": "code",
   "execution_count": 4,
   "metadata": {
    "ExecuteTime": {
     "end_time": "2021-02-04T20:30:26.067373Z",
     "start_time": "2021-02-04T20:30:26.053368Z"
    }
   },
   "outputs": [],
   "source": [
    "lista_estudiantes = [\"Estudiante 1\", \"Estudiante 2\",\"Estudiante 3\",\"Estudiante 4\",\"Estudiante 5\"]"
   ]
  },
  {
   "cell_type": "code",
   "execution_count": 5,
   "metadata": {
    "ExecuteTime": {
     "end_time": "2021-02-04T20:30:26.895332Z",
     "start_time": "2021-02-04T20:30:26.873329Z"
    }
   },
   "outputs": [
    {
     "data": {
      "text/plain": [
       "True"
      ]
     },
     "execution_count": 5,
     "metadata": {},
     "output_type": "execute_result"
    }
   ],
   "source": [
    "len(nombres) == len(lista_estudiantes)"
   ]
  },
  {
   "cell_type": "code",
   "execution_count": 6,
   "metadata": {
    "ExecuteTime": {
     "end_time": "2021-02-04T20:30:27.544830Z",
     "start_time": "2021-02-04T20:30:27.525826Z"
    }
   },
   "outputs": [],
   "source": [
    "mi_serie2 = pd.Series(data=nombres, index = lista_estudiantes)"
   ]
  },
  {
   "cell_type": "code",
   "execution_count": 7,
   "metadata": {
    "ExecuteTime": {
     "end_time": "2021-02-04T20:30:28.214546Z",
     "start_time": "2021-02-04T20:30:28.205534Z"
    }
   },
   "outputs": [
    {
     "data": {
      "text/plain": [
       "['Elena', 'Marcos', ' Judith', 'Sofía', 'Estefanía']"
      ]
     },
     "execution_count": 7,
     "metadata": {},
     "output_type": "execute_result"
    }
   ],
   "source": [
    "nombres"
   ]
  },
  {
   "cell_type": "code",
   "execution_count": 11,
   "metadata": {
    "ExecuteTime": {
     "end_time": "2021-02-04T20:30:41.503884Z",
     "start_time": "2021-02-04T20:30:41.488369Z"
    }
   },
   "outputs": [
    {
     "data": {
      "text/plain": [
       "0        Elena\n",
       "1       Marcos\n",
       "2       Judith\n",
       "3        Sofía\n",
       "4    Estefanía\n",
       "dtype: object"
      ]
     },
     "execution_count": 11,
     "metadata": {},
     "output_type": "execute_result"
    }
   ],
   "source": [
    "mi_serie"
   ]
  },
  {
   "cell_type": "code",
   "execution_count": 12,
   "metadata": {
    "ExecuteTime": {
     "end_time": "2021-02-04T20:30:42.475390Z",
     "start_time": "2021-02-04T20:30:42.456388Z"
    }
   },
   "outputs": [
    {
     "data": {
      "text/plain": [
       "Estudiante 1        Elena\n",
       "Estudiante 2       Marcos\n",
       "Estudiante 3       Judith\n",
       "Estudiante 4        Sofía\n",
       "Estudiante 5    Estefanía\n",
       "dtype: object"
      ]
     },
     "execution_count": 12,
     "metadata": {},
     "output_type": "execute_result"
    }
   ],
   "source": [
    "mi_serie2"
   ]
  },
  {
   "cell_type": "code",
   "execution_count": 13,
   "metadata": {
    "ExecuteTime": {
     "end_time": "2021-02-04T20:30:43.517864Z",
     "start_time": "2021-02-04T20:30:43.508351Z"
    }
   },
   "outputs": [
    {
     "data": {
      "text/plain": [
       "Estudiante 1        Elena\n",
       "Estudiante 2       Marcos\n",
       "Estudiante 3       Judith\n",
       "Estudiante 4        Sofía\n",
       "Estudiante 5    Estefanía\n",
       "dtype: object"
      ]
     },
     "execution_count": 13,
     "metadata": {},
     "output_type": "execute_result"
    }
   ],
   "source": [
    "nombres_clase = pd.Series(data=nombres, index=lista_estudiantes)\n",
    "nombres_clase"
   ]
  },
  {
   "cell_type": "markdown",
   "metadata": {},
   "source": [
    "### Generar una Serie a partir de un *ndarray()*"
   ]
  },
  {
   "cell_type": "markdown",
   "metadata": {},
   "source": [
    "Si los datos que pasamos a pd.Series() son un **ndarray()**, el índice tiene que tener la misma longitud que el array pasado. \n",
    "\n",
    "Si no se especificara una lista de índices, se generarán índices automáticamente según: [0, ..., len(data)-1]"
   ]
  },
  {
   "cell_type": "markdown",
   "metadata": {},
   "source": [
    "#### Sin etiquetas asignadas"
   ]
  },
  {
   "cell_type": "markdown",
   "metadata": {},
   "source": [
    "Si no especificamos índices, se asignará automáticamente una etiqueta como índice para cada elemento; de 0 a N, donde N es la longitud de la serie - 1"
   ]
  },
  {
   "cell_type": "code",
   "execution_count": 24,
   "metadata": {
    "ExecuteTime": {
     "end_time": "2020-03-02T18:50:25.684695Z",
     "start_time": "2020-03-02T18:50:25.674419Z"
    }
   },
   "outputs": [
    {
     "name": "stdout",
     "output_type": "stream",
     "text": [
      "Queremos crear una Serie a partir de un array de 5 elementos => \n",
      "\n"
     ]
    },
    {
     "data": {
      "text/plain": [
       "array([-1.66590908, -0.45746794,  0.2779818 ,  0.36000843, -0.10791267])"
      ]
     },
     "execution_count": 24,
     "metadata": {},
     "output_type": "execute_result"
    }
   ],
   "source": [
    "print(\"Queremos crear una Serie a partir de un array de 5 elementos => \\n\")\n",
    "array_5_items = np.random.randn(5)\n",
    "array_5_items"
   ]
  },
  {
   "cell_type": "code",
   "execution_count": 25,
   "metadata": {
    "ExecuteTime": {
     "end_time": "2020-03-02T18:50:35.978160Z",
     "start_time": "2020-03-02T18:50:35.974220Z"
    }
   },
   "outputs": [],
   "source": [
    "s_sinind = pd.Series(data = array_5_items)"
   ]
  },
  {
   "cell_type": "code",
   "execution_count": 26,
   "metadata": {
    "ExecuteTime": {
     "end_time": "2020-03-02T18:50:36.484024Z",
     "start_time": "2020-03-02T18:50:36.477089Z"
    }
   },
   "outputs": [
    {
     "data": {
      "text/plain": [
       "0   -1.665909\n",
       "1   -0.457468\n",
       "2    0.277982\n",
       "3    0.360008\n",
       "4   -0.107913\n",
       "dtype: float64"
      ]
     },
     "execution_count": 26,
     "metadata": {},
     "output_type": "execute_result"
    }
   ],
   "source": [
    "s_sinind"
   ]
  },
  {
   "cell_type": "markdown",
   "metadata": {},
   "source": [
    "#### Especificando etiquetas"
   ]
  },
  {
   "cell_type": "code",
   "execution_count": 346,
   "metadata": {
    "ExecuteTime": {
     "end_time": "2020-02-15T11:23:09.974736Z",
     "start_time": "2020-02-15T11:23:09.963905Z"
    }
   },
   "outputs": [
    {
     "name": "stdout",
     "output_type": "stream",
     "text": [
      "Queremos crear una Serie a partir de un array de 5 elementos => \n",
      "\n"
     ]
    },
    {
     "data": {
      "text/plain": [
       "array([-0.11911863,  1.80302304, -0.33932347, -0.5284901 ,  0.8993085 ])"
      ]
     },
     "execution_count": 346,
     "metadata": {},
     "output_type": "execute_result"
    }
   ],
   "source": [
    "print(\"Queremos crear una Serie a partir de un array de 5 elementos => \\n\")\n",
    "\n",
    "array_5_items = np.random.randn(5)\n",
    "\n",
    "array_5_items"
   ]
  },
  {
   "cell_type": "code",
   "execution_count": 29,
   "metadata": {
    "ExecuteTime": {
     "end_time": "2020-03-02T18:51:59.618015Z",
     "start_time": "2020-03-02T18:51:59.613095Z"
    }
   },
   "outputs": [
    {
     "name": "stdout",
     "output_type": "stream",
     "text": [
      "y queremos asignar una etiqueta a cada elemento en la serie resultante => \n",
      "\n",
      "['e', 'e', 'e', 'e', 'e']\n"
     ]
    }
   ],
   "source": [
    "print(\"y queremos asignar una etiqueta a cada elemento en la serie resultante => \\n\")\n",
    "\n",
    "lista_5_indices = ['e','e','e','e','e']\n",
    "\n",
    "print(lista_5_indices)"
   ]
  },
  {
   "cell_type": "code",
   "execution_count": 30,
   "metadata": {
    "ExecuteTime": {
     "end_time": "2020-03-02T18:52:02.075241Z",
     "start_time": "2020-03-02T18:52:02.066433Z"
    }
   },
   "outputs": [
    {
     "name": "stdout",
     "output_type": "stream",
     "text": [
      "Comprobamos tenemos una etiqueta para cada elemento!\n",
      "\n"
     ]
    },
    {
     "data": {
      "text/plain": [
       "True"
      ]
     },
     "execution_count": 30,
     "metadata": {},
     "output_type": "execute_result"
    }
   ],
   "source": [
    "print(\"Comprobamos tenemos una etiqueta para cada elemento!\\n\")\n",
    "\n",
    "len(array_5_items) == len(lista_5_indices)"
   ]
  },
  {
   "cell_type": "code",
   "execution_count": 31,
   "metadata": {
    "ExecuteTime": {
     "end_time": "2020-03-02T18:52:05.928643Z",
     "start_time": "2020-03-02T18:52:05.919540Z"
    },
    "code_folding": []
   },
   "outputs": [
    {
     "name": "stdout",
     "output_type": "stream",
     "text": [
      "La serie resultanto coge los datos del array y las etiquetas de la lista => \n",
      "\n"
     ]
    },
    {
     "data": {
      "text/plain": [
       "e   -1.665909\n",
       "e   -0.457468\n",
       "e    0.277982\n",
       "e    0.360008\n",
       "e   -0.107913\n",
       "dtype: float64"
      ]
     },
     "execution_count": 31,
     "metadata": {},
     "output_type": "execute_result"
    }
   ],
   "source": [
    "print(\"La serie resultanto coge los datos del array y las etiquetas de la lista => \\n\")\n",
    "s = pd.Series(data = array_5_items, index=lista_5_indices)\n",
    "s"
   ]
  },
  {
   "cell_type": "markdown",
   "metadata": {},
   "source": [
    "Hemos creado una Serie de Pandas mediante un array (que contiene 5 números float aleatorios) etiquetados según una list. \n",
    "\n",
    "En la columna de la izquierda tenemos los índices y en la de la derecha tenemos los datos"
   ]
  },
  {
   "cell_type": "markdown",
   "metadata": {},
   "source": [
    "##### Importante! \n",
    "pandas **permite valores de índice duplicados**. \n",
    "Si se quisiera aplicar una operación o método que no permite índices duplicados, saltaría un error. \n",
    "\n",
    "El motivo por el que permite índices duplicados es porque pd.Series() está oriento a un alto rendimiento mediante métodos que no usan el índice"
   ]
  },
  {
   "cell_type": "markdown",
   "metadata": {},
   "source": [
    "### Generar una Serie desde un escalar"
   ]
  },
  {
   "cell_type": "markdown",
   "metadata": {},
   "source": [
    "También es posible crear una serie desde un valor escalar, siempre que se asigne un índice. \n",
    "\n",
    "**Importante!** El valor escalar aparecerá en la Serie tantas veces como índices otorguemos a la Serie!"
   ]
  },
  {
   "cell_type": "markdown",
   "metadata": {},
   "source": [
    "##### EJEMPLO"
   ]
  },
  {
   "cell_type": "code",
   "execution_count": 33,
   "metadata": {
    "ExecuteTime": {
     "end_time": "2020-03-02T18:53:30.192462Z",
     "start_time": "2020-03-02T18:53:30.184801Z"
    }
   },
   "outputs": [],
   "source": [
    "pd.Series?"
   ]
  },
  {
   "cell_type": "code",
   "execution_count": 32,
   "metadata": {
    "ExecuteTime": {
     "end_time": "2020-03-02T18:53:12.684024Z",
     "start_time": "2020-03-02T18:53:12.676396Z"
    }
   },
   "outputs": [
    {
     "data": {
      "text/plain": [
       "número    5\n",
       "dtype: int64"
      ]
     },
     "execution_count": 32,
     "metadata": {},
     "output_type": "execute_result"
    }
   ],
   "source": [
    "serie_de_numero = pd.Series(data = 5, index = ['número'])\n",
    "serie_de_numero"
   ]
  },
  {
   "cell_type": "code",
   "execution_count": 23,
   "metadata": {
    "ExecuteTime": {
     "end_time": "2020-02-14T20:53:02.665412Z",
     "start_time": "2020-02-14T20:53:02.656934Z"
    }
   },
   "outputs": [
    {
     "data": {
      "text/plain": [
       "numero1    5\n",
       "numero2    5\n",
       "numero3    5\n",
       "dtype: int64"
      ]
     },
     "execution_count": 23,
     "metadata": {},
     "output_type": "execute_result"
    }
   ],
   "source": [
    "serie_de_numero = pd.Series(5, index=['numero1', 'numero2','numero3'])\n",
    "serie_de_numero"
   ]
  },
  {
   "cell_type": "markdown",
   "metadata": {},
   "source": [
    "### Generar una serie a partir de un diccionario "
   ]
  },
  {
   "cell_type": "markdown",
   "metadata": {},
   "source": [
    "Las series se pueden iniciar a partir de diccionarios, usando las claves del diccionario como índice\n",
    "\n",
    "\n",
    "**Importante!** Cuando los datos de la serie (*data*), los índices de la serie se ordenan según el orden de inserción del diccionario. "
   ]
  },
  {
   "cell_type": "markdown",
   "metadata": {},
   "source": [
    "##### EJEMPLO"
   ]
  },
  {
   "cell_type": "code",
   "execution_count": 35,
   "metadata": {
    "ExecuteTime": {
     "end_time": "2020-03-02T18:55:46.671024Z",
     "start_time": "2020-03-02T18:55:46.667171Z"
    }
   },
   "outputs": [],
   "source": [
    "mi_diccionario = {'a':1, 'b':2, 'c':3,'d':4 }"
   ]
  },
  {
   "cell_type": "code",
   "execution_count": 11,
   "metadata": {
    "ExecuteTime": {
     "end_time": "2020-02-14T20:24:17.975706Z",
     "start_time": "2020-02-14T20:24:17.969535Z"
    }
   },
   "outputs": [
    {
     "data": {
      "text/plain": [
       "dict"
      ]
     },
     "execution_count": 11,
     "metadata": {},
     "output_type": "execute_result"
    }
   ],
   "source": [
    "type(mi_diccionario)"
   ]
  },
  {
   "cell_type": "code",
   "execution_count": 12,
   "metadata": {
    "ExecuteTime": {
     "end_time": "2020-02-14T20:24:25.008826Z",
     "start_time": "2020-02-14T20:24:24.999033Z"
    }
   },
   "outputs": [
    {
     "data": {
      "text/plain": [
       "{'a': 1, 'b': 2, 'c': 3, 'd': 4}"
      ]
     },
     "execution_count": 12,
     "metadata": {},
     "output_type": "execute_result"
    }
   ],
   "source": [
    "mi_diccionario"
   ]
  },
  {
   "cell_type": "code",
   "execution_count": 36,
   "metadata": {
    "ExecuteTime": {
     "end_time": "2020-03-02T18:55:48.021303Z",
     "start_time": "2020-03-02T18:55:48.014396Z"
    }
   },
   "outputs": [
    {
     "data": {
      "text/plain": [
       "a    1\n",
       "b    2\n",
       "c    3\n",
       "d    4\n",
       "dtype: int64"
      ]
     },
     "execution_count": 36,
     "metadata": {},
     "output_type": "execute_result"
    }
   ],
   "source": [
    "mi_serie = pd.Series(mi_diccionario)\n",
    "mi_serie"
   ]
  },
  {
   "cell_type": "code",
   "execution_count": 13,
   "metadata": {
    "ExecuteTime": {
     "end_time": "2020-02-14T20:24:46.120256Z",
     "start_time": "2020-02-14T20:24:46.090026Z"
    }
   },
   "outputs": [],
   "source": [
    "mi_serie_de_diccionario = pd.Series(mi_diccionario)"
   ]
  },
  {
   "cell_type": "code",
   "execution_count": 14,
   "metadata": {
    "ExecuteTime": {
     "end_time": "2020-02-14T20:24:57.685316Z",
     "start_time": "2020-02-14T20:24:57.677657Z"
    }
   },
   "outputs": [
    {
     "data": {
      "text/plain": [
       "pandas.core.series.Series"
      ]
     },
     "execution_count": 14,
     "metadata": {},
     "output_type": "execute_result"
    }
   ],
   "source": [
    "type(mi_serie_de_diccionario)"
   ]
  },
  {
   "cell_type": "code",
   "execution_count": 15,
   "metadata": {
    "ExecuteTime": {
     "end_time": "2020-02-14T20:25:07.191666Z",
     "start_time": "2020-02-14T20:25:07.184065Z"
    }
   },
   "outputs": [
    {
     "data": {
      "text/plain": [
       "a    1\n",
       "b    2\n",
       "c    3\n",
       "d    4\n",
       "dtype: int64"
      ]
     },
     "execution_count": 15,
     "metadata": {},
     "output_type": "execute_result"
    }
   ],
   "source": [
    "mi_serie_de_diccionario"
   ]
  },
  {
   "cell_type": "markdown",
   "metadata": {},
   "source": [
    "##### EJEMPLO"
   ]
  },
  {
   "cell_type": "code",
   "execution_count": 327,
   "metadata": {
    "ExecuteTime": {
     "end_time": "2020-02-15T11:08:42.573471Z",
     "start_time": "2020-02-15T11:08:42.565534Z"
    }
   },
   "outputs": [
    {
     "data": {
      "text/plain": [
       "Barcelona        1000.0\n",
       "Nueva York       1300.0\n",
       "Madrid            900.0\n",
       "San Francisco    1100.0\n",
       "Valencia          450.0\n",
       "Boston              NaN\n",
       "dtype: float64"
      ]
     },
     "execution_count": 327,
     "metadata": {},
     "output_type": "execute_result"
    }
   ],
   "source": [
    "d = {'Barcelona': 1000, 'Nueva York': 1300, 'Madrid': 900, 'San Francisco': 1100,\n",
    "     'Valencia': 450, 'Boston': None}\n",
    "ciudades = pd.Series(d)\n",
    "ciudades"
   ]
  },
  {
   "cell_type": "markdown",
   "metadata": {},
   "source": [
    "## Básicos de Series"
   ]
  },
  {
   "cell_type": "markdown",
   "metadata": {},
   "source": [
    "### Índices y Valores"
   ]
  },
  {
   "cell_type": "markdown",
   "metadata": {},
   "source": [
    "Como comentado, una Serie consta de dos elementos:\n",
    "- Etiquetas o Índices\n",
    "- Valores de la Serie"
   ]
  },
  {
   "cell_type": "markdown",
   "metadata": {},
   "source": [
    "####  Índices de una Serie"
   ]
  },
  {
   "cell_type": "markdown",
   "metadata": {},
   "source": [
    "Los índices son **el nombre o etiqueta que acompaña cada valor de una Serie**.\n",
    "\n",
    "Para obtener los índices de una Serie, usaremos el método index(), que nos devuelve en formato Index las etiquetas de los valores de una serie."
   ]
  },
  {
   "cell_type": "markdown",
   "metadata": {},
   "source": [
    "Hablaremos de:\n",
    "- etiquetas cuando especificamos el nombre de cada elemento\n",
    "- índices cuando no especificamos etiquetas para cada elemento y se asigna un índice numérico que indica la posición que ocupa el elemento en la serie"
   ]
  },
  {
   "cell_type": "markdown",
   "metadata": {},
   "source": [
    "Para **obtener los índices o etiquetas de una Serie usaremos el comando .index**:"
   ]
  },
  {
   "cell_type": "code",
   "execution_count": null,
   "metadata": {},
   "outputs": [],
   "source": [
    "# Generar un diccionario con 4 ciudades del mundo como keys y un número como valor\n",
    "# Generar una serie a partir del diccionario\n",
    "# Modificar el nombre de las keys por letras de a- d\n",
    "# Sacar los index de la serie\n",
    "# Sacar los valores de la serie"
   ]
  },
  {
   "cell_type": "code",
   "execution_count": 19,
   "metadata": {
    "ExecuteTime": {
     "end_time": "2021-02-04T20:45:02.323630Z",
     "start_time": "2021-02-04T20:45:02.312616Z"
    }
   },
   "outputs": [
    {
     "data": {
      "text/plain": [
       "Index(['Barcelona', 'Nueva York', 'Madrid', 'San Francisco', 'Valencia',\n",
       "       'Boston'],\n",
       "      dtype='object')"
      ]
     },
     "execution_count": 19,
     "metadata": {},
     "output_type": "execute_result"
    }
   ],
   "source": [
    "d = {'Barcelona': 1000, 'Nueva York': 1300, 'Madrid': 900, 'San Francisco': 1100,\n",
    "     'Valencia': 450, 'Boston': None}\n",
    "\n",
    "\n",
    "ciudades = pd.Series(d)\n",
    "\n",
    "ciudades.index"
   ]
  },
  {
   "cell_type": "code",
   "execution_count": 20,
   "metadata": {
    "ExecuteTime": {
     "end_time": "2021-02-04T20:45:02.819396Z",
     "start_time": "2021-02-04T20:45:02.807857Z"
    }
   },
   "outputs": [
    {
     "data": {
      "text/plain": [
       "Barcelona        1000.0\n",
       "Nueva York       1300.0\n",
       "Madrid            900.0\n",
       "San Francisco    1100.0\n",
       "Valencia          450.0\n",
       "Boston              NaN\n",
       "dtype: float64"
      ]
     },
     "execution_count": 20,
     "metadata": {},
     "output_type": "execute_result"
    }
   ],
   "source": [
    "ciudades"
   ]
  },
  {
   "cell_type": "code",
   "execution_count": 21,
   "metadata": {
    "ExecuteTime": {
     "end_time": "2021-02-04T20:45:03.343533Z",
     "start_time": "2021-02-04T20:45:03.329430Z"
    }
   },
   "outputs": [
    {
     "name": "stdout",
     "output_type": "stream",
     "text": [
      "Las etiquetas de mi Serie son => \n",
      " Index(['Barcelona', 'Nueva York', 'Madrid', 'San Francisco', 'Valencia',\n",
      "       'Boston'],\n",
      "      dtype='object')\n"
     ]
    }
   ],
   "source": [
    "d = {'Barcelona': 1000, 'Nueva York': 1300, 'Madrid': 900, 'San Francisco': 1100,\n",
    "     'Valencia': 450, 'Boston': None}\n",
    "ciudades = pd.Series(d)\n",
    "\n",
    "\n",
    "print(\"Las etiquetas de mi Serie son => \\n\", ciudades.index)"
   ]
  },
  {
   "cell_type": "code",
   "execution_count": 22,
   "metadata": {
    "ExecuteTime": {
     "end_time": "2021-02-04T20:45:03.852706Z",
     "start_time": "2021-02-04T20:45:03.835180Z"
    }
   },
   "outputs": [
    {
     "name": "stdout",
     "output_type": "stream",
     "text": [
      "Los índices de mi Serie son => \n",
      " RangeIndex(start=0, stop=6, step=1)\n"
     ]
    }
   ],
   "source": [
    "lista_valores = [1000.0, 1300.0,900.0, 1100.0, 450.0, np.nan]\n",
    "\n",
    "cifras = pd.Series(lista_valores)\n",
    "\n",
    "print(\"Los índices de mi Serie son => \\n\", cifras.index)"
   ]
  },
  {
   "cell_type": "code",
   "execution_count": 23,
   "metadata": {
    "ExecuteTime": {
     "end_time": "2021-02-04T20:45:04.377574Z",
     "start_time": "2021-02-04T20:45:04.368066Z"
    }
   },
   "outputs": [
    {
     "data": {
      "text/plain": [
       "0    1000.0\n",
       "1    1300.0\n",
       "2     900.0\n",
       "3    1100.0\n",
       "4     450.0\n",
       "5       NaN\n",
       "dtype: float64"
      ]
     },
     "execution_count": 23,
     "metadata": {},
     "output_type": "execute_result"
    }
   ],
   "source": [
    "cifras"
   ]
  },
  {
   "cell_type": "markdown",
   "metadata": {},
   "source": [
    "#### Valores de una Serie"
   ]
  },
  {
   "cell_type": "markdown",
   "metadata": {},
   "source": [
    "Los valores de una Serie son los elementos que la conforman. Para obtener los valores de una Serie usaremos el método values(), que nos devuelve en un array los valores de la serie."
   ]
  },
  {
   "cell_type": "code",
   "execution_count": 24,
   "metadata": {
    "ExecuteTime": {
     "end_time": "2021-02-04T20:45:05.703168Z",
     "start_time": "2021-02-04T20:45:05.695168Z"
    }
   },
   "outputs": [
    {
     "data": {
      "text/plain": [
       "Barcelona        1000.0\n",
       "Nueva York       1300.0\n",
       "Madrid            900.0\n",
       "San Francisco    1100.0\n",
       "Valencia          450.0\n",
       "Boston              NaN\n",
       "dtype: float64"
      ]
     },
     "execution_count": 24,
     "metadata": {},
     "output_type": "execute_result"
    }
   ],
   "source": [
    "ciudades"
   ]
  },
  {
   "cell_type": "code",
   "execution_count": 25,
   "metadata": {
    "ExecuteTime": {
     "end_time": "2021-02-04T20:45:06.356227Z",
     "start_time": "2021-02-04T20:45:06.347681Z"
    }
   },
   "outputs": [
    {
     "data": {
      "text/plain": [
       "array([1000., 1300.,  900., 1100.,  450.,   nan])"
      ]
     },
     "execution_count": 25,
     "metadata": {},
     "output_type": "execute_result"
    }
   ],
   "source": [
    "ciudades.values"
   ]
  },
  {
   "cell_type": "code",
   "execution_count": 26,
   "metadata": {
    "ExecuteTime": {
     "end_time": "2021-02-04T20:45:06.846984Z",
     "start_time": "2021-02-04T20:45:06.841001Z"
    }
   },
   "outputs": [
    {
     "data": {
      "text/plain": [
       "array([[1000., 1300.,  900.],\n",
       "       [1100.,  450.,   nan]])"
      ]
     },
     "execution_count": 26,
     "metadata": {},
     "output_type": "execute_result"
    }
   ],
   "source": [
    "ciudades.values.reshape((2,3))"
   ]
  },
  {
   "cell_type": "markdown",
   "metadata": {},
   "source": [
    "### Acceder a Elementos"
   ]
  },
  {
   "cell_type": "markdown",
   "metadata": {},
   "source": [
    "#### A partir del Índice"
   ]
  },
  {
   "cell_type": "markdown",
   "metadata": {},
   "source": [
    "Para acceder a un elemento de una Serie mediante el índice (no la etiqueta) es **análogo a acceder a un elemento de una lista** (*list( )* ) ya que obviamos la existencia de una columna de étiquetas, **y una serie sin etiquetas es esencialmente una lista**! "
   ]
  },
  {
   "cell_type": "code",
   "execution_count": 34,
   "metadata": {
    "ExecuteTime": {
     "end_time": "2021-02-04T20:46:32.794820Z",
     "start_time": "2021-02-04T20:46:32.779120Z"
    }
   },
   "outputs": [],
   "source": [
    "d = {'Nueva York': 1000, 'Nueva York': 1300, 'Madrid': 900, 'San Francisco': 1100,\n",
    "     'Valencia': 450, 'Boston': None}"
   ]
  },
  {
   "cell_type": "code",
   "execution_count": 35,
   "metadata": {
    "ExecuteTime": {
     "end_time": "2021-02-04T20:46:33.210974Z",
     "start_time": "2021-02-04T20:46:33.196853Z"
    }
   },
   "outputs": [],
   "source": [
    "#generar una Serie del diccionario de ciudades"
   ]
  },
  {
   "cell_type": "code",
   "execution_count": 36,
   "metadata": {
    "ExecuteTime": {
     "end_time": "2021-02-04T20:46:33.482544Z",
     "start_time": "2021-02-04T20:46:33.465014Z"
    }
   },
   "outputs": [],
   "source": [
    "mi_serie = pd.Series(data = d)"
   ]
  },
  {
   "cell_type": "code",
   "execution_count": 37,
   "metadata": {
    "ExecuteTime": {
     "end_time": "2021-02-04T20:46:33.704503Z",
     "start_time": "2021-02-04T20:46:33.691499Z"
    }
   },
   "outputs": [
    {
     "data": {
      "text/plain": [
       "Nueva York       1300.0\n",
       "Madrid            900.0\n",
       "San Francisco    1100.0\n",
       "Valencia          450.0\n",
       "Boston              NaN\n",
       "dtype: float64"
      ]
     },
     "execution_count": 37,
     "metadata": {},
     "output_type": "execute_result"
    }
   ],
   "source": [
    "mi_serie"
   ]
  },
  {
   "cell_type": "code",
   "execution_count": 38,
   "metadata": {
    "ExecuteTime": {
     "end_time": "2021-02-04T20:46:34.494877Z",
     "start_time": "2021-02-04T20:46:34.486896Z"
    }
   },
   "outputs": [],
   "source": [
    "#quiero sacar el segundo elemento de mi Serie"
   ]
  },
  {
   "cell_type": "code",
   "execution_count": 39,
   "metadata": {
    "ExecuteTime": {
     "end_time": "2021-02-04T20:46:34.969537Z",
     "start_time": "2021-02-04T20:46:34.953506Z"
    }
   },
   "outputs": [
    {
     "data": {
      "text/plain": [
       "900.0"
      ]
     },
     "execution_count": 39,
     "metadata": {},
     "output_type": "execute_result"
    }
   ],
   "source": [
    "mi_serie[1]"
   ]
  },
  {
   "cell_type": "code",
   "execution_count": 40,
   "metadata": {
    "ExecuteTime": {
     "end_time": "2021-02-04T20:46:36.421149Z",
     "start_time": "2021-02-04T20:46:36.407142Z"
    }
   },
   "outputs": [
    {
     "data": {
      "text/plain": [
       "1300.0"
      ]
     },
     "execution_count": 40,
     "metadata": {},
     "output_type": "execute_result"
    }
   ],
   "source": [
    "mi_serie[\"Nueva York\"]"
   ]
  },
  {
   "cell_type": "code",
   "execution_count": null,
   "metadata": {},
   "outputs": [],
   "source": []
  },
  {
   "cell_type": "code",
   "execution_count": null,
   "metadata": {},
   "outputs": [],
   "source": []
  },
  {
   "cell_type": "code",
   "execution_count": null,
   "metadata": {},
   "outputs": [],
   "source": []
  },
  {
   "cell_type": "code",
   "execution_count": 41,
   "metadata": {
    "ExecuteTime": {
     "end_time": "2021-02-04T20:46:43.126428Z",
     "start_time": "2021-02-04T20:46:43.116141Z"
    }
   },
   "outputs": [
    {
     "data": {
      "text/plain": [
       "Nueva York       1300.0\n",
       "Madrid            900.0\n",
       "San Francisco    1100.0\n",
       "Valencia          450.0\n",
       "Boston              NaN\n",
       "dtype: float64"
      ]
     },
     "execution_count": 41,
     "metadata": {},
     "output_type": "execute_result"
    }
   ],
   "source": [
    "d = {'Nueva York': 1000, 'Nueva York': 1300, 'Madrid': 900, 'San Francisco': 1100,\n",
    "     'Valencia': 450, 'Boston': None}\n",
    "ciudades = pd.Series(d)\n",
    "ciudades"
   ]
  },
  {
   "cell_type": "code",
   "execution_count": 42,
   "metadata": {
    "ExecuteTime": {
     "end_time": "2021-02-04T20:46:45.889899Z",
     "start_time": "2021-02-04T20:46:45.878122Z"
    }
   },
   "outputs": [
    {
     "name": "stdout",
     "output_type": "stream",
     "text": [
      "Accedemos al primer elemento de la lista => \n",
      "\n"
     ]
    },
    {
     "data": {
      "text/plain": [
       "1300.0"
      ]
     },
     "execution_count": 42,
     "metadata": {},
     "output_type": "execute_result"
    }
   ],
   "source": [
    "print(\"Accedemos al primer elemento de la lista => \\n\")\n",
    "ciudades[0]"
   ]
  },
  {
   "cell_type": "code",
   "execution_count": 43,
   "metadata": {
    "ExecuteTime": {
     "end_time": "2021-02-04T20:46:51.274170Z",
     "start_time": "2021-02-04T20:46:51.268171Z"
    }
   },
   "outputs": [
    {
     "data": {
      "text/plain": [
       "1300.0"
      ]
     },
     "execution_count": 43,
     "metadata": {},
     "output_type": "execute_result"
    }
   ],
   "source": [
    "ciudades[\"Nueva York\"]"
   ]
  },
  {
   "cell_type": "markdown",
   "metadata": {},
   "source": [
    "Análogo a si tuvieramos una lista con los valores de la Serie  y quisiéramos acceder al primer elemento!"
   ]
  },
  {
   "cell_type": "code",
   "execution_count": 44,
   "metadata": {
    "ExecuteTime": {
     "end_time": "2021-02-04T20:47:04.381363Z",
     "start_time": "2021-02-04T20:47:04.362210Z"
    }
   },
   "outputs": [
    {
     "data": {
      "text/plain": [
       "1000.0"
      ]
     },
     "execution_count": 44,
     "metadata": {},
     "output_type": "execute_result"
    }
   ],
   "source": [
    "lista_valores = [1000.0, 1300.0,900.0, 1100.0, 450.0, np.nan]\n",
    "lista_valores[0]"
   ]
  },
  {
   "cell_type": "markdown",
   "metadata": {},
   "source": [
    "#### A partir de la Etiqueta"
   ]
  },
  {
   "cell_type": "markdown",
   "metadata": {},
   "source": [
    "Para acceder a un elemento de la Serie a partir de su etiqueta, simplemente tenemos que acceder a la lista de etiquetas con la etiqueta determinada, y la Serie nos devolverá el valor vinculado a la etiqueta"
   ]
  },
  {
   "cell_type": "code",
   "execution_count": 372,
   "metadata": {
    "ExecuteTime": {
     "end_time": "2020-02-15T11:41:00.473212Z",
     "start_time": "2020-02-15T11:41:00.468120Z"
    }
   },
   "outputs": [
    {
     "data": {
      "text/plain": [
       "1000.0"
      ]
     },
     "execution_count": 372,
     "metadata": {},
     "output_type": "execute_result"
    }
   ],
   "source": [
    "ciudades['Barcelona']"
   ]
  },
  {
   "cell_type": "markdown",
   "metadata": {},
   "source": [
    "Además, podemos acceder a varios elementos de la serie especificando las etiquetas correspondientes dentro de una lista"
   ]
  },
  {
   "cell_type": "code",
   "execution_count": 59,
   "metadata": {
    "ExecuteTime": {
     "end_time": "2020-03-02T19:07:14.461769Z",
     "start_time": "2020-03-02T19:07:14.453814Z"
    }
   },
   "outputs": [
    {
     "data": {
      "text/plain": [
       "Nueva York       1300.0\n",
       "Madrid            900.0\n",
       "San Francisco    1100.0\n",
       "dtype: float64"
      ]
     },
     "execution_count": 59,
     "metadata": {},
     "output_type": "execute_result"
    }
   ],
   "source": [
    "ciudades[[0,1,2]]"
   ]
  },
  {
   "cell_type": "markdown",
   "metadata": {},
   "source": [
    "### Cambiar Índices"
   ]
  },
  {
   "cell_type": "markdown",
   "metadata": {},
   "source": [
    "Imaginemos que queremos cambiar los índices de una serie.\n",
    "Cómo lo haríamos?"
   ]
  },
  {
   "cell_type": "markdown",
   "metadata": {},
   "source": [
    "#### Cambiar todos los índices"
   ]
  },
  {
   "cell_type": "markdown",
   "metadata": {},
   "source": [
    "Existen varias alternativas para cambiar los índices de una list"
   ]
  },
  {
   "cell_type": "markdown",
   "metadata": {},
   "source": [
    "##### EJEMPLO - Reasignando Serie con nuevos índices"
   ]
  },
  {
   "cell_type": "code",
   "execution_count": 45,
   "metadata": {
    "ExecuteTime": {
     "end_time": "2021-02-04T20:48:08.981858Z",
     "start_time": "2021-02-04T20:48:08.967200Z"
    }
   },
   "outputs": [
    {
     "data": {
      "text/plain": [
       "Nueva York       1300.0\n",
       "Madrid            900.0\n",
       "San Francisco    1100.0\n",
       "Valencia          450.0\n",
       "Boston              NaN\n",
       "dtype: float64"
      ]
     },
     "execution_count": 45,
     "metadata": {},
     "output_type": "execute_result"
    }
   ],
   "source": [
    "ciudades"
   ]
  },
  {
   "cell_type": "code",
   "execution_count": 46,
   "metadata": {
    "ExecuteTime": {
     "end_time": "2021-02-04T20:48:10.978770Z",
     "start_time": "2021-02-04T20:48:10.968203Z"
    }
   },
   "outputs": [],
   "source": [
    "nuevos_indices = ['Poblacion 1', 'Poblacion 1', 'Poblacion 3', 'Poblacion 4', 'Poblacion 5']"
   ]
  },
  {
   "cell_type": "code",
   "execution_count": 47,
   "metadata": {
    "ExecuteTime": {
     "end_time": "2021-02-04T20:48:12.405119Z",
     "start_time": "2021-02-04T20:48:12.393240Z"
    },
    "scrolled": true
   },
   "outputs": [
    {
     "data": {
      "text/plain": [
       "array([1300.,  900., 1100.,  450.,   nan])"
      ]
     },
     "execution_count": 47,
     "metadata": {},
     "output_type": "execute_result"
    }
   ],
   "source": [
    "ciudades.values"
   ]
  },
  {
   "cell_type": "code",
   "execution_count": 48,
   "metadata": {
    "ExecuteTime": {
     "end_time": "2021-02-04T20:48:14.172211Z",
     "start_time": "2021-02-04T20:48:14.156224Z"
    }
   },
   "outputs": [
    {
     "data": {
      "text/plain": [
       "Poblacion 1    1300.0\n",
       "Poblacion 1     900.0\n",
       "Poblacion 3    1100.0\n",
       "Poblacion 4     450.0\n",
       "Poblacion 5       NaN\n",
       "dtype: float64"
      ]
     },
     "execution_count": 48,
     "metadata": {},
     "output_type": "execute_result"
    }
   ],
   "source": [
    "ciudades_2 = pd.Series(ciudades.values, index=nuevos_indices)\n",
    "ciudades_2"
   ]
  },
  {
   "cell_type": "code",
   "execution_count": 49,
   "metadata": {
    "ExecuteTime": {
     "end_time": "2021-02-04T20:48:18.711203Z",
     "start_time": "2021-02-04T20:48:18.689211Z"
    }
   },
   "outputs": [
    {
     "data": {
      "text/plain": [
       "Poblacion 1    1300.0\n",
       "Poblacion 1     900.0\n",
       "dtype: float64"
      ]
     },
     "execution_count": 49,
     "metadata": {},
     "output_type": "execute_result"
    }
   ],
   "source": [
    "ciudades_2['Poblacion 1']"
   ]
  },
  {
   "cell_type": "markdown",
   "metadata": {},
   "source": [
    "#### Modificando índices directamente - .index"
   ]
  },
  {
   "cell_type": "code",
   "execution_count": 50,
   "metadata": {
    "ExecuteTime": {
     "end_time": "2021-02-04T20:48:28.309921Z",
     "start_time": "2021-02-04T20:48:28.295382Z"
    }
   },
   "outputs": [
    {
     "data": {
      "text/plain": [
       "Index(['Nueva York', 'Madrid', 'San Francisco', 'Valencia', 'Boston'], dtype='object')"
      ]
     },
     "execution_count": 50,
     "metadata": {},
     "output_type": "execute_result"
    }
   ],
   "source": [
    "ciudades.index"
   ]
  },
  {
   "cell_type": "code",
   "execution_count": 51,
   "metadata": {
    "ExecuteTime": {
     "end_time": "2021-02-04T20:48:29.835217Z",
     "start_time": "2021-02-04T20:48:29.831219Z"
    }
   },
   "outputs": [],
   "source": [
    "ciudades.index = nuevos_indices"
   ]
  },
  {
   "cell_type": "code",
   "execution_count": 52,
   "metadata": {
    "ExecuteTime": {
     "end_time": "2021-02-04T20:48:30.424464Z",
     "start_time": "2021-02-04T20:48:30.404834Z"
    }
   },
   "outputs": [
    {
     "data": {
      "text/plain": [
       "Poblacion 1    1300.0\n",
       "Poblacion 1     900.0\n",
       "Poblacion 3    1100.0\n",
       "Poblacion 4     450.0\n",
       "Poblacion 5       NaN\n",
       "dtype: float64"
      ]
     },
     "execution_count": 52,
     "metadata": {},
     "output_type": "execute_result"
    }
   ],
   "source": [
    "ciudades"
   ]
  },
  {
   "cell_type": "markdown",
   "metadata": {},
   "source": [
    "### Cambiar Valores"
   ]
  },
  {
   "cell_type": "markdown",
   "metadata": {},
   "source": [
    "Accediendo al valor de un elemento de la serie mediante su etiqueta o índice, podemos reasignarle un nuevo valor modificando así la Serie original"
   ]
  },
  {
   "cell_type": "code",
   "execution_count": 53,
   "metadata": {
    "ExecuteTime": {
     "end_time": "2021-02-04T20:48:45.784662Z",
     "start_time": "2021-02-04T20:48:45.765227Z"
    }
   },
   "outputs": [
    {
     "name": "stdout",
     "output_type": "stream",
     "text": [
      "La Población 1 tiene originalmente:  Poblacion 1    1300.0\n",
      "Poblacion 1     900.0\n",
      "dtype: float64 habitantes\n",
      "Pero ahora tiene : Poblacion 1    2000.0\n",
      "Poblacion 1    2000.0\n",
      "dtype: float64 habitantes\n"
     ]
    }
   ],
   "source": [
    "print(\"La Población 1 tiene originalmente: \",ciudades['Poblacion 1'],\"habitantes\" )\n",
    "\n",
    "ciudades['Poblacion 1'] = 2000.0\n",
    "\n",
    "print('Pero ahora tiene :', ciudades['Poblacion 1'], \"habitantes\")"
   ]
  },
  {
   "cell_type": "markdown",
   "metadata": {},
   "source": [
    "### Comprobar si existe un Elemento"
   ]
  },
  {
   "cell_type": "markdown",
   "metadata": {},
   "source": [
    "Las etiquetas son los nombres de los valores, así que si queremos saber si existe un elemento en una Serie lo comprobaremos mirando si su etiqueta aparece en la Serie"
   ]
  },
  {
   "cell_type": "code",
   "execution_count": 385,
   "metadata": {
    "ExecuteTime": {
     "end_time": "2020-02-15T11:49:20.539587Z",
     "start_time": "2020-02-15T11:49:20.532920Z"
    }
   },
   "outputs": [
    {
     "data": {
      "text/plain": [
       "Poblacion 1    2000.0\n",
       "Poblacion 2    1300.0\n",
       "Poblacion 3     900.0\n",
       "Poblacion 4    1100.0\n",
       "Poblacion 5     450.0\n",
       "Poblacion 6       NaN\n",
       "dtype: float64"
      ]
     },
     "execution_count": 385,
     "metadata": {},
     "output_type": "execute_result"
    }
   ],
   "source": [
    "ciudades"
   ]
  },
  {
   "cell_type": "code",
   "execution_count": 386,
   "metadata": {
    "ExecuteTime": {
     "end_time": "2020-02-15T11:49:34.155229Z",
     "start_time": "2020-02-15T11:49:34.150178Z"
    }
   },
   "outputs": [
    {
     "name": "stdout",
     "output_type": "stream",
     "text": [
      "True\n"
     ]
    }
   ],
   "source": [
    "print('Poblacion 2' in ciudades)"
   ]
  },
  {
   "cell_type": "code",
   "execution_count": 388,
   "metadata": {
    "ExecuteTime": {
     "end_time": "2020-02-15T11:50:42.686777Z",
     "start_time": "2020-02-15T11:50:42.682491Z"
    },
    "scrolled": true
   },
   "outputs": [
    {
     "name": "stdout",
     "output_type": "stream",
     "text": [
      "False\n"
     ]
    }
   ],
   "source": [
    "print('Poblacion 7' in ciudades)"
   ]
  },
  {
   "cell_type": "markdown",
   "metadata": {},
   "source": [
    "### Nombrar una Serie - name()"
   ]
  },
  {
   "cell_type": "markdown",
   "metadata": {},
   "source": [
    "Aparte de los datos (*data*) y las etiquetas (*index*), las series también tienen un atributo que es el **nombre de la serie** (*name*), que no es lo mismo que el nombre del objeto que contiene la serie!!"
   ]
  },
  {
   "cell_type": "code",
   "execution_count": 78,
   "metadata": {
    "ExecuteTime": {
     "end_time": "2020-03-02T19:11:46.453669Z",
     "start_time": "2020-03-02T19:11:46.445289Z"
    }
   },
   "outputs": [],
   "source": [
    "pd.Series?"
   ]
  },
  {
   "cell_type": "code",
   "execution_count": 430,
   "metadata": {
    "ExecuteTime": {
     "end_time": "2020-02-15T13:11:15.137911Z",
     "start_time": "2020-02-15T13:11:15.133864Z"
    }
   },
   "outputs": [],
   "source": [
    "s = pd.Series(np.random.randn(5), name='Mi función')"
   ]
  },
  {
   "cell_type": "code",
   "execution_count": 431,
   "metadata": {
    "ExecuteTime": {
     "end_time": "2020-02-15T13:11:15.325944Z",
     "start_time": "2020-02-15T13:11:15.319373Z"
    },
    "scrolled": true
   },
   "outputs": [
    {
     "data": {
      "text/plain": [
       "0   -0.532392\n",
       "1   -3.112454\n",
       "2   -0.438501\n",
       "3   -0.294616\n",
       "4    3.186930\n",
       "Name: Mi función, dtype: float64"
      ]
     },
     "execution_count": 431,
     "metadata": {},
     "output_type": "execute_result"
    }
   ],
   "source": [
    "s"
   ]
  },
  {
   "cell_type": "markdown",
   "metadata": {},
   "source": [
    "Podemos obtener el nombre de una función mediante la invocación del atributo *name*"
   ]
  },
  {
   "cell_type": "code",
   "execution_count": 432,
   "metadata": {
    "ExecuteTime": {
     "end_time": "2020-02-15T13:11:59.623088Z",
     "start_time": "2020-02-15T13:11:59.617736Z"
    }
   },
   "outputs": [
    {
     "data": {
      "text/plain": [
       "'Mi función'"
      ]
     },
     "execution_count": 432,
     "metadata": {},
     "output_type": "execute_result"
    }
   ],
   "source": [
    "s.name"
   ]
  },
  {
   "cell_type": "markdown",
   "metadata": {},
   "source": [
    "Además, toda Serie se puede renombrar mediante el método *rename( )*:"
   ]
  },
  {
   "cell_type": "code",
   "execution_count": 433,
   "metadata": {
    "ExecuteTime": {
     "end_time": "2020-02-15T13:12:51.239877Z",
     "start_time": "2020-02-15T13:12:51.233608Z"
    }
   },
   "outputs": [
    {
     "data": {
      "text/plain": [
       "'Mi SUPER función'"
      ]
     },
     "execution_count": 433,
     "metadata": {},
     "output_type": "execute_result"
    }
   ],
   "source": [
    "s2 = s.rename(\"Mi SUPER función\")\n",
    "s2.name"
   ]
  },
  {
   "cell_type": "markdown",
   "metadata": {},
   "source": [
    "## Funciones sobre Series"
   ]
  },
  {
   "cell_type": "markdown",
   "metadata": {},
   "source": [
    "Las Series se comportan de forma similar a los ndarray de NumPy, así que la mayoría de métodos y funciones de NumPy aplican a las Series de Pandas. "
   ]
  },
  {
   "cell_type": "markdown",
   "metadata": {},
   "source": [
    "### Explorar una Serie "
   ]
  },
  {
   "cell_type": "markdown",
   "metadata": {},
   "source": [
    "#### Dimensiones - shape( ), count( )"
   ]
  },
  {
   "cell_type": "markdown",
   "metadata": {},
   "source": [
    "El método **shape()** devuelve una tupla con el tamaño de la serie"
   ]
  },
  {
   "cell_type": "code",
   "execution_count": 247,
   "metadata": {
    "ExecuteTime": {
     "end_time": "2020-02-15T10:16:15.633649Z",
     "start_time": "2020-02-15T10:16:15.625168Z"
    }
   },
   "outputs": [
    {
     "data": {
      "text/plain": [
       "a    1.093824\n",
       "b   -1.249984\n",
       "c    0.518705\n",
       "d   -0.196051\n",
       "e    0.818933\n",
       "dtype: float64"
      ]
     },
     "execution_count": 247,
     "metadata": {},
     "output_type": "execute_result"
    }
   ],
   "source": [
    "s = pd.Series(np.random.randn(5), ['a','b','c','d','e'])\n",
    "s"
   ]
  },
  {
   "cell_type": "code",
   "execution_count": 248,
   "metadata": {
    "ExecuteTime": {
     "end_time": "2020-02-15T10:16:16.571384Z",
     "start_time": "2020-02-15T10:16:16.565867Z"
    }
   },
   "outputs": [
    {
     "data": {
      "text/plain": [
       "(5,)"
      ]
     },
     "execution_count": 248,
     "metadata": {},
     "output_type": "execute_result"
    }
   ],
   "source": [
    "s.shape"
   ]
  },
  {
   "cell_type": "markdown",
   "metadata": {},
   "source": [
    "También podemos usar el método **count()** que devuelve el tamaño de la serie según **nº de elemento no nulos de la Serie**, como un entero"
   ]
  },
  {
   "cell_type": "code",
   "execution_count": 249,
   "metadata": {
    "ExecuteTime": {
     "end_time": "2020-02-15T10:16:18.021931Z",
     "start_time": "2020-02-15T10:16:18.015737Z"
    }
   },
   "outputs": [
    {
     "data": {
      "text/plain": [
       "5"
      ]
     },
     "execution_count": 249,
     "metadata": {},
     "output_type": "execute_result"
    }
   ],
   "source": [
    "s.count()"
   ]
  },
  {
   "cell_type": "code",
   "execution_count": 84,
   "metadata": {
    "ExecuteTime": {
     "end_time": "2020-03-02T19:30:14.277880Z",
     "start_time": "2020-03-02T19:30:14.272206Z"
    }
   },
   "outputs": [
    {
     "data": {
      "text/plain": [
       "5"
      ]
     },
     "execution_count": 84,
     "metadata": {},
     "output_type": "execute_result"
    }
   ],
   "source": [
    "len(s)"
   ]
  },
  {
   "cell_type": "markdown",
   "metadata": {},
   "source": [
    "####  Imprimir líneas - head() y tail()"
   ]
  },
  {
   "cell_type": "markdown",
   "metadata": {},
   "source": [
    "El método head() y tail() son útiles para visualizar de formar rápida como es la Serie sin tener que imprimirla toda en pantalla y gastar recursos.\n",
    "- El método **head()** imprime las 5 primeras líneas de la Serie\n",
    "- El método **tail()** imprime las 5 últimas líneas"
   ]
  },
  {
   "cell_type": "code",
   "execution_count": 256,
   "metadata": {
    "ExecuteTime": {
     "end_time": "2020-02-15T10:16:27.051197Z",
     "start_time": "2020-02-15T10:16:27.044583Z"
    }
   },
   "outputs": [
    {
     "data": {
      "text/plain": [
       "a    1.093824\n",
       "b   -1.249984\n",
       "c    0.518705\n",
       "d   -0.196051\n",
       "e    0.818933\n",
       "dtype: float64"
      ]
     },
     "execution_count": 256,
     "metadata": {},
     "output_type": "execute_result"
    }
   ],
   "source": [
    "s"
   ]
  },
  {
   "cell_type": "code",
   "execution_count": 85,
   "metadata": {
    "ExecuteTime": {
     "end_time": "2020-03-02T19:31:13.367689Z",
     "start_time": "2020-03-02T19:31:13.360896Z"
    }
   },
   "outputs": [
    {
     "data": {
      "text/plain": [
       "e   -1.665909\n",
       "e   -0.457468\n",
       "e    0.277982\n",
       "dtype: float64"
      ]
     },
     "execution_count": 85,
     "metadata": {},
     "output_type": "execute_result"
    }
   ],
   "source": [
    "s.head(3)"
   ]
  },
  {
   "cell_type": "code",
   "execution_count": 86,
   "metadata": {
    "ExecuteTime": {
     "end_time": "2020-03-02T19:31:21.214011Z",
     "start_time": "2020-03-02T19:31:21.206552Z"
    }
   },
   "outputs": [
    {
     "data": {
      "text/plain": [
       "e   -0.107913\n",
       "dtype: float64"
      ]
     },
     "execution_count": 86,
     "metadata": {},
     "output_type": "execute_result"
    }
   ],
   "source": [
    "s.tail(1)"
   ]
  },
  {
   "cell_type": "markdown",
   "metadata": {},
   "source": [
    "En cualquier caso, se pueden especificar el nº de elementos que queremos imprimir"
   ]
  },
  {
   "cell_type": "code",
   "execution_count": 259,
   "metadata": {
    "ExecuteTime": {
     "end_time": "2020-02-15T10:16:27.749701Z",
     "start_time": "2020-02-15T10:16:27.743021Z"
    }
   },
   "outputs": [
    {
     "data": {
      "text/plain": [
       "a    1.093824\n",
       "b   -1.249984\n",
       "dtype: float64"
      ]
     },
     "execution_count": 259,
     "metadata": {},
     "output_type": "execute_result"
    }
   ],
   "source": [
    "s.head(2)"
   ]
  },
  {
   "cell_type": "code",
   "execution_count": 261,
   "metadata": {
    "ExecuteTime": {
     "end_time": "2020-02-15T10:16:36.773532Z",
     "start_time": "2020-02-15T10:16:36.764410Z"
    }
   },
   "outputs": [
    {
     "data": {
      "text/plain": [
       "c    0.518705\n",
       "d   -0.196051\n",
       "e    0.818933\n",
       "dtype: float64"
      ]
     },
     "execution_count": 261,
     "metadata": {},
     "output_type": "execute_result"
    }
   ],
   "source": [
    "s.tail(3)"
   ]
  },
  {
   "cell_type": "markdown",
   "metadata": {},
   "source": [
    "#### Estadísticas de una Serie"
   ]
  },
  {
   "cell_type": "markdown",
   "metadata": {},
   "source": [
    "- Mínimo"
   ]
  },
  {
   "cell_type": "code",
   "execution_count": 251,
   "metadata": {
    "ExecuteTime": {
     "end_time": "2020-02-15T10:16:20.673265Z",
     "start_time": "2020-02-15T10:16:20.665199Z"
    }
   },
   "outputs": [
    {
     "data": {
      "text/plain": [
       "-1.2499842976823539"
      ]
     },
     "execution_count": 251,
     "metadata": {},
     "output_type": "execute_result"
    }
   ],
   "source": [
    "s.min()"
   ]
  },
  {
   "cell_type": "markdown",
   "metadata": {},
   "source": [
    "- Valor máximo"
   ]
  },
  {
   "cell_type": "code",
   "execution_count": 252,
   "metadata": {
    "ExecuteTime": {
     "end_time": "2020-02-15T10:16:21.023698Z",
     "start_time": "2020-02-15T10:16:21.016471Z"
    }
   },
   "outputs": [
    {
     "data": {
      "text/plain": [
       "1.0938244083677577"
      ]
     },
     "execution_count": 252,
     "metadata": {},
     "output_type": "execute_result"
    }
   ],
   "source": [
    "s.max()"
   ]
  },
  {
   "cell_type": "markdown",
   "metadata": {},
   "source": [
    "- Media de la Serie"
   ]
  },
  {
   "cell_type": "code",
   "execution_count": 253,
   "metadata": {
    "ExecuteTime": {
     "end_time": "2020-02-15T10:16:21.368305Z",
     "start_time": "2020-02-15T10:16:21.361294Z"
    }
   },
   "outputs": [
    {
     "data": {
      "text/plain": [
       "0.19708545246937495"
      ]
     },
     "execution_count": 253,
     "metadata": {},
     "output_type": "execute_result"
    }
   ],
   "source": [
    "s.mean()"
   ]
  },
  {
   "cell_type": "markdown",
   "metadata": {},
   "source": [
    "- Desviación estándar"
   ]
  },
  {
   "cell_type": "code",
   "execution_count": 254,
   "metadata": {
    "ExecuteTime": {
     "end_time": "2020-02-15T10:16:22.241454Z",
     "start_time": "2020-02-15T10:16:22.235719Z"
    }
   },
   "outputs": [
    {
     "data": {
      "text/plain": [
       "0.9411219599554942"
      ]
     },
     "execution_count": 254,
     "metadata": {},
     "output_type": "execute_result"
    }
   ],
   "source": [
    "s.std()"
   ]
  },
  {
   "cell_type": "markdown",
   "metadata": {},
   "source": [
    "#### Método describe() "
   ]
  },
  {
   "cell_type": "markdown",
   "metadata": {},
   "source": [
    "Este método devuelve un objeto serie con indice que informan de varias nociones estadísticas de la Serie, como las que hemos revisitado individualmente justo ahora"
   ]
  },
  {
   "cell_type": "code",
   "execution_count": 255,
   "metadata": {
    "ExecuteTime": {
     "end_time": "2020-02-15T10:16:26.218859Z",
     "start_time": "2020-02-15T10:16:26.209132Z"
    }
   },
   "outputs": [
    {
     "data": {
      "text/plain": [
       "count    5.000000\n",
       "mean     0.197085\n",
       "std      0.941122\n",
       "min     -1.249984\n",
       "25%     -0.196051\n",
       "50%      0.518705\n",
       "75%      0.818933\n",
       "max      1.093824\n",
       "dtype: float64"
      ]
     },
     "execution_count": 255,
     "metadata": {},
     "output_type": "execute_result"
    }
   ],
   "source": [
    "s.describe()"
   ]
  },
  {
   "cell_type": "markdown",
   "metadata": {},
   "source": [
    "### Operaciones Vectorizadas en Series"
   ]
  },
  {
   "cell_type": "markdown",
   "metadata": {},
   "source": [
    "De la misma forma que los arrays de NumPy nos permiten trabajar con operaciones vectorizadas, elemento a elemento, sin tener que usar for loops, las Series de Pandas también nos permiten este tipo de operaciones.\n",
    "Así, podemos usar la mayoría de métodos de NumPy para series de Pandas"
   ]
  },
  {
   "cell_type": "markdown",
   "metadata": {},
   "source": [
    "#### Operaciones con Escalares"
   ]
  },
  {
   "cell_type": "markdown",
   "metadata": {},
   "source": [
    "**EJERCICIO**\n",
    "\n",
    "Generar una serie a partir de un array de números aleatorios, \n",
    "\n",
    "arr = np.random.randn(20)\n",
    "- describir la serie\n",
    "- imprimir primeros 6 elementos\n",
    "- imprimir últimos 4 elementos\n",
    "- sumar 2 a la serie\n",
    "- dividir por 40"
   ]
  },
  {
   "cell_type": "code",
   "execution_count": 87,
   "metadata": {
    "ExecuteTime": {
     "end_time": "2020-03-02T19:41:43.449684Z",
     "start_time": "2020-03-02T19:41:43.441994Z"
    }
   },
   "outputs": [
    {
     "data": {
      "text/plain": [
       "0    -1.238885\n",
       "1     1.115495\n",
       "2     0.769747\n",
       "3     0.607002\n",
       "4     2.444681\n",
       "5    -0.892723\n",
       "6    -0.619843\n",
       "7    -0.080347\n",
       "8     1.152964\n",
       "9     0.619545\n",
       "10   -0.952586\n",
       "11   -0.190146\n",
       "12   -0.101838\n",
       "13    0.909312\n",
       "14    0.159007\n",
       "15   -0.276578\n",
       "16    0.527529\n",
       "17    1.335700\n",
       "18    0.256596\n",
       "19    0.309282\n",
       "dtype: float64"
      ]
     },
     "execution_count": 87,
     "metadata": {},
     "output_type": "execute_result"
    }
   ],
   "source": [
    "arr1 = np.random.randn(20)\n",
    "series1 = pd.Series(arr1)\n",
    "series1"
   ]
  },
  {
   "cell_type": "code",
   "execution_count": 88,
   "metadata": {
    "ExecuteTime": {
     "end_time": "2020-03-02T19:42:03.835314Z",
     "start_time": "2020-03-02T19:42:03.824279Z"
    }
   },
   "outputs": [
    {
     "data": {
      "text/plain": [
       "count    20.000000\n",
       "mean      0.292696\n",
       "std       0.888831\n",
       "min      -1.238885\n",
       "25%      -0.211754\n",
       "50%       0.282939\n",
       "75%       0.804638\n",
       "max       2.444681\n",
       "dtype: float64"
      ]
     },
     "execution_count": 88,
     "metadata": {},
     "output_type": "execute_result"
    }
   ],
   "source": [
    "series1.describe()"
   ]
  },
  {
   "cell_type": "code",
   "execution_count": 89,
   "metadata": {
    "ExecuteTime": {
     "end_time": "2020-03-02T19:42:21.116058Z",
     "start_time": "2020-03-02T19:42:21.108668Z"
    }
   },
   "outputs": [
    {
     "data": {
      "text/plain": [
       "0   -1.238885\n",
       "1    1.115495\n",
       "2    0.769747\n",
       "3    0.607002\n",
       "4    2.444681\n",
       "5   -0.892723\n",
       "dtype: float64"
      ]
     },
     "execution_count": 89,
     "metadata": {},
     "output_type": "execute_result"
    }
   ],
   "source": [
    "series1.head(6)"
   ]
  },
  {
   "cell_type": "code",
   "execution_count": 90,
   "metadata": {
    "ExecuteTime": {
     "end_time": "2020-03-02T19:42:28.466804Z",
     "start_time": "2020-03-02T19:42:28.460273Z"
    }
   },
   "outputs": [
    {
     "data": {
      "text/plain": [
       "16    0.527529\n",
       "17    1.335700\n",
       "18    0.256596\n",
       "19    0.309282\n",
       "dtype: float64"
      ]
     },
     "execution_count": 90,
     "metadata": {},
     "output_type": "execute_result"
    }
   ],
   "source": [
    "series1.tail(4)"
   ]
  },
  {
   "cell_type": "code",
   "execution_count": 92,
   "metadata": {
    "ExecuteTime": {
     "end_time": "2020-03-02T19:42:57.044469Z",
     "start_time": "2020-03-02T19:42:57.037164Z"
    }
   },
   "outputs": [
    {
     "data": {
      "text/plain": [
       "0    -0.030972\n",
       "1     0.027887\n",
       "2     0.019244\n",
       "3     0.015175\n",
       "4     0.061117\n",
       "5    -0.022318\n",
       "6    -0.015496\n",
       "7    -0.002009\n",
       "8     0.028824\n",
       "9     0.015489\n",
       "10   -0.023815\n",
       "11   -0.004754\n",
       "12   -0.002546\n",
       "13    0.022733\n",
       "14    0.003975\n",
       "15   -0.006914\n",
       "16    0.013188\n",
       "17    0.033392\n",
       "18    0.006415\n",
       "19    0.007732\n",
       "dtype: float64"
      ]
     },
     "execution_count": 92,
     "metadata": {},
     "output_type": "execute_result"
    }
   ],
   "source": [
    "series1/"
   ]
  },
  {
   "cell_type": "code",
   "execution_count": null,
   "metadata": {},
   "outputs": [],
   "source": []
  },
  {
   "cell_type": "code",
   "execution_count": 416,
   "metadata": {
    "ExecuteTime": {
     "end_time": "2020-02-15T12:53:36.287273Z",
     "start_time": "2020-02-15T12:53:36.282218Z"
    }
   },
   "outputs": [],
   "source": [
    "s = pd.Series(np.random.randn(5), index=['a', 'b', 'c', 'd', 'e'])"
   ]
  },
  {
   "cell_type": "code",
   "execution_count": 417,
   "metadata": {
    "ExecuteTime": {
     "end_time": "2020-02-15T12:53:42.529672Z",
     "start_time": "2020-02-15T12:53:42.523051Z"
    }
   },
   "outputs": [
    {
     "data": {
      "text/plain": [
       "a    2.060750\n",
       "b    3.137033\n",
       "c    4.502979\n",
       "d    3.775316\n",
       "e    3.897223\n",
       "dtype: float64"
      ]
     },
     "execution_count": 417,
     "metadata": {},
     "output_type": "execute_result"
    }
   ],
   "source": [
    "s + 2"
   ]
  },
  {
   "cell_type": "code",
   "execution_count": 418,
   "metadata": {
    "ExecuteTime": {
     "end_time": "2020-02-15T12:53:47.049567Z",
     "start_time": "2020-02-15T12:53:47.041381Z"
    }
   },
   "outputs": [
    {
     "data": {
      "text/plain": [
       "a    0.121499\n",
       "b    2.274065\n",
       "c    5.005958\n",
       "d    3.550631\n",
       "e    3.794445\n",
       "dtype: float64"
      ]
     },
     "execution_count": 418,
     "metadata": {},
     "output_type": "execute_result"
    }
   ],
   "source": [
    "s * 2"
   ]
  },
  {
   "cell_type": "code",
   "execution_count": 419,
   "metadata": {
    "ExecuteTime": {
     "end_time": "2020-02-15T12:54:26.500227Z",
     "start_time": "2020-02-15T12:54:26.493329Z"
    }
   },
   "outputs": [
    {
     "data": {
      "text/plain": [
       "a    0.020250\n",
       "b    0.379011\n",
       "c    0.834326\n",
       "d    0.591772\n",
       "e    0.632408\n",
       "dtype: float64"
      ]
     },
     "execution_count": 419,
     "metadata": {},
     "output_type": "execute_result"
    }
   ],
   "source": [
    "s / 3"
   ]
  },
  {
   "cell_type": "markdown",
   "metadata": {},
   "source": [
    "#### Funciones de NumPy"
   ]
  },
  {
   "cell_type": "markdown",
   "metadata": {},
   "source": [
    "Y como decíamos, podemos aplicar las funciones de NumPy tranquilamente:"
   ]
  },
  {
   "cell_type": "code",
   "execution_count": 420,
   "metadata": {
    "ExecuteTime": {
     "end_time": "2020-02-15T12:55:16.176226Z",
     "start_time": "2020-02-15T12:55:16.165104Z"
    }
   },
   "outputs": [
    {
     "data": {
      "text/plain": [
       "a     1.062633\n",
       "b     3.117503\n",
       "c    12.218839\n",
       "d     5.902144\n",
       "e     6.667350\n",
       "dtype: float64"
      ]
     },
     "execution_count": 420,
     "metadata": {},
     "output_type": "execute_result"
    }
   ],
   "source": [
    "np.exp(s)"
   ]
  },
  {
   "cell_type": "markdown",
   "metadata": {},
   "source": [
    "#### Funciones vectorizadas"
   ]
  },
  {
   "cell_type": "markdown",
   "metadata": {},
   "source": [
    "**Importante!** Una diferencia sustancial entre las Series y un array de NumPy es que las operaciones entre Series se alinean automáticamente en base a las etiquetas. Es decir, puedes realizar **cálculos sin tener que considerar si las Series involucradas tienen las mismas etiquetas**, eso se gestiona automáticamente."
   ]
  },
  {
   "cell_type": "markdown",
   "metadata": {},
   "source": [
    "**Importante!** El resultado de una operación entre Series *desalineadas*, en el sentido que tienen distinas etiquetas, resultará en la **unión de los índices involucrados**. \n",
    "\n",
    "**Si una etiqueta no se encuentra en el conjunto de etiquetas de la otra Serie** la Serie resultante **contendrá esta etiqueta pero con un elemento vacío NaN**. \n",
    "\n",
    "Eso proporciona una ventaja y flexibilidad enorme a la hora de desarrollar análisis de datos y representa. un aspecto diferencial de Pandas respecto a otras herramientas para trabajar con datos etiquetados."
   ]
  },
  {
   "cell_type": "markdown",
   "metadata": {},
   "source": [
    "###### EJEMPLO - Suma de Series con mismos índices"
   ]
  },
  {
   "cell_type": "code",
   "execution_count": 421,
   "metadata": {
    "ExecuteTime": {
     "end_time": "2020-02-15T13:07:56.096315Z",
     "start_time": "2020-02-15T13:07:56.090343Z"
    }
   },
   "outputs": [],
   "source": [
    "s = pd.Series(np.random.randn(5), index=['a', 'b', 'c', 'd', 'e'])"
   ]
  },
  {
   "cell_type": "code",
   "execution_count": 422,
   "metadata": {
    "ExecuteTime": {
     "end_time": "2020-02-15T13:07:56.432644Z",
     "start_time": "2020-02-15T13:07:56.425605Z"
    }
   },
   "outputs": [
    {
     "data": {
      "text/plain": [
       "a    1.806725\n",
       "b    0.079707\n",
       "c   -2.741632\n",
       "d    0.529900\n",
       "e   -0.198905\n",
       "dtype: float64"
      ]
     },
     "execution_count": 422,
     "metadata": {},
     "output_type": "execute_result"
    }
   ],
   "source": [
    "s+s"
   ]
  },
  {
   "cell_type": "markdown",
   "metadata": {},
   "source": [
    "##### EJEMPLO - Resta de Series con *mismatched* índices"
   ]
  },
  {
   "cell_type": "code",
   "execution_count": 95,
   "metadata": {
    "ExecuteTime": {
     "end_time": "2020-03-02T19:44:34.640084Z",
     "start_time": "2020-03-02T19:44:34.632830Z"
    }
   },
   "outputs": [
    {
     "data": {
      "text/plain": [
       "a   -0.202553\n",
       "b    0.981862\n",
       "c    2.550728\n",
       "d   -3.067679\n",
       "e    0.359007\n",
       "dtype: float64"
      ]
     },
     "execution_count": 95,
     "metadata": {},
     "output_type": "execute_result"
    }
   ],
   "source": [
    "s = pd.Series(np.random.randn(5), index=['a', 'b', 'c', 'd', 'e'])\n",
    "s"
   ]
  },
  {
   "cell_type": "code",
   "execution_count": 96,
   "metadata": {
    "ExecuteTime": {
     "end_time": "2020-03-02T19:44:35.553435Z",
     "start_time": "2020-03-02T19:44:35.543940Z"
    }
   },
   "outputs": [
    {
     "data": {
      "text/plain": [
       "h    0.518068\n",
       "b    0.258594\n",
       "c   -0.418824\n",
       "d   -0.076788\n",
       "e   -1.546044\n",
       "dtype: float64"
      ]
     },
     "execution_count": 96,
     "metadata": {},
     "output_type": "execute_result"
    }
   ],
   "source": [
    "a = pd.Series(np.random.randn(5), index=['h', 'b', 'c', 'd', 'e'])\n",
    "a"
   ]
  },
  {
   "cell_type": "code",
   "execution_count": 97,
   "metadata": {
    "ExecuteTime": {
     "end_time": "2020-03-02T19:44:47.036169Z",
     "start_time": "2020-03-02T19:44:47.027870Z"
    }
   },
   "outputs": [
    {
     "data": {
      "text/plain": [
       "a         NaN\n",
       "b    1.240456\n",
       "c    2.131904\n",
       "d   -3.144468\n",
       "e   -1.187037\n",
       "h         NaN\n",
       "dtype: float64"
      ]
     },
     "execution_count": 97,
     "metadata": {},
     "output_type": "execute_result"
    }
   ],
   "source": [
    "s + a "
   ]
  },
  {
   "cell_type": "code",
   "execution_count": 425,
   "metadata": {
    "ExecuteTime": {
     "end_time": "2020-02-15T13:08:22.638415Z",
     "start_time": "2020-02-15T13:08:22.630676Z"
    }
   },
   "outputs": [
    {
     "data": {
      "text/plain": [
       "h    0.864882\n",
       "b    0.711678\n",
       "c   -0.137657\n",
       "d   -0.491053\n",
       "e    1.033521\n",
       "dtype: float64"
      ]
     },
     "execution_count": 425,
     "metadata": {},
     "output_type": "execute_result"
    }
   ],
   "source": [
    "a"
   ]
  },
  {
   "cell_type": "code",
   "execution_count": 426,
   "metadata": {
    "ExecuteTime": {
     "end_time": "2020-02-15T13:08:26.136654Z",
     "start_time": "2020-02-15T13:08:26.128437Z"
    }
   },
   "outputs": [
    {
     "data": {
      "text/plain": [
       "a         NaN\n",
       "b   -0.671825\n",
       "c   -1.233159\n",
       "d    0.756003\n",
       "e   -1.132973\n",
       "h         NaN\n",
       "dtype: float64"
      ]
     },
     "execution_count": 426,
     "metadata": {},
     "output_type": "execute_result"
    }
   ],
   "source": [
    "s - a"
   ]
  },
  {
   "cell_type": "markdown",
   "metadata": {},
   "source": [
    "## Slice de una Serie"
   ]
  },
  {
   "cell_type": "markdown",
   "metadata": {},
   "source": [
    "Seleccionar elementos de una Serie se basa en varias condiciones que revisaremos a continuación"
   ]
  },
  {
   "cell_type": "markdown",
   "metadata": {},
   "source": [
    "### Por Etiquetas"
   ]
  },
  {
   "cell_type": "code",
   "execution_count": 55,
   "metadata": {
    "ExecuteTime": {
     "end_time": "2021-02-04T21:06:56.002086Z",
     "start_time": "2021-02-04T21:06:55.986087Z"
    }
   },
   "outputs": [
    {
     "data": {
      "text/plain": [
       "0    1.0\n",
       "1    2.0\n",
       "2    3.0\n",
       "3    4.0\n",
       "dtype: float64"
      ]
     },
     "execution_count": 55,
     "metadata": {},
     "output_type": "execute_result"
    }
   ],
   "source": [
    "array = [1.0,2.0,3.0, 4.0]\n",
    "mi_serie = pd.Series(data = array)\n",
    "mi_serie"
   ]
  },
  {
   "cell_type": "code",
   "execution_count": 56,
   "metadata": {
    "ExecuteTime": {
     "end_time": "2021-02-04T21:06:56.507946Z",
     "start_time": "2021-02-04T21:06:56.493397Z"
    }
   },
   "outputs": [
    {
     "data": {
      "text/plain": [
       "1.0"
      ]
     },
     "execution_count": 56,
     "metadata": {},
     "output_type": "execute_result"
    }
   ],
   "source": [
    "mi_serie[0]"
   ]
  },
  {
   "cell_type": "markdown",
   "metadata": {},
   "source": [
    "#### filter()"
   ]
  },
  {
   "cell_type": "code",
   "execution_count": 57,
   "metadata": {
    "ExecuteTime": {
     "end_time": "2021-02-04T21:06:57.781171Z",
     "start_time": "2021-02-04T21:06:57.767105Z"
    }
   },
   "outputs": [
    {
     "name": "stdout",
     "output_type": "stream",
     "text": [
      "filtramos y nos quedamos con etiquetas 1,2 =>\n",
      "\n",
      "1    2.0\n",
      "2    3.0\n",
      "dtype: float64\n"
     ]
    }
   ],
   "source": [
    "print ('filtramos y nos quedamos con etiquetas 1,2 =>\\n')\n",
    "print (mi_serie.filter(items=[1, 2]))\n"
   ]
  },
  {
   "cell_type": "markdown",
   "metadata": {
    "ExecuteTime": {
     "end_time": "2020-02-15T09:49:49.483261Z",
     "start_time": "2020-02-15T09:49:49.477191Z"
    }
   },
   "source": [
    "Que de hecho, es análogo a si especificamos lista de índices con los que nos queremos quedar!"
   ]
  },
  {
   "cell_type": "code",
   "execution_count": 63,
   "metadata": {
    "ExecuteTime": {
     "end_time": "2021-02-04T21:09:04.405185Z",
     "start_time": "2021-02-04T21:09:04.389189Z"
    }
   },
   "outputs": [
    {
     "data": {
      "text/plain": [
       "2    3.0\n",
       "dtype: float64"
      ]
     },
     "execution_count": 63,
     "metadata": {},
     "output_type": "execute_result"
    }
   ],
   "source": [
    "mi_serie.filter(like='2')"
   ]
  },
  {
   "cell_type": "markdown",
   "metadata": {},
   "source": [
    "#### slicing [ ]"
   ]
  },
  {
   "cell_type": "code",
   "execution_count": 105,
   "metadata": {
    "ExecuteTime": {
     "end_time": "2020-03-02T19:48:00.389463Z",
     "start_time": "2020-03-02T19:48:00.383160Z"
    }
   },
   "outputs": [
    {
     "name": "stdout",
     "output_type": "stream",
     "text": [
      "Filtramos y nos quedamos con etiquetas 1,2,6 =>\n",
      "\n",
      "1    2.0\n",
      "2    3.0\n",
      "dtype: float64\n"
     ]
    }
   ],
   "source": [
    "print ('Filtramos y nos quedamos con etiquetas 1,2,6 =>\\n')\n",
    "print (mi_serie[[1, 2]])\n"
   ]
  },
  {
   "cell_type": "code",
   "execution_count": 194,
   "metadata": {
    "ExecuteTime": {
     "end_time": "2020-02-15T09:50:23.968114Z",
     "start_time": "2020-02-15T09:50:23.962410Z"
    }
   },
   "outputs": [
    {
     "name": "stdout",
     "output_type": "stream",
     "text": [
      "1    2.0\n",
      "2    3.0\n",
      "6    6.0\n",
      "dtype: float64\n"
     ]
    }
   ],
   "source": [
    "subset_indices = [1,2,6]\n",
    "print (x[subset_indices])"
   ]
  },
  {
   "cell_type": "markdown",
   "metadata": {},
   "source": [
    "##### EJEMPLO"
   ]
  },
  {
   "cell_type": "code",
   "execution_count": 64,
   "metadata": {
    "ExecuteTime": {
     "end_time": "2021-02-04T21:10:34.996276Z",
     "start_time": "2021-02-04T21:10:34.978262Z"
    }
   },
   "outputs": [],
   "source": [
    "ciudades = ['Barcelona','Madrid','Tokio']\n",
    "index_ciudades = ['Ciudad 1', 'Ciudad 2', 'Ciudad 3']  \n"
   ]
  },
  {
   "cell_type": "code",
   "execution_count": 65,
   "metadata": {
    "ExecuteTime": {
     "end_time": "2021-02-04T21:10:35.535233Z",
     "start_time": "2021-02-04T21:10:35.525914Z"
    }
   },
   "outputs": [
    {
     "data": {
      "text/plain": [
       "Ciudad 1    Barcelona\n",
       "Ciudad 2       Madrid\n",
       "Ciudad 3        Tokio\n",
       "dtype: object"
      ]
     },
     "execution_count": 65,
     "metadata": {},
     "output_type": "execute_result"
    }
   ],
   "source": [
    "mi_serie = pd.Series(data = ciudades, index = index_ciudades)\n",
    "mi_serie"
   ]
  },
  {
   "cell_type": "code",
   "execution_count": 66,
   "metadata": {
    "ExecuteTime": {
     "end_time": "2021-02-04T21:10:36.325898Z",
     "start_time": "2021-02-04T21:10:36.310256Z"
    }
   },
   "outputs": [],
   "source": [
    "#filtrar elemento ciudad 1 y ciudad 2 mediante el método filter()"
   ]
  },
  {
   "cell_type": "code",
   "execution_count": 70,
   "metadata": {
    "ExecuteTime": {
     "end_time": "2021-02-04T21:12:08.889501Z",
     "start_time": "2021-02-04T21:12:08.866444Z"
    }
   },
   "outputs": [
    {
     "data": {
      "text/plain": [
       "Ciudad 1    Barcelona\n",
       "Ciudad 2       Madrid\n",
       "dtype: object"
      ]
     },
     "execution_count": 70,
     "metadata": {},
     "output_type": "execute_result"
    }
   ],
   "source": [
    "filtro = [\"Ciudad 1\", \"Ciudad 2\"]\n",
    "\n",
    "mi_serie.filter(items=filtro)"
   ]
  },
  {
   "cell_type": "code",
   "execution_count": null,
   "metadata": {},
   "outputs": [],
   "source": [
    "#filtrar elemento ciudad 1 y ciudad 3 mediante slicing []"
   ]
  },
  {
   "cell_type": "code",
   "execution_count": 114,
   "metadata": {
    "ExecuteTime": {
     "end_time": "2020-03-02T19:54:55.493643Z",
     "start_time": "2020-03-02T19:54:55.486034Z"
    }
   },
   "outputs": [
    {
     "data": {
      "text/plain": [
       "Ciudad 1    Barcelona\n",
       "Ciudad 2       Madrid\n",
       "dtype: object"
      ]
     },
     "execution_count": 114,
     "metadata": {},
     "output_type": "execute_result"
    }
   ],
   "source": [
    "mi_serie[ [\"Ciudad 1\", \"Ciudad 2\"]  ]"
   ]
  },
  {
   "cell_type": "code",
   "execution_count": 73,
   "metadata": {
    "ExecuteTime": {
     "end_time": "2021-02-04T21:14:13.436396Z",
     "start_time": "2021-02-04T21:14:13.424289Z"
    }
   },
   "outputs": [],
   "source": [
    "subset_ciudades = ['Ciudad 2', 'Ciudad 4']"
   ]
  },
  {
   "cell_type": "code",
   "execution_count": 76,
   "metadata": {
    "ExecuteTime": {
     "end_time": "2021-02-04T21:14:52.913068Z",
     "start_time": "2021-02-04T21:14:52.902078Z"
    }
   },
   "outputs": [
    {
     "data": {
      "text/plain": [
       "Ciudad 2     Madrid\n",
       "Ciudad 4    Chicago\n",
       "dtype: object"
      ]
     },
     "execution_count": 76,
     "metadata": {},
     "output_type": "execute_result"
    }
   ],
   "source": [
    "dos_ciudades = mi_serie.filter(items = subset_ciudades) \n",
    "dos_ciudades"
   ]
  },
  {
   "cell_type": "code",
   "execution_count": 75,
   "metadata": {
    "ExecuteTime": {
     "end_time": "2021-02-04T21:14:49.465597Z",
     "start_time": "2021-02-04T21:14:49.454092Z"
    }
   },
   "outputs": [],
   "source": [
    "mi_serie['Ciudad 4'] = 'Chicago'"
   ]
  },
  {
   "cell_type": "code",
   "execution_count": 242,
   "metadata": {
    "ExecuteTime": {
     "end_time": "2020-02-15T10:09:23.636288Z",
     "start_time": "2020-02-15T10:09:23.630182Z"
    }
   },
   "outputs": [
    {
     "name": "stdout",
     "output_type": "stream",
     "text": [
      "Ciudad 2     Madrid\n",
      "Ciudad 4    Chicago\n",
      "dtype: object\n"
     ]
    }
   ],
   "source": [
    "print (ciudades[subset_ciudades])"
   ]
  },
  {
   "cell_type": "markdown",
   "metadata": {},
   "source": [
    "### Por Índices"
   ]
  },
  {
   "cell_type": "markdown",
   "metadata": {},
   "source": [
    "También es posible filtrar mediante la posición que ocupan los elementos en la serie, es decir, no mediante las etiquetas sino por índices"
   ]
  },
  {
   "cell_type": "code",
   "execution_count": 77,
   "metadata": {
    "ExecuteTime": {
     "end_time": "2021-02-04T21:18:37.828823Z",
     "start_time": "2021-02-04T21:18:37.787614Z"
    }
   },
   "outputs": [
    {
     "data": {
      "text/plain": [
       "a   -0.930653\n",
       "b    1.635263\n",
       "c    1.447196\n",
       "d   -0.610289\n",
       "e   -0.057787\n",
       "f   -1.204226\n",
       "g   -0.422089\n",
       "h   -0.862509\n",
       "i    0.132016\n",
       "j    0.415283\n",
       "dtype: float64"
      ]
     },
     "execution_count": 77,
     "metadata": {},
     "output_type": "execute_result"
    }
   ],
   "source": [
    "s = pd.Series(np.random.randn(10), ['a','b','c','d','e','f','g','h','i','j'])\n",
    "s"
   ]
  },
  {
   "cell_type": "code",
   "execution_count": 78,
   "metadata": {
    "ExecuteTime": {
     "end_time": "2021-02-04T21:18:38.068698Z",
     "start_time": "2021-02-04T21:18:38.056136Z"
    }
   },
   "outputs": [
    {
     "name": "stdout",
     "output_type": "stream",
     "text": [
      "Filtramos y nos quedamos con el 1r y 3r elementos =>\n",
      "\n",
      "a   -0.930653\n",
      "c    1.447196\n",
      "dtype: float64\n"
     ]
    }
   ],
   "source": [
    "print ('Filtramos y nos quedamos con el 1r y 3r elementos =>\\n')\n",
    "print (s[[0,2]])"
   ]
  },
  {
   "cell_type": "code",
   "execution_count": 79,
   "metadata": {
    "ExecuteTime": {
     "end_time": "2021-02-04T21:18:38.354391Z",
     "start_time": "2021-02-04T21:18:38.340366Z"
    }
   },
   "outputs": [
    {
     "name": "stdout",
     "output_type": "stream",
     "text": [
      "Filtramos y nos quedamos con un subset hasta el 4o elementos =>\n",
      "\n",
      "a   -0.930653\n",
      "b    1.635263\n",
      "c    1.447196\n",
      "d   -0.610289\n",
      "dtype: float64\n"
     ]
    }
   ],
   "source": [
    "print ('Filtramos y nos quedamos con un subset hasta el 4o elementos =>\\n')\n",
    "print (s[:4])"
   ]
  },
  {
   "cell_type": "markdown",
   "metadata": {},
   "source": [
    "#### Por condiciones Booleanas sobre los Valores"
   ]
  },
  {
   "cell_type": "code",
   "execution_count": 80,
   "metadata": {
    "ExecuteTime": {
     "end_time": "2021-02-04T21:18:39.563224Z",
     "start_time": "2021-02-04T21:18:39.548434Z"
    }
   },
   "outputs": [
    {
     "data": {
      "text/plain": [
       "a   -0.930653\n",
       "b    1.635263\n",
       "c    1.447196\n",
       "d   -0.610289\n",
       "e   -0.057787\n",
       "f   -1.204226\n",
       "g   -0.422089\n",
       "h   -0.862509\n",
       "i    0.132016\n",
       "j    0.415283\n",
       "dtype: float64"
      ]
     },
     "execution_count": 80,
     "metadata": {},
     "output_type": "execute_result"
    }
   ],
   "source": [
    "s"
   ]
  },
  {
   "cell_type": "code",
   "execution_count": 81,
   "metadata": {
    "ExecuteTime": {
     "end_time": "2021-02-04T21:18:41.117700Z",
     "start_time": "2021-02-04T21:18:41.078644Z"
    }
   },
   "outputs": [
    {
     "data": {
      "text/plain": [
       "a   -0.930653\n",
       "d   -0.610289\n",
       "e   -0.057787\n",
       "f   -1.204226\n",
       "g   -0.422089\n",
       "h   -0.862509\n",
       "dtype: float64"
      ]
     },
     "execution_count": 81,
     "metadata": {},
     "output_type": "execute_result"
    }
   ],
   "source": [
    "s[s < 0]"
   ]
  },
  {
   "cell_type": "code",
   "execution_count": 82,
   "metadata": {
    "ExecuteTime": {
     "end_time": "2021-02-04T21:18:50.857306Z",
     "start_time": "2021-02-04T21:18:50.835688Z"
    }
   },
   "outputs": [
    {
     "data": {
      "text/plain": [
       "b    1.635263\n",
       "c    1.447196\n",
       "i    0.132016\n",
       "j    0.415283\n",
       "dtype: float64"
      ]
     },
     "execution_count": 82,
     "metadata": {},
     "output_type": "execute_result"
    }
   ],
   "source": [
    "s[(s > 0) & (s < 2)]"
   ]
  },
  {
   "cell_type": "code",
   "execution_count": 83,
   "metadata": {
    "ExecuteTime": {
     "end_time": "2021-02-04T21:19:01.891281Z",
     "start_time": "2021-02-04T21:19:01.867667Z"
    }
   },
   "outputs": [
    {
     "data": {
      "text/plain": [
       "a   -0.930653\n",
       "b    1.635263\n",
       "c    1.447196\n",
       "d   -0.610289\n",
       "e   -0.057787\n",
       "f   -1.204226\n",
       "g   -0.422089\n",
       "h   -0.862509\n",
       "i    0.132016\n",
       "j    0.415283\n",
       "dtype: float64"
      ]
     },
     "execution_count": 83,
     "metadata": {},
     "output_type": "execute_result"
    }
   ],
   "source": [
    "s[(s > 0) | (s < 2)]"
   ]
  },
  {
   "cell_type": "code",
   "execution_count": 283,
   "metadata": {
    "ExecuteTime": {
     "end_time": "2020-02-15T10:26:46.800476Z",
     "start_time": "2020-02-15T10:26:46.791858Z"
    }
   },
   "outputs": [
    {
     "data": {
      "text/plain": [
       "a    0.338581\n",
       "b    1.619666\n",
       "c    0.104276\n",
       "d    0.021430\n",
       "i    0.813317\n",
       "dtype: float64"
      ]
     },
     "execution_count": 283,
     "metadata": {},
     "output_type": "execute_result"
    }
   ],
   "source": [
    "s[s > s.median()]"
   ]
  },
  {
   "cell_type": "markdown",
   "metadata": {},
   "source": [
    "#### Por Rango de Valores - between( )"
   ]
  },
  {
   "cell_type": "markdown",
   "metadata": {},
   "source": [
    "El método between() nos permite devolver una Serie de valores booleanos indicando si cada elemento de la serie está dentro del rango especificado"
   ]
  },
  {
   "cell_type": "code",
   "execution_count": 84,
   "metadata": {
    "ExecuteTime": {
     "end_time": "2021-02-04T21:19:45.151325Z",
     "start_time": "2021-02-04T21:19:45.134692Z"
    }
   },
   "outputs": [],
   "source": [
    "import pandas as pd"
   ]
  },
  {
   "cell_type": "code",
   "execution_count": 85,
   "metadata": {
    "ExecuteTime": {
     "end_time": "2021-02-04T21:19:46.066245Z",
     "start_time": "2021-02-04T21:19:46.054701Z"
    }
   },
   "outputs": [
    {
     "data": {
      "text/plain": [
       "a   -1.423940\n",
       "b    0.307512\n",
       "c    1.073986\n",
       "d   -0.173098\n",
       "e   -0.241763\n",
       "f   -0.629002\n",
       "g   -0.125687\n",
       "h   -0.212797\n",
       "i    1.236760\n",
       "j   -0.721242\n",
       "dtype: float64"
      ]
     },
     "execution_count": 85,
     "metadata": {},
     "output_type": "execute_result"
    }
   ],
   "source": [
    "s = pd.Series(np.random.randn(10), ['a','b','c','d','e','f','g','h','i','j'])\n",
    "s"
   ]
  },
  {
   "cell_type": "code",
   "execution_count": 86,
   "metadata": {
    "ExecuteTime": {
     "end_time": "2021-02-04T21:19:48.746777Z",
     "start_time": "2021-02-04T21:19:48.735774Z"
    }
   },
   "outputs": [
    {
     "data": {
      "text/plain": [
       "a    False\n",
       "b     True\n",
       "c    False\n",
       "d    False\n",
       "e    False\n",
       "f    False\n",
       "g    False\n",
       "h    False\n",
       "i    False\n",
       "j    False\n",
       "dtype: bool"
      ]
     },
     "execution_count": 86,
     "metadata": {},
     "output_type": "execute_result"
    }
   ],
   "source": [
    "s.between(0,1)"
   ]
  },
  {
   "cell_type": "markdown",
   "metadata": {},
   "source": [
    "Mediante esta Serie booleana que nos devuelve el *between()* **podemos generar una nueva serie con los valores True que cumplen la condición del between()**"
   ]
  },
  {
   "cell_type": "code",
   "execution_count": 87,
   "metadata": {
    "ExecuteTime": {
     "end_time": "2021-02-04T21:20:05.472779Z",
     "start_time": "2021-02-04T21:20:05.459783Z"
    },
    "scrolled": true
   },
   "outputs": [
    {
     "data": {
      "text/plain": [
       "b    0.307512\n",
       "dtype: float64"
      ]
     },
     "execution_count": 87,
     "metadata": {},
     "output_type": "execute_result"
    }
   ],
   "source": [
    "s[s.between(0,1)]"
   ]
  },
  {
   "cell_type": "markdown",
   "metadata": {},
   "source": [
    "## Concatenar Series - append()"
   ]
  },
  {
   "cell_type": "markdown",
   "metadata": {},
   "source": [
    "### Concatenación de Series"
   ]
  },
  {
   "cell_type": "markdown",
   "metadata": {},
   "source": [
    "#### append()"
   ]
  },
  {
   "cell_type": "markdown",
   "metadata": {},
   "source": [
    "Añadir elementos a una Serie es posible mediante el método append(). \n",
    "\n",
    "El argumento de append() es un objeto Series o bien una lista o tupla de objetos Serie"
   ]
  },
  {
   "cell_type": "code",
   "execution_count": 101,
   "metadata": {
    "ExecuteTime": {
     "end_time": "2021-02-04T21:25:47.019067Z",
     "start_time": "2021-02-04T21:25:46.995981Z"
    }
   },
   "outputs": [
    {
     "data": {
      "text/plain": [
       "a    0\n",
       "b    4\n",
       "c    0\n",
       "d    2\n",
       "dtype: int32"
      ]
     },
     "execution_count": 101,
     "metadata": {},
     "output_type": "execute_result"
    }
   ],
   "source": [
    "serie_1  = pd.Series(np.random.randint(6,size=4), index = [\"a\",\"b\",\"c\",\"d\"])\n",
    "serie_1"
   ]
  },
  {
   "cell_type": "code",
   "execution_count": 94,
   "metadata": {
    "ExecuteTime": {
     "end_time": "2021-02-04T21:23:34.701762Z",
     "start_time": "2021-02-04T21:23:34.679726Z"
    }
   },
   "outputs": [
    {
     "data": {
      "text/plain": [
       "a    2000\n",
       "dtype: int64"
      ]
     },
     "execution_count": 94,
     "metadata": {},
     "output_type": "execute_result"
    }
   ],
   "source": [
    "serie_2 = pd.Series(2000, index = [\"a\"])\n",
    "serie_2"
   ]
  },
  {
   "cell_type": "code",
   "execution_count": 91,
   "metadata": {
    "ExecuteTime": {
     "end_time": "2021-02-04T21:22:23.442013Z",
     "start_time": "2021-02-04T21:22:23.421808Z"
    }
   },
   "outputs": [
    {
     "data": {
      "text/plain": [
       "0       3\n",
       "1       4\n",
       "2       0\n",
       "3       4\n",
       "4    2000\n",
       "dtype: int64"
      ]
     },
     "execution_count": 91,
     "metadata": {},
     "output_type": "execute_result"
    }
   ],
   "source": [
    "serie_1.append(serie_2,ignore_index=True)"
   ]
  },
  {
   "cell_type": "markdown",
   "metadata": {
    "ExecuteTime": {
     "end_time": "2020-02-15T09:07:09.312146Z",
     "start_time": "2020-02-15T09:07:09.300836Z"
    }
   },
   "source": [
    "Al no especificar índices, cada serie se inicia con el índice 0.\n",
    "Ahora probaremos de concatenar ambas series en una sóla. \n",
    "\n",
    "**¿Qué pasará con los índices?**"
   ]
  },
  {
   "cell_type": "code",
   "execution_count": 95,
   "metadata": {
    "ExecuteTime": {
     "end_time": "2021-02-04T21:23:38.605278Z",
     "start_time": "2021-02-04T21:23:38.594722Z"
    }
   },
   "outputs": [
    {
     "data": {
      "text/plain": [
       "a    2000\n",
       "a       3\n",
       "b       4\n",
       "c       0\n",
       "d       4\n",
       "dtype: int64"
      ]
     },
     "execution_count": 95,
     "metadata": {},
     "output_type": "execute_result"
    }
   ],
   "source": [
    "serie_2.append(serie_1)"
   ]
  },
  {
   "cell_type": "code",
   "execution_count": 96,
   "metadata": {
    "ExecuteTime": {
     "end_time": "2021-02-04T21:23:45.943890Z",
     "start_time": "2021-02-04T21:23:45.933886Z"
    }
   },
   "outputs": [
    {
     "data": {
      "text/plain": [
       "a       3\n",
       "b       4\n",
       "c       0\n",
       "d       4\n",
       "a    2000\n",
       "dtype: int64"
      ]
     },
     "execution_count": 96,
     "metadata": {},
     "output_type": "execute_result"
    }
   ],
   "source": [
    "serie_1.append(serie_2)"
   ]
  },
  {
   "cell_type": "markdown",
   "metadata": {},
   "source": [
    "Vemos que simplemente se ha añadidoa la *serie_2* debajo de la *serie_1* conservando su índice original; **por lo que ahora tenemos un índice duplicado, el a**"
   ]
  },
  {
   "cell_type": "markdown",
   "metadata": {},
   "source": [
    "#### append() con reetiquetado"
   ]
  },
  {
   "cell_type": "markdown",
   "metadata": {},
   "source": [
    "Esto nos puede dar problemas ya que si quisiéramos acceder al elemento con índice 0 el programa nos devolverá tantas filas como índices sean 0!"
   ]
  },
  {
   "cell_type": "code",
   "execution_count": 97,
   "metadata": {
    "ExecuteTime": {
     "end_time": "2021-02-04T21:24:39.263679Z",
     "start_time": "2021-02-04T21:24:39.246978Z"
    }
   },
   "outputs": [
    {
     "data": {
      "text/plain": [
       "a    3\n",
       "dtype: int64"
      ]
     },
     "execution_count": 97,
     "metadata": {},
     "output_type": "execute_result"
    }
   ],
   "source": [
    "serie_concatenada = serie_1.append(serie_2)\n",
    "serie_concatenada[[0]]"
   ]
  },
  {
   "cell_type": "markdown",
   "metadata": {},
   "source": [
    "**Para evitar indices duplicados al concatenar Series, especificamos el re-etiquetado mediante el parámetro ignore_index=True** que lo que hace es reetiquetar la nueva serie entera y **evita índices duplicados**"
   ]
  },
  {
   "cell_type": "code",
   "execution_count": null,
   "metadata": {},
   "outputs": [],
   "source": []
  },
  {
   "cell_type": "code",
   "execution_count": 99,
   "metadata": {
    "ExecuteTime": {
     "end_time": "2021-02-04T21:25:12.207576Z",
     "start_time": "2021-02-04T21:25:12.194555Z"
    }
   },
   "outputs": [
    {
     "data": {
      "text/plain": [
       "0       5\n",
       "1       3\n",
       "2       1\n",
       "3       0\n",
       "4    2000\n",
       "dtype: int64"
      ]
     },
     "execution_count": 99,
     "metadata": {},
     "output_type": "execute_result"
    }
   ],
   "source": [
    "serie_1.append(serie_2, ignore_index=True)"
   ]
  },
  {
   "cell_type": "code",
   "execution_count": 100,
   "metadata": {
    "ExecuteTime": {
     "end_time": "2021-02-04T21:25:17.108182Z",
     "start_time": "2021-02-04T21:25:17.100181Z"
    }
   },
   "outputs": [
    {
     "data": {
      "text/plain": [
       "0    5\n",
       "dtype: int64"
      ]
     },
     "execution_count": 100,
     "metadata": {},
     "output_type": "execute_result"
    }
   ],
   "source": [
    "serie_1.append(serie_2, ignore_index=True)[[0]]"
   ]
  },
  {
   "cell_type": "markdown",
   "metadata": {},
   "source": [
    "#### append() manteniendo índices y evitando índices duplicados"
   ]
  },
  {
   "cell_type": "markdown",
   "metadata": {},
   "source": [
    "Pero, qué pasa si quisiéramos mantener los índices originales de las series anexadas, pero evitando índices duplicados entre ambas Series?\n",
    "\n",
    "Podemos conseguirlo mendiante el comando *verify_integrity=True*, que básicamente nos indicará mediante un *Error* que hay duplicidad de índices y parará la ejecución!"
   ]
  },
  {
   "cell_type": "code",
   "execution_count": 102,
   "metadata": {
    "ExecuteTime": {
     "end_time": "2021-02-04T21:26:17.313040Z",
     "start_time": "2021-02-04T21:26:17.274013Z"
    }
   },
   "outputs": [
    {
     "ename": "ValueError",
     "evalue": "Indexes have overlapping values: Index(['a'], dtype='object')",
     "output_type": "error",
     "traceback": [
      "\u001b[1;31m---------------------------------------------------------------------------\u001b[0m",
      "\u001b[1;31mValueError\u001b[0m                                Traceback (most recent call last)",
      "\u001b[1;32m<ipython-input-102-8fd35f70dd93>\u001b[0m in \u001b[0;36m<module>\u001b[1;34m\u001b[0m\n\u001b[1;32m----> 1\u001b[1;33m \u001b[0mserie_1\u001b[0m\u001b[1;33m.\u001b[0m\u001b[0mappend\u001b[0m\u001b[1;33m(\u001b[0m\u001b[0mserie_2\u001b[0m\u001b[1;33m,\u001b[0m \u001b[0mverify_integrity\u001b[0m\u001b[1;33m=\u001b[0m\u001b[1;32mTrue\u001b[0m\u001b[1;33m)\u001b[0m\u001b[1;33m\u001b[0m\u001b[1;33m\u001b[0m\u001b[0m\n\u001b[0m",
      "\u001b[1;32m~\\Anaconda3\\lib\\site-packages\\pandas\\core\\series.py\u001b[0m in \u001b[0;36mappend\u001b[1;34m(self, to_append, ignore_index, verify_integrity)\u001b[0m\n\u001b[0;32m   2686\u001b[0m             \u001b[0mmsg\u001b[0m \u001b[1;33m=\u001b[0m \u001b[1;34m\"to_append should be a Series or list/tuple of Series, got DataFrame\"\u001b[0m\u001b[1;33m\u001b[0m\u001b[1;33m\u001b[0m\u001b[0m\n\u001b[0;32m   2687\u001b[0m             \u001b[1;32mraise\u001b[0m \u001b[0mTypeError\u001b[0m\u001b[1;33m(\u001b[0m\u001b[0mmsg\u001b[0m\u001b[1;33m)\u001b[0m\u001b[1;33m\u001b[0m\u001b[1;33m\u001b[0m\u001b[0m\n\u001b[1;32m-> 2688\u001b[1;33m         return concat(\n\u001b[0m\u001b[0;32m   2689\u001b[0m             \u001b[0mto_concat\u001b[0m\u001b[1;33m,\u001b[0m \u001b[0mignore_index\u001b[0m\u001b[1;33m=\u001b[0m\u001b[0mignore_index\u001b[0m\u001b[1;33m,\u001b[0m \u001b[0mverify_integrity\u001b[0m\u001b[1;33m=\u001b[0m\u001b[0mverify_integrity\u001b[0m\u001b[1;33m\u001b[0m\u001b[1;33m\u001b[0m\u001b[0m\n\u001b[0;32m   2690\u001b[0m         )\n",
      "\u001b[1;32m~\\Anaconda3\\lib\\site-packages\\pandas\\core\\reshape\\concat.py\u001b[0m in \u001b[0;36mconcat\u001b[1;34m(objs, axis, join, ignore_index, keys, levels, names, verify_integrity, sort, copy)\u001b[0m\n\u001b[0;32m    272\u001b[0m     \u001b[0mValueError\u001b[0m\u001b[1;33m:\u001b[0m \u001b[0mIndexes\u001b[0m \u001b[0mhave\u001b[0m \u001b[0moverlapping\u001b[0m \u001b[0mvalues\u001b[0m\u001b[1;33m:\u001b[0m \u001b[1;33m[\u001b[0m\u001b[1;34m'a'\u001b[0m\u001b[1;33m]\u001b[0m\u001b[1;33m\u001b[0m\u001b[1;33m\u001b[0m\u001b[0m\n\u001b[0;32m    273\u001b[0m     \"\"\"\n\u001b[1;32m--> 274\u001b[1;33m     op = _Concatenator(\n\u001b[0m\u001b[0;32m    275\u001b[0m         \u001b[0mobjs\u001b[0m\u001b[1;33m,\u001b[0m\u001b[1;33m\u001b[0m\u001b[1;33m\u001b[0m\u001b[0m\n\u001b[0;32m    276\u001b[0m         \u001b[0maxis\u001b[0m\u001b[1;33m=\u001b[0m\u001b[0maxis\u001b[0m\u001b[1;33m,\u001b[0m\u001b[1;33m\u001b[0m\u001b[1;33m\u001b[0m\u001b[0m\n",
      "\u001b[1;32m~\\Anaconda3\\lib\\site-packages\\pandas\\core\\reshape\\concat.py\u001b[0m in \u001b[0;36m__init__\u001b[1;34m(self, objs, axis, join, keys, levels, names, ignore_index, verify_integrity, copy, sort)\u001b[0m\n\u001b[0;32m    452\u001b[0m         \u001b[0mself\u001b[0m\u001b[1;33m.\u001b[0m\u001b[0mcopy\u001b[0m \u001b[1;33m=\u001b[0m \u001b[0mcopy\u001b[0m\u001b[1;33m\u001b[0m\u001b[1;33m\u001b[0m\u001b[0m\n\u001b[0;32m    453\u001b[0m \u001b[1;33m\u001b[0m\u001b[0m\n\u001b[1;32m--> 454\u001b[1;33m         \u001b[0mself\u001b[0m\u001b[1;33m.\u001b[0m\u001b[0mnew_axes\u001b[0m \u001b[1;33m=\u001b[0m \u001b[0mself\u001b[0m\u001b[1;33m.\u001b[0m\u001b[0m_get_new_axes\u001b[0m\u001b[1;33m(\u001b[0m\u001b[1;33m)\u001b[0m\u001b[1;33m\u001b[0m\u001b[1;33m\u001b[0m\u001b[0m\n\u001b[0m\u001b[0;32m    455\u001b[0m \u001b[1;33m\u001b[0m\u001b[0m\n\u001b[0;32m    456\u001b[0m     \u001b[1;32mdef\u001b[0m \u001b[0mget_result\u001b[0m\u001b[1;33m(\u001b[0m\u001b[0mself\u001b[0m\u001b[1;33m)\u001b[0m\u001b[1;33m:\u001b[0m\u001b[1;33m\u001b[0m\u001b[1;33m\u001b[0m\u001b[0m\n",
      "\u001b[1;32m~\\Anaconda3\\lib\\site-packages\\pandas\\core\\reshape\\concat.py\u001b[0m in \u001b[0;36m_get_new_axes\u001b[1;34m(self)\u001b[0m\n\u001b[0;32m    517\u001b[0m     \u001b[1;32mdef\u001b[0m \u001b[0m_get_new_axes\u001b[0m\u001b[1;33m(\u001b[0m\u001b[0mself\u001b[0m\u001b[1;33m)\u001b[0m \u001b[1;33m->\u001b[0m \u001b[0mList\u001b[0m\u001b[1;33m[\u001b[0m\u001b[0mIndex\u001b[0m\u001b[1;33m]\u001b[0m\u001b[1;33m:\u001b[0m\u001b[1;33m\u001b[0m\u001b[1;33m\u001b[0m\u001b[0m\n\u001b[0;32m    518\u001b[0m         \u001b[0mndim\u001b[0m \u001b[1;33m=\u001b[0m \u001b[0mself\u001b[0m\u001b[1;33m.\u001b[0m\u001b[0m_get_result_dim\u001b[0m\u001b[1;33m(\u001b[0m\u001b[1;33m)\u001b[0m\u001b[1;33m\u001b[0m\u001b[1;33m\u001b[0m\u001b[0m\n\u001b[1;32m--> 519\u001b[1;33m         return [\n\u001b[0m\u001b[0;32m    520\u001b[0m             \u001b[0mself\u001b[0m\u001b[1;33m.\u001b[0m\u001b[0m_get_concat_axis\u001b[0m\u001b[1;33m(\u001b[0m\u001b[1;33m)\u001b[0m \u001b[1;32mif\u001b[0m \u001b[0mi\u001b[0m \u001b[1;33m==\u001b[0m \u001b[0mself\u001b[0m\u001b[1;33m.\u001b[0m\u001b[0mbm_axis\u001b[0m \u001b[1;32melse\u001b[0m \u001b[0mself\u001b[0m\u001b[1;33m.\u001b[0m\u001b[0m_get_comb_axis\u001b[0m\u001b[1;33m(\u001b[0m\u001b[0mi\u001b[0m\u001b[1;33m)\u001b[0m\u001b[1;33m\u001b[0m\u001b[1;33m\u001b[0m\u001b[0m\n\u001b[0;32m    521\u001b[0m             \u001b[1;32mfor\u001b[0m \u001b[0mi\u001b[0m \u001b[1;32min\u001b[0m \u001b[0mrange\u001b[0m\u001b[1;33m(\u001b[0m\u001b[0mndim\u001b[0m\u001b[1;33m)\u001b[0m\u001b[1;33m\u001b[0m\u001b[1;33m\u001b[0m\u001b[0m\n",
      "\u001b[1;32m~\\Anaconda3\\lib\\site-packages\\pandas\\core\\reshape\\concat.py\u001b[0m in \u001b[0;36m<listcomp>\u001b[1;34m(.0)\u001b[0m\n\u001b[0;32m    518\u001b[0m         \u001b[0mndim\u001b[0m \u001b[1;33m=\u001b[0m \u001b[0mself\u001b[0m\u001b[1;33m.\u001b[0m\u001b[0m_get_result_dim\u001b[0m\u001b[1;33m(\u001b[0m\u001b[1;33m)\u001b[0m\u001b[1;33m\u001b[0m\u001b[1;33m\u001b[0m\u001b[0m\n\u001b[0;32m    519\u001b[0m         return [\n\u001b[1;32m--> 520\u001b[1;33m             \u001b[0mself\u001b[0m\u001b[1;33m.\u001b[0m\u001b[0m_get_concat_axis\u001b[0m\u001b[1;33m(\u001b[0m\u001b[1;33m)\u001b[0m \u001b[1;32mif\u001b[0m \u001b[0mi\u001b[0m \u001b[1;33m==\u001b[0m \u001b[0mself\u001b[0m\u001b[1;33m.\u001b[0m\u001b[0mbm_axis\u001b[0m \u001b[1;32melse\u001b[0m \u001b[0mself\u001b[0m\u001b[1;33m.\u001b[0m\u001b[0m_get_comb_axis\u001b[0m\u001b[1;33m(\u001b[0m\u001b[0mi\u001b[0m\u001b[1;33m)\u001b[0m\u001b[1;33m\u001b[0m\u001b[1;33m\u001b[0m\u001b[0m\n\u001b[0m\u001b[0;32m    521\u001b[0m             \u001b[1;32mfor\u001b[0m \u001b[0mi\u001b[0m \u001b[1;32min\u001b[0m \u001b[0mrange\u001b[0m\u001b[1;33m(\u001b[0m\u001b[0mndim\u001b[0m\u001b[1;33m)\u001b[0m\u001b[1;33m\u001b[0m\u001b[1;33m\u001b[0m\u001b[0m\n\u001b[0;32m    522\u001b[0m         ]\n",
      "\u001b[1;32m~\\Anaconda3\\lib\\site-packages\\pandas\\core\\reshape\\concat.py\u001b[0m in \u001b[0;36m_get_concat_axis\u001b[1;34m(self)\u001b[0m\n\u001b[0;32m    578\u001b[0m             )\n\u001b[0;32m    579\u001b[0m \u001b[1;33m\u001b[0m\u001b[0m\n\u001b[1;32m--> 580\u001b[1;33m         \u001b[0mself\u001b[0m\u001b[1;33m.\u001b[0m\u001b[0m_maybe_check_integrity\u001b[0m\u001b[1;33m(\u001b[0m\u001b[0mconcat_axis\u001b[0m\u001b[1;33m)\u001b[0m\u001b[1;33m\u001b[0m\u001b[1;33m\u001b[0m\u001b[0m\n\u001b[0m\u001b[0;32m    581\u001b[0m \u001b[1;33m\u001b[0m\u001b[0m\n\u001b[0;32m    582\u001b[0m         \u001b[1;32mreturn\u001b[0m \u001b[0mconcat_axis\u001b[0m\u001b[1;33m\u001b[0m\u001b[1;33m\u001b[0m\u001b[0m\n",
      "\u001b[1;32m~\\Anaconda3\\lib\\site-packages\\pandas\\core\\reshape\\concat.py\u001b[0m in \u001b[0;36m_maybe_check_integrity\u001b[1;34m(self, concat_index)\u001b[0m\n\u001b[0;32m    586\u001b[0m             \u001b[1;32mif\u001b[0m \u001b[1;32mnot\u001b[0m \u001b[0mconcat_index\u001b[0m\u001b[1;33m.\u001b[0m\u001b[0mis_unique\u001b[0m\u001b[1;33m:\u001b[0m\u001b[1;33m\u001b[0m\u001b[1;33m\u001b[0m\u001b[0m\n\u001b[0;32m    587\u001b[0m                 \u001b[0moverlap\u001b[0m \u001b[1;33m=\u001b[0m \u001b[0mconcat_index\u001b[0m\u001b[1;33m[\u001b[0m\u001b[0mconcat_index\u001b[0m\u001b[1;33m.\u001b[0m\u001b[0mduplicated\u001b[0m\u001b[1;33m(\u001b[0m\u001b[1;33m)\u001b[0m\u001b[1;33m]\u001b[0m\u001b[1;33m.\u001b[0m\u001b[0munique\u001b[0m\u001b[1;33m(\u001b[0m\u001b[1;33m)\u001b[0m\u001b[1;33m\u001b[0m\u001b[1;33m\u001b[0m\u001b[0m\n\u001b[1;32m--> 588\u001b[1;33m                 \u001b[1;32mraise\u001b[0m \u001b[0mValueError\u001b[0m\u001b[1;33m(\u001b[0m\u001b[1;34mf\"Indexes have overlapping values: {overlap}\"\u001b[0m\u001b[1;33m)\u001b[0m\u001b[1;33m\u001b[0m\u001b[1;33m\u001b[0m\u001b[0m\n\u001b[0m\u001b[0;32m    589\u001b[0m \u001b[1;33m\u001b[0m\u001b[0m\n\u001b[0;32m    590\u001b[0m \u001b[1;33m\u001b[0m\u001b[0m\n",
      "\u001b[1;31mValueError\u001b[0m: Indexes have overlapping values: Index(['a'], dtype='object')"
     ]
    }
   ],
   "source": [
    "serie_1.append(serie_2, verify_integrity=True)"
   ]
  },
  {
   "cell_type": "markdown",
   "metadata": {},
   "source": [
    "## Ordenar Serie"
   ]
  },
  {
   "cell_type": "markdown",
   "metadata": {},
   "source": [
    "Una Serie puede ordenarse por etiquetas o por valores!"
   ]
  },
  {
   "cell_type": "markdown",
   "metadata": {},
   "source": [
    "### Por Índices o Etiquetas - sort_index( )"
   ]
  },
  {
   "cell_type": "markdown",
   "metadata": {},
   "source": [
    "Al ordenar por etiquetas, si las etiquetas son alfabéticas se ordenará en orden del abecedario, mientras que si son numéricas, se ordenará por orden numérico ascendiente de forma predeterminada"
   ]
  },
  {
   "cell_type": "markdown",
   "metadata": {},
   "source": [
    "Si queremos, podemos especificar el orden (ascendiente o descendiente) mediante el parámetro:\n",
    "- *ascending* = True or False"
   ]
  },
  {
   "cell_type": "markdown",
   "metadata": {},
   "source": [
    "##### Orden alfabético"
   ]
  },
  {
   "cell_type": "code",
   "execution_count": 144,
   "metadata": {
    "ExecuteTime": {
     "end_time": "2020-03-02T20:06:55.973844Z",
     "start_time": "2020-03-02T20:06:55.954038Z"
    }
   },
   "outputs": [
    {
     "data": {
      "text/plain": [
       "a   -1.485169\n",
       "c   -0.507634\n",
       "b   -1.471026\n",
       "f   -0.274172\n",
       "d    0.802779\n",
       "g    0.941974\n",
       "e    1.118769\n",
       "h    0.589304\n",
       "i    2.891354\n",
       "j    0.587007\n",
       "dtype: float64"
      ]
     },
     "execution_count": 144,
     "metadata": {},
     "output_type": "execute_result"
    }
   ],
   "source": [
    "s = pd.Series(np.random.randn(10), ['a','c','b','f','d','g','e','h','i','j'])\n",
    "s"
   ]
  },
  {
   "cell_type": "code",
   "execution_count": 157,
   "metadata": {
    "ExecuteTime": {
     "end_time": "2020-03-02T20:17:39.056591Z",
     "start_time": "2020-03-02T20:17:39.047309Z"
    }
   },
   "outputs": [
    {
     "name": "stdout",
     "output_type": "stream",
     "text": [
      "Ordenamos por índice - orden alfabético: =>\n",
      "\n"
     ]
    },
    {
     "data": {
      "text/plain": [
       "j    0.587007\n",
       "i    2.891354\n",
       "h    0.589304\n",
       "g    0.941974\n",
       "f   -0.274172\n",
       "e    1.118769\n",
       "d    0.802779\n",
       "c   -0.507634\n",
       "b   -1.471026\n",
       "a   -1.485169\n",
       "dtype: float64"
      ]
     },
     "execution_count": 157,
     "metadata": {},
     "output_type": "execute_result"
    }
   ],
   "source": [
    "print ('Ordenamos por índice - orden alfabético: =>\\n')\n",
    "\n",
    "s.sort_index(ascending = False)"
   ]
  },
  {
   "cell_type": "code",
   "execution_count": 306,
   "metadata": {
    "ExecuteTime": {
     "end_time": "2020-02-15T10:45:00.498821Z",
     "start_time": "2020-02-15T10:45:00.491050Z"
    }
   },
   "outputs": [
    {
     "data": {
      "text/plain": [
       "j   -0.611423\n",
       "i    2.678192\n",
       "h    1.085656\n",
       "g   -0.659125\n",
       "f    1.112611\n",
       "e   -0.886857\n",
       "d    0.321013\n",
       "c    1.645842\n",
       "b    1.332092\n",
       "a    2.371885\n",
       "dtype: float64"
      ]
     },
     "execution_count": 306,
     "metadata": {},
     "output_type": "execute_result"
    }
   ],
   "source": [
    "s.sort_index(ascending=False)"
   ]
  },
  {
   "cell_type": "markdown",
   "metadata": {},
   "source": [
    "##### Orden numérico"
   ]
  },
  {
   "cell_type": "code",
   "execution_count": 148,
   "metadata": {
    "ExecuteTime": {
     "end_time": "2020-03-02T20:07:42.037428Z",
     "start_time": "2020-03-02T20:07:42.023892Z"
    }
   },
   "outputs": [
    {
     "data": {
      "text/plain": [
       "2    -0.704078\n",
       "3    -0.092047\n",
       "49    0.489489\n",
       "10   -0.632945\n",
       "dtype: float64"
      ]
     },
     "execution_count": 148,
     "metadata": {},
     "output_type": "execute_result"
    }
   ],
   "source": [
    "x = pd.Series(np.random.randn(4), [2,3,49,10])\n",
    "x"
   ]
  },
  {
   "cell_type": "code",
   "execution_count": 150,
   "metadata": {
    "ExecuteTime": {
     "end_time": "2020-03-02T20:07:54.108820Z",
     "start_time": "2020-03-02T20:07:54.093047Z"
    }
   },
   "outputs": [
    {
     "name": "stdout",
     "output_type": "stream",
     "text": [
      "Ordenamos por índice - orden numérico ascendente: =>\n",
      "\n"
     ]
    },
    {
     "data": {
      "text/plain": [
       "49    0.489489\n",
       "10   -0.632945\n",
       "3    -0.092047\n",
       "2    -0.704078\n",
       "dtype: float64"
      ]
     },
     "execution_count": 150,
     "metadata": {},
     "output_type": "execute_result"
    }
   ],
   "source": [
    "print ('Ordenamos por índice - orden numérico ascendente: =>\\n')\n",
    "\n",
    "x.sort_index(ascending = False)"
   ]
  },
  {
   "cell_type": "code",
   "execution_count": 307,
   "metadata": {
    "ExecuteTime": {
     "end_time": "2020-02-15T10:45:28.418403Z",
     "start_time": "2020-02-15T10:45:28.409295Z"
    }
   },
   "outputs": [
    {
     "name": "stdout",
     "output_type": "stream",
     "text": [
      "Ordenamos por índice - orden numérico descendiente: =>\n",
      "\n"
     ]
    },
    {
     "data": {
      "text/plain": [
       "49    0.195921\n",
       "10   -0.427822\n",
       "3    -0.696551\n",
       "2    -0.905034\n",
       "dtype: float64"
      ]
     },
     "execution_count": 307,
     "metadata": {},
     "output_type": "execute_result"
    }
   ],
   "source": [
    "print ('Ordenamos por índice - orden numérico descendiente: =>\\n')\n",
    "\n",
    "x.sort_index(ascending=False)"
   ]
  },
  {
   "cell_type": "markdown",
   "metadata": {},
   "source": [
    "### Por Valores - sort_values()"
   ]
  },
  {
   "cell_type": "markdown",
   "metadata": {},
   "source": [
    "Mediante sort_values() ordenaremos la serie según el valor de sus elementos. \n",
    "\n",
    "Podemos especificar el orden según el parámetro *ascending= True, False*"
   ]
  },
  {
   "cell_type": "markdown",
   "metadata": {},
   "source": [
    "##### EJEMPLO"
   ]
  },
  {
   "cell_type": "code",
   "execution_count": 151,
   "metadata": {
    "ExecuteTime": {
     "end_time": "2020-03-02T20:08:24.314089Z",
     "start_time": "2020-03-02T20:08:24.295955Z"
    }
   },
   "outputs": [
    {
     "name": "stdout",
     "output_type": "stream",
     "text": [
      "Ordenamos por valor - orden numérico ascendiente: =>\n",
      "\n"
     ]
    },
    {
     "data": {
      "text/plain": [
       "2    -0.704078\n",
       "10   -0.632945\n",
       "3    -0.092047\n",
       "49    0.489489\n",
       "dtype: float64"
      ]
     },
     "execution_count": 151,
     "metadata": {},
     "output_type": "execute_result"
    }
   ],
   "source": [
    "print ('Ordenamos por valor - orden numérico ascendiente: =>\\n')\n",
    "\n",
    "x.sort_values()"
   ]
  },
  {
   "cell_type": "code",
   "execution_count": 153,
   "metadata": {
    "ExecuteTime": {
     "end_time": "2020-03-02T20:08:37.284032Z",
     "start_time": "2020-03-02T20:08:37.267337Z"
    }
   },
   "outputs": [
    {
     "name": "stdout",
     "output_type": "stream",
     "text": [
      "Ordenamos por valor - orden numérico descendiente: =>\n",
      "\n"
     ]
    },
    {
     "data": {
      "text/plain": [
       "2    -0.704078\n",
       "10   -0.632945\n",
       "3    -0.092047\n",
       "49    0.489489\n",
       "dtype: float64"
      ]
     },
     "execution_count": 153,
     "metadata": {},
     "output_type": "execute_result"
    }
   ],
   "source": [
    "print ('Ordenamos por valor - orden numérico descendiente: =>\\n')\n",
    "\n",
    "x.sort_values()"
   ]
  },
  {
   "cell_type": "markdown",
   "metadata": {},
   "source": [
    "##### EJEMPLO"
   ]
  },
  {
   "cell_type": "code",
   "execution_count": 310,
   "metadata": {
    "ExecuteTime": {
     "end_time": "2020-02-15T10:46:51.041440Z",
     "start_time": "2020-02-15T10:46:51.032997Z"
    }
   },
   "outputs": [
    {
     "name": "stdout",
     "output_type": "stream",
     "text": [
      "Ordenamos por valor - orden numérico ascendiente: =>\n",
      "\n"
     ]
    },
    {
     "data": {
      "text/plain": [
       "e   -0.886857\n",
       "g   -0.659125\n",
       "j   -0.611423\n",
       "d    0.321013\n",
       "h    1.085656\n",
       "f    1.112611\n",
       "b    1.332092\n",
       "c    1.645842\n",
       "a    2.371885\n",
       "i    2.678192\n",
       "dtype: float64"
      ]
     },
     "execution_count": 310,
     "metadata": {},
     "output_type": "execute_result"
    }
   ],
   "source": [
    "print ('Ordenamos por valor - orden numérico ascendiente: =>\\n')\n",
    "\n",
    "s.sort_values()"
   ]
  },
  {
   "cell_type": "code",
   "execution_count": 312,
   "metadata": {
    "ExecuteTime": {
     "end_time": "2020-02-15T10:47:30.166613Z",
     "start_time": "2020-02-15T10:47:30.157408Z"
    }
   },
   "outputs": [
    {
     "name": "stdout",
     "output_type": "stream",
     "text": [
      "Ordenamos por valor - orden numérico ascendiente: =>\n",
      "\n"
     ]
    },
    {
     "data": {
      "text/plain": [
       "i    2.678192\n",
       "a    2.371885\n",
       "c    1.645842\n",
       "b    1.332092\n",
       "f    1.112611\n",
       "h    1.085656\n",
       "d    0.321013\n",
       "j   -0.611423\n",
       "g   -0.659125\n",
       "e   -0.886857\n",
       "dtype: float64"
      ]
     },
     "execution_count": 312,
     "metadata": {},
     "output_type": "execute_result"
    }
   ],
   "source": [
    "print ('Ordenamos por valor - orden numérico ascendiente: =>\\n')\n",
    "\n",
    "s.sort_values(ascending = False)"
   ]
  },
  {
   "cell_type": "markdown",
   "metadata": {},
   "source": [
    "## Eliminar Elementos de una Serie"
   ]
  },
  {
   "cell_type": "markdown",
   "metadata": {},
   "source": [
    "Existen varios métodos para eliminar elementos de una Serie. Veámoslos!"
   ]
  },
  {
   "cell_type": "markdown",
   "metadata": {},
   "source": [
    "### Eliminar por Etiqueta - drop()"
   ]
  },
  {
   "cell_type": "markdown",
   "metadata": {},
   "source": [
    "Mediante *drop()* podemos especificar una etiqueta o conjunto de etiquetas a eliminar, junto al valor al que está/n asignada/s."
   ]
  },
  {
   "cell_type": "markdown",
   "metadata": {},
   "source": [
    "**EJERCICIO**\n",
    "\n",
    "\n",
    "Vamos a definir una serie mediante un array aleatorio de 5 elementos,\n",
    "\n",
    "con etiquetas de la \"a\" a la \"e\"\n",
    "\n",
    "\n",
    "- vamos a ordenar los elementos de la serie por orden descendente\n",
    "\n",
    "\n",
    "- vamos a ordenar segun etiquetas por orden descendente\n",
    "\n",
    "\n",
    "- vamos a eliminar la fila \"d\""
   ]
  },
  {
   "cell_type": "code",
   "execution_count": 105,
   "metadata": {
    "ExecuteTime": {
     "end_time": "2021-02-04T21:28:04.627383Z",
     "start_time": "2021-02-04T21:28:04.608081Z"
    }
   },
   "outputs": [
    {
     "data": {
      "text/plain": [
       "a    0.417512\n",
       "b   -1.420528\n",
       "c   -1.165350\n",
       "d   -1.341295\n",
       "e    0.423258\n",
       "dtype: float64"
      ]
     },
     "execution_count": 105,
     "metadata": {},
     "output_type": "execute_result"
    }
   ],
   "source": [
    "a = pd.Series(np.random.randn(5), index = [\"a\",\"b\",\"c\",\"d\",\"e\"])\n",
    "a"
   ]
  },
  {
   "cell_type": "code",
   "execution_count": 106,
   "metadata": {
    "ExecuteTime": {
     "end_time": "2021-02-04T21:28:06.215528Z",
     "start_time": "2021-02-04T21:28:06.202001Z"
    }
   },
   "outputs": [
    {
     "data": {
      "text/plain": [
       "e    0.423258\n",
       "a    0.417512\n",
       "c   -1.165350\n",
       "d   -1.341295\n",
       "b   -1.420528\n",
       "dtype: float64"
      ]
     },
     "execution_count": 106,
     "metadata": {},
     "output_type": "execute_result"
    }
   ],
   "source": [
    "a.sort_values(ascending = False)"
   ]
  },
  {
   "cell_type": "code",
   "execution_count": 107,
   "metadata": {
    "ExecuteTime": {
     "end_time": "2021-02-04T21:28:08.653650Z",
     "start_time": "2021-02-04T21:28:08.641096Z"
    },
    "scrolled": true
   },
   "outputs": [
    {
     "data": {
      "text/plain": [
       "e    0.423258\n",
       "d   -1.341295\n",
       "c   -1.165350\n",
       "b   -1.420528\n",
       "a    0.417512\n",
       "dtype: float64"
      ]
     },
     "execution_count": 107,
     "metadata": {},
     "output_type": "execute_result"
    }
   ],
   "source": [
    "a.sort_index(ascending = False)"
   ]
  },
  {
   "cell_type": "code",
   "execution_count": 108,
   "metadata": {
    "ExecuteTime": {
     "end_time": "2021-02-04T21:28:17.058855Z",
     "start_time": "2021-02-04T21:28:17.041195Z"
    }
   },
   "outputs": [],
   "source": [
    "a = a.drop([\"d\"])"
   ]
  },
  {
   "cell_type": "code",
   "execution_count": 109,
   "metadata": {
    "ExecuteTime": {
     "end_time": "2021-02-04T21:28:17.819986Z",
     "start_time": "2021-02-04T21:28:17.805942Z"
    }
   },
   "outputs": [
    {
     "data": {
      "text/plain": [
       "a    0.417512\n",
       "b   -1.420528\n",
       "c   -1.165350\n",
       "e    0.423258\n",
       "dtype: float64"
      ]
     },
     "execution_count": 109,
     "metadata": {},
     "output_type": "execute_result"
    }
   ],
   "source": [
    "a"
   ]
  },
  {
   "cell_type": "markdown",
   "metadata": {},
   "source": [
    "Si queremos eliminar varios índices, pasamos una lista de índices a drop()"
   ]
  },
  {
   "cell_type": "code",
   "execution_count": 113,
   "metadata": {
    "ExecuteTime": {
     "end_time": "2021-02-04T21:29:12.105149Z",
     "start_time": "2021-02-04T21:29:12.091137Z"
    }
   },
   "outputs": [
    {
     "name": "stdout",
     "output_type": "stream",
     "text": [
      "Eliminamos elemento A,C y E =>\n",
      " e    0.423258\n",
      "dtype: float64\n"
     ]
    }
   ],
   "source": [
    "print (\"Eliminamos elemento A,C y E =>\\n\",a.drop(['a','b','c']))"
   ]
  },
  {
   "cell_type": "markdown",
   "metadata": {},
   "source": [
    "### Eliminar duplicados - drop_duplicates()"
   ]
  },
  {
   "cell_type": "markdown",
   "metadata": {},
   "source": [
    "Para eliminar duplicados usaremos el método drop_duplicates, que actua sobre los valores de la Serie"
   ]
  },
  {
   "cell_type": "code",
   "execution_count": 114,
   "metadata": {
    "ExecuteTime": {
     "end_time": "2021-02-04T21:29:22.954993Z",
     "start_time": "2021-02-04T21:29:22.938227Z"
    }
   },
   "outputs": [
    {
     "data": {
      "text/plain": [
       "0    1\n",
       "1    2\n",
       "2    2\n",
       "3    4\n",
       "4    5\n",
       "5    7\n",
       "6    3\n",
       "7    4\n",
       "dtype: int64"
      ]
     },
     "execution_count": 114,
     "metadata": {},
     "output_type": "execute_result"
    }
   ],
   "source": [
    "x = pd.Series([1, 2, 2, 4, 5, 7, 3, 4])\n",
    "x"
   ]
  },
  {
   "cell_type": "code",
   "execution_count": 115,
   "metadata": {
    "ExecuteTime": {
     "end_time": "2021-02-04T21:29:25.259343Z",
     "start_time": "2021-02-04T21:29:25.239179Z"
    }
   },
   "outputs": [
    {
     "data": {
      "text/plain": [
       "8"
      ]
     },
     "execution_count": 115,
     "metadata": {},
     "output_type": "execute_result"
    }
   ],
   "source": [
    "x.size"
   ]
  },
  {
   "cell_type": "code",
   "execution_count": 116,
   "metadata": {
    "ExecuteTime": {
     "end_time": "2021-02-04T21:29:27.819670Z",
     "start_time": "2021-02-04T21:29:27.810176Z"
    }
   },
   "outputs": [
    {
     "name": "stdout",
     "output_type": "stream",
     "text": [
      "elimina valores duplicados => \n",
      " 0    1\n",
      "1    2\n",
      "3    4\n",
      "4    5\n",
      "5    7\n",
      "6    3\n",
      "dtype: int64\n"
     ]
    }
   ],
   "source": [
    "print(\"elimina valores duplicados => \\n\", x.drop_duplicates())"
   ]
  },
  {
   "cell_type": "markdown",
   "metadata": {},
   "source": [
    "**Importante!** De forma prestablecida, el método drop_duplicates() se queda con el primer valor duplicado, eliminando los consiguientes.\n",
    "\n",
    "**Si quisiéramos eliminar todos los elementos duplicados incluida la primera aparición, podemos especificar keep=False**"
   ]
  },
  {
   "cell_type": "code",
   "execution_count": 117,
   "metadata": {
    "ExecuteTime": {
     "end_time": "2021-02-04T21:29:50.409494Z",
     "start_time": "2021-02-04T21:29:50.393190Z"
    }
   },
   "outputs": [
    {
     "data": {
      "text/plain": [
       "0    1\n",
       "4    5\n",
       "5    7\n",
       "6    3\n",
       "dtype: int64"
      ]
     },
     "execution_count": 117,
     "metadata": {},
     "output_type": "execute_result"
    }
   ],
   "source": [
    "x.drop_duplicates(keep=False)"
   ]
  },
  {
   "cell_type": "code",
   "execution_count": 118,
   "metadata": {
    "ExecuteTime": {
     "end_time": "2021-02-04T21:29:52.750181Z",
     "start_time": "2021-02-04T21:29:52.742195Z"
    }
   },
   "outputs": [
    {
     "data": {
      "text/plain": [
       "4"
      ]
     },
     "execution_count": 118,
     "metadata": {},
     "output_type": "execute_result"
    }
   ],
   "source": [
    "x.drop_duplicates(keep=False).size"
   ]
  },
  {
   "cell_type": "code",
   "execution_count": 120,
   "metadata": {
    "ExecuteTime": {
     "end_time": "2021-02-04T21:30:51.749534Z",
     "start_time": "2021-02-04T21:30:51.740979Z"
    }
   },
   "outputs": [
    {
     "data": {
      "text/plain": [
       "0    1\n",
       "1    2\n",
       "2    2\n",
       "3    4\n",
       "4    5\n",
       "5    7\n",
       "6    3\n",
       "7    4\n",
       "dtype: int64"
      ]
     },
     "execution_count": 120,
     "metadata": {},
     "output_type": "execute_result"
    }
   ],
   "source": [
    "x"
   ]
  },
  {
   "cell_type": "code",
   "execution_count": 119,
   "metadata": {
    "ExecuteTime": {
     "end_time": "2021-02-04T21:30:08.293569Z",
     "start_time": "2021-02-04T21:30:08.285304Z"
    }
   },
   "outputs": [],
   "source": [
    "x.drop_duplicates?"
   ]
  },
  {
   "cell_type": "markdown",
   "metadata": {},
   "source": [
    "## Valores Nulos en Series"
   ]
  },
  {
   "cell_type": "markdown",
   "metadata": {},
   "source": [
    "### Comprobar si existen nulos"
   ]
  },
  {
   "cell_type": "code",
   "execution_count": 121,
   "metadata": {
    "ExecuteTime": {
     "end_time": "2021-02-04T21:31:25.755975Z",
     "start_time": "2021-02-04T21:31:25.734258Z"
    }
   },
   "outputs": [
    {
     "data": {
      "text/plain": [
       "Barcelona        1000.0\n",
       "Nueva York       1300.0\n",
       "Madrid            900.0\n",
       "San Francisco    1100.0\n",
       "Valencia          450.0\n",
       "Boston              NaN\n",
       "dtype: float64"
      ]
     },
     "execution_count": 121,
     "metadata": {},
     "output_type": "execute_result"
    }
   ],
   "source": [
    "d = {'Barcelona': 1000, 'Nueva York': 1300, 'Madrid': 900, 'San Francisco': 1100,\n",
    "     'Valencia': 450, 'Boston': None}\n",
    "ciudades = pd.Series(d)\n",
    "ciudades"
   ]
  },
  {
   "cell_type": "code",
   "execution_count": 122,
   "metadata": {
    "ExecuteTime": {
     "end_time": "2021-02-04T21:31:27.233792Z",
     "start_time": "2021-02-04T21:31:27.225278Z"
    }
   },
   "outputs": [
    {
     "name": "stdout",
     "output_type": "stream",
     "text": [
      "Existen ciudades con valores nulos?: \n",
      "\n"
     ]
    },
    {
     "data": {
      "text/plain": [
       "Barcelona        False\n",
       "Nueva York       False\n",
       "Madrid           False\n",
       "San Francisco    False\n",
       "Valencia         False\n",
       "Boston            True\n",
       "dtype: bool"
      ]
     },
     "execution_count": 122,
     "metadata": {},
     "output_type": "execute_result"
    }
   ],
   "source": [
    "print(\"Existen ciudades con valores nulos?: \\n\")\n",
    "ciudades.isnull()"
   ]
  },
  {
   "cell_type": "code",
   "execution_count": 125,
   "metadata": {
    "ExecuteTime": {
     "end_time": "2021-02-04T21:32:31.211397Z",
     "start_time": "2021-02-04T21:32:31.195320Z"
    }
   },
   "outputs": [
    {
     "data": {
      "text/plain": [
       "1"
      ]
     },
     "execution_count": 125,
     "metadata": {},
     "output_type": "execute_result"
    }
   ],
   "source": [
    "ciudades.isnull().sum()"
   ]
  },
  {
   "cell_type": "code",
   "execution_count": 123,
   "metadata": {
    "ExecuteTime": {
     "end_time": "2021-02-04T21:31:31.943255Z",
     "start_time": "2021-02-04T21:31:31.933266Z"
    }
   },
   "outputs": [
    {
     "name": "stdout",
     "output_type": "stream",
     "text": [
      "Existen ciudades SIN valores nulos?: \n",
      "\n"
     ]
    },
    {
     "data": {
      "text/plain": [
       "Barcelona         True\n",
       "Nueva York        True\n",
       "Madrid            True\n",
       "San Francisco     True\n",
       "Valencia          True\n",
       "Boston           False\n",
       "dtype: bool"
      ]
     },
     "execution_count": 123,
     "metadata": {},
     "output_type": "execute_result"
    }
   ],
   "source": [
    "print(\"Existen ciudades SIN valores nulos?: \\n\")\n",
    "ciudades.notnull()"
   ]
  },
  {
   "cell_type": "markdown",
   "metadata": {},
   "source": [
    "### Eliminar  valores nulos NaN - dropna()"
   ]
  },
  {
   "cell_type": "markdown",
   "metadata": {},
   "source": [
    "Para eliminar elementos sin valor de una Serie usaremos el método dropna()"
   ]
  },
  {
   "cell_type": "code",
   "execution_count": 126,
   "metadata": {
    "ExecuteTime": {
     "end_time": "2021-02-04T21:33:24.123352Z",
     "start_time": "2021-02-04T21:33:24.109690Z"
    }
   },
   "outputs": [],
   "source": [
    "y = pd.Series([1, 2, 3, 4, np.nan, 5, 6])\n",
    "#creamos una serie que contiene en el 5º elemento un Nan"
   ]
  },
  {
   "cell_type": "code",
   "execution_count": 127,
   "metadata": {
    "ExecuteTime": {
     "end_time": "2021-02-04T21:33:26.111897Z",
     "start_time": "2021-02-04T21:33:26.103345Z"
    }
   },
   "outputs": [
    {
     "data": {
      "text/plain": [
       "0    1.0\n",
       "1    2.0\n",
       "2    3.0\n",
       "3    4.0\n",
       "4    NaN\n",
       "5    5.0\n",
       "6    6.0\n",
       "dtype: float64"
      ]
     },
     "execution_count": 127,
     "metadata": {},
     "output_type": "execute_result"
    }
   ],
   "source": [
    "y"
   ]
  },
  {
   "cell_type": "code",
   "execution_count": 128,
   "metadata": {
    "ExecuteTime": {
     "end_time": "2021-02-04T21:33:28.682358Z",
     "start_time": "2021-02-04T21:33:28.666338Z"
    }
   },
   "outputs": [
    {
     "data": {
      "text/plain": [
       "7"
      ]
     },
     "execution_count": 128,
     "metadata": {},
     "output_type": "execute_result"
    }
   ],
   "source": [
    "y.size"
   ]
  },
  {
   "cell_type": "code",
   "execution_count": 129,
   "metadata": {
    "ExecuteTime": {
     "end_time": "2021-02-04T21:33:30.042345Z",
     "start_time": "2021-02-04T21:33:30.030320Z"
    }
   },
   "outputs": [
    {
     "data": {
      "text/plain": [
       "6"
      ]
     },
     "execution_count": 129,
     "metadata": {},
     "output_type": "execute_result"
    }
   ],
   "source": [
    "y.count()"
   ]
  },
  {
   "cell_type": "code",
   "execution_count": 130,
   "metadata": {
    "ExecuteTime": {
     "end_time": "2021-02-04T21:33:39.494545Z",
     "start_time": "2021-02-04T21:33:39.474364Z"
    }
   },
   "outputs": [
    {
     "name": "stdout",
     "output_type": "stream",
     "text": [
      "elimina valores nulos =>\n",
      " 0    1.0\n",
      "1    2.0\n",
      "2    3.0\n",
      "3    4.0\n",
      "5    5.0\n",
      "6    6.0\n",
      "dtype: float64\n"
     ]
    }
   ],
   "source": [
    "print ('elimina valores nulos =>\\n', y.dropna())"
   ]
  },
  {
   "cell_type": "code",
   "execution_count": 131,
   "metadata": {
    "ExecuteTime": {
     "end_time": "2021-02-04T21:33:47.097966Z",
     "start_time": "2021-02-04T21:33:47.087411Z"
    }
   },
   "outputs": [
    {
     "data": {
      "text/plain": [
       "0    1.0\n",
       "1    2.0\n",
       "2    3.0\n",
       "3    4.0\n",
       "5    5.0\n",
       "6    6.0\n",
       "dtype: float64"
      ]
     },
     "execution_count": 131,
     "metadata": {},
     "output_type": "execute_result"
    }
   ],
   "source": [
    "y.dropna()"
   ]
  },
  {
   "cell_type": "code",
   "execution_count": 132,
   "metadata": {
    "ExecuteTime": {
     "end_time": "2021-02-04T21:33:48.262326Z",
     "start_time": "2021-02-04T21:33:48.254338Z"
    }
   },
   "outputs": [
    {
     "data": {
      "text/plain": [
       "6"
      ]
     },
     "execution_count": 132,
     "metadata": {},
     "output_type": "execute_result"
    }
   ],
   "source": [
    "y.dropna().size"
   ]
  },
  {
   "cell_type": "code",
   "execution_count": 133,
   "metadata": {
    "ExecuteTime": {
     "end_time": "2021-02-04T21:33:49.299452Z",
     "start_time": "2021-02-04T21:33:49.282388Z"
    }
   },
   "outputs": [
    {
     "data": {
      "text/plain": [
       "6"
      ]
     },
     "execution_count": 133,
     "metadata": {},
     "output_type": "execute_result"
    }
   ],
   "source": [
    "y.dropna().count()"
   ]
  },
  {
   "cell_type": "markdown",
   "metadata": {},
   "source": [
    "### Reemplaza valores nulos  - fillna()"
   ]
  },
  {
   "cell_type": "markdown",
   "metadata": {},
   "source": [
    "Para reemplazar valores nulos de una Serie (NaN), usaremos el método fillna()"
   ]
  },
  {
   "cell_type": "code",
   "execution_count": 134,
   "metadata": {
    "ExecuteTime": {
     "end_time": "2021-02-04T21:33:56.312002Z",
     "start_time": "2021-02-04T21:33:56.293373Z"
    }
   },
   "outputs": [
    {
     "data": {
      "text/plain": [
       "0    1.0\n",
       "1    2.0\n",
       "2    3.0\n",
       "3    4.0\n",
       "4    NaN\n",
       "5    5.0\n",
       "6    6.0\n",
       "dtype: float64"
      ]
     },
     "execution_count": 134,
     "metadata": {},
     "output_type": "execute_result"
    }
   ],
   "source": [
    "y"
   ]
  },
  {
   "cell_type": "code",
   "execution_count": 135,
   "metadata": {
    "ExecuteTime": {
     "end_time": "2021-02-04T21:33:58.370010Z",
     "start_time": "2021-02-04T21:33:58.349364Z"
    }
   },
   "outputs": [
    {
     "name": "stdout",
     "output_type": "stream",
     "text": [
      "rellena valores nulos con un 0 =>\n",
      " 0    1.0\n",
      "1    2.0\n",
      "2    3.0\n",
      "3    4.0\n",
      "4    0.0\n",
      "5    5.0\n",
      "6    6.0\n",
      "dtype: float64\n"
     ]
    }
   ],
   "source": [
    "print ('rellena valores nulos con un 0 =>\\n', y.fillna(0))"
   ]
  },
  {
   "cell_type": "markdown",
   "metadata": {},
   "source": [
    "El método se aplicará a todos los elementos nulos!"
   ]
  },
  {
   "cell_type": "code",
   "execution_count": 136,
   "metadata": {
    "ExecuteTime": {
     "end_time": "2021-02-04T21:34:03.968379Z",
     "start_time": "2021-02-04T21:34:03.956390Z"
    }
   },
   "outputs": [
    {
     "data": {
      "text/plain": [
       "0    1.0\n",
       "1    NaN\n",
       "2    3.0\n",
       "3    4.0\n",
       "4    NaN\n",
       "5    5.0\n",
       "6    6.0\n",
       "dtype: float64"
      ]
     },
     "execution_count": 136,
     "metadata": {},
     "output_type": "execute_result"
    }
   ],
   "source": [
    "z = pd.Series([1, np.nan, 3, 4, np.nan, 5, 6])\n",
    "z"
   ]
  },
  {
   "cell_type": "code",
   "execution_count": 138,
   "metadata": {
    "ExecuteTime": {
     "end_time": "2021-02-04T21:34:17.523909Z",
     "start_time": "2021-02-04T21:34:17.503381Z"
    }
   },
   "outputs": [
    {
     "name": "stdout",
     "output_type": "stream",
     "text": [
      "rellena valores nulos con un 2 =>\n",
      " 0    1.0\n",
      "1    3.8\n",
      "2    3.0\n",
      "3    4.0\n",
      "4    3.8\n",
      "5    5.0\n",
      "6    6.0\n",
      "dtype: float64\n"
     ]
    }
   ],
   "source": [
    "print ('rellena valores nulos con un 2 =>\\n', z.fillna(z.mean()))"
   ]
  },
  {
   "cell_type": "markdown",
   "metadata": {},
   "source": [
    "# RESUMEN de métodos sobre Series"
   ]
  },
  {
   "cell_type": "markdown",
   "metadata": {},
   "source": [
    "## Métodos matemáticos"
   ]
  },
  {
   "cell_type": "markdown",
   "metadata": {},
   "source": [
    "|Método|Description|\n",
    "|:---|:---| \n",
    "|add()|Method is used to add series or list like objects with same length to the caller series|\n",
    "|sub()|Method is used to subtract series or list like objects with same length from the caller series|\n",
    "|mul()|Method is used to multiply series or list like objects with same length with the caller series|\n",
    "|div()|Method is used to divide series or list like objects with same length by the caller series|\n",
    "|sum()|Returns the sum of the values for the requested axis|\n",
    "|prod()|Returns the product of the values for the requested axis|\n",
    "|mean()|Returns the mean of the values for the requested axis|\n",
    "|pow()|Method is used to put each element of passed series as exponential power of caller series and returned the results\n",
    "|abs()|Method is used to get the absolute numeric value of each element in Series/DataFrame||\n",
    "|cov()|Method is used to find covariance of two series|"
   ]
  },
  {
   "cell_type": "markdown",
   "metadata": {},
   "source": [
    "##### EJEMPLO: metodos element-wise"
   ]
  },
  {
   "cell_type": "code",
   "execution_count": 23,
   "metadata": {
    "ExecuteTime": {
     "end_time": "2020-03-01T12:26:05.621236Z",
     "start_time": "2020-03-01T12:26:05.613536Z"
    }
   },
   "outputs": [
    {
     "data": {
      "text/plain": [
       "a    1\n",
       "b    2\n",
       "c    4\n",
       "d    5\n",
       "dtype: int64"
      ]
     },
     "execution_count": 23,
     "metadata": {},
     "output_type": "execute_result"
    }
   ],
   "source": [
    "x = pd.Series([1,2,4,5], ['a','b','c','d'])\n",
    "x"
   ]
  },
  {
   "cell_type": "code",
   "execution_count": 24,
   "metadata": {
    "ExecuteTime": {
     "end_time": "2020-03-01T12:26:06.806926Z",
     "start_time": "2020-03-01T12:26:06.798628Z"
    }
   },
   "outputs": [
    {
     "data": {
      "text/plain": [
       "a    2\n",
       "b    3\n",
       "c    5\n",
       "d    6\n",
       "dtype: int64"
      ]
     },
     "execution_count": 24,
     "metadata": {},
     "output_type": "execute_result"
    }
   ],
   "source": [
    "x.add(1)"
   ]
  },
  {
   "cell_type": "code",
   "execution_count": 27,
   "metadata": {
    "ExecuteTime": {
     "end_time": "2020-03-01T12:26:24.323325Z",
     "start_time": "2020-03-01T12:26:24.316388Z"
    }
   },
   "outputs": [
    {
     "data": {
      "text/plain": [
       "a    0\n",
       "b    1\n",
       "c    3\n",
       "d    4\n",
       "dtype: int64"
      ]
     },
     "execution_count": 27,
     "metadata": {},
     "output_type": "execute_result"
    }
   ],
   "source": [
    "x.sub(1)"
   ]
  },
  {
   "cell_type": "code",
   "execution_count": 28,
   "metadata": {
    "ExecuteTime": {
     "end_time": "2020-03-01T12:26:31.718234Z",
     "start_time": "2020-03-01T12:26:31.709285Z"
    }
   },
   "outputs": [
    {
     "data": {
      "text/plain": [
       "a     2\n",
       "b     4\n",
       "c     8\n",
       "d    10\n",
       "dtype: int64"
      ]
     },
     "execution_count": 28,
     "metadata": {},
     "output_type": "execute_result"
    }
   ],
   "source": [
    "x.mul(2)"
   ]
  },
  {
   "cell_type": "code",
   "execution_count": 29,
   "metadata": {
    "ExecuteTime": {
     "end_time": "2020-03-01T12:26:48.040159Z",
     "start_time": "2020-03-01T12:26:48.033146Z"
    }
   },
   "outputs": [
    {
     "data": {
      "text/plain": [
       "a   -1.0\n",
       "b   -2.0\n",
       "c   -4.0\n",
       "d   -5.0\n",
       "dtype: float64"
      ]
     },
     "execution_count": 29,
     "metadata": {},
     "output_type": "execute_result"
    }
   ],
   "source": [
    "x.div(-1)"
   ]
  },
  {
   "cell_type": "code",
   "execution_count": 34,
   "metadata": {
    "ExecuteTime": {
     "end_time": "2020-03-01T12:27:49.461427Z",
     "start_time": "2020-03-01T12:27:49.453756Z"
    }
   },
   "outputs": [
    {
     "data": {
      "text/plain": [
       "a     1\n",
       "b     4\n",
       "c    16\n",
       "d    25\n",
       "dtype: int64"
      ]
     },
     "execution_count": 34,
     "metadata": {},
     "output_type": "execute_result"
    }
   ],
   "source": [
    "x.pow(2)"
   ]
  },
  {
   "cell_type": "code",
   "execution_count": 35,
   "metadata": {
    "ExecuteTime": {
     "end_time": "2020-03-01T12:28:10.441737Z",
     "start_time": "2020-03-01T12:28:10.430325Z"
    }
   },
   "outputs": [
    {
     "data": {
      "text/plain": [
       "a    1\n",
       "b    2\n",
       "c    4\n",
       "d    5\n",
       "dtype: int64"
      ]
     },
     "execution_count": 35,
     "metadata": {},
     "output_type": "execute_result"
    }
   ],
   "source": [
    "x.abs()"
   ]
  },
  {
   "cell_type": "markdown",
   "metadata": {},
   "source": [
    "#### EJEMPLO: métodos agg"
   ]
  },
  {
   "cell_type": "code",
   "execution_count": 30,
   "metadata": {
    "ExecuteTime": {
     "end_time": "2020-03-01T12:27:17.728429Z",
     "start_time": "2020-03-01T12:27:17.722504Z"
    }
   },
   "outputs": [
    {
     "data": {
      "text/plain": [
       "12"
      ]
     },
     "execution_count": 30,
     "metadata": {},
     "output_type": "execute_result"
    }
   ],
   "source": [
    "x.sum()"
   ]
  },
  {
   "cell_type": "code",
   "execution_count": 31,
   "metadata": {
    "ExecuteTime": {
     "end_time": "2020-03-01T12:27:28.299574Z",
     "start_time": "2020-03-01T12:27:28.293767Z"
    }
   },
   "outputs": [
    {
     "data": {
      "text/plain": [
       "40"
      ]
     },
     "execution_count": 31,
     "metadata": {},
     "output_type": "execute_result"
    }
   ],
   "source": [
    "x.prod()"
   ]
  },
  {
   "cell_type": "code",
   "execution_count": 32,
   "metadata": {
    "ExecuteTime": {
     "end_time": "2020-03-01T12:27:35.064117Z",
     "start_time": "2020-03-01T12:27:35.057148Z"
    }
   },
   "outputs": [
    {
     "data": {
      "text/plain": [
       "3.0"
      ]
     },
     "execution_count": 32,
     "metadata": {},
     "output_type": "execute_result"
    }
   ],
   "source": [
    "x.mean()"
   ]
  },
  {
   "cell_type": "markdown",
   "metadata": {},
   "source": [
    "##### EJEMPLO - serie vs. serie"
   ]
  },
  {
   "cell_type": "code",
   "execution_count": 38,
   "metadata": {
    "ExecuteTime": {
     "end_time": "2020-03-01T12:29:32.910221Z",
     "start_time": "2020-03-01T12:29:32.903395Z"
    }
   },
   "outputs": [
    {
     "data": {
      "text/plain": [
       "a    1\n",
       "b    2\n",
       "c    4\n",
       "d    5\n",
       "dtype: int64"
      ]
     },
     "execution_count": 38,
     "metadata": {},
     "output_type": "execute_result"
    }
   ],
   "source": [
    "y= pd.Series([1,2,4,5], ['a','b','c','d'])\n",
    "y"
   ]
  },
  {
   "cell_type": "code",
   "execution_count": 39,
   "metadata": {
    "ExecuteTime": {
     "end_time": "2020-03-01T12:29:33.148048Z",
     "start_time": "2020-03-01T12:29:33.122841Z"
    }
   },
   "outputs": [
    {
     "data": {
      "text/plain": [
       "3.333333333333333"
      ]
     },
     "execution_count": 39,
     "metadata": {},
     "output_type": "execute_result"
    }
   ],
   "source": [
    "x.cov(y)"
   ]
  },
  {
   "cell_type": "markdown",
   "metadata": {},
   "source": [
    "## Métodos exploratorios"
   ]
  },
  {
   "cell_type": "markdown",
   "metadata": {},
   "source": [
    "<style> table {display: block} </style>\n",
    "|Función|Descripción|\n",
    "|---|------|\n",
    "|combine_first()|Method is used to combine two series into one|\n",
    "|count()|Returns number of non-NA/null observations in the Series|\n",
    "|size()|Returns the number of elements in the underlying data|\n",
    "|name()|Method allows to give a name to a Series object, i.e. to the column|\n",
    "|is_unique()|Method returns boolean if values in the object are unique|\n",
    "|idxmax()|Method to extract the index positions of the highest values in a Series|\n",
    "|idxmin()|Method to extract the index positions of the lowest values in a Series|\n",
    "|sort_values()|Method is called on a Series to sort the values in ascending or descending order|\n",
    "|sort_index()|Method is called on a pandas Series to sort it by the index instead of its values|\n",
    "|head()|Method is used to return a specified number of rows from the beginning of a Series. The method returns a brand new Series|\n",
    "|tail()|Method is used to return a specified number of rows from the end of a Series. The method returns a brand new Series|\n",
    "|le()|Used to compare every element of Caller series with passed series.It returns True for every element which is Less than or Equal to the element in passed series|\n",
    "|ne()|Used to compare every element of Caller series with passed series. It returns True for every element which is Not Equal to the element in passed series|\n",
    "|ge()|Used to compare every element of Caller series with passed series. It returns True for every element which is Greater than or Equal to the element in passed series|\n",
    "|eq()|Used to compare every element of Caller series with passed series. It returns True for every element which is Equal to the element in passed series|\n",
    "|gt()|Used to compare two series and return Boolean value for every respective element|\n",
    "|lt()|Used to compare two series and return Boolean value for every respective element|\n",
    "|clip()|Used to clip value below and above to passed Least and Max value|\n",
    "|clip_lower()|Used to clip values below a passed least value|\n",
    "|clip_upper()|Used to clip values above a passed maximum value|\n",
    "|astype()|Method is used to change data type of a series|\n",
    "|tolist()|Method is used to convert a series to list|\n",
    "|get()|Method is called on a Series to extract values from a Series. This is alternative syntax to the traditional bracket syntax|\n",
    "|unique()|Pandas unique() is used to see the unique values in a particular column|\n",
    "|nunique()|Pandas nunique() is used to get a count of unique values|\n",
    "|value_counts()|Method to count the number of the times each unique value occurs in a Series|\n",
    "|factorize()|Method helps to get the numeric representation of an array by identifying distinct values|\n",
    "|map()|Method to tie together the values from one object to another|\n",
    "|between()|Pandas between() method is used on series to check which values lie between first and second argument|\n",
    "|apply()|Method is called and feeded a Python function as an argument to use the function on every Series value. This method is helpful for executing custom operations that are not included in pandas or numpy|"
   ]
  },
  {
   "cell_type": "code",
   "execution_count": null,
   "metadata": {},
   "outputs": [],
   "source": []
  },
  {
   "cell_type": "markdown",
   "metadata": {},
   "source": [
    "Practiquemos algunos métodos exploratorios muy utilizados en la manipulación de datos."
   ]
  },
  {
   "cell_type": "code",
   "execution_count": 156,
   "metadata": {
    "ExecuteTime": {
     "end_time": "2021-02-04T21:49:15.591083Z",
     "start_time": "2021-02-04T21:49:15.575080Z"
    }
   },
   "outputs": [
    {
     "data": {
      "text/plain": [
       "0    1\n",
       "1    5\n",
       "2    5\n",
       "3    3\n",
       "4    1\n",
       "dtype: int32"
      ]
     },
     "execution_count": 156,
     "metadata": {},
     "output_type": "execute_result"
    }
   ],
   "source": [
    "Serie = pd.Series(np.random.randint(0, 10, 20))\n",
    "Serie.head()"
   ]
  },
  {
   "cell_type": "code",
   "execution_count": 157,
   "metadata": {
    "ExecuteTime": {
     "end_time": "2021-02-04T21:49:15.989174Z",
     "start_time": "2021-02-04T21:49:15.983174Z"
    }
   },
   "outputs": [
    {
     "data": {
      "text/plain": [
       "array([1, 5, 3, 2, 4, 8, 0, 6, 9])"
      ]
     },
     "execution_count": 157,
     "metadata": {},
     "output_type": "execute_result"
    }
   ],
   "source": [
    "Serie.unique()"
   ]
  },
  {
   "cell_type": "code",
   "execution_count": 158,
   "metadata": {
    "ExecuteTime": {
     "end_time": "2021-02-04T21:49:16.384559Z",
     "start_time": "2021-02-04T21:49:16.366546Z"
    }
   },
   "outputs": [
    {
     "data": {
      "text/plain": [
       "9"
      ]
     },
     "execution_count": 158,
     "metadata": {},
     "output_type": "execute_result"
    }
   ],
   "source": [
    "Serie.nunique()"
   ]
  },
  {
   "cell_type": "code",
   "execution_count": 159,
   "metadata": {
    "ExecuteTime": {
     "end_time": "2021-02-04T21:49:18.742127Z",
     "start_time": "2021-02-04T21:49:18.733127Z"
    }
   },
   "outputs": [
    {
     "data": {
      "text/plain": [
       "9    4\n",
       "5    4\n",
       "3    3\n",
       "6    2\n",
       "2    2\n",
       "1    2\n",
       "8    1\n",
       "4    1\n",
       "0    1\n",
       "dtype: int64"
      ]
     },
     "execution_count": 159,
     "metadata": {},
     "output_type": "execute_result"
    }
   ],
   "source": [
    "Serie.value_counts()"
   ]
  },
  {
   "cell_type": "code",
   "execution_count": 163,
   "metadata": {
    "ExecuteTime": {
     "end_time": "2021-02-04T21:50:33.759181Z",
     "start_time": "2021-02-04T21:50:33.744183Z"
    }
   },
   "outputs": [
    {
     "data": {
      "text/plain": [
       "(-0.009999999999999998, 3.0]    0.40\n",
       "(3.0, 6.0]                      0.35\n",
       "(6.0, 9.0]                      0.25\n",
       "dtype: float64"
      ]
     },
     "execution_count": 163,
     "metadata": {},
     "output_type": "execute_result"
    }
   ],
   "source": [
    "Serie.value_counts(normalize=True, bins=3)"
   ]
  },
  {
   "cell_type": "code",
   "execution_count": 165,
   "metadata": {
    "ExecuteTime": {
     "end_time": "2021-02-04T21:51:27.431176Z",
     "start_time": "2021-02-04T21:51:27.421176Z"
    }
   },
   "outputs": [
    {
     "data": {
      "text/plain": [
       "0     1\n",
       "1     5\n",
       "2     5\n",
       "3     3\n",
       "4     1\n",
       "5     2\n",
       "6     4\n",
       "7     3\n",
       "8     8\n",
       "9     0\n",
       "10    6\n",
       "11    9\n",
       "12    3\n",
       "13    9\n",
       "14    2\n",
       "15    5\n",
       "16    9\n",
       "17    6\n",
       "18    9\n",
       "19    5\n",
       "dtype: object"
      ]
     },
     "execution_count": 165,
     "metadata": {},
     "output_type": "execute_result"
    }
   ],
   "source": [
    "Serie.astype(str)"
   ]
  },
  {
   "cell_type": "code",
   "execution_count": 167,
   "metadata": {
    "ExecuteTime": {
     "end_time": "2021-02-04T21:53:12.214038Z",
     "start_time": "2021-02-04T21:53:12.200045Z"
    }
   },
   "outputs": [
    {
     "data": {
      "text/plain": [
       "0      NaN\n",
       "1      NaN\n",
       "2      NaN\n",
       "3      NaN\n",
       "4      NaN\n",
       "5      NaN\n",
       "6      NaN\n",
       "7      NaN\n",
       "8      NaN\n",
       "9      NaN\n",
       "10    6.55\n",
       "11     NaN\n",
       "12     NaN\n",
       "13     NaN\n",
       "14     NaN\n",
       "15     NaN\n",
       "16     NaN\n",
       "17    6.55\n",
       "18     NaN\n",
       "19     NaN\n",
       "dtype: float64"
      ]
     },
     "execution_count": 167,
     "metadata": {},
     "output_type": "execute_result"
    }
   ],
   "source": [
    "Serie.map({6:6.55})"
   ]
  },
  {
   "cell_type": "code",
   "execution_count": 168,
   "metadata": {
    "ExecuteTime": {
     "end_time": "2021-02-04T21:54:54.250727Z",
     "start_time": "2021-02-04T21:54:54.233128Z"
    }
   },
   "outputs": [
    {
     "data": {
      "text/plain": [
       "0      1\n",
       "1     25\n",
       "2     25\n",
       "3      9\n",
       "4      1\n",
       "5      4\n",
       "6     16\n",
       "7      9\n",
       "8     64\n",
       "9      0\n",
       "10    36\n",
       "11    81\n",
       "12     9\n",
       "13    81\n",
       "14     4\n",
       "15    25\n",
       "16    81\n",
       "17    36\n",
       "18    81\n",
       "19    25\n",
       "dtype: int64"
      ]
     },
     "execution_count": 168,
     "metadata": {},
     "output_type": "execute_result"
    }
   ],
   "source": [
    "Serie.map(lambda x:x**2)"
   ]
  },
  {
   "cell_type": "code",
   "execution_count": 176,
   "metadata": {
    "ExecuteTime": {
     "end_time": "2021-02-04T22:00:38.625188Z",
     "start_time": "2021-02-04T22:00:38.608668Z"
    }
   },
   "outputs": [],
   "source": [
    "Serie.map?"
   ]
  },
  {
   "cell_type": "code",
   "execution_count": 174,
   "metadata": {
    "ExecuteTime": {
     "end_time": "2021-02-04T22:00:03.906169Z",
     "start_time": "2021-02-04T22:00:03.902168Z"
    }
   },
   "outputs": [],
   "source": [
    "def hola(x):\n",
    "    return x**2 + np.pi"
   ]
  },
  {
   "cell_type": "code",
   "execution_count": 175,
   "metadata": {
    "ExecuteTime": {
     "end_time": "2021-02-04T22:00:15.516589Z",
     "start_time": "2021-02-04T22:00:15.505595Z"
    }
   },
   "outputs": [
    {
     "data": {
      "text/plain": [
       "0      4.141593\n",
       "1     28.141593\n",
       "2     28.141593\n",
       "3     12.141593\n",
       "4      4.141593\n",
       "5      7.141593\n",
       "6     19.141593\n",
       "7     12.141593\n",
       "8     67.141593\n",
       "9      3.141593\n",
       "10    39.141593\n",
       "11    84.141593\n",
       "12    12.141593\n",
       "13    84.141593\n",
       "14     7.141593\n",
       "15    28.141593\n",
       "16    84.141593\n",
       "17    39.141593\n",
       "18    84.141593\n",
       "19    28.141593\n",
       "dtype: float64"
      ]
     },
     "execution_count": 175,
     "metadata": {},
     "output_type": "execute_result"
    }
   ],
   "source": [
    "Serie.apply(hola)"
   ]
  },
  {
   "cell_type": "markdown",
   "metadata": {},
   "source": [
    "Ejercicio: Escribir una función que reciba un diccionario con las notas de los alumnos en curso en un examen y devuelva una serie con las notas de los alumnos aprobados ordenadas de mayor a menor."
   ]
  },
  {
   "cell_type": "code",
   "execution_count": null,
   "metadata": {},
   "outputs": [],
   "source": [
    "def aprobados(notas):\n",
    "    notas = pd.Series(notas)\n",
    "    return notas[notas >= 5].sort_values(ascending=False)\n",
    "\n",
    "notas = {'Juan':9, 'María':6.5, 'Pedro':4, 'Carmen': 8.5, 'Luis': 5}\n",
    "print(aprobados(notas))"
   ]
  },
  {
   "cell_type": "code",
   "execution_count": null,
   "metadata": {},
   "outputs": [],
   "source": []
  },
  {
   "cell_type": "code",
   "execution_count": null,
   "metadata": {},
   "outputs": [],
   "source": []
  },
  {
   "cell_type": "code",
   "execution_count": null,
   "metadata": {},
   "outputs": [],
   "source": []
  },
  {
   "cell_type": "code",
   "execution_count": null,
   "metadata": {},
   "outputs": [],
   "source": []
  },
  {
   "cell_type": "markdown",
   "metadata": {},
   "source": [
    "# Referencias "
   ]
  },
  {
   "cell_type": "markdown",
   "metadata": {},
   "source": [
    "[Ref1](https://pandas.pydata.org/pandas-docs/stable/user_guide/indexing.html)"
   ]
  },
  {
   "cell_type": "markdown",
   "metadata": {},
   "source": [
    "[Ref2](https://www.geeksforgeeks.org/numpy-in-python-set-1-introduction/)"
   ]
  },
  {
   "cell_type": "markdown",
   "metadata": {
    "ExecuteTime": {
     "end_time": "2020-02-15T12:29:36.193638Z",
     "start_time": "2020-02-15T12:29:36.185337Z"
    }
   },
   "source": [
    "[Ref3](https://pandas.pydata.org/pandas-docs/version/0.23.4/generated/pandas.Series.html)"
   ]
  }
 ],
 "metadata": {
  "hide_input": false,
  "kernelspec": {
   "display_name": "Python 3",
   "language": "python",
   "name": "python3"
  },
  "language_info": {
   "codemirror_mode": {
    "name": "ipython",
    "version": 3
   },
   "file_extension": ".py",
   "mimetype": "text/x-python",
   "name": "python",
   "nbconvert_exporter": "python",
   "pygments_lexer": "ipython3",
   "version": "3.8.10"
  },
  "latex_envs": {
   "LaTeX_envs_menu_present": true,
   "autoclose": false,
   "autocomplete": true,
   "bibliofile": "biblio.bib",
   "cite_by": "apalike",
   "current_citInitial": 1,
   "eqLabelWithNumbers": true,
   "eqNumInitial": 1,
   "hotkeys": {
    "equation": "Ctrl-E",
    "itemize": "Ctrl-I"
   },
   "labels_anchors": false,
   "latex_user_defs": false,
   "report_style_numbering": false,
   "user_envs_cfg": false
  },
  "nbTranslate": {
   "displayLangs": [
    "*"
   ],
   "hotkey": "alt-t",
   "langInMainMenu": true,
   "sourceLang": "en",
   "targetLang": "fr",
   "useGoogleTranslate": true
  },
  "toc": {
   "base_numbering": 1,
   "nav_menu": {},
   "number_sections": true,
   "sideBar": true,
   "skip_h1_title": false,
   "title_cell": "Table of Contents",
   "title_sidebar": "Contents",
   "toc_cell": false,
   "toc_position": {},
   "toc_section_display": true,
   "toc_window_display": false
  },
  "varInspector": {
   "cols": {
    "lenName": 16,
    "lenType": 16,
    "lenVar": 40
   },
   "kernels_config": {
    "python": {
     "delete_cmd_postfix": "",
     "delete_cmd_prefix": "del ",
     "library": "var_list.py",
     "varRefreshCmd": "print(var_dic_list())"
    },
    "r": {
     "delete_cmd_postfix": ") ",
     "delete_cmd_prefix": "rm(",
     "library": "var_list.r",
     "varRefreshCmd": "cat(var_dic_list()) "
    }
   },
   "types_to_exclude": [
    "module",
    "function",
    "builtin_function_or_method",
    "instance",
    "_Feature"
   ],
   "window_display": false
  }
 },
 "nbformat": 4,
 "nbformat_minor": 2
}
