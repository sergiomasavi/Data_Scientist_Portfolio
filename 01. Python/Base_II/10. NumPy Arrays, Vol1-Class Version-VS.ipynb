{
 "cells": [
  {
   "cell_type": "markdown",
   "metadata": {},
   "source": [
    "<img src=\"Tarjeta.png\">"
   ]
  },
  {
   "cell_type": "markdown",
   "metadata": {},
   "source": [
    "# Módulos en Python\n",
    "\n",
    "Los módulos y los paquetes de Python son dos mecanismos que facilitan lo que llamamos la **programación modular**. \n",
    "\n",
    "La programación modular se refiere al procesor de particionar un código largo y vasto en pequeñas y separadas subtareas o módulos más manejables. Estos módulos individuales puden ser juntados como bloques de construcción para crear una aplicación entera grande. \n",
    "\n",
    "Esta manera de programar tiene muchas ventajas;\n",
    "- simplicidad\n",
    "- mantenibilidad\n",
    "- reciclado\n",
    "- abasto\n",
    "\n",
    "Así, un módulo vendría a ser un fichero con un conjunto de funciones que queremos que incluya nuestro programa global. \n",
    "\n",
    "## Introducción a los Módulos\n",
    "\n",
    "### Crear un módulo\n",
    "\n",
    "Crear un módulo es tan sencillo como escribir el código que queremos que incorpore en un fichero con la extensión *.py*\n",
    "\n",
    "#### EJEMPLO: Crear módulo mimodulo.py\n",
    "\n",
    "**Importante!** Para crear el módulo tenemos que crear un fichero con extensión .py que contenga el código que nos interesa. \n",
    "\n",
    "Para crear el fichero, salir a la página de entrada del notebook y clickar *New > Text File*\n",
    "\n",
    "![title](https://academy.vertabelo.com/blog/jupyter-notebook-python-ide-installation-tips/05.png)\n",
    "\n",
    "En el nuevo fichero, **escribimos el código** que nos interese"
   ]
  },
  {
   "cell_type": "code",
   "execution_count": 1,
   "metadata": {
    "ExecuteTime": {
     "end_time": "2020-02-09T09:22:05.281503Z",
     "start_time": "2020-02-09T09:22:05.252050Z"
    }
   },
   "outputs": [],
   "source": [
    "#guardar el siguiente código como un nuevo fichero con la extensión .py\n",
    "def saludar(nombre):\n",
    "    print(\"Hola, \" + nombre)"
   ]
  },
  {
   "cell_type": "markdown",
   "metadata": {},
   "source": [
    "Y guardaremos el fichero con el nombre que queramos darle al módulo!\n",
    "Por ejemplo, llamaremos a nuestro módulo (fichero) *mimodulo.py*. \n",
    "**El nombre del fichero será el que usaremos después desde nuestro código principal para importar el módulo!**\n",
    "\n",
    "### Importar un módulo\n",
    "\n",
    "Ahora ya podemos usar el módulo que hemos creado, mediante el comando *import* y el nombre que le hemos dado. "
   ]
  },
  {
   "cell_type": "code",
   "execution_count": 2,
   "metadata": {
    "ExecuteTime": {
     "end_time": "2021-01-16T17:14:31.759004Z",
     "start_time": "2021-01-16T17:14:31.737999Z"
    }
   },
   "outputs": [],
   "source": [
    "import mimodulo"
   ]
  },
  {
   "cell_type": "markdown",
   "metadata": {},
   "source": [
    "### Usar un módulo \n",
    "\n",
    "Al importar el módulo, ahora **nos son accesibles y llamables todas las funciones definidas dentro del módulo**.\n",
    "\n",
    "Para hacerlo tenemos que usar la sintaxis:\n",
    "\n",
    "*nombre_modulo.funcion_del_modulo(parametro_funcion)*\n",
    "\n",
    "#### EJEMPLO"
   ]
  },
  {
   "cell_type": "code",
   "execution_count": 3,
   "metadata": {
    "ExecuteTime": {
     "end_time": "2021-02-01T17:54:24.951745Z",
     "start_time": "2021-02-01T17:54:24.946223Z"
    }
   },
   "outputs": [
    {
     "name": "stdout",
     "output_type": "stream",
     "text": [
      "Hola, Jonathan\n"
     ]
    }
   ],
   "source": [
    "mimodulo.saludar(\"Jonathan\")"
   ]
  },
  {
   "cell_type": "markdown",
   "metadata": {},
   "source": [
    "En nuestro ejemplo, hemos importado el modulo *saludos.py*, y ahora podemos usar las funciones de dentro del módulo. En nuestro caso, queremos usar la función *saludar()* de dentro el módulo, por lo que la cogemos de *saludos* con la sintaxis: nombre_modulo.funcion_modulo\n",
    "y le pasamos un parámetro a la función\n",
    "\n",
    "### Variables en un módulo\n",
    "\n",
    "Un módulo puede contener funciones, como hemos visto, pero también variables de todo tipo (arrays, diccionarios, objetos, etc.)\n",
    "\n",
    "#### EJEMPLO: Guardar un diccionario dentro de un modulo\n",
    "\n",
    "Vamos a crear un módulo en un nuevo fichero .py que contenga el siguiente diccionario"
   ]
  },
  {
   "cell_type": "code",
   "execution_count": 4,
   "metadata": {},
   "outputs": [],
   "source": [
    "persona = {\n",
    "  \"nombre\": \"John\",\n",
    "  \"edad\": 36,\n",
    "  \"país\": \"UK\"\n",
    "}"
   ]
  },
  {
   "cell_type": "markdown",
   "metadata": {},
   "source": [
    "Y lo guardamos con el nombre mi_diccionario.py\n",
    "\n",
    "Ahora podemos importar el módulo por su nombre"
   ]
  },
  {
   "cell_type": "code",
   "execution_count": 5,
   "metadata": {
    "ExecuteTime": {
     "end_time": "2021-01-16T17:23:02.172546Z",
     "start_time": "2021-01-16T17:23:02.149617Z"
    }
   },
   "outputs": [
    {
     "ename": "ModuleNotFoundError",
     "evalue": "No module named 'mi_diccionario'",
     "output_type": "error",
     "traceback": [
      "\u001b[1;31m---------------------------------------------------------------------------\u001b[0m",
      "\u001b[1;31mModuleNotFoundError\u001b[0m                       Traceback (most recent call last)",
      "\u001b[1;32m<ipython-input-5-54e9e1d8ea49>\u001b[0m in \u001b[0;36m<module>\u001b[1;34m\u001b[0m\n\u001b[1;32m----> 1\u001b[1;33m \u001b[1;32mimport\u001b[0m \u001b[0mmi_diccionario\u001b[0m\u001b[1;33m\u001b[0m\u001b[1;33m\u001b[0m\u001b[0m\n\u001b[0m",
      "\u001b[1;31mModuleNotFoundError\u001b[0m: No module named 'mi_diccionario'"
     ]
    }
   ],
   "source": [
    "import mi_diccionario"
   ]
  },
  {
   "cell_type": "markdown",
   "metadata": {},
   "source": [
    "Y extraer del módulo mi_diccionario el valor que guarda el diccionario persona en la etiqueta \"nombre\""
   ]
  },
  {
   "cell_type": "code",
   "execution_count": 6,
   "metadata": {
    "ExecuteTime": {
     "end_time": "2021-01-16T17:23:04.319111Z",
     "start_time": "2021-01-16T17:23:04.296224Z"
    }
   },
   "outputs": [
    {
     "data": {
      "text/plain": [
       "'John'"
      ]
     },
     "execution_count": 6,
     "metadata": {},
     "output_type": "execute_result"
    }
   ],
   "source": [
    "mi_diccionario.persona[\"nombre\"]"
   ]
  },
  {
   "cell_type": "markdown",
   "metadata": {},
   "source": [
    "### Renombrar un módulo\n",
    "\n",
    "Dado que hay que referenciar el módulo para usar sus funciones en el código main, puede ser de utilidad crear una abreviación del nombre del módulo.\n",
    "\n",
    "Para hacerlo, usamos el comando *as* al importar el módulo\n"
   ]
  },
  {
   "cell_type": "code",
   "execution_count": 15,
   "metadata": {
    "ExecuteTime": {
     "end_time": "2020-02-09T09:41:44.591295Z",
     "start_time": "2020-02-09T09:41:44.584498Z"
    }
   },
   "outputs": [
    {
     "data": {
      "text/plain": [
       "'John'"
      ]
     },
     "execution_count": 15,
     "metadata": {},
     "output_type": "execute_result"
    }
   ],
   "source": [
    "import mi_diccionario as md\n",
    "md.persona[\"nombre\"]"
   ]
  },
  {
   "cell_type": "markdown",
   "metadata": {},
   "source": [
    "### Import de un Módulo\n",
    "\n",
    "A veces puede que no nos interese importar todo un módulo entero, con todas sus funciones y variables; sino que quizás solo estamos interesados en una parte o una función. \n",
    "\n",
    "Para seleccionar qué queremos importar de un módulo usaremos el comando **from**"
   ]
  },
  {
   "cell_type": "code",
   "execution_count": 40,
   "metadata": {
    "ExecuteTime": {
     "end_time": "2020-02-09T10:02:48.328459Z",
     "start_time": "2020-02-09T10:02:48.318970Z"
    }
   },
   "outputs": [
    {
     "name": "stdout",
     "output_type": "stream",
     "text": [
      "John\n"
     ]
    }
   ],
   "source": [
    "from mi_diccionario import persona\n",
    "print(persona[\"nombre\"])"
   ]
  },
  {
   "cell_type": "markdown",
   "metadata": {},
   "source": [
    "**Importante!** Al no importar el módulo entero, no podremos usar el nombre del módulo para referenciar la función a usar del módulo, sino que usaremos directamente la función importada.\n",
    "\n",
    "Es decir en el ejemplo anterior, \n",
    "- *modulo_extended.persona* nos daría error\n",
    "- y usaremos *persona* directamente\n",
    "\n",
    "### Importar las variables sin tener que especificar módulo\n",
    "\n",
    "Si queremos usar las variables sin tener que especificar el módulo, podemos hacerlo importando el módulo de la siguiente forma"
   ]
  },
  {
   "cell_type": "code",
   "execution_count": 3,
   "metadata": {
    "ExecuteTime": {
     "end_time": "2021-02-01T17:57:41.377407Z",
     "start_time": "2021-02-01T17:57:41.368392Z"
    }
   },
   "outputs": [],
   "source": [
    "from mi_diccionario import *"
   ]
  },
  {
   "cell_type": "markdown",
   "metadata": {},
   "source": [
    "#### EJEMPLO"
   ]
  },
  {
   "cell_type": "code",
   "execution_count": 6,
   "metadata": {
    "ExecuteTime": {
     "end_time": "2021-02-01T17:58:19.968424Z",
     "start_time": "2021-02-01T17:58:19.962411Z"
    }
   },
   "outputs": [
    {
     "name": "stdout",
     "output_type": "stream",
     "text": [
      "John\n"
     ]
    }
   ],
   "source": [
    "from mi_diccionario import *\n",
    "print(persona[\"nombre\"])"
   ]
  },
  {
   "cell_type": "markdown",
   "metadata": {},
   "source": [
    "**Importante!** Es mejor especificar siempre el módulo del cual sale una función o variable, ya que si estamos usando distintos módulos en un programa con funciones o variables solapadas y no referimos de cual proviene cada una, nos puede dar errores!\n",
    "\n",
    "## Módulos Built-in\n",
    "\n",
    "### Introducción\n",
    "\n",
    "Hasta ahora hemos visto que podemos crear módulos mediante la creación de ficheros .py que después llamamos desde el programa principal. \n",
    "\n",
    "Sin embargo, existen módulos predefinidos o Built-in de Python que puedes usar siempre que quieras tan solo haciendo el import\n",
    "\n",
    "![title](data:image/png;base64,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)\n",
    "\n",
    "Para ver los que tienes accesibles, simplemente clica:"
   ]
  },
  {
   "cell_type": "code",
   "execution_count": 6,
   "metadata": {
    "ExecuteTime": {
     "end_time": "2021-02-01T18:00:28.156922Z",
     "start_time": "2021-02-01T18:00:08.789451Z"
    },
    "scrolled": false
   },
   "outputs": [
    {
     "name": "stdout",
     "output_type": "stream",
     "text": [
      "\n",
      "Please wait a moment while I gather a list of all available modules...\n",
      "\n",
      "C:\\ProgramData\\Anaconda3\\lib\\site-packages\\IPython\\kernel\\__init__.py:12: ShimWarning: The `IPython.kernel` package has been deprecated since IPython 4.0.You should import from ipykernel or jupyter_client instead.\n",
      "  warn(\"The `IPython.kernel` package has been deprecated since IPython 4.0.\"\n",
      "C:\\ProgramData\\Anaconda3\\lib\\pkgutil.py:92: MatplotlibDeprecationWarning: \n",
      "The matplotlib.compat module was deprecated in Matplotlib 3.3 and will be removed two minor releases later.\n",
      "  __import__(info.name)\n",
      "C:\\ProgramData\\Anaconda3\\lib\\site-packages\\nltk\\twitter\\__init__.py:21: UserWarning: The twython library has not been installed. Some functionality from the twitter package will not be available.\n",
      "  warnings.warn(\n",
      "C:\\ProgramData\\Anaconda3\\lib\\site-packages\\skimage\\viewer\\utils\\__init__.py:1: UserWarning: Recommended matplotlib backend is `Agg` for full skimage.viewer functionality.\n",
      "  from .core import *\n",
      "Update LANGUAGE_CODES (inside config/base.py) if a new translation has been added to Spyder\n",
      "C:\\ProgramData\\Anaconda3\\lib\\site-packages\\qtawesome\\iconic_font.py:311: UserWarning: You need to have a running QApplication to use QtAwesome!\n",
      "  warnings.warn(\"You need to have a running \"\n",
      "C:\\ProgramData\\Anaconda3\\lib\\pkgutil.py:107: VisibleDeprecationWarning: zmq.eventloop.minitornado is deprecated in pyzmq 14.0 and will be removed.\n",
      "    Install tornado itself to use zmq with the tornado IOLoop.\n",
      "    \n",
      "  yield from walk_packages(path, info.name+'.', onerror)\n",
      "Cython              brain_ssl           menuinst            snowballstemmer\n",
      "IPython             brain_subprocess    mimetypes           socket\n",
      "MySQLdb             brain_threading     mimodulo            socketserver\n",
      "OpenSSL             brain_typing        mistune             socks\n",
      "PIL                 brain_uuid          mkl                 sockshandler\n",
      "PyQt5               brotli              mkl_fft             sortedcollections\n",
      "__future__          bs4                 mkl_random          sortedcontainers\n",
      "_abc                builtins            mmap                soupsieve\n",
      "_ast                bz2                 mmapfile            sphinx\n",
      "_asyncio            cProfile            mmsystem            sphinxcontrib\n",
      "_bisect             calendar            mock                spyder\n",
      "_blake2             certifi             modulefinder        spyder_kernels\n",
      "_bootlocale         cffi                more_itertools      sqlalchemy\n",
      "_bz2                cgi                 mpmath              sqlite3\n",
      "_cffi_backend       cgitb               msgpack             sre_compile\n",
      "_codecs             chardet             msilib              sre_constants\n",
      "_codecs_cn          chunk               msvcrt              sre_parse\n",
      "_codecs_hk          click               multipledispatch    sshtunnel\n",
      "_codecs_iso2022     cloudpickle         multiprocessing     ssl\n",
      "_codecs_jp          clyent              mysql               sspi\n",
      "_codecs_kr          cmath               mysqlx              sspicon\n",
      "_codecs_tw          cmd                 nacl                stat\n",
      "_collections        code                navigator_updater   statistics\n",
      "_collections_abc    codecs              nbclient            statsmodels\n",
      "_compat_pickle      codeop              nbconvert           storemagic\n",
      "_compression        collections         nbformat            string\n",
      "_contextvars        colorama            nest_asyncio        stringprep\n",
      "_csv                colorsys            netbios             struct\n",
      "_ctypes             commctrl            netrc               subprocess\n",
      "_ctypes_test        compileall          networkx            sunau\n",
      "_datetime           completion          nltk                symbol\n",
      "_decimal            comtypes            nntplib             symbolProvider\n",
      "_distutils_hack     concurrent          normalizeForInterpreter sympy\n",
      "_dummy_thread       conda               normalizeSelection  sympyprinting\n",
      "_elementtree        conda_build         nose                symtable\n",
      "_functools          conda_env           notebook            sys\n",
      "_hashlib            conda_package_handling nt                  sysconfig\n",
      "_heapq              conda_verify        ntpath              tables\n",
      "_imp                configparser        ntsecuritycon       tabnanny\n",
      "_io                 contextlib          nturl2path          tarfile\n",
      "_json               contextlib2         numba               tblib\n",
      "_locale             contextvars         numbers             telnetlib\n",
      "_lsprof             copy                numexpr             tempfile\n",
      "_lzma               copyreg             numpy               terminado\n",
      "_markupbase         crypt               numpydoc            test\n",
      "_md5                cryptography        odbc                test_data\n",
      "_msi                csv                 olefile             test_pycosat\n",
      "_multibytecodec     ctypes              opcode              testlauncher\n",
      "_multiprocessing    curl                openpyxl            testpath\n",
      "_mysql_connector    curses              operator            tests\n",
      "_mysqlxpb           cwp                 optparse            textwrap\n",
      "_nsis               cycler              os                  this\n",
      "_opcode             cython              packaging           threading\n",
      "_operator           cythonmagic         pandas              threadpoolctl\n",
      "_osx_support        cytoolz             pandocfilters       tifffile\n",
      "_overlapped         dask                paramiko            time\n",
      "_pickle             dataclasses         parser              timeit\n",
      "_py_abc             datetime            parso               timer\n",
      "_pydecimal          dateutil            partd               tkinter\n",
      "_pyio               dbi                 past                tlz\n",
      "_pyrsistent_version dbm                 path                token\n",
      "_pytest             dde                 pathlib             tokenize\n",
      "_queue              decimal             pathlib2            toml\n",
      "_random             decorator           pathtools           toolz\n",
      "_sha1               defusedxml          patsy               tornado\n",
      "_sha256             diff_match_patch    pdb                 tqdm\n",
      "_sha3               difflib             pep8                trace\n",
      "_sha512             dis                 perfmon             traceback\n",
      "_signal             distributed         pexpect             tracemalloc\n",
      "_sitebuiltins       distutils           pickle              traitlets\n",
      "_socket             doctest             pickleshare         tty\n",
      "_sqlite3            docutils            pickletools         turtle\n",
      "_sre                dummy_threading     pip                 turtledemo\n",
      "_ssl                easy_install        pipes               types\n",
      "_stat               email               pkg_resources       typing\n",
      "_statistics         encodings           pkginfo             typing_extensions\n",
      "_string             ensurepip           pkgutil             ujson\n",
      "_strptime           entrypoints         platform            unicodecsv\n",
      "_struct             enum                plistlib            unicodedata\n",
      "_symtable           errno               pluggy              unittest\n",
      "_system_path        et_xmlfile          ply                 urllib\n",
      "_testbuffer         fastcache           poplib              urllib3\n",
      "_testcapi           faulthandler        posixpath           uu\n",
      "_testconsole        filecmp             pprint              uuid\n",
      "_testimportmultiple fileinput           printEnvVariables   venv\n",
      "_testinternalcapi   filelock            printEnvVariablesToFile visualstudio_py_testlauncher\n",
      "_testmultiphase     flake8              profile             voluptuous\n",
      "_thread             flask               prometheus_client   vscode_datascience_helpers\n",
      "_threading_local    fnmatch             prompt_toolkit      warnings\n",
      "_tkinter            formatter           pstats              watchdog\n",
      "_tracemalloc        fractions           psutil              wave\n",
      "_warnings           fsspec              pty                 wcwidth\n",
      "_weakref            ftplib              pvectorc            weakref\n",
      "_weakrefset         functools           py                  webbrowser\n",
      "_win32sysloader     future              py_compile          webencodings\n",
      "_winapi             gc                  pyclbr              werkzeug\n",
      "_winxptheme         genericpath         pycodestyle         wheel\n",
      "_xxsubinterpreters  getopt              pycosat             widgetsnbextension\n",
      "_yaml               getpass             pycparser           win2kras\n",
      "abc                 gettext             pycurl              win32api\n",
      "adodbapi            gevent              pydoc               win32clipboard\n",
      "afxres              glob                pydoc_data          win32com\n",
      "aifc                glob2               pydocstyle          win32con\n",
      "alabaster           greenlet            pyexpat             win32console\n",
      "anaconda_navigator  gzip                pyflakes            win32cred\n",
      "anaconda_project    h5py                pygments            win32crypt\n",
      "antigravity         hashlib             pylab               win32cryptcon\n",
      "argh                heapdict            pylint              win32ctypes\n",
      "argon2              heapq               pyls                win32event\n",
      "argparse            hmac                pyls_jsonrpc        win32evtlog\n",
      "array               html                pymysql             win32evtlogutil\n",
      "asn1crypto          html5lib            pyodbc              win32file\n",
      "ast                 http                pyparsing           win32gui\n",
      "astroid             hubspot             pyreadline          win32gui_struct\n",
      "astropy             hubspot3            pyrecord            win32help\n",
      "async_generator     idlelib             pyrsistent          win32inet\n",
      "asynchat            idna                pytest              win32inetcon\n",
      "asyncio             imageio             pythoncom           win32job\n",
      "asyncore            imagesize           pytz                win32lz\n",
      "atexit              imaplib             pyvsc-run-isolated  win32net\n",
      "atomicwrites        imghdr              pywin               win32netcon\n",
      "attr                imp                 pywin32_bootstrap   win32pdh\n",
      "audioop             importlib           pywin32_testutil    win32pdhquery\n",
      "autopep8            importlib_metadata  pywintypes          win32pdhutil\n",
      "autoreload          iniconfig           pywt                win32pipe\n",
      "babel               inspect             pyximport           win32print\n",
      "backcall            install_debugpy     qdarkstyle          win32process\n",
      "backports           interpreterInfo     qtawesome           win32profile\n",
      "base64              intervaltree        qtconsole           win32ras\n",
      "bcrypt              io                  qtpy                win32rcparser\n",
      "bdb                 ipaddress           queue               win32security\n",
      "binascii            ipykernel           quopri              win32service\n",
      "binhex              ipykernel_launcher  random              win32serviceutil\n",
      "binstar_client      ipython_genutils    rasutil             win32timezone\n",
      "bisect              ipywidgets          re                  win32trace\n",
      "bitarray            isapi               readline            win32traceutil\n",
      "bkcharts            isort               regcheck            win32transaction\n",
      "bleach              isympy              regex               win32ts\n",
      "bokeh               itertools           regutil             win32ui\n",
      "boto                itsdangerous        reprlib             win32uiole\n",
      "bottleneck          jdcal               requests            win32verstamp\n",
      "brain_argparse      jedi                rlcompleter         win32wnet\n",
      "brain_attrs         jinja2              rmagic              win_inet_pton\n",
      "brain_boto3         joblib              rope                win_unicode_console\n",
      "brain_builtin_inference json                rtree               wincertstore\n",
      "brain_collections   json5               ruamel_yaml         winerror\n",
      "brain_crypt         jsonschema          run                 winioctlcon\n",
      "brain_curses        jupyter             runJediLanguageServer winnt\n",
      "brain_dataclasses   jupyter_client      runpy               winperf\n",
      "brain_dateutil      jupyter_console     sched               winpty\n",
      "brain_fstrings      jupyter_core        scipy               winreg\n",
      "brain_functools     jupyterlab          scripts             winsound\n",
      "brain_gi            jupyterlab_pygments seaborn             winxpgui\n",
      "brain_hashlib       jupyterlab_server   secrets             winxptheme\n",
      "brain_http          keyring             select              wrapt\n",
      "brain_io            keyword             selectors           wsgiref\n",
      "brain_mechanize     kiwisolver          send2trash          xdrlib\n",
      "brain_multiprocessing lazy_object_proxy   servicemanager      xlrd\n",
      "brain_namedtuple_enum lib2to3             setuptools          xlsxwriter\n",
      "brain_nose          libarchive          shell_exec          xlwings\n",
      "brain_numpy_core_fromnumeric libfuturize         shelve              xlwt\n",
      "brain_numpy_core_function_base libpasteurize       shlex               xml\n",
      "brain_numpy_core_multiarray lief                shutil              xmlrpc\n",
      "brain_numpy_core_numeric linecache           signal              xmltodict\n",
      "brain_numpy_core_numerictypes llvmlite            simplegeneric       xxsubtype\n",
      "brain_numpy_core_umath locale              singledispatch      yaml\n",
      "brain_numpy_ndarray locket              singledispatch_helpers yapf\n",
      "brain_numpy_random_mtrand logging             sip                 yapftests\n",
      "brain_numpy_utils   lxml                sipconfig           zict\n",
      "brain_pkg_resources lzma                sipdistutils        zipapp\n",
      "brain_pytest        mailbox             site                zipfile\n",
      "brain_qt            mailcap             six                 zipimport\n",
      "brain_random        markupsafe          skimage             zipp\n",
      "brain_re            marshal             sklearn             zlib\n",
      "brain_responses     math                smtpd               zmq\n",
      "brain_scipy_signal  matplotlib          smtplib             zope\n",
      "brain_six           mccabe              sndhdr              \n",
      "\n",
      "Enter any module name to get more help.  Or, type \"modules spam\" to search\n",
      "for modules whose name or summary contain the string \"spam\".\n",
      "\n"
     ]
    }
   ],
   "source": [
    "help(\"modules\")"
   ]
  },
  {
   "cell_type": "markdown",
   "metadata": {},
   "source": [
    "![title](https://www.edureka.co/blog/content/ver.1556540029/uploads/2019/05/2019-05-10-17_16_33-Window.png)"
   ]
  },
  {
   "cell_type": "markdown",
   "metadata": {},
   "source": [
    "#### EJEMPLO"
   ]
  },
  {
   "cell_type": "code",
   "execution_count": 3,
   "metadata": {
    "ExecuteTime": {
     "end_time": "2021-02-01T18:02:56.710326Z",
     "start_time": "2021-02-01T18:02:56.691310Z"
    }
   },
   "outputs": [
    {
     "name": "stdout",
     "output_type": "stream",
     "text": [
      "Windows\n"
     ]
    }
   ],
   "source": [
    "import platform\n",
    "\n",
    "x = platform.system()\n",
    "print(x)"
   ]
  },
  {
   "cell_type": "markdown",
   "metadata": {},
   "source": [
    "### Listar funciones del módulo\n",
    "\n",
    "La función dir() es una función built-in que sirve para **listar todas las funciones** (así como las variables) de un módulo dado, **sea un módulo built-in o un módulo creado por el usuario**\n",
    "\n",
    "Así, vemos todo lo que nos puede ofrecer el módulo para nuestro programa\n",
    "\n",
    "#### EJEMPLO"
   ]
  },
  {
   "cell_type": "code",
   "execution_count": 2,
   "metadata": {
    "ExecuteTime": {
     "end_time": "2021-01-16T17:35:29.997931Z",
     "start_time": "2021-01-16T17:35:29.985403Z"
    }
   },
   "outputs": [],
   "source": [
    "import mimodulo"
   ]
  },
  {
   "cell_type": "code",
   "execution_count": 5,
   "metadata": {
    "ExecuteTime": {
     "end_time": "2021-01-16T17:35:30.856588Z",
     "start_time": "2021-01-16T17:35:30.834195Z"
    }
   },
   "outputs": [
    {
     "data": {
      "text/plain": [
       "['__builtins__',\n",
       " '__cached__',\n",
       " '__doc__',\n",
       " '__file__',\n",
       " '__loader__',\n",
       " '__name__',\n",
       " '__package__',\n",
       " '__spec__',\n",
       " 'saludar']"
      ]
     },
     "execution_count": 5,
     "metadata": {},
     "output_type": "execute_result"
    }
   ],
   "source": [
    "dir(mimodulo)"
   ]
  },
  {
   "cell_type": "code",
   "execution_count": 11,
   "metadata": {
    "ExecuteTime": {
     "end_time": "2021-01-16T17:36:01.749884Z",
     "start_time": "2021-01-16T17:36:01.736308Z"
    }
   },
   "outputs": [
    {
     "data": {
      "text/plain": [
       "['_WIN32_CLIENT_RELEASES',\n",
       " '_WIN32_SERVER_RELEASES',\n",
       " '__builtins__',\n",
       " '__cached__',\n",
       " '__copyright__',\n",
       " '__doc__',\n",
       " '__file__',\n",
       " '__loader__',\n",
       " '__name__',\n",
       " '__package__',\n",
       " '__spec__',\n",
       " '__version__',\n",
       " '_comparable_version',\n",
       " '_component_re',\n",
       " '_default_architecture',\n",
       " '_follow_symlinks',\n",
       " '_ironpython26_sys_version_parser',\n",
       " '_ironpython_sys_version_parser',\n",
       " '_java_getprop',\n",
       " '_libc_search',\n",
       " '_mac_ver_xml',\n",
       " '_node',\n",
       " '_norm_version',\n",
       " '_platform',\n",
       " '_platform_cache',\n",
       " '_pypy_sys_version_parser',\n",
       " '_sys_version',\n",
       " '_sys_version_cache',\n",
       " '_sys_version_parser',\n",
       " '_syscmd_file',\n",
       " '_syscmd_uname',\n",
       " '_syscmd_ver',\n",
       " '_uname_cache',\n",
       " '_ver_output',\n",
       " '_ver_stages',\n",
       " 'architecture',\n",
       " 'collections',\n",
       " 'java_ver',\n",
       " 'libc_ver',\n",
       " 'mac_ver',\n",
       " 'machine',\n",
       " 'node',\n",
       " 'os',\n",
       " 'platform',\n",
       " 'processor',\n",
       " 'python_branch',\n",
       " 'python_build',\n",
       " 'python_compiler',\n",
       " 'python_implementation',\n",
       " 'python_revision',\n",
       " 'python_version',\n",
       " 'python_version_tuple',\n",
       " 're',\n",
       " 'release',\n",
       " 'sys',\n",
       " 'system',\n",
       " 'system_alias',\n",
       " 'uname',\n",
       " 'uname_result',\n",
       " 'version',\n",
       " 'win32_edition',\n",
       " 'win32_is_iot',\n",
       " 'win32_ver']"
      ]
     },
     "execution_count": 11,
     "metadata": {},
     "output_type": "execute_result"
    }
   ],
   "source": [
    "import platform\n",
    "\n",
    "dir(platform)"
   ]
  },
  {
   "cell_type": "markdown",
   "metadata": {},
   "source": [
    "### Obtener documentación de un módulo\n",
    "\n",
    "Para obtener toda la información de un módulo, usaremos el comando *help()*."
   ]
  },
  {
   "cell_type": "code",
   "execution_count": 83,
   "metadata": {
    "ExecuteTime": {
     "end_time": "2020-02-09T10:48:40.127352Z",
     "start_time": "2020-02-09T10:48:40.090053Z"
    },
    "scrolled": true
   },
   "outputs": [
    {
     "name": "stdout",
     "output_type": "stream",
     "text": [
      "Help on module platform:\n",
      "\n",
      "NAME\n",
      "    platform\n",
      "\n",
      "MODULE REFERENCE\n",
      "    https://docs.python.org/3.7/library/platform\n",
      "    \n",
      "    The following documentation is automatically generated from the Python\n",
      "    source files.  It may be incomplete, incorrect or include features that\n",
      "    are considered implementation detail and may vary between Python\n",
      "    implementations.  When in doubt, consult the module reference at the\n",
      "    location listed above.\n",
      "\n",
      "DESCRIPTION\n",
      "    This module tries to retrieve as much platform-identifying data as\n",
      "    possible. It makes this information available via function APIs.\n",
      "    \n",
      "    If called from the command line, it prints the platform\n",
      "    information concatenated as single string to stdout. The output\n",
      "    format is useable as part of a filename.\n",
      "\n",
      "CLASSES\n",
      "    builtins.tuple(builtins.object)\n",
      "        uname_result\n",
      "    \n",
      "    class uname_result(builtins.tuple)\n",
      "     |  uname_result(system, node, release, version, machine, processor)\n",
      "     |  \n",
      "     |  uname_result(system, node, release, version, machine, processor)\n",
      "     |  \n",
      "     |  Method resolution order:\n",
      "     |      uname_result\n",
      "     |      builtins.tuple\n",
      "     |      builtins.object\n",
      "     |  \n",
      "     |  Methods defined here:\n",
      "     |  \n",
      "     |  __getnewargs__(self)\n",
      "     |      Return self as a plain tuple.  Used by copy and pickle.\n",
      "     |  \n",
      "     |  __repr__(self)\n",
      "     |      Return a nicely formatted representation string\n",
      "     |  \n",
      "     |  _asdict(self)\n",
      "     |      Return a new OrderedDict which maps field names to their values.\n",
      "     |  \n",
      "     |  _replace(_self, **kwds)\n",
      "     |      Return a new uname_result object replacing specified fields with new values\n",
      "     |  \n",
      "     |  ----------------------------------------------------------------------\n",
      "     |  Class methods defined here:\n",
      "     |  \n",
      "     |  _make(iterable) from builtins.type\n",
      "     |      Make a new uname_result object from a sequence or iterable\n",
      "     |  \n",
      "     |  ----------------------------------------------------------------------\n",
      "     |  Static methods defined here:\n",
      "     |  \n",
      "     |  __new__(_cls, system, node, release, version, machine, processor)\n",
      "     |      Create new instance of uname_result(system, node, release, version, machine, processor)\n",
      "     |  \n",
      "     |  ----------------------------------------------------------------------\n",
      "     |  Data descriptors defined here:\n",
      "     |  \n",
      "     |  system\n",
      "     |      Alias for field number 0\n",
      "     |  \n",
      "     |  node\n",
      "     |      Alias for field number 1\n",
      "     |  \n",
      "     |  release\n",
      "     |      Alias for field number 2\n",
      "     |  \n",
      "     |  version\n",
      "     |      Alias for field number 3\n",
      "     |  \n",
      "     |  machine\n",
      "     |      Alias for field number 4\n",
      "     |  \n",
      "     |  processor\n",
      "     |      Alias for field number 5\n",
      "     |  \n",
      "     |  ----------------------------------------------------------------------\n",
      "     |  Data and other attributes defined here:\n",
      "     |  \n",
      "     |  _field_defaults = {}\n",
      "     |  \n",
      "     |  _fields = ('system', 'node', 'release', 'version', 'machine', 'process...\n",
      "     |  \n",
      "     |  _fields_defaults = {}\n",
      "     |  \n",
      "     |  ----------------------------------------------------------------------\n",
      "     |  Methods inherited from builtins.tuple:\n",
      "     |  \n",
      "     |  __add__(self, value, /)\n",
      "     |      Return self+value.\n",
      "     |  \n",
      "     |  __contains__(self, key, /)\n",
      "     |      Return key in self.\n",
      "     |  \n",
      "     |  __eq__(self, value, /)\n",
      "     |      Return self==value.\n",
      "     |  \n",
      "     |  __ge__(self, value, /)\n",
      "     |      Return self>=value.\n",
      "     |  \n",
      "     |  __getattribute__(self, name, /)\n",
      "     |      Return getattr(self, name).\n",
      "     |  \n",
      "     |  __getitem__(self, key, /)\n",
      "     |      Return self[key].\n",
      "     |  \n",
      "     |  __gt__(self, value, /)\n",
      "     |      Return self>value.\n",
      "     |  \n",
      "     |  __hash__(self, /)\n",
      "     |      Return hash(self).\n",
      "     |  \n",
      "     |  __iter__(self, /)\n",
      "     |      Implement iter(self).\n",
      "     |  \n",
      "     |  __le__(self, value, /)\n",
      "     |      Return self<=value.\n",
      "     |  \n",
      "     |  __len__(self, /)\n",
      "     |      Return len(self).\n",
      "     |  \n",
      "     |  __lt__(self, value, /)\n",
      "     |      Return self<value.\n",
      "     |  \n",
      "     |  __mul__(self, value, /)\n",
      "     |      Return self*value.\n",
      "     |  \n",
      "     |  __ne__(self, value, /)\n",
      "     |      Return self!=value.\n",
      "     |  \n",
      "     |  __rmul__(self, value, /)\n",
      "     |      Return value*self.\n",
      "     |  \n",
      "     |  count(self, value, /)\n",
      "     |      Return number of occurrences of value.\n",
      "     |  \n",
      "     |  index(self, value, start=0, stop=9223372036854775807, /)\n",
      "     |      Return first index of value.\n",
      "     |      \n",
      "     |      Raises ValueError if the value is not present.\n",
      "\n",
      "FUNCTIONS\n",
      "    architecture(executable='/opt/anaconda3/bin/python', bits='', linkage='')\n",
      "        Queries the given executable (defaults to the Python interpreter\n",
      "        binary) for various architecture information.\n",
      "        \n",
      "        Returns a tuple (bits, linkage) which contains information about\n",
      "        the bit architecture and the linkage format used for the\n",
      "        executable. Both values are returned as strings.\n",
      "        \n",
      "        Values that cannot be determined are returned as given by the\n",
      "        parameter presets. If bits is given as '', the sizeof(pointer)\n",
      "        (or sizeof(long) on Python version < 1.5.2) is used as\n",
      "        indicator for the supported pointer size.\n",
      "        \n",
      "        The function relies on the system's \"file\" command to do the\n",
      "        actual work. This is available on most if not all Unix\n",
      "        platforms. On some non-Unix platforms where the \"file\" command\n",
      "        does not exist and the executable is set to the Python interpreter\n",
      "        binary defaults from _default_architecture are used.\n",
      "    \n",
      "    dist(distname='', version='', id='', supported_dists=('SuSE', 'debian', 'fedora', 'redhat', 'centos', 'mandrake', 'mandriva', 'rocks', 'slackware', 'yellowdog', 'gentoo', 'UnitedLinux', 'turbolinux', 'arch', 'mageia'))\n",
      "        Tries to determine the name of the Linux OS distribution name.\n",
      "        \n",
      "        The function first looks for a distribution release file in\n",
      "        /etc and then reverts to _dist_try_harder() in case no\n",
      "        suitable files are found.\n",
      "        \n",
      "        Returns a tuple (distname, version, id) which default to the\n",
      "        args given as parameters.\n",
      "    \n",
      "    java_ver(release='', vendor='', vminfo=('', '', ''), osinfo=('', '', ''))\n",
      "        Version interface for Jython.\n",
      "        \n",
      "        Returns a tuple (release, vendor, vminfo, osinfo) with vminfo being\n",
      "        a tuple (vm_name, vm_release, vm_vendor) and osinfo being a\n",
      "        tuple (os_name, os_version, os_arch).\n",
      "        \n",
      "        Values which cannot be determined are set to the defaults\n",
      "        given as parameters (which all default to '').\n",
      "    \n",
      "    libc_ver(executable='/opt/anaconda3/bin/python', lib='', version='', chunksize=16384)\n",
      "        Tries to determine the libc version that the file executable\n",
      "        (which defaults to the Python interpreter) is linked against.\n",
      "        \n",
      "        Returns a tuple of strings (lib,version) which default to the\n",
      "        given parameters in case the lookup fails.\n",
      "        \n",
      "        Note that the function has intimate knowledge of how different\n",
      "        libc versions add symbols to the executable and thus is probably\n",
      "        only useable for executables compiled using gcc.\n",
      "        \n",
      "        The file is read and scanned in chunks of chunksize bytes.\n",
      "    \n",
      "    linux_distribution(distname='', version='', id='', supported_dists=('SuSE', 'debian', 'fedora', 'redhat', 'centos', 'mandrake', 'mandriva', 'rocks', 'slackware', 'yellowdog', 'gentoo', 'UnitedLinux', 'turbolinux', 'arch', 'mageia'), full_distribution_name=1)\n",
      "    \n",
      "    mac_ver(release='', versioninfo=('', '', ''), machine='')\n",
      "        Get MacOS version information and return it as tuple (release,\n",
      "        versioninfo, machine) with versioninfo being a tuple (version,\n",
      "        dev_stage, non_release_version).\n",
      "        \n",
      "        Entries which cannot be determined are set to the parameter values\n",
      "        which default to ''. All tuple entries are strings.\n",
      "    \n",
      "    machine()\n",
      "        Returns the machine type, e.g. 'i386'\n",
      "        \n",
      "        An empty string is returned if the value cannot be determined.\n",
      "    \n",
      "    node()\n",
      "        Returns the computer's network name (which may not be fully\n",
      "        qualified)\n",
      "        \n",
      "        An empty string is returned if the value cannot be determined.\n",
      "    \n",
      "    platform(aliased=0, terse=0)\n",
      "        Returns a single string identifying the underlying platform\n",
      "        with as much useful information as possible (but no more :).\n",
      "        \n",
      "        The output is intended to be human readable rather than\n",
      "        machine parseable. It may look different on different\n",
      "        platforms and this is intended.\n",
      "        \n",
      "        If \"aliased\" is true, the function will use aliases for\n",
      "        various platforms that report system names which differ from\n",
      "        their common names, e.g. SunOS will be reported as\n",
      "        Solaris. The system_alias() function is used to implement\n",
      "        this.\n",
      "        \n",
      "        Setting terse to true causes the function to return only the\n",
      "        absolute minimum information needed to identify the platform.\n",
      "    \n",
      "    popen(cmd, mode='r', bufsize=-1)\n",
      "        Portable popen() interface.\n",
      "    \n",
      "    processor()\n",
      "        Returns the (true) processor name, e.g. 'amdk6'\n",
      "        \n",
      "        An empty string is returned if the value cannot be\n",
      "        determined. Note that many platforms do not provide this\n",
      "        information or simply return the same value as for machine(),\n",
      "        e.g.  NetBSD does this.\n",
      "    \n",
      "    python_branch()\n",
      "        Returns a string identifying the Python implementation\n",
      "        branch.\n",
      "        \n",
      "        For CPython this is the SCM branch from which the\n",
      "        Python binary was built.\n",
      "        \n",
      "        If not available, an empty string is returned.\n",
      "    \n",
      "    python_build()\n",
      "        Returns a tuple (buildno, builddate) stating the Python\n",
      "        build number and date as strings.\n",
      "    \n",
      "    python_compiler()\n",
      "        Returns a string identifying the compiler used for compiling\n",
      "        Python.\n",
      "    \n",
      "    python_implementation()\n",
      "        Returns a string identifying the Python implementation.\n",
      "        \n",
      "        Currently, the following implementations are identified:\n",
      "          'CPython' (C implementation of Python),\n",
      "          'IronPython' (.NET implementation of Python),\n",
      "          'Jython' (Java implementation of Python),\n",
      "          'PyPy' (Python implementation of Python).\n",
      "    \n",
      "    python_revision()\n",
      "        Returns a string identifying the Python implementation\n",
      "        revision.\n",
      "        \n",
      "        For CPython this is the SCM revision from which the\n",
      "        Python binary was built.\n",
      "        \n",
      "        If not available, an empty string is returned.\n",
      "    \n",
      "    python_version()\n",
      "        Returns the Python version as string 'major.minor.patchlevel'\n",
      "        \n",
      "        Note that unlike the Python sys.version, the returned value\n",
      "        will always include the patchlevel (it defaults to 0).\n",
      "    \n",
      "    python_version_tuple()\n",
      "        Returns the Python version as tuple (major, minor, patchlevel)\n",
      "        of strings.\n",
      "        \n",
      "        Note that unlike the Python sys.version, the returned value\n",
      "        will always include the patchlevel (it defaults to 0).\n",
      "    \n",
      "    release()\n",
      "        Returns the system's release, e.g. '2.2.0' or 'NT'\n",
      "        \n",
      "        An empty string is returned if the value cannot be determined.\n",
      "    \n",
      "    system()\n",
      "        Returns the system/OS name, e.g. 'Linux', 'Windows' or 'Java'.\n",
      "        \n",
      "        An empty string is returned if the value cannot be determined.\n",
      "    \n",
      "    system_alias(system, release, version)\n",
      "        Returns (system, release, version) aliased to common\n",
      "        marketing names used for some systems.\n",
      "        \n",
      "        It also does some reordering of the information in some cases\n",
      "        where it would otherwise cause confusion.\n",
      "    \n",
      "    uname()\n",
      "        Fairly portable uname interface. Returns a tuple\n",
      "        of strings (system, node, release, version, machine, processor)\n",
      "        identifying the underlying platform.\n",
      "        \n",
      "        Note that unlike the os.uname function this also returns\n",
      "        possible processor information as an additional tuple entry.\n",
      "        \n",
      "        Entries which cannot be determined are set to ''.\n",
      "    \n",
      "    version()\n",
      "        Returns the system's release version, e.g. '#3 on degas'\n",
      "        \n",
      "        An empty string is returned if the value cannot be determined.\n",
      "    \n",
      "    win32_ver(release='', version='', csd='', ptype='')\n",
      "\n",
      "DATA\n",
      "    DEV_NULL = '/dev/null'\n",
      "    __copyright__ = '\\n    Copyright (c) 1999-2000, Marc-Andre Lemburg... ...\n",
      "\n",
      "VERSION\n",
      "    1.0.8\n",
      "\n",
      "FILE\n",
      "    /opt/anaconda3/lib/python3.7/platform.py\n",
      "\n",
      "\n"
     ]
    }
   ],
   "source": [
    "help(platform)"
   ]
  },
  {
   "cell_type": "markdown",
   "metadata": {},
   "source": [
    "En nuestro módulo sólo existe una función, persona()\n",
    "\n",
    "## Built-in Módulos útiles...\n",
    "\n",
    "![title](https://static.bookstack.cn/projects/Python3_Module_Examples/module_mindmap.png)\n",
    "\n",
    "### Math Module\n",
    "\n",
    "El módulo *math* nos otorga las funciones matemáticas más populares, como:\n",
    "- funciones trigonométricas\n",
    "- funciones de representación\n",
    "- funciones logarítmicas\n",
    "- funciones de conversión de ángulos\n",
    "\n",
    "Y además, define dos constantes matemáticas:\n",
    "- el número pi\n",
    "- la constante de Euler\n",
    "\n",
    "Veamos algunos ejemplos!"
   ]
  },
  {
   "cell_type": "code",
   "execution_count": 12,
   "metadata": {
    "ExecuteTime": {
     "end_time": "2021-02-01T18:11:44.687988Z",
     "start_time": "2021-02-01T18:11:44.685801Z"
    }
   },
   "outputs": [],
   "source": [
    "import math"
   ]
  },
  {
   "cell_type": "code",
   "execution_count": 14,
   "metadata": {
    "ExecuteTime": {
     "end_time": "2021-01-16T17:41:27.632167Z",
     "start_time": "2021-01-16T17:41:27.617167Z"
    }
   },
   "outputs": [
    {
     "data": {
      "text/plain": [
       "['__doc__',\n",
       " '__loader__',\n",
       " '__name__',\n",
       " '__package__',\n",
       " '__spec__',\n",
       " 'acos',\n",
       " 'acosh',\n",
       " 'asin',\n",
       " 'asinh',\n",
       " 'atan',\n",
       " 'atan2',\n",
       " 'atanh',\n",
       " 'ceil',\n",
       " 'comb',\n",
       " 'copysign',\n",
       " 'cos',\n",
       " 'cosh',\n",
       " 'degrees',\n",
       " 'dist',\n",
       " 'e',\n",
       " 'erf',\n",
       " 'erfc',\n",
       " 'exp',\n",
       " 'expm1',\n",
       " 'fabs',\n",
       " 'factorial',\n",
       " 'floor',\n",
       " 'fmod',\n",
       " 'frexp',\n",
       " 'fsum',\n",
       " 'gamma',\n",
       " 'gcd',\n",
       " 'hypot',\n",
       " 'inf',\n",
       " 'isclose',\n",
       " 'isfinite',\n",
       " 'isinf',\n",
       " 'isnan',\n",
       " 'isqrt',\n",
       " 'ldexp',\n",
       " 'lgamma',\n",
       " 'log',\n",
       " 'log10',\n",
       " 'log1p',\n",
       " 'log2',\n",
       " 'modf',\n",
       " 'nan',\n",
       " 'perm',\n",
       " 'pi',\n",
       " 'pow',\n",
       " 'prod',\n",
       " 'radians',\n",
       " 'remainder',\n",
       " 'sin',\n",
       " 'sinh',\n",
       " 'sqrt',\n",
       " 'tan',\n",
       " 'tanh',\n",
       " 'tau',\n",
       " 'trunc']"
      ]
     },
     "execution_count": 14,
     "metadata": {},
     "output_type": "execute_result"
    }
   ],
   "source": [
    "dir(math)"
   ]
  },
  {
   "cell_type": "code",
   "execution_count": 15,
   "metadata": {
    "ExecuteTime": {
     "end_time": "2021-01-16T17:41:52.221973Z",
     "start_time": "2021-01-16T17:41:52.136468Z"
    }
   },
   "outputs": [
    {
     "name": "stdout",
     "output_type": "stream",
     "text": [
      "Help on built-in module math:\n",
      "\n",
      "NAME\n",
      "    math\n",
      "\n",
      "DESCRIPTION\n",
      "    This module provides access to the mathematical functions\n",
      "    defined by the C standard.\n",
      "\n",
      "FUNCTIONS\n",
      "    acos(x, /)\n",
      "        Return the arc cosine (measured in radians) of x.\n",
      "    \n",
      "    acosh(x, /)\n",
      "        Return the inverse hyperbolic cosine of x.\n",
      "    \n",
      "    asin(x, /)\n",
      "        Return the arc sine (measured in radians) of x.\n",
      "    \n",
      "    asinh(x, /)\n",
      "        Return the inverse hyperbolic sine of x.\n",
      "    \n",
      "    atan(x, /)\n",
      "        Return the arc tangent (measured in radians) of x.\n",
      "    \n",
      "    atan2(y, x, /)\n",
      "        Return the arc tangent (measured in radians) of y/x.\n",
      "        \n",
      "        Unlike atan(y/x), the signs of both x and y are considered.\n",
      "    \n",
      "    atanh(x, /)\n",
      "        Return the inverse hyperbolic tangent of x.\n",
      "    \n",
      "    ceil(x, /)\n",
      "        Return the ceiling of x as an Integral.\n",
      "        \n",
      "        This is the smallest integer >= x.\n",
      "    \n",
      "    comb(n, k, /)\n",
      "        Number of ways to choose k items from n items without repetition and without order.\n",
      "        \n",
      "        Evaluates to n! / (k! * (n - k)!) when k <= n and evaluates\n",
      "        to zero when k > n.\n",
      "        \n",
      "        Also called the binomial coefficient because it is equivalent\n",
      "        to the coefficient of k-th term in polynomial expansion of the\n",
      "        expression (1 + x)**n.\n",
      "        \n",
      "        Raises TypeError if either of the arguments are not integers.\n",
      "        Raises ValueError if either of the arguments are negative.\n",
      "    \n",
      "    copysign(x, y, /)\n",
      "        Return a float with the magnitude (absolute value) of x but the sign of y.\n",
      "        \n",
      "        On platforms that support signed zeros, copysign(1.0, -0.0)\n",
      "        returns -1.0.\n",
      "    \n",
      "    cos(x, /)\n",
      "        Return the cosine of x (measured in radians).\n",
      "    \n",
      "    cosh(x, /)\n",
      "        Return the hyperbolic cosine of x.\n",
      "    \n",
      "    degrees(x, /)\n",
      "        Convert angle x from radians to degrees.\n",
      "    \n",
      "    dist(p, q, /)\n",
      "        Return the Euclidean distance between two points p and q.\n",
      "        \n",
      "        The points should be specified as sequences (or iterables) of\n",
      "        coordinates.  Both inputs must have the same dimension.\n",
      "        \n",
      "        Roughly equivalent to:\n",
      "            sqrt(sum((px - qx) ** 2.0 for px, qx in zip(p, q)))\n",
      "    \n",
      "    erf(x, /)\n",
      "        Error function at x.\n",
      "    \n",
      "    erfc(x, /)\n",
      "        Complementary error function at x.\n",
      "    \n",
      "    exp(x, /)\n",
      "        Return e raised to the power of x.\n",
      "    \n",
      "    expm1(x, /)\n",
      "        Return exp(x)-1.\n",
      "        \n",
      "        This function avoids the loss of precision involved in the direct evaluation of exp(x)-1 for small x.\n",
      "    \n",
      "    fabs(x, /)\n",
      "        Return the absolute value of the float x.\n",
      "    \n",
      "    factorial(x, /)\n",
      "        Find x!.\n",
      "        \n",
      "        Raise a ValueError if x is negative or non-integral.\n",
      "    \n",
      "    floor(x, /)\n",
      "        Return the floor of x as an Integral.\n",
      "        \n",
      "        This is the largest integer <= x.\n",
      "    \n",
      "    fmod(x, y, /)\n",
      "        Return fmod(x, y), according to platform C.\n",
      "        \n",
      "        x % y may differ.\n",
      "    \n",
      "    frexp(x, /)\n",
      "        Return the mantissa and exponent of x, as pair (m, e).\n",
      "        \n",
      "        m is a float and e is an int, such that x = m * 2.**e.\n",
      "        If x is 0, m and e are both 0.  Else 0.5 <= abs(m) < 1.0.\n",
      "    \n",
      "    fsum(seq, /)\n",
      "        Return an accurate floating point sum of values in the iterable seq.\n",
      "        \n",
      "        Assumes IEEE-754 floating point arithmetic.\n",
      "    \n",
      "    gamma(x, /)\n",
      "        Gamma function at x.\n",
      "    \n",
      "    gcd(x, y, /)\n",
      "        greatest common divisor of x and y\n",
      "    \n",
      "    hypot(...)\n",
      "        hypot(*coordinates) -> value\n",
      "        \n",
      "        Multidimensional Euclidean distance from the origin to a point.\n",
      "        \n",
      "        Roughly equivalent to:\n",
      "            sqrt(sum(x**2 for x in coordinates))\n",
      "        \n",
      "        For a two dimensional point (x, y), gives the hypotenuse\n",
      "        using the Pythagorean theorem:  sqrt(x*x + y*y).\n",
      "        \n",
      "        For example, the hypotenuse of a 3/4/5 right triangle is:\n",
      "        \n",
      "            >>> hypot(3.0, 4.0)\n",
      "            5.0\n",
      "    \n",
      "    isclose(a, b, *, rel_tol=1e-09, abs_tol=0.0)\n",
      "        Determine whether two floating point numbers are close in value.\n",
      "        \n",
      "          rel_tol\n",
      "            maximum difference for being considered \"close\", relative to the\n",
      "            magnitude of the input values\n",
      "          abs_tol\n",
      "            maximum difference for being considered \"close\", regardless of the\n",
      "            magnitude of the input values\n",
      "        \n",
      "        Return True if a is close in value to b, and False otherwise.\n",
      "        \n",
      "        For the values to be considered close, the difference between them\n",
      "        must be smaller than at least one of the tolerances.\n",
      "        \n",
      "        -inf, inf and NaN behave similarly to the IEEE 754 Standard.  That\n",
      "        is, NaN is not close to anything, even itself.  inf and -inf are\n",
      "        only close to themselves.\n",
      "    \n",
      "    isfinite(x, /)\n",
      "        Return True if x is neither an infinity nor a NaN, and False otherwise.\n",
      "    \n",
      "    isinf(x, /)\n",
      "        Return True if x is a positive or negative infinity, and False otherwise.\n",
      "    \n",
      "    isnan(x, /)\n",
      "        Return True if x is a NaN (not a number), and False otherwise.\n",
      "    \n",
      "    isqrt(n, /)\n",
      "        Return the integer part of the square root of the input.\n",
      "    \n",
      "    ldexp(x, i, /)\n",
      "        Return x * (2**i).\n",
      "        \n",
      "        This is essentially the inverse of frexp().\n",
      "    \n",
      "    lgamma(x, /)\n",
      "        Natural logarithm of absolute value of Gamma function at x.\n",
      "    \n",
      "    log(...)\n",
      "        log(x, [base=math.e])\n",
      "        Return the logarithm of x to the given base.\n",
      "        \n",
      "        If the base not specified, returns the natural logarithm (base e) of x.\n",
      "    \n",
      "    log10(x, /)\n",
      "        Return the base 10 logarithm of x.\n",
      "    \n",
      "    log1p(x, /)\n",
      "        Return the natural logarithm of 1+x (base e).\n",
      "        \n",
      "        The result is computed in a way which is accurate for x near zero.\n",
      "    \n",
      "    log2(x, /)\n",
      "        Return the base 2 logarithm of x.\n",
      "    \n",
      "    modf(x, /)\n",
      "        Return the fractional and integer parts of x.\n",
      "        \n",
      "        Both results carry the sign of x and are floats.\n",
      "    \n",
      "    perm(n, k=None, /)\n",
      "        Number of ways to choose k items from n items without repetition and with order.\n",
      "        \n",
      "        Evaluates to n! / (n - k)! when k <= n and evaluates\n",
      "        to zero when k > n.\n",
      "        \n",
      "        If k is not specified or is None, then k defaults to n\n",
      "        and the function returns n!.\n",
      "        \n",
      "        Raises TypeError if either of the arguments are not integers.\n",
      "        Raises ValueError if either of the arguments are negative.\n",
      "    \n",
      "    pow(x, y, /)\n",
      "        Return x**y (x to the power of y).\n",
      "    \n",
      "    prod(iterable, /, *, start=1)\n",
      "        Calculate the product of all the elements in the input iterable.\n",
      "        \n",
      "        The default start value for the product is 1.\n",
      "        \n",
      "        When the iterable is empty, return the start value.  This function is\n",
      "        intended specifically for use with numeric values and may reject\n",
      "        non-numeric types.\n",
      "    \n",
      "    radians(x, /)\n",
      "        Convert angle x from degrees to radians.\n",
      "    \n",
      "    remainder(x, y, /)\n",
      "        Difference between x and the closest integer multiple of y.\n",
      "        \n",
      "        Return x - n*y where n*y is the closest integer multiple of y.\n",
      "        In the case where x is exactly halfway between two multiples of\n",
      "        y, the nearest even value of n is used. The result is always exact.\n",
      "    \n",
      "    sin(x, /)\n",
      "        Return the sine of x (measured in radians).\n",
      "    \n",
      "    sinh(x, /)\n",
      "        Return the hyperbolic sine of x.\n",
      "    \n",
      "    sqrt(x, /)\n",
      "        Return the square root of x.\n",
      "    \n",
      "    tan(x, /)\n",
      "        Return the tangent of x (measured in radians).\n",
      "    \n",
      "    tanh(x, /)\n",
      "        Return the hyperbolic tangent of x.\n",
      "    \n",
      "    trunc(x, /)\n",
      "        Truncates the Real x to the nearest Integral toward 0.\n",
      "        \n",
      "        Uses the __trunc__ magic method.\n",
      "\n",
      "DATA\n",
      "    e = 2.718281828459045\n",
      "    inf = inf\n",
      "    nan = nan\n",
      "    pi = 3.141592653589793\n",
      "    tau = 6.283185307179586\n",
      "\n",
      "FILE\n",
      "    (built-in)\n",
      "\n",
      "\n"
     ]
    }
   ],
   "source": [
    "help(math)"
   ]
  },
  {
   "cell_type": "markdown",
   "metadata": {},
   "source": [
    "#### Constantes"
   ]
  },
  {
   "cell_type": "markdown",
   "metadata": {},
   "source": [
    "#### Número pi"
   ]
  },
  {
   "cell_type": "code",
   "execution_count": 8,
   "metadata": {
    "ExecuteTime": {
     "end_time": "2020-02-27T18:53:56.216933Z",
     "start_time": "2020-02-27T18:53:56.211752Z"
    }
   },
   "outputs": [
    {
     "data": {
      "text/plain": [
       "3.141592653589793"
      ]
     },
     "execution_count": 8,
     "metadata": {},
     "output_type": "execute_result"
    }
   ],
   "source": [
    "math.pi"
   ]
  },
  {
   "cell_type": "markdown",
   "metadata": {},
   "source": [
    "#### Constante de Euler"
   ]
  },
  {
   "cell_type": "code",
   "execution_count": 44,
   "metadata": {
    "ExecuteTime": {
     "end_time": "2020-02-09T10:17:46.729054Z",
     "start_time": "2020-02-09T10:17:46.722433Z"
    }
   },
   "outputs": [
    {
     "data": {
      "text/plain": [
       "2.718281828459045"
      ]
     },
     "execution_count": 44,
     "metadata": {},
     "output_type": "execute_result"
    }
   ],
   "source": [
    "math.e"
   ]
  },
  {
   "cell_type": "markdown",
   "metadata": {},
   "source": [
    "#### Funciones de ángulos y trigonometría"
   ]
  },
  {
   "cell_type": "markdown",
   "metadata": {},
   "source": [
    "#### degrees(): Conversión de radianes a ángulos"
   ]
  },
  {
   "cell_type": "code",
   "execution_count": 45,
   "metadata": {
    "ExecuteTime": {
     "end_time": "2020-02-09T10:19:12.840043Z",
     "start_time": "2020-02-09T10:19:12.833163Z"
    }
   },
   "outputs": [
    {
     "data": {
      "text/plain": [
       "29.999999999999996"
      ]
     },
     "execution_count": 45,
     "metadata": {},
     "output_type": "execute_result"
    }
   ],
   "source": [
    "math.degrees(math.pi/6)"
   ]
  },
  {
   "cell_type": "markdown",
   "metadata": {},
   "source": [
    "####  radians(): Conversión de ángulos radianes"
   ]
  },
  {
   "cell_type": "code",
   "execution_count": 46,
   "metadata": {
    "ExecuteTime": {
     "end_time": "2020-02-09T10:19:57.406100Z",
     "start_time": "2020-02-09T10:19:57.399767Z"
    }
   },
   "outputs": [
    {
     "data": {
      "text/plain": [
       "0.5235987755982988"
      ]
     },
     "execution_count": 46,
     "metadata": {},
     "output_type": "execute_result"
    }
   ],
   "source": [
    "math.radians(30)"
   ]
  },
  {
   "cell_type": "markdown",
   "metadata": {},
   "source": [
    "#### sin(), cos(), tan(): Funciones trigonométricas con radianes"
   ]
  },
  {
   "cell_type": "code",
   "execution_count": 47,
   "metadata": {
    "ExecuteTime": {
     "end_time": "2020-02-09T10:20:46.298800Z",
     "start_time": "2020-02-09T10:20:46.292308Z"
    }
   },
   "outputs": [
    {
     "data": {
      "text/plain": [
       "0.49999999999999994"
      ]
     },
     "execution_count": 47,
     "metadata": {},
     "output_type": "execute_result"
    }
   ],
   "source": [
    "math.sin(0.5235987755982988)"
   ]
  },
  {
   "cell_type": "code",
   "execution_count": 48,
   "metadata": {
    "ExecuteTime": {
     "end_time": "2020-02-09T10:20:59.738770Z",
     "start_time": "2020-02-09T10:20:59.732162Z"
    }
   },
   "outputs": [
    {
     "data": {
      "text/plain": [
       "0.8660254037844387"
      ]
     },
     "execution_count": 48,
     "metadata": {},
     "output_type": "execute_result"
    }
   ],
   "source": [
    "math.cos(0.5235987755982988)"
   ]
  },
  {
   "cell_type": "code",
   "execution_count": 49,
   "metadata": {
    "ExecuteTime": {
     "end_time": "2020-02-09T10:21:03.075427Z",
     "start_time": "2020-02-09T10:21:03.068183Z"
    }
   },
   "outputs": [
    {
     "data": {
      "text/plain": [
       "0.5773502691896256"
      ]
     },
     "execution_count": 49,
     "metadata": {},
     "output_type": "execute_result"
    }
   ],
   "source": [
    "math.tan(0.5235987755982988)"
   ]
  },
  {
   "cell_type": "markdown",
   "metadata": {},
   "source": [
    "#### Funciones logarítmicas"
   ]
  },
  {
   "cell_type": "markdown",
   "metadata": {},
   "source": [
    "#### log(): calcula el logaritmo natural de un número (base e)"
   ]
  },
  {
   "cell_type": "code",
   "execution_count": 50,
   "metadata": {
    "ExecuteTime": {
     "end_time": "2020-02-09T10:22:12.316649Z",
     "start_time": "2020-02-09T10:22:12.308964Z"
    }
   },
   "outputs": [
    {
     "data": {
      "text/plain": [
       "2.302585092994046"
      ]
     },
     "execution_count": 50,
     "metadata": {},
     "output_type": "execute_result"
    }
   ],
   "source": [
    "math.log(10)"
   ]
  },
  {
   "cell_type": "markdown",
   "metadata": {},
   "source": [
    "#### log10(): calcula el logaritmo decimal de un número (base 10)"
   ]
  },
  {
   "cell_type": "code",
   "execution_count": 51,
   "metadata": {
    "ExecuteTime": {
     "end_time": "2020-02-09T10:22:43.297746Z",
     "start_time": "2020-02-09T10:22:43.289479Z"
    }
   },
   "outputs": [
    {
     "data": {
      "text/plain": [
       "1.0"
      ]
     },
     "execution_count": 51,
     "metadata": {},
     "output_type": "execute_result"
    }
   ],
   "source": [
    "math.log10(10)"
   ]
  },
  {
   "cell_type": "markdown",
   "metadata": {},
   "source": [
    "####  Otras funciones"
   ]
  },
  {
   "cell_type": "markdown",
   "metadata": {},
   "source": [
    "#### Exponencial  devuelve un número al ser elevado a la e"
   ]
  },
  {
   "cell_type": "raw",
   "metadata": {},
   "source": [
    "exp(x) = e**x"
   ]
  },
  {
   "cell_type": "code",
   "execution_count": 13,
   "metadata": {
    "ExecuteTime": {
     "end_time": "2021-02-01T18:11:53.101073Z",
     "start_time": "2021-02-01T18:11:53.081059Z"
    }
   },
   "outputs": [
    {
     "data": {
      "text/plain": [
       "22026.465794806718"
      ]
     },
     "execution_count": 13,
     "metadata": {},
     "output_type": "execute_result"
    }
   ],
   "source": [
    "math.exp(10)"
   ]
  },
  {
   "cell_type": "markdown",
   "metadata": {},
   "source": [
    "que sería análogo a:"
   ]
  },
  {
   "cell_type": "code",
   "execution_count": 56,
   "metadata": {
    "ExecuteTime": {
     "end_time": "2020-02-09T10:24:59.364092Z",
     "start_time": "2020-02-09T10:24:59.357640Z"
    },
    "scrolled": true
   },
   "outputs": [
    {
     "data": {
      "text/plain": [
       "22026.465794806703"
      ]
     },
     "execution_count": 56,
     "metadata": {},
     "output_type": "execute_result"
    }
   ],
   "source": [
    "math.e**10"
   ]
  },
  {
   "cell_type": "markdown",
   "metadata": {},
   "source": [
    "####  Potencias, pow()"
   ]
  },
  {
   "cell_type": "raw",
   "metadata": {},
   "source": [
    "pow(x,y) = x**y"
   ]
  },
  {
   "cell_type": "code",
   "execution_count": 57,
   "metadata": {
    "ExecuteTime": {
     "end_time": "2020-02-09T10:26:37.951991Z",
     "start_time": "2020-02-09T10:26:37.945651Z"
    }
   },
   "outputs": [
    {
     "data": {
      "text/plain": [
       "16.0"
      ]
     },
     "execution_count": 57,
     "metadata": {},
     "output_type": "execute_result"
    }
   ],
   "source": [
    "math.pow(2,4)"
   ]
  },
  {
   "cell_type": "code",
   "execution_count": 58,
   "metadata": {
    "ExecuteTime": {
     "end_time": "2020-02-09T10:26:42.710193Z",
     "start_time": "2020-02-09T10:26:42.703766Z"
    }
   },
   "outputs": [
    {
     "data": {
      "text/plain": [
       "16"
      ]
     },
     "execution_count": 58,
     "metadata": {},
     "output_type": "execute_result"
    }
   ],
   "source": [
    "2**4"
   ]
  },
  {
   "cell_type": "markdown",
   "metadata": {},
   "source": [
    "####  Raíz cuadrada"
   ]
  },
  {
   "cell_type": "raw",
   "metadata": {},
   "source": [
    "math.sqrt()"
   ]
  },
  {
   "cell_type": "code",
   "execution_count": 59,
   "metadata": {
    "ExecuteTime": {
     "end_time": "2020-02-09T10:27:11.674628Z",
     "start_time": "2020-02-09T10:27:11.666732Z"
    }
   },
   "outputs": [
    {
     "data": {
      "text/plain": [
       "10.0"
      ]
     },
     "execution_count": 59,
     "metadata": {},
     "output_type": "execute_result"
    }
   ],
   "source": [
    "math.sqrt(100)"
   ]
  },
  {
   "cell_type": "markdown",
   "metadata": {},
   "source": [
    "####  Funciones de redondeo\n",
    "\n",
    "Existen dos funciones de redondeo:\n",
    "- ceil() devuelve el entero más próximo al nº decimal dado\n",
    "- floor() devuelve el entero dado el nº decimal"
   ]
  },
  {
   "cell_type": "code",
   "execution_count": 17,
   "metadata": {
    "ExecuteTime": {
     "end_time": "2021-02-01T18:13:17.924937Z",
     "start_time": "2021-02-01T18:13:17.911137Z"
    }
   },
   "outputs": [
    {
     "data": {
      "text/plain": [
       "5"
      ]
     },
     "execution_count": 17,
     "metadata": {},
     "output_type": "execute_result"
    }
   ],
   "source": [
    "math.ceil(4.5867)"
   ]
  },
  {
   "cell_type": "code",
   "execution_count": 18,
   "metadata": {
    "ExecuteTime": {
     "end_time": "2021-02-01T18:13:18.523875Z",
     "start_time": "2021-02-01T18:13:18.505871Z"
    }
   },
   "outputs": [
    {
     "data": {
      "text/plain": [
       "4"
      ]
     },
     "execution_count": 18,
     "metadata": {},
     "output_type": "execute_result"
    }
   ],
   "source": [
    "math.floor(4.5867)"
   ]
  },
  {
   "cell_type": "markdown",
   "metadata": {},
   "source": [
    "###  Statistics Module \n",
    "\n",
    "El módulo de estadística ofrece funciones de estadística a aplicar a datos numéricos. Revisemos algunas de estas funciones"
   ]
  },
  {
   "cell_type": "code",
   "execution_count": 9,
   "metadata": {
    "ExecuteTime": {
     "end_time": "2020-02-27T18:55:50.577940Z",
     "start_time": "2020-02-27T18:55:50.570055Z"
    }
   },
   "outputs": [],
   "source": [
    "import statistics as st"
   ]
  },
  {
   "cell_type": "code",
   "execution_count": 10,
   "metadata": {
    "ExecuteTime": {
     "end_time": "2020-02-27T18:55:51.052541Z",
     "start_time": "2020-02-27T18:55:51.047635Z"
    }
   },
   "outputs": [],
   "source": [
    "lista_numeros = [2,5,6,6,8,9]"
   ]
  },
  {
   "cell_type": "markdown",
   "metadata": {},
   "source": [
    "#### mean(): media aritmética de los números en una lista"
   ]
  },
  {
   "cell_type": "code",
   "execution_count": 11,
   "metadata": {
    "ExecuteTime": {
     "end_time": "2020-02-27T18:55:52.637982Z",
     "start_time": "2020-02-27T18:55:52.632368Z"
    }
   },
   "outputs": [
    {
     "data": {
      "text/plain": [
       "6"
      ]
     },
     "execution_count": 11,
     "metadata": {},
     "output_type": "execute_result"
    }
   ],
   "source": [
    "st.mean(lista_numeros)"
   ]
  },
  {
   "cell_type": "code",
   "execution_count": 12,
   "metadata": {
    "ExecuteTime": {
     "end_time": "2020-02-27T18:56:08.108350Z",
     "start_time": "2020-02-27T18:56:08.102412Z"
    }
   },
   "outputs": [
    {
     "data": {
      "text/plain": [
       "['Decimal',\n",
       " 'Fraction',\n",
       " 'StatisticsError',\n",
       " '__all__',\n",
       " '__builtins__',\n",
       " '__cached__',\n",
       " '__doc__',\n",
       " '__file__',\n",
       " '__loader__',\n",
       " '__name__',\n",
       " '__package__',\n",
       " '__spec__',\n",
       " '_coerce',\n",
       " '_convert',\n",
       " '_counts',\n",
       " '_exact_ratio',\n",
       " '_fail_neg',\n",
       " '_find_lteq',\n",
       " '_find_rteq',\n",
       " '_isfinite',\n",
       " '_ss',\n",
       " '_sum',\n",
       " 'bisect_left',\n",
       " 'bisect_right',\n",
       " 'collections',\n",
       " 'groupby',\n",
       " 'harmonic_mean',\n",
       " 'math',\n",
       " 'mean',\n",
       " 'median',\n",
       " 'median_grouped',\n",
       " 'median_high',\n",
       " 'median_low',\n",
       " 'mode',\n",
       " 'numbers',\n",
       " 'pstdev',\n",
       " 'pvariance',\n",
       " 'stdev',\n",
       " 'variance']"
      ]
     },
     "execution_count": 12,
     "metadata": {},
     "output_type": "execute_result"
    }
   ],
   "source": [
    "dir(st)"
   ]
  },
  {
   "cell_type": "code",
   "execution_count": 13,
   "metadata": {
    "ExecuteTime": {
     "end_time": "2020-02-27T18:56:26.602378Z",
     "start_time": "2020-02-27T18:56:26.595814Z"
    }
   },
   "outputs": [
    {
     "data": {
      "text/plain": [
       "2.449489742783178"
      ]
     },
     "execution_count": 13,
     "metadata": {},
     "output_type": "execute_result"
    }
   ],
   "source": [
    "st.stdev(lista_numeros)"
   ]
  },
  {
   "cell_type": "code",
   "execution_count": 64,
   "metadata": {
    "ExecuteTime": {
     "end_time": "2020-02-09T10:39:43.913586Z",
     "start_time": "2020-02-09T10:39:43.904414Z"
    }
   },
   "outputs": [
    {
     "data": {
      "text/plain": [
       "6"
      ]
     },
     "execution_count": 64,
     "metadata": {},
     "output_type": "execute_result"
    }
   ],
   "source": [
    "st.mean(lista_numeros)"
   ]
  },
  {
   "cell_type": "markdown",
   "metadata": {},
   "source": [
    "#### median(): mediana - valor central en una lista numérica"
   ]
  },
  {
   "cell_type": "code",
   "execution_count": 65,
   "metadata": {
    "ExecuteTime": {
     "end_time": "2020-02-09T10:39:50.689562Z",
     "start_time": "2020-02-09T10:39:50.683306Z"
    }
   },
   "outputs": [
    {
     "data": {
      "text/plain": [
       "6.0"
      ]
     },
     "execution_count": 65,
     "metadata": {},
     "output_type": "execute_result"
    }
   ],
   "source": [
    "st.median(lista_numeros)"
   ]
  },
  {
   "cell_type": "markdown",
   "metadata": {},
   "source": [
    "#### mode(): moda - valor más repetido en una lista numérica"
   ]
  },
  {
   "cell_type": "code",
   "execution_count": 66,
   "metadata": {
    "ExecuteTime": {
     "end_time": "2020-02-09T10:39:58.206221Z",
     "start_time": "2020-02-09T10:39:58.192850Z"
    }
   },
   "outputs": [
    {
     "data": {
      "text/plain": [
       "6"
      ]
     },
     "execution_count": 66,
     "metadata": {},
     "output_type": "execute_result"
    }
   ],
   "source": [
    "st.mode(lista_numeros)"
   ]
  },
  {
   "cell_type": "markdown",
   "metadata": {},
   "source": [
    "#### stdev(): deviación estandar de los números en una lista"
   ]
  },
  {
   "cell_type": "code",
   "execution_count": 67,
   "metadata": {
    "ExecuteTime": {
     "end_time": "2020-02-09T10:40:02.848684Z",
     "start_time": "2020-02-09T10:40:02.838700Z"
    }
   },
   "outputs": [
    {
     "data": {
      "text/plain": [
       "2.449489742783178"
      ]
     },
     "execution_count": 67,
     "metadata": {},
     "output_type": "execute_result"
    }
   ],
   "source": [
    "st.stdev(lista_numeros)"
   ]
  },
  {
   "cell_type": "markdown",
   "metadata": {},
   "source": [
    "### Random module\n",
    "\n",
    "Las funciones en este módulo dependen de un generador de numero pseudo-aleatorio: la función *random()*, que genera un número decimal aleatorio entre *0.0* y *1.0*"
   ]
  },
  {
   "cell_type": "code",
   "execution_count": 19,
   "metadata": {
    "ExecuteTime": {
     "end_time": "2021-02-01T18:14:50.718463Z",
     "start_time": "2021-02-01T18:14:50.714464Z"
    }
   },
   "outputs": [],
   "source": [
    "import random"
   ]
  },
  {
   "cell_type": "markdown",
   "metadata": {},
   "source": [
    "#### Generar nº aleatorio: random.random()\n",
    "\n",
    "Genera un número decimal aleatorio entre 0-1. La función no necesita parámetros iniciales"
   ]
  },
  {
   "cell_type": "code",
   "execution_count": 69,
   "metadata": {
    "ExecuteTime": {
     "end_time": "2020-02-09T10:42:50.458422Z",
     "start_time": "2020-02-09T10:42:50.448051Z"
    }
   },
   "outputs": [
    {
     "data": {
      "text/plain": [
       "0.9959354808990064"
      ]
     },
     "execution_count": 69,
     "metadata": {},
     "output_type": "execute_result"
    }
   ],
   "source": [
    "random.random()"
   ]
  },
  {
   "cell_type": "code",
   "execution_count": 71,
   "metadata": {
    "ExecuteTime": {
     "end_time": "2020-02-09T10:42:56.157122Z",
     "start_time": "2020-02-09T10:42:56.150590Z"
    }
   },
   "outputs": [
    {
     "data": {
      "text/plain": [
       "0.394341587856768"
      ]
     },
     "execution_count": 71,
     "metadata": {},
     "output_type": "execute_result"
    }
   ],
   "source": [
    "random.random()"
   ]
  },
  {
   "cell_type": "markdown",
   "metadata": {},
   "source": [
    "#### Generar nº entero aleatorio: random.randint()\n",
    "\n",
    "Esta función genera un número entero aleatorio en el rango de valores definidos.\n",
    "\n",
    "*randint(n_inicial, n_final)*"
   ]
  },
  {
   "cell_type": "code",
   "execution_count": 23,
   "metadata": {
    "ExecuteTime": {
     "end_time": "2021-02-01T18:15:49.094273Z",
     "start_time": "2021-02-01T18:15:49.083254Z"
    }
   },
   "outputs": [
    {
     "data": {
      "text/plain": [
       "42"
      ]
     },
     "execution_count": 23,
     "metadata": {},
     "output_type": "execute_result"
    }
   ],
   "source": [
    "random.randint(1,100)"
   ]
  },
  {
   "cell_type": "code",
   "execution_count": 74,
   "metadata": {
    "ExecuteTime": {
     "end_time": "2020-02-09T10:44:17.907782Z",
     "start_time": "2020-02-09T10:44:17.901853Z"
    }
   },
   "outputs": [
    {
     "data": {
      "text/plain": [
       "8"
      ]
     },
     "execution_count": 74,
     "metadata": {},
     "output_type": "execute_result"
    }
   ],
   "source": [
    "random.randint(1,100)"
   ]
  },
  {
   "cell_type": "markdown",
   "metadata": {},
   "source": [
    "#### Elige un nº aleatorio: random.choice()"
   ]
  },
  {
   "cell_type": "code",
   "execution_count": 75,
   "metadata": {
    "ExecuteTime": {
     "end_time": "2020-02-09T10:45:18.431321Z",
     "start_time": "2020-02-09T10:45:18.423105Z"
    }
   },
   "outputs": [
    {
     "data": {
      "text/plain": [
       "6"
      ]
     },
     "execution_count": 75,
     "metadata": {},
     "output_type": "execute_result"
    }
   ],
   "source": [
    "random.choice((12,23,45,6,66))"
   ]
  },
  {
   "cell_type": "code",
   "execution_count": 76,
   "metadata": {
    "ExecuteTime": {
     "end_time": "2020-02-09T10:45:22.146264Z",
     "start_time": "2020-02-09T10:45:22.140254Z"
    }
   },
   "outputs": [
    {
     "data": {
      "text/plain": [
       "45"
      ]
     },
     "execution_count": 76,
     "metadata": {},
     "output_type": "execute_result"
    }
   ],
   "source": [
    "random.choice((12,23,45,6,66))"
   ]
  },
  {
   "cell_type": "markdown",
   "metadata": {},
   "source": [
    "#### Ordenación aleatoria: random.shuffle()\n",
    "\n",
    "Reordena de forma aleatoria una lista"
   ]
  },
  {
   "cell_type": "code",
   "execution_count": 80,
   "metadata": {
    "ExecuteTime": {
     "end_time": "2020-02-09T10:46:32.785297Z",
     "start_time": "2020-02-09T10:46:32.781366Z"
    }
   },
   "outputs": [],
   "source": [
    "lista_numeros=[12,23,45,6,66]"
   ]
  },
  {
   "cell_type": "code",
   "execution_count": 81,
   "metadata": {
    "ExecuteTime": {
     "end_time": "2020-02-09T10:46:33.055229Z",
     "start_time": "2020-02-09T10:46:33.048283Z"
    }
   },
   "outputs": [
    {
     "data": {
      "text/plain": [
       "[12, 23, 45, 6, 66]"
      ]
     },
     "execution_count": 81,
     "metadata": {},
     "output_type": "execute_result"
    }
   ],
   "source": [
    "lista_numeros"
   ]
  },
  {
   "cell_type": "code",
   "execution_count": 82,
   "metadata": {
    "ExecuteTime": {
     "end_time": "2020-02-09T10:46:33.506776Z",
     "start_time": "2020-02-09T10:46:33.497482Z"
    }
   },
   "outputs": [
    {
     "data": {
      "text/plain": [
       "[12, 66, 45, 23, 6]"
      ]
     },
     "execution_count": 82,
     "metadata": {},
     "output_type": "execute_result"
    }
   ],
   "source": [
    "random.shuffle(lista_numeros)\n",
    "lista_numeros"
   ]
  },
  {
   "cell_type": "markdown",
   "metadata": {},
   "source": [
    "# Paquetes en Python\n",
    "\n",
    "## Introducción\n",
    "\n",
    "Imagina que has desarrollado un gran número de aplicaciones que incluyen muchos módulos. A medida que el número de módulos crece, es más difícil controlarlos y ordenarlos todos, sobretodo si los vas guardando todos en una misma localización. Además, si todos tienen nombres y funcionalidades similares, esto todavía se convierte más dificil. Llegará un punto en que **desearías poder agrupar y ordenar todos los módulos** con sentido y lógica. \n",
    "\n",
    "Pues bien, ésta es la misión de los paquetes de Python o *Packages*.\n",
    "\n",
    "Los paquetes **permiten estructurar de forma jerárquica los modulos**. Además, de la misma forma que los módulos te ayudan a evitar colisiones entre nombres de variables, los paquetes evitan la colision entre nombres de módulos. \n",
    "\n",
    "Los paquetes, **también llamados librerías** son entonces un conjunto de módulos y funciones ordenadas que permiten eficientar el código. \n",
    "\n",
    "## Librerías para Data Science\n",
    "\n",
    "Python tiene más de 137.000 librerías disponibles, nosotros veremos algunas de las más útiles para Data Science, de las cuáles destacan las siguientes:\n",
    "\n",
    "![title](https://cdn-images-1.medium.com/max/800/1*BeWMs7DfFaZKnNRaos72JA.png)\n",
    "\n",
    "Librerías para tratamiento de datos:\n",
    "- NumPy\n",
    "- SciPy\n",
    "_ Pandas\n",
    "- SciKit-Learn\n",
    "\n",
    "Mientras librerías para visualización:\n",
    "- matplotlib\n",
    "- Seaborn\n",
    "\n",
    "**Importante!** A medida que trabajemos con diferentes librarías para realizar tareas especializadas, veremos que estas librerías definen su propio tipo de datos más allá de los que hemos visto hasta ahora: *int, float, bool, list, string* y *dict*.\n",
    "\n",
    "Así, tendrás que aprender a trabajar con **nuevos tipos de datos!**\n",
    "\n",
    "Por ejemplo, la librería gráfica *matplotlib* te introducirá a objetos que representan gráficos (*subplots, figures, tickmarks, anotaciones* etc) o bien la librería *pandas* te dará *DataFrames* y *Series*\n",
    "\n",
    "# NumPy\n",
    "\n",
    "![tite](https://d1jnx9ba8s6j9r.cloudfront.net/blog/wp-content/uploads/2018/11/1200px-NumPy_logo.svg_.png)\n",
    "\n",
    "## Qué es NumPy?\n",
    "\n",
    "NumPy (**Num**erical **Py**thon) está considerada como una de las librerías más populares de machine learning en Python, y se usa en casi todos los procesos de computación numérica de Python y librerías como Pandas, SciPy, Matplotlib, scikit-learn etc.\n",
    "\n",
    "Algunas características de NumPy:\n",
    "- Se usa para computaciones de alto rendimiento con **vectores** y **matrices**, o lo que llamamos **arrays n-dimensionales**: *ndarray()*\n",
    "- Ofrece **computación vectorizada** de arrays y matrices\n",
    "- Ofrece funciones y rutinas numéricas de rápida precompilación\n",
    "- Está escrita en *C* y *Fortran*\n",
    "\n",
    "### Importar NumPy\n",
    "\n",
    "Como hemos visto, para usar un módulo o librería, primero tenemos que hacerlo accesible; mediante la importación."
   ]
  },
  {
   "cell_type": "code",
   "execution_count": 6,
   "metadata": {
    "ExecuteTime": {
     "end_time": "2021-01-16T18:03:02.723630Z",
     "start_time": "2021-01-16T18:03:02.708011Z"
    }
   },
   "outputs": [],
   "source": [
    "import numpy as np"
   ]
  },
  {
   "cell_type": "markdown",
   "metadata": {
    "ExecuteTime": {
     "end_time": "2020-02-09T11:54:35.800173Z",
     "start_time": "2020-02-09T11:54:35.788215Z"
    }
   },
   "source": [
    "**Importante!** Hemos importado la librería con un nombre más corto para ahorrarnos tiempo a la hora de llamar funciones de la librería. La **abreviación de NumPy está estandarizada** a *np*!\n",
    "\n",
    "## Introducción a NumPy Arrays\n",
    "\n",
    "Esencialmente, NumPy ofrece un nuevo y excelente objeto: los *ndarray* (abreviación de n-dimensional array) que permite hacer más eficiente computaciones con matrices n-dimensionales.\n",
    "\n",
    "array()\n",
    "\n",
    "El *ndarray()* es un objeto homogéneo, y ndimensional; que junto con los métodos que ofrece NumPy permite realizar operaciones matemáticas de alto-nivel con matrices.\n",
    "\n",
    "Es decir, que en un array puedes alamacenar múltiples elementos **del mismo tipo de datos** que hacen el objeto muy conveniente y eficaz para realizar manipulación de datos y operaciones matemáticas con matrices.\n",
    "\n",
    "### Por qué necesito arrays teniendo listas?\n",
    "\n",
    "Uno se puede preguntar, \"si ya puedo almacenar números y otros objetos en una lista de python y realizar todo tipo de operaciones y manipulaciones en una lista mediante for-loops y funciones, **por qué necesito el numpy array?**\". Y lo cierto es que existen ventajas considerables al trabajar con un array respecto a trabajar con listas.\n",
    "\n",
    "Justamente, el hecho de que un numpy array sea homogéneo con los tipos de datos (a diferencia de una lista) es lo que hace que las operaciones matemáticas sobre arrays que ofrece NumPy sean tan eficientes.\n",
    "\n",
    "Así, \n",
    "- los arrays de numpy son más rápidos y compactos que las listas de Python\n",
    "- un array consume menos memoria y es más fácil de usar\n",
    "- o que el uso de NumPy optimiza el código\n",
    "\n",
    "En resumen, la diferencia entre un array (1d) y una lista es que **los arrays están diseñados para manipular operaciones vectorizadas**, mientras que las listas no. Esto significa que si aplicamos una función a un array, ésta se aplica a *cada* elemento del array y no al objeto array en global.\n",
    "\n",
    "### Qué es un array?\n",
    "\n",
    "**El array es la estructura de datos central de la librería NumPy**. Es una parrilla de valores, y contiene información de datos raw, de cómo alocar un elemento y cómo interpretarlo. \n",
    "\n",
    "Características:\n",
    "\n",
    "- Los elementos de la parrila pueden ser indexados de diferentes formas. \n",
    "- Los elementos tienen que ser todos de mismo tipo, que es el tipo: *array dtype*\n",
    "\n",
    "\n",
    "![title](https://www.tutorialspoint.com/numpy/images/ndarray.jpg)\n",
    "\n",
    "#### Indexado de un array\n",
    "\n",
    "Un array puede ser indexado de distintas forma:\n",
    "\n",
    "1. por una **tupla** de enteros no negativos\n",
    "2. por booleanos\n",
    "3. por otro array\n",
    "4. por enteros\n",
    "\n",
    "#### Rango y dimensión de un array\n",
    "\n",
    "El **rango** de un array es el nº de dimensiones que tiene.\n",
    "\n",
    "La **forma** del array es una tupla con los enteros que dan tamaño al array por cada dirección.\n",
    "\n",
    "A lo largo de la lección de hoy ya hemos visto que para entender un array  existen un conjunto de propiedades básicas que hay que saber del objeto, que sacamos mediante los siguientes comandos:\n",
    "\n",
    "|Comando |función| \n",
    "|:---|:---| \n",
    "|**ndim()**|dimensión del array. 1d - creado con una lista, 2d - creado con una lista de listas|\n",
    "|**shape()**|nº elementos en cada dimensión: **notación: (i,j) donde i es el nº filas y j el nº columnas**|\n",
    "|**dtype()**|tipo de datos del array|\n",
    "|**size()**|nº total de elementos del array|\n",
    "\n",
    "#### EJEMPLO: propiedades básicas de un array 2D"
   ]
  },
  {
   "cell_type": "code",
   "execution_count": 19,
   "metadata": {
    "ExecuteTime": {
     "end_time": "2021-01-16T18:34:13.693956Z",
     "start_time": "2021-01-16T18:34:13.679170Z"
    }
   },
   "outputs": [
    {
     "data": {
      "text/plain": [
       "array([[1., 2., 3., 4.],\n",
       "       [3., 4., 5., 6.],\n",
       "       [5., 6., 7., 8.]])"
      ]
     },
     "execution_count": 19,
     "metadata": {},
     "output_type": "execute_result"
    }
   ],
   "source": [
    "lista_de_listas = [[1, 2, 3, 4],[3, 4, 5, 6], [5, 6, 7, 8]]\n",
    "mi_array = np.array(lista_de_listas, dtype='float')\n",
    "mi_array"
   ]
  },
  {
   "cell_type": "code",
   "execution_count": 20,
   "metadata": {
    "ExecuteTime": {
     "end_time": "2021-01-16T18:34:14.974530Z",
     "start_time": "2021-01-16T18:34:14.949004Z"
    }
   },
   "outputs": [
    {
     "name": "stdout",
     "output_type": "stream",
     "text": [
      "Forma:  (3, 4)\n",
      "Datatype:  float64\n",
      "nº elementos (tamaño):  12\n",
      "Num Dimensiones:  2\n"
     ]
    }
   ],
   "source": [
    "print('Forma: ', mi_array.shape)\n",
    "print('Datatype: ', mi_array.dtype)\n",
    "print('nº elementos (tamaño): ', mi_array.size)\n",
    "print('Num Dimensiones: ', mi_array.ndim)"
   ]
  },
  {
   "cell_type": "markdown",
   "metadata": {},
   "source": [
    "- **Forma**: Es decir, al sacar shape: (3,4) me informa que mi array conformado por una lista de **3 listas** de *4 elementos en cada fila* tiene **3 filas** y *4 columnas*\n",
    "\n",
    "- **Datatype**: Los elementos de mi array son decimales tipo float64\n",
    "\n",
    "- **Medida**: Nº elementos que contiene el array, se calcula multiplicando filas x columnas (3x4 = 12)\n",
    "\n",
    "- **Dimensiones**: Al ser una lista de listas (2 niveles de concatenación de listas) tiene 2 dimensiones\n",
    "\n",
    "#### Ejercicio: Genera un array que contenga las siguientes 3 listas de números.              1a fila: 1,2,3,4,  2a fila: 5,1,1,1,  3a fila: 0,1,2,7\n",
    "\n",
    "#### Determina la dimensión, el número de elementos, el tipo de datos, y el número total de elementos."
   ]
  },
  {
   "cell_type": "code",
   "execution_count": null,
   "metadata": {},
   "outputs": [],
   "source": []
  },
  {
   "cell_type": "code",
   "execution_count": null,
   "metadata": {},
   "outputs": [],
   "source": []
  },
  {
   "cell_type": "code",
   "execution_count": null,
   "metadata": {},
   "outputs": [],
   "source": []
  },
  {
   "cell_type": "code",
   "execution_count": null,
   "metadata": {},
   "outputs": [],
   "source": []
  },
  {
   "cell_type": "code",
   "execution_count": null,
   "metadata": {},
   "outputs": [],
   "source": []
  },
  {
   "cell_type": "code",
   "execution_count": null,
   "metadata": {},
   "outputs": [],
   "source": []
  },
  {
   "cell_type": "code",
   "execution_count": 5,
   "metadata": {},
   "outputs": [],
   "source": []
  },
  {
   "cell_type": "markdown",
   "metadata": {},
   "source": [
    "**Importante!** Si le pasamos un conjunto de listas las junta **en horizontal** de manera que tenemos tantas filas como listas le pasemos dentro de una lista"
   ]
  },
  {
   "cell_type": "code",
   "execution_count": 6,
   "metadata": {
    "ExecuteTime": {
     "end_time": "2020-02-27T19:38:31.908261Z",
     "start_time": "2020-02-27T19:38:31.901385Z"
    },
    "scrolled": true
   },
   "outputs": [
    {
     "data": {
      "text/plain": [
       "array([[1, 2, 3],\n",
       "       [4, 5, 6]])"
      ]
     },
     "execution_count": 6,
     "metadata": {},
     "output_type": "execute_result"
    }
   ],
   "source": [
    "b = np.array([[1,2,3],[4,5,6]])    \n",
    "b"
   ]
  },
  {
   "cell_type": "code",
   "execution_count": 7,
   "metadata": {
    "ExecuteTime": {
     "end_time": "2020-02-27T19:38:37.444964Z",
     "start_time": "2020-02-27T19:38:37.438086Z"
    }
   },
   "outputs": [
    {
     "data": {
      "text/plain": [
       "(2, 3)"
      ]
     },
     "execution_count": 7,
     "metadata": {},
     "output_type": "execute_result"
    }
   ],
   "source": [
    "b.shape"
   ]
  },
  {
   "cell_type": "markdown",
   "metadata": {
    "ExecuteTime": {
     "end_time": "2020-02-27T19:41:53.373769Z",
     "start_time": "2020-02-27T19:41:53.367890Z"
    }
   },
   "source": [
    "**Importante!** Si le pasamos una única lista la pone **en vertical** de manera que tenemos tantas filasº como elementos en la lista hay"
   ]
  },
  {
   "cell_type": "code",
   "execution_count": 8,
   "metadata": {
    "ExecuteTime": {
     "end_time": "2020-02-27T19:38:58.845455Z",
     "start_time": "2020-02-27T19:38:58.839719Z"
    }
   },
   "outputs": [
    {
     "data": {
      "text/plain": [
       "(3,)"
      ]
     },
     "execution_count": 8,
     "metadata": {},
     "output_type": "execute_result"
    }
   ],
   "source": [
    "b = np.array([1,2,3]) \n",
    "b\n",
    "b.shape"
   ]
  },
  {
   "cell_type": "code",
   "execution_count": 9,
   "metadata": {},
   "outputs": [
    {
     "data": {
      "text/plain": [
       "array([1, 2, 3])"
      ]
     },
     "execution_count": 9,
     "metadata": {},
     "output_type": "execute_result"
    }
   ],
   "source": [
    "b"
   ]
  },
  {
   "cell_type": "markdown",
   "metadata": {},
   "source": [
    "## Creación de un array: np.array()"
   ]
  },
  {
   "cell_type": "markdown",
   "metadata": {},
   "source": [
    "Existen varias maneras de crear un numpy array, pero la forma más común es crearlo a partir de una lista mediante el método *np.array*"
   ]
  },
  {
   "cell_type": "markdown",
   "metadata": {},
   "source": [
    "### Array 1d (a partir de una lista)"
   ]
  },
  {
   "cell_type": "code",
   "execution_count": 12,
   "metadata": {
    "ExecuteTime": {
     "end_time": "2021-02-01T19:28:31.056813Z",
     "start_time": "2021-02-01T19:28:31.053818Z"
    }
   },
   "outputs": [],
   "source": [
    "lista = [1,2,3]\n",
    "array_1d = np.array(lista)"
   ]
  },
  {
   "cell_type": "code",
   "execution_count": 13,
   "metadata": {
    "ExecuteTime": {
     "end_time": "2021-02-01T19:28:35.858844Z",
     "start_time": "2021-02-01T19:28:35.850846Z"
    }
   },
   "outputs": [
    {
     "data": {
      "text/plain": [
       "array([1, 2, 3])"
      ]
     },
     "execution_count": 13,
     "metadata": {},
     "output_type": "execute_result"
    }
   ],
   "source": [
    "array_1d"
   ]
  },
  {
   "cell_type": "markdown",
   "metadata": {},
   "source": [
    "Comprobamos el tipo de objeto creado e imprimimos en pantalla el objeto"
   ]
  },
  {
   "cell_type": "code",
   "execution_count": 14,
   "metadata": {
    "ExecuteTime": {
     "end_time": "2020-02-09T12:25:17.560038Z",
     "start_time": "2020-02-09T12:25:17.553678Z"
    }
   },
   "outputs": [
    {
     "data": {
      "text/plain": [
       "numpy.ndarray"
      ]
     },
     "execution_count": 14,
     "metadata": {},
     "output_type": "execute_result"
    }
   ],
   "source": [
    "type(array_1d) #efectivamente es un objeto del tipo ndarray de la librería numpy"
   ]
  },
  {
   "cell_type": "code",
   "execution_count": 107,
   "metadata": {
    "ExecuteTime": {
     "end_time": "2020-02-09T12:25:18.490170Z",
     "start_time": "2020-02-09T12:25:18.482015Z"
    }
   },
   "outputs": [
    {
     "name": "stdout",
     "output_type": "stream",
     "text": [
      "[1 2 3]\n"
     ]
    }
   ],
   "source": [
    "print(array_1d)"
   ]
  },
  {
   "cell_type": "code",
   "execution_count": 122,
   "metadata": {
    "ExecuteTime": {
     "end_time": "2020-02-09T13:08:21.959918Z",
     "start_time": "2020-02-09T13:08:21.952589Z"
    }
   },
   "outputs": [
    {
     "data": {
      "text/plain": [
       "1"
      ]
     },
     "execution_count": 122,
     "metadata": {},
     "output_type": "execute_result"
    }
   ],
   "source": [
    "array_1d.ndim"
   ]
  },
  {
   "cell_type": "code",
   "execution_count": 124,
   "metadata": {
    "ExecuteTime": {
     "end_time": "2020-02-09T13:08:33.655725Z",
     "start_time": "2020-02-09T13:08:33.649542Z"
    }
   },
   "outputs": [
    {
     "data": {
      "text/plain": [
       "(3,)"
      ]
     },
     "execution_count": 124,
     "metadata": {},
     "output_type": "execute_result"
    }
   ],
   "source": [
    "array_1d.shape"
   ]
  },
  {
   "cell_type": "markdown",
   "metadata": {},
   "source": [
    "Que podemos visualizarlo como una secuencia de número en una dirección vertical.\n",
    "\n",
    "![title](https://miro.medium.com/max/2600/0*Q_wCrQ29wTBHb_7Q.png)\n",
    "\n",
    "**Las funciones aplican a nivel elemento y no a nivel objeto**\n",
    "\n",
    "Como ya hemos introducido, al aplicar una función esta se aplica a *cada* elemento del array y no al objeto array en global."
   ]
  },
  {
   "cell_type": "code",
   "execution_count": 26,
   "metadata": {
    "ExecuteTime": {
     "end_time": "2021-02-01T19:28:39.593732Z",
     "start_time": "2021-02-01T19:28:39.586746Z"
    }
   },
   "outputs": [
    {
     "data": {
      "text/plain": [
       "array([3, 4, 5])"
      ]
     },
     "execution_count": 26,
     "metadata": {},
     "output_type": "execute_result"
    }
   ],
   "source": [
    "array_1d + 2"
   ]
  },
  {
   "cell_type": "markdown",
   "metadata": {},
   "source": [
    "**Un array no puede incorporar nuevos elementos**\n",
    "\n",
    "Para añadir un nuevo elemento, tendríamos que definir un nuevo array\n",
    "\n",
    "### Array 2d (a partir de una lista de listas)"
   ]
  },
  {
   "cell_type": "code",
   "execution_count": 104,
   "metadata": {
    "ExecuteTime": {
     "end_time": "2020-02-09T12:23:29.272518Z",
     "start_time": "2020-02-09T12:23:29.254252Z"
    }
   },
   "outputs": [
    {
     "data": {
      "text/plain": [
       "array([[0, 1, 2],\n",
       "       [3, 4, 5],\n",
       "       [6, 7, 8]])"
      ]
     },
     "execution_count": 104,
     "metadata": {},
     "output_type": "execute_result"
    }
   ],
   "source": [
    "lista_de_listas = [[0,1,2], [3,4,5], [6,7,8]]\n",
    "array_2d = np.array(lista_de_listas)\n",
    "array_2d"
   ]
  },
  {
   "cell_type": "markdown",
   "metadata": {},
   "source": [
    "**Importante!** Un array en 2 dimensiones (eje vertical y eje horizontal) es una **matriz**"
   ]
  },
  {
   "cell_type": "markdown",
   "metadata": {},
   "source": [
    "![title](data:image/png;base64,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)"
   ]
  },
  {
   "cell_type": "code",
   "execution_count": 7,
   "metadata": {},
   "outputs": [],
   "source": [
    "from IPython import display "
   ]
  },
  {
   "cell_type": "code",
   "execution_count": 11,
   "metadata": {},
   "outputs": [
    {
     "data": {
      "image/png": "[encoded data removed]",
      "text/plain": [
       "<IPython.core.display.Image object>"
      ]
     },
     "execution_count": 11,
     "metadata": {},
     "output_type": "execute_result"
    }
   ],
   "source": [
    "display.Image(\"https://aprendeconalf.es/docencia/python/manual/img/arrays.png\")"
   ]
  },
  {
   "cell_type": "code",
   "execution_count": 125,
   "metadata": {
    "ExecuteTime": {
     "end_time": "2020-02-09T13:08:59.631635Z",
     "start_time": "2020-02-09T13:08:59.621648Z"
    }
   },
   "outputs": [
    {
     "data": {
      "text/plain": [
       "2"
      ]
     },
     "execution_count": 125,
     "metadata": {},
     "output_type": "execute_result"
    }
   ],
   "source": [
    "array_2d.ndim"
   ]
  },
  {
   "cell_type": "code",
   "execution_count": 126,
   "metadata": {
    "ExecuteTime": {
     "end_time": "2020-02-09T13:09:03.389473Z",
     "start_time": "2020-02-09T13:09:03.379464Z"
    }
   },
   "outputs": [
    {
     "data": {
      "text/plain": [
       "(3, 3)"
      ]
     },
     "execution_count": 126,
     "metadata": {},
     "output_type": "execute_result"
    }
   ],
   "source": [
    "array_2d.shape"
   ]
  },
  {
   "cell_type": "markdown",
   "metadata": {},
   "source": [
    "### Array 3d (lista de listas de listas)"
   ]
  },
  {
   "cell_type": "code",
   "execution_count": 15,
   "metadata": {
    "ExecuteTime": {
     "end_time": "2021-01-16T19:08:38.780649Z",
     "start_time": "2021-01-16T19:08:38.763647Z"
    }
   },
   "outputs": [],
   "source": [
    "array_3d = np.array([[[1,3], [2,4], [4,3]], [[3,2], [4,1], [0,3]]])"
   ]
  },
  {
   "cell_type": "code",
   "execution_count": 16,
   "metadata": {
    "ExecuteTime": {
     "end_time": "2021-01-16T19:08:39.270616Z",
     "start_time": "2021-01-16T19:08:39.259615Z"
    }
   },
   "outputs": [
    {
     "data": {
      "text/plain": [
       "array([[[1, 3],\n",
       "        [2, 4],\n",
       "        [4, 3]],\n",
       "\n",
       "       [[3, 2],\n",
       "        [4, 1],\n",
       "        [0, 3]]])"
      ]
     },
     "execution_count": 16,
     "metadata": {},
     "output_type": "execute_result"
    }
   ],
   "source": [
    "array_3d"
   ]
  },
  {
   "cell_type": "code",
   "execution_count": 17,
   "metadata": {
    "ExecuteTime": {
     "end_time": "2021-01-16T19:08:39.819704Z",
     "start_time": "2021-01-16T19:08:39.811706Z"
    }
   },
   "outputs": [
    {
     "data": {
      "text/plain": [
       "3"
      ]
     },
     "execution_count": 17,
     "metadata": {},
     "output_type": "execute_result"
    }
   ],
   "source": [
    "array_3d.ndim"
   ]
  },
  {
   "cell_type": "code",
   "execution_count": 18,
   "metadata": {
    "ExecuteTime": {
     "end_time": "2021-01-16T19:08:40.279961Z",
     "start_time": "2021-01-16T19:08:40.267952Z"
    }
   },
   "outputs": [
    {
     "data": {
      "text/plain": [
       "(2, 3, 2)"
      ]
     },
     "execution_count": 18,
     "metadata": {},
     "output_type": "execute_result"
    }
   ],
   "source": [
    "array_3d.shape"
   ]
  },
  {
   "cell_type": "markdown",
   "metadata": {},
   "source": [
    "### Funciones para crear arrays a partir de datos\n",
    "\n",
    "#### np.arange(): Arrays separados de forma igual"
   ]
  },
  {
   "cell_type": "code",
   "execution_count": 133,
   "metadata": {
    "ExecuteTime": {
     "end_time": "2020-02-09T13:11:38.403559Z",
     "start_time": "2020-02-09T13:11:38.395809Z"
    }
   },
   "outputs": [
    {
     "data": {
      "text/plain": [
       "array([0, 1, 2, 3, 4, 5, 6, 7, 8, 9])"
      ]
     },
     "execution_count": 133,
     "metadata": {},
     "output_type": "execute_result"
    }
   ],
   "source": [
    "a = np.arange(10)# 0 .. n-1  (!)\n",
    "a"
   ]
  },
  {
   "cell_type": "code",
   "execution_count": 134,
   "metadata": {
    "ExecuteTime": {
     "end_time": "2020-02-09T13:12:08.981779Z",
     "start_time": "2020-02-09T13:12:08.974528Z"
    }
   },
   "outputs": [
    {
     "data": {
      "text/plain": [
       "array([1, 3, 5, 7])"
      ]
     },
     "execution_count": 134,
     "metadata": {},
     "output_type": "execute_result"
    }
   ],
   "source": [
    "b = np.arange(1,9,2) # inicio, find (no incluido), step\n",
    "b"
   ]
  },
  {
   "cell_type": "markdown",
   "metadata": {},
   "source": [
    "#### np.linspace(): separados por nº puntos"
   ]
  },
  {
   "cell_type": "code",
   "execution_count": 135,
   "metadata": {
    "ExecuteTime": {
     "end_time": "2020-02-09T13:12:57.342617Z",
     "start_time": "2020-02-09T13:12:57.331095Z"
    }
   },
   "outputs": [
    {
     "data": {
      "text/plain": [
       "array([0. , 0.2, 0.4, 0.6, 0.8, 1. ])"
      ]
     },
     "execution_count": 135,
     "metadata": {},
     "output_type": "execute_result"
    }
   ],
   "source": [
    "c = np.linspace(0, 1, 6)   #inicio, fin, nº puntos\n",
    "c"
   ]
  },
  {
   "cell_type": "code",
   "execution_count": 138,
   "metadata": {
    "ExecuteTime": {
     "end_time": "2020-02-09T13:13:24.295391Z",
     "start_time": "2020-02-09T13:13:24.284608Z"
    }
   },
   "outputs": [
    {
     "data": {
      "text/plain": [
       "array([0. , 0.2, 0.4, 0.6, 0.8])"
      ]
     },
     "execution_count": 138,
     "metadata": {},
     "output_type": "execute_result"
    }
   ],
   "source": [
    "d = np.linspace(0, 1, 5, endpoint=False) #inicio, fin (excluido), nº puntos\n",
    "d"
   ]
  },
  {
   "cell_type": "markdown",
   "metadata": {},
   "source": [
    "#### Arrays Homogéneos"
   ]
  },
  {
   "cell_type": "markdown",
   "metadata": {},
   "source": [
    "#### Array constante"
   ]
  },
  {
   "cell_type": "markdown",
   "metadata": {},
   "source": [
    "El método **full((x,y), n, dtype)** nos permite crear un array de dimensiones *x* *y* con un valor constante *n*. Especificando el tipo de datos con *dtype*"
   ]
  },
  {
   "cell_type": "code",
   "execution_count": 28,
   "metadata": {
    "ExecuteTime": {
     "end_time": "2021-02-01T20:31:22.021941Z",
     "start_time": "2021-02-01T20:31:22.017942Z"
    }
   },
   "outputs": [
    {
     "name": "stdout",
     "output_type": "stream",
     "text": [
      "[[3 3 3 3]\n",
      " [3 3 3 3]\n",
      " [3 3 3 3]\n",
      " [3 3 3 3]]\n"
     ]
    }
   ],
   "source": [
    "a =  np.full((4,4), 3, dtype='int')\n",
    "print(a)"
   ]
  },
  {
   "cell_type": "markdown",
   "metadata": {},
   "source": [
    "#### Array de 1os"
   ]
  },
  {
   "cell_type": "code",
   "execution_count": 37,
   "metadata": {
    "ExecuteTime": {
     "end_time": "2021-01-16T19:37:49.266035Z",
     "start_time": "2021-01-16T19:37:49.256034Z"
    }
   },
   "outputs": [
    {
     "data": {
      "text/plain": [
       "array([[1, 1, 1],\n",
       "       [1, 1, 1],\n",
       "       [1, 1, 1]])"
      ]
     },
     "execution_count": 37,
     "metadata": {},
     "output_type": "execute_result"
    }
   ],
   "source": [
    "a = np.ones((3, 3), dtype=int) \n",
    "a"
   ]
  },
  {
   "cell_type": "markdown",
   "metadata": {},
   "source": [
    "#### Array de 0s"
   ]
  },
  {
   "cell_type": "code",
   "execution_count": 141,
   "metadata": {
    "ExecuteTime": {
     "end_time": "2020-02-09T13:14:32.250556Z",
     "start_time": "2020-02-09T13:14:32.241583Z"
    }
   },
   "outputs": [
    {
     "data": {
      "text/plain": [
       "array([[0., 0.],\n",
       "       [0., 0.]])"
      ]
     },
     "execution_count": 141,
     "metadata": {},
     "output_type": "execute_result"
    }
   ],
   "source": [
    "b = np.zeros((2, 2)) \n",
    "b"
   ]
  },
  {
   "cell_type": "markdown",
   "metadata": {},
   "source": [
    "#### Array Identidad"
   ]
  },
  {
   "cell_type": "code",
   "execution_count": 142,
   "metadata": {
    "ExecuteTime": {
     "end_time": "2020-02-09T13:14:49.060484Z",
     "start_time": "2020-02-09T13:14:49.054456Z"
    }
   },
   "outputs": [
    {
     "data": {
      "text/plain": [
       "array([[1., 0., 0.],\n",
       "       [0., 1., 0.],\n",
       "       [0., 0., 1.]])"
      ]
     },
     "execution_count": 142,
     "metadata": {},
     "output_type": "execute_result"
    }
   ],
   "source": [
    "c = np.eye(3)\n",
    "c"
   ]
  },
  {
   "cell_type": "markdown",
   "metadata": {},
   "source": [
    "![title](https://miro.medium.com/max/2600/0*L1KvcRbsscSnVII6.png)"
   ]
  },
  {
   "cell_type": "markdown",
   "metadata": {},
   "source": [
    "#### Array diagonal "
   ]
  },
  {
   "cell_type": "code",
   "execution_count": 144,
   "metadata": {
    "ExecuteTime": {
     "end_time": "2020-02-09T13:15:17.421007Z",
     "start_time": "2020-02-09T13:15:17.413861Z"
    }
   },
   "outputs": [
    {
     "data": {
      "text/plain": [
       "array([[1, 0, 0, 0],\n",
       "       [0, 2, 0, 0],\n",
       "       [0, 0, 3, 0],\n",
       "       [0, 0, 0, 4]])"
      ]
     },
     "execution_count": 144,
     "metadata": {},
     "output_type": "execute_result"
    }
   ],
   "source": [
    "d = np.diag(np.array([1, 2, 3, 4]))\n",
    "d"
   ]
  },
  {
   "cell_type": "markdown",
   "metadata": {},
   "source": [
    "#### np.random(): Array Aleatorio"
   ]
  },
  {
   "cell_type": "markdown",
   "metadata": {},
   "source": [
    "#### Array random uniforme [0,1]"
   ]
  },
  {
   "cell_type": "code",
   "execution_count": 146,
   "metadata": {
    "ExecuteTime": {
     "end_time": "2020-02-09T13:16:15.361607Z",
     "start_time": "2020-02-09T13:16:15.354803Z"
    }
   },
   "outputs": [
    {
     "data": {
      "text/plain": [
       "array([0.87686119, 0.10594461, 0.0505118 , 0.60901484])"
      ]
     },
     "execution_count": 146,
     "metadata": {},
     "output_type": "execute_result"
    }
   ],
   "source": [
    "a = np.random.rand(4)       # uniform in [0, 1]\n",
    "a"
   ]
  },
  {
   "cell_type": "markdown",
   "metadata": {},
   "source": [
    "#### Array random gausiano"
   ]
  },
  {
   "cell_type": "code",
   "execution_count": 6,
   "metadata": {
    "ExecuteTime": {
     "end_time": "2020-02-09T13:16:30.549793Z",
     "start_time": "2020-02-09T13:16:30.541238Z"
    }
   },
   "outputs": [
    {
     "data": {
      "text/plain": [
       "array([-0.12129656, -0.20444487,  0.96811178,  0.36962927])"
      ]
     },
     "execution_count": 6,
     "metadata": {},
     "output_type": "execute_result"
    }
   ],
   "source": [
    "b = np.random.randn(4)      # Gaussian\n",
    "b  "
   ]
  },
  {
   "cell_type": "markdown",
   "metadata": {},
   "source": [
    "![title](https://miro.medium.com/max/2600/0*AH-EvJmT8cwC2JPH.png)"
   ]
  },
  {
   "cell_type": "markdown",
   "metadata": {},
   "source": [
    "### Funciones para crear arrays a partir de arrays"
   ]
  },
  {
   "cell_type": "markdown",
   "metadata": {},
   "source": [
    "#### vstack(): Apilar arrays verticalmente"
   ]
  },
  {
   "cell_type": "markdown",
   "metadata": {},
   "source": [
    "A partir de dos arrays, los podemos apilar verticalmente y crear un nuevo array"
   ]
  },
  {
   "cell_type": "markdown",
   "metadata": {},
   "source": [
    "#### EJEMPLO"
   ]
  },
  {
   "cell_type": "code",
   "execution_count": 19,
   "metadata": {
    "ExecuteTime": {
     "end_time": "2020-02-27T20:01:44.726385Z",
     "start_time": "2020-02-27T20:01:44.719136Z"
    }
   },
   "outputs": [
    {
     "name": "stdout",
     "output_type": "stream",
     "text": [
      "[[1 1]\n",
      " [2 2]]\n"
     ]
    }
   ],
   "source": [
    "a = np.array([[1, 1],[2, 2]])\n",
    "print(a)"
   ]
  },
  {
   "cell_type": "markdown",
   "metadata": {},
   "source": [
    "Genera otra matriz b de dimensiones 2x2 con una fila que contenga la lista con elementos 3 y 3 \n",
    "y otra fila que contenga una lista de los elementos 4 y 4"
   ]
  },
  {
   "cell_type": "code",
   "execution_count": 20,
   "metadata": {
    "ExecuteTime": {
     "end_time": "2020-02-27T20:00:46.783197Z",
     "start_time": "2020-02-27T20:00:46.778091Z"
    }
   },
   "outputs": [
    {
     "name": "stdout",
     "output_type": "stream",
     "text": [
      "[[3 3]\n",
      " [4 4]]\n"
     ]
    }
   ],
   "source": [
    "b = np.array([[3, 3],[4, 4]])\n",
    "print(b)"
   ]
  },
  {
   "cell_type": "code",
   "execution_count": 21,
   "metadata": {
    "ExecuteTime": {
     "end_time": "2020-02-09T18:55:48.678622Z",
     "start_time": "2020-02-09T18:55:48.671034Z"
    }
   },
   "outputs": [
    {
     "data": {
      "text/plain": [
       "array([[1, 1],\n",
       "       [2, 2],\n",
       "       [3, 3],\n",
       "       [4, 4]])"
      ]
     },
     "execution_count": 21,
     "metadata": {},
     "output_type": "execute_result"
    }
   ],
   "source": [
    "#los apilamos verticalmente! uno encima del otro\n",
    "np.vstack((a,b))"
   ]
  },
  {
   "cell_type": "markdown",
   "metadata": {},
   "source": [
    "#### hstack(): append en horizontal"
   ]
  },
  {
   "cell_type": "code",
   "execution_count": 22,
   "metadata": {
    "ExecuteTime": {
     "end_time": "2020-02-27T20:03:56.360945Z",
     "start_time": "2020-02-27T20:03:56.354504Z"
    }
   },
   "outputs": [
    {
     "data": {
      "text/plain": [
       "array([[1, 1, 3, 3],\n",
       "       [2, 2, 4, 4]])"
      ]
     },
     "execution_count": 22,
     "metadata": {},
     "output_type": "execute_result"
    }
   ],
   "source": [
    "#los anexamos horizontalmente! uno a la derecha del otro\n",
    "np.hstack((a,b))"
   ]
  },
  {
   "cell_type": "markdown",
   "metadata": {},
   "source": [
    "#### hsplit(): Apilar arrays verticalmente\n",
    "\n",
    "Además, podemos crear arrays a partir de subsets de arrays más grandes mediante *hsplit()*. \n",
    "\n",
    "Simplemente tenemos que especificar:\n",
    "- array original\n",
    "- y o bien:\n",
    "    - nº splits que quieres\n",
    "    - o columnas a partir de las cuales quieres particionar\n",
    "\n",
    "#### EJEMPLO: split por nº splits"
   ]
  },
  {
   "cell_type": "code",
   "execution_count": 23,
   "metadata": {
    "ExecuteTime": {
     "end_time": "2020-02-09T19:00:22.165428Z",
     "start_time": "2020-02-09T19:00:22.158311Z"
    }
   },
   "outputs": [
    {
     "name": "stdout",
     "output_type": "stream",
     "text": [
      "[[ 1  2  3  4 12 21]\n",
      " [13 14 15 16 17  4]]\n"
     ]
    }
   ],
   "source": [
    "a = np.array([[ 1,  2,  3, 4,12,21],\n",
    "     [13, 14, 15, 16, 17,4]])\n",
    "print(a)"
   ]
  },
  {
   "cell_type": "code",
   "execution_count": 24,
   "metadata": {
    "ExecuteTime": {
     "end_time": "2020-02-09T19:00:45.199346Z",
     "start_time": "2020-02-09T19:00:45.193784Z"
    }
   },
   "outputs": [
    {
     "name": "stdout",
     "output_type": "stream",
     "text": [
      "[array([[ 1,  2],\n",
      "       [13, 14]]), array([[ 3,  4],\n",
      "       [15, 16]]), array([[12, 21],\n",
      "       [17,  4]])]\n"
     ]
    }
   ],
   "source": [
    "print(np.hsplit(a, 3))"
   ]
  },
  {
   "cell_type": "markdown",
   "metadata": {},
   "source": [
    "**Importante!** el nº de columnas tiene que ser múltiple del nº de splits que queremos!\n",
    "\n",
    "## Tipos de datos en un array\n",
    "\n",
    "### Fijar tipo de datos de un array: dtype()\n",
    "\n",
    "Al crear un array podemos fijar el tipo de datos a contener mediante la opción *dtype()* que viene dentro de la función de creación de un array np.array()"
   ]
  },
  {
   "cell_type": "markdown",
   "metadata": {},
   "source": [
    "numpy.array(object, dtype = None, copy = True, order = None, subok = False, ndmin = 0)"
   ]
  },
  {
   "cell_type": "markdown",
   "metadata": {},
   "source": [
    "| Parámetro |Descripción| \n",
    "|:---|:---| \n",
    "|object|Cualquier objeto como input aquí devuelve un array o secuencia anidada|\n",
    "|dtype|Tipo de datos deseado, parámetro opcional|\n",
    "|copy|Opcional. Prestablecido en true, que implica que el objeto se copia|\n",
    "|order |C (en filas) or F (en columnas ) or A (cualquier) en default|\n",
    "|subok|Si predeterminado, el array de output estár en clase array|\n",
    "|ndmin|Especifica el mínimo de dimensiones necesarias para el array resultante|\n",
    "\n",
    "Como hemos comentado, podemos definir el tipo de datos del array resultante mediante la opción *dtype()* de la función *np.array()*\n",
    "\n",
    "NumPy tolera una gran variedad de tipos de datos numéricos:\n",
    "\n",
    "| Parámetro |Descripción| \n",
    "|:---|:---| \n",
    "|bool_|Boolean (True or False) stored as a byte|\n",
    "|int_|Default integer type (same as C long; normally either int64 or int32)|\n",
    "|intc|Identical to C int (normally int32 or int64)|\n",
    "|intp|Integer used for indexing (same as C ssize_t; normally either int32 or int64)|\n",
    "|int8|Byte (-128 to 127)|\n",
    "|int16|Integer (-32768 to 32767)|\n",
    "|int32|Integer (-2147483648 to 2147483647)|\n",
    "|int64|Integer (-9223372036854775808 to 9223372036854775807)|\n",
    "|uint8|Unsigned integer (0 to 255)|\n",
    "|uint16|Unsigned integer (0 to 65535)|\n",
    "|uint32|Unsigned integer (0 to 4294967295)|\n",
    "|uint64|Unsigned integer (0 to 18446744073709551615)|\n",
    "|float_|Shorthand for float64|\n",
    "|float16|Half precision float: sign bit, 5 bits exponent, 10 bits mantissa|\n",
    "|float32|Single precision float: sign bit, 8 bits exponent, 23 bits mantissa|\n",
    "|float64|Double precision float: sign bit, 11 bits exponent, 52 bits mantissa|\n",
    "|complex_|Shorthand for complex128|\n",
    "|complex64|Complex number, represented by two 32-bit floats (real and imaginary components)|\n",
    "|complex128|Complex number, represented by two 64-bit floats (real and imaginary components)|\n",
    "\n",
    "Pero los numpy dtype más comunes son *'float','int','bool','obj'* y *'str*\n",
    "\n",
    "**Importante!** Para controlar el uso de memoria usaremos  ‘float32’, ‘float64’, ‘int8’, ‘int16’ o ‘int32’\n",
    "\n",
    "#### EJEMPLO: Crear un array 2d float"
   ]
  },
  {
   "cell_type": "code",
   "execution_count": 25,
   "metadata": {
    "ExecuteTime": {
     "end_time": "2020-02-09T12:51:56.268710Z",
     "start_time": "2020-02-09T12:51:56.258178Z"
    }
   },
   "outputs": [
    {
     "data": {
      "text/plain": [
       "array([[0., 1., 2.],\n",
       "       [3., 4., 5.],\n",
       "       [6., 7., 8.]])"
      ]
     },
     "execution_count": 25,
     "metadata": {},
     "output_type": "execute_result"
    }
   ],
   "source": [
    "lista_de_listas = [[0,1,2], [3,4,5], [6,7,8]]\n",
    "array_2d = np.array(lista_de_listas,dtype='float')\n",
    "array_2d"
   ]
  },
  {
   "cell_type": "markdown",
   "metadata": {},
   "source": [
    "#### EJEMPLO: Crear un array booleano"
   ]
  },
  {
   "cell_type": "code",
   "execution_count": 26,
   "metadata": {
    "ExecuteTime": {
     "end_time": "2020-02-09T12:47:22.089083Z",
     "start_time": "2020-02-09T12:47:22.070132Z"
    }
   },
   "outputs": [
    {
     "data": {
      "text/plain": [
       "array([ True, False,  True])"
      ]
     },
     "execution_count": 26,
     "metadata": {},
     "output_type": "execute_result"
    }
   ],
   "source": [
    "arr2d_b = np.array([1, 0, 10], dtype='bool')\n",
    "arr2d_b"
   ]
  },
  {
   "cell_type": "markdown",
   "metadata": {},
   "source": [
    "##### EJEMPLO: Crear un array con nº y strings"
   ]
  },
  {
   "cell_type": "code",
   "execution_count": 27,
   "metadata": {
    "ExecuteTime": {
     "end_time": "2020-02-09T12:47:59.996191Z",
     "start_time": "2020-02-09T12:47:59.988336Z"
    }
   },
   "outputs": [
    {
     "data": {
      "text/plain": [
       "array([1, 'a'], dtype=object)"
      ]
     },
     "execution_count": 27,
     "metadata": {},
     "output_type": "execute_result"
    }
   ],
   "source": [
    "arr1d_obj = np.array([1, 'a'], dtype='object')\n",
    "arr1d_obj"
   ]
  },
  {
   "cell_type": "markdown",
   "metadata": {},
   "source": [
    "### Cambiar tipo de datos de array: astype()\n",
    "\n",
    "Mediante el método astype() podemos convertir el tipo de datos de los elementos del array al tipo que deseemos\n",
    "\n",
    "#### EJEMPLO: Convertir array a tipo 'int'"
   ]
  },
  {
   "cell_type": "code",
   "execution_count": 28,
   "metadata": {
    "ExecuteTime": {
     "end_time": "2020-02-09T12:52:18.164751Z",
     "start_time": "2020-02-09T12:52:18.157225Z"
    }
   },
   "outputs": [
    {
     "data": {
      "text/plain": [
       "array([[0., 1., 2.],\n",
       "       [3., 4., 5.],\n",
       "       [6., 7., 8.]])"
      ]
     },
     "execution_count": 28,
     "metadata": {},
     "output_type": "execute_result"
    }
   ],
   "source": [
    "array_2d"
   ]
  },
  {
   "cell_type": "code",
   "execution_count": 29,
   "metadata": {
    "ExecuteTime": {
     "end_time": "2020-02-09T12:52:18.623244Z",
     "start_time": "2020-02-09T12:52:18.615958Z"
    }
   },
   "outputs": [
    {
     "data": {
      "text/plain": [
       "numpy.ndarray"
      ]
     },
     "execution_count": 29,
     "metadata": {},
     "output_type": "execute_result"
    }
   ],
   "source": [
    "type(array_2d)"
   ]
  },
  {
   "cell_type": "code",
   "execution_count": 117,
   "metadata": {
    "ExecuteTime": {
     "end_time": "2020-02-09T12:52:19.332041Z",
     "start_time": "2020-02-09T12:52:19.325621Z"
    }
   },
   "outputs": [
    {
     "data": {
      "text/plain": [
       "array([[0, 1, 2],\n",
       "       [3, 4, 5],\n",
       "       [6, 7, 8]])"
      ]
     },
     "execution_count": 117,
     "metadata": {},
     "output_type": "execute_result"
    }
   ],
   "source": [
    "array_2d.astype('int')"
   ]
  },
  {
   "cell_type": "markdown",
   "metadata": {},
   "source": [
    "## Indexado y particionado de arrays\n",
    "\n",
    "### Indexado de un array\n",
    "\n",
    "Se pueden extraer elementos específicos de un array mediante el uso del **indexado**, que así como en las listas; empieza con el índice 0 para indicar el primer elemento. \n",
    "\n",
    "Dado un array, se especifica el elemento que se quiere extraer mediante los índices de posición entre corchetes [ ]\n",
    "\n",
    "La diferencia con las listas es que **especificaremos tantos índices de posición como dimensiones tenga el array**.\n",
    "\n",
    "Una lista es un array 1d, por lo que con las listas sólo teníamos que especificar 1 índice\n",
    "\n",
    "#### Indexado para array 1d\n",
    "\n",
    "![title](https://docs.oracle.com/javase/tutorial/figures/java/objects-tenElementArray.gif)\n",
    "\n",
    "Vamos a crear un np.array que contenga elementos del 0 al 9 con step = 1"
   ]
  },
  {
   "cell_type": "code",
   "execution_count": 30,
   "metadata": {
    "ExecuteTime": {
     "end_time": "2021-02-01T20:58:08.216706Z",
     "start_time": "2021-02-01T20:58:08.204704Z"
    }
   },
   "outputs": [
    {
     "data": {
      "text/plain": [
       "array([0, 1, 2, 3, 4, 5, 6, 7, 8, 9])"
      ]
     },
     "execution_count": 30,
     "metadata": {},
     "output_type": "execute_result"
    }
   ],
   "source": [
    "a = np.arange(10)\n",
    "a"
   ]
  },
  {
   "cell_type": "markdown",
   "metadata": {},
   "source": [
    "Qué elemento está en la primera posición del array?"
   ]
  },
  {
   "cell_type": "code",
   "execution_count": 31,
   "metadata": {
    "ExecuteTime": {
     "end_time": "2021-02-01T20:58:09.229936Z",
     "start_time": "2021-02-01T20:58:09.211933Z"
    }
   },
   "outputs": [
    {
     "data": {
      "text/plain": [
       "0"
      ]
     },
     "execution_count": 31,
     "metadata": {},
     "output_type": "execute_result"
    }
   ],
   "source": [
    "a[0]"
   ]
  },
  {
   "cell_type": "markdown",
   "metadata": {},
   "source": [
    "Qué elemento está en útima posición del array?"
   ]
  },
  {
   "cell_type": "code",
   "execution_count": 32,
   "metadata": {
    "ExecuteTime": {
     "end_time": "2021-02-01T20:58:10.109229Z",
     "start_time": "2021-02-01T20:58:10.092227Z"
    }
   },
   "outputs": [
    {
     "data": {
      "text/plain": [
       "9"
      ]
     },
     "execution_count": 32,
     "metadata": {},
     "output_type": "execute_result"
    }
   ],
   "source": [
    "a[-1]"
   ]
  },
  {
   "cell_type": "code",
   "execution_count": 33,
   "metadata": {
    "ExecuteTime": {
     "end_time": "2020-02-27T20:10:05.595023Z",
     "start_time": "2020-02-27T20:10:05.589364Z"
    }
   },
   "outputs": [
    {
     "data": {
      "text/plain": [
       "array([7, 8, 9])"
      ]
     },
     "execution_count": 33,
     "metadata": {},
     "output_type": "execute_result"
    }
   ],
   "source": [
    "a[-3:]"
   ]
  },
  {
   "cell_type": "code",
   "execution_count": 152,
   "metadata": {
    "ExecuteTime": {
     "end_time": "2020-02-09T16:57:35.720215Z",
     "start_time": "2020-02-09T16:57:35.713225Z"
    }
   },
   "outputs": [
    {
     "data": {
      "text/plain": [
       "0"
      ]
     },
     "execution_count": 152,
     "metadata": {},
     "output_type": "execute_result"
    }
   ],
   "source": [
    "#acceso al primer elemento\n",
    "#como es 1d solo tengo que especificar 1 valor de posición para accedr\n",
    "a[0]"
   ]
  },
  {
   "cell_type": "code",
   "execution_count": 154,
   "metadata": {
    "ExecuteTime": {
     "end_time": "2020-02-09T16:57:49.868398Z",
     "start_time": "2020-02-09T16:57:49.861570Z"
    }
   },
   "outputs": [
    {
     "data": {
      "text/plain": [
       "9"
      ]
     },
     "execution_count": 154,
     "metadata": {},
     "output_type": "execute_result"
    }
   ],
   "source": [
    "a[-1] #último elemento"
   ]
  },
  {
   "cell_type": "markdown",
   "metadata": {},
   "source": [
    "Y prevalecen las mismas reglas de indexado que aprendimos con las listas"
   ]
  },
  {
   "cell_type": "code",
   "execution_count": 34,
   "metadata": {
    "ExecuteTime": {
     "end_time": "2020-02-09T16:58:16.569983Z",
     "start_time": "2020-02-09T16:58:16.562191Z"
    }
   },
   "outputs": [
    {
     "data": {
      "text/plain": [
       "array([0, 1, 2, 3, 4, 5, 6, 7, 8])"
      ]
     },
     "execution_count": 34,
     "metadata": {},
     "output_type": "execute_result"
    }
   ],
   "source": [
    "a[:-1]"
   ]
  },
  {
   "cell_type": "code",
   "execution_count": 35,
   "metadata": {
    "ExecuteTime": {
     "end_time": "2020-02-09T16:58:24.486142Z",
     "start_time": "2020-02-09T16:58:24.479377Z"
    }
   },
   "outputs": [
    {
     "data": {
      "text/plain": [
       "array([2, 3, 4, 5, 6, 7, 8, 9])"
      ]
     },
     "execution_count": 35,
     "metadata": {},
     "output_type": "execute_result"
    }
   ],
   "source": [
    "a[2:]"
   ]
  },
  {
   "cell_type": "markdown",
   "metadata": {},
   "source": [
    "#### Indexado para multi-array\n",
    "\n",
    "Si tenemos un array n-dimensional tendremos que especificar n índices de posición para acceder al elemento deseado.\n",
    "\n",
    "Es decir, si tenemos un array de 2-dimensiones, tendremos que especificar 2 índices, uno referido a las filas y el otro a las columnas. \n",
    "\n",
    "![title](https://d1jnx9ba8s6j9r.cloudfront.net/blog/wp-content/uploads/2017/06/MultiDimensional-Array.png)\n",
    "\n",
    "**Importante!** \n",
    "\n",
    "En arrays de 2-dimensiones, la 1ª dimensión se refiere a las **filas** mientras que la 2ª dimensión se refiere a las **columnas**.\n",
    "\n",
    "Es decir, al especificar los dos índices del array **a[i,j]**:\n",
    "- el **índice i** se refiere a la posición que ocupa el elemento en las **filas**\n",
    "- el **índice j** se refiere a la posición que ocupa el elemento en las **columnas**\n",
    "\n",
    "![title](data:image/png;base64,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)\n",
    "\n",
    "**Importante!**\n",
    "\n",
    "Si en lugar de acceder a un solo elemento (o cuadrado en la figura de arriba mediante *array[i,j]*) queremos **acceder a una fila o columna enteras** (es decir, a una de las listas que contiene la lista que conforma el array); **especificaremos un sólo indice**.\n",
    "\n",
    "Es decir, \n",
    "- con *array[i]* (análogo a *array[i,:]*) accederemos a la fila *i* del array \n",
    "- con *array[,j]* accederemos a la columna *j* del array.\n",
    "\n",
    "![title](https://www.codingeek.com/wp-content/uploads/2017/01/2D-arrays.png)\n",
    "\n",
    "#### EJEMPLO:  array[i,j], acceso a elementos de un array 2d"
   ]
  },
  {
   "cell_type": "code",
   "execution_count": 36,
   "metadata": {
    "ExecuteTime": {
     "end_time": "2020-02-27T20:18:16.101235Z",
     "start_time": "2020-02-27T20:18:16.095956Z"
    }
   },
   "outputs": [
    {
     "data": {
      "text/plain": [
       "array([0, 1, 2])"
      ]
     },
     "execution_count": 36,
     "metadata": {},
     "output_type": "execute_result"
    }
   ],
   "source": [
    "np.arange(3)"
   ]
  },
  {
   "cell_type": "code",
   "execution_count": 37,
   "metadata": {
    "ExecuteTime": {
     "end_time": "2020-02-27T20:21:07.251895Z",
     "start_time": "2020-02-27T20:21:07.248187Z"
    }
   },
   "outputs": [],
   "source": [
    "a = np.diag(np.arange(3))"
   ]
  },
  {
   "cell_type": "code",
   "execution_count": 38,
   "metadata": {
    "ExecuteTime": {
     "end_time": "2020-02-27T20:21:07.475975Z",
     "start_time": "2020-02-27T20:21:07.468755Z"
    }
   },
   "outputs": [
    {
     "data": {
      "text/plain": [
       "array([[0, 0, 0],\n",
       "       [0, 1, 0],\n",
       "       [0, 0, 2]])"
      ]
     },
     "execution_count": 38,
     "metadata": {},
     "output_type": "execute_result"
    }
   ],
   "source": [
    "a"
   ]
  },
  {
   "cell_type": "code",
   "execution_count": 47,
   "metadata": {
    "ExecuteTime": {
     "end_time": "2020-02-27T20:21:07.733370Z",
     "start_time": "2020-02-27T20:21:07.728649Z"
    }
   },
   "outputs": [
    {
     "name": "stdout",
     "output_type": "stream",
     "text": [
      "[[0 0 0]\n",
      " [0 1 0]\n",
      " [0 0 2]]\n"
     ]
    }
   ],
   "source": [
    "print(a)"
   ]
  },
  {
   "cell_type": "markdown",
   "metadata": {},
   "source": [
    "Accede al elemento = 1 del array a"
   ]
  },
  {
   "cell_type": "code",
   "execution_count": 39,
   "metadata": {
    "ExecuteTime": {
     "end_time": "2020-02-27T20:21:08.373303Z",
     "start_time": "2020-02-27T20:21:08.367472Z"
    }
   },
   "outputs": [
    {
     "data": {
      "text/plain": [
       "1"
      ]
     },
     "execution_count": 39,
     "metadata": {},
     "output_type": "execute_result"
    }
   ],
   "source": [
    "a[1,1]"
   ]
  },
  {
   "cell_type": "markdown",
   "metadata": {},
   "source": [
    "Este array es una lista de 3 listas, un vector de **2 dimensiones**. \n",
    "\n",
    "Así que para acceder a un elemento tenemos que **especificar 2 índices: un índice de en qué columna y el índice de en que fila** está el elemento que queremos acceder"
   ]
  },
  {
   "cell_type": "code",
   "execution_count": 40,
   "metadata": {
    "ExecuteTime": {
     "end_time": "2020-02-09T17:07:22.795164Z",
     "start_time": "2020-02-09T17:07:22.788905Z"
    }
   },
   "outputs": [
    {
     "data": {
      "text/plain": [
       "0"
      ]
     },
     "execution_count": 40,
     "metadata": {},
     "output_type": "execute_result"
    }
   ],
   "source": [
    "a[0,0] \n",
    "#Acceso al 1r elemento: ocupa 1ª fila y 1ª columna , por lo que atacaremos índices 0 y 0"
   ]
  },
  {
   "cell_type": "code",
   "execution_count": 41,
   "metadata": {
    "ExecuteTime": {
     "end_time": "2020-02-09T17:07:43.495779Z",
     "start_time": "2020-02-09T17:07:43.489717Z"
    }
   },
   "outputs": [
    {
     "data": {
      "text/plain": [
       "2"
      ]
     },
     "execution_count": 41,
     "metadata": {},
     "output_type": "execute_result"
    }
   ],
   "source": [
    "a[2,2] #3ª fila y 3ª columna"
   ]
  },
  {
   "cell_type": "markdown",
   "metadata": {},
   "source": [
    "#### EJEMPLO: a[i], acceso a una lista entera dentro de un array 2d\n",
    "\n",
    "Si en lugar de un solo elemento queremos acceder a una lista o columna entera dentro de un array, sólo especificaremos el índice que le corresponda al eje!\n",
    "\n",
    "En un array de nombre a con *n x n* elementos;\n",
    "- a[i] para sacar la fila i entera del array\n",
    "- a[:,j] para sacara la columna j entera del array"
   ]
  },
  {
   "cell_type": "code",
   "execution_count": 169,
   "metadata": {
    "ExecuteTime": {
     "end_time": "2020-02-09T17:18:06.709376Z",
     "start_time": "2020-02-09T17:18:06.704874Z"
    }
   },
   "outputs": [
    {
     "name": "stdout",
     "output_type": "stream",
     "text": [
      "[[0 0 0]\n",
      " [0 1 0]\n",
      " [0 0 2]]\n"
     ]
    }
   ],
   "source": [
    "print(a)"
   ]
  },
  {
   "cell_type": "code",
   "execution_count": 42,
   "metadata": {
    "ExecuteTime": {
     "end_time": "2020-02-09T17:20:04.668685Z",
     "start_time": "2020-02-09T17:20:04.662841Z"
    }
   },
   "outputs": [
    {
     "name": "stdout",
     "output_type": "stream",
     "text": [
      "[0 1 0]\n"
     ]
    }
   ],
   "source": [
    "print(a[1]) #nos devuelve la 2a fila entera"
   ]
  },
  {
   "cell_type": "code",
   "execution_count": 174,
   "metadata": {
    "ExecuteTime": {
     "end_time": "2020-02-09T17:20:00.381876Z",
     "start_time": "2020-02-09T17:20:00.375951Z"
    }
   },
   "outputs": [
    {
     "name": "stdout",
     "output_type": "stream",
     "text": [
      "[0 0 0]\n"
     ]
    }
   ],
   "source": [
    "print(a[:,0])"
   ]
  },
  {
   "cell_type": "markdown",
   "metadata": {},
   "source": [
    "### Slicing de un array\n",
    "\n",
    "El indexado de los arrays nos permite particionar los arrays. \n",
    "\n",
    "Sea un array 1-dimensional *a*; *a[x:y:z]* nos presenta los **3 índices de particionado**:\n",
    "- **x** índice de **start**\n",
    "- **y** índice **final**\n",
    "- **z** índice **step** \n",
    "\n",
    "Es decir, *a[x:y:z]* nos permite acceder a los elementos comprendidos desde la posición *x* hasta la posición *y-1* en pasos de *z*\n",
    "\n",
    "\n",
    "Por *default*,\n",
    "- start = 0\n",
    "- end es el último elemento\n",
    "- step = 1\n",
    "\n",
    "#### EJEMPLO"
   ]
  },
  {
   "cell_type": "code",
   "execution_count": 43,
   "metadata": {
    "ExecuteTime": {
     "end_time": "2020-02-09T17:36:30.239735Z",
     "start_time": "2020-02-09T17:36:30.232583Z"
    }
   },
   "outputs": [
    {
     "data": {
      "text/plain": [
       "array([0, 1, 2, 3, 4, 5, 6, 7, 8, 9])"
      ]
     },
     "execution_count": 43,
     "metadata": {},
     "output_type": "execute_result"
    }
   ],
   "source": [
    "#creamos un array 1-dimensional\n",
    "a = np.arange(10)\n",
    "a"
   ]
  },
  {
   "cell_type": "code",
   "execution_count": 44,
   "metadata": {
    "ExecuteTime": {
     "end_time": "2020-02-09T17:42:56.608859Z",
     "start_time": "2020-02-09T17:42:56.602107Z"
    }
   },
   "outputs": [
    {
     "data": {
      "text/plain": [
       "array([2, 5, 8])"
      ]
     },
     "execution_count": 44,
     "metadata": {},
     "output_type": "execute_result"
    }
   ],
   "source": [
    "a[2:9:3] \n",
    "#x =2: empieza en índice 2, es decir posición 3\n",
    "#y=9: finaliza en posición 9\n",
    "#z=3: step cada 3 "
   ]
  },
  {
   "cell_type": "code",
   "execution_count": 45,
   "metadata": {
    "ExecuteTime": {
     "end_time": "2020-02-09T17:43:28.369913Z",
     "start_time": "2020-02-09T17:43:28.362937Z"
    }
   },
   "outputs": [
    {
     "data": {
      "text/plain": [
       "array([0, 1, 2, 3, 4, 5, 6, 7, 8, 9])"
      ]
     },
     "execution_count": 45,
     "metadata": {},
     "output_type": "execute_result"
    }
   ],
   "source": [
    "a[:] #lo coge todo"
   ]
  },
  {
   "cell_type": "code",
   "execution_count": 46,
   "metadata": {
    "ExecuteTime": {
     "end_time": "2020-02-09T17:43:39.494304Z",
     "start_time": "2020-02-09T17:43:39.487896Z"
    }
   },
   "outputs": [
    {
     "data": {
      "text/plain": [
       "array([0, 1, 2])"
      ]
     },
     "execution_count": 46,
     "metadata": {},
     "output_type": "execute_result"
    }
   ],
   "source": [
    "a[:3] #coge hasta posición 3 (índice 4 no incluido)"
   ]
  },
  {
   "cell_type": "code",
   "execution_count": 184,
   "metadata": {
    "ExecuteTime": {
     "end_time": "2020-02-09T17:44:24.982468Z",
     "start_time": "2020-02-09T17:44:24.975231Z"
    }
   },
   "outputs": [
    {
     "data": {
      "text/plain": [
       "array([2, 3, 4, 5, 6, 7, 8, 9])"
      ]
     },
     "execution_count": 184,
     "metadata": {},
     "output_type": "execute_result"
    }
   ],
   "source": [
    "a[2:] #coge desde índice 2 = posición 3 incluida"
   ]
  },
  {
   "cell_type": "markdown",
   "metadata": {
    "ExecuteTime": {
     "end_time": "2020-02-09T17:44:50.794697Z",
     "start_time": "2020-02-09T17:44:50.788479Z"
    }
   },
   "source": [
    "Para ver más ejemplos...\n",
    "\n",
    "![title](https://scipy-lectures.org/_images/numpy_indexing.png)\n",
    "\n",
    "### Asignar valor a elementos de arrays\n",
    "\n",
    "Mediante el indexing se puede acceder a elementos y modificarlos según nos convenga:"
   ]
  },
  {
   "cell_type": "code",
   "execution_count": 186,
   "metadata": {
    "ExecuteTime": {
     "end_time": "2020-02-09T17:46:15.491654Z",
     "start_time": "2020-02-09T17:46:15.485850Z"
    }
   },
   "outputs": [
    {
     "name": "stdout",
     "output_type": "stream",
     "text": [
      "[[0 0 0]\n",
      " [0 1 0]\n",
      " [0 0 2]]\n"
     ]
    }
   ],
   "source": [
    "a = np.diag(np.arange(3))\n",
    "print(a)"
   ]
  },
  {
   "cell_type": "markdown",
   "metadata": {
    "ExecuteTime": {
     "end_time": "2020-02-09T17:46:35.707923Z",
     "start_time": "2020-02-09T17:46:35.703862Z"
    }
   },
   "source": [
    "#### EJEMPLO: Modificar elemento en fila 3 y columna 2"
   ]
  },
  {
   "cell_type": "code",
   "execution_count": 188,
   "metadata": {
    "ExecuteTime": {
     "end_time": "2020-02-09T17:46:52.361944Z",
     "start_time": "2020-02-09T17:46:52.358160Z"
    }
   },
   "outputs": [],
   "source": [
    "a[2,1] = 10"
   ]
  },
  {
   "cell_type": "code",
   "execution_count": 189,
   "metadata": {
    "ExecuteTime": {
     "end_time": "2020-02-09T17:47:00.512394Z",
     "start_time": "2020-02-09T17:47:00.507506Z"
    }
   },
   "outputs": [
    {
     "name": "stdout",
     "output_type": "stream",
     "text": [
      "[[ 0  0  0]\n",
      " [ 0  1  0]\n",
      " [ 0 10  2]]\n"
     ]
    }
   ],
   "source": [
    "print(a)"
   ]
  },
  {
   "cell_type": "markdown",
   "metadata": {},
   "source": [
    "####  Ejercicios:\n",
    "1. Generar un array que contenga las siguientes filas\n",
    "\n",
    "1f: 1, 3, -1, 4, 5\n",
    "\n",
    "2f: 1, 1, 2, 4, 6\n",
    "\n",
    "3f: 6, 4, 3, 8, 2\n",
    "\n",
    "2. Imprime la primera columna\n",
    "3. Imprime la segunda fila\n",
    "4. Cambia el valor del subset de las últimas 2 filas y 2 columnas a 4\n"
   ]
  },
  {
   "cell_type": "code",
   "execution_count": null,
   "metadata": {},
   "outputs": [],
   "source": []
  },
  {
   "cell_type": "code",
   "execution_count": null,
   "metadata": {},
   "outputs": [],
   "source": []
  },
  {
   "cell_type": "code",
   "execution_count": null,
   "metadata": {},
   "outputs": [],
   "source": []
  },
  {
   "cell_type": "code",
   "execution_count": null,
   "metadata": {},
   "outputs": [],
   "source": []
  },
  {
   "cell_type": "code",
   "execution_count": null,
   "metadata": {},
   "outputs": [],
   "source": []
  },
  {
   "cell_type": "markdown",
   "metadata": {},
   "source": [
    "2. Escribe un programa con Numpy para crear array tipo random de 10X4 y extraer las primeras 5 filas para guardarlas en una variable."
   ]
  },
  {
   "cell_type": "code",
   "execution_count": null,
   "metadata": {},
   "outputs": [],
   "source": []
  },
  {
   "cell_type": "code",
   "execution_count": null,
   "metadata": {},
   "outputs": [],
   "source": []
  },
  {
   "cell_type": "code",
   "execution_count": null,
   "metadata": {},
   "outputs": [],
   "source": []
  },
  {
   "cell_type": "code",
   "execution_count": null,
   "metadata": {},
   "outputs": [],
   "source": []
  },
  {
   "cell_type": "code",
   "execution_count": null,
   "metadata": {},
   "outputs": [],
   "source": []
  },
  {
   "cell_type": "code",
   "execution_count": null,
   "metadata": {},
   "outputs": [],
   "source": []
  },
  {
   "cell_type": "markdown",
   "metadata": {},
   "source": [
    "3. Escribe un programa Numpy para hallar el valor más frecuente en un array."
   ]
  },
  {
   "cell_type": "code",
   "execution_count": null,
   "metadata": {},
   "outputs": [],
   "source": []
  },
  {
   "cell_type": "code",
   "execution_count": null,
   "metadata": {},
   "outputs": [],
   "source": []
  },
  {
   "cell_type": "code",
   "execution_count": null,
   "metadata": {},
   "outputs": [],
   "source": []
  },
  {
   "cell_type": "code",
   "execution_count": null,
   "metadata": {},
   "outputs": [],
   "source": []
  },
  {
   "cell_type": "code",
   "execution_count": null,
   "metadata": {},
   "outputs": [],
   "source": []
  },
  {
   "cell_type": "code",
   "execution_count": null,
   "metadata": {},
   "outputs": [],
   "source": []
  },
  {
   "cell_type": "markdown",
   "metadata": {},
   "source": [
    "4. Crear una matriz de 10x10 con 1's en los bordes y 0 en el interior (con rangos de indices)"
   ]
  },
  {
   "cell_type": "code",
   "execution_count": null,
   "metadata": {},
   "outputs": [],
   "source": []
  },
  {
   "cell_type": "code",
   "execution_count": null,
   "metadata": {},
   "outputs": [],
   "source": []
  },
  {
   "cell_type": "code",
   "execution_count": null,
   "metadata": {},
   "outputs": [],
   "source": []
  },
  {
   "cell_type": "code",
   "execution_count": null,
   "metadata": {},
   "outputs": [],
   "source": []
  },
  {
   "cell_type": "code",
   "execution_count": null,
   "metadata": {},
   "outputs": [],
   "source": []
  },
  {
   "cell_type": "code",
   "execution_count": null,
   "metadata": {},
   "outputs": [],
   "source": []
  },
  {
   "cell_type": "markdown",
   "metadata": {},
   "source": [
    "5. Crear una matriz de 5x5 con valores en las filas que vayan de 0 a 4"
   ]
  },
  {
   "cell_type": "code",
   "execution_count": null,
   "metadata": {},
   "outputs": [],
   "source": []
  },
  {
   "cell_type": "code",
   "execution_count": null,
   "metadata": {},
   "outputs": [],
   "source": []
  },
  {
   "cell_type": "code",
   "execution_count": null,
   "metadata": {},
   "outputs": [],
   "source": []
  },
  {
   "cell_type": "code",
   "execution_count": null,
   "metadata": {},
   "outputs": [],
   "source": []
  },
  {
   "cell_type": "code",
   "execution_count": null,
   "metadata": {},
   "outputs": [],
   "source": []
  }
 ],
 "metadata": {
  "kernelspec": {
   "display_name": "Python 3",
   "language": "python",
   "name": "python3"
  },
  "language_info": {
   "codemirror_mode": {
    "name": "ipython",
    "version": 3
   },
   "file_extension": ".py",
   "mimetype": "text/x-python",
   "name": "python",
   "nbconvert_exporter": "python",
   "pygments_lexer": "ipython3",
   "version": "3.8.10"
  },
  "latex_envs": {
   "LaTeX_envs_menu_present": true,
   "autoclose": false,
   "autocomplete": true,
   "bibliofile": "biblio.bib",
   "cite_by": "apalike",
   "current_citInitial": 1,
   "eqLabelWithNumbers": true,
   "eqNumInitial": 1,
   "hotkeys": {
    "equation": "Ctrl-E",
    "itemize": "Ctrl-I"
   },
   "labels_anchors": false,
   "latex_user_defs": false,
   "report_style_numbering": false,
   "user_envs_cfg": false
  },
  "nbTranslate": {
   "displayLangs": [
    "*"
   ],
   "hotkey": "alt-t",
   "langInMainMenu": true,
   "sourceLang": "en",
   "targetLang": "fr",
   "useGoogleTranslate": true
  },
  "toc": {
   "base_numbering": 1,
   "nav_menu": {},
   "number_sections": true,
   "sideBar": true,
   "skip_h1_title": false,
   "title_cell": "Table of Contents",
   "title_sidebar": "Contents",
   "toc_cell": false,
   "toc_position": {},
   "toc_section_display": true,
   "toc_window_display": false
  },
  "varInspector": {
   "cols": {
    "lenName": 16,
    "lenType": 16,
    "lenVar": 40
   },
   "kernels_config": {
    "python": {
     "delete_cmd_postfix": "",
     "delete_cmd_prefix": "del ",
     "library": "var_list.py",
     "varRefreshCmd": "print(var_dic_list())"
    },
    "r": {
     "delete_cmd_postfix": ") ",
     "delete_cmd_prefix": "rm(",
     "library": "var_list.r",
     "varRefreshCmd": "cat(var_dic_list()) "
    }
   },
   "types_to_exclude": [
    "module",
    "function",
    "builtin_function_or_method",
    "instance",
    "_Feature"
   ],
   "window_display": false
  }
 },
 "nbformat": 4,
 "nbformat_minor": 2
}
