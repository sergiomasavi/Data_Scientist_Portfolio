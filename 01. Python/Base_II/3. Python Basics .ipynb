{
 "cells": [
  {
   "cell_type": "markdown",
   "metadata": {},
   "source": [
    "<img src=\"Tarjeta.png\">"
   ]
  },
  {
   "cell_type": "markdown",
   "metadata": {},
   "source": [
    "# Introducción al Jupyter Notebook\n",
    "\n",
    "## Introducción a Jupyter Notebook\n",
    "\n",
    "Jupyter Notebook es una aplicación web que te permite crear y compartir documentos que contienen código vivo, ecuaciones, visualización y texto explicativo. \n",
    "Así, la aplicación te permite realizar data cleaning y transformación de datos, simulación numérica, modelización estadística, machine learning y mucho más!\n",
    "\n",
    "## Instalación de Jupyter Notebook\n",
    "\n",
    "Lo hemos instalado mediante Anaconda, ya que facilita la instalación de Python, Jupyter Notebook y principales paquetes de Python para data science. \n",
    "\n",
    "Para abrir un nuevo Notebook, tenemos varias opciones:\n",
    "\n",
    "- Desde el terminal:\n",
    "Abrimos un nuevo directorio desde nuestro usuario mediante el siguiente comando:\n",
    "\n",
    "cd ../Clase-1/\n",
    "\n",
    "Y para abrir un nuevo Notebook tecleamos:\n",
    "\n",
    "jupyter notebook\n",
    "\n",
    "Que empieza un nuevo servidor y sale un dashboard dentro nuestro localhost. Por eso no debemos cerrar el terminal, porque sostiene nuestro servidor para Python.\n",
    "\n",
    "- Otra opción es abrir Anaconda y seleccionar Jupyter Notebook desde ahí!"
   ]
  },
  {
   "cell_type": "markdown",
   "metadata": {},
   "source": [
    "## Aspectos básicos de Jupyter Notebook\n",
    "\n",
    "Para crear un nuevo notebook necesitamos tener un kernel, que establece que lenguaje de programación queremos usar.\n",
    "En el caso de Python, tenemos que establecer el kernel raíz de Python 3. \n",
    "\n",
    "Para aquellos que no hayan usado antes el Jupyter Notebook, conviene empezar con un pequeño tutorial que encontraremos en:\n",
    "\n",
    ">Help>User Interface Tour\n",
    "\n",
    "Para entender la diferencia de modos, de edición y ejecución, nuestro primer comando!"
   ]
  },
  {
   "cell_type": "code",
   "execution_count": 1,
   "metadata": {
    "ExecuteTime": {
     "end_time": "2020-02-18T18:01:59.758603Z",
     "start_time": "2020-02-18T18:01:59.752746Z"
    }
   },
   "outputs": [
    {
     "name": "stdout",
     "output_type": "stream",
     "text": [
      "Hello World!\n"
     ]
    }
   ],
   "source": [
    "print( \"Hello World!\")"
   ]
  },
  {
   "cell_type": "code",
   "execution_count": 1,
   "metadata": {},
   "outputs": [
    {
     "name": "stdout",
     "output_type": "stream",
     "text": [
      "Hola\n"
     ]
    }
   ],
   "source": [
    "print('Hola')"
   ]
  },
  {
   "cell_type": "markdown",
   "metadata": {},
   "source": [
    "print('Hola')"
   ]
  },
  {
   "cell_type": "code",
   "execution_count": null,
   "metadata": {},
   "outputs": [],
   "source": []
  },
  {
   "cell_type": "code",
   "execution_count": null,
   "metadata": {},
   "outputs": [],
   "source": []
  },
  {
   "cell_type": "code",
   "execution_count": null,
   "metadata": {},
   "outputs": [],
   "source": []
  },
  {
   "cell_type": "markdown",
   "metadata": {},
   "source": [
    "Además, podemos encontrar shortcuts de los comandos más básicos de Jupyter Notebook:\n",
    "\n",
    ">Help>User Interface Tour\n",
    "\n",
    "Al escribir código, (CODE modo); tenemos una numeración de la ejecución del código; que es muy útil para no cometer errores y recordar flujo de la programación!"
   ]
  },
  {
   "cell_type": "code",
   "execution_count": null,
   "metadata": {
    "ExecuteTime": {
     "end_time": "2020-02-01T11:40:40.372739Z",
     "start_time": "2020-02-01T11:40:40.368818Z"
    }
   },
   "outputs": [],
   "source": [
    "nombre = \"Ana\""
   ]
  },
  {
   "cell_type": "code",
   "execution_count": null,
   "metadata": {
    "ExecuteTime": {
     "end_time": "2020-02-01T11:40:44.590772Z",
     "start_time": "2020-02-01T11:40:44.584054Z"
    }
   },
   "outputs": [],
   "source": [
    "nombre"
   ]
  },
  {
   "cell_type": "code",
   "execution_count": null,
   "metadata": {
    "ExecuteTime": {
     "end_time": "2020-02-01T11:40:35.275394Z",
     "start_time": "2020-02-01T11:40:35.267960Z"
    }
   },
   "outputs": [],
   "source": [
    "nombre"
   ]
  },
  {
   "cell_type": "code",
   "execution_count": null,
   "metadata": {
    "ExecuteTime": {
     "end_time": "2020-02-01T11:40:31.977674Z",
     "start_time": "2020-02-01T11:40:31.973187Z"
    }
   },
   "outputs": [],
   "source": [
    "nombre = \"Yolanda\""
   ]
  },
  {
   "cell_type": "markdown",
   "metadata": {},
   "source": [
    "# Introducción al Python 1/2\n",
    "\n",
    "## Qué es programar en Python?\n",
    "\n",
    "La programación es el **proceso de crear un conjunto de instrucciones que le digan a un ordenador cómo realizar una tarea**. La programación se puede hacer usando una variedad de \"lenguajes\" de programación como SQL, Java, Python y C++.  \n",
    "\n",
    "Así, programar es el proceso de comunicación entre humano-ordenador mediante un lenguaje, por lo que nuestro propósito es estudiar el lenguaje escogido con el que hablaremos a nuestro PC para que éste haga rutinas para nosotros. En nuestro caso, estudiaremos Python!\n",
    "\n",
    "## Sintaxis en Python\n",
    "\n",
    "Así, Python no es más que un lenguaje de programación, con elementos que no son más que analogías a los elementos que conforman un idioma como el Español. Tenemos:\n",
    "- alfabeto, dígitos y símbolos - análogos al alfabeto español\n",
    "- constantes variables y keywords (palabras reservadas) - análogas a las palabras del español\n",
    "- instrucciones o commands - frases en español obedeciendo reglas de escritura \n",
    "- programas - análogos a parágrafos \n",
    "\n",
    "El idioma de la ciencia es el **inglés** y por lo tanto, veremos que la mayoría de comandos de Python se leen como un inglés muy básico\n",
    "\n",
    "Entonces, como hacemos para aprender cualquier lenguaje, para aprender el Python tendremos que estudiar su **Sintaxis**:\n",
    "- Disciplina lingüística que estudia el orden y la relación de las palabras o sintagmas en la oración, así como las funciones que cumplen."
   ]
  },
  {
   "cell_type": "markdown",
   "metadata": {
    "ExecuteTime": {
     "end_time": "2020-02-01T18:48:02.237287Z",
     "start_time": "2020-02-01T18:48:02.002458Z"
    }
   },
   "source": [
    "![Image of Yaktocat](https://i.pinimg.com/600x315/88/5b/7b/885b7b783181234c51ea17ec48a02506.jpg)"
   ]
  },
  {
   "cell_type": "markdown",
   "metadata": {},
   "source": [
    "Para evitarlo, es fundamental entender bien la sintaxis del lenguaje de programación con el que trabajaremos!!\n",
    "\n",
    "### Identación\n",
    "\n",
    "¿Qué es un lenguaje sino un conjunto ordenado de palabras separadas por espacios?\n",
    "\n",
    "Para entender como escribir en lenguaje Python es fundamental entender el concepto de la identación, que se refiere a:\n",
    "- espacios al inicio de una línea de código\n",
    "\n",
    "Mientras que en otros lenguajes de programación la identación del código se usa para una mejor lectura, **la identación en Python es obligatoria ya que indica un bloque de código (o párrafo)**.\n",
    "\n",
    "Un mismo código en Python, si no tuviera identación, dejará de funcionar\n",
    "\n",
    "##### EJEMPLO\n",
    "\n",
    "Vamos a probar qué pasa cuando no escribimos código bien identado!"
   ]
  },
  {
   "cell_type": "code",
   "execution_count": 5,
   "metadata": {},
   "outputs": [],
   "source": [
    "if 4>5:\n",
    "    print('hola')"
   ]
  },
  {
   "cell_type": "code",
   "execution_count": 6,
   "metadata": {},
   "outputs": [
    {
     "ename": "IndentationError",
     "evalue": "expected an indented block (<ipython-input-6-cc9b39640fb8>, line 2)",
     "output_type": "error",
     "traceback": [
      "\u001b[1;36m  File \u001b[1;32m\"<ipython-input-6-cc9b39640fb8>\"\u001b[1;36m, line \u001b[1;32m2\u001b[0m\n\u001b[1;33m    print('hola')\u001b[0m\n\u001b[1;37m    ^\u001b[0m\n\u001b[1;31mIndentationError\u001b[0m\u001b[1;31m:\u001b[0m expected an indented block\n"
     ]
    }
   ],
   "source": [
    "if 4>5:\n",
    "print('hola')"
   ]
  },
  {
   "cell_type": "code",
   "execution_count": 3,
   "metadata": {},
   "outputs": [
    {
     "name": "stdout",
     "output_type": "stream",
     "text": [
      "hola\n"
     ]
    }
   ],
   "source": [
    "if 4<5:\n",
    "    print('hola')"
   ]
  },
  {
   "cell_type": "code",
   "execution_count": 4,
   "metadata": {},
   "outputs": [
    {
     "ename": "IndentationError",
     "evalue": "expected an indented block (<ipython-input-4-ecaf554bfd63>, line 2)",
     "output_type": "error",
     "traceback": [
      "\u001b[1;36m  File \u001b[1;32m\"<ipython-input-4-ecaf554bfd63>\"\u001b[1;36m, line \u001b[1;32m2\u001b[0m\n\u001b[1;33m    print('hola')\u001b[0m\n\u001b[1;37m    ^\u001b[0m\n\u001b[1;31mIndentationError\u001b[0m\u001b[1;31m:\u001b[0m expected an indented block\n"
     ]
    }
   ],
   "source": [
    "if 4<5:\n",
    "print('hola')"
   ]
  },
  {
   "cell_type": "code",
   "execution_count": null,
   "metadata": {},
   "outputs": [],
   "source": []
  },
  {
   "cell_type": "code",
   "execution_count": null,
   "metadata": {},
   "outputs": [],
   "source": []
  },
  {
   "cell_type": "markdown",
   "metadata": {},
   "source": [
    "### Comentarios en Python\n",
    "\n",
    "Los comentarios en Python son textos que escribimos dentro de un bloque de código que son ignorados por la máquina, es decir son visibles para nosotros pero invisibles para la máquina cuando ejecuta el bloque de código que contiene el comentario.\n",
    "\n",
    "Los comentarios tienen dos funciones:\n",
    "1. Explicar lo que hace una línea de código\n",
    "2. Cancelar la ejecución de cierta línea de código dentro de un bloque de codigo que ejecutamos\n",
    "\n",
    "Para añadir un comentario o comentar una línea de código, simplemente añadimos el símbolo #\n",
    "\n",
    "#### EJEMPLO - comentarios para explicar"
   ]
  },
  {
   "cell_type": "code",
   "execution_count": 5,
   "metadata": {},
   "outputs": [],
   "source": [
    "#hola"
   ]
  },
  {
   "cell_type": "code",
   "execution_count": 7,
   "metadata": {},
   "outputs": [],
   "source": [
    "#print('h')"
   ]
  },
  {
   "cell_type": "code",
   "execution_count": null,
   "metadata": {},
   "outputs": [],
   "source": []
  },
  {
   "cell_type": "markdown",
   "metadata": {},
   "source": [
    "#### EJEMPLO - comentar para evitar ejecución de código"
   ]
  },
  {
   "cell_type": "code",
   "execution_count": null,
   "metadata": {},
   "outputs": [],
   "source": []
  },
  {
   "cell_type": "code",
   "execution_count": null,
   "metadata": {},
   "outputs": [],
   "source": []
  },
  {
   "cell_type": "code",
   "execution_count": null,
   "metadata": {},
   "outputs": [],
   "source": []
  },
  {
   "cell_type": "markdown",
   "metadata": {},
   "source": [
    "#### Si queremos comentar varias líneas también se puede esto:"
   ]
  },
  {
   "cell_type": "code",
   "execution_count": 9,
   "metadata": {},
   "outputs": [
    {
     "data": {
      "text/plain": [
       "\"\\nprint('hola')\\nprint('hola')\\nprint('hola')\\n\""
      ]
     },
     "execution_count": 9,
     "metadata": {},
     "output_type": "execute_result"
    }
   ],
   "source": [
    "\"\"\"\n",
    "print('hola')\n",
    "print('hola')\n",
    "print('hola')\n",
    "\"\"\""
   ]
  },
  {
   "cell_type": "code",
   "execution_count": null,
   "metadata": {},
   "outputs": [],
   "source": []
  },
  {
   "cell_type": "code",
   "execution_count": null,
   "metadata": {},
   "outputs": [],
   "source": []
  },
  {
   "cell_type": "code",
   "execution_count": null,
   "metadata": {},
   "outputs": [],
   "source": []
  },
  {
   "cell_type": "markdown",
   "metadata": {},
   "source": [
    "## Variables en Python\n",
    "\n",
    "### Creación de variables\n",
    "\n",
    "Siguiendo con la analogía de Python como un idioma más, las variables en un lenguaje de programación serían las palabras en el castellano. \n",
    "\n",
    "palabra en CASTELLANO contiene SIGNIFICADO\n",
    "\n",
    "variable en PYTHON contiene VALOR\n",
    "\n",
    "**Importante!**\n",
    "En la definición del nombre de una variables sea **corto** y **conciso** para poder manipular la variable de forma cómoda dentro del código, y que tenga cierto **significado** o **sentido** con el tipo de información que almacena!\n",
    "\n",
    "Es decir, **las variables son contenedores para almacenar valores**; que pueden ser:\n",
    "- valor numérico\n",
    "- valor textual"
   ]
  },
  {
   "cell_type": "code",
   "execution_count": 10,
   "metadata": {
    "ExecuteTime": {
     "end_time": "2020-02-01T19:58:21.882246Z",
     "start_time": "2020-02-01T19:58:21.877014Z"
    }
   },
   "outputs": [],
   "source": [
    "var = 4"
   ]
  },
  {
   "cell_type": "code",
   "execution_count": 11,
   "metadata": {
    "ExecuteTime": {
     "end_time": "2020-02-01T19:58:25.547532Z",
     "start_time": "2020-02-01T19:58:25.539243Z"
    }
   },
   "outputs": [
    {
     "data": {
      "text/plain": [
       "4"
      ]
     },
     "execution_count": 11,
     "metadata": {},
     "output_type": "execute_result"
    }
   ],
   "source": [
    "var"
   ]
  },
  {
   "cell_type": "code",
   "execution_count": 13,
   "metadata": {
    "ExecuteTime": {
     "end_time": "2020-02-01T19:58:36.768558Z",
     "start_time": "2020-02-01T19:58:36.764554Z"
    }
   },
   "outputs": [],
   "source": [
    "var_2 = 'hola'"
   ]
  },
  {
   "cell_type": "code",
   "execution_count": 14,
   "metadata": {
    "ExecuteTime": {
     "end_time": "2020-02-01T19:58:42.802071Z",
     "start_time": "2020-02-01T19:58:42.796015Z"
    }
   },
   "outputs": [
    {
     "data": {
      "text/plain": [
       "'hola'"
      ]
     },
     "execution_count": 14,
     "metadata": {},
     "output_type": "execute_result"
    }
   ],
   "source": [
    "var_2"
   ]
  },
  {
   "cell_type": "code",
   "execution_count": 15,
   "metadata": {},
   "outputs": [],
   "source": [
    "var_2 = 4"
   ]
  },
  {
   "cell_type": "code",
   "execution_count": 16,
   "metadata": {},
   "outputs": [
    {
     "data": {
      "text/plain": [
       "4"
      ]
     },
     "execution_count": 16,
     "metadata": {},
     "output_type": "execute_result"
    }
   ],
   "source": [
    "var_2"
   ]
  },
  {
   "cell_type": "markdown",
   "metadata": {
    "ExecuteTime": {
     "end_time": "2020-02-01T19:48:18.244099Z",
     "start_time": "2020-02-01T19:48:18.233324Z"
    }
   },
   "source": [
    "Principales facilidades que ofrece Python en la definición de variables:\n",
    "\n",
    "1. **No se predefinen**\n",
    "\n",
    "En Python crear una variable no necesita ningun comando preevio, **una variable se crea en el momento que le asignamos valor**.  \n",
    "Es decir, no necesitamos crear el contenedor a rellenar y después asignarle el valor, sino que poniendo un nombre al valor es como generamos la variable con el nombre asignado.\n",
    "\n",
    "2. **Son reciclables**\n",
    "\n",
    "Como las variables no se predefinen de ninguna forma, y se definen al asignarle valor; según el tipo de valor que le demos redefiniremos el tipo de la variable"
   ]
  },
  {
   "cell_type": "code",
   "execution_count": 17,
   "metadata": {
    "ExecuteTime": {
     "end_time": "2020-02-01T20:00:13.280048Z",
     "start_time": "2020-02-01T20:00:13.275719Z"
    }
   },
   "outputs": [],
   "source": []
  },
  {
   "cell_type": "code",
   "execution_count": 18,
   "metadata": {
    "ExecuteTime": {
     "end_time": "2020-02-01T20:00:13.655394Z",
     "start_time": "2020-02-01T20:00:13.646980Z"
    }
   },
   "outputs": [],
   "source": []
  },
  {
   "cell_type": "code",
   "execution_count": null,
   "metadata": {
    "ExecuteTime": {
     "end_time": "2021-01-26T21:16:18.189706Z",
     "start_time": "2021-01-26T21:16:18.180146Z"
    }
   },
   "outputs": [],
   "source": []
  },
  {
   "cell_type": "markdown",
   "metadata": {},
   "source": [
    "La variable x es numérica porque contiene un número"
   ]
  },
  {
   "cell_type": "code",
   "execution_count": null,
   "metadata": {
    "ExecuteTime": {
     "end_time": "2020-02-01T20:00:22.544965Z",
     "start_time": "2020-02-01T20:00:22.541161Z"
    }
   },
   "outputs": [],
   "source": []
  },
  {
   "cell_type": "code",
   "execution_count": null,
   "metadata": {
    "ExecuteTime": {
     "end_time": "2020-02-01T20:00:22.783591Z",
     "start_time": "2020-02-01T20:00:22.772550Z"
    }
   },
   "outputs": [],
   "source": []
  },
  {
   "cell_type": "code",
   "execution_count": null,
   "metadata": {},
   "outputs": [],
   "source": []
  },
  {
   "cell_type": "code",
   "execution_count": null,
   "metadata": {},
   "outputs": [],
   "source": []
  },
  {
   "cell_type": "markdown",
   "metadata": {},
   "source": [
    "Al asignarle otro valor, borro el anterior contenido de la variable x, y al ser ahora un valor textual; la variable x pasa de ser una variable numérica a una variable textual\n",
    "\n",
    "Asigno texto a una variable usando doble comilla o comilla\n",
    "\n",
    "#### EJEMPLO - Variable numérica\n",
    "\n",
    "Quiero guardar el número 1 como un valor numérico, para usar más adelante. Así, le asigno un nombre simple y conciso y que tenga sentido y me guardo el número 1 como variable que tiene el nombre asignado:"
   ]
  },
  {
   "cell_type": "code",
   "execution_count": null,
   "metadata": {
    "ExecuteTime": {
     "end_time": "2020-02-01T19:24:37.448945Z",
     "start_time": "2020-02-01T19:24:37.444891Z"
    }
   },
   "outputs": [],
   "source": [
    "valor_uno = 1"
   ]
  },
  {
   "cell_type": "markdown",
   "metadata": {},
   "source": [
    "Ahora tengo guardado el número 1 como variable que puedo, invocar, imprimir en pantalla o operar con ella.\n",
    "Veámoslo:"
   ]
  },
  {
   "cell_type": "code",
   "execution_count": null,
   "metadata": {
    "ExecuteTime": {
     "end_time": "2020-02-01T19:24:38.408392Z",
     "start_time": "2020-02-01T19:24:38.402901Z"
    }
   },
   "outputs": [],
   "source": [
    "print(valor_uno)"
   ]
  },
  {
   "cell_type": "markdown",
   "metadata": {},
   "source": [
    "O lo que es lo mismo"
   ]
  },
  {
   "cell_type": "code",
   "execution_count": null,
   "metadata": {
    "ExecuteTime": {
     "end_time": "2020-02-01T19:28:06.832791Z",
     "start_time": "2020-02-01T19:28:06.824106Z"
    }
   },
   "outputs": [],
   "source": [
    "valor_uno"
   ]
  },
  {
   "cell_type": "markdown",
   "metadata": {},
   "source": [
    "De hecho, si ahora miro en mi inspector de variables, veré que tengo la variable guardada asignada con el valor que le he dado!\n",
    "\n",
    "Además, como en esta variable he guardado un número, puedo aplicarle operaciones básicas a la variable!"
   ]
  },
  {
   "cell_type": "code",
   "execution_count": null,
   "metadata": {
    "ExecuteTime": {
     "end_time": "2020-02-01T19:27:02.573646Z",
     "start_time": "2020-02-01T19:27:02.563624Z"
    }
   },
   "outputs": [],
   "source": [
    "valor_uno + 1 "
   ]
  },
  {
   "cell_type": "code",
   "execution_count": 17,
   "metadata": {},
   "outputs": [],
   "source": [
    "var = 4"
   ]
  },
  {
   "cell_type": "code",
   "execution_count": 18,
   "metadata": {},
   "outputs": [
    {
     "data": {
      "text/plain": [
       "8"
      ]
     },
     "execution_count": 18,
     "metadata": {},
     "output_type": "execute_result"
    }
   ],
   "source": [
    "var + 4"
   ]
  },
  {
   "cell_type": "code",
   "execution_count": null,
   "metadata": {},
   "outputs": [],
   "source": []
  },
  {
   "cell_type": "code",
   "execution_count": null,
   "metadata": {},
   "outputs": [],
   "source": []
  },
  {
   "cell_type": "markdown",
   "metadata": {},
   "source": [
    "Y si quiero, puedo guardarme el resultado de esta operación como una nueva variable"
   ]
  },
  {
   "cell_type": "code",
   "execution_count": null,
   "metadata": {
    "ExecuteTime": {
     "end_time": "2020-02-01T19:27:14.436934Z",
     "start_time": "2020-02-01T19:27:14.432399Z"
    }
   },
   "outputs": [],
   "source": [
    "valor_nuevo = valor_uno +1 "
   ]
  },
  {
   "cell_type": "markdown",
   "metadata": {},
   "source": [
    "Veamos que valor he obtenido!"
   ]
  },
  {
   "cell_type": "code",
   "execution_count": null,
   "metadata": {
    "ExecuteTime": {
     "end_time": "2020-02-01T19:27:44.107664Z",
     "start_time": "2020-02-01T19:27:44.100994Z"
    }
   },
   "outputs": [],
   "source": [
    "valor_nuevo"
   ]
  },
  {
   "cell_type": "markdown",
   "metadata": {},
   "source": [
    "**Importante!** Cuando asigno un valor a una variable no se imprime por pantalla! Tendré que invocar el nuevo nombre de la variable para que imprima su valor!\n",
    "\n",
    "#### EJEMPLO - Variable textual\n",
    "\n",
    "Como hemos comentado, puedo estar interesado en almacenar números pero también texto! Es decir, puedo asignar un nombre a un texto para poder invocarlo en el futuro llamando al nombre de la variable."
   ]
  },
  {
   "cell_type": "code",
   "execution_count": null,
   "metadata": {
    "ExecuteTime": {
     "end_time": "2020-02-01T19:29:45.980021Z",
     "start_time": "2020-02-01T19:29:45.975948Z"
    }
   },
   "outputs": [],
   "source": [
    "mi_texto = \"Hola sol!\""
   ]
  },
  {
   "cell_type": "markdown",
   "metadata": {},
   "source": [
    "Y ahora lo invoco... por su nombre!"
   ]
  },
  {
   "cell_type": "code",
   "execution_count": null,
   "metadata": {
    "ExecuteTime": {
     "end_time": "2020-02-01T19:30:02.118340Z",
     "start_time": "2020-02-01T19:30:02.111387Z"
    }
   },
   "outputs": [],
   "source": [
    "mi_texto"
   ]
  },
  {
   "cell_type": "code",
   "execution_count": null,
   "metadata": {
    "ExecuteTime": {
     "end_time": "2020-02-01T19:30:12.793173Z",
     "start_time": "2020-02-01T19:30:12.786200Z"
    },
    "scrolled": true
   },
   "outputs": [],
   "source": [
    "print(mi_texto)"
   ]
  },
  {
   "cell_type": "markdown",
   "metadata": {
    "heading_collapsed": true
   },
   "source": [
    "### Reglas de nombres de variables\n",
    "\n",
    "Para asegurar una correcta sintaxis, hay que respetar reglas en la asignación de nombre de variables; que pueden ser nombres cortos (como x o y) o nombres más descriptivos (como mi_texto, o volumen, etc.). \n",
    "\n",
    "Reglas para definir variables en Python:\n",
    "- el nombre de una variable debe **empezar por una letra o el símbolo _**\n",
    "- el nombre de una variable **NO puede empezar por un número**\n",
    "- el nombre de una variable **sólo puede contener carácteres alfanuméricos y guiones bajos(A-z, 0-9, and _ )**\n",
    "- el nombre de una varible es **sensible a las mayúsculas**! (las variables edad, Edad y EDAD son 3 variables diferentes)\n",
    "\n",
    "\n",
    "Además, existen **nombres reservados que no se pueden utilizar para nombrar variables**, ya que tienen una función própia en Python. "
   ]
  },
  {
   "cell_type": "markdown",
   "metadata": {
    "hidden": true
   },
   "source": [
    "![title](data:image/png;base64,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)"
   ]
  },
  {
   "cell_type": "markdown",
   "metadata": {
    "hidden": true
   },
   "source": [
    "##### EJEMPLOS de nombres Legales"
   ]
  },
  {
   "cell_type": "code",
   "execution_count": null,
   "metadata": {
    "ExecuteTime": {
     "end_time": "2020-02-01T20:23:55.325868Z",
     "start_time": "2020-02-01T20:23:55.317202Z"
    },
    "hidden": true
   },
   "outputs": [],
   "source": [
    "myvar = \"John\"\n",
    "my_var = \"John\"\n",
    "_my_var = \"John\"\n",
    "myVar = \"John\"\n",
    "MYVAR = \"John\"\n",
    "myvar2 = \"John\""
   ]
  },
  {
   "cell_type": "markdown",
   "metadata": {
    "hidden": true
   },
   "source": [
    "##### EJEMPLOS de nombres Ilegales"
   ]
  },
  {
   "cell_type": "code",
   "execution_count": null,
   "metadata": {
    "ExecuteTime": {
     "end_time": "2020-02-01T20:24:14.222274Z",
     "start_time": "2020-02-01T20:24:14.215204Z"
    },
    "hidden": true
   },
   "outputs": [],
   "source": [
    "#Illegal variable names:\n",
    "2myvar = \"John\"\n",
    "my-var = \"John\"\n",
    "my var = \"John\""
   ]
  },
  {
   "cell_type": "code",
   "execution_count": null,
   "metadata": {
    "ExecuteTime": {
     "end_time": "2020-02-02T09:40:06.469606Z",
     "start_time": "2020-02-02T09:40:06.463248Z"
    },
    "hidden": true
   },
   "outputs": [],
   "source": [
    "and = \"y\""
   ]
  },
  {
   "cell_type": "markdown",
   "metadata": {},
   "source": [
    "### Asignación de valores a múltiples variables"
   ]
  },
  {
   "cell_type": "markdown",
   "metadata": {},
   "source": [
    "Python te permite asignar valores a múltiples variables a la vez"
   ]
  },
  {
   "cell_type": "code",
   "execution_count": 19,
   "metadata": {
    "ExecuteTime": {
     "end_time": "2020-02-01T20:44:50.538492Z",
     "start_time": "2020-02-01T20:44:50.531115Z"
    }
   },
   "outputs": [],
   "source": [
    "x, y, z = 'manzana', 'plátano', 'piña'"
   ]
  },
  {
   "cell_type": "code",
   "execution_count": 20,
   "metadata": {},
   "outputs": [
    {
     "name": "stdout",
     "output_type": "stream",
     "text": [
      "manzana plátano piña\n"
     ]
    }
   ],
   "source": [
    "print(x, y, z)"
   ]
  },
  {
   "cell_type": "code",
   "execution_count": null,
   "metadata": {},
   "outputs": [],
   "source": []
  },
  {
   "cell_type": "markdown",
   "metadata": {},
   "source": [
    "Así como asignar el mismo valor a varias variables en una línea"
   ]
  },
  {
   "cell_type": "code",
   "execution_count": 22,
   "metadata": {
    "ExecuteTime": {
     "end_time": "2020-02-01T20:45:44.909372Z",
     "start_time": "2020-02-01T20:45:44.903001Z"
    }
   },
   "outputs": [],
   "source": [
    "x = y = z = 'manzana'"
   ]
  },
  {
   "cell_type": "code",
   "execution_count": 23,
   "metadata": {},
   "outputs": [
    {
     "name": "stdout",
     "output_type": "stream",
     "text": [
      "manzana manzana manzana\n"
     ]
    }
   ],
   "source": [
    "print(x, y, z)"
   ]
  },
  {
   "cell_type": "code",
   "execution_count": null,
   "metadata": {},
   "outputs": [],
   "source": []
  },
  {
   "cell_type": "code",
   "execution_count": null,
   "metadata": {},
   "outputs": [],
   "source": []
  },
  {
   "cell_type": "markdown",
   "metadata": {},
   "source": [
    "### Output de variables\n",
    "\n",
    "Aunque ya hemos introducido de forma orgánica el concepto de output o imprimir (print) el valor que contiene una variable, vamos a refrescarlo!\n",
    "\n",
    "**La opción print nos permite combinar textos para imprimir un mensaje entero**, combinando variables textuales o variable textual con texto; **mediante el operador +**, que actúa como agregador de los diferentes inputs de texto para entregar un solo output de mensaje.\n",
    "\n",
    "#### EJEMPLOS de Print"
   ]
  },
  {
   "cell_type": "code",
   "execution_count": 24,
   "metadata": {},
   "outputs": [],
   "source": [
    "x = 5"
   ]
  },
  {
   "cell_type": "code",
   "execution_count": 25,
   "metadata": {},
   "outputs": [
    {
     "data": {
      "text/plain": [
       "5"
      ]
     },
     "execution_count": 25,
     "metadata": {},
     "output_type": "execute_result"
    }
   ],
   "source": [
    "x"
   ]
  },
  {
   "cell_type": "code",
   "execution_count": null,
   "metadata": {},
   "outputs": [],
   "source": []
  },
  {
   "cell_type": "code",
   "execution_count": null,
   "metadata": {},
   "outputs": [],
   "source": []
  },
  {
   "cell_type": "markdown",
   "metadata": {},
   "source": [
    "Sin embargo el operador + sólo puede agregar variables o inputs del mismo tipo: texto y texto o numérico y numérico. "
   ]
  },
  {
   "cell_type": "code",
   "execution_count": 26,
   "metadata": {},
   "outputs": [
    {
     "name": "stdout",
     "output_type": "stream",
     "text": [
      "5 hola\n"
     ]
    }
   ],
   "source": [
    "print(x, 'hola')"
   ]
  },
  {
   "cell_type": "code",
   "execution_count": 28,
   "metadata": {},
   "outputs": [
    {
     "name": "stdout",
     "output_type": "stream",
     "text": [
      "Python me encanta\n"
     ]
    }
   ],
   "source": [
    "x = 'Python me '\n",
    "y = 'encanta'\n",
    "z = x + y\n",
    "print(z)"
   ]
  },
  {
   "cell_type": "code",
   "execution_count": null,
   "metadata": {},
   "outputs": [],
   "source": []
  },
  {
   "cell_type": "code",
   "execution_count": null,
   "metadata": {},
   "outputs": [],
   "source": []
  },
  {
   "cell_type": "markdown",
   "metadata": {},
   "source": [
    "### Ejercicios\n",
    "\n",
    "#### Asigna un nombre de coche a una variable\n",
    "#### Asigna 3 modelos de coches a múltiples variables\n",
    "#### Asigna una antigüedad a los 3 coches anteriores en nuevas variables e imprime un mensaje mediante el uso de las variables definidas indincando la suma de antigüedad de cada uno de los modelos"
   ]
  },
  {
   "cell_type": "code",
   "execution_count": null,
   "metadata": {},
   "outputs": [],
   "source": []
  },
  {
   "cell_type": "code",
   "execution_count": null,
   "metadata": {},
   "outputs": [],
   "source": []
  },
  {
   "cell_type": "code",
   "execution_count": null,
   "metadata": {},
   "outputs": [],
   "source": []
  },
  {
   "cell_type": "code",
   "execution_count": null,
   "metadata": {},
   "outputs": [],
   "source": []
  },
  {
   "cell_type": "code",
   "execution_count": null,
   "metadata": {},
   "outputs": [],
   "source": []
  },
  {
   "cell_type": "code",
   "execution_count": null,
   "metadata": {},
   "outputs": [],
   "source": []
  },
  {
   "cell_type": "code",
   "execution_count": null,
   "metadata": {},
   "outputs": [],
   "source": []
  },
  {
   "cell_type": "markdown",
   "metadata": {},
   "source": [
    "## Tipos de datos y variables en Python\n",
    "\n",
    "### Introducción a tipos de datos\n",
    "\n",
    "Al programar es importante entender el tipo de datos con el que tratamos. \n",
    "\n",
    "Como ya hemos comentado las variables pueden contener distintos tipos de datos, y los diferentes tipos de datos pueden realizar diferentes tipos de cosas.\n",
    "\n",
    "Los tipos de datos nativos de Python son:\n",
    "- números: enteros (integers), decimales (floats) y números complejos ( complex numbers)\n",
    "- texto: (strings)\n",
    "- listas (lists)\n",
    "- tuples\n",
    "- diccionarios\n",
    "\n",
    "Cada tipo de datos se manipula usando:\n",
    "- operadores\n",
    "- funciones\n",
    "- métodos de data-type\n",
    "\n",
    "#### Determinar el tipo de datos de la variable\n",
    "\n",
    "Mediante la función:\n",
    "\n",
    "type()\n",
    "\n",
    "aplicada a una variable, obtenemos el tipo de datos que almacena la variable!\n",
    "\n",
    "#### EJEMPLOS\n",
    "\n",
    "Obtenemos que los datos de la variable x son números integers (int)"
   ]
  },
  {
   "cell_type": "code",
   "execution_count": 45,
   "metadata": {
    "ExecuteTime": {
     "end_time": "2020-02-01T21:46:23.719868Z",
     "start_time": "2020-02-01T21:46:23.715211Z"
    }
   },
   "outputs": [
    {
     "name": "stdout",
     "output_type": "stream",
     "text": [
      "<class 'str'>\n"
     ]
    }
   ],
   "source": [
    "x = '56'\n",
    "print(type(x))"
   ]
  },
  {
   "cell_type": "markdown",
   "metadata": {},
   "source": [
    "Es decir que la variable x es de clase integer\n",
    "\n",
    "#### Casting: Fijar el tipo de datos de una variable\n",
    "\n",
    "Aunque en Python no es necesario definir explícitamente el tipo de datos de una variable, ya que la variable hereda el formato del valor que almacena; habrá veces en que queramos especificar el tipo de la variable. \n",
    "\n",
    "\n",
    "Esto se puede realizar mediante lo que llamamos casting. \n",
    "\n",
    "Dado que Python es un lenguaje orientado a objetos, para definir los tipos de datos se usa clases mediante funciones constructoras:\n",
    "- int() - construye un número entero a partir de un número entero, un decimal (redondeando) o un número textual \n",
    "\n",
    "- float() - construye un número decimal a partir de un número entero, un número decimal, o un número textual \n",
    "\n",
    "- str() - construye una cadena de texto a partir de cadenas de texto o números\n",
    "\n",
    "#### EJEMPLO: int()"
   ]
  },
  {
   "cell_type": "code",
   "execution_count": null,
   "metadata": {},
   "outputs": [],
   "source": []
  },
  {
   "cell_type": "code",
   "execution_count": null,
   "metadata": {},
   "outputs": [],
   "source": []
  },
  {
   "cell_type": "code",
   "execution_count": null,
   "metadata": {},
   "outputs": [],
   "source": []
  },
  {
   "cell_type": "code",
   "execution_count": null,
   "metadata": {},
   "outputs": [],
   "source": []
  },
  {
   "cell_type": "code",
   "execution_count": null,
   "metadata": {},
   "outputs": [],
   "source": []
  },
  {
   "cell_type": "markdown",
   "metadata": {},
   "source": [
    "#### EJEMPLO: float()"
   ]
  },
  {
   "cell_type": "code",
   "execution_count": null,
   "metadata": {},
   "outputs": [],
   "source": []
  },
  {
   "cell_type": "code",
   "execution_count": null,
   "metadata": {},
   "outputs": [],
   "source": []
  },
  {
   "cell_type": "code",
   "execution_count": null,
   "metadata": {},
   "outputs": [],
   "source": []
  },
  {
   "cell_type": "code",
   "execution_count": null,
   "metadata": {},
   "outputs": [],
   "source": []
  },
  {
   "cell_type": "code",
   "execution_count": null,
   "metadata": {},
   "outputs": [],
   "source": []
  },
  {
   "cell_type": "markdown",
   "metadata": {},
   "source": [
    "#### EJEMPLO: str()"
   ]
  },
  {
   "cell_type": "code",
   "execution_count": null,
   "metadata": {},
   "outputs": [],
   "source": []
  },
  {
   "cell_type": "code",
   "execution_count": null,
   "metadata": {},
   "outputs": [],
   "source": []
  },
  {
   "cell_type": "code",
   "execution_count": null,
   "metadata": {},
   "outputs": [],
   "source": []
  },
  {
   "cell_type": "code",
   "execution_count": null,
   "metadata": {},
   "outputs": [],
   "source": []
  },
  {
   "cell_type": "code",
   "execution_count": null,
   "metadata": {},
   "outputs": [],
   "source": []
  },
  {
   "cell_type": "markdown",
   "metadata": {},
   "source": [
    "### Variables Numéricas\n",
    "\n",
    "#### Tipo de datos numéricos\n",
    "\n",
    "Existen 3 tipos de tipos de datos numéricos en Python:\n",
    "- enteros (int): son números enteros, positivos o negativos, sin decimilas y sin longitud fijada\n",
    "- decimales (float): número positivo o negativo que contiene decimales\n",
    "- complejos (complex): número complejo, que se escriben con \"j\" como la parte imaginaria\n",
    "\n",
    "Generamos una variable numérica cuando le asignamos un número"
   ]
  },
  {
   "cell_type": "code",
   "execution_count": 55,
   "metadata": {
    "ExecuteTime": {
     "end_time": "2020-02-02T09:14:51.319487Z",
     "start_time": "2020-02-02T09:14:51.311600Z"
    }
   },
   "outputs": [],
   "source": [
    "x = 1    \n",
    "y = 2.8   \n",
    "z = 1j   "
   ]
  },
  {
   "cell_type": "markdown",
   "metadata": {
    "solution2": "hidden",
    "solution2_first": true
   },
   "source": [
    "#### Verifica tipo de las variables numericas generadas"
   ]
  },
  {
   "cell_type": "code",
   "execution_count": null,
   "metadata": {},
   "outputs": [],
   "source": []
  },
  {
   "cell_type": "code",
   "execution_count": null,
   "metadata": {},
   "outputs": [],
   "source": []
  },
  {
   "cell_type": "code",
   "execution_count": null,
   "metadata": {},
   "outputs": [],
   "source": []
  },
  {
   "cell_type": "markdown",
   "metadata": {},
   "source": [
    "#### Conversión entre datos numéricos\n",
    "\n",
    "Podemos transformar una variable numérica entre los 3 tipos de datos mediante los métodos int(), float() o complex().\n",
    "\n",
    "- el método int() convierte una variable float a int\n",
    "- el método float() convierte una variable int a float\n",
    "- el métdodo complex() convierte una variable int o float a complex\n",
    "\n",
    "**Excepción!** Una variable complex no se puede convertir a int ni float.\n",
    "\n",
    "#### Ejercicio: Convierte las siguientes variables a todos los tipos numéricas que puedas: x = 1 ;  y = 2.8; z = 1j "
   ]
  },
  {
   "cell_type": "code",
   "execution_count": null,
   "metadata": {},
   "outputs": [],
   "source": []
  },
  {
   "cell_type": "code",
   "execution_count": null,
   "metadata": {},
   "outputs": [],
   "source": []
  },
  {
   "cell_type": "code",
   "execution_count": null,
   "metadata": {},
   "outputs": [],
   "source": []
  },
  {
   "cell_type": "code",
   "execution_count": null,
   "metadata": {},
   "outputs": [],
   "source": []
  },
  {
   "cell_type": "code",
   "execution_count": null,
   "metadata": {},
   "outputs": [],
   "source": []
  },
  {
   "cell_type": "markdown",
   "metadata": {},
   "source": [
    "#### Operadores aritméticos\n",
    "\n",
    "Así como realizamos operaciones aritméticas con los números, podemos hacer lo mismo con variables numéricas (que almacenan números)\n",
    "\n",
    "Operadores de variables numéricas:"
   ]
  },
  {
   "cell_type": "markdown",
   "metadata": {},
   "source": [
    "![title](data:image/jpeg;base64,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)"
   ]
  },
  {
   "cell_type": "code",
   "execution_count": null,
   "metadata": {},
   "outputs": [],
   "source": []
  },
  {
   "cell_type": "markdown",
   "metadata": {
    "solution2": "hidden",
    "solution2_first": true
   },
   "source": [
    "#### Ejercicio: Calcula mediante el uso de variables numéricas y operadores aritméticos el área de un triángulo si sabemos que la base mide 3,5cm y su altura es de 4cm"
   ]
  },
  {
   "cell_type": "code",
   "execution_count": null,
   "metadata": {},
   "outputs": [],
   "source": []
  },
  {
   "cell_type": "code",
   "execution_count": null,
   "metadata": {},
   "outputs": [],
   "source": []
  },
  {
   "cell_type": "code",
   "execution_count": null,
   "metadata": {},
   "outputs": [],
   "source": []
  },
  {
   "cell_type": "code",
   "execution_count": null,
   "metadata": {},
   "outputs": [],
   "source": []
  },
  {
   "cell_type": "markdown",
   "metadata": {
    "ExecuteTime": {
     "end_time": "2021-01-06T18:17:42.201169Z",
     "start_time": "2021-01-06T18:17:42.191174Z"
    }
   },
   "source": [
    "#### Ejercicio: Calcula mediante el uso de variables numéricas y operadores aritméticos el volumen de un cubo si cada lado mide 6cm"
   ]
  },
  {
   "cell_type": "code",
   "execution_count": null,
   "metadata": {},
   "outputs": [],
   "source": []
  },
  {
   "cell_type": "code",
   "execution_count": null,
   "metadata": {},
   "outputs": [],
   "source": []
  },
  {
   "cell_type": "code",
   "execution_count": null,
   "metadata": {},
   "outputs": [],
   "source": []
  },
  {
   "cell_type": "code",
   "execution_count": null,
   "metadata": {},
   "outputs": [],
   "source": []
  },
  {
   "cell_type": "code",
   "execution_count": null,
   "metadata": {},
   "outputs": [],
   "source": []
  },
  {
   "cell_type": "markdown",
   "metadata": {},
   "source": [
    "#### Operadores booleanos\n",
    "\n",
    "Los operadores booleanos nos permiten testear condiciones del tipo TRUE o FALSE"
   ]
  },
  {
   "cell_type": "markdown",
   "metadata": {},
   "source": [
    "![title](data:image/png;base64,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)"
   ]
  },
  {
   "cell_type": "markdown",
   "metadata": {},
   "source": [
    "#### EJEMPLO:"
   ]
  },
  {
   "cell_type": "code",
   "execution_count": 68,
   "metadata": {
    "ExecuteTime": {
     "end_time": "2020-02-02T10:11:16.819440Z",
     "start_time": "2020-02-02T10:11:16.812823Z"
    }
   },
   "outputs": [
    {
     "data": {
      "text/plain": [
       "True"
      ]
     },
     "execution_count": 68,
     "metadata": {},
     "output_type": "execute_result"
    }
   ],
   "source": [
    "2 == 2"
   ]
  },
  {
   "cell_type": "markdown",
   "metadata": {},
   "source": [
    "**Importante!** No confundir el operador de asignación (**=**) con el operadores de igualdad (**==**)!!"
   ]
  },
  {
   "cell_type": "code",
   "execution_count": null,
   "metadata": {},
   "outputs": [],
   "source": []
  },
  {
   "cell_type": "code",
   "execution_count": null,
   "metadata": {},
   "outputs": [],
   "source": []
  },
  {
   "cell_type": "code",
   "execution_count": null,
   "metadata": {},
   "outputs": [],
   "source": []
  },
  {
   "cell_type": "code",
   "execution_count": null,
   "metadata": {},
   "outputs": [],
   "source": []
  },
  {
   "cell_type": "markdown",
   "metadata": {},
   "source": [
    "#### Ejercicio: Comprobar que área es mayor, si la de un círculo de radio=2 o la de un cuadrado de lado=4, usando asginación de variables y utilizando al menos 3 operadores de comparación."
   ]
  },
  {
   "cell_type": "code",
   "execution_count": null,
   "metadata": {},
   "outputs": [],
   "source": []
  },
  {
   "cell_type": "code",
   "execution_count": null,
   "metadata": {},
   "outputs": [],
   "source": []
  },
  {
   "cell_type": "code",
   "execution_count": null,
   "metadata": {},
   "outputs": [],
   "source": []
  },
  {
   "cell_type": "code",
   "execution_count": null,
   "metadata": {},
   "outputs": [],
   "source": []
  },
  {
   "cell_type": "code",
   "execution_count": null,
   "metadata": {},
   "outputs": [],
   "source": []
  },
  {
   "cell_type": "markdown",
   "metadata": {},
   "source": [
    "### Variables String\n",
    "\n",
    "#### Datos String\n",
    "\n",
    "Los strings son líneas de textos que se declaran mediante comillas simples o comillas dobles. \n",
    "\n",
    "Para definir una variable string simplemente tendremos que poner el nombre de la variable seguido por un símbolo = y el texto deseado.\n",
    "\n",
    "Para obtener el texto deseado en pantalla usaremos la funcion print()\n",
    "\n",
    "#### EJEMPLO: Imprimir texto"
   ]
  },
  {
   "cell_type": "code",
   "execution_count": null,
   "metadata": {
    "ExecuteTime": {
     "end_time": "2020-02-02T09:35:25.897903Z",
     "start_time": "2020-02-02T09:35:25.893155Z"
    }
   },
   "outputs": [],
   "source": [
    "print(\"Hola\")\n",
    "print('Hola')"
   ]
  },
  {
   "cell_type": "markdown",
   "metadata": {},
   "source": [
    "#### EJEMPLO: Asignar variable string"
   ]
  },
  {
   "cell_type": "code",
   "execution_count": null,
   "metadata": {
    "ExecuteTime": {
     "end_time": "2020-02-02T09:38:09.041986Z",
     "start_time": "2020-02-02T09:38:09.037820Z"
    }
   },
   "outputs": [],
   "source": [
    "a = \"Hola\"\n",
    "print(a)"
   ]
  },
  {
   "cell_type": "markdown",
   "metadata": {},
   "source": [
    "#### Escape Carácter\n",
    "\n",
    "Para insertar en una variable string un carácter illegal (\") usaremos delante de la doble comilla el carácter de escape (\\) o comillas simples y dobles."
   ]
  },
  {
   "cell_type": "code",
   "execution_count": 83,
   "metadata": {},
   "outputs": [],
   "source": [
    "a = 'hola como estas \"pablo\"'"
   ]
  },
  {
   "cell_type": "code",
   "execution_count": 84,
   "metadata": {},
   "outputs": [
    {
     "data": {
      "text/plain": [
       "'hola como estas \"pablo\"'"
      ]
     },
     "execution_count": 84,
     "metadata": {},
     "output_type": "execute_result"
    }
   ],
   "source": [
    "a"
   ]
  },
  {
   "cell_type": "code",
   "execution_count": 85,
   "metadata": {},
   "outputs": [],
   "source": [
    "a = 'hola como estas \\'pablo\\''"
   ]
  },
  {
   "cell_type": "code",
   "execution_count": 86,
   "metadata": {},
   "outputs": [
    {
     "data": {
      "text/plain": [
       "\"hola como estas 'pablo'\""
      ]
     },
     "execution_count": 86,
     "metadata": {},
     "output_type": "execute_result"
    }
   ],
   "source": [
    "a"
   ]
  },
  {
   "cell_type": "code",
   "execution_count": null,
   "metadata": {},
   "outputs": [],
   "source": []
  },
  {
   "cell_type": "code",
   "execution_count": null,
   "metadata": {},
   "outputs": [],
   "source": []
  },
  {
   "cell_type": "code",
   "execution_count": null,
   "metadata": {},
   "outputs": [],
   "source": []
  },
  {
   "cell_type": "markdown",
   "metadata": {},
   "source": [
    "#### Textos multilínea\n",
    "\n",
    "Si quisiéramos asignar un párrafo de texto, lo podemos hacer mediante 3 dobles comillas o mediante 3 comillas simples\n",
    "\n",
    "#### EJEMPLO"
   ]
  },
  {
   "cell_type": "code",
   "execution_count": null,
   "metadata": {
    "ExecuteTime": {
     "end_time": "2020-02-02T09:42:49.645761Z",
     "start_time": "2020-02-02T09:42:49.634615Z"
    }
   },
   "outputs": [],
   "source": [
    "a = \"\"\"Lorem ipsum dolor sit amet,\n",
    "consectetur adipiscing elit,\n",
    "sed do eiusmod tempor incididunt\n",
    "ut labore et dolore magna aliqua.\"\"\"\n",
    "print(a)"
   ]
  },
  {
   "cell_type": "code",
   "execution_count": null,
   "metadata": {
    "ExecuteTime": {
     "end_time": "2020-02-02T09:43:21.253008Z",
     "start_time": "2020-02-02T09:43:21.244129Z"
    }
   },
   "outputs": [],
   "source": [
    "b = '''Lorem ipsum dolor sit amet,\n",
    "consectetur adipiscing elit,\n",
    "sed do eiusmod tempor incididunt\n",
    "ut labore et dolore magna aliqua.'''\n",
    "print(b)"
   ]
  },
  {
   "cell_type": "markdown",
   "metadata": {},
   "source": [
    "####  Concatenación de strings\n",
    "\n",
    "Así como podemos operar con variables numéricas, podemos concatenar strings o texto mediante el operador de suma!"
   ]
  },
  {
   "cell_type": "code",
   "execution_count": 87,
   "metadata": {
    "ExecuteTime": {
     "end_time": "2021-01-06T18:23:12.902475Z",
     "start_time": "2021-01-06T18:23:12.884458Z"
    }
   },
   "outputs": [],
   "source": [
    "a = \"Me llamo\"\n",
    "b = \"Laura\""
   ]
  },
  {
   "cell_type": "code",
   "execution_count": 88,
   "metadata": {
    "ExecuteTime": {
     "end_time": "2021-01-06T18:23:13.450490Z",
     "start_time": "2021-01-06T18:23:13.445502Z"
    }
   },
   "outputs": [
    {
     "data": {
      "text/plain": [
       "'Me llamoLaura'"
      ]
     },
     "execution_count": 88,
     "metadata": {},
     "output_type": "execute_result"
    }
   ],
   "source": [
    "a + b"
   ]
  },
  {
   "cell_type": "code",
   "execution_count": 89,
   "metadata": {
    "ExecuteTime": {
     "end_time": "2021-01-06T18:23:15.402196Z",
     "start_time": "2021-01-06T18:23:15.389192Z"
    }
   },
   "outputs": [
    {
     "data": {
      "text/plain": [
       "'Me llamo Laura'"
      ]
     },
     "execution_count": 89,
     "metadata": {},
     "output_type": "execute_result"
    }
   ],
   "source": [
    "a + \" \" + b"
   ]
  },
  {
   "cell_type": "markdown",
   "metadata": {},
   "source": [
    "#### Imprimir strings\n",
    "\n",
    "#### Concatenar con espacios"
   ]
  },
  {
   "cell_type": "code",
   "execution_count": 90,
   "metadata": {},
   "outputs": [],
   "source": [
    "a = 'Hola'\n",
    "b = 'alumnos'"
   ]
  },
  {
   "cell_type": "code",
   "execution_count": 91,
   "metadata": {},
   "outputs": [
    {
     "name": "stdout",
     "output_type": "stream",
     "text": [
      "Hola alumnos\n"
     ]
    }
   ],
   "source": [
    "print(a,b)"
   ]
  },
  {
   "cell_type": "code",
   "execution_count": null,
   "metadata": {},
   "outputs": [],
   "source": []
  },
  {
   "cell_type": "code",
   "execution_count": null,
   "metadata": {},
   "outputs": [],
   "source": []
  },
  {
   "cell_type": "code",
   "execution_count": null,
   "metadata": {},
   "outputs": [],
   "source": []
  },
  {
   "cell_type": "markdown",
   "metadata": {},
   "source": [
    "#### Concantenar sin espacios"
   ]
  },
  {
   "cell_type": "code",
   "execution_count": 92,
   "metadata": {},
   "outputs": [
    {
     "name": "stdout",
     "output_type": "stream",
     "text": [
      "Holaalumnos\n"
     ]
    }
   ],
   "source": [
    "print(a+b)"
   ]
  },
  {
   "cell_type": "code",
   "execution_count": 94,
   "metadata": {},
   "outputs": [
    {
     "name": "stdout",
     "output_type": "stream",
     "text": [
      "HolaHolaHolaHolaHolaHolaHolaHolaHolaHola\n"
     ]
    }
   ],
   "source": [
    "print(a*10)"
   ]
  },
  {
   "cell_type": "code",
   "execution_count": null,
   "metadata": {},
   "outputs": [],
   "source": []
  },
  {
   "cell_type": "code",
   "execution_count": null,
   "metadata": {},
   "outputs": [],
   "source": []
  },
  {
   "cell_type": "code",
   "execution_count": null,
   "metadata": {},
   "outputs": [],
   "source": []
  },
  {
   "cell_type": "markdown",
   "metadata": {},
   "source": [
    "#### C-style para añadirle números"
   ]
  },
  {
   "cell_type": "code",
   "execution_count": 3,
   "metadata": {
    "ExecuteTime": {
     "end_time": "2021-01-06T18:24:50.435331Z",
     "start_time": "2021-01-06T18:24:50.417322Z"
    }
   },
   "outputs": [
    {
     "name": "stdout",
     "output_type": "stream",
     "text": [
      "Harina = 1.000000 gramos\n"
     ]
    }
   ],
   "source": [
    "print(\"Harina = %f gramos\" %100)"
   ]
  },
  {
   "cell_type": "markdown",
   "metadata": {},
   "source": [
    "#### C-style para añadirle números con formato"
   ]
  },
  {
   "cell_type": "code",
   "execution_count": null,
   "metadata": {
    "ExecuteTime": {
     "end_time": "2021-01-06T18:25:23.118790Z",
     "start_time": "2021-01-06T18:25:23.113783Z"
    }
   },
   "outputs": [],
   "source": [
    "print(\"Harina = %.1f gramos\" %100.00) #tipo float con 1 decimal"
   ]
  },
  {
   "cell_type": "code",
   "execution_count": null,
   "metadata": {
    "ExecuteTime": {
     "end_time": "2021-01-06T18:25:24.664991Z",
     "start_time": "2021-01-06T18:25:24.661976Z"
    }
   },
   "outputs": [],
   "source": [
    "print(\"Harina = %.2f gramos\" %100.00) #tipo float con 2 decimales"
   ]
  },
  {
   "cell_type": "code",
   "execution_count": 17,
   "metadata": {
    "ExecuteTime": {
     "end_time": "2021-01-26T22:39:37.863141Z",
     "start_time": "2021-01-26T22:39:37.851039Z"
    }
   },
   "outputs": [
    {
     "name": "stdout",
     "output_type": "stream",
     "text": [
      "Harina = 100 gramos\n"
     ]
    }
   ],
   "source": [
    "print(\"Harina = %i gramos\" %100.00) #tipo int "
   ]
  },
  {
   "cell_type": "code",
   "execution_count": 25,
   "metadata": {
    "ExecuteTime": {
     "end_time": "2021-01-26T22:42:10.536668Z",
     "start_time": "2021-01-26T22:42:10.520147Z"
    }
   },
   "outputs": [
    {
     "name": "stdout",
     "output_type": "stream",
     "text": [
      "Comprar 150.2g de Harina y 12 Huevos\n"
     ]
    }
   ],
   "source": [
    "total = \"Comprar %.1fg de Harina y %i Huevos\"%(150.2, 12)\n",
    "print(total)"
   ]
  },
  {
   "cell_type": "code",
   "execution_count": null,
   "metadata": {},
   "outputs": [],
   "source": []
  },
  {
   "cell_type": "code",
   "execution_count": null,
   "metadata": {},
   "outputs": [],
   "source": []
  },
  {
   "cell_type": "code",
   "execution_count": null,
   "metadata": {},
   "outputs": [],
   "source": []
  },
  {
   "cell_type": "markdown",
   "metadata": {},
   "source": [
    "#### Métodos de strings\n",
    "\n",
    "Sin embargo, existen funciones específicas de Python para trabajar con texto"
   ]
  },
  {
   "cell_type": "markdown",
   "metadata": {},
   "source": [
    "| Método | Descripción | \n",
    "| --- |:--- | \n",
    "|capitalize() |\tPone en mayúscula la primera letra|\n",
    "|casefold()|Pone en minúscula la primera letra|\n",
    "|center()\t|Centra el string|\n",
    "|count()\t|Devuelve el número de veces que se repite un carácter en un string|\n",
    "|encode()\t|Devuelve una versión encoded del string|\n",
    "|endswith()\t| Devuelve True si el string finaliza con un valor determinado|\n",
    "|expandtabs()|\tFija el tamaño del tab del string |\n",
    "|find()\t|Searches the string for a specified value and returns the position of where it was found|\n",
    "|format()\t|Formats specified values in a string|\n",
    "|format_map() |\tFormats specified values in a string|\n",
    "|index()\t|Searches the string for a specified value and returns the position of where it was found|\n",
    "|isalnum()\t|Returns True if all characters in the string are alphanumeric|\n",
    "|isalpha()\t|Returns True if all characters in the string are in the alphabet|\n",
    "|isdecimal()|\tReturns True if all characters in the string are decimals|\n",
    "|isdigit()\t|Returns True if all characters in the string are digits|\n",
    "|isidentifier()|\tReturns True if the string is an identifier|\n",
    "|islower()\t|Returns True if all characters in the string are lower case|\n",
    "|isnumeric()\t|Returns True if all characters in the string are numeric|\n",
    "|isprintable()|\tReturns True if all characters in the string are printable|\n",
    "|isspace()|\tReturns True if all characters in the string are whitespaces|\n",
    "|istitle()\t|Returns True if the string follows the rules of a title|\n",
    "|isupper()\t|Returns True if all characters in the string are upper case|\n",
    "|join()\t|Joins the elements of an iterable to the end of the string|\n",
    "|ljust()|\tReturns a left justified version of the string|\n",
    "|lower()\t|Converts a string into lower case|\n",
    "|lstrip()\t|Returns a left trim version of the string|\n",
    "|maketrans()\t|Returns a translation table to be used in translations|\n",
    "|partition()\t|Returns a tuple where the string is parted into three parts|\n",
    "|replace()\t|Returns a string where a specified value is replaced with a specified value|\n",
    "|rfind()|\tSearches the string for a specified value and returns the last position of where it was found|\n",
    "|rindex()\t|Searches the string for a specified value and returns the last position of where it was found|\n",
    "|rjust()|\tReturns a right justified version of the string|\n",
    "|rpartition()\t|Returns a tuple where the string is parted into three parts|\n",
    "|rsplit()\t|Splits the string at the specified separator, and returns a list|\n",
    "|rstrip()|\tReturns a right trim version of the string|\n",
    "|split()\t|Splits the string at the specified separator, and returns a list|\n",
    "|splitlines()\t|Splits the string at line breaks and returns a list|\n",
    "|startswith()|\tReturns true if the string starts with the specified value|\n",
    "|strip()\t|Returns a trimmed version of the string|\n",
    "|swapcase()\t|Swaps cases, lower case becomes upper case and vice versa|\n",
    "|title()\t|Converts the first character of each word to upper case|\n",
    "|translate()\t|Returns a translated string|\n",
    "|upper()\t|Converts a string into upper case|\n",
    "|zfill()\t|Fills the string with a specified number of 0 values at the beginning|"
   ]
  },
  {
   "cell_type": "markdown",
   "metadata": {},
   "source": [
    "Veamos algunos ejemplos de los métodos más usados:\n",
    "\n",
    "#### len(): dado un string, devuelve la longitud de este"
   ]
  },
  {
   "cell_type": "code",
   "execution_count": null,
   "metadata": {},
   "outputs": [],
   "source": []
  },
  {
   "cell_type": "code",
   "execution_count": null,
   "metadata": {},
   "outputs": [],
   "source": []
  },
  {
   "cell_type": "code",
   "execution_count": null,
   "metadata": {},
   "outputs": [],
   "source": []
  },
  {
   "cell_type": "markdown",
   "metadata": {},
   "source": [
    "El output de la función len() es un valor numérico entero, con el que entonces se puede operar\n",
    "\n",
    "#### capitalize(): para poner en mayúscula la primera letra del string"
   ]
  },
  {
   "cell_type": "code",
   "execution_count": null,
   "metadata": {},
   "outputs": [],
   "source": []
  },
  {
   "cell_type": "code",
   "execution_count": null,
   "metadata": {},
   "outputs": [],
   "source": []
  },
  {
   "cell_type": "code",
   "execution_count": null,
   "metadata": {},
   "outputs": [],
   "source": []
  },
  {
   "cell_type": "markdown",
   "metadata": {},
   "source": [
    "#### strip(): devuelve el string sin espacios"
   ]
  },
  {
   "cell_type": "code",
   "execution_count": null,
   "metadata": {},
   "outputs": [],
   "source": []
  },
  {
   "cell_type": "code",
   "execution_count": null,
   "metadata": {},
   "outputs": [],
   "source": []
  },
  {
   "cell_type": "code",
   "execution_count": null,
   "metadata": {},
   "outputs": [],
   "source": []
  },
  {
   "cell_type": "markdown",
   "metadata": {},
   "source": [
    "#### replace(): reemplaza una palabra por otra del texto"
   ]
  },
  {
   "cell_type": "code",
   "execution_count": null,
   "metadata": {},
   "outputs": [],
   "source": []
  },
  {
   "cell_type": "code",
   "execution_count": null,
   "metadata": {},
   "outputs": [],
   "source": []
  },
  {
   "cell_type": "code",
   "execution_count": null,
   "metadata": {},
   "outputs": [],
   "source": []
  },
  {
   "cell_type": "markdown",
   "metadata": {},
   "source": [
    "Ejercicio: Escribir un programa que pregunte el nombre completo del usuario en la consola y después muestre por pantalla el nombre completo del usuario tres veces, una con todas las letras minúsculas, otra con todas las letras mayúsculas y otra solo con la primera letra del nombre y de los apellidos en mayúscula. El usuario puede introducir su nombre combinando mayúsculas y minúsculas como quiera."
   ]
  },
  {
   "cell_type": "code",
   "execution_count": null,
   "metadata": {},
   "outputs": [],
   "source": []
  },
  {
   "cell_type": "code",
   "execution_count": null,
   "metadata": {},
   "outputs": [],
   "source": []
  },
  {
   "cell_type": "code",
   "execution_count": null,
   "metadata": {},
   "outputs": [],
   "source": []
  },
  {
   "cell_type": "code",
   "execution_count": null,
   "metadata": {},
   "outputs": [],
   "source": []
  },
  {
   "cell_type": "code",
   "execution_count": null,
   "metadata": {},
   "outputs": [],
   "source": []
  },
  {
   "cell_type": "markdown",
   "metadata": {},
   "source": [
    "Ejercicio: Escribir un programa que pregunte al usuario la fecha de su nacimiento en formato dd/mm/aaaa y muestra por pantalla, el día, el mes y el año."
   ]
  },
  {
   "cell_type": "code",
   "execution_count": null,
   "metadata": {},
   "outputs": [],
   "source": []
  },
  {
   "cell_type": "code",
   "execution_count": null,
   "metadata": {},
   "outputs": [],
   "source": []
  },
  {
   "cell_type": "code",
   "execution_count": null,
   "metadata": {},
   "outputs": [],
   "source": []
  },
  {
   "cell_type": "code",
   "execution_count": null,
   "metadata": {},
   "outputs": [],
   "source": []
  },
  {
   "cell_type": "code",
   "execution_count": null,
   "metadata": {},
   "outputs": [],
   "source": []
  },
  {
   "cell_type": "markdown",
   "metadata": {},
   "source": [
    "Ejercicio: Suma los índices de cada una de las letras que conforman la palabra \"hola\". Los índices en este caso son números que representan la posición de cada letra. "
   ]
  },
  {
   "cell_type": "code",
   "execution_count": null,
   "metadata": {},
   "outputs": [],
   "source": []
  },
  {
   "cell_type": "code",
   "execution_count": null,
   "metadata": {},
   "outputs": [],
   "source": []
  },
  {
   "cell_type": "code",
   "execution_count": null,
   "metadata": {},
   "outputs": [],
   "source": []
  },
  {
   "cell_type": "code",
   "execution_count": null,
   "metadata": {},
   "outputs": [],
   "source": []
  },
  {
   "cell_type": "code",
   "execution_count": null,
   "metadata": {},
   "outputs": [],
   "source": []
  },
  {
   "cell_type": "markdown",
   "metadata": {},
   "source": [
    "### Variables Booleanas\n",
    "\n",
    "\n",
    "Al programar muchas veces puedes necesitar saber si una expresión es Verdadera (True) o Falsa (False); que vendría a ser la forma en que el ordenador nos responde con un Si o un No a nuestras commands. \n",
    "\n",
    "Así, la respuesta de un ordenador si una expresión es correcta es mediante las dos variables booleanas:"
   ]
  },
  {
   "cell_type": "code",
   "execution_count": null,
   "metadata": {
    "ExecuteTime": {
     "end_time": "2020-02-02T11:09:00.005786Z",
     "start_time": "2020-02-02T11:08:59.999081Z"
    }
   },
   "outputs": [],
   "source": [
    "True "
   ]
  },
  {
   "cell_type": "code",
   "execution_count": null,
   "metadata": {
    "ExecuteTime": {
     "end_time": "2020-02-02T11:08:47.846680Z",
     "start_time": "2020-02-02T11:08:47.840912Z"
    }
   },
   "outputs": [],
   "source": [
    "False"
   ]
  },
  {
   "cell_type": "code",
   "execution_count": 128,
   "metadata": {
    "ExecuteTime": {
     "end_time": "2020-02-02T11:10:01.243258Z",
     "start_time": "2020-02-02T11:10:01.238075Z"
    }
   },
   "outputs": [
    {
     "name": "stdout",
     "output_type": "stream",
     "text": [
      "True\n",
      "False\n",
      "False\n"
     ]
    }
   ],
   "source": [
    "print(10 > 9)\n",
    "print(10 == 9)\n",
    "print(10 < 9)"
   ]
  },
  {
   "cell_type": "code",
   "execution_count": null,
   "metadata": {},
   "outputs": [],
   "source": []
  },
  {
   "cell_type": "markdown",
   "metadata": {},
   "source": [
    "Ejercicio: Escribir un programa que pregunte el nombre del usuario en la consola y después de que el usuario lo introduzca muestre por pantalla la cadena ¡Hola **nombre**!, donde **nombre** es el nombre que el usuario haya introducido."
   ]
  },
  {
   "cell_type": "code",
   "execution_count": null,
   "metadata": {},
   "outputs": [],
   "source": []
  },
  {
   "cell_type": "code",
   "execution_count": null,
   "metadata": {},
   "outputs": [],
   "source": []
  },
  {
   "cell_type": "code",
   "execution_count": null,
   "metadata": {},
   "outputs": [],
   "source": []
  },
  {
   "cell_type": "code",
   "execution_count": null,
   "metadata": {},
   "outputs": [],
   "source": []
  },
  {
   "cell_type": "markdown",
   "metadata": {},
   "source": [
    "Ejercicio: Escribir un programa que pregunte el nombre del usuario en la consola y un número entero e imprima por pantalla en líneas distintas el nombre del usuario tantas veces como el número introducido."
   ]
  },
  {
   "cell_type": "code",
   "execution_count": null,
   "metadata": {},
   "outputs": [],
   "source": []
  },
  {
   "cell_type": "code",
   "execution_count": null,
   "metadata": {},
   "outputs": [],
   "source": []
  },
  {
   "cell_type": "code",
   "execution_count": null,
   "metadata": {},
   "outputs": [],
   "source": []
  },
  {
   "cell_type": "markdown",
   "metadata": {},
   "source": [
    "Escribir un programa que pregunte al usuario por el número de horas trabajadas y el coste por hora. Después debe mostrar por pantalla la paga que le corresponde."
   ]
  },
  {
   "cell_type": "code",
   "execution_count": null,
   "metadata": {},
   "outputs": [],
   "source": []
  },
  {
   "cell_type": "code",
   "execution_count": null,
   "metadata": {},
   "outputs": [],
   "source": []
  },
  {
   "cell_type": "code",
   "execution_count": null,
   "metadata": {},
   "outputs": [],
   "source": []
  },
  {
   "cell_type": "markdown",
   "metadata": {},
   "source": [
    "Ejercicio: Diseña un programa que verifique si el valor entero que escribimos es par."
   ]
  },
  {
   "cell_type": "code",
   "execution_count": null,
   "metadata": {},
   "outputs": [],
   "source": []
  },
  {
   "cell_type": "code",
   "execution_count": null,
   "metadata": {},
   "outputs": [],
   "source": []
  },
  {
   "cell_type": "code",
   "execution_count": null,
   "metadata": {},
   "outputs": [],
   "source": []
  },
  {
   "cell_type": "markdown",
   "metadata": {},
   "source": [
    "Ejercicio: Escribir un programa que lea un entero positivo, introducido por el usuario y después muestre en pantalla la suma de todos los enteros desde 1 hasta n. La suma de los enteros positivos puede ser calculada de la siguiente forma: \n",
    "\n",
    "$$ \\mbox{suma} = \\frac{n(n+1)}{2} $$\n"
   ]
  },
  {
   "cell_type": "code",
   "execution_count": null,
   "metadata": {},
   "outputs": [],
   "source": []
  },
  {
   "cell_type": "code",
   "execution_count": null,
   "metadata": {},
   "outputs": [],
   "source": []
  },
  {
   "cell_type": "code",
   "execution_count": null,
   "metadata": {},
   "outputs": [],
   "source": []
  },
  {
   "cell_type": "code",
   "execution_count": null,
   "metadata": {},
   "outputs": [],
   "source": []
  },
  {
   "cell_type": "code",
   "execution_count": null,
   "metadata": {},
   "outputs": [],
   "source": []
  },
  {
   "cell_type": "code",
   "execution_count": null,
   "metadata": {},
   "outputs": [],
   "source": []
  },
  {
   "cell_type": "markdown",
   "metadata": {},
   "source": [
    "Ejercicio: Escribir un programa que pida al usuario su peso (en kg) y estatura (en metros), calcule el índice de masa corporal y lo almacene en una variable, y muestre por pantalla la frase Tu índice de masa corporal es IMC donde IMC es el índice de masa corporal calculado redondeando con dos decimales."
   ]
  },
  {
   "cell_type": "code",
   "execution_count": null,
   "metadata": {},
   "outputs": [],
   "source": []
  },
  {
   "cell_type": "code",
   "execution_count": null,
   "metadata": {},
   "outputs": [],
   "source": []
  },
  {
   "cell_type": "code",
   "execution_count": null,
   "metadata": {},
   "outputs": [],
   "source": []
  },
  {
   "cell_type": "code",
   "execution_count": null,
   "metadata": {},
   "outputs": [],
   "source": []
  },
  {
   "cell_type": "code",
   "execution_count": null,
   "metadata": {},
   "outputs": [],
   "source": []
  },
  {
   "cell_type": "code",
   "execution_count": null,
   "metadata": {},
   "outputs": [],
   "source": []
  },
  {
   "cell_type": "markdown",
   "metadata": {
    "heading_collapsed": true
   },
   "source": [
    "# Bibliografia"
   ]
  },
  {
   "cell_type": "markdown",
   "metadata": {
    "ExecuteTime": {
     "end_time": "2020-02-02T11:26:53.639605Z",
     "start_time": "2020-02-02T11:26:53.634045Z"
    },
    "hidden": true
   },
   "source": [
    "https://www.youtube.com/watch?v=YYXdXT2l-Gg&list=PL-osiE80TeTt2d9bfVyTiXJA-UTHn6WwU&index=1"
   ]
  },
  {
   "cell_type": "markdown",
   "metadata": {
    "hidden": true
   },
   "source": [
    "https://www.youtube.com/watch?v=k9TUPpGqYTo&list=PL-osiE80TeTt2d9bfVyTiXJA-UTHn6WwU&index=2"
   ]
  },
  {
   "cell_type": "markdown",
   "metadata": {
    "hidden": true
   },
   "source": [
    "https://www.youtube.com/watch?v=khKv-8q7YmY&list=PL-osiE80TeTt2d9bfVyTiXJA-UTHn6WwU&index=3"
   ]
  },
  {
   "cell_type": "markdown",
   "metadata": {
    "ExecuteTime": {
     "end_time": "2020-02-02T11:26:16.070109Z",
     "start_time": "2020-02-02T11:26:16.051224Z"
    },
    "hidden": true
   },
   "source": [
    "https://www.programiz.com/python-programming/variables-constants-literals"
   ]
  },
  {
   "cell_type": "markdown",
   "metadata": {
    "ExecuteTime": {
     "end_time": "2020-02-01T19:07:44.599202Z",
     "start_time": "2020-02-01T19:07:44.592631Z"
    },
    "hidden": true
   },
   "source": [
    "https://medium.com/@postbio/programming-and-writing-are-analogous-71c0a773e411"
   ]
  },
  {
   "cell_type": "code",
   "execution_count": null,
   "metadata": {
    "hidden": true
   },
   "outputs": [],
   "source": []
  }
 ],
 "metadata": {
  "hide_input": false,
  "kernelspec": {
   "display_name": "Python 3",
   "language": "python",
   "name": "python3"
  },
  "language_info": {
   "codemirror_mode": {
    "name": "ipython",
    "version": 3
   },
   "file_extension": ".py",
   "mimetype": "text/x-python",
   "name": "python",
   "nbconvert_exporter": "python",
   "pygments_lexer": "ipython3",
   "version": "3.8.10"
  },
  "latex_envs": {
   "LaTeX_envs_menu_present": true,
   "autoclose": false,
   "autocomplete": true,
   "bibliofile": "biblio.bib",
   "cite_by": "apalike",
   "current_citInitial": 1,
   "eqLabelWithNumbers": true,
   "eqNumInitial": 1,
   "hotkeys": {
    "equation": "Ctrl-E",
    "itemize": "Ctrl-I"
   },
   "labels_anchors": false,
   "latex_user_defs": false,
   "report_style_numbering": false,
   "user_envs_cfg": false
  },
  "nbTranslate": {
   "displayLangs": [
    "*"
   ],
   "hotkey": "alt-t",
   "langInMainMenu": true,
   "sourceLang": "en",
   "targetLang": "fr",
   "useGoogleTranslate": true
  },
  "toc": {
   "base_numbering": 1,
   "nav_menu": {},
   "number_sections": true,
   "sideBar": true,
   "skip_h1_title": false,
   "title_cell": "Table of Contents",
   "title_sidebar": "Contents",
   "toc_cell": false,
   "toc_position": {
    "height": "calc(100% - 180px)",
    "left": "10px",
    "top": "150px",
    "width": "418.3831481933594px"
   },
   "toc_section_display": true,
   "toc_window_display": true
  },
  "varInspector": {
   "cols": {
    "lenName": 16,
    "lenType": 16,
    "lenVar": 40
   },
   "kernels_config": {
    "python": {
     "delete_cmd_postfix": "",
     "delete_cmd_prefix": "del ",
     "library": "var_list.py",
     "varRefreshCmd": "print(var_dic_list())"
    },
    "r": {
     "delete_cmd_postfix": ") ",
     "delete_cmd_prefix": "rm(",
     "library": "var_list.r",
     "varRefreshCmd": "cat(var_dic_list()) "
    }
   },
   "position": {
    "height": "290.73370361328125px",
    "left": "758.790771484375px",
    "right": "20px",
    "top": "120px",
    "width": "334.2527160644531px"
   },
   "types_to_exclude": [
    "module",
    "function",
    "builtin_function_or_method",
    "instance",
    "_Feature"
   ],
   "window_display": false
  }
 },
 "nbformat": 4,
 "nbformat_minor": 2
}
