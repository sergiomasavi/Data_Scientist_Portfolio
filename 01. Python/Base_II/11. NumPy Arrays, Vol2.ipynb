{
 "cells": [
  {
   "cell_type": "markdown",
   "metadata": {},
   "source": [
    "<img src=\"Tarjeta.png\">"
   ]
  },
  {
   "cell_type": "markdown",
   "metadata": {},
   "source": [
    "# NumPy"
   ]
  },
  {
   "cell_type": "markdown",
   "metadata": {},
   "source": [
    "![tite](https://d1jnx9ba8s6j9r.cloudfront.net/blog/wp-content/uploads/2018/11/1200px-NumPy_logo.svg_.png)"
   ]
  },
  {
   "cell_type": "markdown",
   "metadata": {},
   "source": [
    "## Recap last class -  NumPy y arrays"
   ]
  },
  {
   "cell_type": "markdown",
   "metadata": {},
   "source": [
    "NumPy (**Num**erical **Py**thon) está considerada como una de las librerías más populares de machine learning en Python, y se usa en casi todos los procesos de computación numérica de Python y librerías como Pandas, SciPy, Matplotlib, scikit-learn etc."
   ]
  },
  {
   "cell_type": "markdown",
   "metadata": {},
   "source": [
    "Algunas características de NumPy:\n",
    "- Se usa para computaciones de alto rendimiento con **vectores** y **matrices**, o lo que llamamos **arrays n-dimensionales**: *ndarray()*\n",
    "- Ofrece **computación vectorizada** de arrays y matrices\n",
    "- Ofrece funciones y rutinas numéricas de rápida precompilación\n",
    "- Está escrita en *C* y *Fortran*"
   ]
  },
  {
   "cell_type": "markdown",
   "metadata": {},
   "source": [
    "### Arrays Numpy"
   ]
  },
  {
   "cell_type": "markdown",
   "metadata": {},
   "source": [
    "Como hemos visto, para usar un módulo o librería, primero tenemos que hacerlo accesible; mediante la importación."
   ]
  },
  {
   "cell_type": "code",
   "execution_count": 89,
   "metadata": {
    "ExecuteTime": {
     "end_time": "2020-02-09T11:54:20.776761Z",
     "start_time": "2020-02-09T11:54:20.772841Z"
    }
   },
   "outputs": [],
   "source": [
    "import numpy as np"
   ]
  },
  {
   "cell_type": "markdown",
   "metadata": {
    "ExecuteTime": {
     "end_time": "2020-02-09T11:54:35.800173Z",
     "start_time": "2020-02-09T11:54:35.788215Z"
    }
   },
   "source": [
    "**Importante!** Hemos importado la librería con un nombre más corto para ahorrarnos tiempo a la hora de llamar funciones de la librería. La **abreviación de NumPy está estandarizada** a *np*!"
   ]
  },
  {
   "cell_type": "markdown",
   "metadata": {},
   "source": [
    "**El array es la estructura de datos central de la librería NumPy**. Es una parrilla de valores, y contiene información de datos raw, de cómo alocar un elemento y cómo interpretarlo. \n",
    "\n",
    "Características:\n",
    "\n",
    "- Los elementos de la parrila pueden ser indexados de diferentes formas. \n",
    "- Los elementos tienen que ser todos de mismo tipo, ques el tipo: *array dtype*\n"
   ]
  },
  {
   "cell_type": "markdown",
   "metadata": {},
   "source": [
    "![title](https://www.tutorialspoint.com/numpy/images/ndarray.jpg)"
   ]
  },
  {
   "cell_type": "markdown",
   "metadata": {},
   "source": [
    "#### Indexado de un array"
   ]
  },
  {
   "cell_type": "markdown",
   "metadata": {},
   "source": [
    "Un array puede ser indexado de distintas forma:\n",
    "\n",
    "1. por una **tupla** de enteros no negativos\n",
    "2. por booleanos\n",
    "3. por otro array\n",
    "4. por enteros"
   ]
  },
  {
   "cell_type": "markdown",
   "metadata": {},
   "source": [
    "#### Rango y dimensión de un array"
   ]
  },
  {
   "cell_type": "markdown",
   "metadata": {},
   "source": [
    "El **rango** de un array es el nº de dimensiones que tiene.\n",
    "\n",
    "La **forma** del array es una tupla con los enteros que dan tamaño al array por cada dirección."
   ]
  },
  {
   "cell_type": "markdown",
   "metadata": {},
   "source": [
    "A lo largo de la lección de hoy ya hemos visto que para entender un array  existen un conjunto de propiedades básicas que hay que saber del objeto, que sacamos mediante los siguientes comandos:"
   ]
  },
  {
   "cell_type": "markdown",
   "metadata": {},
   "source": [
    "|Comando |función| \n",
    "|:---|:---| \n",
    "|**ndim()**|dimensión del array. 1d - creado con una lista, 2d - creado con una lista de listas|\n",
    "|**shape()**|nº elementos en cada dimensión: **notación: (i,j) donde i es el nº filas y j el nº columnas**|\n",
    "|**dtype()**|tipo de datos del array|\n",
    "|**size()**|nº total de elementos del array|"
   ]
  },
  {
   "cell_type": "markdown",
   "metadata": {},
   "source": [
    "Existen varias maneras de crear un numpy array, pero la forma más común es crearlo a partir de una lista mediante el método *np.array*"
   ]
  },
  {
   "cell_type": "markdown",
   "metadata": {
    "heading_collapsed": true
   },
   "source": [
    "### Creación de arrays - recap"
   ]
  },
  {
   "cell_type": "code",
   "execution_count": 27,
   "metadata": {
    "ExecuteTime": {
     "end_time": "2020-02-27T19:51:41.048449Z",
     "start_time": "2020-02-27T19:51:41.044254Z"
    },
    "hidden": true
   },
   "outputs": [],
   "source": [
    "lista = [1,2,3]\n",
    "array_1d = np.array(lista)"
   ]
  },
  {
   "cell_type": "code",
   "execution_count": 28,
   "metadata": {
    "ExecuteTime": {
     "end_time": "2020-02-27T19:51:45.118130Z",
     "start_time": "2020-02-27T19:51:45.112087Z"
    },
    "hidden": true
   },
   "outputs": [
    {
     "data": {
      "text/plain": [
       "array([1, 2, 3])"
      ]
     },
     "execution_count": 28,
     "metadata": {},
     "output_type": "execute_result"
    }
   ],
   "source": [
    "array_1d"
   ]
  },
  {
   "cell_type": "markdown",
   "metadata": {
    "hidden": true
   },
   "source": [
    "Comprobamos el tipo de objeto creado e imprimimos en pantalla el objeto"
   ]
  },
  {
   "cell_type": "code",
   "execution_count": 106,
   "metadata": {
    "ExecuteTime": {
     "end_time": "2020-02-09T12:25:17.560038Z",
     "start_time": "2020-02-09T12:25:17.553678Z"
    },
    "hidden": true
   },
   "outputs": [
    {
     "data": {
      "text/plain": [
       "numpy.ndarray"
      ]
     },
     "execution_count": 106,
     "metadata": {},
     "output_type": "execute_result"
    }
   ],
   "source": [
    "type(array_1d) #efectivamente es un objeto del tipo ndarray de la librería numpy"
   ]
  },
  {
   "cell_type": "code",
   "execution_count": 107,
   "metadata": {
    "ExecuteTime": {
     "end_time": "2020-02-09T12:25:18.490170Z",
     "start_time": "2020-02-09T12:25:18.482015Z"
    },
    "hidden": true
   },
   "outputs": [
    {
     "name": "stdout",
     "output_type": "stream",
     "text": [
      "[1 2 3]\n"
     ]
    }
   ],
   "source": [
    "print(array_1d)"
   ]
  },
  {
   "cell_type": "code",
   "execution_count": 122,
   "metadata": {
    "ExecuteTime": {
     "end_time": "2020-02-09T13:08:21.959918Z",
     "start_time": "2020-02-09T13:08:21.952589Z"
    },
    "hidden": true
   },
   "outputs": [
    {
     "data": {
      "text/plain": [
       "1"
      ]
     },
     "execution_count": 122,
     "metadata": {},
     "output_type": "execute_result"
    }
   ],
   "source": [
    "array_1d.ndim"
   ]
  },
  {
   "cell_type": "code",
   "execution_count": 124,
   "metadata": {
    "ExecuteTime": {
     "end_time": "2020-02-09T13:08:33.655725Z",
     "start_time": "2020-02-09T13:08:33.649542Z"
    },
    "hidden": true
   },
   "outputs": [
    {
     "data": {
      "text/plain": [
       "(3,)"
      ]
     },
     "execution_count": 124,
     "metadata": {},
     "output_type": "execute_result"
    }
   ],
   "source": [
    "array_1d.shape"
   ]
  },
  {
   "cell_type": "markdown",
   "metadata": {
    "hidden": true
   },
   "source": [
    "Que podemos visualizarlo como una secuencia de número en una dirección vertical."
   ]
  },
  {
   "cell_type": "markdown",
   "metadata": {
    "hidden": true
   },
   "source": [
    "![title](https://miro.medium.com/max/2600/0*Q_wCrQ29wTBHb_7Q.png)"
   ]
  },
  {
   "cell_type": "markdown",
   "metadata": {
    "hidden": true
   },
   "source": [
    "**Las funciones aplican a nivel elemento y no a nivel objeto**"
   ]
  },
  {
   "cell_type": "markdown",
   "metadata": {
    "hidden": true
   },
   "source": [
    "Como ya hemos introducido, al aplicar un ésta se aplica a *cada* elemento del array y no al objeto array en global."
   ]
  },
  {
   "cell_type": "code",
   "execution_count": 103,
   "metadata": {
    "ExecuteTime": {
     "end_time": "2020-02-09T12:23:25.537600Z",
     "start_time": "2020-02-09T12:23:25.529368Z"
    },
    "hidden": true
   },
   "outputs": [
    {
     "data": {
      "text/plain": [
       "array([2, 3, 4, 5, 6])"
      ]
     },
     "execution_count": 103,
     "metadata": {},
     "output_type": "execute_result"
    }
   ],
   "source": [
    "array_1d + 2"
   ]
  },
  {
   "cell_type": "markdown",
   "metadata": {
    "hidden": true
   },
   "source": [
    "**Un array no puede incorporar nuevos elementos**"
   ]
  },
  {
   "cell_type": "markdown",
   "metadata": {
    "hidden": true
   },
   "source": [
    "Para añadir un nuevo elemento, tendríamos que definir un nuevo array"
   ]
  },
  {
   "cell_type": "code",
   "execution_count": 104,
   "metadata": {
    "ExecuteTime": {
     "end_time": "2020-02-09T12:23:29.272518Z",
     "start_time": "2020-02-09T12:23:29.254252Z"
    },
    "hidden": true
   },
   "outputs": [
    {
     "data": {
      "text/plain": [
       "array([[0, 1, 2],\n",
       "       [3, 4, 5],\n",
       "       [6, 7, 8]])"
      ]
     },
     "execution_count": 104,
     "metadata": {},
     "output_type": "execute_result"
    }
   ],
   "source": [
    "lista_de_listas = [[0,1,2], [3,4,5], [6,7,8]]\n",
    "array_2d = np.array(lista_de_listas)\n",
    "array_2d"
   ]
  },
  {
   "cell_type": "markdown",
   "metadata": {
    "hidden": true
   },
   "source": [
    "**Importante!** Un array en 2 dimensiones (eje vertical y eje horizontal) es una **matriz**"
   ]
  },
  {
   "cell_type": "markdown",
   "metadata": {
    "hidden": true
   },
   "source": [
    "![title](data:image/png;base64,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)"
   ]
  },
  {
   "cell_type": "code",
   "execution_count": 125,
   "metadata": {
    "ExecuteTime": {
     "end_time": "2020-02-09T13:08:59.631635Z",
     "start_time": "2020-02-09T13:08:59.621648Z"
    },
    "hidden": true
   },
   "outputs": [
    {
     "data": {
      "text/plain": [
       "2"
      ]
     },
     "execution_count": 125,
     "metadata": {},
     "output_type": "execute_result"
    }
   ],
   "source": [
    "array_2d.ndim"
   ]
  },
  {
   "cell_type": "code",
   "execution_count": 126,
   "metadata": {
    "ExecuteTime": {
     "end_time": "2020-02-09T13:09:03.389473Z",
     "start_time": "2020-02-09T13:09:03.379464Z"
    },
    "hidden": true
   },
   "outputs": [
    {
     "data": {
      "text/plain": [
       "(3, 3)"
      ]
     },
     "execution_count": 126,
     "metadata": {},
     "output_type": "execute_result"
    }
   ],
   "source": [
    "array_2d.shape"
   ]
  },
  {
   "cell_type": "markdown",
   "metadata": {},
   "source": [
    "## Indexado y particionado de arrays"
   ]
  },
  {
   "cell_type": "markdown",
   "metadata": {},
   "source": [
    "### Recap indexado"
   ]
  },
  {
   "cell_type": "markdown",
   "metadata": {},
   "source": [
    "Se pueden extraer elementos específicos de un array mediante el uso del **indexado**, que así como en las listas; empieza con el índice 0 para indicar el primer elemento. \n",
    "\n",
    "Dado un array, se especifica el elemento que se quiere extraer mediante los índices de posición entre corchete [ ]"
   ]
  },
  {
   "cell_type": "markdown",
   "metadata": {},
   "source": [
    "La diferencia con las listas es que **especificaremos tantos índices de posición como dimensiones tenga el array**.\n",
    "\n",
    "Una lista es un array 1d, por lo que con las listas sólo teníamos que especificar 1 índice"
   ]
  },
  {
   "cell_type": "markdown",
   "metadata": {},
   "source": [
    "![title](https://d1jnx9ba8s6j9r.cloudfront.net/blog/wp-content/uploads/2017/06/MultiDimensional-Array.png)"
   ]
  },
  {
   "cell_type": "markdown",
   "metadata": {},
   "source": [
    "**Importante!** \n",
    "\n",
    "En arrays de 2-dimensiones, la 1ª dimensión se refiere a las **filas** mientras que la 2ª dimensión se refiere a las **columnas**.\n",
    "\n",
    "Es decir, al especificar los dos índices del array **a[i,j]**:\n",
    "- el **índice i** se refiere a la posición que ocupa el elemento en las **filas**\n",
    "- el **índice j** se refiere a la posición que ocupa el elemento en las **columnas**"
   ]
  },
  {
   "cell_type": "markdown",
   "metadata": {},
   "source": [
    "![title](data:image/png;base64,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)"
   ]
  },
  {
   "cell_type": "markdown",
   "metadata": {},
   "source": [
    "**Importante!**\n",
    "\n",
    "Si en lugar de acceder a un solo elemento (o cuadrado en la figura de arriba mediante *array[i,j]*) queremos **acceder a una fila o columna enteras** (es decir, a una de las listas que contiene la lista que conforma el array); **especificaremos un sólo indice**.\n",
    "\n",
    "Es decir, \n",
    "- con *array[i]* (análogo a *array[i,:]*) accederemos a la fila *i* del array \n",
    "- con *array[,j]* accederemos a la columna *j* del array."
   ]
  },
  {
   "cell_type": "markdown",
   "metadata": {},
   "source": [
    "![title](https://www.codingeek.com/wp-content/uploads/2017/01/2D-arrays.png)"
   ]
  },
  {
   "cell_type": "markdown",
   "metadata": {
    "ExecuteTime": {
     "end_time": "2020-02-09T17:44:50.794697Z",
     "start_time": "2020-02-09T17:44:50.788479Z"
    }
   },
   "source": [
    "Para ver más ejemplos..."
   ]
  },
  {
   "cell_type": "markdown",
   "metadata": {},
   "source": [
    "![title](https://scipy-lectures.org/_images/numpy_indexing.png)"
   ]
  },
  {
   "cell_type": "markdown",
   "metadata": {},
   "source": [
    "### Fancy indexing"
   ]
  },
  {
   "cell_type": "markdown",
   "metadata": {},
   "source": [
    "Los arrays de NumPy no sólo se pueden acceder o indexar con sices, pero tambien con arrays booleanos o enteros, a lo que denominamos **masks**. "
   ]
  },
  {
   "cell_type": "markdown",
   "metadata": {},
   "source": [
    "#### Indexado con lista"
   ]
  },
  {
   "cell_type": "markdown",
   "metadata": {},
   "source": [
    "Mediante una lista de enteros, especificamos los índices o elementos a los que queremos acceder de un array"
   ]
  },
  {
   "cell_type": "markdown",
   "metadata": {},
   "source": [
    "##### EJEMPLO"
   ]
  },
  {
   "cell_type": "code",
   "execution_count": 4,
   "metadata": {
    "ExecuteTime": {
     "end_time": "2020-03-01T11:53:11.201899Z",
     "start_time": "2020-03-01T11:53:11.196228Z"
    }
   },
   "outputs": [
    {
     "data": {
      "text/plain": [
       "array([ 0, 10, 20, 30, 40, 50, 60, 70, 80, 90])"
      ]
     },
     "execution_count": 4,
     "metadata": {},
     "output_type": "execute_result"
    }
   ],
   "source": [
    "a = np.arange(0, 100, 10)\n",
    "a"
   ]
  },
  {
   "cell_type": "code",
   "execution_count": 6,
   "metadata": {
    "ExecuteTime": {
     "end_time": "2020-03-01T11:53:26.596566Z",
     "start_time": "2020-03-01T11:53:26.591734Z"
    }
   },
   "outputs": [
    {
     "name": "stdout",
     "output_type": "stream",
     "text": [
      "[20 30 20 40 20]\n"
     ]
    }
   ],
   "source": [
    "lista_indices = [2, 3, 2, 4, 2]\n",
    "a[lista_indices]\n",
    "print(a[lista_indices])"
   ]
  },
  {
   "cell_type": "markdown",
   "metadata": {},
   "source": [
    "#### Indexado con array de enteros"
   ]
  },
  {
   "cell_type": "code",
   "execution_count": 6,
   "metadata": {
    "ExecuteTime": {
     "end_time": "2021-01-17T13:31:04.911458Z",
     "start_time": "2021-01-17T13:31:04.892790Z"
    }
   },
   "outputs": [
    {
     "data": {
      "text/plain": [
       "array([ 0, 10, 20, 30, 40, 50, 60, 70, 80, 90])"
      ]
     },
     "execution_count": 6,
     "metadata": {},
     "output_type": "execute_result"
    }
   ],
   "source": [
    "a = np.arange(0,100,10)\n",
    "a"
   ]
  },
  {
   "cell_type": "code",
   "execution_count": 7,
   "metadata": {
    "ExecuteTime": {
     "end_time": "2021-01-17T13:31:06.191989Z",
     "start_time": "2021-01-17T13:31:06.185988Z"
    }
   },
   "outputs": [
    {
     "name": "stdout",
     "output_type": "stream",
     "text": [
      "[[3 4]\n",
      " [9 7]]\n"
     ]
    }
   ],
   "source": [
    "array_indices = np.array([[3,4],[9,7]])\n",
    "print(array_indices)"
   ]
  },
  {
   "cell_type": "code",
   "execution_count": 8,
   "metadata": {
    "ExecuteTime": {
     "end_time": "2021-01-17T13:31:06.540392Z",
     "start_time": "2021-01-17T13:31:06.520789Z"
    }
   },
   "outputs": [
    {
     "name": "stdout",
     "output_type": "stream",
     "text": [
      "[[30 40]\n",
      " [90 70]]\n"
     ]
    }
   ],
   "source": [
    "print(a[array_indices])"
   ]
  },
  {
   "cell_type": "markdown",
   "metadata": {},
   "source": [
    "## Operadores sobre Arrays"
   ]
  },
  {
   "cell_type": "markdown",
   "metadata": {},
   "source": [
    "### Operaciones básicas sobre un array"
   ]
  },
  {
   "cell_type": "markdown",
   "metadata": {},
   "source": [
    "Existen muchas funciones aritméticas construidas en NumPy y que por lo tanto funcionan sobre los arrays"
   ]
  },
  {
   "cell_type": "markdown",
   "metadata": {},
   "source": [
    "#### Operaciones aritméticas y Broadcasting"
   ]
  },
  {
   "cell_type": "markdown",
   "metadata": {},
   "source": [
    "Cuando operamos un array con un número, en verdad el número se aplica a cada elemento del array y por lo tanto es un array constante en si mismo:"
   ]
  },
  {
   "cell_type": "markdown",
   "metadata": {},
   "source": [
    "![title](https://miro.medium.com/max/2600/0*XnWhUUqTKsbRooBh.png)"
   ]
  },
  {
   "cell_type": "markdown",
   "metadata": {},
   "source": [
    "Python entiende que la mutiplicación debe suceder en cada celda o elemento del array, y este es el concepto de *broadcasting*; y que **permite a NumPy realizar operaciones entre arrays de distintas formas**. \n",
    "\n",
    "Eso sí, **las dimensiones del array tienen que ser compatibles** o tendrás un error de código."
   ]
  },
  {
   "cell_type": "markdown",
   "metadata": {},
   "source": [
    "Todas las operaciones aritméticas actuan sobre cada elemento de un array"
   ]
  },
  {
   "cell_type": "code",
   "execution_count": null,
   "metadata": {},
   "outputs": [],
   "source": [
    "import numpy as np"
   ]
  },
  {
   "cell_type": "code",
   "execution_count": null,
   "metadata": {},
   "outputs": [],
   "source": [
    "np.array()"
   ]
  },
  {
   "cell_type": "code",
   "execution_count": 9,
   "metadata": {
    "ExecuteTime": {
     "end_time": "2020-03-02T17:45:14.673328Z",
     "start_time": "2020-03-02T17:45:14.665981Z"
    }
   },
   "outputs": [
    {
     "data": {
      "text/plain": [
       "array([[1, 2, 5, 3],\n",
       "       [2, 3, 4, 1]])"
      ]
     },
     "execution_count": 9,
     "metadata": {},
     "output_type": "execute_result"
    }
   ],
   "source": [
    "a = np.array([[1, 2, 5, 3], [2,3,4,1]] ) \n",
    "a"
   ]
  },
  {
   "cell_type": "code",
   "execution_count": null,
   "metadata": {},
   "outputs": [],
   "source": [
    "#sumarle 2 al array (a cada elemento del array)"
   ]
  },
  {
   "cell_type": "code",
   "execution_count": 13,
   "metadata": {
    "ExecuteTime": {
     "end_time": "2020-03-02T17:46:25.016766Z",
     "start_time": "2020-03-02T17:46:25.009989Z"
    }
   },
   "outputs": [
    {
     "data": {
      "text/plain": [
       "array([[5, 6, 9, 7],\n",
       "       [6, 7, 8, 5]])"
      ]
     },
     "execution_count": 13,
     "metadata": {},
     "output_type": "execute_result"
    }
   ],
   "source": [
    "a = a + 2\n",
    "a"
   ]
  },
  {
   "cell_type": "code",
   "execution_count": null,
   "metadata": {},
   "outputs": [],
   "source": [
    "#multiplicar por 0.5 el array"
   ]
  },
  {
   "cell_type": "code",
   "execution_count": 14,
   "metadata": {
    "ExecuteTime": {
     "end_time": "2020-03-02T17:46:28.121012Z",
     "start_time": "2020-03-02T17:46:28.115003Z"
    }
   },
   "outputs": [
    {
     "data": {
      "text/plain": [
       "array([[2.5, 3. , 4.5, 3.5],\n",
       "       [3. , 3.5, 4. , 2.5]])"
      ]
     },
     "execution_count": 14,
     "metadata": {},
     "output_type": "execute_result"
    }
   ],
   "source": [
    "a * 0.5"
   ]
  },
  {
   "cell_type": "code",
   "execution_count": null,
   "metadata": {},
   "outputs": [],
   "source": [
    "#elevar a 2 el array"
   ]
  },
  {
   "cell_type": "code",
   "execution_count": 15,
   "metadata": {
    "ExecuteTime": {
     "end_time": "2020-03-02T17:46:44.787069Z",
     "start_time": "2020-03-02T17:46:44.778947Z"
    }
   },
   "outputs": [
    {
     "data": {
      "text/plain": [
       "array([[25, 36, 81, 49],\n",
       "       [36, 49, 64, 25]])"
      ]
     },
     "execution_count": 15,
     "metadata": {},
     "output_type": "execute_result"
    }
   ],
   "source": [
    "a **2"
   ]
  },
  {
   "cell_type": "code",
   "execution_count": null,
   "metadata": {},
   "outputs": [],
   "source": []
  },
  {
   "cell_type": "code",
   "execution_count": null,
   "metadata": {},
   "outputs": [],
   "source": []
  },
  {
   "cell_type": "code",
   "execution_count": 30,
   "metadata": {
    "ExecuteTime": {
     "end_time": "2021-02-03T22:37:08.290155Z",
     "start_time": "2021-02-03T22:37:08.283067Z"
    }
   },
   "outputs": [],
   "source": [
    "a = np.array([1, 2, 5, 3]) \n",
    "  \n",
    "# suma 1 a cada elemento\n",
    "# resta 3 a cada elemento\n",
    "# multiplica cada elemento por 10 \n",
    "# potencias, eleva a 2\n"
   ]
  },
  {
   "cell_type": "code",
   "execution_count": 31,
   "metadata": {
    "ExecuteTime": {
     "end_time": "2021-02-03T22:37:10.092095Z",
     "start_time": "2021-02-03T22:37:10.084067Z"
    }
   },
   "outputs": [
    {
     "name": "stdout",
     "output_type": "stream",
     "text": [
      "Suma 1 a cada elemento de a : [2 3 6 4]\n",
      "Resta 3 a cada elemento de a: [-2 -1  2  0]\n",
      "Multiplica cada elemento por 10: [10 20 50 30]\n",
      "Eleva a 2 cada elemento de a : [ 1  4 25  9]\n"
     ]
    }
   ],
   "source": [
    "print (\"Suma 1 a cada elemento de a :\", a+1)\n",
    "print (\"Resta 3 a cada elemento de a:\", a-3) \n",
    "print (\"Multiplica cada elemento por 10:\", a*10) \n",
    "print (\"Eleva a 2 cada elemento de a :\", a**2) "
   ]
  },
  {
   "cell_type": "code",
   "execution_count": 227,
   "metadata": {
    "ExecuteTime": {
     "end_time": "2020-02-09T18:20:23.308749Z",
     "start_time": "2020-02-09T18:20:23.301364Z"
    }
   },
   "outputs": [
    {
     "name": "stdout",
     "output_type": "stream",
     "text": [
      "Dobla cada elemento del array original: [ 2  4 10  6]\n"
     ]
    }
   ],
   "source": [
    "#multiplica x2 cada elemento de a\n",
    "a *= 2\n",
    "print (\"Dobla cada elemento del array original:\", a) "
   ]
  },
  {
   "cell_type": "markdown",
   "metadata": {},
   "source": [
    "#### Operadores sum(), min(), max()"
   ]
  },
  {
   "cell_type": "markdown",
   "metadata": {},
   "source": [
    "Estos operadores son métodos de la classe ndarray, y pueden ser aplicados a lo largo de filas o de columnas, según definamos el eje al que se tiene que aplicar."
   ]
  },
  {
   "cell_type": "markdown",
   "metadata": {},
   "source": [
    "##### Sobre arrays 1-d"
   ]
  },
  {
   "cell_type": "markdown",
   "metadata": {},
   "source": [
    "![title](https://miro.medium.com/max/2600/0*v_XJbg243IJo3QoJ.png)"
   ]
  },
  {
   "cell_type": "markdown",
   "metadata": {},
   "source": [
    "##### Sobre arrays n-d"
   ]
  },
  {
   "cell_type": "code",
   "execution_count": 32,
   "metadata": {
    "ExecuteTime": {
     "end_time": "2021-02-03T22:40:42.022558Z",
     "start_time": "2021-02-03T22:40:41.998741Z"
    }
   },
   "outputs": [
    {
     "data": {
      "text/plain": [
       "array([[1, 2, 5, 3],\n",
       "       [2, 3, 4, 1]])"
      ]
     },
     "execution_count": 32,
     "metadata": {},
     "output_type": "execute_result"
    }
   ],
   "source": [
    "a = np.array([[1, 2, 5, 3], [2,3,4,1]] ) \n",
    "a"
   ]
  },
  {
   "cell_type": "code",
   "execution_count": null,
   "metadata": {},
   "outputs": [],
   "source": [
    "#calcula el máximo"
   ]
  },
  {
   "cell_type": "code",
   "execution_count": 23,
   "metadata": {
    "ExecuteTime": {
     "end_time": "2020-03-02T17:54:08.172837Z",
     "start_time": "2020-03-02T17:54:08.166934Z"
    }
   },
   "outputs": [
    {
     "data": {
      "text/plain": [
       "5"
      ]
     },
     "execution_count": 23,
     "metadata": {},
     "output_type": "execute_result"
    }
   ],
   "source": [
    "np.max(a)"
   ]
  },
  {
   "cell_type": "code",
   "execution_count": 21,
   "metadata": {
    "ExecuteTime": {
     "end_time": "2020-03-02T17:53:32.507180Z",
     "start_time": "2020-03-02T17:53:32.500323Z"
    }
   },
   "outputs": [
    {
     "data": {
      "text/plain": [
       "5"
      ]
     },
     "execution_count": 21,
     "metadata": {},
     "output_type": "execute_result"
    }
   ],
   "source": [
    "a.max()"
   ]
  },
  {
   "cell_type": "code",
   "execution_count": null,
   "metadata": {},
   "outputs": [],
   "source": [
    "#calcula el mínimo"
   ]
  },
  {
   "cell_type": "code",
   "execution_count": 24,
   "metadata": {
    "ExecuteTime": {
     "end_time": "2020-03-02T17:54:23.562741Z",
     "start_time": "2020-03-02T17:54:23.557461Z"
    }
   },
   "outputs": [
    {
     "data": {
      "text/plain": [
       "1"
      ]
     },
     "execution_count": 24,
     "metadata": {},
     "output_type": "execute_result"
    }
   ],
   "source": [
    "np.min(a)"
   ]
  },
  {
   "cell_type": "code",
   "execution_count": 22,
   "metadata": {
    "ExecuteTime": {
     "end_time": "2020-03-02T17:54:02.932182Z",
     "start_time": "2020-03-02T17:54:02.926801Z"
    }
   },
   "outputs": [
    {
     "data": {
      "text/plain": [
       "1"
      ]
     },
     "execution_count": 22,
     "metadata": {},
     "output_type": "execute_result"
    }
   ],
   "source": [
    "a.min(a)"
   ]
  },
  {
   "cell_type": "code",
   "execution_count": null,
   "metadata": {},
   "outputs": [],
   "source": [
    "#saca la suma de todos los elementos del array"
   ]
  },
  {
   "cell_type": "code",
   "execution_count": 26,
   "metadata": {
    "ExecuteTime": {
     "end_time": "2020-03-02T17:55:06.222413Z",
     "start_time": "2020-03-02T17:55:06.216197Z"
    }
   },
   "outputs": [
    {
     "data": {
      "text/plain": [
       "21"
      ]
     },
     "execution_count": 26,
     "metadata": {},
     "output_type": "execute_result"
    }
   ],
   "source": [
    "a.sum()"
   ]
  },
  {
   "cell_type": "code",
   "execution_count": 33,
   "metadata": {
    "ExecuteTime": {
     "end_time": "2021-02-03T22:40:45.626630Z",
     "start_time": "2021-02-03T22:40:45.610217Z"
    }
   },
   "outputs": [
    {
     "data": {
      "text/plain": [
       "21"
      ]
     },
     "execution_count": 33,
     "metadata": {},
     "output_type": "execute_result"
    }
   ],
   "source": [
    "np.sum(a)"
   ]
  },
  {
   "cell_type": "markdown",
   "metadata": {},
   "source": [
    "![title](https://miro.medium.com/max/2600/0*LeO8VM1tnYEpAMP0.png)"
   ]
  },
  {
   "cell_type": "markdown",
   "metadata": {},
   "source": [
    "Al aplicar operadores sobre arrays nd (2d en general), hay que especificar sobre qué eje quieres agregar, si sobre las columnas o si sobre filas."
   ]
  },
  {
   "cell_type": "markdown",
   "metadata": {},
   "source": [
    "![title](https://miro.medium.com/max/2600/0*EHs4fgAT4BhfGHtg.png)"
   ]
  },
  {
   "cell_type": "markdown",
   "metadata": {},
   "source": [
    "##### EJEMPLOS"
   ]
  },
  {
   "cell_type": "code",
   "execution_count": 36,
   "metadata": {
    "ExecuteTime": {
     "end_time": "2021-02-03T22:43:40.819705Z",
     "start_time": "2021-02-03T22:43:40.804102Z"
    },
    "code_folding": []
   },
   "outputs": [],
   "source": [
    "import numpy as np \n",
    "  \n",
    "arr = np.array(    [\n",
    "                [1, 5, 6], \n",
    "                [4, 7, 2], \n",
    "                [3, 1, 9]\n",
    "               ]   ) "
   ]
  },
  {
   "cell_type": "code",
   "execution_count": null,
   "metadata": {},
   "outputs": [],
   "source": [
    "# Calcula la forma y dimensiones del array\n",
    "# Calcula la suma de todos los elementos\n",
    "# Remplaza el 7 y el 9 por -1\n",
    "# Saca el máximo a nivel de columnas y filas\n",
    "# Calcula la suma de cada fila"
   ]
  },
  {
   "cell_type": "code",
   "execution_count": 11,
   "metadata": {
    "ExecuteTime": {
     "end_time": "2021-01-17T14:32:42.749658Z",
     "start_time": "2021-01-17T14:32:42.742350Z"
    }
   },
   "outputs": [
    {
     "data": {
      "text/plain": [
       "(3, 3)"
      ]
     },
     "execution_count": 11,
     "metadata": {},
     "output_type": "execute_result"
    }
   ],
   "source": [
    "arr.shape"
   ]
  },
  {
   "cell_type": "code",
   "execution_count": 12,
   "metadata": {
    "ExecuteTime": {
     "end_time": "2021-01-17T14:33:01.951965Z",
     "start_time": "2021-01-17T14:33:01.932100Z"
    }
   },
   "outputs": [
    {
     "data": {
      "text/plain": [
       "2"
      ]
     },
     "execution_count": 12,
     "metadata": {},
     "output_type": "execute_result"
    }
   ],
   "source": [
    "arr.ndim"
   ]
  },
  {
   "cell_type": "code",
   "execution_count": 13,
   "metadata": {
    "ExecuteTime": {
     "end_time": "2021-01-17T14:33:15.717028Z",
     "start_time": "2021-01-17T14:33:15.709863Z"
    }
   },
   "outputs": [
    {
     "data": {
      "text/plain": [
       "38"
      ]
     },
     "execution_count": 13,
     "metadata": {},
     "output_type": "execute_result"
    }
   ],
   "source": [
    "arr.sum()"
   ]
  },
  {
   "cell_type": "code",
   "execution_count": 14,
   "metadata": {
    "ExecuteTime": {
     "end_time": "2021-01-17T14:34:15.471517Z",
     "start_time": "2021-01-17T14:34:15.464519Z"
    }
   },
   "outputs": [
    {
     "data": {
      "text/plain": [
       "array([[ 1,  5,  6],\n",
       "       [ 4, -1,  2],\n",
       "       [ 3,  1, -1]])"
      ]
     },
     "execution_count": 14,
     "metadata": {},
     "output_type": "execute_result"
    }
   ],
   "source": [
    "arr[1,1] = -1\n",
    "arr[2,2] = -1\n",
    "arr"
   ]
  },
  {
   "cell_type": "code",
   "execution_count": 35,
   "metadata": {
    "ExecuteTime": {
     "end_time": "2021-02-03T22:43:27.476122Z",
     "start_time": "2021-02-03T22:43:27.459427Z"
    }
   },
   "outputs": [
    {
     "data": {
      "text/plain": [
       "array([ 3,  7, 11, 15])"
      ]
     },
     "execution_count": 35,
     "metadata": {},
     "output_type": "execute_result"
    }
   ],
   "source": [
    "arr.max(axis=1)"
   ]
  },
  {
   "cell_type": "code",
   "execution_count": 37,
   "metadata": {
    "ExecuteTime": {
     "end_time": "2021-02-03T22:43:44.467935Z",
     "start_time": "2021-02-03T22:43:44.451098Z"
    }
   },
   "outputs": [
    {
     "data": {
      "text/plain": [
       "array([4, 7, 9])"
      ]
     },
     "execution_count": 37,
     "metadata": {},
     "output_type": "execute_result"
    }
   ],
   "source": [
    "arr.max(axis=0)"
   ]
  },
  {
   "cell_type": "code",
   "execution_count": 38,
   "metadata": {
    "ExecuteTime": {
     "end_time": "2021-02-03T22:43:58.050459Z",
     "start_time": "2021-02-03T22:43:58.027942Z"
    }
   },
   "outputs": [
    {
     "data": {
      "text/plain": [
       "array([12, 13, 13])"
      ]
     },
     "execution_count": 38,
     "metadata": {},
     "output_type": "execute_result"
    }
   ],
   "source": [
    "arr.sum(axis=1)"
   ]
  },
  {
   "cell_type": "code",
   "execution_count": null,
   "metadata": {},
   "outputs": [],
   "source": [
    "#minimo global"
   ]
  },
  {
   "cell_type": "code",
   "execution_count": 29,
   "metadata": {
    "ExecuteTime": {
     "end_time": "2020-03-02T18:02:29.333648Z",
     "start_time": "2020-03-02T18:02:29.326369Z"
    }
   },
   "outputs": [
    {
     "data": {
      "text/plain": [
       "1"
      ]
     },
     "execution_count": 29,
     "metadata": {},
     "output_type": "execute_result"
    }
   ],
   "source": [
    "arr.min()"
   ]
  },
  {
   "cell_type": "code",
   "execution_count": null,
   "metadata": {},
   "outputs": [],
   "source": [
    "#minimo a nivel filas "
   ]
  },
  {
   "cell_type": "code",
   "execution_count": 30,
   "metadata": {
    "ExecuteTime": {
     "end_time": "2020-03-02T18:02:39.761230Z",
     "start_time": "2020-03-02T18:02:39.755638Z"
    }
   },
   "outputs": [
    {
     "data": {
      "text/plain": [
       "array([1, 2, 1])"
      ]
     },
     "execution_count": 30,
     "metadata": {},
     "output_type": "execute_result"
    }
   ],
   "source": [
    "arr.min(axis= 1)"
   ]
  },
  {
   "cell_type": "code",
   "execution_count": null,
   "metadata": {},
   "outputs": [],
   "source": [
    "#minimo a nivel columnas "
   ]
  },
  {
   "cell_type": "code",
   "execution_count": 32,
   "metadata": {
    "ExecuteTime": {
     "end_time": "2020-03-02T18:03:48.354739Z",
     "start_time": "2020-03-02T18:03:48.346606Z"
    }
   },
   "outputs": [
    {
     "data": {
      "text/plain": [
       "array([1, 1, 2])"
      ]
     },
     "execution_count": 32,
     "metadata": {},
     "output_type": "execute_result"
    }
   ],
   "source": [
    "arr.min(axis=0)"
   ]
  },
  {
   "cell_type": "code",
   "execution_count": null,
   "metadata": {},
   "outputs": [],
   "source": [
    "#sumar todos los elementos"
   ]
  },
  {
   "cell_type": "code",
   "execution_count": 33,
   "metadata": {
    "ExecuteTime": {
     "end_time": "2020-03-02T18:04:08.162226Z",
     "start_time": "2020-03-02T18:04:08.151019Z"
    }
   },
   "outputs": [
    {
     "data": {
      "text/plain": [
       "38"
      ]
     },
     "execution_count": 33,
     "metadata": {},
     "output_type": "execute_result"
    }
   ],
   "source": [
    "arr.sum()"
   ]
  },
  {
   "cell_type": "code",
   "execution_count": null,
   "metadata": {},
   "outputs": [],
   "source": [
    "#sumar a nivel filas"
   ]
  },
  {
   "cell_type": "code",
   "execution_count": 34,
   "metadata": {
    "ExecuteTime": {
     "end_time": "2020-03-02T18:04:23.980825Z",
     "start_time": "2020-03-02T18:04:23.971251Z"
    }
   },
   "outputs": [
    {
     "data": {
      "text/plain": [
       "array([12, 13, 13])"
      ]
     },
     "execution_count": 34,
     "metadata": {},
     "output_type": "execute_result"
    }
   ],
   "source": [
    "arr.sum(axis=1)"
   ]
  },
  {
   "cell_type": "code",
   "execution_count": null,
   "metadata": {},
   "outputs": [],
   "source": [
    "#sumar a nivel columnas"
   ]
  },
  {
   "cell_type": "code",
   "execution_count": 35,
   "metadata": {
    "ExecuteTime": {
     "end_time": "2020-03-02T18:04:42.080772Z",
     "start_time": "2020-03-02T18:04:42.074763Z"
    }
   },
   "outputs": [
    {
     "data": {
      "text/plain": [
       "array([ 8, 13, 17])"
      ]
     },
     "execution_count": 35,
     "metadata": {},
     "output_type": "execute_result"
    }
   ],
   "source": [
    "arr.sum(axis = 0)"
   ]
  },
  {
   "cell_type": "code",
   "execution_count": null,
   "metadata": {},
   "outputs": [],
   "source": []
  },
  {
   "cell_type": "code",
   "execution_count": 2,
   "metadata": {
    "ExecuteTime": {
     "end_time": "2020-03-02T17:21:20.257020Z",
     "start_time": "2020-03-02T17:21:20.248937Z"
    }
   },
   "outputs": [
    {
     "name": "stdout",
     "output_type": "stream",
     "text": [
      "[[1 5 6]\n",
      " [4 7 2]\n",
      " [3 1 9]]\n"
     ]
    }
   ],
   "source": [
    "print(arr)"
   ]
  },
  {
   "cell_type": "code",
   "execution_count": 3,
   "metadata": {
    "ExecuteTime": {
     "end_time": "2020-03-02T17:21:24.646915Z",
     "start_time": "2020-03-02T17:21:24.638557Z"
    }
   },
   "outputs": [
    {
     "name": "stdout",
     "output_type": "stream",
     "text": [
      "el mayor elemento del array es: 9\n",
      "los mayores elementos a nivel fila son: [6 7 9]\n",
      "los elementos menores a nivel columnas son: [1 1 2]\n",
      "Suma de todos los elementos de un array: 38\n",
      "Suma de los elementos de las filas de un array: [ 8 13 17]\n",
      "Suma de los elementos de las columnas de un array: [12 13 13]\n",
      "Suma cumulativa a lo largo de cada fila  :\n",
      " [[ 1  6 12]\n",
      " [ 4 11 13]\n",
      " [ 3  4 13]]\n",
      "Suma cumulativa a lo largo de cada columna  :\n",
      " [[ 1  5  6]\n",
      " [ 5 12  8]\n",
      " [ 8 13 17]]\n"
     ]
    }
   ],
   "source": [
    "# elemento máximo de un array\n",
    "print (\"el mayor elemento del array es:\", arr.max()) \n",
    "\n",
    "\n",
    "print (\"los mayores elementos a nivel fila son:\", \n",
    "                    arr.max(axis = 1)) \n",
    "  \n",
    "# minimum element of array \n",
    "print (\"los elementos menores a nivel columnas son:\", \n",
    "                        arr.min(axis = 0)) \n",
    "  \n",
    "# suma de todos los elementos de un array\n",
    "print (\"Suma de todos los elementos de un array:\", \n",
    "                            arr.sum()) \n",
    "# suma de todos los elementos de un array\n",
    "print (\"Suma de los elementos de las filas de un array:\", \n",
    "                            arr.sum(axis=0)) \n",
    "# suma de todos los elementos de un array\n",
    "print (\"Suma de los elementos de las columnas de un array:\", \n",
    "                            arr.sum(axis=1)) \n",
    "# Suma cumulativa a lo largo de cada fila\n",
    "print (\"Suma cumulativa a lo largo de cada fila  :\\n\", \n",
    "                        arr.cumsum(axis =1))\n",
    "\n",
    "# Suma cumulativa a lo largo de cada columna\n",
    "print (\"Suma cumulativa a lo largo de cada columna  :\\n\", \n",
    "                        arr.cumsum(axis =0))"
   ]
  },
  {
   "cell_type": "markdown",
   "metadata": {},
   "source": [
    "### Operadores binarios entre arrays element-wise"
   ]
  },
  {
   "cell_type": "markdown",
   "metadata": {},
   "source": [
    "Estas operaciones aplican a nivel elemento para cada array, creando un nuevo array. \n",
    "\n",
    "- puedes usar los operadores aritméticos básicos *+, -, /, ** etc.\n",
    "- o bien usar *+=, -=, =* modificando el array original directamente"
   ]
  },
  {
   "cell_type": "markdown",
   "metadata": {},
   "source": [
    "**Importante!** Para poder realizar operaciones entre arrays elemento a elemento, es **necesario que los arrays tengan las mismas dimensiones**.\n",
    "\n",
    "Eso es, si quiero sumar el array a, de dimensiones *(n,m)*; y el array b, de dimensiones *(x,y)*; tiene que cumplirse la condición:\n",
    "- n = x; es decir mismo nº de filas\n",
    "- m = y; es decir mismo nº de columnas"
   ]
  },
  {
   "cell_type": "markdown",
   "metadata": {},
   "source": [
    "#### Operaciones básicas entre arrays 1-d"
   ]
  },
  {
   "cell_type": "markdown",
   "metadata": {},
   "source": [
    "##### Suma"
   ]
  },
  {
   "cell_type": "markdown",
   "metadata": {},
   "source": [
    "![title](https://miro.medium.com/max/2600/0*MJQHbOKHoGHOxTkh.png)"
   ]
  },
  {
   "cell_type": "markdown",
   "metadata": {},
   "source": [
    "![title](https://miro.medium.com/max/2600/0*mhB3M8sguYSD3-He.png)"
   ]
  },
  {
   "cell_type": "markdown",
   "metadata": {},
   "source": [
    "##### EJEMPLO: Resta, multiplicación y división"
   ]
  },
  {
   "cell_type": "markdown",
   "metadata": {},
   "source": [
    "![title](https://miro.medium.com/max/2600/0*4lIFKM8lXAmP9vo9.png)"
   ]
  },
  {
   "cell_type": "markdown",
   "metadata": {},
   "source": [
    "#### Operaciones básicas entre arrays n-dimensiones"
   ]
  },
  {
   "cell_type": "markdown",
   "metadata": {},
   "source": [
    "Puedes sumar arrays 2-d (o matrices) **si o sólo si tienen el mismo tamaño**."
   ]
  },
  {
   "cell_type": "markdown",
   "metadata": {},
   "source": [
    "![title](https://miro.medium.com/max/2600/0*qCK1gA1VV0J9Igad.png)"
   ]
  },
  {
   "cell_type": "markdown",
   "metadata": {},
   "source": [
    "**Excepción! Para sumar elementos o arrays 1d** Si una de las matrices tine un sola fila o columna, NumPy **las reglas de broadcast** para realizar la operación:"
   ]
  },
  {
   "cell_type": "markdown",
   "metadata": {},
   "source": [
    "![title](https://miro.medium.com/max/2600/0*CiwS3M0zwkwVjWkb.png)"
   ]
  },
  {
   "cell_type": "code",
   "execution_count": 27,
   "metadata": {
    "ExecuteTime": {
     "end_time": "2021-01-17T15:55:01.391090Z",
     "start_time": "2021-01-17T15:55:01.370796Z"
    }
   },
   "outputs": [
    {
     "name": "stdout",
     "output_type": "stream",
     "text": [
      "a = [[1 2]\n",
      " [3 4]\n",
      " [1 2]]\n"
     ]
    }
   ],
   "source": [
    "a = np.array([[1, 2], \n",
    "              [3, 4],\n",
    "             [1,2]]) \n",
    "print(\"a =\",a)"
   ]
  },
  {
   "cell_type": "code",
   "execution_count": 33,
   "metadata": {
    "ExecuteTime": {
     "end_time": "2021-01-17T15:56:44.494935Z",
     "start_time": "2021-01-17T15:56:44.486347Z"
    }
   },
   "outputs": [
    {
     "name": "stdout",
     "output_type": "stream",
     "text": [
      "b = [1 1]\n"
     ]
    }
   ],
   "source": [
    "b = np.array([1, 1]) \n",
    "print(\"b =\",b)"
   ]
  },
  {
   "cell_type": "code",
   "execution_count": 34,
   "metadata": {
    "ExecuteTime": {
     "end_time": "2021-01-17T15:56:45.177766Z",
     "start_time": "2021-01-17T15:56:45.169148Z"
    }
   },
   "outputs": [
    {
     "data": {
      "text/plain": [
       "array([[2, 3],\n",
       "       [4, 5],\n",
       "       [2, 3]])"
      ]
     },
     "execution_count": 34,
     "metadata": {},
     "output_type": "execute_result"
    }
   ],
   "source": [
    "a + b "
   ]
  },
  {
   "cell_type": "markdown",
   "metadata": {},
   "source": [
    "##### EJEMPLO: con array n-dimensionales"
   ]
  },
  {
   "cell_type": "code",
   "execution_count": 39,
   "metadata": {
    "ExecuteTime": {
     "end_time": "2021-02-03T22:50:11.824688Z",
     "start_time": "2021-02-03T22:50:11.800576Z"
    }
   },
   "outputs": [
    {
     "name": "stdout",
     "output_type": "stream",
     "text": [
      "a = [[1 2]\n",
      " [3 4]]\n",
      "b = [[  1  34]\n",
      " [-11   1]]\n"
     ]
    }
   ],
   "source": [
    "a = np.array([[1, 2], \n",
    "            [3, 4]]) \n",
    "print(\"a =\",a)\n",
    "\n",
    "b = np.array([[1, 34], \n",
    "            [-11, 1]]) \n",
    "print(\"b =\", b)"
   ]
  },
  {
   "cell_type": "code",
   "execution_count": 40,
   "metadata": {
    "ExecuteTime": {
     "end_time": "2021-02-03T22:50:18.573563Z",
     "start_time": "2021-02-03T22:50:18.567679Z"
    }
   },
   "outputs": [],
   "source": [
    "# suma a y b"
   ]
  },
  {
   "cell_type": "code",
   "execution_count": 41,
   "metadata": {
    "ExecuteTime": {
     "end_time": "2021-02-03T22:50:19.353209Z",
     "start_time": "2021-02-03T22:50:19.340298Z"
    }
   },
   "outputs": [
    {
     "data": {
      "text/plain": [
       "array([[ 2, 36],\n",
       "       [-8,  5]])"
      ]
     },
     "execution_count": 41,
     "metadata": {},
     "output_type": "execute_result"
    }
   ],
   "source": [
    "a + b "
   ]
  },
  {
   "cell_type": "code",
   "execution_count": 42,
   "metadata": {
    "ExecuteTime": {
     "end_time": "2021-02-03T22:50:26.630712Z",
     "start_time": "2021-02-03T22:50:26.623396Z"
    }
   },
   "outputs": [],
   "source": [
    "# resta b de a "
   ]
  },
  {
   "cell_type": "code",
   "execution_count": 43,
   "metadata": {
    "ExecuteTime": {
     "end_time": "2021-02-03T22:50:27.043730Z",
     "start_time": "2021-02-03T22:50:27.026703Z"
    }
   },
   "outputs": [
    {
     "data": {
      "text/plain": [
       "array([[  0, -32],\n",
       "       [ 14,   3]])"
      ]
     },
     "execution_count": 43,
     "metadata": {},
     "output_type": "execute_result"
    }
   ],
   "source": [
    "a - b "
   ]
  },
  {
   "cell_type": "code",
   "execution_count": 44,
   "metadata": {
    "ExecuteTime": {
     "end_time": "2021-02-03T22:50:27.865130Z",
     "start_time": "2021-02-03T22:50:27.859545Z"
    }
   },
   "outputs": [],
   "source": [
    "# multiplica a por b"
   ]
  },
  {
   "cell_type": "code",
   "execution_count": 45,
   "metadata": {
    "ExecuteTime": {
     "end_time": "2021-02-03T22:50:29.718441Z",
     "start_time": "2021-02-03T22:50:29.707821Z"
    }
   },
   "outputs": [
    {
     "data": {
      "text/plain": [
       "array([[  1,  68],\n",
       "       [-33,   4]])"
      ]
     },
     "execution_count": 45,
     "metadata": {},
     "output_type": "execute_result"
    }
   ],
   "source": [
    "a * b "
   ]
  },
  {
   "cell_type": "code",
   "execution_count": 46,
   "metadata": {
    "ExecuteTime": {
     "end_time": "2021-02-03T22:50:40.083436Z",
     "start_time": "2021-02-03T22:50:40.068730Z"
    }
   },
   "outputs": [],
   "source": [
    "# divide a por b"
   ]
  },
  {
   "cell_type": "code",
   "execution_count": 47,
   "metadata": {
    "ExecuteTime": {
     "end_time": "2021-02-03T22:50:40.474195Z",
     "start_time": "2021-02-03T22:50:40.446192Z"
    }
   },
   "outputs": [
    {
     "data": {
      "text/plain": [
       "array([[ 1.        ,  0.05882353],\n",
       "       [-0.27272727,  4.        ]])"
      ]
     },
     "execution_count": 47,
     "metadata": {},
     "output_type": "execute_result"
    }
   ],
   "source": [
    "a / b"
   ]
  },
  {
   "cell_type": "code",
   "execution_count": 31,
   "metadata": {
    "ExecuteTime": {
     "end_time": "2020-03-02T18:03:12.727324Z",
     "start_time": "2020-03-02T18:03:12.723385Z"
    }
   },
   "outputs": [],
   "source": [
    "arr.min?"
   ]
  },
  {
   "cell_type": "code",
   "execution_count": null,
   "metadata": {},
   "outputs": [],
   "source": [
    "arr.min(1)"
   ]
  },
  {
   "cell_type": "code",
   "execution_count": 48,
   "metadata": {
    "ExecuteTime": {
     "end_time": "2021-02-03T22:50:46.764871Z",
     "start_time": "2021-02-03T22:50:46.742577Z"
    }
   },
   "outputs": [
    {
     "name": "stdout",
     "output_type": "stream",
     "text": [
      "Suma arrays a +b :\n",
      " [[ 2 36]\n",
      " [-8  5]]\n"
     ]
    }
   ],
   "source": [
    "# suma arrays \n",
    "print (\"Suma arrays a +b :\\n\", a + b)   "
   ]
  },
  {
   "cell_type": "code",
   "execution_count": 50,
   "metadata": {
    "ExecuteTime": {
     "end_time": "2021-02-03T22:51:12.577478Z",
     "start_time": "2021-02-03T22:51:12.560634Z"
    }
   },
   "outputs": [
    {
     "name": "stdout",
     "output_type": "stream",
     "text": [
      "Resta arrays a - b :\n",
      " [[  0 -32]\n",
      " [ 14   3]]\n"
     ]
    }
   ],
   "source": [
    "# resta arrays \n",
    "print (\"Resta arrays a - b :\\n\", a - b) "
   ]
  },
  {
   "cell_type": "code",
   "execution_count": 51,
   "metadata": {
    "ExecuteTime": {
     "end_time": "2021-02-03T22:51:26.805036Z",
     "start_time": "2021-02-03T22:51:26.788946Z"
    }
   },
   "outputs": [
    {
     "name": "stdout",
     "output_type": "stream",
     "text": [
      "Multiplicación arrays:\n",
      " [[  1  68]\n",
      " [-33   4]]\n"
     ]
    }
   ],
   "source": [
    "# multiplica arrays (elementwise ) \n",
    "print (\"Multiplicación arrays:\\n\", a*b) "
   ]
  },
  {
   "cell_type": "code",
   "execution_count": 52,
   "metadata": {
    "ExecuteTime": {
     "end_time": "2021-02-03T22:51:30.183105Z",
     "start_time": "2021-02-03T22:51:30.144701Z"
    }
   },
   "outputs": [
    {
     "name": "stdout",
     "output_type": "stream",
     "text": [
      "Multiplicación matricial:\n",
      " [[-21  36]\n",
      " [-41 106]]\n"
     ]
    }
   ],
   "source": [
    "# multiplicación matricial \n",
    "print (\"Multiplicación matricial:\\n\", a.dot(b)) "
   ]
  },
  {
   "cell_type": "markdown",
   "metadata": {},
   "source": [
    "### Operaciones mediante funciones universales "
   ]
  },
  {
   "cell_type": "markdown",
   "metadata": {},
   "source": [
    "NumPy proporciona funciones matemáticas análogas a los operadores que hemos visto:\n"
   ]
  },
  {
   "cell_type": "markdown",
   "metadata": {},
   "source": [
    "|Operador |Función| \n",
    "|:---|:---| \n",
    "|+| np.add()|\n",
    "|-| np.sutract()|\n",
    "|* | np.multiply()|\n",
    "|/| np.divide()|\n",
    "|+ constante| np.sum()|"
   ]
  },
  {
   "cell_type": "markdown",
   "metadata": {},
   "source": [
    "Además, NumPy ofrece funciones matemáticas built-in como el *sin,cos,exp*, etc."
   ]
  },
  {
   "cell_type": "markdown",
   "metadata": {},
   "source": [
    "##### EJEMPLO"
   ]
  },
  {
   "cell_type": "code",
   "execution_count": 35,
   "metadata": {
    "ExecuteTime": {
     "end_time": "2021-01-17T16:39:38.576440Z",
     "start_time": "2021-01-17T16:39:38.568937Z"
    }
   },
   "outputs": [
    {
     "name": "stdout",
     "output_type": "stream",
     "text": [
      " calcula el seno del array: [0.0000000e+00 1.0000000e+00 1.2246468e-16]\n",
      "Exponente del array : [ 1.          2.71828183  7.3890561  20.08553692]\n",
      "Raiz cuadrada del array: [0.         1.         1.41421356 1.73205081]\n"
     ]
    }
   ],
   "source": [
    "# crea un array de seno\n",
    "a = np.array([0, np.pi/2, np.pi]) \n",
    "print (\" calcula el seno del array:\", np.sin(a)) \n",
    "  \n",
    "# valores exponenciales\n",
    "a = np.array([0, 1, 2, 3]) \n",
    "print (\"Exponente del array :\", np.exp(a)) \n",
    "  \n",
    "# raiz cuadrada del array\n",
    "print (\"Raiz cuadrada del array:\", np.sqrt(a)) "
   ]
  },
  {
   "cell_type": "code",
   "execution_count": null,
   "metadata": {},
   "outputs": [],
   "source": [
    "# Búsquemos como aplicar el logaritmo natural a todo nuestro array"
   ]
  },
  {
   "cell_type": "markdown",
   "metadata": {},
   "source": [
    "## Métodos sobre arrays"
   ]
  },
  {
   "cell_type": "markdown",
   "metadata": {
    "ExecuteTime": {
     "end_time": "2020-02-09T17:59:52.593641Z",
     "start_time": "2020-02-09T17:59:52.589626Z"
    }
   },
   "source": [
    "### reshape(): Para cambiar forma de un array"
   ]
  },
  {
   "cell_type": "markdown",
   "metadata": {},
   "source": [
    "El método reshape() nos permite cambiar disposición de un array, siempre que no cambiemos el tamaño del array.\n"
   ]
  },
  {
   "cell_type": "markdown",
   "metadata": {},
   "source": [
    "Sea el array original (a1,a2,...,an) y el nuevo array sea de forma (b1,b2,...,bm); tiene que cumplirse"
   ]
  },
  {
   "cell_type": "markdown",
   "metadata": {},
   "source": [
    "a1 x a2 x .. x an = b1 x b2 x ... x bm"
   ]
  },
  {
   "cell_type": "markdown",
   "metadata": {},
   "source": [
    "##### EJEMPLO: De array 3x4 a array 2x2x3"
   ]
  },
  {
   "cell_type": "code",
   "execution_count": 54,
   "metadata": {
    "ExecuteTime": {
     "end_time": "2021-02-03T22:56:43.079350Z",
     "start_time": "2021-02-03T22:56:43.064179Z"
    }
   },
   "outputs": [],
   "source": [
    "array_1 = np.array([[1, 2, 3, 4], \n",
    "                [5, 2, 4, 2], \n",
    "                [1, 2, 0, 1]]) \n"
   ]
  },
  {
   "cell_type": "code",
   "execution_count": 55,
   "metadata": {
    "ExecuteTime": {
     "end_time": "2021-02-03T22:56:43.495604Z",
     "start_time": "2021-02-03T22:56:43.472371Z"
    }
   },
   "outputs": [
    {
     "data": {
      "text/plain": [
       "(3, 4)"
      ]
     },
     "execution_count": 55,
     "metadata": {},
     "output_type": "execute_result"
    }
   ],
   "source": [
    "array_1.shape"
   ]
  },
  {
   "cell_type": "code",
   "execution_count": 56,
   "metadata": {
    "ExecuteTime": {
     "end_time": "2021-02-03T22:56:44.055470Z",
     "start_time": "2021-02-03T22:56:44.039359Z"
    }
   },
   "outputs": [
    {
     "data": {
      "text/plain": [
       "12"
      ]
     },
     "execution_count": 56,
     "metadata": {},
     "output_type": "execute_result"
    }
   ],
   "source": [
    "array_1.size"
   ]
  },
  {
   "cell_type": "code",
   "execution_count": 57,
   "metadata": {
    "ExecuteTime": {
     "end_time": "2021-02-03T22:56:44.610120Z",
     "start_time": "2021-02-03T22:56:44.586293Z"
    }
   },
   "outputs": [],
   "source": [
    "np.reshape?"
   ]
  },
  {
   "cell_type": "code",
   "execution_count": 59,
   "metadata": {
    "ExecuteTime": {
     "end_time": "2021-02-03T22:56:49.811048Z",
     "start_time": "2021-02-03T22:56:49.803031Z"
    }
   },
   "outputs": [],
   "source": [
    "array_2 = array_1.reshape(2, 2, 3) #array 3 dimensiones"
   ]
  },
  {
   "cell_type": "code",
   "execution_count": 60,
   "metadata": {
    "ExecuteTime": {
     "end_time": "2021-02-03T22:56:50.493029Z",
     "start_time": "2021-02-03T22:56:50.471269Z"
    }
   },
   "outputs": [
    {
     "data": {
      "text/plain": [
       "(2, 2, 3)"
      ]
     },
     "execution_count": 60,
     "metadata": {},
     "output_type": "execute_result"
    }
   ],
   "source": [
    "array_2.shape"
   ]
  },
  {
   "cell_type": "code",
   "execution_count": 61,
   "metadata": {
    "ExecuteTime": {
     "end_time": "2021-02-03T22:57:12.420541Z",
     "start_time": "2021-02-03T22:57:12.408339Z"
    }
   },
   "outputs": [
    {
     "data": {
      "text/plain": [
       "array([[[1, 2, 3],\n",
       "        [4, 5, 2]],\n",
       "\n",
       "       [[4, 2, 1],\n",
       "        [2, 0, 1]]])"
      ]
     },
     "execution_count": 61,
     "metadata": {},
     "output_type": "execute_result"
    }
   ],
   "source": [
    "array_2"
   ]
  },
  {
   "cell_type": "code",
   "execution_count": 216,
   "metadata": {
    "ExecuteTime": {
     "end_time": "2020-02-09T18:06:24.160377Z",
     "start_time": "2020-02-09T18:06:24.153478Z"
    }
   },
   "outputs": [
    {
     "data": {
      "text/plain": [
       "True"
      ]
     },
     "execution_count": 216,
     "metadata": {},
     "output_type": "execute_result"
    }
   ],
   "source": [
    "#check condition\n",
    "array_2.size == array_1.size"
   ]
  },
  {
   "cell_type": "code",
   "execution_count": 217,
   "metadata": {
    "ExecuteTime": {
     "end_time": "2020-02-09T18:06:43.222158Z",
     "start_time": "2020-02-09T18:06:43.217811Z"
    }
   },
   "outputs": [
    {
     "name": "stdout",
     "output_type": "stream",
     "text": [
      "[[[1 2 3]\n",
      "  [4 5 2]]\n",
      "\n",
      " [[4 2 1]\n",
      "  [2 0 1]]]\n"
     ]
    }
   ],
   "source": [
    "print(array_2)"
   ]
  },
  {
   "cell_type": "markdown",
   "metadata": {},
   "source": [
    "![title](https://miro.medium.com/max/2600/0*TouotSs26S5qUHSx.png)"
   ]
  },
  {
   "cell_type": "markdown",
   "metadata": {},
   "source": [
    "### flatten(): Colapsar array en 1d"
   ]
  },
  {
   "cell_type": "markdown",
   "metadata": {},
   "source": [
    "El método flatten() nos permite colapsar la copia de un array en 1-dimensión. \n",
    "- El valor predeterminado es 'C', que predomina orden de filas\n",
    "- El valor 'F' es para que predomine el orden de columnas"
   ]
  },
  {
   "cell_type": "code",
   "execution_count": 69,
   "metadata": {
    "ExecuteTime": {
     "end_time": "2021-02-03T23:00:12.809242Z",
     "start_time": "2021-02-03T23:00:12.785398Z"
    }
   },
   "outputs": [
    {
     "name": "stdout",
     "output_type": "stream",
     "text": [
      "\n",
      "Original array:\n",
      " [[1 2 3]\n",
      " [4 5 6]]\n",
      "Fattened array:\n",
      " [1 2 3 4 5 6]\n"
     ]
    }
   ],
   "source": [
    "# Flatten array \n",
    "arr = np.array([[1, 2, 3], [4, 5, 6]]) \n",
    "flarr = arr.flatten('C')\n",
    "  \n",
    "print (\"\\nOriginal array:\\n\", arr) \n",
    "print (\"Fattened array:\\n\", flarr) "
   ]
  },
  {
   "cell_type": "markdown",
   "metadata": {},
   "source": [
    "### T(), transpose(): Transponer un array"
   ]
  },
  {
   "cell_type": "markdown",
   "metadata": {},
   "source": [
    "Los arrays de NumPy tienen la propiedad T() de poder transponer o rotar una matriz"
   ]
  },
  {
   "cell_type": "markdown",
   "metadata": {},
   "source": [
    "##### EJEMPLO"
   ]
  },
  {
   "cell_type": "code",
   "execution_count": 42,
   "metadata": {
    "ExecuteTime": {
     "end_time": "2021-01-17T16:54:03.911625Z",
     "start_time": "2021-01-17T16:54:03.892614Z"
    }
   },
   "outputs": [
    {
     "name": "stdout",
     "output_type": "stream",
     "text": [
      "[[1 2]\n",
      " [3 4]\n",
      " [5 6]]\n"
     ]
    }
   ],
   "source": [
    "data = np.array([[1,2],[3,4],[5,6]])\n",
    "print(data)"
   ]
  },
  {
   "cell_type": "code",
   "execution_count": 45,
   "metadata": {
    "ExecuteTime": {
     "end_time": "2021-01-17T16:54:45.095065Z",
     "start_time": "2021-01-17T16:54:45.083182Z"
    }
   },
   "outputs": [
    {
     "name": "stdout",
     "output_type": "stream",
     "text": [
      "[[1 3 5]\n",
      " [2 4 6]]\n"
     ]
    }
   ],
   "source": [
    "print(data.T)"
   ]
  },
  {
   "cell_type": "markdown",
   "metadata": {
    "ExecuteTime": {
     "end_time": "2020-02-09T19:35:45.757674Z",
     "start_time": "2020-02-09T19:35:45.602749Z"
    }
   },
   "source": [
    "![title](https://miro.medium.com/max/2600/0*B7iHUt5iozdAUTMU.png)"
   ]
  },
  {
   "cell_type": "markdown",
   "metadata": {},
   "source": [
    "Otra opción, es la función np.transpose()"
   ]
  },
  {
   "cell_type": "code",
   "execution_count": 44,
   "metadata": {
    "ExecuteTime": {
     "end_time": "2021-01-17T16:54:24.782076Z",
     "start_time": "2021-01-17T16:54:24.767581Z"
    }
   },
   "outputs": [
    {
     "name": "stdout",
     "output_type": "stream",
     "text": [
      "[[1 3 5]\n",
      " [2 4 6]]\n"
     ]
    }
   ],
   "source": [
    "print(data.transpose())"
   ]
  },
  {
   "cell_type": "markdown",
   "metadata": {},
   "source": [
    "### flip(): revertir un array a lo largo del eje"
   ]
  },
  {
   "cell_type": "markdown",
   "metadata": {},
   "source": [
    "##### En un array 1-d"
   ]
  },
  {
   "cell_type": "code",
   "execution_count": 47,
   "metadata": {
    "ExecuteTime": {
     "end_time": "2021-01-17T16:55:49.819430Z",
     "start_time": "2021-01-17T16:55:49.808427Z"
    }
   },
   "outputs": [
    {
     "name": "stdout",
     "output_type": "stream",
     "text": [
      "[ 1  2  3 14  5  6  7  8]\n",
      "[ 8  7  6  5 14  3  2  1]\n"
     ]
    }
   ],
   "source": [
    "a = np.array([1, 2, 3, 14, 5, 6, 7, 8])\n",
    "print(a)\n",
    "print(np.flip(a))"
   ]
  },
  {
   "cell_type": "markdown",
   "metadata": {
    "ExecuteTime": {
     "end_time": "2020-02-09T19:56:07.067059Z",
     "start_time": "2020-02-09T19:56:07.061320Z"
    }
   },
   "source": [
    "##### En un array 2-d"
   ]
  },
  {
   "cell_type": "code",
   "execution_count": 48,
   "metadata": {
    "ExecuteTime": {
     "end_time": "2021-01-17T16:56:01.136976Z",
     "start_time": "2021-01-17T16:56:01.124386Z"
    }
   },
   "outputs": [
    {
     "name": "stdout",
     "output_type": "stream",
     "text": [
      "Array original: \n",
      " [[ 1  2  3  4]\n",
      " [ 5  6  7  8]\n",
      " [ 9 10 11 12]]\n",
      "Array revertido: \n",
      " [[12 11 10  9]\n",
      " [ 8  7  6  5]\n",
      " [ 4  3  2  1]]\n"
     ]
    }
   ],
   "source": [
    "arr2D = np.array([[1 , 2, 3, 4], [5, 6, 7, 8], [9, 10, 11, 12]])\n",
    "print(\"Array original: \\n\", arr2D)\n",
    "print(\"Array revertido: \\n\", np.flip(arr2D))"
   ]
  },
  {
   "cell_type": "markdown",
   "metadata": {},
   "source": [
    "También podemos escoger revertir solo las columnas, seleccionando parámetro *axis=0*:"
   ]
  },
  {
   "cell_type": "code",
   "execution_count": 308,
   "metadata": {
    "ExecuteTime": {
     "end_time": "2020-02-09T19:58:19.330861Z",
     "start_time": "2020-02-09T19:58:19.325643Z"
    }
   },
   "outputs": [
    {
     "name": "stdout",
     "output_type": "stream",
     "text": [
      "Array revertido: \n",
      " [[ 9 10 11 12]\n",
      " [ 5  6  7  8]\n",
      " [ 1  2  3  4]]\n"
     ]
    }
   ],
   "source": [
    "print(\"Array revertido: \\n\", np.flip(arr2D, axis=0))"
   ]
  },
  {
   "cell_type": "code",
   "execution_count": 310,
   "metadata": {
    "ExecuteTime": {
     "end_time": "2020-02-09T19:58:34.932458Z",
     "start_time": "2020-02-09T19:58:34.926779Z"
    }
   },
   "outputs": [
    {
     "name": "stdout",
     "output_type": "stream",
     "text": [
      "Array revertido: \n",
      " [[ 4  3  2  1]\n",
      " [ 8  7  6  5]\n",
      " [12 11 10  9]]\n"
     ]
    }
   ],
   "source": [
    "#O bien las filas\n",
    "print(\"Array revertido: \\n\", np.flip(arr2D,axis=1))"
   ]
  },
  {
   "cell_type": "markdown",
   "metadata": {},
   "source": [
    "### unique(): para sacar elementos únicos del array\n"
   ]
  },
  {
   "cell_type": "markdown",
   "metadata": {},
   "source": [
    "#### Definición"
   ]
  },
  {
   "cell_type": "markdown",
   "metadata": {},
   "source": [
    "El método unique nos sirve para sacar los valores únicos de un array"
   ]
  },
  {
   "cell_type": "markdown",
   "metadata": {},
   "source": [
    "##### EJEMPLO"
   ]
  },
  {
   "cell_type": "code",
   "execution_count": 72,
   "metadata": {
    "ExecuteTime": {
     "end_time": "2021-02-03T23:03:33.672720Z",
     "start_time": "2021-02-03T23:03:33.656833Z"
    }
   },
   "outputs": [],
   "source": [
    "a = np.array([11, 11, 12, 13, 14])"
   ]
  },
  {
   "cell_type": "code",
   "execution_count": 58,
   "metadata": {
    "ExecuteTime": {
     "end_time": "2020-03-02T18:24:08.233570Z",
     "start_time": "2020-03-02T18:24:08.227932Z"
    }
   },
   "outputs": [
    {
     "data": {
      "text/plain": [
       "5"
      ]
     },
     "execution_count": 58,
     "metadata": {},
     "output_type": "execute_result"
    }
   ],
   "source": [
    "len(a)"
   ]
  },
  {
   "cell_type": "code",
   "execution_count": 63,
   "metadata": {
    "ExecuteTime": {
     "end_time": "2020-03-02T18:26:00.217997Z",
     "start_time": "2020-03-02T18:26:00.212317Z"
    }
   },
   "outputs": [
    {
     "data": {
      "text/plain": [
       "array([11, 12, 13, 14])"
      ]
     },
     "execution_count": 63,
     "metadata": {},
     "output_type": "execute_result"
    }
   ],
   "source": [
    "#nº elementos únicos en el array a \n",
    "np.unique(a)"
   ]
  },
  {
   "cell_type": "code",
   "execution_count": 70,
   "metadata": {
    "ExecuteTime": {
     "end_time": "2021-02-03T23:02:11.127869Z",
     "start_time": "2021-02-03T23:02:11.104724Z"
    }
   },
   "outputs": [],
   "source": [
    "np.unique?"
   ]
  },
  {
   "cell_type": "code",
   "execution_count": 287,
   "metadata": {
    "ExecuteTime": {
     "end_time": "2020-02-09T19:30:43.272035Z",
     "start_time": "2020-02-09T19:30:43.264800Z"
    }
   },
   "outputs": [
    {
     "data": {
      "text/plain": [
       "array([11, 12, 13, 14, 15, 16, 17, 18, 19, 20])"
      ]
     },
     "execution_count": 287,
     "metadata": {},
     "output_type": "execute_result"
    }
   ],
   "source": [
    "np.unique(a)"
   ]
  },
  {
   "cell_type": "code",
   "execution_count": 289,
   "metadata": {
    "ExecuteTime": {
     "end_time": "2020-02-09T19:30:56.767288Z",
     "start_time": "2020-02-09T19:30:56.761849Z"
    }
   },
   "outputs": [
    {
     "data": {
      "text/plain": [
       "10"
      ]
     },
     "execution_count": 289,
     "metadata": {},
     "output_type": "execute_result"
    }
   ],
   "source": [
    "len(np.unique(a))"
   ]
  },
  {
   "cell_type": "markdown",
   "metadata": {},
   "source": [
    "#### Índices de valores únicos"
   ]
  },
  {
   "cell_type": "markdown",
   "metadata": {},
   "source": [
    "Además, el método **unique()** nos permite sacar los índices de los valores únicos en formato de lista poniendo a *True* el parámetro **return_index**"
   ]
  },
  {
   "cell_type": "code",
   "execution_count": 73,
   "metadata": {
    "ExecuteTime": {
     "end_time": "2021-02-03T23:03:36.444154Z",
     "start_time": "2021-02-03T23:03:36.428413Z"
    }
   },
   "outputs": [
    {
     "data": {
      "text/plain": [
       "array([11, 11, 12, 13, 14])"
      ]
     },
     "execution_count": 73,
     "metadata": {},
     "output_type": "execute_result"
    }
   ],
   "source": [
    "a"
   ]
  },
  {
   "cell_type": "code",
   "execution_count": 74,
   "metadata": {
    "ExecuteTime": {
     "end_time": "2021-02-03T23:03:36.939893Z",
     "start_time": "2021-02-03T23:03:36.911009Z"
    }
   },
   "outputs": [
    {
     "data": {
      "text/plain": [
       "(array([11, 12, 13, 14]), array([0, 2, 3, 4], dtype=int64))"
      ]
     },
     "execution_count": 74,
     "metadata": {},
     "output_type": "execute_result"
    }
   ],
   "source": [
    "np.unique(a, return_index=True)"
   ]
  },
  {
   "cell_type": "code",
   "execution_count": 75,
   "metadata": {
    "ExecuteTime": {
     "end_time": "2021-02-03T23:03:49.643633Z",
     "start_time": "2021-02-03T23:03:49.636668Z"
    }
   },
   "outputs": [],
   "source": [
    "lista_indices = np.unique(a, return_index=True)\n"
   ]
  },
  {
   "cell_type": "code",
   "execution_count": 67,
   "metadata": {
    "ExecuteTime": {
     "end_time": "2020-03-02T18:28:36.147921Z",
     "start_time": "2020-03-02T18:28:36.140816Z"
    }
   },
   "outputs": [],
   "source": [
    "np.unique?"
   ]
  },
  {
   "cell_type": "markdown",
   "metadata": {},
   "source": [
    "#### Frecuancia de valors únicos"
   ]
  },
  {
   "cell_type": "markdown",
   "metadata": {},
   "source": [
    "Con el parámetro **return_counts=True** obtenemos la frecuencia de aparicion de valores únicos en el array"
   ]
  },
  {
   "cell_type": "code",
   "execution_count": 69,
   "metadata": {
    "ExecuteTime": {
     "end_time": "2020-03-02T18:29:31.614930Z",
     "start_time": "2020-03-02T18:29:31.608713Z"
    }
   },
   "outputs": [
    {
     "data": {
      "text/plain": [
       "(array([11, 12, 13, 14]), array([0, 2, 3, 4]), array([2, 1, 1, 1]))"
      ]
     },
     "execution_count": 69,
     "metadata": {},
     "output_type": "execute_result"
    }
   ],
   "source": [
    "np.unique(a, return_index = True, return_counts=True)"
   ]
  },
  {
   "cell_type": "code",
   "execution_count": 70,
   "metadata": {
    "ExecuteTime": {
     "end_time": "2020-03-02T18:31:30.647870Z",
     "start_time": "2020-03-02T18:31:30.643864Z"
    }
   },
   "outputs": [],
   "source": [
    "valores_unicos, indices_unicos, frec_unicos = np.unique(a,return_index = True, return_counts=True)\n"
   ]
  },
  {
   "cell_type": "code",
   "execution_count": 72,
   "metadata": {
    "ExecuteTime": {
     "end_time": "2020-03-02T18:31:45.211768Z",
     "start_time": "2020-03-02T18:31:45.205515Z"
    }
   },
   "outputs": [
    {
     "name": "stdout",
     "output_type": "stream",
     "text": [
      "[11 12 13 14]\n",
      "[2 1 1 1]\n",
      "[0 2 3 4]\n"
     ]
    }
   ],
   "source": [
    "print(valores_unicos)\n",
    "print(frec_unicos)\n",
    "print(indices_unicos)"
   ]
  },
  {
   "cell_type": "markdown",
   "metadata": {},
   "source": [
    "### sort(): ordenar un array"
   ]
  },
  {
   "cell_type": "markdown",
   "metadata": {},
   "source": [
    "Con el método sort() podemos ordenar Numpy arrays. Veámoslo:"
   ]
  },
  {
   "cell_type": "markdown",
   "metadata": {},
   "source": [
    "#### Ordenar arrays sin etiquetas"
   ]
  },
  {
   "cell_type": "code",
   "execution_count": 75,
   "metadata": {
    "ExecuteTime": {
     "end_time": "2020-03-02T18:33:00.579404Z",
     "start_time": "2020-03-02T18:33:00.575557Z"
    }
   },
   "outputs": [],
   "source": [
    "a= np.array([[1, 4, 2], \n",
    "                 [3, 4, 6], \n",
    "              [0, -1, 5]]) "
   ]
  },
  {
   "cell_type": "code",
   "execution_count": 76,
   "metadata": {
    "ExecuteTime": {
     "end_time": "2020-03-02T18:33:04.115352Z",
     "start_time": "2020-03-02T18:33:04.110377Z"
    }
   },
   "outputs": [
    {
     "data": {
      "text/plain": [
       "array([[ 1,  4,  2],\n",
       "       [ 3,  4,  6],\n",
       "       [ 0, -1,  5]])"
      ]
     },
     "execution_count": 76,
     "metadata": {},
     "output_type": "execute_result"
    }
   ],
   "source": [
    "a"
   ]
  },
  {
   "cell_type": "code",
   "execution_count": 79,
   "metadata": {
    "ExecuteTime": {
     "end_time": "2020-03-02T18:33:22.551358Z",
     "start_time": "2020-03-02T18:33:22.545498Z"
    }
   },
   "outputs": [
    {
     "data": {
      "text/plain": [
       "array([[ 1,  2,  4],\n",
       "       [ 3,  4,  6],\n",
       "       [-1,  0,  5]])"
      ]
     },
     "execution_count": 79,
     "metadata": {},
     "output_type": "execute_result"
    }
   ],
   "source": [
    "np.sort(a)"
   ]
  },
  {
   "cell_type": "code",
   "execution_count": 80,
   "metadata": {
    "ExecuteTime": {
     "end_time": "2020-03-02T18:33:49.632247Z",
     "start_time": "2020-03-02T18:33:49.626169Z"
    }
   },
   "outputs": [
    {
     "data": {
      "text/plain": [
       "array([[-1,  0,  4],\n",
       "       [ 1,  2,  5],\n",
       "       [ 3,  4,  6]])"
      ]
     },
     "execution_count": 80,
     "metadata": {},
     "output_type": "execute_result"
    }
   ],
   "source": [
    "np.sort(a, axis = 0)"
   ]
  },
  {
   "cell_type": "code",
   "execution_count": 294,
   "metadata": {
    "ExecuteTime": {
     "end_time": "2020-02-09T19:42:52.869326Z",
     "start_time": "2020-02-09T19:42:52.860184Z"
    }
   },
   "outputs": [
    {
     "name": "stdout",
     "output_type": "stream",
     "text": [
      "ordenamos los elementos del array:\n",
      " [-1  0  1  2  3  4  4  5  6]\n",
      "ordenamos a nivel filas:\n",
      " [[ 1  2  4]\n",
      " [ 3  4  6]\n",
      " [-1  0  5]]\n",
      "ordenamos a nivel columnas mediante un algoritmo mergesort:\n",
      " [[ 0 -1  2]\n",
      " [ 1  4  5]\n",
      " [ 3  4  6]]\n"
     ]
    }
   ],
   "source": [
    "# array ordenado\n",
    "print (\"ordenamos los elementos del array:\\n\", \n",
    "                    np.sort(a, axis = None)) \n",
    "  \n",
    "# ordenamos a nivel filas\n",
    "print (\"ordenamos a nivel filas:\\n\", \n",
    "                np.sort(a, axis = 1)) \n",
    "  \n",
    "# especificamos un algoritmos de ordenación\n",
    "print (\"ordenamos a nivel columnas mediante un algoritmo mergesort:\\n\", \n",
    "            np.sort(a, axis = 0, kind = 'mergesort')) \n"
   ]
  },
  {
   "cell_type": "markdown",
   "metadata": {},
   "source": [
    "#### Ordenar arrays estructurados con etiquetas"
   ]
  },
  {
   "cell_type": "code",
   "execution_count": 3,
   "metadata": {
    "ExecuteTime": {
     "end_time": "2021-02-04T18:53:44.735333Z",
     "start_time": "2021-02-04T18:53:44.715735Z"
    }
   },
   "outputs": [
    {
     "name": "stdout",
     "output_type": "stream",
     "text": [
      "[(b'Hrithik', 2009, 8.5) (b'Ajay', 2008, 8.7) (b'Pankaj', 2008, 7.9)\n",
      " (b'Aakash', 2009, 9. )]\n"
     ]
    }
   ],
   "source": [
    "# definir alias para los dtypes\n",
    "#cada elemento (x,y) define con x el alias de la columna y con y el tipo de datos de la columna\n",
    "alias = [('name', 'S10'), ('grad_year', int), ('cgpa', float)] \n",
    "  \n",
    "#valores para rellenar el array\n",
    "valores = [('Hrithik', 2009, 8.5), ('Ajay', 2008, 8.7),  \n",
    "           ('Pankaj', 2008, 7.9), ('Aakash', 2009, 9.0)] \n",
    "             \n",
    "# creamos el array estructurado con etiquetas\n",
    "arr = np.array(valores, dtype = alias) \n",
    "print(arr)"
   ]
  },
  {
   "cell_type": "code",
   "execution_count": 4,
   "metadata": {
    "ExecuteTime": {
     "end_time": "2021-02-04T18:53:45.283810Z",
     "start_time": "2021-02-04T18:53:45.265399Z"
    }
   },
   "outputs": [
    {
     "name": "stdout",
     "output_type": "stream",
     "text": [
      "\n",
      " Array ordenado por alias = name :\n",
      " [(b'Aakash', 2009, 9. ) (b'Ajay', 2008, 8.7) (b'Hrithik', 2009, 8.5)\n",
      " (b'Pankaj', 2008, 7.9)]\n",
      "Array ordenador por 'grad_year' y después por 'cgpa':\n",
      " [(b'Pankaj', 2008, 7.9) (b'Ajay', 2008, 8.7) (b'Hrithik', 2009, 8.5)\n",
      " (b'Aakash', 2009, 9. )]\n"
     ]
    }
   ],
   "source": [
    "print (\"\\n Array ordenado por alias = name :\\n\", \n",
    "            np.sort(arr, order = 'name')) \n",
    "              \n",
    "print (\"Array ordenador por 'grad_year' y después por 'cgpa':\\n\", \n",
    "                np.sort(arr, order = ['grad_year', 'cgpa'])) \n"
   ]
  },
  {
   "cell_type": "markdown",
   "metadata": {},
   "source": [
    "# NumPy en resumen..."
   ]
  },
  {
   "cell_type": "markdown",
   "metadata": {},
   "source": [
    "## Generación arrays"
   ]
  },
  {
   "cell_type": "markdown",
   "metadata": {},
   "source": [
    "|Operator|\tDescription|\n",
    "|:---|:---| \n",
    "|np.array([1,2,3])|\t1d array|\n",
    "|np.array([(1,2,3),(4,5,6)])|\t2d array|\n",
    "|np.arange(start,stop,step)|\trange array|"
   ]
  },
  {
   "cell_type": "markdown",
   "metadata": {},
   "source": [
    "## Placeholders"
   ]
  },
  {
   "cell_type": "markdown",
   "metadata": {
    "ExecuteTime": {
     "end_time": "2020-02-09T20:02:55.909095Z",
     "start_time": "2020-02-09T20:02:55.900881Z"
    }
   },
   "source": [
    "|Operator|\tDescription|\n",
    "|:---|:---| \n",
    "|np.linspace(0,2,9)|Add evenly spaced values btw intervalto array of length|\n",
    "|np.zeros((1,2))|Create and array filled with zeros|\n",
    "|np.ones((1,2))|Creates an array filled with ones|\n",
    "|np.random.random((5,5))|Creates random array|\n",
    "|np.empty((2,2))|Creates an empty array|"
   ]
  },
  {
   "cell_type": "markdown",
   "metadata": {},
   "source": [
    "## Array"
   ]
  },
  {
   "cell_type": "markdown",
   "metadata": {},
   "source": [
    "|Syntax| Description| \n",
    "|:---|:---| \n",
    "| array.shape| Dimensions (Rows,Columns)| \n",
    "| len(array)| Length of Array| \n",
    "| array.ndim| Number of Array Dimensions| \n",
    "| array.dtype| Data Type| \n",
    "| array.astype(type)| Converts to Data Type| \n",
    "| type(array)| Type of Array| "
   ]
  },
  {
   "cell_type": "markdown",
   "metadata": {},
   "source": [
    "## Copying/sorting"
   ]
  },
  {
   "cell_type": "markdown",
   "metadata": {
    "ExecuteTime": {
     "end_time": "2020-02-09T20:16:07.589448Z",
     "start_time": "2020-02-09T20:16:07.580463Z"
    }
   },
   "source": [
    "|Operador| Description| \n",
    "|:---|:---| \n",
    "|np.copy(array)|Creates copy of array|\n",
    "|other = array.copy()|Creates deep copy of array|\n",
    "|array.sort()|Sorts an array|\n",
    "|array.sort(axis=0)|Sorts axis of array|"
   ]
  },
  {
   "cell_type": "markdown",
   "metadata": {},
   "source": [
    "## Array Manipulation"
   ]
  },
  {
   "cell_type": "markdown",
   "metadata": {},
   "source": [
    "### Adding or Removing Elements"
   ]
  },
  {
   "cell_type": "markdown",
   "metadata": {},
   "source": [
    "|Operador| Description| \n",
    "|:---|:---| \n",
    "|np.append(a,b)\t|Append items to array|\n",
    "|np.insert(array, 1, 2, axis)|\tInsert items into array at axis 0 or 1|\n",
    "|np.resize((2,4))\t|Resize array to shape(2,4)|\n",
    "|np.delete(array,1,axis)\t|Deletes items from array|"
   ]
  },
  {
   "cell_type": "markdown",
   "metadata": {},
   "source": [
    "### Combining arrays"
   ]
  },
  {
   "cell_type": "markdown",
   "metadata": {},
   "source": [
    "|Operator|\tDescription|\n",
    "|:----|:-----|\n",
    "|np.concatenate((a,b),axis=0)\t|Concatenates 2 arrays, adds to end|\n",
    "|np.vstack((a,b))\t|Stack array row-wise|\n",
    "|np.hstack((a,b))\t|Stack array column wise|\n",
    "\n"
   ]
  },
  {
   "cell_type": "markdown",
   "metadata": {},
   "source": [
    "### Splitting arrays"
   ]
  },
  {
   "cell_type": "markdown",
   "metadata": {
    "ExecuteTime": {
     "end_time": "2020-02-09T20:12:27.490491Z",
     "start_time": "2020-02-09T20:12:27.483511Z"
    }
   },
   "source": [
    "|Operator\t|Description|\n",
    "|:----|:----|\n",
    "|numpy.split()\t|Split an array into multiple sub-arrays.|\n",
    "|np.array_split(array, 3)|\tSplit an array in sub-arrays of (nearly) identical size|\n",
    "|numpy.hsplit(array, 3)\t|Split the array horizontally at 3rd index|"
   ]
  },
  {
   "cell_type": "markdown",
   "metadata": {},
   "source": [
    "### Others"
   ]
  },
  {
   "cell_type": "markdown",
   "metadata": {},
   "source": [
    "|Operator\t|Description|\n",
    "|:-----|:----|\n",
    "|other = ndarray.flatten()\t|Flattens a 2d array to 1d|\n",
    "|array = np.transpose(other)| Transpose |\n",
    "|array.T\t|Transpose array|\n",
    "|inverse = np.linalg.inv(matrix)\t|Inverse of a given matrix|\n",
    "\n"
   ]
  },
  {
   "cell_type": "markdown",
   "metadata": {},
   "source": [
    "## Mathematics"
   ]
  },
  {
   "cell_type": "markdown",
   "metadata": {},
   "source": [
    "### Operations"
   ]
  },
  {
   "cell_type": "markdown",
   "metadata": {},
   "source": [
    "|Operador|Operación\t|Description|\n",
    "|:---|:----| :----|\n",
    "|np.add(x,y)|x + y\tAddition|\n",
    "|np.substract(x,y)|x - y\t|Subtraction|\n",
    "|np.divide(x,y)|x / y|\tDivision|\n",
    "|np.multiply(x,y)|x @ y|\tMultiplication|\n",
    "|np.sqrt(x)\t|Square Root|\n",
    "|np.sin(x)\t|Element-wise sine|\n",
    "|np.cos(x)\t|Element-wise cosine|\n",
    "|np.log(x)\t|Element-wise natural log|\n",
    "|np.dot(x,y)\t|Dot product|\n",
    "|np.roots([1,0,-4])\t|Roots of a given polynomial coefficients|"
   ]
  },
  {
   "cell_type": "markdown",
   "metadata": {},
   "source": [
    "### Comparison"
   ]
  },
  {
   "cell_type": "markdown",
   "metadata": {},
   "source": [
    "|Operator\t|Description|\n",
    "|:------|:----|\n",
    "|==\t|Equal|\n",
    "|!=\t|Not equal|\n",
    "|<\t|Smaller than||\n",
    "|>\t|Greater than|\n",
    "|<=\t|Smaller than or equal|\n",
    "|>=\t|Greater than or equal|\n",
    "|np.array_equal(x,y)\t|Array-wise comparison|\n",
    "\n",
    "\n"
   ]
  },
  {
   "cell_type": "markdown",
   "metadata": {},
   "source": [
    "### Basic statistics"
   ]
  },
  {
   "cell_type": "markdown",
   "metadata": {
    "ExecuteTime": {
     "end_time": "2020-02-09T20:14:36.469322Z",
     "start_time": "2020-02-09T20:14:36.462374Z"
    }
   },
   "source": [
    "|Operator|\tDescription|\n",
    "|:----|:---|\n",
    "        |np.mean(array)\t|Mean|\n",
    "|np.median(array)\t|Median|\n",
    "|array.corrcoef()\t|Correlation Coefficient|\n",
    "|np.std(array)\t|Standard Deviation|"
   ]
  },
  {
   "cell_type": "markdown",
   "metadata": {},
   "source": [
    "### Others"
   ]
  },
  {
   "cell_type": "markdown",
   "metadata": {},
   "source": [
    "|Operator\t|Description|\n",
    "|:----|:---|\n",
    "|array.sum()\t|Array-wise sum|\n",
    "|array.min()\t|Array-wise minimum value|\n",
    "|array.max(axis=0)\t|Maximum value of specified axis|\n",
    "|array.cumsum(axis=0)|\tCumulative sum of specified axis|"
   ]
  },
  {
   "cell_type": "markdown",
   "metadata": {},
   "source": [
    "## Slicing and Subsetting"
   ]
  },
  {
   "cell_type": "markdown",
   "metadata": {},
   "source": [
    "|Operator\t|Description|\n",
    "|:-----|:----|\n",
    "|array[i]\t|1d array at index i|\n",
    "|array[i,j]\t|2d array at index[i][j]|\n",
    "|array[i<4]\t|Boolean Indexing, see Tricks|\n",
    "|array[0:3]\t|Select items of index 0, 1 and 2|\n",
    "|array[0:2,1]|\tSelect items of rows 0 and 1 at column 1|\n",
    "|array[:1]\t|Select items of row 0 (equals array[0:1, :])|\n",
    "|array[1:2, :]|\tSelect items of row 1|\n",
    "[comment]: <> |(\tarray[1,...]|\n",
    "|array[ : :-1]\t|Reverses array|"
   ]
  },
  {
   "cell_type": "markdown",
   "metadata": {},
   "source": [
    "Ejercicio: \n",
    "- Generar un array con dimensión=1  y valores del 10 al 32 con sequencia de dos en dos.\n",
    "- Tranformar el array anterior a una matriz de 4 filas x 3 columnas\n",
    "- Mostrar solo los valores de Array que sean mayores de 20\n",
    "- Verificar si la media y la mediana del mismo array son iguales.\n",
    "- Suma las filas y el maximo valor entre las columas.\n",
    "- Genera un nuevo array con los valores mayores a 20 y que sea de 3 filas x 2 columnas.\n",
    "- Multiplica el nuevo array por el anterior.\n",
    "- Genera la Transpuesta del resultado de la multiplicación.\n",
    "- Con varios arrays definidos, intenta unir dos mediante el uso del np.append y np.concatenate y conversemos las diferencias."
   ]
  },
  {
   "cell_type": "code",
   "execution_count": 64,
   "metadata": {
    "ExecuteTime": {
     "end_time": "2021-02-04T21:16:13.815758Z",
     "start_time": "2021-02-04T21:16:13.796645Z"
    }
   },
   "outputs": [
    {
     "data": {
      "text/plain": [
       "array([10, 12, 14, 16, 18, 20, 22, 24, 26, 28, 30, 32])"
      ]
     },
     "execution_count": 64,
     "metadata": {},
     "output_type": "execute_result"
    }
   ],
   "source": [
    "arr = np.arange(10, 33, 2)\n",
    "arr"
   ]
  },
  {
   "cell_type": "code",
   "execution_count": 65,
   "metadata": {
    "ExecuteTime": {
     "end_time": "2021-02-04T21:16:14.304745Z",
     "start_time": "2021-02-04T21:16:14.284547Z"
    }
   },
   "outputs": [
    {
     "data": {
      "text/plain": [
       "array([[10, 12, 14],\n",
       "       [16, 18, 20],\n",
       "       [22, 24, 26],\n",
       "       [28, 30, 32]])"
      ]
     },
     "execution_count": 65,
     "metadata": {},
     "output_type": "execute_result"
    }
   ],
   "source": [
    "n_arr = arr.reshape((4,3))\n",
    "n_arr"
   ]
  },
  {
   "cell_type": "code",
   "execution_count": 77,
   "metadata": {
    "ExecuteTime": {
     "end_time": "2021-02-04T21:17:21.980071Z",
     "start_time": "2021-02-04T21:17:21.961344Z"
    }
   },
   "outputs": [
    {
     "data": {
      "text/plain": [
       "array([22, 24, 26, 28, 30, 32])"
      ]
     },
     "execution_count": 77,
     "metadata": {},
     "output_type": "execute_result"
    }
   ],
   "source": [
    "n_arr[n_arr>20]"
   ]
  },
  {
   "cell_type": "code",
   "execution_count": 66,
   "metadata": {
    "ExecuteTime": {
     "end_time": "2021-02-04T21:16:14.808867Z",
     "start_time": "2021-02-04T21:16:14.795845Z"
    }
   },
   "outputs": [
    {
     "data": {
      "text/plain": [
       "True"
      ]
     },
     "execution_count": 66,
     "metadata": {},
     "output_type": "execute_result"
    }
   ],
   "source": [
    "n_arr.mean() == np.median(n_arr)"
   ]
  },
  {
   "cell_type": "code",
   "execution_count": 67,
   "metadata": {
    "ExecuteTime": {
     "end_time": "2021-02-04T21:16:15.366220Z",
     "start_time": "2021-02-04T21:16:15.351133Z"
    }
   },
   "outputs": [
    {
     "data": {
      "text/plain": [
       "array([36, 54, 72, 90])"
      ]
     },
     "execution_count": 67,
     "metadata": {},
     "output_type": "execute_result"
    }
   ],
   "source": [
    "n_arr.sum(axis=1)"
   ]
  },
  {
   "cell_type": "code",
   "execution_count": 68,
   "metadata": {
    "ExecuteTime": {
     "end_time": "2021-02-04T21:16:15.892112Z",
     "start_time": "2021-02-04T21:16:15.884101Z"
    }
   },
   "outputs": [
    {
     "data": {
      "text/plain": [
       "array([28, 30, 32])"
      ]
     },
     "execution_count": 68,
     "metadata": {},
     "output_type": "execute_result"
    }
   ],
   "source": [
    "n_arr.max(axis=0)"
   ]
  },
  {
   "cell_type": "code",
   "execution_count": 69,
   "metadata": {
    "ExecuteTime": {
     "end_time": "2021-02-04T21:16:16.411696Z",
     "start_time": "2021-02-04T21:16:16.393074Z"
    }
   },
   "outputs": [
    {
     "data": {
      "text/plain": [
       "array([[22, 24],\n",
       "       [26, 28],\n",
       "       [30, 32]])"
      ]
     },
     "execution_count": 69,
     "metadata": {},
     "output_type": "execute_result"
    }
   ],
   "source": [
    "n_arr_o = n_arr[n_arr > 20].reshape((3,2))\n",
    "n_arr_o"
   ]
  },
  {
   "cell_type": "code",
   "execution_count": 70,
   "metadata": {
    "ExecuteTime": {
     "end_time": "2021-02-04T21:16:16.926822Z",
     "start_time": "2021-02-04T21:16:16.916272Z"
    }
   },
   "outputs": [
    {
     "data": {
      "text/plain": [
       "array([[ 952, 1024],\n",
       "       [1420, 1528],\n",
       "       [1888, 2032],\n",
       "       [2356, 2536]])"
      ]
     },
     "execution_count": 70,
     "metadata": {},
     "output_type": "execute_result"
    }
   ],
   "source": [
    "n_arr_m = np.dot(n_arr, n_arr_o )\n",
    "n_arr_m"
   ]
  },
  {
   "cell_type": "code",
   "execution_count": 71,
   "metadata": {
    "ExecuteTime": {
     "end_time": "2021-02-04T21:16:17.445844Z",
     "start_time": "2021-02-04T21:16:17.433823Z"
    }
   },
   "outputs": [
    {
     "data": {
      "text/plain": [
       "array([[ 952, 1420, 1888, 2356],\n",
       "       [1024, 1528, 2032, 2536]])"
      ]
     },
     "execution_count": 71,
     "metadata": {},
     "output_type": "execute_result"
    }
   ],
   "source": [
    "n_arr_m.T"
   ]
  },
  {
   "cell_type": "code",
   "execution_count": 72,
   "metadata": {
    "ExecuteTime": {
     "end_time": "2021-02-04T21:16:17.936006Z",
     "start_time": "2021-02-04T21:16:17.926020Z"
    }
   },
   "outputs": [
    {
     "data": {
      "text/plain": [
       "array([[  22,   24],\n",
       "       [  26,   28],\n",
       "       [  30,   32],\n",
       "       [ 952, 1024],\n",
       "       [1420, 1528],\n",
       "       [1888, 2032],\n",
       "       [2356, 2536]])"
      ]
     },
     "execution_count": 72,
     "metadata": {},
     "output_type": "execute_result"
    }
   ],
   "source": [
    "np.append(n_arr_o, n_arr_m, axis=0)"
   ]
  },
  {
   "cell_type": "code",
   "execution_count": 73,
   "metadata": {
    "ExecuteTime": {
     "end_time": "2021-02-04T21:16:18.378573Z",
     "start_time": "2021-02-04T21:16:18.366559Z"
    }
   },
   "outputs": [
    {
     "data": {
      "text/plain": [
       "array([22, 24, 26, 28, 30, 32,  1,  2,  3,  4])"
      ]
     },
     "execution_count": 73,
     "metadata": {},
     "output_type": "execute_result"
    }
   ],
   "source": [
    "np.append(n_arr_o, [[1, 2], [3, 4]])"
   ]
  },
  {
   "cell_type": "code",
   "execution_count": 74,
   "metadata": {
    "ExecuteTime": {
     "end_time": "2021-02-04T21:16:18.744218Z",
     "start_time": "2021-02-04T21:16:18.731166Z"
    }
   },
   "outputs": [
    {
     "data": {
      "text/plain": [
       "array([[  22,   24],\n",
       "       [  26,   28],\n",
       "       [  30,   32],\n",
       "       [ 952, 1024],\n",
       "       [1420, 1528],\n",
       "       [1888, 2032],\n",
       "       [2356, 2536]])"
      ]
     },
     "execution_count": 74,
     "metadata": {},
     "output_type": "execute_result"
    }
   ],
   "source": [
    "np.concatenate([n_arr_o, n_arr_m], axis=0)"
   ]
  },
  {
   "cell_type": "code",
   "execution_count": 75,
   "metadata": {
    "ExecuteTime": {
     "end_time": "2021-02-04T21:16:19.106154Z",
     "start_time": "2021-02-04T21:16:19.078101Z"
    }
   },
   "outputs": [
    {
     "ename": "ValueError",
     "evalue": "all the input array dimensions for the concatenation axis must match exactly, but along dimension 0, the array at index 0 has size 3 and the array at index 1 has size 4",
     "output_type": "error",
     "traceback": [
      "\u001b[1;31m---------------------------------------------------------------------------\u001b[0m",
      "\u001b[1;31mValueError\u001b[0m                                Traceback (most recent call last)",
      "\u001b[1;32m<ipython-input-75-2ec234793e76>\u001b[0m in \u001b[0;36m<module>\u001b[1;34m\u001b[0m\n\u001b[1;32m----> 1\u001b[1;33m \u001b[0mnp\u001b[0m\u001b[1;33m.\u001b[0m\u001b[0mconcatenate\u001b[0m\u001b[1;33m(\u001b[0m\u001b[1;33m[\u001b[0m\u001b[0mn_arr_o\u001b[0m\u001b[1;33m,\u001b[0m \u001b[0mn_arr_m\u001b[0m\u001b[1;33m]\u001b[0m\u001b[1;33m,\u001b[0m \u001b[0maxis\u001b[0m\u001b[1;33m=\u001b[0m\u001b[1;36m1\u001b[0m\u001b[1;33m)\u001b[0m\u001b[1;33m\u001b[0m\u001b[1;33m\u001b[0m\u001b[0m\n\u001b[0m",
      "\u001b[1;32m<__array_function__ internals>\u001b[0m in \u001b[0;36mconcatenate\u001b[1;34m(*args, **kwargs)\u001b[0m\n",
      "\u001b[1;31mValueError\u001b[0m: all the input array dimensions for the concatenation axis must match exactly, but along dimension 0, the array at index 0 has size 3 and the array at index 1 has size 4"
     ]
    }
   ],
   "source": [
    "np.concatenate([n_arr_o, n_arr_m], axis=1)"
   ]
  },
  {
   "cell_type": "code",
   "execution_count": 76,
   "metadata": {
    "ExecuteTime": {
     "end_time": "2021-02-04T21:16:19.566646Z",
     "start_time": "2021-02-04T21:16:19.542499Z"
    }
   },
   "outputs": [
    {
     "ename": "TypeError",
     "evalue": "concatenate() got multiple values for argument 'axis'",
     "output_type": "error",
     "traceback": [
      "\u001b[1;31m---------------------------------------------------------------------------\u001b[0m",
      "\u001b[1;31mTypeError\u001b[0m                                 Traceback (most recent call last)",
      "\u001b[1;32m<ipython-input-76-48c9395171aa>\u001b[0m in \u001b[0;36m<module>\u001b[1;34m\u001b[0m\n\u001b[1;32m----> 1\u001b[1;33m \u001b[0mnp\u001b[0m\u001b[1;33m.\u001b[0m\u001b[0mconcatenate\u001b[0m\u001b[1;33m(\u001b[0m\u001b[0mn_arr_o\u001b[0m\u001b[1;33m,\u001b[0m \u001b[1;33m[\u001b[0m\u001b[1;36m1\u001b[0m\u001b[1;33m,\u001b[0m \u001b[1;36m2\u001b[0m\u001b[1;33m]\u001b[0m\u001b[1;33m,\u001b[0m \u001b[0maxis\u001b[0m\u001b[1;33m=\u001b[0m\u001b[1;36m1\u001b[0m\u001b[1;33m)\u001b[0m\u001b[1;33m\u001b[0m\u001b[1;33m\u001b[0m\u001b[0m\n\u001b[0m",
      "\u001b[1;32m<__array_function__ internals>\u001b[0m in \u001b[0;36mconcatenate\u001b[1;34m(*args, **kwargs)\u001b[0m\n",
      "\u001b[1;31mTypeError\u001b[0m: concatenate() got multiple values for argument 'axis'"
     ]
    }
   ],
   "source": [
    "np.concatenate(n_arr_o, [1, 2], axis=1)"
   ]
  },
  {
   "cell_type": "code",
   "execution_count": 63,
   "metadata": {
    "ExecuteTime": {
     "end_time": "2021-02-04T19:46:58.760675Z",
     "start_time": "2021-02-04T19:46:58.744309Z"
    }
   },
   "outputs": [],
   "source": [
    "np.concatenate?"
   ]
  },
  {
   "cell_type": "markdown",
   "metadata": {},
   "source": [
    "# Referencias "
   ]
  },
  {
   "cell_type": "markdown",
   "metadata": {},
   "source": [
    "[Ref1](https://www.geeksforgeeks.org/numpy-in-python-set-1-introduction/)"
   ]
  },
  {
   "cell_type": "markdown",
   "metadata": {},
   "source": [
    "https://scipy-lectures.org/intro/numpy/array_object.html#what-are-numpy-and-numpy-arrays"
   ]
  },
  {
   "cell_type": "markdown",
   "metadata": {},
   "source": [
    "https://www.kaggle.com/colinmorris/working-with-external-libraries"
   ]
  },
  {
   "cell_type": "markdown",
   "metadata": {},
   "source": [
    "https://www.youtube.com/watch?v=CqvZ3vGoGs0&list=PL-osiE80TeTt2d9bfVyTiXJA-UTHn6WwU&index=9"
   ]
  },
  {
   "cell_type": "markdown",
   "metadata": {},
   "source": [
    "https://docs.python.org/3/library/"
   ]
  },
  {
   "cell_type": "markdown",
   "metadata": {},
   "source": [
    "https://www.tutorialsteacher.com/python/python-builtin-modules"
   ]
  },
  {
   "cell_type": "markdown",
   "metadata": {},
   "source": [
    "http://cs231n.github.io/python-numpy-tutorial/#numpy"
   ]
  },
  {
   "cell_type": "markdown",
   "metadata": {},
   "source": [
    "https://www.w3resource.com/numpy/index.php"
   ]
  },
  {
   "cell_type": "markdown",
   "metadata": {},
   "source": [
    "https://www.machinelearningplus.com/python/101-numpy-exercises-python/"
   ]
  },
  {
   "cell_type": "markdown",
   "metadata": {},
   "source": [
    "https://www.edureka.co/blog/python-numpy-tutorial/"
   ]
  },
  {
   "cell_type": "markdown",
   "metadata": {},
   "source": [
    "https://www.tutorialspoint.com/numpy/numpy_quick_guide.htm"
   ]
  }
 ],
 "metadata": {
  "hide_input": false,
  "kernelspec": {
   "display_name": "Python 3",
   "language": "python",
   "name": "python3"
  },
  "language_info": {
   "codemirror_mode": {
    "name": "ipython",
    "version": 3
   },
   "file_extension": ".py",
   "mimetype": "text/x-python",
   "name": "python",
   "nbconvert_exporter": "python",
   "pygments_lexer": "ipython3",
   "version": "3.8.10"
  },
  "latex_envs": {
   "LaTeX_envs_menu_present": true,
   "autoclose": false,
   "autocomplete": true,
   "bibliofile": "biblio.bib",
   "cite_by": "apalike",
   "current_citInitial": 1,
   "eqLabelWithNumbers": true,
   "eqNumInitial": 1,
   "hotkeys": {
    "equation": "Ctrl-E",
    "itemize": "Ctrl-I"
   },
   "labels_anchors": false,
   "latex_user_defs": false,
   "report_style_numbering": false,
   "user_envs_cfg": false
  },
  "nbTranslate": {
   "displayLangs": [
    "*"
   ],
   "hotkey": "alt-t",
   "langInMainMenu": true,
   "sourceLang": "en",
   "targetLang": "fr",
   "useGoogleTranslate": true
  },
  "toc": {
   "base_numbering": 1,
   "nav_menu": {},
   "number_sections": true,
   "sideBar": true,
   "skip_h1_title": false,
   "title_cell": "Table of Contents",
   "title_sidebar": "Contents",
   "toc_cell": false,
   "toc_position": {},
   "toc_section_display": true,
   "toc_window_display": false
  },
  "varInspector": {
   "cols": {
    "lenName": 16,
    "lenType": 16,
    "lenVar": 40
   },
   "kernels_config": {
    "python": {
     "delete_cmd_postfix": "",
     "delete_cmd_prefix": "del ",
     "library": "var_list.py",
     "varRefreshCmd": "print(var_dic_list())"
    },
    "r": {
     "delete_cmd_postfix": ") ",
     "delete_cmd_prefix": "rm(",
     "library": "var_list.r",
     "varRefreshCmd": "cat(var_dic_list()) "
    }
   },
   "types_to_exclude": [
    "module",
    "function",
    "builtin_function_or_method",
    "instance",
    "_Feature"
   ],
   "window_display": false
  }
 },
 "nbformat": 4,
 "nbformat_minor": 2
}
