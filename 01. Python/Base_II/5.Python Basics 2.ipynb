{
 "cells": [
  {
   "cell_type": "markdown",
   "metadata": {},
   "source": [
    "<img src=\"Tarjeta.png\">"
   ]
  },
  {
   "cell_type": "markdown",
   "metadata": {},
   "source": [
    "# Introducción al Python 2/2"
   ]
  },
  {
   "cell_type": "markdown",
   "metadata": {},
   "source": [
    "## Operadores en Python"
   ]
  },
  {
   "cell_type": "markdown",
   "metadata": {},
   "source": [
    "Python aglutina un conjunto de operadores que actuan sobre variables y valores. \n",
    "\n",
    "Los operadores se dividen en los siguientes grupos:\n",
    "- Operadores aritméticos\n",
    "- Operadores de asignación\n",
    "- Operadores de comparación\n",
    "- Operadores lógicos\n",
    "- Operadores de identidad\n",
    "- Operadores de pertenencia\n",
    "- Operadores bitwise"
   ]
  },
  {
   "cell_type": "markdown",
   "metadata": {},
   "source": [
    "### Operadores Aritméticos"
   ]
  },
  {
   "cell_type": "markdown",
   "metadata": {
    "ExecuteTime": {
     "end_time": "2020-02-02T19:14:45.915856Z",
     "start_time": "2020-02-02T19:14:45.908668Z"
    }
   },
   "source": [
    "Los operadores aritméticos se usan con valores numéricos para realizar operaciones matemáticas comunes\n"
   ]
  },
  {
   "cell_type": "markdown",
   "metadata": {
    "cell_style": "center"
   },
   "source": [
    "| Operador | Nombre | Ejemplo |\n",
    "|:--- |:--- | :--- |\n",
    "|+ |Suma|x + y|\n",
    "|- |Resta|x - y|\n",
    "|* |Multiplicación|x * y|\n",
    "|/ |División|x / y|\n",
    "|% |Módulo|x % y|\n",
    "|** |Exponenciación|x ** y|\n",
    "|// | Division entera|x // y|"
   ]
  },
  {
   "cell_type": "markdown",
   "metadata": {},
   "source": [
    "### Operadores de Asignación"
   ]
  },
  {
   "cell_type": "markdown",
   "metadata": {},
   "source": [
    "Los operdores de asignación se usan para asignar valores a variables"
   ]
  },
  {
   "cell_type": "markdown",
   "metadata": {},
   "source": [
    "| Operador | Nombre | Análogo |\n",
    "|:--- |:--- | :--- |\n",
    "| = |x = 5|x = 5|\n",
    "|+=\t|x += 3|x = x + 3|\n",
    "|-=\t|x -= 3|x = x - 3|\n",
    "|*=\t|x *= 3|x = x * 3| \n",
    "|/=\t|x /= 3|x = x / 3|\n",
    "|%=\t|x %= 3|x = x % 3|\n",
    "|//=|x //= 3\t|x = x // 3|\n",
    "|**=|x **= 3\t|x = x ** 3|\n",
    "|&=\t|x &= 3|x = x & 3|\n",
    "|\\|=\t|x \\|= 3|x = x \\| 3|\n",
    "|^=\t|x ^= 3|x = x ^ 3|\n",
    "|>>=|x >>= 3|x = x >> 3|"
   ]
  },
  {
   "cell_type": "markdown",
   "metadata": {},
   "source": [
    "### Operadores de comparación"
   ]
  },
  {
   "cell_type": "markdown",
   "metadata": {},
   "source": [
    "Se usan para comparar dos valores distintos"
   ]
  },
  {
   "cell_type": "markdown",
   "metadata": {},
   "source": [
    "| Operador | Descripción | Ejemplo |\n",
    "|:--- |:--- | :--- |\n",
    "|==|Igual|x == y|\n",
    "|!=|No igual|x != y|\n",
    "|>|Mayor que|x > y|\n",
    "|<|Menor que |x < y|\n",
    "|>=|Mayor o igual que|x >= y|\n",
    "|<=|Menor o igual que|x <= y|"
   ]
  },
  {
   "cell_type": "markdown",
   "metadata": {},
   "source": [
    "### Operadores Lógicos"
   ]
  },
  {
   "cell_type": "markdown",
   "metadata": {},
   "source": [
    "Se usan para combinar sentencias condicionales"
   ]
  },
  {
   "cell_type": "markdown",
   "metadata": {},
   "source": [
    "| Operador | Descripción | Ejemplo |\n",
    "|--- |:--- | --- |\n",
    "|and |Devuelve True si las dos instancias son ciertas|x < 5 and  x < 10|\n",
    "|or|Devuelve True si una de las dos instancias son ciertas e|x < 5 or x < 4|\n",
    "|not|Invierte el resultado, devuelve False si el resultado no es cierto|not(x < 5 and x < 10)  |          \n",
    "            "
   ]
  },
  {
   "cell_type": "markdown",
   "metadata": {
    "ExecuteTime": {
     "end_time": "2021-01-07T19:20:32.637532Z",
     "start_time": "2021-01-07T19:20:32.633537Z"
    },
    "heading_collapsed": true
   },
   "source": [
    "##### Ejercicio: Comprobar si el valor 700 es mayor que 27^2 y menor que 9^3 y si cumple alguna de las dos condiciones"
   ]
  },
  {
   "cell_type": "code",
   "execution_count": 50,
   "metadata": {
    "ExecuteTime": {
     "end_time": "2021-01-07T19:32:05.606858Z",
     "start_time": "2021-01-07T19:32:05.596843Z"
    },
    "hidden": true
   },
   "outputs": [
    {
     "data": {
      "text/plain": [
       "False"
      ]
     },
     "execution_count": 50,
     "metadata": {},
     "output_type": "execute_result"
    }
   ],
   "source": [
    "a = 27**2\n",
    "b = 9**3\n",
    "x = 700\n",
    "x > a and x < b"
   ]
  },
  {
   "cell_type": "code",
   "execution_count": 51,
   "metadata": {
    "ExecuteTime": {
     "end_time": "2021-01-07T19:32:10.012978Z",
     "start_time": "2021-01-07T19:32:10.007983Z"
    },
    "hidden": true
   },
   "outputs": [
    {
     "data": {
      "text/plain": [
       "True"
      ]
     },
     "execution_count": 51,
     "metadata": {},
     "output_type": "execute_result"
    }
   ],
   "source": [
    "x > a or x < b"
   ]
  },
  {
   "cell_type": "markdown",
   "metadata": {},
   "source": [
    "### Operadores de identidad"
   ]
  },
  {
   "cell_type": "markdown",
   "metadata": {},
   "source": [
    "Los operadores de identidad se usan para comparar objetos, no su valor, sino si son el mismo objeto con la misma alocación de memoria"
   ]
  },
  {
   "cell_type": "markdown",
   "metadata": {},
   "source": [
    "| Operador | Descripción | Ejemplo |\n",
    "|--- |:--- | --- |\n",
    "|is |Devuelve True si las dos variables son el mismo objeto|x is y|\t\n",
    "|is not\t|Devuelve True si las dos variables No son el mismo objeto|x is not y|"
   ]
  },
  {
   "cell_type": "markdown",
   "metadata": {},
   "source": [
    "### Operadores de pertenencia"
   ]
  },
  {
   "cell_type": "markdown",
   "metadata": {},
   "source": [
    "Se usan para checkear si una secuencia aparece en un objeto"
   ]
  },
  {
   "cell_type": "markdown",
   "metadata": {},
   "source": [
    "| Operador | Descripción | Ejemplo |\n",
    "|--- |:--- | --- |\n",
    "|in |Devuelve True si la secuencia con el valor especificado aparece en el objeto|x in y|\t\n",
    "|not in\t|Devuelve True si la secuencia con el valor especifica no aparece en el objeto|x not in y|"
   ]
  },
  {
   "cell_type": "markdown",
   "metadata": {},
   "source": [
    "## Introducción a Colecciones de Datos "
   ]
  },
  {
   "cell_type": "markdown",
   "metadata": {},
   "source": [
    "Existen 4 tipos de tipos de datos compuestos o de colección:\n",
    "- **Lista**: colección de datos ordenada y modificable. Permite miembros duplicados\n",
    "- **Tupla**: colección de datos ordenada y no modificable. Permite miembros duplicados\n",
    "- **Set**: colección de datos no ordenada y no indexada. No permite miembros duplicados\n",
    "- **Diccionario**: colección de datos no ordenada, modificable e indexada. No permite miembros duplicados"
   ]
  },
  {
   "cell_type": "markdown",
   "metadata": {},
   "source": [
    "![title](https://miro.medium.com/max/4142/1*Det-kkoSw9T4IZ4XrypVNQ.png)"
   ]
  },
  {
   "cell_type": "markdown",
   "metadata": {},
   "source": [
    "Al escoger un tipo de colección, es útil entender sus propiedades. Escoger el tipo correcto para un dataset particular puede implicar retención de significado y por lo tanto, incrementar eficiencia o seguridad."
   ]
  },
  {
   "cell_type": "markdown",
   "metadata": {},
   "source": [
    "## Listas"
   ]
  },
  {
   "cell_type": "markdown",
   "metadata": {},
   "source": [
    "### Introducción y acceso a listas"
   ]
  },
  {
   "cell_type": "markdown",
   "metadata": {},
   "source": [
    "Una lista es una **colección de datos ordenada y modificable**. \n",
    "\n",
    "En Python las listas se constituyen mediante un **conjunto de elementos separados por comas y cerrador por brackets [ , ]**."
   ]
  },
  {
   "cell_type": "markdown",
   "metadata": {},
   "source": [
    "###### Ejemplo"
   ]
  },
  {
   "cell_type": "code",
   "execution_count": 10,
   "metadata": {
    "ExecuteTime": {
     "end_time": "2021-01-30T16:06:18.942453Z",
     "start_time": "2021-01-30T16:06:18.926381Z"
    }
   },
   "outputs": [],
   "source": [
    "mi_lista = [\"de\",\"todo\"]"
   ]
  },
  {
   "cell_type": "code",
   "execution_count": 11,
   "metadata": {
    "ExecuteTime": {
     "end_time": "2021-01-30T16:06:20.009331Z",
     "start_time": "2021-01-30T16:06:20.003329Z"
    }
   },
   "outputs": [
    {
     "data": {
      "text/plain": [
       "['de', 'todo']"
      ]
     },
     "execution_count": 11,
     "metadata": {},
     "output_type": "execute_result"
    }
   ],
   "source": [
    "mi_lista"
   ]
  },
  {
   "cell_type": "code",
   "execution_count": 14,
   "metadata": {
    "ExecuteTime": {
     "end_time": "2020-02-19T18:12:39.814081Z",
     "start_time": "2020-02-19T18:12:39.810134Z"
    }
   },
   "outputs": [],
   "source": [
    "mi_lista = [1, 2, 3 ]"
   ]
  },
  {
   "cell_type": "code",
   "execution_count": 15,
   "metadata": {
    "ExecuteTime": {
     "end_time": "2020-02-19T18:12:42.483960Z",
     "start_time": "2020-02-19T18:12:42.477970Z"
    }
   },
   "outputs": [
    {
     "data": {
      "text/plain": [
       "[1, 2, 3]"
      ]
     },
     "execution_count": 15,
     "metadata": {},
     "output_type": "execute_result"
    }
   ],
   "source": [
    "mi_lista"
   ]
  },
  {
   "cell_type": "code",
   "execution_count": 16,
   "metadata": {
    "ExecuteTime": {
     "end_time": "2020-02-19T18:12:52.657818Z",
     "start_time": "2020-02-19T18:12:52.651788Z"
    }
   },
   "outputs": [],
   "source": [
    "mi_lista = [1, \"de\", \"todo\"]"
   ]
  },
  {
   "cell_type": "code",
   "execution_count": 17,
   "metadata": {
    "ExecuteTime": {
     "end_time": "2020-02-19T18:12:54.987938Z",
     "start_time": "2020-02-19T18:12:54.982025Z"
    }
   },
   "outputs": [
    {
     "data": {
      "text/plain": [
       "[1, 'de', 'todo']"
      ]
     },
     "execution_count": 17,
     "metadata": {},
     "output_type": "execute_result"
    }
   ],
   "source": [
    "mi_lista"
   ]
  },
  {
   "cell_type": "code",
   "execution_count": 6,
   "metadata": {
    "ExecuteTime": {
     "end_time": "2020-02-05T07:27:18.070546Z",
     "start_time": "2020-02-05T07:27:18.048371Z"
    }
   },
   "outputs": [],
   "source": [
    "mi_lista = ['elemento_1', 'elemento_dos', 'elemento_tres']"
   ]
  },
  {
   "cell_type": "code",
   "execution_count": 7,
   "metadata": {
    "ExecuteTime": {
     "end_time": "2020-02-05T07:27:28.502765Z",
     "start_time": "2020-02-05T07:27:28.488822Z"
    }
   },
   "outputs": [
    {
     "data": {
      "text/plain": [
       "['elemento_1', 'elemento_dos', 'elemento_tres']"
      ]
     },
     "execution_count": 7,
     "metadata": {},
     "output_type": "execute_result"
    }
   ],
   "source": [
    "mi_lista"
   ]
  },
  {
   "cell_type": "code",
   "execution_count": 8,
   "metadata": {
    "ExecuteTime": {
     "end_time": "2020-02-05T07:27:33.363831Z",
     "start_time": "2020-02-05T07:27:33.357030Z"
    }
   },
   "outputs": [
    {
     "name": "stdout",
     "output_type": "stream",
     "text": [
      "['elemento_1', 'elemento_dos', 'elemento_tres']\n"
     ]
    }
   ],
   "source": [
    "print(mi_lista)"
   ]
  },
  {
   "cell_type": "markdown",
   "metadata": {},
   "source": [
    "#### Acceder a elementos de la lista"
   ]
  },
  {
   "cell_type": "markdown",
   "metadata": {
    "ExecuteTime": {
     "end_time": "2020-02-05T07:28:46.668659Z",
     "start_time": "2020-02-05T07:28:46.656848Z"
    }
   },
   "source": [
    "Para acceder a un elemento contenido dentro de una lista, lo haremos referenciando el índice numérico o posición que ocupa el elemento en la lista."
   ]
  },
  {
   "cell_type": "markdown",
   "metadata": {},
   "source": [
    "**Importante!** **El indexado en una lista empieza en la posición 0**; es decir, el primer elemento de una lista tiene el índice 0"
   ]
  },
  {
   "cell_type": "markdown",
   "metadata": {},
   "source": [
    "##### Ejemplo"
   ]
  },
  {
   "cell_type": "code",
   "execution_count": 12,
   "metadata": {
    "ExecuteTime": {
     "end_time": "2021-01-30T16:07:42.424982Z",
     "start_time": "2021-01-30T16:07:42.406439Z"
    }
   },
   "outputs": [
    {
     "data": {
      "text/plain": [
       "['de', 'todo']"
      ]
     },
     "execution_count": 12,
     "metadata": {},
     "output_type": "execute_result"
    }
   ],
   "source": [
    "mi_lista = ['de', 'todo']\n",
    "mi_lista"
   ]
  },
  {
   "cell_type": "code",
   "execution_count": 14,
   "metadata": {
    "ExecuteTime": {
     "end_time": "2021-01-30T16:08:20.564523Z",
     "start_time": "2021-01-30T16:08:20.551970Z"
    }
   },
   "outputs": [
    {
     "data": {
      "text/plain": [
       "'todo'"
      ]
     },
     "execution_count": 14,
     "metadata": {},
     "output_type": "execute_result"
    }
   ],
   "source": [
    "mi_lista[1]"
   ]
  },
  {
   "cell_type": "markdown",
   "metadata": {},
   "source": [
    "##### Ejercicio: Dividir el último valor de [4,5,78,6] entre el segundo valor de [3,8,2,0] usando indexado."
   ]
  },
  {
   "cell_type": "code",
   "execution_count": 74,
   "metadata": {
    "ExecuteTime": {
     "end_time": "2021-01-07T20:43:36.925167Z",
     "start_time": "2021-01-07T20:43:36.911130Z"
    }
   },
   "outputs": [
    {
     "data": {
      "text/plain": [
       "0.75"
      ]
     },
     "execution_count": 74,
     "metadata": {},
     "output_type": "execute_result"
    }
   ],
   "source": [
    "x = [4,5,78,6]\n",
    "y=[3,8,2,0]\n",
    "x[3] / y[1]"
   ]
  },
  {
   "cell_type": "markdown",
   "metadata": {},
   "source": [
    "#### Indexado negativo"
   ]
  },
  {
   "cell_type": "markdown",
   "metadata": {},
   "source": [
    "El indexado negativo nos permite **acceder a los elementos de la lista en orden inverso** (empezando desde el último elemento de la lista). \n",
    "\n",
    "Es decir, el índice -1 se refiere al último elemento de la lista, el índice -2 al penúltimo etc."
   ]
  },
  {
   "cell_type": "code",
   "execution_count": 17,
   "metadata": {
    "ExecuteTime": {
     "end_time": "2021-01-30T16:13:27.212673Z",
     "start_time": "2021-01-30T16:13:27.206670Z"
    }
   },
   "outputs": [],
   "source": [
    "mi_lista1 = [11,2,2,4,4,8,7,5]"
   ]
  },
  {
   "cell_type": "code",
   "execution_count": 19,
   "metadata": {
    "ExecuteTime": {
     "end_time": "2021-01-30T16:13:34.185606Z",
     "start_time": "2021-01-30T16:13:34.170198Z"
    }
   },
   "outputs": [
    {
     "data": {
      "text/plain": [
       "7"
      ]
     },
     "execution_count": 19,
     "metadata": {},
     "output_type": "execute_result"
    }
   ],
   "source": [
    "mi_lista1[-2]"
   ]
  },
  {
   "cell_type": "markdown",
   "metadata": {},
   "source": [
    "##### Ejemplo"
   ]
  },
  {
   "cell_type": "code",
   "execution_count": 20,
   "metadata": {
    "ExecuteTime": {
     "end_time": "2021-01-30T16:14:04.344757Z",
     "start_time": "2021-01-30T16:14:04.334750Z"
    }
   },
   "outputs": [
    {
     "data": {
      "text/plain": [
       "'todo'"
      ]
     },
     "execution_count": 20,
     "metadata": {},
     "output_type": "execute_result"
    }
   ],
   "source": [
    "ultimo_elemento = mi_lista[-1]\n",
    "ultimo_elemento"
   ]
  },
  {
   "cell_type": "code",
   "execution_count": 14,
   "metadata": {
    "ExecuteTime": {
     "end_time": "2020-02-05T07:33:10.533938Z",
     "start_time": "2020-02-05T07:33:10.526187Z"
    }
   },
   "outputs": [
    {
     "data": {
      "text/plain": [
       "'elemento_dos'"
      ]
     },
     "execution_count": 14,
     "metadata": {},
     "output_type": "execute_result"
    }
   ],
   "source": [
    "penultimo_elemento = mi_lista[-2]\n",
    "penultimo_elemento"
   ]
  },
  {
   "cell_type": "markdown",
   "metadata": {},
   "source": [
    "#### Rango de índices - selección múltiples elementos lista"
   ]
  },
  {
   "cell_type": "markdown",
   "metadata": {},
   "source": [
    "Para obtener un conjunto de elementos de una lista se puede especificar un rango de índices a seleccionar; especificando primera y última posición del rango.\n",
    "\n",
    "**Algunos remarks importantes**:\n",
    "- La última posición del rango no se incluye en el output; es decir **el rango es un intervalo abierto por la derecha: rango = [ ,)** \n",
    "- Si no se especifica posición inicial del rango, por default el rango empieza con el 1r elemento\n",
    "- SI no se especifica posición final del rango, por deault el rango coge hasta el último elemento"
   ]
  },
  {
   "cell_type": "markdown",
   "metadata": {},
   "source": [
    "Así, **el output** de seleccionar un rango de posiciones **de una lista es otra lista**"
   ]
  },
  {
   "cell_type": "code",
   "execution_count": 21,
   "metadata": {
    "ExecuteTime": {
     "end_time": "2021-01-30T16:16:15.505700Z",
     "start_time": "2021-01-30T16:16:15.491701Z"
    }
   },
   "outputs": [],
   "source": [
    "mi_lista = [\"hola\",\"que\",\"tal\",\"h\"]"
   ]
  },
  {
   "cell_type": "code",
   "execution_count": 75,
   "metadata": {
    "ExecuteTime": {
     "end_time": "2021-01-07T21:01:26.214786Z",
     "start_time": "2021-01-07T21:01:26.196762Z"
    }
   },
   "outputs": [
    {
     "data": {
      "text/plain": [
       "['hola', 'que', 'tal']"
      ]
     },
     "execution_count": 75,
     "metadata": {},
     "output_type": "execute_result"
    }
   ],
   "source": [
    "mi_lista = [\"hola\",\"que\",\"tal\",\"h\"]\n",
    "mi_lista[0:3]"
   ]
  },
  {
   "cell_type": "code",
   "execution_count": 31,
   "metadata": {
    "ExecuteTime": {
     "end_time": "2021-01-30T16:22:15.600580Z",
     "start_time": "2021-01-30T16:22:15.582549Z"
    }
   },
   "outputs": [],
   "source": [
    "mi_lista = [0,1,2,3,4]"
   ]
  },
  {
   "cell_type": "code",
   "execution_count": 35,
   "metadata": {
    "ExecuteTime": {
     "end_time": "2021-01-30T16:23:18.853244Z",
     "start_time": "2021-01-30T16:23:18.846243Z"
    }
   },
   "outputs": [
    {
     "data": {
      "text/plain": [
       "[0, 1, 2, 3]"
      ]
     },
     "execution_count": 35,
     "metadata": {},
     "output_type": "execute_result"
    }
   ],
   "source": [
    "mi_lista [0:4]"
   ]
  },
  {
   "cell_type": "markdown",
   "metadata": {},
   "source": [
    "##### Ejemplo"
   ]
  },
  {
   "cell_type": "code",
   "execution_count": 78,
   "metadata": {
    "ExecuteTime": {
     "end_time": "2021-01-07T21:01:30.020454Z",
     "start_time": "2021-01-07T21:01:30.001432Z"
    }
   },
   "outputs": [
    {
     "data": {
      "text/plain": [
       "[0, 1]"
      ]
     },
     "execution_count": 78,
     "metadata": {},
     "output_type": "execute_result"
    }
   ],
   "source": [
    "#vamos a seleccionar el 1º y el 2º elemento de mi lista\n",
    "mi_mini_lista = mi_lista[0:2]\n",
    "mi_mini_lista"
   ]
  },
  {
   "cell_type": "code",
   "execution_count": 79,
   "metadata": {
    "ExecuteTime": {
     "end_time": "2021-01-07T21:01:39.654713Z",
     "start_time": "2021-01-07T21:01:39.650707Z"
    }
   },
   "outputs": [
    {
     "data": {
      "text/plain": [
       "[0, 1]"
      ]
     },
     "execution_count": 79,
     "metadata": {},
     "output_type": "execute_result"
    }
   ],
   "source": [
    "#alternativa\n",
    "mi_mini_lista = mi_lista[:2]\n",
    "mi_mini_lista"
   ]
  },
  {
   "cell_type": "markdown",
   "metadata": {},
   "source": [
    "**Importante!**:\n",
    "- El punto de finalización del rango no se incluye en el output, es decir para sacar los elementos 1 y 2 de una lista tenemos que especificar el rango que empiece en la posición 0 hasta la posición 2 (ya que la posición 2 no se incluye en output)\n",
    "- Si no especificamos posición de inicio del rango, por default coge la posición 0 (o primer elemento)"
   ]
  },
  {
   "cell_type": "markdown",
   "metadata": {},
   "source": [
    "##### Ejemplo"
   ]
  },
  {
   "cell_type": "code",
   "execution_count": 41,
   "metadata": {
    "ExecuteTime": {
     "end_time": "2021-01-30T16:36:06.369339Z",
     "start_time": "2021-01-30T16:36:06.355788Z"
    }
   },
   "outputs": [],
   "source": [
    "mi_lista_2 = ['manzana', 'piña', 'pomelo','mandarina','fresas']"
   ]
  },
  {
   "cell_type": "code",
   "execution_count": 81,
   "metadata": {
    "ExecuteTime": {
     "end_time": "2021-01-07T21:03:00.720098Z",
     "start_time": "2021-01-07T21:03:00.702075Z"
    }
   },
   "outputs": [
    {
     "data": {
      "text/plain": [
       "['piña', 'pomelo', 'mandarina', 'fresas']"
      ]
     },
     "execution_count": 81,
     "metadata": {},
     "output_type": "execute_result"
    }
   ],
   "source": [
    "#seleccionar desde piña hasta el final de la lista\n",
    "mi_mini_lista_2 = mi_lista_2[1:len(mi_lista_2)]\n",
    "mi_mini_lista_2"
   ]
  },
  {
   "cell_type": "code",
   "execution_count": 25,
   "metadata": {
    "ExecuteTime": {
     "end_time": "2020-02-05T07:46:30.337015Z",
     "start_time": "2020-02-05T07:46:30.327165Z"
    }
   },
   "outputs": [
    {
     "data": {
      "text/plain": [
       "['piña', 'pomelo', 'mandarina', 'fresas']"
      ]
     },
     "execution_count": 25,
     "metadata": {},
     "output_type": "execute_result"
    }
   ],
   "source": [
    "mi_mini_lista_2 = mi_lista_2[1:]\n",
    "mi_mini_lista_2"
   ]
  },
  {
   "cell_type": "markdown",
   "metadata": {},
   "source": [
    "#### Cambiar valor en una lista"
   ]
  },
  {
   "cell_type": "markdown",
   "metadata": {},
   "source": [
    "Para cambiar el valor de un elemento de una lista, simplemento tenemos que acceder a ese elemento y reasignarle un nuevo valor."
   ]
  },
  {
   "cell_type": "markdown",
   "metadata": {},
   "source": [
    "##### Ejemplo"
   ]
  },
  {
   "cell_type": "code",
   "execution_count": 52,
   "metadata": {
    "ExecuteTime": {
     "end_time": "2021-01-30T16:41:12.810067Z",
     "start_time": "2021-01-30T16:41:12.803520Z"
    }
   },
   "outputs": [],
   "source": [
    "mi_lista = [\"Juan\",\"Silvia\",\"Gustavo\",\"Laura\",\"Seo\"]"
   ]
  },
  {
   "cell_type": "code",
   "execution_count": 53,
   "metadata": {
    "ExecuteTime": {
     "end_time": "2021-01-30T16:41:14.649018Z",
     "start_time": "2021-01-30T16:41:14.641021Z"
    }
   },
   "outputs": [
    {
     "data": {
      "text/plain": [
       "['Juan', 'Silvia', 'Gustavo', 'Laura', 'Seo']"
      ]
     },
     "execution_count": 53,
     "metadata": {},
     "output_type": "execute_result"
    }
   ],
   "source": [
    "mi_lista"
   ]
  },
  {
   "cell_type": "code",
   "execution_count": 46,
   "metadata": {
    "ExecuteTime": {
     "end_time": "2021-01-30T16:38:34.578438Z",
     "start_time": "2021-01-30T16:38:34.571890Z"
    }
   },
   "outputs": [
    {
     "data": {
      "text/plain": [
       "['Juan', 'Laura', 'Charles', 'Laura', 'Seo']"
      ]
     },
     "execution_count": 46,
     "metadata": {},
     "output_type": "execute_result"
    }
   ],
   "source": [
    "mi_lista[1] = mi_lista[3]\n",
    "mi_lista"
   ]
  },
  {
   "cell_type": "code",
   "execution_count": 28,
   "metadata": {
    "ExecuteTime": {
     "end_time": "2020-02-05T07:50:35.314420Z",
     "start_time": "2020-02-05T07:50:35.309520Z"
    }
   },
   "outputs": [],
   "source": [
    "#al segundo elemento le asignamos un nuevo valor, que reemplazará inmediatamente el antiguo valor\n",
    "mi_lista[1] = \"elemento_cuatro\""
   ]
  },
  {
   "cell_type": "code",
   "execution_count": 29,
   "metadata": {
    "ExecuteTime": {
     "end_time": "2020-02-05T07:50:48.635516Z",
     "start_time": "2020-02-05T07:50:48.629670Z"
    }
   },
   "outputs": [
    {
     "data": {
      "text/plain": [
       "['elemento_1', 'elemento_cuatro', 'elemento_tres']"
      ]
     },
     "execution_count": 29,
     "metadata": {},
     "output_type": "execute_result"
    }
   ],
   "source": [
    "#check lo que tenemos ahora\n",
    "mi_lista"
   ]
  },
  {
   "cell_type": "markdown",
   "metadata": {},
   "source": [
    "### Funciones de Lista"
   ]
  },
  {
   "cell_type": "markdown",
   "metadata": {},
   "source": [
    "| Función | Descripción\n",
    "|:---|:---|\n",
    "|len(list)|Devuelve longitud de la lista\n",
    "|max(list)|Devuelve el elemento de máximo valor de la lista|\n",
    "|min(list)|Devuelve el elemento de mínimo valor de la lista||\n",
    "|list(seq)|Convierte la tupla en una lista|"
   ]
  },
  {
   "cell_type": "code",
   "execution_count": 55,
   "metadata": {
    "ExecuteTime": {
     "end_time": "2021-01-30T16:44:54.154203Z",
     "start_time": "2021-01-30T16:44:54.139176Z"
    }
   },
   "outputs": [],
   "source": [
    "lista_1 = [2,3,4,4,5,6]"
   ]
  },
  {
   "cell_type": "code",
   "execution_count": 62,
   "metadata": {
    "ExecuteTime": {
     "end_time": "2021-01-30T16:49:17.146365Z",
     "start_time": "2021-01-30T16:49:17.140366Z"
    }
   },
   "outputs": [
    {
     "data": {
      "text/plain": [
       "6"
      ]
     },
     "execution_count": 62,
     "metadata": {},
     "output_type": "execute_result"
    }
   ],
   "source": [
    "len(lista_1)"
   ]
  },
  {
   "cell_type": "code",
   "execution_count": 61,
   "metadata": {
    "ExecuteTime": {
     "end_time": "2020-02-19T18:43:49.954102Z",
     "start_time": "2020-02-19T18:43:49.945831Z"
    }
   },
   "outputs": [
    {
     "data": {
      "text/plain": [
       "6"
      ]
     },
     "execution_count": 61,
     "metadata": {},
     "output_type": "execute_result"
    }
   ],
   "source": [
    "max(lista_1)"
   ]
  },
  {
   "cell_type": "code",
   "execution_count": 62,
   "metadata": {
    "ExecuteTime": {
     "end_time": "2020-02-19T18:44:16.195292Z",
     "start_time": "2020-02-19T18:44:16.186615Z"
    }
   },
   "outputs": [
    {
     "data": {
      "text/plain": [
       "2"
      ]
     },
     "execution_count": 62,
     "metadata": {},
     "output_type": "execute_result"
    }
   ],
   "source": [
    "min(lista_1)"
   ]
  },
  {
   "cell_type": "code",
   "execution_count": 56,
   "metadata": {
    "ExecuteTime": {
     "end_time": "2021-01-30T16:45:53.248802Z",
     "start_time": "2021-01-30T16:45:53.239692Z"
    }
   },
   "outputs": [
    {
     "data": {
      "text/plain": [
       "24"
      ]
     },
     "execution_count": 56,
     "metadata": {},
     "output_type": "execute_result"
    }
   ],
   "source": [
    "sum(lista_1)"
   ]
  },
  {
   "cell_type": "markdown",
   "metadata": {},
   "source": [
    "### Métodos de Lista"
   ]
  },
  {
   "cell_type": "code",
   "execution_count": null,
   "metadata": {},
   "outputs": [],
   "source": [
    "len(mi_lista) #una función que le aplico a mi_lista\n",
    "\n",
    "mi_lista.append() #un método que le aplico a mi_lista"
   ]
  },
  {
   "cell_type": "markdown",
   "metadata": {},
   "source": [
    "| Método | Descripción\n",
    "|:---|:---| \n",
    "|list.append()|Añade un elemento al final de la lista|\n",
    "|list.clear()|Borra todos los elementos de la lista |\n",
    "|list.copy()|Devuelve una copia de la lista|\n",
    "|list.count()|Devuelve el nº de elementos de la lista especificando el valor|\n",
    "|list.extend()|Añade los elementos de una lista (o cualquier iterable) al final de la lista actual|\n",
    "|list.index()|Devuelve el índice del primer elemento de la lista con el valor específico |\n",
    "|list.insert()|Añade un elemento a la posición especificada |\n",
    "|list.pop()|Borra el elemento de la posición especificada |\n",
    "|list.remove()|Borra el elemento con el valor especificado |\n",
    "|list.reverse()|Invierte el orden de la lista|\n",
    "|list.sort()|Ordena la lista|"
   ]
  },
  {
   "cell_type": "markdown",
   "metadata": {},
   "source": [
    "##### EJEMPLO: Longitud de la lista"
   ]
  },
  {
   "cell_type": "code",
   "execution_count": 71,
   "metadata": {
    "ExecuteTime": {
     "end_time": "2021-01-30T16:59:32.529506Z",
     "start_time": "2021-01-30T16:59:32.511847Z"
    }
   },
   "outputs": [],
   "source": [
    "cesta_compra = ['donuts','manzanas','detergente','patatas','cebollas','chicles']"
   ]
  },
  {
   "cell_type": "code",
   "execution_count": 88,
   "metadata": {
    "ExecuteTime": {
     "end_time": "2021-01-07T21:37:01.278168Z",
     "start_time": "2021-01-07T21:37:01.260201Z"
    }
   },
   "outputs": [
    {
     "data": {
      "text/plain": [
       "['donuts', 'manzanas', 'detergente', 'patatas', 'cebollas', 'chicles']"
      ]
     },
     "execution_count": 88,
     "metadata": {},
     "output_type": "execute_result"
    }
   ],
   "source": [
    "cesta_compra"
   ]
  },
  {
   "cell_type": "code",
   "execution_count": 89,
   "metadata": {
    "ExecuteTime": {
     "end_time": "2021-01-07T21:37:01.797737Z",
     "start_time": "2021-01-07T21:37:01.787734Z"
    }
   },
   "outputs": [
    {
     "name": "stdout",
     "output_type": "stream",
     "text": [
      "¿Cuántos items tengo que ir a comprar?\n"
     ]
    }
   ],
   "source": [
    "print(\"¿Cuántos items tengo que ir a comprar?\")"
   ]
  },
  {
   "cell_type": "code",
   "execution_count": 90,
   "metadata": {
    "ExecuteTime": {
     "end_time": "2021-01-07T21:37:02.284941Z",
     "start_time": "2021-01-07T21:37:02.268175Z"
    }
   },
   "outputs": [
    {
     "data": {
      "text/plain": [
       "6"
      ]
     },
     "execution_count": 90,
     "metadata": {},
     "output_type": "execute_result"
    }
   ],
   "source": [
    "len(cesta_compra)"
   ]
  },
  {
   "cell_type": "markdown",
   "metadata": {
    "heading_collapsed": true
   },
   "source": [
    "##### EJEMPLO: Añadir elementos en una lista"
   ]
  },
  {
   "cell_type": "markdown",
   "metadata": {
    "hidden": true
   },
   "source": [
    "También tengo que ir a comprar pan! lo añado a la lista!"
   ]
  },
  {
   "cell_type": "code",
   "execution_count": 91,
   "metadata": {
    "ExecuteTime": {
     "end_time": "2021-01-07T21:37:06.363621Z",
     "start_time": "2021-01-07T21:37:06.352627Z"
    },
    "hidden": true
   },
   "outputs": [
    {
     "data": {
      "text/plain": [
       "['donuts', 'manzanas', 'detergente', 'patatas', 'cebollas', 'chicles', 'pan']"
      ]
     },
     "execution_count": 91,
     "metadata": {},
     "output_type": "execute_result"
    }
   ],
   "source": [
    "cesta_compra.append(\"pan\")\n",
    "cesta_compra"
   ]
  },
  {
   "cell_type": "code",
   "execution_count": 92,
   "metadata": {
    "ExecuteTime": {
     "end_time": "2021-01-07T21:37:06.944453Z",
     "start_time": "2021-01-07T21:37:06.936453Z"
    },
    "hidden": true
   },
   "outputs": [
    {
     "data": {
      "text/plain": [
       "7"
      ]
     },
     "execution_count": 92,
     "metadata": {},
     "output_type": "execute_result"
    }
   ],
   "source": [
    "len(cesta_compra) #ahora tengo que compras un item más"
   ]
  },
  {
   "cell_type": "markdown",
   "metadata": {
    "heading_collapsed": true
   },
   "source": [
    "##### EJEMPLO: Añadir elemento especificando posición"
   ]
  },
  {
   "cell_type": "markdown",
   "metadata": {
    "hidden": true
   },
   "source": [
    "El 2º producto que tengo que  comprar son galletas!"
   ]
  },
  {
   "cell_type": "code",
   "execution_count": 93,
   "metadata": {
    "ExecuteTime": {
     "end_time": "2021-01-07T21:37:11.265273Z",
     "start_time": "2021-01-07T21:37:11.246050Z"
    },
    "hidden": true
   },
   "outputs": [
    {
     "data": {
      "text/plain": [
       "['donuts',\n",
       " 'galletas',\n",
       " 'manzanas',\n",
       " 'detergente',\n",
       " 'patatas',\n",
       " 'cebollas',\n",
       " 'chicles',\n",
       " 'pan']"
      ]
     },
     "execution_count": 93,
     "metadata": {},
     "output_type": "execute_result"
    }
   ],
   "source": [
    "cesta_compra.insert(1,\"galletas\") #especifico índice 1 para añadir el elemento en posición 2 de la lista\n",
    "cesta_compra"
   ]
  },
  {
   "cell_type": "markdown",
   "metadata": {
    "heading_collapsed": true
   },
   "source": [
    "##### EJEMPLO: Borrar elemento de lista, según nombre "
   ]
  },
  {
   "cell_type": "markdown",
   "metadata": {
    "hidden": true
   },
   "source": [
    "Mejor no compro los donuts..."
   ]
  },
  {
   "cell_type": "code",
   "execution_count": 94,
   "metadata": {
    "ExecuteTime": {
     "end_time": "2021-01-07T21:37:48.587001Z",
     "start_time": "2021-01-07T21:37:48.577994Z"
    },
    "hidden": true
   },
   "outputs": [
    {
     "data": {
      "text/plain": [
       "['galletas', 'manzanas', 'detergente', 'patatas', 'cebollas', 'chicles', 'pan']"
      ]
     },
     "execution_count": 94,
     "metadata": {},
     "output_type": "execute_result"
    }
   ],
   "source": [
    "cesta_compra.remove(\"donuts\")\n",
    "cesta_compra"
   ]
  },
  {
   "cell_type": "markdown",
   "metadata": {},
   "source": [
    "##### EJEMPLO: Borrar elemento de lista, según posición"
   ]
  },
  {
   "cell_type": "markdown",
   "metadata": {},
   "source": [
    "No me da tiempo de comprar el último elemento de la cesta de la compra..."
   ]
  },
  {
   "cell_type": "code",
   "execution_count": 95,
   "metadata": {
    "ExecuteTime": {
     "end_time": "2021-01-07T21:37:50.267104Z",
     "start_time": "2021-01-07T21:37:50.253090Z"
    }
   },
   "outputs": [
    {
     "data": {
      "text/plain": [
       "['galletas', 'manzanas', 'detergente', 'patatas', 'cebollas', 'chicles', 'pan']"
      ]
     },
     "execution_count": 95,
     "metadata": {},
     "output_type": "execute_result"
    }
   ],
   "source": [
    "cesta_compra"
   ]
  },
  {
   "cell_type": "code",
   "execution_count": 96,
   "metadata": {
    "ExecuteTime": {
     "end_time": "2021-01-07T21:37:53.034995Z",
     "start_time": "2021-01-07T21:37:53.027985Z"
    }
   },
   "outputs": [
    {
     "data": {
      "text/plain": [
       "['', 'manzanas', 'detergente', 'patatas', 'cebollas', 'chicles', 'pan']"
      ]
     },
     "execution_count": 96,
     "metadata": {},
     "output_type": "execute_result"
    }
   ],
   "source": [
    "cesta_compra[0] = \"\"\n",
    "cesta_compra"
   ]
  },
  {
   "cell_type": "code",
   "execution_count": 77,
   "metadata": {
    "ExecuteTime": {
     "end_time": "2021-01-30T17:01:58.542892Z",
     "start_time": "2021-01-30T17:01:58.531754Z"
    }
   },
   "outputs": [],
   "source": [
    "del cesta_compra[len(cesta_compra)-1]"
   ]
  },
  {
   "cell_type": "code",
   "execution_count": 78,
   "metadata": {
    "ExecuteTime": {
     "end_time": "2021-01-30T17:01:59.128141Z",
     "start_time": "2021-01-30T17:01:59.110554Z"
    }
   },
   "outputs": [
    {
     "data": {
      "text/plain": [
       "['donuts', 'detergente', 'patatas', 'cebollas']"
      ]
     },
     "execution_count": 78,
     "metadata": {},
     "output_type": "execute_result"
    }
   ],
   "source": [
    "cesta_compra"
   ]
  },
  {
   "cell_type": "markdown",
   "metadata": {},
   "source": [
    "Y tampoco el primero..."
   ]
  },
  {
   "cell_type": "code",
   "execution_count": 99,
   "metadata": {
    "ExecuteTime": {
     "end_time": "2021-01-07T21:38:13.318115Z",
     "start_time": "2021-01-07T21:38:13.308116Z"
    }
   },
   "outputs": [
    {
     "data": {
      "text/plain": [
       "['manzanas', 'detergente', 'patatas', 'cebollas', 'chicles']"
      ]
     },
     "execution_count": 99,
     "metadata": {},
     "output_type": "execute_result"
    }
   ],
   "source": [
    "del cesta_compra[0]\n",
    "cesta_compra"
   ]
  },
  {
   "cell_type": "code",
   "execution_count": 74,
   "metadata": {
    "ExecuteTime": {
     "end_time": "2021-01-30T17:00:15.881924Z",
     "start_time": "2021-01-30T17:00:15.868902Z"
    }
   },
   "outputs": [],
   "source": [
    "cesta_compra.pop(1)"
   ]
  },
  {
   "cell_type": "markdown",
   "metadata": {},
   "source": [
    "##### EJEMPLO: Borra todos los elementos de la lista"
   ]
  },
  {
   "cell_type": "markdown",
   "metadata": {
    "ExecuteTime": {
     "end_time": "2020-02-07T07:23:18.940748Z",
     "start_time": "2020-02-07T07:23:18.933955Z"
    }
   },
   "source": [
    "Más bien no tengo tiempo de ir a comprar ningún producto.."
   ]
  },
  {
   "cell_type": "code",
   "execution_count": 100,
   "metadata": {
    "ExecuteTime": {
     "end_time": "2021-01-07T21:38:18.672343Z",
     "start_time": "2021-01-07T21:38:18.661322Z"
    }
   },
   "outputs": [
    {
     "data": {
      "text/plain": [
       "[]"
      ]
     },
     "execution_count": 100,
     "metadata": {},
     "output_type": "execute_result"
    }
   ],
   "source": [
    "cesta_compra.clear()\n",
    "cesta_compra"
   ]
  },
  {
   "cell_type": "markdown",
   "metadata": {},
   "source": [
    "##### EJEMPLO: Borra lista entera"
   ]
  },
  {
   "cell_type": "markdown",
   "metadata": {},
   "source": [
    "Así que definitivamente tiro la lista de la compra a la basura!"
   ]
  },
  {
   "cell_type": "code",
   "execution_count": 101,
   "metadata": {
    "ExecuteTime": {
     "end_time": "2021-01-07T21:38:22.734182Z",
     "start_time": "2021-01-07T21:38:22.730187Z"
    }
   },
   "outputs": [],
   "source": [
    "del cesta_compra"
   ]
  },
  {
   "cell_type": "markdown",
   "metadata": {},
   "source": [
    "##### EJEMPLO: Copiar una lista"
   ]
  },
  {
   "cell_type": "markdown",
   "metadata": {},
   "source": [
    "Copiar una lista (lista_1) a otra nueva (lista_2)  no es tan sencillo como escribir:"
   ]
  },
  {
   "cell_type": "raw",
   "metadata": {},
   "source": [
    "lista_2 = lista_1"
   ]
  },
  {
   "cell_type": "markdown",
   "metadata": {},
   "source": [
    "Ya que esto lo que genera es una asignación o **referencia** de la lista original (lista_1) a la nueva lista (lista_2), lo que implica que cualquier cambio que apliquemos a la lista original se traducirá a la nueva lista. "
   ]
  },
  {
   "cell_type": "markdown",
   "metadata": {},
   "source": [
    "Así que para generar una **copia** independentiente a la lista original, usaremos el método **copy()**."
   ]
  },
  {
   "cell_type": "code",
   "execution_count": 51,
   "metadata": {
    "ExecuteTime": {
     "end_time": "2020-02-07T07:29:56.869852Z",
     "start_time": "2020-02-07T07:29:56.864215Z"
    }
   },
   "outputs": [],
   "source": [
    "nombres = ['Ana','Yolanda','Marcos','Cristina','Alberto']"
   ]
  },
  {
   "cell_type": "code",
   "execution_count": 54,
   "metadata": {
    "ExecuteTime": {
     "end_time": "2020-02-07T07:30:25.009510Z",
     "start_time": "2020-02-07T07:30:25.000938Z"
    }
   },
   "outputs": [
    {
     "data": {
      "text/plain": [
       "['Ana', 'Yolanda', 'Marcos', 'Cristina', 'Alberto']"
      ]
     },
     "execution_count": 54,
     "metadata": {},
     "output_type": "execute_result"
    }
   ],
   "source": [
    "copia_nombres = nombres.copy()\n",
    "copia_nombres"
   ]
  },
  {
   "cell_type": "markdown",
   "metadata": {},
   "source": [
    "Alternativamente podemos usar el método **list()**:"
   ]
  },
  {
   "cell_type": "code",
   "execution_count": 55,
   "metadata": {
    "ExecuteTime": {
     "end_time": "2020-02-07T07:31:02.552693Z",
     "start_time": "2020-02-07T07:31:02.540936Z"
    }
   },
   "outputs": [
    {
     "data": {
      "text/plain": [
       "['Ana', 'Yolanda', 'Marcos', 'Cristina', 'Alberto']"
      ]
     },
     "execution_count": 55,
     "metadata": {},
     "output_type": "execute_result"
    }
   ],
   "source": [
    "copia_nombres = list(nombres)\n",
    "copia_nombres"
   ]
  },
  {
   "cell_type": "markdown",
   "metadata": {
    "ExecuteTime": {
     "end_time": "2020-02-07T07:30:13.798894Z",
     "start_time": "2020-02-07T07:30:13.792211Z"
    }
   },
   "source": [
    "##### EJEMPLO: Unificar (o JOIN) de dos listas mediante: +"
   ]
  },
  {
   "cell_type": "markdown",
   "metadata": {},
   "source": [
    "Existen distintas formas de unificar o concatenar (JOIN) dos o + listas en Python. "
   ]
  },
  {
   "cell_type": "code",
   "execution_count": 102,
   "metadata": {
    "ExecuteTime": {
     "end_time": "2021-01-07T21:40:19.483122Z",
     "start_time": "2021-01-07T21:40:19.480129Z"
    }
   },
   "outputs": [],
   "source": [
    "lista_1 = [\"a\",\"b\",\"c\"]\n",
    "lista_2 = [\"1\",\"2\",\"3\"]"
   ]
  },
  {
   "cell_type": "code",
   "execution_count": 103,
   "metadata": {
    "ExecuteTime": {
     "end_time": "2021-01-07T21:40:19.981906Z",
     "start_time": "2021-01-07T21:40:19.969905Z"
    }
   },
   "outputs": [
    {
     "data": {
      "text/plain": [
       "['a', 'b', 'c', '1', '2', '3']"
      ]
     },
     "execution_count": 103,
     "metadata": {},
     "output_type": "execute_result"
    }
   ],
   "source": [
    "lista_3 = lista_1 + lista_2\n",
    "lista_3"
   ]
  },
  {
   "cell_type": "code",
   "execution_count": 64,
   "metadata": {
    "ExecuteTime": {
     "end_time": "2020-02-07T07:34:59.140116Z",
     "start_time": "2020-02-07T07:34:59.130041Z"
    }
   },
   "outputs": [
    {
     "data": {
      "text/plain": [
       "list"
      ]
     },
     "execution_count": 64,
     "metadata": {},
     "output_type": "execute_result"
    }
   ],
   "source": [
    "type(lista_3) #el elemento hereda el tipo de objeto de lista"
   ]
  },
  {
   "cell_type": "markdown",
   "metadata": {},
   "source": [
    "##### EJEMPLO: Unificar (o JOIN) de dos listas mediante: extend"
   ]
  },
  {
   "cell_type": "code",
   "execution_count": 105,
   "metadata": {
    "ExecuteTime": {
     "end_time": "2021-01-07T21:41:44.635320Z",
     "start_time": "2021-01-07T21:41:44.625636Z"
    }
   },
   "outputs": [
    {
     "name": "stdout",
     "output_type": "stream",
     "text": [
      "['a', 'b', 'c', '1', '2', '3']\n"
     ]
    }
   ],
   "source": [
    "lista_1.extend(lista_2)\n",
    "print(lista_1)"
   ]
  },
  {
   "cell_type": "markdown",
   "metadata": {},
   "source": [
    "##### EJEMPLO: Crear una nueva lista: list()"
   ]
  },
  {
   "cell_type": "markdown",
   "metadata": {},
   "source": [
    "Hasta ahora hemos creado listas mediante el encuadre de elementos separados por comas y limitados por [].\n",
    "\n",
    "Una forma alternativa es mediante el método **list()**, y especificando los elementos que contendrá limitados por paréntesis adicionales"
   ]
  },
  {
   "cell_type": "code",
   "execution_count": 73,
   "metadata": {
    "ExecuteTime": {
     "end_time": "2020-02-07T07:39:23.894971Z",
     "start_time": "2020-02-07T07:39:23.887957Z"
    }
   },
   "outputs": [
    {
     "data": {
      "text/plain": [
       "['donuts', 'manzanas', 'detergente', 'patatas', 'cebollas', 'chicles']"
      ]
     },
     "execution_count": 73,
     "metadata": {},
     "output_type": "execute_result"
    }
   ],
   "source": [
    "lista_compra = list(('donuts','manzanas','detergente','patatas','cebollas','chicles'))\n",
    "lista_compra"
   ]
  },
  {
   "cell_type": "markdown",
   "metadata": {},
   "source": [
    "Que es totalmento idéntico a definirla según lo que habíamos visto hasta ahora:"
   ]
  },
  {
   "cell_type": "code",
   "execution_count": 74,
   "metadata": {
    "ExecuteTime": {
     "end_time": "2020-02-07T07:39:24.953274Z",
     "start_time": "2020-02-07T07:39:24.946440Z"
    }
   },
   "outputs": [
    {
     "data": {
      "text/plain": [
       "['donuts', 'manzanas', 'detergente', 'patatas', 'cebollas', 'chicles']"
      ]
     },
     "execution_count": 74,
     "metadata": {},
     "output_type": "execute_result"
    }
   ],
   "source": [
    "lista_compra = ['donuts','manzanas','detergente','patatas','cebollas','chicles']\n",
    "lista_compra"
   ]
  },
  {
   "cell_type": "markdown",
   "metadata": {},
   "source": [
    "Ejercicio:\n",
    "- Crea una lista con el nombre de 4 personas.\n",
    "- Agrega una persona mas a la lista ya creada y que aparezca en el segundo lugar. \n",
    "- Genera una lista nueva con los últimos dos nombres de tu lista anterior y únela a tu lista anterior.\n",
    "- Utiliza una función para determinar cuantos elementos tienes en la lista\n",
    "- Borra el 3er elemento de la lista\n",
    "- Genera una lista de listas utilizando la lista anterior y donde las listas internas estan conformadas por las letras separadas que conforman cada nombre\n",
    "    \n",
    "    "
   ]
  },
  {
   "cell_type": "code",
   "execution_count": 146,
   "metadata": {
    "ExecuteTime": {
     "end_time": "2021-01-30T18:39:57.303609Z",
     "start_time": "2021-01-30T18:39:57.300609Z"
    }
   },
   "outputs": [],
   "source": [
    "lista = ['carlos', 'pedro', 'maria', 'daniela']"
   ]
  },
  {
   "cell_type": "code",
   "execution_count": 147,
   "metadata": {
    "ExecuteTime": {
     "end_time": "2021-01-30T18:39:57.755324Z",
     "start_time": "2021-01-30T18:39:57.749322Z"
    }
   },
   "outputs": [
    {
     "data": {
      "text/plain": [
       "['carlos', 'pedro', 'maria', 'daniela', 'marc']"
      ]
     },
     "execution_count": 147,
     "metadata": {},
     "output_type": "execute_result"
    }
   ],
   "source": [
    "lista.append('marc')\n",
    "lista"
   ]
  },
  {
   "cell_type": "code",
   "execution_count": 148,
   "metadata": {
    "ExecuteTime": {
     "end_time": "2021-01-30T18:39:58.576386Z",
     "start_time": "2021-01-30T18:39:58.563384Z"
    }
   },
   "outputs": [
    {
     "data": {
      "text/plain": [
       "['daniela', 'marc']"
      ]
     },
     "execution_count": 148,
     "metadata": {},
     "output_type": "execute_result"
    }
   ],
   "source": [
    "lista_2 = lista[-2:]\n",
    "lista_2"
   ]
  },
  {
   "cell_type": "code",
   "execution_count": 149,
   "metadata": {
    "ExecuteTime": {
     "end_time": "2021-01-30T18:39:59.488625Z",
     "start_time": "2021-01-30T18:39:59.475638Z"
    }
   },
   "outputs": [
    {
     "data": {
      "text/plain": [
       "['carlos', 'pedro', 'maria', 'daniela', 'marc', 'daniela', 'marc']"
      ]
     },
     "execution_count": 149,
     "metadata": {},
     "output_type": "execute_result"
    }
   ],
   "source": [
    "lista = lista + lista_2\n",
    "lista"
   ]
  },
  {
   "cell_type": "code",
   "execution_count": 150,
   "metadata": {
    "ExecuteTime": {
     "end_time": "2021-01-30T18:40:16.881664Z",
     "start_time": "2021-01-30T18:40:16.867660Z"
    }
   },
   "outputs": [
    {
     "data": {
      "text/plain": [
       "7"
      ]
     },
     "execution_count": 150,
     "metadata": {},
     "output_type": "execute_result"
    }
   ],
   "source": [
    "len(lista)"
   ]
  },
  {
   "cell_type": "code",
   "execution_count": 151,
   "metadata": {
    "ExecuteTime": {
     "end_time": "2021-01-30T18:40:40.975627Z",
     "start_time": "2021-01-30T18:40:40.960623Z"
    }
   },
   "outputs": [
    {
     "data": {
      "text/plain": [
       "'maria'"
      ]
     },
     "execution_count": 151,
     "metadata": {},
     "output_type": "execute_result"
    }
   ],
   "source": [
    "lista.pop(2)"
   ]
  },
  {
   "cell_type": "code",
   "execution_count": 159,
   "metadata": {
    "ExecuteTime": {
     "end_time": "2021-01-30T18:44:42.024920Z",
     "start_time": "2021-01-30T18:44:42.016920Z"
    }
   },
   "outputs": [
    {
     "data": {
      "text/plain": [
       "['carlos', 'pedro', 'daniela', 'marc', 'daniela', 'marc']"
      ]
     },
     "execution_count": 159,
     "metadata": {},
     "output_type": "execute_result"
    }
   ],
   "source": [
    "lista"
   ]
  },
  {
   "cell_type": "code",
   "execution_count": 161,
   "metadata": {
    "ExecuteTime": {
     "end_time": "2021-01-30T18:45:08.870002Z",
     "start_time": "2021-01-30T18:45:08.863001Z"
    }
   },
   "outputs": [],
   "source": [
    "lista[0] = list(lista[0])"
   ]
  },
  {
   "cell_type": "code",
   "execution_count": 162,
   "metadata": {
    "ExecuteTime": {
     "end_time": "2021-01-30T18:45:09.878890Z",
     "start_time": "2021-01-30T18:45:09.863882Z"
    }
   },
   "outputs": [
    {
     "data": {
      "text/plain": [
       "[['c', 'a', 'r', 'l', 'o', 's'], 'pedro', 'daniela', 'marc', 'daniela', 'marc']"
      ]
     },
     "execution_count": 162,
     "metadata": {},
     "output_type": "execute_result"
    }
   ],
   "source": [
    "lista "
   ]
  },
  {
   "cell_type": "markdown",
   "metadata": {},
   "source": [
    "## Tuplas"
   ]
  },
  {
   "cell_type": "markdown",
   "metadata": {},
   "source": [
    "### Definición"
   ]
  },
  {
   "cell_type": "markdown",
   "metadata": {},
   "source": [
    "Las tuplas son listas inmutables, es decir; **no modificables**.\n",
    "\n",
    "Se escriben con paréntesis **()**, mientras que recordemos que las listas se escriben con corchetes []."
   ]
  },
  {
   "cell_type": "markdown",
   "metadata": {},
   "source": [
    "##### EJEMPLO"
   ]
  },
  {
   "cell_type": "code",
   "execution_count": 75,
   "metadata": {
    "ExecuteTime": {
     "end_time": "2020-02-07T07:44:16.994964Z",
     "start_time": "2020-02-07T07:44:16.985314Z"
    }
   },
   "outputs": [
    {
     "data": {
      "text/plain": [
       "('donuts', 'manzanas', 'detergente')"
      ]
     },
     "execution_count": 75,
     "metadata": {},
     "output_type": "execute_result"
    }
   ],
   "source": [
    "tupla_compra = ('donuts','manzanas','detergente')\n",
    "tupla_compra"
   ]
  },
  {
   "cell_type": "markdown",
   "metadata": {},
   "source": [
    "**IMPORTANTE** Para crear una tupla con un solo elemento hay que añadirle una coma al final"
   ]
  },
  {
   "cell_type": "code",
   "execution_count": 82,
   "metadata": {
    "ExecuteTime": {
     "end_time": "2021-01-30T17:06:22.332822Z",
     "start_time": "2021-01-30T17:06:22.316190Z"
    }
   },
   "outputs": [
    {
     "data": {
      "text/plain": [
       "tuple"
      ]
     },
     "execution_count": 82,
     "metadata": {},
     "output_type": "execute_result"
    }
   ],
   "source": [
    "tupla_uno = (\"donuts\",)\n",
    "tupla_uno\n",
    "type(tupla_uno)"
   ]
  },
  {
   "cell_type": "markdown",
   "metadata": {},
   "source": [
    "#### Accedir a elementos de una tupla"
   ]
  },
  {
   "cell_type": "markdown",
   "metadata": {},
   "source": [
    "Accederemos a elementos de una tupla de la misma forma que hacíamos en las listas, especificando el nº de índice del elemento; entre claudátors"
   ]
  },
  {
   "cell_type": "code",
   "execution_count": 76,
   "metadata": {
    "ExecuteTime": {
     "end_time": "2020-02-07T07:45:53.411252Z",
     "start_time": "2020-02-07T07:45:53.400299Z"
    }
   },
   "outputs": [
    {
     "data": {
      "text/plain": [
       "'donuts'"
      ]
     },
     "execution_count": 76,
     "metadata": {},
     "output_type": "execute_result"
    }
   ],
   "source": [
    "tupla_compra[0] #accedemos a índice 0 para sacar 1r elemento de la tupla"
   ]
  },
  {
   "cell_type": "markdown",
   "metadata": {},
   "source": [
    "#### Indexado negativo"
   ]
  },
  {
   "cell_type": "markdown",
   "metadata": {},
   "source": [
    "De la misma forma, para sacar elementos empezando desde le final de la tupla usaremos el indexado negatvo. "
   ]
  },
  {
   "cell_type": "code",
   "execution_count": 77,
   "metadata": {
    "ExecuteTime": {
     "end_time": "2020-02-07T07:46:46.379206Z",
     "start_time": "2020-02-07T07:46:46.370596Z"
    }
   },
   "outputs": [
    {
     "data": {
      "text/plain": [
       "'detergente'"
      ]
     },
     "execution_count": 77,
     "metadata": {},
     "output_type": "execute_result"
    }
   ],
   "source": [
    "tupla_compra[-1] #sacamos el último elemento de la tupla"
   ]
  },
  {
   "cell_type": "markdown",
   "metadata": {},
   "source": [
    "#### Rango de indexado"
   ]
  },
  {
   "cell_type": "markdown",
   "metadata": {},
   "source": [
    "Igualmente, para sacar un conjunto de elementos de una tupla, especificaremos el rango de posiciones que ocupan estos elementos en la tupla; siendo el primer índice la posición de inicio (incluida) y el último índice la posición de final + 1 (no se incluye)"
   ]
  },
  {
   "cell_type": "code",
   "execution_count": 81,
   "metadata": {
    "ExecuteTime": {
     "end_time": "2020-02-07T07:48:38.633619Z",
     "start_time": "2020-02-07T07:48:38.627353Z"
    }
   },
   "outputs": [
    {
     "data": {
      "text/plain": [
       "('donuts', 'manzanas')"
      ]
     },
     "execution_count": 81,
     "metadata": {},
     "output_type": "execute_result"
    }
   ],
   "source": [
    "tupla_compra[0:2] #sacamos primer elemento y segundo, que ocupan posición 0 y 1"
   ]
  },
  {
   "cell_type": "markdown",
   "metadata": {},
   "source": [
    "**Importante!** \n",
    "- Recuerda que el primer ítem en una lista o tupla ocupa el índice 0!\n",
    "- Recuerda que los rangos son cerrados por la izquierda y abiertos por la derecha!"
   ]
  },
  {
   "cell_type": "markdown",
   "metadata": {},
   "source": [
    "####  Rango de indexado negativo"
   ]
  },
  {
   "cell_type": "markdown",
   "metadata": {},
   "source": [
    "Para empezar la búsqeuda de elementos empezando por el final de la lista, usaremos índices negativos, siendo el primer índice el más anterior."
   ]
  },
  {
   "cell_type": "code",
   "execution_count": 83,
   "metadata": {
    "ExecuteTime": {
     "end_time": "2020-02-07T07:51:29.209896Z",
     "start_time": "2020-02-07T07:51:29.202951Z"
    }
   },
   "outputs": [
    {
     "data": {
      "text/plain": [
       "('donuts', 'manzanas')"
      ]
     },
     "execution_count": 83,
     "metadata": {},
     "output_type": "execute_result"
    }
   ],
   "source": [
    "tupla_compra[-3:-1]"
   ]
  },
  {
   "cell_type": "markdown",
   "metadata": {},
   "source": [
    "### Funciones de Tuplas"
   ]
  },
  {
   "cell_type": "markdown",
   "metadata": {},
   "source": [
    "| Función | Descripción\n",
    "|:---|:---|\n",
    "|len(tuple1)|Devuelve longitud de la tupla\n",
    "|max(tuple1)|Devuelve el elemento de máximo valor de la tupla|\n",
    "|min(tuple1)|Devuelve el elemento de mínimo valor de la tupla||\n",
    "|tuple(sec)|Convierte la lista en una tupla|"
   ]
  },
  {
   "cell_type": "markdown",
   "metadata": {},
   "source": [
    "### Métodos de Tuplas"
   ]
  },
  {
   "cell_type": "markdown",
   "metadata": {},
   "source": [
    "| Método | Descripción\n",
    "|:---|:---| \n",
    "|len()\t|Devuelve el número de elementos que hay en la tupla|\n",
    "|count()\t|Devuelve el número de veces que un elemento aparece en la tupla|\n",
    "|index()\t|Busca en la tupla un elemento especificado y devuelve la posición que ocupa en la tupla|"
   ]
  },
  {
   "cell_type": "markdown",
   "metadata": {},
   "source": [
    "##### EJEMPLO: Longitud de la tupla"
   ]
  },
  {
   "cell_type": "code",
   "execution_count": 4,
   "metadata": {
    "ExecuteTime": {
     "end_time": "2020-02-19T16:35:06.808909Z",
     "start_time": "2020-02-19T16:35:06.805122Z"
    }
   },
   "outputs": [],
   "source": [
    "tupla_nombres = (\"Marco\", \"Ana\", \"Sofía\",\"Roberto\",\"Carlos\",\"Laura\",\"Estefanía\")"
   ]
  },
  {
   "cell_type": "code",
   "execution_count": 85,
   "metadata": {
    "ExecuteTime": {
     "end_time": "2020-02-07T07:55:30.080931Z",
     "start_time": "2020-02-07T07:55:30.072842Z"
    }
   },
   "outputs": [
    {
     "data": {
      "text/plain": [
       "7"
      ]
     },
     "execution_count": 85,
     "metadata": {},
     "output_type": "execute_result"
    }
   ],
   "source": [
    "len(tupla_nombres)"
   ]
  },
  {
   "cell_type": "markdown",
   "metadata": {},
   "source": [
    "##### EJEMPLO: Añade elementos? NO!"
   ]
  },
  {
   "cell_type": "markdown",
   "metadata": {},
   "source": [
    "Al ser una tupla no modificable no podemos añadirle elementos!!"
   ]
  },
  {
   "cell_type": "code",
   "execution_count": 86,
   "metadata": {
    "ExecuteTime": {
     "end_time": "2020-02-07T07:56:12.435712Z",
     "start_time": "2020-02-07T07:56:12.422675Z"
    }
   },
   "outputs": [
    {
     "ename": "TypeError",
     "evalue": "'tuple' object does not support item assignment",
     "output_type": "error",
     "traceback": [
      "\u001b[0;31m---------------------------------------------------------------------------\u001b[0m",
      "\u001b[0;31mTypeError\u001b[0m                                 Traceback (most recent call last)",
      "\u001b[0;32m<ipython-input-86-40ec53b4a53f>\u001b[0m in \u001b[0;36m<module>\u001b[0;34m\u001b[0m\n\u001b[0;32m----> 1\u001b[0;31m \u001b[0mtupla_nombres\u001b[0m\u001b[0;34m[\u001b[0m\u001b[0;36m7\u001b[0m\u001b[0;34m]\u001b[0m \u001b[0;34m=\u001b[0m \u001b[0;34m\"Maria\"\u001b[0m\u001b[0;34m\u001b[0m\u001b[0;34m\u001b[0m\u001b[0m\n\u001b[0m",
      "\u001b[0;31mTypeError\u001b[0m: 'tuple' object does not support item assignment"
     ]
    }
   ],
   "source": [
    "tupla_nombres[7] = \"Maria\""
   ]
  },
  {
   "cell_type": "markdown",
   "metadata": {},
   "source": [
    "##### EJEMPLO: Elimina elementos? NO!"
   ]
  },
  {
   "cell_type": "markdown",
   "metadata": {},
   "source": [
    "No se puede modificar una tupla y por lo tanto no se pueden eliminar elementos!"
   ]
  },
  {
   "cell_type": "markdown",
   "metadata": {},
   "source": [
    "Sin embargo, sí se puede elimintar la tupla entera"
   ]
  },
  {
   "cell_type": "code",
   "execution_count": 89,
   "metadata": {
    "ExecuteTime": {
     "end_time": "2020-02-08T08:33:30.202750Z",
     "start_time": "2020-02-08T08:33:30.197391Z"
    }
   },
   "outputs": [],
   "source": [
    "del tupla_nombres"
   ]
  },
  {
   "cell_type": "code",
   "execution_count": 90,
   "metadata": {
    "ExecuteTime": {
     "end_time": "2020-02-08T08:33:34.159493Z",
     "start_time": "2020-02-08T08:33:34.109292Z"
    }
   },
   "outputs": [
    {
     "ename": "NameError",
     "evalue": "name 'tupla_nombres' is not defined",
     "output_type": "error",
     "traceback": [
      "\u001b[0;31m---------------------------------------------------------------------------\u001b[0m",
      "\u001b[0;31mNameError\u001b[0m                                 Traceback (most recent call last)",
      "\u001b[0;32m<ipython-input-90-f008501ce15d>\u001b[0m in \u001b[0;36m<module>\u001b[0;34m\u001b[0m\n\u001b[0;32m----> 1\u001b[0;31m \u001b[0mtupla_nombres\u001b[0m\u001b[0;34m\u001b[0m\u001b[0;34m\u001b[0m\u001b[0m\n\u001b[0m",
      "\u001b[0;31mNameError\u001b[0m: name 'tupla_nombres' is not defined"
     ]
    }
   ],
   "source": [
    "#tupla_nombres"
   ]
  },
  {
   "cell_type": "markdown",
   "metadata": {},
   "source": [
    "##### EJEMPLO: Concatenar dos tuplas"
   ]
  },
  {
   "cell_type": "code",
   "execution_count": 113,
   "metadata": {
    "ExecuteTime": {
     "end_time": "2021-01-07T22:00:48.936527Z",
     "start_time": "2021-01-07T22:00:48.920523Z"
    }
   },
   "outputs": [],
   "source": [
    "tupla_1 = (\"a\",\"b\",\"c\")\n",
    "tupla_2 = (1,2,3)"
   ]
  },
  {
   "cell_type": "code",
   "execution_count": 114,
   "metadata": {
    "ExecuteTime": {
     "end_time": "2021-01-07T22:00:49.472570Z",
     "start_time": "2021-01-07T22:00:49.457691Z"
    }
   },
   "outputs": [
    {
     "data": {
      "text/plain": [
       "('a', 'b', 'c', 1, 2, 3)"
      ]
     },
     "execution_count": 114,
     "metadata": {},
     "output_type": "execute_result"
    }
   ],
   "source": [
    "tupla_3 = tupla_1 + tupla_2\n",
    "tupla_3"
   ]
  },
  {
   "cell_type": "markdown",
   "metadata": {},
   "source": [
    "## Sets"
   ]
  },
  {
   "cell_type": "markdown",
   "metadata": {},
   "source": [
    "### Introducción"
   ]
  },
  {
   "cell_type": "markdown",
   "metadata": {},
   "source": [
    "Un set es una colección de datos sin ordenación ni indexación. En Python, los sets se escriben con {}"
   ]
  },
  {
   "cell_type": "markdown",
   "metadata": {},
   "source": [
    "Como los sets no son ordenados no puedes estar seguro con qué orden aparecen los elementos."
   ]
  },
  {
   "cell_type": "markdown",
   "metadata": {},
   "source": [
    "##### EJEMPLO:"
   ]
  },
  {
   "cell_type": "code",
   "execution_count": 117,
   "metadata": {
    "ExecuteTime": {
     "end_time": "2021-01-07T22:05:48.011674Z",
     "start_time": "2021-01-07T22:05:48.004662Z"
    }
   },
   "outputs": [
    {
     "data": {
      "text/plain": [
       "{'cuarto', 'primero', 'segundo', 'tercero'}"
      ]
     },
     "execution_count": 117,
     "metadata": {},
     "output_type": "execute_result"
    }
   ],
   "source": [
    "mi_set = {\"primero\",\"segundo\",\"tercero\",\"cuarto\"}\n",
    "mi_set"
   ]
  },
  {
   "cell_type": "code",
   "execution_count": null,
   "metadata": {},
   "outputs": [],
   "source": [
    "mi_set"
   ]
  },
  {
   "cell_type": "code",
   "execution_count": 67,
   "metadata": {
    "ExecuteTime": {
     "end_time": "2020-02-19T19:27:15.923540Z",
     "start_time": "2020-02-19T19:27:15.916852Z"
    }
   },
   "outputs": [
    {
     "data": {
      "text/plain": [
       "['segundo', 'primero', 'tercero', 'cuarto']"
      ]
     },
     "execution_count": 67,
     "metadata": {},
     "output_type": "execute_result"
    }
   ],
   "source": [
    "mi_lista = list(mi_set)"
   ]
  },
  {
   "cell_type": "code",
   "execution_count": 68,
   "metadata": {
    "ExecuteTime": {
     "end_time": "2020-02-19T19:27:59.751168Z",
     "start_time": "2020-02-19T19:27:59.744638Z"
    }
   },
   "outputs": [
    {
     "data": {
      "text/plain": [
       "list"
      ]
     },
     "execution_count": 68,
     "metadata": {},
     "output_type": "execute_result"
    }
   ],
   "source": [
    "type(mi_lista)"
   ]
  },
  {
   "cell_type": "markdown",
   "metadata": {},
   "source": [
    "#### No puedes acceder a elementos de un set"
   ]
  },
  {
   "cell_type": "markdown",
   "metadata": {},
   "source": [
    "Dado que un set no está ordenado ni tiene indexado, no se puede acceder a un elemento de un set mediante un índice!"
   ]
  },
  {
   "cell_type": "markdown",
   "metadata": {},
   "source": [
    "#### No puedes cambiar elementos de un set"
   ]
  },
  {
   "cell_type": "markdown",
   "metadata": {},
   "source": [
    "Una vez has creado un set, tampoco cambiar elementos; aunque sí podrás añadirle."
   ]
  },
  {
   "cell_type": "markdown",
   "metadata": {},
   "source": [
    "### Métodos de set"
   ]
  },
  {
   "cell_type": "markdown",
   "metadata": {},
   "source": [
    "| Método | Descripción\n",
    "|:---|:---| \n",
    "|add()\t| Añade un elemento al set |\n",
    "|clear()\t| Borra todos los elementos de un set |\n",
    "|copy()|\tDevuelve una copia del set|\n",
    "|difference()\t| Devuelve un set que contiene la diferencia entre dos o más sets|\n",
    "|difference_update()|\tBorra los elementos en el set que también aparecen en otro set especificado |\n",
    "|discard()\t|Borra el ítem especificado |\n",
    "|intersection()\t|Devuelve un set que es la intersección de dos sets|\n",
    "|intersection_update()|\tBorra los elementos en el set que no aparecen en otro/s set/s especificados|\n",
    "|isdisjoint()|\tDevuelve si dos sets tienen una intersección o no |\n",
    "|issubset()|\tDevuelve si otro set contiene al set especificado o no |\n",
    "|issuperset()|\tDevuelve si el set contiene a otro set o no |\n",
    "|pop()|\tBorra un elemento del set |\n",
    "|remove()|\tBorra el elemento especificado |\n",
    "|symmetric_difference()|\tDevuelve un set con la diferencia simétrica de dos sets|\n",
    "|symmetric_difference_update()|\tInserta la diferencia simétrica de un set con otro |\n",
    "|union()|\tDevuelve un set que contiene la union de sets|\n",
    "|update()|\tActualiza el set con la union del set con otros sets|"
   ]
  },
  {
   "cell_type": "markdown",
   "metadata": {},
   "source": [
    "##### EJEMPLO: Añadir un elemento - add()"
   ]
  },
  {
   "cell_type": "markdown",
   "metadata": {},
   "source": [
    "Para añadir un elemento a un set usamos el método **add()**."
   ]
  },
  {
   "cell_type": "code",
   "execution_count": 84,
   "metadata": {
    "ExecuteTime": {
     "end_time": "2021-01-30T17:17:42.755771Z",
     "start_time": "2021-01-30T17:17:42.737725Z"
    }
   },
   "outputs": [],
   "source": [
    "set_nombres = {\"Ana\",\"Yolanda\",\"Alberto\",\"Ricardo\",\"Marcos\"}"
   ]
  },
  {
   "cell_type": "code",
   "execution_count": 99,
   "metadata": {
    "ExecuteTime": {
     "end_time": "2020-02-08T08:54:14.938954Z",
     "start_time": "2020-02-08T08:54:14.934806Z"
    }
   },
   "outputs": [],
   "source": [
    "set_nombres.add(\"Montse\")"
   ]
  },
  {
   "cell_type": "code",
   "execution_count": 100,
   "metadata": {
    "ExecuteTime": {
     "end_time": "2020-02-08T08:54:23.077555Z",
     "start_time": "2020-02-08T08:54:23.071514Z"
    }
   },
   "outputs": [
    {
     "data": {
      "text/plain": [
       "{'Alberto', 'Ana', 'Marcos', 'Montse', 'Ricardo', 'Yolanda'}"
      ]
     },
     "execution_count": 100,
     "metadata": {},
     "output_type": "execute_result"
    }
   ],
   "source": [
    "set_nombres"
   ]
  },
  {
   "cell_type": "markdown",
   "metadata": {},
   "source": [
    "Fijaros que el set, al no tener orden, el elemento nuevo no va al final de la cadena!"
   ]
  },
  {
   "cell_type": "markdown",
   "metadata": {},
   "source": [
    "##### EJEMPLO: Añadir varios elementos - update()"
   ]
  },
  {
   "cell_type": "markdown",
   "metadata": {},
   "source": [
    "Para añadir varios elementos en un set usamos el método **update()**, y los elementos a añadir los contenemos como una lista, es decir entre claudátors []."
   ]
  },
  {
   "cell_type": "code",
   "execution_count": 101,
   "metadata": {
    "ExecuteTime": {
     "end_time": "2020-02-08T08:56:15.469188Z",
     "start_time": "2020-02-08T08:56:15.465116Z"
    }
   },
   "outputs": [],
   "source": [
    "set_nombres.update([\"Alberto\",\"Judith\",\"Matías\"])"
   ]
  },
  {
   "cell_type": "code",
   "execution_count": 102,
   "metadata": {
    "ExecuteTime": {
     "end_time": "2020-02-08T08:56:18.722367Z",
     "start_time": "2020-02-08T08:56:18.716125Z"
    }
   },
   "outputs": [
    {
     "data": {
      "text/plain": [
       "{'Alberto',\n",
       " 'Ana',\n",
       " 'Judith',\n",
       " 'Marcos',\n",
       " 'Matías',\n",
       " 'Montse',\n",
       " 'Ricardo',\n",
       " 'Yolanda'}"
      ]
     },
     "execution_count": 102,
     "metadata": {},
     "output_type": "execute_result"
    }
   ],
   "source": [
    "set_nombres"
   ]
  },
  {
   "cell_type": "markdown",
   "metadata": {},
   "source": [
    "##### EJEMPLO: Longitud de un set - len()"
   ]
  },
  {
   "cell_type": "markdown",
   "metadata": {},
   "source": [
    "Para determinar cuántos elementos contiene un set, usamos el método **len()**"
   ]
  },
  {
   "cell_type": "code",
   "execution_count": 103,
   "metadata": {
    "ExecuteTime": {
     "end_time": "2020-02-08T08:56:57.686532Z",
     "start_time": "2020-02-08T08:56:57.679885Z"
    }
   },
   "outputs": [
    {
     "data": {
      "text/plain": [
       "8"
      ]
     },
     "execution_count": 103,
     "metadata": {},
     "output_type": "execute_result"
    }
   ],
   "source": [
    "len(set_nombres)"
   ]
  },
  {
   "cell_type": "markdown",
   "metadata": {},
   "source": [
    "##### EJEMPLO: Borrar un elemento determinado - remove() o discard()"
   ]
  },
  {
   "cell_type": "code",
   "execution_count": 104,
   "metadata": {
    "ExecuteTime": {
     "end_time": "2020-02-08T08:57:29.324829Z",
     "start_time": "2020-02-08T08:57:29.317118Z"
    }
   },
   "outputs": [
    {
     "data": {
      "text/plain": [
       "{'Alberto',\n",
       " 'Ana',\n",
       " 'Judith',\n",
       " 'Marcos',\n",
       " 'Matías',\n",
       " 'Montse',\n",
       " 'Ricardo',\n",
       " 'Yolanda'}"
      ]
     },
     "execution_count": 104,
     "metadata": {},
     "output_type": "execute_result"
    }
   ],
   "source": [
    "set_nombres"
   ]
  },
  {
   "cell_type": "code",
   "execution_count": 105,
   "metadata": {
    "ExecuteTime": {
     "end_time": "2020-02-08T08:57:36.669322Z",
     "start_time": "2020-02-08T08:57:36.665442Z"
    }
   },
   "outputs": [],
   "source": [
    "set_nombres.remove(\"Ana\")"
   ]
  },
  {
   "cell_type": "markdown",
   "metadata": {},
   "source": [
    "**Importante!** Si quisiéramos eliminar un elemento del set que no está contenido en el set, **nos saltaría un error al aplicar el remove()**"
   ]
  },
  {
   "cell_type": "code",
   "execution_count": 106,
   "metadata": {
    "ExecuteTime": {
     "end_time": "2020-02-08T08:58:22.138310Z",
     "start_time": "2020-02-08T08:58:22.134619Z"
    }
   },
   "outputs": [],
   "source": [
    "set_nombres.discard(\"Yolanda\")"
   ]
  },
  {
   "cell_type": "markdown",
   "metadata": {},
   "source": [
    "**Importante!** Si quisiéramos eliminar un elemento del set que no está contenido en el set, **NO nos saltaría un error al aplicar el discard()**"
   ]
  },
  {
   "cell_type": "markdown",
   "metadata": {},
   "source": [
    "##### EJEMPLO: Borrar último elemento del set- pop()"
   ]
  },
  {
   "cell_type": "markdown",
   "metadata": {},
   "source": [
    "Si queremos borrar el primer elemento del set usaremos el método **pop()**. Sin embardo, como los sets no son ordenados, no sabremos qué elemento vamos a borrar. "
   ]
  },
  {
   "cell_type": "code",
   "execution_count": 85,
   "metadata": {
    "ExecuteTime": {
     "end_time": "2021-01-30T17:17:47.770518Z",
     "start_time": "2021-01-30T17:17:47.763528Z"
    }
   },
   "outputs": [
    {
     "data": {
      "text/plain": [
       "5"
      ]
     },
     "execution_count": 85,
     "metadata": {},
     "output_type": "execute_result"
    }
   ],
   "source": [
    "len(set_nombres)"
   ]
  },
  {
   "cell_type": "code",
   "execution_count": 86,
   "metadata": {
    "ExecuteTime": {
     "end_time": "2021-01-30T17:17:49.529142Z",
     "start_time": "2021-01-30T17:17:49.512744Z"
    }
   },
   "outputs": [
    {
     "data": {
      "text/plain": [
       "{'Alberto', 'Ana', 'Marcos', 'Ricardo', 'Yolanda'}"
      ]
     },
     "execution_count": 86,
     "metadata": {},
     "output_type": "execute_result"
    }
   ],
   "source": [
    "set_nombres"
   ]
  },
  {
   "cell_type": "code",
   "execution_count": 87,
   "metadata": {
    "ExecuteTime": {
     "end_time": "2021-01-30T17:17:55.607758Z",
     "start_time": "2021-01-30T17:17:55.601759Z"
    }
   },
   "outputs": [
    {
     "data": {
      "text/plain": [
       "'Alberto'"
      ]
     },
     "execution_count": 87,
     "metadata": {},
     "output_type": "execute_result"
    }
   ],
   "source": [
    "set_nombres.pop()"
   ]
  },
  {
   "cell_type": "code",
   "execution_count": 88,
   "metadata": {
    "ExecuteTime": {
     "end_time": "2021-01-30T17:17:57.145862Z",
     "start_time": "2021-01-30T17:17:57.133845Z"
    }
   },
   "outputs": [
    {
     "data": {
      "text/plain": [
       "4"
      ]
     },
     "execution_count": 88,
     "metadata": {},
     "output_type": "execute_result"
    }
   ],
   "source": [
    "len(set_nombres)"
   ]
  },
  {
   "cell_type": "code",
   "execution_count": 89,
   "metadata": {
    "ExecuteTime": {
     "end_time": "2021-01-30T17:17:58.457753Z",
     "start_time": "2021-01-30T17:17:58.445746Z"
    }
   },
   "outputs": [
    {
     "data": {
      "text/plain": [
       "{'Ana', 'Marcos', 'Ricardo', 'Yolanda'}"
      ]
     },
     "execution_count": 89,
     "metadata": {},
     "output_type": "execute_result"
    }
   ],
   "source": [
    "set_nombres"
   ]
  },
  {
   "cell_type": "markdown",
   "metadata": {},
   "source": [
    "##### EJEMPLO: Vaciar un set - clear()"
   ]
  },
  {
   "cell_type": "markdown",
   "metadata": {},
   "source": [
    "El método **clear()** vacía el set de todos sus elementos"
   ]
  },
  {
   "cell_type": "code",
   "execution_count": 115,
   "metadata": {
    "ExecuteTime": {
     "end_time": "2020-02-08T09:02:03.971190Z",
     "start_time": "2020-02-08T09:02:03.968008Z"
    }
   },
   "outputs": [],
   "source": [
    "set_nombres.clear()"
   ]
  },
  {
   "cell_type": "code",
   "execution_count": 116,
   "metadata": {
    "ExecuteTime": {
     "end_time": "2020-02-08T09:02:08.486920Z",
     "start_time": "2020-02-08T09:02:08.481707Z"
    }
   },
   "outputs": [
    {
     "data": {
      "text/plain": [
       "set()"
      ]
     },
     "execution_count": 116,
     "metadata": {},
     "output_type": "execute_result"
    }
   ],
   "source": [
    "set_nombres"
   ]
  },
  {
   "cell_type": "code",
   "execution_count": 117,
   "metadata": {
    "ExecuteTime": {
     "end_time": "2020-02-08T09:02:11.708460Z",
     "start_time": "2020-02-08T09:02:11.702309Z"
    }
   },
   "outputs": [
    {
     "data": {
      "text/plain": [
       "0"
      ]
     },
     "execution_count": 117,
     "metadata": {},
     "output_type": "execute_result"
    }
   ],
   "source": [
    "len(set_nombres)"
   ]
  },
  {
   "cell_type": "markdown",
   "metadata": {},
   "source": [
    "##### EJEMPLO: Eliminar un set - del()"
   ]
  },
  {
   "cell_type": "markdown",
   "metadata": {},
   "source": [
    "Finamente, el método **del()** borra un set completamente."
   ]
  },
  {
   "cell_type": "code",
   "execution_count": 118,
   "metadata": {
    "ExecuteTime": {
     "end_time": "2020-02-08T09:02:49.317506Z",
     "start_time": "2020-02-08T09:02:49.312952Z"
    }
   },
   "outputs": [],
   "source": [
    "del set_nombres"
   ]
  },
  {
   "cell_type": "markdown",
   "metadata": {},
   "source": [
    "##### EJEMPLO: Concatenar o Join de sets- union() y update()"
   ]
  },
  {
   "cell_type": "markdown",
   "metadata": {},
   "source": [
    "Existen varias manera de unir dos o más sets en Python."
   ]
  },
  {
   "cell_type": "markdown",
   "metadata": {},
   "source": [
    "El método **union()** devuelve un **nuevo set** que contiene los elementos de ambos sets"
   ]
  },
  {
   "cell_type": "code",
   "execution_count": 120,
   "metadata": {
    "ExecuteTime": {
     "end_time": "2020-02-08T09:06:33.762807Z",
     "start_time": "2020-02-08T09:06:33.755161Z"
    }
   },
   "outputs": [
    {
     "data": {
      "text/plain": [
       "{1, 2, 3, 'a', 'b', 'c'}"
      ]
     },
     "execution_count": 120,
     "metadata": {},
     "output_type": "execute_result"
    }
   ],
   "source": [
    "set1 = {\"a\",\"b\",\"c\"}\n",
    "set2 = {1,2,3}\n",
    "\n",
    "set3 = set1.union(set2)\n",
    "set3"
   ]
  },
  {
   "cell_type": "markdown",
   "metadata": {},
   "source": [
    "Mientras que el método **update()** inserta todos los elementos de un set a un **set ya existente**"
   ]
  },
  {
   "cell_type": "code",
   "execution_count": 122,
   "metadata": {
    "ExecuteTime": {
     "end_time": "2020-02-08T09:06:55.984280Z",
     "start_time": "2020-02-08T09:06:55.976289Z"
    }
   },
   "outputs": [
    {
     "data": {
      "text/plain": [
       "{1, 2, 3, 'a', 'b', 'c'}"
      ]
     },
     "execution_count": 122,
     "metadata": {},
     "output_type": "execute_result"
    }
   ],
   "source": [
    "set1 = {\"a\",\"b\",\"c\"}\n",
    "set2 = {1,2,3}\n",
    "\n",
    "set1.update(set2)\n",
    "set1"
   ]
  },
  {
   "cell_type": "markdown",
   "metadata": {},
   "source": [
    "**Importante!** Tanto el método union() como el update() excluyen elementos duplicados!"
   ]
  },
  {
   "cell_type": "code",
   "execution_count": 123,
   "metadata": {
    "ExecuteTime": {
     "end_time": "2020-02-08T09:07:47.398211Z",
     "start_time": "2020-02-08T09:07:47.389724Z"
    }
   },
   "outputs": [
    {
     "data": {
      "text/plain": [
       "{'a', 'b', 'c', 'd', 'e'}"
      ]
     },
     "execution_count": 123,
     "metadata": {},
     "output_type": "execute_result"
    }
   ],
   "source": [
    "set1 = {\"a\",\"b\",\"c\"}\n",
    "set2 = {\"b\",\"c\",\"d\",\"e\"}\n",
    "\n",
    "set1.update(set2)\n",
    "set1"
   ]
  },
  {
   "cell_type": "markdown",
   "metadata": {},
   "source": [
    "## Diccionarios"
   ]
  },
  {
   "cell_type": "markdown",
   "metadata": {},
   "source": [
    "### Introducción"
   ]
  },
  {
   "cell_type": "markdown",
   "metadata": {},
   "source": [
    "Un diccionario es una colección de datos **no ordenada**, **modificable** e **indexada**. \n",
    "\n",
    "En Python, los diccionarios se escribem con {} y tienen dos tipos de elementos:\n",
    "- etiquetas (*keys* o índices con nombre)\n",
    "- valores"
   ]
  },
  {
   "cell_type": "markdown",
   "metadata": {},
   "source": [
    "Los valores de los diccionarios no tienen restricciones. \n",
    "\n",
    "**Importante!** Las etiquetas o *keys* de los diccionarios sí tienen restricciones: \n",
    "\n",
    "- No se permite más de un valor por key. Lo que significa que **no pueden existir keys duplicadas!!** Si se repitiera una key, prevalece la última definida! \n"
   ]
  },
  {
   "cell_type": "markdown",
   "metadata": {},
   "source": [
    "##### EJEMPLO: "
   ]
  },
  {
   "cell_type": "code",
   "execution_count": 92,
   "metadata": {
    "ExecuteTime": {
     "end_time": "2021-01-30T17:27:11.700971Z",
     "start_time": "2021-01-30T17:27:11.694016Z"
    }
   },
   "outputs": [
    {
     "data": {
      "text/plain": [
       "{'marca': 'Ford', 'modelo': 'Mustang', 'año': 1962}"
      ]
     },
     "execution_count": 92,
     "metadata": {},
     "output_type": "execute_result"
    }
   ],
   "source": [
    "mi_diccionario = {\n",
    "    \"marca\":\"Ford\",\n",
    "    \"modelo\":\"Mustang\",\n",
    "    \"año\": 1962\n",
    "}\n",
    "\n",
    "mi_diccionario"
   ]
  },
  {
   "cell_type": "markdown",
   "metadata": {},
   "source": [
    "Es decir, \n",
    "- las etiquetas mi diccionario (o *keys*) son: \"marca\", \"Modelo\" y \"año\"\n",
    "- los valores asociados a cada clave del diccionario son: \"Ford\",\"Mustang\" y 1962"
   ]
  },
  {
   "cell_type": "code",
   "execution_count": 70,
   "metadata": {
    "ExecuteTime": {
     "end_time": "2020-02-19T19:51:38.491175Z",
     "start_time": "2020-02-19T19:51:38.484115Z"
    }
   },
   "outputs": [
    {
     "data": {
      "text/plain": [
       "{'marca': 'Ford', 'modelo': 'Mustang', 'año': 1962}"
      ]
     },
     "execution_count": 70,
     "metadata": {},
     "output_type": "execute_result"
    }
   ],
   "source": [
    "mi_diccionario"
   ]
  },
  {
   "cell_type": "code",
   "execution_count": 76,
   "metadata": {
    "ExecuteTime": {
     "end_time": "2020-02-19T19:55:43.858887Z",
     "start_time": "2020-02-19T19:55:43.853216Z"
    }
   },
   "outputs": [
    {
     "data": {
      "text/plain": [
       "'Mustang'"
      ]
     },
     "execution_count": 76,
     "metadata": {},
     "output_type": "execute_result"
    }
   ],
   "source": [
    "mi_diccionario['modelo']"
   ]
  },
  {
   "cell_type": "markdown",
   "metadata": {},
   "source": [
    "##### EJEMPLO - keys"
   ]
  },
  {
   "cell_type": "code",
   "execution_count": 91,
   "metadata": {
    "ExecuteTime": {
     "end_time": "2021-01-30T17:24:55.853374Z",
     "start_time": "2021-01-30T17:24:55.833082Z"
    }
   },
   "outputs": [
    {
     "name": "stdout",
     "output_type": "stream",
     "text": [
      "dict['Name']:  Manni\n"
     ]
    }
   ],
   "source": [
    "dict = {'Name': 'Zara', 'Age': 7, 'Name': 'Manni'}\n",
    "print (\"dict['Name']: \", dict['Name'])"
   ]
  },
  {
   "cell_type": "markdown",
   "metadata": {},
   "source": [
    "#### Acceder a elementos de un diccionario"
   ]
  },
  {
   "cell_type": "markdown",
   "metadata": {},
   "source": [
    "Se puede acceder a un elemento de un diccionario **mediante la referencia al nombre de su clave o etiqueta** dentro de corchetes []"
   ]
  },
  {
   "cell_type": "code",
   "execution_count": 125,
   "metadata": {
    "ExecuteTime": {
     "end_time": "2020-02-08T09:14:36.500650Z",
     "start_time": "2020-02-08T09:14:36.493200Z"
    }
   },
   "outputs": [
    {
     "data": {
      "text/plain": [
       "'Ford'"
      ]
     },
     "execution_count": 125,
     "metadata": {},
     "output_type": "execute_result"
    }
   ],
   "source": [
    "mi_diccionario[\"marca\"]"
   ]
  },
  {
   "cell_type": "markdown",
   "metadata": {},
   "source": [
    "He accedido al valor que guarda la etiqueta \"marca\". "
   ]
  },
  {
   "cell_type": "markdown",
   "metadata": {},
   "source": [
    "#### Cambiar valor de un elemento del diccionario"
   ]
  },
  {
   "cell_type": "markdown",
   "metadata": {},
   "source": [
    "Si accedo a la posición de una determinada etiqueta del diccionario y le asigno un nuevo valor, he cambiado el valor de ese elemento al que he accedido"
   ]
  },
  {
   "cell_type": "markdown",
   "metadata": {},
   "source": [
    "##### EJEMPLO:"
   ]
  },
  {
   "cell_type": "code",
   "execution_count": 126,
   "metadata": {
    "ExecuteTime": {
     "end_time": "2020-02-08T09:15:58.268933Z",
     "start_time": "2020-02-08T09:15:58.262692Z"
    }
   },
   "outputs": [
    {
     "data": {
      "text/plain": [
       "{'marca': 'Ford', 'modelo': 'Mustang', 'año': 1962}"
      ]
     },
     "execution_count": 126,
     "metadata": {},
     "output_type": "execute_result"
    }
   ],
   "source": [
    "mi_diccionario"
   ]
  },
  {
   "cell_type": "code",
   "execution_count": 127,
   "metadata": {
    "ExecuteTime": {
     "end_time": "2020-02-08T09:16:13.104154Z",
     "start_time": "2020-02-08T09:16:13.098855Z"
    }
   },
   "outputs": [
    {
     "data": {
      "text/plain": [
       "{'marca': 'Ford', 'modelo': 'Mustang', 'año': '2018'}"
      ]
     },
     "execution_count": 127,
     "metadata": {},
     "output_type": "execute_result"
    }
   ],
   "source": [
    "mi_diccionario[\"año\"] = '2018'\n",
    "mi_diccionario"
   ]
  },
  {
   "cell_type": "markdown",
   "metadata": {},
   "source": [
    "### Funciones de diccionario"
   ]
  },
  {
   "cell_type": "markdown",
   "metadata": {},
   "source": [
    "| Función | Descripción\n",
    "|:---|:---|\n",
    "|len(dict)|Devuelve longitud del diccionario, es decir nº elementos que tiene\n",
    "|str(dict1)|Devuelve una versión imprimible del diccionario|\n",
    "|type(dict1)|Devuelve el tipo del diccionario|"
   ]
  },
  {
   "cell_type": "markdown",
   "metadata": {},
   "source": [
    "### Métodos de un diccionario"
   ]
  },
  {
   "cell_type": "markdown",
   "metadata": {},
   "source": [
    "| Método | Descripción\n",
    "|:---|:---| \n",
    "|dict.clear()|\tBorra todos los elementos de un diccionario|\n",
    "|dict.copy()|Devuelve una copia del diccionario|\n",
    "|dict.fromkeys()|Devuelve un diccionario con las etiquetas y valores deseados|\n",
    "|dict.get()|\tDevuelve el valor de una etiqueta específica |\n",
    "|dict.items()|\tDevuelve una **lista** que contiene una **tupla** para cada pareja de etiqueta-valor |\n",
    "|dict.keys()|Devuelve una **lista** que contiene las **etiquetas** del diccionario|\n",
    "|dict.pop()|\tBorra el elemento según la etiqueta especificada |\n",
    "|dict.popitem()|\tBorra la última pareja etiqueta-valor insertada |\n",
    "|dict.setdefault()|\tDevuelve el valor de la etiqueta especificada. Si la etiqueta no existe, al insertar la etiqueta especifica el valor que almacenará|\n",
    "|dict.update()|\tActualiza el diccionario con la pareja etiqueta-valor especificada|\n",
    "|dict.values()|\tDevuelve una **lista** de todos los **valores** del diccionarion|"
   ]
  },
  {
   "cell_type": "markdown",
   "metadata": {},
   "source": [
    "##### EJEMPLO: Longitud de un diccionario - len()"
   ]
  },
  {
   "cell_type": "code",
   "execution_count": 93,
   "metadata": {
    "ExecuteTime": {
     "end_time": "2021-01-30T17:27:19.516157Z",
     "start_time": "2021-01-30T17:27:19.499154Z"
    }
   },
   "outputs": [
    {
     "data": {
      "text/plain": [
       "{'marca': 'Ford', 'modelo': 'Mustang', 'año': 1962}"
      ]
     },
     "execution_count": 93,
     "metadata": {},
     "output_type": "execute_result"
    }
   ],
   "source": [
    "mi_diccionario "
   ]
  },
  {
   "cell_type": "code",
   "execution_count": 94,
   "metadata": {
    "ExecuteTime": {
     "end_time": "2021-01-30T17:27:37.597113Z",
     "start_time": "2021-01-30T17:27:37.577215Z"
    }
   },
   "outputs": [
    {
     "data": {
      "text/plain": [
       "3"
      ]
     },
     "execution_count": 94,
     "metadata": {},
     "output_type": "execute_result"
    }
   ],
   "source": [
    "len(mi_diccionario)"
   ]
  },
  {
   "cell_type": "markdown",
   "metadata": {},
   "source": [
    "##### EJEMPLO: Borrar elementos - pop()"
   ]
  },
  {
   "cell_type": "code",
   "execution_count": 130,
   "metadata": {
    "ExecuteTime": {
     "end_time": "2020-02-08T09:25:02.803449Z",
     "start_time": "2020-02-08T09:25:02.797085Z"
    }
   },
   "outputs": [
    {
     "data": {
      "text/plain": [
       "{'marca': 'Ford', 'año': '2018'}"
      ]
     },
     "execution_count": 130,
     "metadata": {},
     "output_type": "execute_result"
    }
   ],
   "source": [
    "mi_diccionario.pop(\"modelo\")\n",
    "mi_diccionario"
   ]
  },
  {
   "cell_type": "markdown",
   "metadata": {},
   "source": [
    "##### EJEMPLO: Borrar último elemento insertado - popitem()"
   ]
  },
  {
   "cell_type": "code",
   "execution_count": 132,
   "metadata": {
    "ExecuteTime": {
     "end_time": "2020-02-08T09:25:37.435226Z",
     "start_time": "2020-02-08T09:25:37.426612Z"
    }
   },
   "outputs": [
    {
     "data": {
      "text/plain": [
       "{'marca': 'Ford'}"
      ]
     },
     "execution_count": 132,
     "metadata": {},
     "output_type": "execute_result"
    }
   ],
   "source": [
    "mi_diccionario.popitem()\n",
    "mi_diccionario"
   ]
  },
  {
   "cell_type": "markdown",
   "metadata": {},
   "source": [
    "##### EJEMPLO: Borrar elementos mediante etiqueta- del()"
   ]
  },
  {
   "cell_type": "code",
   "execution_count": 96,
   "metadata": {
    "ExecuteTime": {
     "end_time": "2021-01-30T17:29:21.548341Z",
     "start_time": "2021-01-30T17:29:21.523291Z"
    }
   },
   "outputs": [
    {
     "ename": "KeyError",
     "evalue": "'modelo'",
     "output_type": "error",
     "traceback": [
      "\u001b[1;31m---------------------------------------------------------------------------\u001b[0m",
      "\u001b[1;31mKeyError\u001b[0m                                  Traceback (most recent call last)",
      "\u001b[1;32m<ipython-input-96-d77a0b6c8b6c>\u001b[0m in \u001b[0;36m<module>\u001b[1;34m\u001b[0m\n\u001b[1;32m----> 1\u001b[1;33m \u001b[1;32mdel\u001b[0m \u001b[0mmi_diccionario\u001b[0m\u001b[1;33m[\u001b[0m\u001b[1;34m'modelo'\u001b[0m\u001b[1;33m]\u001b[0m\u001b[1;33m\u001b[0m\u001b[1;33m\u001b[0m\u001b[0m\n\u001b[0m\u001b[0;32m      2\u001b[0m \u001b[0mmi_diccionario\u001b[0m\u001b[1;33m\u001b[0m\u001b[1;33m\u001b[0m\u001b[0m\n",
      "\u001b[1;31mKeyError\u001b[0m: 'modelo'"
     ]
    }
   ],
   "source": [
    "del mi_diccionario['modelo']\n",
    "mi_diccionario"
   ]
  },
  {
   "cell_type": "markdown",
   "metadata": {},
   "source": [
    "##### EJEMPLO: Borrar diccionario- del()"
   ]
  },
  {
   "cell_type": "code",
   "execution_count": 138,
   "metadata": {
    "ExecuteTime": {
     "end_time": "2020-02-08T09:27:21.464913Z",
     "start_time": "2020-02-08T09:27:21.458338Z"
    }
   },
   "outputs": [],
   "source": [
    "mi_diccionario = {\n",
    "    \"marca\":\"Ford\",\n",
    "    \"modelo\":\"Mustang\",\n",
    "    \"año\": 1962\n",
    "}"
   ]
  },
  {
   "cell_type": "code",
   "execution_count": 139,
   "metadata": {
    "ExecuteTime": {
     "end_time": "2020-02-08T09:27:24.005782Z",
     "start_time": "2020-02-08T09:27:24.001260Z"
    }
   },
   "outputs": [],
   "source": [
    "del mi_diccionario"
   ]
  },
  {
   "cell_type": "markdown",
   "metadata": {},
   "source": [
    "##### EJEMPLO: Borrar todos los elementos - clear()"
   ]
  },
  {
   "cell_type": "code",
   "execution_count": 97,
   "metadata": {
    "ExecuteTime": {
     "end_time": "2021-01-30T17:36:54.595219Z",
     "start_time": "2021-01-30T17:36:54.587656Z"
    }
   },
   "outputs": [],
   "source": [
    "mi_diccionario = {\n",
    "    \"marca\":\"Ford\",\n",
    "    \"modelo\":\"Mustang\",\n",
    "    \"año\": 1962\n",
    "}"
   ]
  },
  {
   "cell_type": "code",
   "execution_count": 141,
   "metadata": {
    "ExecuteTime": {
     "end_time": "2020-02-08T09:27:39.656842Z",
     "start_time": "2020-02-08T09:27:39.652280Z"
    }
   },
   "outputs": [],
   "source": [
    "mi_diccionario.clear()"
   ]
  },
  {
   "cell_type": "code",
   "execution_count": 99,
   "metadata": {
    "ExecuteTime": {
     "end_time": "2021-01-30T17:37:21.003467Z",
     "start_time": "2021-01-30T17:37:20.984295Z"
    }
   },
   "outputs": [
    {
     "data": {
      "text/plain": [
       "{'marca': 'Ford', 'modelo': 'Mustang', 'año': 1962, 'n': 10}"
      ]
     },
     "execution_count": 99,
     "metadata": {},
     "output_type": "execute_result"
    }
   ],
   "source": [
    "mi_diccionario"
   ]
  },
  {
   "cell_type": "markdown",
   "metadata": {},
   "source": [
    "##### EJEMPLO: Copiar diccionario - copy() o dict()"
   ]
  },
  {
   "cell_type": "markdown",
   "metadata": {},
   "source": [
    "No se puede copiar un diccionario simplemente mediante la asignación a otro (p.e. dict2 = dict1), por que esto lo que hace es vincular un elemento a otro! Y por lo tanto, al modificar el diccionario original también modificaríamos el nuevo vincualdo."
   ]
  },
  {
   "cell_type": "markdown",
   "metadata": {},
   "source": [
    "Para copiar un diccionario, entonces usaremos el método **copy()**. Veámoslo"
   ]
  },
  {
   "cell_type": "code",
   "execution_count": 144,
   "metadata": {
    "ExecuteTime": {
     "end_time": "2020-02-08T09:29:38.245463Z",
     "start_time": "2020-02-08T09:29:38.241133Z"
    }
   },
   "outputs": [],
   "source": [
    "mi_diccionario = {\n",
    "    \"marca\":\"Ford\",\n",
    "    \"modelo\":\"Mustang\",\n",
    "    \"año\": 1962\n",
    "}"
   ]
  },
  {
   "cell_type": "code",
   "execution_count": 145,
   "metadata": {
    "ExecuteTime": {
     "end_time": "2020-02-08T09:29:40.745866Z",
     "start_time": "2020-02-08T09:29:40.739474Z"
    }
   },
   "outputs": [
    {
     "data": {
      "text/plain": [
       "{'marca': 'Ford', 'modelo': 'Mustang', 'año': 1962}"
      ]
     },
     "execution_count": 145,
     "metadata": {},
     "output_type": "execute_result"
    }
   ],
   "source": [
    "mi_diccionario_2 = mi_diccionario.copy()\n",
    "mi_diccionario_2"
   ]
  },
  {
   "cell_type": "markdown",
   "metadata": {},
   "source": [
    "### Diccionarios Anidados"
   ]
  },
  {
   "cell_type": "markdown",
   "metadata": {},
   "source": [
    "Un diccionario puede contener muchos diccionarios, o lo que llamamos diccionarios anidados"
   ]
  },
  {
   "cell_type": "markdown",
   "metadata": {},
   "source": [
    "##### EJEMPLO:"
   ]
  },
  {
   "cell_type": "code",
   "execution_count": 146,
   "metadata": {
    "ExecuteTime": {
     "end_time": "2020-02-08T09:31:06.641464Z",
     "start_time": "2020-02-08T09:31:06.636284Z"
    }
   },
   "outputs": [],
   "source": [
    "Hijos = {\n",
    "  \"Hijo1\" : {\n",
    "    \"nombre\" : \"Email\",\n",
    "    \"año\" : 2004\n",
    "  },\n",
    "  \"Hijo2\" : {\n",
    "    \"nombre\" : \"Tobias\",\n",
    "    \"año\" : 2007\n",
    "  },\n",
    "  \"Hijo3\" : {\n",
    "    \"nombre\" : \"Linus\",\n",
    "    \"año\" : 2011\n",
    "  }\n",
    "}"
   ]
  },
  {
   "cell_type": "code",
   "execution_count": 147,
   "metadata": {
    "ExecuteTime": {
     "end_time": "2020-02-08T09:31:09.842775Z",
     "start_time": "2020-02-08T09:31:09.835636Z"
    }
   },
   "outputs": [
    {
     "data": {
      "text/plain": [
       "{'Hijo1': {'nombre': 'Emil', 'año': 2004},\n",
       " 'Hijo2': {'nombre': 'Tobias', 'año': 2007},\n",
       " 'Hijo3': {'nombre': 'Linus', 'año': 2011}}"
      ]
     },
     "execution_count": 147,
     "metadata": {},
     "output_type": "execute_result"
    }
   ],
   "source": [
    "Hijos"
   ]
  },
  {
   "cell_type": "markdown",
   "metadata": {},
   "source": [
    "##### EJEMPLO: Crear diccionarios anidados a partir de diccionarios ya existentes"
   ]
  },
  {
   "cell_type": "code",
   "execution_count": 150,
   "metadata": {
    "ExecuteTime": {
     "end_time": "2020-02-08T09:32:28.888791Z",
     "start_time": "2020-02-08T09:32:28.884446Z"
    }
   },
   "outputs": [],
   "source": [
    "Hijo1 = {\n",
    "    \"nombre\" : \"Emil\",\n",
    "    \"año\" : 2004\n",
    "}\n",
    "Hijo2 = {\n",
    "    \"nombre\" : \"Tobias\",\n",
    "    \"año\" : 2007\n",
    "}\n",
    "Hijo3 = { \n",
    "    \"nombre\" : \"Linus\",\n",
    "    \"año\" : 2011\n",
    "}"
   ]
  },
  {
   "cell_type": "code",
   "execution_count": 151,
   "metadata": {
    "ExecuteTime": {
     "end_time": "2020-02-08T09:32:58.958310Z",
     "start_time": "2020-02-08T09:32:58.953522Z"
    }
   },
   "outputs": [],
   "source": [
    "hijos = {\n",
    "  \"Hijo1\" : Hijo1,\n",
    "  \"Hijo2\" : Hijo2,\n",
    "  \"Hijo3\" : Hijo3\n",
    "}"
   ]
  },
  {
   "cell_type": "code",
   "execution_count": 152,
   "metadata": {
    "ExecuteTime": {
     "end_time": "2020-02-08T09:32:59.169654Z",
     "start_time": "2020-02-08T09:32:59.162202Z"
    }
   },
   "outputs": [
    {
     "data": {
      "text/plain": [
       "{'Hijo1': {'nombre': 'Emil', 'año': 2004},\n",
       " 'Hijo2': {'nombre': 'Tobias', 'año': 2007},\n",
       " 'Hijo3': {'nombre': 'Linus', 'año': 2011}}"
      ]
     },
     "execution_count": 152,
     "metadata": {},
     "output_type": "execute_result"
    }
   ],
   "source": [
    "hijos"
   ]
  },
  {
   "cell_type": "markdown",
   "metadata": {},
   "source": [
    "Ejercicio: \n",
    "    Genera un diccionario con 3 ciudades como keys y su número de habitantes.\n",
    "    Devuelve el valor de cada etiqueta y obtiene el número total de habitantes sumando todas las ciudades.\n",
    "    Al mismo diccionario, agrega una ciudad con su número de habitantes. \n",
    "    Me gustaría construir un diccionario anidado, donde solo Barcelona tenga su num de habitantes y PIB.\n",
    "    Borra los valores de Barcelona del diccionario\n",
    "    "
   ]
  },
  {
   "cell_type": "code",
   "execution_count": 109,
   "metadata": {
    "ExecuteTime": {
     "end_time": "2021-01-30T18:08:10.646199Z",
     "start_time": "2021-01-30T18:08:10.633113Z"
    }
   },
   "outputs": [],
   "source": [
    "ciudades = {\n",
    "    \n",
    "    'barcelona' : 1000000,\n",
    "    'girona' : 700000,\n",
    "    'badalona': 200000\n",
    "    \n",
    "}"
   ]
  },
  {
   "cell_type": "code",
   "execution_count": 114,
   "metadata": {
    "ExecuteTime": {
     "end_time": "2021-01-30T18:08:51.129176Z",
     "start_time": "2021-01-30T18:08:51.120172Z"
    }
   },
   "outputs": [
    {
     "data": {
      "text/plain": [
       "1900000"
      ]
     },
     "execution_count": 114,
     "metadata": {},
     "output_type": "execute_result"
    }
   ],
   "source": [
    "sum(ciudades.values())"
   ]
  },
  {
   "cell_type": "code",
   "execution_count": 115,
   "metadata": {
    "ExecuteTime": {
     "end_time": "2021-01-30T18:09:51.364267Z",
     "start_time": "2021-01-30T18:09:51.349525Z"
    }
   },
   "outputs": [],
   "source": [
    "ciudades.update({'sabadell':300000})"
   ]
  },
  {
   "cell_type": "code",
   "execution_count": 116,
   "metadata": {
    "ExecuteTime": {
     "end_time": "2021-01-30T18:10:01.387223Z",
     "start_time": "2021-01-30T18:10:01.380220Z"
    }
   },
   "outputs": [
    {
     "data": {
      "text/plain": [
       "{'barcelona': 1000000,\n",
       " 'girona': 700000,\n",
       " 'badalona': 200000,\n",
       " 'sabadell': 300000}"
      ]
     },
     "execution_count": 116,
     "metadata": {},
     "output_type": "execute_result"
    }
   ],
   "source": [
    "ciudades"
   ]
  },
  {
   "cell_type": "code",
   "execution_count": 128,
   "metadata": {
    "ExecuteTime": {
     "end_time": "2021-01-30T18:18:07.654618Z",
     "start_time": "2021-01-30T18:18:07.638586Z"
    }
   },
   "outputs": [
    {
     "data": {
      "text/plain": [
       "'barcelona'"
      ]
     },
     "execution_count": 128,
     "metadata": {},
     "output_type": "execute_result"
    }
   ],
   "source": [
    "list(ciudades.keys())[0]"
   ]
  },
  {
   "cell_type": "code",
   "execution_count": 129,
   "metadata": {
    "ExecuteTime": {
     "end_time": "2021-01-30T18:18:46.010639Z",
     "start_time": "2021-01-30T18:18:46.004635Z"
    }
   },
   "outputs": [
    {
     "data": {
      "text/plain": [
       "1000000"
      ]
     },
     "execution_count": 129,
     "metadata": {},
     "output_type": "execute_result"
    }
   ],
   "source": [
    "list(ciudades.values())[0]"
   ]
  },
  {
   "cell_type": "code",
   "execution_count": 130,
   "metadata": {
    "ExecuteTime": {
     "end_time": "2021-01-30T18:20:04.019695Z",
     "start_time": "2021-01-30T18:20:04.013703Z"
    }
   },
   "outputs": [],
   "source": [
    "ciudades[list(ciudades.keys())[0]] = {'hab' : list(ciudades.values())[0], 'pib': 20000}"
   ]
  },
  {
   "cell_type": "code",
   "execution_count": 131,
   "metadata": {
    "ExecuteTime": {
     "end_time": "2021-01-30T18:20:11.242129Z",
     "start_time": "2021-01-30T18:20:11.225661Z"
    }
   },
   "outputs": [
    {
     "data": {
      "text/plain": [
       "{'barcelona': {'hab': 1000000, 'pib': 20000},\n",
       " 'girona': 700000,\n",
       " 'badalona': 200000,\n",
       " 'sabadell': 300000}"
      ]
     },
     "execution_count": 131,
     "metadata": {},
     "output_type": "execute_result"
    }
   ],
   "source": [
    "ciudades"
   ]
  },
  {
   "cell_type": "code",
   "execution_count": 137,
   "metadata": {
    "ExecuteTime": {
     "end_time": "2021-01-30T18:24:38.425454Z",
     "start_time": "2021-01-30T18:24:38.410876Z"
    }
   },
   "outputs": [
    {
     "data": {
      "text/plain": [
       "{'hab': 1000000, 'pib': 20000}"
      ]
     },
     "execution_count": 137,
     "metadata": {},
     "output_type": "execute_result"
    }
   ],
   "source": [
    "ciudades.pop('barcelona')"
   ]
  },
  {
   "cell_type": "code",
   "execution_count": 138,
   "metadata": {
    "ExecuteTime": {
     "end_time": "2021-01-30T18:24:50.026462Z",
     "start_time": "2021-01-30T18:24:50.017924Z"
    }
   },
   "outputs": [
    {
     "data": {
      "text/plain": [
       "{'girona': 700000, 'badalona': 200000, 'sabadell': 300000}"
      ]
     },
     "execution_count": 138,
     "metadata": {},
     "output_type": "execute_result"
    }
   ],
   "source": [
    "ciudades"
   ]
  },
  {
   "cell_type": "markdown",
   "metadata": {
    "ExecuteTime": {
     "end_time": "2021-01-30T17:39:13.400639Z",
     "start_time": "2021-01-30T17:39:13.387531Z"
    }
   },
   "source": [
    "Ejercicio: Escribir un programa que guarde en una variable el diccionario {'Euro':'€', 'Dollar':'$', 'Yen':'¥'}, pregunte al usuario por una divisa y muestre su símbolo o un mensaje de aviso si la divisa no está en el diccionario."
   ]
  },
  {
   "cell_type": "code",
   "execution_count": 103,
   "metadata": {
    "ExecuteTime": {
     "end_time": "2021-01-30T17:41:49.498901Z",
     "start_time": "2021-01-30T17:41:45.216880Z"
    }
   },
   "outputs": [
    {
     "name": "stdout",
     "output_type": "stream",
     "text": [
      "Elige una moneda entre Euro, Dollar y Yen\n",
      "Euro\n",
      "€\n"
     ]
    }
   ],
   "source": [
    "moneda = {'Euro':'€', 'Dollar':'$', 'Yen':'¥'}\n",
    "x = input('Elige una moneda entre Euro, Dollar y Yen\\n')\n",
    "print(moneda[x])"
   ]
  },
  {
   "cell_type": "markdown",
   "metadata": {},
   "source": [
    "Ejercicio: Escribir un programa que cree un diccionario vacío y lo vaya llenado con información sobre una persona (por ejemplo nombre, edad, sexo, teléfono, correo electrónico, etc.) que se le pida al usuario. Cada vez que se añada un nuevo dato debe imprimirse el contenido del diccionario."
   ]
  },
  {
   "cell_type": "code",
   "execution_count": 104,
   "metadata": {
    "ExecuteTime": {
     "end_time": "2021-01-30T17:46:37.795229Z",
     "start_time": "2021-01-30T17:46:37.785720Z"
    }
   },
   "outputs": [],
   "source": [
    "persona = {}"
   ]
  },
  {
   "cell_type": "code",
   "execution_count": 106,
   "metadata": {
    "ExecuteTime": {
     "end_time": "2021-01-30T17:47:10.777695Z",
     "start_time": "2021-01-30T17:47:03.479895Z"
    }
   },
   "outputs": [
    {
     "name": "stdout",
     "output_type": "stream",
     "text": [
      "¿Qué dato quieres introducir? Peso\n",
      "Peso: 75\n",
      "{'Nombre': 'Charles', 'Peso': '75'}\n"
     ]
    }
   ],
   "source": [
    "key = input('¿Qué dato quieres introducir? ')\n",
    "value = input(key + ': ')\n",
    "persona[key] = value\n",
    "print(persona)"
   ]
  }
 ],
 "metadata": {
  "kernelspec": {
   "display_name": "Python 3",
   "language": "python",
   "name": "python3"
  },
  "language_info": {
   "codemirror_mode": {
    "name": "ipython",
    "version": 3
   },
   "file_extension": ".py",
   "mimetype": "text/x-python",
   "name": "python",
   "nbconvert_exporter": "python",
   "pygments_lexer": "ipython3",
   "version": "3.8.10"
  },
  "latex_envs": {
   "LaTeX_envs_menu_present": true,
   "autoclose": false,
   "autocomplete": true,
   "bibliofile": "biblio.bib",
   "cite_by": "apalike",
   "current_citInitial": 1,
   "eqLabelWithNumbers": true,
   "eqNumInitial": 1,
   "hotkeys": {
    "equation": "Ctrl-E",
    "itemize": "Ctrl-I"
   },
   "labels_anchors": false,
   "latex_user_defs": false,
   "report_style_numbering": false,
   "user_envs_cfg": false
  },
  "nbTranslate": {
   "displayLangs": [
    "*"
   ],
   "hotkey": "alt-t",
   "langInMainMenu": true,
   "sourceLang": "en",
   "targetLang": "fr",
   "useGoogleTranslate": true
  },
  "toc": {
   "base_numbering": 1,
   "nav_menu": {},
   "number_sections": true,
   "sideBar": true,
   "skip_h1_title": false,
   "title_cell": "Table of Contents",
   "title_sidebar": "Contents",
   "toc_cell": false,
   "toc_position": {},
   "toc_section_display": true,
   "toc_window_display": false
  },
  "varInspector": {
   "cols": {
    "lenName": 16,
    "lenType": 16,
    "lenVar": 40
   },
   "kernels_config": {
    "python": {
     "delete_cmd_postfix": "",
     "delete_cmd_prefix": "del ",
     "library": "var_list.py",
     "varRefreshCmd": "print(var_dic_list())"
    },
    "r": {
     "delete_cmd_postfix": ") ",
     "delete_cmd_prefix": "rm(",
     "library": "var_list.r",
     "varRefreshCmd": "cat(var_dic_list()) "
    }
   },
   "types_to_exclude": [
    "module",
    "function",
    "builtin_function_or_method",
    "instance",
    "_Feature"
   ],
   "window_display": false
  }
 },
 "nbformat": 4,
 "nbformat_minor": 2
}
