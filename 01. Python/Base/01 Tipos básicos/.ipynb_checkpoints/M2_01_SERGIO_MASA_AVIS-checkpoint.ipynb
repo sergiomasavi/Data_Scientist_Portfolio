{
 "cells": [
  {
   "cell_type": "markdown",
   "metadata": {},
   "source": [
    "<img src=\"Tarjeta.png\">"
   ]
  },
  {
   "cell_type": "markdown",
   "metadata": {
    "toc": true
   },
   "source": [
    "<h1>Table of Contents<span class=\"tocSkip\"></span></h1>\n",
    "<div class=\"toc\"><ul class=\"toc-item\"><li><span><a href=\"#Ejercicios-de-tipos-de-variables-básicos\" data-toc-modified-id=\"Ejercicios-de-tipos-de-variables-básicos-1\"><span class=\"toc-item-num\">1&nbsp;&nbsp;</span>Ejercicios de tipos de variables básicos</a></span></li></ul></div>"
   ]
  },
  {
   "cell_type": "markdown",
   "metadata": {},
   "source": [
    "# Ejercicios Modulo 2. Tipos básicos\n",
    "\n",
    "Consideraciones a tener en cuenta: \n",
    "\n",
    "* Guardar este documento con el siguiente formato para su entrega: __M2_01_nombre_apellido1_apellido2__\n",
    "* Realizar los ejercicios con las herramientas vistas en las sesiones. Aún no hemos llegado a condicionales ni bucles\n",
    "* Comentar el código\n",
    "* Utilizar nombres de variables apropiados, si vais a guardar una nota, llamar a esa variable nota, no n o x"
   ]
  },
  {
   "cell_type": "markdown",
   "metadata": {},
   "source": [
    "## Ejercicios de tipos de variables básicos"
   ]
  },
  {
   "cell_type": "markdown",
   "metadata": {},
   "source": [
    "**1) Identifica los tipos de dato (entero, real, booleano o texto) de los siguientes valores:**\n",
    "```python\n",
    "\"Hola Mundo\"        # texto\n",
    "True                # booleano\n",
    "-25                 # entero\n",
    "1.167               # real\n",
    "' '                 # texto\n",
    "```"
   ]
  },
  {
   "cell_type": "code",
   "execution_count": 1,
   "metadata": {
    "ExecuteTime": {
     "end_time": "2021-10-16T13:57:49.225701Z",
     "start_time": "2021-10-16T13:57:49.216314Z"
    }
   },
   "outputs": [
    {
     "name": "stdout",
     "output_type": "stream",
     "text": [
      "Tipo de dato. Hola Mundo = <class 'str'>\n",
      "Tipo de dato. True = <class 'bool'>\n",
      "Tipo de dato. -25 = <class 'int'>\n",
      "Tipo de dato. 1.167 = <class 'float'>\n",
      "Tipo de dato.   = <class 'str'>\n"
     ]
    }
   ],
   "source": [
    "a = \"Hola Mundo\"\n",
    "b = True\n",
    "c = -25\n",
    "d = 1.167\n",
    "e = ' '\n",
    "\n",
    "print(f'Tipo de dato. {a} = {type(a)}')\n",
    "print(f'Tipo de dato. {b} = {type(b)}')\n",
    "print(f'Tipo de dato. {c} = {type(c)}')\n",
    "print(f'Tipo de dato. {d} = {type(d)}')\n",
    "print(f'Tipo de dato. {e} = {type(e)}')"
   ]
  },
  {
   "cell_type": "markdown",
   "metadata": {},
   "source": [
    "**2) Indica el resultado que mostrarán los print en base a estas variables (sin necesidad de programar, mentalmente):**\n",
    "```python\n",
    "a = 10\n",
    "b = -5\n",
    "c = \"Hola \"\n",
    "```\n",
    "\n",
    "```python\n",
    "print(a * 5)         # 50\n",
    "print(a - b)         # 15\n",
    "print(c + \"Mundo\")   # \"Hola Mundo\"\n",
    "print(c * 2)         # \"Hola Hola \"\n",
    "print(c[-1])         # \" \" --> La variable c tiene como último carácter un espacio en blanco\n",
    "print(c[1:])         # \"ola\"\n",
    "```"
   ]
  },
  {
   "cell_type": "markdown",
   "metadata": {},
   "source": [
    "**3) Almacenar 3 variables con 3 strings diferentes, uno de ellos tienen que ser 50 puntos (.) generados de una forma automática. Crear una cuarta variable que sea la concatenación de los 3 strings, unidos con un guion \"-\". Finalmente mostrar esta cuarta variable de forma completa y mostrando únicamente los 5 primeros caracteres y los 5 últimos.**"
   ]
  },
  {
   "cell_type": "code",
   "execution_count": 2,
   "metadata": {
    "ExecuteTime": {
     "end_time": "2021-10-16T13:57:50.087059Z",
     "start_time": "2021-10-16T13:57:50.081749Z"
    }
   },
   "outputs": [
    {
     "name": "stdout",
     "output_type": "stream",
     "text": [
      "Mostrar resumen partida: Sergio-Masa-23puntos\n",
      "Mostrar primeros y últimos cinco caracteres.\n",
      "5 primeros: Sergi\n",
      "5 últimos: untos\n"
     ]
    }
   ],
   "source": [
    "# Librerías\n",
    "import random\n",
    "\n",
    "# Variables usuario\n",
    "nombre = \"Sergio\"\n",
    "apellido = \"Masa\"\n",
    "puntuacion = str(random.randrange(50)) + \"puntos\"# Puntuación generada automáticamente\n",
    "\n",
    "# Resumen partida\n",
    "partida = nombre + \"-\" + apellido + \"-\" + puntuacion\n",
    "\n",
    "# Información terminal\n",
    "print(f'Mostrar resumen partida: {partida}')\n",
    "print(f'Mostrar primeros y últimos cinco caracteres.\\n5 primeros: {partida[:5]}\\n5 últimos: {partida[len(partida) - 5:]}')\n"
   ]
  }
 ],
 "metadata": {
  "kernelspec": {
   "display_name": "Python 3",
   "language": "python",
   "name": "python3"
  },
  "language_info": {
   "codemirror_mode": {
    "name": "ipython",
    "version": 3
   },
   "file_extension": ".py",
   "mimetype": "text/x-python",
   "name": "python",
   "nbconvert_exporter": "python",
   "pygments_lexer": "ipython3",
   "version": "3.8.10"
  },
  "nbTranslate": {
   "displayLangs": [
    "*"
   ],
   "hotkey": "alt-t",
   "langInMainMenu": true,
   "sourceLang": "en",
   "targetLang": "fr",
   "useGoogleTranslate": true
  },
  "toc": {
   "base_numbering": 1,
   "nav_menu": {},
   "number_sections": true,
   "sideBar": true,
   "skip_h1_title": true,
   "title_cell": "Table of Contents",
   "title_sidebar": "Contents",
   "toc_cell": true,
   "toc_position": {},
   "toc_section_display": true,
   "toc_window_display": false
  },
  "varInspector": {
   "cols": {
    "lenName": 16,
    "lenType": 16,
    "lenVar": 40
   },
   "kernels_config": {
    "python": {
     "delete_cmd_postfix": "",
     "delete_cmd_prefix": "del ",
     "library": "var_list.py",
     "varRefreshCmd": "print(var_dic_list())"
    },
    "r": {
     "delete_cmd_postfix": ") ",
     "delete_cmd_prefix": "rm(",
     "library": "var_list.r",
     "varRefreshCmd": "cat(var_dic_list()) "
    }
   },
   "types_to_exclude": [
    "module",
    "function",
    "builtin_function_or_method",
    "instance",
    "_Feature"
   ],
   "window_display": false
  }
 },
 "nbformat": 4,
 "nbformat_minor": 4
}
