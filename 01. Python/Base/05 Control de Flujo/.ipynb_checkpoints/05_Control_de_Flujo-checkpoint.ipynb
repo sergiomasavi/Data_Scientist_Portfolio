{
 "cells": [
  {
   "cell_type": "markdown",
   "metadata": {},
   "source": [
    "<img src=\"Tarjeta.png\">"
   ]
  },
  {
   "cell_type": "markdown",
   "metadata": {
    "toc": true
   },
   "source": [
    "<h1>Table of Contents<span class=\"tocSkip\"></span></h1>\n",
    "<div class=\"toc\"><ul class=\"toc-item\"><li><span><a href=\"#Condicionales.\" data-toc-modified-id=\"Condicionales.-1\"><span class=\"toc-item-num\">1&nbsp;&nbsp;</span>Condicionales.</a></span><ul class=\"toc-item\"><li><span><a href=\"#IF\" data-toc-modified-id=\"IF-1.1\"><span class=\"toc-item-num\">1.1&nbsp;&nbsp;</span>IF</a></span></li><li><span><a href=\"#IF-ELSE\" data-toc-modified-id=\"IF-ELSE-1.2\"><span class=\"toc-item-num\">1.2&nbsp;&nbsp;</span>IF-ELSE</a></span></li><li><span><a href=\"#IF-ELIF-ELSE\" data-toc-modified-id=\"IF-ELIF-ELSE-1.3\"><span class=\"toc-item-num\">1.3&nbsp;&nbsp;</span>IF-ELIF-ELSE</a></span></li><li><span><a href=\"#Switch\" data-toc-modified-id=\"Switch-1.4\"><span class=\"toc-item-num\">1.4&nbsp;&nbsp;</span>Switch</a></span></li></ul></li><li><span><a href=\"#Bucles.\" data-toc-modified-id=\"Bucles.-2\"><span class=\"toc-item-num\">2&nbsp;&nbsp;</span>Bucles.</a></span><ul class=\"toc-item\"><li><span><a href=\"#While\" data-toc-modified-id=\"While-2.1\"><span class=\"toc-item-num\">2.1&nbsp;&nbsp;</span>While</a></span><ul class=\"toc-item\"><li><span><a href=\"#Ejemplo-menú-interactivo\" data-toc-modified-id=\"Ejemplo-menú-interactivo-2.1.1\"><span class=\"toc-item-num\">2.1.1&nbsp;&nbsp;</span>Ejemplo menú interactivo</a></span></li></ul></li><li><span><a href=\"#For\" data-toc-modified-id=\"For-2.2\"><span class=\"toc-item-num\">2.2&nbsp;&nbsp;</span>For</a></span></li></ul></li></ul></div>"
   ]
  },
  {
   "cell_type": "markdown",
   "metadata": {},
   "source": [
    "# Control de flujo\n",
    "\n",
    "En Python, al igual que en el resto de lenguajes, existen una serie de estructuras que permiten controlar el flujo de un programa.\n",
    "\n",
    "Las estructuras básicas para llevar a cabo el control de flujo son:\n",
    "- 1. Condicionales.\n",
    "- 2. Bucles\n",
    "\n",
    "# Condiciones y bucles\n",
    "\n",
    "* Condicionales: `if`, `elif`, `else` 'switch'\n",
    "* Bucles `for`\n",
    "* Bucles `while`\n"
   ]
  },
  {
   "cell_type": "markdown",
   "metadata": {},
   "source": [
    "## Condicionales.\n",
    "\n",
    "Una sentencia condicional evalúa una determinada condición para discernir entre varias opciones. Permite dividir el flujo de un programa en diferentes caminos. El if se ejecuta siempre que la expresión que comprueba devuelva True\n",
    "\n",
    "Mediante una sentencia condicional se selecciona un bloque de sentencias que se ejecutarán cuando dicha condición se cumpla, es decir, sea verdadera.\n",
    "\n",
    "Los condicionales también pueden ser entendidos como una herramienta de optimización de código ya que permiten evaluar condiciones para ejecutar solo bloques necesarios"
   ]
  },
  {
   "cell_type": "markdown",
   "metadata": {},
   "source": [
    "### IF\n",
    "\n",
    "Mediante la sentencia **if** se evalúa una condición y se ejecutan una serie de instrucciones en caso que dicha condición evaluada sea True. En caso contrario, se continúa normalmente con la secuencia de instrucciones del programa sin ejecutar el bloque dentro de la sentencia if. \n",
    "\n",
    "El diagrama de flujo de esta sentencia es:\n",
    "\n",
    "<img src=\"images\\004IF.png\">\n",
    "\n",
    "\n",
    "La sintaxis de la instrucción **if** es:\n",
    "\n",
    "if condición:\n",
    "\n",
    "    instrucciones a ejectuar"
   ]
  },
  {
   "cell_type": "code",
   "execution_count": 1,
   "metadata": {},
   "outputs": [
    {
     "name": "stdout",
     "output_type": "stream",
     "text": [
      "Condición cumplida!\n",
      "Este print no pertenece a la instrucción IF\n"
     ]
    }
   ],
   "source": [
    "if True: # Equivale a if not False:\n",
    "    print('Condición cumplida!')\n",
    "    \n",
    "print('Este print no pertenece a la instrucción IF')"
   ]
  },
  {
   "cell_type": "markdown",
   "metadata": {},
   "source": [
    "Se pueden encadenar varios if:\n"
   ]
  },
  {
   "cell_type": "code",
   "execution_count": 2,
   "metadata": {},
   "outputs": [
    {
     "name": "stdout",
     "output_type": "stream",
     "text": [
      "Introduce un número (2 o 5): 2\n",
      "a = 2\n"
     ]
    }
   ],
   "source": [
    "a = int(input('Introduce un número (2 o 5): '))\n",
    "if a == 2:\n",
    "    print('a = 2')\n",
    "    \n",
    "if a == 5:\n",
    "    print('a == 5')"
   ]
  },
  {
   "cell_type": "markdown",
   "metadata": {},
   "source": [
    "Se pueden anidar if dentro de otros if:"
   ]
  },
  {
   "cell_type": "code",
   "execution_count": null,
   "metadata": {},
   "outputs": [],
   "source": [
    "a = 5\n",
    "b = 10\n",
    "\n",
    "if a == 5:\n",
    "    print('a =', a)\n",
    "    b = b + 1\n",
    "    if b == 10:\n",
    "        print('y b vale',b)"
   ]
  },
  {
   "cell_type": "markdown",
   "metadata": {},
   "source": [
    "Y como condición, es posible evaluar múltiples expresiones que devuelvan True o False."
   ]
  },
  {
   "cell_type": "code",
   "execution_count": 4,
   "metadata": {},
   "outputs": [
    {
     "name": "stdout",
     "output_type": "stream",
     "text": [
      "a = 5 y b = 10\n"
     ]
    }
   ],
   "source": [
    "a = 5\n",
    "b = 10\n",
    "\n",
    "if a == 5 and b == 10:\n",
    "    print('a = {a} y b = {b}'.format(a=a, b=b))"
   ]
  },
  {
   "cell_type": "markdown",
   "metadata": {},
   "source": [
    "### IF-ELSE\n",
    "\n",
    "Cuando se evalúa una condición, se discerne el caso en la que la condición es verdadera, pero también es posible evaluar si la condición es falsa. La sentencia else se encadena a un if para comprobar el caso contrario, es decir, en el cuál no se cumple la condición.\n",
    "\n",
    "El diagrama de flujo, en este caso, es el siguiente:\n",
    "\n",
    "<img src=\"images\\004IF_ELSE.png\">\n",
    "\n",
    "La instrucción if...else tiene la siguiente sintaxis:\n",
    "\n",
    "if condición:\n",
    "\n",
    "    instrucción a ejectuar\n",
    "    \n",
    "else:\n",
    "\n",
    "    instrucciones a ejectuar"
   ]
  },
  {
   "cell_type": "code",
   "execution_count": 6,
   "metadata": {},
   "outputs": [
    {
     "name": "stdout",
     "output_type": "stream",
     "text": [
      "6 es un número mayor o igual que 0\n",
      "11 es un número impar\n"
     ]
    }
   ],
   "source": [
    "n = 6\n",
    "if n >= 6:\n",
    "    print(n,'es un número mayor o igual que 0')\n",
    "else:\n",
    "    print(n, 'es un número menor que 0')\n",
    "    \n",
    "n = 11\n",
    "if n % 2 == 0: # Si n es PAR\n",
    "    print(n,'es un número par')\n",
    "else:\n",
    "    print(n,'es un número impar')"
   ]
  },
  {
   "cell_type": "markdown",
   "metadata": {},
   "source": [
    "### IF-ELIF-ELSE\n",
    "\n",
    "La sentencia elif dentro de una sentencia if es el resultado de anidar varias sentencias if, unas dentro de otras. Tras evaluar la condición de la sentencia **if**, si esta nos e cumple, se realiza otra evaluación con la sentencia **elif** y en caso que no se cumpla se continua evaluando las siguientes sentencias elif hasta que alguna se cumpla. Si ninguna de ellas se cumple, se ejecutarán las instrucciones que van tras la sentencia **else**. Si alguna de las condiciones se cumple, se ejecutará el código asociado a la misma.\n",
    "\n",
    "<img src=\"images\\003Condicionales.png\">\n",
    "\n",
    "El **else**, a menudo, se utiliza para gestionar posibles errores, mientras que el **if** y **elif** para evaluar las condiciones (Ej. Pedir un día de la semana e identificarlo, en el else se evaluaría si la cadena a evaluar no es un día de la semana).\n",
    "\n",
    "La instrucción if...elif...else tiene la siguiente sintaxis:\n",
    "\n",
    "\n",
    "Es posible simular el funcionamiento de elif con if utilizando expresiones condicionales. Esto hace que se ejecutan todas las instrucciones, aunque no haga falta."
   ]
  },
  {
   "cell_type": "code",
   "execution_count": 21,
   "metadata": {},
   "outputs": [
    {
     "name": "stdout",
     "output_type": "stream",
     "text": [
      "Introduce un comando (ENTRAR, SALUDAR, SALIR): Saludar\n",
      "Hola, espero que lo estés pasando bien aprendiendo Python\n",
      "Introduce una nota: 8.5\n",
      "Notable\n"
     ]
    }
   ],
   "source": [
    "# Ejemplo 1\n",
    "comando = input('Introduce un comando (ENTRAR, SALUDAR, SALIR): ').upper()\n",
    "if comando == 'ENTRAR':\n",
    "    print('Bienvenido')\n",
    "elif comando == 'SALUDAR':\n",
    "    print('Hola, espero que lo estés pasando bien aprendiendo Python')\n",
    "elif comando == 'SALIR':\n",
    "    print('Saliendo del sistema...')\n",
    "else:\n",
    "    print('Comando no reconocido')\n",
    "    \n",
    "\n",
    "# Ejemplo 2\n",
    "nota = float(input('Introduce una nota: '))\n",
    "if nota == 10:\n",
    "    print('Matrícula')\n",
    "elif nota >= 9 and nota < 10:\n",
    "    print('Sobresaliente')\n",
    "elif nota >= 7 and nota < 9:\n",
    "    print('Notable')\n",
    "elif nota >= 6 and nota < 7:\n",
    "    print('Bien')\n",
    "elif nota >= 5 and nota < 6:\n",
    "    print('Suficiente')\n",
    "elif nota < 5:\n",
    "    print('Insuficiente')"
   ]
  },
  {
   "cell_type": "markdown",
   "metadata": {},
   "source": [
    "### Switch\n",
    "\n",
    "La instrucción condicional **switch**, existente en otros lenguajes de programación, no existe como tal en Python, aunque se puede simular mediante el uso de diccionarios y funciones. \n",
    "\n",
    "Switch es una estructura condicional múltiple, que permite evaluar de manera rápida si un valor coincide con una gran lista de posibilidades.\n",
    "\n"
   ]
  },
  {
   "cell_type": "code",
   "execution_count": 20,
   "metadata": {},
   "outputs": [
    {
     "name": "stdout",
     "output_type": "stream",
     "text": [
      "Introduce el día de la semana: (1, 2, 3, 4, ...): 2\n",
      "El día 2 corresponde con el MARTES\n"
     ]
    }
   ],
   "source": [
    "# Diccionario con los días de la semana\n",
    "DIAS = {\n",
    "    0: 'LUNES',\n",
    "    1: 'MARTES',\n",
    "    2: 'MIERCOLES',\n",
    "    3: 'JUEVES',\n",
    "    4: 'VIERNES',\n",
    "    5: 'SABADO',\n",
    "    6: 'DOMINGO',\n",
    "}\n",
    "\n",
    "# Solicitud al usuario para que introduzca un día de la semana\n",
    "opcion_usuario = int(input('Introduce el día de la semana: (1, 2, 3, 4, ...): ')) - 1\n",
    "\n",
    "\n",
    "# Con el día introducido por el usuario, acceder al diccionario y al clave-valor concreto.\n",
    "numero_dia = DIAS.get(opcion_usuario, 'Desconocido')\n",
    "\n",
    "# Mostrar por pantalla el resultado\n",
    "print('El día', opcion_usuario + 1, 'corresponde con el', numero_dia)\n"
   ]
  },
  {
   "cell_type": "markdown",
   "metadata": {},
   "source": [
    "## Bucles.\n",
    "Un bucle es una secuencia que ejecuta un número determinado de veces un fragmento de código hasta que la condición asignada a dicho bucle deja de cumplirse. El propósito es repetir un bloque de código mientras una condidición sea True. Los bucles más utilizados en programación son el bucle while y el bucle for. \n",
    "\n",
    "Se basa en iterar (realizar una acción varias veces. Cada vez que se repite la acción se denomina \"iteración\") un bloque a partir de evaluar una condición lógica, siempre que ésta sea True.\n",
    " \n",
    "La siguiente imagen representa el diagrama de flujo de un bucle.\n",
    "\n",
    "\n",
    "\n",
    "El bucle do... while, existentes en otros lenguajes de programación no existe en Python.\n"
   ]
  },
  {
   "cell_type": "markdown",
   "metadata": {},
   "source": [
    "### While\n",
    "Un bucle con la instrucción **while** evalúa una condición ANTES de entrar en el bucle y, si se cumple y mientras se cumpla, ejecuta las instrucciones asociadas.\n",
    "\n",
    "La sintaxis es la siguiente:\n",
    "\n",
    "\n",
    "Si la condición del bucle se cumple siempre, el bucle no terminará nunca y se obtendra lo que se denomina un **bucle infinito**"
   ]
  },
  {
   "cell_type": "code",
   "execution_count": 26,
   "metadata": {},
   "outputs": [
    {
     "name": "stdout",
     "output_type": "stream",
     "text": [
      "Hello World\n",
      "Hello World\n",
      "Hello World\n",
      "Hello World\n",
      "Hello World\n",
      "--------------------------------------------------\n",
      "c vale 1\n",
      "c vale 2\n",
      "c vale 3\n",
      "c vale 4\n",
      "c vale 5\n",
      "c vale 6\n",
      "--------------------------------------------------\n"
     ]
    }
   ],
   "source": [
    "# Ejemplo 1. Bucle while con 5 iteraciones\n",
    "counter, ITERACIONES = 1,5\n",
    "while counter <= ITERACIONES:\n",
    "    print('Hello World')\n",
    "    counter += 1\n",
    "print(50 * '-')\n",
    "\n",
    "# Ejemplo 2. Bucle while con 6 iteraciones\n",
    "c = 0\n",
    "while c <= 5:\n",
    "    c+=1\n",
    "    print('c vale', c)\n",
    "print(50 * '-')"
   ]
  },
  {
   "cell_type": "markdown",
   "metadata": {},
   "source": [
    "Se puede encadenar una sentencia else en un bucle while para ejecutar un bloque de código, una vez la condición ya no devuelve True (normalmente al terminal el bucle)."
   ]
  },
  {
   "cell_type": "code",
   "execution_count": 27,
   "metadata": {},
   "outputs": [
    {
     "name": "stdout",
     "output_type": "stream",
     "text": [
      "c vale 1\n",
      "c vale 2\n",
      "c vale 3\n",
      "c vale 4\n",
      "c vale 5\n",
      "c vale 6\n",
      "Se ha completado toda la iteración y c vale 6\n"
     ]
    }
   ],
   "source": [
    "# Else con While. Permite ejecutar un bloque de código una vez la condición devuelve \n",
    "# False (normalmente al final).\n",
    "c = 0\n",
    "while c <= 5:\n",
    "    c+=1\n",
    "    print('c vale',c)\n",
    "else:\n",
    "    print('Se ha completado toda la iteración y c vale',c)"
   ]
  },
  {
   "cell_type": "markdown",
   "metadata": {},
   "source": [
    "Se puede \"romper\" la ejecución del while en cualquier momento mediante la instrucción **break**. Al encontarr esta instrucción, el programa sale inmediatamente del bucle en el que se encuentra, finalizando la iteración. Además, no se ejecutará el else, ya que éste solo se llama al finalar la iteración correctamente.\n",
    "\n",
    "Es importante tener especial cuidado al utilizar la instrucción break, ya que con ella se está rompiendo el flujo normal del programa."
   ]
  },
  {
   "cell_type": "code",
   "execution_count": 28,
   "metadata": {},
   "outputs": [
    {
     "name": "stdout",
     "output_type": "stream",
     "text": [
      "c vale 1\n",
      "c vale 2\n",
      "c vale 3\n",
      "Romper bucle cuando c vale 4\n",
      "por aquí continuamos el programa normal\n"
     ]
    }
   ],
   "source": [
    "c = 0\n",
    "while c <= 5:\n",
    "    c+=1\n",
    "    if(c==4):\n",
    "        print('Romper bucle cuando c vale',c)\n",
    "        break\n",
    "    print('c vale',c)\n",
    "else:\n",
    "    print('Se ha completado toda la iteración y c vale',c)\n",
    "print('por aquí continuamos el programa normal')"
   ]
  },
  {
   "cell_type": "markdown",
   "metadata": {},
   "source": [
    "También es posible \"saltar\" la iteración actual sin romper el bucle con la instrucción **continue**"
   ]
  },
  {
   "cell_type": "code",
   "execution_count": 29,
   "metadata": {},
   "outputs": [
    {
     "name": "stdout",
     "output_type": "stream",
     "text": [
      "c vale 1\n",
      "c vale 2\n",
      "Continuamos con la siguiente iteración 3\n",
      "Continuamos con la siguiente iteración 4\n",
      "c vale 5\n",
      "c vale 6\n",
      "Se ha completado toda la iteración y c vale 6\n"
     ]
    }
   ],
   "source": [
    "c = 0\n",
    "while c <= 5:\n",
    "    c+=1\n",
    "    if c ==3 or c==4:\n",
    "        print('Continuamos con la siguiente iteración',c)\n",
    "        continue\n",
    "    print('c vale',c)\n",
    "else:\n",
    "    print('Se ha completado toda la iteración y c vale',c)"
   ]
  },
  {
   "cell_type": "markdown",
   "metadata": {},
   "source": [
    "#### Ejemplo menú interactivo"
   ]
  },
  {
   "cell_type": "code",
   "execution_count": 32,
   "metadata": {},
   "outputs": [
    {
     "name": "stdout",
     "output_type": "stream",
     "text": [
      "Bienvenido a tu primer menú interactivo\n",
      "¿Qué desea hacer? Escribe una opción\n",
      "    1 = Saludar\n",
      "    2 = Sumar dos números\n",
      "    3 = Salir\n",
      "\n",
      "1\n",
      "Hola, soy el menu interactivo\n",
      "¿Qué desea hacer? Escribe una opción\n",
      "    1 = Saludar\n",
      "    2 = Sumar dos números\n",
      "    3 = Salir\n",
      "\n",
      "2\n",
      "Introduce el primer número: 3.4\n",
      "Introduce el segundo número: 4.4\n",
      "El resultado de la suma de 3.4 y 4.4 es 7.800000000000001\n",
      "¿Qué desea hacer? Escribe una opción\n",
      "    1 = Saludar\n",
      "    2 = Sumar dos números\n",
      "    3 = Salir\n",
      "\n",
      "3\n",
      "¡Hasta luego!\n"
     ]
    }
   ],
   "source": [
    "print('Bienvenido a tu primer menú interactivo')\n",
    "while True: # Bucle infinita\n",
    "    print(\"\"\"¿Qué desea hacer? Escribe una opción\n",
    "    1 = Saludar\n",
    "    2 = Sumar dos números\n",
    "    3 = Salir\\n\"\"\")\n",
    "    \n",
    "    # Pedir información al usuario\n",
    "    opcion = input()\n",
    "    \n",
    "    if opcion == '1':\n",
    "        print('Hola, soy el menu interactivo')\n",
    "    elif opcion == '2':\n",
    "        n1 = float(input('Introduce el primer número: '))\n",
    "        n2 = float(input('Introduce el segundo número: '))\n",
    "        print('El resultado de la suma de {n1} y {n2} es {suma}'.format(n1=n1, n2=n2, suma=n1+n2))\n",
    "    elif opcion == '3':\n",
    "        print('¡Hasta luego!')\n",
    "        break\n",
    "    else:\n",
    "        print('Comando desconocido. Vuelve a intentarlo')"
   ]
  },
  {
   "cell_type": "markdown",
   "metadata": {},
   "source": [
    "### For\n",
    "Los bucles for son otra forma de ejectuar código de manera repetitiva. En lugar de iterar sobre una progresión arit´metica de números, como es el caso de Pascal, o darle al usuario la posibilidad de definir tanto el paso de la iteración como la condicion final, como en el caso de C, la sentencia for de Python itera sobre los elemetnos de cualquier secuencia, rango, lista o cadena de caracteres, siguiendo el orden que aparece en dicha secuencia, rango, lista o cadena.\n",
    "\n",
    "La sintaxis de la instrucción for es:\n",
    "\n"
   ]
  },
  {
   "cell_type": "code",
   "execution_count": null,
   "metadata": {},
   "outputs": [],
   "source": []
  },
  {
   "cell_type": "markdown",
   "metadata": {},
   "source": [
    "La función **range()** sirve para generar una lista de números a recorrer fácilmente y que no ocupa memoria porque se interpreta sobre la ejecución del programa. De esta forma, es posible simular un bucle for, como en cualquier otro lenguaje de programación."
   ]
  },
  {
   "cell_type": "code",
   "execution_count": null,
   "metadata": {},
   "outputs": [],
   "source": []
  },
  {
   "cell_type": "markdown",
   "metadata": {},
   "source": [
    "Para conseguir la lista literal, es posible convertir range a una lista"
   ]
  },
  {
   "cell_type": "code",
   "execution_count": null,
   "metadata": {},
   "outputs": [],
   "source": []
  },
  {
   "cell_type": "markdown",
   "metadata": {},
   "source": [
    "Como es posible utilizar listas en la sentencia for, la forma más fácil de recorrer una lista es:\n"
   ]
  },
  {
   "cell_type": "code",
   "execution_count": null,
   "metadata": {},
   "outputs": [],
   "source": []
  },
  {
   "cell_type": "markdown",
   "metadata": {},
   "source": [
    "De esta forma, es posible modificar items de la lista. Para asignar un nuevo valor a los elementos de una lista mientras se recorre, es posible intentar asignar al número el nuevo valor.\n"
   ]
  },
  {
   "cell_type": "code",
   "execution_count": null,
   "metadata": {},
   "outputs": [],
   "source": []
  },
  {
   "cell_type": "markdown",
   "metadata": {},
   "source": [
    "Como se muestra, no funciona el método anterior. La forma correcta de hacerlo es haciendo referencia al índice de la lista en lugar de la variable."
   ]
  },
  {
   "cell_type": "code",
   "execution_count": null,
   "metadata": {},
   "outputs": [],
   "source": []
  },
  {
   "cell_type": "markdown",
   "metadata": {},
   "source": [
    "La función **enumerate()** permite conseguir el índice y el valor en cada iteración fácilmente."
   ]
  },
  {
   "cell_type": "code",
   "execution_count": null,
   "metadata": {},
   "outputs": [],
   "source": []
  },
  {
   "cell_type": "markdown",
   "metadata": {},
   "source": [
    "Un uso muy cómun, es utilizar la sentencia for con cadenas de caracteres. Es importante recordar que las cadenas son inmutables, por lo que si se inenta modificar su contenido se obtendrá un error."
   ]
  },
  {
   "cell_type": "code",
   "execution_count": null,
   "metadata": {},
   "outputs": [],
   "source": []
  },
  {
   "cell_type": "markdown",
   "metadata": {},
   "source": [
    "Para solventar este inconveniente, es posible generar una nueva cadena."
   ]
  },
  {
   "cell_type": "code",
   "execution_count": null,
   "metadata": {},
   "outputs": [],
   "source": []
  },
  {
   "cell_type": "markdown",
   "metadata": {},
   "source": [
    "Finalmente, es imporante recordar que si la condición del bucle se cumple siempre, éste no terminará nunca de ejecutarse y tendremos lo que se denomina un bucle infinito. El bucle for no incluye de forma nativa una manera de implementar un bucle infinito, teniéndose que realizar a través de una librería **itertools**"
   ]
  },
  {
   "cell_type": "code",
   "execution_count": null,
   "metadata": {},
   "outputs": [],
   "source": []
  }
 ],
 "metadata": {
  "kernelspec": {
   "display_name": "Python 3",
   "language": "python",
   "name": "python3"
  },
  "language_info": {
   "codemirror_mode": {
    "name": "ipython",
    "version": 3
   },
   "file_extension": ".py",
   "mimetype": "text/x-python",
   "name": "python",
   "nbconvert_exporter": "python",
   "pygments_lexer": "ipython3",
   "version": "3.8.10"
  },
  "nbTranslate": {
   "displayLangs": [
    "*"
   ],
   "hotkey": "alt-t",
   "langInMainMenu": true,
   "sourceLang": "en",
   "targetLang": "fr",
   "useGoogleTranslate": true
  },
  "toc": {
   "base_numbering": 1,
   "nav_menu": {},
   "number_sections": true,
   "sideBar": true,
   "skip_h1_title": true,
   "title_cell": "Table of Contents",
   "title_sidebar": "Contents",
   "toc_cell": true,
   "toc_position": {},
   "toc_section_display": true,
   "toc_window_display": false
  },
  "varInspector": {
   "cols": {
    "lenName": 16,
    "lenType": 16,
    "lenVar": 40
   },
   "kernels_config": {
    "python": {
     "delete_cmd_postfix": "",
     "delete_cmd_prefix": "del ",
     "library": "var_list.py",
     "varRefreshCmd": "print(var_dic_list())"
    },
    "r": {
     "delete_cmd_postfix": ") ",
     "delete_cmd_prefix": "rm(",
     "library": "var_list.r",
     "varRefreshCmd": "cat(var_dic_list()) "
    }
   },
   "types_to_exclude": [
    "module",
    "function",
    "builtin_function_or_method",
    "instance",
    "_Feature"
   ],
   "window_display": false
  }
 },
 "nbformat": 4,
 "nbformat_minor": 4
}
