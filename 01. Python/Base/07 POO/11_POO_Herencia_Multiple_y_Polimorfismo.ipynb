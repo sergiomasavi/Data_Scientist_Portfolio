{
 "cells": [
  {
   "cell_type": "markdown",
   "metadata": {},
   "source": [
    "<img src=\"Tarjeta.png\">"
   ]
  },
  {
   "cell_type": "markdown",
   "metadata": {
    "toc": true
   },
   "source": [
    "<h1>Table of Contents<span class=\"tocSkip\"></span></h1>\n",
    "<div class=\"toc\"><ul class=\"toc-item\"><li><ul class=\"toc-item\"><li><ul class=\"toc-item\"><li><span><a href=\"#Si-cambiamos-el-orden-de-las-clases-en-la-herencia\" data-toc-modified-id=\"Si-cambiamos-el-orden-de-las-clases-en-la-herencia-0.0.1\"><span class=\"toc-item-num\">0.0.1&nbsp;&nbsp;</span>Si cambiamos el orden de las clases en la herencia</a></span></li></ul></li></ul></li><li><span><a href=\"#Herencia-múltiple-con-ejemplos\" data-toc-modified-id=\"Herencia-múltiple-con-ejemplos-1\"><span class=\"toc-item-num\">1&nbsp;&nbsp;</span>Herencia múltiple con ejemplos</a></span></li></ul></div>"
   ]
  },
  {
   "cell_type": "markdown",
   "metadata": {},
   "source": [
    "# Herencia múltiple\n",
    "\n",
    "Capacidad que tiene una clase hija de heredar de múltiples superclases.\n",
    "\n",
    "Normalmente, las clases que heredan de múltiples superclases, no tienen constructor porque suelen ejecutar el constructor de una de las clases padres.\n",
    "\n",
    "El problema aparece cuando las superclases tienen atributos o métodos comunes. \n",
    "\n",
    "En estos casos, Python dará prioridad a las clases más a la izquierda en el momento de la declaración de la subclase.\n",
    "\n",
    "__Nota: Generalmente, la clase que utiliza la herencia múltiple no tiene constructor, ya que ejecutará el constructor de una de las clases que hereda (la primera). Sin embargo, hay ocasiones en las cuáles se incluye el constructor.__"
   ]
  },
  {
   "cell_type": "code",
   "execution_count": 11,
   "metadata": {},
   "outputs": [],
   "source": [
    "class A:\n",
    "    def __init__(self):\n",
    "        print('Soy la clase A')\n",
    "        \n",
    "    def a(self):\n",
    "        print('Soy el constructor de la clase A')\n",
    "        \n",
    "class B:\n",
    "    def __init__(self):\n",
    "        print('Soy el constructor de la clase B'')\n",
    "        \n",
    "    def b(self):\n",
    "        print('Método de la clase B')\n",
    "        \n",
    "class C(B,A):\n",
    "    def c(self):\n",
    "        print('Método de la clase B')"
   ]
  },
  {
   "cell_type": "code",
   "execution_count": 12,
   "metadata": {},
   "outputs": [
    {
     "name": "stdout",
     "output_type": "stream",
     "text": [
      "Soy la clase B\n",
      "Método heredado de la clase A\n",
      "Método heredado de la clase B\n",
      "Este método es de C\n"
     ]
    }
   ],
   "source": [
    "# Toma el constructor de la primera clase que hereda (más a la izquierda).\n",
    "c1 = C()\n",
    "c1.a()\n",
    "c1.b()\n",
    "c1.c()"
   ]
  },
  {
   "cell_type": "markdown",
   "metadata": {},
   "source": [
    "#### Si cambiamos el orden de las clases en la herencia"
   ]
  },
  {
   "cell_type": "code",
   "execution_count": 13,
   "metadata": {},
   "outputs": [],
   "source": [
    "class C(A,B):\n",
    "    def c(self):\n",
    "        print('Este método es de C')"
   ]
  },
  {
   "cell_type": "code",
   "execution_count": 14,
   "metadata": {},
   "outputs": [
    {
     "name": "stdout",
     "output_type": "stream",
     "text": [
      "Soy la clase A\n",
      "Método heredado de la clase A\n",
      "Método heredado de la clase B\n",
      "Este método es de C\n"
     ]
    }
   ],
   "source": [
    "# Toma el constructor de la primera clase que hereda (más a la izquierda).\n",
    "c1 = C()\n",
    "c1.a()\n",
    "c1.b()\n",
    "c1.c()"
   ]
  },
  {
   "cell_type": "markdown",
   "metadata": {},
   "source": [
    "## Herencia múltiple con ejemplos"
   ]
  },
  {
   "cell_type": "code",
   "execution_count": 15,
   "metadata": {},
   "outputs": [],
   "source": [
    "class Vehiculos():\n",
    "    # Atributos\n",
    "    marca = 'Marca sin definir'\n",
    "    modelo = 'Modelo sin definir'\n",
    "    \n",
    "    # Constructor\n",
    "    def __init__(self, marca, modelo):\n",
    "        print('Soy el constructor de la clase Vehiculos')\n",
    "        self.marca = marca\n",
    "        self.modelo = modelo\n",
    "        \n",
    "class VElectricos():\n",
    "    # Atributos\n",
    "    autonomia = 0\n",
    "    cargando = False\n",
    "    \n",
    "    # Constructor\n",
    "    def __init__(self):\n",
    "        print('Soy el constructor de la clase Vehiculos Eléctricos')\n",
    "        self.autonomia = 100 # % de carga eléctrica\n",
    "        \n",
    "    def cargarEnergia(self):\n",
    "        \"\"\" Método cargarEnergía() de la clase VElectrico. Indica al sistema si el vehiculo electrico está cargado o no\"\"\"\n",
    "        self.cargando = True\n",
    "        \n",
    "class BicicletaElectrica(VElectricos, Vehiculos):\n",
    "    \"\"\" Clase BicicletaElectrica que hereda de la clase VElectricos y Vehiculos. \"\"\"\n",
    "    pass"
   ]
  },
  {
   "cell_type": "code",
   "execution_count": 16,
   "metadata": {},
   "outputs": [
    {
     "name": "stdout",
     "output_type": "stream",
     "text": [
      "Soy el constructor de la clase Vehiculos Eléctricos\n"
     ]
    }
   ],
   "source": [
    "# Objeto que hereda de VElectrico y Vehiculos. Al heredar de dos clases, tiene accesible a dos constructores\n",
    "# ¿Cuál de ellos ejecuta?\n",
    "miBici = BicicletaElectrica()"
   ]
  },
  {
   "cell_type": "code",
   "execution_count": 17,
   "metadata": {},
   "outputs": [
    {
     "name": "stdout",
     "output_type": "stream",
     "text": [
      "Marca sin definir\n",
      "Modelo sin definir\n"
     ]
    }
   ],
   "source": [
    "print(miBici.marca)\n",
    "print(miBici.modelo)"
   ]
  },
  {
   "cell_type": "code",
   "execution_count": 18,
   "metadata": {},
   "outputs": [],
   "source": [
    "miBici.marca = 'Orbea'\n",
    "miBici.modelo = 'sx500'"
   ]
  },
  {
   "cell_type": "code",
   "execution_count": 19,
   "metadata": {},
   "outputs": [
    {
     "name": "stdout",
     "output_type": "stream",
     "text": [
      "Orbea\n",
      "sx500\n"
     ]
    }
   ],
   "source": [
    "print(miBici.marca)\n",
    "print(miBici.modelo)"
   ]
  },
  {
   "cell_type": "code",
   "execution_count": 63,
   "metadata": {},
   "outputs": [],
   "source": [
    "class Vehiculos():\n",
    "    # Atributos\n",
    "    marca = 'Marca sin definir'\n",
    "    modelo = 'Modelo sin definir'\n",
    "    \n",
    "    # Constructor\n",
    "    def __init__(self, marca, modelo):\n",
    "        print('Soy el constructor de la clase \"Vehículos\".')\n",
    "        self.marca = marca\n",
    "        self.modelo = modelo\n",
    "    \n",
    "    def __str__(self):\n",
    "        return 'Marca: {}, Modelo: {}'.format(self.marca, self.modelo)\n",
    "    \n",
    "class VElectricos():\n",
    "    # Atributos\n",
    "    autonomia = 0\n",
    "    cargando = False\n",
    "    \n",
    "    # Constructor\n",
    "    def __init__(self):\n",
    "        print('Soy el constructor de la clase \"Vehículos Eléctricos\".')\n",
    "        self.autonomia = 100 # % de carga eléctrica\n",
    "        \n",
    "    def cargarEnergia(self):\n",
    "        \"\"\" Método cargarEnergía() de la clase VElectrico. Indica al sistema si el vehiculo electrico está cargado o no\"\"\"\n",
    "        self.cargando = True\n",
    "        \n",
    "class BicicletaElectrica(VElectricos, Vehiculos):\n",
    "    \"\"\" Clase BicicletaElectrica que hereda de la clase VElectricos y Vehiculos. \"\"\"\n",
    "    pass\n",
    "\n",
    "class VCombustion(Vehiculos):\n",
    "    # Atributos\n",
    "    deposito = 0\n",
    "    repostando = False\n",
    "    \n",
    "    def __init__(self, marca, modelo):\n",
    "        print('Soy el constructor de la clase \"Vehículos de Combustión\".')\n",
    "        super().__init__(marca, modelo)\n",
    "        self.deposito = 50 # Litros del deposito\n",
    "    \n",
    "    def repostar(self):\n",
    "        print('Repostando...')\n",
    "        self.repostando = True\n",
    "        print(self)\n",
    "\n",
    "    def __str__(self):\n",
    "        return '{}, Deposito (L): {}, Repostando: {}'.format(super().__str__(), self.deposito, self.repostando)\n",
    "        "
   ]
  },
  {
   "cell_type": "code",
   "execution_count": 64,
   "metadata": {},
   "outputs": [
    {
     "name": "stdout",
     "output_type": "stream",
     "text": [
      "Soy el constructor de la clase \"Vehículos de Combustión\".\n",
      "Soy el constructor de la clase \"Vehículos\".\n"
     ]
    }
   ],
   "source": [
    "miCocheCombustion = VCombustion('Peugeot', '308')"
   ]
  },
  {
   "cell_type": "code",
   "execution_count": 65,
   "metadata": {},
   "outputs": [
    {
     "name": "stdout",
     "output_type": "stream",
     "text": [
      "Mi coche de combustión:\n",
      "\n",
      "Marca: Peugeot, Modelo: 308, Deposito (L): 50, Repostando: False\n"
     ]
    }
   ],
   "source": [
    "print('Mi coche de combustión:',miCocheCombustion,sep='\\n\\n')"
   ]
  },
  {
   "cell_type": "code",
   "execution_count": 66,
   "metadata": {},
   "outputs": [
    {
     "name": "stdout",
     "output_type": "stream",
     "text": [
      "Repostando...\n",
      "Marca: Peugeot, Modelo: 308, Deposito (L): 50, Repostando: True\n"
     ]
    }
   ],
   "source": [
    "# Respostar\n",
    "miCocheCombustion.repostar()"
   ]
  },
  {
   "cell_type": "markdown",
   "metadata": {},
   "source": [
    "# Polimorfismo\n",
    "El concepto de polimorfismo (del griego muchas formas) implica que, si en una porción de código se invoca un determinado método de un objeto, podrán obtenerse distintos resultados según la clase del objeto. \n",
    "Esto se debe\n",
    "a que distintos objetos pueden tener un método con un mismo nombre, pero que realice distintas operaciones, es decir, un objeto puede cambiar de forma dependiendo del contexto en el que se utilice."
   ]
  },
  {
   "cell_type": "code",
   "execution_count": null,
   "metadata": {},
   "outputs": [],
   "source": []
  }
 ],
 "metadata": {
  "kernelspec": {
   "display_name": "Python 3",
   "language": "python",
   "name": "python3"
  },
  "language_info": {
   "codemirror_mode": {
    "name": "ipython",
    "version": 3
   },
   "file_extension": ".py",
   "mimetype": "text/x-python",
   "name": "python",
   "nbconvert_exporter": "python",
   "pygments_lexer": "ipython3",
   "version": "3.8.10"
  },
  "nbTranslate": {
   "displayLangs": [
    "*"
   ],
   "hotkey": "alt-t",
   "langInMainMenu": true,
   "sourceLang": "en",
   "targetLang": "fr",
   "useGoogleTranslate": true
  },
  "toc": {
   "base_numbering": 1,
   "nav_menu": {},
   "number_sections": true,
   "sideBar": true,
   "skip_h1_title": true,
   "title_cell": "Table of Contents",
   "title_sidebar": "Contents",
   "toc_cell": true,
   "toc_position": {},
   "toc_section_display": true,
   "toc_window_display": false
  },
  "varInspector": {
   "cols": {
    "lenName": 16,
    "lenType": 16,
    "lenVar": 40
   },
   "kernels_config": {
    "python": {
     "delete_cmd_postfix": "",
     "delete_cmd_prefix": "del ",
     "library": "var_list.py",
     "varRefreshCmd": "print(var_dic_list())"
    },
    "r": {
     "delete_cmd_postfix": ") ",
     "delete_cmd_prefix": "rm(",
     "library": "var_list.r",
     "varRefreshCmd": "cat(var_dic_list()) "
    }
   },
   "types_to_exclude": [
    "module",
    "function",
    "builtin_function_or_method",
    "instance",
    "_Feature"
   ],
   "window_display": false
  }
 },
 "nbformat": 4,
 "nbformat_minor": 4
}
