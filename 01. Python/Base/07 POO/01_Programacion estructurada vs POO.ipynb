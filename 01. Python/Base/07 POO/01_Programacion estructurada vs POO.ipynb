{
 "cells": [
  {
   "cell_type": "markdown",
   "metadata": {},
   "source": [
    "<img src=\"Tarjeta.png\">"
   ]
  },
  {
   "cell_type": "markdown",
   "metadata": {
    "toc": true
   },
   "source": [
    "<h1>Table of Contents<span class=\"tocSkip\"></span></h1>\n",
    "<div class=\"toc\"><ul class=\"toc-item\"><li><span><a href=\"#Ejemplo-de-implementación-con-Programación-Estructurada\" data-toc-modified-id=\"Ejemplo-de-implementación-con-Programación-Estructurada-1\"><span class=\"toc-item-num\">1&nbsp;&nbsp;</span>Ejemplo de implementación con Programación Estructurada</a></span></li><li><span><a href=\"#Ejemplo-de-implementación-con-Programación-Orientada-a-Objetos\" data-toc-modified-id=\"Ejemplo-de-implementación-con-Programación-Orientada-a-Objetos-2\"><span class=\"toc-item-num\">2&nbsp;&nbsp;</span>Ejemplo de implementación con Programación Orientada a Objetos</a></span></li></ul></div>"
   ]
  },
  {
   "cell_type": "markdown",
   "metadata": {},
   "source": [
    "## Ejemplo de implementación con Programación Estructurada"
   ]
  },
  {
   "cell_type": "code",
   "execution_count": 19,
   "metadata": {},
   "outputs": [],
   "source": [
    "# Definimos unos cuantos clientes\n",
    "clientes= [\n",
    "    {'Nombre': 'Hector', 'Apellidos':'Costa Guzman', 'dni':'11111111A'},\n",
    "    {'Nombre': 'Juan', 'Apellidos':'González Márquez', 'dni':'22222222B'} \n",
    "]\n",
    "\n",
    "# Creamos una función que muestra un cliente en una lista a partir del DNI\n",
    "def mostrar_cliente(clientes, dni):\n",
    "    for c in clientes:\n",
    "        if (dni == c['dni']):\n",
    "            print('{} {}'.format(c['Nombre'],c['Apellidos']))\n",
    "            return # Cuando se encuentra la coincidencia se aborta la funcion\n",
    "    print('Cliente no encontrado')\n",
    "\n",
    "# Creamos una función que borra un cliente en una lista a partir del DNI\n",
    "def borrar_cliente(clientes, dni):\n",
    "    for i,c in enumerate(clientes):\n",
    "        if (dni == c['dni']):\n",
    "            del( clientes[i] )\n",
    "            print(str(c),\"> BORRADO\")\n",
    "            return # Cuando se encuentra la coincidencia se aborta la funcion\n",
    "    print('Cliente no encontrado')  "
   ]
  },
  {
   "cell_type": "markdown",
   "metadata": {},
   "source": [
    "Ejecutemos el código estructurado"
   ]
  },
  {
   "cell_type": "code",
   "execution_count": 20,
   "metadata": {},
   "outputs": [
    {
     "name": "stdout",
     "output_type": "stream",
     "text": [
      "==LISTADO DE CLIENTES==\n",
      "[{'Nombre': 'Hector', 'Apellidos': 'Costa Guzman', 'dni': '11111111A'}, {'Nombre': 'Juan', 'Apellidos': 'González Márquez', 'dni': '22222222B'}]\n"
     ]
    }
   ],
   "source": [
    "print(\"==LISTADO DE CLIENTES==\")\n",
    "print(clientes)"
   ]
  },
  {
   "cell_type": "code",
   "execution_count": 21,
   "metadata": {},
   "outputs": [
    {
     "name": "stdout",
     "output_type": "stream",
     "text": [
      "\n",
      "==MOSTRAR CLIENTES POR DNI==\n",
      "Hector Costa Guzman\n",
      "Cliente no encontrado\n"
     ]
    }
   ],
   "source": [
    "print(\"\\n==MOSTRAR CLIENTES POR DNI==\")\n",
    "mostrar_cliente(clientes, '11111111A')\n",
    "mostrar_cliente(clientes, '11111111Z')"
   ]
  },
  {
   "cell_type": "code",
   "execution_count": 22,
   "metadata": {},
   "outputs": [
    {
     "name": "stdout",
     "output_type": "stream",
     "text": [
      "\n",
      "==BORRAR CLIENTES POR DNI==\n",
      "Cliente no encontrado\n",
      "{'Nombre': 'Juan', 'Apellidos': 'González Márquez', 'dni': '22222222B'} > BORRADO\n"
     ]
    }
   ],
   "source": [
    "print(\"\\n==BORRAR CLIENTES POR DNI==\")\n",
    "borrar_cliente(clientes, '22222222V')\n",
    "borrar_cliente(clientes, '22222222B')"
   ]
  },
  {
   "cell_type": "code",
   "execution_count": 23,
   "metadata": {},
   "outputs": [
    {
     "name": "stdout",
     "output_type": "stream",
     "text": [
      "\n",
      "==LISTADO DE CLIENTES==\n",
      "[{'Nombre': 'Hector', 'Apellidos': 'Costa Guzman', 'dni': '11111111A'}]\n"
     ]
    }
   ],
   "source": [
    "print(\"\\n==LISTADO DE CLIENTES==\")\n",
    "print(clientes)"
   ]
  },
  {
   "cell_type": "markdown",
   "metadata": {},
   "source": [
    "## Ejemplo de implementación con Programación Orientada a Objetos \n",
    "No hace falta entender el código, lo aprenderemos en esta unidad."
   ]
  },
  {
   "cell_type": "code",
   "execution_count": 24,
   "metadata": {},
   "outputs": [],
   "source": [
    "class Cliente:\n",
    "    \n",
    "    def __init__(self, dni, nombre, apellidos):\n",
    "        self.dni = dni\n",
    "        self.nombre = nombre\n",
    "        self.apellidos = apellidos\n",
    "        \n",
    "    def __str__(self):\n",
    "        return '{} {}'.format(self.nombre,self.apellidos)\n",
    "    \n",
    "\n",
    "class Empresa:\n",
    "    \n",
    "    def __init__(self, clientes=[]):\n",
    "        self.clientes = clientes\n",
    "        \n",
    "    def mostrar_cliente(self, dni=None):\n",
    "        for c in self.clientes:\n",
    "            if c.dni == dni:\n",
    "                print(c)\n",
    "                return\n",
    "        print(\"Cliente no encontrado\")\n",
    "    \n",
    "    def borrar_cliente(self, dni=None):\n",
    "        for i,c in enumerate(self.clientes):\n",
    "            if c.dni == dni:\n",
    "                del(self.clientes[i])\n",
    "                print(str(c),\"> BORRADO\")\n",
    "                return\n",
    "        print(\"Cliente no encontrado\")"
   ]
  },
  {
   "cell_type": "code",
   "execution_count": 26,
   "metadata": {},
   "outputs": [],
   "source": [
    "# Creo un par de clientes\n",
    "hector = Cliente(nombre=\"Hector\", apellidos=\"Costa Guzman\", dni=\"11111111A\")\n",
    "juan = Cliente(\"22222222B\", \"Juan\", \"Gonzalez Marquez\")\n",
    "\n",
    "# Creo una empresa con los clientes iniciales\n",
    "empresa = Empresa(clientes=[hector, juan])"
   ]
  },
  {
   "cell_type": "code",
   "execution_count": 27,
   "metadata": {},
   "outputs": [
    {
     "name": "stdout",
     "output_type": "stream",
     "text": [
      "==LISTADO DE CLIENTES==\n",
      "[<__main__.Cliente object at 0x0000023D9E418808>, <__main__.Cliente object at 0x0000023D9E4187C8>]\n"
     ]
    }
   ],
   "source": [
    "# Muestro todos los clientes\n",
    "print(\"==LISTADO DE CLIENTES==\")\n",
    "print(empresa.clientes)"
   ]
  },
  {
   "cell_type": "code",
   "execution_count": 28,
   "metadata": {},
   "outputs": [
    {
     "name": "stdout",
     "output_type": "stream",
     "text": [
      "\n",
      "==MOSTRAR CLIENTES POR DNI==\n",
      "Hector Costa Guzman\n",
      "Cliente no encontrado\n"
     ]
    }
   ],
   "source": [
    "print(\"\\n==MOSTRAR CLIENTES POR DNI==\")\n",
    "# Consulto clientes por DNI\n",
    "empresa.mostrar_cliente(\"11111111A\")\n",
    "empresa.mostrar_cliente(\"11111111Z\")"
   ]
  },
  {
   "cell_type": "code",
   "execution_count": 29,
   "metadata": {},
   "outputs": [
    {
     "name": "stdout",
     "output_type": "stream",
     "text": [
      "\n",
      "==BORRAR CLIENTES POR DNI==\n",
      "Cliente no encontrado\n",
      "Juan Gonzalez Marquez > BORRADO\n"
     ]
    }
   ],
   "source": [
    "print(\"\\n==BORRAR CLIENTES POR DNI==\")\n",
    "# Borro un cliente por DNI\n",
    "empresa.borrar_cliente(\"22222222V\")\n",
    "empresa.borrar_cliente(\"22222222B\")"
   ]
  },
  {
   "cell_type": "code",
   "execution_count": 30,
   "metadata": {},
   "outputs": [
    {
     "name": "stdout",
     "output_type": "stream",
     "text": [
      "\n",
      "==LISTADO DE CLIENTES==\n",
      "[<__main__.Cliente object at 0x0000023D9E418808>]\n"
     ]
    }
   ],
   "source": [
    "# Muestro de nuevo todos los clientes\n",
    "print(\"\\n==LISTADO DE CLIENTES==\")\n",
    "print(empresa.clientes)"
   ]
  },
  {
   "cell_type": "markdown",
   "metadata": {},
   "source": [
    "¿Qué código es más intuitivo de usar?"
   ]
  }
 ],
 "metadata": {
  "kernelspec": {
   "display_name": "Python 3",
   "language": "python",
   "name": "python3"
  },
  "language_info": {
   "codemirror_mode": {
    "name": "ipython",
    "version": 3
   },
   "file_extension": ".py",
   "mimetype": "text/x-python",
   "name": "python",
   "nbconvert_exporter": "python",
   "pygments_lexer": "ipython3",
   "version": "3.8.10"
  },
  "nbTranslate": {
   "displayLangs": [
    "*"
   ],
   "hotkey": "alt-t",
   "langInMainMenu": true,
   "sourceLang": "en",
   "targetLang": "fr",
   "useGoogleTranslate": true
  },
  "toc": {
   "base_numbering": 1,
   "nav_menu": {},
   "number_sections": true,
   "sideBar": true,
   "skip_h1_title": true,
   "title_cell": "Table of Contents",
   "title_sidebar": "Contents",
   "toc_cell": true,
   "toc_position": {},
   "toc_section_display": true,
   "toc_window_display": false
  },
  "varInspector": {
   "cols": {
    "lenName": 16,
    "lenType": 16,
    "lenVar": 40
   },
   "kernels_config": {
    "python": {
     "delete_cmd_postfix": "",
     "delete_cmd_prefix": "del ",
     "library": "var_list.py",
     "varRefreshCmd": "print(var_dic_list())"
    },
    "r": {
     "delete_cmd_postfix": ") ",
     "delete_cmd_prefix": "rm(",
     "library": "var_list.r",
     "varRefreshCmd": "cat(var_dic_list()) "
    }
   },
   "types_to_exclude": [
    "module",
    "function",
    "builtin_function_or_method",
    "instance",
    "_Feature"
   ],
   "window_display": false
  }
 },
 "nbformat": 4,
 "nbformat_minor": 1
}
