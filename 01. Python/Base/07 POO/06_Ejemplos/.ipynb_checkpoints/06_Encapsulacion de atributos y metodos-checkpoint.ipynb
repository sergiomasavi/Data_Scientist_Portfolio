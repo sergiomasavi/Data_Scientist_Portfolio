{
 "cells": [
  {
   "cell_type": "markdown",
   "metadata": {},
   "source": [
    "<img src=\"Tarjeta.png\">"
   ]
  },
  {
   "cell_type": "markdown",
   "metadata": {
    "toc": true
   },
   "source": [
    "<h1>Table of Contents<span class=\"tocSkip\"></span></h1>\n",
    "<div class=\"toc\"><ul class=\"toc-item\"><li><span><a href=\"#Cómo-acceder-correctamente-->-Getters-y-Setters\" data-toc-modified-id=\"Cómo-acceder-correctamente-->-Getters-y-Setters-1\"><span class=\"toc-item-num\">1&nbsp;&nbsp;</span>Cómo acceder correctamente -&gt; Getters y Setters</a></span></li><li><span><a href=\"#Ejemplo-con-clase-Persona\" data-toc-modified-id=\"Ejemplo-con-clase-Persona-2\"><span class=\"toc-item-num\">2&nbsp;&nbsp;</span>Ejemplo con clase Persona</a></span></li></ul></div>"
   ]
  },
  {
   "cell_type": "markdown",
   "metadata": {},
   "source": [
    "# Encapsulación\n",
    "Consiste en denegar el acceso a los atributos y métodos internos de la clase desde el exterior.\n",
    "\n",
    "En Python no existe, pero se puede simular precediendo atributos y métodos con dos barras bajas __:"
   ]
  },
  {
   "cell_type": "code",
   "execution_count": 4,
   "metadata": {},
   "outputs": [],
   "source": [
    "class Ejemplo:\n",
    "    __atributo_privado = \"Soy un atributo inalcanzable desde fuera\"\n",
    "    \n",
    "    def __metodo_privado(self):\n",
    "        print(\"Soy un método inalcanzable desde fuera\")\n",
    "        \n",
    "# Programa principal (fuera de la clase Ejemplo)\n",
    "e = Ejemplo()"
   ]
  },
  {
   "cell_type": "code",
   "execution_count": 3,
   "metadata": {},
   "outputs": [
    {
     "ename": "AttributeError",
     "evalue": "'Ejemplo' object has no attribute '__metodo_privado'",
     "output_type": "error",
     "traceback": [
      "\u001b[1;31m---------------------------------------------------------------------------\u001b[0m",
      "\u001b[1;31mAttributeError\u001b[0m                            Traceback (most recent call last)",
      "\u001b[1;32m<ipython-input-3-81c514698440>\u001b[0m in \u001b[0;36m<module>\u001b[1;34m\u001b[0m\n\u001b[1;32m----> 1\u001b[1;33m \u001b[0me\u001b[0m\u001b[1;33m.\u001b[0m\u001b[0m__metodo_privado\u001b[0m\u001b[1;33m(\u001b[0m\u001b[1;33m)\u001b[0m\u001b[1;33m\u001b[0m\u001b[1;33m\u001b[0m\u001b[0m\n\u001b[0m",
      "\u001b[1;31mAttributeError\u001b[0m: 'Ejemplo' object has no attribute '__metodo_privado'"
     ]
    }
   ],
   "source": [
    "e.__metodo_privado()"
   ]
  },
  {
   "cell_type": "code",
   "execution_count": 2,
   "metadata": {},
   "outputs": [
    {
     "ename": "AttributeError",
     "evalue": "'Ejemplo' object has no attribute '__atributo_privado'",
     "output_type": "error",
     "traceback": [
      "\u001b[1;31m---------------------------------------------------------------------------\u001b[0m",
      "\u001b[1;31mAttributeError\u001b[0m                            Traceback (most recent call last)",
      "\u001b[1;32m<ipython-input-2-f7d87cbc25da>\u001b[0m in \u001b[0;36m<module>\u001b[1;34m\u001b[0m\n\u001b[1;32m----> 1\u001b[1;33m \u001b[0me\u001b[0m\u001b[1;33m.\u001b[0m\u001b[0m__atributo_privado\u001b[0m\u001b[1;33m\u001b[0m\u001b[1;33m\u001b[0m\u001b[0m\n\u001b[0m",
      "\u001b[1;31mAttributeError\u001b[0m: 'Ejemplo' object has no attribute '__atributo_privado'"
     ]
    }
   ],
   "source": [
    "e.__atributo_privado"
   ]
  },
  {
   "cell_type": "markdown",
   "metadata": {},
   "source": [
    "## Cómo acceder correctamente -> Getters y Setters\n",
    "Internamente la clase sí puede acceder a sus atributos y métodos encapsulados, el truco consiste en acceder a ellos a través de los GETTER y SETTER correspondiente para las variables y crear metodos publicos que realicen internamente la llamada a los metodos privados"
   ]
  },
  {
   "cell_type": "code",
   "execution_count": 27,
   "metadata": {},
   "outputs": [],
   "source": [
    "class Ejemplo:\n",
    "    __atributo_privado = \"Soy un atributo inalcanzable desde fuera\"\n",
    "\n",
    "    def __metodo_privado(self):\n",
    "        print(\"Soy un método inalcanzable desde fuera\")\n",
    "        \n",
    "    def metodo_publico(self):\n",
    "        return self.__metodo_privado()\n",
    "    \n",
    "    # Getters\n",
    "    @property\n",
    "    def atributo_privado(self):\n",
    "        print(\"ESTOY EN EL GETTER\")\n",
    "        return self.__atributo_privado\n",
    "\n",
    "     # Setters\n",
    "    @atributo_privado.setter\n",
    "    def atributo_privado(self, nuevoValor):\n",
    "        print(\"ESTOY EN EL SETTER\")\n",
    "        self.__atributo_privado = nuevoValor\n",
    "    \n",
    "# Programa principal (fuera de la clase Ejemplo)\n",
    "e = Ejemplo()"
   ]
  },
  {
   "cell_type": "code",
   "execution_count": 28,
   "metadata": {},
   "outputs": [
    {
     "name": "stdout",
     "output_type": "stream",
     "text": [
      "ESTOY EN EL GETTER\n",
      "Soy un atributo inalcanzable desde fuera\n"
     ]
    }
   ],
   "source": [
    "# Probamos a acceder a un atributo y observamos que se hace a traves del GETTER\n",
    "print(e.atributo_privado)"
   ]
  },
  {
   "cell_type": "code",
   "execution_count": 29,
   "metadata": {},
   "outputs": [
    {
     "name": "stdout",
     "output_type": "stream",
     "text": [
      "ESTOY EN EL SETTER\n"
     ]
    }
   ],
   "source": [
    "# Probamos a modificar un atributo y observamos que se hace a traves del SETTER\n",
    "e.atributo_privado = \"hola mundo\""
   ]
  },
  {
   "cell_type": "code",
   "execution_count": 30,
   "metadata": {},
   "outputs": [
    {
     "name": "stdout",
     "output_type": "stream",
     "text": [
      "ESTOY EN EL GETTER\n",
      "hola mundo\n"
     ]
    }
   ],
   "source": [
    "print(e.atributo_privado)"
   ]
  },
  {
   "cell_type": "code",
   "execution_count": 31,
   "metadata": {},
   "outputs": [
    {
     "name": "stdout",
     "output_type": "stream",
     "text": [
      "Soy un método inalcanzable desde fuera\n"
     ]
    }
   ],
   "source": [
    "# Por ultimo comprobamos que podemos acceder al metodo privado a traves del metodo publico\n",
    "e.metodo_publico()"
   ]
  },
  {
   "cell_type": "markdown",
   "metadata": {},
   "source": [
    "Los GETTER y los SETTER no se tienen porque llamar igual que sus variables, pero __SI ES RECOMENDABLE__"
   ]
  },
  {
   "cell_type": "code",
   "execution_count": 32,
   "metadata": {},
   "outputs": [],
   "source": [
    "class Ejemplo:\n",
    "    __atributo_privado = \"Soy un atributo inalcanzable desde fuera\"\n",
    "\n",
    "    def __metodo_privado(self):\n",
    "        print(\"Soy un método inalcanzable desde fuera\")\n",
    "        \n",
    "    def metodo_publico(self):\n",
    "        return self.__metodo_privado()\n",
    "    \n",
    "    # Getters\n",
    "    @property\n",
    "    def ver_valor(self):\n",
    "        print(\"ESTOY EN EL GETTER\")\n",
    "        return self.__atributo_privado\n",
    "\n",
    "     # Setters\n",
    "    @ver_valor.setter\n",
    "    def ver_valor(self, nuevoValor):\n",
    "        print(\"ESTOY EN EL SETTER\")\n",
    "        self.__atributo_privado = nuevoValor\n",
    "    \n",
    "# Programa principal (fuera de la clase Ejemplo)\n",
    "e = Ejemplo()"
   ]
  },
  {
   "cell_type": "code",
   "execution_count": 33,
   "metadata": {},
   "outputs": [
    {
     "ename": "AttributeError",
     "evalue": "'Ejemplo' object has no attribute 'atributo_privado'",
     "output_type": "error",
     "traceback": [
      "\u001b[1;31m---------------------------------------------------------------------------\u001b[0m",
      "\u001b[1;31mAttributeError\u001b[0m                            Traceback (most recent call last)",
      "\u001b[1;32m<ipython-input-33-eb2b31079162>\u001b[0m in \u001b[0;36m<module>\u001b[1;34m\u001b[0m\n\u001b[0;32m      1\u001b[0m \u001b[1;31m# Probamos a acceder a un atributo como antes\u001b[0m\u001b[1;33m\u001b[0m\u001b[1;33m\u001b[0m\u001b[1;33m\u001b[0m\u001b[0m\n\u001b[1;32m----> 2\u001b[1;33m \u001b[0mprint\u001b[0m\u001b[1;33m(\u001b[0m\u001b[0me\u001b[0m\u001b[1;33m.\u001b[0m\u001b[0matributo_privado\u001b[0m\u001b[1;33m)\u001b[0m\u001b[1;33m\u001b[0m\u001b[1;33m\u001b[0m\u001b[0m\n\u001b[0m",
      "\u001b[1;31mAttributeError\u001b[0m: 'Ejemplo' object has no attribute 'atributo_privado'"
     ]
    }
   ],
   "source": [
    "# Probamos a acceder a un atributo como antes Y VEMOS QUE DA ERROR\n",
    "print(e.atributo_privado)"
   ]
  },
  {
   "cell_type": "code",
   "execution_count": 34,
   "metadata": {},
   "outputs": [
    {
     "name": "stdout",
     "output_type": "stream",
     "text": [
      "ESTOY EN EL GETTER\n",
      "Soy un atributo inalcanzable desde fuera\n"
     ]
    }
   ],
   "source": [
    "# Probamos a acceder al atributo con el nombre que hemos puesto en el GETTER\n",
    "print(e.ver_valor)"
   ]
  },
  {
   "cell_type": "markdown",
   "metadata": {},
   "source": [
    "## Ejemplo con clase Persona"
   ]
  },
  {
   "cell_type": "code",
   "execution_count": 2,
   "metadata": {},
   "outputs": [
    {
     "name": "stdout",
     "output_type": "stream",
     "text": [
      "ESTOY EN EL GETTER\n",
      "Carlos\n"
     ]
    }
   ],
   "source": [
    "class Persona:\n",
    "    __nombre = \"Soy un atributo inalcanzable desde fuera\"\n",
    "    \n",
    "    def __init__(self, nombre):\n",
    "        self.__nombre = nombre\n",
    "\n",
    "    # Getters\n",
    "    @property\n",
    "    def nombre(self):\n",
    "        print(\"ESTOY EN EL GETTER\")\n",
    "        return self.__nombre\n",
    "\n",
    "     # Setters\n",
    "    @nombre.setter\n",
    "    def nombre(self, nuevoNombre):\n",
    "        print(\"ESTOY EN EL SETTER\")\n",
    "        self.__nombre = nuevoNombre\n",
    "    \n",
    "p1 = Persona(\"Carlos\")\n",
    "print(p1.nombre)"
   ]
  }
 ],
 "metadata": {
  "kernelspec": {
   "display_name": "Python 3",
   "language": "python",
   "name": "python3"
  },
  "language_info": {
   "codemirror_mode": {
    "name": "ipython",
    "version": 3
   },
   "file_extension": ".py",
   "mimetype": "text/x-python",
   "name": "python",
   "nbconvert_exporter": "python",
   "pygments_lexer": "ipython3",
   "version": "3.8.10"
  },
  "nbTranslate": {
   "displayLangs": [
    "*"
   ],
   "hotkey": "alt-t",
   "langInMainMenu": true,
   "sourceLang": "en",
   "targetLang": "fr",
   "useGoogleTranslate": true
  },
  "toc": {
   "base_numbering": 1,
   "nav_menu": {},
   "number_sections": true,
   "sideBar": true,
   "skip_h1_title": true,
   "title_cell": "Table of Contents",
   "title_sidebar": "Contents",
   "toc_cell": true,
   "toc_position": {},
   "toc_section_display": true,
   "toc_window_display": false
  },
  "varInspector": {
   "cols": {
    "lenName": 16,
    "lenType": 16,
    "lenVar": 40
   },
   "kernels_config": {
    "python": {
     "delete_cmd_postfix": "",
     "delete_cmd_prefix": "del ",
     "library": "var_list.py",
     "varRefreshCmd": "print(var_dic_list())"
    },
    "r": {
     "delete_cmd_postfix": ") ",
     "delete_cmd_prefix": "rm(",
     "library": "var_list.r",
     "varRefreshCmd": "cat(var_dic_list()) "
    }
   },
   "types_to_exclude": [
    "module",
    "function",
    "builtin_function_or_method",
    "instance",
    "_Feature"
   ],
   "window_display": false
  }
 },
 "nbformat": 4,
 "nbformat_minor": 1
}
