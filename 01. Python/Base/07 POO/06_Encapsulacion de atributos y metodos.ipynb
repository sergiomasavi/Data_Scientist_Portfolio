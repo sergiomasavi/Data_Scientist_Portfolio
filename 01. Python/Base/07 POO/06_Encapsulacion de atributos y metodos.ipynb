{
 "cells": [
  {
   "cell_type": "markdown",
   "metadata": {},
   "source": [
    "<img src=\"Tarjeta.png\">"
   ]
  },
  {
   "cell_type": "markdown",
   "metadata": {
    "toc": true
   },
   "source": [
    "<h1>Table of Contents<span class=\"tocSkip\"></span></h1>\n",
    "<div class=\"toc\"><ul class=\"toc-item\"><li><span><a href=\"#Cómo-acceder-correctamente-->-Getters-y-Setters\" data-toc-modified-id=\"Cómo-acceder-correctamente-->-Getters-y-Setters-1\"><span class=\"toc-item-num\">1&nbsp;&nbsp;</span>Cómo acceder correctamente -&gt; Getters y Setters</a></span></li><li><span><a href=\"#Ejemplo-con-clase-Persona\" data-toc-modified-id=\"Ejemplo-con-clase-Persona-2\"><span class=\"toc-item-num\">2&nbsp;&nbsp;</span>Ejemplo con clase Persona</a></span><ul class=\"toc-item\"><li><span><a href=\"#getattr-y-setattr\" data-toc-modified-id=\"getattr-y-setattr-2.1\"><span class=\"toc-item-num\">2.1&nbsp;&nbsp;</span>getattr y setattr</a></span></li></ul></li></ul></div>"
   ]
  },
  {
   "cell_type": "markdown",
   "metadata": {},
   "source": [
    "# Encapsulación\n",
    "Consiste en denegar el acceso a los atributos y métodos internos de la clase desde el exterior.\n",
    "\n",
    "En Python no existe, pero se puede simular precediendo atributos y métodos con dos barras bajas __:"
   ]
  },
  {
   "cell_type": "code",
   "execution_count": null,
   "metadata": {},
   "outputs": [],
   "source": [
    "class Ejemplo:\n",
    "    __atributo_privado = \"Soy un atributo inalcanzable desde fuera\"\n",
    "    \n",
    "    def __metodo_privado(self):\n",
    "        print(\"Soy un método inalcanzable desde fuera\")\n",
    "        \n",
    "# Programa principal (fuera de la clase Ejemplo)\n",
    "e = Ejemplo()"
   ]
  },
  {
   "cell_type": "code",
   "execution_count": null,
   "metadata": {},
   "outputs": [],
   "source": [
    "e.__metodo_privado()"
   ]
  },
  {
   "cell_type": "code",
   "execution_count": null,
   "metadata": {},
   "outputs": [],
   "source": [
    "e.__atributo_privado"
   ]
  },
  {
   "cell_type": "markdown",
   "metadata": {},
   "source": [
    "## Cómo acceder correctamente -> Getters y Setters\n",
    "Internamente la clase sí puede acceder a sus atributos y métodos encapsulados, el truco consiste en acceder a ellos a través de los GETTER y SETTER correspondiente para las variables y crear metodos publicos que realicen internamente la llamada a los metodos privados"
   ]
  },
  {
   "cell_type": "code",
   "execution_count": null,
   "metadata": {},
   "outputs": [],
   "source": [
    "class Ejemplo:\n",
    "    __atributo_privado = \"Soy un atributo inalcanzable desde fuera\"\n",
    "\n",
    "    def __metodo_privado(self):\n",
    "        print(\"Soy un método inalcanzable desde fuera\")\n",
    "        \n",
    "    def metodo_publico(self):\n",
    "        return self.__metodo_privado()\n",
    "    \n",
    "    # Getters\n",
    "    @property\n",
    "    def atributo_privado(self):\n",
    "        print(\"ESTOY EN EL GETTER\")\n",
    "        return self.__atributo_privado\n",
    "\n",
    "    # Setters\n",
    "    @atributo_privado.setter\n",
    "    def atributo_privado(self, nuevoValor):\n",
    "        print(\"ESTOY EN EL SETTER\")\n",
    "        self.__atributo_privado = nuevoValor\n",
    "    \n",
    "# Programa principal (fuera de la clase Ejemplo)\n",
    "e = Ejemplo()"
   ]
  },
  {
   "cell_type": "code",
   "execution_count": null,
   "metadata": {},
   "outputs": [],
   "source": [
    "# Probamos a acceder a un atributo y observamos que se hace a traves del GETTER\n",
    "print(e.atributo_privado)"
   ]
  },
  {
   "cell_type": "code",
   "execution_count": null,
   "metadata": {},
   "outputs": [],
   "source": [
    "# Probamos a modificar un atributo y observamos que se hace a traves del SETTER\n",
    "e.atributo_privado = \"hola mundo\""
   ]
  },
  {
   "cell_type": "code",
   "execution_count": null,
   "metadata": {},
   "outputs": [],
   "source": [
    "print(e.atributo_privado)"
   ]
  },
  {
   "cell_type": "code",
   "execution_count": null,
   "metadata": {},
   "outputs": [],
   "source": [
    "# Por ultimo comprobamos que podemos acceder al metodo privado a traves del metodo publico\n",
    "e.metodo_publico()"
   ]
  },
  {
   "cell_type": "markdown",
   "metadata": {},
   "source": [
    "Los GETTER y los SETTER no se tienen porque llamar igual que sus variables, pero __SI ES RECOMENDABLE__"
   ]
  },
  {
   "cell_type": "code",
   "execution_count": null,
   "metadata": {},
   "outputs": [],
   "source": [
    "class Ejemplo:\n",
    "    __atributo_privado = \"Soy un atributo inalcanzable desde fuera\"\n",
    "\n",
    "    def __metodo_privado(self):\n",
    "        print(\"Soy un método inalcanzable desde fuera\")\n",
    "        \n",
    "    def metodo_publico(self):\n",
    "        return self.__metodo_privado()\n",
    "    \n",
    "    # Getters\n",
    "    @property\n",
    "    def ver_valor(self):\n",
    "        print(\"ESTOY EN EL GETTER\")\n",
    "        return self.__atributo_privado\n",
    "\n",
    "     # Setters\n",
    "    @ver_valor.setter\n",
    "    def ver_valor(self, nuevoValor):\n",
    "        print(\"ESTOY EN EL SETTER\")\n",
    "        self.__atributo_privado = nuevoValor\n",
    "    \n",
    "# Programa principal (fuera de la clase Ejemplo)\n",
    "e = Ejemplo()"
   ]
  },
  {
   "cell_type": "code",
   "execution_count": null,
   "metadata": {},
   "outputs": [],
   "source": [
    "# Probamos a acceder a un atributo como antes Y VEMOS QUE DA ERROR\n",
    "print(e.atributo_privado)"
   ]
  },
  {
   "cell_type": "code",
   "execution_count": null,
   "metadata": {},
   "outputs": [],
   "source": [
    "# Probamos a acceder al atributo con el nombre que hemos puesto en el GETTER\n",
    "print(e.ver_valor)"
   ]
  },
  {
   "cell_type": "markdown",
   "metadata": {},
   "source": [
    "Como se ve, hemos asignado el nombre ver_valor al getter de la variable atributo_privado. Ha funcionado, pero ahora necesitamos recordar dos nombres de variable para poder acceder a una ... Por eso se utiliza el mismo nombre.\n",
    "<br>Lo que es importante, es que __el nombre del método setter tiene que ser el mismo que el de su correspondiente getter__ "
   ]
  },
  {
   "cell_type": "markdown",
   "metadata": {},
   "source": [
    "## Ejemplo con clase Persona"
   ]
  },
  {
   "cell_type": "code",
   "execution_count": null,
   "metadata": {},
   "outputs": [],
   "source": [
    "class Persona:\n",
    "    __nombre = \"Soy un atributo inalcanzable desde fuera\"\n",
    "    \n",
    "    def __init__(self, nombre):\n",
    "        self.__nombre = nombre\n",
    "\n",
    "    # Getters\n",
    "    @property\n",
    "    def nombre(self):\n",
    "        print(\"ESTOY EN EL GETTER\")\n",
    "        return self.__nombre\n",
    "\n",
    "     # Setters\n",
    "    @nombre.setter\n",
    "    def nombre(self, nuevoNombre):\n",
    "        print(\"ESTOY EN EL SETTER\")\n",
    "        self.__nombre = nuevoNombre\n",
    "    \n",
    "p1 = Persona(\"Carlos\")\n",
    "print(p1.nombre)"
   ]
  },
  {
   "cell_type": "markdown",
   "metadata": {},
   "source": [
    "### getattr y setattr"
   ]
  },
  {
   "cell_type": "code",
   "execution_count": null,
   "metadata": {},
   "outputs": [],
   "source": [
    "# Forma alternativa de invocar a los getter y setter\n",
    "# Esta forma es más clásica (más antigua), pero se sigue utilizando\n",
    "print(getattr(p1, \"nombre\")) # Solicitamos el nombre\n",
    "setattr(p1, \"nombre\", \"Cristian\") # Cambiamos el nombre de Carlos a Cristian\n",
    "print(getattr(p1, \"nombre\")) # Solicitamos el nombre"
   ]
  }
 ],
 "metadata": {
  "kernelspec": {
   "display_name": "Python 3",
   "language": "python",
   "name": "python3"
  },
  "language_info": {
   "codemirror_mode": {
    "name": "ipython",
    "version": 3
   },
   "file_extension": ".py",
   "mimetype": "text/x-python",
   "name": "python",
   "nbconvert_exporter": "python",
   "pygments_lexer": "ipython3",
   "version": "3.8.10"
  },
  "nbTranslate": {
   "displayLangs": [
    "*"
   ],
   "hotkey": "alt-t",
   "langInMainMenu": true,
   "sourceLang": "en",
   "targetLang": "fr",
   "useGoogleTranslate": true
  },
  "toc": {
   "base_numbering": 1,
   "nav_menu": {},
   "number_sections": true,
   "sideBar": true,
   "skip_h1_title": true,
   "title_cell": "Table of Contents",
   "title_sidebar": "Contents",
   "toc_cell": true,
   "toc_position": {},
   "toc_section_display": true,
   "toc_window_display": false
  },
  "varInspector": {
   "cols": {
    "lenName": 16,
    "lenType": 16,
    "lenVar": 40
   },
   "kernels_config": {
    "python": {
     "delete_cmd_postfix": "",
     "delete_cmd_prefix": "del ",
     "library": "var_list.py",
     "varRefreshCmd": "print(var_dic_list())"
    },
    "r": {
     "delete_cmd_postfix": ") ",
     "delete_cmd_prefix": "rm(",
     "library": "var_list.r",
     "varRefreshCmd": "cat(var_dic_list()) "
    }
   },
   "types_to_exclude": [
    "module",
    "function",
    "builtin_function_or_method",
    "instance",
    "_Feature"
   ],
   "window_display": false
  }
 },
 "nbformat": 4,
 "nbformat_minor": 1
}
