{
 "cells": [
  {
   "cell_type": "markdown",
   "metadata": {},
   "source": [
    "# Ejercicios Modulo 3. Clases y objetos (Soluciones)\n",
    "\n",
    "Consideraciones a tener en cuenta: \n",
    "\n",
    "* Guardar este documento con el siguiente formato para su entrega: __M3_nombre_apellido1_apellido2__\n",
    "* Realizar los ejercicios con las herramientas vistas en las sesiones. \n",
    "* Comentar el código\n",
    "* Utilizar nombres de variables apropiados, si vais a guardar una nota, llamar a esa variable nota, no n o x"
   ]
  },
  {
   "cell_type": "markdown",
   "metadata": {},
   "source": [
    "# Ejercicio 1"
   ]
  },
  {
   "cell_type": "markdown",
   "metadata": {},
   "source": [
    "#### Creación\n",
    "\n",
    "* Crea una clase llamada __Alumno__ que tenga los atributos nombre y nota\n",
    "* Crea el __constructor__ de la clase. Añadir en el constructor un print para informar de que el alumno se ha creado con éxito\n",
    "* Sobreescribe el método **string (``__str__``)**, para que al imprimir por pantalla se vea su informacion\n",
    "* Crear un método llamado __calificacion__ que imprima por pantalla si el alumno ha aprobado o suspendido en base a su nota\n",
    "\n",
    "#### Experimentación\n",
    "\n",
    "* Crea algunos alumnos\n",
    "* Prueba a mostrar los objetos alumno y el método calificacion"
   ]
  },
  {
   "cell_type": "code",
   "execution_count": 1,
   "metadata": {},
   "outputs": [],
   "source": [
    "# Realizar el ejercicio aquí"
   ]
  },
  {
   "cell_type": "markdown",
   "metadata": {},
   "source": [
    "# Ejercicio 2"
   ]
  },
  {
   "cell_type": "markdown",
   "metadata": {},
   "source": [
    "#### Creación\n",
    "\n",
    "Sobre el ejercicio anterior realizar la siguiente modificación.\n",
    "\n",
    "Si en el ejercicio hacemos un print(alumno1.nota) esto nos devolverá la nota del alumno. Esto puede llegar a ser un problema de seguridad, vamos a encapsular el código para que no podamos acceder directamente a las variables, y el acceso tenga que ser a través de métodos.\n",
    "\n",
    "* Hacer que las variables de la clase sean __privadas__. Recordatorio: Añadir doble guion delante del nombre de la variable\n",
    "* Crea métodos __getter y setter__ para poder acceder y modificar las variables de la clase\n",
    "\n",
    "#### Experimentación\n",
    "\n",
    "* Crea algunos alumnos\n",
    "* Comprueba que solo podamos acceder a las variables de la clase a través de sus métodos get y set"
   ]
  },
  {
   "cell_type": "code",
   "execution_count": 2,
   "metadata": {},
   "outputs": [],
   "source": [
    "# Realizar el ejercicio aquí"
   ]
  },
  {
   "cell_type": "markdown",
   "metadata": {},
   "source": [
    "# Ejercicio 3"
   ]
  },
  {
   "cell_type": "markdown",
   "metadata": {},
   "source": [
    "#### Creación\n",
    "\n",
    "* Crea una clase llamada __Producto__ que tenga los atributos codigo, nombre, precio y tipo.\n",
    "* Crea el __constructor__ de la clase. Añadir en el constructor un print para informar de que el producto se ha creado con éxito\n",
    "* Crea métodos __getter y setter__ para acceder y modificar todos los atributos de la clase\n",
    "\n",
    "#### Experimentación\n",
    "\n",
    "* Crea algunos productos\n",
    "* Prueba estos nuevos métodos que se han creado (getter y setter)"
   ]
  },
  {
   "cell_type": "code",
   "execution_count": 3,
   "metadata": {},
   "outputs": [],
   "source": [
    "# Realizar el ejercicio aquí"
   ]
  },
  {
   "cell_type": "markdown",
   "metadata": {},
   "source": [
    "# Ejercicio 4"
   ]
  },
  {
   "cell_type": "markdown",
   "metadata": {},
   "source": [
    "#### Creación\n",
    "\n",
    "Ampliemos el ejercicio anterior:\n",
    "Copia todo el código que ya tengas y añade lo siguiente:\n",
    "\n",
    "* Sobreescribe el método **string (``__str__``)**, para que al imprimir por pantalla un producto y muestre todos los datos de dicho producto. Ejemplo:\n",
    "\n",
    "<img src=\"./Ejemplo_ej2.PNG\"  />\n",
    "\n",
    "* Crear un método llamado __calcular_total__ el cual reciba un número de unidades para ese producto, y en base a ello calcule el precio total de ese conjunto de productos. Ejemplo: 5 unidades del producto 1\n",
    "\n",
    "#### Experimentación\n",
    "\n",
    "* Prueba estos nuevos métodos que se han creado"
   ]
  },
  {
   "cell_type": "code",
   "execution_count": 4,
   "metadata": {},
   "outputs": [],
   "source": [
    "# Realizar el ejercicio aquí"
   ]
  },
  {
   "cell_type": "markdown",
   "metadata": {},
   "source": [
    "# Ejercicio 5"
   ]
  },
  {
   "cell_type": "markdown",
   "metadata": {},
   "source": [
    "#### Creación\n",
    "\n",
    "Sigamos ampliando el ejercicio anterior:\n",
    "Copia todo el código que ya tengas y añade lo siguiente:\n",
    "\n",
    "* Crea una clase llamada __Pedido__ que tenga los atributos: una lista de productos y una lista de cantidades\n",
    "* Crea el __constructor__ de la clase. Añadir en el constructor un print para informar de que el pedido se ha creado con éxito\n",
    "* Crea el método __total_pedido__ el cual devuelva el importe total de un pedido\n",
    "* Crea el método __mostrar_pedido__ el cual muestra todos los productos y cantidades que componen el pedido\n",
    "\n",
    "#### Experimentación\n",
    "\n",
    "* Crea algunos pedidos\n",
    "* Prueba estos nuevos métodos que se han creado"
   ]
  },
  {
   "cell_type": "code",
   "execution_count": 5,
   "metadata": {},
   "outputs": [],
   "source": [
    "# Realizar el ejercicio aquí"
   ]
  },
  {
   "cell_type": "markdown",
   "metadata": {},
   "source": [
    "# Ejercicio 6"
   ]
  },
  {
   "cell_type": "markdown",
   "metadata": {},
   "source": [
    "**Ejercicio de puntos, coordenadas y vectores sobre el plano cartesiano. A continuación los conceptos básicos.**\n",
    "\n",
    "### El plano cartesiano\n",
    "\n",
    "Representa un espacio bidimensional (en 2 dimensiones), formado por dos rectas perpendiculares, una horizontal y otra vertical que se cortan en un punto. La recta horizontal se denomina eje de las abscisas o **eje X**, mientras que la vertical recibe el nombre de eje de las ordenadas o simplemente **eje Y**. En cuanto al punto donde se cortan, se conoce como el **punto de origen O**.\n",
    "**El plano se divide en 4 cuadrantes.**\n",
    "\n",
    "<img src=\"./Ejes.png\"  />\n",
    "\n",
    "\n",
    "\n",
    "### Puntos y coordenadas\n",
    "\n",
    "El objetivo de todo esto es describir la posición de **puntos** sobre el plano en forma de **coordenadas**, que se forman asociando el valor del eje de las X (horizontal) con el valor del eje Y (vertical).\n",
    "\n",
    "La representación de un punto es sencilla: **P(X,Y)** dónde X y la Y son la distancia horizontal (izquierda o derecha) y vertical (arriba o abajo) respectivamente, utilizando como referencia el punto de origen (0,0), justo en el centro del plano.\n",
    "\n",
    "<img src=\"./Puntos.png\"  />\n",
    "\n",
    "\n",
    "### Vectores en el plano\n",
    "\n",
    "Finalmente, un vector en el plano hace referencia a un segmento orientado, generado a partir de dos puntos distintos. \n",
    "\n",
    "A efectos prácticos no deja de ser una línea formada desde un punto inicial en dirección a otro punto final, por lo que se entiende que un vector tiene longitud y dirección/sentido.\n",
    "\n",
    "<img src=\"./Vector.png\"  />\n",
    "\n",
    "\n",
    "En esta figura, podemos observar dos puntos A y B que podríamos definir de la siguiente forma:\n",
    "* **A(x1, y1)** => **A(2, 3)**\n",
    "* **B(x2, y2)** => **B(7, 5)**\n",
    "\n",
    "Y el vector se representaría como la diferencia entre las coordenadas del segundo punto respecto al primero (el segundo menos el primero):\n",
    "* **AB = (x2-x1, y2-y1)** => **(7-2, 5-3)** => **(5,2)** \n",
    "\n",
    "Lo que en definitiva no deja de ser: 5 a la derecha y 2 arriba."
   ]
  },
  {
   "cell_type": "markdown",
   "metadata": {},
   "source": [
    "#### Creación\n",
    "\n",
    "* Crea una clase llamada **Punto** con sus dos coordenadas X e Y.\n",
    "* Añade un método **constructor** para crear puntos fácilmente. Si no se reciben una coordenada, su valor será cero.\n",
    "* Sobreescribe el método **string (``__str__``)**, para que al imprimir por pantalla un punto aparezca en formato (X,Y)\n",
    "* Añade un método llamado **cuadrante** que indique a qué cuadrante pertenece el punto, o si es el origen.\n",
    "* Añade un método llamado **vector**, que tome otro punto y calcule el vector resultante entre los dos puntos.\n",
    "* Añade un método llamado **distancia**, que tome otro punto y calcule la distancia entre los dos puntos y la muestre por pantalla. La fórmula es la siguiente:\n",
    "\n",
    "<img src=\"./Distancia.png\"  />\n",
    "<img src=\"./Distancia_formula.png\"  />\n",
    "\n",
    "*Nota: La función raíz cuadrada en Python sqrt() se debe importar del módulo math y utilizarla de la siguiente forma:*\n",
    "```python\n",
    "import math\n",
    "math.sqrt(9)\n",
    "> 3.0\n",
    "```\n",
    "\n",
    "* Crea una clase llamada **Rectangulo** con dos puntos (inicial y final) que formarán la diagonal del rectángulo.\n",
    "* Añade un método **constructor** para crear ambos puntos fácilmente, si no se envían se crearán dos puntos en el origen por defecto.\n",
    "* Añade al rectángulo un método llamado **base** que muestre la base.\n",
    "* Añade al rectángulo un método llamado **altura** que muestre la altura.\n",
    "* Añade al rectángulo un método llamado **area** que muestre el area.\n",
    "\n",
    "*Puedes identificar fácilmente estos valores si intentas dibujar el cuadrado a partir de su  diagonal. Si andas perdido, prueba a dibujarlo en un papel, ¡seguro que lo verás mucho más claro! Además recuerda que puedes utilizar la función **abs()** para saber el valor absolute de un número.*\n",
    "\n",
    "#### Experimentación\n",
    "* Crea los puntos A(2, 3),  B(5,5), C(-3, -1) y D(0,0) e imprimelos por pantalla.\n",
    "* Consulta a que cuadrante pertenecen el punto A, C y D.\n",
    "* Consulta los vectores AB y BA.\n",
    "* Consulta la distancia entre los puntos 'A y B' y 'B y A'. \n",
    "* Determina cual de los 3 puntos A, B o C, se encuentra más lejos del origen, punto (0,0). \n",
    "* Crea un rectángulo utilizando los puntos A y B.\n",
    "* Consulta la base, altura y área del rectángulo."
   ]
  },
  {
   "cell_type": "code",
   "execution_count": 6,
   "metadata": {},
   "outputs": [],
   "source": [
    "# Realizar el ejercicio aquí"
   ]
  },
  {
   "cell_type": "markdown",
   "metadata": {},
   "source": [
    "# Ejercicio 7"
   ]
  },
  {
   "cell_type": "markdown",
   "metadata": {},
   "source": [
    "#### Creación\n",
    "\n",
    "Trabajemeos con herencia.\n",
    "\n",
    "* Crea una clase llamada __Vehiculo__ que tenga los atributos: color y ruedas\n",
    "* Crea el __constructor__ de la clase. \n",
    "* Sobreescribe el método **string (``__str__``)**, para que al imprimir por pantalla un vehículo veamos su información\n",
    "* Crea una clase que se llame __Coche que herede de Vehiculo__\n",
    "* Crear el __constructor__ de la clase, que incluya todo lo del constructor de Vehiculo más velocidad y cilindrada.\n",
    "* Sobreescribe el método **string (``__str__``)**, para que al imprimir por pantalla un coche veamos su información\n",
    "\n",
    "<img src=\"./Herencia1.png\"  />\n",
    "\n",
    "#### Experimentación\n",
    "\n",
    "* Crea algunos coches y mostrar su información"
   ]
  },
  {
   "cell_type": "code",
   "execution_count": 7,
   "metadata": {},
   "outputs": [],
   "source": [
    "# Realizar el ejercicio aquí"
   ]
  },
  {
   "cell_type": "markdown",
   "metadata": {},
   "source": [
    "# Ejercicio 8"
   ]
  },
  {
   "cell_type": "markdown",
   "metadata": {},
   "source": [
    "#### Creación\n",
    "\n",
    "Trabajemos con herencia. Sigamos ampliando el ejercicio anterior.\n",
    "Copia todo el código que ya tengas y añade lo siguiente:\n",
    "\n",
    "* Crear las __clases heredadas__ de Vehiculo que aparecen en la imagen\n",
    "* Crea los __constructores__ para esas clases. \n",
    "* Sobreescribe los métodos **string (``__str__``)**, para que al imprimir por pantalla se vea la información correspondiente.\n",
    "* Crear una __lista__ y dentro de ella introducir __al menos un objeto de cada subclase__ de Vehiculo\n",
    "* Realiza una función llamada __catalogar()__ que reciba la lista de vehiculos y los recorra mostrando el nombre de su clase y sus atributos.\n",
    "* Modifica la función __catalogar()__ para que reciba un argumento optativo ruedas, haciendo que muestre únicamente los que su número de ruedas concuerde con el valor del argumento. También debe mostrar un mensaje \"Se han encontrado {} vehículos con {} ruedas:\" únicamente si se envía el argumento ruedas. Ponla a prueba con 0, 2 y 4 ruedas como valor.\n",
    "\n",
    "Pista. Averigua para que sirve esta instrucción y si te va a resultar útil **``type(objeto).__name__``**\n",
    "\n",
    "<img src=\"./Herencia2.png\"  />\n",
    "\n",
    "#### Experimentación\n",
    "\n",
    "* Crea algunos coches y mostrar su información"
   ]
  },
  {
   "cell_type": "code",
   "execution_count": 8,
   "metadata": {},
   "outputs": [],
   "source": [
    "# Realizar el ejercicio aquí"
   ]
  },
  {
   "cell_type": "markdown",
   "metadata": {},
   "source": [
    "# Ejercicio 9"
   ]
  },
  {
   "cell_type": "markdown",
   "metadata": {},
   "source": [
    "#### Creación\n",
    "\n",
    "Trabajemos con herencia. Sigamos ampliando el ejercicio anterior.\n",
    "Copia todo el código que ya tengas y añade lo siguiente:\n",
    "\n",
    "* Un método que se llame **filtrar** que reciba 2 parámetros, la lista de vehículos y el nombre de uno de los tipos de vehículos, para poder filtrar en la lista, es decir, __Coche, Camioneta, etc.__. El método debe recorrer la lista, encontrar las coincidencias y guardarlas en una lista nueva. Esta nueva lista se debe devolver al programa principal donde se recorrerá y mostrará su contenido. La llamada en el programa principal deberá ser así: **``listaCoches = filtrar(lista, \"Coche\")``**\n",
    "\n",
    "#### Experimentación\n",
    "\n",
    "* Crea algunos vehículos (más de uno por tipo)\n",
    "* Filtra por los diferentes tipos de Vehiculo y muestra los resultados retornados"
   ]
  },
  {
   "cell_type": "code",
   "execution_count": 9,
   "metadata": {},
   "outputs": [],
   "source": [
    "# Realizar el ejercicio aquí"
   ]
  }
 ],
 "metadata": {
  "anaconda-cloud": {},
  "kernelspec": {
   "display_name": "Python 3",
   "language": "python",
   "name": "python3"
  },
  "language_info": {
   "codemirror_mode": {
    "name": "ipython",
    "version": 3
   },
   "file_extension": ".py",
   "mimetype": "text/x-python",
   "name": "python",
   "nbconvert_exporter": "python",
   "pygments_lexer": "ipython3",
   "version": "3.7.6"
  }
 },
 "nbformat": 4,
 "nbformat_minor": 1
}
