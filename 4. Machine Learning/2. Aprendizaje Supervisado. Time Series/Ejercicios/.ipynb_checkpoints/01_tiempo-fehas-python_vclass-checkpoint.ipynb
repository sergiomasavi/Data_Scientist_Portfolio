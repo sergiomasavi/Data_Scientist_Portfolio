{
 "cells": [
  {
   "cell_type": "markdown",
   "metadata": {},
   "source": [
    "<img src=\"Tarjeta.png\">"
   ]
  },
  {
   "cell_type": "markdown",
   "metadata": {
    "toc": true
   },
   "source": [
    "<h1>Table of Contents<span class=\"tocSkip\"></span></h1>\n",
    "<div class=\"toc\"><ul class=\"toc-item\"><li><span><a href=\"#Introduccion\" data-toc-modified-id=\"Introduccion-1\"><span class=\"toc-item-num\">1&nbsp;&nbsp;</span>Introduccion</a></span><ul class=\"toc-item\"><li><span><a href=\"#Importar-paquetes\" data-toc-modified-id=\"Importar-paquetes-1.1\"><span class=\"toc-item-num\">1.1&nbsp;&nbsp;</span>Importar paquetes</a></span><ul class=\"toc-item\"><li><span><a href=\"#Formatos-absolutos\" data-toc-modified-id=\"Formatos-absolutos-1.1.1\"><span class=\"toc-item-num\">1.1.1&nbsp;&nbsp;</span>Formatos absolutos</a></span></li><li><span><a href=\"#Incrementos-relativos\" data-toc-modified-id=\"Incrementos-relativos-1.1.2\"><span class=\"toc-item-num\">1.1.2&nbsp;&nbsp;</span>Incrementos relativos</a></span></li><li><span><a href=\"#Time<one\" data-toc-modified-id=\"Time<one-1.1.3\"><span class=\"toc-item-num\">1.1.3&nbsp;&nbsp;</span>Time&lt;one</a></span></li></ul></li></ul></li></ul></div>"
   ]
  },
  {
   "cell_type": "markdown",
   "metadata": {},
   "source": [
    "<a id='introduccion'>\n",
    "    \n",
    "## Introduccion"
   ]
  },
  {
   "cell_type": "markdown",
   "metadata": {},
   "source": [
    "Tipos de datos en la biblioteca datetime\n",
    "\n",
    "<img src=\"img/tipos_datos_datetime.png\" width=\"800\" height=\"600\"/>\n"
   ]
  },
  {
   "cell_type": "markdown",
   "metadata": {},
   "source": [
    "### Importar paquetes"
   ]
  },
  {
   "cell_type": "code",
   "execution_count": 2,
   "metadata": {
    "ExecuteTime": {
     "end_time": "2021-08-02T17:00:08.144398Z",
     "start_time": "2021-08-02T17:00:08.139267Z"
    }
   },
   "outputs": [],
   "source": [
    "# Importar tipos básicos del paquete datetime\n",
    "from datetime import datetime, timedelta, date, time, timezone"
   ]
  },
  {
   "cell_type": "markdown",
   "metadata": {},
   "source": [
    "#### Formatos absolutos"
   ]
  },
  {
   "cell_type": "code",
   "execution_count": 7,
   "metadata": {
    "ExecuteTime": {
     "end_time": "2021-08-02T17:15:40.590487Z",
     "start_time": "2021-08-02T17:15:40.577194Z"
    }
   },
   "outputs": [
    {
     "name": "stdout",
     "output_type": "stream",
     "text": [
      "datetime\n",
      "La fecha de ahora es -> 2021-08-02 19:15:40.581181\n"
     ]
    },
    {
     "data": {
      "text/plain": [
       "datetime.datetime(2021, 8, 2, 19, 15, 40, 581181)"
      ]
     },
     "metadata": {},
     "output_type": "display_data"
    },
    {
     "name": "stdout",
     "output_type": "stream",
     "text": [
      "-----\n",
      "datedatetime\n",
      "La fecha de ahora es -> 2021-08-02\n"
     ]
    },
    {
     "data": {
      "text/plain": [
       "datetime.date(2021, 8, 2)"
      ]
     },
     "metadata": {},
     "output_type": "display_data"
    },
    {
     "name": "stdout",
     "output_type": "stream",
     "text": [
      "-----\n",
      "datetime\n",
      "La fecha de ahora es -> 19:15:40.587029\n"
     ]
    },
    {
     "data": {
      "text/plain": [
       "datetime.time(19, 15, 40, 587029)"
      ]
     },
     "metadata": {},
     "output_type": "display_data"
    },
    {
     "name": "stdout",
     "output_type": "stream",
     "text": [
      "-----\n"
     ]
    }
   ],
   "source": [
    "# datetime (combinación de fecha y hora)\n",
    "datetime_today = datetime.now()\n",
    "print('datetime')\n",
    "print(f'La fecha de ahora es -> {datetime_today}')\n",
    "display(datetime_today)\n",
    "print(5*'-')\n",
    "\n",
    "# date (variable de fecha)\n",
    "date_today = date.today()\n",
    "print('datedatetime')\n",
    "print(f'La fecha de ahora es -> {date_today}')\n",
    "display(date_today)\n",
    "print(5*'-')\n",
    "\n",
    "# time (variable de tiempo)\n",
    "time_now = datetime.now().time()\n",
    "print('datetime')\n",
    "print(f'La fecha de ahora es -> {time_now}')\n",
    "display(time_now)\n",
    "print(5*'-')\n"
   ]
  },
  {
   "cell_type": "markdown",
   "metadata": {},
   "source": [
    "#### Incrementos relativos\n",
    "\n",
    "Se utilizan para realizar operaciones sobre las propias fechas (incluye días, minutos y microsegundos)"
   ]
  },
  {
   "cell_type": "code",
   "execution_count": null,
   "metadata": {},
   "outputs": [],
   "source": []
  },
  {
   "cell_type": "markdown",
   "metadata": {},
   "source": [
    "#### Time<one"
   ]
  },
  {
   "cell_type": "code",
   "execution_count": null,
   "metadata": {},
   "outputs": [],
   "source": []
  }
 ],
 "metadata": {
  "kernelspec": {
   "display_name": "Python 3",
   "language": "python",
   "name": "python3"
  },
  "language_info": {
   "codemirror_mode": {
    "name": "ipython",
    "version": 3
   },
   "file_extension": ".py",
   "mimetype": "text/x-python",
   "name": "python",
   "nbconvert_exporter": "python",
   "pygments_lexer": "ipython3",
   "version": "3.8.10"
  },
  "nbTranslate": {
   "displayLangs": [
    "*"
   ],
   "hotkey": "alt-t",
   "langInMainMenu": true,
   "sourceLang": "en",
   "targetLang": "fr",
   "useGoogleTranslate": true
  },
  "toc": {
   "base_numbering": 1,
   "nav_menu": {},
   "number_sections": true,
   "sideBar": true,
   "skip_h1_title": true,
   "title_cell": "Table of Contents",
   "title_sidebar": "Contents",
   "toc_cell": true,
   "toc_position": {},
   "toc_section_display": true,
   "toc_window_display": false
  },
  "varInspector": {
   "cols": {
    "lenName": 16,
    "lenType": 16,
    "lenVar": 40
   },
   "kernels_config": {
    "python": {
     "delete_cmd_postfix": "",
     "delete_cmd_prefix": "del ",
     "library": "var_list.py",
     "varRefreshCmd": "print(var_dic_list())"
    },
    "r": {
     "delete_cmd_postfix": ") ",
     "delete_cmd_prefix": "rm(",
     "library": "var_list.r",
     "varRefreshCmd": "cat(var_dic_list()) "
    }
   },
   "types_to_exclude": [
    "module",
    "function",
    "builtin_function_or_method",
    "instance",
    "_Feature"
   ],
   "window_display": false
  }
 },
 "nbformat": 4,
 "nbformat_minor": 4
}
