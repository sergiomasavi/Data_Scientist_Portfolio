{
 "cells": [
  {
   "cell_type": "markdown",
   "metadata": {},
   "source": [
    "<img src=\"Tarjeta.png\">"
   ]
  },
  {
   "cell_type": "markdown",
   "metadata": {
    "toc": true
   },
   "source": [
    "<h1>Table of Contents<span class=\"tocSkip\"></span></h1>\n",
    "<div class=\"toc\"><ul class=\"toc-item\"><li><span><a href=\"#Generamos-un-ARMA-y-lo-modelamos\" data-toc-modified-id=\"Generamos-un-ARMA-y-lo-modelamos-1\"><span class=\"toc-item-num\">1&nbsp;&nbsp;</span>Generamos un ARMA y lo modelamos</a></span><ul class=\"toc-item\"><li><span><a href=\"#Analisis-de-Estacionariedad\" data-toc-modified-id=\"Analisis-de-Estacionariedad-1.1\"><span class=\"toc-item-num\">1.1&nbsp;&nbsp;</span>Analisis de Estacionariedad</a></span></li><li><span><a href=\"#Autocorrelación.y-Autocorrelación-Parcial\" data-toc-modified-id=\"Autocorrelación.y-Autocorrelación-Parcial-1.2\"><span class=\"toc-item-num\">1.2&nbsp;&nbsp;</span>Autocorrelación.y Autocorrelación Parcial</a></span></li><li><span><a href=\"#Fittear-el-modelo\" data-toc-modified-id=\"Fittear-el-modelo-1.3\"><span class=\"toc-item-num\">1.3&nbsp;&nbsp;</span>Fittear el modelo</a></span></li></ul></li><li><span><a href=\"#Diagnostico\" data-toc-modified-id=\"Diagnostico-2\"><span class=\"toc-item-num\">2&nbsp;&nbsp;</span>Diagnostico</a></span></li><li><span><a href=\"#Predicción\" data-toc-modified-id=\"Predicción-3\"><span class=\"toc-item-num\">3&nbsp;&nbsp;</span>Predicción</a></span></li><li><span><a href=\"#Autocorrelacion\" data-toc-modified-id=\"Autocorrelacion-4\"><span class=\"toc-item-num\">4&nbsp;&nbsp;</span>Autocorrelacion</a></span></li><li><span><a href=\"#Modelos-ARIMA\" data-toc-modified-id=\"Modelos-ARIMA-5\"><span class=\"toc-item-num\">5&nbsp;&nbsp;</span>Modelos ARIMA</a></span></li><li><span><a href=\"#Modelos-ARIMAx\" data-toc-modified-id=\"Modelos-ARIMAx-6\"><span class=\"toc-item-num\">6&nbsp;&nbsp;</span>Modelos ARIMAx</a></span></li><li><span><a href=\"#Procedimiento-Completo\" data-toc-modified-id=\"Procedimiento-Completo-7\"><span class=\"toc-item-num\">7&nbsp;&nbsp;</span>Procedimiento Completo</a></span><ul class=\"toc-item\"><li><span><a href=\"#Lectura-de-datos\" data-toc-modified-id=\"Lectura-de-datos-7.1\"><span class=\"toc-item-num\">7.1&nbsp;&nbsp;</span>Lectura de datos</a></span></li></ul></li><li><span><a href=\"#Test-Serie-Estacionaria\" data-toc-modified-id=\"Test-Serie-Estacionaria-8\"><span class=\"toc-item-num\">8&nbsp;&nbsp;</span>Test Serie Estacionaria</a></span></li><li><span><a href=\"#Autocorrelacion\" data-toc-modified-id=\"Autocorrelacion-9\"><span class=\"toc-item-num\">9&nbsp;&nbsp;</span>Autocorrelacion</a></span></li></ul></div>"
   ]
  },
  {
   "cell_type": "markdown",
   "metadata": {},
   "source": [
    "# Intro"
   ]
  },
  {
   "cell_type": "code",
   "execution_count": null,
   "metadata": {},
   "outputs": [],
   "source": [
    "import warnings\n",
    "warnings.filterwarnings('ignore', 'statsmodels.tsa.arima_model.ARMA',\n",
    "                        FutureWarning)"
   ]
  },
  {
   "cell_type": "markdown",
   "metadata": {},
   "source": [
    "Los modelos ARIMA son la forma más tradicional de resolver los modelos temporales. Iremos uno por uno revisando los modelos que lo componen, junto con un ejemplo final. ya sea para hacer previsiones o para comprender mejor los datos. No cubriremos toda la teoría detrás del modelo ARIMA, pero le mostraremos cuáles son los pasos que debe seguir para aplicarlo correctamente.AR: Autoregresión. Indica que la serie temporal se hace una regresión sobre sus propios valores retardados.\n",
    "I: Integrada. Indica que los valores de los datos se han sustituido por la diferencia entre sus valores y los anteriores para convertir la serie en estacionaria.\n",
    "MA: Media móvil. Indica que el error de regresión es en realidad una combinación lineal de términos de error cuyos valores se produjeron contemporáneamente y en varios momentos del pasado.\n",
    "\n",
    "\n",
    "\n",
    "\n",
    "\n",
    "\n"
   ]
  },
  {
   "cell_type": "code",
   "execution_count": 1,
   "metadata": {},
   "outputs": [],
   "source": [
    "import pandas as pd \n",
    "import numpy as np\n",
    "import plotly.express as px\n",
    "from statsmodels.graphics.tsaplots import plot_acf,plot_pacf\n",
    "import matplotlib.pyplot as plt\n",
    "import numpy as np\n",
    "from statsmodels.tsa.arima.model import ARIMA\n",
    "\n",
    "from statsmodels.tsa.seasonal import seasonal_decompose\n",
    "from statsmodels.tsa.stattools import adfuller\n",
    "from matplotlib.pylab import rcParams\n",
    "from pmdarima import auto_arima\n",
    "from statsmodels.tsa.arima_model import ARIMA,ARIMAResults,ARMA,ARMAResults\n",
    "#import statsmodels.api as sm\n",
    "from statsmodels.tsa.statespace.sarimax import SARIMAX"
   ]
  },
  {
   "cell_type": "markdown",
   "metadata": {},
   "source": [
    "Habrá que repetir algunos de los modelos con el siguiente dataset"
   ]
  },
  {
   "cell_type": "code",
   "execution_count": null,
   "metadata": {},
   "outputs": [],
   "source": [
    "link_pax = 'https://raw.githubusercontent.com/jbrownlee/Datasets/master/airline-passengers.csv'\n",
    "df_pax =  pd.read_csv(link_pax, parse_dates = ['Month'], index_col = 'Month')\n",
    "df_pax.head(5)"
   ]
  },
  {
   "cell_type": "markdown",
   "metadata": {},
   "source": [
    "# Modelos Autorregreisvos (AR)"
   ]
  },
  {
   "cell_type": "markdown",
   "metadata": {},
   "source": [
    "Modelos de Autoregresion"
   ]
  },
  {
   "cell_type": "markdown",
   "metadata": {},
   "source": [
    "## Generamos un ARMA y lo modelamos"
   ]
  },
  {
   "cell_type": "markdown",
   "metadata": {},
   "source": [
    "Tanto el componente AR como el MA deben incluir el coeficiente del lag cero. En casi todos los casos estos valores deben ser 1. Además, debido a la utilización de la representación lag-polinomio, los parámetros AR deben tener el signo contrario al que se escribiría en la representación ARMA. Vea los ejemplos siguientes.\n",
    "\n",
    "El proceso ARMA(p,q) se describe mediante\n",
    "\n",
    "𝑦𝑡=𝜙1𝑦𝑡−1+…+𝜙𝑝𝑦𝑡−𝑝+𝜃1𝜖𝑡−1+…+𝜃𝑞𝜖𝑡−𝑞+𝜖𝑡 <br>\n",
    "y la parametrización utilizada en esta función utiliza la representación lag-polinomio <br>\n",
    "(1−𝜙1𝐿−…−𝜙𝑝𝐿𝑝)𝑦𝑡=(1+𝜃1𝐿+…+𝜃𝑞𝐿𝑞)𝜖𝑡"
   ]
  },
  {
   "cell_type": "code",
   "execution_count": null,
   "metadata": {},
   "outputs": [],
   "source": [
    "from statsmodels.tsa.arima_process import ArmaProcess\n",
    "ar1 = np.array([1, -0.8])\n",
    "ma1 = np.array([1])\n",
    "AR_object1 = ArmaProcess(ar1, ma1)\n",
    "serie_ar1 = AR_object1.generate_sample(nsample=1000)"
   ]
  },
  {
   "cell_type": "code",
   "execution_count": null,
   "metadata": {},
   "outputs": [],
   "source": [
    "px.line(serie_ar1)"
   ]
  },
  {
   "cell_type": "markdown",
   "metadata": {},
   "source": [
    "### Analisis de Estacionariedad"
   ]
  },
  {
   "cell_type": "code",
   "execution_count": null,
   "metadata": {},
   "outputs": [],
   "source": [
    "from statsmodels.tsa.stattools import adfuller\n",
    "result=adfuller(serie_ar1)\n",
    "#to help you, we added the names of every value\n",
    "dict(zip(['adf', 'pvalue', 'usedlag', 'nobs', 'critical' 'values', 'icbest'],result))"
   ]
  },
  {
   "cell_type": "markdown",
   "metadata": {},
   "source": [
    "### Autocorrelación.y Autocorrelación Parcial"
   ]
  },
  {
   "cell_type": "code",
   "execution_count": null,
   "metadata": {},
   "outputs": [],
   "source": [
    "plot_acf(serie_ar1, alpha=1, lags=20)\n",
    "plt.show\n",
    "plot_pacf(serie_ar1, alpha=1, lags=20)\n",
    "plt.show"
   ]
  },
  {
   "cell_type": "markdown",
   "metadata": {},
   "source": [
    "### Fittear el modelo "
   ]
  },
  {
   "cell_type": "code",
   "execution_count": null,
   "metadata": {},
   "outputs": [],
   "source": [
    "# Fit an AR(1) model to the first simulated data\n",
    "mod = ARIMA(serie_ar1, order=(1,0,0))"
   ]
  },
  {
   "cell_type": "code",
   "execution_count": null,
   "metadata": {},
   "outputs": [],
   "source": [
    "res = mod.fit()"
   ]
  },
  {
   "cell_type": "code",
   "execution_count": null,
   "metadata": {},
   "outputs": [],
   "source": [
    "print(res.summary())"
   ]
  },
  {
   "cell_type": "markdown",
   "metadata": {},
   "source": [
    "## Diagnostico"
   ]
  },
  {
   "cell_type": "markdown",
   "metadata": {},
   "source": [
    "Hacer el diagnostico de los resultados"
   ]
  },
  {
   "cell_type": "code",
   "execution_count": null,
   "metadata": {},
   "outputs": [],
   "source": [
    "res.plot_diagnostics()\n",
    "plt.show()"
   ]
  },
  {
   "cell_type": "markdown",
   "metadata": {},
   "source": [
    "¿Cómo interpretar el resultado del plot_diagnostics?\n",
    "\n",
    "+ **Arriba a la izquierda:** Los errores residuales parecen fluctuar en torno a una media de cero y tienen una varianza uniforme.\n",
    "+ **Arriba a la derecha:** El gráfico de densidad sugiere una distribución normal con media cero.\n",
    "+ **Abajo a la izquierda:** Todos los puntos deberían estar perfectamente alineados con la línea roja. Cualquier desviación significativa implicaría que la distribución está sesgada.\n",
    "+ **Abajo a la derecha:** El correlograma, también conocido como gráfico ACF, muestra que los errores residuales no están autocorrelacionados. Cualquier autocorrelación implicaría que hay algún patrón en los errores residuales que no se explica en el modelo. Así que tendrá que buscar más X (predictores) para el modelo.\n",
    "\n"
   ]
  },
  {
   "cell_type": "markdown",
   "metadata": {},
   "source": [
    "## Predicción"
   ]
  },
  {
   "cell_type": "code",
   "execution_count": null,
   "metadata": {},
   "outputs": [],
   "source": [
    "fitted = res.predict(n_periods=12, return_conf_int=True)\n",
    "a = res.forecast(steps = 100)\n",
    "a"
   ]
  },
  {
   "cell_type": "code",
   "execution_count": null,
   "metadata": {},
   "outputs": [],
   "source": [
    "print(\"Qué parámetros trenemos?\")\n",
    "print(res.params)"
   ]
  },
  {
   "cell_type": "markdown",
   "metadata": {},
   "source": [
    "<hr style=\"height:5px;border-width:0;color:orange;background-color:orange\">"
   ]
  },
  {
   "cell_type": "markdown",
   "metadata": {},
   "source": [
    "# Modelos de Medias Moviles (MA)"
   ]
  },
  {
   "cell_type": "code",
   "execution_count": null,
   "metadata": {},
   "outputs": [],
   "source": [
    "#from statsmodels.tsa.arima_process import ArmaProcess\n",
    "\n",
    "# Plot 1: MA parameter = -0.9\n",
    "\n",
    "ar1 = np.array([1])\n",
    "ma1 = np.array([1, -0.9])\n",
    "MA_object1 = ArmaProcess(ar1, ma1)\n",
    "serie_ma1= MA_object1.generate_sample(nsample=1000)\n",
    "px.line(serie_ma1)\n",
    "\n"
   ]
  },
  {
   "cell_type": "code",
   "execution_count": null,
   "metadata": {},
   "outputs": [],
   "source": [
    "# Plot 2: MA parameter = +0.9\n",
    "\n",
    "ar2 = np.array([1])\n",
    "ma2 = np.array([1, 0.9])\n",
    "MA_object2 = ArmaProcess(ar2, ma2)\n",
    "serie_ma2 = MA_object2.generate_sample(nsample=1000)\n",
    "px.line(serie_ma2)"
   ]
  },
  {
   "cell_type": "markdown",
   "metadata": {},
   "source": [
    "## Autocorrelacion"
   ]
  },
  {
   "cell_type": "markdown",
   "metadata": {},
   "source": [
    "Primero empezamos con -0.9"
   ]
  },
  {
   "cell_type": "code",
   "execution_count": null,
   "metadata": {},
   "outputs": [],
   "source": [
    "plot_acf(serie_ma1, lags=20)\n",
    "plt.show()"
   ]
  },
  {
   "cell_type": "code",
   "execution_count": null,
   "metadata": {},
   "outputs": [],
   "source": [
    "plot_pacf(serie_ma1, lags=20)\n",
    "plt.show()"
   ]
  },
  {
   "cell_type": "markdown",
   "metadata": {},
   "source": [
    "***"
   ]
  },
  {
   "cell_type": "code",
   "execution_count": null,
   "metadata": {},
   "outputs": [],
   "source": [
    "plot_acf(serie_ma2, lags=20)\n",
    "plt.show()"
   ]
  },
  {
   "cell_type": "code",
   "execution_count": null,
   "metadata": {},
   "outputs": [],
   "source": [
    "plot_acf(serie_ma2, lags=20)\n",
    "plt.show()"
   ]
  },
  {
   "cell_type": "markdown",
   "metadata": {},
   "source": [
    "***"
   ]
  },
  {
   "cell_type": "code",
   "execution_count": null,
   "metadata": {},
   "outputs": [],
   "source": [
    "\n",
    "mod = ARIMA(serie_ma1, order=(0,0,1))\n",
    "res = mod.fit()\n",
    "\n",
    "# Print out summary information on the fit\n",
    "print(res.summary())\n",
    "\n",
    "\n"
   ]
  },
  {
   "cell_type": "code",
   "execution_count": null,
   "metadata": {},
   "outputs": [],
   "source": [
    "mod = ARIMA(serie_ma2, order=(0,0,1))\n",
    "res = mod.fit()\n",
    "\n",
    "# Print out summary information on the fit\n",
    "print(res.summary())\n",
    "\n"
   ]
  },
  {
   "cell_type": "code",
   "execution_count": null,
   "metadata": {},
   "outputs": [],
   "source": [
    "\n",
    "res.plot_diagnostics()\n",
    "plt.show()"
   ]
  },
  {
   "cell_type": "markdown",
   "metadata": {},
   "source": [
    "## Modelos ARIMA"
   ]
  },
  {
   "cell_type": "markdown",
   "metadata": {},
   "source": [
    "Para los datos no estacionales los parámetros son\n",
    "+ p: El número de observaciones de retraso que utilizará el modelo\n",
    "+ d: El número de veces que se diferencian las observaciones brutas hasta la estacionariedad.\n",
    "+ q: El tamaño de la ventana de la media móvil."
   ]
  },
  {
   "cell_type": "markdown",
   "metadata": {},
   "source": [
    "<hr style=\"height:5px;border-width:0;color:orange;background-color:orange\">"
   ]
  },
  {
   "cell_type": "markdown",
   "metadata": {},
   "source": [
    "## Modelos ARIMAx"
   ]
  },
  {
   "cell_type": "code",
   "execution_count": null,
   "metadata": {},
   "outputs": [],
   "source": [
    "# Instantiate the model\n",
    "model = SARIMAX(hospital['wait_times_hrs'], order = [2,0,1], exog= hospital['nurse_count']  )\n",
    "\n",
    "# Fit the model\n",
    "results = model.fit()\n",
    "\n",
    "# Print model fit summary\n",
    "print(results.summary(\n",
    "))"
   ]
  },
  {
   "cell_type": "code",
   "execution_count": null,
   "metadata": {},
   "outputs": [],
   "source": [
    "hospital = pd.DataFrame([1.75, 1.66, 1.65, 1.62, 1.48, 1.77, 1.99, \n",
    "                         2.17, 1.57, 1.28, 1.44, 1.06, 1.06, 1.2, \n",
    "                         0.89, 1.04, 0.77, 0.54, 1.23, 1.33, 1.65, \n",
    "                         1.27, 1.26, 1.4, 1.51, 2.13, 2.35, 2.53, \n",
    "                         2.19, 1.72, 1.55, 1.19, 0.96, 1.1, 1.16,\n",
    "                         1.03, 0.71, 0.82, 1.0, 1.51, 1.25, 1.07,\n",
    "                         0.69, 1.26, 1.73, 1.76, 1.6, 1.59, 2.32,\n",
    "                         2.41, 1.95, 1.06, 1.24, 1.61, 1.53, 1.26,\n",
    "                         0.72, 0.71, 0.59, 0.26, 0.61, 0.66, 0.61, \n",
    "                         0.97, 1.2, 1.26, 1.0, 0.58, 1.17, 1.81, 2.13, \n",
    "                         1.19, 1.38, 1.54, 1.75, 1.74, 1.39, 0.87, 1.66,\n",
    "                         1.72, 1.48, 1.73, 1.45, 1.0, 1.23, 1.4, 1.05, \n",
    "                         0.67, 0.5, 1.13, 1.74, 2.69, 2.29, 2.28, 2.52, \n",
    "                         1.92, 1.91, 1.66, 1.98, 1.9, 1.4, 1.01, 1.21, 1.46, \n",
    "                         1.8, 1.3, 1.02, 1.46, 1.6, 1.63, 1.47, 1.37, 1.22,\n",
    "                         1.38, 1.6, 2.44, 2.45, 2.02, 1.72, 1.49, 1.4,\n",
    "                         1.32, 1.69, 2.01, 2.24, 1.86, 1.4, 1.67, 2.14, \n",
    "                         1.51, 1.09, 1.24, 1.66, 1.28, 0.99, 1.15, 1.28, \n",
    "                         0.96, 1.3, 1.28, 1.71, 1.56, 1.17, 1.36, 1.78, 2.08,\n",
    "                         1.97, 2.0, 1.97, 2.02, 1.59, 1.21, 0.86, 0.19, 0.76, 1.08, 0.8, 0.57, 0.94,\n",
    "                         1.37, 1.61, 1.96, 1.56, 1.1, 1.6, 1.71, 1.29, 1.55], \n",
    "                        columns = ['wait_times_hrs'])\n",
    "hospital['nurse_count'] = [1.0, 1.0, 1.0, 1.0, 1.0, 3.0, 3.0, 3.0, 7.0, 9.0, 9.0,\n",
    "                           9.0, 11.0, 11.0, 11.0, 11.0, 11.0, 11.0, 11.0, 11.0,\n",
    "                           9.0, 9.0, 7.0, 7.0, 5.0, 5.0, 3.0, 3.0, 3.0, 5.0, \n",
    "                           5.0, 5.0, 7.0, 7.0, 7.0, 7.0, 7.0, 9.0, 9.0, 9.0, \n",
    "                           9.0, 9.0, 9.0, 5.0, 5.0, 5.0, 5.0, 5.0, 1.0, 1.0, \n",
    "                           1.0, 3.0, 3.0, 5.0, 5.0, 5.0, 9.0, 11.0, 11.0, \n",
    "                           11.0, 11.0, 11.0, 11.0, 11.0, 11.0, 11.0, 11.0, \n",
    "                           11.0, 9.0, 9.0, 7.0, 7.0, 5.0, 5.0, 5.0, 5.0, 5.0,\n",
    "                           7.0, 5.0, 5.0, 7.0, 7.0, 7.0, 7.0, 5.0, 7.0, 7.0, \n",
    "                           7.0, 7.0, 7.0, 7.0, 3.0, 3.0, 3.0, 3.0, 5.0, 3.0, 3.0,\n",
    "                           3.0, 3.0, 3.0, 5.0, 5.0, 5.0, 7.0, 7.0, 7.0, 7.0, 7.0,\n",
    "                           7.0, 7.0, 7.0, 7.0, 7.0, 7.0, 3.0, 3.0, 3.0, 3.0, 3.0, \n",
    "                           1.0, 1.0, 1.0, 1.0, 1.0, 1.0, 1.0, 1.0, 1.0, 5.0, 5.0, \n",
    "                           5.0, 5.0, 5.0, 5.0, 5.0, 5.0, 5.0, 5.0, 5.0, 3.0, 3.0, \n",
    "                           5.0, 3.0, 3.0, 3.0, 3.0, 3.0, 3.0, 3.0, 3.0, 3.0, 3.0, \n",
    "                           7.0, 7.0, 7.0, 7.0, 7.0, 7.0, 7.0, 7.0, 7.0, 7.0, 7.0, \n",
    "                           5.0, 5.0, 5.0, 3.0]## Modelos Sarima"
   ]
  },
  {
   "cell_type": "code",
   "execution_count": null,
   "metadata": {},
   "outputs": [],
   "source": [
    "model = SARIMAX(hospital['wait_times_hrs'], order = [2,0,1], exog\n",
    " = hospital['nurse_count']  )\n",
    "\n",
    "# Fit the model\n",
    "results = model.fit()\n",
    "\n",
    "# Print model fit summary\n",
    "print(results.summary(\n",
    "))"
   ]
  },
  {
   "cell_type": "code",
   "execution_count": null,
   "metadata": {},
   "outputs": [],
   "source": [
    "a = results.forecast(steps = 4, exog = [4,5,2,3], alpha= 0.95)\n"
   ]
  },
  {
   "cell_type": "code",
   "execution_count": null,
   "metadata": {},
   "outputs": [],
   "source": [
    "\n",
    "pd.DataFrame(a)"
   ]
  },
  {
   "cell_type": "code",
   "execution_count": null,
   "metadata": {},
   "outputs": [],
   "source": [
    "results.plot_diagnostics()\n",
    "plt.show()"
   ]
  },
  {
   "cell_type": "markdown",
   "metadata": {},
   "source": [
    "<hr style=\"height:5px;border-width:0;color:orange;background-color:orange\">"
   ]
  },
  {
   "cell_type": "markdown",
   "metadata": {},
   "source": [
    "# Ejemplo  "
   ]
  },
  {
   "cell_type": "markdown",
   "metadata": {},
   "source": [
    "## Procedimiento Completo"
   ]
  },
  {
   "cell_type": "markdown",
   "metadata": {},
   "source": [
    "### Lectura de datos"
   ]
  },
  {
   "cell_type": "code",
   "execution_count": null,
   "metadata": {},
   "outputs": [],
   "source": [
    "link_pax = 'https://raw.githubusercontent.com/jbrownlee/Datasets/master/airline-passengers.csv'\n",
    "df_pax =  pd.read_csv(link_pax, parse_dates = ['Month'], index_col = 'Month')\n",
    "df_pax.head(5)"
   ]
  },
  {
   "cell_type": "code",
   "execution_count": null,
   "metadata": {},
   "outputs": [],
   "source": [
    "px.line(df_pax['Passengers'])"
   ]
  },
  {
   "cell_type": "markdown",
   "metadata": {},
   "source": [
    "## Test Serie Estacionaria"
   ]
  },
  {
   "cell_type": "markdown",
   "metadata": {},
   "source": [
    "Como puede ver claramente, hay una tendencia en el tiempo y eso sugiere que los datos no son estacionarios. Sin embargo, para estar seguros, utilizaremos una prueba de Dickey-Fuller aumentada."
   ]
  },
  {
   "cell_type": "code",
   "execution_count": null,
   "metadata": {},
   "outputs": [],
   "source": [
    "from statsmodels.tsa.stattools import adfuller\n",
    "result=adfuller(df_pax['Passengers'])\n",
    "#to help you, we added the names of every value\n",
    "dict(zip(['adf', 'pvalue', 'usedlag', 'nobs', 'critical' 'values', 'icbest'],result))\n"
   ]
  },
  {
   "cell_type": "markdown",
   "metadata": {},
   "source": [
    "Como ya habíamos visto un p-valor muy alto 1. Por lo que podemos decir que no es estacionario. The next step is to transform our data to Stationary so we will have an estimate for d and D parameters we will use in the model. This can be done using Differencing and it’s performed by subtracting the previous observation from the current observation.\n",
    "\n",
    "+ difference(T) = observation(T) — observation(T-1)"
   ]
  },
  {
   "cell_type": "code",
   "execution_count": null,
   "metadata": {},
   "outputs": [],
   "source": [
    "df_pax['diff1']=df_pax['Passengers']-df_pax['Passengers'].shift(1)\n",
    "df_pax['diff1'].plot()"
   ]
  },
  {
   "cell_type": "markdown",
   "metadata": {},
   "source": [
    "A continuación, comprobaremos de nuevo la estacionariedad mediante la prueba de Dickey-Fuller aumentada y, si es estacionaria, pasaremos al siguiente paso. Si no lo es, aplicaremos la diferenciación de nuevo hasta que tengamos una serie estacionaria. La diferenciación se puede hacer muy fácilmente con pandas utilizando la función shift."
   ]
  },
  {
   "cell_type": "markdown",
   "metadata": {},
   "source": [
    "Parece que hemos eliminado la tendencia y la serie es estacionaria. Sin embargo, utilizaremos la prueba de Dickey-Fuller aumentada para demostrarlo."
   ]
  },
  {
   "cell_type": "code",
   "execution_count": null,
   "metadata": {},
   "outputs": [],
   "source": [
    "result=adfuller(df_pax['diff1'].dropna())\n",
    "dict(zip(['adf', 'pvalue', 'usedlag', 'nobs', 'critical' 'values', 'icbest'],result))\n"
   ]
  },
  {
   "cell_type": "markdown",
   "metadata": {},
   "source": [
    "Como puede ver, no rechazamos la hipótesis nula porque tenemos un valor p>0,05. Esto sugiere que la serie no es estacionaria y que tenemos que volver a utilizar la diferenciación tomando la segunda diferencia. La segunda diferencia se puede calcular como la primera, pero esta vez, en lugar de utilizar las observaciones, utilizaremos la primera diferencia.\n",
    "Obtengamos los resultados de la prueba Dickey-Fuller aumentada para la segunda diferencia."
   ]
  },
  {
   "cell_type": "code",
   "execution_count": null,
   "metadata": {},
   "outputs": [],
   "source": [
    "df_pax['diff2']=df_pax['diff1']-df_pax['diff1'].shift(1)\n",
    "df_pax['diff2'].plot()"
   ]
  },
  {
   "cell_type": "code",
   "execution_count": null,
   "metadata": {},
   "outputs": [],
   "source": [
    "result=adfuller(df_pax['diff2'].dropna())\n",
    "dict(zip(['adf', 'pvalue', 'usedlag', 'nobs', 'critical' 'values', 'icbest'],result))\n"
   ]
  },
  {
   "cell_type": "markdown",
   "metadata": {},
   "source": [
    "Haremos lo mismo con la estacionalidad"
   ]
  },
  {
   "cell_type": "code",
   "execution_count": null,
   "metadata": {},
   "outputs": [],
   "source": [
    "df_pax['Seasonal_Difference']=df_pax['Passengers']-df_pax['Passengers'].shift(12)\n",
    "ax=df_pax['Seasonal_Difference'].plot()"
   ]
  },
  {
   "cell_type": "markdown",
   "metadata": {},
   "source": [
    "El valor p es inferior a 0,05, por lo que podemos rechazar la hipótesis nula. Esto significa que la segunda diferencia es estacionaria y sugiere que una buena estimación del valor d es 2.\n",
    "Nuestros datos son estacionales, por lo que necesitamos estimar también el valor D, que es el mismo que el valor d pero para la diferencia estacional. La diferencia estacional puede calcularse desplazando los datos por el número de filas por temporada (en nuestro ejemplo 12 meses por año) y restándolos de la temporada anterior. Esta no es la primera diferencia estacional. Si conseguimos que la diferencia estacional sea estacionaria entonces el valor D será 0. Si no es así entonces calcularemos la primera diferencia estacional.\n",
    "diferencia estacional(T) = observación(T) - observación(T-12)\n",
    "primera diferencia estacional(T) = diferencia estacional(T) - diferencia estacional(T-1)\n",
    "\n",
    "Traducción realizada con la versión gratuita del traductor www.DeepL.com/Translator"
   ]
  },
  {
   "cell_type": "code",
   "execution_count": null,
   "metadata": {},
   "outputs": [],
   "source": [
    "result=adfuller((df_pax['Seasonal_Difference']).dropna())\n",
    "dict(zip(['adf', 'pvalue', 'usedlag', 'nobs', 'critical' 'values', 'icbest'],result))\n"
   ]
  },
  {
   "cell_type": "markdown",
   "metadata": {},
   "source": [
    "The p-value is less than 0.05 thus it’s stationary and we don’t have to use differencing. That suggests using 0 for the D value."
   ]
  },
  {
   "cell_type": "markdown",
   "metadata": {},
   "source": [
    "## Autocorrelacion"
   ]
  },
  {
   "cell_type": "markdown",
   "metadata": {},
   "source": [
    "El último paso antes del modelo ARIMA es crear los Gráficos de Autocorrelación y Autocorrelación Parcial para ayudarnos a estimar los parámetros p,q, P y Q.\n",
    "Hay algunas reglas muy útiles para los modelos ARIMA y ARIMA Estacional que estamos utilizando para ayudarnos a estimar los parámetros mirando los Gráficos de Autocorrelación y Autocorrelación Parcial. Crearemos los gráficos para la segunda diferencia y la diferencia estacional de nuestras series de tiempo porque estas son las series estacionarias que terminamos usando en ARIMA (d=2, D=0)."
   ]
  },
  {
   "cell_type": "code",
   "execution_count": null,
   "metadata": {},
   "outputs": [],
   "source": [
    "\n",
    "fig1=plot_acf(df_pax['diff2'].dropna())\n",
    "fig2=plot_pacf(df_pax['diff2'].dropna())"
   ]
  },
  {
   "cell_type": "markdown",
   "metadata": {},
   "source": [
    "Podemos ver que tenemos un corte brusco en el lag-1 en ambos gráficos. De acuerdo con las reglas que mencionamos anteriormente, esto sugiere el uso de un término AR y MA. En otras palabras, p=1 y q=1.\n",
    "Ahora, necesitamos los mismos gráficos de diferencia estacional."
   ]
  },
  {
   "cell_type": "code",
   "execution_count": null,
   "metadata": {},
   "outputs": [],
   "source": [
    "fig1=plot_acf(df_pax['Seasonal_Difference'].dropna())\n",
    "fig2=plot_pacf(df_pax['Seasonal_Difference'].dropna())"
   ]
  },
  {
   "cell_type": "markdown",
   "metadata": {},
   "source": [
    "Tenemos una disminución gradual en el gráfico de autocorrelación y un corte en el gráfico de autocorrelación parcial. Esto sugiere utilizar AR y no sobrepasar el valor de 1 para la parte estacional del ARIMA.\n",
    "Los valores que hemos elegido pueden no ser óptimos. Puede jugar con estos parámetros para afinar el modelo teniendo como guía las reglas que mencionamos anteriormente.\n"
   ]
  },
  {
   "cell_type": "code",
   "execution_count": null,
   "metadata": {},
   "outputs": [],
   "source": [
    "\n",
    "model=SARIMAX(df_pax['Passengers'],order=(1,2,1),seasonal_order=(1, 0, 0, 12))\n",
    "result=model.fit()"
   ]
  },
  {
   "cell_type": "code",
   "execution_count": null,
   "metadata": {},
   "outputs": [],
   "source": [
    "result.resid.plot(kind='kde')"
   ]
  },
  {
   "cell_type": "code",
   "execution_count": null,
   "metadata": {},
   "outputs": [],
   "source": [
    "## Prediccion"
   ]
  },
  {
   "cell_type": "code",
   "execution_count": null,
   "metadata": {},
   "outputs": [],
   "source": [
    "from pandas.tseries.offsets import DateOffset\n",
    "new_dates=[df_pax.index[-1]+DateOffset(months=x) for x in range(1,48)]\n",
    "df_pred=pd.DataFrame(index=new_dates,columns =df_pax.columns)\n",
    "df_pred.head()"
   ]
  },
  {
   "cell_type": "code",
   "execution_count": null,
   "metadata": {},
   "outputs": [],
   "source": [
    "df2=pd.concat([df_pax,df_pred])\n",
    "df2['predictions']=result.predict(start=0,end=191)\n",
    "df2[['Passengers','predictions']].plot()"
   ]
  },
  {
   "cell_type": "code",
   "execution_count": null,
   "metadata": {},
   "outputs": [],
   "source": [
    "from sklearn.metrics import mean_absolute_error\n",
    "df2 = df2[~(df2['diff2'].isna()) & ~(df2['predictions'].isna())]\n",
    "mean_absolute_error(df2['Passengers'], df2['predictions'])"
   ]
  },
  {
   "cell_type": "code",
   "execution_count": null,
   "metadata": {},
   "outputs": [],
   "source": [
    "result=adfuller((df_pax['diff2']).dropna())\n",
    "dict(zip(['adf', 'pvalue', 'usedlag', 'nobs', 'critical' 'values', 'icbest'],result))\n"
   ]
  },
  {
   "cell_type": "code",
   "execution_count": null,
   "metadata": {},
   "outputs": [],
   "source": []
  },
  {
   "cell_type": "markdown",
   "metadata": {},
   "source": [
    "<hr style=\"height:5px;border-width:0;color:orange;background-color:orange\">"
   ]
  },
  {
   "cell_type": "code",
   "execution_count": null,
   "metadata": {},
   "outputs": [],
   "source": [
    "link = 'https://raw.githubusercontent.com/jbrownlee/Datasets/master/airline-passengers.csv'\n",
    "df = pd.read_csv(link)"
   ]
  },
  {
   "cell_type": "code",
   "execution_count": null,
   "metadata": {},
   "outputs": [],
   "source": [
    "df['passengers'] = df['Passengers'].diff()\n",
    "df = df[~df['passengers'].isna()]"
   ]
  },
  {
   "cell_type": "code",
   "execution_count": null,
   "metadata": {},
   "outputs": [],
   "source": [
    "\n",
    "Sarimax_model = auto_arima(df_pax['Passengers'],\n",
    "                       start_P=1,\n",
    "                       start_q=1,\n",
    "                       max_p=3,\n",
    "                       max_q=3,\n",
    "                       m=12,\n",
    "                       seasonal=True,\n",
    "                       D=1,\n",
    "                       max_d = 3,\n",
    "                       trace=True,\n",
    "                       error_action='ignore',\n",
    "                       suppress_warnings=True,\n",
    "                       stepwise=True)\n",
    "Sarimax_model.summary()"
   ]
  },
  {
   "cell_type": "code",
   "execution_count": null,
   "metadata": {},
   "outputs": [],
   "source": [
    "model = SARIMAX(df_pax['Passengers'],order=(2, 1, 1),\n",
    "              seasonal_order=(0, 1, 0, 12),\n",
    "              enforce_stationarity=False,\n",
    "              enforce_invertibility=False)\n",
    "results = model.fit()"
   ]
  },
  {
   "cell_type": "code",
   "execution_count": null,
   "metadata": {},
   "outputs": [],
   "source": [
    "from pandas.tseries.offsets import DateOffset\n",
    "new_dates=[df_pax.index[-1]+DateOffset(months=x) for x in range(1,48)]\n",
    "df_pred=pd.DataFrame(index=new_dates,columns =df_pax.columns)\n",
    "df_pred.head()"
   ]
  },
  {
   "cell_type": "code",
   "execution_count": null,
   "metadata": {},
   "outputs": [],
   "source": [
    "type(Sarimax_model)"
   ]
  },
  {
   "cell_type": "code",
   "execution_count": null,
   "metadata": {},
   "outputs": [],
   "source": [
    "forecast = results.predict(start = len(df),\n",
    "                           end=len(df)+24,\n",
    "                           typ='levels').rename('data sarimax (1,0,1) forecast')"
   ]
  },
  {
   "cell_type": "code",
   "execution_count": null,
   "metadata": {},
   "outputs": [],
   "source": [
    "df_pax['Passengers'].plot(figsize=(12,8),legend=True)\n",
    "forecast.plot(legend=True)\n",
    "plt.show()\n",
    "results.plot_diagnostics()\n",
    "plt.show()"
   ]
  },
  {
   "cell_type": "code",
   "execution_count": null,
   "metadata": {},
   "outputs": [],
   "source": [
    "results.resid.plot(kind='kde')"
   ]
  },
  {
   "cell_type": "code",
   "execution_count": null,
   "metadata": {},
   "outputs": [],
   "source": [
    "from pandas.tseries.offsets import DateOffset\n",
    "new_dates=[df_pax.index[-1]+DateOffset(months=x) for x in range(1,48)]\n",
    "df_pred=pd.DataFrame(index=new_dates,columns =df_pax.columns)\n",
    "df_pred.head()"
   ]
  },
  {
   "cell_type": "code",
   "execution_count": null,
   "metadata": {},
   "outputs": [],
   "source": [
    "df2=pd.concat([df_pax,df_pred])\n",
    "df2['predictions']=results.predict(start=0,end=191)\n",
    "df2[['Passengers','predictions']].plot()"
   ]
  },
  {
   "cell_type": "markdown",
   "metadata": {},
   "source": [
    "Calculamos el Erro"
   ]
  },
  {
   "cell_type": "code",
   "execution_count": null,
   "metadata": {},
   "outputs": [],
   "source": [
    "from sklearn.metrics import mean_absolute_error\n",
    "df2 = df2[~(df2['diff2'].isna()) & ~(df2['predictions'].isna())]\n",
    "mean_absolute_error(df2['Passengers'], df2['predictions'])"
   ]
  },
  {
   "cell_type": "code",
   "execution_count": null,
   "metadata": {},
   "outputs": [],
   "source": []
  },
  {
   "cell_type": "code",
   "execution_count": null,
   "metadata": {},
   "outputs": [],
   "source": []
  }
 ],
 "metadata": {
  "kernelspec": {
   "display_name": "Python 3.8.8 64-bit ('NuclioDigitalSchool': conda)",
   "language": "python",
   "name": "python388jvsc74a57bd036b9a2a0f226926490f5535038bc0776dc6ef9541a368ddb54f9a85170198278"
  },
  "language_info": {
   "codemirror_mode": {
    "name": "ipython",
    "version": 3
   },
   "file_extension": ".py",
   "mimetype": "text/x-python",
   "name": "python",
   "nbconvert_exporter": "python",
   "pygments_lexer": "ipython3",
   "version": "3.8.8"
  },
  "nbTranslate": {
   "displayLangs": [
    "*"
   ],
   "hotkey": "alt-t",
   "langInMainMenu": true,
   "sourceLang": "en",
   "targetLang": "fr",
   "useGoogleTranslate": true
  },
  "toc": {
   "base_numbering": 1,
   "nav_menu": {},
   "number_sections": true,
   "sideBar": true,
   "skip_h1_title": true,
   "title_cell": "Table of Contents",
   "title_sidebar": "Contents",
   "toc_cell": true,
   "toc_position": {},
   "toc_section_display": true,
   "toc_window_display": false
  },
  "varInspector": {
   "cols": {
    "lenName": 16,
    "lenType": 16,
    "lenVar": 40
   },
   "kernels_config": {
    "python": {
     "delete_cmd_postfix": "",
     "delete_cmd_prefix": "del ",
     "library": "var_list.py",
     "varRefreshCmd": "print(var_dic_list())"
    },
    "r": {
     "delete_cmd_postfix": ") ",
     "delete_cmd_prefix": "rm(",
     "library": "var_list.r",
     "varRefreshCmd": "cat(var_dic_list()) "
    }
   },
   "types_to_exclude": [
    "module",
    "function",
    "builtin_function_or_method",
    "instance",
    "_Feature"
   ],
   "window_display": false
  }
 },
 "nbformat": 4,
 "nbformat_minor": 4
}
