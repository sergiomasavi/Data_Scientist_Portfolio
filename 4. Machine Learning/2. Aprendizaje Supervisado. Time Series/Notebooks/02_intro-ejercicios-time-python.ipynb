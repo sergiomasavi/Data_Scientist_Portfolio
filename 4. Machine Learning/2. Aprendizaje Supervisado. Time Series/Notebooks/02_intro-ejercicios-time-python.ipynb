{
 "cells": [
  {
   "cell_type": "markdown",
   "metadata": {},
   "source": [
    "<img src=\"Tarjeta.png\">"
   ]
  },
  {
   "cell_type": "markdown",
   "metadata": {
    "toc": true
   },
   "source": [
    "<h1>Table of Contents<span class=\"tocSkip\"></span></h1>\n",
    "<div class=\"toc\"><ul class=\"toc-item\"><li><span><a href=\"#Tiempo-en-Python\" data-toc-modified-id=\"Tiempo-en-Python-1\"><span class=\"toc-item-num\">1&nbsp;&nbsp;</span>Tiempo en Python</a></span></li><li><span><a href=\"#Pandas-Con-Tiempo\" data-toc-modified-id=\"Pandas-Con-Tiempo-2\"><span class=\"toc-item-num\">2&nbsp;&nbsp;</span>Pandas Con Tiempo</a></span></li></ul></div>"
   ]
  },
  {
   "cell_type": "markdown",
   "metadata": {},
   "source": [
    "# Ejercicios"
   ]
  },
  {
   "cell_type": "markdown",
   "metadata": {},
   "source": [
    "## Tiempo en Python"
   ]
  },
  {
   "cell_type": "markdown",
   "metadata": {},
   "source": [
    "0. Importa el paquete de datetime"
   ]
  },
  {
   "cell_type": "code",
   "execution_count": 5,
   "metadata": {},
   "outputs": [],
   "source": [
    "from datetime import datetime, date, time, timedelta"
   ]
  },
  {
   "cell_type": "markdown",
   "metadata": {},
   "source": [
    "1. Crea un variable con el dia de tus cumpleaños con la funcion datetime y muestrala en pantalla (print). Si no quieres decir compartirla, puedes usar una fecha ficticia :)"
   ]
  },
  {
   "cell_type": "markdown",
   "metadata": {},
   "source": [
    "3. Crea otra variable con el dia de cumpleaños utilizando cadena de texto con esta forma 01/01/1990. Comprueba que ambas fechas son iguales creando una nueva variable: son_iguales"
   ]
  },
  {
   "cell_type": "markdown",
   "metadata": {},
   "source": [
    "3. Muestra tu cumpleaños (cualquiera de las dos variables) en 4 formatos diferentes:\n",
    "    + January 01, 1990\n",
    "    + 01/01/1990\n",
    "    + 01-01-1990\n",
    "    + 01 January 1990"
   ]
  },
  {
   "cell_type": "markdown",
   "metadata": {},
   "source": [
    "4. Que dia de las semana has nacido? Y en que día del año? Y en que semana del año? Mira en las tablas para acordarte de los codigos"
   ]
  },
  {
   "cell_type": "markdown",
   "metadata": {},
   "source": [
    "5. Crea una variable de tipo hora en la que has nacido. Si no te acuerdas😅 te la puedes inventar. Combinala con la fecha (cualquiera de las fechas es verdad)"
   ]
  },
  {
   "cell_type": "markdown",
   "metadata": {},
   "source": [
    "6. Obten los principales atributos del campo edad: año, mes, día del mes, hora, minuto, segundo y microsegundo"
   ]
  },
  {
   "cell_type": "markdown",
   "metadata": {},
   "source": [
    "7. Calcula tu edad,incluyendo la variable hora"
   ]
  },
  {
   "cell_type": "markdown",
   "metadata": {},
   "source": [
    "8. En que fecha has cumplido 5000 días? Obten la variable año, mes y si era fin de semana o no. Seras mayor en esa fecha o cuando cumplas 300000000 de segundos? "
   ]
  },
  {
   "cell_type": "markdown",
   "metadata": {},
   "source": [
    "9. Cuantos años tendras el 'Jun 28 2025 at 7:40AM' (incluye tambien horas minutos y segundos)? Tienes que utilizar el formato cadena para introducir la fecha"
   ]
  },
  {
   "cell_type": "markdown",
   "metadata": {},
   "source": [
    "10. Crea  una lista con todas las fechas de tu cumpleaños hasta el día de hoy. Pista timedelta no incluye años porque no es unidad de tiempo fija, puedes utilizar .replace. \n"
   ]
  },
  {
   "cell_type": "markdown",
   "metadata": {},
   "source": [
    "Ejercicio extra. Crea la funcion add_year para sumar un año utilizando timedelta. Comprueba si el año es bisiesto y suma el número de días correspondiente"
   ]
  },
  {
   "cell_type": "markdown",
   "metadata": {},
   "source": [
    "***"
   ]
  },
  {
   "cell_type": "markdown",
   "metadata": {},
   "source": [
    "## Pandas Con Tiempo"
   ]
  },
  {
   "cell_type": "markdown",
   "metadata": {},
   "source": [
    "A continuación, vienen los ejercicios relacionados con pandas. El dataset contiene ratios de intercambio de monedas con el dolar, y nos centraremos en el euro,"
   ]
  },
  {
   "cell_type": "code",
   "execution_count": 200,
   "metadata": {},
   "outputs": [],
   "source": [
    "link = 'https://github.com/AnotherKamila/currency-exchange-rates/blob/master/rates.csv'"
   ]
  },
  {
   "cell_type": "markdown",
   "metadata": {},
   "source": [
    "0. Importa la libreria de Python y de Numpy"
   ]
  },
  {
   "cell_type": "code",
   "execution_count": 201,
   "metadata": {},
   "outputs": [],
   "source": [
    "import pandas as pd\n",
    "import numpy as np"
   ]
  },
  {
   "cell_type": "markdown",
   "metadata": {},
   "source": [
    "1. Lee el archivo con pandas (no incluyas ningun parametro de momento)"
   ]
  },
  {
   "cell_type": "code",
   "execution_count": 202,
   "metadata": {},
   "outputs": [],
   "source": [
    "df_rates = pd.read_csv('https://raw.githubusercontent.com/AnotherKamila/currency-exchange-rates/master/rates.csv')"
   ]
  },
  {
   "cell_type": "code",
   "execution_count": 203,
   "metadata": {},
   "outputs": [
    {
     "data": {
      "text/html": [
       "<div>\n",
       "<style scoped>\n",
       "    .dataframe tbody tr th:only-of-type {\n",
       "        vertical-align: middle;\n",
       "    }\n",
       "\n",
       "    .dataframe tbody tr th {\n",
       "        vertical-align: top;\n",
       "    }\n",
       "\n",
       "    .dataframe thead th {\n",
       "        text-align: right;\n",
       "    }\n",
       "</style>\n",
       "<table border=\"1\" class=\"dataframe\">\n",
       "  <thead>\n",
       "    <tr style=\"text-align: right;\">\n",
       "      <th></th>\n",
       "      <th>Date</th>\n",
       "      <th>LAK</th>\n",
       "      <th>AOA</th>\n",
       "      <th>ANG</th>\n",
       "      <th>NOK</th>\n",
       "      <th>XPF</th>\n",
       "      <th>AFN</th>\n",
       "      <th>MZN</th>\n",
       "      <th>DOP</th>\n",
       "      <th>CZK</th>\n",
       "      <th>...</th>\n",
       "      <th>ALL</th>\n",
       "      <th>LKR</th>\n",
       "      <th>ILA</th>\n",
       "      <th>BRX</th>\n",
       "      <th>INX</th>\n",
       "      <th>CAX</th>\n",
       "      <th>CUC</th>\n",
       "      <th>ISX</th>\n",
       "      <th>HUX</th>\n",
       "      <th>CZX</th>\n",
       "    </tr>\n",
       "  </thead>\n",
       "  <tbody>\n",
       "    <tr>\n",
       "      <th>200</th>\n",
       "      <td>2017-06-18</td>\n",
       "      <td>8236.000000</td>\n",
       "      <td>165.091003</td>\n",
       "      <td>1.7700</td>\n",
       "      <td>8.44620</td>\n",
       "      <td>106.470001</td>\n",
       "      <td>67.949997</td>\n",
       "      <td>59.869999</td>\n",
       "      <td>47.130001</td>\n",
       "      <td>23.348000</td>\n",
       "      <td>...</td>\n",
       "      <td>118.500000</td>\n",
       "      <td>152.820007</td>\n",
       "      <td>NaN</td>\n",
       "      <td>3.2886</td>\n",
       "      <td>NaN</td>\n",
       "      <td>NaN</td>\n",
       "      <td>NaN</td>\n",
       "      <td>NaN</td>\n",
       "      <td>275.450012</td>\n",
       "      <td>NaN</td>\n",
       "    </tr>\n",
       "    <tr>\n",
       "      <th>104</th>\n",
       "      <td>2017-12-15</td>\n",
       "      <td>8285.000000</td>\n",
       "      <td>165.098007</td>\n",
       "      <td>1.7800</td>\n",
       "      <td>8.27723</td>\n",
       "      <td>100.669998</td>\n",
       "      <td>69.000000</td>\n",
       "      <td>59.150002</td>\n",
       "      <td>48.320000</td>\n",
       "      <td>21.766899</td>\n",
       "      <td>...</td>\n",
       "      <td>112.760002</td>\n",
       "      <td>153.100006</td>\n",
       "      <td>NaN</td>\n",
       "      <td>3.3326</td>\n",
       "      <td>NaN</td>\n",
       "      <td>NaN</td>\n",
       "      <td>NaN</td>\n",
       "      <td>NaN</td>\n",
       "      <td>266.179993</td>\n",
       "      <td>NaN</td>\n",
       "    </tr>\n",
       "    <tr>\n",
       "      <th>131</th>\n",
       "      <td>2017-10-23</td>\n",
       "      <td>8310.700195</td>\n",
       "      <td>165.097000</td>\n",
       "      <td>1.7800</td>\n",
       "      <td>7.99525</td>\n",
       "      <td>101.040001</td>\n",
       "      <td>68.029999</td>\n",
       "      <td>60.400002</td>\n",
       "      <td>47.849998</td>\n",
       "      <td>21.835501</td>\n",
       "      <td>...</td>\n",
       "      <td>113.489998</td>\n",
       "      <td>153.600006</td>\n",
       "      <td>NaN</td>\n",
       "      <td>3.1827</td>\n",
       "      <td>NaN</td>\n",
       "      <td>NaN</td>\n",
       "      <td>NaN</td>\n",
       "      <td>NaN</td>\n",
       "      <td>260.950012</td>\n",
       "      <td>NaN</td>\n",
       "    </tr>\n",
       "    <tr>\n",
       "      <th>282</th>\n",
       "      <td>2017-03-27</td>\n",
       "      <td>8188.000000</td>\n",
       "      <td>165.085999</td>\n",
       "      <td>1.7700</td>\n",
       "      <td>8.44726</td>\n",
       "      <td>109.120003</td>\n",
       "      <td>66.599998</td>\n",
       "      <td>70.440002</td>\n",
       "      <td>47.310001</td>\n",
       "      <td>24.838400</td>\n",
       "      <td>...</td>\n",
       "      <td>125.050003</td>\n",
       "      <td>151.699997</td>\n",
       "      <td>NaN</td>\n",
       "      <td>3.1276</td>\n",
       "      <td>NaN</td>\n",
       "      <td>NaN</td>\n",
       "      <td>NaN</td>\n",
       "      <td>NaN</td>\n",
       "      <td>285.369995</td>\n",
       "      <td>NaN</td>\n",
       "    </tr>\n",
       "    <tr>\n",
       "      <th>231</th>\n",
       "      <td>2017-05-17</td>\n",
       "      <td>8182.000000</td>\n",
       "      <td>165.087997</td>\n",
       "      <td>1.7775</td>\n",
       "      <td>8.42660</td>\n",
       "      <td>106.820000</td>\n",
       "      <td>68.070000</td>\n",
       "      <td>70.440002</td>\n",
       "      <td>47.080002</td>\n",
       "      <td>23.786501</td>\n",
       "      <td>...</td>\n",
       "      <td>120.900002</td>\n",
       "      <td>152.580002</td>\n",
       "      <td>NaN</td>\n",
       "      <td>3.0918</td>\n",
       "      <td>NaN</td>\n",
       "      <td>NaN</td>\n",
       "      <td>NaN</td>\n",
       "      <td>NaN</td>\n",
       "      <td>279.630005</td>\n",
       "      <td>NaN</td>\n",
       "    </tr>\n",
       "  </tbody>\n",
       "</table>\n",
       "<p>5 rows × 178 columns</p>\n",
       "</div>"
      ],
      "text/plain": [
       "           Date          LAK         AOA     ANG      NOK         XPF  \\\n",
       "200  2017-06-18  8236.000000  165.091003  1.7700  8.44620  106.470001   \n",
       "104  2017-12-15  8285.000000  165.098007  1.7800  8.27723  100.669998   \n",
       "131  2017-10-23  8310.700195  165.097000  1.7800  7.99525  101.040001   \n",
       "282  2017-03-27  8188.000000  165.085999  1.7700  8.44726  109.120003   \n",
       "231  2017-05-17  8182.000000  165.087997  1.7775  8.42660  106.820000   \n",
       "\n",
       "           AFN        MZN        DOP        CZK  ...         ALL         LKR  \\\n",
       "200  67.949997  59.869999  47.130001  23.348000  ...  118.500000  152.820007   \n",
       "104  69.000000  59.150002  48.320000  21.766899  ...  112.760002  153.100006   \n",
       "131  68.029999  60.400002  47.849998  21.835501  ...  113.489998  153.600006   \n",
       "282  66.599998  70.440002  47.310001  24.838400  ...  125.050003  151.699997   \n",
       "231  68.070000  70.440002  47.080002  23.786501  ...  120.900002  152.580002   \n",
       "\n",
       "     ILA     BRX  INX  CAX  CUC  ISX         HUX  CZX  \n",
       "200  NaN  3.2886  NaN  NaN  NaN  NaN  275.450012  NaN  \n",
       "104  NaN  3.3326  NaN  NaN  NaN  NaN  266.179993  NaN  \n",
       "131  NaN  3.1827  NaN  NaN  NaN  NaN  260.950012  NaN  \n",
       "282  NaN  3.1276  NaN  NaN  NaN  NaN  285.369995  NaN  \n",
       "231  NaN  3.0918  NaN  NaN  NaN  NaN  279.630005  NaN  \n",
       "\n",
       "[5 rows x 178 columns]"
      ]
     },
     "execution_count": 203,
     "metadata": {},
     "output_type": "execute_result"
    }
   ],
   "source": [
    "df_rates.sample(5)"
   ]
  },
  {
   "cell_type": "markdown",
   "metadata": {},
   "source": [
    "2. Chequea el numero de columnas,tipo de columnas, numero de filas y los valores caractersticos de la serie numerica (summary)."
   ]
  },
  {
   "cell_type": "markdown",
   "metadata": {},
   "source": [
    "3. Convierte la variable de tiempo (Date) al formato datetime y conviertela en el indice "
   ]
  },
  {
   "cell_type": "markdown",
   "metadata": {},
   "source": [
    "4. Vuelve a leer el arhcivo, esta vez asignando el parametro al indice y el camo date como fecha. Comprueba que los dataframes son iguales (Se puede utilizar df.equals(exactly_equal))"
   ]
  },
  {
   "cell_type": "markdown",
   "metadata": {},
   "source": [
    "5. Quedate con uno de los dos anteriores dataframes y crea uno nuevo saolamente con las columnas date y EUR. Pintala en un lineplot"
   ]
  },
  {
   "cell_type": "markdown",
   "metadata": {},
   "source": [
    "6. Filtra el dataframe para tener\n",
    "+ Datos unicamente de 2017. Cuantos datos tenemos de 2017?\n",
    "+ Datos para marzo 2018. Obten la media del mes\n",
    "+ El resultado para el 15 de Febrero de 2018 "
   ]
  },
  {
   "cell_type": "markdown",
   "metadata": {},
   "source": [
    "7. Que dia de la semana tiene una media mayor? Y una mediana mayor? Pinta en un grafico de barras la media(Groupby)"
   ]
  },
  {
   "cell_type": "markdown",
   "metadata": {},
   "source": [
    "8. Crea las siguientes columnas nuevas para el dataframe\n",
    "+ Año\n",
    "+ Mes\n",
    "+ Dia del mes\n",
    "+ Dia del año\n",
    "+ Semana del año\n"
   ]
  },
  {
   "cell_type": "markdown",
   "metadata": {},
   "source": [
    "9. Crea dos nuevas variables en el dataframe\n",
    "+ Valor de la variable del día aterior \" EUR_prev_1'\n",
    "+ Valor de dentro de una semana \"EUR_next_7'"
   ]
  },
  {
   "cell_type": "markdown",
   "metadata": {},
   "source": [
    "10. Calcula la variable diferencia entre el valor de ayer y hoy, utilizando 'EUR_prev_1'"
   ]
  },
  {
   "cell_type": "markdown",
   "metadata": {},
   "source": [
    "11. Calcula la el ratio de crecimiento entre ayer y hoy entre ambas, dividiendo entre el valor del dia anterior"
   ]
  },
  {
   "cell_type": "markdown",
   "metadata": {},
   "source": [
    "12. Obten la columna 'Eur_prev_1_diff', con la funcion diff, y la variable pct_change 'Eur_prev_1_pct'. Comprueba que son iguales con lo calculado anteriormente"
   ]
  },
  {
   "cell_type": "markdown",
   "metadata": {},
   "source": [
    "13. Crea una nueva variable la media movil CENTRADA de una semana. Haz un grafico(lineplot) para mostrarla , y comparala con la del ejercicio 5. Alguna conclusion>"
   ]
  },
  {
   "cell_type": "markdown",
   "metadata": {},
   "source": [
    "14. Crea 3 dataframes distintos a una granularidad diaria (Recuerda que no hay fines de semanas, y tenemos que completar el valor)\n",
    "+ El primero, utilizando el valor del primer día\n",
    "+ El segundo, Uutilizando el valor del día siguiente\n",
    "+ El tercero, Utilizando una interpolación entre ambos días\n",
    "\n"
   ]
  },
  {
   "cell_type": "markdown",
   "metadata": {},
   "source": [
    "15. Con el datraframe de Date y Eur (sin hacer el resample del ejercicio anterior). Plotea un histogroma de la variable (EUR):\n",
    "    + Que el histograma sea porcentual\n",
    "    + Actualiza el titulo\n",
    "    + Actualiza la variable de los ejes\n",
    "    + Cambia el numero de bins (bloques) para hacerlo más granular\n",
    "    \n",
    "    "
   ]
  },
  {
   "cell_type": "markdown",
   "metadata": {},
   "source": [
    "16. Vuelve al dataframe del paso 1 y compara la distribucion de EUR con las siguientes monedas (columnas) ANG CUC CAX SHP con un boxplot"
   ]
  }
 ],
 "metadata": {
  "kernelspec": {
   "display_name": "Python_3.7",
   "language": "python",
   "name": "python_3.7"
  },
  "language_info": {
   "codemirror_mode": {
    "name": "ipython",
    "version": 3
   },
   "file_extension": ".py",
   "mimetype": "text/x-python",
   "name": "python",
   "nbconvert_exporter": "python",
   "pygments_lexer": "ipython3",
   "version": "3.7.10"
  },
  "nbTranslate": {
   "displayLangs": [
    "*"
   ],
   "hotkey": "alt-t",
   "langInMainMenu": true,
   "sourceLang": "en",
   "targetLang": "fr",
   "useGoogleTranslate": true
  },
  "toc": {
   "base_numbering": 1,
   "nav_menu": {},
   "number_sections": true,
   "sideBar": true,
   "skip_h1_title": true,
   "title_cell": "Table of Contents",
   "title_sidebar": "Contents",
   "toc_cell": true,
   "toc_position": {},
   "toc_section_display": true,
   "toc_window_display": false
  }
 },
 "nbformat": 4,
 "nbformat_minor": 4
}
