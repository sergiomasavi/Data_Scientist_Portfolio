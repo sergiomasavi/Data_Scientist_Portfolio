{
 "cells": [
  {
   "cell_type": "markdown",
   "metadata": {},
   "source": [
    "<img src=\"Tarjeta.png\">"
   ]
  },
  {
   "cell_type": "markdown",
   "metadata": {
    "toc": true
   },
   "source": [
    "<h1>Table of Contents<span class=\"tocSkip\"></span></h1>\n",
    "<div class=\"toc\"><ul class=\"toc-item\"><li><span><a href=\"#Importación-de-librerías\" data-toc-modified-id=\"Importación-de-librerías-1\"><span class=\"toc-item-num\">1&nbsp;&nbsp;</span>Importación de librerías</a></span></li><li><span><a href=\"#Importación-de-datos\" data-toc-modified-id=\"Importación-de-datos-2\"><span class=\"toc-item-num\">2&nbsp;&nbsp;</span>Importación de datos</a></span></li><li><span><a href=\"#MLC2:-Data-Understanding\" data-toc-modified-id=\"MLC2:-Data-Understanding-3\"><span class=\"toc-item-num\">3&nbsp;&nbsp;</span>MLC2: Data Understanding</a></span><ul class=\"toc-item\"><li><span><a href=\"#MLC2.1:-Análisis-Univariante-de-datos\" data-toc-modified-id=\"MLC2.1:-Análisis-Univariante-de-datos-3.1\"><span class=\"toc-item-num\">3.1&nbsp;&nbsp;</span>MLC2.1: Análisis Univariante de datos</a></span><ul class=\"toc-item\"><li><span><a href=\"#1.-Tamaño-del-dataset\" data-toc-modified-id=\"1.-Tamaño-del-dataset-3.1.1\"><span class=\"toc-item-num\">3.1.1&nbsp;&nbsp;</span>1. Tamaño del dataset</a></span></li><li><span><a href=\"#2.-Visualización-directa-de-los-datos\" data-toc-modified-id=\"2.-Visualización-directa-de-los-datos-3.1.2\"><span class=\"toc-item-num\">3.1.2&nbsp;&nbsp;</span>2. Visualización directa de los datos</a></span></li><li><span><a href=\"#3.-Tipo-de-atributos-disponibles\" data-toc-modified-id=\"3.-Tipo-de-atributos-disponibles-3.1.3\"><span class=\"toc-item-num\">3.1.3&nbsp;&nbsp;</span>3. Tipo de atributos disponibles</a></span></li><li><span><a href=\"#4.-Estadísticos-descriptivos\" data-toc-modified-id=\"4.-Estadísticos-descriptivos-3.1.4\"><span class=\"toc-item-num\">3.1.4&nbsp;&nbsp;</span>4. Estadísticos descriptivos</a></span></li><li><span><a href=\"#5.-Número-de-valores-nulos\" data-toc-modified-id=\"5.-Número-de-valores-nulos-3.1.5\"><span class=\"toc-item-num\">3.1.5&nbsp;&nbsp;</span>5. Número de valores nulos</a></span></li><li><span><a href=\"#6.-Distribución-de-los-valores-del-target\" data-toc-modified-id=\"6.-Distribución-de-los-valores-del-target-3.1.6\"><span class=\"toc-item-num\">3.1.6&nbsp;&nbsp;</span>6. Distribución de los valores del target</a></span></li><li><span><a href=\"#7-a-9.-Distribución-de-variables-y-correlación-con-el-target\" data-toc-modified-id=\"7-a-9.-Distribución-de-variables-y-correlación-con-el-target-3.1.7\"><span class=\"toc-item-num\">3.1.7&nbsp;&nbsp;</span>7 a 9. Distribución de variables y correlación con el target</a></span></li><li><span><a href=\"#Exploramos-las-variables-de-fecha\" data-toc-modified-id=\"Exploramos-las-variables-de-fecha-3.1.8\"><span class=\"toc-item-num\">3.1.8&nbsp;&nbsp;</span>Exploramos las variables de fecha</a></span></li><li><span><a href=\"#Estado-de-origen\" data-toc-modified-id=\"Estado-de-origen-3.1.9\"><span class=\"toc-item-num\">3.1.9&nbsp;&nbsp;</span>Estado de origen</a></span></li></ul></li></ul></li><li><span><a href=\"#MLC3:-Data-Preparation\" data-toc-modified-id=\"MLC3:-Data-Preparation-4\"><span class=\"toc-item-num\">4&nbsp;&nbsp;</span>MLC3: Data Preparation</a></span><ul class=\"toc-item\"><li><span><a href=\"#MLC3.1:-Limpieza-de-atributos\" data-toc-modified-id=\"MLC3.1:-Limpieza-de-atributos-4.1\"><span class=\"toc-item-num\">4.1&nbsp;&nbsp;</span>MLC3.1: Limpieza de atributos</a></span><ul class=\"toc-item\"><li><span><a href=\"#Transformación-de-variables\" data-toc-modified-id=\"Transformación-de-variables-4.1.1\"><span class=\"toc-item-num\">4.1.1&nbsp;&nbsp;</span>Transformación de variables</a></span><ul class=\"toc-item\"><li><span><a href=\"#Númericas-a-categóricas\" data-toc-modified-id=\"Númericas-a-categóricas-4.1.1.1\"><span class=\"toc-item-num\">4.1.1.1&nbsp;&nbsp;</span>Númericas a categóricas</a></span></li></ul></li><li><span><a href=\"#Imputación-de-nulos\" data-toc-modified-id=\"Imputación-de-nulos-4.1.2\"><span class=\"toc-item-num\">4.1.2&nbsp;&nbsp;</span>Imputación de nulos</a></span><ul class=\"toc-item\"><li><span><a href=\"#Categóricas\" data-toc-modified-id=\"Categóricas-4.1.2.1\"><span class=\"toc-item-num\">4.1.2.1&nbsp;&nbsp;</span>Categóricas</a></span></li><li><span><a href=\"#Numéricas\" data-toc-modified-id=\"Numéricas-4.1.2.2\"><span class=\"toc-item-num\">4.1.2.2&nbsp;&nbsp;</span>Numéricas</a></span></li></ul></li><li><span><a href=\"#Eliminación-de-atributos-de-baja-varianza\" data-toc-modified-id=\"Eliminación-de-atributos-de-baja-varianza-4.1.3\"><span class=\"toc-item-num\">4.1.3&nbsp;&nbsp;</span>Eliminación de atributos de baja varianza</a></span></li><li><span><a href=\"#Variables-de-fecha\" data-toc-modified-id=\"Variables-de-fecha-4.1.4\"><span class=\"toc-item-num\">4.1.4&nbsp;&nbsp;</span>Variables de fecha</a></span></li><li><span><a href=\"#Tratamiento-de-variables-categóricas\" data-toc-modified-id=\"Tratamiento-de-variables-categóricas-4.1.5\"><span class=\"toc-item-num\">4.1.5&nbsp;&nbsp;</span>Tratamiento de variables categóricas</a></span></li><li><span><a href=\"#Frequency-encoding-de-la-variable-Tail-Number\" data-toc-modified-id=\"Frequency-encoding-de-la-variable-Tail-Number-4.1.6\"><span class=\"toc-item-num\">4.1.6&nbsp;&nbsp;</span>Frequency encoding de la variable Tail Number</a></span></li><li><span><a href=\"#One-hot-encoding-for-ORIGIN\" data-toc-modified-id=\"One-hot-encoding-for-ORIGIN-4.1.7\"><span class=\"toc-item-num\">4.1.7&nbsp;&nbsp;</span>One-hot-encoding for ORIGIN</a></span></li><li><span><a href=\"#One-hot-encoding-for-CITY-ORIGIN\" data-toc-modified-id=\"One-hot-encoding-for-CITY-ORIGIN-4.1.8\"><span class=\"toc-item-num\">4.1.8&nbsp;&nbsp;</span>One-hot-encoding for CITY ORIGIN</a></span></li><li><span><a href=\"#One-hot-encoding-for-STATE-ORIGIN\" data-toc-modified-id=\"One-hot-encoding-for-STATE-ORIGIN-4.1.9\"><span class=\"toc-item-num\">4.1.9&nbsp;&nbsp;</span>One-hot-encoding for STATE ORIGIN</a></span></li><li><span><a href=\"#One-hot-encoding-for-Aerolinea\" data-toc-modified-id=\"One-hot-encoding-for-Aerolinea-4.1.10\"><span class=\"toc-item-num\">4.1.10&nbsp;&nbsp;</span>One-hot-encoding for Aerolinea</a></span></li><li><span><a href=\"#Resultado\" data-toc-modified-id=\"Resultado-4.1.11\"><span class=\"toc-item-num\">4.1.11&nbsp;&nbsp;</span>Resultado</a></span></li></ul></li></ul></li><li><span><a href=\"#MLC4.-Modelling\" data-toc-modified-id=\"MLC4.-Modelling-5\"><span class=\"toc-item-num\">5&nbsp;&nbsp;</span>MLC4. Modelling</a></span><ul class=\"toc-item\"><li><span><a href=\"#MLC4.1:-Train-/-Test-Split\" data-toc-modified-id=\"MLC4.1:-Train-/-Test-Split-5.1\"><span class=\"toc-item-num\">5.1&nbsp;&nbsp;</span>MLC4.1: Train / Test Split</a></span><ul class=\"toc-item\"><li><span><a href=\"#Generación-de-la-partición-de-validación\" data-toc-modified-id=\"Generación-de-la-partición-de-validación-5.1.1\"><span class=\"toc-item-num\">5.1.1&nbsp;&nbsp;</span>Generación de la partición de validación</a></span></li><li><span><a href=\"#Random-Holdout\" data-toc-modified-id=\"Random-Holdout-5.1.2\"><span class=\"toc-item-num\">5.1.2&nbsp;&nbsp;</span>Random Holdout</a></span></li></ul></li><li><span><a href=\"#MLC4.2:-Model-definition\" data-toc-modified-id=\"MLC4.2:-Model-definition-5.2\"><span class=\"toc-item-num\">5.2&nbsp;&nbsp;</span>MLC4.2: Model definition</a></span><ul class=\"toc-item\"><li><span><a href=\"#Import-scikits\" data-toc-modified-id=\"Import-scikits-5.2.1\"><span class=\"toc-item-num\">5.2.1&nbsp;&nbsp;</span>Import scikits</a></span></li></ul></li><li><span><a href=\"#MLC4.3:-Model-evaluation\" data-toc-modified-id=\"MLC4.3:-Model-evaluation-5.3\"><span class=\"toc-item-num\">5.3&nbsp;&nbsp;</span>MLC4.3: Model evaluation</a></span><ul class=\"toc-item\"><li><span><a href=\"#Opción-1:-a-través-de-los-resultados\" data-toc-modified-id=\"Opción-1:-a-través-de-los-resultados-5.3.1\"><span class=\"toc-item-num\">5.3.1&nbsp;&nbsp;</span>Opción 1: a través de los resultados</a></span></li><li><span><a href=\"#Opción-2:-a-través-de-la-matriz-de-confusión\" data-toc-modified-id=\"Opción-2:-a-través-de-la-matriz-de-confusión-5.3.2\"><span class=\"toc-item-num\">5.3.2&nbsp;&nbsp;</span>Opción 2: a través de la matriz de confusión</a></span></li><li><span><a href=\"#Opción-3:-Usando-el-módulo-metrics\" data-toc-modified-id=\"Opción-3:-Usando-el-módulo-metrics-5.3.3\"><span class=\"toc-item-num\">5.3.3&nbsp;&nbsp;</span>Opción 3: Usando el módulo metrics</a></span></li><li><span><a href=\"#Opción-4:-Usando-el-modelo\" data-toc-modified-id=\"Opción-4:-Usando-el-modelo-5.3.4\"><span class=\"toc-item-num\">5.3.4&nbsp;&nbsp;</span>Opción 4: Usando el modelo</a></span></li><li><span><a href=\"#Validación-por-mes\" data-toc-modified-id=\"Validación-por-mes-5.3.5\"><span class=\"toc-item-num\">5.3.5&nbsp;&nbsp;</span>Validación por mes</a></span></li><li><span><a href=\"#Otro-elemento-interesante-es-evaluar-el-modelo-de-forma-probabilista,-obteniendo-los-scorings-y-no-el-valor-de-predicción\" data-toc-modified-id=\"Otro-elemento-interesante-es-evaluar-el-modelo-de-forma-probabilista,-obteniendo-los-scorings-y-no-el-valor-de-predicción-5.3.6\"><span class=\"toc-item-num\">5.3.6&nbsp;&nbsp;</span>Otro elemento interesante es evaluar el modelo de forma probabilista, obteniendo los scorings y no el valor de predicción</a></span></li><li><span><a href=\"#Prueba-de-diversas-estrategias-de-validación\" data-toc-modified-id=\"Prueba-de-diversas-estrategias-de-validación-5.3.7\"><span class=\"toc-item-num\">5.3.7&nbsp;&nbsp;</span>Prueba de diversas estrategias de validación</a></span></li><li><span><a href=\"#Vamos-a-probar-con-algún-parámetro-para-ver-como-modifican-el-sobreajuste.\" data-toc-modified-id=\"Vamos-a-probar-con-algún-parámetro-para-ver-como-modifican-el-sobreajuste.-5.3.8\"><span class=\"toc-item-num\">5.3.8&nbsp;&nbsp;</span>Vamos a probar con algún parámetro para ver como modifican el sobreajuste.</a></span></li><li><span><a href=\"#Podemos-medir-la-efectividad-en-el-conjunto-de-validación-del-mejor-estimador\" data-toc-modified-id=\"Podemos-medir-la-efectividad-en-el-conjunto-de-validación-del-mejor-estimador-5.3.9\"><span class=\"toc-item-num\">5.3.9&nbsp;&nbsp;</span>Podemos medir la efectividad en el conjunto de validación del mejor estimador</a></span></li><li><span><a href=\"#Podemos-evaluar-otras-opciones-de-métrica-como-el-F1\" data-toc-modified-id=\"Podemos-evaluar-otras-opciones-de-métrica-como-el-F1-5.3.10\"><span class=\"toc-item-num\">5.3.10&nbsp;&nbsp;</span>Podemos evaluar otras opciones de métrica como el F1</a></span></li><li><span><a href=\"#O-la-curva-de-ROC\" data-toc-modified-id=\"O-la-curva-de-ROC-5.3.11\"><span class=\"toc-item-num\">5.3.11&nbsp;&nbsp;</span>O la curva de ROC</a></span></li><li><span><a href=\"#Podemos-probar-el-k-fold-como-estrategia-de-validación\" data-toc-modified-id=\"Podemos-probar-el-k-fold-como-estrategia-de-validación-5.3.12\"><span class=\"toc-item-num\">5.3.12&nbsp;&nbsp;</span>Podemos probar el k-fold como estrategia de validación</a></span></li></ul></li><li><span><a href=\"#Evaluación-de-modelos-alternativos\" data-toc-modified-id=\"Evaluación-de-modelos-alternativos-5.4\"><span class=\"toc-item-num\">5.4&nbsp;&nbsp;</span>Evaluación de modelos alternativos</a></span></li><li><span><a href=\"#Comparación-de-modelos\" data-toc-modified-id=\"Comparación-de-modelos-5.5\"><span class=\"toc-item-num\">5.5&nbsp;&nbsp;</span>Comparación de modelos</a></span></li></ul></li></ul></div>"
   ]
  },
  {
   "cell_type": "markdown",
   "metadata": {
    "id": "KJLMKhfNvWck"
   },
   "source": [
    "# JFK Flights - Delay prediction"
   ]
  },
  {
   "cell_type": "markdown",
   "metadata": {
    "id": "8jjfq0rfvWco"
   },
   "source": [
    "Cuando solíamos viajar, un problema frecuente al llegar al aeropuerto era encontrarnos que nuestro vuelo se había retrasado. Este es también un grave problema para los controladores aereos que deben reprogramar los aterrizajes.\n",
    "\n",
    "El departamento de transporte de Estados Unidos (USDT) nos ha contratado como expertos Data Scientist para ayudarles a mitigar este problema y nos han pedido que desarrollemos un modelo que permita predecir la probabilidad de que un vuelo se retrase."
   ]
  },
  {
   "cell_type": "markdown",
   "metadata": {
    "id": "ACC4O1devWcp"
   },
   "source": [
    "Como primer ejercicio del módulo, vamos a desarrollar un modelo capaz de **predecir si un avión llegará al aeropuerto JFK de Nueva York con más de 15 minutos de retraso**."
   ]
  },
  {
   "cell_type": "code",
   "execution_count": 1,
   "metadata": {
    "ExecuteTime": {
     "end_time": "2021-09-19T02:48:45.000431Z",
     "start_time": "2021-09-19T02:48:44.979252Z"
    },
    "colab": {
     "base_uri": "https://localhost:8080/",
     "height": 431
    },
    "id": "TAHD-OCNvWcp",
    "outputId": "261142de-7cc2-4831-96a3-fa456a21f9df"
   },
   "outputs": [
    {
     "data": {
      "text/html": [
       "<img src=\"https://nypost.com/wp-content/uploads/sites/2/2018/01/gettyimages-863832762.jpg?quality=80&strip=all&w=618&h=410&crop=1\"/>"
      ],
      "text/plain": [
       "<IPython.core.display.Image object>"
      ]
     },
     "execution_count": 1,
     "metadata": {},
     "output_type": "execute_result"
    }
   ],
   "source": [
    "from IPython.display import Image\n",
    "Image(url='https://nypost.com/wp-content/uploads/sites/2/2018/01/gettyimages-863832762.jpg?quality=80&strip=all&w=618&h=410&crop=1')  "
   ]
  },
  {
   "cell_type": "markdown",
   "metadata": {
    "id": "CbI3F9-CvWcr"
   },
   "source": [
    "Para ello, nos han proporcionado los datos de todos los vuelos con destino al aeropuerto JFK de Nueva York, que servirán para desarrollar un modelo piloto de predicción de retraso en los vuelos. Si este modelo es efectivo, USDT nos ha asegurado que contratará nuestros servicios para implantar el modelo a escala nacional!"
   ]
  },
  {
   "cell_type": "markdown",
   "metadata": {
    "id": "JOnZta7evWcr"
   },
   "source": [
    "## Importación de librerías "
   ]
  },
  {
   "cell_type": "markdown",
   "metadata": {
    "id": "HCtNmBivvWcr"
   },
   "source": [
    "En primer lugar, debemos importar las 4 librerías básicas utilizadas en Machine Learning: \n",
    "1. **Numpy**: soporte para vectores y matrices (numpy Arrays), sobre el que se apoya pandas\n",
    "2. **Pandas**: soporte para Series y DataFrames y funciones de análisis de datos\n",
    "3. **Matplotlib**: librería de gráficos sobre la que se apoya Seaborn y las funciones de visualización de pandas\n",
    "4. **Seaborn**: librería de *easy ploting*\n",
    "\n",
    "Aprovecharemos también para gestionar la visualización en linea (*%matplotlib inline*), los estilos gráficos (*plot style: ggplot*) y la visualización de pandas (*max_rows* y *format*)."
   ]
  },
  {
   "cell_type": "code",
   "execution_count": 2,
   "metadata": {
    "ExecuteTime": {
     "end_time": "2021-09-19T02:48:46.138301Z",
     "start_time": "2021-09-19T02:48:45.079437Z"
    },
    "id": "SQ9SzFrRvWcs"
   },
   "outputs": [],
   "source": [
    "import numpy as np # linear algebra\n",
    "import pandas as pd # data processing, CSV file I/O (e.g. pd.read_csv)\n",
    "\n",
    "# import libraries for plotting\n",
    "import matplotlib.pyplot as plt\n",
    "import seaborn as sns\n",
    "# from matplotlib import pyplot as plt\n",
    "%matplotlib inline\n",
    "plt.style.use('ggplot')\n",
    "pd.set_option('display.max_rows', 500)\n",
    "pd.options.display.float_format = '{:,.2f}'.format"
   ]
  },
  {
   "cell_type": "markdown",
   "metadata": {
    "id": "0yMhYsgpvWcs"
   },
   "source": [
    "También cargaremos todas las funciones de preprocesamientoo de scikit-learn, contenidas en el **scikit preprocessing**."
   ]
  },
  {
   "cell_type": "code",
   "execution_count": 3,
   "metadata": {
    "ExecuteTime": {
     "end_time": "2021-09-19T02:48:46.307117Z",
     "start_time": "2021-09-19T02:48:46.140362Z"
    },
    "id": "1oXB8lgAvWct"
   },
   "outputs": [],
   "source": [
    "from sklearn import preprocessing"
   ]
  },
  {
   "cell_type": "markdown",
   "metadata": {
    "id": "4yumLvgkvWct"
   },
   "source": [
    "Y aprovecharemos para comprobar la **versión instalada de scikit-learn**."
   ]
  },
  {
   "cell_type": "code",
   "execution_count": 4,
   "metadata": {
    "ExecuteTime": {
     "end_time": "2021-09-19T02:48:46.310193Z",
     "start_time": "2021-09-19T02:48:46.308004Z"
    },
    "colab": {
     "base_uri": "https://localhost:8080/"
    },
    "id": "mw_kn8XnvWcu",
    "outputId": "80c9a9cf-882e-4f31-92b8-b97e1a682cc7"
   },
   "outputs": [
    {
     "name": "stdout",
     "output_type": "stream",
     "text": [
      "La versión instalada de scikit-learn es 0.24.1.\n"
     ]
    }
   ],
   "source": [
    "from sklearn import __version__ as sklearn_version\n",
    "print('La versión instalada de scikit-learn es {}.'.format(sklearn_version))"
   ]
  },
  {
   "cell_type": "markdown",
   "metadata": {
    "id": "8SzH9E8VvWcu"
   },
   "source": [
    "## Importación de datos "
   ]
  },
  {
   "cell_type": "markdown",
   "metadata": {
    "id": "i4siao5uvWcv"
   },
   "source": [
    "Antes de empezar a repasar la Machine Learning Checklist, importatemos el DataSet de trabajo (**JFKFlights**). Este Dataset se encuentra publicado en la página oficial del Departamento de transporte de Estados Unidos , aunque para facilitar el trabajo lo hemos trasladado a un link de descarga en internet (repositorio público en GitHub)."
   ]
  },
  {
   "cell_type": "code",
   "execution_count": 5,
   "metadata": {
    "ExecuteTime": {
     "end_time": "2021-09-19T02:48:46.313289Z",
     "start_time": "2021-09-19T02:48:46.311587Z"
    },
    "id": "HKT6BYjBvWcv"
   },
   "outputs": [],
   "source": [
    "url1 = 'https://bit.ly/3bf6QNP'"
   ]
  },
  {
   "cell_type": "code",
   "execution_count": 6,
   "metadata": {
    "ExecuteTime": {
     "end_time": "2021-09-19T02:48:46.315680Z",
     "start_time": "2021-09-19T02:48:46.314081Z"
    },
    "id": "A6deP65ZvWcv"
   },
   "outputs": [],
   "source": [
    "url2 = 'https://bit.ly/3kLR2p3'"
   ]
  },
  {
   "cell_type": "markdown",
   "metadata": {
    "id": "XIxJVEiUvWcv"
   },
   "source": [
    "Recordad que para consultar cualquier método, en Jupyter podemos utilizar los accesores \"?\" y \"??\", que muestran en una nueva ventana la documentación que haya escrita y el código cuando éste no es privado."
   ]
  },
  {
   "cell_type": "code",
   "execution_count": 7,
   "metadata": {
    "ExecuteTime": {
     "end_time": "2021-09-19T02:48:46.356750Z",
     "start_time": "2021-09-19T02:48:46.316466Z"
    },
    "id": "lf4VyhAwvWcw"
   },
   "outputs": [],
   "source": [
    "pd.read_csv?"
   ]
  },
  {
   "cell_type": "code",
   "execution_count": 8,
   "metadata": {
    "ExecuteTime": {
     "end_time": "2021-09-19T02:48:47.785013Z",
     "start_time": "2021-09-19T02:48:46.357898Z"
    },
    "id": "C_FEIPSAvWcw"
   },
   "outputs": [],
   "source": [
    "df1 = pd.read_csv(url1,index_col=0)"
   ]
  },
  {
   "cell_type": "code",
   "execution_count": 9,
   "metadata": {
    "ExecuteTime": {
     "end_time": "2021-09-19T02:48:47.796939Z",
     "start_time": "2021-09-19T02:48:47.785943Z"
    },
    "colab": {
     "base_uri": "https://localhost:8080/",
     "height": 309
    },
    "id": "BzeofbgJvWcw",
    "outputId": "d4cc959e-a1fe-4479-c4a7-6ee50ba54e01"
   },
   "outputs": [
    {
     "data": {
      "text/html": [
       "<div>\n",
       "<style scoped>\n",
       "    .dataframe tbody tr th:only-of-type {\n",
       "        vertical-align: middle;\n",
       "    }\n",
       "\n",
       "    .dataframe tbody tr th {\n",
       "        vertical-align: top;\n",
       "    }\n",
       "\n",
       "    .dataframe thead th {\n",
       "        text-align: right;\n",
       "    }\n",
       "</style>\n",
       "<table border=\"1\" class=\"dataframe\">\n",
       "  <thead>\n",
       "    <tr style=\"text-align: right;\">\n",
       "      <th></th>\n",
       "      <th>FL_DATE</th>\n",
       "      <th>OP_CARRIER_AIRLINE_ID</th>\n",
       "      <th>TAIL_NUM</th>\n",
       "      <th>ORIGIN</th>\n",
       "      <th>ORIGIN_CITY_NAME</th>\n",
       "      <th>ORIGIN_STATE_NM</th>\n",
       "      <th>DEST</th>\n",
       "      <th>DEST_CITY_NAME</th>\n",
       "      <th>DEST_STATE_NM</th>\n",
       "      <th>CRS_DEP_TIME</th>\n",
       "      <th>TAXI_OUT</th>\n",
       "      <th>CRS_ARR_TIME</th>\n",
       "      <th>ARR_DEL15</th>\n",
       "      <th>CRS_ELAPSED_TIME</th>\n",
       "      <th>DISTANCE</th>\n",
       "    </tr>\n",
       "  </thead>\n",
       "  <tbody>\n",
       "    <tr>\n",
       "      <th>0</th>\n",
       "      <td>2018-02-01</td>\n",
       "      <td>20,363.00</td>\n",
       "      <td>N299PQ</td>\n",
       "      <td>BNA</td>\n",
       "      <td>Nashville, TN</td>\n",
       "      <td>Tennessee</td>\n",
       "      <td>JFK</td>\n",
       "      <td>New York, NY</td>\n",
       "      <td>New York</td>\n",
       "      <td>1359</td>\n",
       "      <td>27.00</td>\n",
       "      <td>1719</td>\n",
       "      <td>0.00</td>\n",
       "      <td>140.00</td>\n",
       "      <td>765.00</td>\n",
       "    </tr>\n",
       "    <tr>\n",
       "      <th>1</th>\n",
       "      <td>2018-02-01</td>\n",
       "      <td>20,363.00</td>\n",
       "      <td>N920XJ</td>\n",
       "      <td>RDU</td>\n",
       "      <td>Raleigh/Durham, NC</td>\n",
       "      <td>North Carolina</td>\n",
       "      <td>JFK</td>\n",
       "      <td>New York, NY</td>\n",
       "      <td>New York</td>\n",
       "      <td>1354</td>\n",
       "      <td>37.00</td>\n",
       "      <td>1541</td>\n",
       "      <td>0.00</td>\n",
       "      <td>107.00</td>\n",
       "      <td>427.00</td>\n",
       "    </tr>\n",
       "    <tr>\n",
       "      <th>2</th>\n",
       "      <td>2018-02-01</td>\n",
       "      <td>20,363.00</td>\n",
       "      <td>N605LR</td>\n",
       "      <td>BUF</td>\n",
       "      <td>Buffalo, NY</td>\n",
       "      <td>New York</td>\n",
       "      <td>JFK</td>\n",
       "      <td>New York, NY</td>\n",
       "      <td>New York</td>\n",
       "      <td>1529</td>\n",
       "      <td>21.00</td>\n",
       "      <td>1709</td>\n",
       "      <td>0.00</td>\n",
       "      <td>100.00</td>\n",
       "      <td>301.00</td>\n",
       "    </tr>\n",
       "    <tr>\n",
       "      <th>3</th>\n",
       "      <td>2018-02-01</td>\n",
       "      <td>20,363.00</td>\n",
       "      <td>N800AY</td>\n",
       "      <td>ORF</td>\n",
       "      <td>Norfolk, VA</td>\n",
       "      <td>Virginia</td>\n",
       "      <td>JFK</td>\n",
       "      <td>New York, NY</td>\n",
       "      <td>New York</td>\n",
       "      <td>1704</td>\n",
       "      <td>36.00</td>\n",
       "      <td>1845</td>\n",
       "      <td>0.00</td>\n",
       "      <td>101.00</td>\n",
       "      <td>290.00</td>\n",
       "    </tr>\n",
       "    <tr>\n",
       "      <th>4</th>\n",
       "      <td>2018-02-01</td>\n",
       "      <td>20,363.00</td>\n",
       "      <td>N600LR</td>\n",
       "      <td>BOS</td>\n",
       "      <td>Boston, MA</td>\n",
       "      <td>Massachusetts</td>\n",
       "      <td>JFK</td>\n",
       "      <td>New York, NY</td>\n",
       "      <td>New York</td>\n",
       "      <td>1325</td>\n",
       "      <td>20.00</td>\n",
       "      <td>1454</td>\n",
       "      <td>0.00</td>\n",
       "      <td>89.00</td>\n",
       "      <td>187.00</td>\n",
       "    </tr>\n",
       "  </tbody>\n",
       "</table>\n",
       "</div>"
      ],
      "text/plain": [
       "      FL_DATE  OP_CARRIER_AIRLINE_ID TAIL_NUM ORIGIN    ORIGIN_CITY_NAME  \\\n",
       "0  2018-02-01              20,363.00   N299PQ    BNA       Nashville, TN   \n",
       "1  2018-02-01              20,363.00   N920XJ    RDU  Raleigh/Durham, NC   \n",
       "2  2018-02-01              20,363.00   N605LR    BUF         Buffalo, NY   \n",
       "3  2018-02-01              20,363.00   N800AY    ORF         Norfolk, VA   \n",
       "4  2018-02-01              20,363.00   N600LR    BOS          Boston, MA   \n",
       "\n",
       "  ORIGIN_STATE_NM DEST DEST_CITY_NAME DEST_STATE_NM  CRS_DEP_TIME  TAXI_OUT  \\\n",
       "0       Tennessee  JFK   New York, NY      New York          1359     27.00   \n",
       "1  North Carolina  JFK   New York, NY      New York          1354     37.00   \n",
       "2        New York  JFK   New York, NY      New York          1529     21.00   \n",
       "3        Virginia  JFK   New York, NY      New York          1704     36.00   \n",
       "4   Massachusetts  JFK   New York, NY      New York          1325     20.00   \n",
       "\n",
       "   CRS_ARR_TIME  ARR_DEL15  CRS_ELAPSED_TIME  DISTANCE  \n",
       "0          1719       0.00            140.00    765.00  \n",
       "1          1541       0.00            107.00    427.00  \n",
       "2          1709       0.00            100.00    301.00  \n",
       "3          1845       0.00            101.00    290.00  \n",
       "4          1454       0.00             89.00    187.00  "
      ]
     },
     "execution_count": 9,
     "metadata": {},
     "output_type": "execute_result"
    }
   ],
   "source": [
    "df1.head()"
   ]
  },
  {
   "cell_type": "code",
   "execution_count": 10,
   "metadata": {
    "ExecuteTime": {
     "end_time": "2021-09-19T02:48:49.621348Z",
     "start_time": "2021-09-19T02:48:47.797973Z"
    },
    "colab": {
     "base_uri": "https://localhost:8080/"
    },
    "id": "_SUfE_dZvWcx",
    "outputId": "6335506b-1166-4393-f240-ffb86ed5d8d4"
   },
   "outputs": [
    {
     "name": "stdout",
     "output_type": "stream",
     "text": [
      "CPU times: user 279 ms, sys: 60 ms, total: 339 ms\n",
      "Wall time: 1.82 s\n"
     ]
    }
   ],
   "source": [
    "%%time\n",
    "df2 = pd.read_csv(url2, index_col = 0)"
   ]
  },
  {
   "cell_type": "code",
   "execution_count": 11,
   "metadata": {
    "ExecuteTime": {
     "end_time": "2021-09-19T02:48:49.631868Z",
     "start_time": "2021-09-19T02:48:49.623866Z"
    },
    "colab": {
     "base_uri": "https://localhost:8080/",
     "height": 309
    },
    "id": "BywKdm2avWcx",
    "outputId": "75278257-d4d8-49a7-c7c6-264e0e595a7d"
   },
   "outputs": [
    {
     "data": {
      "text/html": [
       "<div>\n",
       "<style scoped>\n",
       "    .dataframe tbody tr th:only-of-type {\n",
       "        vertical-align: middle;\n",
       "    }\n",
       "\n",
       "    .dataframe tbody tr th {\n",
       "        vertical-align: top;\n",
       "    }\n",
       "\n",
       "    .dataframe thead th {\n",
       "        text-align: right;\n",
       "    }\n",
       "</style>\n",
       "<table border=\"1\" class=\"dataframe\">\n",
       "  <thead>\n",
       "    <tr style=\"text-align: right;\">\n",
       "      <th></th>\n",
       "      <th>FL_DATE</th>\n",
       "      <th>OP_CARRIER_AIRLINE_ID</th>\n",
       "      <th>TAIL_NUM</th>\n",
       "      <th>ORIGIN</th>\n",
       "      <th>ORIGIN_CITY_NAME</th>\n",
       "      <th>ORIGIN_STATE_NM</th>\n",
       "      <th>DEST</th>\n",
       "      <th>DEST_CITY_NAME</th>\n",
       "      <th>DEST_STATE_NM</th>\n",
       "      <th>CRS_DEP_TIME</th>\n",
       "      <th>TAXI_OUT</th>\n",
       "      <th>CRS_ARR_TIME</th>\n",
       "      <th>ARR_DEL15</th>\n",
       "      <th>CRS_ELAPSED_TIME</th>\n",
       "      <th>DISTANCE</th>\n",
       "    </tr>\n",
       "  </thead>\n",
       "  <tbody>\n",
       "    <tr>\n",
       "      <th>100000</th>\n",
       "      <td>2019-08-23</td>\n",
       "      <td>20,363.00</td>\n",
       "      <td>N605LR</td>\n",
       "      <td>IND</td>\n",
       "      <td>Indianapolis, IN</td>\n",
       "      <td>Indiana</td>\n",
       "      <td>JFK</td>\n",
       "      <td>New York, NY</td>\n",
       "      <td>New York</td>\n",
       "      <td>1922</td>\n",
       "      <td>13.00</td>\n",
       "      <td>2145</td>\n",
       "      <td>0.00</td>\n",
       "      <td>143.00</td>\n",
       "      <td>665.00</td>\n",
       "    </tr>\n",
       "    <tr>\n",
       "      <th>100001</th>\n",
       "      <td>2019-08-23</td>\n",
       "      <td>20,363.00</td>\n",
       "      <td>N604LR</td>\n",
       "      <td>BNA</td>\n",
       "      <td>Nashville, TN</td>\n",
       "      <td>Tennessee</td>\n",
       "      <td>JFK</td>\n",
       "      <td>New York, NY</td>\n",
       "      <td>New York</td>\n",
       "      <td>1031</td>\n",
       "      <td>NaN</td>\n",
       "      <td>1415</td>\n",
       "      <td>0.00</td>\n",
       "      <td>164.00</td>\n",
       "      <td>765.00</td>\n",
       "    </tr>\n",
       "    <tr>\n",
       "      <th>100002</th>\n",
       "      <td>2019-08-23</td>\n",
       "      <td>20,363.00</td>\n",
       "      <td>N601LR</td>\n",
       "      <td>PIT</td>\n",
       "      <td>Pittsburgh, PA</td>\n",
       "      <td>Pennsylvania</td>\n",
       "      <td>JFK</td>\n",
       "      <td>New York, NY</td>\n",
       "      <td>New York</td>\n",
       "      <td>1718</td>\n",
       "      <td>18.00</td>\n",
       "      <td>1854</td>\n",
       "      <td>0.00</td>\n",
       "      <td>96.00</td>\n",
       "      <td>340.00</td>\n",
       "    </tr>\n",
       "    <tr>\n",
       "      <th>100003</th>\n",
       "      <td>2019-08-23</td>\n",
       "      <td>19,805.00</td>\n",
       "      <td>N857NN</td>\n",
       "      <td>PHX</td>\n",
       "      <td>Phoenix, AZ</td>\n",
       "      <td>Arizona</td>\n",
       "      <td>JFK</td>\n",
       "      <td>New York, NY</td>\n",
       "      <td>New York</td>\n",
       "      <td>1218</td>\n",
       "      <td>22.00</td>\n",
       "      <td>2029</td>\n",
       "      <td>0.00</td>\n",
       "      <td>311.00</td>\n",
       "      <td>2,153.00</td>\n",
       "    </tr>\n",
       "    <tr>\n",
       "      <th>100004</th>\n",
       "      <td>2019-08-23</td>\n",
       "      <td>20,398.00</td>\n",
       "      <td>N852AE</td>\n",
       "      <td>PIT</td>\n",
       "      <td>Pittsburgh, PA</td>\n",
       "      <td>Pennsylvania</td>\n",
       "      <td>JFK</td>\n",
       "      <td>New York, NY</td>\n",
       "      <td>New York</td>\n",
       "      <td>1401</td>\n",
       "      <td>11.00</td>\n",
       "      <td>1544</td>\n",
       "      <td>0.00</td>\n",
       "      <td>103.00</td>\n",
       "      <td>340.00</td>\n",
       "    </tr>\n",
       "  </tbody>\n",
       "</table>\n",
       "</div>"
      ],
      "text/plain": [
       "           FL_DATE  OP_CARRIER_AIRLINE_ID TAIL_NUM ORIGIN  ORIGIN_CITY_NAME  \\\n",
       "100000  2019-08-23              20,363.00   N605LR    IND  Indianapolis, IN   \n",
       "100001  2019-08-23              20,363.00   N604LR    BNA     Nashville, TN   \n",
       "100002  2019-08-23              20,363.00   N601LR    PIT    Pittsburgh, PA   \n",
       "100003  2019-08-23              19,805.00   N857NN    PHX       Phoenix, AZ   \n",
       "100004  2019-08-23              20,398.00   N852AE    PIT    Pittsburgh, PA   \n",
       "\n",
       "       ORIGIN_STATE_NM DEST DEST_CITY_NAME DEST_STATE_NM  CRS_DEP_TIME  \\\n",
       "100000         Indiana  JFK   New York, NY      New York          1922   \n",
       "100001       Tennessee  JFK   New York, NY      New York          1031   \n",
       "100002    Pennsylvania  JFK   New York, NY      New York          1718   \n",
       "100003         Arizona  JFK   New York, NY      New York          1218   \n",
       "100004    Pennsylvania  JFK   New York, NY      New York          1401   \n",
       "\n",
       "        TAXI_OUT  CRS_ARR_TIME  ARR_DEL15  CRS_ELAPSED_TIME  DISTANCE  \n",
       "100000     13.00          2145       0.00            143.00    665.00  \n",
       "100001       NaN          1415       0.00            164.00    765.00  \n",
       "100002     18.00          1854       0.00             96.00    340.00  \n",
       "100003     22.00          2029       0.00            311.00  2,153.00  \n",
       "100004     11.00          1544       0.00            103.00    340.00  "
      ]
     },
     "execution_count": 11,
     "metadata": {},
     "output_type": "execute_result"
    }
   ],
   "source": [
    "df2.head()"
   ]
  },
  {
   "cell_type": "code",
   "execution_count": 12,
   "metadata": {
    "ExecuteTime": {
     "end_time": "2021-09-19T02:48:49.635934Z",
     "start_time": "2021-09-19T02:48:49.632843Z"
    },
    "colab": {
     "base_uri": "https://localhost:8080/"
    },
    "id": "SEBUYdo1GjH2",
    "outputId": "61a54eb6-df6e-4907-e738-7c3ce91c008c"
   },
   "outputs": [
    {
     "data": {
      "text/plain": [
       "array([ True,  True,  True,  True,  True,  True,  True,  True,  True,\n",
       "        True,  True,  True,  True,  True,  True])"
      ]
     },
     "execution_count": 12,
     "metadata": {},
     "output_type": "execute_result"
    }
   ],
   "source": [
    "df1.columns == df2.columns"
   ]
  },
  {
   "cell_type": "code",
   "execution_count": 13,
   "metadata": {
    "ExecuteTime": {
     "end_time": "2021-09-19T02:48:49.672951Z",
     "start_time": "2021-09-19T02:48:49.636824Z"
    },
    "id": "D6UNP18hvWcx"
   },
   "outputs": [],
   "source": [
    "df = df1.append(df2)"
   ]
  },
  {
   "cell_type": "code",
   "execution_count": 14,
   "metadata": {
    "ExecuteTime": {
     "end_time": "2021-09-19T02:48:49.682550Z",
     "start_time": "2021-09-19T02:48:49.673764Z"
    },
    "colab": {
     "base_uri": "https://localhost:8080/",
     "height": 309
    },
    "id": "TFsg4qP2vWcx",
    "outputId": "be1a9a6f-4420-4020-fb8b-88a29d72236a"
   },
   "outputs": [
    {
     "data": {
      "text/html": [
       "<div>\n",
       "<style scoped>\n",
       "    .dataframe tbody tr th:only-of-type {\n",
       "        vertical-align: middle;\n",
       "    }\n",
       "\n",
       "    .dataframe tbody tr th {\n",
       "        vertical-align: top;\n",
       "    }\n",
       "\n",
       "    .dataframe thead th {\n",
       "        text-align: right;\n",
       "    }\n",
       "</style>\n",
       "<table border=\"1\" class=\"dataframe\">\n",
       "  <thead>\n",
       "    <tr style=\"text-align: right;\">\n",
       "      <th></th>\n",
       "      <th>FL_DATE</th>\n",
       "      <th>OP_CARRIER_AIRLINE_ID</th>\n",
       "      <th>TAIL_NUM</th>\n",
       "      <th>ORIGIN</th>\n",
       "      <th>ORIGIN_CITY_NAME</th>\n",
       "      <th>ORIGIN_STATE_NM</th>\n",
       "      <th>DEST</th>\n",
       "      <th>DEST_CITY_NAME</th>\n",
       "      <th>DEST_STATE_NM</th>\n",
       "      <th>CRS_DEP_TIME</th>\n",
       "      <th>TAXI_OUT</th>\n",
       "      <th>CRS_ARR_TIME</th>\n",
       "      <th>ARR_DEL15</th>\n",
       "      <th>CRS_ELAPSED_TIME</th>\n",
       "      <th>DISTANCE</th>\n",
       "    </tr>\n",
       "  </thead>\n",
       "  <tbody>\n",
       "    <tr>\n",
       "      <th>0</th>\n",
       "      <td>2018-02-01</td>\n",
       "      <td>20,363.00</td>\n",
       "      <td>N299PQ</td>\n",
       "      <td>BNA</td>\n",
       "      <td>Nashville, TN</td>\n",
       "      <td>Tennessee</td>\n",
       "      <td>JFK</td>\n",
       "      <td>New York, NY</td>\n",
       "      <td>New York</td>\n",
       "      <td>1359</td>\n",
       "      <td>27.00</td>\n",
       "      <td>1719</td>\n",
       "      <td>0.00</td>\n",
       "      <td>140.00</td>\n",
       "      <td>765.00</td>\n",
       "    </tr>\n",
       "    <tr>\n",
       "      <th>1</th>\n",
       "      <td>2018-02-01</td>\n",
       "      <td>20,363.00</td>\n",
       "      <td>N920XJ</td>\n",
       "      <td>RDU</td>\n",
       "      <td>Raleigh/Durham, NC</td>\n",
       "      <td>North Carolina</td>\n",
       "      <td>JFK</td>\n",
       "      <td>New York, NY</td>\n",
       "      <td>New York</td>\n",
       "      <td>1354</td>\n",
       "      <td>37.00</td>\n",
       "      <td>1541</td>\n",
       "      <td>0.00</td>\n",
       "      <td>107.00</td>\n",
       "      <td>427.00</td>\n",
       "    </tr>\n",
       "    <tr>\n",
       "      <th>2</th>\n",
       "      <td>2018-02-01</td>\n",
       "      <td>20,363.00</td>\n",
       "      <td>N605LR</td>\n",
       "      <td>BUF</td>\n",
       "      <td>Buffalo, NY</td>\n",
       "      <td>New York</td>\n",
       "      <td>JFK</td>\n",
       "      <td>New York, NY</td>\n",
       "      <td>New York</td>\n",
       "      <td>1529</td>\n",
       "      <td>21.00</td>\n",
       "      <td>1709</td>\n",
       "      <td>0.00</td>\n",
       "      <td>100.00</td>\n",
       "      <td>301.00</td>\n",
       "    </tr>\n",
       "    <tr>\n",
       "      <th>3</th>\n",
       "      <td>2018-02-01</td>\n",
       "      <td>20,363.00</td>\n",
       "      <td>N800AY</td>\n",
       "      <td>ORF</td>\n",
       "      <td>Norfolk, VA</td>\n",
       "      <td>Virginia</td>\n",
       "      <td>JFK</td>\n",
       "      <td>New York, NY</td>\n",
       "      <td>New York</td>\n",
       "      <td>1704</td>\n",
       "      <td>36.00</td>\n",
       "      <td>1845</td>\n",
       "      <td>0.00</td>\n",
       "      <td>101.00</td>\n",
       "      <td>290.00</td>\n",
       "    </tr>\n",
       "    <tr>\n",
       "      <th>4</th>\n",
       "      <td>2018-02-01</td>\n",
       "      <td>20,363.00</td>\n",
       "      <td>N600LR</td>\n",
       "      <td>BOS</td>\n",
       "      <td>Boston, MA</td>\n",
       "      <td>Massachusetts</td>\n",
       "      <td>JFK</td>\n",
       "      <td>New York, NY</td>\n",
       "      <td>New York</td>\n",
       "      <td>1325</td>\n",
       "      <td>20.00</td>\n",
       "      <td>1454</td>\n",
       "      <td>0.00</td>\n",
       "      <td>89.00</td>\n",
       "      <td>187.00</td>\n",
       "    </tr>\n",
       "  </tbody>\n",
       "</table>\n",
       "</div>"
      ],
      "text/plain": [
       "      FL_DATE  OP_CARRIER_AIRLINE_ID TAIL_NUM ORIGIN    ORIGIN_CITY_NAME  \\\n",
       "0  2018-02-01              20,363.00   N299PQ    BNA       Nashville, TN   \n",
       "1  2018-02-01              20,363.00   N920XJ    RDU  Raleigh/Durham, NC   \n",
       "2  2018-02-01              20,363.00   N605LR    BUF         Buffalo, NY   \n",
       "3  2018-02-01              20,363.00   N800AY    ORF         Norfolk, VA   \n",
       "4  2018-02-01              20,363.00   N600LR    BOS          Boston, MA   \n",
       "\n",
       "  ORIGIN_STATE_NM DEST DEST_CITY_NAME DEST_STATE_NM  CRS_DEP_TIME  TAXI_OUT  \\\n",
       "0       Tennessee  JFK   New York, NY      New York          1359     27.00   \n",
       "1  North Carolina  JFK   New York, NY      New York          1354     37.00   \n",
       "2        New York  JFK   New York, NY      New York          1529     21.00   \n",
       "3        Virginia  JFK   New York, NY      New York          1704     36.00   \n",
       "4   Massachusetts  JFK   New York, NY      New York          1325     20.00   \n",
       "\n",
       "   CRS_ARR_TIME  ARR_DEL15  CRS_ELAPSED_TIME  DISTANCE  \n",
       "0          1719       0.00            140.00    765.00  \n",
       "1          1541       0.00            107.00    427.00  \n",
       "2          1709       0.00            100.00    301.00  \n",
       "3          1845       0.00            101.00    290.00  \n",
       "4          1454       0.00             89.00    187.00  "
      ]
     },
     "execution_count": 14,
     "metadata": {},
     "output_type": "execute_result"
    }
   ],
   "source": [
    "df.head()"
   ]
  },
  {
   "cell_type": "code",
   "execution_count": 15,
   "metadata": {
    "ExecuteTime": {
     "end_time": "2021-09-19T02:48:49.686129Z",
     "start_time": "2021-09-19T02:48:49.683651Z"
    },
    "colab": {
     "base_uri": "https://localhost:8080/"
    },
    "id": "HBNOGGn4G5g9",
    "outputId": "ab90f00a-2b41-48cb-dcf9-ff8fcf313c57"
   },
   "outputs": [
    {
     "data": {
      "text/plain": [
       "250152"
      ]
     },
     "execution_count": 15,
     "metadata": {},
     "output_type": "execute_result"
    }
   ],
   "source": [
    "len(df)"
   ]
  },
  {
   "cell_type": "code",
   "execution_count": 16,
   "metadata": {
    "ExecuteTime": {
     "end_time": "2021-09-19T02:48:49.790285Z",
     "start_time": "2021-09-19T02:48:49.687311Z"
    },
    "colab": {
     "base_uri": "https://localhost:8080/",
     "height": 266
    },
    "id": "ufAHuOi4vWcy",
    "outputId": "d3862044-7bb1-4d4d-a4c7-073c33023761"
   },
   "outputs": [
    {
     "data": {
      "text/html": [
       "<div>\n",
       "<style scoped>\n",
       "    .dataframe tbody tr th:only-of-type {\n",
       "        vertical-align: middle;\n",
       "    }\n",
       "\n",
       "    .dataframe tbody tr th {\n",
       "        vertical-align: top;\n",
       "    }\n",
       "\n",
       "    .dataframe thead th {\n",
       "        text-align: right;\n",
       "    }\n",
       "</style>\n",
       "<table border=\"1\" class=\"dataframe\">\n",
       "  <thead>\n",
       "    <tr style=\"text-align: right;\">\n",
       "      <th></th>\n",
       "      <th>count</th>\n",
       "      <th>mean</th>\n",
       "      <th>std</th>\n",
       "      <th>min</th>\n",
       "      <th>25%</th>\n",
       "      <th>50%</th>\n",
       "      <th>75%</th>\n",
       "      <th>max</th>\n",
       "    </tr>\n",
       "  </thead>\n",
       "  <tbody>\n",
       "    <tr>\n",
       "      <th>OP_CARRIER_AIRLINE_ID</th>\n",
       "      <td>237,644.00</td>\n",
       "      <td>20,152.00</td>\n",
       "      <td>297.88</td>\n",
       "      <td>19,690.00</td>\n",
       "      <td>19,790.00</td>\n",
       "      <td>20,363.00</td>\n",
       "      <td>20,409.00</td>\n",
       "      <td>21,171.00</td>\n",
       "    </tr>\n",
       "    <tr>\n",
       "      <th>CRS_DEP_TIME</th>\n",
       "      <td>250,152.00</td>\n",
       "      <td>1,334.61</td>\n",
       "      <td>529.10</td>\n",
       "      <td>3.00</td>\n",
       "      <td>915.00</td>\n",
       "      <td>1,258.00</td>\n",
       "      <td>1,744.00</td>\n",
       "      <td>2,359.00</td>\n",
       "    </tr>\n",
       "    <tr>\n",
       "      <th>TAXI_OUT</th>\n",
       "      <td>232,641.00</td>\n",
       "      <td>18.19</td>\n",
       "      <td>9.61</td>\n",
       "      <td>1.00</td>\n",
       "      <td>12.00</td>\n",
       "      <td>16.00</td>\n",
       "      <td>21.00</td>\n",
       "      <td>166.00</td>\n",
       "    </tr>\n",
       "    <tr>\n",
       "      <th>CRS_ARR_TIME</th>\n",
       "      <td>250,152.00</td>\n",
       "      <td>1,419.13</td>\n",
       "      <td>580.99</td>\n",
       "      <td>1.00</td>\n",
       "      <td>944.00</td>\n",
       "      <td>1,455.00</td>\n",
       "      <td>1,914.00</td>\n",
       "      <td>2,400.00</td>\n",
       "    </tr>\n",
       "    <tr>\n",
       "      <th>ARR_DEL15</th>\n",
       "      <td>250,152.00</td>\n",
       "      <td>0.21</td>\n",
       "      <td>0.41</td>\n",
       "      <td>0.00</td>\n",
       "      <td>0.00</td>\n",
       "      <td>0.00</td>\n",
       "      <td>0.00</td>\n",
       "      <td>1.00</td>\n",
       "    </tr>\n",
       "    <tr>\n",
       "      <th>CRS_ELAPSED_TIME</th>\n",
       "      <td>250,152.00</td>\n",
       "      <td>195.65</td>\n",
       "      <td>97.37</td>\n",
       "      <td>47.00</td>\n",
       "      <td>109.00</td>\n",
       "      <td>167.00</td>\n",
       "      <td>306.00</td>\n",
       "      <td>595.00</td>\n",
       "    </tr>\n",
       "    <tr>\n",
       "      <th>DISTANCE</th>\n",
       "      <td>250,152.00</td>\n",
       "      <td>1,258.84</td>\n",
       "      <td>898.12</td>\n",
       "      <td>94.00</td>\n",
       "      <td>427.00</td>\n",
       "      <td>1,028.00</td>\n",
       "      <td>2,248.00</td>\n",
       "      <td>4,983.00</td>\n",
       "    </tr>\n",
       "  </tbody>\n",
       "</table>\n",
       "</div>"
      ],
      "text/plain": [
       "                           count      mean    std       min       25%  \\\n",
       "OP_CARRIER_AIRLINE_ID 237,644.00 20,152.00 297.88 19,690.00 19,790.00   \n",
       "CRS_DEP_TIME          250,152.00  1,334.61 529.10      3.00    915.00   \n",
       "TAXI_OUT              232,641.00     18.19   9.61      1.00     12.00   \n",
       "CRS_ARR_TIME          250,152.00  1,419.13 580.99      1.00    944.00   \n",
       "ARR_DEL15             250,152.00      0.21   0.41      0.00      0.00   \n",
       "CRS_ELAPSED_TIME      250,152.00    195.65  97.37     47.00    109.00   \n",
       "DISTANCE              250,152.00  1,258.84 898.12     94.00    427.00   \n",
       "\n",
       "                            50%       75%       max  \n",
       "OP_CARRIER_AIRLINE_ID 20,363.00 20,409.00 21,171.00  \n",
       "CRS_DEP_TIME           1,258.00  1,744.00  2,359.00  \n",
       "TAXI_OUT                  16.00     21.00    166.00  \n",
       "CRS_ARR_TIME           1,455.00  1,914.00  2,400.00  \n",
       "ARR_DEL15                  0.00      0.00      1.00  \n",
       "CRS_ELAPSED_TIME         167.00    306.00    595.00  \n",
       "DISTANCE               1,028.00  2,248.00  4,983.00  "
      ]
     },
     "execution_count": 16,
     "metadata": {},
     "output_type": "execute_result"
    }
   ],
   "source": [
    "df.describe().T"
   ]
  },
  {
   "cell_type": "code",
   "execution_count": 17,
   "metadata": {
    "ExecuteTime": {
     "end_time": "2021-09-19T02:48:49.793034Z",
     "start_time": "2021-09-19T02:48:49.791136Z"
    },
    "id": "tr8Q-vLvvWcy"
   },
   "outputs": [],
   "source": [
    "df.reset_index(drop = True, inplace = True)"
   ]
  },
  {
   "cell_type": "markdown",
   "metadata": {
    "id": "CK3ACBL5vWcy"
   },
   "source": [
    "Ahora que tenemos los datos cargados, es el momento de empezar el análisis exploratorio."
   ]
  },
  {
   "cell_type": "markdown",
   "metadata": {
    "id": "h79Ym6NAvWcy"
   },
   "source": [
    "## MLC2: Data Understanding"
   ]
  },
  {
   "cell_type": "markdown",
   "metadata": {
    "id": "OoYntc2qvWcz"
   },
   "source": [
    "### MLC2.1: Análisis Univariante de datos"
   ]
  },
  {
   "cell_type": "markdown",
   "metadata": {
    "id": "_5Y1ER9UvWcz"
   },
   "source": [
    "#### 1. Tamaño del dataset"
   ]
  },
  {
   "cell_type": "markdown",
   "metadata": {
    "id": "38KhwUYqvWcz"
   },
   "source": [
    "Al introducir en un DataFrame los datos del csv, disponemos de todos los métodos y funciones disponibles en este tipo de objetos, que incluyen estadísticos descriptivos, funciones de visualización y otras. Podéis consultar todos los métodos (funciones) y atributos (parámetros) dispnibles en el objeto DataFrame en https://pandas.pydata.org/pandas-docs/stable/reference/api/pandas.DataFrame.html. \\\n",
    "En concreto, podemos utilizar el método **df.info()** para consultar la información básica del dataset."
   ]
  },
  {
   "cell_type": "code",
   "execution_count": 18,
   "metadata": {
    "ExecuteTime": {
     "end_time": "2021-09-19T02:48:49.802159Z",
     "start_time": "2021-09-19T02:48:49.793854Z"
    },
    "colab": {
     "base_uri": "https://localhost:8080/"
    },
    "id": "TNkpUiXuvWcz",
    "outputId": "be3959b1-6c44-453f-f4e4-5c42a0b2ebeb"
   },
   "outputs": [],
   "source": [
    "df.info?"
   ]
  },
  {
   "cell_type": "code",
   "execution_count": 19,
   "metadata": {
    "ExecuteTime": {
     "end_time": "2021-09-19T02:48:49.808455Z",
     "start_time": "2021-09-19T02:48:49.803136Z"
    },
    "colab": {
     "base_uri": "https://localhost:8080/"
    },
    "id": "qdtgfQ3_vWc0",
    "outputId": "3f7615d9-166f-4a96-f9df-81ed49342658"
   },
   "outputs": [
    {
     "name": "stdout",
     "output_type": "stream",
     "text": [
      "<class 'pandas.core.frame.DataFrame'>\n",
      "RangeIndex: 250152 entries, 0 to 250151\n",
      "Columns: 15 entries, FL_DATE to DISTANCE\n",
      "dtypes: float64(5), int64(2), object(8)\n",
      "memory usage: 28.6+ MB\n"
     ]
    }
   ],
   "source": [
    "df.info(verbose=False)"
   ]
  },
  {
   "cell_type": "markdown",
   "metadata": {
    "id": "LEFWcztJvWc0"
   },
   "source": [
    "#### 2. Visualización directa de los datos"
   ]
  },
  {
   "cell_type": "markdown",
   "metadata": {
    "id": "ZGHloA7bvWc0"
   },
   "source": [
    "Igualmente, podemos consultar directamente los datos de la cabecera con **head()** o la cola con **tail()**.\\\n",
    "Como recomendación personal, es mejor visualizar los datos transpuestos, mediante el modificador **.T**."
   ]
  },
  {
   "cell_type": "code",
   "execution_count": 20,
   "metadata": {
    "ExecuteTime": {
     "end_time": "2021-09-19T02:48:49.811774Z",
     "start_time": "2021-09-19T02:48:49.809267Z"
    },
    "colab": {
     "base_uri": "https://localhost:8080/"
    },
    "id": "Dvk197ZEvWc0",
    "outputId": "00c9f0e1-b4b6-4b0f-be4f-6f86eb09d7ca"
   },
   "outputs": [
    {
     "data": {
      "text/plain": [
       "Index(['FL_DATE', 'OP_CARRIER_AIRLINE_ID', 'TAIL_NUM', 'ORIGIN',\n",
       "       'ORIGIN_CITY_NAME', 'ORIGIN_STATE_NM', 'DEST', 'DEST_CITY_NAME',\n",
       "       'DEST_STATE_NM', 'CRS_DEP_TIME', 'TAXI_OUT', 'CRS_ARR_TIME',\n",
       "       'ARR_DEL15', 'CRS_ELAPSED_TIME', 'DISTANCE'],\n",
       "      dtype='object')"
      ]
     },
     "execution_count": 20,
     "metadata": {},
     "output_type": "execute_result"
    }
   ],
   "source": [
    "df.columns"
   ]
  },
  {
   "cell_type": "code",
   "execution_count": 21,
   "metadata": {
    "ExecuteTime": {
     "end_time": "2021-09-19T02:48:49.819009Z",
     "start_time": "2021-09-19T02:48:49.812599Z"
    },
    "colab": {
     "base_uri": "https://localhost:8080/",
     "height": 514
    },
    "id": "9PTb_u8OvWc1",
    "outputId": "2e6a4f9f-db4f-4266-c1be-64830eac7507"
   },
   "outputs": [
    {
     "data": {
      "text/html": [
       "<div>\n",
       "<style scoped>\n",
       "    .dataframe tbody tr th:only-of-type {\n",
       "        vertical-align: middle;\n",
       "    }\n",
       "\n",
       "    .dataframe tbody tr th {\n",
       "        vertical-align: top;\n",
       "    }\n",
       "\n",
       "    .dataframe thead th {\n",
       "        text-align: right;\n",
       "    }\n",
       "</style>\n",
       "<table border=\"1\" class=\"dataframe\">\n",
       "  <thead>\n",
       "    <tr style=\"text-align: right;\">\n",
       "      <th></th>\n",
       "      <th>0</th>\n",
       "      <th>1</th>\n",
       "      <th>2</th>\n",
       "      <th>3</th>\n",
       "    </tr>\n",
       "  </thead>\n",
       "  <tbody>\n",
       "    <tr>\n",
       "      <th>FL_DATE</th>\n",
       "      <td>2018-02-01</td>\n",
       "      <td>2018-02-01</td>\n",
       "      <td>2018-02-01</td>\n",
       "      <td>2018-02-01</td>\n",
       "    </tr>\n",
       "    <tr>\n",
       "      <th>OP_CARRIER_AIRLINE_ID</th>\n",
       "      <td>20,363.00</td>\n",
       "      <td>20,363.00</td>\n",
       "      <td>20,363.00</td>\n",
       "      <td>20,363.00</td>\n",
       "    </tr>\n",
       "    <tr>\n",
       "      <th>TAIL_NUM</th>\n",
       "      <td>N299PQ</td>\n",
       "      <td>N920XJ</td>\n",
       "      <td>N605LR</td>\n",
       "      <td>N800AY</td>\n",
       "    </tr>\n",
       "    <tr>\n",
       "      <th>ORIGIN</th>\n",
       "      <td>BNA</td>\n",
       "      <td>RDU</td>\n",
       "      <td>BUF</td>\n",
       "      <td>ORF</td>\n",
       "    </tr>\n",
       "    <tr>\n",
       "      <th>ORIGIN_CITY_NAME</th>\n",
       "      <td>Nashville, TN</td>\n",
       "      <td>Raleigh/Durham, NC</td>\n",
       "      <td>Buffalo, NY</td>\n",
       "      <td>Norfolk, VA</td>\n",
       "    </tr>\n",
       "    <tr>\n",
       "      <th>ORIGIN_STATE_NM</th>\n",
       "      <td>Tennessee</td>\n",
       "      <td>North Carolina</td>\n",
       "      <td>New York</td>\n",
       "      <td>Virginia</td>\n",
       "    </tr>\n",
       "    <tr>\n",
       "      <th>DEST</th>\n",
       "      <td>JFK</td>\n",
       "      <td>JFK</td>\n",
       "      <td>JFK</td>\n",
       "      <td>JFK</td>\n",
       "    </tr>\n",
       "    <tr>\n",
       "      <th>DEST_CITY_NAME</th>\n",
       "      <td>New York, NY</td>\n",
       "      <td>New York, NY</td>\n",
       "      <td>New York, NY</td>\n",
       "      <td>New York, NY</td>\n",
       "    </tr>\n",
       "    <tr>\n",
       "      <th>DEST_STATE_NM</th>\n",
       "      <td>New York</td>\n",
       "      <td>New York</td>\n",
       "      <td>New York</td>\n",
       "      <td>New York</td>\n",
       "    </tr>\n",
       "    <tr>\n",
       "      <th>CRS_DEP_TIME</th>\n",
       "      <td>1359</td>\n",
       "      <td>1354</td>\n",
       "      <td>1529</td>\n",
       "      <td>1704</td>\n",
       "    </tr>\n",
       "    <tr>\n",
       "      <th>TAXI_OUT</th>\n",
       "      <td>27.00</td>\n",
       "      <td>37.00</td>\n",
       "      <td>21.00</td>\n",
       "      <td>36.00</td>\n",
       "    </tr>\n",
       "    <tr>\n",
       "      <th>CRS_ARR_TIME</th>\n",
       "      <td>1719</td>\n",
       "      <td>1541</td>\n",
       "      <td>1709</td>\n",
       "      <td>1845</td>\n",
       "    </tr>\n",
       "    <tr>\n",
       "      <th>ARR_DEL15</th>\n",
       "      <td>0.00</td>\n",
       "      <td>0.00</td>\n",
       "      <td>0.00</td>\n",
       "      <td>0.00</td>\n",
       "    </tr>\n",
       "    <tr>\n",
       "      <th>CRS_ELAPSED_TIME</th>\n",
       "      <td>140.00</td>\n",
       "      <td>107.00</td>\n",
       "      <td>100.00</td>\n",
       "      <td>101.00</td>\n",
       "    </tr>\n",
       "    <tr>\n",
       "      <th>DISTANCE</th>\n",
       "      <td>765.00</td>\n",
       "      <td>427.00</td>\n",
       "      <td>301.00</td>\n",
       "      <td>290.00</td>\n",
       "    </tr>\n",
       "  </tbody>\n",
       "</table>\n",
       "</div>"
      ],
      "text/plain": [
       "                                   0                   1             2  \\\n",
       "FL_DATE                   2018-02-01          2018-02-01    2018-02-01   \n",
       "OP_CARRIER_AIRLINE_ID      20,363.00           20,363.00     20,363.00   \n",
       "TAIL_NUM                      N299PQ              N920XJ        N605LR   \n",
       "ORIGIN                           BNA                 RDU           BUF   \n",
       "ORIGIN_CITY_NAME       Nashville, TN  Raleigh/Durham, NC   Buffalo, NY   \n",
       "ORIGIN_STATE_NM            Tennessee      North Carolina      New York   \n",
       "DEST                             JFK                 JFK           JFK   \n",
       "DEST_CITY_NAME          New York, NY        New York, NY  New York, NY   \n",
       "DEST_STATE_NM               New York            New York      New York   \n",
       "CRS_DEP_TIME                    1359                1354          1529   \n",
       "TAXI_OUT                       27.00               37.00         21.00   \n",
       "CRS_ARR_TIME                    1719                1541          1709   \n",
       "ARR_DEL15                       0.00                0.00          0.00   \n",
       "CRS_ELAPSED_TIME              140.00              107.00        100.00   \n",
       "DISTANCE                      765.00              427.00        301.00   \n",
       "\n",
       "                                  3  \n",
       "FL_DATE                  2018-02-01  \n",
       "OP_CARRIER_AIRLINE_ID     20,363.00  \n",
       "TAIL_NUM                     N800AY  \n",
       "ORIGIN                          ORF  \n",
       "ORIGIN_CITY_NAME        Norfolk, VA  \n",
       "ORIGIN_STATE_NM            Virginia  \n",
       "DEST                            JFK  \n",
       "DEST_CITY_NAME         New York, NY  \n",
       "DEST_STATE_NM              New York  \n",
       "CRS_DEP_TIME                   1704  \n",
       "TAXI_OUT                      36.00  \n",
       "CRS_ARR_TIME                   1845  \n",
       "ARR_DEL15                      0.00  \n",
       "CRS_ELAPSED_TIME             101.00  \n",
       "DISTANCE                     290.00  "
      ]
     },
     "execution_count": 21,
     "metadata": {},
     "output_type": "execute_result"
    }
   ],
   "source": [
    "df.head(4).T"
   ]
  },
  {
   "cell_type": "markdown",
   "metadata": {
    "id": "8YN-dMidvWc1"
   },
   "source": [
    "Un aspecto importante en el trabajo con datos es comprender la integridad del índice DataFrame. En este caso, cada registro corresponde a un vuelo determinado, un avión físico volando a una hora determinada de un día concreto. A este grupo (**FL_DATE-CRS_DEP_TIME-TAIL_NUM**) le llamaremos índice, y podemos explicitarlo en el Dataframe o no. "
   ]
  },
  {
   "cell_type": "markdown",
   "metadata": {
    "id": "CCqGsTErvWc1"
   },
   "source": [
    "A continuación se incluye la descripción de las variables:\n",
    "\n",
    "* **FL_DATE**: Date of the observation\n",
    "* **OP_CARRIER_AIRLINE_ID**: Identificador de la compañía aérea que opera el vuelo\n",
    "* **TAIL_NUM**: Número de cola del avión, identificador único del avión\n",
    "* **ORIGIN**: aeropuerto de origen\n",
    "* **ORIGIN_CITY_NAME**: ciudad de origen\n",
    "* **ORIGIN_STATE_NM**: estado (USA) de origen\n",
    "* **DEST**: aeropuerto de destino, en este caso será siempre el JFK\n",
    "* **DEST_CITY_NAME**: ciudad de destino, en este caso será siempre Nueva York\n",
    "* **DEST_STATE_NM**: estado (USA) de destino, en este caso será siempre Nueva York\n",
    "* **CRS_DEP_TIME**: hora prevista de salida\n",
    "* **TAXI_OUT**: tiempo transcurrido entre la salida de la terminal y el despegue efectivo del avión\n",
    "* **CRS_ARR_TIME**: hora prevista de llegada\n",
    "* **ARR_DEL15**: booleana (1/0) indicando si el vuelo ha llegado con más de 15 minutos de retraso.\n",
    "* **CRS_ELAPSED_TIME**: tiempo previsto de vuelo.\n",
    "* **DISTANCE**: distancia entre aeropuertos\n",
    "\n",
    "Deberemos elegir entre la variable **ARR_DELAY y ARR_DEL15** como predictivos, en este caso, como se trata de un modelo de clasificación, tomaremos como target la variable **ARR_DEL15**\n"
   ]
  },
  {
   "cell_type": "code",
   "execution_count": 22,
   "metadata": {
    "ExecuteTime": {
     "end_time": "2021-09-19T02:48:49.827226Z",
     "start_time": "2021-09-19T02:48:49.819890Z"
    },
    "id": "GDR5m6novWc2"
   },
   "outputs": [],
   "source": [
    "df.drop?"
   ]
  },
  {
   "cell_type": "markdown",
   "metadata": {
    "id": "o1mdShVkvWc2"
   },
   "source": [
    "Al utilizar el método drop, es importante tener controlados 2 parámetros: \n",
    "1. **axis**: eje en el que debe buscar la variable que pasamos a eliminar (0 filas, 1 columnas). \n",
    "2. **inplace**: parámetro que indica si la variable debe eliminarse directamente. En caso de no especificar *inplace=1*, la aplicación del método imprimirá en pantalla un DataFrame sin esa variable, pero no realizará el borrado (puede utilizarse para asignar a un nuevo DataFrame la versión sin esa variable manteniendo el original). \n"
   ]
  },
  {
   "cell_type": "code",
   "execution_count": 23,
   "metadata": {
    "ExecuteTime": {
     "end_time": "2021-09-19T02:48:49.832942Z",
     "start_time": "2021-09-19T02:48:49.828194Z"
    },
    "colab": {
     "base_uri": "https://localhost:8080/"
    },
    "id": "PURKI8BxvWc2",
    "outputId": "d4469b32-b2a1-43f3-8017-ebdc69dfc5c5"
   },
   "outputs": [
    {
     "name": "stdout",
     "output_type": "stream",
     "text": [
      "<class 'pandas.core.frame.DataFrame'>\n",
      "RangeIndex: 250152 entries, 0 to 250151\n",
      "Columns: 15 entries, FL_DATE to DISTANCE\n",
      "dtypes: float64(5), int64(2), object(8)\n",
      "memory usage: 28.6+ MB\n"
     ]
    }
   ],
   "source": [
    "df.info(verbose=False)"
   ]
  },
  {
   "cell_type": "markdown",
   "metadata": {
    "id": "ENBDWwLKvWc3"
   },
   "source": [
    "#### 3. Tipo de atributos disponibles"
   ]
  },
  {
   "cell_type": "markdown",
   "metadata": {
    "id": "duBuQzsOvWc3"
   },
   "source": [
    "Un aspecto importante es tener controlado el tipo de atributos de nuestro dataframe (numéricos / categóricos).Esto se puede hacer mediante el método info(), especificando el parámetro *verbose = True* (versión larga del método). "
   ]
  },
  {
   "cell_type": "code",
   "execution_count": 24,
   "metadata": {
    "ExecuteTime": {
     "end_time": "2021-09-19T02:48:49.907381Z",
     "start_time": "2021-09-19T02:48:49.833928Z"
    },
    "colab": {
     "base_uri": "https://localhost:8080/"
    },
    "id": "UWicvH7fvWc4",
    "outputId": "df79e968-6707-4766-b67e-dc04494a8bbe"
   },
   "outputs": [
    {
     "name": "stdout",
     "output_type": "stream",
     "text": [
      "<class 'pandas.core.frame.DataFrame'>\n",
      "RangeIndex: 250152 entries, 0 to 250151\n",
      "Data columns (total 15 columns):\n",
      " #   Column                 Non-Null Count   Dtype  \n",
      "---  ------                 --------------   -----  \n",
      " 0   FL_DATE                250152 non-null  object \n",
      " 1   OP_CARRIER_AIRLINE_ID  237644 non-null  float64\n",
      " 2   TAIL_NUM               235143 non-null  object \n",
      " 3   ORIGIN                 250152 non-null  object \n",
      " 4   ORIGIN_CITY_NAME       250152 non-null  object \n",
      " 5   ORIGIN_STATE_NM        250152 non-null  object \n",
      " 6   DEST                   250152 non-null  object \n",
      " 7   DEST_CITY_NAME         250152 non-null  object \n",
      " 8   DEST_STATE_NM          250152 non-null  object \n",
      " 9   CRS_DEP_TIME           250152 non-null  int64  \n",
      " 10  TAXI_OUT               232641 non-null  float64\n",
      " 11  CRS_ARR_TIME           250152 non-null  int64  \n",
      " 12  ARR_DEL15              250152 non-null  float64\n",
      " 13  CRS_ELAPSED_TIME       250152 non-null  float64\n",
      " 14  DISTANCE               250152 non-null  float64\n",
      "dtypes: float64(5), int64(2), object(8)\n",
      "memory usage: 28.6+ MB\n"
     ]
    }
   ],
   "source": [
    "df.info(verbose=True)"
   ]
  },
  {
   "cell_type": "markdown",
   "metadata": {
    "id": "UpYCyp_6vWc4"
   },
   "source": [
    "#### 4. Estadísticos descriptivos"
   ]
  },
  {
   "cell_type": "markdown",
   "metadata": {
    "id": "mYCcQ0l4vWc5"
   },
   "source": [
    "Una de las maneras más sencillas de comprender los atributos del DataFrame es el método **describe()**, que nos proporciona estadísticos representativos de cada uno de los atributos del DataFrame."
   ]
  },
  {
   "cell_type": "code",
   "execution_count": 25,
   "metadata": {
    "ExecuteTime": {
     "end_time": "2021-09-19T02:48:49.963035Z",
     "start_time": "2021-09-19T02:48:49.908363Z"
    },
    "colab": {
     "base_uri": "https://localhost:8080/",
     "height": 266
    },
    "id": "YJ6Ki3h6vWc5",
    "outputId": "11881b4e-43d1-443a-b39e-c3cc0bea73f8"
   },
   "outputs": [
    {
     "data": {
      "text/html": [
       "<div>\n",
       "<style scoped>\n",
       "    .dataframe tbody tr th:only-of-type {\n",
       "        vertical-align: middle;\n",
       "    }\n",
       "\n",
       "    .dataframe tbody tr th {\n",
       "        vertical-align: top;\n",
       "    }\n",
       "\n",
       "    .dataframe thead th {\n",
       "        text-align: right;\n",
       "    }\n",
       "</style>\n",
       "<table border=\"1\" class=\"dataframe\">\n",
       "  <thead>\n",
       "    <tr style=\"text-align: right;\">\n",
       "      <th></th>\n",
       "      <th>count</th>\n",
       "      <th>mean</th>\n",
       "      <th>std</th>\n",
       "      <th>min</th>\n",
       "      <th>25%</th>\n",
       "      <th>50%</th>\n",
       "      <th>75%</th>\n",
       "      <th>max</th>\n",
       "    </tr>\n",
       "  </thead>\n",
       "  <tbody>\n",
       "    <tr>\n",
       "      <th>OP_CARRIER_AIRLINE_ID</th>\n",
       "      <td>237,644.00</td>\n",
       "      <td>20,152.00</td>\n",
       "      <td>297.88</td>\n",
       "      <td>19,690.00</td>\n",
       "      <td>19,790.00</td>\n",
       "      <td>20,363.00</td>\n",
       "      <td>20,409.00</td>\n",
       "      <td>21,171.00</td>\n",
       "    </tr>\n",
       "    <tr>\n",
       "      <th>CRS_DEP_TIME</th>\n",
       "      <td>250,152.00</td>\n",
       "      <td>1,334.61</td>\n",
       "      <td>529.10</td>\n",
       "      <td>3.00</td>\n",
       "      <td>915.00</td>\n",
       "      <td>1,258.00</td>\n",
       "      <td>1,744.00</td>\n",
       "      <td>2,359.00</td>\n",
       "    </tr>\n",
       "    <tr>\n",
       "      <th>TAXI_OUT</th>\n",
       "      <td>232,641.00</td>\n",
       "      <td>18.19</td>\n",
       "      <td>9.61</td>\n",
       "      <td>1.00</td>\n",
       "      <td>12.00</td>\n",
       "      <td>16.00</td>\n",
       "      <td>21.00</td>\n",
       "      <td>166.00</td>\n",
       "    </tr>\n",
       "    <tr>\n",
       "      <th>CRS_ARR_TIME</th>\n",
       "      <td>250,152.00</td>\n",
       "      <td>1,419.13</td>\n",
       "      <td>580.99</td>\n",
       "      <td>1.00</td>\n",
       "      <td>944.00</td>\n",
       "      <td>1,455.00</td>\n",
       "      <td>1,914.00</td>\n",
       "      <td>2,400.00</td>\n",
       "    </tr>\n",
       "    <tr>\n",
       "      <th>ARR_DEL15</th>\n",
       "      <td>250,152.00</td>\n",
       "      <td>0.21</td>\n",
       "      <td>0.41</td>\n",
       "      <td>0.00</td>\n",
       "      <td>0.00</td>\n",
       "      <td>0.00</td>\n",
       "      <td>0.00</td>\n",
       "      <td>1.00</td>\n",
       "    </tr>\n",
       "    <tr>\n",
       "      <th>CRS_ELAPSED_TIME</th>\n",
       "      <td>250,152.00</td>\n",
       "      <td>195.65</td>\n",
       "      <td>97.37</td>\n",
       "      <td>47.00</td>\n",
       "      <td>109.00</td>\n",
       "      <td>167.00</td>\n",
       "      <td>306.00</td>\n",
       "      <td>595.00</td>\n",
       "    </tr>\n",
       "    <tr>\n",
       "      <th>DISTANCE</th>\n",
       "      <td>250,152.00</td>\n",
       "      <td>1,258.84</td>\n",
       "      <td>898.12</td>\n",
       "      <td>94.00</td>\n",
       "      <td>427.00</td>\n",
       "      <td>1,028.00</td>\n",
       "      <td>2,248.00</td>\n",
       "      <td>4,983.00</td>\n",
       "    </tr>\n",
       "  </tbody>\n",
       "</table>\n",
       "</div>"
      ],
      "text/plain": [
       "                           count      mean    std       min       25%  \\\n",
       "OP_CARRIER_AIRLINE_ID 237,644.00 20,152.00 297.88 19,690.00 19,790.00   \n",
       "CRS_DEP_TIME          250,152.00  1,334.61 529.10      3.00    915.00   \n",
       "TAXI_OUT              232,641.00     18.19   9.61      1.00     12.00   \n",
       "CRS_ARR_TIME          250,152.00  1,419.13 580.99      1.00    944.00   \n",
       "ARR_DEL15             250,152.00      0.21   0.41      0.00      0.00   \n",
       "CRS_ELAPSED_TIME      250,152.00    195.65  97.37     47.00    109.00   \n",
       "DISTANCE              250,152.00  1,258.84 898.12     94.00    427.00   \n",
       "\n",
       "                            50%       75%       max  \n",
       "OP_CARRIER_AIRLINE_ID 20,363.00 20,409.00 21,171.00  \n",
       "CRS_DEP_TIME           1,258.00  1,744.00  2,359.00  \n",
       "TAXI_OUT                  16.00     21.00    166.00  \n",
       "CRS_ARR_TIME           1,455.00  1,914.00  2,400.00  \n",
       "ARR_DEL15                  0.00      0.00      1.00  \n",
       "CRS_ELAPSED_TIME         167.00    306.00    595.00  \n",
       "DISTANCE               1,028.00  2,248.00  4,983.00  "
      ]
     },
     "execution_count": 25,
     "metadata": {},
     "output_type": "execute_result"
    }
   ],
   "source": [
    "df.describe().T"
   ]
  },
  {
   "cell_type": "markdown",
   "metadata": {
    "id": "Rl1lBuZAvWc6"
   },
   "source": [
    "Por defecto, cuando hay variables numéricas y categóricas, este método sólo describe las variables numéricas. Sin embargo, podemos modificarlo para mostrar también las variables categóricas."
   ]
  },
  {
   "cell_type": "code",
   "execution_count": 26,
   "metadata": {
    "ExecuteTime": {
     "end_time": "2021-09-19T02:48:50.212704Z",
     "start_time": "2021-09-19T02:48:49.963933Z"
    },
    "colab": {
     "base_uri": "https://localhost:8080/",
     "height": 297
    },
    "id": "vlLIwNyAvWc6",
    "outputId": "663afe0a-15f4-42c2-cc5f-60edafa509d8"
   },
   "outputs": [
    {
     "data": {
      "text/html": [
       "<div>\n",
       "<style scoped>\n",
       "    .dataframe tbody tr th:only-of-type {\n",
       "        vertical-align: middle;\n",
       "    }\n",
       "\n",
       "    .dataframe tbody tr th {\n",
       "        vertical-align: top;\n",
       "    }\n",
       "\n",
       "    .dataframe thead th {\n",
       "        text-align: right;\n",
       "    }\n",
       "</style>\n",
       "<table border=\"1\" class=\"dataframe\">\n",
       "  <thead>\n",
       "    <tr style=\"text-align: right;\">\n",
       "      <th></th>\n",
       "      <th>count</th>\n",
       "      <th>unique</th>\n",
       "      <th>top</th>\n",
       "      <th>freq</th>\n",
       "    </tr>\n",
       "  </thead>\n",
       "  <tbody>\n",
       "    <tr>\n",
       "      <th>FL_DATE</th>\n",
       "      <td>250152</td>\n",
       "      <td>730</td>\n",
       "      <td>2018-07-19</td>\n",
       "      <td>394</td>\n",
       "    </tr>\n",
       "    <tr>\n",
       "      <th>TAIL_NUM</th>\n",
       "      <td>235143</td>\n",
       "      <td>2645</td>\n",
       "      <td>N110AN</td>\n",
       "      <td>761</td>\n",
       "    </tr>\n",
       "    <tr>\n",
       "      <th>ORIGIN</th>\n",
       "      <td>250152</td>\n",
       "      <td>72</td>\n",
       "      <td>LAX</td>\n",
       "      <td>25345</td>\n",
       "    </tr>\n",
       "    <tr>\n",
       "      <th>ORIGIN_CITY_NAME</th>\n",
       "      <td>250152</td>\n",
       "      <td>70</td>\n",
       "      <td>Los Angeles, CA</td>\n",
       "      <td>25345</td>\n",
       "    </tr>\n",
       "    <tr>\n",
       "      <th>ORIGIN_STATE_NM</th>\n",
       "      <td>250152</td>\n",
       "      <td>32</td>\n",
       "      <td>California</td>\n",
       "      <td>51137</td>\n",
       "    </tr>\n",
       "    <tr>\n",
       "      <th>DEST</th>\n",
       "      <td>250152</td>\n",
       "      <td>1</td>\n",
       "      <td>JFK</td>\n",
       "      <td>250152</td>\n",
       "    </tr>\n",
       "    <tr>\n",
       "      <th>DEST_CITY_NAME</th>\n",
       "      <td>250152</td>\n",
       "      <td>1</td>\n",
       "      <td>New York, NY</td>\n",
       "      <td>250152</td>\n",
       "    </tr>\n",
       "    <tr>\n",
       "      <th>DEST_STATE_NM</th>\n",
       "      <td>250152</td>\n",
       "      <td>1</td>\n",
       "      <td>New York</td>\n",
       "      <td>250152</td>\n",
       "    </tr>\n",
       "  </tbody>\n",
       "</table>\n",
       "</div>"
      ],
      "text/plain": [
       "                   count unique              top    freq\n",
       "FL_DATE           250152    730       2018-07-19     394\n",
       "TAIL_NUM          235143   2645           N110AN     761\n",
       "ORIGIN            250152     72              LAX   25345\n",
       "ORIGIN_CITY_NAME  250152     70  Los Angeles, CA   25345\n",
       "ORIGIN_STATE_NM   250152     32       California   51137\n",
       "DEST              250152      1              JFK  250152\n",
       "DEST_CITY_NAME    250152      1     New York, NY  250152\n",
       "DEST_STATE_NM     250152      1         New York  250152"
      ]
     },
     "execution_count": 26,
     "metadata": {},
     "output_type": "execute_result"
    }
   ],
   "source": [
    "df.describe(include=['object']).T"
   ]
  },
  {
   "cell_type": "markdown",
   "metadata": {
    "id": "G9yOOqWyvWc6"
   },
   "source": [
    "Es bueno recordad que los DataFrames permiten la selección de parámetros mediante el método **select_dtypes()**. Si seleccionamos los atributos de tipo categórico e invocamos al método describe(), obtenemos el mismo resultado."
   ]
  },
  {
   "cell_type": "code",
   "execution_count": 27,
   "metadata": {
    "ExecuteTime": {
     "end_time": "2021-09-19T02:48:50.460428Z",
     "start_time": "2021-09-19T02:48:50.213546Z"
    },
    "colab": {
     "base_uri": "https://localhost:8080/",
     "height": 297
    },
    "id": "IcmwSpGYvWc6",
    "outputId": "2bcdb688-73bc-45ae-e908-ec7af604dd4b"
   },
   "outputs": [
    {
     "data": {
      "text/html": [
       "<div>\n",
       "<style scoped>\n",
       "    .dataframe tbody tr th:only-of-type {\n",
       "        vertical-align: middle;\n",
       "    }\n",
       "\n",
       "    .dataframe tbody tr th {\n",
       "        vertical-align: top;\n",
       "    }\n",
       "\n",
       "    .dataframe thead th {\n",
       "        text-align: right;\n",
       "    }\n",
       "</style>\n",
       "<table border=\"1\" class=\"dataframe\">\n",
       "  <thead>\n",
       "    <tr style=\"text-align: right;\">\n",
       "      <th></th>\n",
       "      <th>count</th>\n",
       "      <th>unique</th>\n",
       "      <th>top</th>\n",
       "      <th>freq</th>\n",
       "    </tr>\n",
       "  </thead>\n",
       "  <tbody>\n",
       "    <tr>\n",
       "      <th>FL_DATE</th>\n",
       "      <td>250152</td>\n",
       "      <td>730</td>\n",
       "      <td>2018-07-19</td>\n",
       "      <td>394</td>\n",
       "    </tr>\n",
       "    <tr>\n",
       "      <th>TAIL_NUM</th>\n",
       "      <td>235143</td>\n",
       "      <td>2645</td>\n",
       "      <td>N110AN</td>\n",
       "      <td>761</td>\n",
       "    </tr>\n",
       "    <tr>\n",
       "      <th>ORIGIN</th>\n",
       "      <td>250152</td>\n",
       "      <td>72</td>\n",
       "      <td>LAX</td>\n",
       "      <td>25345</td>\n",
       "    </tr>\n",
       "    <tr>\n",
       "      <th>ORIGIN_CITY_NAME</th>\n",
       "      <td>250152</td>\n",
       "      <td>70</td>\n",
       "      <td>Los Angeles, CA</td>\n",
       "      <td>25345</td>\n",
       "    </tr>\n",
       "    <tr>\n",
       "      <th>ORIGIN_STATE_NM</th>\n",
       "      <td>250152</td>\n",
       "      <td>32</td>\n",
       "      <td>California</td>\n",
       "      <td>51137</td>\n",
       "    </tr>\n",
       "    <tr>\n",
       "      <th>DEST</th>\n",
       "      <td>250152</td>\n",
       "      <td>1</td>\n",
       "      <td>JFK</td>\n",
       "      <td>250152</td>\n",
       "    </tr>\n",
       "    <tr>\n",
       "      <th>DEST_CITY_NAME</th>\n",
       "      <td>250152</td>\n",
       "      <td>1</td>\n",
       "      <td>New York, NY</td>\n",
       "      <td>250152</td>\n",
       "    </tr>\n",
       "    <tr>\n",
       "      <th>DEST_STATE_NM</th>\n",
       "      <td>250152</td>\n",
       "      <td>1</td>\n",
       "      <td>New York</td>\n",
       "      <td>250152</td>\n",
       "    </tr>\n",
       "  </tbody>\n",
       "</table>\n",
       "</div>"
      ],
      "text/plain": [
       "                   count unique              top    freq\n",
       "FL_DATE           250152    730       2018-07-19     394\n",
       "TAIL_NUM          235143   2645           N110AN     761\n",
       "ORIGIN            250152     72              LAX   25345\n",
       "ORIGIN_CITY_NAME  250152     70  Los Angeles, CA   25345\n",
       "ORIGIN_STATE_NM   250152     32       California   51137\n",
       "DEST              250152      1              JFK  250152\n",
       "DEST_CITY_NAME    250152      1     New York, NY  250152\n",
       "DEST_STATE_NM     250152      1         New York  250152"
      ]
     },
     "execution_count": 27,
     "metadata": {},
     "output_type": "execute_result"
    }
   ],
   "source": [
    "df.select_dtypes(include=['object']).describe().T"
   ]
  },
  {
   "cell_type": "markdown",
   "metadata": {
    "id": "25VkoomnvWc7"
   },
   "source": [
    "#### 5. Número de valores nulos"
   ]
  },
  {
   "cell_type": "markdown",
   "metadata": {
    "id": "WQm61ld_vWc7"
   },
   "source": [
    "Aunque en el método describe se pueden saber las variables que contienen valores nulos (resultados - count), pandas dispone del método **isnull()**, que genera una matriz indicando los valores nulos, sobre la que podemos aplicar el método sum para sumarlos y conocer el total. "
   ]
  },
  {
   "cell_type": "markdown",
   "metadata": {
    "id": "OvkFUgFyvWc7"
   },
   "source": [
    "Es importante, siempre que podamos, trabajar por separado los atributos numéricos y categóricos para mantener una visión clara. "
   ]
  },
  {
   "cell_type": "code",
   "execution_count": 28,
   "metadata": {
    "ExecuteTime": {
     "end_time": "2021-09-19T02:48:50.468864Z",
     "start_time": "2021-09-19T02:48:50.461340Z"
    },
    "colab": {
     "base_uri": "https://localhost:8080/"
    },
    "id": "FSldE1F4vWc7",
    "outputId": "983a462d-06cc-4126-edc5-11afe6369fb9"
   },
   "outputs": [
    {
     "data": {
      "text/plain": [
       "OP_CARRIER_AIRLINE_ID    12508\n",
       "CRS_DEP_TIME                 0\n",
       "TAXI_OUT                 17511\n",
       "CRS_ARR_TIME                 0\n",
       "ARR_DEL15                    0\n",
       "CRS_ELAPSED_TIME             0\n",
       "DISTANCE                     0\n",
       "dtype: int64"
      ]
     },
     "execution_count": 28,
     "metadata": {},
     "output_type": "execute_result"
    }
   ],
   "source": [
    "df.select_dtypes(include=['number']).isnull().sum()"
   ]
  },
  {
   "cell_type": "code",
   "execution_count": 29,
   "metadata": {
    "ExecuteTime": {
     "end_time": "2021-09-19T02:48:50.556237Z",
     "start_time": "2021-09-19T02:48:50.473799Z"
    },
    "colab": {
     "base_uri": "https://localhost:8080/"
    },
    "id": "3iAUoKbyvWc8",
    "outputId": "71eda9ca-6137-4772-c42b-1390f4941f49"
   },
   "outputs": [
    {
     "data": {
      "text/plain": [
       "FL_DATE                 0\n",
       "TAIL_NUM            15009\n",
       "ORIGIN                  0\n",
       "ORIGIN_CITY_NAME        0\n",
       "ORIGIN_STATE_NM         0\n",
       "DEST                    0\n",
       "DEST_CITY_NAME          0\n",
       "DEST_STATE_NM           0\n",
       "dtype: int64"
      ]
     },
     "execution_count": 29,
     "metadata": {},
     "output_type": "execute_result"
    }
   ],
   "source": [
    "df.select_dtypes(include=['object']).isnull().sum()"
   ]
  },
  {
   "cell_type": "markdown",
   "metadata": {
    "id": "F54D8S4-vWc8"
   },
   "source": [
    "#### 6. Distribución de los valores del target"
   ]
  },
  {
   "cell_type": "markdown",
   "metadata": {
    "id": "5zZRlbtevWc8"
   },
   "source": [
    "En los problemas de clasificación supervisada, uno de los aspectos clave a conocer es la distribución del target. En caso de un target categórico, debemos saber el valor y número de registros en cada categoría. Para esto, las Series de pandas disponen del método **value_counts()**."
   ]
  },
  {
   "cell_type": "code",
   "execution_count": 30,
   "metadata": {
    "ExecuteTime": {
     "end_time": "2021-09-19T02:48:50.562137Z",
     "start_time": "2021-09-19T02:48:50.557105Z"
    },
    "colab": {
     "base_uri": "https://localhost:8080/"
    },
    "id": "NTNIryLcvWc9",
    "outputId": "4bc8ce9b-0615-4dbb-c9a1-5f9756bc4fde"
   },
   "outputs": [
    {
     "data": {
      "text/plain": [
       "0.00    197520\n",
       "1.00     52632\n",
       "Name: ARR_DEL15, dtype: int64"
      ]
     },
     "execution_count": 30,
     "metadata": {},
     "output_type": "execute_result"
    }
   ],
   "source": [
    "df['ARR_DEL15'].value_counts()"
   ]
  },
  {
   "cell_type": "code",
   "execution_count": 31,
   "metadata": {
    "ExecuteTime": {
     "end_time": "2021-09-19T02:48:50.567834Z",
     "start_time": "2021-09-19T02:48:50.562987Z"
    },
    "colab": {
     "base_uri": "https://localhost:8080/"
    },
    "id": "JDbi7MSTK-vn",
    "outputId": "c7690b61-0165-4768-ef8c-98771ad4ae29"
   },
   "outputs": [
    {
     "data": {
      "text/plain": [
       "0.00   0.79\n",
       "1.00   0.21\n",
       "Name: ARR_DEL15, dtype: float64"
      ]
     },
     "execution_count": 31,
     "metadata": {},
     "output_type": "execute_result"
    }
   ],
   "source": [
    "df['ARR_DEL15'].value_counts()/len(df)"
   ]
  },
  {
   "cell_type": "markdown",
   "metadata": {
    "id": "3KvX7XmLvWc9"
   },
   "source": [
    "Aquí es importante recordar que, a partir de un DataFrame, se pueden generar Series o DataFrames con el claudátor simple o doble. Por ejemplo: "
   ]
  },
  {
   "cell_type": "code",
   "execution_count": 32,
   "metadata": {
    "ExecuteTime": {
     "end_time": "2021-09-19T02:48:50.574013Z",
     "start_time": "2021-09-19T02:48:50.568749Z"
    },
    "colab": {
     "base_uri": "https://localhost:8080/",
     "height": 238
    },
    "id": "U_pL5tSfvWc9",
    "outputId": "d65a8294-2359-4089-daab-5e426e28d6e8"
   },
   "outputs": [
    {
     "name": "stdout",
     "output_type": "stream",
     "text": [
      "Esto es un DataFrame\n",
      "<class 'pandas.core.frame.DataFrame'>\n"
     ]
    },
    {
     "data": {
      "text/html": [
       "<div>\n",
       "<style scoped>\n",
       "    .dataframe tbody tr th:only-of-type {\n",
       "        vertical-align: middle;\n",
       "    }\n",
       "\n",
       "    .dataframe tbody tr th {\n",
       "        vertical-align: top;\n",
       "    }\n",
       "\n",
       "    .dataframe thead th {\n",
       "        text-align: right;\n",
       "    }\n",
       "</style>\n",
       "<table border=\"1\" class=\"dataframe\">\n",
       "  <thead>\n",
       "    <tr style=\"text-align: right;\">\n",
       "      <th></th>\n",
       "      <th>ARR_DEL15</th>\n",
       "    </tr>\n",
       "  </thead>\n",
       "  <tbody>\n",
       "    <tr>\n",
       "      <th>0</th>\n",
       "      <td>0.00</td>\n",
       "    </tr>\n",
       "    <tr>\n",
       "      <th>1</th>\n",
       "      <td>0.00</td>\n",
       "    </tr>\n",
       "    <tr>\n",
       "      <th>2</th>\n",
       "      <td>0.00</td>\n",
       "    </tr>\n",
       "    <tr>\n",
       "      <th>3</th>\n",
       "      <td>0.00</td>\n",
       "    </tr>\n",
       "    <tr>\n",
       "      <th>4</th>\n",
       "      <td>0.00</td>\n",
       "    </tr>\n",
       "  </tbody>\n",
       "</table>\n",
       "</div>"
      ],
      "text/plain": [
       "   ARR_DEL15\n",
       "0       0.00\n",
       "1       0.00\n",
       "2       0.00\n",
       "3       0.00\n",
       "4       0.00"
      ]
     },
     "execution_count": 32,
     "metadata": {},
     "output_type": "execute_result"
    }
   ],
   "source": [
    "print('Esto es un DataFrame')\n",
    "print(type(df[['ARR_DEL15']]))\n",
    "df[['ARR_DEL15']].head()"
   ]
  },
  {
   "cell_type": "code",
   "execution_count": 33,
   "metadata": {
    "ExecuteTime": {
     "end_time": "2021-09-19T02:48:50.577916Z",
     "start_time": "2021-09-19T02:48:50.574831Z"
    },
    "colab": {
     "base_uri": "https://localhost:8080/"
    },
    "id": "ISxgPVBuvWc-",
    "outputId": "2251975b-5922-4526-af72-fd74d92e812a"
   },
   "outputs": [
    {
     "name": "stdout",
     "output_type": "stream",
     "text": [
      "Esto es una Serie\n",
      "<class 'pandas.core.series.Series'>\n"
     ]
    },
    {
     "data": {
      "text/plain": [
       "0   0.00\n",
       "1   0.00\n",
       "2   0.00\n",
       "3   0.00\n",
       "4   0.00\n",
       "Name: ARR_DEL15, dtype: float64"
      ]
     },
     "execution_count": 33,
     "metadata": {},
     "output_type": "execute_result"
    }
   ],
   "source": [
    "print('Esto es una Serie')\n",
    "print(type(df['ARR_DEL15']))\n",
    "df['ARR_DEL15'].head()"
   ]
  },
  {
   "cell_type": "markdown",
   "metadata": {
    "id": "TLrI8yN3vWc-"
   },
   "source": [
    "Es importante conocer el tipo de datos con el que estamos trabajando, pues cada tipo de datos dispone de unos métodos determinados. El método value_counts, por ejemplo, sólo está disponible en las Series. "
   ]
  },
  {
   "cell_type": "markdown",
   "metadata": {
    "id": "gIUxH2CcvWc_"
   },
   "source": [
    "Al llamar a value_counts, es importante usar el parámetro **dropna = False** para ver si hay valores nulos (en caso de que no lo hayamos hecho antes)."
   ]
  },
  {
   "cell_type": "code",
   "execution_count": 34,
   "metadata": {
    "ExecuteTime": {
     "end_time": "2021-09-19T02:48:50.583289Z",
     "start_time": "2021-09-19T02:48:50.578610Z"
    },
    "colab": {
     "base_uri": "https://localhost:8080/"
    },
    "id": "KUp1tRKAvWc_",
    "outputId": "3807cbd5-a491-46f3-e617-0c611b805a9f"
   },
   "outputs": [
    {
     "data": {
      "text/plain": [
       "0.00    197520\n",
       "1.00     52632\n",
       "Name: ARR_DEL15, dtype: int64"
      ]
     },
     "execution_count": 34,
     "metadata": {},
     "output_type": "execute_result"
    }
   ],
   "source": [
    "df['ARR_DEL15'].value_counts(dropna=False)"
   ]
  },
  {
   "cell_type": "markdown",
   "metadata": {
    "id": "Qw0vBi5BvWc_"
   },
   "source": [
    "Asimismo, podemos utilizar el *easy plot* de Seaborn para obtener una visualización sencilla. "
   ]
  },
  {
   "cell_type": "code",
   "execution_count": 35,
   "metadata": {
    "ExecuteTime": {
     "end_time": "2021-09-19T02:48:50.672561Z",
     "start_time": "2021-09-19T02:48:50.584193Z"
    },
    "colab": {
     "base_uri": "https://localhost:8080/",
     "height": 299
    },
    "id": "1ENhzF1_vWc_",
    "outputId": "1970fe61-5131-47d5-d743-23fbed7b2e32"
   },
   "outputs": [
    {
     "data": {
      "text/plain": [
       "<matplotlib.axes._subplots.AxesSubplot at 0x7fdf4997e190>"
      ]
     },
     "execution_count": 35,
     "metadata": {},
     "output_type": "execute_result"
    },
    {
     "data": {
      "image/png": "[encoded data removed]",
      "text/plain": [
       "<Figure size 432x288 with 1 Axes>"
      ]
     },
     "metadata": {},
     "output_type": "display_data"
    }
   ],
   "source": [
    "sns.countplot(data=df, x='ARR_DEL15')"
   ]
  },
  {
   "cell_type": "markdown",
   "metadata": {
    "id": "bihQ9v2RvWdA"
   },
   "source": [
    "Vemos que el target contiene 2 valores en formato numérico: \n",
    "- ARR_DEL15 = 1\n",
    "- ARR_DEL15 = 0 \n",
    "\n",
    "Es aconsejable tener siempre el valor del target en una variable 0/1, para poder hacer agregaciones como las que veremos a continuación. "
   ]
  },
  {
   "cell_type": "markdown",
   "metadata": {
    "id": "hDi5F2BIvWdA"
   },
   "source": [
    "Para realizar la conversión, es posible utilizar el operador de evaluación. En Python, cualquier cosa que incluyamos entre paréntesis **()** será evaluada, por lo que podemos incluir dentro de un paréntesis la evaluación de una igualdad (recordad, doble igual **==**) de manera que el paréntesis lo evalúe.\\\n",
    "Cuando la evaluación sea cierta, generará un valor booleano True, cuando no lo sea, generará un False.\\\n",
    "Al aplicar el método astype(int) al resultado de la evaluación, forzará la conversión **True->1** y **False->0**."
   ]
  },
  {
   "cell_type": "markdown",
   "metadata": {
    "id": "HAAkJQNivWdA"
   },
   "source": [
    "**Ejemplo en caso de que el target sea un string Yes, No**"
   ]
  },
  {
   "cell_type": "code",
   "execution_count": 36,
   "metadata": {
    "ExecuteTime": {
     "end_time": "2021-09-19T02:48:50.674992Z",
     "start_time": "2021-09-19T02:48:50.673500Z"
    },
    "id": "r7lxl1GAvWdB"
   },
   "outputs": [],
   "source": [
    "# df['ARR_DEL15'] = (df['ARR_DEL15'] == 'Yes').astype(int)"
   ]
  },
  {
   "cell_type": "code",
   "execution_count": 37,
   "metadata": {
    "ExecuteTime": {
     "end_time": "2021-09-19T02:48:50.677219Z",
     "start_time": "2021-09-19T02:48:50.675673Z"
    },
    "id": "avQon6xYvWdB"
   },
   "outputs": [],
   "source": [
    "# df[['ARR_DEL15']].head()"
   ]
  },
  {
   "cell_type": "markdown",
   "metadata": {
    "id": "i09TSta4vWdB"
   },
   "source": [
    "Como hemos comentado, el disponer de la clase en formato numérico nos permite hacer alguna operaciones interesantes."
   ]
  },
  {
   "cell_type": "markdown",
   "metadata": {
    "id": "0h_rDeLpvWdC"
   },
   "source": [
    "Al hacer un **count** sobre la Serie de la clase, obtenemos el número total de valores (número de registros del DataFrame). "
   ]
  },
  {
   "cell_type": "code",
   "execution_count": 38,
   "metadata": {
    "ExecuteTime": {
     "end_time": "2021-09-19T02:48:50.680970Z",
     "start_time": "2021-09-19T02:48:50.678152Z"
    },
    "colab": {
     "base_uri": "https://localhost:8080/"
    },
    "id": "pHb2xHRevWdC",
    "outputId": "0d2f197f-8308-4bb8-b165-c82d71e90328"
   },
   "outputs": [
    {
     "data": {
      "text/plain": [
       "250152"
      ]
     },
     "execution_count": 38,
     "metadata": {},
     "output_type": "execute_result"
    }
   ],
   "source": [
    "df['ARR_DEL15'].count()"
   ]
  },
  {
   "cell_type": "markdown",
   "metadata": {
    "id": "2b_REwZbvWdC"
   },
   "source": [
    "Con **sum**, obtenemos la suma. Como los negativos son 0 y los positivos 1, tendremos como resultado el número de ejemplos positivos.  "
   ]
  },
  {
   "cell_type": "code",
   "execution_count": 39,
   "metadata": {
    "ExecuteTime": {
     "end_time": "2021-09-19T02:48:50.684404Z",
     "start_time": "2021-09-19T02:48:50.681862Z"
    },
    "colab": {
     "base_uri": "https://localhost:8080/"
    },
    "id": "nfE8cvtDvWdC",
    "outputId": "edca573c-7a90-4cd5-9a88-e77b133f530e"
   },
   "outputs": [
    {
     "data": {
      "text/plain": [
       "52632.0"
      ]
     },
     "execution_count": 39,
     "metadata": {},
     "output_type": "execute_result"
    }
   ],
   "source": [
    "df['ARR_DEL15'].sum()"
   ]
  },
  {
   "cell_type": "markdown",
   "metadata": {
    "id": "_Vtx8VKGvWdD"
   },
   "source": [
    "Igualmente, con **mean** obtendremos el número total de registros con 1 sobre el total, es decir, la ratio de prevalencia de la clase positiva."
   ]
  },
  {
   "cell_type": "code",
   "execution_count": 40,
   "metadata": {
    "ExecuteTime": {
     "end_time": "2021-09-19T02:48:50.687838Z",
     "start_time": "2021-09-19T02:48:50.685272Z"
    },
    "colab": {
     "base_uri": "https://localhost:8080/"
    },
    "id": "wfM4yPsOvWdD",
    "outputId": "146bd879-b967-4ece-810d-65840690fd4c"
   },
   "outputs": [
    {
     "data": {
      "text/plain": [
       "0.21040007675333397"
      ]
     },
     "execution_count": 40,
     "metadata": {},
     "output_type": "execute_result"
    }
   ],
   "source": [
    "df['ARR_DEL15'].mean()"
   ]
  },
  {
   "cell_type": "markdown",
   "metadata": {
    "id": "3NoiFOkFvWdD"
   },
   "source": [
    "#### 7 a 9. Distribución de variables y correlación con el target"
   ]
  },
  {
   "cell_type": "markdown",
   "metadata": {
    "id": "XMqSd5A2vWdD"
   },
   "source": [
    "Vamos a empezar la exploración de algunas variables. Con ello, haremos un repaso de métodos de pandas, matplotlib y seaborn. "
   ]
  },
  {
   "cell_type": "markdown",
   "metadata": {
    "id": "w64X7KISvWdE"
   },
   "source": [
    "#### Exploramos las variables de fecha"
   ]
  },
  {
   "cell_type": "markdown",
   "metadata": {
    "id": "Joj0QJMNvWdE"
   },
   "source": [
    "Vamos a generar una muestra sobre el DataFrame original con los registros del aeropuerto LAX de Los Angeles, usando el **boolean indexing** (nos quedamos con registros que cumplan la coondición indicada)."
   ]
  },
  {
   "cell_type": "code",
   "execution_count": 41,
   "metadata": {
    "ExecuteTime": {
     "end_time": "2021-09-19T02:48:50.706860Z",
     "start_time": "2021-09-19T02:48:50.688741Z"
    },
    "id": "lKTj8s-6vWdE"
   },
   "outputs": [],
   "source": [
    "LAX_df = df[df['ORIGIN']=='LAX']"
   ]
  },
  {
   "cell_type": "code",
   "execution_count": 42,
   "metadata": {
    "ExecuteTime": {
     "end_time": "2021-09-19T02:48:50.715840Z",
     "start_time": "2021-09-19T02:48:50.707831Z"
    },
    "colab": {
     "base_uri": "https://localhost:8080/",
     "height": 309
    },
    "id": "uFePUk9ovWdE",
    "outputId": "e475a227-2a57-4155-ee3a-c6bb2f7a53b4"
   },
   "outputs": [
    {
     "data": {
      "text/html": [
       "<div>\n",
       "<style scoped>\n",
       "    .dataframe tbody tr th:only-of-type {\n",
       "        vertical-align: middle;\n",
       "    }\n",
       "\n",
       "    .dataframe tbody tr th {\n",
       "        vertical-align: top;\n",
       "    }\n",
       "\n",
       "    .dataframe thead th {\n",
       "        text-align: right;\n",
       "    }\n",
       "</style>\n",
       "<table border=\"1\" class=\"dataframe\">\n",
       "  <thead>\n",
       "    <tr style=\"text-align: right;\">\n",
       "      <th></th>\n",
       "      <th>FL_DATE</th>\n",
       "      <th>OP_CARRIER_AIRLINE_ID</th>\n",
       "      <th>TAIL_NUM</th>\n",
       "      <th>ORIGIN</th>\n",
       "      <th>ORIGIN_CITY_NAME</th>\n",
       "      <th>ORIGIN_STATE_NM</th>\n",
       "      <th>DEST</th>\n",
       "      <th>DEST_CITY_NAME</th>\n",
       "      <th>DEST_STATE_NM</th>\n",
       "      <th>CRS_DEP_TIME</th>\n",
       "      <th>TAXI_OUT</th>\n",
       "      <th>CRS_ARR_TIME</th>\n",
       "      <th>ARR_DEL15</th>\n",
       "      <th>CRS_ELAPSED_TIME</th>\n",
       "      <th>DISTANCE</th>\n",
       "    </tr>\n",
       "  </thead>\n",
       "  <tbody>\n",
       "    <tr>\n",
       "      <th>34</th>\n",
       "      <td>2018-02-01</td>\n",
       "      <td>19,805.00</td>\n",
       "      <td>N104NN</td>\n",
       "      <td>LAX</td>\n",
       "      <td>Los Angeles, CA</td>\n",
       "      <td>California</td>\n",
       "      <td>JFK</td>\n",
       "      <td>New York, NY</td>\n",
       "      <td>New York</td>\n",
       "      <td>1530</td>\n",
       "      <td>40.00</td>\n",
       "      <td>2359</td>\n",
       "      <td>1.00</td>\n",
       "      <td>329.00</td>\n",
       "      <td>2,475.00</td>\n",
       "    </tr>\n",
       "    <tr>\n",
       "      <th>35</th>\n",
       "      <td>2018-02-01</td>\n",
       "      <td>19,805.00</td>\n",
       "      <td>N117AN</td>\n",
       "      <td>LAX</td>\n",
       "      <td>Los Angeles, CA</td>\n",
       "      <td>California</td>\n",
       "      <td>JFK</td>\n",
       "      <td>New York, NY</td>\n",
       "      <td>New York</td>\n",
       "      <td>1045</td>\n",
       "      <td>24.00</td>\n",
       "      <td>1919</td>\n",
       "      <td>0.00</td>\n",
       "      <td>334.00</td>\n",
       "      <td>2,475.00</td>\n",
       "    </tr>\n",
       "    <tr>\n",
       "      <th>36</th>\n",
       "      <td>2018-02-01</td>\n",
       "      <td>19,805.00</td>\n",
       "      <td>N111ZM</td>\n",
       "      <td>LAX</td>\n",
       "      <td>Los Angeles, CA</td>\n",
       "      <td>California</td>\n",
       "      <td>JFK</td>\n",
       "      <td>New York, NY</td>\n",
       "      <td>New York</td>\n",
       "      <td>1630</td>\n",
       "      <td>36.00</td>\n",
       "      <td>59</td>\n",
       "      <td>0.00</td>\n",
       "      <td>329.00</td>\n",
       "      <td>2,475.00</td>\n",
       "    </tr>\n",
       "    <tr>\n",
       "      <th>39</th>\n",
       "      <td>2018-02-01</td>\n",
       "      <td>19,805.00</td>\n",
       "      <td>N101NN</td>\n",
       "      <td>LAX</td>\n",
       "      <td>Los Angeles, CA</td>\n",
       "      <td>California</td>\n",
       "      <td>JFK</td>\n",
       "      <td>New York, NY</td>\n",
       "      <td>New York</td>\n",
       "      <td>1245</td>\n",
       "      <td>17.00</td>\n",
       "      <td>2123</td>\n",
       "      <td>0.00</td>\n",
       "      <td>338.00</td>\n",
       "      <td>2,475.00</td>\n",
       "    </tr>\n",
       "    <tr>\n",
       "      <th>100</th>\n",
       "      <td>2018-02-01</td>\n",
       "      <td>19,790.00</td>\n",
       "      <td>NaN</td>\n",
       "      <td>LAX</td>\n",
       "      <td>Los Angeles, CA</td>\n",
       "      <td>California</td>\n",
       "      <td>JFK</td>\n",
       "      <td>New York, NY</td>\n",
       "      <td>New York</td>\n",
       "      <td>1130</td>\n",
       "      <td>27.00</td>\n",
       "      <td>2000</td>\n",
       "      <td>0.00</td>\n",
       "      <td>330.00</td>\n",
       "      <td>2,475.00</td>\n",
       "    </tr>\n",
       "  </tbody>\n",
       "</table>\n",
       "</div>"
      ],
      "text/plain": [
       "        FL_DATE  OP_CARRIER_AIRLINE_ID TAIL_NUM ORIGIN ORIGIN_CITY_NAME  \\\n",
       "34   2018-02-01              19,805.00   N104NN    LAX  Los Angeles, CA   \n",
       "35   2018-02-01              19,805.00   N117AN    LAX  Los Angeles, CA   \n",
       "36   2018-02-01              19,805.00   N111ZM    LAX  Los Angeles, CA   \n",
       "39   2018-02-01              19,805.00   N101NN    LAX  Los Angeles, CA   \n",
       "100  2018-02-01              19,790.00      NaN    LAX  Los Angeles, CA   \n",
       "\n",
       "    ORIGIN_STATE_NM DEST DEST_CITY_NAME DEST_STATE_NM  CRS_DEP_TIME  TAXI_OUT  \\\n",
       "34       California  JFK   New York, NY      New York          1530     40.00   \n",
       "35       California  JFK   New York, NY      New York          1045     24.00   \n",
       "36       California  JFK   New York, NY      New York          1630     36.00   \n",
       "39       California  JFK   New York, NY      New York          1245     17.00   \n",
       "100      California  JFK   New York, NY      New York          1130     27.00   \n",
       "\n",
       "     CRS_ARR_TIME  ARR_DEL15  CRS_ELAPSED_TIME  DISTANCE  \n",
       "34           2359       1.00            329.00  2,475.00  \n",
       "35           1919       0.00            334.00  2,475.00  \n",
       "36             59       0.00            329.00  2,475.00  \n",
       "39           2123       0.00            338.00  2,475.00  \n",
       "100          2000       0.00            330.00  2,475.00  "
      ]
     },
     "execution_count": 42,
     "metadata": {},
     "output_type": "execute_result"
    }
   ],
   "source": [
    "LAX_df.head()"
   ]
  },
  {
   "cell_type": "code",
   "execution_count": 43,
   "metadata": {
    "ExecuteTime": {
     "end_time": "2021-09-19T02:48:50.722870Z",
     "start_time": "2021-09-19T02:48:50.716898Z"
    },
    "id": "UycURYBBvWdF"
   },
   "outputs": [],
   "source": [
    "LAX_df_dia = LAX_df[['FL_DATE','ARR_DEL15']].groupby(['FL_DATE']).mean()"
   ]
  },
  {
   "cell_type": "markdown",
   "metadata": {
    "id": "CJgM3tZMvWdF"
   },
   "source": [
    "El método groupby modifica automáticament el índice, asignando como índice la variable con la que hacemos el grouping, en este caso, la fecha ('FL_DATE'). Hay otro método que podemos utilizar para asignar una variable como índice:\n",
    "df.set_index('FL_DATE', inplace=True).\n",
    "\n",
    "Es muy útil asignar una fecha como índice para realizar gráficos."
   ]
  },
  {
   "cell_type": "code",
   "execution_count": 44,
   "metadata": {
    "ExecuteTime": {
     "end_time": "2021-09-19T02:48:50.726386Z",
     "start_time": "2021-09-19T02:48:50.723785Z"
    },
    "id": "zWQ00CEQvWdF"
   },
   "outputs": [],
   "source": [
    "pd.DataFrame.plot?"
   ]
  },
  {
   "cell_type": "code",
   "execution_count": 45,
   "metadata": {
    "ExecuteTime": {
     "end_time": "2021-09-19T02:48:50.732115Z",
     "start_time": "2021-09-19T02:48:50.727334Z"
    },
    "colab": {
     "base_uri": "https://localhost:8080/"
    },
    "id": "OQMvFw49vWdF",
    "outputId": "5a9a390f-b848-4d81-cd22-a4124e3b7332",
    "scrolled": false
   },
   "outputs": [
    {
     "name": "stdout",
     "output_type": "stream",
     "text": [
      "<class 'pandas.core.frame.DataFrame'>\n",
      "Index: 730 entries, 2018-01-01 to 2019-12-31\n",
      "Columns: 1 entries, ARR_DEL15 to ARR_DEL15\n",
      "dtypes: float64(1)\n",
      "memory usage: 11.4+ KB\n"
     ]
    }
   ],
   "source": [
    "LAX_df_dia.info(verbose=False)"
   ]
  },
  {
   "cell_type": "markdown",
   "metadata": {
    "id": "nXMYbP3KvWdG"
   },
   "source": [
    "Convertimos el indice del dataset en un indice datetime, lo que nos permitirá trabajar de forma mucho más sencilla para hacer summaries y plots"
   ]
  },
  {
   "cell_type": "code",
   "execution_count": 46,
   "metadata": {
    "ExecuteTime": {
     "end_time": "2021-09-19T02:48:50.735714Z",
     "start_time": "2021-09-19T02:48:50.733005Z"
    },
    "id": "4msFl2eCvWdG"
   },
   "outputs": [],
   "source": [
    "LAX_df_dia.index = pd.to_datetime(LAX_df_dia.index)"
   ]
  },
  {
   "cell_type": "markdown",
   "metadata": {
    "id": "bHtMbpszvWdG"
   },
   "source": [
    "Con este DataFrame reducido, podemos generar gráficos a partir del método **plot()** de las Series, accediendo con el claudátor simple. "
   ]
  },
  {
   "cell_type": "code",
   "execution_count": 47,
   "metadata": {
    "ExecuteTime": {
     "end_time": "2021-09-19T02:48:50.848351Z",
     "start_time": "2021-09-19T02:48:50.736523Z"
    },
    "colab": {
     "base_uri": "https://localhost:8080/",
     "height": 257
    },
    "id": "4Y4KPzVxvWdG",
    "outputId": "8bc21f5b-d1ec-41b7-b3a1-44bd2498d3e0",
    "scrolled": true
   },
   "outputs": [
    {
     "data": {
      "text/plain": [
       "<matplotlib.axes._subplots.AxesSubplot at 0x7fdf3ba8f9a0>"
      ]
     },
     "execution_count": 47,
     "metadata": {},
     "output_type": "execute_result"
    },
    {
     "data": {
      "image/png": "[encoded data removed]",
      "text/plain": [
       "<Figure size 648x216 with 1 Axes>"
      ]
     },
     "metadata": {},
     "output_type": "display_data"
    }
   ],
   "source": [
    "plt.figure(figsize=[9,3])\n",
    "LAX_df_dia['ARR_DEL15'].plot()"
   ]
  },
  {
   "cell_type": "markdown",
   "metadata": {
    "id": "XZpMFaK5vWdH"
   },
   "source": [
    "Extraemos la media semanal de retrasos en los vuelos, esto nos permitirá ver de forma más nitida si la serie tiene cierta estacionalidad"
   ]
  },
  {
   "cell_type": "code",
   "execution_count": 48,
   "metadata": {
    "ExecuteTime": {
     "end_time": "2021-09-19T02:48:50.857794Z",
     "start_time": "2021-09-19T02:48:50.849392Z"
    },
    "id": "nDOIIfvBvWdH"
   },
   "outputs": [],
   "source": [
    "media_retrasos_semanal = LAX_df_dia['ARR_DEL15'].resample('W').mean()"
   ]
  },
  {
   "cell_type": "code",
   "execution_count": 49,
   "metadata": {
    "ExecuteTime": {
     "end_time": "2021-09-19T02:48:50.957122Z",
     "start_time": "2021-09-19T02:48:50.858718Z"
    },
    "colab": {
     "base_uri": "https://localhost:8080/",
     "height": 314
    },
    "id": "9-DJo5n-vWdH",
    "outputId": "ff7106af-fb00-4f78-d3e4-9bbf039fec56",
    "scrolled": false
   },
   "outputs": [
    {
     "data": {
      "text/plain": [
       "<matplotlib.axes._subplots.AxesSubplot at 0x7fdf1889c9a0>"
      ]
     },
     "execution_count": 49,
     "metadata": {},
     "output_type": "execute_result"
    },
    {
     "data": {
      "image/png": "[encoded data removed]",
      "text/plain": [
       "<Figure size 432x288 with 1 Axes>"
      ]
     },
     "metadata": {},
     "output_type": "display_data"
    }
   ],
   "source": [
    "media_retrasos_semanal.plot()"
   ]
  },
  {
   "cell_type": "code",
   "execution_count": 50,
   "metadata": {
    "ExecuteTime": {
     "end_time": "2021-09-19T02:48:50.961240Z",
     "start_time": "2021-09-19T02:48:50.957903Z"
    },
    "id": "EXkKHgdZvWdI"
   },
   "outputs": [],
   "source": [
    "media_retrasos_mensual = LAX_df_dia['ARR_DEL15'].resample('M').mean()"
   ]
  },
  {
   "cell_type": "code",
   "execution_count": 51,
   "metadata": {
    "ExecuteTime": {
     "end_time": "2021-09-19T02:48:51.053345Z",
     "start_time": "2021-09-19T02:48:50.962661Z"
    },
    "colab": {
     "base_uri": "https://localhost:8080/",
     "height": 311
    },
    "id": "IuYexK1BvWdI",
    "outputId": "ba6c0ff2-9777-4ea0-8146-441deb9c29d5"
   },
   "outputs": [
    {
     "data": {
      "text/plain": [
       "<matplotlib.axes._subplots.AxesSubplot at 0x7fdf3bdb89d0>"
      ]
     },
     "execution_count": 51,
     "metadata": {},
     "output_type": "execute_result"
    },
    {
     "data": {
      "image/png": "[encoded data removed]",
      "text/plain": [
       "<Figure size 432x288 with 1 Axes>"
      ]
     },
     "metadata": {},
     "output_type": "display_data"
    }
   ],
   "source": [
    "media_retrasos_mensual.plot()"
   ]
  },
  {
   "cell_type": "markdown",
   "metadata": {
    "id": "Wgl9B4B9vWdI"
   },
   "source": [
    "Observamos picks constantes en la proporción de vuelos con retraso. Sin embargo, vemos también que en ciertas épocas del año, sobretodo en verano se concentran mayores números de retrasos."
   ]
  },
  {
   "cell_type": "markdown",
   "metadata": {
    "id": "iRHWJK8AvWdI"
   },
   "source": [
    "**Taxi out**"
   ]
  },
  {
   "cell_type": "code",
   "execution_count": 52,
   "metadata": {
    "ExecuteTime": {
     "end_time": "2021-09-19T02:48:51.229526Z",
     "start_time": "2021-09-19T02:48:51.054140Z"
    },
    "colab": {
     "base_uri": "https://localhost:8080/",
     "height": 282
    },
    "id": "Cvf0HbG2vWdI",
    "outputId": "ed6ee431-acff-4f87-ed46-d38d6c912702"
   },
   "outputs": [
    {
     "data": {
      "text/plain": [
       "<matplotlib.axes._subplots.AxesSubplot at 0x7fdf189b1400>"
      ]
     },
     "execution_count": 52,
     "metadata": {},
     "output_type": "execute_result"
    },
    {
     "data": {
      "image/png": "[encoded data removed]",
      "text/plain": [
       "<Figure size 432x288 with 1 Axes>"
      ]
     },
     "metadata": {},
     "output_type": "display_data"
    }
   ],
   "source": [
    "df['TAXI_OUT'].plot(kind='hist', bins = 100)"
   ]
  },
  {
   "cell_type": "code",
   "execution_count": 53,
   "metadata": {
    "ExecuteTime": {
     "end_time": "2021-09-19T02:48:51.361035Z",
     "start_time": "2021-09-19T02:48:51.230466Z"
    },
    "colab": {
     "base_uri": "https://localhost:8080/",
     "height": 299
    },
    "id": "iiIQJRx-vWdJ",
    "outputId": "f7740d04-2809-4615-bed8-9f28682bb4da",
    "scrolled": true
   },
   "outputs": [
    {
     "data": {
      "text/plain": [
       "<matplotlib.axes._subplots.AxesSubplot at 0x7fdf3bdb84c0>"
      ]
     },
     "execution_count": 53,
     "metadata": {},
     "output_type": "execute_result"
    },
    {
     "data": {
      "image/png": "[encoded data removed]",
      "text/plain": [
       "<Figure size 432x288 with 1 Axes>"
      ]
     },
     "metadata": {},
     "output_type": "display_data"
    }
   ],
   "source": [
    "sns.boxplot(data=df, x='ARR_DEL15', y='TAXI_OUT')"
   ]
  },
  {
   "cell_type": "markdown",
   "metadata": {
    "id": "jwW729YBvWdJ"
   },
   "source": [
    "**Variable de hora de salida y llegada**"
   ]
  },
  {
   "cell_type": "code",
   "execution_count": 54,
   "metadata": {
    "ExecuteTime": {
     "end_time": "2021-09-19T02:48:51.517916Z",
     "start_time": "2021-09-19T02:48:51.362165Z"
    },
    "colab": {
     "base_uri": "https://localhost:8080/",
     "height": 282
    },
    "id": "75ppxot7vWdJ",
    "outputId": "ec9e8533-82a4-4dfb-f016-c56647370321",
    "scrolled": true
   },
   "outputs": [
    {
     "data": {
      "text/plain": [
       "<matplotlib.axes._subplots.AxesSubplot at 0x7fdf288e5e80>"
      ]
     },
     "execution_count": 54,
     "metadata": {},
     "output_type": "execute_result"
    },
    {
     "data": {
      "image/png": "[encoded data removed]",
      "text/plain": [
       "<Figure size 432x288 with 1 Axes>"
      ]
     },
     "metadata": {},
     "output_type": "display_data"
    }
   ],
   "source": [
    "df['CRS_DEP_TIME'].plot(kind='hist', alpha=.5, bins = 20)\n",
    "df['CRS_ARR_TIME'].plot(kind='hist', alpha=.5, bins = 20)"
   ]
  },
  {
   "cell_type": "code",
   "execution_count": 55,
   "metadata": {
    "ExecuteTime": {
     "end_time": "2021-09-19T02:48:51.675780Z",
     "start_time": "2021-09-19T02:48:51.518982Z"
    },
    "colab": {
     "base_uri": "https://localhost:8080/",
     "height": 282
    },
    "id": "PstCAxXmvWdK",
    "outputId": "0a74e270-5eec-4ab1-ece1-52aa3f15dbf2"
   },
   "outputs": [
    {
     "data": {
      "text/plain": [
       "<matplotlib.axes._subplots.AxesSubplot at 0x7fdf29c745b0>"
      ]
     },
     "execution_count": 55,
     "metadata": {},
     "output_type": "execute_result"
    },
    {
     "data": {
      "image/png": "[encoded data removed]",
      "text/plain": [
       "<Figure size 432x288 with 1 Axes>"
      ]
     },
     "metadata": {},
     "output_type": "display_data"
    }
   ],
   "source": [
    "df[df.ARR_DEL15 == 0]['CRS_ARR_TIME'].plot(kind='hist', alpha=.5)\n",
    "df[df.ARR_DEL15 == 1]['CRS_ARR_TIME'].plot(kind='hist', alpha=.5)"
   ]
  },
  {
   "cell_type": "markdown",
   "metadata": {
    "id": "_vmR1lAivWdK"
   },
   "source": [
    "Observamos que a última hora del día se acumulan un mayor número de vuelos con retraso. Es importante comprara este dato con el número total de vuelos a esa hora para sacar conclusiones correctas."
   ]
  },
  {
   "cell_type": "markdown",
   "metadata": {
    "id": "revXh40SvWdK"
   },
   "source": [
    "**Distancia**"
   ]
  },
  {
   "cell_type": "code",
   "execution_count": 56,
   "metadata": {
    "ExecuteTime": {
     "end_time": "2021-09-19T02:48:51.741191Z",
     "start_time": "2021-09-19T02:48:51.676723Z"
    },
    "colab": {
     "base_uri": "https://localhost:8080/",
     "height": 282
    },
    "id": "JM-sgdztvWdK",
    "outputId": "a6a2dc4b-f200-4ef7-e9bb-96c8e8c3f625"
   },
   "outputs": [
    {
     "data": {
      "text/plain": [
       "<matplotlib.axes._subplots.AxesSubplot at 0x7fdf29c02250>"
      ]
     },
     "execution_count": 56,
     "metadata": {},
     "output_type": "execute_result"
    },
    {
     "data": {
      "image/png": "[encoded data removed]",
      "text/plain": [
       "<Figure size 432x288 with 1 Axes>"
      ]
     },
     "metadata": {},
     "output_type": "display_data"
    }
   ],
   "source": [
    "df['DISTANCE'].plot(kind='box')"
   ]
  },
  {
   "cell_type": "markdown",
   "metadata": {
    "id": "uS6dM8X5vWdK"
   },
   "source": [
    "Como alternativa, podemos utilizar los métodos de seaborn, que nos permiten además mostrar de una manera muy sencilla gráficos combinados con varias variables. "
   ]
  },
  {
   "cell_type": "code",
   "execution_count": 57,
   "metadata": {
    "ExecuteTime": {
     "end_time": "2021-09-19T02:48:51.746617Z",
     "start_time": "2021-09-19T02:48:51.742058Z"
    },
    "id": "TWxLOB_xvWdL"
   },
   "outputs": [],
   "source": [
    "sns.boxplot?"
   ]
  },
  {
   "cell_type": "code",
   "execution_count": 58,
   "metadata": {
    "ExecuteTime": {
     "end_time": "2021-09-19T02:48:51.805169Z",
     "start_time": "2021-09-19T02:48:51.747675Z"
    },
    "colab": {
     "base_uri": "https://localhost:8080/",
     "height": 269
    },
    "id": "mtIKcL51vWdL",
    "outputId": "57503bab-de04-4a8b-b27a-372bc22dfc68",
    "scrolled": true
   },
   "outputs": [
    {
     "data": {
      "text/plain": [
       "<matplotlib.axes._subplots.AxesSubplot at 0x7fdf3b98a880>"
      ]
     },
     "execution_count": 58,
     "metadata": {},
     "output_type": "execute_result"
    },
    {
     "data": {
      "image/png": "[encoded data removed]",
      "text/plain": [
       "<Figure size 432x288 with 1 Axes>"
      ]
     },
     "metadata": {},
     "output_type": "display_data"
    }
   ],
   "source": [
    "sns.boxplot(data=df, y='DISTANCE')"
   ]
  },
  {
   "cell_type": "code",
   "execution_count": 59,
   "metadata": {
    "ExecuteTime": {
     "end_time": "2021-09-19T02:48:51.884986Z",
     "start_time": "2021-09-19T02:48:51.806184Z"
    },
    "colab": {
     "base_uri": "https://localhost:8080/",
     "height": 299
    },
    "id": "WV4ZdKLevWdL",
    "outputId": "d20d4d54-e544-4239-afb0-ecb4b4379787",
    "scrolled": true
   },
   "outputs": [
    {
     "data": {
      "text/plain": [
       "<matplotlib.axes._subplots.AxesSubplot at 0x7fdf49379cd0>"
      ]
     },
     "execution_count": 59,
     "metadata": {},
     "output_type": "execute_result"
    },
    {
     "data": {
      "image/png": "[encoded data removed]",
      "text/plain": [
       "<Figure size 432x288 with 1 Axes>"
      ]
     },
     "metadata": {},
     "output_type": "display_data"
    }
   ],
   "source": [
    "sns.boxplot(data=df, x='ARR_DEL15', y='DISTANCE')"
   ]
  },
  {
   "cell_type": "markdown",
   "metadata": {
    "id": "iJ1vvAzCvWdL"
   },
   "source": [
    "Con el gráfico violin plot podemos ver si la distribución de una variable cambia según el target."
   ]
  },
  {
   "cell_type": "code",
   "execution_count": 60,
   "metadata": {
    "ExecuteTime": {
     "end_time": "2021-09-19T02:48:52.215589Z",
     "start_time": "2021-09-19T02:48:51.885846Z"
    },
    "colab": {
     "base_uri": "https://localhost:8080/",
     "height": 299
    },
    "id": "edJJHZYfvWdM",
    "outputId": "15282c65-e269-4888-dc30-62251b36ce92"
   },
   "outputs": [
    {
     "data": {
      "text/plain": [
       "<matplotlib.axes._subplots.AxesSubplot at 0x7fdf18b09d60>"
      ]
     },
     "execution_count": 60,
     "metadata": {},
     "output_type": "execute_result"
    },
    {
     "data": {
      "image/png": "[encoded data removed]",
      "text/plain": [
       "<Figure size 432x288 with 1 Axes>"
      ]
     },
     "metadata": {},
     "output_type": "display_data"
    }
   ],
   "source": [
    "sns.violinplot(data=df, x='ARR_DEL15', y='DISTANCE')"
   ]
  },
  {
   "cell_type": "markdown",
   "metadata": {
    "id": "41HtUB_AvWdM"
   },
   "source": [
    "#### Estado de origen"
   ]
  },
  {
   "cell_type": "markdown",
   "metadata": {
    "id": "540zAPjgvWdM"
   },
   "source": [
    "Dentro de la mayoría de métodos de seaborn, el parámetro hue nos permite hacer un split por las categorías de esa variable (importante que sea categórica) para comparar distribuciones. "
   ]
  },
  {
   "cell_type": "code",
   "execution_count": 61,
   "metadata": {
    "ExecuteTime": {
     "end_time": "2021-09-19T02:48:52.221334Z",
     "start_time": "2021-09-19T02:48:52.217171Z"
    },
    "id": "_AQFKyMDvWdM"
   },
   "outputs": [],
   "source": [
    "sns.countplot?"
   ]
  },
  {
   "cell_type": "code",
   "execution_count": 62,
   "metadata": {
    "ExecuteTime": {
     "end_time": "2021-09-19T02:48:52.564624Z",
     "start_time": "2021-09-19T02:48:52.222561Z"
    },
    "colab": {
     "base_uri": "https://localhost:8080/",
     "height": 295
    },
    "id": "i20R428EvWdM",
    "outputId": "462a78c3-ae75-496c-878d-43f8367db45e"
   },
   "outputs": [
    {
     "data": {
      "text/plain": [
       "<matplotlib.axes._subplots.AxesSubplot at 0x7fdf1915ebe0>"
      ]
     },
     "execution_count": 62,
     "metadata": {},
     "output_type": "execute_result"
    },
    {
     "data": {
      "image/png": "[encoded data removed]",
      "text/plain": [
       "<Figure size 1224x216 with 1 Axes>"
      ]
     },
     "metadata": {},
     "output_type": "display_data"
    }
   ],
   "source": [
    "plt.figure(figsize=[17,3])\n",
    "plt.xticks(rotation=90)\n",
    "sns.countplot(data=df, x='ORIGIN_STATE_NM', hue='ARR_DEL15')"
   ]
  },
  {
   "cell_type": "markdown",
   "metadata": {
    "id": "qyxJGArevWdN"
   },
   "source": [
    "Igualmente, podemos utilizar el método **pivot_table** del DataFrame para ver resultados agregados, utilizando los métodos de agregación sobre la clase vistos anteriormente. "
   ]
  },
  {
   "cell_type": "code",
   "execution_count": 63,
   "metadata": {
    "ExecuteTime": {
     "end_time": "2021-09-19T02:48:52.640400Z",
     "start_time": "2021-09-19T02:48:52.565587Z"
    },
    "colab": {
     "base_uri": "https://localhost:8080/",
     "height": 1000
    },
    "id": "kkj807xHvWdN",
    "outputId": "b8130fdf-4db0-4989-f1d3-8055ea812d71",
    "scrolled": true
   },
   "outputs": [
    {
     "data": {
      "text/html": [
       "<div>\n",
       "<style scoped>\n",
       "    .dataframe tbody tr th:only-of-type {\n",
       "        vertical-align: middle;\n",
       "    }\n",
       "\n",
       "    .dataframe tbody tr th {\n",
       "        vertical-align: top;\n",
       "    }\n",
       "\n",
       "    .dataframe thead tr th {\n",
       "        text-align: left;\n",
       "    }\n",
       "\n",
       "    .dataframe thead tr:last-of-type th {\n",
       "        text-align: right;\n",
       "    }\n",
       "</style>\n",
       "<table border=\"1\" class=\"dataframe\">\n",
       "  <thead>\n",
       "    <tr>\n",
       "      <th></th>\n",
       "      <th>len</th>\n",
       "      <th>sum</th>\n",
       "      <th>mean</th>\n",
       "    </tr>\n",
       "    <tr>\n",
       "      <th></th>\n",
       "      <th>ARR_DEL15</th>\n",
       "      <th>ARR_DEL15</th>\n",
       "      <th>ARR_DEL15</th>\n",
       "    </tr>\n",
       "    <tr>\n",
       "      <th>ORIGIN_STATE_NM</th>\n",
       "      <th></th>\n",
       "      <th></th>\n",
       "      <th></th>\n",
       "    </tr>\n",
       "  </thead>\n",
       "  <tbody>\n",
       "    <tr>\n",
       "      <th>Illinois</th>\n",
       "      <td>5,647.00</td>\n",
       "      <td>1,705.00</td>\n",
       "      <td>0.30</td>\n",
       "    </tr>\n",
       "    <tr>\n",
       "      <th>Hawaii</th>\n",
       "      <td>754.00</td>\n",
       "      <td>222.00</td>\n",
       "      <td>0.29</td>\n",
       "    </tr>\n",
       "    <tr>\n",
       "      <th>New Mexico</th>\n",
       "      <td>602.00</td>\n",
       "      <td>148.00</td>\n",
       "      <td>0.25</td>\n",
       "    </tr>\n",
       "    <tr>\n",
       "      <th>Wyoming</th>\n",
       "      <td>29.00</td>\n",
       "      <td>7.00</td>\n",
       "      <td>0.24</td>\n",
       "    </tr>\n",
       "    <tr>\n",
       "      <th>Florida</th>\n",
       "      <td>40,488.00</td>\n",
       "      <td>9,747.00</td>\n",
       "      <td>0.24</td>\n",
       "    </tr>\n",
       "    <tr>\n",
       "      <th>North Carolina</th>\n",
       "      <td>14,434.00</td>\n",
       "      <td>3,410.00</td>\n",
       "      <td>0.24</td>\n",
       "    </tr>\n",
       "    <tr>\n",
       "      <th>Georgia</th>\n",
       "      <td>9,534.00</td>\n",
       "      <td>2,059.00</td>\n",
       "      <td>0.22</td>\n",
       "    </tr>\n",
       "    <tr>\n",
       "      <th>Texas</th>\n",
       "      <td>9,322.00</td>\n",
       "      <td>2,012.00</td>\n",
       "      <td>0.22</td>\n",
       "    </tr>\n",
       "    <tr>\n",
       "      <th>Kentucky</th>\n",
       "      <td>1,395.00</td>\n",
       "      <td>299.00</td>\n",
       "      <td>0.21</td>\n",
       "    </tr>\n",
       "    <tr>\n",
       "      <th>Washington</th>\n",
       "      <td>6,491.00</td>\n",
       "      <td>1,375.00</td>\n",
       "      <td>0.21</td>\n",
       "    </tr>\n",
       "    <tr>\n",
       "      <th>Massachusetts</th>\n",
       "      <td>13,273.00</td>\n",
       "      <td>2,799.00</td>\n",
       "      <td>0.21</td>\n",
       "    </tr>\n",
       "    <tr>\n",
       "      <th>Maine</th>\n",
       "      <td>3,597.00</td>\n",
       "      <td>758.00</td>\n",
       "      <td>0.21</td>\n",
       "    </tr>\n",
       "    <tr>\n",
       "      <th>Louisiana</th>\n",
       "      <td>3,707.00</td>\n",
       "      <td>772.00</td>\n",
       "      <td>0.21</td>\n",
       "    </tr>\n",
       "    <tr>\n",
       "      <th>Vermont</th>\n",
       "      <td>3,674.00</td>\n",
       "      <td>757.00</td>\n",
       "      <td>0.21</td>\n",
       "    </tr>\n",
       "    <tr>\n",
       "      <th>California</th>\n",
       "      <td>51,137.00</td>\n",
       "      <td>10,412.00</td>\n",
       "      <td>0.20</td>\n",
       "    </tr>\n",
       "    <tr>\n",
       "      <th>Pennsylvania</th>\n",
       "      <td>3,537.00</td>\n",
       "      <td>719.00</td>\n",
       "      <td>0.20</td>\n",
       "    </tr>\n",
       "    <tr>\n",
       "      <th>Virginia</th>\n",
       "      <td>13,250.00</td>\n",
       "      <td>2,670.00</td>\n",
       "      <td>0.20</td>\n",
       "    </tr>\n",
       "    <tr>\n",
       "      <th>South Carolina</th>\n",
       "      <td>3,338.00</td>\n",
       "      <td>668.00</td>\n",
       "      <td>0.20</td>\n",
       "    </tr>\n",
       "    <tr>\n",
       "      <th>Utah</th>\n",
       "      <td>4,329.00</td>\n",
       "      <td>844.00</td>\n",
       "      <td>0.19</td>\n",
       "    </tr>\n",
       "    <tr>\n",
       "      <th>Puerto Rico</th>\n",
       "      <td>7,223.00</td>\n",
       "      <td>1,395.00</td>\n",
       "      <td>0.19</td>\n",
       "    </tr>\n",
       "    <tr>\n",
       "      <th>Michigan</th>\n",
       "      <td>2,911.00</td>\n",
       "      <td>562.00</td>\n",
       "      <td>0.19</td>\n",
       "    </tr>\n",
       "    <tr>\n",
       "      <th>Maryland</th>\n",
       "      <td>3,179.00</td>\n",
       "      <td>612.00</td>\n",
       "      <td>0.19</td>\n",
       "    </tr>\n",
       "    <tr>\n",
       "      <th>Ohio</th>\n",
       "      <td>6,256.00</td>\n",
       "      <td>1,196.00</td>\n",
       "      <td>0.19</td>\n",
       "    </tr>\n",
       "    <tr>\n",
       "      <th>Colorado</th>\n",
       "      <td>3,072.00</td>\n",
       "      <td>580.00</td>\n",
       "      <td>0.19</td>\n",
       "    </tr>\n",
       "    <tr>\n",
       "      <th>Arizona</th>\n",
       "      <td>5,460.00</td>\n",
       "      <td>1,021.00</td>\n",
       "      <td>0.19</td>\n",
       "    </tr>\n",
       "    <tr>\n",
       "      <th>Tennessee</th>\n",
       "      <td>3,004.00</td>\n",
       "      <td>545.00</td>\n",
       "      <td>0.18</td>\n",
       "    </tr>\n",
       "    <tr>\n",
       "      <th>New York</th>\n",
       "      <td>14,709.00</td>\n",
       "      <td>2,667.00</td>\n",
       "      <td>0.18</td>\n",
       "    </tr>\n",
       "    <tr>\n",
       "      <th>Indiana</th>\n",
       "      <td>2,086.00</td>\n",
       "      <td>370.00</td>\n",
       "      <td>0.18</td>\n",
       "    </tr>\n",
       "    <tr>\n",
       "      <th>Nevada</th>\n",
       "      <td>7,902.00</td>\n",
       "      <td>1,360.00</td>\n",
       "      <td>0.17</td>\n",
       "    </tr>\n",
       "    <tr>\n",
       "      <th>Minnesota</th>\n",
       "      <td>2,806.00</td>\n",
       "      <td>471.00</td>\n",
       "      <td>0.17</td>\n",
       "    </tr>\n",
       "    <tr>\n",
       "      <th>Oregon</th>\n",
       "      <td>2,528.00</td>\n",
       "      <td>405.00</td>\n",
       "      <td>0.16</td>\n",
       "    </tr>\n",
       "    <tr>\n",
       "      <th>U.S. Virgin Islands</th>\n",
       "      <td>478.00</td>\n",
       "      <td>65.00</td>\n",
       "      <td>0.14</td>\n",
       "    </tr>\n",
       "  </tbody>\n",
       "</table>\n",
       "</div>"
      ],
      "text/plain": [
       "                          len       sum      mean\n",
       "                    ARR_DEL15 ARR_DEL15 ARR_DEL15\n",
       "ORIGIN_STATE_NM                                  \n",
       "Illinois             5,647.00  1,705.00      0.30\n",
       "Hawaii                 754.00    222.00      0.29\n",
       "New Mexico             602.00    148.00      0.25\n",
       "Wyoming                 29.00      7.00      0.24\n",
       "Florida             40,488.00  9,747.00      0.24\n",
       "North Carolina      14,434.00  3,410.00      0.24\n",
       "Georgia              9,534.00  2,059.00      0.22\n",
       "Texas                9,322.00  2,012.00      0.22\n",
       "Kentucky             1,395.00    299.00      0.21\n",
       "Washington           6,491.00  1,375.00      0.21\n",
       "Massachusetts       13,273.00  2,799.00      0.21\n",
       "Maine                3,597.00    758.00      0.21\n",
       "Louisiana            3,707.00    772.00      0.21\n",
       "Vermont              3,674.00    757.00      0.21\n",
       "California          51,137.00 10,412.00      0.20\n",
       "Pennsylvania         3,537.00    719.00      0.20\n",
       "Virginia            13,250.00  2,670.00      0.20\n",
       "South Carolina       3,338.00    668.00      0.20\n",
       "Utah                 4,329.00    844.00      0.19\n",
       "Puerto Rico          7,223.00  1,395.00      0.19\n",
       "Michigan             2,911.00    562.00      0.19\n",
       "Maryland             3,179.00    612.00      0.19\n",
       "Ohio                 6,256.00  1,196.00      0.19\n",
       "Colorado             3,072.00    580.00      0.19\n",
       "Arizona              5,460.00  1,021.00      0.19\n",
       "Tennessee            3,004.00    545.00      0.18\n",
       "New York            14,709.00  2,667.00      0.18\n",
       "Indiana              2,086.00    370.00      0.18\n",
       "Nevada               7,902.00  1,360.00      0.17\n",
       "Minnesota            2,806.00    471.00      0.17\n",
       "Oregon               2,528.00    405.00      0.16\n",
       "U.S. Virgin Islands    478.00     65.00      0.14"
      ]
     },
     "execution_count": 63,
     "metadata": {},
     "output_type": "execute_result"
    }
   ],
   "source": [
    "df.pivot_table(index='ORIGIN_STATE_NM', values='ARR_DEL15', aggfunc=[len, sum, np.mean]).sort_values(by=[('mean','ARR_DEL15')], ascending = False)"
   ]
  },
  {
   "cell_type": "markdown",
   "metadata": {
    "id": "jzkFGBz_vWdN"
   },
   "source": [
    "O el método crosstab para conteos rápidos."
   ]
  },
  {
   "cell_type": "code",
   "execution_count": 64,
   "metadata": {
    "ExecuteTime": {
     "end_time": "2021-09-19T02:48:52.677052Z",
     "start_time": "2021-09-19T02:48:52.641241Z"
    },
    "colab": {
     "base_uri": "https://localhost:8080/",
     "height": 1000
    },
    "id": "_B0LYewMvWdN",
    "outputId": "4f629b7f-2050-4aa3-d87b-163ccd8018b6",
    "scrolled": true
   },
   "outputs": [
    {
     "data": {
      "text/html": [
       "<div>\n",
       "<style scoped>\n",
       "    .dataframe tbody tr th:only-of-type {\n",
       "        vertical-align: middle;\n",
       "    }\n",
       "\n",
       "    .dataframe tbody tr th {\n",
       "        vertical-align: top;\n",
       "    }\n",
       "\n",
       "    .dataframe thead th {\n",
       "        text-align: right;\n",
       "    }\n",
       "</style>\n",
       "<table border=\"1\" class=\"dataframe\">\n",
       "  <thead>\n",
       "    <tr style=\"text-align: right;\">\n",
       "      <th>ARR_DEL15</th>\n",
       "      <th>0.00</th>\n",
       "      <th>1.00</th>\n",
       "    </tr>\n",
       "    <tr>\n",
       "      <th>ORIGIN_STATE_NM</th>\n",
       "      <th></th>\n",
       "      <th></th>\n",
       "    </tr>\n",
       "  </thead>\n",
       "  <tbody>\n",
       "    <tr>\n",
       "      <th>Arizona</th>\n",
       "      <td>4439</td>\n",
       "      <td>1021</td>\n",
       "    </tr>\n",
       "    <tr>\n",
       "      <th>California</th>\n",
       "      <td>40725</td>\n",
       "      <td>10412</td>\n",
       "    </tr>\n",
       "    <tr>\n",
       "      <th>Colorado</th>\n",
       "      <td>2492</td>\n",
       "      <td>580</td>\n",
       "    </tr>\n",
       "    <tr>\n",
       "      <th>Florida</th>\n",
       "      <td>30741</td>\n",
       "      <td>9747</td>\n",
       "    </tr>\n",
       "    <tr>\n",
       "      <th>Georgia</th>\n",
       "      <td>7475</td>\n",
       "      <td>2059</td>\n",
       "    </tr>\n",
       "    <tr>\n",
       "      <th>Hawaii</th>\n",
       "      <td>532</td>\n",
       "      <td>222</td>\n",
       "    </tr>\n",
       "    <tr>\n",
       "      <th>Illinois</th>\n",
       "      <td>3942</td>\n",
       "      <td>1705</td>\n",
       "    </tr>\n",
       "    <tr>\n",
       "      <th>Indiana</th>\n",
       "      <td>1716</td>\n",
       "      <td>370</td>\n",
       "    </tr>\n",
       "    <tr>\n",
       "      <th>Kentucky</th>\n",
       "      <td>1096</td>\n",
       "      <td>299</td>\n",
       "    </tr>\n",
       "    <tr>\n",
       "      <th>Louisiana</th>\n",
       "      <td>2935</td>\n",
       "      <td>772</td>\n",
       "    </tr>\n",
       "    <tr>\n",
       "      <th>Maine</th>\n",
       "      <td>2839</td>\n",
       "      <td>758</td>\n",
       "    </tr>\n",
       "    <tr>\n",
       "      <th>Maryland</th>\n",
       "      <td>2567</td>\n",
       "      <td>612</td>\n",
       "    </tr>\n",
       "    <tr>\n",
       "      <th>Massachusetts</th>\n",
       "      <td>10474</td>\n",
       "      <td>2799</td>\n",
       "    </tr>\n",
       "    <tr>\n",
       "      <th>Michigan</th>\n",
       "      <td>2349</td>\n",
       "      <td>562</td>\n",
       "    </tr>\n",
       "    <tr>\n",
       "      <th>Minnesota</th>\n",
       "      <td>2335</td>\n",
       "      <td>471</td>\n",
       "    </tr>\n",
       "    <tr>\n",
       "      <th>Nevada</th>\n",
       "      <td>6542</td>\n",
       "      <td>1360</td>\n",
       "    </tr>\n",
       "    <tr>\n",
       "      <th>New Mexico</th>\n",
       "      <td>454</td>\n",
       "      <td>148</td>\n",
       "    </tr>\n",
       "    <tr>\n",
       "      <th>New York</th>\n",
       "      <td>12042</td>\n",
       "      <td>2667</td>\n",
       "    </tr>\n",
       "    <tr>\n",
       "      <th>North Carolina</th>\n",
       "      <td>11024</td>\n",
       "      <td>3410</td>\n",
       "    </tr>\n",
       "    <tr>\n",
       "      <th>Ohio</th>\n",
       "      <td>5060</td>\n",
       "      <td>1196</td>\n",
       "    </tr>\n",
       "    <tr>\n",
       "      <th>Oregon</th>\n",
       "      <td>2123</td>\n",
       "      <td>405</td>\n",
       "    </tr>\n",
       "    <tr>\n",
       "      <th>Pennsylvania</th>\n",
       "      <td>2818</td>\n",
       "      <td>719</td>\n",
       "    </tr>\n",
       "    <tr>\n",
       "      <th>Puerto Rico</th>\n",
       "      <td>5828</td>\n",
       "      <td>1395</td>\n",
       "    </tr>\n",
       "    <tr>\n",
       "      <th>South Carolina</th>\n",
       "      <td>2670</td>\n",
       "      <td>668</td>\n",
       "    </tr>\n",
       "    <tr>\n",
       "      <th>Tennessee</th>\n",
       "      <td>2459</td>\n",
       "      <td>545</td>\n",
       "    </tr>\n",
       "    <tr>\n",
       "      <th>Texas</th>\n",
       "      <td>7310</td>\n",
       "      <td>2012</td>\n",
       "    </tr>\n",
       "    <tr>\n",
       "      <th>U.S. Virgin Islands</th>\n",
       "      <td>413</td>\n",
       "      <td>65</td>\n",
       "    </tr>\n",
       "    <tr>\n",
       "      <th>Utah</th>\n",
       "      <td>3485</td>\n",
       "      <td>844</td>\n",
       "    </tr>\n",
       "    <tr>\n",
       "      <th>Vermont</th>\n",
       "      <td>2917</td>\n",
       "      <td>757</td>\n",
       "    </tr>\n",
       "    <tr>\n",
       "      <th>Virginia</th>\n",
       "      <td>10580</td>\n",
       "      <td>2670</td>\n",
       "    </tr>\n",
       "    <tr>\n",
       "      <th>Washington</th>\n",
       "      <td>5116</td>\n",
       "      <td>1375</td>\n",
       "    </tr>\n",
       "    <tr>\n",
       "      <th>Wyoming</th>\n",
       "      <td>22</td>\n",
       "      <td>7</td>\n",
       "    </tr>\n",
       "  </tbody>\n",
       "</table>\n",
       "</div>"
      ],
      "text/plain": [
       "ARR_DEL15             0.00   1.00\n",
       "ORIGIN_STATE_NM                  \n",
       "Arizona               4439   1021\n",
       "California           40725  10412\n",
       "Colorado              2492    580\n",
       "Florida              30741   9747\n",
       "Georgia               7475   2059\n",
       "Hawaii                 532    222\n",
       "Illinois              3942   1705\n",
       "Indiana               1716    370\n",
       "Kentucky              1096    299\n",
       "Louisiana             2935    772\n",
       "Maine                 2839    758\n",
       "Maryland              2567    612\n",
       "Massachusetts        10474   2799\n",
       "Michigan              2349    562\n",
       "Minnesota             2335    471\n",
       "Nevada                6542   1360\n",
       "New Mexico             454    148\n",
       "New York             12042   2667\n",
       "North Carolina       11024   3410\n",
       "Ohio                  5060   1196\n",
       "Oregon                2123    405\n",
       "Pennsylvania          2818    719\n",
       "Puerto Rico           5828   1395\n",
       "South Carolina        2670    668\n",
       "Tennessee             2459    545\n",
       "Texas                 7310   2012\n",
       "U.S. Virgin Islands    413     65\n",
       "Utah                  3485    844\n",
       "Vermont               2917    757\n",
       "Virginia             10580   2670\n",
       "Washington            5116   1375\n",
       "Wyoming                 22      7"
      ]
     },
     "execution_count": 64,
     "metadata": {},
     "output_type": "execute_result"
    }
   ],
   "source": [
    "pd.crosstab(df['ORIGIN_STATE_NM'], df['ARR_DEL15'])"
   ]
  },
  {
   "cell_type": "markdown",
   "metadata": {
    "id": "aLQFld9VvWdO"
   },
   "source": [
    "Podéis seguir explorando las variables de manera univariante o multivariante cogiendo ejemplo de los muchos NoteBooks disponibles en Kaggle, como por ejemplo este NoteBook de Titanic: https://www.kaggle.com/ash316/eda-to-prediction-dietanic"
   ]
  },
  {
   "cell_type": "markdown",
   "metadata": {
    "id": "h5S7G4XAvWdO"
   },
   "source": [
    "## MLC3: Data Preparation"
   ]
  },
  {
   "cell_type": "markdown",
   "metadata": {
    "id": "G0Fk9u-xvWdO"
   },
   "source": [
    "### MLC3.1: Limpieza de atributos"
   ]
  },
  {
   "cell_type": "markdown",
   "metadata": {
    "id": "43VUn-8QvWdO"
   },
   "source": [
    "#### Transformación de variables "
   ]
  },
  {
   "cell_type": "markdown",
   "metadata": {
    "id": "HAkc4c-mvWdO"
   },
   "source": [
    "##### Númericas a categóricas"
   ]
  },
  {
   "cell_type": "markdown",
   "metadata": {
    "id": "fAEYWZ-CvWdO"
   },
   "source": [
    "Los árboles de decisión necesitan siempre variables en formato numérico. Sin embargo, hay ocasiones en que las variables numéricas se nos presentan sin un sentido ordinal. Es por eso que debemos realizar una transformación de estas variables, para que sean tratadas como una variable categórica."
   ]
  },
  {
   "cell_type": "markdown",
   "metadata": {
    "id": "p2XU67LNvWdP"
   },
   "source": [
    "La variable OP_CARRIER_AIRLINE_ID tiene un formato numérico. Sin embargo, la variable no tiene ningún sentido ordinal, sinó que se refiere a un ID identificador de cada aerolinea. Por lo tanto, convertimos esta variable en una columna categórica. "
   ]
  },
  {
   "cell_type": "code",
   "execution_count": 65,
   "metadata": {
    "ExecuteTime": {
     "end_time": "2021-09-19T02:48:52.684920Z",
     "start_time": "2021-09-19T02:48:52.677931Z"
    },
    "id": "DEZ0tFq2vWdP"
   },
   "outputs": [],
   "source": [
    "df['AEROLINEA'] = df['OP_CARRIER_AIRLINE_ID'].astype(object)"
   ]
  },
  {
   "cell_type": "code",
   "execution_count": 66,
   "metadata": {
    "ExecuteTime": {
     "end_time": "2021-09-19T02:48:52.988536Z",
     "start_time": "2021-09-19T02:48:52.685973Z"
    },
    "colab": {
     "base_uri": "https://localhost:8080/",
     "height": 328
    },
    "id": "w1qch7QUvWdP",
    "outputId": "83ccb436-ad08-473c-d2f9-37b646e2795b"
   },
   "outputs": [
    {
     "data": {
      "text/html": [
       "<div>\n",
       "<style scoped>\n",
       "    .dataframe tbody tr th:only-of-type {\n",
       "        vertical-align: middle;\n",
       "    }\n",
       "\n",
       "    .dataframe tbody tr th {\n",
       "        vertical-align: top;\n",
       "    }\n",
       "\n",
       "    .dataframe thead th {\n",
       "        text-align: right;\n",
       "    }\n",
       "</style>\n",
       "<table border=\"1\" class=\"dataframe\">\n",
       "  <thead>\n",
       "    <tr style=\"text-align: right;\">\n",
       "      <th></th>\n",
       "      <th>count</th>\n",
       "      <th>unique</th>\n",
       "      <th>top</th>\n",
       "      <th>freq</th>\n",
       "    </tr>\n",
       "  </thead>\n",
       "  <tbody>\n",
       "    <tr>\n",
       "      <th>FL_DATE</th>\n",
       "      <td>250152</td>\n",
       "      <td>730</td>\n",
       "      <td>2018-07-19</td>\n",
       "      <td>394</td>\n",
       "    </tr>\n",
       "    <tr>\n",
       "      <th>TAIL_NUM</th>\n",
       "      <td>235143</td>\n",
       "      <td>2645</td>\n",
       "      <td>N110AN</td>\n",
       "      <td>761</td>\n",
       "    </tr>\n",
       "    <tr>\n",
       "      <th>ORIGIN</th>\n",
       "      <td>250152</td>\n",
       "      <td>72</td>\n",
       "      <td>LAX</td>\n",
       "      <td>25345</td>\n",
       "    </tr>\n",
       "    <tr>\n",
       "      <th>ORIGIN_CITY_NAME</th>\n",
       "      <td>250152</td>\n",
       "      <td>70</td>\n",
       "      <td>Los Angeles, CA</td>\n",
       "      <td>25345</td>\n",
       "    </tr>\n",
       "    <tr>\n",
       "      <th>ORIGIN_STATE_NM</th>\n",
       "      <td>250152</td>\n",
       "      <td>32</td>\n",
       "      <td>California</td>\n",
       "      <td>51137</td>\n",
       "    </tr>\n",
       "    <tr>\n",
       "      <th>DEST</th>\n",
       "      <td>250152</td>\n",
       "      <td>1</td>\n",
       "      <td>JFK</td>\n",
       "      <td>250152</td>\n",
       "    </tr>\n",
       "    <tr>\n",
       "      <th>DEST_CITY_NAME</th>\n",
       "      <td>250152</td>\n",
       "      <td>1</td>\n",
       "      <td>New York, NY</td>\n",
       "      <td>250152</td>\n",
       "    </tr>\n",
       "    <tr>\n",
       "      <th>DEST_STATE_NM</th>\n",
       "      <td>250152</td>\n",
       "      <td>1</td>\n",
       "      <td>New York</td>\n",
       "      <td>250152</td>\n",
       "    </tr>\n",
       "    <tr>\n",
       "      <th>AEROLINEA</th>\n",
       "      <td>237,644.00</td>\n",
       "      <td>11.00</td>\n",
       "      <td>20,409.00</td>\n",
       "      <td>78,587.00</td>\n",
       "    </tr>\n",
       "  </tbody>\n",
       "</table>\n",
       "</div>"
      ],
      "text/plain": [
       "                      count unique              top      freq\n",
       "FL_DATE              250152    730       2018-07-19       394\n",
       "TAIL_NUM             235143   2645           N110AN       761\n",
       "ORIGIN               250152     72              LAX     25345\n",
       "ORIGIN_CITY_NAME     250152     70  Los Angeles, CA     25345\n",
       "ORIGIN_STATE_NM      250152     32       California     51137\n",
       "DEST                 250152      1              JFK    250152\n",
       "DEST_CITY_NAME       250152      1     New York, NY    250152\n",
       "DEST_STATE_NM        250152      1         New York    250152\n",
       "AEROLINEA        237,644.00  11.00        20,409.00 78,587.00"
      ]
     },
     "execution_count": 66,
     "metadata": {},
     "output_type": "execute_result"
    }
   ],
   "source": [
    "df.select_dtypes(include=['object']).describe().T"
   ]
  },
  {
   "cell_type": "markdown",
   "metadata": {
    "id": "nFCDF20xvWdP"
   },
   "source": [
    "La variable Aerolinea nos aparece ahora con 11 registros únicos (11 aerolineas distintas), siendo la aerolinea con ID 20409 la más frecuente con 78775 vuelos operados."
   ]
  },
  {
   "cell_type": "markdown",
   "metadata": {
    "id": "-09Re-WjvWdQ"
   },
   "source": [
    "Como ya hemos creado una variable categórica para la Aerolinea, podemos eliminar la variable origen con formato numérico"
   ]
  },
  {
   "cell_type": "code",
   "execution_count": 67,
   "metadata": {
    "ExecuteTime": {
     "end_time": "2021-09-19T02:48:53.009553Z",
     "start_time": "2021-09-19T02:48:52.989573Z"
    },
    "id": "t-53Hm2_vWdQ"
   },
   "outputs": [],
   "source": [
    "df.drop('OP_CARRIER_AIRLINE_ID', axis=1, inplace=True)"
   ]
  },
  {
   "cell_type": "markdown",
   "metadata": {
    "id": "OPpx4kIxvWdQ"
   },
   "source": [
    "#### Imputación de nulos "
   ]
  },
  {
   "cell_type": "markdown",
   "metadata": {
    "id": "cICMePkNvWdQ"
   },
   "source": [
    "##### Categóricas"
   ]
  },
  {
   "cell_type": "markdown",
   "metadata": {
    "id": "mfqcgPixvWdQ"
   },
   "source": [
    "El primer paso a realizar en cuanto a preparación de atributos es la Limpieza de nulos. Para ello, vamos a observar la cantidad de nulos que tenemos en variables numéricas y categóricas."
   ]
  },
  {
   "cell_type": "code",
   "execution_count": 68,
   "metadata": {
    "ExecuteTime": {
     "end_time": "2021-09-19T02:48:53.099959Z",
     "start_time": "2021-09-19T02:48:53.010342Z"
    },
    "colab": {
     "base_uri": "https://localhost:8080/"
    },
    "id": "TONVXQMavWdR",
    "outputId": "62c18e67-0050-4cf8-d194-3e55f85ec34f"
   },
   "outputs": [
    {
     "data": {
      "text/plain": [
       "FL_DATE                 0\n",
       "TAIL_NUM            15009\n",
       "ORIGIN                  0\n",
       "ORIGIN_CITY_NAME        0\n",
       "ORIGIN_STATE_NM         0\n",
       "DEST                    0\n",
       "DEST_CITY_NAME          0\n",
       "DEST_STATE_NM           0\n",
       "AEROLINEA           12508\n",
       "dtype: int64"
      ]
     },
     "execution_count": 68,
     "metadata": {},
     "output_type": "execute_result"
    }
   ],
   "source": [
    "df.select_dtypes(include=['object']).isnull().sum()"
   ]
  },
  {
   "cell_type": "markdown",
   "metadata": {
    "id": "id6QLshGvWdR"
   },
   "source": [
    "-> **Tail number**"
   ]
  },
  {
   "cell_type": "markdown",
   "metadata": {
    "id": "OfNqEdU7vWdR"
   },
   "source": [
    "Podéis ver que la variable Tail_NUM tiene 15009 nulos. Podemos ver la distribución de esta variable mediante value_counts. "
   ]
  },
  {
   "cell_type": "markdown",
   "metadata": {
    "id": "RcKU9DIJvWdW"
   },
   "source": [
    "Esta variable contiene mucha información interesante. Por ejemplo:\n",
    "* mediante fuentes de datos externas, podemos encontrar la fecha del primer vuelo del avión. \n",
    "* las dos últimas letras refieren a la aerolinea que está utilizando el avión\n",
    "* la letra inicial se refiere al país en el que el avión está registrado. En este dataset son todos N (USA)."
   ]
  },
  {
   "cell_type": "code",
   "execution_count": 69,
   "metadata": {
    "ExecuteTime": {
     "end_time": "2021-09-19T02:48:53.125762Z",
     "start_time": "2021-09-19T02:48:53.100911Z"
    },
    "colab": {
     "base_uri": "https://localhost:8080/"
    },
    "id": "qj7KiRUivWdX",
    "outputId": "8456fafc-4b6c-47cd-a495-51837ce61613"
   },
   "outputs": [
    {
     "data": {
      "text/plain": [
       "NaN       15009\n",
       "N110AN      761\n",
       "N113AN      751\n",
       "N111ZM      748\n",
       "N109NN      740\n",
       "          ...  \n",
       "N166NN        1\n",
       "N757UW        1\n",
       "N921DN        1\n",
       "N945DN        1\n",
       "N829AW        1\n",
       "Name: TAIL_NUM, Length: 2646, dtype: int64"
      ]
     },
     "execution_count": 69,
     "metadata": {},
     "output_type": "execute_result"
    }
   ],
   "source": [
    "df['TAIL_NUM'].value_counts(dropna=False)"
   ]
  },
  {
   "cell_type": "code",
   "execution_count": 70,
   "metadata": {
    "ExecuteTime": {
     "end_time": "2021-09-19T02:48:53.130130Z",
     "start_time": "2021-09-19T02:48:53.126797Z"
    },
    "id": "uGth80eEvWdX"
   },
   "outputs": [],
   "source": [
    "pd.DataFrame.fillna?"
   ]
  },
  {
   "cell_type": "markdown",
   "metadata": {
    "id": "YtwG8y96vWdX"
   },
   "source": [
    "El método **fillna()** de pandas (para Series o DataFrames) permite llenar los nulos con valores específicos.\\\n",
    "Es importante, cuando utilicemos este método, recordar el parámetro inplace. "
   ]
  },
  {
   "cell_type": "markdown",
   "metadata": {
    "id": "x4OgEiC_vWdY"
   },
   "source": [
    "En este caso, podríamos rellenarlo con el valor más común, o el valor más probable por Aerolinea. Sin embargo, la presencia de nulls puede contener información relevante para el modelo. Por tanto, es conveniente rellenar los nulos con un valor diferente al resto."
   ]
  },
  {
   "cell_type": "code",
   "execution_count": 71,
   "metadata": {
    "ExecuteTime": {
     "end_time": "2021-09-19T02:48:53.142109Z",
     "start_time": "2021-09-19T02:48:53.131112Z"
    },
    "id": "yl_DZtcovWdY"
   },
   "outputs": [],
   "source": [
    "df['TAIL_NUM'].fillna(value='ZZZ', inplace=True)"
   ]
  },
  {
   "cell_type": "code",
   "execution_count": 72,
   "metadata": {
    "ExecuteTime": {
     "end_time": "2021-09-19T02:48:53.232694Z",
     "start_time": "2021-09-19T02:48:53.143049Z"
    },
    "colab": {
     "base_uri": "https://localhost:8080/"
    },
    "id": "TqlTj-mVvWdY",
    "outputId": "eaaa564a-a22e-45df-d32e-346f7d33d178"
   },
   "outputs": [
    {
     "data": {
      "text/plain": [
       "FL_DATE                 0\n",
       "TAIL_NUM                0\n",
       "ORIGIN                  0\n",
       "ORIGIN_CITY_NAME        0\n",
       "ORIGIN_STATE_NM         0\n",
       "DEST                    0\n",
       "DEST_CITY_NAME          0\n",
       "DEST_STATE_NM           0\n",
       "AEROLINEA           12508\n",
       "dtype: int64"
      ]
     },
     "execution_count": 72,
     "metadata": {},
     "output_type": "execute_result"
    }
   ],
   "source": [
    "df.select_dtypes(include=['object']).isnull().sum()"
   ]
  },
  {
   "cell_type": "markdown",
   "metadata": {
    "id": "ql-aQqHUvWdY"
   },
   "source": [
    "Al rellenar nulos de una variable categórica, hay que tener en cuenta que las variables categóricas se convierten en One Hot Encodings normalmente. Si creemos que los nulos pueden contener información relevante, rellenamos los nulos con un valor único. Si no queremos mantener esta información, no es necesario realizar ningún tratamiento de nulos, ya que al hacer el OHE simplemente no se creará una columna específica para ellos."
   ]
  },
  {
   "cell_type": "markdown",
   "metadata": {
    "id": "pHqajjL2vWdZ"
   },
   "source": [
    "-> **Aerolinea**"
   ]
  },
  {
   "cell_type": "code",
   "execution_count": 73,
   "metadata": {
    "ExecuteTime": {
     "end_time": "2021-09-19T02:48:53.243187Z",
     "start_time": "2021-09-19T02:48:53.233572Z"
    },
    "id": "xqPvnSfGvWdZ"
   },
   "outputs": [],
   "source": [
    "df['AEROLINEA'].fillna(value='ZZZ', inplace=True)"
   ]
  },
  {
   "cell_type": "markdown",
   "metadata": {
    "id": "c1GNcHbyvWdZ"
   },
   "source": [
    "##### Numéricas"
   ]
  },
  {
   "cell_type": "code",
   "execution_count": 74,
   "metadata": {
    "ExecuteTime": {
     "end_time": "2021-09-19T02:48:53.254175Z",
     "start_time": "2021-09-19T02:48:53.244122Z"
    },
    "colab": {
     "base_uri": "https://localhost:8080/"
    },
    "id": "TOWuWErGvWdZ",
    "outputId": "612e142f-9d23-4fd4-8575-24c8edb042ae"
   },
   "outputs": [
    {
     "data": {
      "text/plain": [
       "CRS_DEP_TIME            0\n",
       "TAXI_OUT            17511\n",
       "CRS_ARR_TIME            0\n",
       "ARR_DEL15               0\n",
       "CRS_ELAPSED_TIME        0\n",
       "DISTANCE                0\n",
       "dtype: int64"
      ]
     },
     "execution_count": 74,
     "metadata": {},
     "output_type": "execute_result"
    }
   ],
   "source": [
    "df.select_dtypes(include=['number']).isnull().sum()"
   ]
  },
  {
   "cell_type": "markdown",
   "metadata": {
    "id": "vixJryNhvWdZ"
   },
   "source": [
    "En las variables numéricas, podemos decidir rellenar los valores nulos con cualquier valor: \n",
    "1. Valores concretos\n",
    "2. Valores medios o medianas (fillna lo soporta)\n",
    "\n",
    "O bien podemos eliminar los registros que los contienen. En este caso, elegiremos un valor extremo, dado que vamos a trabajar con árboles. "
   ]
  },
  {
   "cell_type": "code",
   "execution_count": 75,
   "metadata": {
    "ExecuteTime": {
     "end_time": "2021-09-19T02:48:53.328913Z",
     "start_time": "2021-09-19T02:48:53.255255Z"
    },
    "id": "aqpeL_yWvWda"
   },
   "outputs": [],
   "source": [
    "df.fillna(value=-99999, inplace=True)"
   ]
  },
  {
   "cell_type": "markdown",
   "metadata": {
    "id": "6NqZQdxcvWda"
   },
   "source": [
    "Y podemos visualizar el DataFrame resultante."
   ]
  },
  {
   "cell_type": "code",
   "execution_count": 76,
   "metadata": {
    "ExecuteTime": {
     "end_time": "2021-09-19T02:48:53.337389Z",
     "start_time": "2021-09-19T02:48:53.329879Z"
    },
    "colab": {
     "base_uri": "https://localhost:8080/",
     "height": 514
    },
    "id": "h5QccPw-vWda",
    "outputId": "161198ae-f38c-4407-cfce-8240d4484a7b",
    "scrolled": true
   },
   "outputs": [
    {
     "data": {
      "text/html": [
       "<div>\n",
       "<style scoped>\n",
       "    .dataframe tbody tr th:only-of-type {\n",
       "        vertical-align: middle;\n",
       "    }\n",
       "\n",
       "    .dataframe tbody tr th {\n",
       "        vertical-align: top;\n",
       "    }\n",
       "\n",
       "    .dataframe thead th {\n",
       "        text-align: right;\n",
       "    }\n",
       "</style>\n",
       "<table border=\"1\" class=\"dataframe\">\n",
       "  <thead>\n",
       "    <tr style=\"text-align: right;\">\n",
       "      <th></th>\n",
       "      <th>0</th>\n",
       "      <th>1</th>\n",
       "      <th>2</th>\n",
       "      <th>3</th>\n",
       "      <th>4</th>\n",
       "    </tr>\n",
       "  </thead>\n",
       "  <tbody>\n",
       "    <tr>\n",
       "      <th>FL_DATE</th>\n",
       "      <td>2018-02-01</td>\n",
       "      <td>2018-02-01</td>\n",
       "      <td>2018-02-01</td>\n",
       "      <td>2018-02-01</td>\n",
       "      <td>2018-02-01</td>\n",
       "    </tr>\n",
       "    <tr>\n",
       "      <th>TAIL_NUM</th>\n",
       "      <td>N299PQ</td>\n",
       "      <td>N920XJ</td>\n",
       "      <td>N605LR</td>\n",
       "      <td>N800AY</td>\n",
       "      <td>N600LR</td>\n",
       "    </tr>\n",
       "    <tr>\n",
       "      <th>ORIGIN</th>\n",
       "      <td>BNA</td>\n",
       "      <td>RDU</td>\n",
       "      <td>BUF</td>\n",
       "      <td>ORF</td>\n",
       "      <td>BOS</td>\n",
       "    </tr>\n",
       "    <tr>\n",
       "      <th>ORIGIN_CITY_NAME</th>\n",
       "      <td>Nashville, TN</td>\n",
       "      <td>Raleigh/Durham, NC</td>\n",
       "      <td>Buffalo, NY</td>\n",
       "      <td>Norfolk, VA</td>\n",
       "      <td>Boston, MA</td>\n",
       "    </tr>\n",
       "    <tr>\n",
       "      <th>ORIGIN_STATE_NM</th>\n",
       "      <td>Tennessee</td>\n",
       "      <td>North Carolina</td>\n",
       "      <td>New York</td>\n",
       "      <td>Virginia</td>\n",
       "      <td>Massachusetts</td>\n",
       "    </tr>\n",
       "    <tr>\n",
       "      <th>DEST</th>\n",
       "      <td>JFK</td>\n",
       "      <td>JFK</td>\n",
       "      <td>JFK</td>\n",
       "      <td>JFK</td>\n",
       "      <td>JFK</td>\n",
       "    </tr>\n",
       "    <tr>\n",
       "      <th>DEST_CITY_NAME</th>\n",
       "      <td>New York, NY</td>\n",
       "      <td>New York, NY</td>\n",
       "      <td>New York, NY</td>\n",
       "      <td>New York, NY</td>\n",
       "      <td>New York, NY</td>\n",
       "    </tr>\n",
       "    <tr>\n",
       "      <th>DEST_STATE_NM</th>\n",
       "      <td>New York</td>\n",
       "      <td>New York</td>\n",
       "      <td>New York</td>\n",
       "      <td>New York</td>\n",
       "      <td>New York</td>\n",
       "    </tr>\n",
       "    <tr>\n",
       "      <th>CRS_DEP_TIME</th>\n",
       "      <td>1359</td>\n",
       "      <td>1354</td>\n",
       "      <td>1529</td>\n",
       "      <td>1704</td>\n",
       "      <td>1325</td>\n",
       "    </tr>\n",
       "    <tr>\n",
       "      <th>TAXI_OUT</th>\n",
       "      <td>27.00</td>\n",
       "      <td>37.00</td>\n",
       "      <td>21.00</td>\n",
       "      <td>36.00</td>\n",
       "      <td>20.00</td>\n",
       "    </tr>\n",
       "    <tr>\n",
       "      <th>CRS_ARR_TIME</th>\n",
       "      <td>1719</td>\n",
       "      <td>1541</td>\n",
       "      <td>1709</td>\n",
       "      <td>1845</td>\n",
       "      <td>1454</td>\n",
       "    </tr>\n",
       "    <tr>\n",
       "      <th>ARR_DEL15</th>\n",
       "      <td>0.00</td>\n",
       "      <td>0.00</td>\n",
       "      <td>0.00</td>\n",
       "      <td>0.00</td>\n",
       "      <td>0.00</td>\n",
       "    </tr>\n",
       "    <tr>\n",
       "      <th>CRS_ELAPSED_TIME</th>\n",
       "      <td>140.00</td>\n",
       "      <td>107.00</td>\n",
       "      <td>100.00</td>\n",
       "      <td>101.00</td>\n",
       "      <td>89.00</td>\n",
       "    </tr>\n",
       "    <tr>\n",
       "      <th>DISTANCE</th>\n",
       "      <td>765.00</td>\n",
       "      <td>427.00</td>\n",
       "      <td>301.00</td>\n",
       "      <td>290.00</td>\n",
       "      <td>187.00</td>\n",
       "    </tr>\n",
       "    <tr>\n",
       "      <th>AEROLINEA</th>\n",
       "      <td>20,363.00</td>\n",
       "      <td>20,363.00</td>\n",
       "      <td>20,363.00</td>\n",
       "      <td>20,363.00</td>\n",
       "      <td>20,363.00</td>\n",
       "    </tr>\n",
       "  </tbody>\n",
       "</table>\n",
       "</div>"
      ],
      "text/plain": [
       "                              0                   1             2  \\\n",
       "FL_DATE              2018-02-01          2018-02-01    2018-02-01   \n",
       "TAIL_NUM                 N299PQ              N920XJ        N605LR   \n",
       "ORIGIN                      BNA                 RDU           BUF   \n",
       "ORIGIN_CITY_NAME  Nashville, TN  Raleigh/Durham, NC   Buffalo, NY   \n",
       "ORIGIN_STATE_NM       Tennessee      North Carolina      New York   \n",
       "DEST                        JFK                 JFK           JFK   \n",
       "DEST_CITY_NAME     New York, NY        New York, NY  New York, NY   \n",
       "DEST_STATE_NM          New York            New York      New York   \n",
       "CRS_DEP_TIME               1359                1354          1529   \n",
       "TAXI_OUT                  27.00               37.00         21.00   \n",
       "CRS_ARR_TIME               1719                1541          1709   \n",
       "ARR_DEL15                  0.00                0.00          0.00   \n",
       "CRS_ELAPSED_TIME         140.00              107.00        100.00   \n",
       "DISTANCE                 765.00              427.00        301.00   \n",
       "AEROLINEA             20,363.00           20,363.00     20,363.00   \n",
       "\n",
       "                             3              4  \n",
       "FL_DATE             2018-02-01     2018-02-01  \n",
       "TAIL_NUM                N800AY         N600LR  \n",
       "ORIGIN                     ORF            BOS  \n",
       "ORIGIN_CITY_NAME   Norfolk, VA     Boston, MA  \n",
       "ORIGIN_STATE_NM       Virginia  Massachusetts  \n",
       "DEST                       JFK            JFK  \n",
       "DEST_CITY_NAME    New York, NY   New York, NY  \n",
       "DEST_STATE_NM         New York       New York  \n",
       "CRS_DEP_TIME              1704           1325  \n",
       "TAXI_OUT                 36.00          20.00  \n",
       "CRS_ARR_TIME              1845           1454  \n",
       "ARR_DEL15                 0.00           0.00  \n",
       "CRS_ELAPSED_TIME        101.00          89.00  \n",
       "DISTANCE                290.00         187.00  \n",
       "AEROLINEA            20,363.00      20,363.00  "
      ]
     },
     "execution_count": 76,
     "metadata": {},
     "output_type": "execute_result"
    }
   ],
   "source": [
    "df.head().T"
   ]
  },
  {
   "cell_type": "markdown",
   "metadata": {
    "id": "AbGJO3dOvWda"
   },
   "source": [
    "#### Eliminación de atributos de baja varianza"
   ]
  },
  {
   "cell_type": "markdown",
   "metadata": {
    "id": "Gt_33NGzvWda"
   },
   "source": [
    "En este dataset, encontramos tres variables sin varianza: DEST, DEST_CITY_NAME y DEST_STATE_NM, ya que todos los resgistros de vuelo tienen como destino el aeropuerto JFK de Nueva York. Las variables sin ninguna varianza no aportan información al modelo y por lo tanto se pueden eliminar."
   ]
  },
  {
   "cell_type": "code",
   "execution_count": 77,
   "metadata": {
    "ExecuteTime": {
     "end_time": "2021-09-19T02:48:53.339870Z",
     "start_time": "2021-09-19T02:48:53.338185Z"
    },
    "id": "gMgvWfL2vWdb"
   },
   "outputs": [],
   "source": [
    "non_variance_features = ['DEST','DEST_CITY_NAME','DEST_STATE_NM']"
   ]
  },
  {
   "cell_type": "code",
   "execution_count": 78,
   "metadata": {
    "ExecuteTime": {
     "end_time": "2021-09-19T02:48:53.380793Z",
     "start_time": "2021-09-19T02:48:53.340809Z"
    },
    "id": "hF2CQivuvWdb"
   },
   "outputs": [],
   "source": [
    "df.drop(non_variance_features, axis=1, inplace=True)"
   ]
  },
  {
   "cell_type": "markdown",
   "metadata": {
    "id": "64q8nGXhvWdb"
   },
   "source": [
    "#### Variables de fecha"
   ]
  },
  {
   "cell_type": "markdown",
   "metadata": {
    "id": "D58J1FBgvWdb"
   },
   "source": [
    "Vamos a convertir la variable Date en una fecha y obtener algunos nuevos atributos más fáciles de tratar en el modelo, como el número de mes o de año. "
   ]
  },
  {
   "cell_type": "code",
   "execution_count": 79,
   "metadata": {
    "ExecuteTime": {
     "end_time": "2021-09-19T02:48:53.413201Z",
     "start_time": "2021-09-19T02:48:53.381712Z"
    },
    "id": "KbM-ZhobvWdb"
   },
   "outputs": [],
   "source": [
    "df['FL_DATE'] = pd.to_datetime(df['FL_DATE'])"
   ]
  },
  {
   "cell_type": "code",
   "execution_count": 80,
   "metadata": {
    "ExecuteTime": {
     "end_time": "2021-09-19T02:48:53.465872Z",
     "start_time": "2021-09-19T02:48:53.414716Z"
    },
    "colab": {
     "base_uri": "https://localhost:8080/"
    },
    "id": "OvR4TT7XvWdc",
    "outputId": "54f53408-9e9e-40cd-d051-0994ea53995c"
   },
   "outputs": [
    {
     "name": "stderr",
     "output_type": "stream",
     "text": [
      "/var/folders/sg/xq1t34td22s24gs1p4v814zc0000gn/T/ipykernel_41262/1459817945.py:5: FutureWarning: Series.dt.weekofyear and Series.dt.week have been deprecated.  Please use Series.dt.isocalendar().week instead.\n",
      "  df['Week'] = df['FL_DATE'].dt.week\n"
     ]
    }
   ],
   "source": [
    "df['FL_DATE'] = pd.to_datetime(df['FL_DATE'])\n",
    "df['Season'] = df['FL_DATE'].dt.quarter\n",
    "df['Year'] = df['FL_DATE'].dt.year\n",
    "df['Month'] = df['FL_DATE'].dt.month\n",
    "df['Week'] = df['FL_DATE'].dt.week\n",
    "df['Weekday'] = df['FL_DATE'].dt.weekday"
   ]
  },
  {
   "cell_type": "markdown",
   "metadata": {
    "id": "78jKWOyNvWdc"
   },
   "source": [
    "Es importante revisar el orden con el que genera el día de la semana ya que por convención la semana puede empezar en lunes o en domingo. "
   ]
  },
  {
   "cell_type": "code",
   "execution_count": 81,
   "metadata": {
    "ExecuteTime": {
     "end_time": "2021-09-19T02:48:53.475667Z",
     "start_time": "2021-09-19T02:48:53.467727Z"
    },
    "colab": {
     "base_uri": "https://localhost:8080/",
     "height": 117
    },
    "id": "6mURz29fvWdc",
    "outputId": "a2e02034-57e8-43a2-fd4f-988798c36243",
    "scrolled": true
   },
   "outputs": [
    {
     "data": {
      "text/html": [
       "<div>\n",
       "<style scoped>\n",
       "    .dataframe tbody tr th:only-of-type {\n",
       "        vertical-align: middle;\n",
       "    }\n",
       "\n",
       "    .dataframe tbody tr th {\n",
       "        vertical-align: top;\n",
       "    }\n",
       "\n",
       "    .dataframe thead th {\n",
       "        text-align: right;\n",
       "    }\n",
       "</style>\n",
       "<table border=\"1\" class=\"dataframe\">\n",
       "  <thead>\n",
       "    <tr style=\"text-align: right;\">\n",
       "      <th></th>\n",
       "      <th>FL_DATE</th>\n",
       "      <th>TAIL_NUM</th>\n",
       "      <th>ORIGIN</th>\n",
       "      <th>ORIGIN_CITY_NAME</th>\n",
       "      <th>ORIGIN_STATE_NM</th>\n",
       "      <th>CRS_DEP_TIME</th>\n",
       "      <th>TAXI_OUT</th>\n",
       "      <th>CRS_ARR_TIME</th>\n",
       "      <th>ARR_DEL15</th>\n",
       "      <th>CRS_ELAPSED_TIME</th>\n",
       "      <th>DISTANCE</th>\n",
       "      <th>AEROLINEA</th>\n",
       "      <th>Season</th>\n",
       "      <th>Year</th>\n",
       "      <th>Month</th>\n",
       "      <th>Week</th>\n",
       "      <th>Weekday</th>\n",
       "    </tr>\n",
       "  </thead>\n",
       "  <tbody>\n",
       "    <tr>\n",
       "      <th>0</th>\n",
       "      <td>2018-02-01</td>\n",
       "      <td>N299PQ</td>\n",
       "      <td>BNA</td>\n",
       "      <td>Nashville, TN</td>\n",
       "      <td>Tennessee</td>\n",
       "      <td>1359</td>\n",
       "      <td>27.00</td>\n",
       "      <td>1719</td>\n",
       "      <td>0.00</td>\n",
       "      <td>140.00</td>\n",
       "      <td>765.00</td>\n",
       "      <td>20,363.00</td>\n",
       "      <td>1</td>\n",
       "      <td>2018</td>\n",
       "      <td>2</td>\n",
       "      <td>5</td>\n",
       "      <td>3</td>\n",
       "    </tr>\n",
       "  </tbody>\n",
       "</table>\n",
       "</div>"
      ],
      "text/plain": [
       "     FL_DATE TAIL_NUM ORIGIN ORIGIN_CITY_NAME ORIGIN_STATE_NM  CRS_DEP_TIME  \\\n",
       "0 2018-02-01   N299PQ    BNA    Nashville, TN       Tennessee          1359   \n",
       "\n",
       "   TAXI_OUT  CRS_ARR_TIME  ARR_DEL15  CRS_ELAPSED_TIME  DISTANCE AEROLINEA  \\\n",
       "0     27.00          1719       0.00            140.00    765.00 20,363.00   \n",
       "\n",
       "   Season  Year  Month  Week  Weekday  \n",
       "0       1  2018      2     5        3  "
      ]
     },
     "execution_count": 81,
     "metadata": {},
     "output_type": "execute_result"
    }
   ],
   "source": [
    "df.head(1)"
   ]
  },
  {
   "cell_type": "markdown",
   "metadata": {
    "id": "uMcXIRtzvWdc"
   },
   "source": [
    "Hacemos un head del primer registro del dataset para checkear la fecha. El 1 de Diciembre de 2018 era Sábado que equivale al weeekday igual a 5. La semana empieza con 0 por lo tanto los valores 5 y 6 se corresponden al fin de semana."
   ]
  },
  {
   "cell_type": "code",
   "execution_count": 82,
   "metadata": {
    "ExecuteTime": {
     "end_time": "2021-09-19T02:48:53.480900Z",
     "start_time": "2021-09-19T02:48:53.476641Z"
    },
    "colab": {
     "base_uri": "https://localhost:8080/"
    },
    "id": "wuULQNoLvWdc",
    "outputId": "0b7b0479-7ec2-42c8-ebc3-025b7cbcbaa8"
   },
   "outputs": [
    {
     "data": {
      "text/plain": [
       "0    37183\n",
       "4    36848\n",
       "3    36679\n",
       "6    36288\n",
       "1    35945\n",
       "2    35443\n",
       "5    31766\n",
       "Name: Weekday, dtype: int64"
      ]
     },
     "execution_count": 82,
     "metadata": {},
     "output_type": "execute_result"
    }
   ],
   "source": [
    "df['Weekday'].value_counts(dropna=False)"
   ]
  },
  {
   "cell_type": "markdown",
   "metadata": {
    "id": "xZ422OI_vWdd"
   },
   "source": [
    "A partir del weekday podemos generar una nueva varibale de fin de semana. Mostramso al modelo de forma explícita que día son fin de semana. Estas tranformacionesson útiles si detectamos que, por ejemplo, se concentran más retrasos en fin de semana. Sin embargo, en este caso, al modelo le es indiferente trabajar con la variable Weekend igual a 1 o weekday mayor o igual que 5 (necesita un corte en ambos casos). Esta transformación puede ser útil si por ejemplo el domingo estan codificado como 0 y el sábado como un 6. En este caso, el árbol necesitaría dos cortes para discriminar los fines de semana."
   ]
  },
  {
   "cell_type": "code",
   "execution_count": 83,
   "metadata": {
    "ExecuteTime": {
     "end_time": "2021-09-19T02:48:53.493717Z",
     "start_time": "2021-09-19T02:48:53.490820Z"
    },
    "id": "Typ6QNy0vWdd"
   },
   "outputs": [],
   "source": [
    "df['Weekend'] = (df['Weekday'] >= 5).astype(int)"
   ]
  },
  {
   "cell_type": "code",
   "execution_count": 84,
   "metadata": {
    "ExecuteTime": {
     "end_time": "2021-09-19T02:48:53.510144Z",
     "start_time": "2021-09-19T02:48:53.494706Z"
    },
    "id": "d2KIxz6kvWdd"
   },
   "outputs": [],
   "source": [
    "df.drop('FL_DATE', inplace=True, axis=1)"
   ]
  },
  {
   "cell_type": "code",
   "execution_count": 85,
   "metadata": {
    "ExecuteTime": {
     "end_time": "2021-09-19T02:48:53.514122Z",
     "start_time": "2021-09-19T02:48:53.510950Z"
    },
    "colab": {
     "base_uri": "https://localhost:8080/"
    },
    "id": "kKBIq0TivWdd",
    "outputId": "dc823515-1e29-4a82-e8b5-75ab0c3fdc3e"
   },
   "outputs": [
    {
     "data": {
      "text/plain": [
       "0    1\n",
       "1    1\n",
       "2    1\n",
       "3    1\n",
       "4    1\n",
       "Name: Season, dtype: int64"
      ]
     },
     "execution_count": 85,
     "metadata": {},
     "output_type": "execute_result"
    }
   ],
   "source": [
    "df['Season'].head()"
   ]
  },
  {
   "cell_type": "code",
   "execution_count": 86,
   "metadata": {
    "ExecuteTime": {
     "end_time": "2021-09-19T02:48:53.518058Z",
     "start_time": "2021-09-19T02:48:53.515153Z"
    },
    "colab": {
     "base_uri": "https://localhost:8080/"
    },
    "id": "AZHywoxFvWde",
    "outputId": "e027b30f-be90-4db5-9273-8a2fa90276ca"
   },
   "outputs": [
    {
     "data": {
      "text/plain": [
       "0    2018\n",
       "1    2018\n",
       "2    2018\n",
       "3    2018\n",
       "4    2018\n",
       "Name: Year, dtype: int64"
      ]
     },
     "execution_count": 86,
     "metadata": {},
     "output_type": "execute_result"
    }
   ],
   "source": [
    "df['Year'].head()"
   ]
  },
  {
   "cell_type": "code",
   "execution_count": 87,
   "metadata": {
    "ExecuteTime": {
     "end_time": "2021-09-19T02:48:53.522330Z",
     "start_time": "2021-09-19T02:48:53.519157Z"
    },
    "colab": {
     "base_uri": "https://localhost:8080/"
    },
    "id": "4M5IWkJhvWde",
    "outputId": "7a46ac14-2e0a-4c32-9943-5e3d093556af"
   },
   "outputs": [
    {
     "data": {
      "text/plain": [
       "0    2\n",
       "1    2\n",
       "2    2\n",
       "3    2\n",
       "4    2\n",
       "Name: Month, dtype: int64"
      ]
     },
     "execution_count": 87,
     "metadata": {},
     "output_type": "execute_result"
    }
   ],
   "source": [
    "df['Month'].head()"
   ]
  },
  {
   "cell_type": "markdown",
   "metadata": {
    "id": "jBnu6hbrvWde"
   },
   "source": [
    "#### Tratamiento de variables categóricas"
   ]
  },
  {
   "cell_type": "markdown",
   "metadata": {
    "id": "t_fZU6WnvWde"
   },
   "source": [
    "En cuanto a las variables categóricas, sobre aquellas variables con pocos registros distintos, podemos realizar un One Hot Encoding. Sin embargo, por problemas de memoria en el ordenador, debemos realizar algún tipo de tratamiento sobre el resto de variables con mayor número de registros distintos."
   ]
  },
  {
   "cell_type": "code",
   "execution_count": 88,
   "metadata": {
    "ExecuteTime": {
     "end_time": "2021-09-19T02:48:53.679073Z",
     "start_time": "2021-09-19T02:48:53.523404Z"
    },
    "colab": {
     "base_uri": "https://localhost:8080/",
     "height": 204
    },
    "id": "vZbeX5MJvWdf",
    "outputId": "a9ab4e20-cff8-4405-d248-6888fde5d400"
   },
   "outputs": [
    {
     "data": {
      "text/html": [
       "<div>\n",
       "<style scoped>\n",
       "    .dataframe tbody tr th:only-of-type {\n",
       "        vertical-align: middle;\n",
       "    }\n",
       "\n",
       "    .dataframe tbody tr th {\n",
       "        vertical-align: top;\n",
       "    }\n",
       "\n",
       "    .dataframe thead th {\n",
       "        text-align: right;\n",
       "    }\n",
       "</style>\n",
       "<table border=\"1\" class=\"dataframe\">\n",
       "  <thead>\n",
       "    <tr style=\"text-align: right;\">\n",
       "      <th></th>\n",
       "      <th>count</th>\n",
       "      <th>unique</th>\n",
       "      <th>top</th>\n",
       "      <th>freq</th>\n",
       "    </tr>\n",
       "  </thead>\n",
       "  <tbody>\n",
       "    <tr>\n",
       "      <th>TAIL_NUM</th>\n",
       "      <td>250152</td>\n",
       "      <td>2646</td>\n",
       "      <td>ZZZ</td>\n",
       "      <td>15009</td>\n",
       "    </tr>\n",
       "    <tr>\n",
       "      <th>ORIGIN</th>\n",
       "      <td>250152</td>\n",
       "      <td>72</td>\n",
       "      <td>LAX</td>\n",
       "      <td>25345</td>\n",
       "    </tr>\n",
       "    <tr>\n",
       "      <th>ORIGIN_CITY_NAME</th>\n",
       "      <td>250152</td>\n",
       "      <td>70</td>\n",
       "      <td>Los Angeles, CA</td>\n",
       "      <td>25345</td>\n",
       "    </tr>\n",
       "    <tr>\n",
       "      <th>ORIGIN_STATE_NM</th>\n",
       "      <td>250152</td>\n",
       "      <td>32</td>\n",
       "      <td>California</td>\n",
       "      <td>51137</td>\n",
       "    </tr>\n",
       "    <tr>\n",
       "      <th>AEROLINEA</th>\n",
       "      <td>250,152.00</td>\n",
       "      <td>12.00</td>\n",
       "      <td>20,409.00</td>\n",
       "      <td>78,587.00</td>\n",
       "    </tr>\n",
       "  </tbody>\n",
       "</table>\n",
       "</div>"
      ],
      "text/plain": [
       "                      count unique              top      freq\n",
       "TAIL_NUM             250152   2646              ZZZ     15009\n",
       "ORIGIN               250152     72              LAX     25345\n",
       "ORIGIN_CITY_NAME     250152     70  Los Angeles, CA     25345\n",
       "ORIGIN_STATE_NM      250152     32       California     51137\n",
       "AEROLINEA        250,152.00  12.00        20,409.00 78,587.00"
      ]
     },
     "execution_count": 88,
     "metadata": {},
     "output_type": "execute_result"
    }
   ],
   "source": [
    "df.select_dtypes(include=['object']).describe().T"
   ]
  },
  {
   "cell_type": "markdown",
   "metadata": {
    "id": "IROiNehMvWdf"
   },
   "source": [
    "Las variables Aerolinea, origen, ciudad de origen y estado de origen son candidatas a realizar un One hot encoding. En total nos generarán hasta 184 variables, ningú problema para el árbol de decisión y en principio manejable para todos los equipos. La variable Tail number tiene 2647 registros distintos que generarían 2647 columnas nuevas. Para valorar cómo tratar esta variable, es necesario hacer un análisis más exhaustivo."
   ]
  },
  {
   "cell_type": "markdown",
   "metadata": {
    "id": "mpk0qY-HvWdf"
   },
   "source": [
    "**Análisis de tail number**"
   ]
  },
  {
   "cell_type": "code",
   "execution_count": 89,
   "metadata": {
    "ExecuteTime": {
     "end_time": "2021-09-19T02:48:53.772090Z",
     "start_time": "2021-09-19T02:48:53.679979Z"
    },
    "colab": {
     "base_uri": "https://localhost:8080/",
     "height": 481
    },
    "id": "mFapMIHvvWdf",
    "outputId": "58f70854-14ff-4bce-ce2e-06ed1375239f"
   },
   "outputs": [
    {
     "data": {
      "text/html": [
       "<div>\n",
       "<style scoped>\n",
       "    .dataframe tbody tr th:only-of-type {\n",
       "        vertical-align: middle;\n",
       "    }\n",
       "\n",
       "    .dataframe tbody tr th {\n",
       "        vertical-align: top;\n",
       "    }\n",
       "\n",
       "    .dataframe thead tr th {\n",
       "        text-align: left;\n",
       "    }\n",
       "\n",
       "    .dataframe thead tr:last-of-type th {\n",
       "        text-align: right;\n",
       "    }\n",
       "</style>\n",
       "<table border=\"1\" class=\"dataframe\">\n",
       "  <thead>\n",
       "    <tr>\n",
       "      <th></th>\n",
       "      <th>len</th>\n",
       "      <th>sum</th>\n",
       "      <th>mean</th>\n",
       "    </tr>\n",
       "    <tr>\n",
       "      <th></th>\n",
       "      <th>ARR_DEL15</th>\n",
       "      <th>ARR_DEL15</th>\n",
       "      <th>ARR_DEL15</th>\n",
       "    </tr>\n",
       "    <tr>\n",
       "      <th>TAIL_NUM</th>\n",
       "      <th></th>\n",
       "      <th></th>\n",
       "      <th></th>\n",
       "    </tr>\n",
       "  </thead>\n",
       "  <tbody>\n",
       "    <tr>\n",
       "      <th>N773XF</th>\n",
       "      <td>1.00</td>\n",
       "      <td>1.00</td>\n",
       "      <td>1.00</td>\n",
       "    </tr>\n",
       "    <tr>\n",
       "      <th>N144AN</th>\n",
       "      <td>2.00</td>\n",
       "      <td>2.00</td>\n",
       "      <td>1.00</td>\n",
       "    </tr>\n",
       "    <tr>\n",
       "      <th>N812NW</th>\n",
       "      <td>1.00</td>\n",
       "      <td>1.00</td>\n",
       "      <td>1.00</td>\n",
       "    </tr>\n",
       "    <tr>\n",
       "      <th>N806SK</th>\n",
       "      <td>1.00</td>\n",
       "      <td>1.00</td>\n",
       "      <td>1.00</td>\n",
       "    </tr>\n",
       "    <tr>\n",
       "      <th>N806AW</th>\n",
       "      <td>1.00</td>\n",
       "      <td>1.00</td>\n",
       "      <td>1.00</td>\n",
       "    </tr>\n",
       "    <tr>\n",
       "      <th>...</th>\n",
       "      <td>...</td>\n",
       "      <td>...</td>\n",
       "      <td>...</td>\n",
       "    </tr>\n",
       "    <tr>\n",
       "      <th>N711UW</th>\n",
       "      <td>1.00</td>\n",
       "      <td>0.00</td>\n",
       "      <td>0.00</td>\n",
       "    </tr>\n",
       "    <tr>\n",
       "      <th>N523VA</th>\n",
       "      <td>1.00</td>\n",
       "      <td>0.00</td>\n",
       "      <td>0.00</td>\n",
       "    </tr>\n",
       "    <tr>\n",
       "      <th>N8972E</th>\n",
       "      <td>9.00</td>\n",
       "      <td>0.00</td>\n",
       "      <td>0.00</td>\n",
       "    </tr>\n",
       "    <tr>\n",
       "      <th>N583UW</th>\n",
       "      <td>2.00</td>\n",
       "      <td>0.00</td>\n",
       "      <td>0.00</td>\n",
       "    </tr>\n",
       "    <tr>\n",
       "      <th>N545PB</th>\n",
       "      <td>7.00</td>\n",
       "      <td>0.00</td>\n",
       "      <td>0.00</td>\n",
       "    </tr>\n",
       "  </tbody>\n",
       "</table>\n",
       "<p>2646 rows × 3 columns</p>\n",
       "</div>"
      ],
      "text/plain": [
       "               len       sum      mean\n",
       "         ARR_DEL15 ARR_DEL15 ARR_DEL15\n",
       "TAIL_NUM                              \n",
       "N773XF        1.00      1.00      1.00\n",
       "N144AN        2.00      2.00      1.00\n",
       "N812NW        1.00      1.00      1.00\n",
       "N806SK        1.00      1.00      1.00\n",
       "N806AW        1.00      1.00      1.00\n",
       "...            ...       ...       ...\n",
       "N711UW        1.00      0.00      0.00\n",
       "N523VA        1.00      0.00      0.00\n",
       "N8972E        9.00      0.00      0.00\n",
       "N583UW        2.00      0.00      0.00\n",
       "N545PB        7.00      0.00      0.00\n",
       "\n",
       "[2646 rows x 3 columns]"
      ]
     },
     "execution_count": 89,
     "metadata": {},
     "output_type": "execute_result"
    }
   ],
   "source": [
    "df.pivot_table(index='TAIL_NUM', values='ARR_DEL15', aggfunc=[len, sum, np.mean]).sort_values(by=[('mean','ARR_DEL15')], ascending = False)"
   ]
  },
  {
   "cell_type": "markdown",
   "metadata": {
    "id": "hUv7vJK5vWdg"
   },
   "source": [
    "Si ordenamos el dataset según la proporción de retrasos que tiene cada matrícula de avión, observamos que tienen una mayor proporción aviones con pocos registros de vuelos. No es una estrategia efectiva para decidir cómo tratar la variable."
   ]
  },
  {
   "cell_type": "markdown",
   "metadata": {
    "id": "QG0RYkY-vWdg"
   },
   "source": [
    "En estos casos, es más efectivo ordenar los registros según el número de veces que aparecen ya que pocos registros generará una variable con poca varianza al hacer el One Hot Encoding."
   ]
  },
  {
   "cell_type": "code",
   "execution_count": 90,
   "metadata": {
    "ExecuteTime": {
     "end_time": "2021-09-19T02:48:53.862061Z",
     "start_time": "2021-09-19T02:48:53.773120Z"
    },
    "colab": {
     "base_uri": "https://localhost:8080/",
     "height": 481
    },
    "id": "5UxZbNB2vWdg",
    "outputId": "d9f94a8b-7ac6-4b93-be28-e73ac7b17c55",
    "scrolled": true
   },
   "outputs": [
    {
     "data": {
      "text/html": [
       "<div>\n",
       "<style scoped>\n",
       "    .dataframe tbody tr th:only-of-type {\n",
       "        vertical-align: middle;\n",
       "    }\n",
       "\n",
       "    .dataframe tbody tr th {\n",
       "        vertical-align: top;\n",
       "    }\n",
       "\n",
       "    .dataframe thead tr th {\n",
       "        text-align: left;\n",
       "    }\n",
       "\n",
       "    .dataframe thead tr:last-of-type th {\n",
       "        text-align: right;\n",
       "    }\n",
       "</style>\n",
       "<table border=\"1\" class=\"dataframe\">\n",
       "  <thead>\n",
       "    <tr>\n",
       "      <th></th>\n",
       "      <th>len</th>\n",
       "      <th>sum</th>\n",
       "      <th>mean</th>\n",
       "    </tr>\n",
       "    <tr>\n",
       "      <th></th>\n",
       "      <th>ARR_DEL15</th>\n",
       "      <th>ARR_DEL15</th>\n",
       "      <th>ARR_DEL15</th>\n",
       "    </tr>\n",
       "    <tr>\n",
       "      <th>TAIL_NUM</th>\n",
       "      <th></th>\n",
       "      <th></th>\n",
       "      <th></th>\n",
       "    </tr>\n",
       "  </thead>\n",
       "  <tbody>\n",
       "    <tr>\n",
       "      <th>ZZZ</th>\n",
       "      <td>15,009.00</td>\n",
       "      <td>3,109.00</td>\n",
       "      <td>0.21</td>\n",
       "    </tr>\n",
       "    <tr>\n",
       "      <th>N110AN</th>\n",
       "      <td>761.00</td>\n",
       "      <td>164.00</td>\n",
       "      <td>0.22</td>\n",
       "    </tr>\n",
       "    <tr>\n",
       "      <th>N113AN</th>\n",
       "      <td>751.00</td>\n",
       "      <td>134.00</td>\n",
       "      <td>0.18</td>\n",
       "    </tr>\n",
       "    <tr>\n",
       "      <th>N111ZM</th>\n",
       "      <td>748.00</td>\n",
       "      <td>162.00</td>\n",
       "      <td>0.22</td>\n",
       "    </tr>\n",
       "    <tr>\n",
       "      <th>N109NN</th>\n",
       "      <td>740.00</td>\n",
       "      <td>118.00</td>\n",
       "      <td>0.16</td>\n",
       "    </tr>\n",
       "    <tr>\n",
       "      <th>...</th>\n",
       "      <td>...</td>\n",
       "      <td>...</td>\n",
       "      <td>...</td>\n",
       "    </tr>\n",
       "    <tr>\n",
       "      <th>N745VJ</th>\n",
       "      <td>1.00</td>\n",
       "      <td>0.00</td>\n",
       "      <td>0.00</td>\n",
       "    </tr>\n",
       "    <tr>\n",
       "      <th>N744P</th>\n",
       "      <td>1.00</td>\n",
       "      <td>0.00</td>\n",
       "      <td>0.00</td>\n",
       "    </tr>\n",
       "    <tr>\n",
       "      <th>N734AR</th>\n",
       "      <td>1.00</td>\n",
       "      <td>0.00</td>\n",
       "      <td>0.00</td>\n",
       "    </tr>\n",
       "    <tr>\n",
       "      <th>N733AR</th>\n",
       "      <td>1.00</td>\n",
       "      <td>0.00</td>\n",
       "      <td>0.00</td>\n",
       "    </tr>\n",
       "    <tr>\n",
       "      <th>N719AN</th>\n",
       "      <td>1.00</td>\n",
       "      <td>0.00</td>\n",
       "      <td>0.00</td>\n",
       "    </tr>\n",
       "  </tbody>\n",
       "</table>\n",
       "<p>2646 rows × 3 columns</p>\n",
       "</div>"
      ],
      "text/plain": [
       "               len       sum      mean\n",
       "         ARR_DEL15 ARR_DEL15 ARR_DEL15\n",
       "TAIL_NUM                              \n",
       "ZZZ      15,009.00  3,109.00      0.21\n",
       "N110AN      761.00    164.00      0.22\n",
       "N113AN      751.00    134.00      0.18\n",
       "N111ZM      748.00    162.00      0.22\n",
       "N109NN      740.00    118.00      0.16\n",
       "...            ...       ...       ...\n",
       "N745VJ        1.00      0.00      0.00\n",
       "N744P         1.00      0.00      0.00\n",
       "N734AR        1.00      0.00      0.00\n",
       "N733AR        1.00      0.00      0.00\n",
       "N719AN        1.00      0.00      0.00\n",
       "\n",
       "[2646 rows x 3 columns]"
      ]
     },
     "execution_count": 90,
     "metadata": {},
     "output_type": "execute_result"
    }
   ],
   "source": [
    "df.pivot_table(index='TAIL_NUM', values='ARR_DEL15', aggfunc=[len, sum, np.mean]).sort_values(by=[('len','ARR_DEL15')], ascending = False)"
   ]
  },
  {
   "cell_type": "markdown",
   "metadata": {
    "id": "fdi0doc6vWdg"
   },
   "source": [
    "Observamos que el número de avión con mayor número de registros es el N110AN con 759 registros. Esto representa tan solo un 0,3% del dataset. Realizar un OHE de esta variable aportará muy poca información al modelo. Por lo tanto, decidimos realizar un frequency encoding."
   ]
  },
  {
   "cell_type": "markdown",
   "metadata": {
    "id": "Tjf7IBtsvWdg"
   },
   "source": [
    "#### Frequency encoding de la variable Tail Number"
   ]
  },
  {
   "cell_type": "markdown",
   "metadata": {
    "id": "NqADs5bpvWdh"
   },
   "source": [
    "Vamos a hacer un conteo de el número de vuelos que realiza cada avión y sustituiremos el valor del número de vuelos por cada avión correspondiente. Con esto conseguimos sustituir la variable categórica por una de numérica. Además, mantenemos cierta información del avión, el número de vuelos puede tener relación con la antigüedad y uso del avión. En consecuencia, aviones que se utilizan más podrían ser más propensos a sufrir averias. Esto son solo hipótesis, dejaremos después que el algoritmo decida si es una buena variable."
   ]
  },
  {
   "cell_type": "code",
   "execution_count": 91,
   "metadata": {
    "ExecuteTime": {
     "end_time": "2021-09-19T02:48:53.886880Z",
     "start_time": "2021-09-19T02:48:53.862895Z"
    },
    "id": "bWOgy6TlvWdh"
   },
   "outputs": [],
   "source": [
    "df_tail_num = pd.DataFrame(df['TAIL_NUM'].value_counts(dropna = False))\n",
    "df_tail_num.columns = ['TAIL_NUM_COUNT']\n",
    "df_tail_num['TAIL_NUM'] = df_tail_num.index"
   ]
  },
  {
   "cell_type": "code",
   "execution_count": 92,
   "metadata": {
    "ExecuteTime": {
     "end_time": "2021-09-19T02:48:53.891867Z",
     "start_time": "2021-09-19T02:48:53.887792Z"
    },
    "colab": {
     "base_uri": "https://localhost:8080/",
     "height": 204
    },
    "id": "A2JcySPKvWdh",
    "outputId": "2eebac61-a33d-46ef-da5a-f4a631de169a"
   },
   "outputs": [
    {
     "data": {
      "text/html": [
       "<div>\n",
       "<style scoped>\n",
       "    .dataframe tbody tr th:only-of-type {\n",
       "        vertical-align: middle;\n",
       "    }\n",
       "\n",
       "    .dataframe tbody tr th {\n",
       "        vertical-align: top;\n",
       "    }\n",
       "\n",
       "    .dataframe thead th {\n",
       "        text-align: right;\n",
       "    }\n",
       "</style>\n",
       "<table border=\"1\" class=\"dataframe\">\n",
       "  <thead>\n",
       "    <tr style=\"text-align: right;\">\n",
       "      <th></th>\n",
       "      <th>TAIL_NUM_COUNT</th>\n",
       "      <th>TAIL_NUM</th>\n",
       "    </tr>\n",
       "  </thead>\n",
       "  <tbody>\n",
       "    <tr>\n",
       "      <th>ZZZ</th>\n",
       "      <td>15009</td>\n",
       "      <td>ZZZ</td>\n",
       "    </tr>\n",
       "    <tr>\n",
       "      <th>N110AN</th>\n",
       "      <td>761</td>\n",
       "      <td>N110AN</td>\n",
       "    </tr>\n",
       "    <tr>\n",
       "      <th>N113AN</th>\n",
       "      <td>751</td>\n",
       "      <td>N113AN</td>\n",
       "    </tr>\n",
       "    <tr>\n",
       "      <th>N111ZM</th>\n",
       "      <td>748</td>\n",
       "      <td>N111ZM</td>\n",
       "    </tr>\n",
       "    <tr>\n",
       "      <th>N115NN</th>\n",
       "      <td>740</td>\n",
       "      <td>N115NN</td>\n",
       "    </tr>\n",
       "  </tbody>\n",
       "</table>\n",
       "</div>"
      ],
      "text/plain": [
       "        TAIL_NUM_COUNT TAIL_NUM\n",
       "ZZZ              15009      ZZZ\n",
       "N110AN             761   N110AN\n",
       "N113AN             751   N113AN\n",
       "N111ZM             748   N111ZM\n",
       "N115NN             740   N115NN"
      ]
     },
     "execution_count": 92,
     "metadata": {},
     "output_type": "execute_result"
    }
   ],
   "source": [
    "#Este es el dataframe que contiene el conteo de vuelos por avión\n",
    "df_tail_num.head()"
   ]
  },
  {
   "cell_type": "markdown",
   "metadata": {
    "id": "zv6BirEUvWdh"
   },
   "source": [
    "Hacemos el merge con el dataframe original"
   ]
  },
  {
   "cell_type": "code",
   "execution_count": 93,
   "metadata": {
    "ExecuteTime": {
     "end_time": "2021-09-19T02:48:53.973238Z",
     "start_time": "2021-09-19T02:48:53.892827Z"
    },
    "id": "uJXX_1PmvWdi"
   },
   "outputs": [],
   "source": [
    "df = df.merge(df_tail_num, on = 'TAIL_NUM')"
   ]
  },
  {
   "cell_type": "code",
   "execution_count": 94,
   "metadata": {
    "ExecuteTime": {
     "end_time": "2021-09-19T02:48:54.017080Z",
     "start_time": "2021-09-19T02:48:53.974412Z"
    },
    "id": "18MeNQYmvWdi"
   },
   "outputs": [],
   "source": [
    "#podemos eliminar la variable original ya que es categórica y ya hemos hecho el tratamiento pertinente\n",
    "df.drop('TAIL_NUM', axis = 1, inplace = True)"
   ]
  },
  {
   "cell_type": "markdown",
   "metadata": {
    "id": "LnTm7-Y-vWdi"
   },
   "source": [
    "Sobre el resto de variables categóricas, podemos realizar un OHE que nos generará un total de 186 nuevas columnas."
   ]
  },
  {
   "cell_type": "code",
   "execution_count": 95,
   "metadata": {
    "ExecuteTime": {
     "end_time": "2021-09-19T02:48:54.149170Z",
     "start_time": "2021-09-19T02:48:54.018048Z"
    },
    "colab": {
     "base_uri": "https://localhost:8080/",
     "height": 173
    },
    "id": "7LYSiQAAvWdi",
    "outputId": "a5895b22-f586-4e84-c0da-14879ab0160a"
   },
   "outputs": [
    {
     "data": {
      "text/html": [
       "<div>\n",
       "<style scoped>\n",
       "    .dataframe tbody tr th:only-of-type {\n",
       "        vertical-align: middle;\n",
       "    }\n",
       "\n",
       "    .dataframe tbody tr th {\n",
       "        vertical-align: top;\n",
       "    }\n",
       "\n",
       "    .dataframe thead th {\n",
       "        text-align: right;\n",
       "    }\n",
       "</style>\n",
       "<table border=\"1\" class=\"dataframe\">\n",
       "  <thead>\n",
       "    <tr style=\"text-align: right;\">\n",
       "      <th></th>\n",
       "      <th>count</th>\n",
       "      <th>unique</th>\n",
       "      <th>top</th>\n",
       "      <th>freq</th>\n",
       "    </tr>\n",
       "  </thead>\n",
       "  <tbody>\n",
       "    <tr>\n",
       "      <th>ORIGIN</th>\n",
       "      <td>250152</td>\n",
       "      <td>72</td>\n",
       "      <td>LAX</td>\n",
       "      <td>25345</td>\n",
       "    </tr>\n",
       "    <tr>\n",
       "      <th>ORIGIN_CITY_NAME</th>\n",
       "      <td>250152</td>\n",
       "      <td>70</td>\n",
       "      <td>Los Angeles, CA</td>\n",
       "      <td>25345</td>\n",
       "    </tr>\n",
       "    <tr>\n",
       "      <th>ORIGIN_STATE_NM</th>\n",
       "      <td>250152</td>\n",
       "      <td>32</td>\n",
       "      <td>California</td>\n",
       "      <td>51137</td>\n",
       "    </tr>\n",
       "    <tr>\n",
       "      <th>AEROLINEA</th>\n",
       "      <td>250,152.00</td>\n",
       "      <td>12.00</td>\n",
       "      <td>20,409.00</td>\n",
       "      <td>78,587.00</td>\n",
       "    </tr>\n",
       "  </tbody>\n",
       "</table>\n",
       "</div>"
      ],
      "text/plain": [
       "                      count unique              top      freq\n",
       "ORIGIN               250152     72              LAX     25345\n",
       "ORIGIN_CITY_NAME     250152     70  Los Angeles, CA     25345\n",
       "ORIGIN_STATE_NM      250152     32       California     51137\n",
       "AEROLINEA        250,152.00  12.00        20,409.00 78,587.00"
      ]
     },
     "execution_count": 95,
     "metadata": {},
     "output_type": "execute_result"
    }
   ],
   "source": [
    "df.select_dtypes(include=['object']).describe().T"
   ]
  },
  {
   "cell_type": "markdown",
   "metadata": {
    "id": "VN-86LR1vWdi"
   },
   "source": [
    "#### One-hot-encoding for ORIGIN"
   ]
  },
  {
   "cell_type": "code",
   "execution_count": 96,
   "metadata": {
    "ExecuteTime": {
     "end_time": "2021-09-19T02:48:54.170427Z",
     "start_time": "2021-09-19T02:48:54.150423Z"
    },
    "id": "Jxq6oKoMvWdj"
   },
   "outputs": [],
   "source": [
    "_dummy_dataset = pd.get_dummies(df['ORIGIN'], prefix='ORIGIN')"
   ]
  },
  {
   "cell_type": "code",
   "execution_count": 97,
   "metadata": {
    "ExecuteTime": {
     "end_time": "2021-09-19T02:48:54.227030Z",
     "start_time": "2021-09-19T02:48:54.171363Z"
    },
    "id": "cedrYc7lvWdj"
   },
   "outputs": [],
   "source": [
    "df = pd.concat([df,_dummy_dataset],axis=1)"
   ]
  },
  {
   "cell_type": "code",
   "execution_count": 98,
   "metadata": {
    "ExecuteTime": {
     "end_time": "2021-09-19T02:48:54.302695Z",
     "start_time": "2021-09-19T02:48:54.228086Z"
    },
    "id": "SyAquC8evWdj"
   },
   "outputs": [],
   "source": [
    "df.drop(['ORIGIN'],axis=1, inplace=True)"
   ]
  },
  {
   "cell_type": "markdown",
   "metadata": {
    "id": "Ppw_NE3bvWdk"
   },
   "source": [
    "#### One-hot-encoding for CITY ORIGIN"
   ]
  },
  {
   "cell_type": "code",
   "execution_count": 99,
   "metadata": {
    "ExecuteTime": {
     "end_time": "2021-09-19T02:48:54.325225Z",
     "start_time": "2021-09-19T02:48:54.303911Z"
    },
    "id": "Cqz2oN1TvWdk"
   },
   "outputs": [],
   "source": [
    "_dummy_dataset = pd.get_dummies(df['ORIGIN_CITY_NAME'], prefix='ORIGIN_CITY_NAME')"
   ]
  },
  {
   "cell_type": "code",
   "execution_count": 100,
   "metadata": {
    "ExecuteTime": {
     "end_time": "2021-09-19T02:48:54.377520Z",
     "start_time": "2021-09-19T02:48:54.326195Z"
    },
    "id": "VOusYKkSvWdk"
   },
   "outputs": [],
   "source": [
    "df = pd.concat([df,_dummy_dataset],axis=1)"
   ]
  },
  {
   "cell_type": "code",
   "execution_count": 101,
   "metadata": {
    "ExecuteTime": {
     "end_time": "2021-09-19T02:48:54.474373Z",
     "start_time": "2021-09-19T02:48:54.378574Z"
    },
    "id": "ID2_t7aYvWdk"
   },
   "outputs": [],
   "source": [
    "df.drop(['ORIGIN_CITY_NAME'],axis=1, inplace=True)"
   ]
  },
  {
   "cell_type": "markdown",
   "metadata": {
    "id": "GN8kjZPMvWdk"
   },
   "source": [
    "#### One-hot-encoding for STATE ORIGIN"
   ]
  },
  {
   "cell_type": "code",
   "execution_count": 102,
   "metadata": {
    "ExecuteTime": {
     "end_time": "2021-09-19T02:48:54.491992Z",
     "start_time": "2021-09-19T02:48:54.475464Z"
    },
    "id": "tOyFOoGbvWdl"
   },
   "outputs": [],
   "source": [
    "_dummy_dataset = pd.get_dummies(df['ORIGIN_STATE_NM'], prefix='ORIGIN_STATE_NM')"
   ]
  },
  {
   "cell_type": "code",
   "execution_count": 103,
   "metadata": {
    "ExecuteTime": {
     "end_time": "2021-09-19T02:48:54.513239Z",
     "start_time": "2021-09-19T02:48:54.492763Z"
    },
    "id": "8xo1gS1rvWdl"
   },
   "outputs": [],
   "source": [
    "df = pd.concat([df,_dummy_dataset],axis=1)"
   ]
  },
  {
   "cell_type": "code",
   "execution_count": 104,
   "metadata": {
    "ExecuteTime": {
     "end_time": "2021-09-19T02:48:54.609562Z",
     "start_time": "2021-09-19T02:48:54.514172Z"
    },
    "id": "Q9bBV2DYvWdl"
   },
   "outputs": [],
   "source": [
    "df.drop(['ORIGIN_STATE_NM'],axis=1, inplace=True)"
   ]
  },
  {
   "cell_type": "markdown",
   "metadata": {
    "id": "BMKQxE29vWdl"
   },
   "source": [
    "#### One-hot-encoding for Aerolinea"
   ]
  },
  {
   "cell_type": "code",
   "execution_count": 105,
   "metadata": {
    "ExecuteTime": {
     "end_time": "2021-09-19T02:48:54.634926Z",
     "start_time": "2021-09-19T02:48:54.610519Z"
    },
    "id": "fanVUnh0vWdl"
   },
   "outputs": [],
   "source": [
    "_dummy_dataset = pd.get_dummies(df['AEROLINEA'], prefix='AEROLINEA')"
   ]
  },
  {
   "cell_type": "code",
   "execution_count": 106,
   "metadata": {
    "ExecuteTime": {
     "end_time": "2021-09-19T02:48:54.647302Z",
     "start_time": "2021-09-19T02:48:54.635821Z"
    },
    "id": "f403C6aGvWdm"
   },
   "outputs": [],
   "source": [
    "df = pd.concat([df,_dummy_dataset],axis=1)"
   ]
  },
  {
   "cell_type": "code",
   "execution_count": 107,
   "metadata": {
    "ExecuteTime": {
     "end_time": "2021-09-19T02:48:54.735996Z",
     "start_time": "2021-09-19T02:48:54.648267Z"
    },
    "id": "kx6NPlUbvWdm"
   },
   "outputs": [],
   "source": [
    "df.drop(['AEROLINEA'],axis=1, inplace=True)"
   ]
  },
  {
   "cell_type": "markdown",
   "metadata": {
    "id": "0P_w1ekavWdm"
   },
   "source": [
    "#### Resultado"
   ]
  },
  {
   "cell_type": "markdown",
   "metadata": {
    "id": "wtGahvlevWdn"
   },
   "source": [
    "Finalmente, visualizaremos el DataFrame resultante."
   ]
  },
  {
   "cell_type": "code",
   "execution_count": 108,
   "metadata": {
    "ExecuteTime": {
     "end_time": "2021-09-19T02:48:54.757296Z",
     "start_time": "2021-09-19T02:48:54.737012Z"
    },
    "colab": {
     "base_uri": "https://localhost:8080/",
     "height": 1000
    },
    "id": "nBds0kfsvWdn",
    "outputId": "4ce28088-10cc-4848-efa8-cc047f922179",
    "scrolled": true
   },
   "outputs": [
    {
     "data": {
      "text/html": [
       "<div>\n",
       "<style scoped>\n",
       "    .dataframe tbody tr th:only-of-type {\n",
       "        vertical-align: middle;\n",
       "    }\n",
       "\n",
       "    .dataframe tbody tr th {\n",
       "        vertical-align: top;\n",
       "    }\n",
       "\n",
       "    .dataframe thead th {\n",
       "        text-align: right;\n",
       "    }\n",
       "</style>\n",
       "<table border=\"1\" class=\"dataframe\">\n",
       "  <thead>\n",
       "    <tr style=\"text-align: right;\">\n",
       "      <th></th>\n",
       "      <th>0</th>\n",
       "      <th>1</th>\n",
       "      <th>2</th>\n",
       "      <th>3</th>\n",
       "      <th>4</th>\n",
       "    </tr>\n",
       "  </thead>\n",
       "  <tbody>\n",
       "    <tr>\n",
       "      <th>CRS_DEP_TIME</th>\n",
       "      <td>1,359.00</td>\n",
       "      <td>1,021.00</td>\n",
       "      <td>1,325.00</td>\n",
       "      <td>600.00</td>\n",
       "      <td>1,715.00</td>\n",
       "    </tr>\n",
       "    <tr>\n",
       "      <th>TAXI_OUT</th>\n",
       "      <td>27.00</td>\n",
       "      <td>11.00</td>\n",
       "      <td>31.00</td>\n",
       "      <td>19.00</td>\n",
       "      <td>11.00</td>\n",
       "    </tr>\n",
       "    <tr>\n",
       "      <th>CRS_ARR_TIME</th>\n",
       "      <td>1,719.00</td>\n",
       "      <td>1,158.00</td>\n",
       "      <td>1,454.00</td>\n",
       "      <td>711.00</td>\n",
       "      <td>1,930.00</td>\n",
       "    </tr>\n",
       "    <tr>\n",
       "      <th>ARR_DEL15</th>\n",
       "      <td>0.00</td>\n",
       "      <td>0.00</td>\n",
       "      <td>0.00</td>\n",
       "      <td>0.00</td>\n",
       "      <td>1.00</td>\n",
       "    </tr>\n",
       "    <tr>\n",
       "      <th>CRS_ELAPSED_TIME</th>\n",
       "      <td>140.00</td>\n",
       "      <td>97.00</td>\n",
       "      <td>89.00</td>\n",
       "      <td>71.00</td>\n",
       "      <td>135.00</td>\n",
       "    </tr>\n",
       "    <tr>\n",
       "      <th>DISTANCE</th>\n",
       "      <td>765.00</td>\n",
       "      <td>340.00</td>\n",
       "      <td>187.00</td>\n",
       "      <td>94.00</td>\n",
       "      <td>636.00</td>\n",
       "    </tr>\n",
       "    <tr>\n",
       "      <th>Season</th>\n",
       "      <td>1.00</td>\n",
       "      <td>1.00</td>\n",
       "      <td>1.00</td>\n",
       "      <td>1.00</td>\n",
       "      <td>1.00</td>\n",
       "    </tr>\n",
       "    <tr>\n",
       "      <th>Year</th>\n",
       "      <td>2,018.00</td>\n",
       "      <td>2,018.00</td>\n",
       "      <td>2,018.00</td>\n",
       "      <td>2,018.00</td>\n",
       "      <td>2,018.00</td>\n",
       "    </tr>\n",
       "    <tr>\n",
       "      <th>Month</th>\n",
       "      <td>2.00</td>\n",
       "      <td>2.00</td>\n",
       "      <td>2.00</td>\n",
       "      <td>2.00</td>\n",
       "      <td>2.00</td>\n",
       "    </tr>\n",
       "    <tr>\n",
       "      <th>Week</th>\n",
       "      <td>5.00</td>\n",
       "      <td>5.00</td>\n",
       "      <td>6.00</td>\n",
       "      <td>6.00</td>\n",
       "      <td>6.00</td>\n",
       "    </tr>\n",
       "    <tr>\n",
       "      <th>Weekday</th>\n",
       "      <td>3.00</td>\n",
       "      <td>5.00</td>\n",
       "      <td>1.00</td>\n",
       "      <td>3.00</td>\n",
       "      <td>6.00</td>\n",
       "    </tr>\n",
       "    <tr>\n",
       "      <th>Weekend</th>\n",
       "      <td>0.00</td>\n",
       "      <td>1.00</td>\n",
       "      <td>0.00</td>\n",
       "      <td>0.00</td>\n",
       "      <td>1.00</td>\n",
       "    </tr>\n",
       "    <tr>\n",
       "      <th>TAIL_NUM_COUNT</th>\n",
       "      <td>340.00</td>\n",
       "      <td>340.00</td>\n",
       "      <td>340.00</td>\n",
       "      <td>340.00</td>\n",
       "      <td>340.00</td>\n",
       "    </tr>\n",
       "    <tr>\n",
       "      <th>ORIGIN_ABQ</th>\n",
       "      <td>0.00</td>\n",
       "      <td>0.00</td>\n",
       "      <td>0.00</td>\n",
       "      <td>0.00</td>\n",
       "      <td>0.00</td>\n",
       "    </tr>\n",
       "    <tr>\n",
       "      <th>ORIGIN_ACK</th>\n",
       "      <td>0.00</td>\n",
       "      <td>0.00</td>\n",
       "      <td>0.00</td>\n",
       "      <td>0.00</td>\n",
       "      <td>0.00</td>\n",
       "    </tr>\n",
       "    <tr>\n",
       "      <th>ORIGIN_ATL</th>\n",
       "      <td>0.00</td>\n",
       "      <td>0.00</td>\n",
       "      <td>0.00</td>\n",
       "      <td>0.00</td>\n",
       "      <td>0.00</td>\n",
       "    </tr>\n",
       "    <tr>\n",
       "      <th>ORIGIN_AUS</th>\n",
       "      <td>0.00</td>\n",
       "      <td>0.00</td>\n",
       "      <td>0.00</td>\n",
       "      <td>0.00</td>\n",
       "      <td>0.00</td>\n",
       "    </tr>\n",
       "    <tr>\n",
       "      <th>ORIGIN_BGR</th>\n",
       "      <td>0.00</td>\n",
       "      <td>0.00</td>\n",
       "      <td>0.00</td>\n",
       "      <td>0.00</td>\n",
       "      <td>0.00</td>\n",
       "    </tr>\n",
       "    <tr>\n",
       "      <th>ORIGIN_BNA</th>\n",
       "      <td>1.00</td>\n",
       "      <td>0.00</td>\n",
       "      <td>0.00</td>\n",
       "      <td>0.00</td>\n",
       "      <td>0.00</td>\n",
       "    </tr>\n",
       "    <tr>\n",
       "      <th>ORIGIN_BOS</th>\n",
       "      <td>0.00</td>\n",
       "      <td>0.00</td>\n",
       "      <td>1.00</td>\n",
       "      <td>0.00</td>\n",
       "      <td>0.00</td>\n",
       "    </tr>\n",
       "    <tr>\n",
       "      <th>ORIGIN_BQN</th>\n",
       "      <td>0.00</td>\n",
       "      <td>0.00</td>\n",
       "      <td>0.00</td>\n",
       "      <td>0.00</td>\n",
       "      <td>0.00</td>\n",
       "    </tr>\n",
       "    <tr>\n",
       "      <th>ORIGIN_BTV</th>\n",
       "      <td>0.00</td>\n",
       "      <td>0.00</td>\n",
       "      <td>0.00</td>\n",
       "      <td>0.00</td>\n",
       "      <td>0.00</td>\n",
       "    </tr>\n",
       "    <tr>\n",
       "      <th>ORIGIN_BUF</th>\n",
       "      <td>0.00</td>\n",
       "      <td>0.00</td>\n",
       "      <td>0.00</td>\n",
       "      <td>0.00</td>\n",
       "      <td>0.00</td>\n",
       "    </tr>\n",
       "    <tr>\n",
       "      <th>ORIGIN_BUR</th>\n",
       "      <td>0.00</td>\n",
       "      <td>0.00</td>\n",
       "      <td>0.00</td>\n",
       "      <td>0.00</td>\n",
       "      <td>0.00</td>\n",
       "    </tr>\n",
       "    <tr>\n",
       "      <th>ORIGIN_BWI</th>\n",
       "      <td>0.00</td>\n",
       "      <td>0.00</td>\n",
       "      <td>0.00</td>\n",
       "      <td>0.00</td>\n",
       "      <td>0.00</td>\n",
       "    </tr>\n",
       "    <tr>\n",
       "      <th>ORIGIN_CHS</th>\n",
       "      <td>0.00</td>\n",
       "      <td>0.00</td>\n",
       "      <td>0.00</td>\n",
       "      <td>0.00</td>\n",
       "      <td>1.00</td>\n",
       "    </tr>\n",
       "    <tr>\n",
       "      <th>ORIGIN_CLE</th>\n",
       "      <td>0.00</td>\n",
       "      <td>0.00</td>\n",
       "      <td>0.00</td>\n",
       "      <td>0.00</td>\n",
       "      <td>0.00</td>\n",
       "    </tr>\n",
       "    <tr>\n",
       "      <th>ORIGIN_CLT</th>\n",
       "      <td>0.00</td>\n",
       "      <td>0.00</td>\n",
       "      <td>0.00</td>\n",
       "      <td>0.00</td>\n",
       "      <td>0.00</td>\n",
       "    </tr>\n",
       "    <tr>\n",
       "      <th>ORIGIN_CMH</th>\n",
       "      <td>0.00</td>\n",
       "      <td>0.00</td>\n",
       "      <td>0.00</td>\n",
       "      <td>0.00</td>\n",
       "      <td>0.00</td>\n",
       "    </tr>\n",
       "    <tr>\n",
       "      <th>ORIGIN_CVG</th>\n",
       "      <td>0.00</td>\n",
       "      <td>0.00</td>\n",
       "      <td>0.00</td>\n",
       "      <td>0.00</td>\n",
       "      <td>0.00</td>\n",
       "    </tr>\n",
       "    <tr>\n",
       "      <th>ORIGIN_DAB</th>\n",
       "      <td>0.00</td>\n",
       "      <td>0.00</td>\n",
       "      <td>0.00</td>\n",
       "      <td>0.00</td>\n",
       "      <td>0.00</td>\n",
       "    </tr>\n",
       "    <tr>\n",
       "      <th>ORIGIN_DCA</th>\n",
       "      <td>0.00</td>\n",
       "      <td>0.00</td>\n",
       "      <td>0.00</td>\n",
       "      <td>0.00</td>\n",
       "      <td>0.00</td>\n",
       "    </tr>\n",
       "    <tr>\n",
       "      <th>ORIGIN_DEN</th>\n",
       "      <td>0.00</td>\n",
       "      <td>0.00</td>\n",
       "      <td>0.00</td>\n",
       "      <td>0.00</td>\n",
       "      <td>0.00</td>\n",
       "    </tr>\n",
       "    <tr>\n",
       "      <th>ORIGIN_DFW</th>\n",
       "      <td>0.00</td>\n",
       "      <td>0.00</td>\n",
       "      <td>0.00</td>\n",
       "      <td>0.00</td>\n",
       "      <td>0.00</td>\n",
       "    </tr>\n",
       "    <tr>\n",
       "      <th>ORIGIN_DTW</th>\n",
       "      <td>0.00</td>\n",
       "      <td>0.00</td>\n",
       "      <td>0.00</td>\n",
       "      <td>0.00</td>\n",
       "      <td>0.00</td>\n",
       "    </tr>\n",
       "    <tr>\n",
       "      <th>ORIGIN_EGE</th>\n",
       "      <td>0.00</td>\n",
       "      <td>0.00</td>\n",
       "      <td>0.00</td>\n",
       "      <td>0.00</td>\n",
       "      <td>0.00</td>\n",
       "    </tr>\n",
       "    <tr>\n",
       "      <th>ORIGIN_FLL</th>\n",
       "      <td>0.00</td>\n",
       "      <td>0.00</td>\n",
       "      <td>0.00</td>\n",
       "      <td>0.00</td>\n",
       "      <td>0.00</td>\n",
       "    </tr>\n",
       "    <tr>\n",
       "      <th>ORIGIN_HNL</th>\n",
       "      <td>0.00</td>\n",
       "      <td>0.00</td>\n",
       "      <td>0.00</td>\n",
       "      <td>0.00</td>\n",
       "      <td>0.00</td>\n",
       "    </tr>\n",
       "    <tr>\n",
       "      <th>ORIGIN_HOU</th>\n",
       "      <td>0.00</td>\n",
       "      <td>0.00</td>\n",
       "      <td>0.00</td>\n",
       "      <td>0.00</td>\n",
       "      <td>0.00</td>\n",
       "    </tr>\n",
       "    <tr>\n",
       "      <th>ORIGIN_HYA</th>\n",
       "      <td>0.00</td>\n",
       "      <td>0.00</td>\n",
       "      <td>0.00</td>\n",
       "      <td>0.00</td>\n",
       "      <td>0.00</td>\n",
       "    </tr>\n",
       "    <tr>\n",
       "      <th>ORIGIN_IAD</th>\n",
       "      <td>0.00</td>\n",
       "      <td>0.00</td>\n",
       "      <td>0.00</td>\n",
       "      <td>0.00</td>\n",
       "      <td>0.00</td>\n",
       "    </tr>\n",
       "    <tr>\n",
       "      <th>ORIGIN_IAH</th>\n",
       "      <td>0.00</td>\n",
       "      <td>0.00</td>\n",
       "      <td>0.00</td>\n",
       "      <td>0.00</td>\n",
       "      <td>0.00</td>\n",
       "    </tr>\n",
       "    <tr>\n",
       "      <th>ORIGIN_IND</th>\n",
       "      <td>0.00</td>\n",
       "      <td>0.00</td>\n",
       "      <td>0.00</td>\n",
       "      <td>0.00</td>\n",
       "      <td>0.00</td>\n",
       "    </tr>\n",
       "    <tr>\n",
       "      <th>ORIGIN_JAC</th>\n",
       "      <td>0.00</td>\n",
       "      <td>0.00</td>\n",
       "      <td>0.00</td>\n",
       "      <td>0.00</td>\n",
       "      <td>0.00</td>\n",
       "    </tr>\n",
       "    <tr>\n",
       "      <th>ORIGIN_JAX</th>\n",
       "      <td>0.00</td>\n",
       "      <td>0.00</td>\n",
       "      <td>0.00</td>\n",
       "      <td>0.00</td>\n",
       "      <td>0.00</td>\n",
       "    </tr>\n",
       "    <tr>\n",
       "      <th>ORIGIN_LAS</th>\n",
       "      <td>0.00</td>\n",
       "      <td>0.00</td>\n",
       "      <td>0.00</td>\n",
       "      <td>0.00</td>\n",
       "      <td>0.00</td>\n",
       "    </tr>\n",
       "    <tr>\n",
       "      <th>ORIGIN_LAX</th>\n",
       "      <td>0.00</td>\n",
       "      <td>0.00</td>\n",
       "      <td>0.00</td>\n",
       "      <td>0.00</td>\n",
       "      <td>0.00</td>\n",
       "    </tr>\n",
       "    <tr>\n",
       "      <th>ORIGIN_LGB</th>\n",
       "      <td>0.00</td>\n",
       "      <td>0.00</td>\n",
       "      <td>0.00</td>\n",
       "      <td>0.00</td>\n",
       "      <td>0.00</td>\n",
       "    </tr>\n",
       "    <tr>\n",
       "      <th>ORIGIN_MCO</th>\n",
       "      <td>0.00</td>\n",
       "      <td>0.00</td>\n",
       "      <td>0.00</td>\n",
       "      <td>0.00</td>\n",
       "      <td>0.00</td>\n",
       "    </tr>\n",
       "    <tr>\n",
       "      <th>ORIGIN_MIA</th>\n",
       "      <td>0.00</td>\n",
       "      <td>0.00</td>\n",
       "      <td>0.00</td>\n",
       "      <td>0.00</td>\n",
       "      <td>0.00</td>\n",
       "    </tr>\n",
       "    <tr>\n",
       "      <th>ORIGIN_MSP</th>\n",
       "      <td>0.00</td>\n",
       "      <td>0.00</td>\n",
       "      <td>0.00</td>\n",
       "      <td>0.00</td>\n",
       "      <td>0.00</td>\n",
       "    </tr>\n",
       "    <tr>\n",
       "      <th>ORIGIN_MSY</th>\n",
       "      <td>0.00</td>\n",
       "      <td>0.00</td>\n",
       "      <td>0.00</td>\n",
       "      <td>0.00</td>\n",
       "      <td>0.00</td>\n",
       "    </tr>\n",
       "    <tr>\n",
       "      <th>ORIGIN_MVY</th>\n",
       "      <td>0.00</td>\n",
       "      <td>0.00</td>\n",
       "      <td>0.00</td>\n",
       "      <td>0.00</td>\n",
       "      <td>0.00</td>\n",
       "    </tr>\n",
       "    <tr>\n",
       "      <th>ORIGIN_OAK</th>\n",
       "      <td>0.00</td>\n",
       "      <td>0.00</td>\n",
       "      <td>0.00</td>\n",
       "      <td>0.00</td>\n",
       "      <td>0.00</td>\n",
       "    </tr>\n",
       "    <tr>\n",
       "      <th>ORIGIN_ONT</th>\n",
       "      <td>0.00</td>\n",
       "      <td>0.00</td>\n",
       "      <td>0.00</td>\n",
       "      <td>0.00</td>\n",
       "      <td>0.00</td>\n",
       "    </tr>\n",
       "    <tr>\n",
       "      <th>ORIGIN_ORD</th>\n",
       "      <td>0.00</td>\n",
       "      <td>0.00</td>\n",
       "      <td>0.00</td>\n",
       "      <td>0.00</td>\n",
       "      <td>0.00</td>\n",
       "    </tr>\n",
       "    <tr>\n",
       "      <th>ORIGIN_ORF</th>\n",
       "      <td>0.00</td>\n",
       "      <td>0.00</td>\n",
       "      <td>0.00</td>\n",
       "      <td>0.00</td>\n",
       "      <td>0.00</td>\n",
       "    </tr>\n",
       "    <tr>\n",
       "      <th>ORIGIN_ORH</th>\n",
       "      <td>0.00</td>\n",
       "      <td>0.00</td>\n",
       "      <td>0.00</td>\n",
       "      <td>0.00</td>\n",
       "      <td>0.00</td>\n",
       "    </tr>\n",
       "    <tr>\n",
       "      <th>ORIGIN_PBI</th>\n",
       "      <td>0.00</td>\n",
       "      <td>0.00</td>\n",
       "      <td>0.00</td>\n",
       "      <td>0.00</td>\n",
       "      <td>0.00</td>\n",
       "    </tr>\n",
       "    <tr>\n",
       "      <th>ORIGIN_PDX</th>\n",
       "      <td>0.00</td>\n",
       "      <td>0.00</td>\n",
       "      <td>0.00</td>\n",
       "      <td>0.00</td>\n",
       "      <td>0.00</td>\n",
       "    </tr>\n",
       "    <tr>\n",
       "      <th>ORIGIN_PHL</th>\n",
       "      <td>0.00</td>\n",
       "      <td>0.00</td>\n",
       "      <td>0.00</td>\n",
       "      <td>1.00</td>\n",
       "      <td>0.00</td>\n",
       "    </tr>\n",
       "    <tr>\n",
       "      <th>ORIGIN_PHX</th>\n",
       "      <td>0.00</td>\n",
       "      <td>0.00</td>\n",
       "      <td>0.00</td>\n",
       "      <td>0.00</td>\n",
       "      <td>0.00</td>\n",
       "    </tr>\n",
       "    <tr>\n",
       "      <th>ORIGIN_PIT</th>\n",
       "      <td>0.00</td>\n",
       "      <td>1.00</td>\n",
       "      <td>0.00</td>\n",
       "      <td>0.00</td>\n",
       "      <td>0.00</td>\n",
       "    </tr>\n",
       "    <tr>\n",
       "      <th>ORIGIN_PSE</th>\n",
       "      <td>0.00</td>\n",
       "      <td>0.00</td>\n",
       "      <td>0.00</td>\n",
       "      <td>0.00</td>\n",
       "      <td>0.00</td>\n",
       "    </tr>\n",
       "    <tr>\n",
       "      <th>ORIGIN_PSP</th>\n",
       "      <td>0.00</td>\n",
       "      <td>0.00</td>\n",
       "      <td>0.00</td>\n",
       "      <td>0.00</td>\n",
       "      <td>0.00</td>\n",
       "    </tr>\n",
       "    <tr>\n",
       "      <th>ORIGIN_PWM</th>\n",
       "      <td>0.00</td>\n",
       "      <td>0.00</td>\n",
       "      <td>0.00</td>\n",
       "      <td>0.00</td>\n",
       "      <td>0.00</td>\n",
       "    </tr>\n",
       "    <tr>\n",
       "      <th>ORIGIN_RDU</th>\n",
       "      <td>0.00</td>\n",
       "      <td>0.00</td>\n",
       "      <td>0.00</td>\n",
       "      <td>0.00</td>\n",
       "      <td>0.00</td>\n",
       "    </tr>\n",
       "    <tr>\n",
       "      <th>ORIGIN_RIC</th>\n",
       "      <td>0.00</td>\n",
       "      <td>0.00</td>\n",
       "      <td>0.00</td>\n",
       "      <td>0.00</td>\n",
       "      <td>0.00</td>\n",
       "    </tr>\n",
       "    <tr>\n",
       "      <th>ORIGIN_RNO</th>\n",
       "      <td>0.00</td>\n",
       "      <td>0.00</td>\n",
       "      <td>0.00</td>\n",
       "      <td>0.00</td>\n",
       "      <td>0.00</td>\n",
       "    </tr>\n",
       "    <tr>\n",
       "      <th>ORIGIN_ROC</th>\n",
       "      <td>0.00</td>\n",
       "      <td>0.00</td>\n",
       "      <td>0.00</td>\n",
       "      <td>0.00</td>\n",
       "      <td>0.00</td>\n",
       "    </tr>\n",
       "    <tr>\n",
       "      <th>ORIGIN_RSW</th>\n",
       "      <td>0.00</td>\n",
       "      <td>0.00</td>\n",
       "      <td>0.00</td>\n",
       "      <td>0.00</td>\n",
       "      <td>0.00</td>\n",
       "    </tr>\n",
       "    <tr>\n",
       "      <th>ORIGIN_SAN</th>\n",
       "      <td>0.00</td>\n",
       "      <td>0.00</td>\n",
       "      <td>0.00</td>\n",
       "      <td>0.00</td>\n",
       "      <td>0.00</td>\n",
       "    </tr>\n",
       "    <tr>\n",
       "      <th>ORIGIN_SAT</th>\n",
       "      <td>0.00</td>\n",
       "      <td>0.00</td>\n",
       "      <td>0.00</td>\n",
       "      <td>0.00</td>\n",
       "      <td>0.00</td>\n",
       "    </tr>\n",
       "    <tr>\n",
       "      <th>ORIGIN_SAV</th>\n",
       "      <td>0.00</td>\n",
       "      <td>0.00</td>\n",
       "      <td>0.00</td>\n",
       "      <td>0.00</td>\n",
       "      <td>0.00</td>\n",
       "    </tr>\n",
       "    <tr>\n",
       "      <th>ORIGIN_SEA</th>\n",
       "      <td>0.00</td>\n",
       "      <td>0.00</td>\n",
       "      <td>0.00</td>\n",
       "      <td>0.00</td>\n",
       "      <td>0.00</td>\n",
       "    </tr>\n",
       "    <tr>\n",
       "      <th>ORIGIN_SFO</th>\n",
       "      <td>0.00</td>\n",
       "      <td>0.00</td>\n",
       "      <td>0.00</td>\n",
       "      <td>0.00</td>\n",
       "      <td>0.00</td>\n",
       "    </tr>\n",
       "    <tr>\n",
       "      <th>ORIGIN_SJC</th>\n",
       "      <td>0.00</td>\n",
       "      <td>0.00</td>\n",
       "      <td>0.00</td>\n",
       "      <td>0.00</td>\n",
       "      <td>0.00</td>\n",
       "    </tr>\n",
       "    <tr>\n",
       "      <th>ORIGIN_SJU</th>\n",
       "      <td>0.00</td>\n",
       "      <td>0.00</td>\n",
       "      <td>0.00</td>\n",
       "      <td>0.00</td>\n",
       "      <td>0.00</td>\n",
       "    </tr>\n",
       "    <tr>\n",
       "      <th>ORIGIN_SLC</th>\n",
       "      <td>0.00</td>\n",
       "      <td>0.00</td>\n",
       "      <td>0.00</td>\n",
       "      <td>0.00</td>\n",
       "      <td>0.00</td>\n",
       "    </tr>\n",
       "    <tr>\n",
       "      <th>ORIGIN_SMF</th>\n",
       "      <td>0.00</td>\n",
       "      <td>0.00</td>\n",
       "      <td>0.00</td>\n",
       "      <td>0.00</td>\n",
       "      <td>0.00</td>\n",
       "    </tr>\n",
       "    <tr>\n",
       "      <th>ORIGIN_SNA</th>\n",
       "      <td>0.00</td>\n",
       "      <td>0.00</td>\n",
       "      <td>0.00</td>\n",
       "      <td>0.00</td>\n",
       "      <td>0.00</td>\n",
       "    </tr>\n",
       "    <tr>\n",
       "      <th>ORIGIN_SRQ</th>\n",
       "      <td>0.00</td>\n",
       "      <td>0.00</td>\n",
       "      <td>0.00</td>\n",
       "      <td>0.00</td>\n",
       "      <td>0.00</td>\n",
       "    </tr>\n",
       "    <tr>\n",
       "      <th>ORIGIN_STT</th>\n",
       "      <td>0.00</td>\n",
       "      <td>0.00</td>\n",
       "      <td>0.00</td>\n",
       "      <td>0.00</td>\n",
       "      <td>0.00</td>\n",
       "    </tr>\n",
       "    <tr>\n",
       "      <th>ORIGIN_SYR</th>\n",
       "      <td>0.00</td>\n",
       "      <td>0.00</td>\n",
       "      <td>0.00</td>\n",
       "      <td>0.00</td>\n",
       "      <td>0.00</td>\n",
       "    </tr>\n",
       "    <tr>\n",
       "      <th>ORIGIN_TPA</th>\n",
       "      <td>0.00</td>\n",
       "      <td>0.00</td>\n",
       "      <td>0.00</td>\n",
       "      <td>0.00</td>\n",
       "      <td>0.00</td>\n",
       "    </tr>\n",
       "    <tr>\n",
       "      <th>ORIGIN_CITY_NAME_Aguadilla, PR</th>\n",
       "      <td>0.00</td>\n",
       "      <td>0.00</td>\n",
       "      <td>0.00</td>\n",
       "      <td>0.00</td>\n",
       "      <td>0.00</td>\n",
       "    </tr>\n",
       "    <tr>\n",
       "      <th>ORIGIN_CITY_NAME_Albuquerque, NM</th>\n",
       "      <td>0.00</td>\n",
       "      <td>0.00</td>\n",
       "      <td>0.00</td>\n",
       "      <td>0.00</td>\n",
       "      <td>0.00</td>\n",
       "    </tr>\n",
       "    <tr>\n",
       "      <th>ORIGIN_CITY_NAME_Atlanta, GA</th>\n",
       "      <td>0.00</td>\n",
       "      <td>0.00</td>\n",
       "      <td>0.00</td>\n",
       "      <td>0.00</td>\n",
       "      <td>0.00</td>\n",
       "    </tr>\n",
       "    <tr>\n",
       "      <th>ORIGIN_CITY_NAME_Austin, TX</th>\n",
       "      <td>0.00</td>\n",
       "      <td>0.00</td>\n",
       "      <td>0.00</td>\n",
       "      <td>0.00</td>\n",
       "      <td>0.00</td>\n",
       "    </tr>\n",
       "    <tr>\n",
       "      <th>ORIGIN_CITY_NAME_Baltimore, MD</th>\n",
       "      <td>0.00</td>\n",
       "      <td>0.00</td>\n",
       "      <td>0.00</td>\n",
       "      <td>0.00</td>\n",
       "      <td>0.00</td>\n",
       "    </tr>\n",
       "    <tr>\n",
       "      <th>ORIGIN_CITY_NAME_Bangor, ME</th>\n",
       "      <td>0.00</td>\n",
       "      <td>0.00</td>\n",
       "      <td>0.00</td>\n",
       "      <td>0.00</td>\n",
       "      <td>0.00</td>\n",
       "    </tr>\n",
       "    <tr>\n",
       "      <th>ORIGIN_CITY_NAME_Boston, MA</th>\n",
       "      <td>0.00</td>\n",
       "      <td>0.00</td>\n",
       "      <td>1.00</td>\n",
       "      <td>0.00</td>\n",
       "      <td>0.00</td>\n",
       "    </tr>\n",
       "    <tr>\n",
       "      <th>ORIGIN_CITY_NAME_Buffalo, NY</th>\n",
       "      <td>0.00</td>\n",
       "      <td>0.00</td>\n",
       "      <td>0.00</td>\n",
       "      <td>0.00</td>\n",
       "      <td>0.00</td>\n",
       "    </tr>\n",
       "    <tr>\n",
       "      <th>ORIGIN_CITY_NAME_Burbank, CA</th>\n",
       "      <td>0.00</td>\n",
       "      <td>0.00</td>\n",
       "      <td>0.00</td>\n",
       "      <td>0.00</td>\n",
       "      <td>0.00</td>\n",
       "    </tr>\n",
       "    <tr>\n",
       "      <th>ORIGIN_CITY_NAME_Burlington, VT</th>\n",
       "      <td>0.00</td>\n",
       "      <td>0.00</td>\n",
       "      <td>0.00</td>\n",
       "      <td>0.00</td>\n",
       "      <td>0.00</td>\n",
       "    </tr>\n",
       "    <tr>\n",
       "      <th>ORIGIN_CITY_NAME_Charleston, SC</th>\n",
       "      <td>0.00</td>\n",
       "      <td>0.00</td>\n",
       "      <td>0.00</td>\n",
       "      <td>0.00</td>\n",
       "      <td>1.00</td>\n",
       "    </tr>\n",
       "    <tr>\n",
       "      <th>ORIGIN_CITY_NAME_Charlotte Amalie, VI</th>\n",
       "      <td>0.00</td>\n",
       "      <td>0.00</td>\n",
       "      <td>0.00</td>\n",
       "      <td>0.00</td>\n",
       "      <td>0.00</td>\n",
       "    </tr>\n",
       "    <tr>\n",
       "      <th>ORIGIN_CITY_NAME_Charlotte, NC</th>\n",
       "      <td>0.00</td>\n",
       "      <td>0.00</td>\n",
       "      <td>0.00</td>\n",
       "      <td>0.00</td>\n",
       "      <td>0.00</td>\n",
       "    </tr>\n",
       "    <tr>\n",
       "      <th>ORIGIN_CITY_NAME_Chicago, IL</th>\n",
       "      <td>0.00</td>\n",
       "      <td>0.00</td>\n",
       "      <td>0.00</td>\n",
       "      <td>0.00</td>\n",
       "      <td>0.00</td>\n",
       "    </tr>\n",
       "    <tr>\n",
       "      <th>ORIGIN_CITY_NAME_Cincinnati, OH</th>\n",
       "      <td>0.00</td>\n",
       "      <td>0.00</td>\n",
       "      <td>0.00</td>\n",
       "      <td>0.00</td>\n",
       "      <td>0.00</td>\n",
       "    </tr>\n",
       "    <tr>\n",
       "      <th>ORIGIN_CITY_NAME_Cleveland, OH</th>\n",
       "      <td>0.00</td>\n",
       "      <td>0.00</td>\n",
       "      <td>0.00</td>\n",
       "      <td>0.00</td>\n",
       "      <td>0.00</td>\n",
       "    </tr>\n",
       "    <tr>\n",
       "      <th>ORIGIN_CITY_NAME_Columbus, OH</th>\n",
       "      <td>0.00</td>\n",
       "      <td>0.00</td>\n",
       "      <td>0.00</td>\n",
       "      <td>0.00</td>\n",
       "      <td>0.00</td>\n",
       "    </tr>\n",
       "    <tr>\n",
       "      <th>ORIGIN_CITY_NAME_Dallas/Fort Worth, TX</th>\n",
       "      <td>0.00</td>\n",
       "      <td>0.00</td>\n",
       "      <td>0.00</td>\n",
       "      <td>0.00</td>\n",
       "      <td>0.00</td>\n",
       "    </tr>\n",
       "    <tr>\n",
       "      <th>ORIGIN_CITY_NAME_Daytona Beach, FL</th>\n",
       "      <td>0.00</td>\n",
       "      <td>0.00</td>\n",
       "      <td>0.00</td>\n",
       "      <td>0.00</td>\n",
       "      <td>0.00</td>\n",
       "    </tr>\n",
       "    <tr>\n",
       "      <th>ORIGIN_CITY_NAME_Denver, CO</th>\n",
       "      <td>0.00</td>\n",
       "      <td>0.00</td>\n",
       "      <td>0.00</td>\n",
       "      <td>0.00</td>\n",
       "      <td>0.00</td>\n",
       "    </tr>\n",
       "    <tr>\n",
       "      <th>ORIGIN_CITY_NAME_Detroit, MI</th>\n",
       "      <td>0.00</td>\n",
       "      <td>0.00</td>\n",
       "      <td>0.00</td>\n",
       "      <td>0.00</td>\n",
       "      <td>0.00</td>\n",
       "    </tr>\n",
       "    <tr>\n",
       "      <th>ORIGIN_CITY_NAME_Eagle, CO</th>\n",
       "      <td>0.00</td>\n",
       "      <td>0.00</td>\n",
       "      <td>0.00</td>\n",
       "      <td>0.00</td>\n",
       "      <td>0.00</td>\n",
       "    </tr>\n",
       "    <tr>\n",
       "      <th>ORIGIN_CITY_NAME_Fort Lauderdale, FL</th>\n",
       "      <td>0.00</td>\n",
       "      <td>0.00</td>\n",
       "      <td>0.00</td>\n",
       "      <td>0.00</td>\n",
       "      <td>0.00</td>\n",
       "    </tr>\n",
       "    <tr>\n",
       "      <th>ORIGIN_CITY_NAME_Fort Myers, FL</th>\n",
       "      <td>0.00</td>\n",
       "      <td>0.00</td>\n",
       "      <td>0.00</td>\n",
       "      <td>0.00</td>\n",
       "      <td>0.00</td>\n",
       "    </tr>\n",
       "    <tr>\n",
       "      <th>ORIGIN_CITY_NAME_Honolulu, HI</th>\n",
       "      <td>0.00</td>\n",
       "      <td>0.00</td>\n",
       "      <td>0.00</td>\n",
       "      <td>0.00</td>\n",
       "      <td>0.00</td>\n",
       "    </tr>\n",
       "    <tr>\n",
       "      <th>ORIGIN_CITY_NAME_Houston, TX</th>\n",
       "      <td>0.00</td>\n",
       "      <td>0.00</td>\n",
       "      <td>0.00</td>\n",
       "      <td>0.00</td>\n",
       "      <td>0.00</td>\n",
       "    </tr>\n",
       "    <tr>\n",
       "      <th>ORIGIN_CITY_NAME_Hyannis, MA</th>\n",
       "      <td>0.00</td>\n",
       "      <td>0.00</td>\n",
       "      <td>0.00</td>\n",
       "      <td>0.00</td>\n",
       "      <td>0.00</td>\n",
       "    </tr>\n",
       "    <tr>\n",
       "      <th>ORIGIN_CITY_NAME_Indianapolis, IN</th>\n",
       "      <td>0.00</td>\n",
       "      <td>0.00</td>\n",
       "      <td>0.00</td>\n",
       "      <td>0.00</td>\n",
       "      <td>0.00</td>\n",
       "    </tr>\n",
       "    <tr>\n",
       "      <th>ORIGIN_CITY_NAME_Jackson, WY</th>\n",
       "      <td>0.00</td>\n",
       "      <td>0.00</td>\n",
       "      <td>0.00</td>\n",
       "      <td>0.00</td>\n",
       "      <td>0.00</td>\n",
       "    </tr>\n",
       "    <tr>\n",
       "      <th>ORIGIN_CITY_NAME_Jacksonville, FL</th>\n",
       "      <td>0.00</td>\n",
       "      <td>0.00</td>\n",
       "      <td>0.00</td>\n",
       "      <td>0.00</td>\n",
       "      <td>0.00</td>\n",
       "    </tr>\n",
       "    <tr>\n",
       "      <th>ORIGIN_CITY_NAME_Las Vegas, NV</th>\n",
       "      <td>0.00</td>\n",
       "      <td>0.00</td>\n",
       "      <td>0.00</td>\n",
       "      <td>0.00</td>\n",
       "      <td>0.00</td>\n",
       "    </tr>\n",
       "    <tr>\n",
       "      <th>ORIGIN_CITY_NAME_Long Beach, CA</th>\n",
       "      <td>0.00</td>\n",
       "      <td>0.00</td>\n",
       "      <td>0.00</td>\n",
       "      <td>0.00</td>\n",
       "      <td>0.00</td>\n",
       "    </tr>\n",
       "    <tr>\n",
       "      <th>ORIGIN_CITY_NAME_Los Angeles, CA</th>\n",
       "      <td>0.00</td>\n",
       "      <td>0.00</td>\n",
       "      <td>0.00</td>\n",
       "      <td>0.00</td>\n",
       "      <td>0.00</td>\n",
       "    </tr>\n",
       "    <tr>\n",
       "      <th>ORIGIN_CITY_NAME_Martha's Vineyard, MA</th>\n",
       "      <td>0.00</td>\n",
       "      <td>0.00</td>\n",
       "      <td>0.00</td>\n",
       "      <td>0.00</td>\n",
       "      <td>0.00</td>\n",
       "    </tr>\n",
       "    <tr>\n",
       "      <th>ORIGIN_CITY_NAME_Miami, FL</th>\n",
       "      <td>0.00</td>\n",
       "      <td>0.00</td>\n",
       "      <td>0.00</td>\n",
       "      <td>0.00</td>\n",
       "      <td>0.00</td>\n",
       "    </tr>\n",
       "    <tr>\n",
       "      <th>ORIGIN_CITY_NAME_Minneapolis, MN</th>\n",
       "      <td>0.00</td>\n",
       "      <td>0.00</td>\n",
       "      <td>0.00</td>\n",
       "      <td>0.00</td>\n",
       "      <td>0.00</td>\n",
       "    </tr>\n",
       "    <tr>\n",
       "      <th>ORIGIN_CITY_NAME_Nantucket, MA</th>\n",
       "      <td>0.00</td>\n",
       "      <td>0.00</td>\n",
       "      <td>0.00</td>\n",
       "      <td>0.00</td>\n",
       "      <td>0.00</td>\n",
       "    </tr>\n",
       "    <tr>\n",
       "      <th>ORIGIN_CITY_NAME_Nashville, TN</th>\n",
       "      <td>1.00</td>\n",
       "      <td>0.00</td>\n",
       "      <td>0.00</td>\n",
       "      <td>0.00</td>\n",
       "      <td>0.00</td>\n",
       "    </tr>\n",
       "    <tr>\n",
       "      <th>ORIGIN_CITY_NAME_New Orleans, LA</th>\n",
       "      <td>0.00</td>\n",
       "      <td>0.00</td>\n",
       "      <td>0.00</td>\n",
       "      <td>0.00</td>\n",
       "      <td>0.00</td>\n",
       "    </tr>\n",
       "    <tr>\n",
       "      <th>ORIGIN_CITY_NAME_Norfolk, VA</th>\n",
       "      <td>0.00</td>\n",
       "      <td>0.00</td>\n",
       "      <td>0.00</td>\n",
       "      <td>0.00</td>\n",
       "      <td>0.00</td>\n",
       "    </tr>\n",
       "    <tr>\n",
       "      <th>ORIGIN_CITY_NAME_Oakland, CA</th>\n",
       "      <td>0.00</td>\n",
       "      <td>0.00</td>\n",
       "      <td>0.00</td>\n",
       "      <td>0.00</td>\n",
       "      <td>0.00</td>\n",
       "    </tr>\n",
       "    <tr>\n",
       "      <th>ORIGIN_CITY_NAME_Ontario, CA</th>\n",
       "      <td>0.00</td>\n",
       "      <td>0.00</td>\n",
       "      <td>0.00</td>\n",
       "      <td>0.00</td>\n",
       "      <td>0.00</td>\n",
       "    </tr>\n",
       "    <tr>\n",
       "      <th>ORIGIN_CITY_NAME_Orlando, FL</th>\n",
       "      <td>0.00</td>\n",
       "      <td>0.00</td>\n",
       "      <td>0.00</td>\n",
       "      <td>0.00</td>\n",
       "      <td>0.00</td>\n",
       "    </tr>\n",
       "    <tr>\n",
       "      <th>ORIGIN_CITY_NAME_Palm Springs, CA</th>\n",
       "      <td>0.00</td>\n",
       "      <td>0.00</td>\n",
       "      <td>0.00</td>\n",
       "      <td>0.00</td>\n",
       "      <td>0.00</td>\n",
       "    </tr>\n",
       "    <tr>\n",
       "      <th>ORIGIN_CITY_NAME_Philadelphia, PA</th>\n",
       "      <td>0.00</td>\n",
       "      <td>0.00</td>\n",
       "      <td>0.00</td>\n",
       "      <td>1.00</td>\n",
       "      <td>0.00</td>\n",
       "    </tr>\n",
       "    <tr>\n",
       "      <th>ORIGIN_CITY_NAME_Phoenix, AZ</th>\n",
       "      <td>0.00</td>\n",
       "      <td>0.00</td>\n",
       "      <td>0.00</td>\n",
       "      <td>0.00</td>\n",
       "      <td>0.00</td>\n",
       "    </tr>\n",
       "    <tr>\n",
       "      <th>ORIGIN_CITY_NAME_Pittsburgh, PA</th>\n",
       "      <td>0.00</td>\n",
       "      <td>1.00</td>\n",
       "      <td>0.00</td>\n",
       "      <td>0.00</td>\n",
       "      <td>0.00</td>\n",
       "    </tr>\n",
       "    <tr>\n",
       "      <th>ORIGIN_CITY_NAME_Ponce, PR</th>\n",
       "      <td>0.00</td>\n",
       "      <td>0.00</td>\n",
       "      <td>0.00</td>\n",
       "      <td>0.00</td>\n",
       "      <td>0.00</td>\n",
       "    </tr>\n",
       "    <tr>\n",
       "      <th>ORIGIN_CITY_NAME_Portland, ME</th>\n",
       "      <td>0.00</td>\n",
       "      <td>0.00</td>\n",
       "      <td>0.00</td>\n",
       "      <td>0.00</td>\n",
       "      <td>0.00</td>\n",
       "    </tr>\n",
       "    <tr>\n",
       "      <th>ORIGIN_CITY_NAME_Portland, OR</th>\n",
       "      <td>0.00</td>\n",
       "      <td>0.00</td>\n",
       "      <td>0.00</td>\n",
       "      <td>0.00</td>\n",
       "      <td>0.00</td>\n",
       "    </tr>\n",
       "    <tr>\n",
       "      <th>ORIGIN_CITY_NAME_Raleigh/Durham, NC</th>\n",
       "      <td>0.00</td>\n",
       "      <td>0.00</td>\n",
       "      <td>0.00</td>\n",
       "      <td>0.00</td>\n",
       "      <td>0.00</td>\n",
       "    </tr>\n",
       "    <tr>\n",
       "      <th>ORIGIN_CITY_NAME_Reno, NV</th>\n",
       "      <td>0.00</td>\n",
       "      <td>0.00</td>\n",
       "      <td>0.00</td>\n",
       "      <td>0.00</td>\n",
       "      <td>0.00</td>\n",
       "    </tr>\n",
       "    <tr>\n",
       "      <th>ORIGIN_CITY_NAME_Richmond, VA</th>\n",
       "      <td>0.00</td>\n",
       "      <td>0.00</td>\n",
       "      <td>0.00</td>\n",
       "      <td>0.00</td>\n",
       "      <td>0.00</td>\n",
       "    </tr>\n",
       "    <tr>\n",
       "      <th>ORIGIN_CITY_NAME_Rochester, NY</th>\n",
       "      <td>0.00</td>\n",
       "      <td>0.00</td>\n",
       "      <td>0.00</td>\n",
       "      <td>0.00</td>\n",
       "      <td>0.00</td>\n",
       "    </tr>\n",
       "    <tr>\n",
       "      <th>ORIGIN_CITY_NAME_Sacramento, CA</th>\n",
       "      <td>0.00</td>\n",
       "      <td>0.00</td>\n",
       "      <td>0.00</td>\n",
       "      <td>0.00</td>\n",
       "      <td>0.00</td>\n",
       "    </tr>\n",
       "    <tr>\n",
       "      <th>ORIGIN_CITY_NAME_Salt Lake City, UT</th>\n",
       "      <td>0.00</td>\n",
       "      <td>0.00</td>\n",
       "      <td>0.00</td>\n",
       "      <td>0.00</td>\n",
       "      <td>0.00</td>\n",
       "    </tr>\n",
       "    <tr>\n",
       "      <th>ORIGIN_CITY_NAME_San Antonio, TX</th>\n",
       "      <td>0.00</td>\n",
       "      <td>0.00</td>\n",
       "      <td>0.00</td>\n",
       "      <td>0.00</td>\n",
       "      <td>0.00</td>\n",
       "    </tr>\n",
       "    <tr>\n",
       "      <th>ORIGIN_CITY_NAME_San Diego, CA</th>\n",
       "      <td>0.00</td>\n",
       "      <td>0.00</td>\n",
       "      <td>0.00</td>\n",
       "      <td>0.00</td>\n",
       "      <td>0.00</td>\n",
       "    </tr>\n",
       "    <tr>\n",
       "      <th>ORIGIN_CITY_NAME_San Francisco, CA</th>\n",
       "      <td>0.00</td>\n",
       "      <td>0.00</td>\n",
       "      <td>0.00</td>\n",
       "      <td>0.00</td>\n",
       "      <td>0.00</td>\n",
       "    </tr>\n",
       "    <tr>\n",
       "      <th>ORIGIN_CITY_NAME_San Jose, CA</th>\n",
       "      <td>0.00</td>\n",
       "      <td>0.00</td>\n",
       "      <td>0.00</td>\n",
       "      <td>0.00</td>\n",
       "      <td>0.00</td>\n",
       "    </tr>\n",
       "    <tr>\n",
       "      <th>ORIGIN_CITY_NAME_San Juan, PR</th>\n",
       "      <td>0.00</td>\n",
       "      <td>0.00</td>\n",
       "      <td>0.00</td>\n",
       "      <td>0.00</td>\n",
       "      <td>0.00</td>\n",
       "    </tr>\n",
       "    <tr>\n",
       "      <th>ORIGIN_CITY_NAME_Santa Ana, CA</th>\n",
       "      <td>0.00</td>\n",
       "      <td>0.00</td>\n",
       "      <td>0.00</td>\n",
       "      <td>0.00</td>\n",
       "      <td>0.00</td>\n",
       "    </tr>\n",
       "    <tr>\n",
       "      <th>ORIGIN_CITY_NAME_Sarasota/Bradenton, FL</th>\n",
       "      <td>0.00</td>\n",
       "      <td>0.00</td>\n",
       "      <td>0.00</td>\n",
       "      <td>0.00</td>\n",
       "      <td>0.00</td>\n",
       "    </tr>\n",
       "    <tr>\n",
       "      <th>ORIGIN_CITY_NAME_Savannah, GA</th>\n",
       "      <td>0.00</td>\n",
       "      <td>0.00</td>\n",
       "      <td>0.00</td>\n",
       "      <td>0.00</td>\n",
       "      <td>0.00</td>\n",
       "    </tr>\n",
       "    <tr>\n",
       "      <th>ORIGIN_CITY_NAME_Seattle, WA</th>\n",
       "      <td>0.00</td>\n",
       "      <td>0.00</td>\n",
       "      <td>0.00</td>\n",
       "      <td>0.00</td>\n",
       "      <td>0.00</td>\n",
       "    </tr>\n",
       "    <tr>\n",
       "      <th>ORIGIN_CITY_NAME_Syracuse, NY</th>\n",
       "      <td>0.00</td>\n",
       "      <td>0.00</td>\n",
       "      <td>0.00</td>\n",
       "      <td>0.00</td>\n",
       "      <td>0.00</td>\n",
       "    </tr>\n",
       "    <tr>\n",
       "      <th>ORIGIN_CITY_NAME_Tampa, FL</th>\n",
       "      <td>0.00</td>\n",
       "      <td>0.00</td>\n",
       "      <td>0.00</td>\n",
       "      <td>0.00</td>\n",
       "      <td>0.00</td>\n",
       "    </tr>\n",
       "    <tr>\n",
       "      <th>ORIGIN_CITY_NAME_Washington, DC</th>\n",
       "      <td>0.00</td>\n",
       "      <td>0.00</td>\n",
       "      <td>0.00</td>\n",
       "      <td>0.00</td>\n",
       "      <td>0.00</td>\n",
       "    </tr>\n",
       "    <tr>\n",
       "      <th>ORIGIN_CITY_NAME_West Palm Beach/Palm Beach, FL</th>\n",
       "      <td>0.00</td>\n",
       "      <td>0.00</td>\n",
       "      <td>0.00</td>\n",
       "      <td>0.00</td>\n",
       "      <td>0.00</td>\n",
       "    </tr>\n",
       "    <tr>\n",
       "      <th>ORIGIN_CITY_NAME_Worcester, MA</th>\n",
       "      <td>0.00</td>\n",
       "      <td>0.00</td>\n",
       "      <td>0.00</td>\n",
       "      <td>0.00</td>\n",
       "      <td>0.00</td>\n",
       "    </tr>\n",
       "    <tr>\n",
       "      <th>ORIGIN_STATE_NM_Arizona</th>\n",
       "      <td>0.00</td>\n",
       "      <td>0.00</td>\n",
       "      <td>0.00</td>\n",
       "      <td>0.00</td>\n",
       "      <td>0.00</td>\n",
       "    </tr>\n",
       "    <tr>\n",
       "      <th>ORIGIN_STATE_NM_California</th>\n",
       "      <td>0.00</td>\n",
       "      <td>0.00</td>\n",
       "      <td>0.00</td>\n",
       "      <td>0.00</td>\n",
       "      <td>0.00</td>\n",
       "    </tr>\n",
       "    <tr>\n",
       "      <th>ORIGIN_STATE_NM_Colorado</th>\n",
       "      <td>0.00</td>\n",
       "      <td>0.00</td>\n",
       "      <td>0.00</td>\n",
       "      <td>0.00</td>\n",
       "      <td>0.00</td>\n",
       "    </tr>\n",
       "    <tr>\n",
       "      <th>ORIGIN_STATE_NM_Florida</th>\n",
       "      <td>0.00</td>\n",
       "      <td>0.00</td>\n",
       "      <td>0.00</td>\n",
       "      <td>0.00</td>\n",
       "      <td>0.00</td>\n",
       "    </tr>\n",
       "    <tr>\n",
       "      <th>ORIGIN_STATE_NM_Georgia</th>\n",
       "      <td>0.00</td>\n",
       "      <td>0.00</td>\n",
       "      <td>0.00</td>\n",
       "      <td>0.00</td>\n",
       "      <td>0.00</td>\n",
       "    </tr>\n",
       "    <tr>\n",
       "      <th>ORIGIN_STATE_NM_Hawaii</th>\n",
       "      <td>0.00</td>\n",
       "      <td>0.00</td>\n",
       "      <td>0.00</td>\n",
       "      <td>0.00</td>\n",
       "      <td>0.00</td>\n",
       "    </tr>\n",
       "    <tr>\n",
       "      <th>ORIGIN_STATE_NM_Illinois</th>\n",
       "      <td>0.00</td>\n",
       "      <td>0.00</td>\n",
       "      <td>0.00</td>\n",
       "      <td>0.00</td>\n",
       "      <td>0.00</td>\n",
       "    </tr>\n",
       "    <tr>\n",
       "      <th>ORIGIN_STATE_NM_Indiana</th>\n",
       "      <td>0.00</td>\n",
       "      <td>0.00</td>\n",
       "      <td>0.00</td>\n",
       "      <td>0.00</td>\n",
       "      <td>0.00</td>\n",
       "    </tr>\n",
       "    <tr>\n",
       "      <th>ORIGIN_STATE_NM_Kentucky</th>\n",
       "      <td>0.00</td>\n",
       "      <td>0.00</td>\n",
       "      <td>0.00</td>\n",
       "      <td>0.00</td>\n",
       "      <td>0.00</td>\n",
       "    </tr>\n",
       "    <tr>\n",
       "      <th>ORIGIN_STATE_NM_Louisiana</th>\n",
       "      <td>0.00</td>\n",
       "      <td>0.00</td>\n",
       "      <td>0.00</td>\n",
       "      <td>0.00</td>\n",
       "      <td>0.00</td>\n",
       "    </tr>\n",
       "    <tr>\n",
       "      <th>ORIGIN_STATE_NM_Maine</th>\n",
       "      <td>0.00</td>\n",
       "      <td>0.00</td>\n",
       "      <td>0.00</td>\n",
       "      <td>0.00</td>\n",
       "      <td>0.00</td>\n",
       "    </tr>\n",
       "    <tr>\n",
       "      <th>ORIGIN_STATE_NM_Maryland</th>\n",
       "      <td>0.00</td>\n",
       "      <td>0.00</td>\n",
       "      <td>0.00</td>\n",
       "      <td>0.00</td>\n",
       "      <td>0.00</td>\n",
       "    </tr>\n",
       "    <tr>\n",
       "      <th>ORIGIN_STATE_NM_Massachusetts</th>\n",
       "      <td>0.00</td>\n",
       "      <td>0.00</td>\n",
       "      <td>1.00</td>\n",
       "      <td>0.00</td>\n",
       "      <td>0.00</td>\n",
       "    </tr>\n",
       "    <tr>\n",
       "      <th>ORIGIN_STATE_NM_Michigan</th>\n",
       "      <td>0.00</td>\n",
       "      <td>0.00</td>\n",
       "      <td>0.00</td>\n",
       "      <td>0.00</td>\n",
       "      <td>0.00</td>\n",
       "    </tr>\n",
       "    <tr>\n",
       "      <th>ORIGIN_STATE_NM_Minnesota</th>\n",
       "      <td>0.00</td>\n",
       "      <td>0.00</td>\n",
       "      <td>0.00</td>\n",
       "      <td>0.00</td>\n",
       "      <td>0.00</td>\n",
       "    </tr>\n",
       "    <tr>\n",
       "      <th>ORIGIN_STATE_NM_Nevada</th>\n",
       "      <td>0.00</td>\n",
       "      <td>0.00</td>\n",
       "      <td>0.00</td>\n",
       "      <td>0.00</td>\n",
       "      <td>0.00</td>\n",
       "    </tr>\n",
       "    <tr>\n",
       "      <th>ORIGIN_STATE_NM_New Mexico</th>\n",
       "      <td>0.00</td>\n",
       "      <td>0.00</td>\n",
       "      <td>0.00</td>\n",
       "      <td>0.00</td>\n",
       "      <td>0.00</td>\n",
       "    </tr>\n",
       "    <tr>\n",
       "      <th>ORIGIN_STATE_NM_New York</th>\n",
       "      <td>0.00</td>\n",
       "      <td>0.00</td>\n",
       "      <td>0.00</td>\n",
       "      <td>0.00</td>\n",
       "      <td>0.00</td>\n",
       "    </tr>\n",
       "    <tr>\n",
       "      <th>ORIGIN_STATE_NM_North Carolina</th>\n",
       "      <td>0.00</td>\n",
       "      <td>0.00</td>\n",
       "      <td>0.00</td>\n",
       "      <td>0.00</td>\n",
       "      <td>0.00</td>\n",
       "    </tr>\n",
       "    <tr>\n",
       "      <th>ORIGIN_STATE_NM_Ohio</th>\n",
       "      <td>0.00</td>\n",
       "      <td>0.00</td>\n",
       "      <td>0.00</td>\n",
       "      <td>0.00</td>\n",
       "      <td>0.00</td>\n",
       "    </tr>\n",
       "    <tr>\n",
       "      <th>ORIGIN_STATE_NM_Oregon</th>\n",
       "      <td>0.00</td>\n",
       "      <td>0.00</td>\n",
       "      <td>0.00</td>\n",
       "      <td>0.00</td>\n",
       "      <td>0.00</td>\n",
       "    </tr>\n",
       "    <tr>\n",
       "      <th>ORIGIN_STATE_NM_Pennsylvania</th>\n",
       "      <td>0.00</td>\n",
       "      <td>1.00</td>\n",
       "      <td>0.00</td>\n",
       "      <td>1.00</td>\n",
       "      <td>0.00</td>\n",
       "    </tr>\n",
       "    <tr>\n",
       "      <th>ORIGIN_STATE_NM_Puerto Rico</th>\n",
       "      <td>0.00</td>\n",
       "      <td>0.00</td>\n",
       "      <td>0.00</td>\n",
       "      <td>0.00</td>\n",
       "      <td>0.00</td>\n",
       "    </tr>\n",
       "    <tr>\n",
       "      <th>ORIGIN_STATE_NM_South Carolina</th>\n",
       "      <td>0.00</td>\n",
       "      <td>0.00</td>\n",
       "      <td>0.00</td>\n",
       "      <td>0.00</td>\n",
       "      <td>1.00</td>\n",
       "    </tr>\n",
       "    <tr>\n",
       "      <th>ORIGIN_STATE_NM_Tennessee</th>\n",
       "      <td>1.00</td>\n",
       "      <td>0.00</td>\n",
       "      <td>0.00</td>\n",
       "      <td>0.00</td>\n",
       "      <td>0.00</td>\n",
       "    </tr>\n",
       "    <tr>\n",
       "      <th>ORIGIN_STATE_NM_Texas</th>\n",
       "      <td>0.00</td>\n",
       "      <td>0.00</td>\n",
       "      <td>0.00</td>\n",
       "      <td>0.00</td>\n",
       "      <td>0.00</td>\n",
       "    </tr>\n",
       "    <tr>\n",
       "      <th>ORIGIN_STATE_NM_U.S. Virgin Islands</th>\n",
       "      <td>0.00</td>\n",
       "      <td>0.00</td>\n",
       "      <td>0.00</td>\n",
       "      <td>0.00</td>\n",
       "      <td>0.00</td>\n",
       "    </tr>\n",
       "    <tr>\n",
       "      <th>ORIGIN_STATE_NM_Utah</th>\n",
       "      <td>0.00</td>\n",
       "      <td>0.00</td>\n",
       "      <td>0.00</td>\n",
       "      <td>0.00</td>\n",
       "      <td>0.00</td>\n",
       "    </tr>\n",
       "    <tr>\n",
       "      <th>ORIGIN_STATE_NM_Vermont</th>\n",
       "      <td>0.00</td>\n",
       "      <td>0.00</td>\n",
       "      <td>0.00</td>\n",
       "      <td>0.00</td>\n",
       "      <td>0.00</td>\n",
       "    </tr>\n",
       "    <tr>\n",
       "      <th>ORIGIN_STATE_NM_Virginia</th>\n",
       "      <td>0.00</td>\n",
       "      <td>0.00</td>\n",
       "      <td>0.00</td>\n",
       "      <td>0.00</td>\n",
       "      <td>0.00</td>\n",
       "    </tr>\n",
       "    <tr>\n",
       "      <th>ORIGIN_STATE_NM_Washington</th>\n",
       "      <td>0.00</td>\n",
       "      <td>0.00</td>\n",
       "      <td>0.00</td>\n",
       "      <td>0.00</td>\n",
       "      <td>0.00</td>\n",
       "    </tr>\n",
       "    <tr>\n",
       "      <th>ORIGIN_STATE_NM_Wyoming</th>\n",
       "      <td>0.00</td>\n",
       "      <td>0.00</td>\n",
       "      <td>0.00</td>\n",
       "      <td>0.00</td>\n",
       "      <td>0.00</td>\n",
       "    </tr>\n",
       "    <tr>\n",
       "      <th>AEROLINEA_19690.0</th>\n",
       "      <td>0.00</td>\n",
       "      <td>0.00</td>\n",
       "      <td>0.00</td>\n",
       "      <td>0.00</td>\n",
       "      <td>0.00</td>\n",
       "    </tr>\n",
       "    <tr>\n",
       "      <th>AEROLINEA_19790.0</th>\n",
       "      <td>0.00</td>\n",
       "      <td>0.00</td>\n",
       "      <td>0.00</td>\n",
       "      <td>0.00</td>\n",
       "      <td>0.00</td>\n",
       "    </tr>\n",
       "    <tr>\n",
       "      <th>AEROLINEA_19805.0</th>\n",
       "      <td>0.00</td>\n",
       "      <td>0.00</td>\n",
       "      <td>0.00</td>\n",
       "      <td>0.00</td>\n",
       "      <td>0.00</td>\n",
       "    </tr>\n",
       "    <tr>\n",
       "      <th>AEROLINEA_19930.0</th>\n",
       "      <td>0.00</td>\n",
       "      <td>0.00</td>\n",
       "      <td>0.00</td>\n",
       "      <td>0.00</td>\n",
       "      <td>0.00</td>\n",
       "    </tr>\n",
       "    <tr>\n",
       "      <th>AEROLINEA_20304.0</th>\n",
       "      <td>0.00</td>\n",
       "      <td>0.00</td>\n",
       "      <td>0.00</td>\n",
       "      <td>0.00</td>\n",
       "      <td>0.00</td>\n",
       "    </tr>\n",
       "    <tr>\n",
       "      <th>AEROLINEA_20363.0</th>\n",
       "      <td>1.00</td>\n",
       "      <td>1.00</td>\n",
       "      <td>1.00</td>\n",
       "      <td>1.00</td>\n",
       "      <td>1.00</td>\n",
       "    </tr>\n",
       "    <tr>\n",
       "      <th>AEROLINEA_20397.0</th>\n",
       "      <td>0.00</td>\n",
       "      <td>0.00</td>\n",
       "      <td>0.00</td>\n",
       "      <td>0.00</td>\n",
       "      <td>0.00</td>\n",
       "    </tr>\n",
       "    <tr>\n",
       "      <th>AEROLINEA_20398.0</th>\n",
       "      <td>0.00</td>\n",
       "      <td>0.00</td>\n",
       "      <td>0.00</td>\n",
       "      <td>0.00</td>\n",
       "      <td>0.00</td>\n",
       "    </tr>\n",
       "    <tr>\n",
       "      <th>AEROLINEA_20409.0</th>\n",
       "      <td>0.00</td>\n",
       "      <td>0.00</td>\n",
       "      <td>0.00</td>\n",
       "      <td>0.00</td>\n",
       "      <td>0.00</td>\n",
       "    </tr>\n",
       "    <tr>\n",
       "      <th>AEROLINEA_20452.0</th>\n",
       "      <td>0.00</td>\n",
       "      <td>0.00</td>\n",
       "      <td>0.00</td>\n",
       "      <td>0.00</td>\n",
       "      <td>0.00</td>\n",
       "    </tr>\n",
       "    <tr>\n",
       "      <th>AEROLINEA_21171.0</th>\n",
       "      <td>0.00</td>\n",
       "      <td>0.00</td>\n",
       "      <td>0.00</td>\n",
       "      <td>0.00</td>\n",
       "      <td>0.00</td>\n",
       "    </tr>\n",
       "    <tr>\n",
       "      <th>AEROLINEA_ZZZ</th>\n",
       "      <td>0.00</td>\n",
       "      <td>0.00</td>\n",
       "      <td>0.00</td>\n",
       "      <td>0.00</td>\n",
       "      <td>0.00</td>\n",
       "    </tr>\n",
       "  </tbody>\n",
       "</table>\n",
       "</div>"
      ],
      "text/plain": [
       "                                                       0        1        2  \\\n",
       "CRS_DEP_TIME                                    1,359.00 1,021.00 1,325.00   \n",
       "TAXI_OUT                                           27.00    11.00    31.00   \n",
       "CRS_ARR_TIME                                    1,719.00 1,158.00 1,454.00   \n",
       "ARR_DEL15                                           0.00     0.00     0.00   \n",
       "CRS_ELAPSED_TIME                                  140.00    97.00    89.00   \n",
       "DISTANCE                                          765.00   340.00   187.00   \n",
       "Season                                              1.00     1.00     1.00   \n",
       "Year                                            2,018.00 2,018.00 2,018.00   \n",
       "Month                                               2.00     2.00     2.00   \n",
       "Week                                                5.00     5.00     6.00   \n",
       "Weekday                                             3.00     5.00     1.00   \n",
       "Weekend                                             0.00     1.00     0.00   \n",
       "TAIL_NUM_COUNT                                    340.00   340.00   340.00   \n",
       "ORIGIN_ABQ                                          0.00     0.00     0.00   \n",
       "ORIGIN_ACK                                          0.00     0.00     0.00   \n",
       "ORIGIN_ATL                                          0.00     0.00     0.00   \n",
       "ORIGIN_AUS                                          0.00     0.00     0.00   \n",
       "ORIGIN_BGR                                          0.00     0.00     0.00   \n",
       "ORIGIN_BNA                                          1.00     0.00     0.00   \n",
       "ORIGIN_BOS                                          0.00     0.00     1.00   \n",
       "ORIGIN_BQN                                          0.00     0.00     0.00   \n",
       "ORIGIN_BTV                                          0.00     0.00     0.00   \n",
       "ORIGIN_BUF                                          0.00     0.00     0.00   \n",
       "ORIGIN_BUR                                          0.00     0.00     0.00   \n",
       "ORIGIN_BWI                                          0.00     0.00     0.00   \n",
       "ORIGIN_CHS                                          0.00     0.00     0.00   \n",
       "ORIGIN_CLE                                          0.00     0.00     0.00   \n",
       "ORIGIN_CLT                                          0.00     0.00     0.00   \n",
       "ORIGIN_CMH                                          0.00     0.00     0.00   \n",
       "ORIGIN_CVG                                          0.00     0.00     0.00   \n",
       "ORIGIN_DAB                                          0.00     0.00     0.00   \n",
       "ORIGIN_DCA                                          0.00     0.00     0.00   \n",
       "ORIGIN_DEN                                          0.00     0.00     0.00   \n",
       "ORIGIN_DFW                                          0.00     0.00     0.00   \n",
       "ORIGIN_DTW                                          0.00     0.00     0.00   \n",
       "ORIGIN_EGE                                          0.00     0.00     0.00   \n",
       "ORIGIN_FLL                                          0.00     0.00     0.00   \n",
       "ORIGIN_HNL                                          0.00     0.00     0.00   \n",
       "ORIGIN_HOU                                          0.00     0.00     0.00   \n",
       "ORIGIN_HYA                                          0.00     0.00     0.00   \n",
       "ORIGIN_IAD                                          0.00     0.00     0.00   \n",
       "ORIGIN_IAH                                          0.00     0.00     0.00   \n",
       "ORIGIN_IND                                          0.00     0.00     0.00   \n",
       "ORIGIN_JAC                                          0.00     0.00     0.00   \n",
       "ORIGIN_JAX                                          0.00     0.00     0.00   \n",
       "ORIGIN_LAS                                          0.00     0.00     0.00   \n",
       "ORIGIN_LAX                                          0.00     0.00     0.00   \n",
       "ORIGIN_LGB                                          0.00     0.00     0.00   \n",
       "ORIGIN_MCO                                          0.00     0.00     0.00   \n",
       "ORIGIN_MIA                                          0.00     0.00     0.00   \n",
       "ORIGIN_MSP                                          0.00     0.00     0.00   \n",
       "ORIGIN_MSY                                          0.00     0.00     0.00   \n",
       "ORIGIN_MVY                                          0.00     0.00     0.00   \n",
       "ORIGIN_OAK                                          0.00     0.00     0.00   \n",
       "ORIGIN_ONT                                          0.00     0.00     0.00   \n",
       "ORIGIN_ORD                                          0.00     0.00     0.00   \n",
       "ORIGIN_ORF                                          0.00     0.00     0.00   \n",
       "ORIGIN_ORH                                          0.00     0.00     0.00   \n",
       "ORIGIN_PBI                                          0.00     0.00     0.00   \n",
       "ORIGIN_PDX                                          0.00     0.00     0.00   \n",
       "ORIGIN_PHL                                          0.00     0.00     0.00   \n",
       "ORIGIN_PHX                                          0.00     0.00     0.00   \n",
       "ORIGIN_PIT                                          0.00     1.00     0.00   \n",
       "ORIGIN_PSE                                          0.00     0.00     0.00   \n",
       "ORIGIN_PSP                                          0.00     0.00     0.00   \n",
       "ORIGIN_PWM                                          0.00     0.00     0.00   \n",
       "ORIGIN_RDU                                          0.00     0.00     0.00   \n",
       "ORIGIN_RIC                                          0.00     0.00     0.00   \n",
       "ORIGIN_RNO                                          0.00     0.00     0.00   \n",
       "ORIGIN_ROC                                          0.00     0.00     0.00   \n",
       "ORIGIN_RSW                                          0.00     0.00     0.00   \n",
       "ORIGIN_SAN                                          0.00     0.00     0.00   \n",
       "ORIGIN_SAT                                          0.00     0.00     0.00   \n",
       "ORIGIN_SAV                                          0.00     0.00     0.00   \n",
       "ORIGIN_SEA                                          0.00     0.00     0.00   \n",
       "ORIGIN_SFO                                          0.00     0.00     0.00   \n",
       "ORIGIN_SJC                                          0.00     0.00     0.00   \n",
       "ORIGIN_SJU                                          0.00     0.00     0.00   \n",
       "ORIGIN_SLC                                          0.00     0.00     0.00   \n",
       "ORIGIN_SMF                                          0.00     0.00     0.00   \n",
       "ORIGIN_SNA                                          0.00     0.00     0.00   \n",
       "ORIGIN_SRQ                                          0.00     0.00     0.00   \n",
       "ORIGIN_STT                                          0.00     0.00     0.00   \n",
       "ORIGIN_SYR                                          0.00     0.00     0.00   \n",
       "ORIGIN_TPA                                          0.00     0.00     0.00   \n",
       "ORIGIN_CITY_NAME_Aguadilla, PR                      0.00     0.00     0.00   \n",
       "ORIGIN_CITY_NAME_Albuquerque, NM                    0.00     0.00     0.00   \n",
       "ORIGIN_CITY_NAME_Atlanta, GA                        0.00     0.00     0.00   \n",
       "ORIGIN_CITY_NAME_Austin, TX                         0.00     0.00     0.00   \n",
       "ORIGIN_CITY_NAME_Baltimore, MD                      0.00     0.00     0.00   \n",
       "ORIGIN_CITY_NAME_Bangor, ME                         0.00     0.00     0.00   \n",
       "ORIGIN_CITY_NAME_Boston, MA                         0.00     0.00     1.00   \n",
       "ORIGIN_CITY_NAME_Buffalo, NY                        0.00     0.00     0.00   \n",
       "ORIGIN_CITY_NAME_Burbank, CA                        0.00     0.00     0.00   \n",
       "ORIGIN_CITY_NAME_Burlington, VT                     0.00     0.00     0.00   \n",
       "ORIGIN_CITY_NAME_Charleston, SC                     0.00     0.00     0.00   \n",
       "ORIGIN_CITY_NAME_Charlotte Amalie, VI               0.00     0.00     0.00   \n",
       "ORIGIN_CITY_NAME_Charlotte, NC                      0.00     0.00     0.00   \n",
       "ORIGIN_CITY_NAME_Chicago, IL                        0.00     0.00     0.00   \n",
       "ORIGIN_CITY_NAME_Cincinnati, OH                     0.00     0.00     0.00   \n",
       "ORIGIN_CITY_NAME_Cleveland, OH                      0.00     0.00     0.00   \n",
       "ORIGIN_CITY_NAME_Columbus, OH                       0.00     0.00     0.00   \n",
       "ORIGIN_CITY_NAME_Dallas/Fort Worth, TX              0.00     0.00     0.00   \n",
       "ORIGIN_CITY_NAME_Daytona Beach, FL                  0.00     0.00     0.00   \n",
       "ORIGIN_CITY_NAME_Denver, CO                         0.00     0.00     0.00   \n",
       "ORIGIN_CITY_NAME_Detroit, MI                        0.00     0.00     0.00   \n",
       "ORIGIN_CITY_NAME_Eagle, CO                          0.00     0.00     0.00   \n",
       "ORIGIN_CITY_NAME_Fort Lauderdale, FL                0.00     0.00     0.00   \n",
       "ORIGIN_CITY_NAME_Fort Myers, FL                     0.00     0.00     0.00   \n",
       "ORIGIN_CITY_NAME_Honolulu, HI                       0.00     0.00     0.00   \n",
       "ORIGIN_CITY_NAME_Houston, TX                        0.00     0.00     0.00   \n",
       "ORIGIN_CITY_NAME_Hyannis, MA                        0.00     0.00     0.00   \n",
       "ORIGIN_CITY_NAME_Indianapolis, IN                   0.00     0.00     0.00   \n",
       "ORIGIN_CITY_NAME_Jackson, WY                        0.00     0.00     0.00   \n",
       "ORIGIN_CITY_NAME_Jacksonville, FL                   0.00     0.00     0.00   \n",
       "ORIGIN_CITY_NAME_Las Vegas, NV                      0.00     0.00     0.00   \n",
       "ORIGIN_CITY_NAME_Long Beach, CA                     0.00     0.00     0.00   \n",
       "ORIGIN_CITY_NAME_Los Angeles, CA                    0.00     0.00     0.00   \n",
       "ORIGIN_CITY_NAME_Martha's Vineyard, MA              0.00     0.00     0.00   \n",
       "ORIGIN_CITY_NAME_Miami, FL                          0.00     0.00     0.00   \n",
       "ORIGIN_CITY_NAME_Minneapolis, MN                    0.00     0.00     0.00   \n",
       "ORIGIN_CITY_NAME_Nantucket, MA                      0.00     0.00     0.00   \n",
       "ORIGIN_CITY_NAME_Nashville, TN                      1.00     0.00     0.00   \n",
       "ORIGIN_CITY_NAME_New Orleans, LA                    0.00     0.00     0.00   \n",
       "ORIGIN_CITY_NAME_Norfolk, VA                        0.00     0.00     0.00   \n",
       "ORIGIN_CITY_NAME_Oakland, CA                        0.00     0.00     0.00   \n",
       "ORIGIN_CITY_NAME_Ontario, CA                        0.00     0.00     0.00   \n",
       "ORIGIN_CITY_NAME_Orlando, FL                        0.00     0.00     0.00   \n",
       "ORIGIN_CITY_NAME_Palm Springs, CA                   0.00     0.00     0.00   \n",
       "ORIGIN_CITY_NAME_Philadelphia, PA                   0.00     0.00     0.00   \n",
       "ORIGIN_CITY_NAME_Phoenix, AZ                        0.00     0.00     0.00   \n",
       "ORIGIN_CITY_NAME_Pittsburgh, PA                     0.00     1.00     0.00   \n",
       "ORIGIN_CITY_NAME_Ponce, PR                          0.00     0.00     0.00   \n",
       "ORIGIN_CITY_NAME_Portland, ME                       0.00     0.00     0.00   \n",
       "ORIGIN_CITY_NAME_Portland, OR                       0.00     0.00     0.00   \n",
       "ORIGIN_CITY_NAME_Raleigh/Durham, NC                 0.00     0.00     0.00   \n",
       "ORIGIN_CITY_NAME_Reno, NV                           0.00     0.00     0.00   \n",
       "ORIGIN_CITY_NAME_Richmond, VA                       0.00     0.00     0.00   \n",
       "ORIGIN_CITY_NAME_Rochester, NY                      0.00     0.00     0.00   \n",
       "ORIGIN_CITY_NAME_Sacramento, CA                     0.00     0.00     0.00   \n",
       "ORIGIN_CITY_NAME_Salt Lake City, UT                 0.00     0.00     0.00   \n",
       "ORIGIN_CITY_NAME_San Antonio, TX                    0.00     0.00     0.00   \n",
       "ORIGIN_CITY_NAME_San Diego, CA                      0.00     0.00     0.00   \n",
       "ORIGIN_CITY_NAME_San Francisco, CA                  0.00     0.00     0.00   \n",
       "ORIGIN_CITY_NAME_San Jose, CA                       0.00     0.00     0.00   \n",
       "ORIGIN_CITY_NAME_San Juan, PR                       0.00     0.00     0.00   \n",
       "ORIGIN_CITY_NAME_Santa Ana, CA                      0.00     0.00     0.00   \n",
       "ORIGIN_CITY_NAME_Sarasota/Bradenton, FL             0.00     0.00     0.00   \n",
       "ORIGIN_CITY_NAME_Savannah, GA                       0.00     0.00     0.00   \n",
       "ORIGIN_CITY_NAME_Seattle, WA                        0.00     0.00     0.00   \n",
       "ORIGIN_CITY_NAME_Syracuse, NY                       0.00     0.00     0.00   \n",
       "ORIGIN_CITY_NAME_Tampa, FL                          0.00     0.00     0.00   \n",
       "ORIGIN_CITY_NAME_Washington, DC                     0.00     0.00     0.00   \n",
       "ORIGIN_CITY_NAME_West Palm Beach/Palm Beach, FL     0.00     0.00     0.00   \n",
       "ORIGIN_CITY_NAME_Worcester, MA                      0.00     0.00     0.00   \n",
       "ORIGIN_STATE_NM_Arizona                             0.00     0.00     0.00   \n",
       "ORIGIN_STATE_NM_California                          0.00     0.00     0.00   \n",
       "ORIGIN_STATE_NM_Colorado                            0.00     0.00     0.00   \n",
       "ORIGIN_STATE_NM_Florida                             0.00     0.00     0.00   \n",
       "ORIGIN_STATE_NM_Georgia                             0.00     0.00     0.00   \n",
       "ORIGIN_STATE_NM_Hawaii                              0.00     0.00     0.00   \n",
       "ORIGIN_STATE_NM_Illinois                            0.00     0.00     0.00   \n",
       "ORIGIN_STATE_NM_Indiana                             0.00     0.00     0.00   \n",
       "ORIGIN_STATE_NM_Kentucky                            0.00     0.00     0.00   \n",
       "ORIGIN_STATE_NM_Louisiana                           0.00     0.00     0.00   \n",
       "ORIGIN_STATE_NM_Maine                               0.00     0.00     0.00   \n",
       "ORIGIN_STATE_NM_Maryland                            0.00     0.00     0.00   \n",
       "ORIGIN_STATE_NM_Massachusetts                       0.00     0.00     1.00   \n",
       "ORIGIN_STATE_NM_Michigan                            0.00     0.00     0.00   \n",
       "ORIGIN_STATE_NM_Minnesota                           0.00     0.00     0.00   \n",
       "ORIGIN_STATE_NM_Nevada                              0.00     0.00     0.00   \n",
       "ORIGIN_STATE_NM_New Mexico                          0.00     0.00     0.00   \n",
       "ORIGIN_STATE_NM_New York                            0.00     0.00     0.00   \n",
       "ORIGIN_STATE_NM_North Carolina                      0.00     0.00     0.00   \n",
       "ORIGIN_STATE_NM_Ohio                                0.00     0.00     0.00   \n",
       "ORIGIN_STATE_NM_Oregon                              0.00     0.00     0.00   \n",
       "ORIGIN_STATE_NM_Pennsylvania                        0.00     1.00     0.00   \n",
       "ORIGIN_STATE_NM_Puerto Rico                         0.00     0.00     0.00   \n",
       "ORIGIN_STATE_NM_South Carolina                      0.00     0.00     0.00   \n",
       "ORIGIN_STATE_NM_Tennessee                           1.00     0.00     0.00   \n",
       "ORIGIN_STATE_NM_Texas                               0.00     0.00     0.00   \n",
       "ORIGIN_STATE_NM_U.S. Virgin Islands                 0.00     0.00     0.00   \n",
       "ORIGIN_STATE_NM_Utah                                0.00     0.00     0.00   \n",
       "ORIGIN_STATE_NM_Vermont                             0.00     0.00     0.00   \n",
       "ORIGIN_STATE_NM_Virginia                            0.00     0.00     0.00   \n",
       "ORIGIN_STATE_NM_Washington                          0.00     0.00     0.00   \n",
       "ORIGIN_STATE_NM_Wyoming                             0.00     0.00     0.00   \n",
       "AEROLINEA_19690.0                                   0.00     0.00     0.00   \n",
       "AEROLINEA_19790.0                                   0.00     0.00     0.00   \n",
       "AEROLINEA_19805.0                                   0.00     0.00     0.00   \n",
       "AEROLINEA_19930.0                                   0.00     0.00     0.00   \n",
       "AEROLINEA_20304.0                                   0.00     0.00     0.00   \n",
       "AEROLINEA_20363.0                                   1.00     1.00     1.00   \n",
       "AEROLINEA_20397.0                                   0.00     0.00     0.00   \n",
       "AEROLINEA_20398.0                                   0.00     0.00     0.00   \n",
       "AEROLINEA_20409.0                                   0.00     0.00     0.00   \n",
       "AEROLINEA_20452.0                                   0.00     0.00     0.00   \n",
       "AEROLINEA_21171.0                                   0.00     0.00     0.00   \n",
       "AEROLINEA_ZZZ                                       0.00     0.00     0.00   \n",
       "\n",
       "                                                       3        4  \n",
       "CRS_DEP_TIME                                      600.00 1,715.00  \n",
       "TAXI_OUT                                           19.00    11.00  \n",
       "CRS_ARR_TIME                                      711.00 1,930.00  \n",
       "ARR_DEL15                                           0.00     1.00  \n",
       "CRS_ELAPSED_TIME                                   71.00   135.00  \n",
       "DISTANCE                                           94.00   636.00  \n",
       "Season                                              1.00     1.00  \n",
       "Year                                            2,018.00 2,018.00  \n",
       "Month                                               2.00     2.00  \n",
       "Week                                                6.00     6.00  \n",
       "Weekday                                             3.00     6.00  \n",
       "Weekend                                             0.00     1.00  \n",
       "TAIL_NUM_COUNT                                    340.00   340.00  \n",
       "ORIGIN_ABQ                                          0.00     0.00  \n",
       "ORIGIN_ACK                                          0.00     0.00  \n",
       "ORIGIN_ATL                                          0.00     0.00  \n",
       "ORIGIN_AUS                                          0.00     0.00  \n",
       "ORIGIN_BGR                                          0.00     0.00  \n",
       "ORIGIN_BNA                                          0.00     0.00  \n",
       "ORIGIN_BOS                                          0.00     0.00  \n",
       "ORIGIN_BQN                                          0.00     0.00  \n",
       "ORIGIN_BTV                                          0.00     0.00  \n",
       "ORIGIN_BUF                                          0.00     0.00  \n",
       "ORIGIN_BUR                                          0.00     0.00  \n",
       "ORIGIN_BWI                                          0.00     0.00  \n",
       "ORIGIN_CHS                                          0.00     1.00  \n",
       "ORIGIN_CLE                                          0.00     0.00  \n",
       "ORIGIN_CLT                                          0.00     0.00  \n",
       "ORIGIN_CMH                                          0.00     0.00  \n",
       "ORIGIN_CVG                                          0.00     0.00  \n",
       "ORIGIN_DAB                                          0.00     0.00  \n",
       "ORIGIN_DCA                                          0.00     0.00  \n",
       "ORIGIN_DEN                                          0.00     0.00  \n",
       "ORIGIN_DFW                                          0.00     0.00  \n",
       "ORIGIN_DTW                                          0.00     0.00  \n",
       "ORIGIN_EGE                                          0.00     0.00  \n",
       "ORIGIN_FLL                                          0.00     0.00  \n",
       "ORIGIN_HNL                                          0.00     0.00  \n",
       "ORIGIN_HOU                                          0.00     0.00  \n",
       "ORIGIN_HYA                                          0.00     0.00  \n",
       "ORIGIN_IAD                                          0.00     0.00  \n",
       "ORIGIN_IAH                                          0.00     0.00  \n",
       "ORIGIN_IND                                          0.00     0.00  \n",
       "ORIGIN_JAC                                          0.00     0.00  \n",
       "ORIGIN_JAX                                          0.00     0.00  \n",
       "ORIGIN_LAS                                          0.00     0.00  \n",
       "ORIGIN_LAX                                          0.00     0.00  \n",
       "ORIGIN_LGB                                          0.00     0.00  \n",
       "ORIGIN_MCO                                          0.00     0.00  \n",
       "ORIGIN_MIA                                          0.00     0.00  \n",
       "ORIGIN_MSP                                          0.00     0.00  \n",
       "ORIGIN_MSY                                          0.00     0.00  \n",
       "ORIGIN_MVY                                          0.00     0.00  \n",
       "ORIGIN_OAK                                          0.00     0.00  \n",
       "ORIGIN_ONT                                          0.00     0.00  \n",
       "ORIGIN_ORD                                          0.00     0.00  \n",
       "ORIGIN_ORF                                          0.00     0.00  \n",
       "ORIGIN_ORH                                          0.00     0.00  \n",
       "ORIGIN_PBI                                          0.00     0.00  \n",
       "ORIGIN_PDX                                          0.00     0.00  \n",
       "ORIGIN_PHL                                          1.00     0.00  \n",
       "ORIGIN_PHX                                          0.00     0.00  \n",
       "ORIGIN_PIT                                          0.00     0.00  \n",
       "ORIGIN_PSE                                          0.00     0.00  \n",
       "ORIGIN_PSP                                          0.00     0.00  \n",
       "ORIGIN_PWM                                          0.00     0.00  \n",
       "ORIGIN_RDU                                          0.00     0.00  \n",
       "ORIGIN_RIC                                          0.00     0.00  \n",
       "ORIGIN_RNO                                          0.00     0.00  \n",
       "ORIGIN_ROC                                          0.00     0.00  \n",
       "ORIGIN_RSW                                          0.00     0.00  \n",
       "ORIGIN_SAN                                          0.00     0.00  \n",
       "ORIGIN_SAT                                          0.00     0.00  \n",
       "ORIGIN_SAV                                          0.00     0.00  \n",
       "ORIGIN_SEA                                          0.00     0.00  \n",
       "ORIGIN_SFO                                          0.00     0.00  \n",
       "ORIGIN_SJC                                          0.00     0.00  \n",
       "ORIGIN_SJU                                          0.00     0.00  \n",
       "ORIGIN_SLC                                          0.00     0.00  \n",
       "ORIGIN_SMF                                          0.00     0.00  \n",
       "ORIGIN_SNA                                          0.00     0.00  \n",
       "ORIGIN_SRQ                                          0.00     0.00  \n",
       "ORIGIN_STT                                          0.00     0.00  \n",
       "ORIGIN_SYR                                          0.00     0.00  \n",
       "ORIGIN_TPA                                          0.00     0.00  \n",
       "ORIGIN_CITY_NAME_Aguadilla, PR                      0.00     0.00  \n",
       "ORIGIN_CITY_NAME_Albuquerque, NM                    0.00     0.00  \n",
       "ORIGIN_CITY_NAME_Atlanta, GA                        0.00     0.00  \n",
       "ORIGIN_CITY_NAME_Austin, TX                         0.00     0.00  \n",
       "ORIGIN_CITY_NAME_Baltimore, MD                      0.00     0.00  \n",
       "ORIGIN_CITY_NAME_Bangor, ME                         0.00     0.00  \n",
       "ORIGIN_CITY_NAME_Boston, MA                         0.00     0.00  \n",
       "ORIGIN_CITY_NAME_Buffalo, NY                        0.00     0.00  \n",
       "ORIGIN_CITY_NAME_Burbank, CA                        0.00     0.00  \n",
       "ORIGIN_CITY_NAME_Burlington, VT                     0.00     0.00  \n",
       "ORIGIN_CITY_NAME_Charleston, SC                     0.00     1.00  \n",
       "ORIGIN_CITY_NAME_Charlotte Amalie, VI               0.00     0.00  \n",
       "ORIGIN_CITY_NAME_Charlotte, NC                      0.00     0.00  \n",
       "ORIGIN_CITY_NAME_Chicago, IL                        0.00     0.00  \n",
       "ORIGIN_CITY_NAME_Cincinnati, OH                     0.00     0.00  \n",
       "ORIGIN_CITY_NAME_Cleveland, OH                      0.00     0.00  \n",
       "ORIGIN_CITY_NAME_Columbus, OH                       0.00     0.00  \n",
       "ORIGIN_CITY_NAME_Dallas/Fort Worth, TX              0.00     0.00  \n",
       "ORIGIN_CITY_NAME_Daytona Beach, FL                  0.00     0.00  \n",
       "ORIGIN_CITY_NAME_Denver, CO                         0.00     0.00  \n",
       "ORIGIN_CITY_NAME_Detroit, MI                        0.00     0.00  \n",
       "ORIGIN_CITY_NAME_Eagle, CO                          0.00     0.00  \n",
       "ORIGIN_CITY_NAME_Fort Lauderdale, FL                0.00     0.00  \n",
       "ORIGIN_CITY_NAME_Fort Myers, FL                     0.00     0.00  \n",
       "ORIGIN_CITY_NAME_Honolulu, HI                       0.00     0.00  \n",
       "ORIGIN_CITY_NAME_Houston, TX                        0.00     0.00  \n",
       "ORIGIN_CITY_NAME_Hyannis, MA                        0.00     0.00  \n",
       "ORIGIN_CITY_NAME_Indianapolis, IN                   0.00     0.00  \n",
       "ORIGIN_CITY_NAME_Jackson, WY                        0.00     0.00  \n",
       "ORIGIN_CITY_NAME_Jacksonville, FL                   0.00     0.00  \n",
       "ORIGIN_CITY_NAME_Las Vegas, NV                      0.00     0.00  \n",
       "ORIGIN_CITY_NAME_Long Beach, CA                     0.00     0.00  \n",
       "ORIGIN_CITY_NAME_Los Angeles, CA                    0.00     0.00  \n",
       "ORIGIN_CITY_NAME_Martha's Vineyard, MA              0.00     0.00  \n",
       "ORIGIN_CITY_NAME_Miami, FL                          0.00     0.00  \n",
       "ORIGIN_CITY_NAME_Minneapolis, MN                    0.00     0.00  \n",
       "ORIGIN_CITY_NAME_Nantucket, MA                      0.00     0.00  \n",
       "ORIGIN_CITY_NAME_Nashville, TN                      0.00     0.00  \n",
       "ORIGIN_CITY_NAME_New Orleans, LA                    0.00     0.00  \n",
       "ORIGIN_CITY_NAME_Norfolk, VA                        0.00     0.00  \n",
       "ORIGIN_CITY_NAME_Oakland, CA                        0.00     0.00  \n",
       "ORIGIN_CITY_NAME_Ontario, CA                        0.00     0.00  \n",
       "ORIGIN_CITY_NAME_Orlando, FL                        0.00     0.00  \n",
       "ORIGIN_CITY_NAME_Palm Springs, CA                   0.00     0.00  \n",
       "ORIGIN_CITY_NAME_Philadelphia, PA                   1.00     0.00  \n",
       "ORIGIN_CITY_NAME_Phoenix, AZ                        0.00     0.00  \n",
       "ORIGIN_CITY_NAME_Pittsburgh, PA                     0.00     0.00  \n",
       "ORIGIN_CITY_NAME_Ponce, PR                          0.00     0.00  \n",
       "ORIGIN_CITY_NAME_Portland, ME                       0.00     0.00  \n",
       "ORIGIN_CITY_NAME_Portland, OR                       0.00     0.00  \n",
       "ORIGIN_CITY_NAME_Raleigh/Durham, NC                 0.00     0.00  \n",
       "ORIGIN_CITY_NAME_Reno, NV                           0.00     0.00  \n",
       "ORIGIN_CITY_NAME_Richmond, VA                       0.00     0.00  \n",
       "ORIGIN_CITY_NAME_Rochester, NY                      0.00     0.00  \n",
       "ORIGIN_CITY_NAME_Sacramento, CA                     0.00     0.00  \n",
       "ORIGIN_CITY_NAME_Salt Lake City, UT                 0.00     0.00  \n",
       "ORIGIN_CITY_NAME_San Antonio, TX                    0.00     0.00  \n",
       "ORIGIN_CITY_NAME_San Diego, CA                      0.00     0.00  \n",
       "ORIGIN_CITY_NAME_San Francisco, CA                  0.00     0.00  \n",
       "ORIGIN_CITY_NAME_San Jose, CA                       0.00     0.00  \n",
       "ORIGIN_CITY_NAME_San Juan, PR                       0.00     0.00  \n",
       "ORIGIN_CITY_NAME_Santa Ana, CA                      0.00     0.00  \n",
       "ORIGIN_CITY_NAME_Sarasota/Bradenton, FL             0.00     0.00  \n",
       "ORIGIN_CITY_NAME_Savannah, GA                       0.00     0.00  \n",
       "ORIGIN_CITY_NAME_Seattle, WA                        0.00     0.00  \n",
       "ORIGIN_CITY_NAME_Syracuse, NY                       0.00     0.00  \n",
       "ORIGIN_CITY_NAME_Tampa, FL                          0.00     0.00  \n",
       "ORIGIN_CITY_NAME_Washington, DC                     0.00     0.00  \n",
       "ORIGIN_CITY_NAME_West Palm Beach/Palm Beach, FL     0.00     0.00  \n",
       "ORIGIN_CITY_NAME_Worcester, MA                      0.00     0.00  \n",
       "ORIGIN_STATE_NM_Arizona                             0.00     0.00  \n",
       "ORIGIN_STATE_NM_California                          0.00     0.00  \n",
       "ORIGIN_STATE_NM_Colorado                            0.00     0.00  \n",
       "ORIGIN_STATE_NM_Florida                             0.00     0.00  \n",
       "ORIGIN_STATE_NM_Georgia                             0.00     0.00  \n",
       "ORIGIN_STATE_NM_Hawaii                              0.00     0.00  \n",
       "ORIGIN_STATE_NM_Illinois                            0.00     0.00  \n",
       "ORIGIN_STATE_NM_Indiana                             0.00     0.00  \n",
       "ORIGIN_STATE_NM_Kentucky                            0.00     0.00  \n",
       "ORIGIN_STATE_NM_Louisiana                           0.00     0.00  \n",
       "ORIGIN_STATE_NM_Maine                               0.00     0.00  \n",
       "ORIGIN_STATE_NM_Maryland                            0.00     0.00  \n",
       "ORIGIN_STATE_NM_Massachusetts                       0.00     0.00  \n",
       "ORIGIN_STATE_NM_Michigan                            0.00     0.00  \n",
       "ORIGIN_STATE_NM_Minnesota                           0.00     0.00  \n",
       "ORIGIN_STATE_NM_Nevada                              0.00     0.00  \n",
       "ORIGIN_STATE_NM_New Mexico                          0.00     0.00  \n",
       "ORIGIN_STATE_NM_New York                            0.00     0.00  \n",
       "ORIGIN_STATE_NM_North Carolina                      0.00     0.00  \n",
       "ORIGIN_STATE_NM_Ohio                                0.00     0.00  \n",
       "ORIGIN_STATE_NM_Oregon                              0.00     0.00  \n",
       "ORIGIN_STATE_NM_Pennsylvania                        1.00     0.00  \n",
       "ORIGIN_STATE_NM_Puerto Rico                         0.00     0.00  \n",
       "ORIGIN_STATE_NM_South Carolina                      0.00     1.00  \n",
       "ORIGIN_STATE_NM_Tennessee                           0.00     0.00  \n",
       "ORIGIN_STATE_NM_Texas                               0.00     0.00  \n",
       "ORIGIN_STATE_NM_U.S. Virgin Islands                 0.00     0.00  \n",
       "ORIGIN_STATE_NM_Utah                                0.00     0.00  \n",
       "ORIGIN_STATE_NM_Vermont                             0.00     0.00  \n",
       "ORIGIN_STATE_NM_Virginia                            0.00     0.00  \n",
       "ORIGIN_STATE_NM_Washington                          0.00     0.00  \n",
       "ORIGIN_STATE_NM_Wyoming                             0.00     0.00  \n",
       "AEROLINEA_19690.0                                   0.00     0.00  \n",
       "AEROLINEA_19790.0                                   0.00     0.00  \n",
       "AEROLINEA_19805.0                                   0.00     0.00  \n",
       "AEROLINEA_19930.0                                   0.00     0.00  \n",
       "AEROLINEA_20304.0                                   0.00     0.00  \n",
       "AEROLINEA_20363.0                                   1.00     1.00  \n",
       "AEROLINEA_20397.0                                   0.00     0.00  \n",
       "AEROLINEA_20398.0                                   0.00     0.00  \n",
       "AEROLINEA_20409.0                                   0.00     0.00  \n",
       "AEROLINEA_20452.0                                   0.00     0.00  \n",
       "AEROLINEA_21171.0                                   0.00     0.00  \n",
       "AEROLINEA_ZZZ                                       0.00     0.00  "
      ]
     },
     "execution_count": 108,
     "metadata": {},
     "output_type": "execute_result"
    }
   ],
   "source": [
    "df.head().T"
   ]
  },
  {
   "cell_type": "code",
   "execution_count": 109,
   "metadata": {
    "ExecuteTime": {
     "end_time": "2021-09-19T02:48:54.767271Z",
     "start_time": "2021-09-19T02:48:54.758135Z"
    },
    "colab": {
     "base_uri": "https://localhost:8080/"
    },
    "id": "2nZRNOCNvWdo",
    "outputId": "1005a4ca-38bc-4f35-e65a-e480155f80da"
   },
   "outputs": [
    {
     "name": "stdout",
     "output_type": "stream",
     "text": [
      "<class 'pandas.core.frame.DataFrame'>\n",
      "Int64Index: 250152 entries, 0 to 250151\n",
      "Columns: 199 entries, CRS_DEP_TIME to AEROLINEA_ZZZ\n",
      "dtypes: float64(4), int64(9), uint8(186)\n",
      "memory usage: 71.1 MB\n"
     ]
    }
   ],
   "source": [
    "df.info(verbose=False)"
   ]
  },
  {
   "cell_type": "markdown",
   "metadata": {
    "id": "Xr6yF7O_vWdo"
   },
   "source": [
    "## MLC4. Modelling"
   ]
  },
  {
   "cell_type": "markdown",
   "metadata": {
    "id": "4-UBkKvfvWdo"
   },
   "source": [
    "En este punto iniciamos con la fase de modelización, que ocupa los pasos de generación de la estrategia de validación, el entrenamiento del modelo y el desarrollo de predicciones y la validación de éstas. "
   ]
  },
  {
   "cell_type": "markdown",
   "metadata": {
    "id": "YDM27EYuvWdo"
   },
   "source": [
    "### MLC4.1: Train / Test Split"
   ]
  },
  {
   "cell_type": "markdown",
   "metadata": {
    "id": "S_X-xCAavWdp"
   },
   "source": [
    "En primer lugar, importaremos los scikits de estrategias de validación y selección de modelos **model_selection** y métricas de validación **metrics**. "
   ]
  },
  {
   "cell_type": "code",
   "execution_count": 110,
   "metadata": {
    "ExecuteTime": {
     "end_time": "2021-09-19T02:48:54.831074Z",
     "start_time": "2021-09-19T02:48:54.768334Z"
    },
    "id": "SUpSKZFpvWdp"
   },
   "outputs": [],
   "source": [
    "from sklearn import model_selection # model assesment and model selection strategies\n",
    "from sklearn import metrics # model evaluation metrics"
   ]
  },
  {
   "cell_type": "markdown",
   "metadata": {
    "id": "9ZD6eKbBvWdp"
   },
   "source": [
    "Podemos analizar los métodos disponibles con \"??\""
   ]
  },
  {
   "cell_type": "code",
   "execution_count": 111,
   "metadata": {
    "ExecuteTime": {
     "end_time": "2021-09-19T02:48:54.839184Z",
     "start_time": "2021-09-19T02:48:54.831924Z"
    },
    "id": "awdTYI-gvWdp"
   },
   "outputs": [],
   "source": [
    "model_selection??"
   ]
  },
  {
   "cell_type": "markdown",
   "metadata": {
    "id": "4HFHFVmuvWdp"
   },
   "source": [
    "Y vemos que disponemos de métodos para el random holdout (**train_test_split**) y k-fold (**KFold**), además de otras aproximaciones como el LeaveOneOut u otros. "
   ]
  },
  {
   "cell_type": "markdown",
   "metadata": {
    "id": "Ev-R8pfgvWdq"
   },
   "source": [
    "#### Generación de la partición de validación "
   ]
  },
  {
   "cell_type": "markdown",
   "metadata": {
    "id": "Fdy2tnJOvWdq"
   },
   "source": [
    "Como hemos comentado, este dataset está particinado temporalmente, de manera que tenemos un registro por fecha, hora y avión. En este tipo de casos, es adecuado guardar las particiones más recientes para hacer la validación del modelo, contrastando que nuestro modelo tiene capacidad de generalización hacia delante; aunque es de esperar que el patrón de comportamiento de los retrasos no tenga grandes variaciones en medida \"año\", es una buena práctica que se recomienda mantener y que será muy relevante en casos en los que el comportamiento a predecir evolucione en períodos breves de tiempo. "
   ]
  },
  {
   "cell_type": "markdown",
   "metadata": {
    "id": "VaL-25i9vWdq"
   },
   "source": [
    "Para ello, vamos a ver cuántos registros tenemos de cada año, y con esto estableceremos qué particiones queremos utilizar para validación."
   ]
  },
  {
   "cell_type": "code",
   "execution_count": 112,
   "metadata": {
    "ExecuteTime": {
     "end_time": "2021-09-19T02:48:54.844549Z",
     "start_time": "2021-09-19T02:48:54.840259Z"
    },
    "colab": {
     "base_uri": "https://localhost:8080/"
    },
    "id": "RodY1NQnvWdq",
    "outputId": "2a7fa041-e694-4a56-91bf-c9542daad63f"
   },
   "outputs": [
    {
     "data": {
      "text/plain": [
       "2018    125483\n",
       "2019    124669\n",
       "Name: Year, dtype: int64"
      ]
     },
     "execution_count": 112,
     "metadata": {},
     "output_type": "execute_result"
    }
   ],
   "source": [
    "df['Year'].value_counts()"
   ]
  },
  {
   "cell_type": "markdown",
   "metadata": {
    "id": "47eoRE2ivWdq"
   },
   "source": [
    "De manera complementaria, podemos analizar la tasa en cada partición año-mes"
   ]
  },
  {
   "cell_type": "code",
   "execution_count": 113,
   "metadata": {
    "ExecuteTime": {
     "end_time": "2021-09-19T02:48:54.889109Z",
     "start_time": "2021-09-19T02:48:54.845629Z"
    },
    "colab": {
     "base_uri": "https://localhost:8080/",
     "height": 855
    },
    "id": "Lm9XWF-NvWdr",
    "outputId": "efc33652-04e4-4081-d1f4-366f7c123622"
   },
   "outputs": [
    {
     "data": {
      "text/html": [
       "<div>\n",
       "<style scoped>\n",
       "    .dataframe tbody tr th:only-of-type {\n",
       "        vertical-align: middle;\n",
       "    }\n",
       "\n",
       "    .dataframe tbody tr th {\n",
       "        vertical-align: top;\n",
       "    }\n",
       "\n",
       "    .dataframe thead tr th {\n",
       "        text-align: left;\n",
       "    }\n",
       "\n",
       "    .dataframe thead tr:last-of-type th {\n",
       "        text-align: right;\n",
       "    }\n",
       "</style>\n",
       "<table border=\"1\" class=\"dataframe\">\n",
       "  <thead>\n",
       "    <tr>\n",
       "      <th></th>\n",
       "      <th></th>\n",
       "      <th>len</th>\n",
       "      <th>sum</th>\n",
       "      <th>mean</th>\n",
       "    </tr>\n",
       "    <tr>\n",
       "      <th></th>\n",
       "      <th></th>\n",
       "      <th>ARR_DEL15</th>\n",
       "      <th>ARR_DEL15</th>\n",
       "      <th>ARR_DEL15</th>\n",
       "    </tr>\n",
       "    <tr>\n",
       "      <th>Year</th>\n",
       "      <th>Month</th>\n",
       "      <th></th>\n",
       "      <th></th>\n",
       "      <th></th>\n",
       "    </tr>\n",
       "  </thead>\n",
       "  <tbody>\n",
       "    <tr>\n",
       "      <th rowspan=\"12\" valign=\"top\">2018</th>\n",
       "      <th>1</th>\n",
       "      <td>9,244.00</td>\n",
       "      <td>1,968.00</td>\n",
       "      <td>0.21</td>\n",
       "    </tr>\n",
       "    <tr>\n",
       "      <th>2</th>\n",
       "      <td>9,115.00</td>\n",
       "      <td>1,418.00</td>\n",
       "      <td>0.16</td>\n",
       "    </tr>\n",
       "    <tr>\n",
       "      <th>3</th>\n",
       "      <td>9,927.00</td>\n",
       "      <td>1,825.00</td>\n",
       "      <td>0.18</td>\n",
       "    </tr>\n",
       "    <tr>\n",
       "      <th>4</th>\n",
       "      <td>10,393.00</td>\n",
       "      <td>2,184.00</td>\n",
       "      <td>0.21</td>\n",
       "    </tr>\n",
       "    <tr>\n",
       "      <th>5</th>\n",
       "      <td>10,915.00</td>\n",
       "      <td>2,478.00</td>\n",
       "      <td>0.23</td>\n",
       "    </tr>\n",
       "    <tr>\n",
       "      <th>6</th>\n",
       "      <td>11,052.00</td>\n",
       "      <td>2,504.00</td>\n",
       "      <td>0.23</td>\n",
       "    </tr>\n",
       "    <tr>\n",
       "      <th>7</th>\n",
       "      <td>11,201.00</td>\n",
       "      <td>3,463.00</td>\n",
       "      <td>0.31</td>\n",
       "    </tr>\n",
       "    <tr>\n",
       "      <th>8</th>\n",
       "      <td>11,202.00</td>\n",
       "      <td>3,345.00</td>\n",
       "      <td>0.30</td>\n",
       "    </tr>\n",
       "    <tr>\n",
       "      <th>9</th>\n",
       "      <td>10,591.00</td>\n",
       "      <td>2,304.00</td>\n",
       "      <td>0.22</td>\n",
       "    </tr>\n",
       "    <tr>\n",
       "      <th>10</th>\n",
       "      <td>10,952.00</td>\n",
       "      <td>1,628.00</td>\n",
       "      <td>0.15</td>\n",
       "    </tr>\n",
       "    <tr>\n",
       "      <th>11</th>\n",
       "      <td>10,194.00</td>\n",
       "      <td>2,138.00</td>\n",
       "      <td>0.21</td>\n",
       "    </tr>\n",
       "    <tr>\n",
       "      <th>12</th>\n",
       "      <td>10,697.00</td>\n",
       "      <td>2,199.00</td>\n",
       "      <td>0.21</td>\n",
       "    </tr>\n",
       "    <tr>\n",
       "      <th rowspan=\"12\" valign=\"top\">2019</th>\n",
       "      <th>1</th>\n",
       "      <td>10,245.00</td>\n",
       "      <td>2,154.00</td>\n",
       "      <td>0.21</td>\n",
       "    </tr>\n",
       "    <tr>\n",
       "      <th>2</th>\n",
       "      <td>9,381.00</td>\n",
       "      <td>1,817.00</td>\n",
       "      <td>0.19</td>\n",
       "    </tr>\n",
       "    <tr>\n",
       "      <th>3</th>\n",
       "      <td>11,084.00</td>\n",
       "      <td>1,812.00</td>\n",
       "      <td>0.16</td>\n",
       "    </tr>\n",
       "    <tr>\n",
       "      <th>4</th>\n",
       "      <td>10,308.00</td>\n",
       "      <td>2,236.00</td>\n",
       "      <td>0.22</td>\n",
       "    </tr>\n",
       "    <tr>\n",
       "      <th>5</th>\n",
       "      <td>10,797.00</td>\n",
       "      <td>2,122.00</td>\n",
       "      <td>0.20</td>\n",
       "    </tr>\n",
       "    <tr>\n",
       "      <th>6</th>\n",
       "      <td>10,543.00</td>\n",
       "      <td>2,743.00</td>\n",
       "      <td>0.26</td>\n",
       "    </tr>\n",
       "    <tr>\n",
       "      <th>7</th>\n",
       "      <td>10,661.00</td>\n",
       "      <td>2,735.00</td>\n",
       "      <td>0.26</td>\n",
       "    </tr>\n",
       "    <tr>\n",
       "      <th>8</th>\n",
       "      <td>10,782.00</td>\n",
       "      <td>2,912.00</td>\n",
       "      <td>0.27</td>\n",
       "    </tr>\n",
       "    <tr>\n",
       "      <th>9</th>\n",
       "      <td>10,120.00</td>\n",
       "      <td>1,544.00</td>\n",
       "      <td>0.15</td>\n",
       "    </tr>\n",
       "    <tr>\n",
       "      <th>10</th>\n",
       "      <td>10,426.00</td>\n",
       "      <td>1,418.00</td>\n",
       "      <td>0.14</td>\n",
       "    </tr>\n",
       "    <tr>\n",
       "      <th>11</th>\n",
       "      <td>9,937.00</td>\n",
       "      <td>1,205.00</td>\n",
       "      <td>0.12</td>\n",
       "    </tr>\n",
       "    <tr>\n",
       "      <th>12</th>\n",
       "      <td>10,385.00</td>\n",
       "      <td>2,480.00</td>\n",
       "      <td>0.24</td>\n",
       "    </tr>\n",
       "  </tbody>\n",
       "</table>\n",
       "</div>"
      ],
      "text/plain": [
       "                 len       sum      mean\n",
       "           ARR_DEL15 ARR_DEL15 ARR_DEL15\n",
       "Year Month                              \n",
       "2018 1      9,244.00  1,968.00      0.21\n",
       "     2      9,115.00  1,418.00      0.16\n",
       "     3      9,927.00  1,825.00      0.18\n",
       "     4     10,393.00  2,184.00      0.21\n",
       "     5     10,915.00  2,478.00      0.23\n",
       "     6     11,052.00  2,504.00      0.23\n",
       "     7     11,201.00  3,463.00      0.31\n",
       "     8     11,202.00  3,345.00      0.30\n",
       "     9     10,591.00  2,304.00      0.22\n",
       "     10    10,952.00  1,628.00      0.15\n",
       "     11    10,194.00  2,138.00      0.21\n",
       "     12    10,697.00  2,199.00      0.21\n",
       "2019 1     10,245.00  2,154.00      0.21\n",
       "     2      9,381.00  1,817.00      0.19\n",
       "     3     11,084.00  1,812.00      0.16\n",
       "     4     10,308.00  2,236.00      0.22\n",
       "     5     10,797.00  2,122.00      0.20\n",
       "     6     10,543.00  2,743.00      0.26\n",
       "     7     10,661.00  2,735.00      0.26\n",
       "     8     10,782.00  2,912.00      0.27\n",
       "     9     10,120.00  1,544.00      0.15\n",
       "     10    10,426.00  1,418.00      0.14\n",
       "     11     9,937.00  1,205.00      0.12\n",
       "     12    10,385.00  2,480.00      0.24"
      ]
     },
     "execution_count": 113,
     "metadata": {},
     "output_type": "execute_result"
    }
   ],
   "source": [
    "df.pivot_table(index=['Year','Month'], values='ARR_DEL15', aggfunc=[len, sum, np.mean])"
   ]
  },
  {
   "cell_type": "markdown",
   "metadata": {
    "id": "K_ljBJGpvWdr"
   },
   "source": [
    "Para este caso, podemos por ejemplo validar con los últimos 6 meses de 2019 y utilizar 2018 y los 6 primeros de 2019 para realizar el entrenamiento del modelo (train y test). Para seleccionarlo, utilizaremos de nuevo el boolean indexing. "
   ]
  },
  {
   "cell_type": "code",
   "execution_count": 114,
   "metadata": {
    "ExecuteTime": {
     "end_time": "2021-09-19T02:48:55.088477Z",
     "start_time": "2021-09-19T02:48:54.889994Z"
    },
    "id": "OffTIYonvWdr"
   },
   "outputs": [],
   "source": [
    "dev_df = df[(df['Year'] == 2018) | (df['Month'] < 7) ] # development = train + test\n",
    "val_df = df[(df['Year'] == 2019) & (df['Month'] >= 7)] # validation"
   ]
  },
  {
   "cell_type": "code",
   "execution_count": 115,
   "metadata": {
    "ExecuteTime": {
     "end_time": "2021-09-19T02:48:55.091843Z",
     "start_time": "2021-09-19T02:48:55.089531Z"
    },
    "colab": {
     "base_uri": "https://localhost:8080/"
    },
    "id": "znHrZUhqvWdr",
    "outputId": "c777be22-af13-445f-a385-2c87a675045b"
   },
   "outputs": [
    {
     "data": {
      "text/plain": [
       "(187841, 199)"
      ]
     },
     "execution_count": 115,
     "metadata": {},
     "output_type": "execute_result"
    }
   ],
   "source": [
    "dev_df.shape"
   ]
  },
  {
   "cell_type": "code",
   "execution_count": 116,
   "metadata": {
    "ExecuteTime": {
     "end_time": "2021-09-19T02:48:55.095316Z",
     "start_time": "2021-09-19T02:48:55.092692Z"
    },
    "colab": {
     "base_uri": "https://localhost:8080/"
    },
    "id": "MtcoTP9RvWdr",
    "outputId": "73e17743-6b38-4469-b18d-eef739d70221"
   },
   "outputs": [
    {
     "data": {
      "text/plain": [
       "(62311, 199)"
      ]
     },
     "execution_count": 116,
     "metadata": {},
     "output_type": "execute_result"
    }
   ],
   "source": [
    "val_df.shape"
   ]
  },
  {
   "cell_type": "markdown",
   "metadata": {
    "id": "P6Zv8uxtvWds"
   },
   "source": [
    "Una vez realizada la selección de particiones, vamos a asignar los atributos y el target a las variables X e y, respectivamente.\\\n",
    "Para seleccionar, utilizaremos el método Drop sin el atributo inplace y haciendo asignación y la indexación directa (ojo con el doble claudator, usaremos un DataFrame... si usasemos el claudator simple sacaríamos una Serie)."
   ]
  },
  {
   "cell_type": "code",
   "execution_count": 117,
   "metadata": {
    "ExecuteTime": {
     "end_time": "2021-09-19T02:48:55.110574Z",
     "start_time": "2021-09-19T02:48:55.096236Z"
    },
    "id": "rQr6seQGvWds"
   },
   "outputs": [],
   "source": [
    "dev_df_X = dev_df.drop('ARR_DEL15', axis=1)\n",
    "dev_df_y = dev_df[['ARR_DEL15']]"
   ]
  },
  {
   "cell_type": "code",
   "execution_count": 118,
   "metadata": {
    "ExecuteTime": {
     "end_time": "2021-09-19T02:48:55.117455Z",
     "start_time": "2021-09-19T02:48:55.111559Z"
    },
    "id": "Nr1c9Jm8vWds"
   },
   "outputs": [],
   "source": [
    "val_df_X = val_df.drop('ARR_DEL15', axis=1)\n",
    "val_df_y = val_df[['ARR_DEL15']]"
   ]
  },
  {
   "cell_type": "code",
   "execution_count": 119,
   "metadata": {
    "ExecuteTime": {
     "end_time": "2021-09-19T02:48:55.137987Z",
     "start_time": "2021-09-19T02:48:55.118346Z"
    },
    "colab": {
     "base_uri": "https://localhost:8080/",
     "height": 1000
    },
    "id": "b_UR8RW1vWdt",
    "outputId": "e9d3e85a-c11e-46fa-aa43-3bf346db0793"
   },
   "outputs": [
    {
     "data": {
      "text/html": [
       "<div>\n",
       "<style scoped>\n",
       "    .dataframe tbody tr th:only-of-type {\n",
       "        vertical-align: middle;\n",
       "    }\n",
       "\n",
       "    .dataframe tbody tr th {\n",
       "        vertical-align: top;\n",
       "    }\n",
       "\n",
       "    .dataframe thead th {\n",
       "        text-align: right;\n",
       "    }\n",
       "</style>\n",
       "<table border=\"1\" class=\"dataframe\">\n",
       "  <thead>\n",
       "    <tr style=\"text-align: right;\">\n",
       "      <th></th>\n",
       "      <th>0</th>\n",
       "      <th>1</th>\n",
       "      <th>2</th>\n",
       "      <th>3</th>\n",
       "      <th>4</th>\n",
       "    </tr>\n",
       "  </thead>\n",
       "  <tbody>\n",
       "    <tr>\n",
       "      <th>CRS_DEP_TIME</th>\n",
       "      <td>1,359.00</td>\n",
       "      <td>1,021.00</td>\n",
       "      <td>1,325.00</td>\n",
       "      <td>600.00</td>\n",
       "      <td>1,715.00</td>\n",
       "    </tr>\n",
       "    <tr>\n",
       "      <th>TAXI_OUT</th>\n",
       "      <td>27.00</td>\n",
       "      <td>11.00</td>\n",
       "      <td>31.00</td>\n",
       "      <td>19.00</td>\n",
       "      <td>11.00</td>\n",
       "    </tr>\n",
       "    <tr>\n",
       "      <th>CRS_ARR_TIME</th>\n",
       "      <td>1,719.00</td>\n",
       "      <td>1,158.00</td>\n",
       "      <td>1,454.00</td>\n",
       "      <td>711.00</td>\n",
       "      <td>1,930.00</td>\n",
       "    </tr>\n",
       "    <tr>\n",
       "      <th>CRS_ELAPSED_TIME</th>\n",
       "      <td>140.00</td>\n",
       "      <td>97.00</td>\n",
       "      <td>89.00</td>\n",
       "      <td>71.00</td>\n",
       "      <td>135.00</td>\n",
       "    </tr>\n",
       "    <tr>\n",
       "      <th>DISTANCE</th>\n",
       "      <td>765.00</td>\n",
       "      <td>340.00</td>\n",
       "      <td>187.00</td>\n",
       "      <td>94.00</td>\n",
       "      <td>636.00</td>\n",
       "    </tr>\n",
       "    <tr>\n",
       "      <th>Season</th>\n",
       "      <td>1.00</td>\n",
       "      <td>1.00</td>\n",
       "      <td>1.00</td>\n",
       "      <td>1.00</td>\n",
       "      <td>1.00</td>\n",
       "    </tr>\n",
       "    <tr>\n",
       "      <th>Year</th>\n",
       "      <td>2,018.00</td>\n",
       "      <td>2,018.00</td>\n",
       "      <td>2,018.00</td>\n",
       "      <td>2,018.00</td>\n",
       "      <td>2,018.00</td>\n",
       "    </tr>\n",
       "    <tr>\n",
       "      <th>Month</th>\n",
       "      <td>2.00</td>\n",
       "      <td>2.00</td>\n",
       "      <td>2.00</td>\n",
       "      <td>2.00</td>\n",
       "      <td>2.00</td>\n",
       "    </tr>\n",
       "    <tr>\n",
       "      <th>Week</th>\n",
       "      <td>5.00</td>\n",
       "      <td>5.00</td>\n",
       "      <td>6.00</td>\n",
       "      <td>6.00</td>\n",
       "      <td>6.00</td>\n",
       "    </tr>\n",
       "    <tr>\n",
       "      <th>Weekday</th>\n",
       "      <td>3.00</td>\n",
       "      <td>5.00</td>\n",
       "      <td>1.00</td>\n",
       "      <td>3.00</td>\n",
       "      <td>6.00</td>\n",
       "    </tr>\n",
       "    <tr>\n",
       "      <th>Weekend</th>\n",
       "      <td>0.00</td>\n",
       "      <td>1.00</td>\n",
       "      <td>0.00</td>\n",
       "      <td>0.00</td>\n",
       "      <td>1.00</td>\n",
       "    </tr>\n",
       "    <tr>\n",
       "      <th>TAIL_NUM_COUNT</th>\n",
       "      <td>340.00</td>\n",
       "      <td>340.00</td>\n",
       "      <td>340.00</td>\n",
       "      <td>340.00</td>\n",
       "      <td>340.00</td>\n",
       "    </tr>\n",
       "    <tr>\n",
       "      <th>ORIGIN_ABQ</th>\n",
       "      <td>0.00</td>\n",
       "      <td>0.00</td>\n",
       "      <td>0.00</td>\n",
       "      <td>0.00</td>\n",
       "      <td>0.00</td>\n",
       "    </tr>\n",
       "    <tr>\n",
       "      <th>ORIGIN_ACK</th>\n",
       "      <td>0.00</td>\n",
       "      <td>0.00</td>\n",
       "      <td>0.00</td>\n",
       "      <td>0.00</td>\n",
       "      <td>0.00</td>\n",
       "    </tr>\n",
       "    <tr>\n",
       "      <th>ORIGIN_ATL</th>\n",
       "      <td>0.00</td>\n",
       "      <td>0.00</td>\n",
       "      <td>0.00</td>\n",
       "      <td>0.00</td>\n",
       "      <td>0.00</td>\n",
       "    </tr>\n",
       "    <tr>\n",
       "      <th>ORIGIN_AUS</th>\n",
       "      <td>0.00</td>\n",
       "      <td>0.00</td>\n",
       "      <td>0.00</td>\n",
       "      <td>0.00</td>\n",
       "      <td>0.00</td>\n",
       "    </tr>\n",
       "    <tr>\n",
       "      <th>ORIGIN_BGR</th>\n",
       "      <td>0.00</td>\n",
       "      <td>0.00</td>\n",
       "      <td>0.00</td>\n",
       "      <td>0.00</td>\n",
       "      <td>0.00</td>\n",
       "    </tr>\n",
       "    <tr>\n",
       "      <th>ORIGIN_BNA</th>\n",
       "      <td>1.00</td>\n",
       "      <td>0.00</td>\n",
       "      <td>0.00</td>\n",
       "      <td>0.00</td>\n",
       "      <td>0.00</td>\n",
       "    </tr>\n",
       "    <tr>\n",
       "      <th>ORIGIN_BOS</th>\n",
       "      <td>0.00</td>\n",
       "      <td>0.00</td>\n",
       "      <td>1.00</td>\n",
       "      <td>0.00</td>\n",
       "      <td>0.00</td>\n",
       "    </tr>\n",
       "    <tr>\n",
       "      <th>ORIGIN_BQN</th>\n",
       "      <td>0.00</td>\n",
       "      <td>0.00</td>\n",
       "      <td>0.00</td>\n",
       "      <td>0.00</td>\n",
       "      <td>0.00</td>\n",
       "    </tr>\n",
       "    <tr>\n",
       "      <th>ORIGIN_BTV</th>\n",
       "      <td>0.00</td>\n",
       "      <td>0.00</td>\n",
       "      <td>0.00</td>\n",
       "      <td>0.00</td>\n",
       "      <td>0.00</td>\n",
       "    </tr>\n",
       "    <tr>\n",
       "      <th>ORIGIN_BUF</th>\n",
       "      <td>0.00</td>\n",
       "      <td>0.00</td>\n",
       "      <td>0.00</td>\n",
       "      <td>0.00</td>\n",
       "      <td>0.00</td>\n",
       "    </tr>\n",
       "    <tr>\n",
       "      <th>ORIGIN_BUR</th>\n",
       "      <td>0.00</td>\n",
       "      <td>0.00</td>\n",
       "      <td>0.00</td>\n",
       "      <td>0.00</td>\n",
       "      <td>0.00</td>\n",
       "    </tr>\n",
       "    <tr>\n",
       "      <th>ORIGIN_BWI</th>\n",
       "      <td>0.00</td>\n",
       "      <td>0.00</td>\n",
       "      <td>0.00</td>\n",
       "      <td>0.00</td>\n",
       "      <td>0.00</td>\n",
       "    </tr>\n",
       "    <tr>\n",
       "      <th>ORIGIN_CHS</th>\n",
       "      <td>0.00</td>\n",
       "      <td>0.00</td>\n",
       "      <td>0.00</td>\n",
       "      <td>0.00</td>\n",
       "      <td>1.00</td>\n",
       "    </tr>\n",
       "    <tr>\n",
       "      <th>ORIGIN_CLE</th>\n",
       "      <td>0.00</td>\n",
       "      <td>0.00</td>\n",
       "      <td>0.00</td>\n",
       "      <td>0.00</td>\n",
       "      <td>0.00</td>\n",
       "    </tr>\n",
       "    <tr>\n",
       "      <th>ORIGIN_CLT</th>\n",
       "      <td>0.00</td>\n",
       "      <td>0.00</td>\n",
       "      <td>0.00</td>\n",
       "      <td>0.00</td>\n",
       "      <td>0.00</td>\n",
       "    </tr>\n",
       "    <tr>\n",
       "      <th>ORIGIN_CMH</th>\n",
       "      <td>0.00</td>\n",
       "      <td>0.00</td>\n",
       "      <td>0.00</td>\n",
       "      <td>0.00</td>\n",
       "      <td>0.00</td>\n",
       "    </tr>\n",
       "    <tr>\n",
       "      <th>ORIGIN_CVG</th>\n",
       "      <td>0.00</td>\n",
       "      <td>0.00</td>\n",
       "      <td>0.00</td>\n",
       "      <td>0.00</td>\n",
       "      <td>0.00</td>\n",
       "    </tr>\n",
       "    <tr>\n",
       "      <th>ORIGIN_DAB</th>\n",
       "      <td>0.00</td>\n",
       "      <td>0.00</td>\n",
       "      <td>0.00</td>\n",
       "      <td>0.00</td>\n",
       "      <td>0.00</td>\n",
       "    </tr>\n",
       "    <tr>\n",
       "      <th>ORIGIN_DCA</th>\n",
       "      <td>0.00</td>\n",
       "      <td>0.00</td>\n",
       "      <td>0.00</td>\n",
       "      <td>0.00</td>\n",
       "      <td>0.00</td>\n",
       "    </tr>\n",
       "    <tr>\n",
       "      <th>ORIGIN_DEN</th>\n",
       "      <td>0.00</td>\n",
       "      <td>0.00</td>\n",
       "      <td>0.00</td>\n",
       "      <td>0.00</td>\n",
       "      <td>0.00</td>\n",
       "    </tr>\n",
       "    <tr>\n",
       "      <th>ORIGIN_DFW</th>\n",
       "      <td>0.00</td>\n",
       "      <td>0.00</td>\n",
       "      <td>0.00</td>\n",
       "      <td>0.00</td>\n",
       "      <td>0.00</td>\n",
       "    </tr>\n",
       "    <tr>\n",
       "      <th>ORIGIN_DTW</th>\n",
       "      <td>0.00</td>\n",
       "      <td>0.00</td>\n",
       "      <td>0.00</td>\n",
       "      <td>0.00</td>\n",
       "      <td>0.00</td>\n",
       "    </tr>\n",
       "    <tr>\n",
       "      <th>ORIGIN_EGE</th>\n",
       "      <td>0.00</td>\n",
       "      <td>0.00</td>\n",
       "      <td>0.00</td>\n",
       "      <td>0.00</td>\n",
       "      <td>0.00</td>\n",
       "    </tr>\n",
       "    <tr>\n",
       "      <th>ORIGIN_FLL</th>\n",
       "      <td>0.00</td>\n",
       "      <td>0.00</td>\n",
       "      <td>0.00</td>\n",
       "      <td>0.00</td>\n",
       "      <td>0.00</td>\n",
       "    </tr>\n",
       "    <tr>\n",
       "      <th>ORIGIN_HNL</th>\n",
       "      <td>0.00</td>\n",
       "      <td>0.00</td>\n",
       "      <td>0.00</td>\n",
       "      <td>0.00</td>\n",
       "      <td>0.00</td>\n",
       "    </tr>\n",
       "    <tr>\n",
       "      <th>ORIGIN_HOU</th>\n",
       "      <td>0.00</td>\n",
       "      <td>0.00</td>\n",
       "      <td>0.00</td>\n",
       "      <td>0.00</td>\n",
       "      <td>0.00</td>\n",
       "    </tr>\n",
       "    <tr>\n",
       "      <th>ORIGIN_HYA</th>\n",
       "      <td>0.00</td>\n",
       "      <td>0.00</td>\n",
       "      <td>0.00</td>\n",
       "      <td>0.00</td>\n",
       "      <td>0.00</td>\n",
       "    </tr>\n",
       "    <tr>\n",
       "      <th>ORIGIN_IAD</th>\n",
       "      <td>0.00</td>\n",
       "      <td>0.00</td>\n",
       "      <td>0.00</td>\n",
       "      <td>0.00</td>\n",
       "      <td>0.00</td>\n",
       "    </tr>\n",
       "    <tr>\n",
       "      <th>ORIGIN_IAH</th>\n",
       "      <td>0.00</td>\n",
       "      <td>0.00</td>\n",
       "      <td>0.00</td>\n",
       "      <td>0.00</td>\n",
       "      <td>0.00</td>\n",
       "    </tr>\n",
       "    <tr>\n",
       "      <th>ORIGIN_IND</th>\n",
       "      <td>0.00</td>\n",
       "      <td>0.00</td>\n",
       "      <td>0.00</td>\n",
       "      <td>0.00</td>\n",
       "      <td>0.00</td>\n",
       "    </tr>\n",
       "    <tr>\n",
       "      <th>ORIGIN_JAC</th>\n",
       "      <td>0.00</td>\n",
       "      <td>0.00</td>\n",
       "      <td>0.00</td>\n",
       "      <td>0.00</td>\n",
       "      <td>0.00</td>\n",
       "    </tr>\n",
       "    <tr>\n",
       "      <th>ORIGIN_JAX</th>\n",
       "      <td>0.00</td>\n",
       "      <td>0.00</td>\n",
       "      <td>0.00</td>\n",
       "      <td>0.00</td>\n",
       "      <td>0.00</td>\n",
       "    </tr>\n",
       "    <tr>\n",
       "      <th>ORIGIN_LAS</th>\n",
       "      <td>0.00</td>\n",
       "      <td>0.00</td>\n",
       "      <td>0.00</td>\n",
       "      <td>0.00</td>\n",
       "      <td>0.00</td>\n",
       "    </tr>\n",
       "    <tr>\n",
       "      <th>ORIGIN_LAX</th>\n",
       "      <td>0.00</td>\n",
       "      <td>0.00</td>\n",
       "      <td>0.00</td>\n",
       "      <td>0.00</td>\n",
       "      <td>0.00</td>\n",
       "    </tr>\n",
       "    <tr>\n",
       "      <th>ORIGIN_LGB</th>\n",
       "      <td>0.00</td>\n",
       "      <td>0.00</td>\n",
       "      <td>0.00</td>\n",
       "      <td>0.00</td>\n",
       "      <td>0.00</td>\n",
       "    </tr>\n",
       "    <tr>\n",
       "      <th>ORIGIN_MCO</th>\n",
       "      <td>0.00</td>\n",
       "      <td>0.00</td>\n",
       "      <td>0.00</td>\n",
       "      <td>0.00</td>\n",
       "      <td>0.00</td>\n",
       "    </tr>\n",
       "    <tr>\n",
       "      <th>ORIGIN_MIA</th>\n",
       "      <td>0.00</td>\n",
       "      <td>0.00</td>\n",
       "      <td>0.00</td>\n",
       "      <td>0.00</td>\n",
       "      <td>0.00</td>\n",
       "    </tr>\n",
       "    <tr>\n",
       "      <th>ORIGIN_MSP</th>\n",
       "      <td>0.00</td>\n",
       "      <td>0.00</td>\n",
       "      <td>0.00</td>\n",
       "      <td>0.00</td>\n",
       "      <td>0.00</td>\n",
       "    </tr>\n",
       "    <tr>\n",
       "      <th>ORIGIN_MSY</th>\n",
       "      <td>0.00</td>\n",
       "      <td>0.00</td>\n",
       "      <td>0.00</td>\n",
       "      <td>0.00</td>\n",
       "      <td>0.00</td>\n",
       "    </tr>\n",
       "    <tr>\n",
       "      <th>ORIGIN_MVY</th>\n",
       "      <td>0.00</td>\n",
       "      <td>0.00</td>\n",
       "      <td>0.00</td>\n",
       "      <td>0.00</td>\n",
       "      <td>0.00</td>\n",
       "    </tr>\n",
       "    <tr>\n",
       "      <th>ORIGIN_OAK</th>\n",
       "      <td>0.00</td>\n",
       "      <td>0.00</td>\n",
       "      <td>0.00</td>\n",
       "      <td>0.00</td>\n",
       "      <td>0.00</td>\n",
       "    </tr>\n",
       "    <tr>\n",
       "      <th>ORIGIN_ONT</th>\n",
       "      <td>0.00</td>\n",
       "      <td>0.00</td>\n",
       "      <td>0.00</td>\n",
       "      <td>0.00</td>\n",
       "      <td>0.00</td>\n",
       "    </tr>\n",
       "    <tr>\n",
       "      <th>ORIGIN_ORD</th>\n",
       "      <td>0.00</td>\n",
       "      <td>0.00</td>\n",
       "      <td>0.00</td>\n",
       "      <td>0.00</td>\n",
       "      <td>0.00</td>\n",
       "    </tr>\n",
       "    <tr>\n",
       "      <th>ORIGIN_ORF</th>\n",
       "      <td>0.00</td>\n",
       "      <td>0.00</td>\n",
       "      <td>0.00</td>\n",
       "      <td>0.00</td>\n",
       "      <td>0.00</td>\n",
       "    </tr>\n",
       "    <tr>\n",
       "      <th>ORIGIN_ORH</th>\n",
       "      <td>0.00</td>\n",
       "      <td>0.00</td>\n",
       "      <td>0.00</td>\n",
       "      <td>0.00</td>\n",
       "      <td>0.00</td>\n",
       "    </tr>\n",
       "    <tr>\n",
       "      <th>ORIGIN_PBI</th>\n",
       "      <td>0.00</td>\n",
       "      <td>0.00</td>\n",
       "      <td>0.00</td>\n",
       "      <td>0.00</td>\n",
       "      <td>0.00</td>\n",
       "    </tr>\n",
       "    <tr>\n",
       "      <th>ORIGIN_PDX</th>\n",
       "      <td>0.00</td>\n",
       "      <td>0.00</td>\n",
       "      <td>0.00</td>\n",
       "      <td>0.00</td>\n",
       "      <td>0.00</td>\n",
       "    </tr>\n",
       "    <tr>\n",
       "      <th>ORIGIN_PHL</th>\n",
       "      <td>0.00</td>\n",
       "      <td>0.00</td>\n",
       "      <td>0.00</td>\n",
       "      <td>1.00</td>\n",
       "      <td>0.00</td>\n",
       "    </tr>\n",
       "    <tr>\n",
       "      <th>ORIGIN_PHX</th>\n",
       "      <td>0.00</td>\n",
       "      <td>0.00</td>\n",
       "      <td>0.00</td>\n",
       "      <td>0.00</td>\n",
       "      <td>0.00</td>\n",
       "    </tr>\n",
       "    <tr>\n",
       "      <th>ORIGIN_PIT</th>\n",
       "      <td>0.00</td>\n",
       "      <td>1.00</td>\n",
       "      <td>0.00</td>\n",
       "      <td>0.00</td>\n",
       "      <td>0.00</td>\n",
       "    </tr>\n",
       "    <tr>\n",
       "      <th>ORIGIN_PSE</th>\n",
       "      <td>0.00</td>\n",
       "      <td>0.00</td>\n",
       "      <td>0.00</td>\n",
       "      <td>0.00</td>\n",
       "      <td>0.00</td>\n",
       "    </tr>\n",
       "    <tr>\n",
       "      <th>ORIGIN_PSP</th>\n",
       "      <td>0.00</td>\n",
       "      <td>0.00</td>\n",
       "      <td>0.00</td>\n",
       "      <td>0.00</td>\n",
       "      <td>0.00</td>\n",
       "    </tr>\n",
       "    <tr>\n",
       "      <th>ORIGIN_PWM</th>\n",
       "      <td>0.00</td>\n",
       "      <td>0.00</td>\n",
       "      <td>0.00</td>\n",
       "      <td>0.00</td>\n",
       "      <td>0.00</td>\n",
       "    </tr>\n",
       "    <tr>\n",
       "      <th>ORIGIN_RDU</th>\n",
       "      <td>0.00</td>\n",
       "      <td>0.00</td>\n",
       "      <td>0.00</td>\n",
       "      <td>0.00</td>\n",
       "      <td>0.00</td>\n",
       "    </tr>\n",
       "    <tr>\n",
       "      <th>ORIGIN_RIC</th>\n",
       "      <td>0.00</td>\n",
       "      <td>0.00</td>\n",
       "      <td>0.00</td>\n",
       "      <td>0.00</td>\n",
       "      <td>0.00</td>\n",
       "    </tr>\n",
       "    <tr>\n",
       "      <th>ORIGIN_RNO</th>\n",
       "      <td>0.00</td>\n",
       "      <td>0.00</td>\n",
       "      <td>0.00</td>\n",
       "      <td>0.00</td>\n",
       "      <td>0.00</td>\n",
       "    </tr>\n",
       "    <tr>\n",
       "      <th>ORIGIN_ROC</th>\n",
       "      <td>0.00</td>\n",
       "      <td>0.00</td>\n",
       "      <td>0.00</td>\n",
       "      <td>0.00</td>\n",
       "      <td>0.00</td>\n",
       "    </tr>\n",
       "    <tr>\n",
       "      <th>ORIGIN_RSW</th>\n",
       "      <td>0.00</td>\n",
       "      <td>0.00</td>\n",
       "      <td>0.00</td>\n",
       "      <td>0.00</td>\n",
       "      <td>0.00</td>\n",
       "    </tr>\n",
       "    <tr>\n",
       "      <th>ORIGIN_SAN</th>\n",
       "      <td>0.00</td>\n",
       "      <td>0.00</td>\n",
       "      <td>0.00</td>\n",
       "      <td>0.00</td>\n",
       "      <td>0.00</td>\n",
       "    </tr>\n",
       "    <tr>\n",
       "      <th>ORIGIN_SAT</th>\n",
       "      <td>0.00</td>\n",
       "      <td>0.00</td>\n",
       "      <td>0.00</td>\n",
       "      <td>0.00</td>\n",
       "      <td>0.00</td>\n",
       "    </tr>\n",
       "    <tr>\n",
       "      <th>ORIGIN_SAV</th>\n",
       "      <td>0.00</td>\n",
       "      <td>0.00</td>\n",
       "      <td>0.00</td>\n",
       "      <td>0.00</td>\n",
       "      <td>0.00</td>\n",
       "    </tr>\n",
       "    <tr>\n",
       "      <th>ORIGIN_SEA</th>\n",
       "      <td>0.00</td>\n",
       "      <td>0.00</td>\n",
       "      <td>0.00</td>\n",
       "      <td>0.00</td>\n",
       "      <td>0.00</td>\n",
       "    </tr>\n",
       "    <tr>\n",
       "      <th>ORIGIN_SFO</th>\n",
       "      <td>0.00</td>\n",
       "      <td>0.00</td>\n",
       "      <td>0.00</td>\n",
       "      <td>0.00</td>\n",
       "      <td>0.00</td>\n",
       "    </tr>\n",
       "    <tr>\n",
       "      <th>ORIGIN_SJC</th>\n",
       "      <td>0.00</td>\n",
       "      <td>0.00</td>\n",
       "      <td>0.00</td>\n",
       "      <td>0.00</td>\n",
       "      <td>0.00</td>\n",
       "    </tr>\n",
       "    <tr>\n",
       "      <th>ORIGIN_SJU</th>\n",
       "      <td>0.00</td>\n",
       "      <td>0.00</td>\n",
       "      <td>0.00</td>\n",
       "      <td>0.00</td>\n",
       "      <td>0.00</td>\n",
       "    </tr>\n",
       "    <tr>\n",
       "      <th>ORIGIN_SLC</th>\n",
       "      <td>0.00</td>\n",
       "      <td>0.00</td>\n",
       "      <td>0.00</td>\n",
       "      <td>0.00</td>\n",
       "      <td>0.00</td>\n",
       "    </tr>\n",
       "    <tr>\n",
       "      <th>ORIGIN_SMF</th>\n",
       "      <td>0.00</td>\n",
       "      <td>0.00</td>\n",
       "      <td>0.00</td>\n",
       "      <td>0.00</td>\n",
       "      <td>0.00</td>\n",
       "    </tr>\n",
       "    <tr>\n",
       "      <th>ORIGIN_SNA</th>\n",
       "      <td>0.00</td>\n",
       "      <td>0.00</td>\n",
       "      <td>0.00</td>\n",
       "      <td>0.00</td>\n",
       "      <td>0.00</td>\n",
       "    </tr>\n",
       "    <tr>\n",
       "      <th>ORIGIN_SRQ</th>\n",
       "      <td>0.00</td>\n",
       "      <td>0.00</td>\n",
       "      <td>0.00</td>\n",
       "      <td>0.00</td>\n",
       "      <td>0.00</td>\n",
       "    </tr>\n",
       "    <tr>\n",
       "      <th>ORIGIN_STT</th>\n",
       "      <td>0.00</td>\n",
       "      <td>0.00</td>\n",
       "      <td>0.00</td>\n",
       "      <td>0.00</td>\n",
       "      <td>0.00</td>\n",
       "    </tr>\n",
       "    <tr>\n",
       "      <th>ORIGIN_SYR</th>\n",
       "      <td>0.00</td>\n",
       "      <td>0.00</td>\n",
       "      <td>0.00</td>\n",
       "      <td>0.00</td>\n",
       "      <td>0.00</td>\n",
       "    </tr>\n",
       "    <tr>\n",
       "      <th>ORIGIN_TPA</th>\n",
       "      <td>0.00</td>\n",
       "      <td>0.00</td>\n",
       "      <td>0.00</td>\n",
       "      <td>0.00</td>\n",
       "      <td>0.00</td>\n",
       "    </tr>\n",
       "    <tr>\n",
       "      <th>ORIGIN_CITY_NAME_Aguadilla, PR</th>\n",
       "      <td>0.00</td>\n",
       "      <td>0.00</td>\n",
       "      <td>0.00</td>\n",
       "      <td>0.00</td>\n",
       "      <td>0.00</td>\n",
       "    </tr>\n",
       "    <tr>\n",
       "      <th>ORIGIN_CITY_NAME_Albuquerque, NM</th>\n",
       "      <td>0.00</td>\n",
       "      <td>0.00</td>\n",
       "      <td>0.00</td>\n",
       "      <td>0.00</td>\n",
       "      <td>0.00</td>\n",
       "    </tr>\n",
       "    <tr>\n",
       "      <th>ORIGIN_CITY_NAME_Atlanta, GA</th>\n",
       "      <td>0.00</td>\n",
       "      <td>0.00</td>\n",
       "      <td>0.00</td>\n",
       "      <td>0.00</td>\n",
       "      <td>0.00</td>\n",
       "    </tr>\n",
       "    <tr>\n",
       "      <th>ORIGIN_CITY_NAME_Austin, TX</th>\n",
       "      <td>0.00</td>\n",
       "      <td>0.00</td>\n",
       "      <td>0.00</td>\n",
       "      <td>0.00</td>\n",
       "      <td>0.00</td>\n",
       "    </tr>\n",
       "    <tr>\n",
       "      <th>ORIGIN_CITY_NAME_Baltimore, MD</th>\n",
       "      <td>0.00</td>\n",
       "      <td>0.00</td>\n",
       "      <td>0.00</td>\n",
       "      <td>0.00</td>\n",
       "      <td>0.00</td>\n",
       "    </tr>\n",
       "    <tr>\n",
       "      <th>ORIGIN_CITY_NAME_Bangor, ME</th>\n",
       "      <td>0.00</td>\n",
       "      <td>0.00</td>\n",
       "      <td>0.00</td>\n",
       "      <td>0.00</td>\n",
       "      <td>0.00</td>\n",
       "    </tr>\n",
       "    <tr>\n",
       "      <th>ORIGIN_CITY_NAME_Boston, MA</th>\n",
       "      <td>0.00</td>\n",
       "      <td>0.00</td>\n",
       "      <td>1.00</td>\n",
       "      <td>0.00</td>\n",
       "      <td>0.00</td>\n",
       "    </tr>\n",
       "    <tr>\n",
       "      <th>ORIGIN_CITY_NAME_Buffalo, NY</th>\n",
       "      <td>0.00</td>\n",
       "      <td>0.00</td>\n",
       "      <td>0.00</td>\n",
       "      <td>0.00</td>\n",
       "      <td>0.00</td>\n",
       "    </tr>\n",
       "    <tr>\n",
       "      <th>ORIGIN_CITY_NAME_Burbank, CA</th>\n",
       "      <td>0.00</td>\n",
       "      <td>0.00</td>\n",
       "      <td>0.00</td>\n",
       "      <td>0.00</td>\n",
       "      <td>0.00</td>\n",
       "    </tr>\n",
       "    <tr>\n",
       "      <th>ORIGIN_CITY_NAME_Burlington, VT</th>\n",
       "      <td>0.00</td>\n",
       "      <td>0.00</td>\n",
       "      <td>0.00</td>\n",
       "      <td>0.00</td>\n",
       "      <td>0.00</td>\n",
       "    </tr>\n",
       "    <tr>\n",
       "      <th>ORIGIN_CITY_NAME_Charleston, SC</th>\n",
       "      <td>0.00</td>\n",
       "      <td>0.00</td>\n",
       "      <td>0.00</td>\n",
       "      <td>0.00</td>\n",
       "      <td>1.00</td>\n",
       "    </tr>\n",
       "    <tr>\n",
       "      <th>ORIGIN_CITY_NAME_Charlotte Amalie, VI</th>\n",
       "      <td>0.00</td>\n",
       "      <td>0.00</td>\n",
       "      <td>0.00</td>\n",
       "      <td>0.00</td>\n",
       "      <td>0.00</td>\n",
       "    </tr>\n",
       "    <tr>\n",
       "      <th>ORIGIN_CITY_NAME_Charlotte, NC</th>\n",
       "      <td>0.00</td>\n",
       "      <td>0.00</td>\n",
       "      <td>0.00</td>\n",
       "      <td>0.00</td>\n",
       "      <td>0.00</td>\n",
       "    </tr>\n",
       "    <tr>\n",
       "      <th>ORIGIN_CITY_NAME_Chicago, IL</th>\n",
       "      <td>0.00</td>\n",
       "      <td>0.00</td>\n",
       "      <td>0.00</td>\n",
       "      <td>0.00</td>\n",
       "      <td>0.00</td>\n",
       "    </tr>\n",
       "    <tr>\n",
       "      <th>ORIGIN_CITY_NAME_Cincinnati, OH</th>\n",
       "      <td>0.00</td>\n",
       "      <td>0.00</td>\n",
       "      <td>0.00</td>\n",
       "      <td>0.00</td>\n",
       "      <td>0.00</td>\n",
       "    </tr>\n",
       "    <tr>\n",
       "      <th>ORIGIN_CITY_NAME_Cleveland, OH</th>\n",
       "      <td>0.00</td>\n",
       "      <td>0.00</td>\n",
       "      <td>0.00</td>\n",
       "      <td>0.00</td>\n",
       "      <td>0.00</td>\n",
       "    </tr>\n",
       "    <tr>\n",
       "      <th>ORIGIN_CITY_NAME_Columbus, OH</th>\n",
       "      <td>0.00</td>\n",
       "      <td>0.00</td>\n",
       "      <td>0.00</td>\n",
       "      <td>0.00</td>\n",
       "      <td>0.00</td>\n",
       "    </tr>\n",
       "    <tr>\n",
       "      <th>ORIGIN_CITY_NAME_Dallas/Fort Worth, TX</th>\n",
       "      <td>0.00</td>\n",
       "      <td>0.00</td>\n",
       "      <td>0.00</td>\n",
       "      <td>0.00</td>\n",
       "      <td>0.00</td>\n",
       "    </tr>\n",
       "    <tr>\n",
       "      <th>ORIGIN_CITY_NAME_Daytona Beach, FL</th>\n",
       "      <td>0.00</td>\n",
       "      <td>0.00</td>\n",
       "      <td>0.00</td>\n",
       "      <td>0.00</td>\n",
       "      <td>0.00</td>\n",
       "    </tr>\n",
       "    <tr>\n",
       "      <th>ORIGIN_CITY_NAME_Denver, CO</th>\n",
       "      <td>0.00</td>\n",
       "      <td>0.00</td>\n",
       "      <td>0.00</td>\n",
       "      <td>0.00</td>\n",
       "      <td>0.00</td>\n",
       "    </tr>\n",
       "    <tr>\n",
       "      <th>ORIGIN_CITY_NAME_Detroit, MI</th>\n",
       "      <td>0.00</td>\n",
       "      <td>0.00</td>\n",
       "      <td>0.00</td>\n",
       "      <td>0.00</td>\n",
       "      <td>0.00</td>\n",
       "    </tr>\n",
       "    <tr>\n",
       "      <th>ORIGIN_CITY_NAME_Eagle, CO</th>\n",
       "      <td>0.00</td>\n",
       "      <td>0.00</td>\n",
       "      <td>0.00</td>\n",
       "      <td>0.00</td>\n",
       "      <td>0.00</td>\n",
       "    </tr>\n",
       "    <tr>\n",
       "      <th>ORIGIN_CITY_NAME_Fort Lauderdale, FL</th>\n",
       "      <td>0.00</td>\n",
       "      <td>0.00</td>\n",
       "      <td>0.00</td>\n",
       "      <td>0.00</td>\n",
       "      <td>0.00</td>\n",
       "    </tr>\n",
       "    <tr>\n",
       "      <th>ORIGIN_CITY_NAME_Fort Myers, FL</th>\n",
       "      <td>0.00</td>\n",
       "      <td>0.00</td>\n",
       "      <td>0.00</td>\n",
       "      <td>0.00</td>\n",
       "      <td>0.00</td>\n",
       "    </tr>\n",
       "    <tr>\n",
       "      <th>ORIGIN_CITY_NAME_Honolulu, HI</th>\n",
       "      <td>0.00</td>\n",
       "      <td>0.00</td>\n",
       "      <td>0.00</td>\n",
       "      <td>0.00</td>\n",
       "      <td>0.00</td>\n",
       "    </tr>\n",
       "    <tr>\n",
       "      <th>ORIGIN_CITY_NAME_Houston, TX</th>\n",
       "      <td>0.00</td>\n",
       "      <td>0.00</td>\n",
       "      <td>0.00</td>\n",
       "      <td>0.00</td>\n",
       "      <td>0.00</td>\n",
       "    </tr>\n",
       "    <tr>\n",
       "      <th>ORIGIN_CITY_NAME_Hyannis, MA</th>\n",
       "      <td>0.00</td>\n",
       "      <td>0.00</td>\n",
       "      <td>0.00</td>\n",
       "      <td>0.00</td>\n",
       "      <td>0.00</td>\n",
       "    </tr>\n",
       "    <tr>\n",
       "      <th>ORIGIN_CITY_NAME_Indianapolis, IN</th>\n",
       "      <td>0.00</td>\n",
       "      <td>0.00</td>\n",
       "      <td>0.00</td>\n",
       "      <td>0.00</td>\n",
       "      <td>0.00</td>\n",
       "    </tr>\n",
       "    <tr>\n",
       "      <th>ORIGIN_CITY_NAME_Jackson, WY</th>\n",
       "      <td>0.00</td>\n",
       "      <td>0.00</td>\n",
       "      <td>0.00</td>\n",
       "      <td>0.00</td>\n",
       "      <td>0.00</td>\n",
       "    </tr>\n",
       "    <tr>\n",
       "      <th>ORIGIN_CITY_NAME_Jacksonville, FL</th>\n",
       "      <td>0.00</td>\n",
       "      <td>0.00</td>\n",
       "      <td>0.00</td>\n",
       "      <td>0.00</td>\n",
       "      <td>0.00</td>\n",
       "    </tr>\n",
       "    <tr>\n",
       "      <th>ORIGIN_CITY_NAME_Las Vegas, NV</th>\n",
       "      <td>0.00</td>\n",
       "      <td>0.00</td>\n",
       "      <td>0.00</td>\n",
       "      <td>0.00</td>\n",
       "      <td>0.00</td>\n",
       "    </tr>\n",
       "    <tr>\n",
       "      <th>ORIGIN_CITY_NAME_Long Beach, CA</th>\n",
       "      <td>0.00</td>\n",
       "      <td>0.00</td>\n",
       "      <td>0.00</td>\n",
       "      <td>0.00</td>\n",
       "      <td>0.00</td>\n",
       "    </tr>\n",
       "    <tr>\n",
       "      <th>ORIGIN_CITY_NAME_Los Angeles, CA</th>\n",
       "      <td>0.00</td>\n",
       "      <td>0.00</td>\n",
       "      <td>0.00</td>\n",
       "      <td>0.00</td>\n",
       "      <td>0.00</td>\n",
       "    </tr>\n",
       "    <tr>\n",
       "      <th>ORIGIN_CITY_NAME_Martha's Vineyard, MA</th>\n",
       "      <td>0.00</td>\n",
       "      <td>0.00</td>\n",
       "      <td>0.00</td>\n",
       "      <td>0.00</td>\n",
       "      <td>0.00</td>\n",
       "    </tr>\n",
       "    <tr>\n",
       "      <th>ORIGIN_CITY_NAME_Miami, FL</th>\n",
       "      <td>0.00</td>\n",
       "      <td>0.00</td>\n",
       "      <td>0.00</td>\n",
       "      <td>0.00</td>\n",
       "      <td>0.00</td>\n",
       "    </tr>\n",
       "    <tr>\n",
       "      <th>ORIGIN_CITY_NAME_Minneapolis, MN</th>\n",
       "      <td>0.00</td>\n",
       "      <td>0.00</td>\n",
       "      <td>0.00</td>\n",
       "      <td>0.00</td>\n",
       "      <td>0.00</td>\n",
       "    </tr>\n",
       "    <tr>\n",
       "      <th>ORIGIN_CITY_NAME_Nantucket, MA</th>\n",
       "      <td>0.00</td>\n",
       "      <td>0.00</td>\n",
       "      <td>0.00</td>\n",
       "      <td>0.00</td>\n",
       "      <td>0.00</td>\n",
       "    </tr>\n",
       "    <tr>\n",
       "      <th>ORIGIN_CITY_NAME_Nashville, TN</th>\n",
       "      <td>1.00</td>\n",
       "      <td>0.00</td>\n",
       "      <td>0.00</td>\n",
       "      <td>0.00</td>\n",
       "      <td>0.00</td>\n",
       "    </tr>\n",
       "    <tr>\n",
       "      <th>ORIGIN_CITY_NAME_New Orleans, LA</th>\n",
       "      <td>0.00</td>\n",
       "      <td>0.00</td>\n",
       "      <td>0.00</td>\n",
       "      <td>0.00</td>\n",
       "      <td>0.00</td>\n",
       "    </tr>\n",
       "    <tr>\n",
       "      <th>ORIGIN_CITY_NAME_Norfolk, VA</th>\n",
       "      <td>0.00</td>\n",
       "      <td>0.00</td>\n",
       "      <td>0.00</td>\n",
       "      <td>0.00</td>\n",
       "      <td>0.00</td>\n",
       "    </tr>\n",
       "    <tr>\n",
       "      <th>ORIGIN_CITY_NAME_Oakland, CA</th>\n",
       "      <td>0.00</td>\n",
       "      <td>0.00</td>\n",
       "      <td>0.00</td>\n",
       "      <td>0.00</td>\n",
       "      <td>0.00</td>\n",
       "    </tr>\n",
       "    <tr>\n",
       "      <th>ORIGIN_CITY_NAME_Ontario, CA</th>\n",
       "      <td>0.00</td>\n",
       "      <td>0.00</td>\n",
       "      <td>0.00</td>\n",
       "      <td>0.00</td>\n",
       "      <td>0.00</td>\n",
       "    </tr>\n",
       "    <tr>\n",
       "      <th>ORIGIN_CITY_NAME_Orlando, FL</th>\n",
       "      <td>0.00</td>\n",
       "      <td>0.00</td>\n",
       "      <td>0.00</td>\n",
       "      <td>0.00</td>\n",
       "      <td>0.00</td>\n",
       "    </tr>\n",
       "    <tr>\n",
       "      <th>ORIGIN_CITY_NAME_Palm Springs, CA</th>\n",
       "      <td>0.00</td>\n",
       "      <td>0.00</td>\n",
       "      <td>0.00</td>\n",
       "      <td>0.00</td>\n",
       "      <td>0.00</td>\n",
       "    </tr>\n",
       "    <tr>\n",
       "      <th>ORIGIN_CITY_NAME_Philadelphia, PA</th>\n",
       "      <td>0.00</td>\n",
       "      <td>0.00</td>\n",
       "      <td>0.00</td>\n",
       "      <td>1.00</td>\n",
       "      <td>0.00</td>\n",
       "    </tr>\n",
       "    <tr>\n",
       "      <th>ORIGIN_CITY_NAME_Phoenix, AZ</th>\n",
       "      <td>0.00</td>\n",
       "      <td>0.00</td>\n",
       "      <td>0.00</td>\n",
       "      <td>0.00</td>\n",
       "      <td>0.00</td>\n",
       "    </tr>\n",
       "    <tr>\n",
       "      <th>ORIGIN_CITY_NAME_Pittsburgh, PA</th>\n",
       "      <td>0.00</td>\n",
       "      <td>1.00</td>\n",
       "      <td>0.00</td>\n",
       "      <td>0.00</td>\n",
       "      <td>0.00</td>\n",
       "    </tr>\n",
       "    <tr>\n",
       "      <th>ORIGIN_CITY_NAME_Ponce, PR</th>\n",
       "      <td>0.00</td>\n",
       "      <td>0.00</td>\n",
       "      <td>0.00</td>\n",
       "      <td>0.00</td>\n",
       "      <td>0.00</td>\n",
       "    </tr>\n",
       "    <tr>\n",
       "      <th>ORIGIN_CITY_NAME_Portland, ME</th>\n",
       "      <td>0.00</td>\n",
       "      <td>0.00</td>\n",
       "      <td>0.00</td>\n",
       "      <td>0.00</td>\n",
       "      <td>0.00</td>\n",
       "    </tr>\n",
       "    <tr>\n",
       "      <th>ORIGIN_CITY_NAME_Portland, OR</th>\n",
       "      <td>0.00</td>\n",
       "      <td>0.00</td>\n",
       "      <td>0.00</td>\n",
       "      <td>0.00</td>\n",
       "      <td>0.00</td>\n",
       "    </tr>\n",
       "    <tr>\n",
       "      <th>ORIGIN_CITY_NAME_Raleigh/Durham, NC</th>\n",
       "      <td>0.00</td>\n",
       "      <td>0.00</td>\n",
       "      <td>0.00</td>\n",
       "      <td>0.00</td>\n",
       "      <td>0.00</td>\n",
       "    </tr>\n",
       "    <tr>\n",
       "      <th>ORIGIN_CITY_NAME_Reno, NV</th>\n",
       "      <td>0.00</td>\n",
       "      <td>0.00</td>\n",
       "      <td>0.00</td>\n",
       "      <td>0.00</td>\n",
       "      <td>0.00</td>\n",
       "    </tr>\n",
       "    <tr>\n",
       "      <th>ORIGIN_CITY_NAME_Richmond, VA</th>\n",
       "      <td>0.00</td>\n",
       "      <td>0.00</td>\n",
       "      <td>0.00</td>\n",
       "      <td>0.00</td>\n",
       "      <td>0.00</td>\n",
       "    </tr>\n",
       "    <tr>\n",
       "      <th>ORIGIN_CITY_NAME_Rochester, NY</th>\n",
       "      <td>0.00</td>\n",
       "      <td>0.00</td>\n",
       "      <td>0.00</td>\n",
       "      <td>0.00</td>\n",
       "      <td>0.00</td>\n",
       "    </tr>\n",
       "    <tr>\n",
       "      <th>ORIGIN_CITY_NAME_Sacramento, CA</th>\n",
       "      <td>0.00</td>\n",
       "      <td>0.00</td>\n",
       "      <td>0.00</td>\n",
       "      <td>0.00</td>\n",
       "      <td>0.00</td>\n",
       "    </tr>\n",
       "    <tr>\n",
       "      <th>ORIGIN_CITY_NAME_Salt Lake City, UT</th>\n",
       "      <td>0.00</td>\n",
       "      <td>0.00</td>\n",
       "      <td>0.00</td>\n",
       "      <td>0.00</td>\n",
       "      <td>0.00</td>\n",
       "    </tr>\n",
       "    <tr>\n",
       "      <th>ORIGIN_CITY_NAME_San Antonio, TX</th>\n",
       "      <td>0.00</td>\n",
       "      <td>0.00</td>\n",
       "      <td>0.00</td>\n",
       "      <td>0.00</td>\n",
       "      <td>0.00</td>\n",
       "    </tr>\n",
       "    <tr>\n",
       "      <th>ORIGIN_CITY_NAME_San Diego, CA</th>\n",
       "      <td>0.00</td>\n",
       "      <td>0.00</td>\n",
       "      <td>0.00</td>\n",
       "      <td>0.00</td>\n",
       "      <td>0.00</td>\n",
       "    </tr>\n",
       "    <tr>\n",
       "      <th>ORIGIN_CITY_NAME_San Francisco, CA</th>\n",
       "      <td>0.00</td>\n",
       "      <td>0.00</td>\n",
       "      <td>0.00</td>\n",
       "      <td>0.00</td>\n",
       "      <td>0.00</td>\n",
       "    </tr>\n",
       "    <tr>\n",
       "      <th>ORIGIN_CITY_NAME_San Jose, CA</th>\n",
       "      <td>0.00</td>\n",
       "      <td>0.00</td>\n",
       "      <td>0.00</td>\n",
       "      <td>0.00</td>\n",
       "      <td>0.00</td>\n",
       "    </tr>\n",
       "    <tr>\n",
       "      <th>ORIGIN_CITY_NAME_San Juan, PR</th>\n",
       "      <td>0.00</td>\n",
       "      <td>0.00</td>\n",
       "      <td>0.00</td>\n",
       "      <td>0.00</td>\n",
       "      <td>0.00</td>\n",
       "    </tr>\n",
       "    <tr>\n",
       "      <th>ORIGIN_CITY_NAME_Santa Ana, CA</th>\n",
       "      <td>0.00</td>\n",
       "      <td>0.00</td>\n",
       "      <td>0.00</td>\n",
       "      <td>0.00</td>\n",
       "      <td>0.00</td>\n",
       "    </tr>\n",
       "    <tr>\n",
       "      <th>ORIGIN_CITY_NAME_Sarasota/Bradenton, FL</th>\n",
       "      <td>0.00</td>\n",
       "      <td>0.00</td>\n",
       "      <td>0.00</td>\n",
       "      <td>0.00</td>\n",
       "      <td>0.00</td>\n",
       "    </tr>\n",
       "    <tr>\n",
       "      <th>ORIGIN_CITY_NAME_Savannah, GA</th>\n",
       "      <td>0.00</td>\n",
       "      <td>0.00</td>\n",
       "      <td>0.00</td>\n",
       "      <td>0.00</td>\n",
       "      <td>0.00</td>\n",
       "    </tr>\n",
       "    <tr>\n",
       "      <th>ORIGIN_CITY_NAME_Seattle, WA</th>\n",
       "      <td>0.00</td>\n",
       "      <td>0.00</td>\n",
       "      <td>0.00</td>\n",
       "      <td>0.00</td>\n",
       "      <td>0.00</td>\n",
       "    </tr>\n",
       "    <tr>\n",
       "      <th>ORIGIN_CITY_NAME_Syracuse, NY</th>\n",
       "      <td>0.00</td>\n",
       "      <td>0.00</td>\n",
       "      <td>0.00</td>\n",
       "      <td>0.00</td>\n",
       "      <td>0.00</td>\n",
       "    </tr>\n",
       "    <tr>\n",
       "      <th>ORIGIN_CITY_NAME_Tampa, FL</th>\n",
       "      <td>0.00</td>\n",
       "      <td>0.00</td>\n",
       "      <td>0.00</td>\n",
       "      <td>0.00</td>\n",
       "      <td>0.00</td>\n",
       "    </tr>\n",
       "    <tr>\n",
       "      <th>ORIGIN_CITY_NAME_Washington, DC</th>\n",
       "      <td>0.00</td>\n",
       "      <td>0.00</td>\n",
       "      <td>0.00</td>\n",
       "      <td>0.00</td>\n",
       "      <td>0.00</td>\n",
       "    </tr>\n",
       "    <tr>\n",
       "      <th>ORIGIN_CITY_NAME_West Palm Beach/Palm Beach, FL</th>\n",
       "      <td>0.00</td>\n",
       "      <td>0.00</td>\n",
       "      <td>0.00</td>\n",
       "      <td>0.00</td>\n",
       "      <td>0.00</td>\n",
       "    </tr>\n",
       "    <tr>\n",
       "      <th>ORIGIN_CITY_NAME_Worcester, MA</th>\n",
       "      <td>0.00</td>\n",
       "      <td>0.00</td>\n",
       "      <td>0.00</td>\n",
       "      <td>0.00</td>\n",
       "      <td>0.00</td>\n",
       "    </tr>\n",
       "    <tr>\n",
       "      <th>ORIGIN_STATE_NM_Arizona</th>\n",
       "      <td>0.00</td>\n",
       "      <td>0.00</td>\n",
       "      <td>0.00</td>\n",
       "      <td>0.00</td>\n",
       "      <td>0.00</td>\n",
       "    </tr>\n",
       "    <tr>\n",
       "      <th>ORIGIN_STATE_NM_California</th>\n",
       "      <td>0.00</td>\n",
       "      <td>0.00</td>\n",
       "      <td>0.00</td>\n",
       "      <td>0.00</td>\n",
       "      <td>0.00</td>\n",
       "    </tr>\n",
       "    <tr>\n",
       "      <th>ORIGIN_STATE_NM_Colorado</th>\n",
       "      <td>0.00</td>\n",
       "      <td>0.00</td>\n",
       "      <td>0.00</td>\n",
       "      <td>0.00</td>\n",
       "      <td>0.00</td>\n",
       "    </tr>\n",
       "    <tr>\n",
       "      <th>ORIGIN_STATE_NM_Florida</th>\n",
       "      <td>0.00</td>\n",
       "      <td>0.00</td>\n",
       "      <td>0.00</td>\n",
       "      <td>0.00</td>\n",
       "      <td>0.00</td>\n",
       "    </tr>\n",
       "    <tr>\n",
       "      <th>ORIGIN_STATE_NM_Georgia</th>\n",
       "      <td>0.00</td>\n",
       "      <td>0.00</td>\n",
       "      <td>0.00</td>\n",
       "      <td>0.00</td>\n",
       "      <td>0.00</td>\n",
       "    </tr>\n",
       "    <tr>\n",
       "      <th>ORIGIN_STATE_NM_Hawaii</th>\n",
       "      <td>0.00</td>\n",
       "      <td>0.00</td>\n",
       "      <td>0.00</td>\n",
       "      <td>0.00</td>\n",
       "      <td>0.00</td>\n",
       "    </tr>\n",
       "    <tr>\n",
       "      <th>ORIGIN_STATE_NM_Illinois</th>\n",
       "      <td>0.00</td>\n",
       "      <td>0.00</td>\n",
       "      <td>0.00</td>\n",
       "      <td>0.00</td>\n",
       "      <td>0.00</td>\n",
       "    </tr>\n",
       "    <tr>\n",
       "      <th>ORIGIN_STATE_NM_Indiana</th>\n",
       "      <td>0.00</td>\n",
       "      <td>0.00</td>\n",
       "      <td>0.00</td>\n",
       "      <td>0.00</td>\n",
       "      <td>0.00</td>\n",
       "    </tr>\n",
       "    <tr>\n",
       "      <th>ORIGIN_STATE_NM_Kentucky</th>\n",
       "      <td>0.00</td>\n",
       "      <td>0.00</td>\n",
       "      <td>0.00</td>\n",
       "      <td>0.00</td>\n",
       "      <td>0.00</td>\n",
       "    </tr>\n",
       "    <tr>\n",
       "      <th>ORIGIN_STATE_NM_Louisiana</th>\n",
       "      <td>0.00</td>\n",
       "      <td>0.00</td>\n",
       "      <td>0.00</td>\n",
       "      <td>0.00</td>\n",
       "      <td>0.00</td>\n",
       "    </tr>\n",
       "    <tr>\n",
       "      <th>ORIGIN_STATE_NM_Maine</th>\n",
       "      <td>0.00</td>\n",
       "      <td>0.00</td>\n",
       "      <td>0.00</td>\n",
       "      <td>0.00</td>\n",
       "      <td>0.00</td>\n",
       "    </tr>\n",
       "    <tr>\n",
       "      <th>ORIGIN_STATE_NM_Maryland</th>\n",
       "      <td>0.00</td>\n",
       "      <td>0.00</td>\n",
       "      <td>0.00</td>\n",
       "      <td>0.00</td>\n",
       "      <td>0.00</td>\n",
       "    </tr>\n",
       "    <tr>\n",
       "      <th>ORIGIN_STATE_NM_Massachusetts</th>\n",
       "      <td>0.00</td>\n",
       "      <td>0.00</td>\n",
       "      <td>1.00</td>\n",
       "      <td>0.00</td>\n",
       "      <td>0.00</td>\n",
       "    </tr>\n",
       "    <tr>\n",
       "      <th>ORIGIN_STATE_NM_Michigan</th>\n",
       "      <td>0.00</td>\n",
       "      <td>0.00</td>\n",
       "      <td>0.00</td>\n",
       "      <td>0.00</td>\n",
       "      <td>0.00</td>\n",
       "    </tr>\n",
       "    <tr>\n",
       "      <th>ORIGIN_STATE_NM_Minnesota</th>\n",
       "      <td>0.00</td>\n",
       "      <td>0.00</td>\n",
       "      <td>0.00</td>\n",
       "      <td>0.00</td>\n",
       "      <td>0.00</td>\n",
       "    </tr>\n",
       "    <tr>\n",
       "      <th>ORIGIN_STATE_NM_Nevada</th>\n",
       "      <td>0.00</td>\n",
       "      <td>0.00</td>\n",
       "      <td>0.00</td>\n",
       "      <td>0.00</td>\n",
       "      <td>0.00</td>\n",
       "    </tr>\n",
       "    <tr>\n",
       "      <th>ORIGIN_STATE_NM_New Mexico</th>\n",
       "      <td>0.00</td>\n",
       "      <td>0.00</td>\n",
       "      <td>0.00</td>\n",
       "      <td>0.00</td>\n",
       "      <td>0.00</td>\n",
       "    </tr>\n",
       "    <tr>\n",
       "      <th>ORIGIN_STATE_NM_New York</th>\n",
       "      <td>0.00</td>\n",
       "      <td>0.00</td>\n",
       "      <td>0.00</td>\n",
       "      <td>0.00</td>\n",
       "      <td>0.00</td>\n",
       "    </tr>\n",
       "    <tr>\n",
       "      <th>ORIGIN_STATE_NM_North Carolina</th>\n",
       "      <td>0.00</td>\n",
       "      <td>0.00</td>\n",
       "      <td>0.00</td>\n",
       "      <td>0.00</td>\n",
       "      <td>0.00</td>\n",
       "    </tr>\n",
       "    <tr>\n",
       "      <th>ORIGIN_STATE_NM_Ohio</th>\n",
       "      <td>0.00</td>\n",
       "      <td>0.00</td>\n",
       "      <td>0.00</td>\n",
       "      <td>0.00</td>\n",
       "      <td>0.00</td>\n",
       "    </tr>\n",
       "    <tr>\n",
       "      <th>ORIGIN_STATE_NM_Oregon</th>\n",
       "      <td>0.00</td>\n",
       "      <td>0.00</td>\n",
       "      <td>0.00</td>\n",
       "      <td>0.00</td>\n",
       "      <td>0.00</td>\n",
       "    </tr>\n",
       "    <tr>\n",
       "      <th>ORIGIN_STATE_NM_Pennsylvania</th>\n",
       "      <td>0.00</td>\n",
       "      <td>1.00</td>\n",
       "      <td>0.00</td>\n",
       "      <td>1.00</td>\n",
       "      <td>0.00</td>\n",
       "    </tr>\n",
       "    <tr>\n",
       "      <th>ORIGIN_STATE_NM_Puerto Rico</th>\n",
       "      <td>0.00</td>\n",
       "      <td>0.00</td>\n",
       "      <td>0.00</td>\n",
       "      <td>0.00</td>\n",
       "      <td>0.00</td>\n",
       "    </tr>\n",
       "    <tr>\n",
       "      <th>ORIGIN_STATE_NM_South Carolina</th>\n",
       "      <td>0.00</td>\n",
       "      <td>0.00</td>\n",
       "      <td>0.00</td>\n",
       "      <td>0.00</td>\n",
       "      <td>1.00</td>\n",
       "    </tr>\n",
       "    <tr>\n",
       "      <th>ORIGIN_STATE_NM_Tennessee</th>\n",
       "      <td>1.00</td>\n",
       "      <td>0.00</td>\n",
       "      <td>0.00</td>\n",
       "      <td>0.00</td>\n",
       "      <td>0.00</td>\n",
       "    </tr>\n",
       "    <tr>\n",
       "      <th>ORIGIN_STATE_NM_Texas</th>\n",
       "      <td>0.00</td>\n",
       "      <td>0.00</td>\n",
       "      <td>0.00</td>\n",
       "      <td>0.00</td>\n",
       "      <td>0.00</td>\n",
       "    </tr>\n",
       "    <tr>\n",
       "      <th>ORIGIN_STATE_NM_U.S. Virgin Islands</th>\n",
       "      <td>0.00</td>\n",
       "      <td>0.00</td>\n",
       "      <td>0.00</td>\n",
       "      <td>0.00</td>\n",
       "      <td>0.00</td>\n",
       "    </tr>\n",
       "    <tr>\n",
       "      <th>ORIGIN_STATE_NM_Utah</th>\n",
       "      <td>0.00</td>\n",
       "      <td>0.00</td>\n",
       "      <td>0.00</td>\n",
       "      <td>0.00</td>\n",
       "      <td>0.00</td>\n",
       "    </tr>\n",
       "    <tr>\n",
       "      <th>ORIGIN_STATE_NM_Vermont</th>\n",
       "      <td>0.00</td>\n",
       "      <td>0.00</td>\n",
       "      <td>0.00</td>\n",
       "      <td>0.00</td>\n",
       "      <td>0.00</td>\n",
       "    </tr>\n",
       "    <tr>\n",
       "      <th>ORIGIN_STATE_NM_Virginia</th>\n",
       "      <td>0.00</td>\n",
       "      <td>0.00</td>\n",
       "      <td>0.00</td>\n",
       "      <td>0.00</td>\n",
       "      <td>0.00</td>\n",
       "    </tr>\n",
       "    <tr>\n",
       "      <th>ORIGIN_STATE_NM_Washington</th>\n",
       "      <td>0.00</td>\n",
       "      <td>0.00</td>\n",
       "      <td>0.00</td>\n",
       "      <td>0.00</td>\n",
       "      <td>0.00</td>\n",
       "    </tr>\n",
       "    <tr>\n",
       "      <th>ORIGIN_STATE_NM_Wyoming</th>\n",
       "      <td>0.00</td>\n",
       "      <td>0.00</td>\n",
       "      <td>0.00</td>\n",
       "      <td>0.00</td>\n",
       "      <td>0.00</td>\n",
       "    </tr>\n",
       "    <tr>\n",
       "      <th>AEROLINEA_19690.0</th>\n",
       "      <td>0.00</td>\n",
       "      <td>0.00</td>\n",
       "      <td>0.00</td>\n",
       "      <td>0.00</td>\n",
       "      <td>0.00</td>\n",
       "    </tr>\n",
       "    <tr>\n",
       "      <th>AEROLINEA_19790.0</th>\n",
       "      <td>0.00</td>\n",
       "      <td>0.00</td>\n",
       "      <td>0.00</td>\n",
       "      <td>0.00</td>\n",
       "      <td>0.00</td>\n",
       "    </tr>\n",
       "    <tr>\n",
       "      <th>AEROLINEA_19805.0</th>\n",
       "      <td>0.00</td>\n",
       "      <td>0.00</td>\n",
       "      <td>0.00</td>\n",
       "      <td>0.00</td>\n",
       "      <td>0.00</td>\n",
       "    </tr>\n",
       "    <tr>\n",
       "      <th>AEROLINEA_19930.0</th>\n",
       "      <td>0.00</td>\n",
       "      <td>0.00</td>\n",
       "      <td>0.00</td>\n",
       "      <td>0.00</td>\n",
       "      <td>0.00</td>\n",
       "    </tr>\n",
       "    <tr>\n",
       "      <th>AEROLINEA_20304.0</th>\n",
       "      <td>0.00</td>\n",
       "      <td>0.00</td>\n",
       "      <td>0.00</td>\n",
       "      <td>0.00</td>\n",
       "      <td>0.00</td>\n",
       "    </tr>\n",
       "    <tr>\n",
       "      <th>AEROLINEA_20363.0</th>\n",
       "      <td>1.00</td>\n",
       "      <td>1.00</td>\n",
       "      <td>1.00</td>\n",
       "      <td>1.00</td>\n",
       "      <td>1.00</td>\n",
       "    </tr>\n",
       "    <tr>\n",
       "      <th>AEROLINEA_20397.0</th>\n",
       "      <td>0.00</td>\n",
       "      <td>0.00</td>\n",
       "      <td>0.00</td>\n",
       "      <td>0.00</td>\n",
       "      <td>0.00</td>\n",
       "    </tr>\n",
       "    <tr>\n",
       "      <th>AEROLINEA_20398.0</th>\n",
       "      <td>0.00</td>\n",
       "      <td>0.00</td>\n",
       "      <td>0.00</td>\n",
       "      <td>0.00</td>\n",
       "      <td>0.00</td>\n",
       "    </tr>\n",
       "    <tr>\n",
       "      <th>AEROLINEA_20409.0</th>\n",
       "      <td>0.00</td>\n",
       "      <td>0.00</td>\n",
       "      <td>0.00</td>\n",
       "      <td>0.00</td>\n",
       "      <td>0.00</td>\n",
       "    </tr>\n",
       "    <tr>\n",
       "      <th>AEROLINEA_20452.0</th>\n",
       "      <td>0.00</td>\n",
       "      <td>0.00</td>\n",
       "      <td>0.00</td>\n",
       "      <td>0.00</td>\n",
       "      <td>0.00</td>\n",
       "    </tr>\n",
       "    <tr>\n",
       "      <th>AEROLINEA_21171.0</th>\n",
       "      <td>0.00</td>\n",
       "      <td>0.00</td>\n",
       "      <td>0.00</td>\n",
       "      <td>0.00</td>\n",
       "      <td>0.00</td>\n",
       "    </tr>\n",
       "    <tr>\n",
       "      <th>AEROLINEA_ZZZ</th>\n",
       "      <td>0.00</td>\n",
       "      <td>0.00</td>\n",
       "      <td>0.00</td>\n",
       "      <td>0.00</td>\n",
       "      <td>0.00</td>\n",
       "    </tr>\n",
       "  </tbody>\n",
       "</table>\n",
       "</div>"
      ],
      "text/plain": [
       "                                                       0        1        2  \\\n",
       "CRS_DEP_TIME                                    1,359.00 1,021.00 1,325.00   \n",
       "TAXI_OUT                                           27.00    11.00    31.00   \n",
       "CRS_ARR_TIME                                    1,719.00 1,158.00 1,454.00   \n",
       "CRS_ELAPSED_TIME                                  140.00    97.00    89.00   \n",
       "DISTANCE                                          765.00   340.00   187.00   \n",
       "Season                                              1.00     1.00     1.00   \n",
       "Year                                            2,018.00 2,018.00 2,018.00   \n",
       "Month                                               2.00     2.00     2.00   \n",
       "Week                                                5.00     5.00     6.00   \n",
       "Weekday                                             3.00     5.00     1.00   \n",
       "Weekend                                             0.00     1.00     0.00   \n",
       "TAIL_NUM_COUNT                                    340.00   340.00   340.00   \n",
       "ORIGIN_ABQ                                          0.00     0.00     0.00   \n",
       "ORIGIN_ACK                                          0.00     0.00     0.00   \n",
       "ORIGIN_ATL                                          0.00     0.00     0.00   \n",
       "ORIGIN_AUS                                          0.00     0.00     0.00   \n",
       "ORIGIN_BGR                                          0.00     0.00     0.00   \n",
       "ORIGIN_BNA                                          1.00     0.00     0.00   \n",
       "ORIGIN_BOS                                          0.00     0.00     1.00   \n",
       "ORIGIN_BQN                                          0.00     0.00     0.00   \n",
       "ORIGIN_BTV                                          0.00     0.00     0.00   \n",
       "ORIGIN_BUF                                          0.00     0.00     0.00   \n",
       "ORIGIN_BUR                                          0.00     0.00     0.00   \n",
       "ORIGIN_BWI                                          0.00     0.00     0.00   \n",
       "ORIGIN_CHS                                          0.00     0.00     0.00   \n",
       "ORIGIN_CLE                                          0.00     0.00     0.00   \n",
       "ORIGIN_CLT                                          0.00     0.00     0.00   \n",
       "ORIGIN_CMH                                          0.00     0.00     0.00   \n",
       "ORIGIN_CVG                                          0.00     0.00     0.00   \n",
       "ORIGIN_DAB                                          0.00     0.00     0.00   \n",
       "ORIGIN_DCA                                          0.00     0.00     0.00   \n",
       "ORIGIN_DEN                                          0.00     0.00     0.00   \n",
       "ORIGIN_DFW                                          0.00     0.00     0.00   \n",
       "ORIGIN_DTW                                          0.00     0.00     0.00   \n",
       "ORIGIN_EGE                                          0.00     0.00     0.00   \n",
       "ORIGIN_FLL                                          0.00     0.00     0.00   \n",
       "ORIGIN_HNL                                          0.00     0.00     0.00   \n",
       "ORIGIN_HOU                                          0.00     0.00     0.00   \n",
       "ORIGIN_HYA                                          0.00     0.00     0.00   \n",
       "ORIGIN_IAD                                          0.00     0.00     0.00   \n",
       "ORIGIN_IAH                                          0.00     0.00     0.00   \n",
       "ORIGIN_IND                                          0.00     0.00     0.00   \n",
       "ORIGIN_JAC                                          0.00     0.00     0.00   \n",
       "ORIGIN_JAX                                          0.00     0.00     0.00   \n",
       "ORIGIN_LAS                                          0.00     0.00     0.00   \n",
       "ORIGIN_LAX                                          0.00     0.00     0.00   \n",
       "ORIGIN_LGB                                          0.00     0.00     0.00   \n",
       "ORIGIN_MCO                                          0.00     0.00     0.00   \n",
       "ORIGIN_MIA                                          0.00     0.00     0.00   \n",
       "ORIGIN_MSP                                          0.00     0.00     0.00   \n",
       "ORIGIN_MSY                                          0.00     0.00     0.00   \n",
       "ORIGIN_MVY                                          0.00     0.00     0.00   \n",
       "ORIGIN_OAK                                          0.00     0.00     0.00   \n",
       "ORIGIN_ONT                                          0.00     0.00     0.00   \n",
       "ORIGIN_ORD                                          0.00     0.00     0.00   \n",
       "ORIGIN_ORF                                          0.00     0.00     0.00   \n",
       "ORIGIN_ORH                                          0.00     0.00     0.00   \n",
       "ORIGIN_PBI                                          0.00     0.00     0.00   \n",
       "ORIGIN_PDX                                          0.00     0.00     0.00   \n",
       "ORIGIN_PHL                                          0.00     0.00     0.00   \n",
       "ORIGIN_PHX                                          0.00     0.00     0.00   \n",
       "ORIGIN_PIT                                          0.00     1.00     0.00   \n",
       "ORIGIN_PSE                                          0.00     0.00     0.00   \n",
       "ORIGIN_PSP                                          0.00     0.00     0.00   \n",
       "ORIGIN_PWM                                          0.00     0.00     0.00   \n",
       "ORIGIN_RDU                                          0.00     0.00     0.00   \n",
       "ORIGIN_RIC                                          0.00     0.00     0.00   \n",
       "ORIGIN_RNO                                          0.00     0.00     0.00   \n",
       "ORIGIN_ROC                                          0.00     0.00     0.00   \n",
       "ORIGIN_RSW                                          0.00     0.00     0.00   \n",
       "ORIGIN_SAN                                          0.00     0.00     0.00   \n",
       "ORIGIN_SAT                                          0.00     0.00     0.00   \n",
       "ORIGIN_SAV                                          0.00     0.00     0.00   \n",
       "ORIGIN_SEA                                          0.00     0.00     0.00   \n",
       "ORIGIN_SFO                                          0.00     0.00     0.00   \n",
       "ORIGIN_SJC                                          0.00     0.00     0.00   \n",
       "ORIGIN_SJU                                          0.00     0.00     0.00   \n",
       "ORIGIN_SLC                                          0.00     0.00     0.00   \n",
       "ORIGIN_SMF                                          0.00     0.00     0.00   \n",
       "ORIGIN_SNA                                          0.00     0.00     0.00   \n",
       "ORIGIN_SRQ                                          0.00     0.00     0.00   \n",
       "ORIGIN_STT                                          0.00     0.00     0.00   \n",
       "ORIGIN_SYR                                          0.00     0.00     0.00   \n",
       "ORIGIN_TPA                                          0.00     0.00     0.00   \n",
       "ORIGIN_CITY_NAME_Aguadilla, PR                      0.00     0.00     0.00   \n",
       "ORIGIN_CITY_NAME_Albuquerque, NM                    0.00     0.00     0.00   \n",
       "ORIGIN_CITY_NAME_Atlanta, GA                        0.00     0.00     0.00   \n",
       "ORIGIN_CITY_NAME_Austin, TX                         0.00     0.00     0.00   \n",
       "ORIGIN_CITY_NAME_Baltimore, MD                      0.00     0.00     0.00   \n",
       "ORIGIN_CITY_NAME_Bangor, ME                         0.00     0.00     0.00   \n",
       "ORIGIN_CITY_NAME_Boston, MA                         0.00     0.00     1.00   \n",
       "ORIGIN_CITY_NAME_Buffalo, NY                        0.00     0.00     0.00   \n",
       "ORIGIN_CITY_NAME_Burbank, CA                        0.00     0.00     0.00   \n",
       "ORIGIN_CITY_NAME_Burlington, VT                     0.00     0.00     0.00   \n",
       "ORIGIN_CITY_NAME_Charleston, SC                     0.00     0.00     0.00   \n",
       "ORIGIN_CITY_NAME_Charlotte Amalie, VI               0.00     0.00     0.00   \n",
       "ORIGIN_CITY_NAME_Charlotte, NC                      0.00     0.00     0.00   \n",
       "ORIGIN_CITY_NAME_Chicago, IL                        0.00     0.00     0.00   \n",
       "ORIGIN_CITY_NAME_Cincinnati, OH                     0.00     0.00     0.00   \n",
       "ORIGIN_CITY_NAME_Cleveland, OH                      0.00     0.00     0.00   \n",
       "ORIGIN_CITY_NAME_Columbus, OH                       0.00     0.00     0.00   \n",
       "ORIGIN_CITY_NAME_Dallas/Fort Worth, TX              0.00     0.00     0.00   \n",
       "ORIGIN_CITY_NAME_Daytona Beach, FL                  0.00     0.00     0.00   \n",
       "ORIGIN_CITY_NAME_Denver, CO                         0.00     0.00     0.00   \n",
       "ORIGIN_CITY_NAME_Detroit, MI                        0.00     0.00     0.00   \n",
       "ORIGIN_CITY_NAME_Eagle, CO                          0.00     0.00     0.00   \n",
       "ORIGIN_CITY_NAME_Fort Lauderdale, FL                0.00     0.00     0.00   \n",
       "ORIGIN_CITY_NAME_Fort Myers, FL                     0.00     0.00     0.00   \n",
       "ORIGIN_CITY_NAME_Honolulu, HI                       0.00     0.00     0.00   \n",
       "ORIGIN_CITY_NAME_Houston, TX                        0.00     0.00     0.00   \n",
       "ORIGIN_CITY_NAME_Hyannis, MA                        0.00     0.00     0.00   \n",
       "ORIGIN_CITY_NAME_Indianapolis, IN                   0.00     0.00     0.00   \n",
       "ORIGIN_CITY_NAME_Jackson, WY                        0.00     0.00     0.00   \n",
       "ORIGIN_CITY_NAME_Jacksonville, FL                   0.00     0.00     0.00   \n",
       "ORIGIN_CITY_NAME_Las Vegas, NV                      0.00     0.00     0.00   \n",
       "ORIGIN_CITY_NAME_Long Beach, CA                     0.00     0.00     0.00   \n",
       "ORIGIN_CITY_NAME_Los Angeles, CA                    0.00     0.00     0.00   \n",
       "ORIGIN_CITY_NAME_Martha's Vineyard, MA              0.00     0.00     0.00   \n",
       "ORIGIN_CITY_NAME_Miami, FL                          0.00     0.00     0.00   \n",
       "ORIGIN_CITY_NAME_Minneapolis, MN                    0.00     0.00     0.00   \n",
       "ORIGIN_CITY_NAME_Nantucket, MA                      0.00     0.00     0.00   \n",
       "ORIGIN_CITY_NAME_Nashville, TN                      1.00     0.00     0.00   \n",
       "ORIGIN_CITY_NAME_New Orleans, LA                    0.00     0.00     0.00   \n",
       "ORIGIN_CITY_NAME_Norfolk, VA                        0.00     0.00     0.00   \n",
       "ORIGIN_CITY_NAME_Oakland, CA                        0.00     0.00     0.00   \n",
       "ORIGIN_CITY_NAME_Ontario, CA                        0.00     0.00     0.00   \n",
       "ORIGIN_CITY_NAME_Orlando, FL                        0.00     0.00     0.00   \n",
       "ORIGIN_CITY_NAME_Palm Springs, CA                   0.00     0.00     0.00   \n",
       "ORIGIN_CITY_NAME_Philadelphia, PA                   0.00     0.00     0.00   \n",
       "ORIGIN_CITY_NAME_Phoenix, AZ                        0.00     0.00     0.00   \n",
       "ORIGIN_CITY_NAME_Pittsburgh, PA                     0.00     1.00     0.00   \n",
       "ORIGIN_CITY_NAME_Ponce, PR                          0.00     0.00     0.00   \n",
       "ORIGIN_CITY_NAME_Portland, ME                       0.00     0.00     0.00   \n",
       "ORIGIN_CITY_NAME_Portland, OR                       0.00     0.00     0.00   \n",
       "ORIGIN_CITY_NAME_Raleigh/Durham, NC                 0.00     0.00     0.00   \n",
       "ORIGIN_CITY_NAME_Reno, NV                           0.00     0.00     0.00   \n",
       "ORIGIN_CITY_NAME_Richmond, VA                       0.00     0.00     0.00   \n",
       "ORIGIN_CITY_NAME_Rochester, NY                      0.00     0.00     0.00   \n",
       "ORIGIN_CITY_NAME_Sacramento, CA                     0.00     0.00     0.00   \n",
       "ORIGIN_CITY_NAME_Salt Lake City, UT                 0.00     0.00     0.00   \n",
       "ORIGIN_CITY_NAME_San Antonio, TX                    0.00     0.00     0.00   \n",
       "ORIGIN_CITY_NAME_San Diego, CA                      0.00     0.00     0.00   \n",
       "ORIGIN_CITY_NAME_San Francisco, CA                  0.00     0.00     0.00   \n",
       "ORIGIN_CITY_NAME_San Jose, CA                       0.00     0.00     0.00   \n",
       "ORIGIN_CITY_NAME_San Juan, PR                       0.00     0.00     0.00   \n",
       "ORIGIN_CITY_NAME_Santa Ana, CA                      0.00     0.00     0.00   \n",
       "ORIGIN_CITY_NAME_Sarasota/Bradenton, FL             0.00     0.00     0.00   \n",
       "ORIGIN_CITY_NAME_Savannah, GA                       0.00     0.00     0.00   \n",
       "ORIGIN_CITY_NAME_Seattle, WA                        0.00     0.00     0.00   \n",
       "ORIGIN_CITY_NAME_Syracuse, NY                       0.00     0.00     0.00   \n",
       "ORIGIN_CITY_NAME_Tampa, FL                          0.00     0.00     0.00   \n",
       "ORIGIN_CITY_NAME_Washington, DC                     0.00     0.00     0.00   \n",
       "ORIGIN_CITY_NAME_West Palm Beach/Palm Beach, FL     0.00     0.00     0.00   \n",
       "ORIGIN_CITY_NAME_Worcester, MA                      0.00     0.00     0.00   \n",
       "ORIGIN_STATE_NM_Arizona                             0.00     0.00     0.00   \n",
       "ORIGIN_STATE_NM_California                          0.00     0.00     0.00   \n",
       "ORIGIN_STATE_NM_Colorado                            0.00     0.00     0.00   \n",
       "ORIGIN_STATE_NM_Florida                             0.00     0.00     0.00   \n",
       "ORIGIN_STATE_NM_Georgia                             0.00     0.00     0.00   \n",
       "ORIGIN_STATE_NM_Hawaii                              0.00     0.00     0.00   \n",
       "ORIGIN_STATE_NM_Illinois                            0.00     0.00     0.00   \n",
       "ORIGIN_STATE_NM_Indiana                             0.00     0.00     0.00   \n",
       "ORIGIN_STATE_NM_Kentucky                            0.00     0.00     0.00   \n",
       "ORIGIN_STATE_NM_Louisiana                           0.00     0.00     0.00   \n",
       "ORIGIN_STATE_NM_Maine                               0.00     0.00     0.00   \n",
       "ORIGIN_STATE_NM_Maryland                            0.00     0.00     0.00   \n",
       "ORIGIN_STATE_NM_Massachusetts                       0.00     0.00     1.00   \n",
       "ORIGIN_STATE_NM_Michigan                            0.00     0.00     0.00   \n",
       "ORIGIN_STATE_NM_Minnesota                           0.00     0.00     0.00   \n",
       "ORIGIN_STATE_NM_Nevada                              0.00     0.00     0.00   \n",
       "ORIGIN_STATE_NM_New Mexico                          0.00     0.00     0.00   \n",
       "ORIGIN_STATE_NM_New York                            0.00     0.00     0.00   \n",
       "ORIGIN_STATE_NM_North Carolina                      0.00     0.00     0.00   \n",
       "ORIGIN_STATE_NM_Ohio                                0.00     0.00     0.00   \n",
       "ORIGIN_STATE_NM_Oregon                              0.00     0.00     0.00   \n",
       "ORIGIN_STATE_NM_Pennsylvania                        0.00     1.00     0.00   \n",
       "ORIGIN_STATE_NM_Puerto Rico                         0.00     0.00     0.00   \n",
       "ORIGIN_STATE_NM_South Carolina                      0.00     0.00     0.00   \n",
       "ORIGIN_STATE_NM_Tennessee                           1.00     0.00     0.00   \n",
       "ORIGIN_STATE_NM_Texas                               0.00     0.00     0.00   \n",
       "ORIGIN_STATE_NM_U.S. Virgin Islands                 0.00     0.00     0.00   \n",
       "ORIGIN_STATE_NM_Utah                                0.00     0.00     0.00   \n",
       "ORIGIN_STATE_NM_Vermont                             0.00     0.00     0.00   \n",
       "ORIGIN_STATE_NM_Virginia                            0.00     0.00     0.00   \n",
       "ORIGIN_STATE_NM_Washington                          0.00     0.00     0.00   \n",
       "ORIGIN_STATE_NM_Wyoming                             0.00     0.00     0.00   \n",
       "AEROLINEA_19690.0                                   0.00     0.00     0.00   \n",
       "AEROLINEA_19790.0                                   0.00     0.00     0.00   \n",
       "AEROLINEA_19805.0                                   0.00     0.00     0.00   \n",
       "AEROLINEA_19930.0                                   0.00     0.00     0.00   \n",
       "AEROLINEA_20304.0                                   0.00     0.00     0.00   \n",
       "AEROLINEA_20363.0                                   1.00     1.00     1.00   \n",
       "AEROLINEA_20397.0                                   0.00     0.00     0.00   \n",
       "AEROLINEA_20398.0                                   0.00     0.00     0.00   \n",
       "AEROLINEA_20409.0                                   0.00     0.00     0.00   \n",
       "AEROLINEA_20452.0                                   0.00     0.00     0.00   \n",
       "AEROLINEA_21171.0                                   0.00     0.00     0.00   \n",
       "AEROLINEA_ZZZ                                       0.00     0.00     0.00   \n",
       "\n",
       "                                                       3        4  \n",
       "CRS_DEP_TIME                                      600.00 1,715.00  \n",
       "TAXI_OUT                                           19.00    11.00  \n",
       "CRS_ARR_TIME                                      711.00 1,930.00  \n",
       "CRS_ELAPSED_TIME                                   71.00   135.00  \n",
       "DISTANCE                                           94.00   636.00  \n",
       "Season                                              1.00     1.00  \n",
       "Year                                            2,018.00 2,018.00  \n",
       "Month                                               2.00     2.00  \n",
       "Week                                                6.00     6.00  \n",
       "Weekday                                             3.00     6.00  \n",
       "Weekend                                             0.00     1.00  \n",
       "TAIL_NUM_COUNT                                    340.00   340.00  \n",
       "ORIGIN_ABQ                                          0.00     0.00  \n",
       "ORIGIN_ACK                                          0.00     0.00  \n",
       "ORIGIN_ATL                                          0.00     0.00  \n",
       "ORIGIN_AUS                                          0.00     0.00  \n",
       "ORIGIN_BGR                                          0.00     0.00  \n",
       "ORIGIN_BNA                                          0.00     0.00  \n",
       "ORIGIN_BOS                                          0.00     0.00  \n",
       "ORIGIN_BQN                                          0.00     0.00  \n",
       "ORIGIN_BTV                                          0.00     0.00  \n",
       "ORIGIN_BUF                                          0.00     0.00  \n",
       "ORIGIN_BUR                                          0.00     0.00  \n",
       "ORIGIN_BWI                                          0.00     0.00  \n",
       "ORIGIN_CHS                                          0.00     1.00  \n",
       "ORIGIN_CLE                                          0.00     0.00  \n",
       "ORIGIN_CLT                                          0.00     0.00  \n",
       "ORIGIN_CMH                                          0.00     0.00  \n",
       "ORIGIN_CVG                                          0.00     0.00  \n",
       "ORIGIN_DAB                                          0.00     0.00  \n",
       "ORIGIN_DCA                                          0.00     0.00  \n",
       "ORIGIN_DEN                                          0.00     0.00  \n",
       "ORIGIN_DFW                                          0.00     0.00  \n",
       "ORIGIN_DTW                                          0.00     0.00  \n",
       "ORIGIN_EGE                                          0.00     0.00  \n",
       "ORIGIN_FLL                                          0.00     0.00  \n",
       "ORIGIN_HNL                                          0.00     0.00  \n",
       "ORIGIN_HOU                                          0.00     0.00  \n",
       "ORIGIN_HYA                                          0.00     0.00  \n",
       "ORIGIN_IAD                                          0.00     0.00  \n",
       "ORIGIN_IAH                                          0.00     0.00  \n",
       "ORIGIN_IND                                          0.00     0.00  \n",
       "ORIGIN_JAC                                          0.00     0.00  \n",
       "ORIGIN_JAX                                          0.00     0.00  \n",
       "ORIGIN_LAS                                          0.00     0.00  \n",
       "ORIGIN_LAX                                          0.00     0.00  \n",
       "ORIGIN_LGB                                          0.00     0.00  \n",
       "ORIGIN_MCO                                          0.00     0.00  \n",
       "ORIGIN_MIA                                          0.00     0.00  \n",
       "ORIGIN_MSP                                          0.00     0.00  \n",
       "ORIGIN_MSY                                          0.00     0.00  \n",
       "ORIGIN_MVY                                          0.00     0.00  \n",
       "ORIGIN_OAK                                          0.00     0.00  \n",
       "ORIGIN_ONT                                          0.00     0.00  \n",
       "ORIGIN_ORD                                          0.00     0.00  \n",
       "ORIGIN_ORF                                          0.00     0.00  \n",
       "ORIGIN_ORH                                          0.00     0.00  \n",
       "ORIGIN_PBI                                          0.00     0.00  \n",
       "ORIGIN_PDX                                          0.00     0.00  \n",
       "ORIGIN_PHL                                          1.00     0.00  \n",
       "ORIGIN_PHX                                          0.00     0.00  \n",
       "ORIGIN_PIT                                          0.00     0.00  \n",
       "ORIGIN_PSE                                          0.00     0.00  \n",
       "ORIGIN_PSP                                          0.00     0.00  \n",
       "ORIGIN_PWM                                          0.00     0.00  \n",
       "ORIGIN_RDU                                          0.00     0.00  \n",
       "ORIGIN_RIC                                          0.00     0.00  \n",
       "ORIGIN_RNO                                          0.00     0.00  \n",
       "ORIGIN_ROC                                          0.00     0.00  \n",
       "ORIGIN_RSW                                          0.00     0.00  \n",
       "ORIGIN_SAN                                          0.00     0.00  \n",
       "ORIGIN_SAT                                          0.00     0.00  \n",
       "ORIGIN_SAV                                          0.00     0.00  \n",
       "ORIGIN_SEA                                          0.00     0.00  \n",
       "ORIGIN_SFO                                          0.00     0.00  \n",
       "ORIGIN_SJC                                          0.00     0.00  \n",
       "ORIGIN_SJU                                          0.00     0.00  \n",
       "ORIGIN_SLC                                          0.00     0.00  \n",
       "ORIGIN_SMF                                          0.00     0.00  \n",
       "ORIGIN_SNA                                          0.00     0.00  \n",
       "ORIGIN_SRQ                                          0.00     0.00  \n",
       "ORIGIN_STT                                          0.00     0.00  \n",
       "ORIGIN_SYR                                          0.00     0.00  \n",
       "ORIGIN_TPA                                          0.00     0.00  \n",
       "ORIGIN_CITY_NAME_Aguadilla, PR                      0.00     0.00  \n",
       "ORIGIN_CITY_NAME_Albuquerque, NM                    0.00     0.00  \n",
       "ORIGIN_CITY_NAME_Atlanta, GA                        0.00     0.00  \n",
       "ORIGIN_CITY_NAME_Austin, TX                         0.00     0.00  \n",
       "ORIGIN_CITY_NAME_Baltimore, MD                      0.00     0.00  \n",
       "ORIGIN_CITY_NAME_Bangor, ME                         0.00     0.00  \n",
       "ORIGIN_CITY_NAME_Boston, MA                         0.00     0.00  \n",
       "ORIGIN_CITY_NAME_Buffalo, NY                        0.00     0.00  \n",
       "ORIGIN_CITY_NAME_Burbank, CA                        0.00     0.00  \n",
       "ORIGIN_CITY_NAME_Burlington, VT                     0.00     0.00  \n",
       "ORIGIN_CITY_NAME_Charleston, SC                     0.00     1.00  \n",
       "ORIGIN_CITY_NAME_Charlotte Amalie, VI               0.00     0.00  \n",
       "ORIGIN_CITY_NAME_Charlotte, NC                      0.00     0.00  \n",
       "ORIGIN_CITY_NAME_Chicago, IL                        0.00     0.00  \n",
       "ORIGIN_CITY_NAME_Cincinnati, OH                     0.00     0.00  \n",
       "ORIGIN_CITY_NAME_Cleveland, OH                      0.00     0.00  \n",
       "ORIGIN_CITY_NAME_Columbus, OH                       0.00     0.00  \n",
       "ORIGIN_CITY_NAME_Dallas/Fort Worth, TX              0.00     0.00  \n",
       "ORIGIN_CITY_NAME_Daytona Beach, FL                  0.00     0.00  \n",
       "ORIGIN_CITY_NAME_Denver, CO                         0.00     0.00  \n",
       "ORIGIN_CITY_NAME_Detroit, MI                        0.00     0.00  \n",
       "ORIGIN_CITY_NAME_Eagle, CO                          0.00     0.00  \n",
       "ORIGIN_CITY_NAME_Fort Lauderdale, FL                0.00     0.00  \n",
       "ORIGIN_CITY_NAME_Fort Myers, FL                     0.00     0.00  \n",
       "ORIGIN_CITY_NAME_Honolulu, HI                       0.00     0.00  \n",
       "ORIGIN_CITY_NAME_Houston, TX                        0.00     0.00  \n",
       "ORIGIN_CITY_NAME_Hyannis, MA                        0.00     0.00  \n",
       "ORIGIN_CITY_NAME_Indianapolis, IN                   0.00     0.00  \n",
       "ORIGIN_CITY_NAME_Jackson, WY                        0.00     0.00  \n",
       "ORIGIN_CITY_NAME_Jacksonville, FL                   0.00     0.00  \n",
       "ORIGIN_CITY_NAME_Las Vegas, NV                      0.00     0.00  \n",
       "ORIGIN_CITY_NAME_Long Beach, CA                     0.00     0.00  \n",
       "ORIGIN_CITY_NAME_Los Angeles, CA                    0.00     0.00  \n",
       "ORIGIN_CITY_NAME_Martha's Vineyard, MA              0.00     0.00  \n",
       "ORIGIN_CITY_NAME_Miami, FL                          0.00     0.00  \n",
       "ORIGIN_CITY_NAME_Minneapolis, MN                    0.00     0.00  \n",
       "ORIGIN_CITY_NAME_Nantucket, MA                      0.00     0.00  \n",
       "ORIGIN_CITY_NAME_Nashville, TN                      0.00     0.00  \n",
       "ORIGIN_CITY_NAME_New Orleans, LA                    0.00     0.00  \n",
       "ORIGIN_CITY_NAME_Norfolk, VA                        0.00     0.00  \n",
       "ORIGIN_CITY_NAME_Oakland, CA                        0.00     0.00  \n",
       "ORIGIN_CITY_NAME_Ontario, CA                        0.00     0.00  \n",
       "ORIGIN_CITY_NAME_Orlando, FL                        0.00     0.00  \n",
       "ORIGIN_CITY_NAME_Palm Springs, CA                   0.00     0.00  \n",
       "ORIGIN_CITY_NAME_Philadelphia, PA                   1.00     0.00  \n",
       "ORIGIN_CITY_NAME_Phoenix, AZ                        0.00     0.00  \n",
       "ORIGIN_CITY_NAME_Pittsburgh, PA                     0.00     0.00  \n",
       "ORIGIN_CITY_NAME_Ponce, PR                          0.00     0.00  \n",
       "ORIGIN_CITY_NAME_Portland, ME                       0.00     0.00  \n",
       "ORIGIN_CITY_NAME_Portland, OR                       0.00     0.00  \n",
       "ORIGIN_CITY_NAME_Raleigh/Durham, NC                 0.00     0.00  \n",
       "ORIGIN_CITY_NAME_Reno, NV                           0.00     0.00  \n",
       "ORIGIN_CITY_NAME_Richmond, VA                       0.00     0.00  \n",
       "ORIGIN_CITY_NAME_Rochester, NY                      0.00     0.00  \n",
       "ORIGIN_CITY_NAME_Sacramento, CA                     0.00     0.00  \n",
       "ORIGIN_CITY_NAME_Salt Lake City, UT                 0.00     0.00  \n",
       "ORIGIN_CITY_NAME_San Antonio, TX                    0.00     0.00  \n",
       "ORIGIN_CITY_NAME_San Diego, CA                      0.00     0.00  \n",
       "ORIGIN_CITY_NAME_San Francisco, CA                  0.00     0.00  \n",
       "ORIGIN_CITY_NAME_San Jose, CA                       0.00     0.00  \n",
       "ORIGIN_CITY_NAME_San Juan, PR                       0.00     0.00  \n",
       "ORIGIN_CITY_NAME_Santa Ana, CA                      0.00     0.00  \n",
       "ORIGIN_CITY_NAME_Sarasota/Bradenton, FL             0.00     0.00  \n",
       "ORIGIN_CITY_NAME_Savannah, GA                       0.00     0.00  \n",
       "ORIGIN_CITY_NAME_Seattle, WA                        0.00     0.00  \n",
       "ORIGIN_CITY_NAME_Syracuse, NY                       0.00     0.00  \n",
       "ORIGIN_CITY_NAME_Tampa, FL                          0.00     0.00  \n",
       "ORIGIN_CITY_NAME_Washington, DC                     0.00     0.00  \n",
       "ORIGIN_CITY_NAME_West Palm Beach/Palm Beach, FL     0.00     0.00  \n",
       "ORIGIN_CITY_NAME_Worcester, MA                      0.00     0.00  \n",
       "ORIGIN_STATE_NM_Arizona                             0.00     0.00  \n",
       "ORIGIN_STATE_NM_California                          0.00     0.00  \n",
       "ORIGIN_STATE_NM_Colorado                            0.00     0.00  \n",
       "ORIGIN_STATE_NM_Florida                             0.00     0.00  \n",
       "ORIGIN_STATE_NM_Georgia                             0.00     0.00  \n",
       "ORIGIN_STATE_NM_Hawaii                              0.00     0.00  \n",
       "ORIGIN_STATE_NM_Illinois                            0.00     0.00  \n",
       "ORIGIN_STATE_NM_Indiana                             0.00     0.00  \n",
       "ORIGIN_STATE_NM_Kentucky                            0.00     0.00  \n",
       "ORIGIN_STATE_NM_Louisiana                           0.00     0.00  \n",
       "ORIGIN_STATE_NM_Maine                               0.00     0.00  \n",
       "ORIGIN_STATE_NM_Maryland                            0.00     0.00  \n",
       "ORIGIN_STATE_NM_Massachusetts                       0.00     0.00  \n",
       "ORIGIN_STATE_NM_Michigan                            0.00     0.00  \n",
       "ORIGIN_STATE_NM_Minnesota                           0.00     0.00  \n",
       "ORIGIN_STATE_NM_Nevada                              0.00     0.00  \n",
       "ORIGIN_STATE_NM_New Mexico                          0.00     0.00  \n",
       "ORIGIN_STATE_NM_New York                            0.00     0.00  \n",
       "ORIGIN_STATE_NM_North Carolina                      0.00     0.00  \n",
       "ORIGIN_STATE_NM_Ohio                                0.00     0.00  \n",
       "ORIGIN_STATE_NM_Oregon                              0.00     0.00  \n",
       "ORIGIN_STATE_NM_Pennsylvania                        1.00     0.00  \n",
       "ORIGIN_STATE_NM_Puerto Rico                         0.00     0.00  \n",
       "ORIGIN_STATE_NM_South Carolina                      0.00     1.00  \n",
       "ORIGIN_STATE_NM_Tennessee                           0.00     0.00  \n",
       "ORIGIN_STATE_NM_Texas                               0.00     0.00  \n",
       "ORIGIN_STATE_NM_U.S. Virgin Islands                 0.00     0.00  \n",
       "ORIGIN_STATE_NM_Utah                                0.00     0.00  \n",
       "ORIGIN_STATE_NM_Vermont                             0.00     0.00  \n",
       "ORIGIN_STATE_NM_Virginia                            0.00     0.00  \n",
       "ORIGIN_STATE_NM_Washington                          0.00     0.00  \n",
       "ORIGIN_STATE_NM_Wyoming                             0.00     0.00  \n",
       "AEROLINEA_19690.0                                   0.00     0.00  \n",
       "AEROLINEA_19790.0                                   0.00     0.00  \n",
       "AEROLINEA_19805.0                                   0.00     0.00  \n",
       "AEROLINEA_19930.0                                   0.00     0.00  \n",
       "AEROLINEA_20304.0                                   0.00     0.00  \n",
       "AEROLINEA_20363.0                                   1.00     1.00  \n",
       "AEROLINEA_20397.0                                   0.00     0.00  \n",
       "AEROLINEA_20398.0                                   0.00     0.00  \n",
       "AEROLINEA_20409.0                                   0.00     0.00  \n",
       "AEROLINEA_20452.0                                   0.00     0.00  \n",
       "AEROLINEA_21171.0                                   0.00     0.00  \n",
       "AEROLINEA_ZZZ                                       0.00     0.00  "
      ]
     },
     "execution_count": 119,
     "metadata": {},
     "output_type": "execute_result"
    }
   ],
   "source": [
    "dev_df_X.head().T"
   ]
  },
  {
   "cell_type": "code",
   "execution_count": 120,
   "metadata": {
    "ExecuteTime": {
     "end_time": "2021-09-19T02:48:55.143795Z",
     "start_time": "2021-09-19T02:48:55.138855Z"
    },
    "colab": {
     "base_uri": "https://localhost:8080/",
     "height": 80
    },
    "id": "gnQEoD1fvWdt",
    "outputId": "aa736cd0-1f5b-462d-9353-ab0aee6b0a9f"
   },
   "outputs": [
    {
     "data": {
      "text/html": [
       "<div>\n",
       "<style scoped>\n",
       "    .dataframe tbody tr th:only-of-type {\n",
       "        vertical-align: middle;\n",
       "    }\n",
       "\n",
       "    .dataframe tbody tr th {\n",
       "        vertical-align: top;\n",
       "    }\n",
       "\n",
       "    .dataframe thead th {\n",
       "        text-align: right;\n",
       "    }\n",
       "</style>\n",
       "<table border=\"1\" class=\"dataframe\">\n",
       "  <thead>\n",
       "    <tr style=\"text-align: right;\">\n",
       "      <th></th>\n",
       "      <th>0</th>\n",
       "      <th>1</th>\n",
       "      <th>2</th>\n",
       "      <th>3</th>\n",
       "      <th>4</th>\n",
       "    </tr>\n",
       "  </thead>\n",
       "  <tbody>\n",
       "    <tr>\n",
       "      <th>ARR_DEL15</th>\n",
       "      <td>0.00</td>\n",
       "      <td>0.00</td>\n",
       "      <td>0.00</td>\n",
       "      <td>0.00</td>\n",
       "      <td>1.00</td>\n",
       "    </tr>\n",
       "  </tbody>\n",
       "</table>\n",
       "</div>"
      ],
      "text/plain": [
       "             0    1    2    3    4\n",
       "ARR_DEL15 0.00 0.00 0.00 0.00 1.00"
      ]
     },
     "execution_count": 120,
     "metadata": {},
     "output_type": "execute_result"
    }
   ],
   "source": [
    "dev_df_y.head().T"
   ]
  },
  {
   "cell_type": "markdown",
   "metadata": {
    "id": "EHtyYiAPvWdt"
   },
   "source": [
    "#### Random Holdout"
   ]
  },
  {
   "cell_type": "code",
   "execution_count": 121,
   "metadata": {
    "ExecuteTime": {
     "end_time": "2021-09-19T02:48:55.310261Z",
     "start_time": "2021-09-19T02:48:55.144761Z"
    },
    "id": "CD47K0qFvWdt"
   },
   "outputs": [],
   "source": [
    "X_train, X_test, y_train, y_test = model_selection.train_test_split(\n",
    "                                        dev_df_X, # X \n",
    "                                        dev_df_y, # y\n",
    "                                        test_size = 0.30, # tamaño del split aleatorio \n",
    "                                        random_state = 42\n",
    "                                     )"
   ]
  },
  {
   "cell_type": "code",
   "execution_count": 122,
   "metadata": {
    "ExecuteTime": {
     "end_time": "2021-09-19T02:48:55.319870Z",
     "start_time": "2021-09-19T02:48:55.311124Z"
    },
    "colab": {
     "base_uri": "https://localhost:8080/"
    },
    "id": "P2G001B5vWdt",
    "outputId": "0fc56acc-e951-43cc-ab9a-cd8fa64f5d0b"
   },
   "outputs": [
    {
     "name": "stdout",
     "output_type": "stream",
     "text": [
      "<class 'pandas.core.frame.DataFrame'>\n",
      "Int64Index: 131488 entries, 207503 to 156518\n",
      "Columns: 198 entries, CRS_DEP_TIME to AEROLINEA_ZZZ\n",
      "dtypes: float64(3), int64(9), uint8(186)\n",
      "memory usage: 36.4 MB\n"
     ]
    }
   ],
   "source": [
    "X_train.info(verbose=False)"
   ]
  },
  {
   "cell_type": "code",
   "execution_count": 123,
   "metadata": {
    "ExecuteTime": {
     "end_time": "2021-09-19T02:48:55.330014Z",
     "start_time": "2021-09-19T02:48:55.320733Z"
    },
    "colab": {
     "base_uri": "https://localhost:8080/"
    },
    "id": "-Q-Y5DyhvWdu",
    "outputId": "d5735dc3-baa9-4a8b-8536-0c7d75e34024"
   },
   "outputs": [
    {
     "name": "stdout",
     "output_type": "stream",
     "text": [
      "<class 'pandas.core.frame.DataFrame'>\n",
      "Int64Index: 56353 entries, 91964 to 105925\n",
      "Columns: 198 entries, CRS_DEP_TIME to AEROLINEA_ZZZ\n",
      "dtypes: float64(3), int64(9), uint8(186)\n",
      "memory usage: 15.6 MB\n"
     ]
    }
   ],
   "source": [
    "X_test.info(verbose=False)"
   ]
  },
  {
   "cell_type": "code",
   "execution_count": 124,
   "metadata": {
    "ExecuteTime": {
     "end_time": "2021-09-19T02:48:55.688690Z",
     "start_time": "2021-09-19T02:48:55.330879Z"
    },
    "colab": {
     "base_uri": "https://localhost:8080/",
     "height": 204
    },
    "id": "Pa0M4-ZKvWdu",
    "outputId": "f95ce72a-eb3d-488f-fd93-f2f56318a61c"
   },
   "outputs": [
    {
     "data": {
      "text/html": [
       "<div>\n",
       "<style scoped>\n",
       "    .dataframe tbody tr th:only-of-type {\n",
       "        vertical-align: middle;\n",
       "    }\n",
       "\n",
       "    .dataframe tbody tr th {\n",
       "        vertical-align: top;\n",
       "    }\n",
       "\n",
       "    .dataframe thead th {\n",
       "        text-align: right;\n",
       "    }\n",
       "</style>\n",
       "<table border=\"1\" class=\"dataframe\">\n",
       "  <thead>\n",
       "    <tr style=\"text-align: right;\">\n",
       "      <th></th>\n",
       "      <th>count</th>\n",
       "      <th>mean</th>\n",
       "      <th>std</th>\n",
       "      <th>min</th>\n",
       "      <th>25%</th>\n",
       "      <th>50%</th>\n",
       "      <th>75%</th>\n",
       "      <th>max</th>\n",
       "    </tr>\n",
       "  </thead>\n",
       "  <tbody>\n",
       "    <tr>\n",
       "      <th>CRS_DEP_TIME</th>\n",
       "      <td>131,488.00</td>\n",
       "      <td>1,337.92</td>\n",
       "      <td>526.82</td>\n",
       "      <td>4.00</td>\n",
       "      <td>917.00</td>\n",
       "      <td>1,300.00</td>\n",
       "      <td>1,745.00</td>\n",
       "      <td>2,359.00</td>\n",
       "    </tr>\n",
       "    <tr>\n",
       "      <th>TAXI_OUT</th>\n",
       "      <td>131,488.00</td>\n",
       "      <td>-7,089.16</td>\n",
       "      <td>25,697.67</td>\n",
       "      <td>-99,999.00</td>\n",
       "      <td>12.00</td>\n",
       "      <td>15.00</td>\n",
       "      <td>21.00</td>\n",
       "      <td>166.00</td>\n",
       "    </tr>\n",
       "    <tr>\n",
       "      <th>CRS_ARR_TIME</th>\n",
       "      <td>131,488.00</td>\n",
       "      <td>1,418.96</td>\n",
       "      <td>579.74</td>\n",
       "      <td>1.00</td>\n",
       "      <td>939.00</td>\n",
       "      <td>1,457.00</td>\n",
       "      <td>1,910.00</td>\n",
       "      <td>2,400.00</td>\n",
       "    </tr>\n",
       "    <tr>\n",
       "      <th>CRS_ELAPSED_TIME</th>\n",
       "      <td>131,488.00</td>\n",
       "      <td>195.14</td>\n",
       "      <td>97.35</td>\n",
       "      <td>47.00</td>\n",
       "      <td>108.00</td>\n",
       "      <td>167.00</td>\n",
       "      <td>306.00</td>\n",
       "      <td>595.00</td>\n",
       "    </tr>\n",
       "    <tr>\n",
       "      <th>DISTANCE</th>\n",
       "      <td>131,488.00</td>\n",
       "      <td>1,254.49</td>\n",
       "      <td>897.90</td>\n",
       "      <td>94.00</td>\n",
       "      <td>427.00</td>\n",
       "      <td>1,028.00</td>\n",
       "      <td>2,248.00</td>\n",
       "      <td>4,983.00</td>\n",
       "    </tr>\n",
       "  </tbody>\n",
       "</table>\n",
       "</div>"
      ],
      "text/plain": [
       "                      count      mean       std        min    25%      50%  \\\n",
       "CRS_DEP_TIME     131,488.00  1,337.92    526.82       4.00 917.00 1,300.00   \n",
       "TAXI_OUT         131,488.00 -7,089.16 25,697.67 -99,999.00  12.00    15.00   \n",
       "CRS_ARR_TIME     131,488.00  1,418.96    579.74       1.00 939.00 1,457.00   \n",
       "CRS_ELAPSED_TIME 131,488.00    195.14     97.35      47.00 108.00   167.00   \n",
       "DISTANCE         131,488.00  1,254.49    897.90      94.00 427.00 1,028.00   \n",
       "\n",
       "                      75%      max  \n",
       "CRS_DEP_TIME     1,745.00 2,359.00  \n",
       "TAXI_OUT            21.00   166.00  \n",
       "CRS_ARR_TIME     1,910.00 2,400.00  \n",
       "CRS_ELAPSED_TIME   306.00   595.00  \n",
       "DISTANCE         2,248.00 4,983.00  "
      ]
     },
     "execution_count": 124,
     "metadata": {},
     "output_type": "execute_result"
    }
   ],
   "source": [
    "X_train.describe().T.head()"
   ]
  },
  {
   "cell_type": "code",
   "execution_count": 125,
   "metadata": {
    "ExecuteTime": {
     "end_time": "2021-09-19T02:48:55.944805Z",
     "start_time": "2021-09-19T02:48:55.689711Z"
    },
    "colab": {
     "base_uri": "https://localhost:8080/",
     "height": 204
    },
    "id": "YiNUF8TlvWdu",
    "outputId": "5ebda434-6882-4ae2-f8d9-d13166b4c4f8"
   },
   "outputs": [
    {
     "data": {
      "text/html": [
       "<div>\n",
       "<style scoped>\n",
       "    .dataframe tbody tr th:only-of-type {\n",
       "        vertical-align: middle;\n",
       "    }\n",
       "\n",
       "    .dataframe tbody tr th {\n",
       "        vertical-align: top;\n",
       "    }\n",
       "\n",
       "    .dataframe thead th {\n",
       "        text-align: right;\n",
       "    }\n",
       "</style>\n",
       "<table border=\"1\" class=\"dataframe\">\n",
       "  <thead>\n",
       "    <tr style=\"text-align: right;\">\n",
       "      <th></th>\n",
       "      <th>count</th>\n",
       "      <th>mean</th>\n",
       "      <th>std</th>\n",
       "      <th>min</th>\n",
       "      <th>25%</th>\n",
       "      <th>50%</th>\n",
       "      <th>75%</th>\n",
       "      <th>max</th>\n",
       "    </tr>\n",
       "  </thead>\n",
       "  <tbody>\n",
       "    <tr>\n",
       "      <th>CRS_DEP_TIME</th>\n",
       "      <td>56,353.00</td>\n",
       "      <td>1,335.12</td>\n",
       "      <td>525.68</td>\n",
       "      <td>3.00</td>\n",
       "      <td>915.00</td>\n",
       "      <td>1,300.00</td>\n",
       "      <td>1,740.00</td>\n",
       "      <td>2,359.00</td>\n",
       "    </tr>\n",
       "    <tr>\n",
       "      <th>TAXI_OUT</th>\n",
       "      <td>56,353.00</td>\n",
       "      <td>-6,912.31</td>\n",
       "      <td>25,400.22</td>\n",
       "      <td>-99,999.00</td>\n",
       "      <td>12.00</td>\n",
       "      <td>15.00</td>\n",
       "      <td>21.00</td>\n",
       "      <td>154.00</td>\n",
       "    </tr>\n",
       "    <tr>\n",
       "      <th>CRS_ARR_TIME</th>\n",
       "      <td>56,353.00</td>\n",
       "      <td>1,419.65</td>\n",
       "      <td>580.85</td>\n",
       "      <td>1.00</td>\n",
       "      <td>944.00</td>\n",
       "      <td>1,457.00</td>\n",
       "      <td>1,912.00</td>\n",
       "      <td>2,400.00</td>\n",
       "    </tr>\n",
       "    <tr>\n",
       "      <th>CRS_ELAPSED_TIME</th>\n",
       "      <td>56,353.00</td>\n",
       "      <td>195.47</td>\n",
       "      <td>97.49</td>\n",
       "      <td>47.00</td>\n",
       "      <td>108.00</td>\n",
       "      <td>167.00</td>\n",
       "      <td>306.00</td>\n",
       "      <td>595.00</td>\n",
       "    </tr>\n",
       "    <tr>\n",
       "      <th>DISTANCE</th>\n",
       "      <td>56,353.00</td>\n",
       "      <td>1,257.73</td>\n",
       "      <td>900.17</td>\n",
       "      <td>94.00</td>\n",
       "      <td>427.00</td>\n",
       "      <td>1,028.00</td>\n",
       "      <td>2,248.00</td>\n",
       "      <td>4,983.00</td>\n",
       "    </tr>\n",
       "  </tbody>\n",
       "</table>\n",
       "</div>"
      ],
      "text/plain": [
       "                     count      mean       std        min    25%      50%  \\\n",
       "CRS_DEP_TIME     56,353.00  1,335.12    525.68       3.00 915.00 1,300.00   \n",
       "TAXI_OUT         56,353.00 -6,912.31 25,400.22 -99,999.00  12.00    15.00   \n",
       "CRS_ARR_TIME     56,353.00  1,419.65    580.85       1.00 944.00 1,457.00   \n",
       "CRS_ELAPSED_TIME 56,353.00    195.47     97.49      47.00 108.00   167.00   \n",
       "DISTANCE         56,353.00  1,257.73    900.17      94.00 427.00 1,028.00   \n",
       "\n",
       "                      75%      max  \n",
       "CRS_DEP_TIME     1,740.00 2,359.00  \n",
       "TAXI_OUT            21.00   154.00  \n",
       "CRS_ARR_TIME     1,912.00 2,400.00  \n",
       "CRS_ELAPSED_TIME   306.00   595.00  \n",
       "DISTANCE         2,248.00 4,983.00  "
      ]
     },
     "execution_count": 125,
     "metadata": {},
     "output_type": "execute_result"
    }
   ],
   "source": [
    "X_test.describe().T.head()"
   ]
  },
  {
   "cell_type": "code",
   "execution_count": 126,
   "metadata": {
    "ExecuteTime": {
     "end_time": "2021-09-19T02:48:55.955694Z",
     "start_time": "2021-09-19T02:48:55.945821Z"
    },
    "colab": {
     "base_uri": "https://localhost:8080/",
     "height": 80
    },
    "id": "ZY84MfnlvWdu",
    "outputId": "0f95bc88-1837-4901-aa36-f7567a90fe47"
   },
   "outputs": [
    {
     "data": {
      "text/html": [
       "<div>\n",
       "<style scoped>\n",
       "    .dataframe tbody tr th:only-of-type {\n",
       "        vertical-align: middle;\n",
       "    }\n",
       "\n",
       "    .dataframe tbody tr th {\n",
       "        vertical-align: top;\n",
       "    }\n",
       "\n",
       "    .dataframe thead th {\n",
       "        text-align: right;\n",
       "    }\n",
       "</style>\n",
       "<table border=\"1\" class=\"dataframe\">\n",
       "  <thead>\n",
       "    <tr style=\"text-align: right;\">\n",
       "      <th></th>\n",
       "      <th>count</th>\n",
       "      <th>mean</th>\n",
       "      <th>std</th>\n",
       "      <th>min</th>\n",
       "      <th>25%</th>\n",
       "      <th>50%</th>\n",
       "      <th>75%</th>\n",
       "      <th>max</th>\n",
       "    </tr>\n",
       "  </thead>\n",
       "  <tbody>\n",
       "    <tr>\n",
       "      <th>ARR_DEL15</th>\n",
       "      <td>131,488.00</td>\n",
       "      <td>0.21</td>\n",
       "      <td>0.41</td>\n",
       "      <td>0.00</td>\n",
       "      <td>0.00</td>\n",
       "      <td>0.00</td>\n",
       "      <td>0.00</td>\n",
       "      <td>1.00</td>\n",
       "    </tr>\n",
       "  </tbody>\n",
       "</table>\n",
       "</div>"
      ],
      "text/plain": [
       "               count  mean  std  min  25%  50%  75%  max\n",
       "ARR_DEL15 131,488.00  0.21 0.41 0.00 0.00 0.00 0.00 1.00"
      ]
     },
     "execution_count": 126,
     "metadata": {},
     "output_type": "execute_result"
    }
   ],
   "source": [
    "y_train.describe().T.head()"
   ]
  },
  {
   "cell_type": "code",
   "execution_count": 127,
   "metadata": {
    "ExecuteTime": {
     "end_time": "2021-09-19T02:48:55.965923Z",
     "start_time": "2021-09-19T02:48:55.956636Z"
    },
    "colab": {
     "base_uri": "https://localhost:8080/",
     "height": 80
    },
    "id": "UNp48QrPvWdv",
    "outputId": "63d152fa-8fd2-4eec-9bad-b2573aaedede"
   },
   "outputs": [
    {
     "data": {
      "text/html": [
       "<div>\n",
       "<style scoped>\n",
       "    .dataframe tbody tr th:only-of-type {\n",
       "        vertical-align: middle;\n",
       "    }\n",
       "\n",
       "    .dataframe tbody tr th {\n",
       "        vertical-align: top;\n",
       "    }\n",
       "\n",
       "    .dataframe thead th {\n",
       "        text-align: right;\n",
       "    }\n",
       "</style>\n",
       "<table border=\"1\" class=\"dataframe\">\n",
       "  <thead>\n",
       "    <tr style=\"text-align: right;\">\n",
       "      <th></th>\n",
       "      <th>count</th>\n",
       "      <th>mean</th>\n",
       "      <th>std</th>\n",
       "      <th>min</th>\n",
       "      <th>25%</th>\n",
       "      <th>50%</th>\n",
       "      <th>75%</th>\n",
       "      <th>max</th>\n",
       "    </tr>\n",
       "  </thead>\n",
       "  <tbody>\n",
       "    <tr>\n",
       "      <th>ARR_DEL15</th>\n",
       "      <td>56,353.00</td>\n",
       "      <td>0.21</td>\n",
       "      <td>0.41</td>\n",
       "      <td>0.00</td>\n",
       "      <td>0.00</td>\n",
       "      <td>0.00</td>\n",
       "      <td>0.00</td>\n",
       "      <td>1.00</td>\n",
       "    </tr>\n",
       "  </tbody>\n",
       "</table>\n",
       "</div>"
      ],
      "text/plain": [
       "              count  mean  std  min  25%  50%  75%  max\n",
       "ARR_DEL15 56,353.00  0.21 0.41 0.00 0.00 0.00 0.00 1.00"
      ]
     },
     "execution_count": 127,
     "metadata": {},
     "output_type": "execute_result"
    }
   ],
   "source": [
    "y_test.describe().T.head()"
   ]
  },
  {
   "cell_type": "markdown",
   "metadata": {
    "id": "VkOiVAfMvWdv"
   },
   "source": [
    "### MLC4.2: Model definition"
   ]
  },
  {
   "cell_type": "markdown",
   "metadata": {
    "id": "AdvhPAXxvWdv"
   },
   "source": [
    "En primer lugar, será necesario importar los scikits de modelización"
   ]
  },
  {
   "cell_type": "markdown",
   "metadata": {
    "id": "-Ood3FAavWdv"
   },
   "source": [
    "#### Import scikits"
   ]
  },
  {
   "cell_type": "code",
   "execution_count": 128,
   "metadata": {
    "ExecuteTime": {
     "end_time": "2021-09-19T02:50:48.202740Z",
     "start_time": "2021-09-19T02:48:55.966750Z"
    },
    "colab": {
     "base_uri": "https://localhost:8080/"
    },
    "id": "lyBK3_qZvWdw",
    "outputId": "b1fe3e93-82df-4344-d084-8b3ab72a9262"
   },
   "outputs": [
    {
     "name": "stdout",
     "output_type": "stream",
     "text": [
      "Collecting package metadata (current_repodata.json): done\n",
      "Solving environment: failed with initial frozen solve. Retrying with flexible solve.\n",
      "Solving environment: failed with repodata from current_repodata.json, will retry with next repodata source.\n",
      "Collecting package metadata (repodata.json): done\n",
      "Solving environment: / ^C\n",
      "failed with initial frozen solve. Retrying with flexible solve.\n",
      "\n",
      "CondaError: KeyboardInterrupt\n",
      "\n"
     ]
    }
   ],
   "source": [
    "!conda install python-graphviz -y"
   ]
  },
  {
   "cell_type": "markdown",
   "metadata": {
    "id": "4CcCSoVsvWdw"
   },
   "source": [
    "Para visualizar árboles, es importante tener instalado la librería graphviz"
   ]
  },
  {
   "cell_type": "markdown",
   "metadata": {
    "collapsed": true,
    "id": "KUEY5zOUvWdw"
   },
   "source": [
    "!conda install graphviz -y"
   ]
  },
  {
   "cell_type": "code",
   "execution_count": 129,
   "metadata": {
    "ExecuteTime": {
     "end_time": "2021-09-19T02:50:51.494256Z",
     "start_time": "2021-09-19T02:50:48.207281Z"
    },
    "colab": {
     "base_uri": "https://localhost:8080/"
    },
    "id": "-aqXp5YbvWdw",
    "outputId": "b4725690-024f-4f27-feca-57182a9e903c"
   },
   "outputs": [
    {
     "name": "stdout",
     "output_type": "stream",
     "text": [
      "Collecting package metadata (current_repodata.json): - ^C\n",
      "| "
     ]
    }
   ],
   "source": [
    "!conda install pydot -y"
   ]
  },
  {
   "cell_type": "code",
   "execution_count": 134,
   "metadata": {
    "ExecuteTime": {
     "end_time": "2021-09-19T02:50:54.929799Z",
     "start_time": "2021-09-19T02:50:54.923899Z"
    },
    "id": "cZVaHZlvvWdw"
   },
   "outputs": [],
   "source": [
    "from sklearn.tree import DecisionTreeClassifier\n",
    "from sklearn.tree import export_graphviz\n",
    "import graphviz"
   ]
  },
  {
   "cell_type": "code",
   "execution_count": 131,
   "metadata": {
    "ExecuteTime": {
     "end_time": "2021-09-19T02:50:51.605605Z",
     "start_time": "2021-09-19T02:50:51.600065Z"
    },
    "id": "DRTa1fYyvWdx"
   },
   "outputs": [],
   "source": [
    "DecisionTreeClassifier?"
   ]
  },
  {
   "cell_type": "markdown",
   "metadata": {
    "id": "SNxEkQVVvWdx"
   },
   "source": [
    "A continuación, y para entrenar el modelo utilizaremos siempre el mismo procedimiento\n",
    "- Instanciar el modelo (definir los parámetros)\n",
    "- Realizar el entrenamiento (inducción de las reglas concretas a partir de los datos)\n",
    "- Predecir (calcular la probabilidad de retraso sobre un dataset nuevo, test, que nos permita medir la bonanza del modelo)"
   ]
  },
  {
   "cell_type": "code",
   "execution_count": 135,
   "metadata": {
    "ExecuteTime": {
     "end_time": "2021-09-19T02:50:58.399263Z",
     "start_time": "2021-09-19T02:50:58.390500Z"
    },
    "id": "FO0rivm5vWdx"
   },
   "outputs": [],
   "source": [
    "dt = DecisionTreeClassifier(\n",
    "                        # criterion='gini',\n",
    "                        # splitter='best',\n",
    "                        max_depth=4, # Importante, regulará el sobreajuste\n",
    "                        # min_samples_split=2,\n",
    "                        # min_samples_leaf=1,\n",
    "                        # min_weight_fraction_leaf=0.0,\n",
    "                        # max_features=None,\n",
    "                        random_state=42,\n",
    "                        # max_leaf_nodes=None,\n",
    "                        # min_impurity_decrease=0.0,\n",
    "                        # min_impurity_split=None,\n",
    "                        # class_weight=None,\n",
    "                        # presort=False,  \n",
    "                )"
   ]
  },
  {
   "cell_type": "code",
   "execution_count": null,
   "metadata": {},
   "outputs": [],
   "source": []
  },
  {
   "cell_type": "code",
   "execution_count": 136,
   "metadata": {
    "ExecuteTime": {
     "end_time": "2021-09-19T02:51:10.318835Z",
     "start_time": "2021-09-19T02:51:10.302825Z"
    },
    "id": "jierHxz0vWdx"
   },
   "outputs": [
    {
     "data": {
      "text/html": [
       "<div>\n",
       "<style scoped>\n",
       "    .dataframe tbody tr th:only-of-type {\n",
       "        vertical-align: middle;\n",
       "    }\n",
       "\n",
       "    .dataframe tbody tr th {\n",
       "        vertical-align: top;\n",
       "    }\n",
       "\n",
       "    .dataframe thead th {\n",
       "        text-align: right;\n",
       "    }\n",
       "</style>\n",
       "<table border=\"1\" class=\"dataframe\">\n",
       "  <thead>\n",
       "    <tr style=\"text-align: right;\">\n",
       "      <th></th>\n",
       "      <th>ARR_DEL15</th>\n",
       "    </tr>\n",
       "  </thead>\n",
       "  <tbody>\n",
       "    <tr>\n",
       "      <th>207503</th>\n",
       "      <td>0.00</td>\n",
       "    </tr>\n",
       "    <tr>\n",
       "      <th>96898</th>\n",
       "      <td>0.00</td>\n",
       "    </tr>\n",
       "    <tr>\n",
       "      <th>187218</th>\n",
       "      <td>1.00</td>\n",
       "    </tr>\n",
       "    <tr>\n",
       "      <th>200201</th>\n",
       "      <td>1.00</td>\n",
       "    </tr>\n",
       "    <tr>\n",
       "      <th>80742</th>\n",
       "      <td>0.00</td>\n",
       "    </tr>\n",
       "    <tr>\n",
       "      <th>...</th>\n",
       "      <td>...</td>\n",
       "    </tr>\n",
       "    <tr>\n",
       "      <th>153783</th>\n",
       "      <td>0.00</td>\n",
       "    </tr>\n",
       "    <tr>\n",
       "      <th>133063</th>\n",
       "      <td>0.00</td>\n",
       "    </tr>\n",
       "    <tr>\n",
       "      <th>169631</th>\n",
       "      <td>1.00</td>\n",
       "    </tr>\n",
       "    <tr>\n",
       "      <th>189145</th>\n",
       "      <td>0.00</td>\n",
       "    </tr>\n",
       "    <tr>\n",
       "      <th>156518</th>\n",
       "      <td>0.00</td>\n",
       "    </tr>\n",
       "  </tbody>\n",
       "</table>\n",
       "<p>131488 rows × 1 columns</p>\n",
       "</div>"
      ],
      "text/plain": [
       "        ARR_DEL15\n",
       "207503       0.00\n",
       "96898        0.00\n",
       "187218       1.00\n",
       "200201       1.00\n",
       "80742        0.00\n",
       "...           ...\n",
       "153783       0.00\n",
       "133063       0.00\n",
       "169631       1.00\n",
       "189145       0.00\n",
       "156518       0.00\n",
       "\n",
       "[131488 rows x 1 columns]"
      ]
     },
     "execution_count": 136,
     "metadata": {},
     "output_type": "execute_result"
    }
   ],
   "source": [
    "y_train"
   ]
  },
  {
   "cell_type": "code",
   "execution_count": null,
   "metadata": {
    "ExecuteTime": {
     "end_time": "2021-09-19T02:50:51.772756Z",
     "start_time": "2021-09-19T02:50:51.772748Z"
    },
    "colab": {
     "base_uri": "https://localhost:8080/"
    },
    "id": "kNnSPjtlvWdx",
    "outputId": "3ccad3e9-d5b9-464c-e9d9-f9298dba1a9e"
   },
   "outputs": [],
   "source": [
    "dt.fit(\n",
    "    X=X_train, \n",
    "    y=y_train, \n",
    "    # sample_weight=None, \n",
    "    # check_input=True, \n",
    "    # X_idx_sorted=None\n",
    ")"
   ]
  },
  {
   "cell_type": "markdown",
   "metadata": {
    "id": "NFOYOLMVvWdy"
   },
   "source": [
    "Una vez generado el árbol, podemos pasar a visualizarlo con export_graphviz."
   ]
  },
  {
   "cell_type": "code",
   "execution_count": null,
   "metadata": {
    "ExecuteTime": {
     "end_time": "2021-09-19T02:50:51.773541Z",
     "start_time": "2021-09-19T02:50:51.773534Z"
    },
    "id": "NGqQwQizvWdy"
   },
   "outputs": [],
   "source": [
    "export_graphviz?"
   ]
  },
  {
   "cell_type": "code",
   "execution_count": null,
   "metadata": {
    "ExecuteTime": {
     "end_time": "2021-09-19T02:50:51.774343Z",
     "start_time": "2021-09-19T02:50:51.774302Z"
    },
    "id": "pQeBP3IKvWdy",
    "scrolled": false
   },
   "outputs": [],
   "source": [
    "dot_data = export_graphviz(\n",
    "                        decision_tree = dt,\n",
    "                        out_file=None,\n",
    "                        # max_depth=None,\n",
    "                        feature_names=X_test.columns,\n",
    "                        class_names=['No delay', 'Delay'],\n",
    "                        # label='all',\n",
    "                        filled=True,\n",
    "                        # leaves_parallel=False,\n",
    "                        impurity=True,\n",
    "                        # node_ids=False,\n",
    "                        proportion=True,\n",
    "                        rotate=True,\n",
    "                        rounded=True,\n",
    "                        # special_characters=False,\n",
    "                        precision=4,\n",
    "                        )"
   ]
  },
  {
   "cell_type": "code",
   "execution_count": null,
   "metadata": {
    "ExecuteTime": {
     "end_time": "2021-09-19T02:50:51.775303Z",
     "start_time": "2021-09-19T02:50:51.775295Z"
    },
    "colab": {
     "base_uri": "https://localhost:8080/",
     "height": 1000
    },
    "id": "4QgDAZewvWdz",
    "outputId": "36e4aeec-719a-419b-f520-c0b1527f9dc0",
    "scrolled": false
   },
   "outputs": [],
   "source": [
    "graph = graphviz.Source(dot_data)\n",
    "graph"
   ]
  },
  {
   "cell_type": "markdown",
   "metadata": {
    "id": "YWFh2zhlvWdz"
   },
   "source": [
    "De la lectura del árbol se ve que la variable más relevante es TAXI_OUT . Cuando toma valores mayores a 34.5, la probabilidad de delay pasa de un 21.48% a un 61.87%, y esto aplica para el 5.3% de los ejemplos. Si es mayor a 50.5%, la probabilidad pasa al 89.89%. "
   ]
  },
  {
   "cell_type": "markdown",
   "metadata": {
    "id": "3-wUF1EpvWdz"
   },
   "source": [
    "Podemos hacer un análisis unidimensional de esta variable con las técnicas que hemos visto antes. "
   ]
  },
  {
   "cell_type": "code",
   "execution_count": null,
   "metadata": {
    "ExecuteTime": {
     "end_time": "2021-09-19T02:50:51.775994Z",
     "start_time": "2021-09-19T02:50:51.775987Z"
    },
    "id": "awrTuwh6vWdz"
   },
   "outputs": [],
   "source": [
    "df_taxi_out_not_null = df[(df['TAXI_OUT'] >= 0)]"
   ]
  },
  {
   "cell_type": "code",
   "execution_count": null,
   "metadata": {
    "ExecuteTime": {
     "end_time": "2021-09-19T02:50:51.776534Z",
     "start_time": "2021-09-19T02:50:51.776526Z"
    },
    "colab": {
     "base_uri": "https://localhost:8080/",
     "height": 299
    },
    "id": "lFd-vQq2vWdz",
    "outputId": "9e9d9627-6609-4cbb-9cb7-ccb12547a5ca"
   },
   "outputs": [],
   "source": [
    "sns.boxplot(data=df_taxi_out_not_null, x='ARR_DEL15', y='TAXI_OUT' )"
   ]
  },
  {
   "cell_type": "code",
   "execution_count": null,
   "metadata": {
    "ExecuteTime": {
     "end_time": "2021-09-19T02:50:51.777478Z",
     "start_time": "2021-09-19T02:50:51.777467Z"
    },
    "colab": {
     "base_uri": "https://localhost:8080/",
     "height": 299
    },
    "id": "DZfM9XXXvWd0",
    "outputId": "bc7a4af4-e430-43d5-b7c3-2b58d0e57b96"
   },
   "outputs": [],
   "source": [
    "sns.boxplot(data=df, x='ARR_DEL15', y='CRS_DEP_TIME' )"
   ]
  },
  {
   "cell_type": "markdown",
   "metadata": {
    "id": "kDuwlgYEvWd0"
   },
   "source": [
    "### MLC4.3: Model evaluation"
   ]
  },
  {
   "cell_type": "markdown",
   "metadata": {
    "id": "TR6j5G4AvWd0"
   },
   "source": [
    "#### Opción 1: a través de los resultados"
   ]
  },
  {
   "cell_type": "code",
   "execution_count": null,
   "metadata": {
    "ExecuteTime": {
     "end_time": "2021-09-19T02:50:51.777986Z",
     "start_time": "2021-09-19T02:50:51.777979Z"
    },
    "id": "Fh-tqiccvWd0"
   },
   "outputs": [],
   "source": [
    "y_test_pred = pd.DataFrame(dt.predict(X_test), index=y_test.index, columns=['DelayPrediction'])"
   ]
  },
  {
   "cell_type": "code",
   "execution_count": null,
   "metadata": {
    "ExecuteTime": {
     "end_time": "2021-09-19T02:50:51.778455Z",
     "start_time": "2021-09-19T02:50:51.778447Z"
    },
    "colab": {
     "base_uri": "https://localhost:8080/",
     "height": 204
    },
    "id": "ffvXBi9KvWd1",
    "outputId": "41e49cfc-7128-4527-82c5-f5fc32281232"
   },
   "outputs": [],
   "source": [
    "y_test_pred.head()"
   ]
  },
  {
   "cell_type": "code",
   "execution_count": null,
   "metadata": {
    "ExecuteTime": {
     "end_time": "2021-09-19T02:50:51.779190Z",
     "start_time": "2021-09-19T02:50:51.779183Z"
    },
    "colab": {
     "base_uri": "https://localhost:8080/",
     "height": 204
    },
    "id": "y4j7UPm-vWd1",
    "outputId": "aaea6297-7731-4af3-f304-d0e236e16d59"
   },
   "outputs": [],
   "source": [
    "y_test.head()"
   ]
  },
  {
   "cell_type": "code",
   "execution_count": null,
   "metadata": {
    "ExecuteTime": {
     "end_time": "2021-09-19T02:50:51.779814Z",
     "start_time": "2021-09-19T02:50:51.779806Z"
    },
    "colab": {
     "base_uri": "https://localhost:8080/"
    },
    "id": "KYBKtbpDvWd1",
    "outputId": "603025c0-2cf1-4127-8837-2712352fef18"
   },
   "outputs": [],
   "source": [
    "y_test.shape"
   ]
  },
  {
   "cell_type": "code",
   "execution_count": null,
   "metadata": {
    "ExecuteTime": {
     "end_time": "2021-09-19T02:50:51.780489Z",
     "start_time": "2021-09-19T02:50:51.780479Z"
    },
    "colab": {
     "base_uri": "https://localhost:8080/"
    },
    "id": "sFDf31vavWd2",
    "outputId": "d402b255-3cc3-4837-933a-bea0d9dc38a7"
   },
   "outputs": [],
   "source": [
    "y_test_pred.shape"
   ]
  },
  {
   "cell_type": "code",
   "execution_count": null,
   "metadata": {
    "ExecuteTime": {
     "end_time": "2021-09-19T02:50:51.781102Z",
     "start_time": "2021-09-19T02:50:51.781094Z"
    },
    "id": "SojtPFvyvWd2"
   },
   "outputs": [],
   "source": [
    "results_df = y_test.join(y_test_pred, how= 'inner')"
   ]
  },
  {
   "cell_type": "code",
   "execution_count": null,
   "metadata": {
    "ExecuteTime": {
     "end_time": "2021-09-19T02:50:51.781690Z",
     "start_time": "2021-09-19T02:50:51.781683Z"
    },
    "id": "q4BgZT_jvWd2"
   },
   "outputs": [],
   "source": [
    "results_df['Success'] = (results_df['ARR_DEL15'] == results_df['DelayPrediction']).astype(int)"
   ]
  },
  {
   "cell_type": "code",
   "execution_count": null,
   "metadata": {
    "ExecuteTime": {
     "end_time": "2021-09-19T02:50:51.782343Z",
     "start_time": "2021-09-19T02:50:51.782335Z"
    },
    "colab": {
     "base_uri": "https://localhost:8080/",
     "height": 669
    },
    "id": "2BV3ps7ovWd2",
    "outputId": "20690d9b-79d6-4256-bf9f-ebde78004649"
   },
   "outputs": [],
   "source": [
    "results_df.head(20)"
   ]
  },
  {
   "cell_type": "code",
   "execution_count": null,
   "metadata": {
    "ExecuteTime": {
     "end_time": "2021-09-19T02:50:51.782991Z",
     "start_time": "2021-09-19T02:50:51.782983Z"
    },
    "colab": {
     "base_uri": "https://localhost:8080/"
    },
    "id": "whehbZG3vWd3",
    "outputId": "e50dd350-41c3-4fdf-87c4-9d90e11f2854"
   },
   "outputs": [],
   "source": [
    "results_df['Success'].count()"
   ]
  },
  {
   "cell_type": "code",
   "execution_count": null,
   "metadata": {
    "ExecuteTime": {
     "end_time": "2021-09-19T02:50:51.783531Z",
     "start_time": "2021-09-19T02:50:51.783522Z"
    },
    "colab": {
     "base_uri": "https://localhost:8080/"
    },
    "id": "IMs0S1dUvWd3",
    "outputId": "9d1cf686-390f-46da-efff-f792366dd8c5"
   },
   "outputs": [],
   "source": [
    "results_df['Success'].sum()"
   ]
  },
  {
   "cell_type": "code",
   "execution_count": null,
   "metadata": {
    "ExecuteTime": {
     "end_time": "2021-09-19T02:50:51.784139Z",
     "start_time": "2021-09-19T02:50:51.784130Z"
    },
    "colab": {
     "base_uri": "https://localhost:8080/"
    },
    "id": "IsceOuTnvWd3",
    "outputId": "3b971657-a2f4-4d83-a7cf-19cef0ccfc6e"
   },
   "outputs": [],
   "source": [
    "results_df['Success'].mean()"
   ]
  },
  {
   "cell_type": "code",
   "execution_count": null,
   "metadata": {
    "ExecuteTime": {
     "end_time": "2021-09-19T02:50:51.784846Z",
     "start_time": "2021-09-19T02:50:51.784839Z"
    },
    "colab": {
     "base_uri": "https://localhost:8080/"
    },
    "id": "6yYducZVvWd3",
    "outputId": "0db78857-6bba-463a-8c9e-dbece9fa2639"
   },
   "outputs": [],
   "source": [
    "print('Hemos acertado {} registros de un total de {}, por tanto el Accuracy es {}.'.format(results_df['Success'].sum(), results_df['Success'].count(), results_df['Success'].mean()))"
   ]
  },
  {
   "cell_type": "markdown",
   "metadata": {
    "id": "q_avHO-mvWd4"
   },
   "source": [
    "#### Opción 2: a través de la matriz de confusión"
   ]
  },
  {
   "cell_type": "code",
   "execution_count": null,
   "metadata": {
    "ExecuteTime": {
     "end_time": "2021-09-19T02:50:51.785418Z",
     "start_time": "2021-09-19T02:50:51.785410Z"
    },
    "id": "e1ynkBmxvWd4"
   },
   "outputs": [],
   "source": [
    "confusion_matrix = pd.crosstab(results_df['ARR_DEL15'], results_df['DelayPrediction'])"
   ]
  },
  {
   "cell_type": "code",
   "execution_count": null,
   "metadata": {
    "ExecuteTime": {
     "end_time": "2021-09-19T02:50:51.786099Z",
     "start_time": "2021-09-19T02:50:51.786092Z"
    },
    "colab": {
     "base_uri": "https://localhost:8080/",
     "height": 142
    },
    "id": "c4-9sQr6vWd4",
    "outputId": "ca5ae9d2-19af-4840-9bb1-fdbd674711a6"
   },
   "outputs": [],
   "source": [
    "confusion_matrix"
   ]
  },
  {
   "cell_type": "code",
   "execution_count": null,
   "metadata": {
    "ExecuteTime": {
     "end_time": "2021-09-19T02:50:51.786841Z",
     "start_time": "2021-09-19T02:50:51.786833Z"
    },
    "id": "V4TggV3_vWd4"
   },
   "outputs": [],
   "source": [
    "TP = confusion_matrix.iloc[1,1]\n",
    "TN = confusion_matrix.iloc[0,0]\n",
    "FP = confusion_matrix.iloc[0,1]\n",
    "FN = confusion_matrix.iloc[1,0]"
   ]
  },
  {
   "cell_type": "code",
   "execution_count": null,
   "metadata": {
    "ExecuteTime": {
     "end_time": "2021-09-19T02:50:51.787419Z",
     "start_time": "2021-09-19T02:50:51.787412Z"
    },
    "colab": {
     "base_uri": "https://localhost:8080/"
    },
    "id": "JPHAK0INvWd5",
    "outputId": "956b15a8-5c9f-4ae5-daa1-c069945635a7"
   },
   "outputs": [],
   "source": [
    "accuracy = (TP + TN) / (TP + TN + FP + FN)\n",
    "accuracy"
   ]
  },
  {
   "cell_type": "markdown",
   "metadata": {
    "id": "MhZ1JbOXvWd5"
   },
   "source": [
    "#### Opción 3: Usando el módulo metrics"
   ]
  },
  {
   "cell_type": "code",
   "execution_count": null,
   "metadata": {
    "ExecuteTime": {
     "end_time": "2021-09-19T02:50:51.788575Z",
     "start_time": "2021-09-19T02:50:51.788567Z"
    },
    "colab": {
     "base_uri": "https://localhost:8080/"
    },
    "id": "fbNDQ2mJvWd5",
    "outputId": "64668ec9-2a0e-4987-c2fc-d3aacc88cdc5"
   },
   "outputs": [],
   "source": [
    "metrics.accuracy_score(results_df['ARR_DEL15'], results_df['DelayPrediction'])"
   ]
  },
  {
   "cell_type": "markdown",
   "metadata": {
    "id": "qO-Z1m-hvWd5"
   },
   "source": [
    "#### Opción 4: Usando el modelo"
   ]
  },
  {
   "cell_type": "code",
   "execution_count": null,
   "metadata": {
    "ExecuteTime": {
     "end_time": "2021-09-19T02:50:51.789400Z",
     "start_time": "2021-09-19T02:50:51.789393Z"
    },
    "colab": {
     "base_uri": "https://localhost:8080/"
    },
    "id": "PGpVlggGvWd6",
    "outputId": "1f98d069-e32a-4376-80ab-99c3d2e141b2"
   },
   "outputs": [],
   "source": [
    "dt.score(X_test, y_test)"
   ]
  },
  {
   "cell_type": "markdown",
   "metadata": {
    "id": "8rujuxjFvWd6"
   },
   "source": [
    "Normalmente, usaremos esta forma (el score del modelo) por comodidad, pero es bueno ser capaces de generar los distintos métodos para obtener la puntuación para ver otros casos (por ejemplo, que tal han validado las días según mes) (No somos Noob, somos Pro). "
   ]
  },
  {
   "cell_type": "markdown",
   "metadata": {
    "id": "wq1tiYKsvWd6"
   },
   "source": [
    "#### Validación por mes"
   ]
  },
  {
   "cell_type": "code",
   "execution_count": null,
   "metadata": {
    "ExecuteTime": {
     "end_time": "2021-09-19T02:50:51.790129Z",
     "start_time": "2021-09-19T02:50:51.790121Z"
    },
    "colab": {
     "base_uri": "https://localhost:8080/",
     "height": 142
    },
    "id": "hLPPq3UAvWd6",
    "outputId": "db3a4c82-b3c6-4389-a8ab-715469a20745"
   },
   "outputs": [],
   "source": [
    "results_df.head().T"
   ]
  },
  {
   "cell_type": "code",
   "execution_count": null,
   "metadata": {
    "ExecuteTime": {
     "end_time": "2021-09-19T02:50:51.790703Z",
     "start_time": "2021-09-19T02:50:51.790696Z"
    },
    "id": "WAny-f9bvWd6"
   },
   "outputs": [],
   "source": [
    "results_df['Year'] = X_test['Year']"
   ]
  },
  {
   "cell_type": "code",
   "execution_count": null,
   "metadata": {
    "ExecuteTime": {
     "end_time": "2021-09-19T02:50:51.791259Z",
     "start_time": "2021-09-19T02:50:51.791252Z"
    },
    "id": "CPcqGyQQvWd7"
   },
   "outputs": [],
   "source": [
    "results_df['Month'] = X_test['Month']"
   ]
  },
  {
   "cell_type": "code",
   "execution_count": null,
   "metadata": {
    "ExecuteTime": {
     "end_time": "2021-09-19T02:50:51.791851Z",
     "start_time": "2021-09-19T02:50:51.791822Z"
    },
    "colab": {
     "base_uri": "https://localhost:8080/",
     "height": 204
    },
    "id": "i_Dax7ptvWd7",
    "outputId": "c9cf3f49-7af5-4f56-cf7d-942fded79730"
   },
   "outputs": [],
   "source": [
    "results_df.head()"
   ]
  },
  {
   "cell_type": "code",
   "execution_count": null,
   "metadata": {
    "ExecuteTime": {
     "end_time": "2021-09-19T02:50:51.792329Z",
     "start_time": "2021-09-19T02:50:51.792322Z"
    },
    "colab": {
     "base_uri": "https://localhost:8080/",
     "height": 669
    },
    "id": "9K-ug0RmvWd7",
    "outputId": "1d85c42e-f35f-48c9-d3b0-060e469d7a4a"
   },
   "outputs": [],
   "source": [
    "results_df.pivot_table(index=['Year', 'Month'], values='Success', aggfunc=[len, sum, np.mean])"
   ]
  },
  {
   "cell_type": "markdown",
   "metadata": {
    "id": "F2ho0HhTvWd7"
   },
   "source": [
    "#### Otro elemento interesante es evaluar el modelo de forma probabilista, obteniendo los scorings y no el valor de predicción"
   ]
  },
  {
   "cell_type": "code",
   "execution_count": null,
   "metadata": {
    "ExecuteTime": {
     "end_time": "2021-09-19T02:50:51.792843Z",
     "start_time": "2021-09-19T02:50:51.792836Z"
    },
    "id": "XYk6CAsKvWd7"
   },
   "outputs": [],
   "source": [
    "y_score = pd.DataFrame(dt.predict_proba(X_test)[:,1], index=y_test.index, columns=['DelayScore'])"
   ]
  },
  {
   "cell_type": "code",
   "execution_count": null,
   "metadata": {
    "ExecuteTime": {
     "end_time": "2021-09-19T02:50:51.793422Z",
     "start_time": "2021-09-19T02:50:51.793412Z"
    },
    "id": "g-nLRsTfvWd8"
   },
   "outputs": [],
   "source": [
    "results_df = results_df.join(y_score)"
   ]
  },
  {
   "cell_type": "code",
   "execution_count": null,
   "metadata": {
    "ExecuteTime": {
     "end_time": "2021-09-19T02:50:51.794062Z",
     "start_time": "2021-09-19T02:50:51.794055Z"
    },
    "colab": {
     "base_uri": "https://localhost:8080/",
     "height": 359
    },
    "id": "8o-xV4WovWd8",
    "outputId": "d316f984-a349-4086-bc08-2abdfcf4be1c"
   },
   "outputs": [],
   "source": [
    "results_df.head(10)"
   ]
  },
  {
   "cell_type": "code",
   "execution_count": null,
   "metadata": {
    "ExecuteTime": {
     "end_time": "2021-09-19T02:50:51.794665Z",
     "start_time": "2021-09-19T02:50:51.794657Z"
    },
    "colab": {
     "base_uri": "https://localhost:8080/"
    },
    "id": "ToTTM8sivWd8",
    "outputId": "443e3e45-896b-47ac-c84e-82265301fe52"
   },
   "outputs": [],
   "source": [
    "results_df.info()"
   ]
  },
  {
   "cell_type": "code",
   "execution_count": null,
   "metadata": {
    "ExecuteTime": {
     "end_time": "2021-09-19T02:50:51.795230Z",
     "start_time": "2021-09-19T02:50:51.795224Z"
    },
    "colab": {
     "base_uri": "https://localhost:8080/",
     "height": 607
    },
    "id": "p5I5s0s-vWd8",
    "outputId": "f4656be2-cf01-4ce7-932c-7ee836620aae"
   },
   "outputs": [],
   "source": [
    "results_df.pivot_table(index='DelayScore', values='Success', aggfunc=[len, sum, np.mean])"
   ]
  },
  {
   "cell_type": "code",
   "execution_count": null,
   "metadata": {
    "ExecuteTime": {
     "end_time": "2021-09-19T02:50:51.795882Z",
     "start_time": "2021-09-19T02:50:51.795874Z"
    },
    "id": "PuP2p9FRvWd9"
   },
   "outputs": [],
   "source": [
    "results_by_score = results_df.pivot_table(index='DelayScore', values='Success', aggfunc=[len, sum, np.mean])"
   ]
  },
  {
   "cell_type": "code",
   "execution_count": null,
   "metadata": {
    "ExecuteTime": {
     "end_time": "2021-09-19T02:50:51.796415Z",
     "start_time": "2021-09-19T02:50:51.796406Z"
    },
    "id": "ZVyEZel7vWd9"
   },
   "outputs": [],
   "source": [
    "results_by_score.columns = ['Count', 'Sum', 'Mean']"
   ]
  },
  {
   "cell_type": "code",
   "execution_count": null,
   "metadata": {
    "ExecuteTime": {
     "end_time": "2021-09-19T02:50:51.796986Z",
     "start_time": "2021-09-19T02:50:51.796979Z"
    },
    "colab": {
     "base_uri": "https://localhost:8080/",
     "height": 407
    },
    "id": "Gd-r6vI8vWd9",
    "outputId": "69498c3f-05e9-4a6b-81d8-8e0446782f6c"
   },
   "outputs": [],
   "source": [
    "results_by_score['Mean'].plot(kind='bar')"
   ]
  },
  {
   "cell_type": "markdown",
   "metadata": {
    "id": "3_TRpbgavWd9"
   },
   "source": [
    "#### Prueba de diversas estrategias de validación"
   ]
  },
  {
   "cell_type": "markdown",
   "metadata": {
    "id": "Fgl1ZV66vWd9"
   },
   "source": [
    "Vamos a probar distintas estrategias de parámetros"
   ]
  },
  {
   "cell_type": "code",
   "execution_count": null,
   "metadata": {
    "ExecuteTime": {
     "end_time": "2021-09-19T02:50:51.797446Z",
     "start_time": "2021-09-19T02:50:51.797439Z"
    },
    "colab": {
     "base_uri": "https://localhost:8080/"
    },
    "id": "mfBOua0ivWd-",
    "outputId": "8fc528bf-ba14-40e4-fbc7-560cae637be0"
   },
   "outputs": [],
   "source": [
    "for i in range(1, 20):\n",
    "    dt = DecisionTreeClassifier(max_depth=i, random_state=42)\n",
    "    dt.fit(X_train, y_train)\n",
    "    train_accuracy = dt.score(X_train, y_train)\n",
    "    test_accuracy = dt.score(X_test, y_test)\n",
    "    print('Profundidad del árbol: {}. Train: {} - Test: {}'.format(i, train_accuracy, test_accuracy))"
   ]
  },
  {
   "cell_type": "markdown",
   "metadata": {
    "id": "1Na9Fa3ovWd-"
   },
   "source": [
    "En este ejemplo, podemos ver claramente como el árbol hace Overfit a medida que incrementamos la profundidad, y es por este motivo que tendremos que recurrir a mecanismos de **poda**"
   ]
  },
  {
   "cell_type": "code",
   "execution_count": null,
   "metadata": {
    "ExecuteTime": {
     "end_time": "2021-09-19T02:50:51.797918Z",
     "start_time": "2021-09-19T02:50:51.797911Z"
    },
    "id": "wneZbDyvvWd-"
   },
   "outputs": [],
   "source": [
    "DecisionTreeClassifier??"
   ]
  },
  {
   "cell_type": "markdown",
   "metadata": {
    "id": "3DZFSnDYvWd-"
   },
   "source": [
    "#### Vamos a probar con algún parámetro para ver como modifican el sobreajuste.\n"
   ]
  },
  {
   "cell_type": "code",
   "execution_count": null,
   "metadata": {
    "ExecuteTime": {
     "end_time": "2021-09-19T02:50:51.798735Z",
     "start_time": "2021-09-19T02:50:51.798728Z"
    },
    "colab": {
     "base_uri": "https://localhost:8080/"
    },
    "id": "081WTNC5vWd-",
    "outputId": "55f83b6e-1932-4193-c9a7-51d92427eb34"
   },
   "outputs": [],
   "source": [
    "for i in range(1, 20):\n",
    "    dt = DecisionTreeClassifier(max_depth=i, random_state=42, min_samples_split=500)\n",
    "    dt.fit(X_train, y_train)\n",
    "    train_accuracy = dt.score(X_train, y_train)\n",
    "    test_accuracy = dt.score(X_test, y_test)\n",
    "    print('Profundidad del árbol: {}. Train: {} - Test: {}'.format(i, train_accuracy, test_accuracy))"
   ]
  },
  {
   "cell_type": "markdown",
   "metadata": {
    "id": "PBcTUnR-vWd_"
   },
   "source": [
    "#### Podemos medir la efectividad en el conjunto de validación del mejor estimador"
   ]
  },
  {
   "cell_type": "code",
   "execution_count": null,
   "metadata": {
    "ExecuteTime": {
     "end_time": "2021-09-19T02:50:51.799538Z",
     "start_time": "2021-09-19T02:50:51.799529Z"
    },
    "colab": {
     "base_uri": "https://localhost:8080/"
    },
    "id": "WsB_utJlvWeA",
    "outputId": "d3e70cb5-f5c5-4b2f-f463-be74e2317500"
   },
   "outputs": [],
   "source": [
    "dt = DecisionTreeClassifier(max_depth=11, random_state=42, min_samples_split=500)\n",
    "dt.fit(X_train, y_train)"
   ]
  },
  {
   "cell_type": "code",
   "execution_count": null,
   "metadata": {
    "ExecuteTime": {
     "end_time": "2021-09-19T02:50:51.800156Z",
     "start_time": "2021-09-19T02:50:51.800149Z"
    },
    "colab": {
     "base_uri": "https://localhost:8080/"
    },
    "id": "P4KHZu-2vWeB",
    "outputId": "a5875780-96fd-459a-aff6-cca305fa44aa"
   },
   "outputs": [],
   "source": [
    "dt.score(X_train, y_train)"
   ]
  },
  {
   "cell_type": "code",
   "execution_count": null,
   "metadata": {
    "ExecuteTime": {
     "end_time": "2021-09-19T02:50:51.800857Z",
     "start_time": "2021-09-19T02:50:51.800849Z"
    },
    "colab": {
     "base_uri": "https://localhost:8080/"
    },
    "id": "25A_1eONvWeB",
    "outputId": "08251149-f7aa-4a74-9f5f-8ba978bb63fd"
   },
   "outputs": [],
   "source": [
    "dt.score(X_test, y_test)"
   ]
  },
  {
   "cell_type": "code",
   "execution_count": null,
   "metadata": {
    "ExecuteTime": {
     "end_time": "2021-09-19T02:50:51.801592Z",
     "start_time": "2021-09-19T02:50:51.801584Z"
    },
    "colab": {
     "base_uri": "https://localhost:8080/"
    },
    "id": "Bkw1IedyvWeB",
    "outputId": "f01a9082-3eab-4260-97be-1a2810bb0053"
   },
   "outputs": [],
   "source": [
    "dt.score(val_df_X, val_df_y)"
   ]
  },
  {
   "cell_type": "markdown",
   "metadata": {
    "id": "pksjfFA0vWeB"
   },
   "source": [
    "#### Podemos evaluar otras opciones de métrica como el F1"
   ]
  },
  {
   "cell_type": "code",
   "execution_count": null,
   "metadata": {
    "ExecuteTime": {
     "end_time": "2021-09-19T02:50:51.802261Z",
     "start_time": "2021-09-19T02:50:51.802253Z"
    },
    "colab": {
     "base_uri": "https://localhost:8080/",
     "height": 142
    },
    "id": "Cd9rHRSDvWeC",
    "outputId": "249962a0-cb9b-488f-8fc5-13a7a2106ed4"
   },
   "outputs": [],
   "source": [
    "confusion_matrix"
   ]
  },
  {
   "cell_type": "code",
   "execution_count": null,
   "metadata": {
    "ExecuteTime": {
     "end_time": "2021-09-19T02:50:51.803133Z",
     "start_time": "2021-09-19T02:50:51.803123Z"
    },
    "id": "M39LfbdcvWeC"
   },
   "outputs": [],
   "source": [
    "Precision = TP / (TP + FP)\n",
    "Recall = TP / (TP + FN)"
   ]
  },
  {
   "cell_type": "code",
   "execution_count": null,
   "metadata": {
    "ExecuteTime": {
     "end_time": "2021-09-19T02:50:51.803615Z",
     "start_time": "2021-09-19T02:50:51.803608Z"
    },
    "id": "xbxP3E-qvWeC"
   },
   "outputs": [],
   "source": [
    "f1_score = 2 / ( 1/Precision + 1/Recall )"
   ]
  },
  {
   "cell_type": "code",
   "execution_count": null,
   "metadata": {
    "ExecuteTime": {
     "end_time": "2021-09-19T02:50:51.804218Z",
     "start_time": "2021-09-19T02:50:51.804204Z"
    },
    "colab": {
     "base_uri": "https://localhost:8080/"
    },
    "id": "HmuUFmZTvWeC",
    "outputId": "60f224a0-36cf-4f4d-fd51-371e531bbce4"
   },
   "outputs": [],
   "source": [
    "f1_score"
   ]
  },
  {
   "cell_type": "code",
   "execution_count": null,
   "metadata": {
    "ExecuteTime": {
     "end_time": "2021-09-19T02:50:51.804741Z",
     "start_time": "2021-09-19T02:50:51.804735Z"
    },
    "colab": {
     "base_uri": "https://localhost:8080/"
    },
    "id": "eol8Vql1vWeC",
    "outputId": "84c0ae44-62e7-4f97-95d3-8c970d69a249"
   },
   "outputs": [],
   "source": [
    "metrics.f1_score(y_test, y_test_pred)"
   ]
  },
  {
   "cell_type": "markdown",
   "metadata": {
    "id": "ujgHI8ATvWeD"
   },
   "source": [
    "#### O la curva de ROC"
   ]
  },
  {
   "cell_type": "code",
   "execution_count": null,
   "metadata": {
    "ExecuteTime": {
     "end_time": "2021-09-19T02:50:51.805366Z",
     "start_time": "2021-09-19T02:50:51.805359Z"
    },
    "colab": {
     "base_uri": "https://localhost:8080/"
    },
    "id": "swCyaFCivWeD",
    "outputId": "d068902c-4d1c-431b-ebdb-ca9385fd9107"
   },
   "outputs": [],
   "source": [
    "print(metrics.roc_auc_score(results_df['ARR_DEL15'], results_df['DelayScore']))"
   ]
  },
  {
   "cell_type": "code",
   "execution_count": null,
   "metadata": {
    "ExecuteTime": {
     "end_time": "2021-09-19T02:50:51.805812Z",
     "start_time": "2021-09-19T02:50:51.805806Z"
    },
    "id": "0LqJvxMCvWeD"
   },
   "outputs": [],
   "source": [
    "fpr, tpr, _ = metrics.roc_curve(results_df['ARR_DEL15'], results_df['DelayScore'])"
   ]
  },
  {
   "cell_type": "code",
   "execution_count": null,
   "metadata": {
    "ExecuteTime": {
     "end_time": "2021-09-19T02:50:51.806435Z",
     "start_time": "2021-09-19T02:50:51.806427Z"
    },
    "colab": {
     "base_uri": "https://localhost:8080/",
     "height": 299
    },
    "id": "Mui3sj2OvWeD",
    "outputId": "19188625-a5e9-44e1-b083-2837dea519d3"
   },
   "outputs": [],
   "source": [
    "plt.clf()\n",
    "plt.plot(fpr, tpr)\n",
    "plt.plot([0, 1], [0, 1], color='gray', linestyle='--')\n",
    "plt.xlabel('FPR')\n",
    "plt.ylabel('TPR')\n",
    "plt.title('ROC curve')\n",
    "plt.show()"
   ]
  },
  {
   "cell_type": "markdown",
   "metadata": {
    "id": "w4RJX8vYvWeE"
   },
   "source": [
    "#### Podemos probar el k-fold como estrategia de validación"
   ]
  },
  {
   "cell_type": "code",
   "execution_count": null,
   "metadata": {
    "ExecuteTime": {
     "end_time": "2021-09-19T02:50:51.806957Z",
     "start_time": "2021-09-19T02:50:51.806950Z"
    },
    "colab": {
     "base_uri": "https://localhost:8080/"
    },
    "id": "iIy_TQuLvWeE",
    "outputId": "923f3035-cc12-4151-86f3-090533e16e4f"
   },
   "outputs": [],
   "source": [
    "kf = model_selection.KFold(n_splits=10, shuffle=False)"
   ]
  },
  {
   "cell_type": "code",
   "execution_count": null,
   "metadata": {
    "ExecuteTime": {
     "end_time": "2021-09-19T02:50:51.807550Z",
     "start_time": "2021-09-19T02:50:51.807543Z"
    },
    "colab": {
     "base_uri": "https://localhost:8080/"
    },
    "id": "DanOsU8IvWeE",
    "outputId": "5c756d2d-453d-46b9-fed7-95b7b12b135c"
   },
   "outputs": [],
   "source": [
    "scores_list = []\n",
    "for train_index, test_index in kf.split(dev_df):\n",
    "    #print(\"TRAIN:\", train_index, \"TEST:\", test_index)\n",
    "    X_train, X_test = dev_df_X.iloc[train_index], dev_df_X.iloc[test_index]\n",
    "    y_train, y_test = dev_df_y.iloc[train_index], dev_df_y.iloc[test_index]\n",
    "    dt = DecisionTreeClassifier(max_depth=8, random_state=42)\n",
    "    dt.fit(X_train, y_train)\n",
    "    _score = dt.score(X_test, y_test)\n",
    "    scores_list.append(_score)\n",
    "    #print(_scores)\n",
    "scores_list"
   ]
  },
  {
   "cell_type": "code",
   "execution_count": null,
   "metadata": {
    "ExecuteTime": {
     "end_time": "2021-09-19T02:50:51.808224Z",
     "start_time": "2021-09-19T02:50:51.808217Z"
    },
    "colab": {
     "base_uri": "https://localhost:8080/"
    },
    "id": "4jPeZQjpvWeF",
    "outputId": "2a6ea489-8772-445c-a543-9ab7fa1d570e"
   },
   "outputs": [],
   "source": [
    "np.mean(scores_list)"
   ]
  },
  {
   "cell_type": "code",
   "execution_count": null,
   "metadata": {
    "ExecuteTime": {
     "end_time": "2021-09-19T02:50:51.808842Z",
     "start_time": "2021-09-19T02:50:51.808835Z"
    },
    "colab": {
     "base_uri": "https://localhost:8080/"
    },
    "id": "rW9QZL7YvWeF",
    "outputId": "be775fa9-e362-4c9c-c88e-7bbb8c4bb511"
   },
   "outputs": [],
   "source": [
    "np.std(scores_list)"
   ]
  },
  {
   "cell_type": "code",
   "execution_count": null,
   "metadata": {
    "ExecuteTime": {
     "end_time": "2021-09-19T02:50:51.809561Z",
     "start_time": "2021-09-19T02:50:51.809553Z"
    },
    "id": "I6CIu4sKvWeF"
   },
   "outputs": [],
   "source": [
    "dt = DecisionTreeClassifier(max_depth=8, random_state=42)"
   ]
  },
  {
   "cell_type": "code",
   "execution_count": null,
   "metadata": {
    "ExecuteTime": {
     "end_time": "2021-09-19T02:50:51.810145Z",
     "start_time": "2021-09-19T02:50:51.810138Z"
    },
    "id": "CAv_CbJ5vWeF"
   },
   "outputs": [],
   "source": [
    "scores = model_selection.cross_val_score(dt, dev_df_X, dev_df_y, cv=kf)"
   ]
  },
  {
   "cell_type": "code",
   "execution_count": null,
   "metadata": {
    "ExecuteTime": {
     "end_time": "2021-09-19T02:50:51.810642Z",
     "start_time": "2021-09-19T02:50:51.810635Z"
    },
    "colab": {
     "base_uri": "https://localhost:8080/"
    },
    "id": "x8509ZdpvWeF",
    "outputId": "8ae505e7-f922-471e-b7e2-43c36dc1e73b"
   },
   "outputs": [],
   "source": [
    "scores"
   ]
  },
  {
   "cell_type": "code",
   "execution_count": null,
   "metadata": {
    "ExecuteTime": {
     "end_time": "2021-09-19T02:50:51.811200Z",
     "start_time": "2021-09-19T02:50:51.811193Z"
    },
    "colab": {
     "base_uri": "https://localhost:8080/"
    },
    "id": "5kTGxn1CvWeG",
    "outputId": "76c3d842-2500-4786-c6c9-68eabb8570f9"
   },
   "outputs": [],
   "source": [
    "print(\"Accuracy: %0.3f (+/- %0.3f)\" % (scores.mean(), scores.std() * 2))"
   ]
  },
  {
   "cell_type": "markdown",
   "metadata": {
    "id": "CID0VXAovWeG"
   },
   "source": [
    "### Evaluación de modelos alternativos"
   ]
  },
  {
   "cell_type": "markdown",
   "metadata": {
    "id": "ZRfUuUcrvWeG"
   },
   "source": [
    "Una alternativa al uso de árboles de decisión que aporta mayor precisión sin perjudicar la capacidad de generalización son los modelos de Ensamble, como Random Forest o Gradient Boosting"
   ]
  },
  {
   "cell_type": "code",
   "execution_count": null,
   "metadata": {
    "ExecuteTime": {
     "end_time": "2021-09-19T02:50:51.811780Z",
     "start_time": "2021-09-19T02:50:51.811773Z"
    },
    "id": "5raiFmPPvWeH"
   },
   "outputs": [],
   "source": [
    "from sklearn.ensemble import RandomForestClassifier, GradientBoostingClassifier"
   ]
  },
  {
   "cell_type": "code",
   "execution_count": null,
   "metadata": {
    "ExecuteTime": {
     "end_time": "2021-09-19T02:50:51.812359Z",
     "start_time": "2021-09-19T02:50:51.812352Z"
    },
    "id": "eRphxzeYvWeH"
   },
   "outputs": [],
   "source": [
    "RandomForestClassifier??"
   ]
  },
  {
   "cell_type": "code",
   "execution_count": null,
   "metadata": {
    "ExecuteTime": {
     "end_time": "2021-09-19T02:50:51.812960Z",
     "start_time": "2021-09-19T02:50:51.812953Z"
    },
    "id": "imM1EEd4vWeH"
   },
   "outputs": [],
   "source": [
    "rf = RandomForestClassifier(n_estimators=3, max_depth=5, random_state=42)"
   ]
  },
  {
   "cell_type": "code",
   "execution_count": null,
   "metadata": {
    "ExecuteTime": {
     "end_time": "2021-09-19T02:50:51.813600Z",
     "start_time": "2021-09-19T02:50:51.813593Z"
    },
    "colab": {
     "base_uri": "https://localhost:8080/"
    },
    "id": "55wmX0v0vWeH",
    "outputId": "be6e1444-6b3d-4a7e-9770-0299112d1faf"
   },
   "outputs": [],
   "source": [
    "rf.fit(\n",
    "    X=X_train, \n",
    "    y=np.ravel(y_train)\n",
    ")"
   ]
  },
  {
   "cell_type": "markdown",
   "metadata": {
    "id": "tKyh60EcvWeH"
   },
   "source": [
    "El Random Forest genera un listado de estimadores (los modelos de base) consultable, de manera que podemos trabajar con cada uno de éstos como si se tratase de un modelo independiente."
   ]
  },
  {
   "cell_type": "code",
   "execution_count": null,
   "metadata": {
    "ExecuteTime": {
     "end_time": "2021-09-19T02:50:51.814245Z",
     "start_time": "2021-09-19T02:50:51.814238Z"
    },
    "id": "I3AO05QgvWeI"
   },
   "outputs": [],
   "source": [
    "tree_list = rf.estimators_"
   ]
  },
  {
   "cell_type": "code",
   "execution_count": null,
   "metadata": {
    "ExecuteTime": {
     "end_time": "2021-09-19T02:50:51.814740Z",
     "start_time": "2021-09-19T02:50:51.814733Z"
    },
    "colab": {
     "base_uri": "https://localhost:8080/"
    },
    "id": "uX3IyqEevWeI",
    "outputId": "171da577-df3f-4afa-cf46-5296d3b4062f"
   },
   "outputs": [],
   "source": [
    "tree_list"
   ]
  },
  {
   "cell_type": "code",
   "execution_count": null,
   "metadata": {
    "ExecuteTime": {
     "end_time": "2021-09-19T02:50:51.815491Z",
     "start_time": "2021-09-19T02:50:51.815484Z"
    },
    "colab": {
     "base_uri": "https://localhost:8080/",
     "height": 1000
    },
    "id": "nI4YCEVAvWeI",
    "outputId": "36953e9f-bcee-47d9-c4c6-d9ebfde9d933"
   },
   "outputs": [],
   "source": [
    "plt.figure(figsize=(8,8))\n",
    "dot_data = export_graphviz(\n",
    "                        decision_tree = tree_list[0],\n",
    "                        out_file=None,\n",
    "                        feature_names=X_test.columns,\n",
    "                        class_names=['No Delay', 'Delay'],\n",
    "                        filled=True,\n",
    "                        impurity=True,\n",
    "                        proportion=True,\n",
    "                        rotate=True,\n",
    "                        rounded=True,\n",
    "                        precision=4,\n",
    "                        )\n",
    "\n",
    "graph = graphviz.Source(dot_data)\n",
    "graph"
   ]
  },
  {
   "cell_type": "code",
   "execution_count": null,
   "metadata": {
    "ExecuteTime": {
     "end_time": "2021-09-19T02:50:51.816128Z",
     "start_time": "2021-09-19T02:50:51.816121Z"
    },
    "colab": {
     "base_uri": "https://localhost:8080/",
     "height": 1000
    },
    "id": "ERdZKZnXvWeI",
    "outputId": "ea6c05de-236c-4d30-cebd-c794eebff1cf"
   },
   "outputs": [],
   "source": [
    "dot_data = export_graphviz(\n",
    "                        decision_tree = tree_list[1],\n",
    "                        out_file=None,\n",
    "                        feature_names=X_test.columns,\n",
    "                        class_names=['No Delay', 'Delay'],\n",
    "                        filled=True,\n",
    "                        impurity=True,\n",
    "                        proportion=True,\n",
    "                        rotate=True,\n",
    "                        rounded=True,\n",
    "                        precision=4,\n",
    "                        )\n",
    "\n",
    "graph = graphviz.Source(dot_data)\n",
    "graph"
   ]
  },
  {
   "cell_type": "code",
   "execution_count": null,
   "metadata": {
    "ExecuteTime": {
     "end_time": "2021-09-19T02:50:51.816708Z",
     "start_time": "2021-09-19T02:50:51.816701Z"
    },
    "colab": {
     "base_uri": "https://localhost:8080/",
     "height": 1000
    },
    "id": "oH8uL0f5vWeJ",
    "outputId": "64441fc7-e837-4794-de03-871d51fdbfb8"
   },
   "outputs": [],
   "source": [
    "dot_data = export_graphviz(\n",
    "                        decision_tree = tree_list[2],\n",
    "                        out_file=None,\n",
    "                        feature_names=X_test.columns,\n",
    "                        class_names=['No Delay', 'Delay'],\n",
    "                        filled=True,\n",
    "                        impurity=True,\n",
    "                        proportion=True,\n",
    "                        rotate=True,\n",
    "                        rounded=True,\n",
    "                        precision=4,\n",
    "                        )\n",
    "\n",
    "graph = graphviz.Source(dot_data)\n",
    "graph"
   ]
  },
  {
   "cell_type": "markdown",
   "metadata": {
    "id": "MigM1O0-vWeJ"
   },
   "source": [
    "Una alternativa a la visualización de importancia de atributos es el Feature Importance, que promedia el Information Gain del predictor en todo el ensamble. "
   ]
  },
  {
   "cell_type": "code",
   "execution_count": null,
   "metadata": {
    "ExecuteTime": {
     "end_time": "2021-09-19T02:50:51.817475Z",
     "start_time": "2021-09-19T02:50:51.817468Z"
    },
    "id": "Rn0-FuQlvWeJ"
   },
   "outputs": [],
   "source": [
    "top_features = pd.Series(rf.feature_importances_, index=X_train.columns).sort_values(ascending=False).head(20)"
   ]
  },
  {
   "cell_type": "code",
   "execution_count": null,
   "metadata": {
    "ExecuteTime": {
     "end_time": "2021-09-19T02:50:51.818105Z",
     "start_time": "2021-09-19T02:50:51.818098Z"
    },
    "colab": {
     "base_uri": "https://localhost:8080/"
    },
    "id": "DCqQZNwfvWeJ",
    "outputId": "5763366c-2a0f-4893-d029-91304382e5aa"
   },
   "outputs": [],
   "source": [
    "top_features"
   ]
  },
  {
   "cell_type": "code",
   "execution_count": null,
   "metadata": {
    "ExecuteTime": {
     "end_time": "2021-09-19T02:50:51.818778Z",
     "start_time": "2021-09-19T02:50:51.818769Z"
    },
    "colab": {
     "base_uri": "https://localhost:8080/",
     "height": 508
    },
    "id": "qd3PzfuYvWeJ",
    "outputId": "668ccbb6-1244-4b24-ad2f-951aa6898844"
   },
   "outputs": [],
   "source": [
    "plt.figure(figsize=(15,5))\n",
    "top_features.plot(kind='bar')"
   ]
  },
  {
   "cell_type": "markdown",
   "metadata": {
    "id": "RffAG63PvWeK"
   },
   "source": [
    "Podemos comprobar que la precisión obtenida por el RF es superior a la del árbol individual. "
   ]
  },
  {
   "cell_type": "code",
   "execution_count": null,
   "metadata": {
    "ExecuteTime": {
     "end_time": "2021-09-19T02:50:51.819672Z",
     "start_time": "2021-09-19T02:50:51.819665Z"
    },
    "colab": {
     "base_uri": "https://localhost:8080/"
    },
    "id": "_i7xm84UvWeK",
    "outputId": "28fae96a-19f5-4518-ab21-c7be21de32ef"
   },
   "outputs": [],
   "source": [
    "rf = RandomForestClassifier(n_estimators=100, max_depth=8, min_samples_split=500, random_state=42)\n",
    "rf.fit(X_train, np.ravel(y_train))"
   ]
  },
  {
   "cell_type": "code",
   "execution_count": null,
   "metadata": {
    "ExecuteTime": {
     "end_time": "2021-09-19T02:50:51.820331Z",
     "start_time": "2021-09-19T02:50:51.820324Z"
    },
    "id": "iE3RacNrvWeK"
   },
   "outputs": [],
   "source": [
    "y_score = pd.DataFrame(rf.predict_proba(X_test)[:,1], index=y_test.index, columns=['DelayScore'])"
   ]
  },
  {
   "cell_type": "code",
   "execution_count": null,
   "metadata": {
    "ExecuteTime": {
     "end_time": "2021-09-19T02:50:51.820793Z",
     "start_time": "2021-09-19T02:50:51.820786Z"
    },
    "id": "-k8IiaPtvWeK"
   },
   "outputs": [],
   "source": [
    "results_df = y_test.join(y_score)"
   ]
  },
  {
   "cell_type": "code",
   "execution_count": null,
   "metadata": {
    "ExecuteTime": {
     "end_time": "2021-09-19T02:50:51.821366Z",
     "start_time": "2021-09-19T02:50:51.821359Z"
    },
    "colab": {
     "base_uri": "https://localhost:8080/",
     "height": 359
    },
    "id": "gprCIseyvWeK",
    "outputId": "32eaaa8b-b4bd-466b-daac-b1ab0a740b53"
   },
   "outputs": [],
   "source": [
    "results_df.head(10)"
   ]
  },
  {
   "cell_type": "code",
   "execution_count": null,
   "metadata": {
    "ExecuteTime": {
     "end_time": "2021-09-19T02:50:51.822161Z",
     "start_time": "2021-09-19T02:50:51.822152Z"
    },
    "colab": {
     "base_uri": "https://localhost:8080/"
    },
    "id": "7Z7d3J4QvWeL",
    "outputId": "c5ec4213-c269-4c46-c976-55eebd59a5f9"
   },
   "outputs": [],
   "source": [
    "print(metrics.roc_auc_score(results_df['ARR_DEL15'], results_df['DelayScore']))"
   ]
  },
  {
   "cell_type": "code",
   "execution_count": null,
   "metadata": {
    "ExecuteTime": {
     "end_time": "2021-09-19T02:50:51.822823Z",
     "start_time": "2021-09-19T02:50:51.822815Z"
    },
    "id": "C9pj2uaKvWeL"
   },
   "outputs": [],
   "source": [
    "fpr, tpr, _ = metrics.roc_curve(results_df['ARR_DEL15'], results_df['DelayScore'])"
   ]
  },
  {
   "cell_type": "code",
   "execution_count": null,
   "metadata": {
    "ExecuteTime": {
     "end_time": "2021-09-19T02:50:51.823375Z",
     "start_time": "2021-09-19T02:50:51.823368Z"
    },
    "colab": {
     "base_uri": "https://localhost:8080/",
     "height": 299
    },
    "id": "rptYWE9HvWeL",
    "outputId": "063ce13f-d5fb-4ea5-b0aa-68fd67619fb8"
   },
   "outputs": [],
   "source": [
    "plt.clf()\n",
    "plt.plot(fpr, tpr)\n",
    "plt.plot([0, 1], [0, 1], color='gray', linestyle='--')\n",
    "plt.xlabel('FPR')\n",
    "plt.ylabel('TPR')\n",
    "plt.title('ROC curve')\n",
    "plt.show()"
   ]
  },
  {
   "cell_type": "markdown",
   "metadata": {
    "id": "rrda-n94vWeL"
   },
   "source": [
    "Un aspecto importante a tener en cuenta es que el valor de score obtenido es un valor CONTINUO, por lo que deberemos trabajar con deciles. "
   ]
  },
  {
   "cell_type": "code",
   "execution_count": null,
   "metadata": {
    "ExecuteTime": {
     "end_time": "2021-09-19T02:50:51.823838Z",
     "start_time": "2021-09-19T02:50:51.823830Z"
    },
    "colab": {
     "base_uri": "https://localhost:8080/"
    },
    "id": "NxhhVpTWvWeM",
    "outputId": "6070af7b-09a0-4f65-e148-06c33804c2be"
   },
   "outputs": [],
   "source": [
    "results_df['DelayScore'].nunique()"
   ]
  },
  {
   "cell_type": "code",
   "execution_count": null,
   "metadata": {
    "ExecuteTime": {
     "end_time": "2021-09-19T02:50:51.824444Z",
     "start_time": "2021-09-19T02:50:51.824437Z"
    },
    "id": "T674E87fvWeM"
   },
   "outputs": [],
   "source": [
    "pd.qcut?"
   ]
  },
  {
   "cell_type": "code",
   "execution_count": null,
   "metadata": {
    "ExecuteTime": {
     "end_time": "2021-09-19T02:50:51.825196Z",
     "start_time": "2021-09-19T02:50:51.825187Z"
    },
    "id": "qgyRwgzMvWeM"
   },
   "outputs": [],
   "source": [
    "results_df['Decile'] = pd.qcut(results_df['DelayScore'], q=10)"
   ]
  },
  {
   "cell_type": "code",
   "execution_count": null,
   "metadata": {
    "ExecuteTime": {
     "end_time": "2021-09-19T02:50:51.825684Z",
     "start_time": "2021-09-19T02:50:51.825677Z"
    },
    "colab": {
     "base_uri": "https://localhost:8080/",
     "height": 359
    },
    "id": "zA3jxK8dvWeM",
    "outputId": "e7d42224-a6cf-4146-ee7e-cf0815c340fb"
   },
   "outputs": [],
   "source": [
    "results_df.head(10)"
   ]
  },
  {
   "cell_type": "code",
   "execution_count": null,
   "metadata": {
    "ExecuteTime": {
     "end_time": "2021-09-19T02:50:51.826130Z",
     "start_time": "2021-09-19T02:50:51.826122Z"
    },
    "id": "gKhOjwIDvWeM"
   },
   "outputs": [],
   "source": [
    "results_summary_table = results_df.pivot_table(index='Decile', values='ARR_DEL15', aggfunc=[len, np.sum, np.mean]).sort_index(ascending=False)"
   ]
  },
  {
   "cell_type": "code",
   "execution_count": null,
   "metadata": {
    "ExecuteTime": {
     "end_time": "2021-09-19T02:50:51.826593Z",
     "start_time": "2021-09-19T02:50:51.826587Z"
    },
    "colab": {
     "base_uri": "https://localhost:8080/",
     "height": 421
    },
    "id": "5zEeQlqnvWeN",
    "outputId": "845dc810-044b-49ef-dc21-bb7820223e4d"
   },
   "outputs": [],
   "source": [
    "results_summary_table"
   ]
  },
  {
   "cell_type": "code",
   "execution_count": null,
   "metadata": {
    "ExecuteTime": {
     "end_time": "2021-09-19T02:50:51.827308Z",
     "start_time": "2021-09-19T02:50:51.827301Z"
    },
    "id": "hbgebKI9vWeN"
   },
   "outputs": [],
   "source": [
    "results_summary_table.columns = ['Cases', 'Responses', 'Accuracy']"
   ]
  },
  {
   "cell_type": "code",
   "execution_count": null,
   "metadata": {
    "ExecuteTime": {
     "end_time": "2021-09-19T02:50:51.827966Z",
     "start_time": "2021-09-19T02:50:51.827959Z"
    },
    "colab": {
     "base_uri": "https://localhost:8080/",
     "height": 390
    },
    "id": "RnqxThXNvWeN",
    "outputId": "0688bb90-12ef-455d-d6e7-7110514bcab9"
   },
   "outputs": [],
   "source": [
    "results_summary_table"
   ]
  },
  {
   "cell_type": "code",
   "execution_count": null,
   "metadata": {
    "ExecuteTime": {
     "end_time": "2021-09-19T02:50:51.828726Z",
     "start_time": "2021-09-19T02:50:51.828717Z"
    },
    "id": "3t490aaGvWeN"
   },
   "outputs": [],
   "source": [
    "results_summary_table['Pct. Cases'] = results_summary_table['Cases'] / results_summary_table['Cases'].sum()\n",
    "results_summary_table['Pct. Responses'] = results_summary_table['Responses'] / results_summary_table['Responses'].sum()"
   ]
  },
  {
   "cell_type": "code",
   "execution_count": null,
   "metadata": {
    "ExecuteTime": {
     "end_time": "2021-09-19T02:50:51.829435Z",
     "start_time": "2021-09-19T02:50:51.829428Z"
    },
    "colab": {
     "base_uri": "https://localhost:8080/",
     "height": 390
    },
    "id": "SkipyUdgvWeO",
    "outputId": "f907ef5d-d6a2-41e6-ad35-4d4ef7703fdb"
   },
   "outputs": [],
   "source": [
    "results_summary_table"
   ]
  },
  {
   "cell_type": "code",
   "execution_count": null,
   "metadata": {
    "ExecuteTime": {
     "end_time": "2021-09-19T02:50:51.830079Z",
     "start_time": "2021-09-19T02:50:51.830072Z"
    },
    "id": "nNW7qtTjvWeO"
   },
   "outputs": [],
   "source": [
    "results_summary_table['Cum. Cases'] = results_summary_table['Cases'].cumsum()\n",
    "results_summary_table['Cum. Responses'] = results_summary_table['Responses'].cumsum()"
   ]
  },
  {
   "cell_type": "code",
   "execution_count": null,
   "metadata": {
    "ExecuteTime": {
     "end_time": "2021-09-19T02:50:51.830851Z",
     "start_time": "2021-09-19T02:50:51.830845Z"
    },
    "colab": {
     "base_uri": "https://localhost:8080/",
     "height": 390
    },
    "id": "UyyZrGvLvWeO",
    "outputId": "23f33592-7cc1-4dc5-9f3b-20de62e425aa"
   },
   "outputs": [],
   "source": [
    "results_summary_table"
   ]
  },
  {
   "cell_type": "code",
   "execution_count": null,
   "metadata": {
    "ExecuteTime": {
     "end_time": "2021-09-19T02:50:51.831342Z",
     "start_time": "2021-09-19T02:50:51.831335Z"
    },
    "id": "pzmP1kTOvWeO"
   },
   "outputs": [],
   "source": [
    "results_summary_table['Cum. Pct. Cases'] = results_summary_table['Pct. Cases'].cumsum()\n",
    "results_summary_table['Cum. Pct. Responses'] = results_summary_table['Pct. Responses'].cumsum()"
   ]
  },
  {
   "cell_type": "code",
   "execution_count": null,
   "metadata": {
    "ExecuteTime": {
     "end_time": "2021-09-19T02:50:51.832021Z",
     "start_time": "2021-09-19T02:50:51.832013Z"
    },
    "colab": {
     "base_uri": "https://localhost:8080/",
     "height": 577
    },
    "id": "tYqYGoNevWeP",
    "outputId": "4c7e7cb2-5bdf-4eaf-c672-7835fb183fb4"
   },
   "outputs": [],
   "source": [
    "results_summary_table"
   ]
  },
  {
   "cell_type": "code",
   "execution_count": null,
   "metadata": {
    "ExecuteTime": {
     "end_time": "2021-09-19T02:50:51.832684Z",
     "start_time": "2021-09-19T02:50:51.832676Z"
    },
    "id": "i8U5BKJ9vWeQ"
   },
   "outputs": [],
   "source": [
    "def get_gain_table(model, X_test, y_test):\n",
    "    y_score = pd.DataFrame(model.predict_proba(X_test)[:,1], index=y_test.index, columns=['Score'])\n",
    "    results_df = y_test.join(y_score)\n",
    "    results_df['Decile'] = pd.qcut(results_df['Score'], q=10)\n",
    "    results_summary_table = results_df.pivot_table(index='Decile', values=y_test.columns, aggfunc=[len, np.sum, np.mean]).sort_index(ascending=False)\n",
    "    results_summary_table.columns = ['Cases', 'Responses', 'Accuracy']\n",
    "    results_summary_table['Pct. Cases'] = results_summary_table['Cases'] / results_summary_table['Cases'].sum()\n",
    "    results_summary_table['Pct. Responses'] = results_summary_table['Responses'] / results_summary_table['Responses'].sum()\n",
    "    results_summary_table['Cum. Cases'] = results_summary_table['Cases'].cumsum()\n",
    "    results_summary_table['Cum. Responses'] = results_summary_table['Responses'].cumsum()\n",
    "    results_summary_table['Cum. Pct. Cases'] = results_summary_table['Pct. Cases'].cumsum()\n",
    "    results_summary_table['Cum. Pct. Responses'] = results_summary_table['Pct. Responses'].cumsum()\n",
    "    return results_summary_table"
   ]
  },
  {
   "cell_type": "code",
   "execution_count": null,
   "metadata": {
    "ExecuteTime": {
     "end_time": "2021-09-19T02:50:51.833218Z",
     "start_time": "2021-09-19T02:50:51.833211Z"
    },
    "colab": {
     "base_uri": "https://localhost:8080/",
     "height": 577
    },
    "id": "t7lQdd64vWeR",
    "outputId": "e2902897-689a-48a6-d97f-e85d46e0c379"
   },
   "outputs": [],
   "source": [
    "rf_results_summary_table = get_gain_table(rf, X_test, y_test)\n",
    "rf_results_summary_table"
   ]
  },
  {
   "cell_type": "code",
   "execution_count": null,
   "metadata": {
    "ExecuteTime": {
     "end_time": "2021-09-19T02:50:51.833982Z",
     "start_time": "2021-09-19T02:50:51.833976Z"
    },
    "colab": {
     "base_uri": "https://localhost:8080/"
    },
    "id": "93KKFlrrvWeR",
    "outputId": "71c6f0e7-efdc-42fe-984d-e17011516472"
   },
   "outputs": [],
   "source": [
    "gb = GradientBoostingClassifier(n_estimators=50, max_depth=5, min_samples_split=500, random_state=42)\n",
    "gb.fit(X_train, np.ravel(y_train))"
   ]
  },
  {
   "cell_type": "code",
   "execution_count": null,
   "metadata": {
    "ExecuteTime": {
     "end_time": "2021-09-19T02:50:51.834736Z",
     "start_time": "2021-09-19T02:50:51.834729Z"
    },
    "id": "oHRXUWGMvWeR"
   },
   "outputs": [],
   "source": [
    "y_score = pd.DataFrame(gb.predict_proba(X_test)[:,1], index=y_test.index, columns=['DelayScore'])"
   ]
  },
  {
   "cell_type": "code",
   "execution_count": null,
   "metadata": {
    "ExecuteTime": {
     "end_time": "2021-09-19T02:50:51.835446Z",
     "start_time": "2021-09-19T02:50:51.835437Z"
    },
    "id": "67kU5VAHvWeS"
   },
   "outputs": [],
   "source": [
    "results_df = y_test.join(y_score)"
   ]
  },
  {
   "cell_type": "code",
   "execution_count": null,
   "metadata": {
    "ExecuteTime": {
     "end_time": "2021-09-19T02:50:51.835917Z",
     "start_time": "2021-09-19T02:50:51.835910Z"
    },
    "colab": {
     "base_uri": "https://localhost:8080/"
    },
    "id": "3Bi6BjzmvWeS",
    "outputId": "d8885a7e-b91c-4369-8516-ac523d74fc8e"
   },
   "outputs": [],
   "source": [
    "print(metrics.roc_auc_score(results_df['ARR_DEL15'], results_df['DelayScore']))"
   ]
  },
  {
   "cell_type": "code",
   "execution_count": null,
   "metadata": {
    "ExecuteTime": {
     "end_time": "2021-09-19T02:50:51.836531Z",
     "start_time": "2021-09-19T02:50:51.836524Z"
    },
    "colab": {
     "base_uri": "https://localhost:8080/",
     "height": 577
    },
    "id": "jbsA96JavWeS",
    "outputId": "2ab78679-b99b-4aac-894f-7c90c083a1b7"
   },
   "outputs": [],
   "source": [
    "gb_results_summary_table = get_gain_table(gb, X_test, y_test)\n",
    "gb_results_summary_table"
   ]
  },
  {
   "cell_type": "markdown",
   "metadata": {
    "id": "FnWTM7fqvWeS"
   },
   "source": [
    "### Comparación de modelos"
   ]
  },
  {
   "cell_type": "code",
   "execution_count": null,
   "metadata": {
    "ExecuteTime": {
     "end_time": "2021-09-19T02:50:51.837145Z",
     "start_time": "2021-09-19T02:50:51.837139Z"
    },
    "id": "_1JdfvMFvWeT"
   },
   "outputs": [],
   "source": [
    "RANDOM_STATE = 42\n",
    "n_estimators = 50\n",
    "max_depth = 5\n",
    "\n",
    "models = [ \n",
    "    ('DecisionTree', DecisionTreeClassifier(max_depth=max_depth, random_state=42)),\n",
    "    ('RandomForest', RandomForestClassifier(n_estimators=n_estimators, max_depth=max_depth, random_state=RANDOM_STATE)),\n",
    "    ('GradientBoosting', GradientBoostingClassifier(n_estimators=n_estimators, max_depth=max_depth, random_state=RANDOM_STATE))\n",
    "]"
   ]
  },
  {
   "cell_type": "code",
   "execution_count": null,
   "metadata": {
    "ExecuteTime": {
     "end_time": "2021-09-19T02:50:51.837587Z",
     "start_time": "2021-09-19T02:50:51.837580Z"
    },
    "colab": {
     "base_uri": "https://localhost:8080/",
     "height": 350
    },
    "id": "plDVACx2vWeT",
    "outputId": "8740a39e-a139-454c-ca62-ce3e2e0fa453"
   },
   "outputs": [],
   "source": [
    "plt.clf()\n",
    "for model in models:\n",
    "    model_name = model[0]\n",
    "    model_instance = model[1]\n",
    "    model_instance.fit(X_train, np.ravel(y_train))\n",
    "    predictions = model_instance.predict_proba(X_test)[:,1]\n",
    "    auc_score = metrics.roc_auc_score(y_test, predictions)\n",
    "    print('ROC AUC Score for {}: {}'.format(model_name, auc_score))\n",
    "    fpr, tpr, _ = metrics.roc_curve(y_test, predictions)\n",
    "    plt.plot(fpr, tpr, label='ROC Curve for {} - Area: {:2f}'.format(model_name, auc_score))\n",
    "plt.plot([0, 1], [0, 1], color='gray', linestyle='--')\n",
    "plt.xlabel('FPR')\n",
    "plt.ylabel('TPR')\n",
    "plt.legend(loc=\"lower right\")\n",
    "plt.title('ROC curve')\n",
    "plt.show()"
   ]
  }
 ],
 "metadata": {
  "colab": {
   "collapsed_sections": [
    "3NoiFOkFvWdD",
    "w64X7KISvWdE",
    "41HtUB_AvWdM",
    "G0Fk9u-xvWdO",
    "43VUn-8QvWdO",
    "OPpx4kIxvWdQ",
    "AbGJO3dOvWda",
    "64q8nGXhvWdb",
    "jBnu6hbrvWde",
    "Tjf7IBtsvWdg",
    "VN-86LR1vWdi",
    "Ppw_NE3bvWdk",
    "GN8kjZPMvWdk",
    "BMKQxE29vWdl",
    "0P_w1ekavWdm",
    "kDuwlgYEvWd0",
    "TR6j5G4AvWd0",
    "q_avHO-mvWd4",
    "MhZ1JbOXvWd5",
    "qO-Z1m-hvWd5",
    "wq1tiYKsvWd6",
    "F2ho0HhTvWd7",
    "3_TRpbgavWd9",
    "3DZFSnDYvWd-",
    "PBcTUnR-vWd_",
    "pksjfFA0vWeB",
    "ujgHI8ATvWeD",
    "w4RJX8vYvWeE",
    "CID0VXAovWeG",
    "FnWTM7fqvWeS"
   ],
   "name": "Binary Classifier - JFK Flights Delay.ipynb",
   "provenance": []
  },
  "kernelspec": {
   "display_name": "Python 3.8.8 64-bit ('NuclioDigitalSchool': conda)",
   "language": "python",
   "name": "python388jvsc74a57bd036b9a2a0f226926490f5535038bc0776dc6ef9541a368ddb54f9a85170198278"
  },
  "language_info": {
   "codemirror_mode": {
    "name": "ipython",
    "version": 3
   },
   "file_extension": ".py",
   "mimetype": "text/x-python",
   "name": "python",
   "nbconvert_exporter": "python",
   "pygments_lexer": "ipython3",
   "version": "3.8.8"
  },
  "nbTranslate": {
   "displayLangs": [
    "*"
   ],
   "hotkey": "alt-t",
   "langInMainMenu": true,
   "sourceLang": "en",
   "targetLang": "fr",
   "useGoogleTranslate": true
  },
  "toc": {
   "base_numbering": 1,
   "nav_menu": {},
   "number_sections": true,
   "sideBar": true,
   "skip_h1_title": true,
   "title_cell": "Table of Contents",
   "title_sidebar": "Contents",
   "toc_cell": true,
   "toc_position": {
    "height": "calc(100% - 180px)",
    "left": "10px",
    "top": "150px",
    "width": "373.328px"
   },
   "toc_section_display": true,
   "toc_window_display": true
  },
  "varInspector": {
   "cols": {
    "lenName": 16,
    "lenType": 16,
    "lenVar": 40
   },
   "kernels_config": {
    "python": {
     "delete_cmd_postfix": "",
     "delete_cmd_prefix": "del ",
     "library": "var_list.py",
     "varRefreshCmd": "print(var_dic_list())"
    },
    "r": {
     "delete_cmd_postfix": ") ",
     "delete_cmd_prefix": "rm(",
     "library": "var_list.r",
     "varRefreshCmd": "cat(var_dic_list()) "
    }
   },
   "types_to_exclude": [
    "module",
    "function",
    "builtin_function_or_method",
    "instance",
    "_Feature"
   ],
   "window_display": false
  }
 },
 "nbformat": 4,
 "nbformat_minor": 1
}
