{
 "cells": [
  {
   "cell_type": "markdown",
   "metadata": {},
   "source": [
    "# Introducción a pandas"
   ]
  },
  {
   "cell_type": "markdown",
   "metadata": {},
   "source": [
    "__pandas es una librería de análisis de datos en Python__ que nos provee de las estructuras de datos y herramientas para realizar análisis de manera rápida. Se articula sobre la biblioteca NumPy y nos permite enfrentarnos a situaciones en las que tenemos que manejar datos reales que requieren seguir un proceso de carga, limpieza, filtrado, reduccióń y análisis. \n",
    "\n",
    "_En esta clase veremos como cargar y guardar datos, las características de las pricipales estructuras de pandas y las aplicaremos a algunos problemas._"
   ]
  },
  {
   "cell_type": "code",
   "execution_count": 8,
   "metadata": {
    "ExecuteTime": {
     "end_time": "2020-09-23T09:58:00.930542Z",
     "start_time": "2020-09-23T09:58:00.927614Z"
    }
   },
   "outputs": [],
   "source": [
    "# Importamos pandas\n",
    "import pandas as pd"
   ]
  },
  {
   "cell_type": "code",
   "execution_count": 9,
   "metadata": {
    "ExecuteTime": {
     "end_time": "2020-09-23T09:58:02.619996Z",
     "start_time": "2020-09-23T09:58:02.616092Z"
    }
   },
   "outputs": [],
   "source": [
    "# Otros imports\n",
    "# La siguiente instruccion permite incorporar las graficas en este documento (sin que se abra una nueva ventana para cada grafica)\n",
    "%matplotlib inline \n",
    "\n",
    "import matplotlib.pyplot as plt\n",
    "import numpy as np"
   ]
  },
  {
   "cell_type": "markdown",
   "metadata": {},
   "source": [
    "## Conozcamos pandas"
   ]
  },
  {
   "cell_type": "markdown",
   "metadata": {},
   "source": [
    "Pandas tiene 3 estructuras de datos principales: DataFrame, Series y Panels (más avanzada)."
   ]
  },
  {
   "cell_type": "markdown",
   "metadata": {},
   "source": [
    "### Dataframe\n",
    "El DataFrame es una estructura de datos tabular que se compone de columnas y filas ordenadas. Para que todo sea más sencillo vamos a ver un ejemplo de creación de un DataFrame (tabla) de un diccionario de listas. El siguiente ejemplo muestra un diccionario que consta de dos keys, Name y Age, y su correspondiente lista de valores."
   ]
  },
  {
   "cell_type": "code",
   "execution_count": null,
   "metadata": {
    "ExecuteTime": {
     "end_time": "2020-09-23T06:43:57.606546Z",
     "start_time": "2020-09-23T06:43:57.598738Z"
    }
   },
   "outputs": [],
   "source": [
    "nombre_edad = {\n",
    "    'Nombre' : ['Cristian', 'Carlos', 'David'],\n",
    "    'Edad' : [32, 55, 20]\n",
    "}\n",
    "\n",
    "df = pd.DataFrame(nombre_edad)\n",
    "print(type(df))\n",
    "df\n",
    "# Jupyter nos genera una visualización más bonita de las tablas si ponemos la variable directamente en vez de print(data_frame)"
   ]
  },
  {
   "cell_type": "code",
   "execution_count": null,
   "metadata": {
    "ExecuteTime": {
     "end_time": "2020-09-23T06:41:40.306832Z",
     "start_time": "2020-09-23T06:41:40.295121Z"
    }
   },
   "outputs": [],
   "source": [
    "# Cambiar el orden de las columnas\n",
    "df2 = pd.DataFrame(nombre_edad, columns = ['Edad', 'Nombre'])\n",
    "df2"
   ]
  },
  {
   "cell_type": "code",
   "execution_count": null,
   "metadata": {
    "ExecuteTime": {
     "end_time": "2020-09-23T06:44:39.541311Z",
     "start_time": "2020-09-23T06:44:39.533503Z"
    }
   },
   "outputs": [],
   "source": [
    "# Se pueden generar alias para los nombres de nuestras filas\n",
    "df2 = pd.DataFrame(nombre_edad, columns = ['Nombre', 'Edad'], index = ['a', 'b', 'c'])\n",
    "df2"
   ]
  },
  {
   "cell_type": "markdown",
   "metadata": {},
   "source": [
    "### Series\n",
    "Series es un objeto unidimensional (1D) similar a la columna de una tabla. Si queremos crear un Series para un listado de nombres, podemos hacer lo siguiente:"
   ]
  },
  {
   "cell_type": "code",
   "execution_count": null,
   "metadata": {
    "ExecuteTime": {
     "end_time": "2020-09-23T06:45:02.362115Z",
     "start_time": "2020-09-23T06:45:02.357235Z"
    }
   },
   "outputs": [],
   "source": [
    "serie_nombres = pd.Series(['Cristian', 'Carlos', 'David'], index = [1, 2, 3])\n",
    "print(serie_nombres)"
   ]
  },
  {
   "cell_type": "markdown",
   "metadata": {},
   "source": [
    "### Crear un Dataframe con objetos Series"
   ]
  },
  {
   "cell_type": "code",
   "execution_count": null,
   "metadata": {
    "ExecuteTime": {
     "end_time": "2020-09-23T06:47:22.148906Z",
     "start_time": "2020-09-23T06:47:22.142075Z"
    }
   },
   "outputs": [],
   "source": [
    "serie_nombres = pd.Series(['Cristian', 'Carlos', 'David'], name=\"Nombre\")\n",
    "df = serie_nombres.to_frame()\n",
    "print(type(df))\n",
    "df"
   ]
  },
  {
   "cell_type": "markdown",
   "metadata": {},
   "source": [
    "# Funciones de Pandas\n",
    "Ejemplos de algunas de las funciones que podemos utilizar con DataFrame y Series."
   ]
  },
  {
   "cell_type": "markdown",
   "metadata": {},
   "source": [
    "## Head y Tail\n",
    "Las funciones head() y tail() nos permiten ver una muestra de nuestros datos, especialmente cuando tenemos muchísimos. El número por defecto de elementos a mostrar es 5, pero se puede modificar.\n",
    "\n",
    "Digamos que tenemos un Series compuesto por 20,000 elementos aleatorios (números):"
   ]
  },
  {
   "cell_type": "code",
   "execution_count": null,
   "metadata": {
    "ExecuteTime": {
     "end_time": "2020-09-23T06:49:17.226979Z",
     "start_time": "2020-09-23T06:49:17.221121Z"
    }
   },
   "outputs": [],
   "source": [
    "numeros = pd.Series(np.random.randn(20000))\n",
    "print(numeros.head())\n",
    "print(numeros.tail())"
   ]
  },
  {
   "cell_type": "code",
   "execution_count": null,
   "metadata": {
    "ExecuteTime": {
     "end_time": "2020-09-23T06:49:19.283406Z",
     "start_time": "2020-09-23T06:49:19.277550Z"
    }
   },
   "outputs": [],
   "source": [
    "# Algunos calculos\n",
    "print(numeros.mean())\n",
    "print(numeros.max())\n",
    "print(numeros.min())"
   ]
  },
  {
   "cell_type": "markdown",
   "metadata": {},
   "source": [
    "## Add\n",
    "Ejemplo de uso de add, método que permite sumar elementos de nuestros dataframes"
   ]
  },
  {
   "cell_type": "code",
   "execution_count": null,
   "metadata": {
    "ExecuteTime": {
     "end_time": "2020-09-23T06:49:51.798807Z",
     "start_time": "2020-09-23T06:49:51.773431Z"
    }
   },
   "outputs": [],
   "source": [
    "dict_1 = {'A' : [5, 8, 10, 3, 9],'B' : [6, 1, 4, 8, 7]}\n",
    "dict_2 = {'A' : [4, 3, 7, 6, 1],'B' : [9, 10, 10, 1, 2]}\n",
    "data_frame_1 = pd.DataFrame(dict_1)\n",
    "data_frame_2 = pd.DataFrame(dict_2)\n",
    "data_frame_3 = data_frame_1.add(data_frame_2)\n",
    "print(data_frame_1)\n",
    "print(data_frame_2)\n",
    "print(data_frame_3)"
   ]
  },
  {
   "cell_type": "markdown",
   "metadata": {},
   "source": [
    "## Append\n",
    "Ejemplo de uso de append, método que permite concatenar registros de nuestros dataframes"
   ]
  },
  {
   "cell_type": "code",
   "execution_count": null,
   "metadata": {
    "ExecuteTime": {
     "end_time": "2020-09-23T06:50:41.319035Z",
     "start_time": "2020-09-23T06:50:41.309275Z"
    }
   },
   "outputs": [],
   "source": [
    "nombre_edad = {\n",
    "    \"nombre\": [\"Cristian\", \"Jose\", \"Sara\"], \n",
    "    \"edad\": [30, 40, 20]\n",
    "}\n",
    "data_frame = pd.DataFrame(nombre_edad)\n",
    "#print(data_frame)\n",
    "\n",
    "nombre_edad_2 = {\n",
    "    \"nombre\": [\"Cristian\", \"Jose\", \"Sara\"], \n",
    "    \"edad\": [300, 400, 200]\n",
    "}\n",
    "data_frame_2 = pd.DataFrame(nombre_edad_2)\n",
    "#print(data_frame_2)\n",
    "\n",
    "# Realizo la concatenación\n",
    "data_frame_total = data_frame.append(data_frame_2)\n",
    "data_frame_total"
   ]
  },
  {
   "cell_type": "markdown",
   "metadata": {},
   "source": [
    "Observar que los índices los ha concatenado pero no los ha reestructurado. A continuación la solución"
   ]
  },
  {
   "cell_type": "code",
   "execution_count": null,
   "metadata": {
    "ExecuteTime": {
     "end_time": "2020-09-23T06:51:32.440002Z",
     "start_time": "2020-09-23T06:51:32.430243Z"
    }
   },
   "outputs": [],
   "source": [
    "nombre_edad = {\n",
    "    \"nombre\": [\"Cristian\", \"Jose\", \"Sara\"], \n",
    "    \"edad\": [30, 40, 20]\n",
    "}\n",
    "data_frame = pd.DataFrame(nombre_edad)\n",
    "#print(data_frame)\n",
    "\n",
    "nombre_edad_2 = {\n",
    "    \"nombre\": [\"Cristian\", \"Jose\", \"Sara\"], \n",
    "    \"edad\": [300, 400, 200]\n",
    "}\n",
    "data_frame_2 = pd.DataFrame(nombre_edad_2)\n",
    "#print(data_frame_2)\n",
    "\n",
    "# Realizo la union\n",
    "data_frame_total = data_frame.append(data_frame_2, ignore_index = True)\n",
    "data_frame_total"
   ]
  },
  {
   "cell_type": "markdown",
   "metadata": {},
   "source": [
    "## Append de data frames con columnas diferentes"
   ]
  },
  {
   "cell_type": "code",
   "execution_count": null,
   "metadata": {
    "ExecuteTime": {
     "end_time": "2020-09-23T07:16:33.709840Z",
     "start_time": "2020-09-23T07:16:33.699573Z"
    }
   },
   "outputs": [],
   "source": [
    "nombre_edad = {\n",
    "    \"nombre\": [\"Cristian\", \"Jose\", \"Sara\"], \n",
    "    \"edad\": [30, 40, 20]\n",
    "}\n",
    "data_frame = pd.DataFrame(nombre_edad)\n",
    "#print(data_frame)\n",
    "\n",
    "nombre_edad_2 = {\n",
    "    \"nombre\": [\"Cristian\", \"Jose\", \"Sara\"], \n",
    "    \"edad\": [300, 400, 200],\n",
    "    \"altura\": [180, 200, 160]\n",
    "}\n",
    "data_frame_2 = pd.DataFrame(nombre_edad_2)\n",
    "#print(data_frame_2)\n",
    "\n",
    "# Realizo la union\n",
    "data_frame_total = data_frame.append(data_frame_2, ignore_index = True)\n",
    "data_frame_total"
   ]
  },
  {
   "cell_type": "markdown",
   "metadata": {},
   "source": [
    "## Búsqueda y eliminación de nulos"
   ]
  },
  {
   "cell_type": "code",
   "execution_count": null,
   "metadata": {
    "ExecuteTime": {
     "end_time": "2020-09-23T07:10:12.930446Z",
     "start_time": "2020-09-23T07:10:12.923614Z"
    }
   },
   "outputs": [],
   "source": [
    "data_frame_total.isnull()"
   ]
  },
  {
   "cell_type": "code",
   "execution_count": null,
   "metadata": {
    "ExecuteTime": {
     "end_time": "2020-09-23T07:12:37.745140Z",
     "start_time": "2020-09-23T07:12:37.740260Z"
    }
   },
   "outputs": [],
   "source": [
    "# Número de nulos por columnas\n",
    "data_frame_total.isnull().sum()"
   ]
  },
  {
   "cell_type": "code",
   "execution_count": null,
   "metadata": {
    "ExecuteTime": {
     "end_time": "2020-09-23T07:12:53.000741Z",
     "start_time": "2020-09-23T07:12:52.995861Z"
    }
   },
   "outputs": [],
   "source": [
    "# Número de nulos totales\n",
    "data_frame_total.isnull().sum().sum()"
   ]
  },
  {
   "cell_type": "code",
   "execution_count": null,
   "metadata": {
    "ExecuteTime": {
     "end_time": "2020-09-23T07:13:53.147133Z",
     "start_time": "2020-09-23T07:13:53.140306Z"
    }
   },
   "outputs": [],
   "source": [
    "# Mostrar las filas que tienen nulos\n",
    "data_frame_total[data_frame_total.isna().any(axis=1)]"
   ]
  },
  {
   "cell_type": "code",
   "execution_count": null,
   "metadata": {
    "ExecuteTime": {
     "end_time": "2020-09-23T07:18:03.979459Z",
     "start_time": "2020-09-23T07:18:03.971652Z"
    }
   },
   "outputs": [],
   "source": [
    "# Eliminación\n",
    "data_frame_total = data_frame_total.dropna()\n",
    "data_frame_total"
   ]
  },
  {
   "cell_type": "code",
   "execution_count": null,
   "metadata": {
    "ExecuteTime": {
     "end_time": "2020-09-23T07:18:54.351065Z",
     "start_time": "2020-09-23T07:18:54.340330Z"
    }
   },
   "outputs": [],
   "source": [
    "# Eliminación y reset de los indices\n",
    "data_frame_total = data_frame.append(data_frame_2, ignore_index = True)\n",
    "data_frame_total = data_frame_total.dropna()\n",
    "data_frame_total = data_frame_total.reset_index(drop=True)\n",
    "data_frame_total"
   ]
  },
  {
   "cell_type": "markdown",
   "metadata": {},
   "source": [
    "## Búsqueda y sustitución de nulos"
   ]
  },
  {
   "cell_type": "code",
   "execution_count": null,
   "metadata": {
    "ExecuteTime": {
     "end_time": "2020-09-23T07:08:05.771602Z",
     "start_time": "2020-09-23T07:08:05.764770Z"
    }
   },
   "outputs": [],
   "source": [
    "# Recuperamos el DF original con los nulos\n",
    "data_frame_total = data_frame.append(data_frame_2, ignore_index = True)\n",
    "data_frame_total"
   ]
  },
  {
   "cell_type": "code",
   "execution_count": null,
   "metadata": {
    "ExecuteTime": {
     "end_time": "2020-09-23T07:08:08.851191Z",
     "start_time": "2020-09-23T07:08:08.844359Z"
    }
   },
   "outputs": [],
   "source": [
    "# Realizamos una copia\n",
    "df_copia = data_frame_total.copy()\n",
    "df_copia"
   ]
  },
  {
   "cell_type": "code",
   "execution_count": null,
   "metadata": {
    "ExecuteTime": {
     "end_time": "2020-09-23T07:08:51.213963Z",
     "start_time": "2020-09-23T07:08:51.205180Z"
    }
   },
   "outputs": [],
   "source": [
    "# Sustituimos todos los NaN por 0\n",
    "df_copia = df_copia.fillna(0)\n",
    "df_copia\n",
    "# df_copia['altura'] = df_copia['altura'].fillna(0) # Sustituir NaN por 0 solo en una columna"
   ]
  },
  {
   "cell_type": "markdown",
   "metadata": {},
   "source": [
    "# Ejemplo de carga de datos y exploración\n",
    "Trabajaremos con el fichero csv weather.csv"
   ]
  },
  {
   "cell_type": "markdown",
   "metadata": {},
   "source": [
    "## Carga del csv"
   ]
  },
  {
   "cell_type": "code",
   "execution_count": 1,
   "metadata": {
    "ExecuteTime": {
     "end_time": "2020-09-23T09:58:13.478959Z",
     "start_time": "2020-09-23T09:58:13.273023Z"
    }
   },
   "outputs": [
    {
     "ename": "NameError",
     "evalue": "name 'pd' is not defined",
     "output_type": "error",
     "traceback": [
      "\u001b[1;31m---------------------------------------------------------------------------\u001b[0m",
      "\u001b[1;31mNameError\u001b[0m                                 Traceback (most recent call last)",
      "\u001b[1;32m<ipython-input-1-24c31a745fe6>\u001b[0m in \u001b[0;36m<module>\u001b[1;34m\u001b[0m\n\u001b[1;32m----> 1\u001b[1;33m \u001b[0mdf\u001b[0m \u001b[1;33m=\u001b[0m \u001b[0mpd\u001b[0m\u001b[1;33m.\u001b[0m\u001b[0mread_csv\u001b[0m\u001b[1;33m(\u001b[0m\u001b[1;34m'weather.csv'\u001b[0m\u001b[1;33m)\u001b[0m\u001b[1;33m\u001b[0m\u001b[1;33m\u001b[0m\u001b[0m\n\u001b[0m\u001b[0;32m      2\u001b[0m \u001b[0mdf\u001b[0m\u001b[1;33m\u001b[0m\u001b[1;33m\u001b[0m\u001b[0m\n",
      "\u001b[1;31mNameError\u001b[0m: name 'pd' is not defined"
     ]
    }
   ],
   "source": [
    "df = pd.read_csv('weather.csv')\n",
    "df"
   ]
  },
  {
   "cell_type": "markdown",
   "metadata": {},
   "source": [
    "## Tamaño"
   ]
  },
  {
   "cell_type": "code",
   "execution_count": null,
   "metadata": {
    "ExecuteTime": {
     "end_time": "2020-09-23T07:22:29.174706Z",
     "start_time": "2020-09-23T07:22:29.170802Z"
    }
   },
   "outputs": [],
   "source": [
    "# Número de filas\n",
    "print(len(df))"
   ]
  },
  {
   "cell_type": "markdown",
   "metadata": {},
   "source": [
    "## Columnas"
   ]
  },
  {
   "cell_type": "code",
   "execution_count": null,
   "metadata": {},
   "outputs": [],
   "source": [
    "print(df.index)\n",
    "print(df.columns)"
   ]
  },
  {
   "cell_type": "markdown",
   "metadata": {},
   "source": [
    "## Valores"
   ]
  },
  {
   "cell_type": "code",
   "execution_count": null,
   "metadata": {
    "ExecuteTime": {
     "end_time": "2020-09-23T07:22:58.117288Z",
     "start_time": "2020-09-23T07:22:58.067982Z"
    }
   },
   "outputs": [],
   "source": [
    "print(df.values)"
   ]
  },
  {
   "cell_type": "markdown",
   "metadata": {},
   "source": [
    "## Información general del dataframe"
   ]
  },
  {
   "cell_type": "code",
   "execution_count": null,
   "metadata": {
    "ExecuteTime": {
     "end_time": "2020-09-23T07:23:05.577681Z",
     "start_time": "2020-09-23T07:23:05.555234Z"
    }
   },
   "outputs": [],
   "source": [
    "df.info()"
   ]
  },
  {
   "cell_type": "markdown",
   "metadata": {},
   "source": [
    "## Head y Tail"
   ]
  },
  {
   "cell_type": "code",
   "execution_count": null,
   "metadata": {},
   "outputs": [],
   "source": [
    "df.head() # Primeras 5 filas"
   ]
  },
  {
   "cell_type": "code",
   "execution_count": null,
   "metadata": {},
   "outputs": [],
   "source": [
    "df.head(10) # Primeras 10 filas"
   ]
  },
  {
   "cell_type": "code",
   "execution_count": null,
   "metadata": {},
   "outputs": [],
   "source": [
    "df.tail() # Ultimas 5 filas"
   ]
  },
  {
   "cell_type": "code",
   "execution_count": null,
   "metadata": {},
   "outputs": [],
   "source": [
    "df.tail(10) # Ultimas 10 filas"
   ]
  },
  {
   "cell_type": "markdown",
   "metadata": {},
   "source": [
    "## Slicing"
   ]
  },
  {
   "cell_type": "code",
   "execution_count": null,
   "metadata": {},
   "outputs": [],
   "source": [
    "# Hacer slicing al dataframe, obtener 10 filas ubicadas entre las filas 20 y 30\n",
    "df[20:31]"
   ]
  },
  {
   "cell_type": "markdown",
   "metadata": {},
   "source": [
    "## Acceder a una columna en concreto"
   ]
  },
  {
   "cell_type": "code",
   "execution_count": null,
   "metadata": {
    "ExecuteTime": {
     "end_time": "2020-09-23T07:24:06.823990Z",
     "start_time": "2020-09-23T07:24:06.819108Z"
    }
   },
   "outputs": [],
   "source": [
    "# Acceder a una columna en particular del dataframe\n",
    "df['Humidity'].head(10) "
   ]
  },
  {
   "cell_type": "code",
   "execution_count": null,
   "metadata": {
    "ExecuteTime": {
     "end_time": "2020-09-23T09:11:25.394333Z",
     "start_time": "2020-09-23T09:11:25.387502Z"
    }
   },
   "outputs": [],
   "source": [
    "# Hacer slicing al dataframe, obtener 10 filas ubicadas entre las filas 20 y 30\n",
    "df[\"Humidity\"][20:31]"
   ]
  },
  {
   "cell_type": "markdown",
   "metadata": {},
   "source": [
    "## Algunos cálculos"
   ]
  },
  {
   "cell_type": "code",
   "execution_count": null,
   "metadata": {
    "ExecuteTime": {
     "end_time": "2020-09-23T09:09:20.546515Z",
     "start_time": "2020-09-23T09:09:20.539683Z"
    }
   },
   "outputs": [],
   "source": [
    "min_h = df['Humidity'].min()\n",
    "max_h = df['Humidity'].max()\n",
    "mean_h = df['Humidity'].mean(skipna = True) # Omitimos los nulos para este calculo\n",
    "sum_h = df['Humidity'].sum()\n",
    "\n",
    "id_min_h = df['Humidity'].idxmin()\n",
    "id_max_h = df['Humidity'].idxmax()\n",
    "\n",
    "print(\"Humedad mínima: {} -> Posición: {}\".format(min_h, id_min_h))\n",
    "print(\"Humedad máxima: {} -> Posición: {}\".format(max_h, id_max_h))"
   ]
  },
  {
   "cell_type": "markdown",
   "metadata": {},
   "source": [
    "## Ordenación y selección de series"
   ]
  },
  {
   "cell_type": "code",
   "execution_count": null,
   "metadata": {},
   "outputs": [],
   "source": [
    "# Ordenando una columna\n",
    "temps = df['Temperature (C)']\n",
    "print(type(temps)) # Como se ve, temps es una serie de panda\n",
    "temps_ordenadas = temps.sort_values(ascending=False)\n",
    "print(temps_ordenadas[:5])"
   ]
  },
  {
   "cell_type": "code",
   "execution_count": null,
   "metadata": {
    "ExecuteTime": {
     "end_time": "2020-09-23T09:32:53.369378Z",
     "start_time": "2020-09-23T09:32:53.329351Z"
    }
   },
   "outputs": [],
   "source": [
    "# Ordenando todo el dataframe\n",
    "ordenado = df.sort_values(by=[\"Temperature (C)\"], ascending=False)\n",
    "ordenado"
   ]
  },
  {
   "cell_type": "code",
   "execution_count": null,
   "metadata": {
    "ExecuteTime": {
     "end_time": "2020-09-23T09:33:13.402718Z",
     "start_time": "2020-09-23T09:33:13.353918Z"
    }
   },
   "outputs": [],
   "source": [
    "# Ordenando por multiples columnas todo el dataframe\n",
    "ordenado = df.sort_values(by=[\"Temperature (C)\", \"Apparent Temperature (C)\"], ascending=False)\n",
    "ordenado"
   ]
  },
  {
   "cell_type": "code",
   "execution_count": null,
   "metadata": {
    "ExecuteTime": {
     "end_time": "2020-09-23T09:33:27.731357Z",
     "start_time": "2020-09-23T09:33:27.698174Z"
    }
   },
   "outputs": [],
   "source": [
    "# Ordenando por una columna todo el dataframe, con los NaN arriba del todo\n",
    "ordenado = df.sort_values(by=[\"Temperature (C)\"], ascending=False, na_position=\"first\")\n",
    "ordenado"
   ]
  },
  {
   "cell_type": "markdown",
   "metadata": {},
   "source": [
    "## Gráficos de Pandas. Histograma (distribución de los datos de una columna)"
   ]
  },
  {
   "cell_type": "code",
   "execution_count": 6,
   "metadata": {
    "ExecuteTime": {
     "end_time": "2020-09-23T09:46:19.003305Z",
     "start_time": "2020-09-23T09:46:18.881305Z"
    }
   },
   "outputs": [
    {
     "data": {
      "text/plain": [
       "<matplotlib.axes._subplots.AxesSubplot at 0x1dd04bfd850>"
      ]
     },
     "execution_count": 6,
     "metadata": {},
     "output_type": "execute_result"
    },
    {
     "data": {
      "image/png": "[encoded data removed]",
      "text/plain": [
       "<Figure size 432x288 with 1 Axes>"
      ]
     },
     "metadata": {
      "needs_background": "light"
     },
     "output_type": "display_data"
    }
   ],
   "source": [
    "df['Temperature (C)'].hist()"
   ]
  },
  {
   "cell_type": "code",
   "execution_count": 7,
   "metadata": {
    "ExecuteTime": {
     "end_time": "2020-09-23T09:46:21.383766Z",
     "start_time": "2020-09-23T09:46:21.256887Z"
    }
   },
   "outputs": [
    {
     "data": {
      "text/plain": [
       "<matplotlib.axes._subplots.AxesSubplot at 0x1dd05303d60>"
      ]
     },
     "execution_count": 7,
     "metadata": {},
     "output_type": "execute_result"
    },
    {
     "data": {
      "image/png": "[encoded data removed]",
      "text/plain": [
       "<Figure size 432x288 with 1 Axes>"
      ]
     },
     "metadata": {
      "needs_background": "light"
     },
     "output_type": "display_data"
    }
   ],
   "source": [
    "df['Temperature (C)'].plot()"
   ]
  },
  {
   "cell_type": "code",
   "execution_count": 7,
   "metadata": {
    "ExecuteTime": {
     "end_time": "2020-09-23T09:58:22.667988Z",
     "start_time": "2020-09-23T09:58:19.991798Z"
    }
   },
   "outputs": [
    {
     "data": {
      "image/png": "[encoded data removed]",
      "text/plain": [
       "<Figure size 432x288 with 1 Axes>"
      ]
     },
     "metadata": {
      "needs_background": "light"
     },
     "output_type": "display_data"
    }
   ],
   "source": [
    "grafico = df['Temperature (C)'].plot(kind='kde')"
   ]
  },
  {
   "cell_type": "markdown",
   "metadata": {},
   "source": [
    "## Condicionales\n",
    "  * <code>df[\"columna\"][\"condicion\"] </code> <br>\n",
    "   Se devuelven todos los valores de esa columna que cumplan la condición"
   ]
  },
  {
   "cell_type": "code",
   "execution_count": null,
   "metadata": {
    "ExecuteTime": {
     "end_time": "2020-09-23T09:17:15.135326Z",
     "start_time": "2020-09-23T09:17:15.113855Z"
    }
   },
   "outputs": [],
   "source": [
    "media_humedad = df[\"Humidity\"].mean()\n",
    "df[df[\"Humidity\"] <= media_humedad]"
   ]
  },
  {
   "cell_type": "code",
   "execution_count": null,
   "metadata": {
    "ExecuteTime": {
     "end_time": "2020-09-23T09:17:19.809385Z",
     "start_time": "2020-09-23T09:17:19.802553Z"
    }
   },
   "outputs": [],
   "source": [
    "# Mostrar la temperatura cuya humedad sea menor o igual que la media de humedades \n",
    "df['Temperature (C)'][df['Humidity'] <= df['Humidity'].mean()]"
   ]
  },
  {
   "cell_type": "code",
   "execution_count": null,
   "metadata": {
    "ExecuteTime": {
     "end_time": "2020-09-23T09:18:13.625960Z",
     "start_time": "2020-09-23T09:18:13.619128Z"
    }
   },
   "outputs": [],
   "source": [
    "# Mostrar la temperatura cuya temperatura sea mayor o igual que la media de temperaturas \n",
    "df['Temperature (C)'][d# f['Temperature (C)'] >= df['Temperature (C)'].mean()]"
   ]
  },
  {
   "cell_type": "code",
   "execution_count": null,
   "metadata": {},
   "outputs": [],
   "source": [
    "df[df[\"Summary\"] == \"Foggy\"]"
   ]
  },
  {
   "cell_type": "code",
   "execution_count": null,
   "metadata": {},
   "outputs": [],
   "source": [
    "df[df[\"Precip Type\"] == \"snow\"]"
   ]
  },
  {
   "cell_type": "code",
   "execution_count": null,
   "metadata": {},
   "outputs": [],
   "source": [
    "# Condiciones con AND\n",
    "df[(df[\"Precip Type\"] == \"snow\") & (df[\"Summary\"] == \"Foggy\")]"
   ]
  },
  {
   "cell_type": "code",
   "execution_count": null,
   "metadata": {},
   "outputs": [],
   "source": [
    "# Condiciones con OR\n",
    "df[(df[\"Precip Type\"] == \"snow\") | (df[\"Summary\"] == \"Foggy\")]"
   ]
  },
  {
   "cell_type": "markdown",
   "metadata": {},
   "source": [
    "## Otras funciones"
   ]
  },
  {
   "cell_type": "code",
   "execution_count": null,
   "metadata": {},
   "outputs": [],
   "source": [
    "# Convertir a mayusculas la columna Summary\n",
    "df[\"Summary\"] = df[\"Summary\"].str.upper()\n",
    "df[\"Summary\"]"
   ]
  },
  {
   "cell_type": "code",
   "execution_count": null,
   "metadata": {},
   "outputs": [],
   "source": [
    "# Convertir a minusculas la columna Summary\n",
    "df[\"Summary\"] = df[\"Summary\"].str.lower()\n",
    "df[\"Summary\"]"
   ]
  },
  {
   "cell_type": "code",
   "execution_count": null,
   "metadata": {},
   "outputs": [],
   "source": [
    "# Capitalizar la columna Summary\n",
    "df[\"Summary\"] = df[\"Summary\"].str.capitalize()\n",
    "df[\"Summary\"]"
   ]
  },
  {
   "cell_type": "code",
   "execution_count": null,
   "metadata": {},
   "outputs": [],
   "source": [
    "# Capitalizar todas las palabras de la columna Summary\n",
    "df[\"Summary\"] = df[\"Summary\"].str.title()\n",
    "df[\"Summary\"]"
   ]
  },
  {
   "cell_type": "code",
   "execution_count": null,
   "metadata": {},
   "outputs": [],
   "source": [
    "# Intercambiar mayusculas por minusculas\n",
    "df[\"Summary\"] = df[\"Summary\"].str.swapcase()\n",
    "df[\"Summary\"]"
   ]
  },
  {
   "cell_type": "code",
   "execution_count": null,
   "metadata": {},
   "outputs": [],
   "source": [
    "# Comprobar los registros unicos de una columna\n",
    "df[\"Temperature (C)\"].unique()\n",
    "print(\"Num registros: \", len(df[\"Temperature (C)\"].unique()))\n",
    "print(\"Num registros: \", df[\"Temperature (C)\"].unique().shape)"
   ]
  },
  {
   "cell_type": "code",
   "execution_count": null,
   "metadata": {},
   "outputs": [],
   "source": [
    "# Filtrado con loc\n",
    "df.loc[df[\"Summary\"] == \"Foggy\"]"
   ]
  },
  {
   "cell_type": "code",
   "execution_count": null,
   "metadata": {},
   "outputs": [],
   "source": [
    "df[\"Summary\"].loc[df[\"Summary\"] == \"Foggy\"]"
   ]
  },
  {
   "cell_type": "code",
   "execution_count": null,
   "metadata": {},
   "outputs": [],
   "source": [
    "df.loc[df[\"Summary\"]==\"Foggy\",[\"Temperature (C)\",\"Humidity\"]]"
   ]
  },
  {
   "cell_type": "markdown",
   "metadata": {},
   "source": [
    "## Conversión\n",
    "En ocasiones, se necesita convertir una serie de pandas en una lista para poder trabajar de forma nativa desde Python\n",
    "\n",
    "### Conversión de una columna a lista"
   ]
  },
  {
   "cell_type": "code",
   "execution_count": null,
   "metadata": {
    "ExecuteTime": {
     "end_time": "2020-09-23T09:29:39.363712Z",
     "start_time": "2020-09-23T09:29:31.282442Z"
    }
   },
   "outputs": [],
   "source": [
    "temps = df['Temperature (C)']\n",
    "print(type(temps)) # Como se ve, temps es una serie de panda\n",
    "\n",
    "temps_list = df['Temperature (C)'].tolist() \n",
    "print(type(temps_list))\n",
    "\n",
    "print(\"\\nListado de temperaturas\")\n",
    "for t in temps_list:\n",
    "    print(round(t, 2))"
   ]
  },
  {
   "cell_type": "markdown",
   "metadata": {},
   "source": [
    "### Conversión de todo el dataframe a una lista"
   ]
  },
  {
   "cell_type": "code",
   "execution_count": null,
   "metadata": {
    "ExecuteTime": {
     "end_time": "2020-09-23T09:40:12.590880Z",
     "start_time": "2020-09-23T09:40:12.464977Z"
    }
   },
   "outputs": [],
   "source": [
    "df.to_dict('list')"
   ]
  },
  {
   "cell_type": "markdown",
   "metadata": {},
   "source": [
    "### Conversión de todo el dataframe a un diccionario"
   ]
  },
  {
   "cell_type": "code",
   "execution_count": null,
   "metadata": {
    "ExecuteTime": {
     "end_time": "2020-09-23T09:42:27.616414Z",
     "start_time": "2020-09-23T09:42:27.217232Z"
    }
   },
   "outputs": [],
   "source": [
    "df_dict = df.to_dict('dict')\n",
    "# Mostrar las claves\n",
    "for i in df_dict:\n",
    "    print(i)"
   ]
  },
  {
   "cell_type": "markdown",
   "metadata": {},
   "source": [
    "### Conversión de todo el dataframe a series"
   ]
  },
  {
   "cell_type": "code",
   "execution_count": null,
   "metadata": {
    "ExecuteTime": {
     "end_time": "2020-09-23T09:43:07.907598Z",
     "start_time": "2020-09-23T09:43:07.893934Z"
    }
   },
   "outputs": [],
   "source": [
    "df.to_dict('series')"
   ]
  }
 ],
 "metadata": {
  "anaconda-cloud": {},
  "kernelspec": {
   "display_name": "Python 3",
   "language": "python",
   "name": "python3"
  },
  "language_info": {
   "codemirror_mode": {
    "name": "ipython",
    "version": 3
   },
   "file_extension": ".py",
   "mimetype": "text/x-python",
   "name": "python",
   "nbconvert_exporter": "python",
   "pygments_lexer": "ipython3",
   "version": "3.8.3"
  },
  "toc": {
   "base_numbering": 1,
   "nav_menu": {},
   "number_sections": true,
   "sideBar": true,
   "skip_h1_title": false,
   "title_cell": "Table of Contents",
   "title_sidebar": "Contents",
   "toc_cell": false,
   "toc_position": {},
   "toc_section_display": true,
   "toc_window_display": false
  },
  "varInspector": {
   "cols": {
    "lenName": 16,
    "lenType": 16,
    "lenVar": 40
   },
   "kernels_config": {
    "python": {
     "delete_cmd_postfix": "",
     "delete_cmd_prefix": "del ",
     "library": "var_list.py",
     "varRefreshCmd": "print(var_dic_list())"
    },
    "r": {
     "delete_cmd_postfix": ") ",
     "delete_cmd_prefix": "rm(",
     "library": "var_list.r",
     "varRefreshCmd": "cat(var_dic_list()) "
    }
   },
   "types_to_exclude": [
    "module",
    "function",
    "builtin_function_or_method",
    "instance",
    "_Feature"
   ],
   "window_display": false
  }
 },
 "nbformat": 4,
 "nbformat_minor": 1
}
