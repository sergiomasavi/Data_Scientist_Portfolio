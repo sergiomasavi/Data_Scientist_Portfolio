{
 "cells": [
  {
   "cell_type": "markdown",
   "id": "7fa1b530",
   "metadata": {
    "toc": true
   },
   "source": [
    "<h1>Table of Contents<span class=\"tocSkip\"></span></h1>\n",
    "<div class=\"toc\"><ul class=\"toc-item\"><li><span><a href=\"#Environment\" data-toc-modified-id=\"Environment-1\"><span class=\"toc-item-num\">1&nbsp;&nbsp;</span>Environment</a></span></li><li><span><a href=\"#Building-a-Decision-Tree\" data-toc-modified-id=\"Building-a-Decision-Tree-2\"><span class=\"toc-item-num\">2&nbsp;&nbsp;</span>Building a Decision Tree</a></span><ul class=\"toc-item\"><li><span><a href=\"#Quandl---Getting-the-data\" data-toc-modified-id=\"Quandl---Getting-the-data-2.1\"><span class=\"toc-item-num\">2.1&nbsp;&nbsp;</span>Quandl - Getting the <a href=\"https://blog.data.nasdaq.com/api-for-currency-data\" target=\"_blank\">data</a></a></span></li><li><span><a href=\"#YahooFinance---Getting-the-data\" data-toc-modified-id=\"YahooFinance---Getting-the-data-2.2\"><span class=\"toc-item-num\">2.2&nbsp;&nbsp;</span>YahooFinance - <a href=\"https://aroussi.com/post/python-yahoo-finance\" target=\"_blank\">Getting the data</a></a></span></li><li><span><a href=\"#Creating-the-predictors\" data-toc-modified-id=\"Creating-the-predictors-2.3\"><span class=\"toc-item-num\">2.3&nbsp;&nbsp;</span>Creating the predictors</a></span></li><li><span><a href=\"#Creating-the-target-variables\" data-toc-modified-id=\"Creating-the-target-variables-2.4\"><span class=\"toc-item-num\">2.4&nbsp;&nbsp;</span>Creating the target variables</a></span></li><li><span><a href=\"#Obtaining-the-data-set-for-decision-trees\" data-toc-modified-id=\"Obtaining-the-data-set-for-decision-trees-2.5\"><span class=\"toc-item-num\">2.5&nbsp;&nbsp;</span>Obtaining the data set for decision trees</a></span><ul class=\"toc-item\"><li><span><a href=\"#Classification\" data-toc-modified-id=\"Classification-2.5.1\"><span class=\"toc-item-num\">2.5.1&nbsp;&nbsp;</span>Classification</a></span></li><li><span><a href=\"#Regression\" data-toc-modified-id=\"Regression-2.5.2\"><span class=\"toc-item-num\">2.5.2&nbsp;&nbsp;</span>Regression</a></span></li></ul></li><li><span><a href=\"#Splitting-the-data-into-training-and-testing-data-sets\" data-toc-modified-id=\"Splitting-the-data-into-training-and-testing-data-sets-2.6\"><span class=\"toc-item-num\">2.6&nbsp;&nbsp;</span>Splitting the data into training and testing data sets</a></span><ul class=\"toc-item\"><li><span><a href=\"#Classification\" data-toc-modified-id=\"Classification-2.6.1\"><span class=\"toc-item-num\">2.6.1&nbsp;&nbsp;</span>Classification</a></span></li><li><span><a href=\"#Regression\" data-toc-modified-id=\"Regression-2.6.2\"><span class=\"toc-item-num\">2.6.2&nbsp;&nbsp;</span>Regression</a></span></li></ul></li><li><span><a href=\"#Decision-Trees-for-Classification\" data-toc-modified-id=\"Decision-Trees-for-Classification-2.7\"><span class=\"toc-item-num\">2.7&nbsp;&nbsp;</span>Decision Trees for Classification</a></span><ul class=\"toc-item\"><li><span><a href=\"#Visualize-Decision-Trees-for-Classification\" data-toc-modified-id=\"Visualize-Decision-Trees-for-Classification-2.7.1\"><span class=\"toc-item-num\">2.7.1&nbsp;&nbsp;</span>Visualize Decision Trees for Classification</a></span></li></ul></li><li><span><a href=\"#Performance-analysis\" data-toc-modified-id=\"Performance-analysis-2.8\"><span class=\"toc-item-num\">2.8&nbsp;&nbsp;</span>Performance analysis</a></span><ul class=\"toc-item\"><li><span><a href=\"#Confusion-matrix\" data-toc-modified-id=\"Confusion-matrix-2.8.1\"><span class=\"toc-item-num\">2.8.1&nbsp;&nbsp;</span>Confusion matrix</a></span></li><li><span><a href=\"#ROC-curve\" data-toc-modified-id=\"ROC-curve-2.8.2\"><span class=\"toc-item-num\">2.8.2&nbsp;&nbsp;</span>ROC curve</a></span></li></ul></li></ul></li></ul></div>"
   ]
  },
  {
   "cell_type": "markdown",
   "id": "9548c269",
   "metadata": {},
   "source": [
    "<img src=\"images/Tarjeta.png\">"
   ]
  },
  {
   "cell_type": "markdown",
   "id": "06e5c9c1",
   "metadata": {},
   "source": [
    "# Decision Tree For Trading Using Python\n",
    "\n",
    "By [Mario Pisa Peña](https://twitter.com/mariodevelop)"
   ]
  },
  {
   "cell_type": "markdown",
   "id": "4bb85de0",
   "metadata": {},
   "source": [
    "Decision Trees, are a Machine Supervised Learning method used in Classification and Regression problems, also known as CART.\n",
    "\n",
    "Remember that a Classification problem tries to classify unknown elements into a class or category; the output always are categorical variables (i.e. yes/no, up/down, red/blue/yellow, etc.)\n",
    "\n",
    "A Regression problem tries to forecast a number such as the return for the next day. It must not be confused with linear regression which is used to study the relationship between variables. Although the classification and regression problems have different objectives, the trees have the same structure:\n",
    "\n",
    "- The Root node, is at the top and has no incoming pathways.\n",
    "\n",
    "- Internal nodes or test nodes are at the middle and can be at different levels or sub-spaces, and have incoming and outgoing pathways.\n",
    "\n",
    "- Leaf nodes or decision nodes are at the bottom, have incoming pathways but no outgoing pathways and here we can find the expected outputs."
   ]
  },
  {
   "cell_type": "markdown",
   "id": "970532a1",
   "metadata": {},
   "source": [
    "<img src=\"images/DecisionTreeTheory.png\">"
   ]
  },
  {
   "cell_type": "markdown",
   "id": "eb9aa938",
   "metadata": {},
   "source": [
    "Thanks to Python’s Sklearn library, the tree is automatically created for us taking as a starting point the predictor variables that we hypothetically think are responsible for the output we are looking for.\n",
    "\n",
    "In this introduction post to decision trees, we will create a classification decision tree in Python to make forecasts about whether the financial instrument we are going to analyze will go up or down the next day.\n",
    "\n",
    "We will also [make a decision tree](https://quantra.quantinsti.com/course/decision-trees-analysis-trading-ernest-chan?_gl=1%2am4y7uo%2a_ga%2aMTAxMjU5ODgxMC4xNjM2ODEwMzQy%2a_ga_SXP1W7WL9G%2aMTYzNjgxMDM0MS4xLjEuMTYzNjgxMTM2My4w) to forecasts about the concrete return of the index the next day."
   ]
  },
  {
   "cell_type": "markdown",
   "id": "ec5ff5c1",
   "metadata": {},
   "source": [
    "## Environment\n",
    "\n",
    "\n",
    "- Python 3.8.12\n",
    "- Pandas library for data structure (version=1.3.4)\n",
    "- Numpy library with scientific mathematical functions (version=1.21.4).\n",
    "- Quandl library to retrieve market data ([Python Tutorial Installation](https://docs.data.nasdaq.com/docs/python-installation)\n",
    "- Ta-lib library to calculate technical indicators\n",
    "- Sklearn Machine Learning library to build the trees and perform analysis among many others things (1.0.1)\n",
    "- Graphviz library to plot the tree"
   ]
  },
  {
   "cell_type": "code",
   "execution_count": 102,
   "id": "a1445772",
   "metadata": {
    "ExecuteTime": {
     "end_time": "2021-11-13T22:05:29.662050Z",
     "start_time": "2021-11-13T22:05:29.653028Z"
    }
   },
   "outputs": [],
   "source": [
    "import pandas as pd\n",
    "import numpy as np\n",
    "import quandl\n",
    "import talib\n",
    "import sklearn\n",
    "import graphviz\n",
    "import os\n",
    "import configparser\n",
    "import requests\n",
    "from pprint import PrettyPrinter\n",
    "import tradermade\n",
    "import yfinance as yf\n",
    "import mplfinance as mpf\n",
    "from datetime import datetime, timedelta\n",
    "import sys\n",
    "import warnings\n",
    "from sklearn.model_selection import train_test_split\n",
    "from sklearn import tree\n",
    "from sklearn.metrics import classification_report, accuracy_score, confusion_matrix, roc_auc_score, roc_curve\n",
    "import matplotlib.pyplot as plt\n",
    "\n",
    "\n",
    "if not sys.warnoptions:\n",
    "    warnings.simplefilter(\"ignore\")"
   ]
  },
  {
   "cell_type": "markdown",
   "id": "8c9f25cc",
   "metadata": {},
   "source": [
    "## Building a Decision Tree\n",
    "\n",
    "Building a classification [decision tree](https://www.saedsayad.com/decision_tree.htm) or a [regression decision tree](https://www.saedsayad.com/decision_tree_reg.htm) is very similar in the way we organize the input data and predictor variables, then, by calling the corresponding functions, the classification decision tree or regression decision tree will be automatically created for us according to some criteria we must specify ([skelarn](https://scikit-learn.org/stable/modules/tree.html)).\n",
    "\n",
    "The main steps to build a decision tree are:\n",
    "\n",
    "1. Retrieve market __data__ for a financial instrument.\n",
    "2. Introduce the Predictor variables (i.e. [Technical indicators](https://www.investopedia.com/terms/t/technicalindicator.asp#:~:text=Technical%20indicators%20are%20heuristic%20or,to%20predict%20future%20price%20movements.), [Sentiment indicators](https://www.investopedia.com/terms/s/sentimentindicator.asp), [Breadth indicators](https://www.investopedia.com/terms/b/breadthindicator.asp), etc.)\n",
    "3. Setup the __Target__ variable or the desired output.\n",
    "4. __Split__ data between training and test data.\n",
    "5. Generate the decision tree __training__ the model.\n",
    "6. __Testing__ and __analyzing__ the model.\n",
    "\n",
    "\n",
    "If we look at the first four steps, they are common operations for data processing. If you are a newcomer to decision trees the predictor and target variables may sound exotic to you. However, they are nothing more than additional columns in the data frame that contain some type of indicator. These indicators or predictors are used to predict the target variable that is the financial instrument will go up or down for the classification model, or the future price level for the regression model. Likewise, splitting data is a mandatory task in any backtesting process (ML or not), the idea is to have one set of data to train the model and another set of data, which have not been used in training, to test the model.\n",
    "\n",
    "Steps 5 and 6 are related to the ML algorithms for the decision trees specifically. As we will see, the implementation in Python is quite simple. However it is fundamental to understand well the parameterization and the analysis of the results. This post is eminently practical and to go deeper into the underlying mathematics we recommend reading the references at the bottom of the post."
   ]
  },
  {
   "cell_type": "markdown",
   "id": "2850535b",
   "metadata": {},
   "source": [
    "### Quandl - Getting the [data](https://blog.data.nasdaq.com/api-for-currency-data)\n",
    "\n",
    "The raw material for any algorithm are data. In our case they would be the time series of financial instruments, such as indices, stocks etc. and it usually contains details like the opening price, maximum, minimum, closing price and volume. This information is recorded at a certain frequency, such as minutes, hours, days or weeks, and forms a time series.\n",
    "\n",
    "There are multiple data sources to download the data, free and premium. The most common sources for free daily data are Quandl, Yahoo or Google or any other data source we trust.\n",
    "\n",
    "Here, we are going to work with twenty years of daily data from the Emini S&P 500 that we will retrieve through [Quandl](https://data.nasdaq.com/) a \"Retail Trading Activity Tracker."
   ]
  },
  {
   "cell_type": "code",
   "execution_count": 2,
   "id": "898b8897",
   "metadata": {
    "ExecuteTime": {
     "end_time": "2021-11-13T21:16:17.905604Z",
     "start_time": "2021-11-13T21:16:17.902141Z"
    }
   },
   "outputs": [],
   "source": [
    "# Conectar con quandl por medio de la API KEY\n",
    "def create_dir(directory, info=None):\n",
    "    \"\"\"\n",
    "    Crear directorio de almacenamiento local\n",
    "    \n",
    "    Args:\n",
    "    -----\n",
    "        directory [{str}] -- Directorio\n",
    "    \"\"\"\n",
    "    # Crear directorio\n",
    "    if not os.path.exists(directory):\n",
    "        os.makedirs(directory)\n",
    "        \n",
    "    if info:\n",
    "        # Crear README.txt\n",
    "        readme_filename = 'README.txt'\n",
    "        with open(directory+readme_filename, 'w') as f:\n",
    "            f.write(info)         \n",
    "\n",
    "def read_env():\n",
    "    \"\"\"\n",
    "    Lectura de parámetros de configuración. \n",
    "    \n",
    "        - quandl_api_key => QUANDL API KEY.\n",
    "        \n",
    "    \"\"\"\n",
    "    config = configparser.ConfigParser()\n",
    "    try:\n",
    "        config.read_file(open(r'.env'))\n",
    "        quandl_api_key = config.get(\"ACCOUNTS\", \"QUANDL_API_KEY\")\n",
    "        tradermade_api_key = config.get(\"ACCOUNTS\",'TRADERMADE_API_KEY')\n",
    "    except Exception as e:\n",
    "        raise ('Error en el fichero de configuración. Por favor, reviselo o pongase en contacto con el desarrollador.')\n",
    "        \n",
    "    else:\n",
    "        return {'QUANDL_API_KEY':quandl_api_key,'TRADERMADE_API_KEY':tradermade_api_key}"
   ]
  },
  {
   "cell_type": "code",
   "execution_count": 3,
   "id": "33a82535",
   "metadata": {
    "ExecuteTime": {
     "end_time": "2021-11-13T21:16:17.908371Z",
     "start_time": "2021-11-13T21:16:17.906397Z"
    }
   },
   "outputs": [],
   "source": [
    "# Establecer conexión.\n",
    "quandl.ApiConfig.api_key = read_env()['QUANDL_API_KEY']"
   ]
  },
  {
   "cell_type": "code",
   "execution_count": 4,
   "id": "9e0651e8",
   "metadata": {
    "ExecuteTime": {
     "end_time": "2021-11-13T21:16:17.912784Z",
     "start_time": "2021-11-13T21:16:17.910114Z"
    }
   },
   "outputs": [],
   "source": [
    "def download_data_quandl(codes, start_date, end_date):\n",
    "    \"\"\"\n",
    "    Solicitar datos a QUANDL por medio de una cuenta demo.\n",
    "    \"\"\"\n",
    "    # Solicitar datos de la API.\n",
    "    quandl_data = dict()\n",
    "    for symbol, source_code in codes.items():\n",
    "        print('\\t-',symbol)\n",
    "        \n",
    "        # Descarga\n",
    "        df = quandl.get(source_code,start_date=start_date, end_date=end_date)\n",
    "        df['Symbol'] = symbol\n",
    "        \n",
    "        # Almacenamiento\n",
    "        quandl_data[symbol]=df.copy()\n",
    "        \n",
    "        # Liberar memoria\n",
    "        del df\n",
    "        \n",
    "    return quandl_data"
   ]
  },
  {
   "cell_type": "code",
   "execution_count": 5,
   "id": "9f23ddaa",
   "metadata": {
    "ExecuteTime": {
     "end_time": "2021-11-13T21:16:22.673775Z",
     "start_time": "2021-11-13T21:16:17.913807Z"
    }
   },
   "outputs": [
    {
     "name": "stdout",
     "output_type": "stream",
     "text": [
      "Downloading data...\n",
      "\t- AUDUSD\n",
      "\t- JPYUSD\n",
      "\t- GBPUSD\n",
      "Available datasets:\n",
      "\t - AUDUSD\n",
      "\t - JPYUSD\n",
      "\t - GBPUSD\n"
     ]
    }
   ],
   "source": [
    "# Añadir simbolos de descarga. Se descargarán desde Bank of England (BOE).\n",
    "codes = {'AUDUSD':'BOE/XUDLADD', 'JPYUSD':'BOE/XUDLJYD', 'GBPUSD':'BOE/XUDLGBD'} \n",
    "\n",
    "# Descargar datos\n",
    "print('Downloading data...')\n",
    "quandl_data = download_data_quandl(codes=codes, start_date='2000-01-01', end_date='2021-11-11')\n",
    "print('Available datasets:')\n",
    "for k, v in quandl_data.items():\n",
    "    print('\\t -',k)\n",
    "# Seleccionar datos\n",
    "df = quandl_data['AUDUSD']"
   ]
  },
  {
   "cell_type": "markdown",
   "id": "65934731",
   "metadata": {},
   "source": [
    "### YahooFinance - [Getting the data](https://aroussi.com/post/python-yahoo-finance)\n",
    "\n",
    "yfinance is a popular open source library developed by Ran Aroussi as a means to access the financial data available on Yahoo Finance.\n",
    "\n",
    "Yahoo Finance offers an excellent range of market data on stocks, bonds, currencies and cryptocurrencies. It also offers market news, reports and analysis and additionally options and fundamentals data- setting it apart from some of it’s competitors.\n",
    "\n",
    "Yahoo Finance used to have their own official API, but this was decommissioned on May 15th 2017, following wide-spread misuse of data.\n",
    "\n",
    "These days a range of unofficial APIs and libraries exist to access the same data, including of course yfinance.\n",
    "\n",
    "Note you might know of yfinance under it’s old name- fix-yahoo-finance, since it was re-named on May 26th 2019 at the same time that it went over a large overhaul to fix some usability issues.\n",
    "\n",
    "To ensure backwards compatibility, fix-yahoo-finance now imports and uses yfinance anyway, but Ran Aroussi still recommends to install and use yfinance directly.\n",
    "\n",
    "[Yahoo Finance API – A Complete Guide](https://algotrading101.com/learn/yahoo-finance-api-guide/)."
   ]
  },
  {
   "cell_type": "code",
   "execution_count": 6,
   "id": "6f2a7778",
   "metadata": {
    "ExecuteTime": {
     "end_time": "2021-11-13T21:16:22.677832Z",
     "start_time": "2021-11-13T21:16:22.674594Z"
    }
   },
   "outputs": [],
   "source": [
    "def download_data_yfinance(currencies, start_date, end_date, interval='1h'):\n",
    "    \"\"\"\n",
    "    Descarga de datos de yfinance.\n",
    "    \n",
    "    Nota: La librería permite descargar solo los 730 últimos días de datos.\n",
    "    \n",
    "    Args:\n",
    "        currencies [{dict}] -- Diccionario que contiene los simbolos (keys) y códigos (values) a descargar de Yahoo Finance\n",
    "        start_date [{str}] -- Fecha de inicio de descarga\n",
    "        end_date [{str}] -- Fecha final de descarga\n",
    "        interval [{str}] -- Intervalo de datos descargados (default=1h)\n",
    "    \"\"\"\n",
    "    downloaded_data = dict() # Diccionario de almacenamiento de la descarga\n",
    "    for symbol, code in currencies.items():\n",
    "\n",
    "        print(f'Downloading {symbol} from {start_date} to {end_date} with code {code}')   \n",
    "\n",
    "        # Descarga\n",
    "        try:\n",
    "            df = yf.download(code, start=start_date, end=end_date, period='max', interval='1h')\n",
    "            df.sort_index(ascending=True)\n",
    "        except Exception as e:\n",
    "            raise e\n",
    "        else:\n",
    "            df['Symbol'] = symbol\n",
    "            df.index.name = 'date_time'\n",
    "            downloaded_data[symbol] = df.copy()\n",
    "            del df\n",
    "            print(end=2*'\\n')\n",
    "            \n",
    "    return downloaded_data\n",
    "    "
   ]
  },
  {
   "cell_type": "code",
   "execution_count": 7,
   "id": "022aa1da",
   "metadata": {
    "ExecuteTime": {
     "end_time": "2021-11-13T21:16:27.608347Z",
     "start_time": "2021-11-13T21:16:22.678618Z"
    }
   },
   "outputs": [
    {
     "name": "stdout",
     "output_type": "stream",
     "text": [
      "Downloading AUD/USD from 2019-11-15 to 2021-11-12 with code AUDUSD=X\n",
      "[*********************100%***********************]  1 of 1 completed\n",
      "\n",
      "\n",
      "Downloading EUR/JPY from 2019-11-15 to 2021-11-12 with code EURJPY=X\n",
      "[*********************100%***********************]  1 of 1 completed\n",
      "\n",
      "\n",
      "Downloading EUR/USD from 2019-11-15 to 2021-11-12 with code EURUSD=X\n",
      "[*********************100%***********************]  1 of 1 completed\n",
      "\n",
      "\n",
      "Downloading GBP/JPY from 2019-11-15 to 2021-11-12 with code GBPJPY=X\n",
      "[*********************100%***********************]  1 of 1 completed\n",
      "\n",
      "\n",
      "Downloading GBP/USD from 2019-11-15 to 2021-11-12 with code GBPUSD=X\n",
      "[*********************100%***********************]  1 of 1 completed\n",
      "\n",
      "\n",
      "Downloading NZD/USD from 2019-11-15 to 2021-11-12 with code NZDUSD=X\n",
      "[*********************100%***********************]  1 of 1 completed\n",
      "\n",
      "\n",
      "Downloading USD/CAD from 2019-11-15 to 2021-11-12 with code USDCAD=X\n",
      "[*********************100%***********************]  1 of 1 completed\n",
      "\n",
      "\n",
      "Downloading USD/CHF from 2019-11-15 to 2021-11-12 with code USDCHF=X\n",
      "[*********************100%***********************]  1 of 1 completed\n",
      "\n",
      "\n",
      "Downloading USD/JPY from 2019-11-15 to 2021-11-12 with code USDJPY=X\n",
      "[*********************100%***********************]  1 of 1 completed\n",
      "\n",
      "\n"
     ]
    }
   ],
   "source": [
    "# Parámetros de entrada\n",
    "start_date = '2019-11-15' # Fecha de inicio \n",
    "end_date   = '2021-11-12' # Fecha final\n",
    "\n",
    "# Lista de divisas\n",
    "currencies = {\n",
    "    'AUD/USD':'AUDUSD=X', \n",
    "    'EUR/JPY':'EURJPY=X',\n",
    "    'EUR/USD':'EURUSD=X',\n",
    "    'GBP/JPY':'GBPJPY=X',\n",
    "    'GBP/USD':'GBPUSD=X',\n",
    "    'NZD/USD':'NZDUSD=X',\n",
    "    'USD/CAD':'USDCAD=X',\n",
    "    'USD/CHF':'USDCHF=X',\n",
    "    'USD/JPY':'USDJPY=X'\n",
    "}\n",
    "\n",
    "downloaded_data = download_data_yfinance(currencies=currencies, start_date=start_date, end_date=end_date)"
   ]
  },
  {
   "cell_type": "code",
   "execution_count": 8,
   "id": "00209d7a",
   "metadata": {
    "ExecuteTime": {
     "end_time": "2021-11-13T21:16:27.611640Z",
     "start_time": "2021-11-13T21:16:27.609177Z"
    }
   },
   "outputs": [],
   "source": [
    "# Seleccionar una de las divisas como divisa de trabajo (EUR/USD)\n",
    "df = downloaded_data['EUR/USD']\n",
    "\n",
    "# Ordenar columnas\n",
    "columns = ['Symbol', 'Open', 'High', 'Low', 'Close', 'Volume']\n",
    "df = df[columns]"
   ]
  },
  {
   "cell_type": "code",
   "execution_count": 9,
   "id": "f8d40460",
   "metadata": {
    "ExecuteTime": {
     "end_time": "2021-11-13T21:16:27.615167Z",
     "start_time": "2021-11-13T21:16:27.612466Z"
    }
   },
   "outputs": [
    {
     "name": "stdout",
     "output_type": "stream",
     "text": [
      "From 2019-11-14 23:00:00+00:00 to 2021-11-11 22:00:00+00:00\n",
      "Shape = (12335, 6)\n",
      "Columns = ['Symbol', 'Open', 'High', 'Low', 'Close', 'Volume']\n"
     ]
    }
   ],
   "source": [
    "print('From {} to {}'.format(df.index.min(), df.index.max()))\n",
    "print(f'Shape = {df.shape}')\n",
    "print(f'Columns = {df.columns.to_list()}')"
   ]
  },
  {
   "cell_type": "code",
   "execution_count": 10,
   "id": "f3ace70a",
   "metadata": {
    "ExecuteTime": {
     "end_time": "2021-11-13T21:16:27.627288Z",
     "start_time": "2021-11-13T21:16:27.617996Z"
    }
   },
   "outputs": [
    {
     "data": {
      "text/html": [
       "<div>\n",
       "<style scoped>\n",
       "    .dataframe tbody tr th:only-of-type {\n",
       "        vertical-align: middle;\n",
       "    }\n",
       "\n",
       "    .dataframe tbody tr th {\n",
       "        vertical-align: top;\n",
       "    }\n",
       "\n",
       "    .dataframe thead th {\n",
       "        text-align: right;\n",
       "    }\n",
       "</style>\n",
       "<table border=\"1\" class=\"dataframe\">\n",
       "  <thead>\n",
       "    <tr style=\"text-align: right;\">\n",
       "      <th></th>\n",
       "      <th>Symbol</th>\n",
       "      <th>Open</th>\n",
       "      <th>High</th>\n",
       "      <th>Low</th>\n",
       "      <th>Close</th>\n",
       "      <th>Volume</th>\n",
       "    </tr>\n",
       "    <tr>\n",
       "      <th>date_time</th>\n",
       "      <th></th>\n",
       "      <th></th>\n",
       "      <th></th>\n",
       "      <th></th>\n",
       "      <th></th>\n",
       "      <th></th>\n",
       "    </tr>\n",
       "  </thead>\n",
       "  <tbody>\n",
       "    <tr>\n",
       "      <th>2019-11-14 23:00:00+00:00</th>\n",
       "      <td>EUR/USD</td>\n",
       "      <td>1.102536</td>\n",
       "      <td>1.102901</td>\n",
       "      <td>1.102171</td>\n",
       "      <td>1.102293</td>\n",
       "      <td>0</td>\n",
       "    </tr>\n",
       "    <tr>\n",
       "      <th>2019-11-15 00:00:00+00:00</th>\n",
       "      <td>EUR/USD</td>\n",
       "      <td>1.102293</td>\n",
       "      <td>1.103144</td>\n",
       "      <td>1.102293</td>\n",
       "      <td>1.102779</td>\n",
       "      <td>0</td>\n",
       "    </tr>\n",
       "    <tr>\n",
       "      <th>2019-11-15 01:00:00+00:00</th>\n",
       "      <td>EUR/USD</td>\n",
       "      <td>1.102779</td>\n",
       "      <td>1.103144</td>\n",
       "      <td>1.102657</td>\n",
       "      <td>1.102779</td>\n",
       "      <td>0</td>\n",
       "    </tr>\n",
       "    <tr>\n",
       "      <th>2019-11-15 02:00:00+00:00</th>\n",
       "      <td>EUR/USD</td>\n",
       "      <td>1.102779</td>\n",
       "      <td>1.103509</td>\n",
       "      <td>1.102657</td>\n",
       "      <td>1.103266</td>\n",
       "      <td>0</td>\n",
       "    </tr>\n",
       "    <tr>\n",
       "      <th>2019-11-15 03:00:00+00:00</th>\n",
       "      <td>EUR/USD</td>\n",
       "      <td>1.103266</td>\n",
       "      <td>1.103387</td>\n",
       "      <td>1.102779</td>\n",
       "      <td>1.103266</td>\n",
       "      <td>0</td>\n",
       "    </tr>\n",
       "  </tbody>\n",
       "</table>\n",
       "</div>"
      ],
      "text/plain": [
       "                            Symbol      Open      High       Low     Close  \\\n",
       "date_time                                                                    \n",
       "2019-11-14 23:00:00+00:00  EUR/USD  1.102536  1.102901  1.102171  1.102293   \n",
       "2019-11-15 00:00:00+00:00  EUR/USD  1.102293  1.103144  1.102293  1.102779   \n",
       "2019-11-15 01:00:00+00:00  EUR/USD  1.102779  1.103144  1.102657  1.102779   \n",
       "2019-11-15 02:00:00+00:00  EUR/USD  1.102779  1.103509  1.102657  1.103266   \n",
       "2019-11-15 03:00:00+00:00  EUR/USD  1.103266  1.103387  1.102779  1.103266   \n",
       "\n",
       "                           Volume  \n",
       "date_time                          \n",
       "2019-11-14 23:00:00+00:00       0  \n",
       "2019-11-15 00:00:00+00:00       0  \n",
       "2019-11-15 01:00:00+00:00       0  \n",
       "2019-11-15 02:00:00+00:00       0  \n",
       "2019-11-15 03:00:00+00:00       0  "
      ]
     },
     "execution_count": 10,
     "metadata": {},
     "output_type": "execute_result"
    }
   ],
   "source": [
    "df.head()"
   ]
  },
  {
   "cell_type": "code",
   "execution_count": 11,
   "id": "121496b6",
   "metadata": {
    "ExecuteTime": {
     "end_time": "2021-11-13T21:16:27.635033Z",
     "start_time": "2021-11-13T21:16:27.628229Z"
    }
   },
   "outputs": [
    {
     "data": {
      "text/html": [
       "<div>\n",
       "<style scoped>\n",
       "    .dataframe tbody tr th:only-of-type {\n",
       "        vertical-align: middle;\n",
       "    }\n",
       "\n",
       "    .dataframe tbody tr th {\n",
       "        vertical-align: top;\n",
       "    }\n",
       "\n",
       "    .dataframe thead th {\n",
       "        text-align: right;\n",
       "    }\n",
       "</style>\n",
       "<table border=\"1\" class=\"dataframe\">\n",
       "  <thead>\n",
       "    <tr style=\"text-align: right;\">\n",
       "      <th></th>\n",
       "      <th>Symbol</th>\n",
       "      <th>Open</th>\n",
       "      <th>High</th>\n",
       "      <th>Low</th>\n",
       "      <th>Close</th>\n",
       "      <th>Volume</th>\n",
       "    </tr>\n",
       "    <tr>\n",
       "      <th>date_time</th>\n",
       "      <th></th>\n",
       "      <th></th>\n",
       "      <th></th>\n",
       "      <th></th>\n",
       "      <th></th>\n",
       "      <th></th>\n",
       "    </tr>\n",
       "  </thead>\n",
       "  <tbody>\n",
       "    <tr>\n",
       "      <th>2021-11-11 18:00:00+00:00</th>\n",
       "      <td>EUR/USD</td>\n",
       "      <td>1.145607</td>\n",
       "      <td>1.145869</td>\n",
       "      <td>1.145082</td>\n",
       "      <td>1.145213</td>\n",
       "      <td>0</td>\n",
       "    </tr>\n",
       "    <tr>\n",
       "      <th>2021-11-11 19:00:00+00:00</th>\n",
       "      <td>EUR/USD</td>\n",
       "      <td>1.145213</td>\n",
       "      <td>1.145738</td>\n",
       "      <td>1.144820</td>\n",
       "      <td>1.144820</td>\n",
       "      <td>0</td>\n",
       "    </tr>\n",
       "    <tr>\n",
       "      <th>2021-11-11 20:00:00+00:00</th>\n",
       "      <td>EUR/USD</td>\n",
       "      <td>1.144820</td>\n",
       "      <td>1.145607</td>\n",
       "      <td>1.144689</td>\n",
       "      <td>1.145082</td>\n",
       "      <td>0</td>\n",
       "    </tr>\n",
       "    <tr>\n",
       "      <th>2021-11-11 21:00:00+00:00</th>\n",
       "      <td>EUR/USD</td>\n",
       "      <td>1.145082</td>\n",
       "      <td>1.145869</td>\n",
       "      <td>1.144951</td>\n",
       "      <td>1.145607</td>\n",
       "      <td>0</td>\n",
       "    </tr>\n",
       "    <tr>\n",
       "      <th>2021-11-11 22:00:00+00:00</th>\n",
       "      <td>EUR/USD</td>\n",
       "      <td>1.144951</td>\n",
       "      <td>1.145869</td>\n",
       "      <td>1.144951</td>\n",
       "      <td>1.145475</td>\n",
       "      <td>0</td>\n",
       "    </tr>\n",
       "  </tbody>\n",
       "</table>\n",
       "</div>"
      ],
      "text/plain": [
       "                            Symbol      Open      High       Low     Close  \\\n",
       "date_time                                                                    \n",
       "2021-11-11 18:00:00+00:00  EUR/USD  1.145607  1.145869  1.145082  1.145213   \n",
       "2021-11-11 19:00:00+00:00  EUR/USD  1.145213  1.145738  1.144820  1.144820   \n",
       "2021-11-11 20:00:00+00:00  EUR/USD  1.144820  1.145607  1.144689  1.145082   \n",
       "2021-11-11 21:00:00+00:00  EUR/USD  1.145082  1.145869  1.144951  1.145607   \n",
       "2021-11-11 22:00:00+00:00  EUR/USD  1.144951  1.145869  1.144951  1.145475   \n",
       "\n",
       "                           Volume  \n",
       "date_time                          \n",
       "2021-11-11 18:00:00+00:00       0  \n",
       "2021-11-11 19:00:00+00:00       0  \n",
       "2021-11-11 20:00:00+00:00       0  \n",
       "2021-11-11 21:00:00+00:00       0  \n",
       "2021-11-11 22:00:00+00:00       0  "
      ]
     },
     "execution_count": 11,
     "metadata": {},
     "output_type": "execute_result"
    }
   ],
   "source": [
    "df.tail()"
   ]
  },
  {
   "cell_type": "code",
   "execution_count": 12,
   "id": "26274f38",
   "metadata": {
    "ExecuteTime": {
     "end_time": "2021-11-13T21:16:27.642776Z",
     "start_time": "2021-11-13T21:16:27.636048Z"
    }
   },
   "outputs": [
    {
     "name": "stdout",
     "output_type": "stream",
     "text": [
      "<class 'pandas.core.frame.DataFrame'>\n",
      "DatetimeIndex: 12335 entries, 2019-11-14 23:00:00+00:00 to 2021-11-11 22:00:00+00:00\n",
      "Data columns (total 6 columns):\n",
      " #   Column  Non-Null Count  Dtype  \n",
      "---  ------  --------------  -----  \n",
      " 0   Symbol  12335 non-null  object \n",
      " 1   Open    12335 non-null  float64\n",
      " 2   High    12335 non-null  float64\n",
      " 3   Low     12335 non-null  float64\n",
      " 4   Close   12335 non-null  float64\n",
      " 5   Volume  12335 non-null  int64  \n",
      "dtypes: float64(4), int64(1), object(1)\n",
      "memory usage: 674.6+ KB\n"
     ]
    }
   ],
   "source": [
    "df.info()"
   ]
  },
  {
   "cell_type": "code",
   "execution_count": 13,
   "id": "25aa6b5d",
   "metadata": {
    "ExecuteTime": {
     "end_time": "2021-11-13T21:16:27.657506Z",
     "start_time": "2021-11-13T21:16:27.643639Z"
    }
   },
   "outputs": [
    {
     "data": {
      "text/html": [
       "<div>\n",
       "<style scoped>\n",
       "    .dataframe tbody tr th:only-of-type {\n",
       "        vertical-align: middle;\n",
       "    }\n",
       "\n",
       "    .dataframe tbody tr th {\n",
       "        vertical-align: top;\n",
       "    }\n",
       "\n",
       "    .dataframe thead th {\n",
       "        text-align: right;\n",
       "    }\n",
       "</style>\n",
       "<table border=\"1\" class=\"dataframe\">\n",
       "  <thead>\n",
       "    <tr style=\"text-align: right;\">\n",
       "      <th></th>\n",
       "      <th>count</th>\n",
       "      <th>mean</th>\n",
       "      <th>std</th>\n",
       "      <th>min</th>\n",
       "      <th>25%</th>\n",
       "      <th>50%</th>\n",
       "      <th>75%</th>\n",
       "      <th>max</th>\n",
       "    </tr>\n",
       "  </thead>\n",
       "  <tbody>\n",
       "    <tr>\n",
       "      <th>Open</th>\n",
       "      <td>12335.0</td>\n",
       "      <td>1.161336</td>\n",
       "      <td>0.043951</td>\n",
       "      <td>1.065644</td>\n",
       "      <td>1.117319</td>\n",
       "      <td>1.176194</td>\n",
       "      <td>1.192179</td>\n",
       "      <td>1.234263</td>\n",
       "    </tr>\n",
       "    <tr>\n",
       "      <th>High</th>\n",
       "      <td>12335.0</td>\n",
       "      <td>1.162088</td>\n",
       "      <td>0.043930</td>\n",
       "      <td>1.066894</td>\n",
       "      <td>1.118068</td>\n",
       "      <td>1.177024</td>\n",
       "      <td>1.193033</td>\n",
       "      <td>1.235483</td>\n",
       "    </tr>\n",
       "    <tr>\n",
       "      <th>Low</th>\n",
       "      <td>12335.0</td>\n",
       "      <td>1.160716</td>\n",
       "      <td>0.043983</td>\n",
       "      <td>1.064283</td>\n",
       "      <td>1.116632</td>\n",
       "      <td>1.175641</td>\n",
       "      <td>1.191753</td>\n",
       "      <td>1.233806</td>\n",
       "    </tr>\n",
       "    <tr>\n",
       "      <th>Close</th>\n",
       "      <td>12335.0</td>\n",
       "      <td>1.161352</td>\n",
       "      <td>0.043955</td>\n",
       "      <td>1.065984</td>\n",
       "      <td>1.117194</td>\n",
       "      <td>1.176332</td>\n",
       "      <td>1.192179</td>\n",
       "      <td>1.234568</td>\n",
       "    </tr>\n",
       "    <tr>\n",
       "      <th>Volume</th>\n",
       "      <td>12335.0</td>\n",
       "      <td>0.000000</td>\n",
       "      <td>0.000000</td>\n",
       "      <td>0.000000</td>\n",
       "      <td>0.000000</td>\n",
       "      <td>0.000000</td>\n",
       "      <td>0.000000</td>\n",
       "      <td>0.000000</td>\n",
       "    </tr>\n",
       "  </tbody>\n",
       "</table>\n",
       "</div>"
      ],
      "text/plain": [
       "          count      mean       std       min       25%       50%       75%  \\\n",
       "Open    12335.0  1.161336  0.043951  1.065644  1.117319  1.176194  1.192179   \n",
       "High    12335.0  1.162088  0.043930  1.066894  1.118068  1.177024  1.193033   \n",
       "Low     12335.0  1.160716  0.043983  1.064283  1.116632  1.175641  1.191753   \n",
       "Close   12335.0  1.161352  0.043955  1.065984  1.117194  1.176332  1.192179   \n",
       "Volume  12335.0  0.000000  0.000000  0.000000  0.000000  0.000000  0.000000   \n",
       "\n",
       "             max  \n",
       "Open    1.234263  \n",
       "High    1.235483  \n",
       "Low     1.233806  \n",
       "Close   1.234568  \n",
       "Volume  0.000000  "
      ]
     },
     "execution_count": 13,
     "metadata": {},
     "output_type": "execute_result"
    }
   ],
   "source": [
    "df.describe().T"
   ]
  },
  {
   "cell_type": "code",
   "execution_count": 14,
   "id": "f299e5d3",
   "metadata": {
    "ExecuteTime": {
     "end_time": "2021-11-13T21:16:27.660785Z",
     "start_time": "2021-11-13T21:16:27.658476Z"
    }
   },
   "outputs": [],
   "source": [
    "# Eliminamos el Volumen\n",
    "df.drop('Volume', axis=1, inplace=True)"
   ]
  },
  {
   "cell_type": "markdown",
   "id": "73dd9905",
   "metadata": {
    "ExecuteTime": {
     "end_time": "2021-11-13T15:46:08.648522Z",
     "start_time": "2021-11-13T15:46:08.620432Z"
    }
   },
   "source": [
    "### Creating the predictors\n",
    "\n",
    "Predictor variables are data that we think are related to market behavior. These data can be very diverse such as the technical indicators, market data, sentiment data, breadth data, fundamental data, government data, etc. that will help us to make forecasts about the future behavior of the market.\n",
    "\n",
    "Here we will test the classical indicators for trend following and for range trading, these are:\n",
    "\n",
    "- EMA\n",
    "- ATR\n",
    "- ADX\n",
    "- RSI\n",
    "- MACD\n",
    "\n",
    "Therefore, the decision tree algorithm should help us select the best combination of indicators along with their parameters that maximize the expected output which is the target."
   ]
  },
  {
   "cell_type": "code",
   "execution_count": 15,
   "id": "1f21f66a",
   "metadata": {
    "ExecuteTime": {
     "end_time": "2021-11-13T21:16:27.666955Z",
     "start_time": "2021-11-13T21:16:27.662446Z"
    }
   },
   "outputs": [],
   "source": [
    "def create_predictors(df):\n",
    "    \"\"\"\n",
    "    Crear variables de predicción.\n",
    "    \"\"\"\n",
    "    data = df.copy()\n",
    "    # 1. Overlap Studies\n",
    "    print('Overlap Studies...')\n",
    "    # Exponential moving averages (periods = 10, 30)\n",
    "    data['EMA10'] = talib.EMA(df['Close'].values, timeperiod=10)\n",
    "    data['EMA30'] = talib.EMA(df['Close'].values, timeperiod=30)\n",
    "    \n",
    "    print('Volatility indicators...')\n",
    "    # 2. Volatility Indicator Functions\n",
    "    # 2.1 Average True Range (http://www.tadoc.org/indicator/ATR.htm)\n",
    "    data['ATR'] = talib.ATR(df['High'].values, df['Low'].values, df['Close'].values, timeperiod=14)\n",
    "    \n",
    "    \n",
    "    print('Momentum indicators...')\n",
    "    # 3. Momentum Indicator Functions\n",
    "    # 3.1 Average Directional Movement Index (http://www.tadoc.org/indicator/ADX.htm)\n",
    "    data['ADX'] = talib.ATR(df['High'].values, df['Low'].values, df['Close'].values, timeperiod=14)\n",
    "    \n",
    "    # 3.2 Moving Average Convergence/Divergence (http://www.tadoc.org/indicator/RSI.htm) \n",
    "    data['RSI'] = talib.RSI(df['Close'].values, timeperiod=14)\n",
    "    \n",
    "    # 3.3 Average Directional Movement Index (http://www.tadoc.org/indicator/ADX.htm)\n",
    "    macd, macdsignal, macdhist = talib.MACD(df['Close'].values, fastperiod=12, slowperiod=26, signalperiod=9)\n",
    "    data['MACD'] = macd\n",
    "    data['MACDsignal'] = macdsignal\n",
    "    data['MACDhistogram'] = macdhist\n",
    "    \n",
    "    return data"
   ]
  },
  {
   "cell_type": "code",
   "execution_count": 16,
   "id": "075c7dcf",
   "metadata": {
    "ExecuteTime": {
     "end_time": "2021-11-13T21:16:27.673841Z",
     "start_time": "2021-11-13T21:16:27.667891Z"
    }
   },
   "outputs": [
    {
     "name": "stdout",
     "output_type": "stream",
     "text": [
      "Overlap Studies...\n",
      "Volatility indicators...\n",
      "Momentum indicators...\n"
     ]
    }
   ],
   "source": [
    "data = create_predictors(df)"
   ]
  },
  {
   "cell_type": "code",
   "execution_count": 17,
   "id": "4955f7b1",
   "metadata": {
    "ExecuteTime": {
     "end_time": "2021-11-13T21:16:27.683158Z",
     "start_time": "2021-11-13T21:16:27.674701Z"
    }
   },
   "outputs": [
    {
     "data": {
      "text/html": [
       "<div>\n",
       "<style scoped>\n",
       "    .dataframe tbody tr th:only-of-type {\n",
       "        vertical-align: middle;\n",
       "    }\n",
       "\n",
       "    .dataframe tbody tr th {\n",
       "        vertical-align: top;\n",
       "    }\n",
       "\n",
       "    .dataframe thead th {\n",
       "        text-align: right;\n",
       "    }\n",
       "</style>\n",
       "<table border=\"1\" class=\"dataframe\">\n",
       "  <thead>\n",
       "    <tr style=\"text-align: right;\">\n",
       "      <th></th>\n",
       "      <th>Symbol</th>\n",
       "      <th>Open</th>\n",
       "      <th>High</th>\n",
       "      <th>Low</th>\n",
       "      <th>Close</th>\n",
       "      <th>EMA10</th>\n",
       "      <th>EMA30</th>\n",
       "      <th>ATR</th>\n",
       "      <th>ADX</th>\n",
       "      <th>RSI</th>\n",
       "      <th>MACD</th>\n",
       "      <th>MACDsignal</th>\n",
       "      <th>MACDhistogram</th>\n",
       "    </tr>\n",
       "    <tr>\n",
       "      <th>date_time</th>\n",
       "      <th></th>\n",
       "      <th></th>\n",
       "      <th></th>\n",
       "      <th></th>\n",
       "      <th></th>\n",
       "      <th></th>\n",
       "      <th></th>\n",
       "      <th></th>\n",
       "      <th></th>\n",
       "      <th></th>\n",
       "      <th></th>\n",
       "      <th></th>\n",
       "      <th></th>\n",
       "    </tr>\n",
       "  </thead>\n",
       "  <tbody>\n",
       "    <tr>\n",
       "      <th>2021-11-11 18:00:00+00:00</th>\n",
       "      <td>EUR/USD</td>\n",
       "      <td>1.145607</td>\n",
       "      <td>1.145869</td>\n",
       "      <td>1.145082</td>\n",
       "      <td>1.145213</td>\n",
       "      <td>1.146541</td>\n",
       "      <td>1.148959</td>\n",
       "      <td>0.001476</td>\n",
       "      <td>0.001476</td>\n",
       "      <td>30.661045</td>\n",
       "      <td>-0.001717</td>\n",
       "      <td>-0.001888</td>\n",
       "      <td>0.000171</td>\n",
       "    </tr>\n",
       "    <tr>\n",
       "      <th>2021-11-11 19:00:00+00:00</th>\n",
       "      <td>EUR/USD</td>\n",
       "      <td>1.145213</td>\n",
       "      <td>1.145738</td>\n",
       "      <td>1.144820</td>\n",
       "      <td>1.144820</td>\n",
       "      <td>1.146228</td>\n",
       "      <td>1.148692</td>\n",
       "      <td>0.001436</td>\n",
       "      <td>0.001436</td>\n",
       "      <td>29.336856</td>\n",
       "      <td>-0.001743</td>\n",
       "      <td>-0.001859</td>\n",
       "      <td>0.000116</td>\n",
       "    </tr>\n",
       "    <tr>\n",
       "      <th>2021-11-11 20:00:00+00:00</th>\n",
       "      <td>EUR/USD</td>\n",
       "      <td>1.144820</td>\n",
       "      <td>1.145607</td>\n",
       "      <td>1.144689</td>\n",
       "      <td>1.145082</td>\n",
       "      <td>1.146020</td>\n",
       "      <td>1.148459</td>\n",
       "      <td>0.001399</td>\n",
       "      <td>0.001399</td>\n",
       "      <td>31.461685</td>\n",
       "      <td>-0.001723</td>\n",
       "      <td>-0.001832</td>\n",
       "      <td>0.000109</td>\n",
       "    </tr>\n",
       "    <tr>\n",
       "      <th>2021-11-11 21:00:00+00:00</th>\n",
       "      <td>EUR/USD</td>\n",
       "      <td>1.145082</td>\n",
       "      <td>1.145869</td>\n",
       "      <td>1.144951</td>\n",
       "      <td>1.145607</td>\n",
       "      <td>1.145945</td>\n",
       "      <td>1.148275</td>\n",
       "      <td>0.001364</td>\n",
       "      <td>0.001364</td>\n",
       "      <td>35.634180</td>\n",
       "      <td>-0.001645</td>\n",
       "      <td>-0.001795</td>\n",
       "      <td>0.000150</td>\n",
       "    </tr>\n",
       "    <tr>\n",
       "      <th>2021-11-11 22:00:00+00:00</th>\n",
       "      <td>EUR/USD</td>\n",
       "      <td>1.144951</td>\n",
       "      <td>1.145869</td>\n",
       "      <td>1.144951</td>\n",
       "      <td>1.145475</td>\n",
       "      <td>1.145859</td>\n",
       "      <td>1.148094</td>\n",
       "      <td>0.001333</td>\n",
       "      <td>0.001333</td>\n",
       "      <td>35.059286</td>\n",
       "      <td>-0.001576</td>\n",
       "      <td>-0.001751</td>\n",
       "      <td>0.000175</td>\n",
       "    </tr>\n",
       "  </tbody>\n",
       "</table>\n",
       "</div>"
      ],
      "text/plain": [
       "                            Symbol      Open      High       Low     Close  \\\n",
       "date_time                                                                    \n",
       "2021-11-11 18:00:00+00:00  EUR/USD  1.145607  1.145869  1.145082  1.145213   \n",
       "2021-11-11 19:00:00+00:00  EUR/USD  1.145213  1.145738  1.144820  1.144820   \n",
       "2021-11-11 20:00:00+00:00  EUR/USD  1.144820  1.145607  1.144689  1.145082   \n",
       "2021-11-11 21:00:00+00:00  EUR/USD  1.145082  1.145869  1.144951  1.145607   \n",
       "2021-11-11 22:00:00+00:00  EUR/USD  1.144951  1.145869  1.144951  1.145475   \n",
       "\n",
       "                              EMA10     EMA30       ATR       ADX        RSI  \\\n",
       "date_time                                                                      \n",
       "2021-11-11 18:00:00+00:00  1.146541  1.148959  0.001476  0.001476  30.661045   \n",
       "2021-11-11 19:00:00+00:00  1.146228  1.148692  0.001436  0.001436  29.336856   \n",
       "2021-11-11 20:00:00+00:00  1.146020  1.148459  0.001399  0.001399  31.461685   \n",
       "2021-11-11 21:00:00+00:00  1.145945  1.148275  0.001364  0.001364  35.634180   \n",
       "2021-11-11 22:00:00+00:00  1.145859  1.148094  0.001333  0.001333  35.059286   \n",
       "\n",
       "                               MACD  MACDsignal  MACDhistogram  \n",
       "date_time                                                       \n",
       "2021-11-11 18:00:00+00:00 -0.001717   -0.001888       0.000171  \n",
       "2021-11-11 19:00:00+00:00 -0.001743   -0.001859       0.000116  \n",
       "2021-11-11 20:00:00+00:00 -0.001723   -0.001832       0.000109  \n",
       "2021-11-11 21:00:00+00:00 -0.001645   -0.001795       0.000150  \n",
       "2021-11-11 22:00:00+00:00 -0.001576   -0.001751       0.000175  "
      ]
     },
     "execution_count": 17,
     "metadata": {},
     "output_type": "execute_result"
    }
   ],
   "source": [
    "data.tail()"
   ]
  },
  {
   "cell_type": "markdown",
   "id": "567d4751",
   "metadata": {},
   "source": [
    "We have already calculated the indicators, but it is necessary to emphasize that we have calculated them with the standard parameters and these can, and must be optimized since the decision tree works with the pre calculated indicators."
   ]
  },
  {
   "cell_type": "markdown",
   "id": "8d5094d0",
   "metadata": {},
   "source": [
    "On the other hand, EMAs and MACDs do not serve as they are, since the signal comes from the price in relation to averages, or from one average in relation to the other. Let’s calculate the columns that will serve as predictors for the averages and the MACD."
   ]
  },
  {
   "cell_type": "code",
   "execution_count": 18,
   "id": "1d59bd66",
   "metadata": {
    "ExecuteTime": {
     "end_time": "2021-11-13T21:16:27.688328Z",
     "start_time": "2021-11-13T21:16:27.684120Z"
    }
   },
   "outputs": [],
   "source": [
    "# Use technical indicators to construct predictors features.\n",
    "data['Close_Over_EMA10'] = np.where(data['Close']>data['EMA10'], 1, -1)\n",
    "data['EMA10_Over_EMA30'] = np.where(data['EMA10']>data['EMA30'], 1, -1)\n",
    "data['MACDSIG_Over_MACD'] = np.where(data['MACDsignal'] > data['MACD'], 1, -1)"
   ]
  },
  {
   "cell_type": "code",
   "execution_count": 19,
   "id": "970c14d6",
   "metadata": {
    "ExecuteTime": {
     "end_time": "2021-11-13T21:16:27.698978Z",
     "start_time": "2021-11-13T21:16:27.689167Z"
    }
   },
   "outputs": [
    {
     "data": {
      "text/html": [
       "<div>\n",
       "<style scoped>\n",
       "    .dataframe tbody tr th:only-of-type {\n",
       "        vertical-align: middle;\n",
       "    }\n",
       "\n",
       "    .dataframe tbody tr th {\n",
       "        vertical-align: top;\n",
       "    }\n",
       "\n",
       "    .dataframe thead th {\n",
       "        text-align: right;\n",
       "    }\n",
       "</style>\n",
       "<table border=\"1\" class=\"dataframe\">\n",
       "  <thead>\n",
       "    <tr style=\"text-align: right;\">\n",
       "      <th></th>\n",
       "      <th>Symbol</th>\n",
       "      <th>Open</th>\n",
       "      <th>High</th>\n",
       "      <th>Low</th>\n",
       "      <th>Close</th>\n",
       "      <th>EMA10</th>\n",
       "      <th>EMA30</th>\n",
       "      <th>ATR</th>\n",
       "      <th>ADX</th>\n",
       "      <th>RSI</th>\n",
       "      <th>MACD</th>\n",
       "      <th>MACDsignal</th>\n",
       "      <th>MACDhistogram</th>\n",
       "      <th>Close_Over_EMA10</th>\n",
       "      <th>EMA10_Over_EMA30</th>\n",
       "      <th>MACDSIG_Over_MACD</th>\n",
       "    </tr>\n",
       "    <tr>\n",
       "      <th>date_time</th>\n",
       "      <th></th>\n",
       "      <th></th>\n",
       "      <th></th>\n",
       "      <th></th>\n",
       "      <th></th>\n",
       "      <th></th>\n",
       "      <th></th>\n",
       "      <th></th>\n",
       "      <th></th>\n",
       "      <th></th>\n",
       "      <th></th>\n",
       "      <th></th>\n",
       "      <th></th>\n",
       "      <th></th>\n",
       "      <th></th>\n",
       "      <th></th>\n",
       "    </tr>\n",
       "  </thead>\n",
       "  <tbody>\n",
       "    <tr>\n",
       "      <th>2021-11-11 18:00:00+00:00</th>\n",
       "      <td>EUR/USD</td>\n",
       "      <td>1.145607</td>\n",
       "      <td>1.145869</td>\n",
       "      <td>1.145082</td>\n",
       "      <td>1.145213</td>\n",
       "      <td>1.146541</td>\n",
       "      <td>1.148959</td>\n",
       "      <td>0.001476</td>\n",
       "      <td>0.001476</td>\n",
       "      <td>30.661045</td>\n",
       "      <td>-0.001717</td>\n",
       "      <td>-0.001888</td>\n",
       "      <td>0.000171</td>\n",
       "      <td>-1</td>\n",
       "      <td>-1</td>\n",
       "      <td>-1</td>\n",
       "    </tr>\n",
       "    <tr>\n",
       "      <th>2021-11-11 19:00:00+00:00</th>\n",
       "      <td>EUR/USD</td>\n",
       "      <td>1.145213</td>\n",
       "      <td>1.145738</td>\n",
       "      <td>1.144820</td>\n",
       "      <td>1.144820</td>\n",
       "      <td>1.146228</td>\n",
       "      <td>1.148692</td>\n",
       "      <td>0.001436</td>\n",
       "      <td>0.001436</td>\n",
       "      <td>29.336856</td>\n",
       "      <td>-0.001743</td>\n",
       "      <td>-0.001859</td>\n",
       "      <td>0.000116</td>\n",
       "      <td>-1</td>\n",
       "      <td>-1</td>\n",
       "      <td>-1</td>\n",
       "    </tr>\n",
       "    <tr>\n",
       "      <th>2021-11-11 20:00:00+00:00</th>\n",
       "      <td>EUR/USD</td>\n",
       "      <td>1.144820</td>\n",
       "      <td>1.145607</td>\n",
       "      <td>1.144689</td>\n",
       "      <td>1.145082</td>\n",
       "      <td>1.146020</td>\n",
       "      <td>1.148459</td>\n",
       "      <td>0.001399</td>\n",
       "      <td>0.001399</td>\n",
       "      <td>31.461685</td>\n",
       "      <td>-0.001723</td>\n",
       "      <td>-0.001832</td>\n",
       "      <td>0.000109</td>\n",
       "      <td>-1</td>\n",
       "      <td>-1</td>\n",
       "      <td>-1</td>\n",
       "    </tr>\n",
       "    <tr>\n",
       "      <th>2021-11-11 21:00:00+00:00</th>\n",
       "      <td>EUR/USD</td>\n",
       "      <td>1.145082</td>\n",
       "      <td>1.145869</td>\n",
       "      <td>1.144951</td>\n",
       "      <td>1.145607</td>\n",
       "      <td>1.145945</td>\n",
       "      <td>1.148275</td>\n",
       "      <td>0.001364</td>\n",
       "      <td>0.001364</td>\n",
       "      <td>35.634180</td>\n",
       "      <td>-0.001645</td>\n",
       "      <td>-0.001795</td>\n",
       "      <td>0.000150</td>\n",
       "      <td>-1</td>\n",
       "      <td>-1</td>\n",
       "      <td>-1</td>\n",
       "    </tr>\n",
       "    <tr>\n",
       "      <th>2021-11-11 22:00:00+00:00</th>\n",
       "      <td>EUR/USD</td>\n",
       "      <td>1.144951</td>\n",
       "      <td>1.145869</td>\n",
       "      <td>1.144951</td>\n",
       "      <td>1.145475</td>\n",
       "      <td>1.145859</td>\n",
       "      <td>1.148094</td>\n",
       "      <td>0.001333</td>\n",
       "      <td>0.001333</td>\n",
       "      <td>35.059286</td>\n",
       "      <td>-0.001576</td>\n",
       "      <td>-0.001751</td>\n",
       "      <td>0.000175</td>\n",
       "      <td>-1</td>\n",
       "      <td>-1</td>\n",
       "      <td>-1</td>\n",
       "    </tr>\n",
       "  </tbody>\n",
       "</table>\n",
       "</div>"
      ],
      "text/plain": [
       "                            Symbol      Open      High       Low     Close  \\\n",
       "date_time                                                                    \n",
       "2021-11-11 18:00:00+00:00  EUR/USD  1.145607  1.145869  1.145082  1.145213   \n",
       "2021-11-11 19:00:00+00:00  EUR/USD  1.145213  1.145738  1.144820  1.144820   \n",
       "2021-11-11 20:00:00+00:00  EUR/USD  1.144820  1.145607  1.144689  1.145082   \n",
       "2021-11-11 21:00:00+00:00  EUR/USD  1.145082  1.145869  1.144951  1.145607   \n",
       "2021-11-11 22:00:00+00:00  EUR/USD  1.144951  1.145869  1.144951  1.145475   \n",
       "\n",
       "                              EMA10     EMA30       ATR       ADX        RSI  \\\n",
       "date_time                                                                      \n",
       "2021-11-11 18:00:00+00:00  1.146541  1.148959  0.001476  0.001476  30.661045   \n",
       "2021-11-11 19:00:00+00:00  1.146228  1.148692  0.001436  0.001436  29.336856   \n",
       "2021-11-11 20:00:00+00:00  1.146020  1.148459  0.001399  0.001399  31.461685   \n",
       "2021-11-11 21:00:00+00:00  1.145945  1.148275  0.001364  0.001364  35.634180   \n",
       "2021-11-11 22:00:00+00:00  1.145859  1.148094  0.001333  0.001333  35.059286   \n",
       "\n",
       "                               MACD  MACDsignal  MACDhistogram  \\\n",
       "date_time                                                        \n",
       "2021-11-11 18:00:00+00:00 -0.001717   -0.001888       0.000171   \n",
       "2021-11-11 19:00:00+00:00 -0.001743   -0.001859       0.000116   \n",
       "2021-11-11 20:00:00+00:00 -0.001723   -0.001832       0.000109   \n",
       "2021-11-11 21:00:00+00:00 -0.001645   -0.001795       0.000150   \n",
       "2021-11-11 22:00:00+00:00 -0.001576   -0.001751       0.000175   \n",
       "\n",
       "                           Close_Over_EMA10  EMA10_Over_EMA30  \\\n",
       "date_time                                                       \n",
       "2021-11-11 18:00:00+00:00                -1                -1   \n",
       "2021-11-11 19:00:00+00:00                -1                -1   \n",
       "2021-11-11 20:00:00+00:00                -1                -1   \n",
       "2021-11-11 21:00:00+00:00                -1                -1   \n",
       "2021-11-11 22:00:00+00:00                -1                -1   \n",
       "\n",
       "                           MACDSIG_Over_MACD  \n",
       "date_time                                     \n",
       "2021-11-11 18:00:00+00:00                 -1  \n",
       "2021-11-11 19:00:00+00:00                 -1  \n",
       "2021-11-11 20:00:00+00:00                 -1  \n",
       "2021-11-11 21:00:00+00:00                 -1  \n",
       "2021-11-11 22:00:00+00:00                 -1  "
      ]
     },
     "execution_count": 19,
     "metadata": {},
     "output_type": "execute_result"
    }
   ],
   "source": [
    "data.tail()"
   ]
  },
  {
   "cell_type": "code",
   "execution_count": 20,
   "id": "d0df0c35",
   "metadata": {
    "ExecuteTime": {
     "end_time": "2021-11-13T21:16:27.706802Z",
     "start_time": "2021-11-13T21:16:27.699940Z"
    }
   },
   "outputs": [
    {
     "data": {
      "text/plain": [
       "Close_Over_EMA10  EMA10_Over_EMA30  MACDSIG_Over_MACD\n",
       " 1                 1                -1                   3365\n",
       "-1                -1                 1                   3046\n",
       "                   1                 1                   1553\n",
       " 1                -1                -1                   1526\n",
       "-1                -1                -1                   1087\n",
       " 1                 1                 1                   1015\n",
       "-1                 1                -1                    385\n",
       " 1                -1                 1                    358\n",
       "dtype: int64"
      ]
     },
     "execution_count": 20,
     "metadata": {},
     "output_type": "execute_result"
    }
   ],
   "source": [
    "data[['Close_Over_EMA10', 'EMA10_Over_EMA30', 'MACDSIG_Over_MACD']].value_counts().T"
   ]
  },
  {
   "cell_type": "markdown",
   "id": "2afd5ecf",
   "metadata": {
    "ExecuteTime": {
     "end_time": "2021-11-13T15:59:08.877540Z",
     "start_time": "2021-11-13T15:59:08.871708Z"
    }
   },
   "source": [
    "What we have now are possible trading rules that we will introduce in the decision tree to help us identify the best combination of these indicators to maximize the result.\n",
    "\n",
    "- EMA, we are interested in when the price is above average and when the fastest average is above the slowest average.\n",
    "- ATR(14), we’re interested in the threshold that will trigger the signal.\n",
    "- ADX(14), we’re interested in the threshold that will trigger the signal.\n",
    "- RSI(14), we’re interested in the threshold that will trigger the signal.\n",
    "- MACD, we are interested in when the MACD signal is above MACD.\n",
    "\n",
    "\n",
    "In this example, the predictor variables for the classification decision tree and the regression decision tree will be the same, although the target variables are different because for the classification algorithm the output will be categorical and for the regression algorithm the output will be continuous."
   ]
  },
  {
   "cell_type": "markdown",
   "id": "847ce2c1",
   "metadata": {},
   "source": [
    "### Creating the target variables\n",
    "\n",
    "As we have already said, the classification and regression decision trees have different objectives. While the classification decision tree tries to characterize the future by offering a categorical variable, i.e. the market goes up or down, the regression decision tree tries to forecast the future value, i.e. the future market price.\n",
    "\n",
    "We are going to create here the target variables for the two types of problems, although each one will use its own target."
   ]
  },
  {
   "cell_type": "code",
   "execution_count": 21,
   "id": "27d51ba2",
   "metadata": {
    "ExecuteTime": {
     "end_time": "2021-11-13T21:16:27.712357Z",
     "start_time": "2021-11-13T21:16:27.707768Z"
    }
   },
   "outputs": [],
   "source": [
    "data['Return'] = data['Close'].pct_change(1)\n",
    "data['target_cls'] = np.where(data['Return'].shift(-1)>0, 1, 0) # Target for classification\n",
    "data['target_rgs'] = data['Return'].shift(-1) # Target for regression "
   ]
  },
  {
   "cell_type": "code",
   "execution_count": 22,
   "id": "a3f2fcc4",
   "metadata": {
    "ExecuteTime": {
     "end_time": "2021-11-13T21:16:27.721909Z",
     "start_time": "2021-11-13T21:16:27.713481Z"
    }
   },
   "outputs": [
    {
     "data": {
      "text/html": [
       "<div>\n",
       "<style scoped>\n",
       "    .dataframe tbody tr th:only-of-type {\n",
       "        vertical-align: middle;\n",
       "    }\n",
       "\n",
       "    .dataframe tbody tr th {\n",
       "        vertical-align: top;\n",
       "    }\n",
       "\n",
       "    .dataframe thead th {\n",
       "        text-align: right;\n",
       "    }\n",
       "</style>\n",
       "<table border=\"1\" class=\"dataframe\">\n",
       "  <thead>\n",
       "    <tr style=\"text-align: right;\">\n",
       "      <th>date_time</th>\n",
       "      <th>2021-11-11 18:00:00+00:00</th>\n",
       "      <th>2021-11-11 19:00:00+00:00</th>\n",
       "      <th>2021-11-11 20:00:00+00:00</th>\n",
       "      <th>2021-11-11 21:00:00+00:00</th>\n",
       "      <th>2021-11-11 22:00:00+00:00</th>\n",
       "    </tr>\n",
       "  </thead>\n",
       "  <tbody>\n",
       "    <tr>\n",
       "      <th>Symbol</th>\n",
       "      <td>EUR/USD</td>\n",
       "      <td>EUR/USD</td>\n",
       "      <td>EUR/USD</td>\n",
       "      <td>EUR/USD</td>\n",
       "      <td>EUR/USD</td>\n",
       "    </tr>\n",
       "    <tr>\n",
       "      <th>Open</th>\n",
       "      <td>1.145607</td>\n",
       "      <td>1.145213</td>\n",
       "      <td>1.14482</td>\n",
       "      <td>1.145082</td>\n",
       "      <td>1.144951</td>\n",
       "    </tr>\n",
       "    <tr>\n",
       "      <th>High</th>\n",
       "      <td>1.145869</td>\n",
       "      <td>1.145738</td>\n",
       "      <td>1.145607</td>\n",
       "      <td>1.145869</td>\n",
       "      <td>1.145869</td>\n",
       "    </tr>\n",
       "    <tr>\n",
       "      <th>Low</th>\n",
       "      <td>1.145082</td>\n",
       "      <td>1.14482</td>\n",
       "      <td>1.144689</td>\n",
       "      <td>1.144951</td>\n",
       "      <td>1.144951</td>\n",
       "    </tr>\n",
       "    <tr>\n",
       "      <th>Close</th>\n",
       "      <td>1.145213</td>\n",
       "      <td>1.14482</td>\n",
       "      <td>1.145082</td>\n",
       "      <td>1.145607</td>\n",
       "      <td>1.145475</td>\n",
       "    </tr>\n",
       "    <tr>\n",
       "      <th>EMA10</th>\n",
       "      <td>1.146541</td>\n",
       "      <td>1.146228</td>\n",
       "      <td>1.14602</td>\n",
       "      <td>1.145945</td>\n",
       "      <td>1.145859</td>\n",
       "    </tr>\n",
       "    <tr>\n",
       "      <th>EMA30</th>\n",
       "      <td>1.148959</td>\n",
       "      <td>1.148692</td>\n",
       "      <td>1.148459</td>\n",
       "      <td>1.148275</td>\n",
       "      <td>1.148094</td>\n",
       "    </tr>\n",
       "    <tr>\n",
       "      <th>ATR</th>\n",
       "      <td>0.001476</td>\n",
       "      <td>0.001436</td>\n",
       "      <td>0.001399</td>\n",
       "      <td>0.001364</td>\n",
       "      <td>0.001333</td>\n",
       "    </tr>\n",
       "    <tr>\n",
       "      <th>ADX</th>\n",
       "      <td>0.001476</td>\n",
       "      <td>0.001436</td>\n",
       "      <td>0.001399</td>\n",
       "      <td>0.001364</td>\n",
       "      <td>0.001333</td>\n",
       "    </tr>\n",
       "    <tr>\n",
       "      <th>RSI</th>\n",
       "      <td>30.661045</td>\n",
       "      <td>29.336856</td>\n",
       "      <td>31.461685</td>\n",
       "      <td>35.63418</td>\n",
       "      <td>35.059286</td>\n",
       "    </tr>\n",
       "    <tr>\n",
       "      <th>MACD</th>\n",
       "      <td>-0.001717</td>\n",
       "      <td>-0.001743</td>\n",
       "      <td>-0.001723</td>\n",
       "      <td>-0.001645</td>\n",
       "      <td>-0.001576</td>\n",
       "    </tr>\n",
       "    <tr>\n",
       "      <th>MACDsignal</th>\n",
       "      <td>-0.001888</td>\n",
       "      <td>-0.001859</td>\n",
       "      <td>-0.001832</td>\n",
       "      <td>-0.001795</td>\n",
       "      <td>-0.001751</td>\n",
       "    </tr>\n",
       "    <tr>\n",
       "      <th>MACDhistogram</th>\n",
       "      <td>0.000171</td>\n",
       "      <td>0.000116</td>\n",
       "      <td>0.000109</td>\n",
       "      <td>0.00015</td>\n",
       "      <td>0.000175</td>\n",
       "    </tr>\n",
       "    <tr>\n",
       "      <th>Close_Over_EMA10</th>\n",
       "      <td>-1</td>\n",
       "      <td>-1</td>\n",
       "      <td>-1</td>\n",
       "      <td>-1</td>\n",
       "      <td>-1</td>\n",
       "    </tr>\n",
       "    <tr>\n",
       "      <th>EMA10_Over_EMA30</th>\n",
       "      <td>-1</td>\n",
       "      <td>-1</td>\n",
       "      <td>-1</td>\n",
       "      <td>-1</td>\n",
       "      <td>-1</td>\n",
       "    </tr>\n",
       "    <tr>\n",
       "      <th>MACDSIG_Over_MACD</th>\n",
       "      <td>-1</td>\n",
       "      <td>-1</td>\n",
       "      <td>-1</td>\n",
       "      <td>-1</td>\n",
       "      <td>-1</td>\n",
       "    </tr>\n",
       "    <tr>\n",
       "      <th>Return</th>\n",
       "      <td>-0.000229</td>\n",
       "      <td>-0.000343</td>\n",
       "      <td>0.000229</td>\n",
       "      <td>0.000458</td>\n",
       "      <td>-0.000115</td>\n",
       "    </tr>\n",
       "    <tr>\n",
       "      <th>target_cls</th>\n",
       "      <td>0</td>\n",
       "      <td>1</td>\n",
       "      <td>1</td>\n",
       "      <td>0</td>\n",
       "      <td>0</td>\n",
       "    </tr>\n",
       "    <tr>\n",
       "      <th>target_rgs</th>\n",
       "      <td>-0.000343</td>\n",
       "      <td>0.000229</td>\n",
       "      <td>0.000458</td>\n",
       "      <td>-0.000115</td>\n",
       "      <td>NaN</td>\n",
       "    </tr>\n",
       "  </tbody>\n",
       "</table>\n",
       "</div>"
      ],
      "text/plain": [
       "date_time         2021-11-11 18:00:00+00:00 2021-11-11 19:00:00+00:00  \\\n",
       "Symbol                              EUR/USD                   EUR/USD   \n",
       "Open                               1.145607                  1.145213   \n",
       "High                               1.145869                  1.145738   \n",
       "Low                                1.145082                   1.14482   \n",
       "Close                              1.145213                   1.14482   \n",
       "EMA10                              1.146541                  1.146228   \n",
       "EMA30                              1.148959                  1.148692   \n",
       "ATR                                0.001476                  0.001436   \n",
       "ADX                                0.001476                  0.001436   \n",
       "RSI                               30.661045                 29.336856   \n",
       "MACD                              -0.001717                 -0.001743   \n",
       "MACDsignal                        -0.001888                 -0.001859   \n",
       "MACDhistogram                      0.000171                  0.000116   \n",
       "Close_Over_EMA10                         -1                        -1   \n",
       "EMA10_Over_EMA30                         -1                        -1   \n",
       "MACDSIG_Over_MACD                        -1                        -1   \n",
       "Return                            -0.000229                 -0.000343   \n",
       "target_cls                                0                         1   \n",
       "target_rgs                        -0.000343                  0.000229   \n",
       "\n",
       "date_time         2021-11-11 20:00:00+00:00 2021-11-11 21:00:00+00:00  \\\n",
       "Symbol                              EUR/USD                   EUR/USD   \n",
       "Open                                1.14482                  1.145082   \n",
       "High                               1.145607                  1.145869   \n",
       "Low                                1.144689                  1.144951   \n",
       "Close                              1.145082                  1.145607   \n",
       "EMA10                               1.14602                  1.145945   \n",
       "EMA30                              1.148459                  1.148275   \n",
       "ATR                                0.001399                  0.001364   \n",
       "ADX                                0.001399                  0.001364   \n",
       "RSI                               31.461685                  35.63418   \n",
       "MACD                              -0.001723                 -0.001645   \n",
       "MACDsignal                        -0.001832                 -0.001795   \n",
       "MACDhistogram                      0.000109                   0.00015   \n",
       "Close_Over_EMA10                         -1                        -1   \n",
       "EMA10_Over_EMA30                         -1                        -1   \n",
       "MACDSIG_Over_MACD                        -1                        -1   \n",
       "Return                             0.000229                  0.000458   \n",
       "target_cls                                1                         0   \n",
       "target_rgs                         0.000458                 -0.000115   \n",
       "\n",
       "date_time         2021-11-11 22:00:00+00:00  \n",
       "Symbol                              EUR/USD  \n",
       "Open                               1.144951  \n",
       "High                               1.145869  \n",
       "Low                                1.144951  \n",
       "Close                              1.145475  \n",
       "EMA10                              1.145859  \n",
       "EMA30                              1.148094  \n",
       "ATR                                0.001333  \n",
       "ADX                                0.001333  \n",
       "RSI                               35.059286  \n",
       "MACD                              -0.001576  \n",
       "MACDsignal                        -0.001751  \n",
       "MACDhistogram                      0.000175  \n",
       "Close_Over_EMA10                         -1  \n",
       "EMA10_Over_EMA30                         -1  \n",
       "MACDSIG_Over_MACD                        -1  \n",
       "Return                            -0.000115  \n",
       "target_cls                                0  \n",
       "target_rgs                              NaN  "
      ]
     },
     "execution_count": 22,
     "metadata": {},
     "output_type": "execute_result"
    }
   ],
   "source": [
    "data.tail().T"
   ]
  },
  {
   "cell_type": "markdown",
   "id": "1d48dda8",
   "metadata": {},
   "source": [
    "The target variable for the regression algorithm (target_rgs) uses the lagged return, this is so, because we want the algorithm to learn what happened the next period, based on the information available at the present time.\n",
    "\n",
    "The target variable for the classification algorithm (target_cls) also uses the lagged return, but because the output is categorical, we must transform it. If the return was positive, we assign 1 and if it was negative, we assign 0.\n",
    "\n"
   ]
  },
  {
   "cell_type": "markdown",
   "id": "a801956f",
   "metadata": {},
   "source": [
    "### Obtaining the data set for decision trees\n",
    "\n",
    "We have all the data ready! We have downloaded the market data, applied some technical indicators as predictor variables and defined the target variable for each type of problem, a categorical variable for the classification decision tree and a continuous variable for the regression decision tree.\n",
    "\n",
    "We are going to do a small operation to sanitize the data and prepare the data set that each algorithm will use. We must clean the data dropping the NA data, this step is crucial to compute cleanly the trees.\n",
    "\n",
    "Next, we are going to create the data set of the predictor variables, that is to say, the indicators that we have calculated, this data set is common to the two decision trees that we are going to create, a classification decision tree and a regression decision tree.\n",
    "\n",
    "We then select the target dataset for the classification decision tree."
   ]
  },
  {
   "cell_type": "code",
   "execution_count": 23,
   "id": "e45a97f0",
   "metadata": {
    "ExecuteTime": {
     "end_time": "2021-11-13T21:16:27.729084Z",
     "start_time": "2021-11-13T21:16:27.722810Z"
    }
   },
   "outputs": [],
   "source": [
    "# First dropna missing values\n",
    "data.dropna(axis=0, inplace=True)"
   ]
  },
  {
   "cell_type": "code",
   "execution_count": 45,
   "id": "e0d0dcd1",
   "metadata": {
    "ExecuteTime": {
     "end_time": "2021-11-13T21:26:32.514048Z",
     "start_time": "2021-11-13T21:26:32.496949Z"
    }
   },
   "outputs": [
    {
     "name": "stdout",
     "output_type": "stream",
     "text": [
      "<class 'pandas.core.frame.DataFrame'>\n",
      "DatetimeIndex: 12301 entries, 2019-11-18 09:00:00+00:00 to 2021-11-11 21:00:00+00:00\n",
      "Data columns (total 19 columns):\n",
      " #   Column             Non-Null Count  Dtype  \n",
      "---  ------             --------------  -----  \n",
      " 0   Symbol             12301 non-null  object \n",
      " 1   Open               12301 non-null  float64\n",
      " 2   High               12301 non-null  float64\n",
      " 3   Low                12301 non-null  float64\n",
      " 4   Close              12301 non-null  float64\n",
      " 5   EMA10              12301 non-null  float64\n",
      " 6   EMA30              12301 non-null  float64\n",
      " 7   ATR                12301 non-null  float64\n",
      " 8   ADX                12301 non-null  float64\n",
      " 9   RSI                12301 non-null  float64\n",
      " 10  MACD               12301 non-null  float64\n",
      " 11  MACDsignal         12301 non-null  float64\n",
      " 12  MACDhistogram      12301 non-null  float64\n",
      " 13  Close_Over_EMA10   12301 non-null  int64  \n",
      " 14  EMA10_Over_EMA30   12301 non-null  int64  \n",
      " 15  MACDSIG_Over_MACD  12301 non-null  int64  \n",
      " 16  Return             12301 non-null  float64\n",
      " 17  target_cls         12301 non-null  int64  \n",
      " 18  target_rgs         12301 non-null  float64\n",
      "dtypes: float64(14), int64(4), object(1)\n",
      "memory usage: 1.9+ MB\n"
     ]
    }
   ],
   "source": [
    "data.info()"
   ]
  },
  {
   "cell_type": "markdown",
   "id": "bc1b4bd1",
   "metadata": {},
   "source": [
    "#### Classification"
   ]
  },
  {
   "cell_type": "code",
   "execution_count": 61,
   "id": "b3da9192",
   "metadata": {
    "ExecuteTime": {
     "end_time": "2021-11-13T21:28:10.672737Z",
     "start_time": "2021-11-13T21:28:10.668322Z"
    }
   },
   "outputs": [],
   "source": [
    "predictors_list_clf = ['ATR', 'ADX','RSI', 'MACDsignal', 'Close_Over_EMA10', 'EMA10_Over_EMA30', 'MACDSIG_Over_MACD']"
   ]
  },
  {
   "cell_type": "code",
   "execution_count": 54,
   "id": "587a32e9",
   "metadata": {
    "ExecuteTime": {
     "end_time": "2021-11-13T21:27:27.671155Z",
     "start_time": "2021-11-13T21:27:27.665023Z"
    }
   },
   "outputs": [
    {
     "data": {
      "text/plain": [
       "Index(['Symbol', 'Open', 'High', 'Low', 'Close', 'EMA10', 'EMA30', 'ATR',\n",
       "       'ADX', 'RSI', 'MACD', 'MACDsignal', 'MACDhistogram', 'Close_Over_EMA10',\n",
       "       'EMA10_Over_EMA30', 'MACDSIG_Over_MACD', 'Return', 'target_cls',\n",
       "       'target_rgs'],\n",
       "      dtype='object')"
      ]
     },
     "execution_count": 54,
     "metadata": {},
     "output_type": "execute_result"
    }
   ],
   "source": [
    "data.columns"
   ]
  },
  {
   "cell_type": "code",
   "execution_count": 62,
   "id": "927a53be",
   "metadata": {
    "ExecuteTime": {
     "end_time": "2021-11-13T21:28:11.212988Z",
     "start_time": "2021-11-13T21:28:11.206893Z"
    }
   },
   "outputs": [
    {
     "data": {
      "text/html": [
       "<div>\n",
       "<style scoped>\n",
       "    .dataframe tbody tr th:only-of-type {\n",
       "        vertical-align: middle;\n",
       "    }\n",
       "\n",
       "    .dataframe tbody tr th {\n",
       "        vertical-align: top;\n",
       "    }\n",
       "\n",
       "    .dataframe thead th {\n",
       "        text-align: right;\n",
       "    }\n",
       "</style>\n",
       "<table border=\"1\" class=\"dataframe\">\n",
       "  <thead>\n",
       "    <tr style=\"text-align: right;\">\n",
       "      <th></th>\n",
       "      <th>ATR</th>\n",
       "      <th>ADX</th>\n",
       "      <th>RSI</th>\n",
       "      <th>MACDsignal</th>\n",
       "      <th>Close_Over_EMA10</th>\n",
       "      <th>EMA10_Over_EMA30</th>\n",
       "      <th>MACDSIG_Over_MACD</th>\n",
       "    </tr>\n",
       "    <tr>\n",
       "      <th>date_time</th>\n",
       "      <th></th>\n",
       "      <th></th>\n",
       "      <th></th>\n",
       "      <th></th>\n",
       "      <th></th>\n",
       "      <th></th>\n",
       "      <th></th>\n",
       "    </tr>\n",
       "  </thead>\n",
       "  <tbody>\n",
       "    <tr>\n",
       "      <th>2021-11-11 17:00:00+00:00</th>\n",
       "      <td>0.001529</td>\n",
       "      <td>0.001529</td>\n",
       "      <td>31.543096</td>\n",
       "      <td>-0.001931</td>\n",
       "      <td>-1</td>\n",
       "      <td>-1</td>\n",
       "      <td>-1</td>\n",
       "    </tr>\n",
       "    <tr>\n",
       "      <th>2021-11-11 18:00:00+00:00</th>\n",
       "      <td>0.001476</td>\n",
       "      <td>0.001476</td>\n",
       "      <td>30.661045</td>\n",
       "      <td>-0.001888</td>\n",
       "      <td>-1</td>\n",
       "      <td>-1</td>\n",
       "      <td>-1</td>\n",
       "    </tr>\n",
       "    <tr>\n",
       "      <th>2021-11-11 19:00:00+00:00</th>\n",
       "      <td>0.001436</td>\n",
       "      <td>0.001436</td>\n",
       "      <td>29.336856</td>\n",
       "      <td>-0.001859</td>\n",
       "      <td>-1</td>\n",
       "      <td>-1</td>\n",
       "      <td>-1</td>\n",
       "    </tr>\n",
       "    <tr>\n",
       "      <th>2021-11-11 20:00:00+00:00</th>\n",
       "      <td>0.001399</td>\n",
       "      <td>0.001399</td>\n",
       "      <td>31.461685</td>\n",
       "      <td>-0.001832</td>\n",
       "      <td>-1</td>\n",
       "      <td>-1</td>\n",
       "      <td>-1</td>\n",
       "    </tr>\n",
       "    <tr>\n",
       "      <th>2021-11-11 21:00:00+00:00</th>\n",
       "      <td>0.001364</td>\n",
       "      <td>0.001364</td>\n",
       "      <td>35.634180</td>\n",
       "      <td>-0.001795</td>\n",
       "      <td>-1</td>\n",
       "      <td>-1</td>\n",
       "      <td>-1</td>\n",
       "    </tr>\n",
       "  </tbody>\n",
       "</table>\n",
       "</div>"
      ],
      "text/plain": [
       "                                ATR       ADX        RSI  MACDsignal  \\\n",
       "date_time                                                              \n",
       "2021-11-11 17:00:00+00:00  0.001529  0.001529  31.543096   -0.001931   \n",
       "2021-11-11 18:00:00+00:00  0.001476  0.001476  30.661045   -0.001888   \n",
       "2021-11-11 19:00:00+00:00  0.001436  0.001436  29.336856   -0.001859   \n",
       "2021-11-11 20:00:00+00:00  0.001399  0.001399  31.461685   -0.001832   \n",
       "2021-11-11 21:00:00+00:00  0.001364  0.001364  35.634180   -0.001795   \n",
       "\n",
       "                           Close_Over_EMA10  EMA10_Over_EMA30  \\\n",
       "date_time                                                       \n",
       "2021-11-11 17:00:00+00:00                -1                -1   \n",
       "2021-11-11 18:00:00+00:00                -1                -1   \n",
       "2021-11-11 19:00:00+00:00                -1                -1   \n",
       "2021-11-11 20:00:00+00:00                -1                -1   \n",
       "2021-11-11 21:00:00+00:00                -1                -1   \n",
       "\n",
       "                           MACDSIG_Over_MACD  \n",
       "date_time                                     \n",
       "2021-11-11 17:00:00+00:00                 -1  \n",
       "2021-11-11 18:00:00+00:00                 -1  \n",
       "2021-11-11 19:00:00+00:00                 -1  \n",
       "2021-11-11 20:00:00+00:00                 -1  \n",
       "2021-11-11 21:00:00+00:00                 -1  "
      ]
     },
     "execution_count": 62,
     "metadata": {},
     "output_type": "execute_result"
    }
   ],
   "source": [
    "# Select predictor features\n",
    "X_cls = data[predictors_list_clf]\n",
    "X_cls.tail()"
   ]
  },
  {
   "cell_type": "code",
   "execution_count": 63,
   "id": "f4a99993",
   "metadata": {
    "ExecuteTime": {
     "end_time": "2021-11-13T21:28:14.501927Z",
     "start_time": "2021-11-13T21:28:14.490658Z"
    }
   },
   "outputs": [
    {
     "data": {
      "text/plain": [
       "date_time\n",
       "2021-11-11 17:00:00+00:00    0\n",
       "2021-11-11 18:00:00+00:00    0\n",
       "2021-11-11 19:00:00+00:00    1\n",
       "2021-11-11 20:00:00+00:00    1\n",
       "2021-11-11 21:00:00+00:00    0\n",
       "Name: target_cls, dtype: int64"
      ]
     },
     "execution_count": 63,
     "metadata": {},
     "output_type": "execute_result"
    }
   ],
   "source": [
    "# Target classification\n",
    "y_cls = data['target_cls']\n",
    "y_cls.tail()"
   ]
  },
  {
   "cell_type": "markdown",
   "id": "03e580cf",
   "metadata": {},
   "source": [
    "#### Regression"
   ]
  },
  {
   "cell_type": "code",
   "execution_count": 64,
   "id": "1add28b6",
   "metadata": {
    "ExecuteTime": {
     "end_time": "2021-11-13T21:28:15.859143Z",
     "start_time": "2021-11-13T21:28:15.855902Z"
    }
   },
   "outputs": [],
   "source": [
    "predictors_list_rgs = ['ATR', 'ADX','RSI', 'Close_Over_EMA10', 'MACDsignal', 'EMA10_Over_EMA30', 'MACDSIG_Over_MACD']"
   ]
  },
  {
   "cell_type": "code",
   "execution_count": 65,
   "id": "cd75bc25",
   "metadata": {
    "ExecuteTime": {
     "end_time": "2021-11-13T21:28:16.404256Z",
     "start_time": "2021-11-13T21:28:16.399452Z"
    }
   },
   "outputs": [],
   "source": [
    "# Two regression problems (Positive and negative returns)\n",
    "data_pos_rgs = data[data['target_rgs']>0]\n",
    "data_neg_rgs = data[data['target_rgs']<0]\n",
    "\n",
    "\n",
    "# Select predictor features\n",
    "X_pos_rgs = data_pos_rgs[predictors_list_rgs]\n",
    "X_neg_rgs = data_neg_rgs[predictors_list_rgs]\n",
    "\n",
    "# Target for the regression decision tree.\n",
    "y_pos_rgs = data_pos_rgs['target_rgs']\n",
    "y_neg_rgs = data_neg_rgs['target_rgs']"
   ]
  },
  {
   "cell_type": "markdown",
   "id": "9c4afce1",
   "metadata": {},
   "source": [
    "### Splitting the data into training and testing data sets\n",
    "The last step to finish with the preparation of the data sets is to split them into train and test data sets. This is necessary to fit the model with a set of data, usually 70% or 80% and the remainder, to test the goodness of the model. If we do not do so, we would run the risk of over-fitting the model. We want to test the model with unknown data, once the model has been fitted in order to evaluate the model accuracy.\n",
    "\n",
    "We’re going to create the train data set with the 70% of the data from predictor and target variables data sets and the remainder 30% to test the model."
   ]
  },
  {
   "cell_type": "markdown",
   "id": "c0f3745e",
   "metadata": {},
   "source": [
    "#### Classification\n",
    "\n",
    "\n",
    "For classification decision trees, we’re going to use the train_test_split function from sklearn modelselection library to split the dataset. Since the output is categorical, it is important that the training and test datasets are proportional train_test_split function has as input the predictor and target datasets and some input parameters:\n",
    "\n",
    "\n",
    "- __test_size.__ The size of the test data set, in this case, 30% of the data for the tests and, therefore, 70% for the training.\n",
    "\n",
    "- __random_state.__ Since the sampling is random, this parameter allows us to reproduce the same randomness in each execution.\n",
    "\n",
    "- __stratify.__ To ensure that the training and test sample data are proportional, we set the parameter to yes. This means that, for example, if there are more days with positive than negative return, the training and test samples will keep the same proportion."
   ]
  },
  {
   "cell_type": "code",
   "execution_count": 66,
   "id": "eece9835",
   "metadata": {
    "ExecuteTime": {
     "end_time": "2021-11-13T21:28:17.309358Z",
     "start_time": "2021-11-13T21:28:17.293760Z"
    }
   },
   "outputs": [
    {
     "name": "stdout",
     "output_type": "stream",
     "text": [
      "Train. X = (8610, 7), y = (8610,)\n",
      "Test.  X = (3691, 7), y = (3691,)\n"
     ]
    }
   ],
   "source": [
    "X_cls_train, X_cls_test, y_cls_train, y_cls_test = train_test_split(X_cls, y_cls, test_size=0.3, stratify=y_cls)\n",
    "\n",
    "print(f'Train. X = {X_cls_train.shape}, y = {y_cls_train.shape}')\n",
    "print(f'Test.  X = {X_cls_test.shape}, y = {y_cls_test.shape}')"
   ]
  },
  {
   "cell_type": "markdown",
   "id": "2f7beb27",
   "metadata": {},
   "source": [
    "Here we have:\n",
    "\n",
    "- X_cls_train. Train predictor dataset.\n",
    "- y_cls_train. Train target dataset.\n",
    "- X_cls_test. Test predictor dataset.\n",
    "- y_cls_test. Test target dataset."
   ]
  },
  {
   "cell_type": "markdown",
   "id": "500b3ab0",
   "metadata": {},
   "source": [
    "#### Regression\n",
    "\n",
    "For regression decision trees we simply split the data at the specified rate, since the output is continuous, we don’t worry about the proportionality of the output in training and test datasets."
   ]
  },
  {
   "cell_type": "code",
   "execution_count": 67,
   "id": "c08e2f6c",
   "metadata": {
    "ExecuteTime": {
     "end_time": "2021-11-13T21:28:18.488943Z",
     "start_time": "2021-11-13T21:28:18.477453Z"
    }
   },
   "outputs": [],
   "source": [
    "def train_test_split_rgs(X, y, test_size):\n",
    "    \"\"\"\n",
    "    Train test split function for regression datasets.\n",
    "    \"\"\"\n",
    "    \n",
    "    train_length = int(X.shape[0]*(1-test_size))\n",
    "    \n",
    "    X_rgs_train = X.iloc[:train_length]\n",
    "    X_rgs_test = X.iloc[train_length:]\n",
    "    y_rgs_train = y.iloc[:train_length]\n",
    "    y_rgs_test = y.iloc[train_length:]\n",
    "    \n",
    "    print('Train')\n",
    "    print(f'Shape. X = {X_rgs_train.shape}, y = {y_rgs_train.shape}')\n",
    "    print(f'From {X_rgs_train.index.min()} to {X_rgs_train.index.max()}', end=2*'\\n')\n",
    "    \n",
    "    print('Test')\n",
    "    print(f'Shape. X = {X_rgs_test.shape}, y = {y_rgs_test.shape}')    \n",
    "    print(f'From {X_rgs_test.index.min()} to {X_rgs_test.index.max()}')\n",
    "    \n",
    "    return X_rgs_train, X_rgs_test, y_rgs_train, y_rgs_test"
   ]
  },
  {
   "cell_type": "code",
   "execution_count": 68,
   "id": "463dd16c",
   "metadata": {
    "ExecuteTime": {
     "end_time": "2021-11-13T21:28:19.014768Z",
     "start_time": "2021-11-13T21:28:19.012221Z"
    }
   },
   "outputs": [
    {
     "name": "stdout",
     "output_type": "stream",
     "text": [
      "Train\n",
      "Shape. X = (3987, 7), y = (3987,)\n",
      "From 2019-11-18 10:00:00+00:00 to 2021-04-01 12:00:00+01:00\n",
      "\n",
      "Test\n",
      "Shape. X = (1709, 7), y = (1709,)\n",
      "From 2021-04-01 13:00:00+01:00 to 2021-11-11 20:00:00+00:00\n"
     ]
    }
   ],
   "source": [
    "# Positive returns regression.\n",
    "X_pos_rgs_train, X_pos_rgs_test, y_pos_rgs_train, y_pos_rgs_test = train_test_split_rgs(X=X_pos_rgs, y=y_pos_rgs, test_size=0.3)\n"
   ]
  },
  {
   "cell_type": "code",
   "execution_count": 69,
   "id": "add7e587",
   "metadata": {
    "ExecuteTime": {
     "end_time": "2021-11-13T21:28:19.497128Z",
     "start_time": "2021-11-13T21:28:19.494308Z"
    }
   },
   "outputs": [
    {
     "name": "stdout",
     "output_type": "stream",
     "text": [
      "Train\n",
      "Shape. X = (3862, 7), y = (3862,)\n",
      "From 2019-11-18 09:00:00+00:00 to 2021-04-13 00:00:00+01:00\n",
      "\n",
      "Test\n",
      "Shape. X = (1656, 7), y = (1656,)\n",
      "From 2021-04-13 01:00:00+01:00 to 2021-11-11 21:00:00+00:00\n"
     ]
    }
   ],
   "source": [
    "# Negative returns regression.\n",
    "X_neg_rgs_train, X_neg_rgs_test, y_neg_rgs_train, y_neg_rgs_test = train_test_split_rgs(X=X_neg_rgs, y=y_neg_rgs, test_size=0.3)\n"
   ]
  },
  {
   "cell_type": "markdown",
   "id": "9e5bf87a",
   "metadata": {},
   "source": [
    "### Decision Trees for Classification\n",
    "\n",
    "\n",
    "Now let’s create the classification decision tree using the DecisionTreeClassifier function from the sklearn.tree library.\n",
    "\n",
    "Although the DecisionTreeClassifier function has many parameters that I invite you to know and experiment with (help(DecisionTreeClassifier)), here we will see the basics to create the classification decision tree."
   ]
  },
  {
   "cell_type": "code",
   "execution_count": 70,
   "id": "52ad50ac",
   "metadata": {
    "ExecuteTime": {
     "end_time": "2021-11-13T21:28:20.688986Z",
     "start_time": "2021-11-13T21:28:20.672849Z"
    }
   },
   "outputs": [
    {
     "name": "stdout",
     "output_type": "stream",
     "text": [
      "Help on class DecisionTreeClassifier in module sklearn.tree._classes:\n",
      "\n",
      "class DecisionTreeClassifier(sklearn.base.ClassifierMixin, BaseDecisionTree)\n",
      " |  DecisionTreeClassifier(*, criterion='gini', splitter='best', max_depth=None, min_samples_split=2, min_samples_leaf=1, min_weight_fraction_leaf=0.0, max_features=None, random_state=None, max_leaf_nodes=None, min_impurity_decrease=0.0, class_weight=None, ccp_alpha=0.0)\n",
      " |  \n",
      " |  A decision tree classifier.\n",
      " |  \n",
      " |  Read more in the :ref:`User Guide <tree>`.\n",
      " |  \n",
      " |  Parameters\n",
      " |  ----------\n",
      " |  criterion : {\"gini\", \"entropy\"}, default=\"gini\"\n",
      " |      The function to measure the quality of a split. Supported criteria are\n",
      " |      \"gini\" for the Gini impurity and \"entropy\" for the information gain.\n",
      " |  \n",
      " |  splitter : {\"best\", \"random\"}, default=\"best\"\n",
      " |      The strategy used to choose the split at each node. Supported\n",
      " |      strategies are \"best\" to choose the best split and \"random\" to choose\n",
      " |      the best random split.\n",
      " |  \n",
      " |  max_depth : int, default=None\n",
      " |      The maximum depth of the tree. If None, then nodes are expanded until\n",
      " |      all leaves are pure or until all leaves contain less than\n",
      " |      min_samples_split samples.\n",
      " |  \n",
      " |  min_samples_split : int or float, default=2\n",
      " |      The minimum number of samples required to split an internal node:\n",
      " |  \n",
      " |      - If int, then consider `min_samples_split` as the minimum number.\n",
      " |      - If float, then `min_samples_split` is a fraction and\n",
      " |        `ceil(min_samples_split * n_samples)` are the minimum\n",
      " |        number of samples for each split.\n",
      " |  \n",
      " |      .. versionchanged:: 0.18\n",
      " |         Added float values for fractions.\n",
      " |  \n",
      " |  min_samples_leaf : int or float, default=1\n",
      " |      The minimum number of samples required to be at a leaf node.\n",
      " |      A split point at any depth will only be considered if it leaves at\n",
      " |      least ``min_samples_leaf`` training samples in each of the left and\n",
      " |      right branches.  This may have the effect of smoothing the model,\n",
      " |      especially in regression.\n",
      " |  \n",
      " |      - If int, then consider `min_samples_leaf` as the minimum number.\n",
      " |      - If float, then `min_samples_leaf` is a fraction and\n",
      " |        `ceil(min_samples_leaf * n_samples)` are the minimum\n",
      " |        number of samples for each node.\n",
      " |  \n",
      " |      .. versionchanged:: 0.18\n",
      " |         Added float values for fractions.\n",
      " |  \n",
      " |  min_weight_fraction_leaf : float, default=0.0\n",
      " |      The minimum weighted fraction of the sum total of weights (of all\n",
      " |      the input samples) required to be at a leaf node. Samples have\n",
      " |      equal weight when sample_weight is not provided.\n",
      " |  \n",
      " |  max_features : int, float or {\"auto\", \"sqrt\", \"log2\"}, default=None\n",
      " |      The number of features to consider when looking for the best split:\n",
      " |  \n",
      " |          - If int, then consider `max_features` features at each split.\n",
      " |          - If float, then `max_features` is a fraction and\n",
      " |            `int(max_features * n_features)` features are considered at each\n",
      " |            split.\n",
      " |          - If \"auto\", then `max_features=sqrt(n_features)`.\n",
      " |          - If \"sqrt\", then `max_features=sqrt(n_features)`.\n",
      " |          - If \"log2\", then `max_features=log2(n_features)`.\n",
      " |          - If None, then `max_features=n_features`.\n",
      " |  \n",
      " |      Note: the search for a split does not stop until at least one\n",
      " |      valid partition of the node samples is found, even if it requires to\n",
      " |      effectively inspect more than ``max_features`` features.\n",
      " |  \n",
      " |  random_state : int, RandomState instance or None, default=None\n",
      " |      Controls the randomness of the estimator. The features are always\n",
      " |      randomly permuted at each split, even if ``splitter`` is set to\n",
      " |      ``\"best\"``. When ``max_features < n_features``, the algorithm will\n",
      " |      select ``max_features`` at random at each split before finding the best\n",
      " |      split among them. But the best found split may vary across different\n",
      " |      runs, even if ``max_features=n_features``. That is the case, if the\n",
      " |      improvement of the criterion is identical for several splits and one\n",
      " |      split has to be selected at random. To obtain a deterministic behaviour\n",
      " |      during fitting, ``random_state`` has to be fixed to an integer.\n",
      " |      See :term:`Glossary <random_state>` for details.\n",
      " |  \n",
      " |  max_leaf_nodes : int, default=None\n",
      " |      Grow a tree with ``max_leaf_nodes`` in best-first fashion.\n",
      " |      Best nodes are defined as relative reduction in impurity.\n",
      " |      If None then unlimited number of leaf nodes.\n",
      " |  \n",
      " |  min_impurity_decrease : float, default=0.0\n",
      " |      A node will be split if this split induces a decrease of the impurity\n",
      " |      greater than or equal to this value.\n",
      " |  \n",
      " |      The weighted impurity decrease equation is the following::\n",
      " |  \n",
      " |          N_t / N * (impurity - N_t_R / N_t * right_impurity\n",
      " |                              - N_t_L / N_t * left_impurity)\n",
      " |  \n",
      " |      where ``N`` is the total number of samples, ``N_t`` is the number of\n",
      " |      samples at the current node, ``N_t_L`` is the number of samples in the\n",
      " |      left child, and ``N_t_R`` is the number of samples in the right child.\n",
      " |  \n",
      " |      ``N``, ``N_t``, ``N_t_R`` and ``N_t_L`` all refer to the weighted sum,\n",
      " |      if ``sample_weight`` is passed.\n",
      " |  \n",
      " |      .. versionadded:: 0.19\n",
      " |  \n",
      " |  class_weight : dict, list of dict or \"balanced\", default=None\n",
      " |      Weights associated with classes in the form ``{class_label: weight}``.\n",
      " |      If None, all classes are supposed to have weight one. For\n",
      " |      multi-output problems, a list of dicts can be provided in the same\n",
      " |      order as the columns of y.\n",
      " |  \n",
      " |      Note that for multioutput (including multilabel) weights should be\n",
      " |      defined for each class of every column in its own dict. For example,\n",
      " |      for four-class multilabel classification weights should be\n",
      " |      [{0: 1, 1: 1}, {0: 1, 1: 5}, {0: 1, 1: 1}, {0: 1, 1: 1}] instead of\n",
      " |      [{1:1}, {2:5}, {3:1}, {4:1}].\n",
      " |  \n",
      " |      The \"balanced\" mode uses the values of y to automatically adjust\n",
      " |      weights inversely proportional to class frequencies in the input data\n",
      " |      as ``n_samples / (n_classes * np.bincount(y))``\n",
      " |  \n",
      " |      For multi-output, the weights of each column of y will be multiplied.\n",
      " |  \n",
      " |      Note that these weights will be multiplied with sample_weight (passed\n",
      " |      through the fit method) if sample_weight is specified.\n",
      " |  \n",
      " |  ccp_alpha : non-negative float, default=0.0\n",
      " |      Complexity parameter used for Minimal Cost-Complexity Pruning. The\n",
      " |      subtree with the largest cost complexity that is smaller than\n",
      " |      ``ccp_alpha`` will be chosen. By default, no pruning is performed. See\n",
      " |      :ref:`minimal_cost_complexity_pruning` for details.\n",
      " |  \n",
      " |      .. versionadded:: 0.22\n",
      " |  \n",
      " |  Attributes\n",
      " |  ----------\n",
      " |  classes_ : ndarray of shape (n_classes,) or list of ndarray\n",
      " |      The classes labels (single output problem),\n",
      " |      or a list of arrays of class labels (multi-output problem).\n",
      " |  \n",
      " |  feature_importances_ : ndarray of shape (n_features,)\n",
      " |      The impurity-based feature importances.\n",
      " |      The higher, the more important the feature.\n",
      " |      The importance of a feature is computed as the (normalized)\n",
      " |      total reduction of the criterion brought by that feature.  It is also\n",
      " |      known as the Gini importance [4]_.\n",
      " |  \n",
      " |      Warning: impurity-based feature importances can be misleading for\n",
      " |      high cardinality features (many unique values). See\n",
      " |      :func:`sklearn.inspection.permutation_importance` as an alternative.\n",
      " |  \n",
      " |  max_features_ : int\n",
      " |      The inferred value of max_features.\n",
      " |  \n",
      " |  n_classes_ : int or list of int\n",
      " |      The number of classes (for single output problems),\n",
      " |      or a list containing the number of classes for each\n",
      " |      output (for multi-output problems).\n",
      " |  \n",
      " |  n_features_ : int\n",
      " |      The number of features when ``fit`` is performed.\n",
      " |  \n",
      " |      .. deprecated:: 1.0\n",
      " |         `n_features_` is deprecated in 1.0 and will be removed in\n",
      " |         1.2. Use `n_features_in_` instead.\n",
      " |  \n",
      " |  n_features_in_ : int\n",
      " |      Number of features seen during :term:`fit`.\n",
      " |  \n",
      " |      .. versionadded:: 0.24\n",
      " |  \n",
      " |  feature_names_in_ : ndarray of shape (`n_features_in_`,)\n",
      " |      Names of features seen during :term:`fit`. Defined only when `X`\n",
      " |      has feature names that are all strings.\n",
      " |  \n",
      " |      .. versionadded:: 1.0\n",
      " |  \n",
      " |  n_outputs_ : int\n",
      " |      The number of outputs when ``fit`` is performed.\n",
      " |  \n",
      " |  tree_ : Tree instance\n",
      " |      The underlying Tree object. Please refer to\n",
      " |      ``help(sklearn.tree._tree.Tree)`` for attributes of Tree object and\n",
      " |      :ref:`sphx_glr_auto_examples_tree_plot_unveil_tree_structure.py`\n",
      " |      for basic usage of these attributes.\n",
      " |  \n",
      " |  See Also\n",
      " |  --------\n",
      " |  DecisionTreeRegressor : A decision tree regressor.\n",
      " |  \n",
      " |  Notes\n",
      " |  -----\n",
      " |  The default values for the parameters controlling the size of the trees\n",
      " |  (e.g. ``max_depth``, ``min_samples_leaf``, etc.) lead to fully grown and\n",
      " |  unpruned trees which can potentially be very large on some data sets. To\n",
      " |  reduce memory consumption, the complexity and size of the trees should be\n",
      " |  controlled by setting those parameter values.\n",
      " |  \n",
      " |  The :meth:`predict` method operates using the :func:`numpy.argmax`\n",
      " |  function on the outputs of :meth:`predict_proba`. This means that in\n",
      " |  case the highest predicted probabilities are tied, the classifier will\n",
      " |  predict the tied class with the lowest index in :term:`classes_`.\n",
      " |  \n",
      " |  References\n",
      " |  ----------\n",
      " |  \n",
      " |  .. [1] https://en.wikipedia.org/wiki/Decision_tree_learning\n",
      " |  \n",
      " |  .. [2] L. Breiman, J. Friedman, R. Olshen, and C. Stone, \"Classification\n",
      " |         and Regression Trees\", Wadsworth, Belmont, CA, 1984.\n",
      " |  \n",
      " |  .. [3] T. Hastie, R. Tibshirani and J. Friedman. \"Elements of Statistical\n",
      " |         Learning\", Springer, 2009.\n",
      " |  \n",
      " |  .. [4] L. Breiman, and A. Cutler, \"Random Forests\",\n",
      " |         https://www.stat.berkeley.edu/~breiman/RandomForests/cc_home.htm\n",
      " |  \n",
      " |  Examples\n",
      " |  --------\n",
      " |  >>> from sklearn.datasets import load_iris\n",
      " |  >>> from sklearn.model_selection import cross_val_score\n",
      " |  >>> from sklearn.tree import DecisionTreeClassifier\n",
      " |  >>> clf = DecisionTreeClassifier(random_state=0)\n",
      " |  >>> iris = load_iris()\n",
      " |  >>> cross_val_score(clf, iris.data, iris.target, cv=10)\n",
      " |  ...                             # doctest: +SKIP\n",
      " |  ...\n",
      " |  array([ 1.     ,  0.93...,  0.86...,  0.93...,  0.93...,\n",
      " |          0.93...,  0.93...,  1.     ,  0.93...,  1.      ])\n",
      " |  \n",
      " |  Method resolution order:\n",
      " |      DecisionTreeClassifier\n",
      " |      sklearn.base.ClassifierMixin\n",
      " |      BaseDecisionTree\n",
      " |      sklearn.base.MultiOutputMixin\n",
      " |      sklearn.base.BaseEstimator\n",
      " |      builtins.object\n",
      " |  \n",
      " |  Methods defined here:\n",
      " |  \n",
      " |  __init__(self, *, criterion='gini', splitter='best', max_depth=None, min_samples_split=2, min_samples_leaf=1, min_weight_fraction_leaf=0.0, max_features=None, random_state=None, max_leaf_nodes=None, min_impurity_decrease=0.0, class_weight=None, ccp_alpha=0.0)\n",
      " |      Initialize self.  See help(type(self)) for accurate signature.\n",
      " |  \n",
      " |  fit(self, X, y, sample_weight=None, check_input=True, X_idx_sorted='deprecated')\n",
      " |      Build a decision tree classifier from the training set (X, y).\n",
      " |      \n",
      " |      Parameters\n",
      " |      ----------\n",
      " |      X : {array-like, sparse matrix} of shape (n_samples, n_features)\n",
      " |          The training input samples. Internally, it will be converted to\n",
      " |          ``dtype=np.float32`` and if a sparse matrix is provided\n",
      " |          to a sparse ``csc_matrix``.\n",
      " |      \n",
      " |      y : array-like of shape (n_samples,) or (n_samples, n_outputs)\n",
      " |          The target values (class labels) as integers or strings.\n",
      " |      \n",
      " |      sample_weight : array-like of shape (n_samples,), default=None\n",
      " |          Sample weights. If None, then samples are equally weighted. Splits\n",
      " |          that would create child nodes with net zero or negative weight are\n",
      " |          ignored while searching for a split in each node. Splits are also\n",
      " |          ignored if they would result in any single class carrying a\n",
      " |          negative weight in either child node.\n",
      " |      \n",
      " |      check_input : bool, default=True\n",
      " |          Allow to bypass several input checking.\n",
      " |          Don't use this parameter unless you know what you do.\n",
      " |      \n",
      " |      X_idx_sorted : deprecated, default=\"deprecated\"\n",
      " |          This parameter is deprecated and has no effect.\n",
      " |          It will be removed in 1.1 (renaming of 0.26).\n",
      " |      \n",
      " |          .. deprecated:: 0.24\n",
      " |      \n",
      " |      Returns\n",
      " |      -------\n",
      " |      self : DecisionTreeClassifier\n",
      " |          Fitted estimator.\n",
      " |  \n",
      " |  predict_log_proba(self, X)\n",
      " |      Predict class log-probabilities of the input samples X.\n",
      " |      \n",
      " |      Parameters\n",
      " |      ----------\n",
      " |      X : {array-like, sparse matrix} of shape (n_samples, n_features)\n",
      " |          The input samples. Internally, it will be converted to\n",
      " |          ``dtype=np.float32`` and if a sparse matrix is provided\n",
      " |          to a sparse ``csr_matrix``.\n",
      " |      \n",
      " |      Returns\n",
      " |      -------\n",
      " |      proba : ndarray of shape (n_samples, n_classes) or list of n_outputs             such arrays if n_outputs > 1\n",
      " |          The class log-probabilities of the input samples. The order of the\n",
      " |          classes corresponds to that in the attribute :term:`classes_`.\n",
      " |  \n",
      " |  predict_proba(self, X, check_input=True)\n",
      " |      Predict class probabilities of the input samples X.\n",
      " |      \n",
      " |      The predicted class probability is the fraction of samples of the same\n",
      " |      class in a leaf.\n",
      " |      \n",
      " |      Parameters\n",
      " |      ----------\n",
      " |      X : {array-like, sparse matrix} of shape (n_samples, n_features)\n",
      " |          The input samples. Internally, it will be converted to\n",
      " |          ``dtype=np.float32`` and if a sparse matrix is provided\n",
      " |          to a sparse ``csr_matrix``.\n",
      " |      \n",
      " |      check_input : bool, default=True\n",
      " |          Allow to bypass several input checking.\n",
      " |          Don't use this parameter unless you know what you do.\n",
      " |      \n",
      " |      Returns\n",
      " |      -------\n",
      " |      proba : ndarray of shape (n_samples, n_classes) or list of n_outputs             such arrays if n_outputs > 1\n",
      " |          The class probabilities of the input samples. The order of the\n",
      " |          classes corresponds to that in the attribute :term:`classes_`.\n",
      " |  \n",
      " |  ----------------------------------------------------------------------\n",
      " |  Readonly properties defined here:\n",
      " |  \n",
      " |  n_features_\n",
      " |      DEPRECATED: The attribute `n_features_` is deprecated in 1.0 and will be removed in 1.2. Use `n_features_in_` instead.\n",
      " |  \n",
      " |  ----------------------------------------------------------------------\n",
      " |  Data and other attributes defined here:\n",
      " |  \n",
      " |  __abstractmethods__ = frozenset()\n",
      " |  \n",
      " |  ----------------------------------------------------------------------\n",
      " |  Methods inherited from sklearn.base.ClassifierMixin:\n",
      " |  \n",
      " |  score(self, X, y, sample_weight=None)\n",
      " |      Return the mean accuracy on the given test data and labels.\n",
      " |      \n",
      " |      In multi-label classification, this is the subset accuracy\n",
      " |      which is a harsh metric since you require for each sample that\n",
      " |      each label set be correctly predicted.\n",
      " |      \n",
      " |      Parameters\n",
      " |      ----------\n",
      " |      X : array-like of shape (n_samples, n_features)\n",
      " |          Test samples.\n",
      " |      \n",
      " |      y : array-like of shape (n_samples,) or (n_samples, n_outputs)\n",
      " |          True labels for `X`.\n",
      " |      \n",
      " |      sample_weight : array-like of shape (n_samples,), default=None\n",
      " |          Sample weights.\n",
      " |      \n",
      " |      Returns\n",
      " |      -------\n",
      " |      score : float\n",
      " |          Mean accuracy of ``self.predict(X)`` wrt. `y`.\n",
      " |  \n",
      " |  ----------------------------------------------------------------------\n",
      " |  Data descriptors inherited from sklearn.base.ClassifierMixin:\n",
      " |  \n",
      " |  __dict__\n",
      " |      dictionary for instance variables (if defined)\n",
      " |  \n",
      " |  __weakref__\n",
      " |      list of weak references to the object (if defined)\n",
      " |  \n",
      " |  ----------------------------------------------------------------------\n",
      " |  Methods inherited from BaseDecisionTree:\n",
      " |  \n",
      " |  apply(self, X, check_input=True)\n",
      " |      Return the index of the leaf that each sample is predicted as.\n",
      " |      \n",
      " |      .. versionadded:: 0.17\n",
      " |      \n",
      " |      Parameters\n",
      " |      ----------\n",
      " |      X : {array-like, sparse matrix} of shape (n_samples, n_features)\n",
      " |          The input samples. Internally, it will be converted to\n",
      " |          ``dtype=np.float32`` and if a sparse matrix is provided\n",
      " |          to a sparse ``csr_matrix``.\n",
      " |      \n",
      " |      check_input : bool, default=True\n",
      " |          Allow to bypass several input checking.\n",
      " |          Don't use this parameter unless you know what you do.\n",
      " |      \n",
      " |      Returns\n",
      " |      -------\n",
      " |      X_leaves : array-like of shape (n_samples,)\n",
      " |          For each datapoint x in X, return the index of the leaf x\n",
      " |          ends up in. Leaves are numbered within\n",
      " |          ``[0; self.tree_.node_count)``, possibly with gaps in the\n",
      " |          numbering.\n",
      " |  \n",
      " |  cost_complexity_pruning_path(self, X, y, sample_weight=None)\n",
      " |      Compute the pruning path during Minimal Cost-Complexity Pruning.\n",
      " |      \n",
      " |      See :ref:`minimal_cost_complexity_pruning` for details on the pruning\n",
      " |      process.\n",
      " |      \n",
      " |      Parameters\n",
      " |      ----------\n",
      " |      X : {array-like, sparse matrix} of shape (n_samples, n_features)\n",
      " |          The training input samples. Internally, it will be converted to\n",
      " |          ``dtype=np.float32`` and if a sparse matrix is provided\n",
      " |          to a sparse ``csc_matrix``.\n",
      " |      \n",
      " |      y : array-like of shape (n_samples,) or (n_samples, n_outputs)\n",
      " |          The target values (class labels) as integers or strings.\n",
      " |      \n",
      " |      sample_weight : array-like of shape (n_samples,), default=None\n",
      " |          Sample weights. If None, then samples are equally weighted. Splits\n",
      " |          that would create child nodes with net zero or negative weight are\n",
      " |          ignored while searching for a split in each node. Splits are also\n",
      " |          ignored if they would result in any single class carrying a\n",
      " |          negative weight in either child node.\n",
      " |      \n",
      " |      Returns\n",
      " |      -------\n",
      " |      ccp_path : :class:`~sklearn.utils.Bunch`\n",
      " |          Dictionary-like object, with the following attributes.\n",
      " |      \n",
      " |          ccp_alphas : ndarray\n",
      " |              Effective alphas of subtree during pruning.\n",
      " |      \n",
      " |          impurities : ndarray\n",
      " |              Sum of the impurities of the subtree leaves for the\n",
      " |              corresponding alpha value in ``ccp_alphas``.\n",
      " |  \n",
      " |  decision_path(self, X, check_input=True)\n",
      " |      Return the decision path in the tree.\n",
      " |      \n",
      " |      .. versionadded:: 0.18\n",
      " |      \n",
      " |      Parameters\n",
      " |      ----------\n",
      " |      X : {array-like, sparse matrix} of shape (n_samples, n_features)\n",
      " |          The input samples. Internally, it will be converted to\n",
      " |          ``dtype=np.float32`` and if a sparse matrix is provided\n",
      " |          to a sparse ``csr_matrix``.\n",
      " |      \n",
      " |      check_input : bool, default=True\n",
      " |          Allow to bypass several input checking.\n",
      " |          Don't use this parameter unless you know what you do.\n",
      " |      \n",
      " |      Returns\n",
      " |      -------\n",
      " |      indicator : sparse matrix of shape (n_samples, n_nodes)\n",
      " |          Return a node indicator CSR matrix where non zero elements\n",
      " |          indicates that the samples goes through the nodes.\n",
      " |  \n",
      " |  get_depth(self)\n",
      " |      Return the depth of the decision tree.\n",
      " |      \n",
      " |      The depth of a tree is the maximum distance between the root\n",
      " |      and any leaf.\n",
      " |      \n",
      " |      Returns\n",
      " |      -------\n",
      " |      self.tree_.max_depth : int\n",
      " |          The maximum depth of the tree.\n",
      " |  \n",
      " |  get_n_leaves(self)\n",
      " |      Return the number of leaves of the decision tree.\n",
      " |      \n",
      " |      Returns\n",
      " |      -------\n",
      " |      self.tree_.n_leaves : int\n",
      " |          Number of leaves.\n",
      " |  \n",
      " |  predict(self, X, check_input=True)\n",
      " |      Predict class or regression value for X.\n",
      " |      \n",
      " |      For a classification model, the predicted class for each sample in X is\n",
      " |      returned. For a regression model, the predicted value based on X is\n",
      " |      returned.\n",
      " |      \n",
      " |      Parameters\n",
      " |      ----------\n",
      " |      X : {array-like, sparse matrix} of shape (n_samples, n_features)\n",
      " |          The input samples. Internally, it will be converted to\n",
      " |          ``dtype=np.float32`` and if a sparse matrix is provided\n",
      " |          to a sparse ``csr_matrix``.\n",
      " |      \n",
      " |      check_input : bool, default=True\n",
      " |          Allow to bypass several input checking.\n",
      " |          Don't use this parameter unless you know what you do.\n",
      " |      \n",
      " |      Returns\n",
      " |      -------\n",
      " |      y : array-like of shape (n_samples,) or (n_samples, n_outputs)\n",
      " |          The predicted classes, or the predict values.\n",
      " |  \n",
      " |  ----------------------------------------------------------------------\n",
      " |  Readonly properties inherited from BaseDecisionTree:\n",
      " |  \n",
      " |  feature_importances_\n",
      " |      Return the feature importances.\n",
      " |      \n",
      " |      The importance of a feature is computed as the (normalized) total\n",
      " |      reduction of the criterion brought by that feature.\n",
      " |      It is also known as the Gini importance.\n",
      " |      \n",
      " |      Warning: impurity-based feature importances can be misleading for\n",
      " |      high cardinality features (many unique values). See\n",
      " |      :func:`sklearn.inspection.permutation_importance` as an alternative.\n",
      " |      \n",
      " |      Returns\n",
      " |      -------\n",
      " |      feature_importances_ : ndarray of shape (n_features,)\n",
      " |          Normalized total reduction of criteria by feature\n",
      " |          (Gini importance).\n",
      " |  \n",
      " |  ----------------------------------------------------------------------\n",
      " |  Methods inherited from sklearn.base.BaseEstimator:\n",
      " |  \n",
      " |  __getstate__(self)\n",
      " |  \n",
      " |  __repr__(self, N_CHAR_MAX=700)\n",
      " |      Return repr(self).\n",
      " |  \n",
      " |  __setstate__(self, state)\n",
      " |  \n",
      " |  get_params(self, deep=True)\n",
      " |      Get parameters for this estimator.\n",
      " |      \n",
      " |      Parameters\n",
      " |      ----------\n",
      " |      deep : bool, default=True\n",
      " |          If True, will return the parameters for this estimator and\n",
      " |          contained subobjects that are estimators.\n",
      " |      \n",
      " |      Returns\n",
      " |      -------\n",
      " |      params : dict\n",
      " |          Parameter names mapped to their values.\n",
      " |  \n",
      " |  set_params(self, **params)\n",
      " |      Set the parameters of this estimator.\n",
      " |      \n",
      " |      The method works on simple estimators as well as on nested objects\n",
      " |      (such as :class:`~sklearn.pipeline.Pipeline`). The latter have\n",
      " |      parameters of the form ``<component>__<parameter>`` so that it's\n",
      " |      possible to update each component of a nested object.\n",
      " |      \n",
      " |      Parameters\n",
      " |      ----------\n",
      " |      **params : dict\n",
      " |          Estimator parameters.\n",
      " |      \n",
      " |      Returns\n",
      " |      -------\n",
      " |      self : estimator instance\n",
      " |          Estimator instance.\n",
      "\n"
     ]
    }
   ],
   "source": [
    "help(tree.DecisionTreeClassifier)"
   ]
  },
  {
   "cell_type": "markdown",
   "id": "826add34",
   "metadata": {},
   "source": [
    "Basically refer to the parameters with which the algorithm must build the tree, because it follows a recursive approach to build the tree, we must set some limits to create it.\n",
    "\n",
    "- __criterion.__ For the classification decision trees we can choose Gini or Entropy and Information Gain, these criteria refer to the loss function to evaluate the performance of a learning machine algorithm and are the most used for the classification algorithms, although it is beyond the scope of this post, basically serves us to adjust the accuracy of the model, also the algorithm to build the tree, stops evaluating the branches in which no improvement is obtained according to the loss function.\n",
    "\n",
    "- __max_depth.__ Maximum number of levels the tree will have.\n",
    "\n",
    "- __min_samples_leaf.__ This parameter is optimizable and indicates the minimum number of samples that we want to have in leaves."
   ]
  },
  {
   "cell_type": "code",
   "execution_count": 82,
   "id": "362df8c4",
   "metadata": {
    "ExecuteTime": {
     "end_time": "2021-11-13T21:40:47.577172Z",
     "start_time": "2021-11-13T21:40:47.540824Z"
    }
   },
   "outputs": [
    {
     "name": "stdout",
     "output_type": "stream",
     "text": [
      "DecisionTreeClassifier(max_depth=3, min_samples_leaf=6, random_state=42)\n"
     ]
    },
    {
     "data": {
      "text/plain": [
       "DecisionTreeClassifier(max_depth=3, min_samples_leaf=6, random_state=42)"
      ]
     },
     "execution_count": 82,
     "metadata": {},
     "output_type": "execute_result"
    }
   ],
   "source": [
    "# Decision tree (dt) model for the classification problem (clf)\n",
    "model_dt_clf = tree.DecisionTreeClassifier(criterion='gini', max_depth=3, min_samples_leaf=6, random_state=42)\n",
    "print(model_dt_clf)\n",
    "\n",
    "# Train datasets\n",
    "model_dt_clf.fit(X_cls_train, y_cls_train)\n"
   ]
  },
  {
   "cell_type": "markdown",
   "id": "ed2036ae",
   "metadata": {},
   "source": [
    "Now we need to make forecasts with the model on unknown data, for this we will use 30% of the data that we had left reserved for testing and, finally, evaluate the performance of the model. But first, let’s take a graphical look at the classification decision tree that the ML algorithm has automatically created for us."
   ]
  },
  {
   "cell_type": "code",
   "execution_count": 90,
   "id": "7f053e7f",
   "metadata": {
    "ExecuteTime": {
     "end_time": "2021-11-13T21:44:14.444743Z",
     "start_time": "2021-11-13T21:44:14.429894Z"
    }
   },
   "outputs": [
    {
     "name": "stdout",
     "output_type": "stream",
     "text": [
      "Model test accuracy score with criterion gini index: 0.5375\n",
      "Model train accuracy score with criterion gini index: 0.5394\n"
     ]
    }
   ],
   "source": [
    "y_cls_pred = model_dt_clf.predict(X_cls_test)\n",
    "y_cls_pred_train = model_dt_clf.predict(X_cls_train)\n",
    "\n",
    "# Check accuracy score with criterion gini index\n",
    "print('Model test accuracy score with criterion gini index: {:.4f}'.format(accuracy_score(y_cls_test, y_cls_pred)))\n",
    "print('Model train accuracy score with criterion gini index: {:.4f}'.format(accuracy_score(y_cls_train, y_cls_pred_train)))\n",
    "\n"
   ]
  },
  {
   "cell_type": "markdown",
   "id": "d1c92cd4",
   "metadata": {},
   "source": [
    "#### Visualize Decision Trees for Classification\n",
    "\n",
    "We have at our disposal a very powerful tool that will help us to analyze graphically the tree that the ML algorithm has created automatically. The graph showed the most significant nodes that maximize the output and will help us determine, if applicable, some useful trading rules.\n",
    "\n",
    "The graphviz library allows us to graph the tree that the DecisionTreeClassifier function has automatically created with the training data."
   ]
  },
  {
   "cell_type": "code",
   "execution_count": 84,
   "id": "20ad5515",
   "metadata": {
    "ExecuteTime": {
     "end_time": "2021-11-13T21:40:51.049837Z",
     "start_time": "2021-11-13T21:40:50.555810Z"
    }
   },
   "outputs": [
    {
     "data": {
      "image/svg+xml": [
       "<?xml version=\"1.0\" encoding=\"UTF-8\" standalone=\"no\"?>\n",
       "<!DOCTYPE svg PUBLIC \"-//W3C//DTD SVG 1.1//EN\"\n",
       " \"http://www.w3.org/Graphics/SVG/1.1/DTD/svg11.dtd\">\n",
       "<!-- Generated by graphviz version 2.49.3 (0)\n",
       " -->\n",
       "<!-- Title: Tree Pages: 1 -->\n",
       "<svg width=\"1106pt\" height=\"373pt\"\n",
       " viewBox=\"0.00 0.00 1105.50 373.00\" xmlns=\"http://www.w3.org/2000/svg\" xmlns:xlink=\"http://www.w3.org/1999/xlink\">\n",
       "<g id=\"graph0\" class=\"graph\" transform=\"scale(1 1) rotate(0) translate(4 369)\">\n",
       "<title>Tree</title>\n",
       "<polygon fill=\"white\" stroke=\"transparent\" points=\"-4,4 -4,-369 1101.5,-369 1101.5,4 -4,4\"/>\n",
       "<!-- 0 -->\n",
       "<g id=\"node1\" class=\"node\">\n",
       "<title>0</title>\n",
       "<polygon fill=\"#fbeee4\" stroke=\"black\" points=\"614,-365 426,-365 426,-297 614,-297 614,-365\"/>\n",
       "<text text-anchor=\"middle\" x=\"520\" y=\"-349.8\" font-family=\"Helvetica,sans-Serif\" font-size=\"14.00\">Close_Over_EMA10 &lt;= 0.0</text>\n",
       "<text text-anchor=\"middle\" x=\"520\" y=\"-334.8\" font-family=\"Helvetica,sans-Serif\" font-size=\"14.00\">gini = 0.497</text>\n",
       "<text text-anchor=\"middle\" x=\"520\" y=\"-319.8\" font-family=\"Helvetica,sans-Serif\" font-size=\"14.00\">samples = 8610</text>\n",
       "<text text-anchor=\"middle\" x=\"520\" y=\"-304.8\" font-family=\"Helvetica,sans-Serif\" font-size=\"14.00\">value = [4623, 3987]</text>\n",
       "</g>\n",
       "<!-- 1 -->\n",
       "<g id=\"node2\" class=\"node\">\n",
       "<title>1</title>\n",
       "<polygon fill=\"#fdf7f3\" stroke=\"black\" points=\"463,-261 319,-261 319,-193 463,-193 463,-261\"/>\n",
       "<text text-anchor=\"middle\" x=\"391\" y=\"-245.8\" font-family=\"Helvetica,sans-Serif\" font-size=\"14.00\">RSI &lt;= 18.313</text>\n",
       "<text text-anchor=\"middle\" x=\"391\" y=\"-230.8\" font-family=\"Helvetica,sans-Serif\" font-size=\"14.00\">gini = 0.499</text>\n",
       "<text text-anchor=\"middle\" x=\"391\" y=\"-215.8\" font-family=\"Helvetica,sans-Serif\" font-size=\"14.00\">samples = 4238</text>\n",
       "<text text-anchor=\"middle\" x=\"391\" y=\"-200.8\" font-family=\"Helvetica,sans-Serif\" font-size=\"14.00\">value = [2187, 2051]</text>\n",
       "</g>\n",
       "<!-- 0&#45;&gt;1 -->\n",
       "<g id=\"edge1\" class=\"edge\">\n",
       "<title>0&#45;&gt;1</title>\n",
       "<path fill=\"none\" stroke=\"black\" d=\"M478.12,-296.88C466.29,-287.53 453.3,-277.26 441.04,-267.57\"/>\n",
       "<polygon fill=\"black\" stroke=\"black\" points=\"443.13,-264.76 433.11,-261.3 438.79,-270.25 443.13,-264.76\"/>\n",
       "<text text-anchor=\"middle\" x=\"436.02\" y=\"-282.43\" font-family=\"Helvetica,sans-Serif\" font-size=\"14.00\">True</text>\n",
       "</g>\n",
       "<!-- 8 -->\n",
       "<g id=\"node9\" class=\"node\">\n",
       "<title>8</title>\n",
       "<polygon fill=\"#fae5d6\" stroke=\"black\" points=\"732,-261 588,-261 588,-193 732,-193 732,-261\"/>\n",
       "<text text-anchor=\"middle\" x=\"660\" y=\"-245.8\" font-family=\"Helvetica,sans-Serif\" font-size=\"14.00\">ADX &lt;= 0.001</text>\n",
       "<text text-anchor=\"middle\" x=\"660\" y=\"-230.8\" font-family=\"Helvetica,sans-Serif\" font-size=\"14.00\">gini = 0.493</text>\n",
       "<text text-anchor=\"middle\" x=\"660\" y=\"-215.8\" font-family=\"Helvetica,sans-Serif\" font-size=\"14.00\">samples = 4372</text>\n",
       "<text text-anchor=\"middle\" x=\"660\" y=\"-200.8\" font-family=\"Helvetica,sans-Serif\" font-size=\"14.00\">value = [2436, 1936]</text>\n",
       "</g>\n",
       "<!-- 0&#45;&gt;8 -->\n",
       "<g id=\"edge8\" class=\"edge\">\n",
       "<title>0&#45;&gt;8</title>\n",
       "<path fill=\"none\" stroke=\"black\" d=\"M565.45,-296.88C578.41,-287.44 592.66,-277.06 606.07,-267.29\"/>\n",
       "<polygon fill=\"black\" stroke=\"black\" points=\"608.27,-270.02 614.29,-261.3 604.15,-264.36 608.27,-270.02\"/>\n",
       "<text text-anchor=\"middle\" x=\"610.42\" y=\"-282.3\" font-family=\"Helvetica,sans-Serif\" font-size=\"14.00\">False</text>\n",
       "</g>\n",
       "<!-- 2 -->\n",
       "<g id=\"node3\" class=\"node\">\n",
       "<title>2</title>\n",
       "<polygon fill=\"#eda978\" stroke=\"black\" points=\"253,-157 95,-157 95,-89 253,-89 253,-157\"/>\n",
       "<text text-anchor=\"middle\" x=\"174\" y=\"-141.8\" font-family=\"Helvetica,sans-Serif\" font-size=\"14.00\">MACDsignal &lt;= &#45;0.001</text>\n",
       "<text text-anchor=\"middle\" x=\"174\" y=\"-126.8\" font-family=\"Helvetica,sans-Serif\" font-size=\"14.00\">gini = 0.366</text>\n",
       "<text text-anchor=\"middle\" x=\"174\" y=\"-111.8\" font-family=\"Helvetica,sans-Serif\" font-size=\"14.00\">samples = 29</text>\n",
       "<text text-anchor=\"middle\" x=\"174\" y=\"-96.8\" font-family=\"Helvetica,sans-Serif\" font-size=\"14.00\">value = [22, 7]</text>\n",
       "</g>\n",
       "<!-- 1&#45;&gt;2 -->\n",
       "<g id=\"edge2\" class=\"edge\">\n",
       "<title>1&#45;&gt;2</title>\n",
       "<path fill=\"none\" stroke=\"black\" d=\"M320.55,-192.88C299.21,-182.86 275.64,-171.77 253.74,-161.48\"/>\n",
       "<polygon fill=\"black\" stroke=\"black\" points=\"255.01,-158.21 244.47,-157.12 252.03,-164.55 255.01,-158.21\"/>\n",
       "</g>\n",
       "<!-- 5 -->\n",
       "<g id=\"node6\" class=\"node\">\n",
       "<title>5</title>\n",
       "<polygon fill=\"#fef8f4\" stroke=\"black\" points=\"463,-157 319,-157 319,-89 463,-89 463,-157\"/>\n",
       "<text text-anchor=\"middle\" x=\"391\" y=\"-141.8\" font-family=\"Helvetica,sans-Serif\" font-size=\"14.00\">RSI &lt;= 59.707</text>\n",
       "<text text-anchor=\"middle\" x=\"391\" y=\"-126.8\" font-family=\"Helvetica,sans-Serif\" font-size=\"14.00\">gini = 0.5</text>\n",
       "<text text-anchor=\"middle\" x=\"391\" y=\"-111.8\" font-family=\"Helvetica,sans-Serif\" font-size=\"14.00\">samples = 4209</text>\n",
       "<text text-anchor=\"middle\" x=\"391\" y=\"-96.8\" font-family=\"Helvetica,sans-Serif\" font-size=\"14.00\">value = [2165, 2044]</text>\n",
       "</g>\n",
       "<!-- 1&#45;&gt;5 -->\n",
       "<g id=\"edge5\" class=\"edge\">\n",
       "<title>1&#45;&gt;5</title>\n",
       "<path fill=\"none\" stroke=\"black\" d=\"M391,-192.88C391,-184.78 391,-175.98 391,-167.47\"/>\n",
       "<polygon fill=\"black\" stroke=\"black\" points=\"394.5,-167.3 391,-157.3 387.5,-167.3 394.5,-167.3\"/>\n",
       "</g>\n",
       "<!-- 3 -->\n",
       "<g id=\"node4\" class=\"node\">\n",
       "<title>3</title>\n",
       "<polygon fill=\"#f6d1b7\" stroke=\"black\" points=\"104,-53 0,-53 0,0 104,0 104,-53\"/>\n",
       "<text text-anchor=\"middle\" x=\"52\" y=\"-37.8\" font-family=\"Helvetica,sans-Serif\" font-size=\"14.00\">gini = 0.475</text>\n",
       "<text text-anchor=\"middle\" x=\"52\" y=\"-22.8\" font-family=\"Helvetica,sans-Serif\" font-size=\"14.00\">samples = 18</text>\n",
       "<text text-anchor=\"middle\" x=\"52\" y=\"-7.8\" font-family=\"Helvetica,sans-Serif\" font-size=\"14.00\">value = [11, 7]</text>\n",
       "</g>\n",
       "<!-- 2&#45;&gt;3 -->\n",
       "<g id=\"edge3\" class=\"edge\">\n",
       "<title>2&#45;&gt;3</title>\n",
       "<path fill=\"none\" stroke=\"black\" d=\"M131.33,-88.95C119.05,-79.43 105.67,-69.07 93.46,-59.62\"/>\n",
       "<polygon fill=\"black\" stroke=\"black\" points=\"95.28,-56.59 85.23,-53.24 90.99,-62.13 95.28,-56.59\"/>\n",
       "</g>\n",
       "<!-- 4 -->\n",
       "<g id=\"node5\" class=\"node\">\n",
       "<title>4</title>\n",
       "<polygon fill=\"#e58139\" stroke=\"black\" points=\"226,-53 122,-53 122,0 226,0 226,-53\"/>\n",
       "<text text-anchor=\"middle\" x=\"174\" y=\"-37.8\" font-family=\"Helvetica,sans-Serif\" font-size=\"14.00\">gini = 0.0</text>\n",
       "<text text-anchor=\"middle\" x=\"174\" y=\"-22.8\" font-family=\"Helvetica,sans-Serif\" font-size=\"14.00\">samples = 11</text>\n",
       "<text text-anchor=\"middle\" x=\"174\" y=\"-7.8\" font-family=\"Helvetica,sans-Serif\" font-size=\"14.00\">value = [11, 0]</text>\n",
       "</g>\n",
       "<!-- 2&#45;&gt;4 -->\n",
       "<g id=\"edge4\" class=\"edge\">\n",
       "<title>2&#45;&gt;4</title>\n",
       "<path fill=\"none\" stroke=\"black\" d=\"M174,-88.95C174,-80.72 174,-71.85 174,-63.48\"/>\n",
       "<polygon fill=\"black\" stroke=\"black\" points=\"177.5,-63.24 174,-53.24 170.5,-63.24 177.5,-63.24\"/>\n",
       "</g>\n",
       "<!-- 6 -->\n",
       "<g id=\"node7\" class=\"node\">\n",
       "<title>6</title>\n",
       "<polygon fill=\"#fdf7f3\" stroke=\"black\" points=\"388,-53 244,-53 244,0 388,0 388,-53\"/>\n",
       "<text text-anchor=\"middle\" x=\"316\" y=\"-37.8\" font-family=\"Helvetica,sans-Serif\" font-size=\"14.00\">gini = 0.499</text>\n",
       "<text text-anchor=\"middle\" x=\"316\" y=\"-22.8\" font-family=\"Helvetica,sans-Serif\" font-size=\"14.00\">samples = 4171</text>\n",
       "<text text-anchor=\"middle\" x=\"316\" y=\"-7.8\" font-family=\"Helvetica,sans-Serif\" font-size=\"14.00\">value = [2153, 2018]</text>\n",
       "</g>\n",
       "<!-- 5&#45;&gt;6 -->\n",
       "<g id=\"edge6\" class=\"edge\">\n",
       "<title>5&#45;&gt;6</title>\n",
       "<path fill=\"none\" stroke=\"black\" d=\"M364.77,-88.95C357.65,-79.98 349.94,-70.27 342.8,-61.26\"/>\n",
       "<polygon fill=\"black\" stroke=\"black\" points=\"345.38,-58.89 336.43,-53.24 339.9,-63.25 345.38,-58.89\"/>\n",
       "</g>\n",
       "<!-- 7 -->\n",
       "<g id=\"node8\" class=\"node\">\n",
       "<title>7</title>\n",
       "<polygon fill=\"#94caf1\" stroke=\"black\" points=\"519.5,-53 406.5,-53 406.5,0 519.5,0 519.5,-53\"/>\n",
       "<text text-anchor=\"middle\" x=\"463\" y=\"-37.8\" font-family=\"Helvetica,sans-Serif\" font-size=\"14.00\">gini = 0.432</text>\n",
       "<text text-anchor=\"middle\" x=\"463\" y=\"-22.8\" font-family=\"Helvetica,sans-Serif\" font-size=\"14.00\">samples = 38</text>\n",
       "<text text-anchor=\"middle\" x=\"463\" y=\"-7.8\" font-family=\"Helvetica,sans-Serif\" font-size=\"14.00\">value = [12, 26]</text>\n",
       "</g>\n",
       "<!-- 5&#45;&gt;7 -->\n",
       "<g id=\"edge7\" class=\"edge\">\n",
       "<title>5&#45;&gt;7</title>\n",
       "<path fill=\"none\" stroke=\"black\" d=\"M416.18,-88.95C423.01,-79.98 430.42,-70.27 437.28,-61.26\"/>\n",
       "<polygon fill=\"black\" stroke=\"black\" points=\"440.11,-63.31 443.39,-53.24 434.55,-59.07 440.11,-63.31\"/>\n",
       "</g>\n",
       "<!-- 9 -->\n",
       "<g id=\"node10\" class=\"node\">\n",
       "<title>9</title>\n",
       "<polygon fill=\"#f5d1b6\" stroke=\"black\" points=\"724,-157 596,-157 596,-89 724,-89 724,-157\"/>\n",
       "<text text-anchor=\"middle\" x=\"660\" y=\"-141.8\" font-family=\"Helvetica,sans-Serif\" font-size=\"14.00\">RSI &lt;= 77.047</text>\n",
       "<text text-anchor=\"middle\" x=\"660\" y=\"-126.8\" font-family=\"Helvetica,sans-Serif\" font-size=\"14.00\">gini = 0.475</text>\n",
       "<text text-anchor=\"middle\" x=\"660\" y=\"-111.8\" font-family=\"Helvetica,sans-Serif\" font-size=\"14.00\">samples = 900</text>\n",
       "<text text-anchor=\"middle\" x=\"660\" y=\"-96.8\" font-family=\"Helvetica,sans-Serif\" font-size=\"14.00\">value = [551, 349]</text>\n",
       "</g>\n",
       "<!-- 8&#45;&gt;9 -->\n",
       "<g id=\"edge9\" class=\"edge\">\n",
       "<title>8&#45;&gt;9</title>\n",
       "<path fill=\"none\" stroke=\"black\" d=\"M660,-192.88C660,-184.78 660,-175.98 660,-167.47\"/>\n",
       "<polygon fill=\"black\" stroke=\"black\" points=\"663.5,-167.3 660,-157.3 656.5,-167.3 663.5,-167.3\"/>\n",
       "</g>\n",
       "<!-- 12 -->\n",
       "<g id=\"node13\" class=\"node\">\n",
       "<title>12</title>\n",
       "<polygon fill=\"#fbebe0\" stroke=\"black\" points=\"944,-157 800,-157 800,-89 944,-89 944,-157\"/>\n",
       "<text text-anchor=\"middle\" x=\"872\" y=\"-141.8\" font-family=\"Helvetica,sans-Serif\" font-size=\"14.00\">RSI &lt;= 55.887</text>\n",
       "<text text-anchor=\"middle\" x=\"872\" y=\"-126.8\" font-family=\"Helvetica,sans-Serif\" font-size=\"14.00\">gini = 0.496</text>\n",
       "<text text-anchor=\"middle\" x=\"872\" y=\"-111.8\" font-family=\"Helvetica,sans-Serif\" font-size=\"14.00\">samples = 3472</text>\n",
       "<text text-anchor=\"middle\" x=\"872\" y=\"-96.8\" font-family=\"Helvetica,sans-Serif\" font-size=\"14.00\">value = [1885, 1587]</text>\n",
       "</g>\n",
       "<!-- 8&#45;&gt;12 -->\n",
       "<g id=\"edge12\" class=\"edge\">\n",
       "<title>8&#45;&gt;12</title>\n",
       "<path fill=\"none\" stroke=\"black\" d=\"M728.83,-192.88C749.67,-182.86 772.71,-171.77 794.1,-161.48\"/>\n",
       "<polygon fill=\"black\" stroke=\"black\" points=\"795.66,-164.61 803.15,-157.12 792.62,-158.31 795.66,-164.61\"/>\n",
       "</g>\n",
       "<!-- 10 -->\n",
       "<g id=\"node11\" class=\"node\">\n",
       "<title>10</title>\n",
       "<polygon fill=\"#f5cfb3\" stroke=\"black\" points=\"666,-53 538,-53 538,0 666,0 666,-53\"/>\n",
       "<text text-anchor=\"middle\" x=\"602\" y=\"-37.8\" font-family=\"Helvetica,sans-Serif\" font-size=\"14.00\">gini = 0.472</text>\n",
       "<text text-anchor=\"middle\" x=\"602\" y=\"-22.8\" font-family=\"Helvetica,sans-Serif\" font-size=\"14.00\">samples = 881</text>\n",
       "<text text-anchor=\"middle\" x=\"602\" y=\"-7.8\" font-family=\"Helvetica,sans-Serif\" font-size=\"14.00\">value = [545, 336]</text>\n",
       "</g>\n",
       "<!-- 9&#45;&gt;10 -->\n",
       "<g id=\"edge10\" class=\"edge\">\n",
       "<title>9&#45;&gt;10</title>\n",
       "<path fill=\"none\" stroke=\"black\" d=\"M639.71,-88.95C634.32,-80.17 628.49,-70.66 623.06,-61.82\"/>\n",
       "<polygon fill=\"black\" stroke=\"black\" points=\"626.01,-59.93 617.8,-53.24 620.04,-63.59 626.01,-59.93\"/>\n",
       "</g>\n",
       "<!-- 11 -->\n",
       "<g id=\"node12\" class=\"node\">\n",
       "<title>11</title>\n",
       "<polygon fill=\"#94caf1\" stroke=\"black\" points=\"789.5,-53 684.5,-53 684.5,0 789.5,0 789.5,-53\"/>\n",
       "<text text-anchor=\"middle\" x=\"737\" y=\"-37.8\" font-family=\"Helvetica,sans-Serif\" font-size=\"14.00\">gini = 0.432</text>\n",
       "<text text-anchor=\"middle\" x=\"737\" y=\"-22.8\" font-family=\"Helvetica,sans-Serif\" font-size=\"14.00\">samples = 19</text>\n",
       "<text text-anchor=\"middle\" x=\"737\" y=\"-7.8\" font-family=\"Helvetica,sans-Serif\" font-size=\"14.00\">value = [6, 13]</text>\n",
       "</g>\n",
       "<!-- 9&#45;&gt;11 -->\n",
       "<g id=\"edge11\" class=\"edge\">\n",
       "<title>9&#45;&gt;11</title>\n",
       "<path fill=\"none\" stroke=\"black\" d=\"M686.93,-88.95C694.24,-79.98 702.15,-70.27 709.49,-61.26\"/>\n",
       "<polygon fill=\"black\" stroke=\"black\" points=\"712.43,-63.2 716.03,-53.24 707,-58.78 712.43,-63.2\"/>\n",
       "</g>\n",
       "<!-- 13 -->\n",
       "<g id=\"node14\" class=\"node\">\n",
       "<title>13</title>\n",
       "<polygon fill=\"#f9e2d1\" stroke=\"black\" points=\"936,-53 808,-53 808,0 936,0 936,-53\"/>\n",
       "<text text-anchor=\"middle\" x=\"872\" y=\"-37.8\" font-family=\"Helvetica,sans-Serif\" font-size=\"14.00\">gini = 0.491</text>\n",
       "<text text-anchor=\"middle\" x=\"872\" y=\"-22.8\" font-family=\"Helvetica,sans-Serif\" font-size=\"14.00\">samples = 1291</text>\n",
       "<text text-anchor=\"middle\" x=\"872\" y=\"-7.8\" font-family=\"Helvetica,sans-Serif\" font-size=\"14.00\">value = [731, 560]</text>\n",
       "</g>\n",
       "<!-- 12&#45;&gt;13 -->\n",
       "<g id=\"edge13\" class=\"edge\">\n",
       "<title>12&#45;&gt;13</title>\n",
       "<path fill=\"none\" stroke=\"black\" d=\"M872,-88.95C872,-80.72 872,-71.85 872,-63.48\"/>\n",
       "<polygon fill=\"black\" stroke=\"black\" points=\"875.5,-63.24 872,-53.24 868.5,-63.24 875.5,-63.24\"/>\n",
       "</g>\n",
       "<!-- 14 -->\n",
       "<g id=\"node15\" class=\"node\">\n",
       "<title>14</title>\n",
       "<polygon fill=\"#fcf1e9\" stroke=\"black\" points=\"1097.5,-53 954.5,-53 954.5,0 1097.5,0 1097.5,-53\"/>\n",
       "<text text-anchor=\"middle\" x=\"1026\" y=\"-37.8\" font-family=\"Helvetica,sans-Serif\" font-size=\"14.00\">gini = 0.498</text>\n",
       "<text text-anchor=\"middle\" x=\"1026\" y=\"-22.8\" font-family=\"Helvetica,sans-Serif\" font-size=\"14.00\">samples = 2181</text>\n",
       "<text text-anchor=\"middle\" x=\"1026\" y=\"-7.8\" font-family=\"Helvetica,sans-Serif\" font-size=\"14.00\">value = [1154, 1027]</text>\n",
       "</g>\n",
       "<!-- 12&#45;&gt;14 -->\n",
       "<g id=\"edge14\" class=\"edge\">\n",
       "<title>12&#45;&gt;14</title>\n",
       "<path fill=\"none\" stroke=\"black\" d=\"M925.86,-88.95C941.96,-79.07 959.55,-68.28 975.43,-58.53\"/>\n",
       "<polygon fill=\"black\" stroke=\"black\" points=\"977.37,-61.45 984.06,-53.24 973.7,-55.48 977.37,-61.45\"/>\n",
       "</g>\n",
       "</g>\n",
       "</svg>\n"
      ],
      "text/plain": [
       "<graphviz.sources.Source at 0x7f9c849b82b0>"
      ]
     },
     "execution_count": 84,
     "metadata": {},
     "output_type": "execute_result"
    }
   ],
   "source": [
    "dot_data = tree.export_graphviz(model_dt_clf, out_file=None,filled=True,feature_names=predictors_list_clf)\n",
    "graphviz.Source(dot_data)"
   ]
  },
  {
   "cell_type": "markdown",
   "id": "a4ba6b88",
   "metadata": {},
   "source": [
    "Note that the image only shows the most significant nodes. In this graph we can see all the relevant information in each node:\n",
    "\n",
    "- the predictor variable used to split the data set.\n",
    "- the value of Gini impurity.\n",
    "- the number of data points available at that node.\n",
    "- the number of target variable data points belonging to each class, 1 and 0."
   ]
  },
  {
   "cell_type": "markdown",
   "id": "c493bb24",
   "metadata": {},
   "source": [
    "### Performance analysis"
   ]
  },
  {
   "cell_type": "markdown",
   "id": "33aecc1d",
   "metadata": {},
   "source": [
    "#### Confusion matrix\n",
    "\n",
    "A confusion matrix is a tool for summarizing the performance of a classification algorithm. A confusion matrix will give us a clear picture of classification model performance and the types of errors produced by the model. It gives us a summary of correct and incorrect predictions broken down by each category. The summary is represented in a tabular form.\n",
    "\n",
    "Four types of outcomes are possible while evaluating a classification model performance. These four outcomes are described below.\n",
    "\n",
    "- __True Positives (TP).__ True Positives occur when we predict an observation belongs to a certain class and the observation actually belongs to that class.\n",
    "\n",
    "- __True Negatives (TN).__ True Negatives occur when we predict an observation does not belong to a certain class and the observation actually does not belong to that class.\n",
    "\n",
    "- __False Positives (FP).__ False Positives occur when we predict an observation belongs to a certain class but the observation actually does not belong to that class. This type of error is called Type I error.\n",
    "\n",
    "- __False Negatives (FN).__ False Negatives occur when we predict an observation does not belong to a certain class but the observation actually belongs to that class. This is a very serious error and it is called Type II error.\n",
    "\n",
    "These four outcomes are summarized in a confusion matrix given below."
   ]
  },
  {
   "cell_type": "code",
   "execution_count": 95,
   "id": "cf477a09",
   "metadata": {
    "ExecuteTime": {
     "end_time": "2021-11-13T21:51:00.811166Z",
     "start_time": "2021-11-13T21:51:00.800768Z"
    }
   },
   "outputs": [
    {
     "name": "stdout",
     "output_type": "stream",
     "text": [
      "Matriz de confusión:\n",
      " [[1972   10]\n",
      " [1697   12]]\n",
      "\n",
      "True positives - True Long Signal (VP) = 12\n",
      "True negatives - True Short Signal (VN) = 1972\n",
      "False positives - False Long Signal (FP) = 10\n",
      "False negatives - False Short Signal (FN) = 1697\n"
     ]
    }
   ],
   "source": [
    "cm = confusion_matrix(y_cls_test, y_cls_pred, labels=[0,1])\n",
    "print(\"Matriz de confusión:\\n\",cm,end=2*'\\n')\n",
    "\n",
    "# Seleccionar elementos de la matriz de confusión\n",
    "vp = cm[1][1]\n",
    "vn = cm[0][0]\n",
    "fp = cm[0][1]\n",
    "fn = cm[1][0]\n",
    "\n",
    "print(f'True positives - True Long Signal (VP) = {vp}')\n",
    "print(f'True negatives - True Short Signal (VN) = {vn}')\n",
    "print(f'False positives - False Long Signal (FP) = {fp}')\n",
    "print(f'False negatives - False Short Signal (FN) = {fn}')"
   ]
  },
  {
   "cell_type": "markdown",
   "id": "d59ca4bc",
   "metadata": {},
   "source": [
    "Finally, we can only evaluate the performance of the algorithm on unknown data by comparing it with the result obtained in the training process. To do this we will use the classification_report function of the sklearn.metrics library.\n",
    "\n",
    "The report shows some parameters that will help us to evaluate the goodness of the algorithm:\n",
    "\n",
    "- __Accuracy.__ Accuracy measures the percentage of cases that the model has been correct. This is one of the most used and favorite metrics which I recommend you avoid! The problem with accuracy is that it can be misleading, i.e. it can make a bad model look like it is much better than it is.\n",
    "\n",
    "- __Precision.__ It allow us to measure the quality of the machine learning model in classification tasks. It tells us how many of the correctly predicted cases actually turned out to be positive.In this case, the accuracy is the answer to the question: what percentage of long predictions are correct?\n",
    "\n",
    "- __Recall.__ Recall metric will tell us how many the machine learning model is able to identify. In our case, recall is the answer to the question: what percentage of long signal are we able to identify?  That is, it tells us how many of the real positive cases we were able to correctly predict with our model.\n",
    "\n",
    "- __F1-score.__ The F1 value assumes that we care equally about accuracy and completeness. This does not have to be true for all problems. Shows the harmonic mean of precision and recall. It is used to combine the precision and recall measures into a single value. This is practical because it makes it easier to compare the combined performance of accuracy and completeness between various solutions.\n",
    "\n",
    "- __Support.__ Used as weights to compute the average values of precision, recall and F-1.\n",
    "\n",
    "\n",
    "Anything above 0.5 is usually considered a good number."
   ]
  },
  {
   "cell_type": "code",
   "execution_count": 98,
   "id": "71caadaa",
   "metadata": {
    "ExecuteTime": {
     "end_time": "2021-11-13T21:57:36.247533Z",
     "start_time": "2021-11-13T21:57:36.225380Z"
    }
   },
   "outputs": [
    {
     "name": "stdout",
     "output_type": "stream",
     "text": [
      "              precision    recall  f1-score   support\n",
      "\n",
      "           0       0.54      0.99      0.70      1982\n",
      "           1       0.55      0.01      0.01      1709\n",
      "\n",
      "    accuracy                           0.54      3691\n",
      "   macro avg       0.54      0.50      0.36      3691\n",
      "weighted avg       0.54      0.54      0.38      3691\n",
      "\n"
     ]
    }
   ],
   "source": [
    "report = classification_report(y_cls_test, y_cls_pred)\n",
    "print(report)"
   ]
  },
  {
   "cell_type": "markdown",
   "id": "714388a9",
   "metadata": {},
   "source": [
    "Analyzing the metrics of the confusion matrix, the model predicts very accurately the negative class, i.e. a decrease in the rate of change (Short) but does not have the ability to correctly predict the positive class (Long). Therefore, although we have an accuracy of 53.75% in the test set and 53.94% in the training set (we do not seem to have overfitting) the model is not good and we can say that it has underfitting problems."
   ]
  },
  {
   "cell_type": "markdown",
   "id": "e5dc1a05",
   "metadata": {},
   "source": [
    "#### ROC curve"
   ]
  },
  {
   "cell_type": "code",
   "execution_count": 108,
   "id": "8e6cc739",
   "metadata": {
    "ExecuteTime": {
     "end_time": "2021-11-13T22:06:16.481655Z",
     "start_time": "2021-11-13T22:06:16.375959Z"
    }
   },
   "outputs": [
    {
     "data": {
      "image/png": "[encoded data removed]",
      "text/plain": [
       "<Figure size 432x288 with 1 Axes>"
      ]
     },
     "metadata": {
      "needs_background": "light"
     },
     "output_type": "display_data"
    }
   ],
   "source": [
    "# Compute false positive rate (fpr) and true positive rate (tpr)\n",
    "fpr, tpr, _ = roc_curve(y_cls_test.values, y_cls_pred)\n",
    "\n",
    "\n",
    "# Visualization\n",
    "plt.figure()\n",
    "plt.plot(fpr, tpr, color='darkorange', lw=2, label='ROC curve')\n",
    "plt.plot([0, 1], [0, 1], color='navy', lw=2, linestyle='--') \n",
    "plt.ylim([0.0, 1.05])\n",
    "plt.xlabel(\"False Positive Rate\")\n",
    "plt.ylabel(\"True Positive Rate\")\n",
    "plt.title(\"Model ROC Curve\")\n",
    "plt.legend(loc=\"lower right\")\n",
    "plt.show()"
   ]
  },
  {
   "cell_type": "code",
   "execution_count": 117,
   "id": "881c63ad",
   "metadata": {
    "ExecuteTime": {
     "end_time": "2021-11-13T22:07:23.629491Z",
     "start_time": "2021-11-13T22:07:23.624228Z"
    }
   },
   "outputs": [
    {
     "name": "stdout",
     "output_type": "stream",
     "text": [
      "Test = [0 1 0 1 0 1 1 0 1 1 1 0 0 0 0 1 0 1 0 0]\n",
      "Pred = [0 0 0 0 0 0 0 0 0 0 0 0 0 0 0 0 0 0 0 0]\n"
     ]
    }
   ],
   "source": [
    "# Mostramos los 20 primeros elementos\n",
    "print('Test =', y_cls_test.values[:20])\n",
    "print('Pred =', y_cls_pred[:20])"
   ]
  },
  {
   "cell_type": "markdown",
   "id": "294edebe",
   "metadata": {},
   "source": [
    "We confirm that the model has not been able to capture the patterns in the data and is therefore not good."
   ]
  }
 ],
 "metadata": {
  "interpreter": {
   "hash": "f3152add6ed381a6ff3b812c0ae02f755ee7e7ca400bbc56f6207376ccfaf514"
  },
  "kernelspec": {
   "display_name": "Python [conda env:DS]",
   "language": "python",
   "name": "conda-env-DS-py"
  },
  "language_info": {
   "codemirror_mode": {
    "name": "ipython",
    "version": 3
   },
   "file_extension": ".py",
   "mimetype": "text/x-python",
   "name": "python",
   "nbconvert_exporter": "python",
   "pygments_lexer": "ipython3",
   "version": "3.8.12"
  },
  "nbTranslate": {
   "displayLangs": [
    "*"
   ],
   "hotkey": "alt-t",
   "langInMainMenu": true,
   "sourceLang": "en",
   "targetLang": "fr",
   "useGoogleTranslate": true
  },
  "toc": {
   "base_numbering": 1,
   "nav_menu": {},
   "number_sections": true,
   "sideBar": true,
   "skip_h1_title": true,
   "title_cell": "Table of Contents",
   "title_sidebar": "Contents",
   "toc_cell": true,
   "toc_position": {
    "height": "calc(100% - 180px)",
    "left": "10px",
    "top": "150px",
    "width": "360px"
   },
   "toc_section_display": true,
   "toc_window_display": true
  },
  "varInspector": {
   "cols": {
    "lenName": 16,
    "lenType": 16,
    "lenVar": 40
   },
   "kernels_config": {
    "python": {
     "delete_cmd_postfix": "",
     "delete_cmd_prefix": "del ",
     "library": "var_list.py",
     "varRefreshCmd": "print(var_dic_list())"
    },
    "r": {
     "delete_cmd_postfix": ") ",
     "delete_cmd_prefix": "rm(",
     "library": "var_list.r",
     "varRefreshCmd": "cat(var_dic_list()) "
    }
   },
   "types_to_exclude": [
    "module",
    "function",
    "builtin_function_or_method",
    "instance",
    "_Feature"
   ],
   "window_display": false
  }
 },
 "nbformat": 4,
 "nbformat_minor": 5
}
