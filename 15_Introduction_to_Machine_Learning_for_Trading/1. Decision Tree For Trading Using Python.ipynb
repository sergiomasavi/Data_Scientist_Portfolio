{
 "cells": [
  {
   "cell_type": "markdown",
   "id": "7fa1b530",
   "metadata": {
    "toc": true
   },
   "source": [
    "<h1>Table of Contents<span class=\"tocSkip\"></span></h1>\n",
    "<div class=\"toc\"><ul class=\"toc-item\"><li><span><a href=\"#Environment\" data-toc-modified-id=\"Environment-1\"><span class=\"toc-item-num\">1&nbsp;&nbsp;</span>Environment</a></span></li><li><span><a href=\"#Building-a-Decision-Tree\" data-toc-modified-id=\"Building-a-Decision-Tree-2\"><span class=\"toc-item-num\">2&nbsp;&nbsp;</span>Building a Decision Tree</a></span><ul class=\"toc-item\"><li><span><a href=\"#Quandl---Getting-the-data\" data-toc-modified-id=\"Quandl---Getting-the-data-2.1\"><span class=\"toc-item-num\">2.1&nbsp;&nbsp;</span>Quandl - Getting the <a href=\"https://blog.data.nasdaq.com/api-for-currency-data\" target=\"_blank\">data</a></a></span></li><li><span><a href=\"#YahooFinance---Getting-the-data\" data-toc-modified-id=\"YahooFinance---Getting-the-data-2.2\"><span class=\"toc-item-num\">2.2&nbsp;&nbsp;</span>YahooFinance - <a href=\"https://aroussi.com/post/python-yahoo-finance\" target=\"_blank\">Getting the data</a></a></span></li><li><span><a href=\"#Creating-the-predictors\" data-toc-modified-id=\"Creating-the-predictors-2.3\"><span class=\"toc-item-num\">2.3&nbsp;&nbsp;</span>Creating the predictors</a></span></li><li><span><a href=\"#Creating-the-target-variables\" data-toc-modified-id=\"Creating-the-target-variables-2.4\"><span class=\"toc-item-num\">2.4&nbsp;&nbsp;</span>Creating the target variables</a></span></li><li><span><a href=\"#Obtaining-the-data-set-for-decision-trees\" data-toc-modified-id=\"Obtaining-the-data-set-for-decision-trees-2.5\"><span class=\"toc-item-num\">2.5&nbsp;&nbsp;</span>Obtaining the data set for decision trees</a></span><ul class=\"toc-item\"><li><span><a href=\"#Classification\" data-toc-modified-id=\"Classification-2.5.1\"><span class=\"toc-item-num\">2.5.1&nbsp;&nbsp;</span>Classification</a></span></li><li><span><a href=\"#Regression\" data-toc-modified-id=\"Regression-2.5.2\"><span class=\"toc-item-num\">2.5.2&nbsp;&nbsp;</span>Regression</a></span></li></ul></li><li><span><a href=\"#Splitting-the-data-into-training-and-testing-data-sets\" data-toc-modified-id=\"Splitting-the-data-into-training-and-testing-data-sets-2.6\"><span class=\"toc-item-num\">2.6&nbsp;&nbsp;</span>Splitting the data into training and testing data sets</a></span><ul class=\"toc-item\"><li><span><a href=\"#Classification\" data-toc-modified-id=\"Classification-2.6.1\"><span class=\"toc-item-num\">2.6.1&nbsp;&nbsp;</span>Classification</a></span></li><li><span><a href=\"#Regression\" data-toc-modified-id=\"Regression-2.6.2\"><span class=\"toc-item-num\">2.6.2&nbsp;&nbsp;</span>Regression</a></span></li></ul></li><li><span><a href=\"#Decision-Trees-for-Classification\" data-toc-modified-id=\"Decision-Trees-for-Classification-2.7\"><span class=\"toc-item-num\">2.7&nbsp;&nbsp;</span>Decision Trees for Classification</a></span><ul class=\"toc-item\"><li><span><a href=\"#Visualize-Decision-Trees-for-Classification\" data-toc-modified-id=\"Visualize-Decision-Trees-for-Classification-2.7.1\"><span class=\"toc-item-num\">2.7.1&nbsp;&nbsp;</span>Visualize Decision Trees for Classification</a></span></li></ul></li><li><span><a href=\"#Performance-analysis\" data-toc-modified-id=\"Performance-analysis-2.8\"><span class=\"toc-item-num\">2.8&nbsp;&nbsp;</span>Performance analysis</a></span><ul class=\"toc-item\"><li><span><a href=\"#Confusion-matrix\" data-toc-modified-id=\"Confusion-matrix-2.8.1\"><span class=\"toc-item-num\">2.8.1&nbsp;&nbsp;</span>Confusion matrix</a></span></li><li><span><a href=\"#ROC-curve\" data-toc-modified-id=\"ROC-curve-2.8.2\"><span class=\"toc-item-num\">2.8.2&nbsp;&nbsp;</span>ROC curve</a></span></li></ul></li></ul></li></ul></div>"
   ]
  },
  {
   "cell_type": "markdown",
   "id": "9548c269",
   "metadata": {},
   "source": [
    "<img src=\"images/Tarjeta.png\">"
   ]
  },
  {
   "cell_type": "markdown",
   "id": "06e5c9c1",
   "metadata": {},
   "source": [
    "# Decision Tree For Trading Using Python\n",
    "\n",
    "By [Mario Pisa Peña](https://twitter.com/mariodevelop) on [Blog QuantInsti](https://blog.quantinsti.com/decision-tree/)"
   ]
  },
  {
   "cell_type": "markdown",
   "id": "4bb85de0",
   "metadata": {},
   "source": [
    "Decision Trees, are a Machine Supervised Learning method used in Classification and Regression problems, also known as CART.\n",
    "\n",
    "Remember that a Classification problem tries to classify unknown elements into a class or category; the output always are categorical variables (i.e. yes/no, up/down, red/blue/yellow, etc.)\n",
    "\n",
    "A Regression problem tries to forecast a number such as the return for the next day. It must not be confused with linear regression which is used to study the relationship between variables. Although the classification and regression problems have different objectives, the trees have the same structure:\n",
    "\n",
    "- The Root node, is at the top and has no incoming pathways.\n",
    "\n",
    "- Internal nodes or test nodes are at the middle and can be at different levels or sub-spaces, and have incoming and outgoing pathways.\n",
    "\n",
    "- Leaf nodes or decision nodes are at the bottom, have incoming pathways but no outgoing pathways and here we can find the expected outputs."
   ]
  },
  {
   "cell_type": "markdown",
   "id": "970532a1",
   "metadata": {},
   "source": [
    "<img src=\"images/DecisionTreeTheory.png\">"
   ]
  },
  {
   "cell_type": "markdown",
   "id": "eb9aa938",
   "metadata": {},
   "source": [
    "Thanks to Python’s Sklearn library, the tree is automatically created for us taking as a starting point the predictor variables that we hypothetically think are responsible for the output we are looking for.\n",
    "\n",
    "In this introduction post to decision trees, we will create a classification decision tree in Python to make forecasts about whether the financial instrument we are going to analyze will go up or down the next day.\n",
    "\n",
    "We will also [make a decision tree](https://quantra.quantinsti.com/course/decision-trees-analysis-trading-ernest-chan?_gl=1%2am4y7uo%2a_ga%2aMTAxMjU5ODgxMC4xNjM2ODEwMzQy%2a_ga_SXP1W7WL9G%2aMTYzNjgxMDM0MS4xLjEuMTYzNjgxMTM2My4w) to forecasts about the concrete return of the index the next day."
   ]
  },
  {
   "cell_type": "markdown",
   "id": "ec5ff5c1",
   "metadata": {},
   "source": [
    "## Environment\n",
    "\n",
    "\n",
    "- Python 3.8.12\n",
    "- Pandas library for data structure (version=1.3.4)\n",
    "- Numpy library with scientific mathematical functions (version=1.21.4).\n",
    "- Quandl library to retrieve market data ([Python Tutorial Installation](https://docs.data.nasdaq.com/docs/python-installation)\n",
    "- Ta-lib library to calculate technical indicators\n",
    "- Sklearn Machine Learning library to build the trees and perform analysis among many others things (1.0.1)\n",
    "- Graphviz library to plot the tree"
   ]
  },
  {
   "cell_type": "code",
   "execution_count": 1,
   "id": "a1445772",
   "metadata": {
    "ExecuteTime": {
     "end_time": "2021-11-13T23:48:54.756512Z",
     "start_time": "2021-11-13T23:48:53.695721Z"
    }
   },
   "outputs": [],
   "source": [
    "import pandas as pd\n",
    "import numpy as np\n",
    "import quandl\n",
    "import talib\n",
    "import sklearn\n",
    "import graphviz\n",
    "import os\n",
    "import configparser\n",
    "import requests\n",
    "from pprint import PrettyPrinter\n",
    "import tradermade\n",
    "import yfinance as yf\n",
    "import mplfinance as mpf\n",
    "from datetime import datetime, timedelta\n",
    "import sys\n",
    "import warnings\n",
    "from sklearn.model_selection import train_test_split\n",
    "from sklearn import tree\n",
    "from sklearn.metrics import classification_report, accuracy_score, confusion_matrix, roc_auc_score, roc_curve\n",
    "import matplotlib.pyplot as plt\n",
    "\n",
    "\n",
    "if not sys.warnoptions:\n",
    "    warnings.simplefilter(\"ignore\")"
   ]
  },
  {
   "cell_type": "markdown",
   "id": "8c9f25cc",
   "metadata": {},
   "source": [
    "## Building a Decision Tree\n",
    "\n",
    "Building a classification [decision tree](https://www.saedsayad.com/decision_tree.htm) or a [regression decision tree](https://www.saedsayad.com/decision_tree_reg.htm) is very similar in the way we organize the input data and predictor variables, then, by calling the corresponding functions, the classification decision tree or regression decision tree will be automatically created for us according to some criteria we must specify ([skelarn](https://scikit-learn.org/stable/modules/tree.html)).\n",
    "\n",
    "The main steps to build a decision tree are:\n",
    "\n",
    "1. Retrieve market __data__ for a financial instrument.\n",
    "2. Introduce the Predictor variables (i.e. [Technical indicators](https://www.investopedia.com/terms/t/technicalindicator.asp#:~:text=Technical%20indicators%20are%20heuristic%20or,to%20predict%20future%20price%20movements.), [Sentiment indicators](https://www.investopedia.com/terms/s/sentimentindicator.asp), [Breadth indicators](https://www.investopedia.com/terms/b/breadthindicator.asp), etc.)\n",
    "3. Setup the __Target__ variable or the desired output.\n",
    "4. __Split__ data between training and test data.\n",
    "5. Generate the decision tree __training__ the model.\n",
    "6. __Testing__ and __analyzing__ the model.\n",
    "\n",
    "\n",
    "If we look at the first four steps, they are common operations for data processing. If you are a newcomer to decision trees the predictor and target variables may sound exotic to you. However, they are nothing more than additional columns in the data frame that contain some type of indicator. These indicators or predictors are used to predict the target variable that is the financial instrument will go up or down for the classification model, or the future price level for the regression model. Likewise, splitting data is a mandatory task in any backtesting process (ML or not), the idea is to have one set of data to train the model and another set of data, which have not been used in training, to test the model.\n",
    "\n",
    "Steps 5 and 6 are related to the ML algorithms for the decision trees specifically. As we will see, the implementation in Python is quite simple. However it is fundamental to understand well the parameterization and the analysis of the results. This post is eminently practical and to go deeper into the underlying mathematics we recommend reading the references at the bottom of the post."
   ]
  },
  {
   "cell_type": "markdown",
   "id": "2850535b",
   "metadata": {},
   "source": [
    "### Quandl - Getting the [data](https://blog.data.nasdaq.com/api-for-currency-data)\n",
    "\n",
    "The raw material for any algorithm are data. In our case they would be the time series of financial instruments, such as indices, stocks etc. and it usually contains details like the opening price, maximum, minimum, closing price and volume. This information is recorded at a certain frequency, such as minutes, hours, days or weeks, and forms a time series.\n",
    "\n",
    "There are multiple data sources to download the data, free and premium. The most common sources for free daily data are Quandl, Yahoo or Google or any other data source we trust.\n",
    "\n",
    "Here, we are going to work with twenty years of daily data from the Emini S&P 500 that we will retrieve through [Quandl](https://data.nasdaq.com/) a \"Retail Trading Activity Tracker."
   ]
  },
  {
   "cell_type": "code",
   "execution_count": 2,
   "id": "898b8897",
   "metadata": {
    "ExecuteTime": {
     "end_time": "2021-11-13T23:48:54.761441Z",
     "start_time": "2021-11-13T23:48:54.757931Z"
    }
   },
   "outputs": [],
   "source": [
    "# Conectar con quandl por medio de la API KEY\n",
    "def create_dir(directory, info=None):\n",
    "    \"\"\"\n",
    "    Crear directorio de almacenamiento local\n",
    "    \n",
    "    Args:\n",
    "    -----\n",
    "        directory [{str}] -- Directorio\n",
    "    \"\"\"\n",
    "    # Crear directorio\n",
    "    if not os.path.exists(directory):\n",
    "        os.makedirs(directory)\n",
    "        \n",
    "    if info:\n",
    "        # Crear README.txt\n",
    "        readme_filename = 'README.txt'\n",
    "        with open(directory+readme_filename, 'w') as f:\n",
    "            f.write(info)         \n",
    "\n",
    "def read_env():\n",
    "    \"\"\"\n",
    "    Lectura de parámetros de configuración. \n",
    "    \n",
    "        - quandl_api_key => QUANDL API KEY.\n",
    "        \n",
    "    \"\"\"\n",
    "    config = configparser.ConfigParser()\n",
    "    try:\n",
    "        config.read_file(open(r'.env'))\n",
    "        quandl_api_key = config.get(\"ACCOUNTS\", \"QUANDL_API_KEY\")\n",
    "        tradermade_api_key = config.get(\"ACCOUNTS\",'TRADERMADE_API_KEY')\n",
    "    except Exception as e:\n",
    "        raise ('Error en el fichero de configuración. Por favor, reviselo o pongase en contacto con el desarrollador.')\n",
    "        \n",
    "    else:\n",
    "        return {'QUANDL_API_KEY':quandl_api_key,'TRADERMADE_API_KEY':tradermade_api_key}"
   ]
  },
  {
   "cell_type": "code",
   "execution_count": 3,
   "id": "33a82535",
   "metadata": {
    "ExecuteTime": {
     "end_time": "2021-11-13T23:48:54.764442Z",
     "start_time": "2021-11-13T23:48:54.762282Z"
    }
   },
   "outputs": [],
   "source": [
    "# Establecer conexión.\n",
    "quandl.ApiConfig.api_key = read_env()['QUANDL_API_KEY']"
   ]
  },
  {
   "cell_type": "code",
   "execution_count": 4,
   "id": "9e0651e8",
   "metadata": {
    "ExecuteTime": {
     "end_time": "2021-11-13T23:48:54.769181Z",
     "start_time": "2021-11-13T23:48:54.765936Z"
    }
   },
   "outputs": [],
   "source": [
    "def download_data_quandl(codes, start_date, end_date):\n",
    "    \"\"\"\n",
    "    Solicitar datos a QUANDL por medio de una cuenta demo.\n",
    "    \"\"\"\n",
    "    # Solicitar datos de la API.\n",
    "    quandl_data = dict()\n",
    "    for symbol, source_code in codes.items():\n",
    "        print('\\t-',symbol)\n",
    "        \n",
    "        # Descarga\n",
    "        df = quandl.get(source_code,start_date=start_date, end_date=end_date)\n",
    "        df['Symbol'] = symbol\n",
    "        \n",
    "        # Almacenamiento\n",
    "        quandl_data[symbol]=df.copy()\n",
    "        \n",
    "        # Liberar memoria\n",
    "        del df\n",
    "        \n",
    "    return quandl_data"
   ]
  },
  {
   "cell_type": "code",
   "execution_count": 5,
   "id": "9f23ddaa",
   "metadata": {
    "ExecuteTime": {
     "end_time": "2021-11-13T23:48:58.914355Z",
     "start_time": "2021-11-13T23:48:54.770662Z"
    }
   },
   "outputs": [
    {
     "name": "stdout",
     "output_type": "stream",
     "text": [
      "Downloading data...\n",
      "\t- AUDUSD\n",
      "\t- JPYUSD\n",
      "\t- GBPUSD\n",
      "Available datasets:\n",
      "\t - AUDUSD\n",
      "\t - JPYUSD\n",
      "\t - GBPUSD\n"
     ]
    }
   ],
   "source": [
    "# Añadir simbolos de descarga. Se descargarán desde Bank of England (BOE).\n",
    "codes = {'AUDUSD':'BOE/XUDLADD', 'JPYUSD':'BOE/XUDLJYD', 'GBPUSD':'BOE/XUDLGBD'} \n",
    "\n",
    "# Descargar datos\n",
    "print('Downloading data...')\n",
    "quandl_data = download_data_quandl(codes=codes, start_date='2000-01-01', end_date='2021-11-11')\n",
    "print('Available datasets:')\n",
    "for k, v in quandl_data.items():\n",
    "    print('\\t -',k)\n",
    "# Seleccionar datos\n",
    "df = quandl_data['AUDUSD']"
   ]
  },
  {
   "cell_type": "markdown",
   "id": "65934731",
   "metadata": {},
   "source": [
    "### YahooFinance - [Getting the data](https://aroussi.com/post/python-yahoo-finance)\n",
    "\n",
    "yfinance is a popular open source library developed by Ran Aroussi as a means to access the financial data available on Yahoo Finance.\n",
    "\n",
    "Yahoo Finance offers an excellent range of market data on stocks, bonds, currencies and cryptocurrencies. It also offers market news, reports and analysis and additionally options and fundamentals data- setting it apart from some of it’s competitors.\n",
    "\n",
    "Yahoo Finance used to have their own official API, but this was decommissioned on May 15th 2017, following wide-spread misuse of data.\n",
    "\n",
    "These days a range of unofficial APIs and libraries exist to access the same data, including of course yfinance.\n",
    "\n",
    "Note you might know of yfinance under it’s old name- fix-yahoo-finance, since it was re-named on May 26th 2019 at the same time that it went over a large overhaul to fix some usability issues.\n",
    "\n",
    "To ensure backwards compatibility, fix-yahoo-finance now imports and uses yfinance anyway, but Ran Aroussi still recommends to install and use yfinance directly.\n",
    "\n",
    "[Yahoo Finance API – A Complete Guide](https://algotrading101.com/learn/yahoo-finance-api-guide/)."
   ]
  },
  {
   "cell_type": "code",
   "execution_count": 6,
   "id": "6f2a7778",
   "metadata": {
    "ExecuteTime": {
     "end_time": "2021-11-13T23:48:58.919602Z",
     "start_time": "2021-11-13T23:48:58.915263Z"
    }
   },
   "outputs": [],
   "source": [
    "def download_data_yfinance(currencies, start_date, end_date, interval='1h'):\n",
    "    \"\"\"\n",
    "    Descarga de datos de yfinance.\n",
    "    \n",
    "    Nota: La librería permite descargar solo los 730 últimos días de datos.\n",
    "    \n",
    "    Args:\n",
    "        currencies [{dict}] -- Diccionario que contiene los simbolos (keys) y códigos (values) a descargar de Yahoo Finance\n",
    "        start_date [{str}] -- Fecha de inicio de descarga\n",
    "        end_date [{str}] -- Fecha final de descarga\n",
    "        interval [{str}] -- Intervalo de datos descargados (default=1h)\n",
    "    \"\"\"\n",
    "    downloaded_data = dict() # Diccionario de almacenamiento de la descarga\n",
    "    for symbol, code in currencies.items():\n",
    "\n",
    "        print(f'Downloading {symbol} from {start_date} to {end_date} with code {code}')   \n",
    "\n",
    "        # Descarga\n",
    "        try:\n",
    "            df = yf.download(code, start=start_date, end=end_date, period='max', interval=interval)\n",
    "            df.sort_index(ascending=True)\n",
    "        except Exception as e:\n",
    "            raise e\n",
    "        else:\n",
    "            df['Symbol'] = symbol\n",
    "            df.index.name = 'date_time'\n",
    "            downloaded_data[symbol] = df.copy()\n",
    "            del df\n",
    "            print(end=2*'\\n')\n",
    "            \n",
    "    return downloaded_data\n",
    "    "
   ]
  },
  {
   "cell_type": "code",
   "execution_count": 19,
   "id": "022aa1da",
   "metadata": {
    "ExecuteTime": {
     "end_time": "2021-11-13T23:49:51.096325Z",
     "start_time": "2021-11-13T23:49:45.803124Z"
    }
   },
   "outputs": [
    {
     "name": "stdout",
     "output_type": "stream",
     "text": [
      "Downloading AUD/USD from 2019-12-01 to 2021-11-12 with code AUDUSD=X\n",
      "[*********************100%***********************]  1 of 1 completed\n",
      "\n",
      "\n",
      "Downloading EUR/JPY from 2019-12-01 to 2021-11-12 with code EURJPY=X\n",
      "[*********************100%***********************]  1 of 1 completed\n",
      "\n",
      "\n",
      "Downloading EUR/USD from 2019-12-01 to 2021-11-12 with code EURUSD=X\n",
      "[*********************100%***********************]  1 of 1 completed\n",
      "\n",
      "\n",
      "Downloading GBP/JPY from 2019-12-01 to 2021-11-12 with code GBPJPY=X\n",
      "[*********************100%***********************]  1 of 1 completed\n",
      "\n",
      "\n",
      "Downloading GBP/USD from 2019-12-01 to 2021-11-12 with code GBPUSD=X\n",
      "[*********************100%***********************]  1 of 1 completed\n",
      "\n",
      "\n",
      "Downloading NZD/USD from 2019-12-01 to 2021-11-12 with code NZDUSD=X\n",
      "[*********************100%***********************]  1 of 1 completed\n",
      "\n",
      "\n",
      "Downloading USD/CAD from 2019-12-01 to 2021-11-12 with code USDCAD=X\n",
      "[*********************100%***********************]  1 of 1 completed\n",
      "\n",
      "\n",
      "Downloading USD/CHF from 2019-12-01 to 2021-11-12 with code USDCHF=X\n",
      "[*********************100%***********************]  1 of 1 completed\n",
      "\n",
      "\n",
      "Downloading USD/JPY from 2019-12-01 to 2021-11-12 with code USDJPY=X\n",
      "[*********************100%***********************]  1 of 1 completed\n",
      "\n",
      "\n"
     ]
    }
   ],
   "source": [
    "# Parámetros de entrada\n",
    "start_date = '2019-12-01' # Fecha de inicio \n",
    "end_date   = '2021-11-12' # Fecha final\n",
    "\n",
    "# Lista de divisas\n",
    "currencies = {\n",
    "    'AUD/USD':'AUDUSD=X', \n",
    "    'EUR/JPY':'EURJPY=X',\n",
    "    'EUR/USD':'EURUSD=X',\n",
    "    'GBP/JPY':'GBPJPY=X',\n",
    "    'GBP/USD':'GBPUSD=X',\n",
    "    'NZD/USD':'NZDUSD=X',\n",
    "    'USD/CAD':'USDCAD=X',\n",
    "    'USD/CHF':'USDCHF=X',\n",
    "    'USD/JPY':'USDJPY=X'\n",
    "}\n",
    "\n",
    "downloaded_data = download_data_yfinance(currencies=currencies, start_date=start_date, end_date=end_date)"
   ]
  },
  {
   "cell_type": "code",
   "execution_count": 20,
   "id": "00209d7a",
   "metadata": {
    "ExecuteTime": {
     "end_time": "2021-11-13T23:49:51.242856Z",
     "start_time": "2021-11-13T23:49:51.239496Z"
    }
   },
   "outputs": [],
   "source": [
    "# Seleccionar una de las divisas como divisa de trabajo (EUR/USD)\n",
    "df = downloaded_data['EUR/USD']\n",
    "\n",
    "# Ordenar columnas\n",
    "columns = ['Symbol', 'Open', 'High', 'Low', 'Close', 'Volume']\n",
    "df = df[columns]"
   ]
  },
  {
   "cell_type": "code",
   "execution_count": 21,
   "id": "f8d40460",
   "metadata": {
    "ExecuteTime": {
     "end_time": "2021-11-13T23:49:51.406521Z",
     "start_time": "2021-11-13T23:49:51.404139Z"
    }
   },
   "outputs": [
    {
     "name": "stdout",
     "output_type": "stream",
     "text": [
      "From 2019-12-02 00:00:00+00:00 to 2021-11-11 22:00:00+00:00\n",
      "Shape = (12073, 6)\n",
      "Columns = ['Symbol', 'Open', 'High', 'Low', 'Close', 'Volume']\n"
     ]
    }
   ],
   "source": [
    "print('From {} to {}'.format(df.index.min(), df.index.max()))\n",
    "print(f'Shape = {df.shape}')\n",
    "print(f'Columns = {df.columns.to_list()}')"
   ]
  },
  {
   "cell_type": "code",
   "execution_count": 22,
   "id": "f3ace70a",
   "metadata": {
    "ExecuteTime": {
     "end_time": "2021-11-13T23:49:51.560066Z",
     "start_time": "2021-11-13T23:49:51.554279Z"
    }
   },
   "outputs": [
    {
     "data": {
      "text/html": [
       "<div>\n",
       "<style scoped>\n",
       "    .dataframe tbody tr th:only-of-type {\n",
       "        vertical-align: middle;\n",
       "    }\n",
       "\n",
       "    .dataframe tbody tr th {\n",
       "        vertical-align: top;\n",
       "    }\n",
       "\n",
       "    .dataframe thead th {\n",
       "        text-align: right;\n",
       "    }\n",
       "</style>\n",
       "<table border=\"1\" class=\"dataframe\">\n",
       "  <thead>\n",
       "    <tr style=\"text-align: right;\">\n",
       "      <th></th>\n",
       "      <th>Symbol</th>\n",
       "      <th>Open</th>\n",
       "      <th>High</th>\n",
       "      <th>Low</th>\n",
       "      <th>Close</th>\n",
       "      <th>Volume</th>\n",
       "    </tr>\n",
       "    <tr>\n",
       "      <th>date_time</th>\n",
       "      <th></th>\n",
       "      <th></th>\n",
       "      <th></th>\n",
       "      <th></th>\n",
       "      <th></th>\n",
       "      <th></th>\n",
       "    </tr>\n",
       "  </thead>\n",
       "  <tbody>\n",
       "    <tr>\n",
       "      <th>2019-12-02 00:00:00+00:00</th>\n",
       "      <td>EUR/USD</td>\n",
       "      <td>1.102171</td>\n",
       "      <td>1.102293</td>\n",
       "      <td>1.101807</td>\n",
       "      <td>1.102171</td>\n",
       "      <td>0</td>\n",
       "    </tr>\n",
       "    <tr>\n",
       "      <th>2019-12-02 01:00:00+00:00</th>\n",
       "      <td>EUR/USD</td>\n",
       "      <td>1.102293</td>\n",
       "      <td>1.102414</td>\n",
       "      <td>1.102050</td>\n",
       "      <td>1.102050</td>\n",
       "      <td>0</td>\n",
       "    </tr>\n",
       "    <tr>\n",
       "      <th>2019-12-02 02:00:00+00:00</th>\n",
       "      <td>EUR/USD</td>\n",
       "      <td>1.102171</td>\n",
       "      <td>1.102414</td>\n",
       "      <td>1.102050</td>\n",
       "      <td>1.102050</td>\n",
       "      <td>0</td>\n",
       "    </tr>\n",
       "    <tr>\n",
       "      <th>2019-12-02 03:00:00+00:00</th>\n",
       "      <td>EUR/USD</td>\n",
       "      <td>1.102050</td>\n",
       "      <td>1.102171</td>\n",
       "      <td>1.101928</td>\n",
       "      <td>1.102171</td>\n",
       "      <td>0</td>\n",
       "    </tr>\n",
       "    <tr>\n",
       "      <th>2019-12-02 04:00:00+00:00</th>\n",
       "      <td>EUR/USD</td>\n",
       "      <td>1.102171</td>\n",
       "      <td>1.102657</td>\n",
       "      <td>1.102171</td>\n",
       "      <td>1.102171</td>\n",
       "      <td>0</td>\n",
       "    </tr>\n",
       "  </tbody>\n",
       "</table>\n",
       "</div>"
      ],
      "text/plain": [
       "                            Symbol      Open      High       Low     Close  \\\n",
       "date_time                                                                    \n",
       "2019-12-02 00:00:00+00:00  EUR/USD  1.102171  1.102293  1.101807  1.102171   \n",
       "2019-12-02 01:00:00+00:00  EUR/USD  1.102293  1.102414  1.102050  1.102050   \n",
       "2019-12-02 02:00:00+00:00  EUR/USD  1.102171  1.102414  1.102050  1.102050   \n",
       "2019-12-02 03:00:00+00:00  EUR/USD  1.102050  1.102171  1.101928  1.102171   \n",
       "2019-12-02 04:00:00+00:00  EUR/USD  1.102171  1.102657  1.102171  1.102171   \n",
       "\n",
       "                           Volume  \n",
       "date_time                          \n",
       "2019-12-02 00:00:00+00:00       0  \n",
       "2019-12-02 01:00:00+00:00       0  \n",
       "2019-12-02 02:00:00+00:00       0  \n",
       "2019-12-02 03:00:00+00:00       0  \n",
       "2019-12-02 04:00:00+00:00       0  "
      ]
     },
     "execution_count": 22,
     "metadata": {},
     "output_type": "execute_result"
    }
   ],
   "source": [
    "df.head()"
   ]
  },
  {
   "cell_type": "code",
   "execution_count": 23,
   "id": "121496b6",
   "metadata": {
    "ExecuteTime": {
     "end_time": "2021-11-13T23:49:51.715299Z",
     "start_time": "2021-11-13T23:49:51.710030Z"
    }
   },
   "outputs": [
    {
     "data": {
      "text/html": [
       "<div>\n",
       "<style scoped>\n",
       "    .dataframe tbody tr th:only-of-type {\n",
       "        vertical-align: middle;\n",
       "    }\n",
       "\n",
       "    .dataframe tbody tr th {\n",
       "        vertical-align: top;\n",
       "    }\n",
       "\n",
       "    .dataframe thead th {\n",
       "        text-align: right;\n",
       "    }\n",
       "</style>\n",
       "<table border=\"1\" class=\"dataframe\">\n",
       "  <thead>\n",
       "    <tr style=\"text-align: right;\">\n",
       "      <th></th>\n",
       "      <th>Symbol</th>\n",
       "      <th>Open</th>\n",
       "      <th>High</th>\n",
       "      <th>Low</th>\n",
       "      <th>Close</th>\n",
       "      <th>Volume</th>\n",
       "    </tr>\n",
       "    <tr>\n",
       "      <th>date_time</th>\n",
       "      <th></th>\n",
       "      <th></th>\n",
       "      <th></th>\n",
       "      <th></th>\n",
       "      <th></th>\n",
       "      <th></th>\n",
       "    </tr>\n",
       "  </thead>\n",
       "  <tbody>\n",
       "    <tr>\n",
       "      <th>2021-11-11 18:00:00+00:00</th>\n",
       "      <td>EUR/USD</td>\n",
       "      <td>1.145607</td>\n",
       "      <td>1.145869</td>\n",
       "      <td>1.145082</td>\n",
       "      <td>1.145213</td>\n",
       "      <td>0</td>\n",
       "    </tr>\n",
       "    <tr>\n",
       "      <th>2021-11-11 19:00:00+00:00</th>\n",
       "      <td>EUR/USD</td>\n",
       "      <td>1.145213</td>\n",
       "      <td>1.145738</td>\n",
       "      <td>1.144820</td>\n",
       "      <td>1.144820</td>\n",
       "      <td>0</td>\n",
       "    </tr>\n",
       "    <tr>\n",
       "      <th>2021-11-11 20:00:00+00:00</th>\n",
       "      <td>EUR/USD</td>\n",
       "      <td>1.144820</td>\n",
       "      <td>1.145607</td>\n",
       "      <td>1.144689</td>\n",
       "      <td>1.145082</td>\n",
       "      <td>0</td>\n",
       "    </tr>\n",
       "    <tr>\n",
       "      <th>2021-11-11 21:00:00+00:00</th>\n",
       "      <td>EUR/USD</td>\n",
       "      <td>1.145082</td>\n",
       "      <td>1.145869</td>\n",
       "      <td>1.144951</td>\n",
       "      <td>1.145607</td>\n",
       "      <td>0</td>\n",
       "    </tr>\n",
       "    <tr>\n",
       "      <th>2021-11-11 22:00:00+00:00</th>\n",
       "      <td>EUR/USD</td>\n",
       "      <td>1.144951</td>\n",
       "      <td>1.145869</td>\n",
       "      <td>1.144951</td>\n",
       "      <td>1.145475</td>\n",
       "      <td>0</td>\n",
       "    </tr>\n",
       "  </tbody>\n",
       "</table>\n",
       "</div>"
      ],
      "text/plain": [
       "                            Symbol      Open      High       Low     Close  \\\n",
       "date_time                                                                    \n",
       "2021-11-11 18:00:00+00:00  EUR/USD  1.145607  1.145869  1.145082  1.145213   \n",
       "2021-11-11 19:00:00+00:00  EUR/USD  1.145213  1.145738  1.144820  1.144820   \n",
       "2021-11-11 20:00:00+00:00  EUR/USD  1.144820  1.145607  1.144689  1.145082   \n",
       "2021-11-11 21:00:00+00:00  EUR/USD  1.145082  1.145869  1.144951  1.145607   \n",
       "2021-11-11 22:00:00+00:00  EUR/USD  1.144951  1.145869  1.144951  1.145475   \n",
       "\n",
       "                           Volume  \n",
       "date_time                          \n",
       "2021-11-11 18:00:00+00:00       0  \n",
       "2021-11-11 19:00:00+00:00       0  \n",
       "2021-11-11 20:00:00+00:00       0  \n",
       "2021-11-11 21:00:00+00:00       0  \n",
       "2021-11-11 22:00:00+00:00       0  "
      ]
     },
     "execution_count": 23,
     "metadata": {},
     "output_type": "execute_result"
    }
   ],
   "source": [
    "df.tail()"
   ]
  },
  {
   "cell_type": "code",
   "execution_count": 24,
   "id": "26274f38",
   "metadata": {
    "ExecuteTime": {
     "end_time": "2021-11-13T23:49:51.877570Z",
     "start_time": "2021-11-13T23:49:51.871722Z"
    }
   },
   "outputs": [
    {
     "name": "stdout",
     "output_type": "stream",
     "text": [
      "<class 'pandas.core.frame.DataFrame'>\n",
      "DatetimeIndex: 12073 entries, 2019-12-02 00:00:00+00:00 to 2021-11-11 22:00:00+00:00\n",
      "Data columns (total 6 columns):\n",
      " #   Column  Non-Null Count  Dtype  \n",
      "---  ------  --------------  -----  \n",
      " 0   Symbol  12073 non-null  object \n",
      " 1   Open    12073 non-null  float64\n",
      " 2   High    12073 non-null  float64\n",
      " 3   Low     12073 non-null  float64\n",
      " 4   Close   12073 non-null  float64\n",
      " 5   Volume  12073 non-null  int64  \n",
      "dtypes: float64(4), int64(1), object(1)\n",
      "memory usage: 660.2+ KB\n"
     ]
    }
   ],
   "source": [
    "df.info()"
   ]
  },
  {
   "cell_type": "code",
   "execution_count": 25,
   "id": "25aa6b5d",
   "metadata": {
    "ExecuteTime": {
     "end_time": "2021-11-13T23:49:52.037167Z",
     "start_time": "2021-11-13T23:49:52.023525Z"
    }
   },
   "outputs": [
    {
     "data": {
      "text/html": [
       "<div>\n",
       "<style scoped>\n",
       "    .dataframe tbody tr th:only-of-type {\n",
       "        vertical-align: middle;\n",
       "    }\n",
       "\n",
       "    .dataframe tbody tr th {\n",
       "        vertical-align: top;\n",
       "    }\n",
       "\n",
       "    .dataframe thead th {\n",
       "        text-align: right;\n",
       "    }\n",
       "</style>\n",
       "<table border=\"1\" class=\"dataframe\">\n",
       "  <thead>\n",
       "    <tr style=\"text-align: right;\">\n",
       "      <th></th>\n",
       "      <th>count</th>\n",
       "      <th>mean</th>\n",
       "      <th>std</th>\n",
       "      <th>min</th>\n",
       "      <th>25%</th>\n",
       "      <th>50%</th>\n",
       "      <th>75%</th>\n",
       "      <th>max</th>\n",
       "    </tr>\n",
       "  </thead>\n",
       "  <tbody>\n",
       "    <tr>\n",
       "      <th>Open</th>\n",
       "      <td>12073.0</td>\n",
       "      <td>1.162576</td>\n",
       "      <td>0.043601</td>\n",
       "      <td>1.065644</td>\n",
       "      <td>1.121076</td>\n",
       "      <td>1.177024</td>\n",
       "      <td>1.192890</td>\n",
       "      <td>1.234263</td>\n",
       "    </tr>\n",
       "    <tr>\n",
       "      <th>High</th>\n",
       "      <td>12073.0</td>\n",
       "      <td>1.163334</td>\n",
       "      <td>0.043572</td>\n",
       "      <td>1.066894</td>\n",
       "      <td>1.121705</td>\n",
       "      <td>1.177718</td>\n",
       "      <td>1.193602</td>\n",
       "      <td>1.235483</td>\n",
       "    </tr>\n",
       "    <tr>\n",
       "      <th>Low</th>\n",
       "      <td>12073.0</td>\n",
       "      <td>1.161950</td>\n",
       "      <td>0.043642</td>\n",
       "      <td>1.064283</td>\n",
       "      <td>1.120448</td>\n",
       "      <td>1.176471</td>\n",
       "      <td>1.192464</td>\n",
       "      <td>1.233806</td>\n",
       "    </tr>\n",
       "    <tr>\n",
       "      <th>Close</th>\n",
       "      <td>12073.0</td>\n",
       "      <td>1.162591</td>\n",
       "      <td>0.043605</td>\n",
       "      <td>1.065984</td>\n",
       "      <td>1.121076</td>\n",
       "      <td>1.177024</td>\n",
       "      <td>1.192890</td>\n",
       "      <td>1.234568</td>\n",
       "    </tr>\n",
       "    <tr>\n",
       "      <th>Volume</th>\n",
       "      <td>12073.0</td>\n",
       "      <td>0.000000</td>\n",
       "      <td>0.000000</td>\n",
       "      <td>0.000000</td>\n",
       "      <td>0.000000</td>\n",
       "      <td>0.000000</td>\n",
       "      <td>0.000000</td>\n",
       "      <td>0.000000</td>\n",
       "    </tr>\n",
       "  </tbody>\n",
       "</table>\n",
       "</div>"
      ],
      "text/plain": [
       "          count      mean       std       min       25%       50%       75%  \\\n",
       "Open    12073.0  1.162576  0.043601  1.065644  1.121076  1.177024  1.192890   \n",
       "High    12073.0  1.163334  0.043572  1.066894  1.121705  1.177718  1.193602   \n",
       "Low     12073.0  1.161950  0.043642  1.064283  1.120448  1.176471  1.192464   \n",
       "Close   12073.0  1.162591  0.043605  1.065984  1.121076  1.177024  1.192890   \n",
       "Volume  12073.0  0.000000  0.000000  0.000000  0.000000  0.000000  0.000000   \n",
       "\n",
       "             max  \n",
       "Open    1.234263  \n",
       "High    1.235483  \n",
       "Low     1.233806  \n",
       "Close   1.234568  \n",
       "Volume  0.000000  "
      ]
     },
     "execution_count": 25,
     "metadata": {},
     "output_type": "execute_result"
    }
   ],
   "source": [
    "df.describe().T"
   ]
  },
  {
   "cell_type": "code",
   "execution_count": 26,
   "id": "f299e5d3",
   "metadata": {
    "ExecuteTime": {
     "end_time": "2021-11-13T23:49:52.188849Z",
     "start_time": "2021-11-13T23:49:52.186609Z"
    }
   },
   "outputs": [],
   "source": [
    "# Eliminamos el Volumen\n",
    "df.drop('Volume', axis=1, inplace=True)"
   ]
  },
  {
   "cell_type": "markdown",
   "id": "73dd9905",
   "metadata": {
    "ExecuteTime": {
     "end_time": "2021-11-13T15:46:08.648522Z",
     "start_time": "2021-11-13T15:46:08.620432Z"
    }
   },
   "source": [
    "### Creating the predictors\n",
    "\n",
    "Predictor variables are data that we think are related to market behavior. These data can be very diverse such as the technical indicators, market data, sentiment data, breadth data, fundamental data, government data, etc. that will help us to make forecasts about the future behavior of the market.\n",
    "\n",
    "Here we will test the classical indicators for trend following and for range trading, these are:\n",
    "\n",
    "- EMA\n",
    "- ATR\n",
    "- ADX\n",
    "- RSI\n",
    "- MACD\n",
    "\n",
    "Therefore, the decision tree algorithm should help us select the best combination of indicators along with their parameters that maximize the expected output which is the target."
   ]
  },
  {
   "cell_type": "code",
   "execution_count": 27,
   "id": "1f21f66a",
   "metadata": {
    "ExecuteTime": {
     "end_time": "2021-11-13T23:49:52.342212Z",
     "start_time": "2021-11-13T23:49:52.337614Z"
    }
   },
   "outputs": [],
   "source": [
    "def create_predictors(df):\n",
    "    \"\"\"\n",
    "    Crear variables de predicción.\n",
    "    \"\"\"\n",
    "    data = df.copy()\n",
    "    # 1. Overlap Studies\n",
    "    print('Overlap Studies...')\n",
    "    # Exponential moving averages (periods = 10, 30)\n",
    "    data['EMA10'] = talib.EMA(df['Close'].values, timeperiod=10)\n",
    "    data['EMA30'] = talib.EMA(df['Close'].values, timeperiod=30)\n",
    "    \n",
    "    print('Volatility indicators...')\n",
    "    # 2. Volatility Indicator Functions\n",
    "    # 2.1 Average True Range (http://www.tadoc.org/indicator/ATR.htm)\n",
    "    data['ATR'] = talib.ATR(df['High'].values, df['Low'].values, df['Close'].values, timeperiod=14)\n",
    "    \n",
    "    \n",
    "    print('Momentum indicators...')\n",
    "    # 3. Momentum Indicator Functions\n",
    "    # 3.1 Average Directional Movement Index (http://www.tadoc.org/indicator/ADX.htm)\n",
    "    data['ADX'] = talib.ATR(df['High'].values, df['Low'].values, df['Close'].values, timeperiod=14)\n",
    "    \n",
    "    # 3.2 Moving Average Convergence/Divergence (http://www.tadoc.org/indicator/RSI.htm) \n",
    "    data['RSI'] = talib.RSI(df['Close'].values, timeperiod=14)\n",
    "    \n",
    "    # 3.3 Average Directional Movement Index (http://www.tadoc.org/indicator/ADX.htm)\n",
    "    macd, macdsignal, macdhist = talib.MACD(df['Close'].values, fastperiod=12, slowperiod=26, signalperiod=9)\n",
    "    data['MACD'] = macd\n",
    "    data['MACDsignal'] = macdsignal\n",
    "    data['MACDhistogram'] = macdhist\n",
    "    \n",
    "    return data"
   ]
  },
  {
   "cell_type": "code",
   "execution_count": 28,
   "id": "075c7dcf",
   "metadata": {
    "ExecuteTime": {
     "end_time": "2021-11-13T23:49:52.497757Z",
     "start_time": "2021-11-13T23:49:52.487845Z"
    }
   },
   "outputs": [
    {
     "name": "stdout",
     "output_type": "stream",
     "text": [
      "Overlap Studies...\n",
      "Volatility indicators...\n",
      "Momentum indicators...\n"
     ]
    }
   ],
   "source": [
    "data = create_predictors(df)"
   ]
  },
  {
   "cell_type": "code",
   "execution_count": 29,
   "id": "4955f7b1",
   "metadata": {
    "ExecuteTime": {
     "end_time": "2021-11-13T23:49:52.676552Z",
     "start_time": "2021-11-13T23:49:52.668606Z"
    }
   },
   "outputs": [
    {
     "data": {
      "text/html": [
       "<div>\n",
       "<style scoped>\n",
       "    .dataframe tbody tr th:only-of-type {\n",
       "        vertical-align: middle;\n",
       "    }\n",
       "\n",
       "    .dataframe tbody tr th {\n",
       "        vertical-align: top;\n",
       "    }\n",
       "\n",
       "    .dataframe thead th {\n",
       "        text-align: right;\n",
       "    }\n",
       "</style>\n",
       "<table border=\"1\" class=\"dataframe\">\n",
       "  <thead>\n",
       "    <tr style=\"text-align: right;\">\n",
       "      <th></th>\n",
       "      <th>Symbol</th>\n",
       "      <th>Open</th>\n",
       "      <th>High</th>\n",
       "      <th>Low</th>\n",
       "      <th>Close</th>\n",
       "      <th>EMA10</th>\n",
       "      <th>EMA30</th>\n",
       "      <th>ATR</th>\n",
       "      <th>ADX</th>\n",
       "      <th>RSI</th>\n",
       "      <th>MACD</th>\n",
       "      <th>MACDsignal</th>\n",
       "      <th>MACDhistogram</th>\n",
       "    </tr>\n",
       "    <tr>\n",
       "      <th>date_time</th>\n",
       "      <th></th>\n",
       "      <th></th>\n",
       "      <th></th>\n",
       "      <th></th>\n",
       "      <th></th>\n",
       "      <th></th>\n",
       "      <th></th>\n",
       "      <th></th>\n",
       "      <th></th>\n",
       "      <th></th>\n",
       "      <th></th>\n",
       "      <th></th>\n",
       "      <th></th>\n",
       "    </tr>\n",
       "  </thead>\n",
       "  <tbody>\n",
       "    <tr>\n",
       "      <th>2021-11-11 18:00:00+00:00</th>\n",
       "      <td>EUR/USD</td>\n",
       "      <td>1.145607</td>\n",
       "      <td>1.145869</td>\n",
       "      <td>1.145082</td>\n",
       "      <td>1.145213</td>\n",
       "      <td>1.146541</td>\n",
       "      <td>1.148959</td>\n",
       "      <td>0.001476</td>\n",
       "      <td>0.001476</td>\n",
       "      <td>30.661045</td>\n",
       "      <td>-0.001717</td>\n",
       "      <td>-0.001888</td>\n",
       "      <td>0.000171</td>\n",
       "    </tr>\n",
       "    <tr>\n",
       "      <th>2021-11-11 19:00:00+00:00</th>\n",
       "      <td>EUR/USD</td>\n",
       "      <td>1.145213</td>\n",
       "      <td>1.145738</td>\n",
       "      <td>1.144820</td>\n",
       "      <td>1.144820</td>\n",
       "      <td>1.146228</td>\n",
       "      <td>1.148692</td>\n",
       "      <td>0.001436</td>\n",
       "      <td>0.001436</td>\n",
       "      <td>29.336856</td>\n",
       "      <td>-0.001743</td>\n",
       "      <td>-0.001859</td>\n",
       "      <td>0.000116</td>\n",
       "    </tr>\n",
       "    <tr>\n",
       "      <th>2021-11-11 20:00:00+00:00</th>\n",
       "      <td>EUR/USD</td>\n",
       "      <td>1.144820</td>\n",
       "      <td>1.145607</td>\n",
       "      <td>1.144689</td>\n",
       "      <td>1.145082</td>\n",
       "      <td>1.146020</td>\n",
       "      <td>1.148459</td>\n",
       "      <td>0.001399</td>\n",
       "      <td>0.001399</td>\n",
       "      <td>31.461685</td>\n",
       "      <td>-0.001723</td>\n",
       "      <td>-0.001832</td>\n",
       "      <td>0.000109</td>\n",
       "    </tr>\n",
       "    <tr>\n",
       "      <th>2021-11-11 21:00:00+00:00</th>\n",
       "      <td>EUR/USD</td>\n",
       "      <td>1.145082</td>\n",
       "      <td>1.145869</td>\n",
       "      <td>1.144951</td>\n",
       "      <td>1.145607</td>\n",
       "      <td>1.145945</td>\n",
       "      <td>1.148275</td>\n",
       "      <td>0.001364</td>\n",
       "      <td>0.001364</td>\n",
       "      <td>35.634180</td>\n",
       "      <td>-0.001645</td>\n",
       "      <td>-0.001795</td>\n",
       "      <td>0.000150</td>\n",
       "    </tr>\n",
       "    <tr>\n",
       "      <th>2021-11-11 22:00:00+00:00</th>\n",
       "      <td>EUR/USD</td>\n",
       "      <td>1.144951</td>\n",
       "      <td>1.145869</td>\n",
       "      <td>1.144951</td>\n",
       "      <td>1.145475</td>\n",
       "      <td>1.145859</td>\n",
       "      <td>1.148094</td>\n",
       "      <td>0.001333</td>\n",
       "      <td>0.001333</td>\n",
       "      <td>35.059286</td>\n",
       "      <td>-0.001576</td>\n",
       "      <td>-0.001751</td>\n",
       "      <td>0.000175</td>\n",
       "    </tr>\n",
       "  </tbody>\n",
       "</table>\n",
       "</div>"
      ],
      "text/plain": [
       "                            Symbol      Open      High       Low     Close  \\\n",
       "date_time                                                                    \n",
       "2021-11-11 18:00:00+00:00  EUR/USD  1.145607  1.145869  1.145082  1.145213   \n",
       "2021-11-11 19:00:00+00:00  EUR/USD  1.145213  1.145738  1.144820  1.144820   \n",
       "2021-11-11 20:00:00+00:00  EUR/USD  1.144820  1.145607  1.144689  1.145082   \n",
       "2021-11-11 21:00:00+00:00  EUR/USD  1.145082  1.145869  1.144951  1.145607   \n",
       "2021-11-11 22:00:00+00:00  EUR/USD  1.144951  1.145869  1.144951  1.145475   \n",
       "\n",
       "                              EMA10     EMA30       ATR       ADX        RSI  \\\n",
       "date_time                                                                      \n",
       "2021-11-11 18:00:00+00:00  1.146541  1.148959  0.001476  0.001476  30.661045   \n",
       "2021-11-11 19:00:00+00:00  1.146228  1.148692  0.001436  0.001436  29.336856   \n",
       "2021-11-11 20:00:00+00:00  1.146020  1.148459  0.001399  0.001399  31.461685   \n",
       "2021-11-11 21:00:00+00:00  1.145945  1.148275  0.001364  0.001364  35.634180   \n",
       "2021-11-11 22:00:00+00:00  1.145859  1.148094  0.001333  0.001333  35.059286   \n",
       "\n",
       "                               MACD  MACDsignal  MACDhistogram  \n",
       "date_time                                                       \n",
       "2021-11-11 18:00:00+00:00 -0.001717   -0.001888       0.000171  \n",
       "2021-11-11 19:00:00+00:00 -0.001743   -0.001859       0.000116  \n",
       "2021-11-11 20:00:00+00:00 -0.001723   -0.001832       0.000109  \n",
       "2021-11-11 21:00:00+00:00 -0.001645   -0.001795       0.000150  \n",
       "2021-11-11 22:00:00+00:00 -0.001576   -0.001751       0.000175  "
      ]
     },
     "execution_count": 29,
     "metadata": {},
     "output_type": "execute_result"
    }
   ],
   "source": [
    "data.tail()"
   ]
  },
  {
   "cell_type": "markdown",
   "id": "567d4751",
   "metadata": {},
   "source": [
    "We have already calculated the indicators, but it is necessary to emphasize that we have calculated them with the standard parameters and these can, and must be optimized since the decision tree works with the pre calculated indicators."
   ]
  },
  {
   "cell_type": "markdown",
   "id": "8d5094d0",
   "metadata": {},
   "source": [
    "On the other hand, EMAs and MACDs do not serve as they are, since the signal comes from the price in relation to averages, or from one average in relation to the other. Let’s calculate the columns that will serve as predictors for the averages and the MACD."
   ]
  },
  {
   "cell_type": "code",
   "execution_count": 30,
   "id": "1d59bd66",
   "metadata": {
    "ExecuteTime": {
     "end_time": "2021-11-13T23:49:52.849090Z",
     "start_time": "2021-11-13T23:49:52.845352Z"
    }
   },
   "outputs": [],
   "source": [
    "# Use technical indicators to construct predictors features.\n",
    "data['Close_Over_EMA10'] = np.where(data['Close']>data['EMA10'], 1, -1)\n",
    "data['EMA10_Over_EMA30'] = np.where(data['EMA10']>data['EMA30'], 1, -1)\n",
    "data['MACDSIG_Over_MACD'] = np.where(data['MACDsignal'] > data['MACD'], 1, -1)"
   ]
  },
  {
   "cell_type": "code",
   "execution_count": 31,
   "id": "970c14d6",
   "metadata": {
    "ExecuteTime": {
     "end_time": "2021-11-13T23:49:53.025001Z",
     "start_time": "2021-11-13T23:49:53.016642Z"
    }
   },
   "outputs": [
    {
     "data": {
      "text/html": [
       "<div>\n",
       "<style scoped>\n",
       "    .dataframe tbody tr th:only-of-type {\n",
       "        vertical-align: middle;\n",
       "    }\n",
       "\n",
       "    .dataframe tbody tr th {\n",
       "        vertical-align: top;\n",
       "    }\n",
       "\n",
       "    .dataframe thead th {\n",
       "        text-align: right;\n",
       "    }\n",
       "</style>\n",
       "<table border=\"1\" class=\"dataframe\">\n",
       "  <thead>\n",
       "    <tr style=\"text-align: right;\">\n",
       "      <th></th>\n",
       "      <th>Symbol</th>\n",
       "      <th>Open</th>\n",
       "      <th>High</th>\n",
       "      <th>Low</th>\n",
       "      <th>Close</th>\n",
       "      <th>EMA10</th>\n",
       "      <th>EMA30</th>\n",
       "      <th>ATR</th>\n",
       "      <th>ADX</th>\n",
       "      <th>RSI</th>\n",
       "      <th>MACD</th>\n",
       "      <th>MACDsignal</th>\n",
       "      <th>MACDhistogram</th>\n",
       "      <th>Close_Over_EMA10</th>\n",
       "      <th>EMA10_Over_EMA30</th>\n",
       "      <th>MACDSIG_Over_MACD</th>\n",
       "    </tr>\n",
       "    <tr>\n",
       "      <th>date_time</th>\n",
       "      <th></th>\n",
       "      <th></th>\n",
       "      <th></th>\n",
       "      <th></th>\n",
       "      <th></th>\n",
       "      <th></th>\n",
       "      <th></th>\n",
       "      <th></th>\n",
       "      <th></th>\n",
       "      <th></th>\n",
       "      <th></th>\n",
       "      <th></th>\n",
       "      <th></th>\n",
       "      <th></th>\n",
       "      <th></th>\n",
       "      <th></th>\n",
       "    </tr>\n",
       "  </thead>\n",
       "  <tbody>\n",
       "    <tr>\n",
       "      <th>2021-11-11 18:00:00+00:00</th>\n",
       "      <td>EUR/USD</td>\n",
       "      <td>1.145607</td>\n",
       "      <td>1.145869</td>\n",
       "      <td>1.145082</td>\n",
       "      <td>1.145213</td>\n",
       "      <td>1.146541</td>\n",
       "      <td>1.148959</td>\n",
       "      <td>0.001476</td>\n",
       "      <td>0.001476</td>\n",
       "      <td>30.661045</td>\n",
       "      <td>-0.001717</td>\n",
       "      <td>-0.001888</td>\n",
       "      <td>0.000171</td>\n",
       "      <td>-1</td>\n",
       "      <td>-1</td>\n",
       "      <td>-1</td>\n",
       "    </tr>\n",
       "    <tr>\n",
       "      <th>2021-11-11 19:00:00+00:00</th>\n",
       "      <td>EUR/USD</td>\n",
       "      <td>1.145213</td>\n",
       "      <td>1.145738</td>\n",
       "      <td>1.144820</td>\n",
       "      <td>1.144820</td>\n",
       "      <td>1.146228</td>\n",
       "      <td>1.148692</td>\n",
       "      <td>0.001436</td>\n",
       "      <td>0.001436</td>\n",
       "      <td>29.336856</td>\n",
       "      <td>-0.001743</td>\n",
       "      <td>-0.001859</td>\n",
       "      <td>0.000116</td>\n",
       "      <td>-1</td>\n",
       "      <td>-1</td>\n",
       "      <td>-1</td>\n",
       "    </tr>\n",
       "    <tr>\n",
       "      <th>2021-11-11 20:00:00+00:00</th>\n",
       "      <td>EUR/USD</td>\n",
       "      <td>1.144820</td>\n",
       "      <td>1.145607</td>\n",
       "      <td>1.144689</td>\n",
       "      <td>1.145082</td>\n",
       "      <td>1.146020</td>\n",
       "      <td>1.148459</td>\n",
       "      <td>0.001399</td>\n",
       "      <td>0.001399</td>\n",
       "      <td>31.461685</td>\n",
       "      <td>-0.001723</td>\n",
       "      <td>-0.001832</td>\n",
       "      <td>0.000109</td>\n",
       "      <td>-1</td>\n",
       "      <td>-1</td>\n",
       "      <td>-1</td>\n",
       "    </tr>\n",
       "    <tr>\n",
       "      <th>2021-11-11 21:00:00+00:00</th>\n",
       "      <td>EUR/USD</td>\n",
       "      <td>1.145082</td>\n",
       "      <td>1.145869</td>\n",
       "      <td>1.144951</td>\n",
       "      <td>1.145607</td>\n",
       "      <td>1.145945</td>\n",
       "      <td>1.148275</td>\n",
       "      <td>0.001364</td>\n",
       "      <td>0.001364</td>\n",
       "      <td>35.634180</td>\n",
       "      <td>-0.001645</td>\n",
       "      <td>-0.001795</td>\n",
       "      <td>0.000150</td>\n",
       "      <td>-1</td>\n",
       "      <td>-1</td>\n",
       "      <td>-1</td>\n",
       "    </tr>\n",
       "    <tr>\n",
       "      <th>2021-11-11 22:00:00+00:00</th>\n",
       "      <td>EUR/USD</td>\n",
       "      <td>1.144951</td>\n",
       "      <td>1.145869</td>\n",
       "      <td>1.144951</td>\n",
       "      <td>1.145475</td>\n",
       "      <td>1.145859</td>\n",
       "      <td>1.148094</td>\n",
       "      <td>0.001333</td>\n",
       "      <td>0.001333</td>\n",
       "      <td>35.059286</td>\n",
       "      <td>-0.001576</td>\n",
       "      <td>-0.001751</td>\n",
       "      <td>0.000175</td>\n",
       "      <td>-1</td>\n",
       "      <td>-1</td>\n",
       "      <td>-1</td>\n",
       "    </tr>\n",
       "  </tbody>\n",
       "</table>\n",
       "</div>"
      ],
      "text/plain": [
       "                            Symbol      Open      High       Low     Close  \\\n",
       "date_time                                                                    \n",
       "2021-11-11 18:00:00+00:00  EUR/USD  1.145607  1.145869  1.145082  1.145213   \n",
       "2021-11-11 19:00:00+00:00  EUR/USD  1.145213  1.145738  1.144820  1.144820   \n",
       "2021-11-11 20:00:00+00:00  EUR/USD  1.144820  1.145607  1.144689  1.145082   \n",
       "2021-11-11 21:00:00+00:00  EUR/USD  1.145082  1.145869  1.144951  1.145607   \n",
       "2021-11-11 22:00:00+00:00  EUR/USD  1.144951  1.145869  1.144951  1.145475   \n",
       "\n",
       "                              EMA10     EMA30       ATR       ADX        RSI  \\\n",
       "date_time                                                                      \n",
       "2021-11-11 18:00:00+00:00  1.146541  1.148959  0.001476  0.001476  30.661045   \n",
       "2021-11-11 19:00:00+00:00  1.146228  1.148692  0.001436  0.001436  29.336856   \n",
       "2021-11-11 20:00:00+00:00  1.146020  1.148459  0.001399  0.001399  31.461685   \n",
       "2021-11-11 21:00:00+00:00  1.145945  1.148275  0.001364  0.001364  35.634180   \n",
       "2021-11-11 22:00:00+00:00  1.145859  1.148094  0.001333  0.001333  35.059286   \n",
       "\n",
       "                               MACD  MACDsignal  MACDhistogram  \\\n",
       "date_time                                                        \n",
       "2021-11-11 18:00:00+00:00 -0.001717   -0.001888       0.000171   \n",
       "2021-11-11 19:00:00+00:00 -0.001743   -0.001859       0.000116   \n",
       "2021-11-11 20:00:00+00:00 -0.001723   -0.001832       0.000109   \n",
       "2021-11-11 21:00:00+00:00 -0.001645   -0.001795       0.000150   \n",
       "2021-11-11 22:00:00+00:00 -0.001576   -0.001751       0.000175   \n",
       "\n",
       "                           Close_Over_EMA10  EMA10_Over_EMA30  \\\n",
       "date_time                                                       \n",
       "2021-11-11 18:00:00+00:00                -1                -1   \n",
       "2021-11-11 19:00:00+00:00                -1                -1   \n",
       "2021-11-11 20:00:00+00:00                -1                -1   \n",
       "2021-11-11 21:00:00+00:00                -1                -1   \n",
       "2021-11-11 22:00:00+00:00                -1                -1   \n",
       "\n",
       "                           MACDSIG_Over_MACD  \n",
       "date_time                                     \n",
       "2021-11-11 18:00:00+00:00                 -1  \n",
       "2021-11-11 19:00:00+00:00                 -1  \n",
       "2021-11-11 20:00:00+00:00                 -1  \n",
       "2021-11-11 21:00:00+00:00                 -1  \n",
       "2021-11-11 22:00:00+00:00                 -1  "
      ]
     },
     "execution_count": 31,
     "metadata": {},
     "output_type": "execute_result"
    }
   ],
   "source": [
    "data.tail()"
   ]
  },
  {
   "cell_type": "code",
   "execution_count": 32,
   "id": "d0df0c35",
   "metadata": {
    "ExecuteTime": {
     "end_time": "2021-11-13T23:49:53.201995Z",
     "start_time": "2021-11-13T23:49:53.196115Z"
    }
   },
   "outputs": [
    {
     "data": {
      "text/plain": [
       "Close_Over_EMA10  EMA10_Over_EMA30  MACDSIG_Over_MACD\n",
       " 1                 1                -1                   3304\n",
       "-1                -1                 1                   2985\n",
       "                   1                 1                   1528\n",
       " 1                -1                -1                   1481\n",
       "-1                -1                -1                   1065\n",
       " 1                 1                 1                    986\n",
       "-1                 1                -1                    371\n",
       " 1                -1                 1                    353\n",
       "dtype: int64"
      ]
     },
     "execution_count": 32,
     "metadata": {},
     "output_type": "execute_result"
    }
   ],
   "source": [
    "data[['Close_Over_EMA10', 'EMA10_Over_EMA30', 'MACDSIG_Over_MACD']].value_counts().T"
   ]
  },
  {
   "cell_type": "markdown",
   "id": "2afd5ecf",
   "metadata": {
    "ExecuteTime": {
     "end_time": "2021-11-13T15:59:08.877540Z",
     "start_time": "2021-11-13T15:59:08.871708Z"
    }
   },
   "source": [
    "What we have now are possible trading rules that we will introduce in the decision tree to help us identify the best combination of these indicators to maximize the result.\n",
    "\n",
    "- EMA, we are interested in when the price is above average and when the fastest average is above the slowest average.\n",
    "- ATR(14), we’re interested in the threshold that will trigger the signal.\n",
    "- ADX(14), we’re interested in the threshold that will trigger the signal.\n",
    "- RSI(14), we’re interested in the threshold that will trigger the signal.\n",
    "- MACD, we are interested in when the MACD signal is above MACD.\n",
    "\n",
    "\n",
    "In this example, the predictor variables for the classification decision tree and the regression decision tree will be the same, although the target variables are different because for the classification algorithm the output will be categorical and for the regression algorithm the output will be continuous."
   ]
  },
  {
   "cell_type": "markdown",
   "id": "847ce2c1",
   "metadata": {},
   "source": [
    "### Creating the target variables\n",
    "\n",
    "As we have already said, the classification and regression decision trees have different objectives. While the classification decision tree tries to characterize the future by offering a categorical variable, i.e. the market goes up or down, the regression decision tree tries to forecast the future value, i.e. the future market price.\n",
    "\n",
    "We are going to create here the target variables for the two types of problems, although each one will use its own target."
   ]
  },
  {
   "cell_type": "code",
   "execution_count": 33,
   "id": "27d51ba2",
   "metadata": {
    "ExecuteTime": {
     "end_time": "2021-11-13T23:49:53.384566Z",
     "start_time": "2021-11-13T23:49:53.380057Z"
    }
   },
   "outputs": [],
   "source": [
    "data['Return'] = data['Close'].pct_change(1)\n",
    "data['target_cls'] = np.where(data['Return'].shift(-1)>0, 1, 0) # Target for classification\n",
    "data['target_rgs'] = data['Return'].shift(-1) # Target for regression "
   ]
  },
  {
   "cell_type": "code",
   "execution_count": 34,
   "id": "a3f2fcc4",
   "metadata": {
    "ExecuteTime": {
     "end_time": "2021-11-13T23:49:53.561747Z",
     "start_time": "2021-11-13T23:49:53.553950Z"
    }
   },
   "outputs": [
    {
     "data": {
      "text/html": [
       "<div>\n",
       "<style scoped>\n",
       "    .dataframe tbody tr th:only-of-type {\n",
       "        vertical-align: middle;\n",
       "    }\n",
       "\n",
       "    .dataframe tbody tr th {\n",
       "        vertical-align: top;\n",
       "    }\n",
       "\n",
       "    .dataframe thead th {\n",
       "        text-align: right;\n",
       "    }\n",
       "</style>\n",
       "<table border=\"1\" class=\"dataframe\">\n",
       "  <thead>\n",
       "    <tr style=\"text-align: right;\">\n",
       "      <th>date_time</th>\n",
       "      <th>2021-11-11 18:00:00+00:00</th>\n",
       "      <th>2021-11-11 19:00:00+00:00</th>\n",
       "      <th>2021-11-11 20:00:00+00:00</th>\n",
       "      <th>2021-11-11 21:00:00+00:00</th>\n",
       "      <th>2021-11-11 22:00:00+00:00</th>\n",
       "    </tr>\n",
       "  </thead>\n",
       "  <tbody>\n",
       "    <tr>\n",
       "      <th>Symbol</th>\n",
       "      <td>EUR/USD</td>\n",
       "      <td>EUR/USD</td>\n",
       "      <td>EUR/USD</td>\n",
       "      <td>EUR/USD</td>\n",
       "      <td>EUR/USD</td>\n",
       "    </tr>\n",
       "    <tr>\n",
       "      <th>Open</th>\n",
       "      <td>1.145607</td>\n",
       "      <td>1.145213</td>\n",
       "      <td>1.14482</td>\n",
       "      <td>1.145082</td>\n",
       "      <td>1.144951</td>\n",
       "    </tr>\n",
       "    <tr>\n",
       "      <th>High</th>\n",
       "      <td>1.145869</td>\n",
       "      <td>1.145738</td>\n",
       "      <td>1.145607</td>\n",
       "      <td>1.145869</td>\n",
       "      <td>1.145869</td>\n",
       "    </tr>\n",
       "    <tr>\n",
       "      <th>Low</th>\n",
       "      <td>1.145082</td>\n",
       "      <td>1.14482</td>\n",
       "      <td>1.144689</td>\n",
       "      <td>1.144951</td>\n",
       "      <td>1.144951</td>\n",
       "    </tr>\n",
       "    <tr>\n",
       "      <th>Close</th>\n",
       "      <td>1.145213</td>\n",
       "      <td>1.14482</td>\n",
       "      <td>1.145082</td>\n",
       "      <td>1.145607</td>\n",
       "      <td>1.145475</td>\n",
       "    </tr>\n",
       "    <tr>\n",
       "      <th>EMA10</th>\n",
       "      <td>1.146541</td>\n",
       "      <td>1.146228</td>\n",
       "      <td>1.14602</td>\n",
       "      <td>1.145945</td>\n",
       "      <td>1.145859</td>\n",
       "    </tr>\n",
       "    <tr>\n",
       "      <th>EMA30</th>\n",
       "      <td>1.148959</td>\n",
       "      <td>1.148692</td>\n",
       "      <td>1.148459</td>\n",
       "      <td>1.148275</td>\n",
       "      <td>1.148094</td>\n",
       "    </tr>\n",
       "    <tr>\n",
       "      <th>ATR</th>\n",
       "      <td>0.001476</td>\n",
       "      <td>0.001436</td>\n",
       "      <td>0.001399</td>\n",
       "      <td>0.001364</td>\n",
       "      <td>0.001333</td>\n",
       "    </tr>\n",
       "    <tr>\n",
       "      <th>ADX</th>\n",
       "      <td>0.001476</td>\n",
       "      <td>0.001436</td>\n",
       "      <td>0.001399</td>\n",
       "      <td>0.001364</td>\n",
       "      <td>0.001333</td>\n",
       "    </tr>\n",
       "    <tr>\n",
       "      <th>RSI</th>\n",
       "      <td>30.661045</td>\n",
       "      <td>29.336856</td>\n",
       "      <td>31.461685</td>\n",
       "      <td>35.63418</td>\n",
       "      <td>35.059286</td>\n",
       "    </tr>\n",
       "    <tr>\n",
       "      <th>MACD</th>\n",
       "      <td>-0.001717</td>\n",
       "      <td>-0.001743</td>\n",
       "      <td>-0.001723</td>\n",
       "      <td>-0.001645</td>\n",
       "      <td>-0.001576</td>\n",
       "    </tr>\n",
       "    <tr>\n",
       "      <th>MACDsignal</th>\n",
       "      <td>-0.001888</td>\n",
       "      <td>-0.001859</td>\n",
       "      <td>-0.001832</td>\n",
       "      <td>-0.001795</td>\n",
       "      <td>-0.001751</td>\n",
       "    </tr>\n",
       "    <tr>\n",
       "      <th>MACDhistogram</th>\n",
       "      <td>0.000171</td>\n",
       "      <td>0.000116</td>\n",
       "      <td>0.000109</td>\n",
       "      <td>0.00015</td>\n",
       "      <td>0.000175</td>\n",
       "    </tr>\n",
       "    <tr>\n",
       "      <th>Close_Over_EMA10</th>\n",
       "      <td>-1</td>\n",
       "      <td>-1</td>\n",
       "      <td>-1</td>\n",
       "      <td>-1</td>\n",
       "      <td>-1</td>\n",
       "    </tr>\n",
       "    <tr>\n",
       "      <th>EMA10_Over_EMA30</th>\n",
       "      <td>-1</td>\n",
       "      <td>-1</td>\n",
       "      <td>-1</td>\n",
       "      <td>-1</td>\n",
       "      <td>-1</td>\n",
       "    </tr>\n",
       "    <tr>\n",
       "      <th>MACDSIG_Over_MACD</th>\n",
       "      <td>-1</td>\n",
       "      <td>-1</td>\n",
       "      <td>-1</td>\n",
       "      <td>-1</td>\n",
       "      <td>-1</td>\n",
       "    </tr>\n",
       "    <tr>\n",
       "      <th>Return</th>\n",
       "      <td>-0.000229</td>\n",
       "      <td>-0.000343</td>\n",
       "      <td>0.000229</td>\n",
       "      <td>0.000458</td>\n",
       "      <td>-0.000115</td>\n",
       "    </tr>\n",
       "    <tr>\n",
       "      <th>target_cls</th>\n",
       "      <td>0</td>\n",
       "      <td>1</td>\n",
       "      <td>1</td>\n",
       "      <td>0</td>\n",
       "      <td>0</td>\n",
       "    </tr>\n",
       "    <tr>\n",
       "      <th>target_rgs</th>\n",
       "      <td>-0.000343</td>\n",
       "      <td>0.000229</td>\n",
       "      <td>0.000458</td>\n",
       "      <td>-0.000115</td>\n",
       "      <td>NaN</td>\n",
       "    </tr>\n",
       "  </tbody>\n",
       "</table>\n",
       "</div>"
      ],
      "text/plain": [
       "date_time         2021-11-11 18:00:00+00:00 2021-11-11 19:00:00+00:00  \\\n",
       "Symbol                              EUR/USD                   EUR/USD   \n",
       "Open                               1.145607                  1.145213   \n",
       "High                               1.145869                  1.145738   \n",
       "Low                                1.145082                   1.14482   \n",
       "Close                              1.145213                   1.14482   \n",
       "EMA10                              1.146541                  1.146228   \n",
       "EMA30                              1.148959                  1.148692   \n",
       "ATR                                0.001476                  0.001436   \n",
       "ADX                                0.001476                  0.001436   \n",
       "RSI                               30.661045                 29.336856   \n",
       "MACD                              -0.001717                 -0.001743   \n",
       "MACDsignal                        -0.001888                 -0.001859   \n",
       "MACDhistogram                      0.000171                  0.000116   \n",
       "Close_Over_EMA10                         -1                        -1   \n",
       "EMA10_Over_EMA30                         -1                        -1   \n",
       "MACDSIG_Over_MACD                        -1                        -1   \n",
       "Return                            -0.000229                 -0.000343   \n",
       "target_cls                                0                         1   \n",
       "target_rgs                        -0.000343                  0.000229   \n",
       "\n",
       "date_time         2021-11-11 20:00:00+00:00 2021-11-11 21:00:00+00:00  \\\n",
       "Symbol                              EUR/USD                   EUR/USD   \n",
       "Open                                1.14482                  1.145082   \n",
       "High                               1.145607                  1.145869   \n",
       "Low                                1.144689                  1.144951   \n",
       "Close                              1.145082                  1.145607   \n",
       "EMA10                               1.14602                  1.145945   \n",
       "EMA30                              1.148459                  1.148275   \n",
       "ATR                                0.001399                  0.001364   \n",
       "ADX                                0.001399                  0.001364   \n",
       "RSI                               31.461685                  35.63418   \n",
       "MACD                              -0.001723                 -0.001645   \n",
       "MACDsignal                        -0.001832                 -0.001795   \n",
       "MACDhistogram                      0.000109                   0.00015   \n",
       "Close_Over_EMA10                         -1                        -1   \n",
       "EMA10_Over_EMA30                         -1                        -1   \n",
       "MACDSIG_Over_MACD                        -1                        -1   \n",
       "Return                             0.000229                  0.000458   \n",
       "target_cls                                1                         0   \n",
       "target_rgs                         0.000458                 -0.000115   \n",
       "\n",
       "date_time         2021-11-11 22:00:00+00:00  \n",
       "Symbol                              EUR/USD  \n",
       "Open                               1.144951  \n",
       "High                               1.145869  \n",
       "Low                                1.144951  \n",
       "Close                              1.145475  \n",
       "EMA10                              1.145859  \n",
       "EMA30                              1.148094  \n",
       "ATR                                0.001333  \n",
       "ADX                                0.001333  \n",
       "RSI                               35.059286  \n",
       "MACD                              -0.001576  \n",
       "MACDsignal                        -0.001751  \n",
       "MACDhistogram                      0.000175  \n",
       "Close_Over_EMA10                         -1  \n",
       "EMA10_Over_EMA30                         -1  \n",
       "MACDSIG_Over_MACD                        -1  \n",
       "Return                            -0.000115  \n",
       "target_cls                                0  \n",
       "target_rgs                              NaN  "
      ]
     },
     "execution_count": 34,
     "metadata": {},
     "output_type": "execute_result"
    }
   ],
   "source": [
    "data.tail().T"
   ]
  },
  {
   "cell_type": "markdown",
   "id": "1d48dda8",
   "metadata": {},
   "source": [
    "The target variable for the regression algorithm (target_rgs) uses the lagged return, this is so, because we want the algorithm to learn what happened the next period, based on the information available at the present time.\n",
    "\n",
    "The target variable for the classification algorithm (target_cls) also uses the lagged return, but because the output is categorical, we must transform it. If the return was positive, we assign 1 and if it was negative, we assign 0.\n",
    "\n"
   ]
  },
  {
   "cell_type": "markdown",
   "id": "a801956f",
   "metadata": {},
   "source": [
    "### Obtaining the data set for decision trees\n",
    "\n",
    "We have all the data ready! We have downloaded the market data, applied some technical indicators as predictor variables and defined the target variable for each type of problem, a categorical variable for the classification decision tree and a continuous variable for the regression decision tree.\n",
    "\n",
    "We are going to do a small operation to sanitize the data and prepare the data set that each algorithm will use. We must clean the data dropping the NA data, this step is crucial to compute cleanly the trees.\n",
    "\n",
    "Next, we are going to create the data set of the predictor variables, that is to say, the indicators that we have calculated, this data set is common to the two decision trees that we are going to create, a classification decision tree and a regression decision tree.\n",
    "\n",
    "We then select the target dataset for the classification decision tree."
   ]
  },
  {
   "cell_type": "code",
   "execution_count": 35,
   "id": "e45a97f0",
   "metadata": {
    "ExecuteTime": {
     "end_time": "2021-11-13T23:49:53.744372Z",
     "start_time": "2021-11-13T23:49:53.738949Z"
    }
   },
   "outputs": [],
   "source": [
    "# First dropna missing values\n",
    "data.dropna(axis=0, inplace=True)"
   ]
  },
  {
   "cell_type": "code",
   "execution_count": 36,
   "id": "e0d0dcd1",
   "metadata": {
    "ExecuteTime": {
     "end_time": "2021-11-13T23:49:53.927946Z",
     "start_time": "2021-11-13T23:49:53.921882Z"
    }
   },
   "outputs": [
    {
     "name": "stdout",
     "output_type": "stream",
     "text": [
      "<class 'pandas.core.frame.DataFrame'>\n",
      "DatetimeIndex: 12039 entries, 2019-12-03 09:00:00+00:00 to 2021-11-11 21:00:00+00:00\n",
      "Data columns (total 19 columns):\n",
      " #   Column             Non-Null Count  Dtype  \n",
      "---  ------             --------------  -----  \n",
      " 0   Symbol             12039 non-null  object \n",
      " 1   Open               12039 non-null  float64\n",
      " 2   High               12039 non-null  float64\n",
      " 3   Low                12039 non-null  float64\n",
      " 4   Close              12039 non-null  float64\n",
      " 5   EMA10              12039 non-null  float64\n",
      " 6   EMA30              12039 non-null  float64\n",
      " 7   ATR                12039 non-null  float64\n",
      " 8   ADX                12039 non-null  float64\n",
      " 9   RSI                12039 non-null  float64\n",
      " 10  MACD               12039 non-null  float64\n",
      " 11  MACDsignal         12039 non-null  float64\n",
      " 12  MACDhistogram      12039 non-null  float64\n",
      " 13  Close_Over_EMA10   12039 non-null  int64  \n",
      " 14  EMA10_Over_EMA30   12039 non-null  int64  \n",
      " 15  MACDSIG_Over_MACD  12039 non-null  int64  \n",
      " 16  Return             12039 non-null  float64\n",
      " 17  target_cls         12039 non-null  int64  \n",
      " 18  target_rgs         12039 non-null  float64\n",
      "dtypes: float64(14), int64(4), object(1)\n",
      "memory usage: 1.8+ MB\n"
     ]
    }
   ],
   "source": [
    "data.info()"
   ]
  },
  {
   "cell_type": "markdown",
   "id": "bc1b4bd1",
   "metadata": {},
   "source": [
    "#### Classification"
   ]
  },
  {
   "cell_type": "code",
   "execution_count": 37,
   "id": "b3da9192",
   "metadata": {
    "ExecuteTime": {
     "end_time": "2021-11-13T23:49:54.107297Z",
     "start_time": "2021-11-13T23:49:54.105297Z"
    }
   },
   "outputs": [],
   "source": [
    "predictors_list_clf = ['ATR', 'ADX','RSI', 'MACDsignal', 'Close_Over_EMA10', 'EMA10_Over_EMA30', 'MACDSIG_Over_MACD']"
   ]
  },
  {
   "cell_type": "code",
   "execution_count": 38,
   "id": "587a32e9",
   "metadata": {
    "ExecuteTime": {
     "end_time": "2021-11-13T23:49:54.282451Z",
     "start_time": "2021-11-13T23:49:54.280203Z"
    }
   },
   "outputs": [
    {
     "data": {
      "text/plain": [
       "Index(['Symbol', 'Open', 'High', 'Low', 'Close', 'EMA10', 'EMA30', 'ATR',\n",
       "       'ADX', 'RSI', 'MACD', 'MACDsignal', 'MACDhistogram', 'Close_Over_EMA10',\n",
       "       'EMA10_Over_EMA30', 'MACDSIG_Over_MACD', 'Return', 'target_cls',\n",
       "       'target_rgs'],\n",
       "      dtype='object')"
      ]
     },
     "execution_count": 38,
     "metadata": {},
     "output_type": "execute_result"
    }
   ],
   "source": [
    "data.columns"
   ]
  },
  {
   "cell_type": "code",
   "execution_count": 39,
   "id": "927a53be",
   "metadata": {
    "ExecuteTime": {
     "end_time": "2021-11-13T23:49:54.464597Z",
     "start_time": "2021-11-13T23:49:54.458355Z"
    }
   },
   "outputs": [
    {
     "data": {
      "text/html": [
       "<div>\n",
       "<style scoped>\n",
       "    .dataframe tbody tr th:only-of-type {\n",
       "        vertical-align: middle;\n",
       "    }\n",
       "\n",
       "    .dataframe tbody tr th {\n",
       "        vertical-align: top;\n",
       "    }\n",
       "\n",
       "    .dataframe thead th {\n",
       "        text-align: right;\n",
       "    }\n",
       "</style>\n",
       "<table border=\"1\" class=\"dataframe\">\n",
       "  <thead>\n",
       "    <tr style=\"text-align: right;\">\n",
       "      <th></th>\n",
       "      <th>ATR</th>\n",
       "      <th>ADX</th>\n",
       "      <th>RSI</th>\n",
       "      <th>MACDsignal</th>\n",
       "      <th>Close_Over_EMA10</th>\n",
       "      <th>EMA10_Over_EMA30</th>\n",
       "      <th>MACDSIG_Over_MACD</th>\n",
       "    </tr>\n",
       "    <tr>\n",
       "      <th>date_time</th>\n",
       "      <th></th>\n",
       "      <th></th>\n",
       "      <th></th>\n",
       "      <th></th>\n",
       "      <th></th>\n",
       "      <th></th>\n",
       "      <th></th>\n",
       "    </tr>\n",
       "  </thead>\n",
       "  <tbody>\n",
       "    <tr>\n",
       "      <th>2021-11-11 17:00:00+00:00</th>\n",
       "      <td>0.001529</td>\n",
       "      <td>0.001529</td>\n",
       "      <td>31.543096</td>\n",
       "      <td>-0.001931</td>\n",
       "      <td>-1</td>\n",
       "      <td>-1</td>\n",
       "      <td>-1</td>\n",
       "    </tr>\n",
       "    <tr>\n",
       "      <th>2021-11-11 18:00:00+00:00</th>\n",
       "      <td>0.001476</td>\n",
       "      <td>0.001476</td>\n",
       "      <td>30.661045</td>\n",
       "      <td>-0.001888</td>\n",
       "      <td>-1</td>\n",
       "      <td>-1</td>\n",
       "      <td>-1</td>\n",
       "    </tr>\n",
       "    <tr>\n",
       "      <th>2021-11-11 19:00:00+00:00</th>\n",
       "      <td>0.001436</td>\n",
       "      <td>0.001436</td>\n",
       "      <td>29.336856</td>\n",
       "      <td>-0.001859</td>\n",
       "      <td>-1</td>\n",
       "      <td>-1</td>\n",
       "      <td>-1</td>\n",
       "    </tr>\n",
       "    <tr>\n",
       "      <th>2021-11-11 20:00:00+00:00</th>\n",
       "      <td>0.001399</td>\n",
       "      <td>0.001399</td>\n",
       "      <td>31.461685</td>\n",
       "      <td>-0.001832</td>\n",
       "      <td>-1</td>\n",
       "      <td>-1</td>\n",
       "      <td>-1</td>\n",
       "    </tr>\n",
       "    <tr>\n",
       "      <th>2021-11-11 21:00:00+00:00</th>\n",
       "      <td>0.001364</td>\n",
       "      <td>0.001364</td>\n",
       "      <td>35.634180</td>\n",
       "      <td>-0.001795</td>\n",
       "      <td>-1</td>\n",
       "      <td>-1</td>\n",
       "      <td>-1</td>\n",
       "    </tr>\n",
       "  </tbody>\n",
       "</table>\n",
       "</div>"
      ],
      "text/plain": [
       "                                ATR       ADX        RSI  MACDsignal  \\\n",
       "date_time                                                              \n",
       "2021-11-11 17:00:00+00:00  0.001529  0.001529  31.543096   -0.001931   \n",
       "2021-11-11 18:00:00+00:00  0.001476  0.001476  30.661045   -0.001888   \n",
       "2021-11-11 19:00:00+00:00  0.001436  0.001436  29.336856   -0.001859   \n",
       "2021-11-11 20:00:00+00:00  0.001399  0.001399  31.461685   -0.001832   \n",
       "2021-11-11 21:00:00+00:00  0.001364  0.001364  35.634180   -0.001795   \n",
       "\n",
       "                           Close_Over_EMA10  EMA10_Over_EMA30  \\\n",
       "date_time                                                       \n",
       "2021-11-11 17:00:00+00:00                -1                -1   \n",
       "2021-11-11 18:00:00+00:00                -1                -1   \n",
       "2021-11-11 19:00:00+00:00                -1                -1   \n",
       "2021-11-11 20:00:00+00:00                -1                -1   \n",
       "2021-11-11 21:00:00+00:00                -1                -1   \n",
       "\n",
       "                           MACDSIG_Over_MACD  \n",
       "date_time                                     \n",
       "2021-11-11 17:00:00+00:00                 -1  \n",
       "2021-11-11 18:00:00+00:00                 -1  \n",
       "2021-11-11 19:00:00+00:00                 -1  \n",
       "2021-11-11 20:00:00+00:00                 -1  \n",
       "2021-11-11 21:00:00+00:00                 -1  "
      ]
     },
     "execution_count": 39,
     "metadata": {},
     "output_type": "execute_result"
    }
   ],
   "source": [
    "# Select predictor features\n",
    "X_cls = data[predictors_list_clf]\n",
    "X_cls.tail()"
   ]
  },
  {
   "cell_type": "code",
   "execution_count": 40,
   "id": "f4a99993",
   "metadata": {
    "ExecuteTime": {
     "end_time": "2021-11-13T23:49:54.832554Z",
     "start_time": "2021-11-13T23:49:54.826053Z"
    }
   },
   "outputs": [
    {
     "data": {
      "text/plain": [
       "date_time\n",
       "2021-11-11 17:00:00+00:00    0\n",
       "2021-11-11 18:00:00+00:00    0\n",
       "2021-11-11 19:00:00+00:00    1\n",
       "2021-11-11 20:00:00+00:00    1\n",
       "2021-11-11 21:00:00+00:00    0\n",
       "Name: target_cls, dtype: int64"
      ]
     },
     "execution_count": 40,
     "metadata": {},
     "output_type": "execute_result"
    }
   ],
   "source": [
    "# Target classification\n",
    "y_cls = data['target_cls']\n",
    "y_cls.tail()"
   ]
  },
  {
   "cell_type": "markdown",
   "id": "03e580cf",
   "metadata": {},
   "source": [
    "#### Regression"
   ]
  },
  {
   "cell_type": "code",
   "execution_count": 41,
   "id": "1add28b6",
   "metadata": {
    "ExecuteTime": {
     "end_time": "2021-11-13T23:49:55.572262Z",
     "start_time": "2021-11-13T23:49:55.567934Z"
    }
   },
   "outputs": [],
   "source": [
    "predictors_list_rgs = ['ATR', 'ADX','RSI', 'Close_Over_EMA10', 'MACDsignal', 'EMA10_Over_EMA30', 'MACDSIG_Over_MACD']"
   ]
  },
  {
   "cell_type": "code",
   "execution_count": 42,
   "id": "cd75bc25",
   "metadata": {
    "ExecuteTime": {
     "end_time": "2021-11-13T23:49:55.983993Z",
     "start_time": "2021-11-13T23:49:55.973837Z"
    }
   },
   "outputs": [],
   "source": [
    "# Two regression problems (Positive and negative returns)\n",
    "data_pos_rgs = data[data['target_rgs']>0]\n",
    "data_neg_rgs = data[data['target_rgs']<0]\n",
    "\n",
    "\n",
    "# Select predictor features\n",
    "X_pos_rgs = data_pos_rgs[predictors_list_rgs]\n",
    "X_neg_rgs = data_neg_rgs[predictors_list_rgs]\n",
    "\n",
    "# Target for the regression decision tree.\n",
    "y_pos_rgs = data_pos_rgs['target_rgs']\n",
    "y_neg_rgs = data_neg_rgs['target_rgs']"
   ]
  },
  {
   "cell_type": "markdown",
   "id": "9c4afce1",
   "metadata": {},
   "source": [
    "### Splitting the data into training and testing data sets\n",
    "The last step to finish with the preparation of the data sets is to split them into train and test data sets. This is necessary to fit the model with a set of data, usually 70% or 80% and the remainder, to test the goodness of the model. If we do not do so, we would run the risk of over-fitting the model. We want to test the model with unknown data, once the model has been fitted in order to evaluate the model accuracy.\n",
    "\n",
    "We’re going to create the train data set with the 70% of the data from predictor and target variables data sets and the remainder 30% to test the model."
   ]
  },
  {
   "cell_type": "markdown",
   "id": "c0f3745e",
   "metadata": {},
   "source": [
    "#### Classification\n",
    "\n",
    "\n",
    "For classification decision trees, we’re going to use the train_test_split function from sklearn modelselection library to split the dataset. Since the output is categorical, it is important that the training and test datasets are proportional train_test_split function has as input the predictor and target datasets and some input parameters:\n",
    "\n",
    "\n",
    "- __test_size.__ The size of the test data set, in this case, 30% of the data for the tests and, therefore, 70% for the training.\n",
    "\n",
    "- __random_state.__ Since the sampling is random, this parameter allows us to reproduce the same randomness in each execution.\n",
    "\n",
    "- __stratify.__ To ensure that the training and test sample data are proportional, we set the parameter to yes. This means that, for example, if there are more days with positive than negative return, the training and test samples will keep the same proportion."
   ]
  },
  {
   "cell_type": "code",
   "execution_count": 43,
   "id": "eece9835",
   "metadata": {
    "ExecuteTime": {
     "end_time": "2021-11-13T23:49:58.834441Z",
     "start_time": "2021-11-13T23:49:58.823742Z"
    }
   },
   "outputs": [
    {
     "name": "stdout",
     "output_type": "stream",
     "text": [
      "Train. X = (8427, 7), y = (8427,)\n",
      "Test.  X = (3612, 7), y = (3612,)\n"
     ]
    }
   ],
   "source": [
    "X_cls_train, X_cls_test, y_cls_train, y_cls_test = train_test_split(X_cls, y_cls, test_size=0.3, stratify=y_cls)\n",
    "\n",
    "print(f'Train. X = {X_cls_train.shape}, y = {y_cls_train.shape}')\n",
    "print(f'Test.  X = {X_cls_test.shape}, y = {y_cls_test.shape}')"
   ]
  },
  {
   "cell_type": "markdown",
   "id": "2f7beb27",
   "metadata": {},
   "source": [
    "Here we have:\n",
    "\n",
    "- X_cls_train. Train predictor dataset.\n",
    "- y_cls_train. Train target dataset.\n",
    "- X_cls_test. Test predictor dataset.\n",
    "- y_cls_test. Test target dataset."
   ]
  },
  {
   "cell_type": "markdown",
   "id": "500b3ab0",
   "metadata": {},
   "source": [
    "#### Regression\n",
    "\n",
    "For regression decision trees we simply split the data at the specified rate, since the output is continuous, we don’t worry about the proportionality of the output in training and test datasets."
   ]
  },
  {
   "cell_type": "code",
   "execution_count": 44,
   "id": "c08e2f6c",
   "metadata": {
    "ExecuteTime": {
     "end_time": "2021-11-13T23:49:59.647929Z",
     "start_time": "2021-11-13T23:49:59.641479Z"
    }
   },
   "outputs": [],
   "source": [
    "def train_test_split_rgs(X, y, test_size):\n",
    "    \"\"\"\n",
    "    Train test split function for regression datasets.\n",
    "    \"\"\"\n",
    "    \n",
    "    train_length = int(X.shape[0]*(1-test_size))\n",
    "    \n",
    "    X_rgs_train = X.iloc[:train_length]\n",
    "    X_rgs_test = X.iloc[train_length:]\n",
    "    y_rgs_train = y.iloc[:train_length]\n",
    "    y_rgs_test = y.iloc[train_length:]\n",
    "    \n",
    "    print('Train')\n",
    "    print(f'Shape. X = {X_rgs_train.shape}, y = {y_rgs_train.shape}')\n",
    "    print(f'From {X_rgs_train.index.min()} to {X_rgs_train.index.max()}', end=2*'\\n')\n",
    "    \n",
    "    print('Test')\n",
    "    print(f'Shape. X = {X_rgs_test.shape}, y = {y_rgs_test.shape}')    \n",
    "    print(f'From {X_rgs_test.index.min()} to {X_rgs_test.index.max()}')\n",
    "    \n",
    "    return X_rgs_train, X_rgs_test, y_rgs_train, y_rgs_test"
   ]
  },
  {
   "cell_type": "code",
   "execution_count": 45,
   "id": "463dd16c",
   "metadata": {
    "ExecuteTime": {
     "end_time": "2021-11-13T23:49:59.978920Z",
     "start_time": "2021-11-13T23:49:59.976242Z"
    }
   },
   "outputs": [
    {
     "name": "stdout",
     "output_type": "stream",
     "text": [
      "Train\n",
      "Shape. X = (3909, 7), y = (3909,)\n",
      "From 2019-12-03 11:00:00+00:00 to 2021-04-06 15:00:00+01:00\n",
      "\n",
      "Test\n",
      "Shape. X = (1676, 7), y = (1676,)\n",
      "From 2021-04-06 16:00:00+01:00 to 2021-11-11 20:00:00+00:00\n"
     ]
    }
   ],
   "source": [
    "# Positive returns regression.\n",
    "X_pos_rgs_train, X_pos_rgs_test, y_pos_rgs_train, y_pos_rgs_test = train_test_split_rgs(X=X_pos_rgs, y=y_pos_rgs, test_size=0.3)\n"
   ]
  },
  {
   "cell_type": "code",
   "execution_count": 46,
   "id": "add7e587",
   "metadata": {
    "ExecuteTime": {
     "end_time": "2021-11-13T23:50:00.298803Z",
     "start_time": "2021-11-13T23:50:00.296461Z"
    }
   },
   "outputs": [
    {
     "name": "stdout",
     "output_type": "stream",
     "text": [
      "Train\n",
      "Shape. X = (3780, 7), y = (3780,)\n",
      "From 2019-12-03 09:00:00+00:00 to 2021-04-16 21:00:00+01:00\n",
      "\n",
      "Test\n",
      "Shape. X = (1621, 7), y = (1621,)\n",
      "From 2021-04-16 22:00:00+01:00 to 2021-11-11 21:00:00+00:00\n"
     ]
    }
   ],
   "source": [
    "# Negative returns regression.\n",
    "X_neg_rgs_train, X_neg_rgs_test, y_neg_rgs_train, y_neg_rgs_test = train_test_split_rgs(X=X_neg_rgs, y=y_neg_rgs, test_size=0.3)\n"
   ]
  },
  {
   "cell_type": "markdown",
   "id": "9e5bf87a",
   "metadata": {},
   "source": [
    "### Decision Trees for Classification\n",
    "\n",
    "\n",
    "Now let’s create the classification decision tree using the DecisionTreeClassifier function from the sklearn.tree library.\n",
    "\n",
    "Although the DecisionTreeClassifier function has many parameters that I invite you to know and experiment with (help(DecisionTreeClassifier)), here we will see the basics to create the classification decision tree."
   ]
  },
  {
   "cell_type": "code",
   "execution_count": 47,
   "id": "52ad50ac",
   "metadata": {
    "ExecuteTime": {
     "end_time": "2021-11-13T23:50:00.903123Z",
     "start_time": "2021-11-13T23:50:00.890600Z"
    }
   },
   "outputs": [
    {
     "name": "stdout",
     "output_type": "stream",
     "text": [
      "Help on class DecisionTreeClassifier in module sklearn.tree._classes:\n",
      "\n",
      "class DecisionTreeClassifier(sklearn.base.ClassifierMixin, BaseDecisionTree)\n",
      " |  DecisionTreeClassifier(*, criterion='gini', splitter='best', max_depth=None, min_samples_split=2, min_samples_leaf=1, min_weight_fraction_leaf=0.0, max_features=None, random_state=None, max_leaf_nodes=None, min_impurity_decrease=0.0, class_weight=None, ccp_alpha=0.0)\n",
      " |  \n",
      " |  A decision tree classifier.\n",
      " |  \n",
      " |  Read more in the :ref:`User Guide <tree>`.\n",
      " |  \n",
      " |  Parameters\n",
      " |  ----------\n",
      " |  criterion : {\"gini\", \"entropy\"}, default=\"gini\"\n",
      " |      The function to measure the quality of a split. Supported criteria are\n",
      " |      \"gini\" for the Gini impurity and \"entropy\" for the information gain.\n",
      " |  \n",
      " |  splitter : {\"best\", \"random\"}, default=\"best\"\n",
      " |      The strategy used to choose the split at each node. Supported\n",
      " |      strategies are \"best\" to choose the best split and \"random\" to choose\n",
      " |      the best random split.\n",
      " |  \n",
      " |  max_depth : int, default=None\n",
      " |      The maximum depth of the tree. If None, then nodes are expanded until\n",
      " |      all leaves are pure or until all leaves contain less than\n",
      " |      min_samples_split samples.\n",
      " |  \n",
      " |  min_samples_split : int or float, default=2\n",
      " |      The minimum number of samples required to split an internal node:\n",
      " |  \n",
      " |      - If int, then consider `min_samples_split` as the minimum number.\n",
      " |      - If float, then `min_samples_split` is a fraction and\n",
      " |        `ceil(min_samples_split * n_samples)` are the minimum\n",
      " |        number of samples for each split.\n",
      " |  \n",
      " |      .. versionchanged:: 0.18\n",
      " |         Added float values for fractions.\n",
      " |  \n",
      " |  min_samples_leaf : int or float, default=1\n",
      " |      The minimum number of samples required to be at a leaf node.\n",
      " |      A split point at any depth will only be considered if it leaves at\n",
      " |      least ``min_samples_leaf`` training samples in each of the left and\n",
      " |      right branches.  This may have the effect of smoothing the model,\n",
      " |      especially in regression.\n",
      " |  \n",
      " |      - If int, then consider `min_samples_leaf` as the minimum number.\n",
      " |      - If float, then `min_samples_leaf` is a fraction and\n",
      " |        `ceil(min_samples_leaf * n_samples)` are the minimum\n",
      " |        number of samples for each node.\n",
      " |  \n",
      " |      .. versionchanged:: 0.18\n",
      " |         Added float values for fractions.\n",
      " |  \n",
      " |  min_weight_fraction_leaf : float, default=0.0\n",
      " |      The minimum weighted fraction of the sum total of weights (of all\n",
      " |      the input samples) required to be at a leaf node. Samples have\n",
      " |      equal weight when sample_weight is not provided.\n",
      " |  \n",
      " |  max_features : int, float or {\"auto\", \"sqrt\", \"log2\"}, default=None\n",
      " |      The number of features to consider when looking for the best split:\n",
      " |  \n",
      " |          - If int, then consider `max_features` features at each split.\n",
      " |          - If float, then `max_features` is a fraction and\n",
      " |            `int(max_features * n_features)` features are considered at each\n",
      " |            split.\n",
      " |          - If \"auto\", then `max_features=sqrt(n_features)`.\n",
      " |          - If \"sqrt\", then `max_features=sqrt(n_features)`.\n",
      " |          - If \"log2\", then `max_features=log2(n_features)`.\n",
      " |          - If None, then `max_features=n_features`.\n",
      " |  \n",
      " |      Note: the search for a split does not stop until at least one\n",
      " |      valid partition of the node samples is found, even if it requires to\n",
      " |      effectively inspect more than ``max_features`` features.\n",
      " |  \n",
      " |  random_state : int, RandomState instance or None, default=None\n",
      " |      Controls the randomness of the estimator. The features are always\n",
      " |      randomly permuted at each split, even if ``splitter`` is set to\n",
      " |      ``\"best\"``. When ``max_features < n_features``, the algorithm will\n",
      " |      select ``max_features`` at random at each split before finding the best\n",
      " |      split among them. But the best found split may vary across different\n",
      " |      runs, even if ``max_features=n_features``. That is the case, if the\n",
      " |      improvement of the criterion is identical for several splits and one\n",
      " |      split has to be selected at random. To obtain a deterministic behaviour\n",
      " |      during fitting, ``random_state`` has to be fixed to an integer.\n",
      " |      See :term:`Glossary <random_state>` for details.\n",
      " |  \n",
      " |  max_leaf_nodes : int, default=None\n",
      " |      Grow a tree with ``max_leaf_nodes`` in best-first fashion.\n",
      " |      Best nodes are defined as relative reduction in impurity.\n",
      " |      If None then unlimited number of leaf nodes.\n",
      " |  \n",
      " |  min_impurity_decrease : float, default=0.0\n",
      " |      A node will be split if this split induces a decrease of the impurity\n",
      " |      greater than or equal to this value.\n",
      " |  \n",
      " |      The weighted impurity decrease equation is the following::\n",
      " |  \n",
      " |          N_t / N * (impurity - N_t_R / N_t * right_impurity\n",
      " |                              - N_t_L / N_t * left_impurity)\n",
      " |  \n",
      " |      where ``N`` is the total number of samples, ``N_t`` is the number of\n",
      " |      samples at the current node, ``N_t_L`` is the number of samples in the\n",
      " |      left child, and ``N_t_R`` is the number of samples in the right child.\n",
      " |  \n",
      " |      ``N``, ``N_t``, ``N_t_R`` and ``N_t_L`` all refer to the weighted sum,\n",
      " |      if ``sample_weight`` is passed.\n",
      " |  \n",
      " |      .. versionadded:: 0.19\n",
      " |  \n",
      " |  class_weight : dict, list of dict or \"balanced\", default=None\n",
      " |      Weights associated with classes in the form ``{class_label: weight}``.\n",
      " |      If None, all classes are supposed to have weight one. For\n",
      " |      multi-output problems, a list of dicts can be provided in the same\n",
      " |      order as the columns of y.\n",
      " |  \n",
      " |      Note that for multioutput (including multilabel) weights should be\n",
      " |      defined for each class of every column in its own dict. For example,\n",
      " |      for four-class multilabel classification weights should be\n",
      " |      [{0: 1, 1: 1}, {0: 1, 1: 5}, {0: 1, 1: 1}, {0: 1, 1: 1}] instead of\n",
      " |      [{1:1}, {2:5}, {3:1}, {4:1}].\n",
      " |  \n",
      " |      The \"balanced\" mode uses the values of y to automatically adjust\n",
      " |      weights inversely proportional to class frequencies in the input data\n",
      " |      as ``n_samples / (n_classes * np.bincount(y))``\n",
      " |  \n",
      " |      For multi-output, the weights of each column of y will be multiplied.\n",
      " |  \n",
      " |      Note that these weights will be multiplied with sample_weight (passed\n",
      " |      through the fit method) if sample_weight is specified.\n",
      " |  \n",
      " |  ccp_alpha : non-negative float, default=0.0\n",
      " |      Complexity parameter used for Minimal Cost-Complexity Pruning. The\n",
      " |      subtree with the largest cost complexity that is smaller than\n",
      " |      ``ccp_alpha`` will be chosen. By default, no pruning is performed. See\n",
      " |      :ref:`minimal_cost_complexity_pruning` for details.\n",
      " |  \n",
      " |      .. versionadded:: 0.22\n",
      " |  \n",
      " |  Attributes\n",
      " |  ----------\n",
      " |  classes_ : ndarray of shape (n_classes,) or list of ndarray\n",
      " |      The classes labels (single output problem),\n",
      " |      or a list of arrays of class labels (multi-output problem).\n",
      " |  \n",
      " |  feature_importances_ : ndarray of shape (n_features,)\n",
      " |      The impurity-based feature importances.\n",
      " |      The higher, the more important the feature.\n",
      " |      The importance of a feature is computed as the (normalized)\n",
      " |      total reduction of the criterion brought by that feature.  It is also\n",
      " |      known as the Gini importance [4]_.\n",
      " |  \n",
      " |      Warning: impurity-based feature importances can be misleading for\n",
      " |      high cardinality features (many unique values). See\n",
      " |      :func:`sklearn.inspection.permutation_importance` as an alternative.\n",
      " |  \n",
      " |  max_features_ : int\n",
      " |      The inferred value of max_features.\n",
      " |  \n",
      " |  n_classes_ : int or list of int\n",
      " |      The number of classes (for single output problems),\n",
      " |      or a list containing the number of classes for each\n",
      " |      output (for multi-output problems).\n",
      " |  \n",
      " |  n_features_ : int\n",
      " |      The number of features when ``fit`` is performed.\n",
      " |  \n",
      " |      .. deprecated:: 1.0\n",
      " |         `n_features_` is deprecated in 1.0 and will be removed in\n",
      " |         1.2. Use `n_features_in_` instead.\n",
      " |  \n",
      " |  n_features_in_ : int\n",
      " |      Number of features seen during :term:`fit`.\n",
      " |  \n",
      " |      .. versionadded:: 0.24\n",
      " |  \n",
      " |  feature_names_in_ : ndarray of shape (`n_features_in_`,)\n",
      " |      Names of features seen during :term:`fit`. Defined only when `X`\n",
      " |      has feature names that are all strings.\n",
      " |  \n",
      " |      .. versionadded:: 1.0\n",
      " |  \n",
      " |  n_outputs_ : int\n",
      " |      The number of outputs when ``fit`` is performed.\n",
      " |  \n",
      " |  tree_ : Tree instance\n",
      " |      The underlying Tree object. Please refer to\n",
      " |      ``help(sklearn.tree._tree.Tree)`` for attributes of Tree object and\n",
      " |      :ref:`sphx_glr_auto_examples_tree_plot_unveil_tree_structure.py`\n",
      " |      for basic usage of these attributes.\n",
      " |  \n",
      " |  See Also\n",
      " |  --------\n",
      " |  DecisionTreeRegressor : A decision tree regressor.\n",
      " |  \n",
      " |  Notes\n",
      " |  -----\n",
      " |  The default values for the parameters controlling the size of the trees\n",
      " |  (e.g. ``max_depth``, ``min_samples_leaf``, etc.) lead to fully grown and\n",
      " |  unpruned trees which can potentially be very large on some data sets. To\n",
      " |  reduce memory consumption, the complexity and size of the trees should be\n",
      " |  controlled by setting those parameter values.\n",
      " |  \n",
      " |  The :meth:`predict` method operates using the :func:`numpy.argmax`\n",
      " |  function on the outputs of :meth:`predict_proba`. This means that in\n",
      " |  case the highest predicted probabilities are tied, the classifier will\n",
      " |  predict the tied class with the lowest index in :term:`classes_`.\n",
      " |  \n",
      " |  References\n",
      " |  ----------\n",
      " |  \n",
      " |  .. [1] https://en.wikipedia.org/wiki/Decision_tree_learning\n",
      " |  \n",
      " |  .. [2] L. Breiman, J. Friedman, R. Olshen, and C. Stone, \"Classification\n",
      " |         and Regression Trees\", Wadsworth, Belmont, CA, 1984.\n",
      " |  \n",
      " |  .. [3] T. Hastie, R. Tibshirani and J. Friedman. \"Elements of Statistical\n",
      " |         Learning\", Springer, 2009.\n",
      " |  \n",
      " |  .. [4] L. Breiman, and A. Cutler, \"Random Forests\",\n",
      " |         https://www.stat.berkeley.edu/~breiman/RandomForests/cc_home.htm\n",
      " |  \n",
      " |  Examples\n",
      " |  --------\n",
      " |  >>> from sklearn.datasets import load_iris\n",
      " |  >>> from sklearn.model_selection import cross_val_score\n",
      " |  >>> from sklearn.tree import DecisionTreeClassifier\n",
      " |  >>> clf = DecisionTreeClassifier(random_state=0)\n",
      " |  >>> iris = load_iris()\n",
      " |  >>> cross_val_score(clf, iris.data, iris.target, cv=10)\n",
      " |  ...                             # doctest: +SKIP\n",
      " |  ...\n",
      " |  array([ 1.     ,  0.93...,  0.86...,  0.93...,  0.93...,\n",
      " |          0.93...,  0.93...,  1.     ,  0.93...,  1.      ])\n",
      " |  \n",
      " |  Method resolution order:\n",
      " |      DecisionTreeClassifier\n",
      " |      sklearn.base.ClassifierMixin\n",
      " |      BaseDecisionTree\n",
      " |      sklearn.base.MultiOutputMixin\n",
      " |      sklearn.base.BaseEstimator\n",
      " |      builtins.object\n",
      " |  \n",
      " |  Methods defined here:\n",
      " |  \n",
      " |  __init__(self, *, criterion='gini', splitter='best', max_depth=None, min_samples_split=2, min_samples_leaf=1, min_weight_fraction_leaf=0.0, max_features=None, random_state=None, max_leaf_nodes=None, min_impurity_decrease=0.0, class_weight=None, ccp_alpha=0.0)\n",
      " |      Initialize self.  See help(type(self)) for accurate signature.\n",
      " |  \n",
      " |  fit(self, X, y, sample_weight=None, check_input=True, X_idx_sorted='deprecated')\n",
      " |      Build a decision tree classifier from the training set (X, y).\n",
      " |      \n",
      " |      Parameters\n",
      " |      ----------\n",
      " |      X : {array-like, sparse matrix} of shape (n_samples, n_features)\n",
      " |          The training input samples. Internally, it will be converted to\n",
      " |          ``dtype=np.float32`` and if a sparse matrix is provided\n",
      " |          to a sparse ``csc_matrix``.\n",
      " |      \n",
      " |      y : array-like of shape (n_samples,) or (n_samples, n_outputs)\n",
      " |          The target values (class labels) as integers or strings.\n",
      " |      \n",
      " |      sample_weight : array-like of shape (n_samples,), default=None\n",
      " |          Sample weights. If None, then samples are equally weighted. Splits\n",
      " |          that would create child nodes with net zero or negative weight are\n",
      " |          ignored while searching for a split in each node. Splits are also\n",
      " |          ignored if they would result in any single class carrying a\n",
      " |          negative weight in either child node.\n",
      " |      \n",
      " |      check_input : bool, default=True\n",
      " |          Allow to bypass several input checking.\n",
      " |          Don't use this parameter unless you know what you do.\n",
      " |      \n",
      " |      X_idx_sorted : deprecated, default=\"deprecated\"\n",
      " |          This parameter is deprecated and has no effect.\n",
      " |          It will be removed in 1.1 (renaming of 0.26).\n",
      " |      \n",
      " |          .. deprecated:: 0.24\n",
      " |      \n",
      " |      Returns\n",
      " |      -------\n",
      " |      self : DecisionTreeClassifier\n",
      " |          Fitted estimator.\n",
      " |  \n",
      " |  predict_log_proba(self, X)\n",
      " |      Predict class log-probabilities of the input samples X.\n",
      " |      \n",
      " |      Parameters\n",
      " |      ----------\n",
      " |      X : {array-like, sparse matrix} of shape (n_samples, n_features)\n",
      " |          The input samples. Internally, it will be converted to\n",
      " |          ``dtype=np.float32`` and if a sparse matrix is provided\n",
      " |          to a sparse ``csr_matrix``.\n",
      " |      \n",
      " |      Returns\n",
      " |      -------\n",
      " |      proba : ndarray of shape (n_samples, n_classes) or list of n_outputs             such arrays if n_outputs > 1\n",
      " |          The class log-probabilities of the input samples. The order of the\n",
      " |          classes corresponds to that in the attribute :term:`classes_`.\n",
      " |  \n",
      " |  predict_proba(self, X, check_input=True)\n",
      " |      Predict class probabilities of the input samples X.\n",
      " |      \n",
      " |      The predicted class probability is the fraction of samples of the same\n",
      " |      class in a leaf.\n",
      " |      \n",
      " |      Parameters\n",
      " |      ----------\n",
      " |      X : {array-like, sparse matrix} of shape (n_samples, n_features)\n",
      " |          The input samples. Internally, it will be converted to\n",
      " |          ``dtype=np.float32`` and if a sparse matrix is provided\n",
      " |          to a sparse ``csr_matrix``.\n",
      " |      \n",
      " |      check_input : bool, default=True\n",
      " |          Allow to bypass several input checking.\n",
      " |          Don't use this parameter unless you know what you do.\n",
      " |      \n",
      " |      Returns\n",
      " |      -------\n",
      " |      proba : ndarray of shape (n_samples, n_classes) or list of n_outputs             such arrays if n_outputs > 1\n",
      " |          The class probabilities of the input samples. The order of the\n",
      " |          classes corresponds to that in the attribute :term:`classes_`.\n",
      " |  \n",
      " |  ----------------------------------------------------------------------\n",
      " |  Readonly properties defined here:\n",
      " |  \n",
      " |  n_features_\n",
      " |      DEPRECATED: The attribute `n_features_` is deprecated in 1.0 and will be removed in 1.2. Use `n_features_in_` instead.\n",
      " |  \n",
      " |  ----------------------------------------------------------------------\n",
      " |  Data and other attributes defined here:\n",
      " |  \n",
      " |  __abstractmethods__ = frozenset()\n",
      " |  \n",
      " |  ----------------------------------------------------------------------\n",
      " |  Methods inherited from sklearn.base.ClassifierMixin:\n",
      " |  \n",
      " |  score(self, X, y, sample_weight=None)\n",
      " |      Return the mean accuracy on the given test data and labels.\n",
      " |      \n",
      " |      In multi-label classification, this is the subset accuracy\n",
      " |      which is a harsh metric since you require for each sample that\n",
      " |      each label set be correctly predicted.\n",
      " |      \n",
      " |      Parameters\n",
      " |      ----------\n",
      " |      X : array-like of shape (n_samples, n_features)\n",
      " |          Test samples.\n",
      " |      \n",
      " |      y : array-like of shape (n_samples,) or (n_samples, n_outputs)\n",
      " |          True labels for `X`.\n",
      " |      \n",
      " |      sample_weight : array-like of shape (n_samples,), default=None\n",
      " |          Sample weights.\n",
      " |      \n",
      " |      Returns\n",
      " |      -------\n",
      " |      score : float\n",
      " |          Mean accuracy of ``self.predict(X)`` wrt. `y`.\n",
      " |  \n",
      " |  ----------------------------------------------------------------------\n",
      " |  Data descriptors inherited from sklearn.base.ClassifierMixin:\n",
      " |  \n",
      " |  __dict__\n",
      " |      dictionary for instance variables (if defined)\n",
      " |  \n",
      " |  __weakref__\n",
      " |      list of weak references to the object (if defined)\n",
      " |  \n",
      " |  ----------------------------------------------------------------------\n",
      " |  Methods inherited from BaseDecisionTree:\n",
      " |  \n",
      " |  apply(self, X, check_input=True)\n",
      " |      Return the index of the leaf that each sample is predicted as.\n",
      " |      \n",
      " |      .. versionadded:: 0.17\n",
      " |      \n",
      " |      Parameters\n",
      " |      ----------\n",
      " |      X : {array-like, sparse matrix} of shape (n_samples, n_features)\n",
      " |          The input samples. Internally, it will be converted to\n",
      " |          ``dtype=np.float32`` and if a sparse matrix is provided\n",
      " |          to a sparse ``csr_matrix``.\n",
      " |      \n",
      " |      check_input : bool, default=True\n",
      " |          Allow to bypass several input checking.\n",
      " |          Don't use this parameter unless you know what you do.\n",
      " |      \n",
      " |      Returns\n",
      " |      -------\n",
      " |      X_leaves : array-like of shape (n_samples,)\n",
      " |          For each datapoint x in X, return the index of the leaf x\n",
      " |          ends up in. Leaves are numbered within\n",
      " |          ``[0; self.tree_.node_count)``, possibly with gaps in the\n",
      " |          numbering.\n",
      " |  \n",
      " |  cost_complexity_pruning_path(self, X, y, sample_weight=None)\n",
      " |      Compute the pruning path during Minimal Cost-Complexity Pruning.\n",
      " |      \n",
      " |      See :ref:`minimal_cost_complexity_pruning` for details on the pruning\n",
      " |      process.\n",
      " |      \n",
      " |      Parameters\n",
      " |      ----------\n",
      " |      X : {array-like, sparse matrix} of shape (n_samples, n_features)\n",
      " |          The training input samples. Internally, it will be converted to\n",
      " |          ``dtype=np.float32`` and if a sparse matrix is provided\n",
      " |          to a sparse ``csc_matrix``.\n",
      " |      \n",
      " |      y : array-like of shape (n_samples,) or (n_samples, n_outputs)\n",
      " |          The target values (class labels) as integers or strings.\n",
      " |      \n",
      " |      sample_weight : array-like of shape (n_samples,), default=None\n",
      " |          Sample weights. If None, then samples are equally weighted. Splits\n",
      " |          that would create child nodes with net zero or negative weight are\n",
      " |          ignored while searching for a split in each node. Splits are also\n",
      " |          ignored if they would result in any single class carrying a\n",
      " |          negative weight in either child node.\n",
      " |      \n",
      " |      Returns\n",
      " |      -------\n",
      " |      ccp_path : :class:`~sklearn.utils.Bunch`\n",
      " |          Dictionary-like object, with the following attributes.\n",
      " |      \n",
      " |          ccp_alphas : ndarray\n",
      " |              Effective alphas of subtree during pruning.\n",
      " |      \n",
      " |          impurities : ndarray\n",
      " |              Sum of the impurities of the subtree leaves for the\n",
      " |              corresponding alpha value in ``ccp_alphas``.\n",
      " |  \n",
      " |  decision_path(self, X, check_input=True)\n",
      " |      Return the decision path in the tree.\n",
      " |      \n",
      " |      .. versionadded:: 0.18\n",
      " |      \n",
      " |      Parameters\n",
      " |      ----------\n",
      " |      X : {array-like, sparse matrix} of shape (n_samples, n_features)\n",
      " |          The input samples. Internally, it will be converted to\n",
      " |          ``dtype=np.float32`` and if a sparse matrix is provided\n",
      " |          to a sparse ``csr_matrix``.\n",
      " |      \n",
      " |      check_input : bool, default=True\n",
      " |          Allow to bypass several input checking.\n",
      " |          Don't use this parameter unless you know what you do.\n",
      " |      \n",
      " |      Returns\n",
      " |      -------\n",
      " |      indicator : sparse matrix of shape (n_samples, n_nodes)\n",
      " |          Return a node indicator CSR matrix where non zero elements\n",
      " |          indicates that the samples goes through the nodes.\n",
      " |  \n",
      " |  get_depth(self)\n",
      " |      Return the depth of the decision tree.\n",
      " |      \n",
      " |      The depth of a tree is the maximum distance between the root\n",
      " |      and any leaf.\n",
      " |      \n",
      " |      Returns\n",
      " |      -------\n",
      " |      self.tree_.max_depth : int\n",
      " |          The maximum depth of the tree.\n",
      " |  \n",
      " |  get_n_leaves(self)\n",
      " |      Return the number of leaves of the decision tree.\n",
      " |      \n",
      " |      Returns\n",
      " |      -------\n",
      " |      self.tree_.n_leaves : int\n",
      " |          Number of leaves.\n",
      " |  \n",
      " |  predict(self, X, check_input=True)\n",
      " |      Predict class or regression value for X.\n",
      " |      \n",
      " |      For a classification model, the predicted class for each sample in X is\n",
      " |      returned. For a regression model, the predicted value based on X is\n",
      " |      returned.\n",
      " |      \n",
      " |      Parameters\n",
      " |      ----------\n",
      " |      X : {array-like, sparse matrix} of shape (n_samples, n_features)\n",
      " |          The input samples. Internally, it will be converted to\n",
      " |          ``dtype=np.float32`` and if a sparse matrix is provided\n",
      " |          to a sparse ``csr_matrix``.\n",
      " |      \n",
      " |      check_input : bool, default=True\n",
      " |          Allow to bypass several input checking.\n",
      " |          Don't use this parameter unless you know what you do.\n",
      " |      \n",
      " |      Returns\n",
      " |      -------\n",
      " |      y : array-like of shape (n_samples,) or (n_samples, n_outputs)\n",
      " |          The predicted classes, or the predict values.\n",
      " |  \n",
      " |  ----------------------------------------------------------------------\n",
      " |  Readonly properties inherited from BaseDecisionTree:\n",
      " |  \n",
      " |  feature_importances_\n",
      " |      Return the feature importances.\n",
      " |      \n",
      " |      The importance of a feature is computed as the (normalized) total\n",
      " |      reduction of the criterion brought by that feature.\n",
      " |      It is also known as the Gini importance.\n",
      " |      \n",
      " |      Warning: impurity-based feature importances can be misleading for\n",
      " |      high cardinality features (many unique values). See\n",
      " |      :func:`sklearn.inspection.permutation_importance` as an alternative.\n",
      " |      \n",
      " |      Returns\n",
      " |      -------\n",
      " |      feature_importances_ : ndarray of shape (n_features,)\n",
      " |          Normalized total reduction of criteria by feature\n",
      " |          (Gini importance).\n",
      " |  \n",
      " |  ----------------------------------------------------------------------\n",
      " |  Methods inherited from sklearn.base.BaseEstimator:\n",
      " |  \n",
      " |  __getstate__(self)\n",
      " |  \n",
      " |  __repr__(self, N_CHAR_MAX=700)\n",
      " |      Return repr(self).\n",
      " |  \n",
      " |  __setstate__(self, state)\n",
      " |  \n",
      " |  get_params(self, deep=True)\n",
      " |      Get parameters for this estimator.\n",
      " |      \n",
      " |      Parameters\n",
      " |      ----------\n",
      " |      deep : bool, default=True\n",
      " |          If True, will return the parameters for this estimator and\n",
      " |          contained subobjects that are estimators.\n",
      " |      \n",
      " |      Returns\n",
      " |      -------\n",
      " |      params : dict\n",
      " |          Parameter names mapped to their values.\n",
      " |  \n",
      " |  set_params(self, **params)\n",
      " |      Set the parameters of this estimator.\n",
      " |      \n",
      " |      The method works on simple estimators as well as on nested objects\n",
      " |      (such as :class:`~sklearn.pipeline.Pipeline`). The latter have\n",
      " |      parameters of the form ``<component>__<parameter>`` so that it's\n",
      " |      possible to update each component of a nested object.\n",
      " |      \n",
      " |      Parameters\n",
      " |      ----------\n",
      " |      **params : dict\n",
      " |          Estimator parameters.\n",
      " |      \n",
      " |      Returns\n",
      " |      -------\n",
      " |      self : estimator instance\n",
      " |          Estimator instance.\n",
      "\n"
     ]
    }
   ],
   "source": [
    "help(tree.DecisionTreeClassifier)"
   ]
  },
  {
   "cell_type": "markdown",
   "id": "826add34",
   "metadata": {},
   "source": [
    "Basically refer to the parameters with which the algorithm must build the tree, because it follows a recursive approach to build the tree, we must set some limits to create it.\n",
    "\n",
    "- __criterion.__ For the classification decision trees we can choose Gini or Entropy and Information Gain, these criteria refer to the loss function to evaluate the performance of a learning machine algorithm and are the most used for the classification algorithms, although it is beyond the scope of this post, basically serves us to adjust the accuracy of the model, also the algorithm to build the tree, stops evaluating the branches in which no improvement is obtained according to the loss function.\n",
    "\n",
    "- __max_depth.__ Maximum number of levels the tree will have.\n",
    "\n",
    "- __min_samples_leaf.__ This parameter is optimizable and indicates the minimum number of samples that we want to have in leaves."
   ]
  },
  {
   "cell_type": "code",
   "execution_count": 48,
   "id": "362df8c4",
   "metadata": {
    "ExecuteTime": {
     "end_time": "2021-11-13T23:50:01.475451Z",
     "start_time": "2021-11-13T23:50:01.443381Z"
    }
   },
   "outputs": [
    {
     "name": "stdout",
     "output_type": "stream",
     "text": [
      "DecisionTreeClassifier(max_depth=3, min_samples_leaf=6, random_state=42)\n"
     ]
    },
    {
     "data": {
      "text/plain": [
       "DecisionTreeClassifier(max_depth=3, min_samples_leaf=6, random_state=42)"
      ]
     },
     "execution_count": 48,
     "metadata": {},
     "output_type": "execute_result"
    }
   ],
   "source": [
    "# Decision tree (dt) model for the classification problem (clf)\n",
    "model_dt_clf = tree.DecisionTreeClassifier(criterion='gini', max_depth=3, min_samples_leaf=6, random_state=42)\n",
    "print(model_dt_clf)\n",
    "\n",
    "# Train datasets\n",
    "model_dt_clf.fit(X_cls_train, y_cls_train)\n"
   ]
  },
  {
   "cell_type": "markdown",
   "id": "ed2036ae",
   "metadata": {},
   "source": [
    "Now we need to make forecasts with the model on unknown data, for this we will use 30% of the data that we had left reserved for testing and, finally, evaluate the performance of the model. But first, let’s take a graphical look at the classification decision tree that the ML algorithm has automatically created for us."
   ]
  },
  {
   "cell_type": "code",
   "execution_count": 62,
   "id": "7f053e7f",
   "metadata": {
    "ExecuteTime": {
     "end_time": "2021-11-13T23:54:03.310568Z",
     "start_time": "2021-11-13T23:54:03.295160Z"
    }
   },
   "outputs": [
    {
     "name": "stdout",
     "output_type": "stream",
     "text": [
      "Model test accuracy score with criterion gini index: 0.5346\n",
      "Model train accuracy score with criterion gini index: 0.5376\n"
     ]
    }
   ],
   "source": [
    "y_cls_pred = model_dt_clf.predict(X_cls_test)\n",
    "y_cls_pred_train = model_dt_clf.predict(X_cls_train)\n",
    "\n",
    "# Check accuracy score with criterion gini index\n",
    "print('Model test accuracy score with criterion gini index: {:.4f}'.format(accuracy_score(y_true=y_cls_test, y_pred=y_cls_pred)))\n",
    "print('Model train accuracy score with criterion gini index: {:.4f}'.format(accuracy_score(y_true=y_cls_train, y_pred=y_cls_pred_train)))\n",
    "\n"
   ]
  },
  {
   "cell_type": "markdown",
   "id": "d1c92cd4",
   "metadata": {},
   "source": [
    "#### Visualize Decision Trees for Classification\n",
    "\n",
    "We have at our disposal a very powerful tool that will help us to analyze graphically the tree that the ML algorithm has created automatically. The graph showed the most significant nodes that maximize the output and will help us determine, if applicable, some useful trading rules.\n",
    "\n",
    "The graphviz library allows us to graph the tree that the DecisionTreeClassifier function has automatically created with the training data."
   ]
  },
  {
   "cell_type": "code",
   "execution_count": 50,
   "id": "20ad5515",
   "metadata": {
    "ExecuteTime": {
     "end_time": "2021-11-13T23:50:03.161892Z",
     "start_time": "2021-11-13T23:50:02.671942Z"
    }
   },
   "outputs": [
    {
     "data": {
      "image/svg+xml": [
       "<?xml version=\"1.0\" encoding=\"UTF-8\" standalone=\"no\"?>\n",
       "<!DOCTYPE svg PUBLIC \"-//W3C//DTD SVG 1.1//EN\"\n",
       " \"http://www.w3.org/Graphics/SVG/1.1/DTD/svg11.dtd\">\n",
       "<!-- Generated by graphviz version 2.49.3 (0)\n",
       " -->\n",
       "<!-- Title: Tree Pages: 1 -->\n",
       "<svg width=\"1110pt\" height=\"373pt\"\n",
       " viewBox=\"0.00 0.00 1109.50 373.00\" xmlns=\"http://www.w3.org/2000/svg\" xmlns:xlink=\"http://www.w3.org/1999/xlink\">\n",
       "<g id=\"graph0\" class=\"graph\" transform=\"scale(1 1) rotate(0) translate(4 369)\">\n",
       "<title>Tree</title>\n",
       "<polygon fill=\"white\" stroke=\"transparent\" points=\"-4,4 -4,-369 1105.5,-369 1105.5,4 -4,4\"/>\n",
       "<!-- 0 -->\n",
       "<g id=\"node1\" class=\"node\">\n",
       "<title>0</title>\n",
       "<polygon fill=\"#fbeee4\" stroke=\"black\" points=\"563,-365 419,-365 419,-297 563,-297 563,-365\"/>\n",
       "<text text-anchor=\"middle\" x=\"491\" y=\"-349.8\" font-family=\"Helvetica,sans-Serif\" font-size=\"14.00\">ADX &lt;= 0.001</text>\n",
       "<text text-anchor=\"middle\" x=\"491\" y=\"-334.8\" font-family=\"Helvetica,sans-Serif\" font-size=\"14.00\">gini = 0.497</text>\n",
       "<text text-anchor=\"middle\" x=\"491\" y=\"-319.8\" font-family=\"Helvetica,sans-Serif\" font-size=\"14.00\">samples = 8427</text>\n",
       "<text text-anchor=\"middle\" x=\"491\" y=\"-304.8\" font-family=\"Helvetica,sans-Serif\" font-size=\"14.00\">value = [4518, 3909]</text>\n",
       "</g>\n",
       "<!-- 1 -->\n",
       "<g id=\"node2\" class=\"node\">\n",
       "<title>1</title>\n",
       "<polygon fill=\"#f8dbc7\" stroke=\"black\" points=\"436,-261 308,-261 308,-193 436,-193 436,-261\"/>\n",
       "<text text-anchor=\"middle\" x=\"372\" y=\"-245.8\" font-family=\"Helvetica,sans-Serif\" font-size=\"14.00\">RSI &lt;= 45.8</text>\n",
       "<text text-anchor=\"middle\" x=\"372\" y=\"-230.8\" font-family=\"Helvetica,sans-Serif\" font-size=\"14.00\">gini = 0.486</text>\n",
       "<text text-anchor=\"middle\" x=\"372\" y=\"-215.8\" font-family=\"Helvetica,sans-Serif\" font-size=\"14.00\">samples = 1503</text>\n",
       "<text text-anchor=\"middle\" x=\"372\" y=\"-200.8\" font-family=\"Helvetica,sans-Serif\" font-size=\"14.00\">value = [876, 627]</text>\n",
       "</g>\n",
       "<!-- 0&#45;&gt;1 -->\n",
       "<g id=\"edge1\" class=\"edge\">\n",
       "<title>0&#45;&gt;1</title>\n",
       "<path fill=\"none\" stroke=\"black\" d=\"M452.36,-296.88C441.56,-287.62 429.7,-277.45 418.49,-267.85\"/>\n",
       "<polygon fill=\"black\" stroke=\"black\" points=\"420.72,-265.15 410.85,-261.3 416.16,-270.46 420.72,-265.15\"/>\n",
       "<text text-anchor=\"middle\" x=\"412.77\" y=\"-282.53\" font-family=\"Helvetica,sans-Serif\" font-size=\"14.00\">True</text>\n",
       "</g>\n",
       "<!-- 8 -->\n",
       "<g id=\"node9\" class=\"node\">\n",
       "<title>8</title>\n",
       "<polygon fill=\"#fcf3eb\" stroke=\"black\" points=\"740,-261 552,-261 552,-193 740,-193 740,-261\"/>\n",
       "<text text-anchor=\"middle\" x=\"646\" y=\"-245.8\" font-family=\"Helvetica,sans-Serif\" font-size=\"14.00\">Close_Over_EMA10 &lt;= 0.0</text>\n",
       "<text text-anchor=\"middle\" x=\"646\" y=\"-230.8\" font-family=\"Helvetica,sans-Serif\" font-size=\"14.00\">gini = 0.499</text>\n",
       "<text text-anchor=\"middle\" x=\"646\" y=\"-215.8\" font-family=\"Helvetica,sans-Serif\" font-size=\"14.00\">samples = 6924</text>\n",
       "<text text-anchor=\"middle\" x=\"646\" y=\"-200.8\" font-family=\"Helvetica,sans-Serif\" font-size=\"14.00\">value = [3642, 3282]</text>\n",
       "</g>\n",
       "<!-- 0&#45;&gt;8 -->\n",
       "<g id=\"edge8\" class=\"edge\">\n",
       "<title>0&#45;&gt;8</title>\n",
       "<path fill=\"none\" stroke=\"black\" d=\"M541.32,-296.88C555.88,-287.3 571.9,-276.76 586.94,-266.86\"/>\n",
       "<polygon fill=\"black\" stroke=\"black\" points=\"589.23,-269.55 595.66,-261.12 585.39,-263.7 589.23,-269.55\"/>\n",
       "<text text-anchor=\"middle\" x=\"590.61\" y=\"-281.91\" font-family=\"Helvetica,sans-Serif\" font-size=\"14.00\">False</text>\n",
       "</g>\n",
       "<!-- 2 -->\n",
       "<g id=\"node3\" class=\"node\">\n",
       "<title>2</title>\n",
       "<polygon fill=\"#fbebe0\" stroke=\"black\" points=\"259,-157 131,-157 131,-89 259,-89 259,-157\"/>\n",
       "<text text-anchor=\"middle\" x=\"195\" y=\"-141.8\" font-family=\"Helvetica,sans-Serif\" font-size=\"14.00\">RSI &lt;= 45.594</text>\n",
       "<text text-anchor=\"middle\" x=\"195\" y=\"-126.8\" font-family=\"Helvetica,sans-Serif\" font-size=\"14.00\">gini = 0.496</text>\n",
       "<text text-anchor=\"middle\" x=\"195\" y=\"-111.8\" font-family=\"Helvetica,sans-Serif\" font-size=\"14.00\">samples = 588</text>\n",
       "<text text-anchor=\"middle\" x=\"195\" y=\"-96.8\" font-family=\"Helvetica,sans-Serif\" font-size=\"14.00\">value = [319, 269]</text>\n",
       "</g>\n",
       "<!-- 1&#45;&gt;2 -->\n",
       "<g id=\"edge2\" class=\"edge\">\n",
       "<title>1&#45;&gt;2</title>\n",
       "<path fill=\"none\" stroke=\"black\" d=\"M314.53,-192.88C297.6,-183.12 278.93,-172.37 261.48,-162.31\"/>\n",
       "<polygon fill=\"black\" stroke=\"black\" points=\"262.89,-159.09 252.48,-157.12 259.4,-165.15 262.89,-159.09\"/>\n",
       "</g>\n",
       "<!-- 5 -->\n",
       "<g id=\"node6\" class=\"node\">\n",
       "<title>5</title>\n",
       "<polygon fill=\"#f6d2b8\" stroke=\"black\" points=\"436,-157 308,-157 308,-89 436,-89 436,-157\"/>\n",
       "<text text-anchor=\"middle\" x=\"372\" y=\"-141.8\" font-family=\"Helvetica,sans-Serif\" font-size=\"14.00\">RSI &lt;= 76.799</text>\n",
       "<text text-anchor=\"middle\" x=\"372\" y=\"-126.8\" font-family=\"Helvetica,sans-Serif\" font-size=\"14.00\">gini = 0.476</text>\n",
       "<text text-anchor=\"middle\" x=\"372\" y=\"-111.8\" font-family=\"Helvetica,sans-Serif\" font-size=\"14.00\">samples = 915</text>\n",
       "<text text-anchor=\"middle\" x=\"372\" y=\"-96.8\" font-family=\"Helvetica,sans-Serif\" font-size=\"14.00\">value = [557, 358]</text>\n",
       "</g>\n",
       "<!-- 1&#45;&gt;5 -->\n",
       "<g id=\"edge5\" class=\"edge\">\n",
       "<title>1&#45;&gt;5</title>\n",
       "<path fill=\"none\" stroke=\"black\" d=\"M372,-192.88C372,-184.78 372,-175.98 372,-167.47\"/>\n",
       "<polygon fill=\"black\" stroke=\"black\" points=\"375.5,-167.3 372,-157.3 368.5,-167.3 375.5,-167.3\"/>\n",
       "</g>\n",
       "<!-- 3 -->\n",
       "<g id=\"node4\" class=\"node\">\n",
       "<title>3</title>\n",
       "<polygon fill=\"#fae9dc\" stroke=\"black\" points=\"128,-53 0,-53 0,0 128,0 128,-53\"/>\n",
       "<text text-anchor=\"middle\" x=\"64\" y=\"-37.8\" font-family=\"Helvetica,sans-Serif\" font-size=\"14.00\">gini = 0.495</text>\n",
       "<text text-anchor=\"middle\" x=\"64\" y=\"-22.8\" font-family=\"Helvetica,sans-Serif\" font-size=\"14.00\">samples = 580</text>\n",
       "<text text-anchor=\"middle\" x=\"64\" y=\"-7.8\" font-family=\"Helvetica,sans-Serif\" font-size=\"14.00\">value = [318, 262]</text>\n",
       "</g>\n",
       "<!-- 2&#45;&gt;3 -->\n",
       "<g id=\"edge3\" class=\"edge\">\n",
       "<title>2&#45;&gt;3</title>\n",
       "<path fill=\"none\" stroke=\"black\" d=\"M149.18,-88.95C135.87,-79.34 121.36,-68.87 108.14,-59.34\"/>\n",
       "<polygon fill=\"black\" stroke=\"black\" points=\"109.84,-56.25 99.68,-53.24 105.74,-61.93 109.84,-56.25\"/>\n",
       "</g>\n",
       "<!-- 4 -->\n",
       "<g id=\"node5\" class=\"node\">\n",
       "<title>4</title>\n",
       "<polygon fill=\"#55abe9\" stroke=\"black\" points=\"243.5,-53 146.5,-53 146.5,0 243.5,0 243.5,-53\"/>\n",
       "<text text-anchor=\"middle\" x=\"195\" y=\"-37.8\" font-family=\"Helvetica,sans-Serif\" font-size=\"14.00\">gini = 0.219</text>\n",
       "<text text-anchor=\"middle\" x=\"195\" y=\"-22.8\" font-family=\"Helvetica,sans-Serif\" font-size=\"14.00\">samples = 8</text>\n",
       "<text text-anchor=\"middle\" x=\"195\" y=\"-7.8\" font-family=\"Helvetica,sans-Serif\" font-size=\"14.00\">value = [1, 7]</text>\n",
       "</g>\n",
       "<!-- 2&#45;&gt;4 -->\n",
       "<g id=\"edge4\" class=\"edge\">\n",
       "<title>2&#45;&gt;4</title>\n",
       "<path fill=\"none\" stroke=\"black\" d=\"M195,-88.95C195,-80.72 195,-71.85 195,-63.48\"/>\n",
       "<polygon fill=\"black\" stroke=\"black\" points=\"198.5,-63.24 195,-53.24 191.5,-63.24 198.5,-63.24\"/>\n",
       "</g>\n",
       "<!-- 6 -->\n",
       "<g id=\"node7\" class=\"node\">\n",
       "<title>6</title>\n",
       "<polygon fill=\"#f5d0b6\" stroke=\"black\" points=\"390,-53 262,-53 262,0 390,0 390,-53\"/>\n",
       "<text text-anchor=\"middle\" x=\"326\" y=\"-37.8\" font-family=\"Helvetica,sans-Serif\" font-size=\"14.00\">gini = 0.474</text>\n",
       "<text text-anchor=\"middle\" x=\"326\" y=\"-22.8\" font-family=\"Helvetica,sans-Serif\" font-size=\"14.00\">samples = 905</text>\n",
       "<text text-anchor=\"middle\" x=\"326\" y=\"-7.8\" font-family=\"Helvetica,sans-Serif\" font-size=\"14.00\">value = [555, 350]</text>\n",
       "</g>\n",
       "<!-- 5&#45;&gt;6 -->\n",
       "<g id=\"edge6\" class=\"edge\">\n",
       "<title>5&#45;&gt;6</title>\n",
       "<path fill=\"none\" stroke=\"black\" d=\"M355.91,-88.95C351.73,-80.35 347.2,-71.06 342.97,-62.37\"/>\n",
       "<polygon fill=\"black\" stroke=\"black\" points=\"346.05,-60.7 338.53,-53.24 339.76,-63.76 346.05,-60.7\"/>\n",
       "</g>\n",
       "<!-- 7 -->\n",
       "<g id=\"node8\" class=\"node\">\n",
       "<title>7</title>\n",
       "<polygon fill=\"#6ab6ec\" stroke=\"black\" points=\"508,-53 408,-53 408,0 508,0 508,-53\"/>\n",
       "<text text-anchor=\"middle\" x=\"458\" y=\"-37.8\" font-family=\"Helvetica,sans-Serif\" font-size=\"14.00\">gini = 0.32</text>\n",
       "<text text-anchor=\"middle\" x=\"458\" y=\"-22.8\" font-family=\"Helvetica,sans-Serif\" font-size=\"14.00\">samples = 10</text>\n",
       "<text text-anchor=\"middle\" x=\"458\" y=\"-7.8\" font-family=\"Helvetica,sans-Serif\" font-size=\"14.00\">value = [2, 8]</text>\n",
       "</g>\n",
       "<!-- 5&#45;&gt;7 -->\n",
       "<g id=\"edge7\" class=\"edge\">\n",
       "<title>5&#45;&gt;7</title>\n",
       "<path fill=\"none\" stroke=\"black\" d=\"M402.08,-88.95C410.4,-79.8 419.44,-69.87 427.77,-60.71\"/>\n",
       "<polygon fill=\"black\" stroke=\"black\" points=\"430.44,-62.99 434.58,-53.24 425.26,-58.28 430.44,-62.99\"/>\n",
       "</g>\n",
       "<!-- 9 -->\n",
       "<g id=\"node10\" class=\"node\">\n",
       "<title>9</title>\n",
       "<polygon fill=\"#fffdfc\" stroke=\"black\" points=\"718,-157 574,-157 574,-89 718,-89 718,-157\"/>\n",
       "<text text-anchor=\"middle\" x=\"646\" y=\"-141.8\" font-family=\"Helvetica,sans-Serif\" font-size=\"14.00\">RSI &lt;= 18.313</text>\n",
       "<text text-anchor=\"middle\" x=\"646\" y=\"-126.8\" font-family=\"Helvetica,sans-Serif\" font-size=\"14.00\">gini = 0.5</text>\n",
       "<text text-anchor=\"middle\" x=\"646\" y=\"-111.8\" font-family=\"Helvetica,sans-Serif\" font-size=\"14.00\">samples = 3380</text>\n",
       "<text text-anchor=\"middle\" x=\"646\" y=\"-96.8\" font-family=\"Helvetica,sans-Serif\" font-size=\"14.00\">value = [1704, 1676]</text>\n",
       "</g>\n",
       "<!-- 8&#45;&gt;9 -->\n",
       "<g id=\"edge9\" class=\"edge\">\n",
       "<title>8&#45;&gt;9</title>\n",
       "<path fill=\"none\" stroke=\"black\" d=\"M646,-192.88C646,-184.78 646,-175.98 646,-167.47\"/>\n",
       "<polygon fill=\"black\" stroke=\"black\" points=\"649.5,-167.3 646,-157.3 642.5,-167.3 649.5,-167.3\"/>\n",
       "</g>\n",
       "<!-- 12 -->\n",
       "<g id=\"node13\" class=\"node\">\n",
       "<title>12</title>\n",
       "<polygon fill=\"#fbe9dd\" stroke=\"black\" points=\"948,-157 804,-157 804,-89 948,-89 948,-157\"/>\n",
       "<text text-anchor=\"middle\" x=\"876\" y=\"-141.8\" font-family=\"Helvetica,sans-Serif\" font-size=\"14.00\">RSI &lt;= 55.163</text>\n",
       "<text text-anchor=\"middle\" x=\"876\" y=\"-126.8\" font-family=\"Helvetica,sans-Serif\" font-size=\"14.00\">gini = 0.496</text>\n",
       "<text text-anchor=\"middle\" x=\"876\" y=\"-111.8\" font-family=\"Helvetica,sans-Serif\" font-size=\"14.00\">samples = 3544</text>\n",
       "<text text-anchor=\"middle\" x=\"876\" y=\"-96.8\" font-family=\"Helvetica,sans-Serif\" font-size=\"14.00\">value = [1938, 1606]</text>\n",
       "</g>\n",
       "<!-- 8&#45;&gt;12 -->\n",
       "<g id=\"edge12\" class=\"edge\">\n",
       "<title>8&#45;&gt;12</title>\n",
       "<path fill=\"none\" stroke=\"black\" d=\"M720.67,-192.88C744.18,-182.46 770.26,-170.89 794.23,-160.26\"/>\n",
       "<polygon fill=\"black\" stroke=\"black\" points=\"795.94,-163.34 803.66,-156.08 793.1,-156.94 795.94,-163.34\"/>\n",
       "</g>\n",
       "<!-- 10 -->\n",
       "<g id=\"node11\" class=\"node\">\n",
       "<title>10</title>\n",
       "<polygon fill=\"#eda978\" stroke=\"black\" points=\"631.5,-53 526.5,-53 526.5,0 631.5,0 631.5,-53\"/>\n",
       "<text text-anchor=\"middle\" x=\"579\" y=\"-37.8\" font-family=\"Helvetica,sans-Serif\" font-size=\"14.00\">gini = 0.366</text>\n",
       "<text text-anchor=\"middle\" x=\"579\" y=\"-22.8\" font-family=\"Helvetica,sans-Serif\" font-size=\"14.00\">samples = 29</text>\n",
       "<text text-anchor=\"middle\" x=\"579\" y=\"-7.8\" font-family=\"Helvetica,sans-Serif\" font-size=\"14.00\">value = [22, 7]</text>\n",
       "</g>\n",
       "<!-- 9&#45;&gt;10 -->\n",
       "<g id=\"edge10\" class=\"edge\">\n",
       "<title>9&#45;&gt;10</title>\n",
       "<path fill=\"none\" stroke=\"black\" d=\"M622.57,-88.95C616.28,-80.07 609.46,-70.46 603.13,-61.54\"/>\n",
       "<polygon fill=\"black\" stroke=\"black\" points=\"605.89,-59.37 597.25,-53.24 600.18,-63.42 605.89,-59.37\"/>\n",
       "</g>\n",
       "<!-- 11 -->\n",
       "<g id=\"node12\" class=\"node\">\n",
       "<title>11</title>\n",
       "<polygon fill=\"#fffefd\" stroke=\"black\" points=\"794,-53 650,-53 650,0 794,0 794,-53\"/>\n",
       "<text text-anchor=\"middle\" x=\"722\" y=\"-37.8\" font-family=\"Helvetica,sans-Serif\" font-size=\"14.00\">gini = 0.5</text>\n",
       "<text text-anchor=\"middle\" x=\"722\" y=\"-22.8\" font-family=\"Helvetica,sans-Serif\" font-size=\"14.00\">samples = 3351</text>\n",
       "<text text-anchor=\"middle\" x=\"722\" y=\"-7.8\" font-family=\"Helvetica,sans-Serif\" font-size=\"14.00\">value = [1682, 1669]</text>\n",
       "</g>\n",
       "<!-- 9&#45;&gt;11 -->\n",
       "<g id=\"edge11\" class=\"edge\">\n",
       "<title>9&#45;&gt;11</title>\n",
       "<path fill=\"none\" stroke=\"black\" d=\"M672.58,-88.95C679.79,-79.98 687.61,-70.27 694.85,-61.26\"/>\n",
       "<polygon fill=\"black\" stroke=\"black\" points=\"697.76,-63.22 701.3,-53.24 692.31,-58.84 697.76,-63.22\"/>\n",
       "</g>\n",
       "<!-- 13 -->\n",
       "<g id=\"node14\" class=\"node\">\n",
       "<title>13</title>\n",
       "<polygon fill=\"#f8dbc6\" stroke=\"black\" points=\"940,-53 812,-53 812,0 940,0 940,-53\"/>\n",
       "<text text-anchor=\"middle\" x=\"876\" y=\"-37.8\" font-family=\"Helvetica,sans-Serif\" font-size=\"14.00\">gini = 0.486</text>\n",
       "<text text-anchor=\"middle\" x=\"876\" y=\"-22.8\" font-family=\"Helvetica,sans-Serif\" font-size=\"14.00\">samples = 1197</text>\n",
       "<text text-anchor=\"middle\" x=\"876\" y=\"-7.8\" font-family=\"Helvetica,sans-Serif\" font-size=\"14.00\">value = [699, 498]</text>\n",
       "</g>\n",
       "<!-- 12&#45;&gt;13 -->\n",
       "<g id=\"edge13\" class=\"edge\">\n",
       "<title>12&#45;&gt;13</title>\n",
       "<path fill=\"none\" stroke=\"black\" d=\"M876,-88.95C876,-80.72 876,-71.85 876,-63.48\"/>\n",
       "<polygon fill=\"black\" stroke=\"black\" points=\"879.5,-63.24 876,-53.24 872.5,-63.24 879.5,-63.24\"/>\n",
       "</g>\n",
       "<!-- 14 -->\n",
       "<g id=\"node15\" class=\"node\">\n",
       "<title>14</title>\n",
       "<polygon fill=\"#fcf2ea\" stroke=\"black\" points=\"1101.5,-53 958.5,-53 958.5,0 1101.5,0 1101.5,-53\"/>\n",
       "<text text-anchor=\"middle\" x=\"1030\" y=\"-37.8\" font-family=\"Helvetica,sans-Serif\" font-size=\"14.00\">gini = 0.498</text>\n",
       "<text text-anchor=\"middle\" x=\"1030\" y=\"-22.8\" font-family=\"Helvetica,sans-Serif\" font-size=\"14.00\">samples = 2347</text>\n",
       "<text text-anchor=\"middle\" x=\"1030\" y=\"-7.8\" font-family=\"Helvetica,sans-Serif\" font-size=\"14.00\">value = [1239, 1108]</text>\n",
       "</g>\n",
       "<!-- 12&#45;&gt;14 -->\n",
       "<g id=\"edge14\" class=\"edge\">\n",
       "<title>12&#45;&gt;14</title>\n",
       "<path fill=\"none\" stroke=\"black\" d=\"M929.86,-88.95C945.96,-79.07 963.55,-68.28 979.43,-58.53\"/>\n",
       "<polygon fill=\"black\" stroke=\"black\" points=\"981.37,-61.45 988.06,-53.24 977.7,-55.48 981.37,-61.45\"/>\n",
       "</g>\n",
       "</g>\n",
       "</svg>\n"
      ],
      "text/plain": [
       "<graphviz.sources.Source at 0x7fa4c373e220>"
      ]
     },
     "execution_count": 50,
     "metadata": {},
     "output_type": "execute_result"
    }
   ],
   "source": [
    "dot_data = tree.export_graphviz(model_dt_clf, out_file=None,filled=True,feature_names=predictors_list_clf)\n",
    "graphviz.Source(dot_data)"
   ]
  },
  {
   "cell_type": "markdown",
   "id": "a4ba6b88",
   "metadata": {},
   "source": [
    "Note that the image only shows the most significant nodes. In this graph we can see all the relevant information in each node:\n",
    "\n",
    "- the predictor variable used to split the data set.\n",
    "- the value of Gini impurity.\n",
    "- the number of data points available at that node.\n",
    "- the number of target variable data points belonging to each class, 1 and 0."
   ]
  },
  {
   "cell_type": "markdown",
   "id": "c493bb24",
   "metadata": {},
   "source": [
    "### Performance analysis"
   ]
  },
  {
   "cell_type": "markdown",
   "id": "33aecc1d",
   "metadata": {},
   "source": [
    "#### Confusion matrix\n",
    "\n",
    "A confusion matrix is a tool for summarizing the performance of a classification algorithm. A confusion matrix will give us a clear picture of classification model performance and the types of errors produced by the model. It gives us a summary of correct and incorrect predictions broken down by each category. The summary is represented in a tabular form.\n",
    "\n",
    "Four types of outcomes are possible while evaluating a classification model performance. These four outcomes are described below.\n",
    "\n",
    "- __True Positives (TP).__ True Positives occur when we predict an observation belongs to a certain class and the observation actually belongs to that class.\n",
    "\n",
    "- __True Negatives (TN).__ True Negatives occur when we predict an observation does not belong to a certain class and the observation actually does not belong to that class.\n",
    "\n",
    "- __False Positives (FP).__ False Positives occur when we predict an observation belongs to a certain class but the observation actually does not belong to that class. This type of error is called Type I error.\n",
    "\n",
    "- __False Negatives (FN).__ False Negatives occur when we predict an observation does not belong to a certain class but the observation actually belongs to that class. This is a very serious error and it is called Type II error.\n",
    "\n",
    "These four outcomes are summarized in a confusion matrix given below."
   ]
  },
  {
   "cell_type": "code",
   "execution_count": 66,
   "id": "cf477a09",
   "metadata": {
    "ExecuteTime": {
     "end_time": "2021-11-13T23:58:18.045502Z",
     "start_time": "2021-11-13T23:58:18.035478Z"
    }
   },
   "outputs": [
    {
     "name": "stdout",
     "output_type": "stream",
     "text": [
      "Matriz de confusión:\n",
      " [[1930    6]\n",
      " [1675    1]]\n",
      "\n",
      "True positives - True Long Signal (VP) = 1\n",
      "True negatives - True Short Signal (VN) = 1930\n",
      "False positives - False Long Signal (FP) = 6\n",
      "False negatives - False Short Signal (FN) = 1675\n"
     ]
    }
   ],
   "source": [
    "cm = confusion_matrix(y_true=y_cls_test, y_pred=y_cls_pred)\n",
    "print(\"Matriz de confusión:\\n\",cm,end=2*'\\n')\n",
    "\n",
    "# Seleccionar elementos de la matriz de confusión\n",
    "vp = cm[1][1]\n",
    "vn = cm[0][0]\n",
    "fp = cm[0][1]\n",
    "fn = cm[1][0]\n",
    "\n",
    "print(f'True positives - True Long Signal (VP) = {vp}')\n",
    "print(f'True negatives - True Short Signal (VN) = {vn}')\n",
    "print(f'False positives - False Long Signal (FP) = {fp}')\n",
    "print(f'False negatives - False Short Signal (FN) = {fn}')"
   ]
  },
  {
   "cell_type": "markdown",
   "id": "d59ca4bc",
   "metadata": {},
   "source": [
    "Finally, we can only evaluate the performance of the algorithm on unknown data by comparing it with the result obtained in the training process. To do this we will use the classification_report function of the sklearn.metrics library.\n",
    "\n",
    "The report shows some parameters that will help us to evaluate the goodness of the algorithm:\n",
    "\n",
    "- __Accuracy.__ Accuracy measures the percentage of cases that the model has been correct. This is one of the most used and favorite metrics which I recommend you avoid! The problem with accuracy is that it can be misleading, i.e. it can make a bad model look like it is much better than it is.\n",
    "\n",
    "- __Precision.__ It allow us to measure the quality of the machine learning model in classification tasks. It tells us how many of the correctly predicted cases actually turned out to be positive.In this case, the accuracy is the answer to the question: what percentage of long predictions are correct?\n",
    "\n",
    "- __Recall.__ Recall metric will tell us how many the machine learning model is able to identify. In our case, recall is the answer to the question: what percentage of long signal are we able to identify?  That is, it tells us how many of the real positive cases we were able to correctly predict with our model.\n",
    "\n",
    "- __F1-score.__ The F1 value assumes that we care equally about accuracy and completeness. This does not have to be true for all problems. Shows the harmonic mean of precision and recall. It is used to combine the precision and recall measures into a single value. This is practical because it makes it easier to compare the combined performance of accuracy and completeness between various solutions.\n",
    "\n",
    "- __Support.__ Used as weights to compute the average values of precision, recall and F-1.\n",
    "\n",
    "\n",
    "Anything above 0.5 is usually considered a good number."
   ]
  },
  {
   "cell_type": "code",
   "execution_count": 67,
   "id": "71caadaa",
   "metadata": {
    "ExecuteTime": {
     "end_time": "2021-11-13T23:58:20.410235Z",
     "start_time": "2021-11-13T23:58:20.395421Z"
    }
   },
   "outputs": [
    {
     "name": "stdout",
     "output_type": "stream",
     "text": [
      "              precision    recall  f1-score   support\n",
      "\n",
      "           0       0.54      1.00      0.70      1936\n",
      "           1       0.14      0.00      0.00      1676\n",
      "\n",
      "    accuracy                           0.53      3612\n",
      "   macro avg       0.34      0.50      0.35      3612\n",
      "weighted avg       0.35      0.53      0.37      3612\n",
      "\n"
     ]
    }
   ],
   "source": [
    "report = classification_report(y_pred=y_cls_pred,y_true=y_cls_test)\n",
    "print(report)"
   ]
  },
  {
   "cell_type": "markdown",
   "id": "714388a9",
   "metadata": {},
   "source": [
    "Analyzing the metrics of the confusion matrix, the model predicts very accurately the negative class, i.e. a decrease in the rate of change (Short) but does not have the ability to correctly predict the positive class (Long). Therefore, although we have an accuracy of 53.75% in the test set and 53.94% in the training set (we do not seem to have overfitting) the model is not good and we can say that it has underfitting problems."
   ]
  },
  {
   "cell_type": "markdown",
   "id": "e5dc1a05",
   "metadata": {},
   "source": [
    "#### ROC curve"
   ]
  },
  {
   "cell_type": "code",
   "execution_count": 68,
   "id": "8e6cc739",
   "metadata": {
    "ExecuteTime": {
     "end_time": "2021-11-13T23:58:23.924381Z",
     "start_time": "2021-11-13T23:58:23.822014Z"
    }
   },
   "outputs": [
    {
     "data": {
      "image/png": "[encoded data removed]",
      "text/plain": [
       "<Figure size 432x288 with 1 Axes>"
      ]
     },
     "metadata": {
      "needs_background": "light"
     },
     "output_type": "display_data"
    }
   ],
   "source": [
    "# Compute probabilities of positive class\n",
    "probs = model_dt_clf.predict_proba(X_cls_test)\n",
    "preds = probs[:,1]\n",
    "\n",
    "# Compute false positive rate (fpr) and true positive rate (tpr)\n",
    "fpr, tpr, _ = roc_curve(y_true=y_cls_test.values, y_score=preds)\n",
    "\n",
    "\n",
    "# Visualization\n",
    "plt.figure()\n",
    "plt.plot(fpr, tpr, color='darkorange', lw=2, label='ROC curve')\n",
    "plt.plot([0, 1], [0, 1], color='navy', lw=2, linestyle='--') \n",
    "plt.ylim([0.0, 1.05])\n",
    "plt.xlabel(\"False Positive Rate\")\n",
    "plt.ylabel(\"True Positive Rate\")\n",
    "plt.title(\"Model ROC Curve\")\n",
    "plt.legend(loc=\"lower right\")\n",
    "plt.show()"
   ]
  },
  {
   "cell_type": "code",
   "execution_count": 69,
   "id": "881c63ad",
   "metadata": {
    "ExecuteTime": {
     "end_time": "2021-11-13T23:58:26.148792Z",
     "start_time": "2021-11-13T23:58:26.142245Z"
    }
   },
   "outputs": [
    {
     "name": "stdout",
     "output_type": "stream",
     "text": [
      "Test = [0 0 1 0 1 1 0 0 1 0 0 0 0 0 0 0 0 1 0 1]\n",
      "Pred = [0 0 0 0 0 0 0 0 0 0 0 0 0 0 0 0 0 0 0 0]\n"
     ]
    }
   ],
   "source": [
    "# Mostramos los 20 primeros elementos\n",
    "print('Test =', y_cls_test.values[:20])\n",
    "print('Pred =', y_cls_pred[:20])"
   ]
  },
  {
   "cell_type": "markdown",
   "id": "294edebe",
   "metadata": {},
   "source": [
    "We confirm that the model has not been able to capture the patterns in the data and is therefore not good."
   ]
  }
 ],
 "metadata": {
  "interpreter": {
   "hash": "f3152add6ed381a6ff3b812c0ae02f755ee7e7ca400bbc56f6207376ccfaf514"
  },
  "kernelspec": {
   "display_name": "Python [conda env:DS]",
   "language": "python",
   "name": "conda-env-DS-py"
  },
  "language_info": {
   "codemirror_mode": {
    "name": "ipython",
    "version": 3
   },
   "file_extension": ".py",
   "mimetype": "text/x-python",
   "name": "python",
   "nbconvert_exporter": "python",
   "pygments_lexer": "ipython3",
   "version": "3.8.12"
  },
  "nbTranslate": {
   "displayLangs": [
    "*"
   ],
   "hotkey": "alt-t",
   "langInMainMenu": true,
   "sourceLang": "en",
   "targetLang": "fr",
   "useGoogleTranslate": true
  },
  "toc": {
   "base_numbering": 1,
   "nav_menu": {},
   "number_sections": true,
   "sideBar": true,
   "skip_h1_title": true,
   "title_cell": "Table of Contents",
   "title_sidebar": "Contents",
   "toc_cell": true,
   "toc_position": {
    "height": "calc(100% - 180px)",
    "left": "10px",
    "top": "150px",
    "width": "360px"
   },
   "toc_section_display": true,
   "toc_window_display": false
  },
  "varInspector": {
   "cols": {
    "lenName": 16,
    "lenType": 16,
    "lenVar": 40
   },
   "kernels_config": {
    "python": {
     "delete_cmd_postfix": "",
     "delete_cmd_prefix": "del ",
     "library": "var_list.py",
     "varRefreshCmd": "print(var_dic_list())"
    },
    "r": {
     "delete_cmd_postfix": ") ",
     "delete_cmd_prefix": "rm(",
     "library": "var_list.r",
     "varRefreshCmd": "cat(var_dic_list()) "
    }
   },
   "types_to_exclude": [
    "module",
    "function",
    "builtin_function_or_method",
    "instance",
    "_Feature"
   ],
   "window_display": false
  }
 },
 "nbformat": 4,
 "nbformat_minor": 5
}
