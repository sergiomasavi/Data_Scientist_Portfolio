{
 "cells": [
  {
   "cell_type": "markdown",
   "id": "9bdd4338",
   "metadata": {
    "toc": true
   },
   "source": [
    "<h1>Table of Contents<span class=\"tocSkip\"></span></h1>\n",
    "<div class=\"toc\"><ul class=\"toc-item\"><li><span><a href=\"#Logistic-Regression\" data-toc-modified-id=\"Logistic-Regression-1\"><span class=\"toc-item-num\">1&nbsp;&nbsp;</span>Logistic Regression</a></span></li><li><span><a href=\"#Import-Data\" data-toc-modified-id=\"Import-Data-2\"><span class=\"toc-item-num\">2&nbsp;&nbsp;</span>Import Data</a></span></li><li><span><a href=\"#Logistic-Regression-Model\" data-toc-modified-id=\"Logistic-Regression-Model-3\"><span class=\"toc-item-num\">3&nbsp;&nbsp;</span>Logistic Regression Model</a></span></li><li><span><a href=\"#Predict-the-Values\" data-toc-modified-id=\"Predict-the-Values-4\"><span class=\"toc-item-num\">4&nbsp;&nbsp;</span>Predict the Values</a></span></li><li><span><a href=\"#Plot-the-Result\" data-toc-modified-id=\"Plot-the-Result-5\"><span class=\"toc-item-num\">5&nbsp;&nbsp;</span>Plot the Result</a></span></li></ul></div>"
   ]
  },
  {
   "cell_type": "markdown",
   "id": "f1178c71-8e3a-45a0-8fac-4469c8789939",
   "metadata": {},
   "source": [
    "# Notebook Instructions\n",
    "\n",
    "1. If you are new to Jupyter notebooks, please go through this introductory manual <a href='https://quantra.quantinsti.com/quantra-notebook' target=\"_blank\">here</a>.\n",
    "1. Any changes made in this notebook would be lost after you close the browser window. **You can download the notebook to save your work on your PC.**\n",
    "1. Before running this notebook on your local PC:<br>\n",
    "i.  You need to set up a Python environment and the relevant packages on your local PC. To do so, go through the section on \"**Python Installation**\" in the course.<br>\n",
    "ii. You need to **download the zip file available in the last unit** of this course. The zip file contains the data files and/or python modules that might be required to run this notebook."
   ]
  },
  {
   "cell_type": "markdown",
   "id": "52002c05",
   "metadata": {
    "id": "zpG08RxoRn9h"
   },
   "source": [
    "## Logistic Regression\n",
    "Linear regression is used to predict values of quantities as a linear function of the input values. When predicting a discrete variable, such as whether a grid of pixel intensities represents 0 or 1, we need to classify the input values. \n",
    "\n",
    "Logistic regression is a simple classification algorithm for learning to make such decisions. It is a model that is used when the dependent variable is categorical. A few cases where logistic regression can be used are mentioned below:\n",
    "- Image segmentation and categorization\n",
    "- Geographic image recognition\n",
    "- Handwriting recognition\n",
    "- Determining whether a person is depressed based on the words of his social media posts\n",
    "- Predicting the probability of a person voting for a candidate in an election\n",
    "\n",
    "Logistic regression falls under supervised learning. It measures the relationship between the categorical dependent variable, and one or more independent variable, by estimating probabilities using a logistic/sigmoid function. \n",
    "\n",
    "Despite the name 'logistic regression', it is not used for machine learning regression problem where the task is to predict the real-valued output. It is a classification problem that is used to predict a binary outcome (1/0, -1/1, True/False), given a set of independent variables. \n",
    "\n",
    "Logistic regression is a bit similar to linear regression, or we can say it as a generalized linear model. In linear regression, we predict a real-valued output ' y' based on a weighted sum of input variables.\n",
    "\n",
    "![alt text](https://d2a032ejo53cab.cloudfront.net/Glossary/RhPKYU1R/logistic.PNG \"Linear\")\n",
    "\n",
    "$$y = c \\;+\\; x_1*w_1 \\;+\\; x_2*w_2 \\;+\\; .... \\;+\\; x_n*w_n $$\n",
    "\n",
    "Linear regression aims to estimate values for the model coefficients $c$, $w_{1}$, $w_{1}$, $w_{3}$...$w_{n}$ and fit the training data with minimal squared error and predict the output y.\n",
    "\n",
    "Logistic regression does the same thing but with one addition. The logistic regression model computes a weighted sum of the input variables similar to the linear regression, but it runs the result through a special\n",
    "non-linear function, the logistic function or sigmoid function, to produce the output y. Here, the output is binary or in the form of 0/1 or -1/1.\n",
    "\n",
    "![alt text](https://d2a032ejo53cab.cloudfront.net/Glossary/JDilmsrZ/logistic1.PNG \"Logistic\")\n",
    "\n",
    "\n",
    "The sigmoid/logistic function is given by the following equation:\n",
    "\n",
    "$$y = logistic\\;(c \\;+\\; x_1*w_1 \\;+\\; x_2*w_2 \\;+\\; .... \\;+\\;x_n*w_n) $$\n",
    "\n",
    "$$y = 1 \\;/\\; 1 + e \\;[-\\;(c \\;+\\; x_1*w_1 \\;+\\; x_2*w_2 \\;+\\; .... \\;+\\;x_n*w_n)] $$\n",
    "\n",
    "$$y = 1 \\;/\\; 1 + e^{\\;-x}$$\n",
    "\n",
    "As you can see in the below graph, it is an S-shaped curve that gets closer to 1 as the input variable's value increases above 0, and gets closer to 0 as the input variable decreases below 0. The output of the sigmoid function is 0.5 when the input variable is 0.\n",
    "\n",
    "![alt text](https://d2a032ejo53cab.cloudfront.net/Glossary/CZwY5Wru/sigmoid.PNG \"Sigmoid\")\n",
    "\n",
    "Reference: https://blog.quantinsti.com/machine-learning-logistic-regression-python/"
   ]
  },
  {
   "cell_type": "markdown",
   "id": "33e0a54c",
   "metadata": {
    "id": "iyHK40jxRn9j"
   },
   "source": [
    "In this notebook, you will perform the following steps:\n",
    "\n",
    "\n",
    "1) [Import Data](#data)\n",
    "\n",
    "\n",
    "2) [Logistic Regression Model](#model)\n",
    "\n",
    "\n",
    "3) [Predict the Values](#predict)\n",
    "\n",
    "\n",
    "4) [Plot the Result](#plot)\n",
    "    \n",
    "<a id='data'></a> \n",
    "\n",
    "## Import Data\n",
    "\n",
    "We will use <a href=\"https://scikit-learn.org/stable/modules/generated/sklearn.linear_model.LogisticRegression.html\" target=\"_blank\"> Scikit-Learn</a> library is to perform the logistic regression. \n",
    "\n",
    "We will use an Iris dataset which is already available in the Scikit-Learn library. This data sets consists of 2 different types of irises: Setosa, Versicolour as we can see in X variable.</b>"
   ]
  },
  {
   "cell_type": "code",
   "execution_count": 3,
   "id": "16a79285",
   "metadata": {
    "id": "waI05kvCRn9k"
   },
   "outputs": [
    {
     "name": "stdout",
     "output_type": "stream",
     "text": [
      "Iris shape = (150, 4)\n",
      "Feature names = ['sepal length (cm)', 'sepal width (cm)', 'petal length (cm)', 'petal width (cm)']\n",
      "Iris description:\n",
      "\n",
      ".. _iris_dataset:\n",
      "\n",
      "Iris plants dataset\n",
      "--------------------\n",
      "\n",
      "**Data Set Characteristics:**\n",
      "\n",
      "    :Number of Instances: 150 (50 in each of three classes)\n",
      "    :Number of Attributes: 4 numeric, predictive attributes and the class\n",
      "    :Attribute Information:\n",
      "        - sepal length in cm\n",
      "        - sepal width in cm\n",
      "        - petal length in cm\n",
      "        - petal width in cm\n",
      "        - class:\n",
      "                - Iris-Setosa\n",
      "                - Iris-Versicolour\n",
      "                - Iris-Virginica\n",
      "                \n",
      "    :Summary Statistics:\n",
      "\n",
      "    ============== ==== ==== ======= ===== ====================\n",
      "                    Min  Max   Mean    SD   Class Correlation\n",
      "    ============== ==== ==== ======= ===== ====================\n",
      "    sepal length:   4.3  7.9   5.84   0.83    0.7826\n",
      "    sepal width:    2.0  4.4   3.05   0.43   -0.4194\n",
      "    petal length:   1.0  6.9   3.76   1.76    0.9490  (high!)\n",
      "    petal width:    0.1  2.5   1.20   0.76    0.9565  (high!)\n",
      "    ============== ==== ==== ======= ===== ====================\n",
      "\n",
      "    :Missing Attribute Values: None\n",
      "    :Class Distribution: 33.3% for each of 3 classes.\n",
      "    :Creator: R.A. Fisher\n",
      "    :Donor: Michael Marshall (MARSHALL%PLU@io.arc.nasa.gov)\n",
      "    :Date: July, 1988\n",
      "\n",
      "The famous Iris database, first used by Sir R.A. Fisher. The dataset is taken\n",
      "from Fisher's paper. Note that it's the same as in R, but not as in the UCI\n",
      "Machine Learning Repository, which has two wrong data points.\n",
      "\n",
      "This is perhaps the best known database to be found in the\n",
      "pattern recognition literature.  Fisher's paper is a classic in the field and\n",
      "is referenced frequently to this day.  (See Duda & Hart, for example.)  The\n",
      "data set contains 3 classes of 50 instances each, where each class refers to a\n",
      "type of iris plant.  One class is linearly separable from the other 2; the\n",
      "latter are NOT linearly separable from each other.\n",
      "\n",
      ".. topic:: References\n",
      "\n",
      "   - Fisher, R.A. \"The use of multiple measurements in taxonomic problems\"\n",
      "     Annual Eugenics, 7, Part II, 179-188 (1936); also in \"Contributions to\n",
      "     Mathematical Statistics\" (John Wiley, NY, 1950).\n",
      "   - Duda, R.O., & Hart, P.E. (1973) Pattern Classification and Scene Analysis.\n",
      "     (Q327.D83) John Wiley & Sons.  ISBN 0-471-22361-1.  See page 218.\n",
      "   - Dasarathy, B.V. (1980) \"Nosing Around the Neighborhood: A New System\n",
      "     Structure and Classification Rule for Recognition in Partially Exposed\n",
      "     Environments\".  IEEE Transactions on Pattern Analysis and Machine\n",
      "     Intelligence, Vol. PAMI-2, No. 1, 67-71.\n",
      "   - Gates, G.W. (1972) \"The Reduced Nearest Neighbor Rule\".  IEEE Transactions\n",
      "     on Information Theory, May 1972, 431-433.\n",
      "   - See also: 1988 MLC Proceedings, 54-64.  Cheeseman et al\"s AUTOCLASS II\n",
      "     conceptual clustering system finds 3 classes in the data.\n",
      "   - Many, many more ...\n"
     ]
    }
   ],
   "source": [
    "import numpy as np\n",
    "import matplotlib.pyplot as plt\n",
    "import warnings\n",
    "warnings.filterwarnings('ignore')\n",
    "\n",
    "# Import linear_model and dataset from sklearn\n",
    "from sklearn import linear_model, datasets\n",
    "iris = datasets.load_iris()   \n",
    "print(f\"Iris shape = {iris['data'].shape}\")\n",
    "print(f\"Feature names = {iris['feature_names']}\")\n",
    "print(\"Iris description:\", iris['DESCR'], sep=2*'\\n')"
   ]
  },
  {
   "cell_type": "code",
   "execution_count": 4,
   "id": "6412e95d",
   "metadata": {},
   "outputs": [],
   "source": [
    "# Independent variables, we will only use the first two features/Columns\n",
    "X = iris.data[:, :2] \n",
    "\n",
    "# Dependent variable\n",
    "Y = iris.target"
   ]
  },
  {
   "cell_type": "markdown",
   "id": "48b3a224",
   "metadata": {
    "id": "3DH0FReMRn9l"
   },
   "source": [
    "<a id='model'></a> \n",
    "\n",
    "## Logistic Regression Model \n",
    "We will use the `LogisticRegression` function from `linear_model` to create a logistic regression model."
   ]
  },
  {
   "cell_type": "code",
   "execution_count": 5,
   "id": "f592d544",
   "metadata": {
    "id": "xiIWinGMRn9m",
    "outputId": "49fa5034-abe0-4062-a81b-caccf8cb66bf"
   },
   "outputs": [
    {
     "data": {
      "text/plain": [
       "LogisticRegression(C=100000.0)"
      ]
     },
     "execution_count": 5,
     "metadata": {},
     "output_type": "execute_result"
    }
   ],
   "source": [
    "# Create an instance of LogisticRegression and fit the data\n",
    "log_reg = linear_model.LogisticRegression(C=1e5)\n",
    "log_reg.fit(X,Y)"
   ]
  },
  {
   "cell_type": "markdown",
   "id": "bebdf468",
   "metadata": {
    "id": "8kIpiMyERn9n"
   },
   "source": [
    "<a id='predict'></a>\n",
    "## Predict the Values\n",
    "We will use the ravel function to input the 1-D array into the regression model. Before making the predictions, we will define the boundaries to classify the Iris into different plotting range."
   ]
  },
  {
   "cell_type": "code",
   "execution_count": 6,
   "id": "86f52c14",
   "metadata": {
    "id": "irL748VPRn9o"
   },
   "outputs": [],
   "source": [
    "# Step size in the mesh\n",
    "h = .01 \n",
    "\n",
    "# Create the decision boundary\n",
    "# For that, we will assign a color to each Point in the mesh [x_min, x_max] [y_min, y_max]\n",
    "# Take the endpoints of the X variable\n",
    "x_min, x_max = X[:, 0].min() - 3.5, X[:, 0].max() + 3.5 \n",
    "# Take the endpoints of the Y variable\n",
    "y_min, y_max = X[:, 0].min() - 3.5, X[:, 0].max() + 3.5  \n",
    "\n",
    "# Create a mesh using np.mesh function so that we can easily see the classified results under different mesh\n",
    "xx, yy = np.meshgrid(np.arange(x_min, x_max, h), np.arange(y_min, y_max, h))"
   ]
  },
  {
   "cell_type": "code",
   "execution_count": 7,
   "id": "5c98fcf6",
   "metadata": {
    "id": "ekFfwQ-JRn9o",
    "outputId": "87555cf0-6b1c-44ce-e4d9-c974a144b529"
   },
   "outputs": [
    {
     "data": {
      "text/plain": [
       "array([0, 0, 0, ..., 0, 0, 0])"
      ]
     },
     "execution_count": 7,
     "metadata": {},
     "output_type": "execute_result"
    }
   ],
   "source": [
    "Z = log_reg.predict(np.c_[xx.ravel(), yy.ravel()])\n",
    "Z"
   ]
  },
  {
   "cell_type": "markdown",
   "id": "83b3eb41",
   "metadata": {
    "id": "9OeCSgQcRn9o"
   },
   "source": [
    "<a id='plot'></a> \n",
    "\n",
    "## Plot the Result"
   ]
  },
  {
   "cell_type": "code",
   "execution_count": 8,
   "id": "697f901e",
   "metadata": {
    "id": "6wp357OGRn9p",
    "outputId": "56d877ea-b238-4f2c-fc26-f87b3be62c58"
   },
   "outputs": [
    {
     "data": {
      "image/png": "[encoded data removed]",
      "text/plain": [
       "<Figure size 720x504 with 1 Axes>"
      ]
     },
     "metadata": {
      "needs_background": "light"
     },
     "output_type": "display_data"
    }
   ],
   "source": [
    "Z = Z.reshape(xx.shape)\n",
    "plt.figure(1, figsize=(10, 7))\n",
    "plt.pcolormesh(xx, yy, Z, cmap=plt.cm.Paired)\n",
    "# Plot also the training points\n",
    "plt.scatter(X[:, 0], X[:, 1], c=Y, edgecolors=\"k\", cmap=plt.cm.Paired)\n",
    "plt.xlabel('Sepal Length', fontsize=12)\n",
    "plt.ylabel('Sepal Width', fontsize=12)\n",
    "plt.title('Logictic Regression on Iris Dataset', fontsize=14)\n",
    "\n",
    "plt.show()"
   ]
  },
  {
   "cell_type": "markdown",
   "id": "02d52ed2",
   "metadata": {
    "id": "wIEJxVzcRn9p"
   },
   "source": [
    "As you can see, the Iris has been classified into different categories. We can use the Logistic Regression to classify different features under different categories, but with the condition that the independent variable must have different categories. <br><br>"
   ]
  }
 ],
 "metadata": {
  "colab": {
   "collapsed_sections": [],
   "name": "Logistic_Regression.ipynb",
   "provenance": []
  },
  "kernelspec": {
   "display_name": "Python 3",
   "language": "python",
   "name": "python3"
  },
  "language_info": {
   "codemirror_mode": {
    "name": "ipython",
    "version": 3
   },
   "file_extension": ".py",
   "mimetype": "text/x-python",
   "name": "python",
   "nbconvert_exporter": "python",
   "pygments_lexer": "ipython3",
   "version": "3.8.10"
  },
  "nbTranslate": {
   "displayLangs": [
    "*"
   ],
   "hotkey": "alt-t",
   "langInMainMenu": true,
   "sourceLang": "en",
   "targetLang": "fr",
   "useGoogleTranslate": true
  },
  "toc": {
   "base_numbering": 1,
   "nav_menu": {},
   "number_sections": true,
   "sideBar": true,
   "skip_h1_title": true,
   "title_cell": "Table of Contents",
   "title_sidebar": "Contents",
   "toc_cell": true,
   "toc_position": {},
   "toc_section_display": true,
   "toc_window_display": true
  },
  "varInspector": {
   "cols": {
    "lenName": 16,
    "lenType": 16,
    "lenVar": 40
   },
   "kernels_config": {
    "python": {
     "delete_cmd_postfix": "",
     "delete_cmd_prefix": "del ",
     "library": "var_list.py",
     "varRefreshCmd": "print(var_dic_list())"
    },
    "r": {
     "delete_cmd_postfix": ") ",
     "delete_cmd_prefix": "rm(",
     "library": "var_list.r",
     "varRefreshCmd": "cat(var_dic_list()) "
    }
   },
   "types_to_exclude": [
    "module",
    "function",
    "builtin_function_or_method",
    "instance",
    "_Feature"
   ],
   "window_display": false
  }
 },
 "nbformat": 4,
 "nbformat_minor": 5
}
