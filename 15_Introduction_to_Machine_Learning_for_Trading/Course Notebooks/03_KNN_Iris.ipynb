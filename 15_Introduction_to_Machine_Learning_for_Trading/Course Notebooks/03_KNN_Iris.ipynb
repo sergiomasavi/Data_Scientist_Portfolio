{
 "cells": [
  {
   "cell_type": "markdown",
   "id": "f1178c71-8e3a-45a0-8fac-4469c8789939",
   "metadata": {},
   "source": [
    "# Notebook Instructions\n",
    "\n",
    "1. If you are new to Jupyter notebooks, please go through this introductory manual <a href='https://quantra.quantinsti.com/quantra-notebook' target=\"_blank\">here</a>.\n",
    "1. Any changes made in this notebook would be lost after you close the browser window. **You can download the notebook to save your work on your PC.**\n",
    "1. Before running this notebook on your local PC:<br>\n",
    "i.  You need to set up a Python environment and the relevant packages on your local PC. To do so, go through the section on \"**Python Installation**\" in the course.<br>\n",
    "ii. You need to **download the zip file available in the last unit** of this course. The zip file contains the data files and/or python modules that might be required to run this notebook."
   ]
  },
  {
   "cell_type": "markdown",
   "id": "f722540b",
   "metadata": {
    "id": "13OuDE0EEZnO"
   },
   "source": [
    "\n",
    "# K Nearest Neighbours (KNN)\n",
    "\n",
    "K nearest neighbours (KNN) is one of the simplest algorithms used in machine learning.  It is easy to understand and successful in many problems, including handwriting recognition and email classification. KNN is a non-parametric technique, and is used in both regression and classification problem. Here, we will discuss only KNN classification. \n",
    "\n",
    "Nearest Neighbours classification is a type of instance-based learning or non-generalized learning. It does not attempt to construct a general internal model but compares the new problem with instances seen in training. The purpose of the K nearest neighbours (KNN) classification is to use such data, in which the data points are separated into different classes to classify new data points based on similarity measures (e.g. distance function).\n",
    "\n",
    "Classification of the object is done by a majority vote of its neighbours. The object is assigned to the class which has the nearest neighbours. As you increase the number of nearest neighbours, the value of k or accuracy might increase, but computation costs also increase. \n",
    "\n",
    "\n",
    "In this notebook, you will perform the following steps:\n",
    "\n",
    "1) [Import Data](#data)\n",
    "\n",
    "2) [Dependent and Independent Variables](#data)\n",
    "\n",
    "3) [KNN Classification Model](#Model)"
   ]
  },
  {
   "cell_type": "markdown",
   "id": "c0fd8893",
   "metadata": {
    "id": "DRtuCDHIEZnP"
   },
   "source": [
    "<a id='data'></a> \n",
    "\n",
    "## Import Data\n",
    "\n",
    "We will import the necessary libraries and dataset from <a href=\"https://scikit-learn.org/stable/modules/generated/sklearn.neighbors.KNeighborsClassifier.html\" target=\"_blank\">Scikit-Learn</a> library to construct a KNN model."
   ]
  },
  {
   "cell_type": "code",
   "execution_count": 1,
   "id": "b3664447",
   "metadata": {
    "id": "6aYXBOxfEZnQ"
   },
   "outputs": [
    {
     "name": "stdout",
     "output_type": "stream",
     "text": [
      "Iris shape = (150, 4)\n",
      "Feature names = ['sepal length (cm)', 'sepal width (cm)', 'petal length (cm)', 'petal width (cm)']\n",
      "Iris description:\n",
      "\n",
      ".. _iris_dataset:\n",
      "\n",
      "Iris plants dataset\n",
      "--------------------\n",
      "\n",
      "**Data Set Characteristics:**\n",
      "\n",
      "    :Number of Instances: 150 (50 in each of three classes)\n",
      "    :Number of Attributes: 4 numeric, predictive attributes and the class\n",
      "    :Attribute Information:\n",
      "        - sepal length in cm\n",
      "        - sepal width in cm\n",
      "        - petal length in cm\n",
      "        - petal width in cm\n",
      "        - class:\n",
      "                - Iris-Setosa\n",
      "                - Iris-Versicolour\n",
      "                - Iris-Virginica\n",
      "                \n",
      "    :Summary Statistics:\n",
      "\n",
      "    ============== ==== ==== ======= ===== ====================\n",
      "                    Min  Max   Mean    SD   Class Correlation\n",
      "    ============== ==== ==== ======= ===== ====================\n",
      "    sepal length:   4.3  7.9   5.84   0.83    0.7826\n",
      "    sepal width:    2.0  4.4   3.05   0.43   -0.4194\n",
      "    petal length:   1.0  6.9   3.76   1.76    0.9490  (high!)\n",
      "    petal width:    0.1  2.5   1.20   0.76    0.9565  (high!)\n",
      "    ============== ==== ==== ======= ===== ====================\n",
      "\n",
      "    :Missing Attribute Values: None\n",
      "    :Class Distribution: 33.3% for each of 3 classes.\n",
      "    :Creator: R.A. Fisher\n",
      "    :Donor: Michael Marshall (MARSHALL%PLU@io.arc.nasa.gov)\n",
      "    :Date: July, 1988\n",
      "\n",
      "The famous Iris database, first used by Sir R.A. Fisher. The dataset is taken\n",
      "from Fisher's paper. Note that it's the same as in R, but not as in the UCI\n",
      "Machine Learning Repository, which has two wrong data points.\n",
      "\n",
      "This is perhaps the best known database to be found in the\n",
      "pattern recognition literature.  Fisher's paper is a classic in the field and\n",
      "is referenced frequently to this day.  (See Duda & Hart, for example.)  The\n",
      "data set contains 3 classes of 50 instances each, where each class refers to a\n",
      "type of iris plant.  One class is linearly separable from the other 2; the\n",
      "latter are NOT linearly separable from each other.\n",
      "\n",
      ".. topic:: References\n",
      "\n",
      "   - Fisher, R.A. \"The use of multiple measurements in taxonomic problems\"\n",
      "     Annual Eugenics, 7, Part II, 179-188 (1936); also in \"Contributions to\n",
      "     Mathematical Statistics\" (John Wiley, NY, 1950).\n",
      "   - Duda, R.O., & Hart, P.E. (1973) Pattern Classification and Scene Analysis.\n",
      "     (Q327.D83) John Wiley & Sons.  ISBN 0-471-22361-1.  See page 218.\n",
      "   - Dasarathy, B.V. (1980) \"Nosing Around the Neighborhood: A New System\n",
      "     Structure and Classification Rule for Recognition in Partially Exposed\n",
      "     Environments\".  IEEE Transactions on Pattern Analysis and Machine\n",
      "     Intelligence, Vol. PAMI-2, No. 1, 67-71.\n",
      "   - Gates, G.W. (1972) \"The Reduced Nearest Neighbor Rule\".  IEEE Transactions\n",
      "     on Information Theory, May 1972, 431-433.\n",
      "   - See also: 1988 MLC Proceedings, 54-64.  Cheeseman et al\"s AUTOCLASS II\n",
      "     conceptual clustering system finds 3 classes in the data.\n",
      "   - Many, many more ...\n"
     ]
    }
   ],
   "source": [
    "# Import numpy\n",
    "import numpy as np\n",
    "\n",
    "# Import matplotlib for plotting\n",
    "import matplotlib.pyplot as plt\n",
    "from matplotlib.colors import ListedColormap\n",
    "\n",
    "# Import KNN and dataset from sklearn\n",
    "from sklearn import neighbors, datasets\n",
    "\n",
    "# Import Iris dataset\n",
    "iris = datasets.load_iris()\n",
    "\n",
    "print(f\"Iris shape = {iris['data'].shape}\")\n",
    "print(f\"Feature names = {iris['feature_names']}\")\n",
    "print(\"Iris description:\", iris['DESCR'], sep=2*'\\n')"
   ]
  },
  {
   "cell_type": "markdown",
   "id": "a8c6e4c3",
   "metadata": {
    "id": "1g9txvVUEZnQ"
   },
   "source": [
    "## Dependent and Independent Variables\n",
    "\n",
    "We will construct an independent variable (X) which consists of two features, and y is the dependent/target variable."
   ]
  },
  {
   "cell_type": "code",
   "execution_count": 2,
   "id": "365c55bc",
   "metadata": {
    "id": "8f5d8-pDEZnR",
    "outputId": "82ad48ee-2364-4dd4-9117-9514a5f66c9d"
   },
   "outputs": [
    {
     "data": {
      "text/plain": [
       "(array([[5.1, 3.5],\n",
       "        [4.9, 3. ]]),\n",
       " array([0, 0]))"
      ]
     },
     "execution_count": 2,
     "metadata": {},
     "output_type": "execute_result"
    }
   ],
   "source": [
    "# We only take the first two features. \n",
    "X = iris.data[:, :2]\n",
    "y = iris.target\n",
    "\n",
    "X[:2], y[:2]"
   ]
  },
  {
   "cell_type": "markdown",
   "id": "119c1388",
   "metadata": {
    "id": "sbTL5V27EZnS"
   },
   "source": [
    "<a id='Model'></a> \n",
    "## KNN Classification Model\n",
    "\n",
    "We will create a KNN classification model using two different weight functions for prediction.\n",
    "\n",
    "uniform: All points in each neighbourhood are weighted equally.\n",
    "\n",
    "distance: Weight points by the inverse of their distance. The closest neighbours of a query point will have a greater influence than neighbours that are further away."
   ]
  },
  {
   "cell_type": "code",
   "execution_count": 14,
   "id": "0cabbed2",
   "metadata": {
    "id": "VkTWU2rWEZnT",
    "outputId": "cc459c94-621e-4e78-dee8-2e1da7a89aaf"
   },
   "outputs": [
    {
     "name": "stderr",
     "output_type": "stream",
     "text": [
      "/tmp/ipykernel_63/930448604.py:38: MatplotlibDeprecationWarning: shading='flat' when X and Y have the same dimensions as C is deprecated since 3.3.  Either specify the corners of the quadrilaterals with X and Y, or pass shading='auto', 'nearest' or 'gouraud', or set rcParams['pcolor.shading'].  This will become an error two minor releases later.\n",
      "  plt.pcolormesh(xx, yy, Z, cmap=cmap_light)\n",
      "/tmp/ipykernel_63/930448604.py:38: MatplotlibDeprecationWarning: shading='flat' when X and Y have the same dimensions as C is deprecated since 3.3.  Either specify the corners of the quadrilaterals with X and Y, or pass shading='auto', 'nearest' or 'gouraud', or set rcParams['pcolor.shading'].  This will become an error two minor releases later.\n",
      "  plt.pcolormesh(xx, yy, Z, cmap=cmap_light)\n"
     ]
    },
    {
     "data": {
      "image/png": "[encoded data removed]",
      "text/plain": [
       "<Figure size 720x504 with 1 Axes>"
      ]
     },
     "metadata": {
      "needs_background": "light"
     },
     "output_type": "display_data"
    },
    {
     "data": {
      "image/png": "[encoded data removed]",
      "text/plain": [
       "<Figure size 720x504 with 1 Axes>"
      ]
     },
     "metadata": {
      "needs_background": "light"
     },
     "output_type": "display_data"
    }
   ],
   "source": [
    "# Number of neighbours\n",
    "n_neighbors = 15\n",
    "\n",
    "# Step size in the mesh\n",
    "h = 0.02\n",
    "\n",
    "# Create the colour maps\n",
    "cmap_light = ListedColormap(['orange', 'cyan', 'cornflowerblue'])\n",
    "cmap_bold = ListedColormap(['darkorange', 'c', 'darkblue'])\n",
    "\n",
    "for weights in ['uniform', 'distance']:\n",
    "    # We create an instance of Neighbours Classifier and fit the data\n",
    "    clf = neighbors.KNeighborsClassifier(n_neighbors, weights=weights)\n",
    "    clf.fit(X, y)\n",
    "    \n",
    "    # Plot the decision boundary\n",
    "    # For that, we will assign a colour to each Point in the mesh [x_min, x_max],[y_min, y_max]\n",
    "    # Take the endpoints of the X varible\n",
    "    x_min = X[:, 0].min() - 1\n",
    "    x_max = X[:, 0].max() + 1\n",
    "    \n",
    "    # Take the endpoints of the Y varible\n",
    "    y_min = X[:, 1].min() - 1\n",
    "    y_max = X[:, 1].max() + 1\n",
    "\n",
    "    # Create a mesh so that we can easily see the classified results under different mesh\n",
    "    xx, yy = np.meshgrid(np.arange(x_min, x_max, h),\n",
    "                         np.arange(y_min, y_max, h))\n",
    "\n",
    "    # Predict the values using the ravel function \n",
    "    Z = clf.predict(np.c_[xx.ravel(), yy.ravel()])\n",
    "\n",
    "    # Put the result into a colour plot\n",
    "    Z = Z.reshape(xx.shape)\n",
    "    plt.figure(figsize=(10, 7))\n",
    "    \n",
    "    # Plot the mesh grid\n",
    "    plt.pcolormesh(xx, yy, Z, cmap=cmap_light)  \n",
    "\n",
    "    # Plot the points used to train model\n",
    "    plt.scatter(X[:, 0], X[:, 1], c=y, cmap=cmap_bold,\n",
    "                edgecolor='k', s=20)\n",
    "    # Set the X limits\n",
    "    plt.xlim(xx.min(), xx.max())\n",
    "    # Set the y limits\n",
    "    plt.ylim(yy.min(), yy.max())\n",
    "    plt.title(\"3-Class classification (k = %i, weights = '%s')\"\n",
    "              % (n_neighbors, weights))"
   ]
  },
  {
   "cell_type": "markdown",
   "id": "4bd3d62c",
   "metadata": {
    "id": "C0I1vL0FEZnT"
   },
   "source": [
    "The above figure shows that the model is able to classify the points based on the chosen Irises and the colormesh we have created.\n",
    "\n",
    "#### Additional Reading\n",
    "You can read this <a href=\"https://blog.quantinsti.com/machine-learning-k-nearest-neighbors-knn-algorithm-python/\" target=\"_blank\">article</a> to create a trading strategy using K-Nearest Neighbors (KNN) algorithm.\n",
    "<br><br>"
   ]
  }
 ],
 "metadata": {
  "colab": {
   "collapsed_sections": [],
   "name": "KNN Classification.ipynb",
   "provenance": []
  },
  "kernelspec": {
   "display_name": "Python 3 (ipykernel)",
   "language": "python",
   "name": "python3"
  },
  "language_info": {
   "codemirror_mode": {
    "name": "ipython",
    "version": 3
   },
   "file_extension": ".py",
   "mimetype": "text/x-python",
   "name": "python",
   "nbconvert_exporter": "python",
   "pygments_lexer": "ipython3",
   "version": "3.9.5"
  }
 },
 "nbformat": 4,
 "nbformat_minor": 5
}
