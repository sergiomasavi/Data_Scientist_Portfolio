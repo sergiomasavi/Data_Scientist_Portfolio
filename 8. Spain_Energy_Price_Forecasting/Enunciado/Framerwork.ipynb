{
 "cells": [
  {
   "cell_type": "markdown",
   "metadata": {
    "toc": true
   },
   "source": [
    "<h1>Table of Contents<span class=\"tocSkip\"></span></h1>\n",
    "<div class=\"toc\"><ul class=\"toc-item\"></ul></div>"
   ]
  },
  {
   "cell_type": "markdown",
   "metadata": {},
   "source": [
    "# Resumen Ejecutivo 💼"
   ]
  },
  {
   "cell_type": "markdown",
   "metadata": {},
   "source": [
    "400 palabras. <br>\n",
    "Se puede incluir una sola visualización. <br>\n",
    "Cuidar la redacción y el estilo. <br>\n",
    "Frases cortas y claras. <br>\n",
    "Audiencia: El CEO y cualquier persona\n",
    "\n",
    "- Contexto\n",
    "- Que se hizo?\n",
    "- Conclusiones y Figura Clave (de tipo no técnica)\n",
    "- Próximos Pasos Resumidos"
   ]
  },
  {
   "cell_type": "markdown",
   "metadata": {},
   "source": [
    "# Informe de Negocio 📊"
   ]
  },
  {
   "cell_type": "markdown",
   "metadata": {},
   "source": [
    "800 palabras maximo <br>\n",
    "No se incluye código, s olo lo necesario para mostrar gráficos <br>\n",
    "Cuidar a la redacción y explicaciones <br> \n",
    "Audiencia: Conocimiento de negocio pero sin conocimiento técnico<br>\n",
    "\n",
    "3 secciones al mínimo, aunque puede incluir más\n",
    "- Analisis Descriptivo\n",
    "- Compo\\aracion resultados de Modelo\n",
    "- Seleccion del modelo y mejoras\n",
    "\n",
    "Se pueden utilizar preguntas para introducir"
   ]
  },
  {
   "cell_type": "markdown",
   "metadata": {},
   "source": [
    "# Reporte Científico 👩🏻‍💻"
   ]
  },
  {
   "cell_type": "markdown",
   "metadata": {},
   "source": [
    "1000 palabras máx <br>\n",
    "Incluye todo el código de cierta relevancia.<br>\n",
    "Tiene que estar ordenado secuencialmente, pero no hace falta que siga la historia del Informe de Negocio. <br>\n",
    "El resto de puede estar en apendices <br>"
   ]
  }
 ],
 "metadata": {
  "kernelspec": {
   "display_name": "Python 3.8.8 64-bit ('NuclioDigitalSchool': conda)",
   "language": "python",
   "name": "python388jvsc74a57bd036b9a2a0f226926490f5535038bc0776dc6ef9541a368ddb54f9a85170198278"
  },
  "language_info": {
   "codemirror_mode": {
    "name": "ipython",
    "version": 3
   },
   "file_extension": ".py",
   "mimetype": "text/x-python",
   "name": "python",
   "nbconvert_exporter": "python",
   "pygments_lexer": "ipython3",
   "version": "3.8.8"
  },
  "nbTranslate": {
   "displayLangs": [
    "*"
   ],
   "hotkey": "alt-t",
   "langInMainMenu": true,
   "sourceLang": "en",
   "targetLang": "fr",
   "useGoogleTranslate": true
  },
  "toc": {
   "base_numbering": 1,
   "nav_menu": {},
   "number_sections": true,
   "sideBar": true,
   "skip_h1_title": true,
   "title_cell": "Table of Contents",
   "title_sidebar": "Contents",
   "toc_cell": true,
   "toc_position": {},
   "toc_section_display": true,
   "toc_window_display": false
  },
  "varInspector": {
   "cols": {
    "lenName": 16,
    "lenType": 16,
    "lenVar": 40
   },
   "kernels_config": {
    "python": {
     "delete_cmd_postfix": "",
     "delete_cmd_prefix": "del ",
     "library": "var_list.py",
     "varRefreshCmd": "print(var_dic_list())"
    },
    "r": {
     "delete_cmd_postfix": ") ",
     "delete_cmd_prefix": "rm(",
     "library": "var_list.r",
     "varRefreshCmd": "cat(var_dic_list()) "
    }
   },
   "types_to_exclude": [
    "module",
    "function",
    "builtin_function_or_method",
    "instance",
    "_Feature"
   ],
   "window_display": false
  }
 },
 "nbformat": 4,
 "nbformat_minor": 4
}
