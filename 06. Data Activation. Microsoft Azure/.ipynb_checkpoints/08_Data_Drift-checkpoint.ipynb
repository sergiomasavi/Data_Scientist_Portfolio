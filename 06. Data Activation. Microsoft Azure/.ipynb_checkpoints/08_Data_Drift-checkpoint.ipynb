{
 "cells": [
  {
   "cell_type": "markdown",
   "metadata": {},
   "source": [
    "<img src=\"Tarjeta.png\">"
   ]
  },
  {
   "cell_type": "markdown",
   "metadata": {
    "toc": true
   },
   "source": [
    "<h1>Table of Contents<span class=\"tocSkip\"></span></h1>\n",
    "<div class=\"toc\"><ul class=\"toc-item\"><li><span><a href=\"#Antes-de-empezar\" data-toc-modified-id=\"Antes-de-empezar-1\"><span class=\"toc-item-num\">1&nbsp;&nbsp;</span>Antes de empezar</a></span></li><li><span><a href=\"#Conectar-área-de-trabajo\" data-toc-modified-id=\"Conectar-área-de-trabajo-2\"><span class=\"toc-item-num\">2&nbsp;&nbsp;</span>Conectar área de trabajo</a></span></li><li><span><a href=\"#Crear-un-dataset-base\" data-toc-modified-id=\"Crear-un-dataset-base-3\"><span class=\"toc-item-num\">3&nbsp;&nbsp;</span>Crear un dataset base</a></span></li><li><span><a href=\"#Crear-un-dataset-target\" data-toc-modified-id=\"Crear-un-dataset-target-4\"><span class=\"toc-item-num\">4&nbsp;&nbsp;</span>Crear un dataset <em>target</em></a></span></li><li><span><a href=\"#Crear-el-seguimiento-del-data-drift\" data-toc-modified-id=\"Crear-el-seguimiento-del-data-drift-5\"><span class=\"toc-item-num\">5&nbsp;&nbsp;</span>Crear el seguimiento del data drift</a></span><ul class=\"toc-item\"><li><span><a href=\"#Crear-un-cluster-de-proceso\" data-toc-modified-id=\"Crear-un-cluster-de-proceso-5.1\"><span class=\"toc-item-num\">5.1&nbsp;&nbsp;</span>Crear un cluster de proceso</a></span></li><li><span><a href=\"#Definir-el-seguimiento-del-data-drift\" data-toc-modified-id=\"Definir-el-seguimiento-del-data-drift-5.2\"><span class=\"toc-item-num\">5.2&nbsp;&nbsp;</span>Definir el seguimiento del data drift</a></span></li></ul></li><li><span><a href=\"#Rellenar-el-seguimiento-del-data-drift\" data-toc-modified-id=\"Rellenar-el-seguimiento-del-data-drift-6\"><span class=\"toc-item-num\">6&nbsp;&nbsp;</span>Rellenar el seguimiento del data drift</a></span></li><li><span><a href=\"#Analizar-el-data-drift\" data-toc-modified-id=\"Analizar-el-data-drift-7\"><span class=\"toc-item-num\">7&nbsp;&nbsp;</span>Analizar el data drift</a></span></li><li><span><a href=\"#Más-información\" data-toc-modified-id=\"Más-información-8\"><span class=\"toc-item-num\">8&nbsp;&nbsp;</span>Más información</a></span></li></ul></div>"
   ]
  },
  {
   "cell_type": "markdown",
   "metadata": {},
   "source": [
    "# Monitoring Data Drift\n",
    "\n",
    "Cuando pasa el tiempo, el modelo puede perder su efectividad y su poder predictivo. La principal causa es el cambio de la tendencia de las variables, a esto se le llama *data drift* y es importante medirlo y hacer seguimiento del mismo para detectar si es necesario el reentrenamiento del modelo."
   ]
  },
  {
   "cell_type": "markdown",
   "metadata": {},
   "source": [
    "## Antes de empezar\n",
    "\n",
    "Instalamos el módulo de datadrift de azure ml"
   ]
  },
  {
   "cell_type": "code",
   "execution_count": 1,
   "metadata": {},
   "outputs": [
    {
     "name": "stdout",
     "output_type": "stream",
     "text": [
      "Name: azureml-datadrift\n",
      "Version: 1.32.0\n",
      "Summary: Azure Machine Learning datadrift\n",
      "Home-page: https://docs.microsoft.com/python/api/overview/azure/ml/?view=azure-ml-py\n",
      "Author: Microsoft Corp\n",
      "Author-email: None\n",
      "License: https://aka.ms/azureml-sdk-license\n",
      "Location: /anaconda/envs/azureml_py36/lib/python3.6/site-packages\n",
      "Requires: msrest, pyspark, jsonpickle, numpy, azureml-dataset-runtime, azureml-core, azureml-pipeline-core, scipy, scikit-learn, lightgbm, matplotlib, pandas, azureml-telemetry\n",
      "Required-by: \n"
     ]
    }
   ],
   "source": [
    "!pip show azureml-datadrift"
   ]
  },
  {
   "cell_type": "markdown",
   "metadata": {},
   "source": [
    "## Conectar área de trabajo"
   ]
  },
  {
   "cell_type": "code",
   "execution_count": 2,
   "metadata": {},
   "outputs": [
    {
     "name": "stdout",
     "output_type": "stream",
     "text": [
      "Versión de Azure ML 1.32.0 y área de trabajo aml-nuclio\n"
     ]
    }
   ],
   "source": [
    "import azureml.core\n",
    "from azureml.core import Workspace\n",
    "\n",
    "# Cargar el área de trabajo del fichero de configuración\n",
    "ws = Workspace.from_config()\n",
    "print('Versión de Azure ML {} y área de trabajo {}'.format(azureml.core.VERSION, ws.name))"
   ]
  },
  {
   "cell_type": "markdown",
   "metadata": {},
   "source": [
    "## Crear un dataset base\n",
    "\n",
    "Para monitorear el data drift se necesita tener un dataset base (normalmente es con el que se entrena el modelo) para usarlo como punto de comparación en el futuro."
   ]
  },
  {
   "cell_type": "code",
   "execution_count": 19,
   "metadata": {},
   "outputs": [
    {
     "name": "stdout",
     "output_type": "stream",
     "text": [
      "Uploading an estimated of 1 files\n",
      "Uploading ./data/winequality.csv\n",
      "Uploaded ./data/winequality.csv, 1 files out of an estimated total of 1\n",
      "Uploaded 1 files\n",
      "Registrando dataset base...\n",
      "Dataset base registrado!\n"
     ]
    }
   ],
   "source": [
    "from azureml.core import Datastore, Dataset\n",
    "\n",
    "\n",
    "# Subir dataset base\n",
    "default_ds = ws.get_default_datastore()\n",
    "default_ds.upload_files(files=['./data/winequality.csv'],\n",
    "                       target_path='vino-baseline',\n",
    "                       overwrite=True, \n",
    "                       show_progress=True)\n",
    "\n",
    "# Crear y registrar el dataset base\n",
    "print('Registrando dataset base...')\n",
    "baseline_data_set = Dataset.Tabular.from_delimited_files(path=(default_ds, 'vino-baseline/*.csv'), separator=';')\n",
    "baseline_data_set = baseline_data_set.register(workspace=ws, \n",
    "                           name='vino baseline',\n",
    "                           description='vino baseline',\n",
    "                           tags = {'format':'CSV'},\n",
    "                           create_new_version=True)\n",
    "\n",
    "print('Dataset base registrado!')"
   ]
  },
  {
   "cell_type": "markdown",
   "metadata": {},
   "source": [
    "## Crear un dataset *target*\n",
    "\n",
    "\n",
    "Con el tiempo, puedes recoger nuevos datos con las mismas variables de tus datos de entrenamiento. Para comparar estos nuevos datos con tus datos base, se debe de definir un dataset target que incluye las variables que tu quieres analizar para medir el data drift."
   ]
  },
  {
   "cell_type": "code",
   "execution_count": 6,
   "metadata": {},
   "outputs": [
    {
     "data": {
      "text/html": [
       "<div>\n",
       "<style scoped>\n",
       "    .dataframe tbody tr th:only-of-type {\n",
       "        vertical-align: middle;\n",
       "    }\n",
       "\n",
       "    .dataframe tbody tr th {\n",
       "        vertical-align: top;\n",
       "    }\n",
       "\n",
       "    .dataframe thead th {\n",
       "        text-align: right;\n",
       "    }\n",
       "</style>\n",
       "<table border=\"1\" class=\"dataframe\">\n",
       "  <thead>\n",
       "    <tr style=\"text-align: right;\">\n",
       "      <th></th>\n",
       "      <th>fixed_acidity</th>\n",
       "      <th>volatile_acidity</th>\n",
       "      <th>citric_acid</th>\n",
       "      <th>residual_sugar</th>\n",
       "      <th>chlorides</th>\n",
       "      <th>free_sulfur_dioxide</th>\n",
       "      <th>total_sulfur_dioxide</th>\n",
       "      <th>density</th>\n",
       "      <th>ph</th>\n",
       "      <th>sulphates</th>\n",
       "      <th>alcohol</th>\n",
       "      <th>top_quality</th>\n",
       "    </tr>\n",
       "  </thead>\n",
       "  <tbody>\n",
       "    <tr>\n",
       "      <th>0</th>\n",
       "      <td>7.0</td>\n",
       "      <td>0.27</td>\n",
       "      <td>0.36</td>\n",
       "      <td>20.7</td>\n",
       "      <td>0.045</td>\n",
       "      <td>45.0</td>\n",
       "      <td>170.0</td>\n",
       "      <td>1.0010</td>\n",
       "      <td>3.00</td>\n",
       "      <td>0.45</td>\n",
       "      <td>8.8</td>\n",
       "      <td>0</td>\n",
       "    </tr>\n",
       "    <tr>\n",
       "      <th>1</th>\n",
       "      <td>6.3</td>\n",
       "      <td>0.30</td>\n",
       "      <td>0.34</td>\n",
       "      <td>1.6</td>\n",
       "      <td>0.049</td>\n",
       "      <td>14.0</td>\n",
       "      <td>132.0</td>\n",
       "      <td>0.9940</td>\n",
       "      <td>3.30</td>\n",
       "      <td>0.49</td>\n",
       "      <td>9.5</td>\n",
       "      <td>0</td>\n",
       "    </tr>\n",
       "    <tr>\n",
       "      <th>2</th>\n",
       "      <td>8.1</td>\n",
       "      <td>0.28</td>\n",
       "      <td>0.40</td>\n",
       "      <td>6.9</td>\n",
       "      <td>0.050</td>\n",
       "      <td>30.0</td>\n",
       "      <td>97.0</td>\n",
       "      <td>0.9951</td>\n",
       "      <td>3.26</td>\n",
       "      <td>0.44</td>\n",
       "      <td>10.1</td>\n",
       "      <td>0</td>\n",
       "    </tr>\n",
       "    <tr>\n",
       "      <th>3</th>\n",
       "      <td>7.2</td>\n",
       "      <td>0.23</td>\n",
       "      <td>0.32</td>\n",
       "      <td>8.5</td>\n",
       "      <td>0.058</td>\n",
       "      <td>47.0</td>\n",
       "      <td>186.0</td>\n",
       "      <td>0.9956</td>\n",
       "      <td>3.19</td>\n",
       "      <td>0.40</td>\n",
       "      <td>9.9</td>\n",
       "      <td>0</td>\n",
       "    </tr>\n",
       "    <tr>\n",
       "      <th>4</th>\n",
       "      <td>7.2</td>\n",
       "      <td>0.23</td>\n",
       "      <td>0.32</td>\n",
       "      <td>8.5</td>\n",
       "      <td>0.058</td>\n",
       "      <td>47.0</td>\n",
       "      <td>186.0</td>\n",
       "      <td>0.9956</td>\n",
       "      <td>3.19</td>\n",
       "      <td>0.40</td>\n",
       "      <td>9.9</td>\n",
       "      <td>0</td>\n",
       "    </tr>\n",
       "  </tbody>\n",
       "</table>\n",
       "</div>"
      ],
      "text/plain": [
       "   fixed_acidity  volatile_acidity  citric_acid  residual_sugar  chlorides  \\\n",
       "0            7.0              0.27         0.36            20.7      0.045   \n",
       "1            6.3              0.30         0.34             1.6      0.049   \n",
       "2            8.1              0.28         0.40             6.9      0.050   \n",
       "3            7.2              0.23         0.32             8.5      0.058   \n",
       "4            7.2              0.23         0.32             8.5      0.058   \n",
       "\n",
       "   free_sulfur_dioxide  total_sulfur_dioxide  density    ph  sulphates  \\\n",
       "0                 45.0                 170.0   1.0010  3.00       0.45   \n",
       "1                 14.0                 132.0   0.9940  3.30       0.49   \n",
       "2                 30.0                  97.0   0.9951  3.26       0.44   \n",
       "3                 47.0                 186.0   0.9956  3.19       0.40   \n",
       "4                 47.0                 186.0   0.9956  3.19       0.40   \n",
       "\n",
       "  alcohol  top_quality  \n",
       "0     8.8            0  \n",
       "1     9.5            0  \n",
       "2    10.1            0  \n",
       "3     9.9            0  \n",
       "4     9.9            0  "
      ]
     },
     "execution_count": 6,
     "metadata": {},
     "output_type": "execute_result"
    }
   ],
   "source": [
    "import pandas as pd\n",
    "data = pd.read_csv('data/winequality.csv', sep=';', decimal='.')\n",
    "data.head()"
   ]
  },
  {
   "cell_type": "code",
   "execution_count": 11,
   "metadata": {},
   "outputs": [
    {
     "data": {
      "text/plain": [
       "['data/winequality_2021-08-02.csv',\n",
       " 'data/winequality_2021-08-09.csv',\n",
       " 'data/winequality_2021-08-16.csv',\n",
       " 'data/winequality_2021-08-23.csv',\n",
       " 'data/winequality_2021-08-30.csv',\n",
       " 'data/winequality_2021-09-06.csv']"
      ]
     },
     "execution_count": 11,
     "metadata": {},
     "output_type": "execute_result"
    }
   ],
   "source": [
    "file_paths"
   ]
  },
  {
   "cell_type": "code",
   "execution_count": 13,
   "metadata": {},
   "outputs": [
    {
     "name": "stdout",
     "output_type": "stream",
     "text": [
      "Generando dato simulado...\n",
      "Uploading an estimated of 6 files\n",
      "Uploading data/vino_2021-08-02.csv\n",
      "Uploaded data/vino_2021-08-02.csv, 1 files out of an estimated total of 6\n",
      "Uploading data/vino_2021-08-09.csv\n",
      "Uploaded data/vino_2021-08-09.csv, 2 files out of an estimated total of 6\n",
      "Uploading data/vino_2021-08-16.csv\n",
      "Uploaded data/vino_2021-08-16.csv, 3 files out of an estimated total of 6\n",
      "Uploading data/vino_2021-08-23.csv\n",
      "Uploaded data/vino_2021-08-23.csv, 4 files out of an estimated total of 6\n",
      "Uploading data/vino_2021-08-30.csv\n",
      "Uploaded data/vino_2021-08-30.csv, 5 files out of an estimated total of 6\n",
      "Uploading data/vino_2021-09-06.csv\n",
      "Uploaded data/vino_2021-09-06.csv, 6 files out of an estimated total of 6\n",
      "Uploaded 6 files\n",
      "Registrando dataset target...\n",
      "Dataset target registrado!\n"
     ]
    }
   ],
   "source": [
    "import datetime as dt\n",
    "import pandas as pd\n",
    "\n",
    "print('Generando dato simulado...')\n",
    "\n",
    "data = pd.read_csv('data/winequality.csv', sep=';', decimal='.')\n",
    "data[\"alcohol\"] = pd.to_numeric(data[\"alcohol\"], errors='coerce')\n",
    "data = data.dropna()\n",
    "\n",
    "# Generamos datos pasados 6 semanas\n",
    "weeknos = reversed(range(6))\n",
    "\n",
    "file_paths = []\n",
    "for weekno in weeknos:\n",
    "    \n",
    "    data_date = dt.date.today() - dt.timedelta(weeks=weekno)\n",
    "    \n",
    "    # Modificamos los datos para crear drift\n",
    "    data['volatile_acidity'] = data['volatile_acidity'] + 1\n",
    "    data['total_sulfur_dioxide'] = round(data['total_sulfur_dioxide'] * 1.2).astype(int)\n",
    "    data['chlorides'] = data['chlorides'] * 1.1\n",
    "    \n",
    "    # Guardamos los datos con la fecha de la semana\n",
    "    file_path = 'data/vino_{}.csv'.format(data_date.strftime(\"%Y-%m-%d\"))\n",
    "    data.to_csv(file_path)\n",
    "    file_paths.append(file_path)\n",
    "\n",
    "# Subimos los ficheros\n",
    "path_on_datastore = 'vino-target'\n",
    "default_ds.upload_files(files=file_paths,\n",
    "                       target_path=path_on_datastore,\n",
    "                       overwrite=True,\n",
    "                       show_progress=True)\n",
    "\n",
    "# Carpeta de las particiones\n",
    "partition_format = path_on_datastore + '/vino_{date:yyyy-MM-dd}.csv'\n",
    "target_data_set = Dataset.Tabular.from_delimited_files(path=(default_ds, path_on_datastore + '/*.csv'),\n",
    "                                                       partition_format=partition_format)\n",
    "\n",
    "# Register the target dataset\n",
    "print('Registrando dataset target...')\n",
    "target_data_set = target_data_set.with_timestamp_columns('date').register(workspace=ws,\n",
    "                                                                          name='vino target',\n",
    "                                                                          description='vino target data',\n",
    "                                                                          tags = {'format':'CSV'},\n",
    "                                                                          create_new_version=True)\n",
    "\n",
    "print('Dataset target registrado!')"
   ]
  },
  {
   "cell_type": "markdown",
   "metadata": {},
   "source": [
    "## Crear el seguimiento del data drift\n",
    "\n",
    "El seguimiento del data drift se ejecutará periodicamente o a demanda para comparar con el dataset base.\n",
    "\n",
    "### Crear un cluster de proceso"
   ]
  },
  {
   "cell_type": "code",
   "execution_count": 14,
   "metadata": {},
   "outputs": [
    {
     "name": "stdout",
     "output_type": "stream",
     "text": [
      "Cluster de proceso encontrado.\n"
     ]
    }
   ],
   "source": [
    "from azureml.core.compute import ComputeTarget, AmlCompute\n",
    "from azureml.core.compute_target import ComputeTargetException\n",
    "\n",
    "cluster_name = \"NuclioCluster\"\n",
    "\n",
    "try:\n",
    "    # Validar si existe\n",
    "    inference_cluster = ComputeTarget(workspace=ws, name=cluster_name)\n",
    "    print('Cluster de proceso encontrado.')\n",
    "except ComputeTargetException:\n",
    "    # Si no existe, se crea\n",
    "    try:\n",
    "        compute_config = AmlCompute.provisioning_configuration(vm_size='STANDARD_DS11_V2', max_nodes=2)\n",
    "        inference_cluster = ComputeTarget.create(ws, cluster_name, compute_config)\n",
    "        inference_cluster.wait_for_completion(show_output=True)\n",
    "    except Exception as ex:\n",
    "        print(ex)\n",
    "    "
   ]
  },
  {
   "cell_type": "markdown",
   "metadata": {},
   "source": [
    "### Definir el seguimiento del data drift\n",
    "\n",
    "Se usará la clase **DataDriftDetector*."
   ]
  },
  {
   "cell_type": "code",
   "execution_count": 15,
   "metadata": {},
   "outputs": [
    {
     "data": {
      "text/plain": [
       "{'_workspace': Workspace.create(name='aml-nuclio', subscription_id='87f9793d-5515-43eb-b182-0f27b97da8b3', resource_group='nuclio'), '_frequency': 'Week', '_schedule_start': None, '_schedule_id': None, '_interval': 1, '_state': 'Disabled', '_alert_config': None, '_type': 'DatasetBased', '_id': '5e490dca-1126-4e1d-89d6-9bd61c84a922', '_model_name': None, '_model_version': 0, '_services': None, '_compute_target_name': 'NuclioCluster', '_drift_threshold': 0.3, '_baseline_dataset_id': 'a2ee43e3-5a63-4faa-af04-444283eebbe0', '_target_dataset_id': '062b2350-4aba-493f-9392-c901f4044343', '_feature_list': ['volatile_acidity', 'total_sulfur_dioxide', 'chlorides'], '_latency': 24, '_name': 'nuclio-vino-drift', '_latest_run_time': None, '_client': <azureml.datadrift._restclient.datadrift_client.DataDriftClient object at 0x7f63d3c26908>, '_logger': <_TelemetryLoggerContextAdapter azureml.datadrift._logging._telemetry_logger.azureml.datadrift.datadriftdetector (DEBUG)>}"
      ]
     },
     "execution_count": 15,
     "metadata": {},
     "output_type": "execute_result"
    }
   ],
   "source": [
    "from azureml.datadrift import DataDriftDetector\n",
    "\n",
    "# Variables\n",
    "features = ['volatile_acidity', 'total_sulfur_dioxide', 'chlorides']\n",
    "\n",
    "# Detección data drift\n",
    "monitor = DataDriftDetector.create_from_datasets(ws, 'nuclio-vino-drift', baseline_data_set, target_data_set,\n",
    "                                                      compute_target=cluster_name, \n",
    "                                                      frequency='Week', \n",
    "                                                      feature_list=features, \n",
    "                                                      drift_threshold=.3, \n",
    "                                                      latency=24)\n",
    "monitor"
   ]
  },
  {
   "cell_type": "markdown",
   "metadata": {},
   "source": [
    "## Rellenar el seguimiento del data drift\n",
    "\n",
    "Se tiene un dataset base y un dataset target que incluye las simulaciones de 6 semanas de datos recogidas."
   ]
  },
  {
   "cell_type": "code",
   "execution_count": null,
   "metadata": {},
   "outputs": [
    {
     "data": {
      "application/vnd.jupyter.widget-view+json": {
       "model_id": "04c6748c49124a478836fdd13ca4b638",
       "version_major": 2,
       "version_minor": 0
      },
      "text/plain": [
       "_UserRunWidget(widget_settings={'childWidgetDisplay': 'popup', 'send_telemetry': False, 'log_level': 'INFO', '…"
      ]
     },
     "metadata": {},
     "output_type": "display_data"
    },
    {
     "data": {
      "application/aml.mini.widget.v1": "{\"loading\": true}"
     },
     "metadata": {},
     "output_type": "display_data"
    }
   ],
   "source": [
    "from azureml.widgets import RunDetails\n",
    "\n",
    "backfill = monitor.backfill(dt.datetime.now() - dt.timedelta(weeks=6), dt.datetime.now())\n",
    "\n",
    "RunDetails(backfill).show()\n",
    "backfill.wait_for_completion()"
   ]
  },
  {
   "cell_type": "markdown",
   "metadata": {},
   "source": [
    "## Analizar el data drift"
   ]
  },
  {
   "cell_type": "code",
   "execution_count": null,
   "metadata": {},
   "outputs": [],
   "source": [
    "drift_metrics = backfill.get_metrics()\n",
    "for metric in drift_metrics:\n",
    "    print(metric, drift_metrics[metric])"
   ]
  },
  {
   "cell_type": "markdown",
   "metadata": {},
   "source": [
    "## Más información\n",
    "\n",
    "[Detección de datadrift](https://docs.microsoft.com/azure/machine-learning/how-to-monitor-datasets)\n",
    "\n",
    "[Recopilación de datos de modelos en producción](https://docs.microsoft.com/azure/machine-learning/how-to-enable-data-collection) "
   ]
  }
 ],
 "metadata": {
  "kernelspec": {
   "display_name": "Python 3.6 - AzureML",
   "language": "python",
   "name": "python3-azureml"
  },
  "language_info": {
   "codemirror_mode": {
    "name": "ipython",
    "version": 3
   },
   "file_extension": ".py",
   "mimetype": "text/x-python",
   "name": "python",
   "nbconvert_exporter": "python",
   "pygments_lexer": "ipython3",
   "version": "3.6.9"
  },
  "nbTranslate": {
   "displayLangs": [
    "*"
   ],
   "hotkey": "alt-t",
   "langInMainMenu": true,
   "sourceLang": "en",
   "targetLang": "fr",
   "useGoogleTranslate": true
  },
  "toc": {
   "base_numbering": 1,
   "nav_menu": {},
   "number_sections": true,
   "sideBar": true,
   "skip_h1_title": true,
   "title_cell": "Table of Contents",
   "title_sidebar": "Contents",
   "toc_cell": true,
   "toc_position": {},
   "toc_section_display": true,
   "toc_window_display": false
  }
 },
 "nbformat": 4,
 "nbformat_minor": 4
}
