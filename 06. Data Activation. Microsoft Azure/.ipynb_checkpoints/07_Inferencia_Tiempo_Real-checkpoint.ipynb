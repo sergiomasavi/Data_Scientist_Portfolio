{
 "cells": [
  {
   "cell_type": "markdown",
   "metadata": {},
   "source": [
    "<img src=\"Tarjeta.png\">"
   ]
  },
  {
   "cell_type": "markdown",
   "metadata": {
    "toc": true
   },
   "source": [
    "<h1>Table of Contents<span class=\"tocSkip\"></span></h1>\n",
    "<div class=\"toc\"><ul class=\"toc-item\"><li><span><a href=\"#Conectar-área-de-trabajo\" data-toc-modified-id=\"Conectar-área-de-trabajo-1\"><span class=\"toc-item-num\">1&nbsp;&nbsp;</span>Conectar área de trabajo</a></span></li><li><span><a href=\"#Entrenar-y-registrar-modelo\" data-toc-modified-id=\"Entrenar-y-registrar-modelo-2\"><span class=\"toc-item-num\">2&nbsp;&nbsp;</span>Entrenar y registrar modelo</a></span></li><li><span><a href=\"#Crear-el-modelo-como-un-servicio-web\" data-toc-modified-id=\"Crear-el-modelo-como-un-servicio-web-3\"><span class=\"toc-item-num\">3&nbsp;&nbsp;</span>Crear el modelo como un servicio web</a></span></li><li><span><a href=\"#Usar-el-servicio-web\" data-toc-modified-id=\"Usar-el-servicio-web-4\"><span class=\"toc-item-num\">4&nbsp;&nbsp;</span>Usar el servicio web</a></span></li><li><span><a href=\"#Eliminar-servicio\" data-toc-modified-id=\"Eliminar-servicio-5\"><span class=\"toc-item-num\">5&nbsp;&nbsp;</span>Eliminar servicio</a></span></li></ul></div>"
   ]
  },
  {
   "cell_type": "markdown",
   "metadata": {},
   "source": [
    "# Servicio de inferencia en tiempo real\n",
    "\n",
    "Después de entrenar un modelo predictivo, se puede crear un servicio en tiempo real para conseguir las predicciones de nuevos datos."
   ]
  },
  {
   "cell_type": "markdown",
   "metadata": {},
   "source": [
    "## Conectar área de trabajo"
   ]
  },
  {
   "cell_type": "code",
   "execution_count": 1,
   "metadata": {},
   "outputs": [
    {
     "name": "stdout",
     "output_type": "stream",
     "text": [
      "Versión de Azure ML 1.32.0 y área de trabajo aml-nuclio\n"
     ]
    }
   ],
   "source": [
    "import azureml.core\n",
    "from azureml.core import Workspace\n",
    "\n",
    "# Cargar el área de trabajo del fichero de configuración\n",
    "ws = Workspace.from_config()\n",
    "print('Versión de Azure ML {} y área de trabajo {}'.format(azureml.core.VERSION, ws.name))"
   ]
  },
  {
   "cell_type": "markdown",
   "metadata": {},
   "source": [
    "## Entrenar y registrar modelo"
   ]
  },
  {
   "cell_type": "code",
   "execution_count": 2,
   "metadata": {},
   "outputs": [
    {
     "name": "stdout",
     "output_type": "stream",
     "text": [
      "Empezando experimento: nuclio-train-vino\n",
      "Entrenando un decision tree model\n",
      "Accuracy: 0.8156462585034013\n",
      "AUC: 0.736059987684355\n",
      "Guardando el modelo...\n",
      "Registrando el modelo...\n",
      "Registering model vino_model\n",
      "Modelo entrenado y registrado\n"
     ]
    }
   ],
   "source": [
    "from azureml.core import Experiment\n",
    "from azureml.core import Model\n",
    "import pandas as pd\n",
    "import numpy as np\n",
    "import joblib\n",
    "from sklearn.model_selection import train_test_split\n",
    "from sklearn.tree import DecisionTreeClassifier\n",
    "from sklearn.metrics import roc_auc_score\n",
    "from sklearn.metrics import roc_curve\n",
    "\n",
    "# Crear el experimento\n",
    "experiment = Experiment(workspace=ws, name='nuclio-train-vino')\n",
    "run = experiment.start_logging()\n",
    "print(\"Empezando experimento:\", experiment.name)\n",
    "\n",
    "# Cargar los datos de un fichero local\n",
    "data = pd.read_csv('data/winequality.csv', sep=';', decimal='.')\n",
    "\n",
    "# Separar features and target\n",
    "features = ['fixed_acidity', 'volatile_acidity', 'citric_acid', 'residual_sugar', 'chlorides', 'free_sulfur_dioxide', 'total_sulfur_dioxide', 'density', 'ph', 'sulphates']\n",
    "X, y = data[features].values, data['top_quality'].values\n",
    "\n",
    "# Split data into training set and test set\n",
    "X_train, X_test, y_train, y_test = train_test_split(X, y, test_size=0.30, random_state=0)\n",
    "\n",
    "# Entrenamiento de un arbol de decision\n",
    "print('Entrenando un decision tree model')\n",
    "model = DecisionTreeClassifier().fit(X_train, y_train)\n",
    "\n",
    "# calculate accuracy\n",
    "y_hat = model.predict(X_test)\n",
    "acc = np.average(y_hat == y_test)\n",
    "print('Accuracy:', acc)\n",
    "run.log('Accuracy', np.float(acc))\n",
    "\n",
    "# Calcular AUC\n",
    "y_scores = model.predict_proba(X_test)\n",
    "auc = roc_auc_score(y_test,y_scores[:,1])\n",
    "print('AUC: ' + str(auc))\n",
    "run.log('AUC', np.float(auc))\n",
    "\n",
    "# Guardar el modelo entrenado en la carpeta outputs\n",
    "print(\"Guardando el modelo...\")\n",
    "os.makedirs('outputs', exist_ok=True)\n",
    "model_file = os.path.join('outputs', 'vino_model.pkl')\n",
    "joblib.dump(value=model, filename=model_file)\n",
    "\n",
    "# Completar ejecución\n",
    "run.complete()\n",
    "\n",
    "# Registrar el modelo\n",
    "print('Registrando el modelo...')\n",
    "Model.register(workspace=run.experiment.workspace,\n",
    "               model_path = model_file,\n",
    "               model_name = 'vino_model',\n",
    "               tags={'Training context':'Inline Training'},\n",
    "               properties={'AUC': np.float(auc), 'Accuracy': np.float(acc)})\n",
    "\n",
    "print('Modelo entrenado y registrado')"
   ]
  },
  {
   "cell_type": "markdown",
   "metadata": {},
   "source": [
    "## Crear el modelo como un servicio web"
   ]
  },
  {
   "cell_type": "code",
   "execution_count": 3,
   "metadata": {},
   "outputs": [
    {
     "name": "stdout",
     "output_type": "stream",
     "text": [
      "vino_model version: 10\n",
      "\t Training context : Inline Training\n",
      "\t AUC : 0.736059987684355\n",
      "\t Accuracy : 0.8156462585034013\n",
      "\n",
      "\n",
      "vino_model version: 9\n",
      "\t Training context : Inline Training\n",
      "\t AUC : 0.7379197605352611\n",
      "\t Accuracy : 0.8204081632653061\n",
      "\n",
      "\n",
      "vino_model version: 8\n",
      "\t Training context : Inline Training\n",
      "\t AUC : 0.7357589999475342\n",
      "\t Accuracy : 0.8170068027210884\n",
      "\n",
      "\n",
      "vino_model version: 7\n",
      "\t Training context : Inline Training\n",
      "\t AUC : 0.7299711990633483\n",
      "\t Accuracy : 0.8115646258503402\n",
      "\n",
      "\n",
      "vino_model version: 6\n",
      "\t Training context : Inline Training\n",
      "\t AUC : 0.7318309719142545\n",
      "\t Accuracy : 0.8163265306122449\n",
      "\n",
      "\n",
      "vino_model version: 5\n",
      "\t Training context : Pipeline\n",
      "\t AUC : 0.7675103656028722\n",
      "\t Accuracy : 0.8273972602739726\n",
      "\n",
      "\n",
      "vino_model version: 4\n",
      "\t Training context : Compute cluster\n",
      "\t AUC : 0.7571058569824701\n",
      "\t Accuracy : 0.8273972602739726\n",
      "\n",
      "\n",
      "diabetes_model version: 3\n",
      "\t Training context : Compute cluster\n",
      "\t AUC : 0.7571058569824701\n",
      "\t Accuracy : 0.8273972602739726\n",
      "\n",
      "\n",
      "vino_model version: 3\n",
      "\t Training context : Tabular dataset\n",
      "\t AUC : 0.7700142283878569\n",
      "\t Accuracy : 0.8068493150684931\n",
      "\n",
      "\n",
      "vino_model version: 2\n",
      "\t Training context : Parameterized script\n",
      "\t AUC : 0.7698252576116318\n",
      "\t Accuracy : 0.8068493150684931\n",
      "\n",
      "\n",
      "vino_model version: 1\n",
      "\t Training context : Script\n",
      "\t AUC : 0.7697446671335356\n",
      "\t Accuracy : 0.8047945205479452\n",
      "\n",
      "\n",
      "diabetes_model version: 2\n",
      "\t Training context : Parameterized script\n",
      "\t AUC : 0.8483198169063138\n",
      "\t Accuracy : 0.774\n",
      "\n",
      "\n",
      "diabetes_model version: 1\n",
      "\t Training context : Script\n",
      "\t AUC : 0.8484929598487486\n",
      "\t Accuracy : 0.774\n",
      "\n",
      "\n",
      "AutoML2c70a24fc0 version: 1\n",
      "\n",
      "\n"
     ]
    }
   ],
   "source": [
    "from azureml.core import Model\n",
    "\n",
    "for model in Model.list(ws):\n",
    "    print(model.name, 'version:', model.version)\n",
    "    for tag_name in model.tags:\n",
    "        tag = model.tags[tag_name]\n",
    "        print ('\\t',tag_name, ':', tag)\n",
    "    for prop_name in model.properties:\n",
    "        prop = model.properties[prop_name]\n",
    "        print ('\\t',prop_name, ':', prop)\n",
    "    print('\\n')"
   ]
  },
  {
   "cell_type": "code",
   "execution_count": 4,
   "metadata": {},
   "outputs": [
    {
     "name": "stdout",
     "output_type": "stream",
     "text": [
      "vino_model version 10\n"
     ]
    }
   ],
   "source": [
    "model = ws.models['vino_model']\n",
    "print(model.name, 'version', model.version)"
   ]
  },
  {
   "cell_type": "code",
   "execution_count": 5,
   "metadata": {},
   "outputs": [
    {
     "name": "stdout",
     "output_type": "stream",
     "text": [
      "./vino_service carpeta creada.\n"
     ]
    }
   ],
   "source": [
    "import os\n",
    "\n",
    "# Crear una carpeta para los ficheros\n",
    "deployment_folder = './vino_service'\n",
    "os.makedirs(deployment_folder, exist_ok=True)\n",
    "print(deployment_folder, 'carpeta creada.')\n",
    "\n",
    "script_file = 'score_vino.py'\n",
    "script_path = os.path.join(deployment_folder,script_file)"
   ]
  },
  {
   "cell_type": "markdown",
   "metadata": {},
   "source": [
    "El servicio web donde se despliega el modelo necesitará código de python para cargar los datos de entrada, conseguir el modelo del área de trabajo y devolver las predicciones.\n",
    "\n",
    "El script consiste en dos funciones:\n",
    "- **init**: Esta función se llama cuando el servicio se inicia y generalmente se usa para cargar el modelo.\n",
    "- **run**: Esta función se llama cada vez que la aplicación cliente pide nuevos dato y hace las predicciones con el modelo."
   ]
  },
  {
   "cell_type": "code",
   "execution_count": 19,
   "metadata": {},
   "outputs": [
    {
     "name": "stdout",
     "output_type": "stream",
     "text": [
      "Overwriting ./vino_service/score_vino.py\n"
     ]
    }
   ],
   "source": [
    "%%writefile $script_path\n",
    "import json\n",
    "import joblib\n",
    "import numpy as np\n",
    "import os\n",
    "\n",
    "def init():\n",
    "    global model\n",
    "    model_path = os.path.join(os.getenv('AZUREML_MODEL_DIR'), 'vino_model.pkl')\n",
    "    model = joblib.load(model_path)\n",
    "\n",
    "def run(raw_data):\n",
    "    data = np.array(json.loads(raw_data)['data'])\n",
    "    predictions = model.predict(data)\n",
    "    classnames = ['no-vino', 'vino']\n",
    "    predicted_classes = []\n",
    "    for prediction in predictions:\n",
    "        predicted_classes.append(classnames[prediction])\n",
    "    return json.dumps(predicted_classes)"
   ]
  },
  {
   "cell_type": "code",
   "execution_count": 20,
   "metadata": {},
   "outputs": [
    {
     "name": "stdout",
     "output_type": "stream",
     "text": [
      "Desplegando modelo...\n",
      "Tips: You can try get_logs(): https://aka.ms/debugimage#dockerlog or local deployment: https://aka.ms/debugimage#debug-locally to debug if deployment takes longer than 10 minutes.\n",
      "Running\n",
      "2021-09-02 14:44:39+00:00 Creating Container Registry if not exists.\n",
      "2021-09-02 14:44:39+00:00 Registering the environment.\n",
      "2021-09-02 14:44:40+00:00 Use the existing image.\n",
      "2021-09-02 14:44:40+00:00 Generating deployment configuration.\n",
      "2021-09-02 14:44:41+00:00 Submitting deployment to compute.\n",
      "2021-09-02 14:44:46+00:00 Checking the status of deployment modelo-service..\n",
      "2021-09-02 14:48:02+00:00 Checking the status of inference endpoint modelo-service.\n",
      "Succeeded\n",
      "ACI service creation operation finished, operation \"Succeeded\"\n",
      "Healthy\n"
     ]
    }
   ],
   "source": [
    "from azureml.core import Environment\n",
    "from azureml.core.model import InferenceConfig\n",
    "from azureml.core.webservice import AciWebservice\n",
    "\n",
    "# Configuración entorno\n",
    "service_env = Environment(name='service-env')\n",
    "python_packages = ['scikit-learn', 'azureml-defaults', 'azure-ml-api-sdk']\n",
    "for package in python_packages:\n",
    "    service_env.python.conda_dependencies.add_pip_package(package)\n",
    "inference_config = InferenceConfig(source_directory=deployment_folder,\n",
    "                                   entry_script=script_file,\n",
    "                                   environment=service_env)\n",
    "\n",
    "# Configuración del contender del servicio web\n",
    "deployment_config = AciWebservice.deploy_configuration(cpu_cores=1, memory_gb=1)\n",
    "\n",
    "# Desplegar el modelo como servicio\n",
    "print('Desplegando modelo...')\n",
    "service_name = \"modelo-service\"\n",
    "service = Model.deploy(ws, service_name, [model], inference_config, deployment_config, overwrite=True)\n",
    "service.wait_for_deployment(True)\n",
    "print(service.state)"
   ]
  },
  {
   "cell_type": "code",
   "execution_count": 21,
   "metadata": {
    "scrolled": true
   },
   "outputs": [
    {
     "name": "stdout",
     "output_type": "stream",
     "text": [
      "2021-09-02T14:47:53,465519400+00:00 - gunicorn/run \n",
      "File not found: /var/azureml-app/.\n",
      "Starting HTTP server\n",
      "2021-09-02T14:47:53,483096600+00:00 - iot-server/run \n",
      "2021-09-02T14:47:53,531824000+00:00 - rsyslog/run \n",
      "2021-09-02T14:47:53,554726600+00:00 - nginx/run \n",
      "EdgeHubConnectionString and IOTEDGE_IOTHUBHOSTNAME are not set. Exiting...\n",
      "2021-09-02T14:47:53,875021000+00:00 - iot-server/finish 1 0\n",
      "2021-09-02T14:47:53,880479700+00:00 - Exit code 1 is normal. Not restarting iot-server.\n",
      "Starting gunicorn 20.1.0\n",
      "Listening at: http://127.0.0.1:31311 (63)\n",
      "Using worker: sync\n",
      "worker timeout is set to 300\n",
      "Booting worker with pid: 94\n",
      "SPARK_HOME not set. Skipping PySpark Initialization.\n",
      "Initializing logger\n",
      "2021-09-02 14:47:55,181 | root | INFO | Starting up app insights client\n",
      "logging socket was found. logging is available.\n",
      "logging socket was found. logging is available.\n",
      "2021-09-02 14:47:55,182 | root | INFO | Starting up request id generator\n",
      "2021-09-02 14:47:55,182 | root | INFO | Starting up app insight hooks\n",
      "2021-09-02 14:47:55,183 | root | INFO | Invoking user's init function\n",
      "no request id,/azureml-envs/azureml_b111972b96fe2f23e1032e165eb7c9c3/lib/python3.6/site-packages/sklearn/base.py:315: UserWarning: Trying to unpickle estimator DecisionTreeClassifier from version 0.22.2.post1 when using version 0.24.2. This might lead to breaking code or invalid results. Use at your own risk.\n",
      "  UserWarning)\n",
      "\n",
      "/azureml-envs/azureml_b111972b96fe2f23e1032e165eb7c9c3/lib/python3.6/site-packages/sklearn/base.py:315: UserWarning: Trying to unpickle estimator DecisionTreeClassifier from version 0.22.2.post1 when using version 0.24.2. This might lead to breaking code or invalid results. Use at your own risk.\n",
      "  UserWarning)\n",
      "2021-09-02 14:47:56,017 | root | INFO | Users's init has completed successfully\n",
      "2021-09-02 14:47:56,020 | root | INFO | Skipping middleware: dbg_model_info as it's not enabled.\n",
      "2021-09-02 14:47:56,020 | root | INFO | Skipping middleware: dbg_resource_usage as it's not enabled.\n",
      "2021-09-02 14:47:56,021 | root | INFO | Scoring timeout is found from os.environ: 60000 ms\n",
      "2021-09-02 14:48:02,547 | root | INFO | Swagger file not present\n",
      "2021-09-02 14:48:02,547 | root | INFO | 404\n",
      "127.0.0.1 - - [02/Sep/2021:14:48:02 +0000] \"GET /swagger.json HTTP/1.0\" 404 19 \"-\" \"Go-http-client/1.1\"\n",
      "2021-09-02 14:48:05,721 | root | INFO | Swagger file not present\n",
      "2021-09-02 14:48:05,722 | root | INFO | 404\n",
      "127.0.0.1 - - [02/Sep/2021:14:48:05 +0000] \"GET /swagger.json HTTP/1.0\" 404 19 \"-\" \"Go-http-client/1.1\"\n",
      "\n"
     ]
    }
   ],
   "source": [
    "print(service.get_logs())\n",
    "\n",
    "# Si necesitas cambiar el despliegue porque sale unhealthy, debes eliminar el servicio\n",
    "#service.delete()"
   ]
  },
  {
   "cell_type": "code",
   "execution_count": 22,
   "metadata": {},
   "outputs": [
    {
     "name": "stdout",
     "output_type": "stream",
     "text": [
      "modelo-service\n"
     ]
    }
   ],
   "source": [
    "for webservice_name in ws.webservices:\n",
    "    print(webservice_name)"
   ]
  },
  {
   "cell_type": "markdown",
   "metadata": {},
   "source": [
    "## Usar el servicio web"
   ]
  },
  {
   "cell_type": "code",
   "execution_count": 23,
   "metadata": {},
   "outputs": [
    {
     "name": "stdout",
     "output_type": "stream",
     "text": [
      "Vino: [8, 0.44, 0.49, 9.1, 0.031, 46, 151, 0.9926, 3.16, 0.27]\n",
      "vino\n"
     ]
    }
   ],
   "source": [
    "import json\n",
    "\n",
    "x_new = [[8,0.44,0.49,9.1,0.031,46,151,0.9926,3.16,0.27]]\n",
    "print ('Vino: {}'.format(x_new[0]))\n",
    "\n",
    "input_json = json.dumps({\"data\": x_new})\n",
    "\n",
    "predictions = service.run(input_data = input_json)\n",
    "\n",
    "predicted_classes = json.loads(predictions)\n",
    "print(predicted_classes[0])"
   ]
  },
  {
   "cell_type": "code",
   "execution_count": 24,
   "metadata": {},
   "outputs": [
    {
     "name": "stdout",
     "output_type": "stream",
     "text": [
      "Vino [8, 0.44, 0.49, 9.1, 0.031, 46, 151, 0.9926, 3.16, 0.27] vino\n",
      "Vino [6.6, 0.25, 0.24, 1.7, 0.048, 26, 124, 0.9942, 3.37, 0.6] no-vino\n"
     ]
    }
   ],
   "source": [
    "import json\n",
    "\n",
    "x_new = [[8,0.44,0.49,9.1,0.031,46,151,0.9926,3.16,0.27],\n",
    "         [6.6,0.25,0.24,1.7,0.048,26,124,0.9942,3.37,0.6]]\n",
    "\n",
    "input_json = json.dumps({\"data\": x_new})\n",
    "\n",
    "predictions = service.run(input_data = input_json)\n",
    "\n",
    "predicted_classes = json.loads(predictions)\n",
    "   \n",
    "for i in range(len(x_new)):\n",
    "    print (\"Vino {}\".format(x_new[i]), predicted_classes[i] )"
   ]
  },
  {
   "cell_type": "code",
   "execution_count": 25,
   "metadata": {},
   "outputs": [
    {
     "name": "stdout",
     "output_type": "stream",
     "text": [
      "http://1b8c0b6d-a661-45c9-90e6-187458701fc1.francecentral.azurecontainer.io/score\n"
     ]
    }
   ],
   "source": [
    "endpoint = service.scoring_uri\n",
    "print(endpoint)"
   ]
  },
  {
   "cell_type": "code",
   "execution_count": 26,
   "metadata": {
    "scrolled": true
   },
   "outputs": [
    {
     "name": "stdout",
     "output_type": "stream",
     "text": [
      "Vino [8, 0.44, 0.49, 9.1, 0.031, 46, 151, 0.9926, 3.16, 0.27] vino\n",
      "Vino [6.6, 0.25, 0.24, 1.7, 0.048, 26, 124, 0.9942, 3.37, 0.6] no-vino\n"
     ]
    }
   ],
   "source": [
    "import requests\n",
    "import json\n",
    "\n",
    "x_new = [[8,0.44,0.49,9.1,0.031,46,151,0.9926,3.16,0.27],\n",
    "         [6.6,0.25,0.24,1.7,0.048,26,124,0.9942,3.37,0.6]]\n",
    "\n",
    "input_json = json.dumps({\"data\": x_new})\n",
    "\n",
    "headers = { 'Content-Type':'application/json' }\n",
    "\n",
    "predictions = requests.post(endpoint, input_json, headers = headers)\n",
    "predicted_classes = json.loads(predictions.json())\n",
    "\n",
    "for i in range(len(x_new)):\n",
    "    print (\"Vino {}\".format(x_new[i]), predicted_classes[i] )"
   ]
  },
  {
   "cell_type": "markdown",
   "metadata": {},
   "source": [
    "## Eliminar servicio"
   ]
  },
  {
   "cell_type": "code",
   "execution_count": 27,
   "metadata": {},
   "outputs": [
    {
     "name": "stdout",
     "output_type": "stream",
     "text": [
      "Servicio eliminado.\n"
     ]
    }
   ],
   "source": [
    "service.delete()\n",
    "print ('Servicio eliminado.')"
   ]
  },
  {
   "cell_type": "markdown",
   "metadata": {},
   "source": [
    "[Documentación](https://docs.microsoft.com/azure/machine-learning/how-to-deploy-and-where)"
   ]
  }
 ],
 "metadata": {
  "kernelspec": {
   "display_name": "Python 3.6 - AzureML",
   "language": "python",
   "name": "python3-azureml"
  },
  "language_info": {
   "codemirror_mode": {
    "name": "ipython",
    "version": 3
   },
   "file_extension": ".py",
   "mimetype": "text/x-python",
   "name": "python",
   "nbconvert_exporter": "python",
   "pygments_lexer": "ipython3",
   "version": "3.6.9"
  },
  "nbTranslate": {
   "displayLangs": [
    "*"
   ],
   "hotkey": "alt-t",
   "langInMainMenu": true,
   "sourceLang": "en",
   "targetLang": "fr",
   "useGoogleTranslate": true
  },
  "toc": {
   "base_numbering": 1,
   "nav_menu": {},
   "number_sections": true,
   "sideBar": true,
   "skip_h1_title": true,
   "title_cell": "Table of Contents",
   "title_sidebar": "Contents",
   "toc_cell": true,
   "toc_position": {},
   "toc_section_display": true,
   "toc_window_display": false
  }
 },
 "nbformat": 4,
 "nbformat_minor": 4
}
